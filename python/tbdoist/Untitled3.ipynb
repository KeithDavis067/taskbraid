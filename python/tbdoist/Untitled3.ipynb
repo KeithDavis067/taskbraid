{
 "cells": [
  {
   "cell_type": "code",
   "execution_count": 31,
   "id": "e8378a29-0c50-4233-b0c1-a2ce3c8aa87a",
   "metadata": {},
   "outputs": [],
   "source": [
    "from rich import print"
   ]
  },
  {
   "cell_type": "code",
   "execution_count": 9,
   "id": "ea905703-2fec-4150-9601-f2b4be24af7c",
   "metadata": {},
   "outputs": [],
   "source": [
    "name_to_mass[\"higgs\"] = 100"
   ]
  },
  {
   "cell_type": "code",
   "execution_count": 10,
   "id": "cc330532-013f-4fdd-b99a-98d1e95bcdf7",
   "metadata": {},
   "outputs": [],
   "source": [
    "name_to_mass[\"photon\"] = 0"
   ]
  },
  {
   "cell_type": "code",
   "execution_count": 11,
   "id": "3baf193a-a1b5-498d-aa3d-f5184b9724dd",
   "metadata": {},
   "outputs": [
    {
     "name": "stdout",
     "output_type": "stream",
     "text": [
      "{'higgs': 100, 'photon': 0}\n"
     ]
    }
   ],
   "source": [
    "print(name_to_mass)"
   ]
  },
  {
   "cell_type": "code",
   "execution_count": 12,
   "id": "0ed08331-387d-478d-8197-d6568bb92c28",
   "metadata": {},
   "outputs": [
    {
     "data": {
      "text/plain": [
       "100"
      ]
     },
     "execution_count": 12,
     "metadata": {},
     "output_type": "execute_result"
    }
   ],
   "source": [
    "name_to_mass[\"higgs\"]"
   ]
  },
  {
   "cell_type": "code",
   "execution_count": 13,
   "id": "14b4dcce-0a93-4b88-8550-7d4150edbff5",
   "metadata": {},
   "outputs": [
    {
     "data": {
      "text/plain": [
       "2000"
      ]
     },
     "execution_count": 13,
     "metadata": {},
     "output_type": "execute_result"
    }
   ],
   "source": [
    "name_to_mass[\"higgs\"] * 20"
   ]
  },
  {
   "cell_type": "code",
   "execution_count": 14,
   "id": "83d4b7a0-0059-4578-9b58-7937bc56a074",
   "metadata": {},
   "outputs": [],
   "source": [
    "name_to_mass[\"higgs\"] = (100, \"bob\")"
   ]
  },
  {
   "cell_type": "code",
   "execution_count": 15,
   "id": "6670f70b-d16e-4bf1-be56-1816aaca0c33",
   "metadata": {},
   "outputs": [
    {
     "data": {
      "text/plain": [
       "(100, 'bob')"
      ]
     },
     "execution_count": 15,
     "metadata": {},
     "output_type": "execute_result"
    }
   ],
   "source": [
    "name_to_mass[\"higgs\"]"
   ]
  },
  {
   "cell_type": "code",
   "execution_count": 16,
   "id": "151030c5-accc-428d-8f99-b137f3f167b7",
   "metadata": {},
   "outputs": [
    {
     "ename": "NameError",
     "evalue": "name 'particles' is not defined",
     "output_type": "error",
     "traceback": [
      "\u001b[0;31m---------------------------------------------------------------------------\u001b[0m",
      "\u001b[0;31mNameError\u001b[0m                                 Traceback (most recent call last)",
      "Cell \u001b[0;32mIn[16], line 1\u001b[0m\n\u001b[0;32m----> 1\u001b[0m \u001b[43mparticles\u001b[49m[\u001b[38;5;124m\"\u001b[39m\u001b[38;5;124mhiggs\u001b[39m\u001b[38;5;124m\"\u001b[39m][\u001b[38;5;124m\"\u001b[39m\u001b[38;5;124mmass\u001b[39m\u001b[38;5;124m\"\u001b[39m]\n",
      "\u001b[0;31mNameError\u001b[0m: name 'particles' is not defined"
     ]
    }
   ],
   "source": [
    "particles[\"higgs\"][\"mass\"]"
   ]
  },
  {
   "cell_type": "code",
   "execution_count": 17,
   "id": "976bb080-dd07-41f3-a879-beb45dd8fc5c",
   "metadata": {},
   "outputs": [],
   "source": [
    "test = {}"
   ]
  },
  {
   "cell_type": "code",
   "execution_count": 18,
   "id": "aafbd905-f7fd-4f6a-957a-b0da7d82c39c",
   "metadata": {},
   "outputs": [],
   "source": [
    "for i in range(10):\n",
    "    test[i] = 2 * i"
   ]
  },
  {
   "cell_type": "code",
   "execution_count": 19,
   "id": "e4df35e0-d28c-424e-8f3a-7c5a9139ed12",
   "metadata": {},
   "outputs": [
    {
     "data": {
      "text/plain": [
       "{0: 0, 1: 2, 2: 4, 3: 6, 4: 8, 5: 10, 6: 12, 7: 14, 8: 16, 9: 18}"
      ]
     },
     "execution_count": 19,
     "metadata": {},
     "output_type": "execute_result"
    }
   ],
   "source": [
    "test"
   ]
  },
  {
   "cell_type": "code",
   "execution_count": 20,
   "id": "c92366c0-3919-4e49-ae2b-ca34fd04cb07",
   "metadata": {},
   "outputs": [
    {
     "name": "stdout",
     "output_type": "stream",
     "text": [
      "0\n",
      "1\n",
      "2\n",
      "3\n",
      "4\n",
      "5\n",
      "6\n",
      "7\n",
      "8\n",
      "9\n"
     ]
    }
   ],
   "source": [
    "for key in test:\n",
    "    print(key)"
   ]
  },
  {
   "cell_type": "code",
   "execution_count": 21,
   "id": "bc41bb81-87b7-455f-9ad5-54461dd05a82",
   "metadata": {},
   "outputs": [
    {
     "name": "stdout",
     "output_type": "stream",
     "text": [
      "0\n",
      "2\n",
      "4\n",
      "6\n",
      "8\n",
      "10\n",
      "12\n",
      "14\n",
      "16\n",
      "18\n"
     ]
    }
   ],
   "source": [
    "for key in test:\n",
    "    print(test[key])"
   ]
  },
  {
   "cell_type": "code",
   "execution_count": 22,
   "id": "aa188e71-2ca2-4a62-b717-066a291d68d0",
   "metadata": {},
   "outputs": [
    {
     "name": "stdout",
     "output_type": "stream",
     "text": [
      "(0, 0)\n",
      "(1, 2)\n",
      "(2, 4)\n",
      "(3, 6)\n",
      "(4, 8)\n",
      "(5, 10)\n",
      "(6, 12)\n",
      "(7, 14)\n",
      "(8, 16)\n",
      "(9, 18)\n"
     ]
    }
   ],
   "source": [
    "for item in test.items():\n",
    "    print(item)"
   ]
  },
  {
   "cell_type": "code",
   "execution_count": 23,
   "id": "39e580c1-8252-4050-8b06-9791b08ff598",
   "metadata": {},
   "outputs": [],
   "source": [
    "a = range(10)\n",
    "b = \"abcdefghik\""
   ]
  },
  {
   "cell_type": "code",
   "execution_count": 24,
   "id": "66f2126a-ef30-4803-9236-78e0ae514a7a",
   "metadata": {},
   "outputs": [
    {
     "data": {
      "text/plain": [
       "[(0, 'a'),\n",
       " (1, 'b'),\n",
       " (2, 'c'),\n",
       " (3, 'd'),\n",
       " (4, 'e'),\n",
       " (5, 'f'),\n",
       " (6, 'g'),\n",
       " (7, 'h'),\n",
       " (8, 'i'),\n",
       " (9, 'k')]"
      ]
     },
     "execution_count": 24,
     "metadata": {},
     "output_type": "execute_result"
    }
   ],
   "source": [
    "list(zip(a,b))"
   ]
  },
  {
   "cell_type": "code",
   "execution_count": 25,
   "id": "ce4fcc19-aca7-4d5b-9cbd-8f4828d491c1",
   "metadata": {},
   "outputs": [],
   "source": [
    "a = dict(zip(a,b))"
   ]
  },
  {
   "cell_type": "code",
   "execution_count": 26,
   "id": "cf87f213-da0b-46b7-91bc-e857da2b4e71",
   "metadata": {},
   "outputs": [
    {
     "data": {
      "text/plain": [
       "'a'"
      ]
     },
     "execution_count": 26,
     "metadata": {},
     "output_type": "execute_result"
    }
   ],
   "source": [
    "a[0]"
   ]
  },
  {
   "cell_type": "code",
   "execution_count": 27,
   "id": "f2bbf343-ca3f-47fe-89ae-857786196ea9",
   "metadata": {},
   "outputs": [],
   "source": [
    "a[0] = \"monkey\""
   ]
  },
  {
   "cell_type": "code",
   "execution_count": 28,
   "id": "bbf8cd02-e967-4a7c-89ea-abb37cc021f8",
   "metadata": {},
   "outputs": [
    {
     "data": {
      "text/plain": [
       "'monkey'"
      ]
     },
     "execution_count": 28,
     "metadata": {},
     "output_type": "execute_result"
    }
   ],
   "source": [
    "a[0]"
   ]
  },
  {
   "cell_type": "code",
   "execution_count": 30,
   "id": "4877ad35-57cc-4e93-af03-e1e53d13764f",
   "metadata": {},
   "outputs": [
    {
     "name": "stdout",
     "output_type": "stream",
     "text": [
      "{0: 'monkey', 1: 'b', 2: 'c', 3: 'd', 4: 'e', 5: 'f', 6: 'g', 7: 'h', 8: 'i', 9: 'k'}\n"
     ]
    }
   ],
   "source": [
    "print(a)"
   ]
  },
  {
   "cell_type": "code",
   "execution_count": 32,
   "id": "b39fd204-dcf2-436d-8f04-b5f281b522f4",
   "metadata": {},
   "outputs": [
    {
     "data": {
      "text/html": [
       "<pre style=\"white-space:pre;overflow-x:auto;line-height:normal;font-family:Menlo,'DejaVu Sans Mono',consolas,'Courier New',monospace\"><span style=\"font-weight: bold\">{</span><span style=\"color: #008080; text-decoration-color: #008080; font-weight: bold\">0</span>: <span style=\"color: #008000; text-decoration-color: #008000\">'monkey'</span>, <span style=\"color: #008080; text-decoration-color: #008080; font-weight: bold\">1</span>: <span style=\"color: #008000; text-decoration-color: #008000\">'b'</span>, <span style=\"color: #008080; text-decoration-color: #008080; font-weight: bold\">2</span>: <span style=\"color: #008000; text-decoration-color: #008000\">'c'</span>, <span style=\"color: #008080; text-decoration-color: #008080; font-weight: bold\">3</span>: <span style=\"color: #008000; text-decoration-color: #008000\">'d'</span>, <span style=\"color: #008080; text-decoration-color: #008080; font-weight: bold\">4</span>: <span style=\"color: #008000; text-decoration-color: #008000\">'e'</span>, <span style=\"color: #008080; text-decoration-color: #008080; font-weight: bold\">5</span>: <span style=\"color: #008000; text-decoration-color: #008000\">'f'</span>, <span style=\"color: #008080; text-decoration-color: #008080; font-weight: bold\">6</span>: <span style=\"color: #008000; text-decoration-color: #008000\">'g'</span>, <span style=\"color: #008080; text-decoration-color: #008080; font-weight: bold\">7</span>: <span style=\"color: #008000; text-decoration-color: #008000\">'h'</span>, <span style=\"color: #008080; text-decoration-color: #008080; font-weight: bold\">8</span>: <span style=\"color: #008000; text-decoration-color: #008000\">'i'</span>, <span style=\"color: #008080; text-decoration-color: #008080; font-weight: bold\">9</span>: <span style=\"color: #008000; text-decoration-color: #008000\">'k'</span><span style=\"font-weight: bold\">}</span>\n",
       "</pre>\n"
      ],
      "text/plain": [
       "\u001b[1m{\u001b[0m\u001b[1;36m0\u001b[0m: \u001b[32m'monkey'\u001b[0m, \u001b[1;36m1\u001b[0m: \u001b[32m'b'\u001b[0m, \u001b[1;36m2\u001b[0m: \u001b[32m'c'\u001b[0m, \u001b[1;36m3\u001b[0m: \u001b[32m'd'\u001b[0m, \u001b[1;36m4\u001b[0m: \u001b[32m'e'\u001b[0m, \u001b[1;36m5\u001b[0m: \u001b[32m'f'\u001b[0m, \u001b[1;36m6\u001b[0m: \u001b[32m'g'\u001b[0m, \u001b[1;36m7\u001b[0m: \u001b[32m'h'\u001b[0m, \u001b[1;36m8\u001b[0m: \u001b[32m'i'\u001b[0m, \u001b[1;36m9\u001b[0m: \u001b[32m'k'\u001b[0m\u001b[1m}\u001b[0m\n"
      ]
     },
     "metadata": {},
     "output_type": "display_data"
    }
   ],
   "source": [
    "print(a)"
   ]
  },
  {
   "cell_type": "code",
   "execution_count": null,
   "id": "9c59b135-5077-49d8-aa0a-9f08be333cfc",
   "metadata": {},
   "outputs": [],
   "source": []
  }
 ],
 "metadata": {
  "kernelspec": {
   "display_name": "Python 3 (ipykernel)",
   "language": "python",
   "name": "python3"
  },
  "language_info": {
   "codemirror_mode": {
    "name": "ipython",
    "version": 3
   },
   "file_extension": ".py",
   "mimetype": "text/x-python",
   "name": "python",
   "nbconvert_exporter": "python",
   "pygments_lexer": "ipython3",
   "version": "3.12.1"
  }
 },
 "nbformat": 4,
 "nbformat_minor": 5
}
