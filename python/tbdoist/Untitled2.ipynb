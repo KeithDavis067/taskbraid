{
 "cells": [
  {
   "cell_type": "code",
   "execution_count": 1,
   "id": "2c18cc49-53d3-4ddf-9378-53f89d769619",
   "metadata": {},
   "outputs": [],
   "source": [
    "from todoist_api_python.api import TodoistAPI\n",
    "from todoist_api_python.models import Section, Task, Project\n",
    "\n",
    "\n",
    "import os"
   ]
  },
  {
   "cell_type": "code",
   "execution_count": 2,
   "id": "fe68bfaa-8060-4213-a583-fd5852a7f853",
   "metadata": {},
   "outputs": [],
   "source": [
    "tdapi = TodoistAPI(os.getenv(\"TODOIST_API_KEY\"))"
   ]
  },
  {
   "cell_type": "code",
   "execution_count": 5,
   "id": "1432c05f-e6d7-491d-981e-6e2c01f84dad",
   "metadata": {},
   "outputs": [
    {
     "name": "stdout",
     "output_type": "stream",
     "text": [
      "Help on method get_projects in module todoist_api_python.api:\n",
      "\n",
      "get_projects() -> 'List[Project]' method of todoist_api_python.api.TodoistAPI instance\n",
      "\n"
     ]
    }
   ],
   "source": [
    "help(tdapi.get_projects)"
   ]
  },
  {
   "cell_type": "code",
   "execution_count": null,
   "id": "fe647e98-fc52-46bf-9aae-8a6d737591bd",
   "metadata": {},
   "outputs": [],
   "source": []
  }
 ],
 "metadata": {
  "kernelspec": {
   "display_name": "Python 3 (ipykernel)",
   "language": "python",
   "name": "python3"
  },
  "language_info": {
   "codemirror_mode": {
    "name": "ipython",
    "version": 3
   },
   "file_extension": ".py",
   "mimetype": "text/x-python",
   "name": "python",
   "nbconvert_exporter": "python",
   "pygments_lexer": "ipython3",
   "version": "3.12.1"
  }
 },
 "nbformat": 4,
 "nbformat_minor": 5
}
