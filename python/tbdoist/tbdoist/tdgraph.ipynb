{
 "cells": [
  {
   "cell_type": "code",
   "execution_count": 1,
   "id": "e0694a95-e94a-4cef-b055-f9105f03bd2c",
   "metadata": {},
   "outputs": [],
   "source": [
    "import os\n",
    "import plotly.express as px\n",
    "import plotly.graph_objects as go\n",
    "import numpy as np\n",
    "import networkx as nx\n",
    "import nxutils as nxu\n",
    "from dataclasses import asdict\n",
    "from rich import print\n",
    "from rich.tree import Tree\n",
    "from rich.errors import NotRenderableError\n",
    "from nxutils import diGraph_to_richTree\n",
    "from tbdoist import tditer_to_graph\n",
    "from modify import manage_supertask_link, manage_supertask_links\n",
    "\n",
    "\n",
    "\n",
    "from todoist_api_python.api import TodoistAPI"
   ]
  },
  {
   "cell_type": "code",
   "execution_count": 2,
   "id": "ecae4043-3bf2-4ee2-92b8-fb72c30ed48b",
   "metadata": {},
   "outputs": [],
   "source": [
    "tdapi = TodoistAPI(os.getenv(\"TODOIST_API_KEY\"))"
   ]
  },
  {
   "cell_type": "code",
   "execution_count": null,
   "id": "32b344e3-5069-4185-838c-d0dc0a1a9b3e",
   "metadata": {},
   "outputs": [],
   "source": [
    "get_funcs = {\"projects\": tdapi.get_projects,\n",
    "          \"sections\": tdapi.get_sections,\n",
    "          \"tasks\": tdapi.get_tasks}\n",
    "results = {}\n",
    "for func in get_funcs:\n",
    "    results[func] = get_funcs[func]()"
   ]
  },
  {
   "cell_type": "code",
   "execution_count": null,
   "id": "bf2f1c2c-78c1-449b-b69d-2b2c1cd1dfe9",
   "metadata": {},
   "outputs": [],
   "source": [
    "tdg = nx.DiGraph()\n",
    "for kind in results:\n",
    "    tditer_to_graph(results[kind], g=tdg)\n",
    "    #for obj in results[iter]:\n",
    "    #    print(obj, type(obj))"
   ]
  },
  {
   "cell_type": "code",
   "execution_count": null,
   "id": "305332f6-ccfa-4c47-8b43-e8ea141f7c55",
   "metadata": {},
   "outputs": [],
   "source": [
    "tdg.name = \"Todoist\""
   ]
  },
  {
   "cell_type": "code",
   "execution_count": null,
   "id": "ef0021de-6ed4-4c90-8717-19e97b0c3471",
   "metadata": {},
   "outputs": [],
   "source": [
    "t = diGraph_to_richTree(nx.reverse_view(tdg), attr=[\"content\", \"name\"])\n",
    "#print(t)"
   ]
  },
  {
   "cell_type": "code",
   "execution_count": null,
   "id": "7512441d-b526-4f68-ada1-3308d8e23b10",
   "metadata": {},
   "outputs": [],
   "source": [
    "traces = nxu.graph_to_traces(tdg, layout_func=nx.spring_layout)"
   ]
  },
  {
   "cell_type": "code",
   "execution_count": null,
   "id": "0062c490-ab39-49c6-b188-e24fc47b4dc7",
   "metadata": {},
   "outputs": [],
   "source": [
    "fig = go.Figure()\n",
    "for name in traces:\n",
    "    fig.add_trace(traces[name])\n",
    "fig.update_layout(dict(height=1000))\n",
    "fig.show()"
   ]
  },
  {
   "cell_type": "code",
   "execution_count": null,
   "id": "1c2a4eb0-e308-4ab7-b5d0-3052d3793591",
   "metadata": {},
   "outputs": [],
   "source": [
    "def gfilter_factory(G, attr, value):\n",
    "    def filter(node):\n",
    "        try:\n",
    "            if G.nodes[node][attr] == value:\n",
    "                return True\n",
    "            else:\n",
    "                return False\n",
    "        except KeyError:\n",
    "            try:\n",
    "                if getattr(G.nodes[node], attr) == Value:\n",
    "                    return True\n",
    "                else:\n",
    "                    return False\n",
    "            except AttributeError:\n",
    "                return False\n",
    "        return False\n",
    "    return filter\n",
    "\n",
    "filter = gfilter_factory(tdg, \"parent_id\", \"377018486\")\n",
    "        \n",
    "\n",
    "children_of_test = nx.subgraph_view(tdg, filter)"
   ]
  },
  {
   "cell_type": "code",
   "execution_count": null,
   "id": "963fab8e-5bba-4cbd-b64f-cbacfe239e82",
   "metadata": {},
   "outputs": [],
   "source": [
    "ttasks = tdapi.get_tasks(filter=\"search: test\")"
   ]
  },
  {
   "cell_type": "code",
   "execution_count": null,
   "id": "03504580-ab23-4b9c-b6b1-738aae34855a",
   "metadata": {},
   "outputs": [],
   "source": [
    "for task in ttasks:\n",
    "    print(task.id, task.content)"
   ]
  },
  {
   "cell_type": "code",
   "execution_count": 12,
   "id": "0e3f5cc0-ba9f-4c2e-ab1a-561d22ecbeac",
   "metadata": {},
   "outputs": [
    {
     "ename": "IndexError",
     "evalue": "list index out of range",
     "output_type": "error",
     "traceback": [
      "\u001b[0;31m---------------------------------------------------------------------------\u001b[0m",
      "\u001b[0;31mIndexError\u001b[0m                                Traceback (most recent call last)",
      "Cell \u001b[0;32mIn[12], line 1\u001b[0m\n\u001b[0;32m----> 1\u001b[0m \u001b[43mmanage_supertask_link\u001b[49m\u001b[43m(\u001b[49m\u001b[43mtdapi\u001b[49m\u001b[43m,\u001b[49m\u001b[43m \u001b[49m\u001b[38;5;124;43m\"\u001b[39;49m\u001b[38;5;124;43m7598008713\u001b[39;49m\u001b[38;5;124;43m\"\u001b[39;49m\u001b[43m)\u001b[49m\n",
      "File \u001b[0;32m~/Documents/PythonProjects/taskbraid/python/tbdoist/tbdoist/modify.py:23\u001b[0m, in \u001b[0;36mmanage_supertask_link\u001b[0;34m(tdapi, task)\u001b[0m\n\u001b[1;32m     21\u001b[0m \u001b[38;5;28;01mif\u001b[39;00m head \u001b[38;5;129;01mis\u001b[39;00m \u001b[38;5;129;01mnot\u001b[39;00m \u001b[38;5;28;01mNone\u001b[39;00m:\n\u001b[1;32m     22\u001b[0m     \u001b[38;5;28;01mif\u001b[39;00m \u001b[38;5;129;01mnot\u001b[39;00m oc\u001b[38;5;241m.\u001b[39mstartswith(head):\n\u001b[0;32m---> 23\u001b[0m         newc \u001b[38;5;241m=\u001b[39m divider\u001b[38;5;241m.\u001b[39mjoin([head, \u001b[43moc\u001b[49m\u001b[38;5;241;43m.\u001b[39;49m\u001b[43msplit\u001b[49m\u001b[43m(\u001b[49m\u001b[43mdivider\u001b[49m\u001b[43m)\u001b[49m\u001b[43m[\u001b[49m\u001b[38;5;241;43m1\u001b[39;49m\u001b[43m]\u001b[49m])\n\u001b[1;32m     24\u001b[0m     newc \u001b[38;5;241m=\u001b[39m \u001b[38;5;28;01mNone\u001b[39;00m\n\u001b[1;32m     26\u001b[0m \u001b[38;5;28;01mif\u001b[39;00m head \u001b[38;5;129;01mis\u001b[39;00m \u001b[38;5;28;01mNone\u001b[39;00m:\n",
      "\u001b[0;31mIndexError\u001b[0m: list index out of range"
     ]
    }
   ],
   "source": [
    "manage_supertask_link(tdapi, \"7598008713\")"
   ]
  },
  {
   "cell_type": "code",
   "execution_count": 13,
   "id": "ce759232-23c0-4934-b773-9413741c8d78",
   "metadata": {},
   "outputs": [
    {
     "data": {
      "text/plain": [
       "Task(assignee_id=None, assigner_id=None, comment_count=0, is_completed=False, content='test', created_at='2024-01-15T19:02:01.068159Z', creator_id='39368', description='', due=None, id='7598008713', labels=[], order=1, parent_id='7598008484', priority=1, project_id='2310851168', section_id=None, url='https://todoist.com/showTask?id=7598008713', sync_id=None)"
      ]
     },
     "execution_count": 13,
     "metadata": {},
     "output_type": "execute_result"
    }
   ],
   "source": [
    "tdapi.get_task(\"7598008713\")"
   ]
  },
  {
   "cell_type": "code",
   "execution_count": null,
   "id": "93b18e75-352a-4a4e-a466-a7373d0a0704",
   "metadata": {},
   "outputs": [],
   "source": []
  }
 ],
 "metadata": {
  "kernelspec": {
   "display_name": "Python 3 (ipykernel)",
   "language": "python",
   "name": "python3"
  },
  "language_info": {
   "codemirror_mode": {
    "name": "ipython",
    "version": 3
   },
   "file_extension": ".py",
   "mimetype": "text/x-python",
   "name": "python",
   "nbconvert_exporter": "python",
   "pygments_lexer": "ipython3",
   "version": "3.12.1"
  }
 },
 "nbformat": 4,
 "nbformat_minor": 5
}
