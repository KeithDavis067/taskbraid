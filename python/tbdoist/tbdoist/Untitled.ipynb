{
 "cells": [
  {
   "cell_type": "code",
   "execution_count": 2,
   "id": "650912b0-bdf6-4ac1-b9cc-29cf5677ce69",
   "metadata": {},
   "outputs": [],
   "source": [
    "from todoist_api_python.models import *"
   ]
  },
  {
   "cell_type": "code",
   "execution_count": 5,
   "id": "53fbb471-acff-4299-a2de-f84f55025320",
   "metadata": {},
   "outputs": [
    {
     "data": {
      "text/plain": [
       "'Project'"
      ]
     },
     "execution_count": 5,
     "metadata": {},
     "output_type": "execute_result"
    }
   ],
   "source": [
    "Project.__name__"
   ]
  },
  {
   "cell_type": "code",
   "execution_count": 9,
   "id": "0e2f18df-eefc-429e-b063-92fe0f072480",
   "metadata": {},
   "outputs": [],
   "source": [
    "a = Section(id = \"321\", project_id=\"123\", name=\"Test\", order=0)"
   ]
  },
  {
   "cell_type": "code",
   "execution_count": 11,
   "id": "f6b24cfd-7398-4648-a200-05163f91cb81",
   "metadata": {},
   "outputs": [
    {
     "ename": "SyntaxError",
     "evalue": "name capture 'Section' makes remaining patterns unreachable (306793597.py, line 2)",
     "output_type": "error",
     "traceback": [
      "\u001b[0;36m  Cell \u001b[0;32mIn[11], line 2\u001b[0;36m\u001b[0m\n\u001b[0;31m    case Section:\u001b[0m\n\u001b[0m         ^\u001b[0m\n\u001b[0;31mSyntaxError\u001b[0m\u001b[0;31m:\u001b[0m name capture 'Section' makes remaining patterns unreachable\n"
     ]
    }
   ],
   "source": [
    "match type(a):\n",
    "    case Section:\n",
    "        print(\"Section\")\n",
    "    case _:\n",
    "        print(\"Not as Section\")"
   ]
  },
  {
   "cell_type": "code",
   "execution_count": null,
   "id": "23a17d38-1c65-4982-ac82-442666b28ed5",
   "metadata": {},
   "outputs": [],
   "source": []
  }
 ],
 "metadata": {
  "kernelspec": {
   "display_name": "Python 3 (ipykernel)",
   "language": "python",
   "name": "python3"
  },
  "language_info": {
   "codemirror_mode": {
    "name": "ipython",
    "version": 3
   },
   "file_extension": ".py",
   "mimetype": "text/x-python",
   "name": "python",
   "nbconvert_exporter": "python",
   "pygments_lexer": "ipython3",
   "version": "3.12.1"
  }
 },
 "nbformat": 4,
 "nbformat_minor": 5
}
