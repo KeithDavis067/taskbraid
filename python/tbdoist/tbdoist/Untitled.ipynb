{
 "cells": [
  {
   "cell_type": "code",
   "execution_count": 1,
   "id": "5449d158-ff75-4d67-9a84-0a3715d72c9a",
   "metadata": {},
   "outputs": [],
   "source": [
    "from rich import print\n",
    "from rich.tree import Tree"
   ]
  },
  {
   "cell_type": "code",
   "execution_count": 2,
   "id": "5dfca27f-a514-4efc-96fe-c9383b54f10e",
   "metadata": {},
   "outputs": [],
   "source": [
    "d = {\"a\": \"one\", \"b\": \"two\", \"c\": {\"suba\": \"subone\", \"subb\": \"subb\"}}"
   ]
  },
  {
   "cell_type": "code",
   "execution_count": 3,
   "id": "6cd7d528-ae1e-4be1-b821-932a60b5f07a",
   "metadata": {},
   "outputs": [
    {
     "ename": "NotRenderableError",
     "evalue": "Unable to render {'a': 'one', 'b': 'two', 'c': {'suba': 'subone', 'subb': 'subb'}}; A str, Segment or object with __rich_console__ method is required",
     "output_type": "error",
     "traceback": [
      "\u001b[0;31m---------------------------------------------------------------------------\u001b[0m",
      "\u001b[0;31mNotRenderableError\u001b[0m                        Traceback (most recent call last)",
      "File \u001b[0;32m~/Library/Caches/pypoetry/virtualenvs/tbdoist-rzvxWBeq-py3.12/lib/python3.12/site-packages/IPython/core/formatters.py:974\u001b[0m, in \u001b[0;36mMimeBundleFormatter.__call__\u001b[0;34m(self, obj, include, exclude)\u001b[0m\n\u001b[1;32m    971\u001b[0m     method \u001b[38;5;241m=\u001b[39m get_real_method(obj, \u001b[38;5;28mself\u001b[39m\u001b[38;5;241m.\u001b[39mprint_method)\n\u001b[1;32m    973\u001b[0m     \u001b[38;5;28;01mif\u001b[39;00m method \u001b[38;5;129;01mis\u001b[39;00m \u001b[38;5;129;01mnot\u001b[39;00m \u001b[38;5;28;01mNone\u001b[39;00m:\n\u001b[0;32m--> 974\u001b[0m         \u001b[38;5;28;01mreturn\u001b[39;00m \u001b[43mmethod\u001b[49m\u001b[43m(\u001b[49m\u001b[43minclude\u001b[49m\u001b[38;5;241;43m=\u001b[39;49m\u001b[43minclude\u001b[49m\u001b[43m,\u001b[49m\u001b[43m \u001b[49m\u001b[43mexclude\u001b[49m\u001b[38;5;241;43m=\u001b[39;49m\u001b[43mexclude\u001b[49m\u001b[43m)\u001b[49m\n\u001b[1;32m    975\u001b[0m     \u001b[38;5;28;01mreturn\u001b[39;00m \u001b[38;5;28;01mNone\u001b[39;00m\n\u001b[1;32m    976\u001b[0m \u001b[38;5;28;01melse\u001b[39;00m:\n",
      "File \u001b[0;32m~/Library/Caches/pypoetry/virtualenvs/tbdoist-rzvxWBeq-py3.12/lib/python3.12/site-packages/rich/jupyter.py:48\u001b[0m, in \u001b[0;36mJupyterMixin._repr_mimebundle_\u001b[0;34m(self, include, exclude, **kwargs)\u001b[0m\n\u001b[1;32m     41\u001b[0m \u001b[38;5;28;01mdef\u001b[39;00m \u001b[38;5;21m_repr_mimebundle_\u001b[39m(\n\u001b[1;32m     42\u001b[0m     \u001b[38;5;28mself\u001b[39m: \u001b[38;5;124m\"\u001b[39m\u001b[38;5;124mConsoleRenderable\u001b[39m\u001b[38;5;124m\"\u001b[39m,\n\u001b[1;32m     43\u001b[0m     include: Sequence[\u001b[38;5;28mstr\u001b[39m],\n\u001b[1;32m     44\u001b[0m     exclude: Sequence[\u001b[38;5;28mstr\u001b[39m],\n\u001b[1;32m     45\u001b[0m     \u001b[38;5;241m*\u001b[39m\u001b[38;5;241m*\u001b[39mkwargs: Any,\n\u001b[1;32m     46\u001b[0m ) \u001b[38;5;241m-\u001b[39m\u001b[38;5;241m>\u001b[39m Dict[\u001b[38;5;28mstr\u001b[39m, \u001b[38;5;28mstr\u001b[39m]:\n\u001b[1;32m     47\u001b[0m     console \u001b[38;5;241m=\u001b[39m get_console()\n\u001b[0;32m---> 48\u001b[0m     segments \u001b[38;5;241m=\u001b[39m \u001b[38;5;28;43mlist\u001b[39;49m\u001b[43m(\u001b[49m\u001b[43mconsole\u001b[49m\u001b[38;5;241;43m.\u001b[39;49m\u001b[43mrender\u001b[49m\u001b[43m(\u001b[49m\u001b[38;5;28;43mself\u001b[39;49m\u001b[43m,\u001b[49m\u001b[43m \u001b[49m\u001b[43mconsole\u001b[49m\u001b[38;5;241;43m.\u001b[39;49m\u001b[43moptions\u001b[49m\u001b[43m)\u001b[49m\u001b[43m)\u001b[49m\n\u001b[1;32m     49\u001b[0m     html \u001b[38;5;241m=\u001b[39m _render_segments(segments)\n\u001b[1;32m     50\u001b[0m     text \u001b[38;5;241m=\u001b[39m console\u001b[38;5;241m.\u001b[39m_render_buffer(segments)\n",
      "File \u001b[0;32m~/Library/Caches/pypoetry/virtualenvs/tbdoist-rzvxWBeq-py3.12/lib/python3.12/site-packages/rich/console.py:1332\u001b[0m, in \u001b[0;36mConsole.render\u001b[0;34m(self, renderable, options)\u001b[0m\n\u001b[1;32m   1330\u001b[0m _Segment \u001b[38;5;241m=\u001b[39m Segment\n\u001b[1;32m   1331\u001b[0m _options \u001b[38;5;241m=\u001b[39m _options\u001b[38;5;241m.\u001b[39mreset_height()\n\u001b[0;32m-> 1332\u001b[0m \u001b[38;5;28;01mfor\u001b[39;00m render_output \u001b[38;5;129;01min\u001b[39;00m iter_render:\n\u001b[1;32m   1333\u001b[0m     \u001b[38;5;28;01mif\u001b[39;00m \u001b[38;5;28misinstance\u001b[39m(render_output, _Segment):\n\u001b[1;32m   1334\u001b[0m         \u001b[38;5;28;01myield\u001b[39;00m render_output\n",
      "File \u001b[0;32m~/Library/Caches/pypoetry/virtualenvs/tbdoist-rzvxWBeq-py3.12/lib/python3.12/site-packages/rich/tree.py:130\u001b[0m, in \u001b[0;36mTree.__rich_console__\u001b[0;34m(self, console, options)\u001b[0m\n\u001b[1;32m    128\u001b[0m style \u001b[38;5;241m=\u001b[39m style_stack\u001b[38;5;241m.\u001b[39mcurrent \u001b[38;5;241m+\u001b[39m get_style(node\u001b[38;5;241m.\u001b[39mstyle)\n\u001b[1;32m    129\u001b[0m prefix \u001b[38;5;241m=\u001b[39m levels[(\u001b[38;5;241m2\u001b[39m \u001b[38;5;28;01mif\u001b[39;00m \u001b[38;5;28mself\u001b[39m\u001b[38;5;241m.\u001b[39mhide_root \u001b[38;5;28;01melse\u001b[39;00m \u001b[38;5;241m1\u001b[39m) :]\n\u001b[0;32m--> 130\u001b[0m renderable_lines \u001b[38;5;241m=\u001b[39m \u001b[43mconsole\u001b[49m\u001b[38;5;241;43m.\u001b[39;49m\u001b[43mrender_lines\u001b[49m\u001b[43m(\u001b[49m\n\u001b[1;32m    131\u001b[0m \u001b[43m    \u001b[49m\u001b[43mStyled\u001b[49m\u001b[43m(\u001b[49m\u001b[43mnode\u001b[49m\u001b[38;5;241;43m.\u001b[39;49m\u001b[43mlabel\u001b[49m\u001b[43m,\u001b[49m\u001b[43m \u001b[49m\u001b[43mstyle\u001b[49m\u001b[43m)\u001b[49m\u001b[43m,\u001b[49m\n\u001b[1;32m    132\u001b[0m \u001b[43m    \u001b[49m\u001b[43moptions\u001b[49m\u001b[38;5;241;43m.\u001b[39;49m\u001b[43mupdate\u001b[49m\u001b[43m(\u001b[49m\n\u001b[1;32m    133\u001b[0m \u001b[43m        \u001b[49m\u001b[43mwidth\u001b[49m\u001b[38;5;241;43m=\u001b[39;49m\u001b[43moptions\u001b[49m\u001b[38;5;241;43m.\u001b[39;49m\u001b[43mmax_width\u001b[49m\n\u001b[1;32m    134\u001b[0m \u001b[43m        \u001b[49m\u001b[38;5;241;43m-\u001b[39;49m\u001b[43m \u001b[49m\u001b[38;5;28;43msum\u001b[39;49m\u001b[43m(\u001b[49m\u001b[43mlevel\u001b[49m\u001b[38;5;241;43m.\u001b[39;49m\u001b[43mcell_length\u001b[49m\u001b[43m \u001b[49m\u001b[38;5;28;43;01mfor\u001b[39;49;00m\u001b[43m \u001b[49m\u001b[43mlevel\u001b[49m\u001b[43m \u001b[49m\u001b[38;5;129;43;01min\u001b[39;49;00m\u001b[43m \u001b[49m\u001b[43mprefix\u001b[49m\u001b[43m)\u001b[49m\u001b[43m,\u001b[49m\n\u001b[1;32m    135\u001b[0m \u001b[43m        \u001b[49m\u001b[43mhighlight\u001b[49m\u001b[38;5;241;43m=\u001b[39;49m\u001b[38;5;28;43mself\u001b[39;49m\u001b[38;5;241;43m.\u001b[39;49m\u001b[43mhighlight\u001b[49m\u001b[43m,\u001b[49m\n\u001b[1;32m    136\u001b[0m \u001b[43m        \u001b[49m\u001b[43mheight\u001b[49m\u001b[38;5;241;43m=\u001b[39;49m\u001b[38;5;28;43;01mNone\u001b[39;49;00m\u001b[43m,\u001b[49m\n\u001b[1;32m    137\u001b[0m \u001b[43m    \u001b[49m\u001b[43m)\u001b[49m\u001b[43m,\u001b[49m\n\u001b[1;32m    138\u001b[0m \u001b[43m    \u001b[49m\u001b[43mpad\u001b[49m\u001b[38;5;241;43m=\u001b[39;49m\u001b[43moptions\u001b[49m\u001b[38;5;241;43m.\u001b[39;49m\u001b[43mjustify\u001b[49m\u001b[43m \u001b[49m\u001b[38;5;129;43;01mis\u001b[39;49;00m\u001b[43m \u001b[49m\u001b[38;5;129;43;01mnot\u001b[39;49;00m\u001b[43m \u001b[49m\u001b[38;5;28;43;01mNone\u001b[39;49;00m\u001b[43m,\u001b[49m\n\u001b[1;32m    139\u001b[0m \u001b[43m\u001b[49m\u001b[43m)\u001b[49m\n\u001b[1;32m    141\u001b[0m \u001b[38;5;28;01mif\u001b[39;00m \u001b[38;5;129;01mnot\u001b[39;00m (depth \u001b[38;5;241m==\u001b[39m \u001b[38;5;241m0\u001b[39m \u001b[38;5;129;01mand\u001b[39;00m \u001b[38;5;28mself\u001b[39m\u001b[38;5;241m.\u001b[39mhide_root):\n\u001b[1;32m    142\u001b[0m     \u001b[38;5;28;01mfor\u001b[39;00m first, line \u001b[38;5;129;01min\u001b[39;00m loop_first(renderable_lines):\n",
      "File \u001b[0;32m~/Library/Caches/pypoetry/virtualenvs/tbdoist-rzvxWBeq-py3.12/lib/python3.12/site-packages/rich/console.py:1372\u001b[0m, in \u001b[0;36mConsole.render_lines\u001b[0;34m(self, renderable, options, style, pad, new_lines)\u001b[0m\n\u001b[1;32m   1369\u001b[0m \u001b[38;5;28;01mif\u001b[39;00m render_height \u001b[38;5;129;01mis\u001b[39;00m \u001b[38;5;129;01mnot\u001b[39;00m \u001b[38;5;28;01mNone\u001b[39;00m:\n\u001b[1;32m   1370\u001b[0m     render_height \u001b[38;5;241m=\u001b[39m \u001b[38;5;28mmax\u001b[39m(\u001b[38;5;241m0\u001b[39m, render_height)\n\u001b[0;32m-> 1372\u001b[0m lines \u001b[38;5;241m=\u001b[39m \u001b[38;5;28;43mlist\u001b[39;49m\u001b[43m(\u001b[49m\n\u001b[1;32m   1373\u001b[0m \u001b[43m    \u001b[49m\u001b[43mislice\u001b[49m\u001b[43m(\u001b[49m\n\u001b[1;32m   1374\u001b[0m \u001b[43m        \u001b[49m\u001b[43mSegment\u001b[49m\u001b[38;5;241;43m.\u001b[39;49m\u001b[43msplit_and_crop_lines\u001b[49m\u001b[43m(\u001b[49m\n\u001b[1;32m   1375\u001b[0m \u001b[43m            \u001b[49m\u001b[43m_rendered\u001b[49m\u001b[43m,\u001b[49m\n\u001b[1;32m   1376\u001b[0m \u001b[43m            \u001b[49m\u001b[43mrender_options\u001b[49m\u001b[38;5;241;43m.\u001b[39;49m\u001b[43mmax_width\u001b[49m\u001b[43m,\u001b[49m\n\u001b[1;32m   1377\u001b[0m \u001b[43m            \u001b[49m\u001b[43minclude_new_lines\u001b[49m\u001b[38;5;241;43m=\u001b[39;49m\u001b[43mnew_lines\u001b[49m\u001b[43m,\u001b[49m\n\u001b[1;32m   1378\u001b[0m \u001b[43m            \u001b[49m\u001b[43mpad\u001b[49m\u001b[38;5;241;43m=\u001b[39;49m\u001b[43mpad\u001b[49m\u001b[43m,\u001b[49m\n\u001b[1;32m   1379\u001b[0m \u001b[43m            \u001b[49m\u001b[43mstyle\u001b[49m\u001b[38;5;241;43m=\u001b[39;49m\u001b[43mstyle\u001b[49m\u001b[43m,\u001b[49m\n\u001b[1;32m   1380\u001b[0m \u001b[43m        \u001b[49m\u001b[43m)\u001b[49m\u001b[43m,\u001b[49m\n\u001b[1;32m   1381\u001b[0m \u001b[43m        \u001b[49m\u001b[38;5;28;43;01mNone\u001b[39;49;00m\u001b[43m,\u001b[49m\n\u001b[1;32m   1382\u001b[0m \u001b[43m        \u001b[49m\u001b[43mrender_height\u001b[49m\u001b[43m,\u001b[49m\n\u001b[1;32m   1383\u001b[0m \u001b[43m    \u001b[49m\u001b[43m)\u001b[49m\n\u001b[1;32m   1384\u001b[0m \u001b[43m\u001b[49m\u001b[43m)\u001b[49m\n\u001b[1;32m   1385\u001b[0m \u001b[38;5;28;01mif\u001b[39;00m render_options\u001b[38;5;241m.\u001b[39mheight \u001b[38;5;129;01mis\u001b[39;00m \u001b[38;5;129;01mnot\u001b[39;00m \u001b[38;5;28;01mNone\u001b[39;00m:\n\u001b[1;32m   1386\u001b[0m     extra_lines \u001b[38;5;241m=\u001b[39m render_options\u001b[38;5;241m.\u001b[39mheight \u001b[38;5;241m-\u001b[39m \u001b[38;5;28mlen\u001b[39m(lines)\n",
      "File \u001b[0;32m~/Library/Caches/pypoetry/virtualenvs/tbdoist-rzvxWBeq-py3.12/lib/python3.12/site-packages/rich/segment.py:291\u001b[0m, in \u001b[0;36mSegment.split_and_crop_lines\u001b[0;34m(cls, segments, length, style, pad, include_new_lines)\u001b[0m\n\u001b[1;32m    288\u001b[0m adjust_line_length \u001b[38;5;241m=\u001b[39m \u001b[38;5;28mcls\u001b[39m\u001b[38;5;241m.\u001b[39madjust_line_length\n\u001b[1;32m    289\u001b[0m new_line_segment \u001b[38;5;241m=\u001b[39m \u001b[38;5;28mcls\u001b[39m(\u001b[38;5;124m\"\u001b[39m\u001b[38;5;130;01m\\n\u001b[39;00m\u001b[38;5;124m\"\u001b[39m)\n\u001b[0;32m--> 291\u001b[0m \u001b[38;5;28;01mfor\u001b[39;00m segment \u001b[38;5;129;01min\u001b[39;00m segments:\n\u001b[1;32m    292\u001b[0m     \u001b[38;5;28;01mif\u001b[39;00m \u001b[38;5;124m\"\u001b[39m\u001b[38;5;130;01m\\n\u001b[39;00m\u001b[38;5;124m\"\u001b[39m \u001b[38;5;129;01min\u001b[39;00m segment\u001b[38;5;241m.\u001b[39mtext \u001b[38;5;129;01mand\u001b[39;00m \u001b[38;5;129;01mnot\u001b[39;00m segment\u001b[38;5;241m.\u001b[39mcontrol:\n\u001b[1;32m    293\u001b[0m         text, segment_style, _ \u001b[38;5;241m=\u001b[39m segment\n",
      "File \u001b[0;32m~/Library/Caches/pypoetry/virtualenvs/tbdoist-rzvxWBeq-py3.12/lib/python3.12/site-packages/rich/console.py:1332\u001b[0m, in \u001b[0;36mConsole.render\u001b[0;34m(self, renderable, options)\u001b[0m\n\u001b[1;32m   1330\u001b[0m _Segment \u001b[38;5;241m=\u001b[39m Segment\n\u001b[1;32m   1331\u001b[0m _options \u001b[38;5;241m=\u001b[39m _options\u001b[38;5;241m.\u001b[39mreset_height()\n\u001b[0;32m-> 1332\u001b[0m \u001b[38;5;28;01mfor\u001b[39;00m render_output \u001b[38;5;129;01min\u001b[39;00m iter_render:\n\u001b[1;32m   1333\u001b[0m     \u001b[38;5;28;01mif\u001b[39;00m \u001b[38;5;28misinstance\u001b[39m(render_output, _Segment):\n\u001b[1;32m   1334\u001b[0m         \u001b[38;5;28;01myield\u001b[39;00m render_output\n",
      "File \u001b[0;32m~/Library/Caches/pypoetry/virtualenvs/tbdoist-rzvxWBeq-py3.12/lib/python3.12/site-packages/rich/console.py:1319\u001b[0m, in \u001b[0;36mConsole.render\u001b[0;34m(self, renderable, options)\u001b[0m\n\u001b[1;32m   1317\u001b[0m     render_iterable \u001b[38;5;241m=\u001b[39m text_renderable\u001b[38;5;241m.\u001b[39m__rich_console__(\u001b[38;5;28mself\u001b[39m, _options)\n\u001b[1;32m   1318\u001b[0m \u001b[38;5;28;01melse\u001b[39;00m:\n\u001b[0;32m-> 1319\u001b[0m     \u001b[38;5;28;01mraise\u001b[39;00m errors\u001b[38;5;241m.\u001b[39mNotRenderableError(\n\u001b[1;32m   1320\u001b[0m         \u001b[38;5;124mf\u001b[39m\u001b[38;5;124m\"\u001b[39m\u001b[38;5;124mUnable to render \u001b[39m\u001b[38;5;132;01m{\u001b[39;00mrenderable\u001b[38;5;132;01m!r}\u001b[39;00m\u001b[38;5;124m; \u001b[39m\u001b[38;5;124m\"\u001b[39m\n\u001b[1;32m   1321\u001b[0m         \u001b[38;5;124m\"\u001b[39m\u001b[38;5;124mA str, Segment or object with __rich_console__ method is required\u001b[39m\u001b[38;5;124m\"\u001b[39m\n\u001b[1;32m   1322\u001b[0m     )\n\u001b[1;32m   1324\u001b[0m \u001b[38;5;28;01mtry\u001b[39;00m:\n\u001b[1;32m   1325\u001b[0m     iter_render \u001b[38;5;241m=\u001b[39m \u001b[38;5;28miter\u001b[39m(render_iterable)\n",
      "\u001b[0;31mNotRenderableError\u001b[0m: Unable to render {'a': 'one', 'b': 'two', 'c': {'suba': 'subone', 'subb': 'subb'}}; A str, Segment or object with __rich_console__ method is required"
     ]
    },
    {
     "data": {
      "text/plain": [
       "<rich.tree.Tree at 0x107b8df70>"
      ]
     },
     "execution_count": 3,
     "metadata": {},
     "output_type": "execute_result"
    }
   ],
   "source": []
  },
  {
   "cell_type": "code",
   "execution_count": null,
   "id": "5488a773-045b-4bc0-8cb7-151d9066d626",
   "metadata": {},
   "outputs": [],
   "source": []
  }
 ],
 "metadata": {
  "kernelspec": {
   "display_name": "Python 3 (ipykernel)",
   "language": "python",
   "name": "python3"
  },
  "language_info": {
   "codemirror_mode": {
    "name": "ipython",
    "version": 3
   },
   "file_extension": ".py",
   "mimetype": "text/x-python",
   "name": "python",
   "nbconvert_exporter": "python",
   "pygments_lexer": "ipython3",
   "version": "3.12.1"
  }
 },
 "nbformat": 4,
 "nbformat_minor": 5
}
