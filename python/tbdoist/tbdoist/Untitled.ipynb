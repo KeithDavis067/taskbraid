{
 "cells": [
  {
   "cell_type": "code",
   "execution_count": 2,
   "id": "650912b0-bdf6-4ac1-b9cc-29cf5677ce69",
   "metadata": {},
   "outputs": [],
   "source": [
    "from todoist_api_python.models import *"
   ]
  },
  {
   "cell_type": "code",
   "execution_count": 3,
   "id": "53fbb471-acff-4299-a2de-f84f55025320",
   "metadata": {},
   "outputs": [
    {
     "data": {
      "text/plain": [
       "['Any',\n",
       " 'Attachment',\n",
       " 'AuthResult',\n",
       " 'Collaborator',\n",
       " 'Comment',\n",
       " 'CompletedItems',\n",
       " 'Due',\n",
       " 'In',\n",
       " 'Item',\n",
       " 'ItemCompletedInfo',\n",
       " 'Label',\n",
       " 'List',\n",
       " 'Literal',\n",
       " 'Out',\n",
       " 'Project',\n",
       " 'QuickAddResult',\n",
       " 'Section',\n",
       " 'Task',\n",
       " 'VIEW_STYLE',\n",
       " '_',\n",
       " '__',\n",
       " '___',\n",
       " '__builtin__',\n",
       " '__builtins__',\n",
       " '__doc__',\n",
       " '__loader__',\n",
       " '__name__',\n",
       " '__package__',\n",
       " '__session__',\n",
       " '__spec__',\n",
       " '_dh',\n",
       " '_i',\n",
       " '_i1',\n",
       " '_i2',\n",
       " '_i3',\n",
       " '_ih',\n",
       " '_ii',\n",
       " '_iii',\n",
       " '_oh',\n",
       " 'annotations',\n",
       " 'dataclass',\n",
       " 'exit',\n",
       " 'fields',\n",
       " 'get_ipython',\n",
       " 'get_url_for_task',\n",
       " 'open',\n",
       " 'quit']"
      ]
     },
     "execution_count": 3,
     "metadata": {},
     "output_type": "execute_result"
    }
   ],
   "source": [
    "dir()"
   ]
  },
  {
   "cell_type": "code",
   "execution_count": null,
   "id": "0e2f18df-eefc-429e-b063-92fe0f072480",
   "metadata": {},
   "outputs": [],
   "source": []
  }
 ],
 "metadata": {
  "kernelspec": {
   "display_name": "Python 3 (ipykernel)",
   "language": "python",
   "name": "python3"
  },
  "language_info": {
   "codemirror_mode": {
    "name": "ipython",
    "version": 3
   },
   "file_extension": ".py",
   "mimetype": "text/x-python",
   "name": "python",
   "nbconvert_exporter": "python",
   "pygments_lexer": "ipython3",
   "version": "3.12.1"
  }
 },
 "nbformat": 4,
 "nbformat_minor": 5
}
