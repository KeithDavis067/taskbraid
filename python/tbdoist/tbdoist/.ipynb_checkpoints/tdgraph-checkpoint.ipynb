{
 "cells": [
  {
   "cell_type": "code",
   "execution_count": 1,
   "id": "e0694a95-e94a-4cef-b055-f9105f03bd2c",
   "metadata": {},
   "outputs": [],
   "source": [
    "import os\n",
    "import plotly.express as px\n",
    "import plotly.graph_objects as go\n",
    "import numpy as np\n",
    "import networkx as nx\n",
    "import nxutils as nxu\n",
    "from dataclasses import asdict\n",
    "from rich import print\n",
    "from rich.tree import Tree\n",
    "from rich.errors import NotRenderableError\n",
    "from nxutils import diGraph_to_richTree\n",
    "\n",
    "\n",
    "\n",
    "from todoist_api_python.api import TodoistAPI"
   ]
  },
  {
   "cell_type": "code",
   "execution_count": 2,
   "id": "ecae4043-3bf2-4ee2-92b8-fb72c30ed48b",
   "metadata": {},
   "outputs": [],
   "source": [
    "tdapi = TodoistAPI(os.getenv(\"TODOIST_API_KEY\"))"
   ]
  },
  {
   "cell_type": "code",
   "execution_count": 3,
   "id": "32b344e3-5069-4185-838c-d0dc0a1a9b3e",
   "metadata": {},
   "outputs": [],
   "source": [
    "get_funcs = {\"projects\": tdapi.get_projects,\n",
    "          \"sections\": tdapi.get_sections,\n",
    "          \"tasks\": tdapi.get_tasks}\n",
    "results = {}\n",
    "for func in get_funcs:\n",
    "    results[func] = get_funcs[func]()"
   ]
  },
  {
   "cell_type": "code",
   "execution_count": 11,
   "id": "bf2f1c2c-78c1-449b-b69d-2b2c1cd1dfe9",
   "metadata": {},
   "outputs": [],
   "source": [
    "def obj_to_graph(obj, attr=\"parent_id\", g=None):\n",
    "    if g is None:\n",
    "        g = nx.DiGraph()\n",
    "    ndicts = {}\n",
    "    for n in obj:\n",
    "        nd = asdict(n)\n",
    "        nd[\"obj\"] = n\n",
    "        ndicts[n.id] = nd\n",
    "    edges = [(n.id, getattr(n, attr)) for n in obj if n.parent_id is not None] \n",
    "    g.add_nodes_from(ndicts.items())\n",
    "    g.add_edges_from(edges)\n",
    "    return g\n",
    "\n",
    "pgraph = to_graph(projects)\n",
    "pgraph.graph[\"name\"] = \"ToDoist\""
   ]
  },
  {
   "cell_type": "code",
   "execution_count": 14,
   "id": "82806f73-1227-49e4-bb5a-5cf426eec497",
   "metadata": {},
   "outputs": [],
   "source": [
    "tasks = tdapi.get_tasks()\n",
    "allgraph = to_graph(tasks, g=pgraph, attr=\"project_id\")\n",
    "allgraph = to_graph(tasks, g=allgraph, attr=\"parent_id\")\n",
    "allgraph.name = \"allgraph\""
   ]
  },
  {
   "cell_type": "code",
   "execution_count": 15,
   "id": "ef0021de-6ed4-4c90-8717-19e97b0c3471",
   "metadata": {},
   "outputs": [
    {
     "data": {
      "text/html": [
       "<pre style=\"white-space:pre;overflow-x:auto;line-height:normal;font-family:Menlo,'DejaVu Sans Mono',consolas,'Courier New',monospace\">allgraph\n",
       "├── Inbox\n",
       "│   ├── (https://mail.google.com/mail/u/0/#inbox/FMfcgzGwJcgnPXRFrqwQhLVNFlqbPLKp) REU Illinois\n",
       "│   ├── Ecoflex 00-10\n",
       "│   ├── DS 20\n",
       "│   ├── Ecoflex gel\n",
       "│   └── Ecoflex 5\n",
       "├── Main Work =\n",
       "│   ├── Roadmap for time river\n",
       "│   │   ├── create networkx network of all projects and tasks names only (shouldn't require convert yet.)\n",
       "│   │   ├── automate adding links to shows to send shows e-mail.\n",
       "│   │   ├── LIfe Management Planning Phase\n",
       "│   │   ├── Create a `Todoist-convert` module\n",
       "│   │   └── Todoist features module\n",
       "│   ├── find duties for I And O chair and set up a way to meet each of them.\n",
       "│   ├── handbook stuff.\n",
       "│   │   ├── research training for geivance stuff for conferences.\n",
       "│   │   ├── Privacy policy for communications with me.\n",
       "│   │   └── Spend 30 minutes on handbook plan\n",
       "│   ├── Distance Data plot 3d\n",
       "│   ├── Get data on the population that we “serve” in the midwest. Regarding people of color.\n",
       "│   ├── safety beat for safety message carrianne nisley\n",
       "│   ├── Determine Response\n",
       "│   ├── [Todoist task: Online Home for Posting.](https://todoist.com/showTask?id=7132486790)\n",
       "│   │   ├── Can domain point to synology and to github?\n",
       "│   │   └── Buy domain name.\n",
       "│   ├── Gather data on github workflow for teams.\n",
       "│   ├── (https://www.indeed.com/hire/c/info/grievance-procedures-for-a-workplace)\n",
       "│   ├── Private place for people to let the executive committee know about concerns.\n",
       "│   ├── Handbook\n",
       "│   ├── Committee of Asvisors\n",
       "│   ├── [Effective Grievance Handling: The Employer's Ultimate \n",
       "│   │   Guide](https://www.i-sight.com/resources/effective-grievance-handling-the-ultimate-guide-for-employers/)\n",
       "│   ├── Create Response\n",
       "│   ├── Another Meeting\n",
       "│   ├── [Underground Railroad Quilt Codes: What We Know, What We Believe, and What Inspires \n",
       "│   │   Us](https://folklife.si.edu/magazine/underground-railroad-quilt-codes)\n",
       "│   ├── Place for people to let me know about concerns.\n",
       "│   ├── Find a historian to do the drinking gourd conversation.\n",
       "│   ├── Distance data plot as xarray\n",
       "│   ├── (https://www.shrm.org/resourcesandtools/tools-and-samples/hr-qa/pages/aresolutionformanagementandemployees.\n",
       "│   │   aspx)\n",
       "│   ├── Distance Data plot color.\n",
       "│   ├── Write down how Data will be held in Neorg.\n",
       "│   ├── Prep Sara for I &amp; O Officer\n",
       "│   ├── Tasks are schedules for a time between them and another task.\n",
       "│   ├── [Training - NTEU Grievance Processing Handbook](https://www.nteu282.com/training/06grvan1.html)\n",
       "│   ├── picture and bio to Nuclear Frotiers talk \n",
       "│   │   (https://mail.google.com/mail/u/0/#inbox/FMfcgzGwHfqVxTqqwQfFMXnncfjKkTlW)\n",
       "│   ├── Check out drinking gourd early songs.\n",
       "│   ├── Check on Location\n",
       "│   ├── Prep standards document for putting data on Zenodo.\n",
       "│   ├── Set up meeting with Deanna\n",
       "│   ├── Make repo of Plot Code.\n",
       "│   ├── Connections between Neorg and Todoist.\n",
       "│   ├── Consider whether we want to allow sales of tickets. Make-a-wish\n",
       "│   ├── look into grievance stuff\n",
       "│   ├── Dataflow Sketch\n",
       "│   └── Links to other tasks may require autocomplete?\n",
       "├── Main Personal =\n",
       "│   ├── Half Kneeling Stretch\n",
       "│   ├── Review System\n",
       "│   ├── Get white cloths.\n",
       "│   ├── Label white cloths.\n",
       "│   ├── Pentagram research task.\n",
       "│   ├── Get acrylic paints and brushes.\n",
       "│   ├── L7\n",
       "│   │   ├── Sounds.\n",
       "│   │   ├── Breastplates.\n",
       "│   │   ├── Ritual Cleansing self.\n",
       "│   │   ├── Talisman.\n",
       "│   │   └── Ritual cleansing space.\n",
       "│   ├── Seal exercise.\n",
       "│   ├── Visit to verify.\n",
       "│   ├── Create a new repository\n",
       "│   │   └── Come up with a name for the repository.\n",
       "│   ├── Mcd’s.\n",
       "│   ├── 1 inch squares\n",
       "│   ├── MET anterior inominate rotation correction.\n",
       "│   ├── Check in with everyone.\n",
       "│   ├── Get pendant.\n",
       "│   ├── Ten sessions of this.\n",
       "│   ├── Write Description of Tattoo\n",
       "│   ├── 1 inch pipe\n",
       "│   ├── why todoist fails.\n",
       "│   ├── Make altars\n",
       "│   │   ├── Figure out what to use.\n",
       "│   │   └── Label candles.\n",
       "│   ├── Readings.\n",
       "│   │   ├── Directional reading for city.\n",
       "│   │   ├── Energy in home.\n",
       "│   │   └── Directional reading for neighborhood.\n",
       "│   ├── Organize GitHub.\n",
       "│   ├── Create list to E-mail.\n",
       "│   ├── Collect Images.\n",
       "│   ├── Objects.\n",
       "│   ├── Have a place to put the public essay\n",
       "│   ├── First Game Scheduled\n",
       "│   ├── Memory exploration.\n",
       "│   ├── Shops\n",
       "│   ├── Exercise 3\n",
       "│   │   ├── Look around and make notes.\n",
       "│   │   └── Make map.\n",
       "│   ├── Meditate\n",
       "│   ├── Self painting\n",
       "│   │   └── Get charcoal\n",
       "│   ├── Write Area styles.\n",
       "│   ├── Code\n",
       "│   ├── Pay cleaners\n",
       "│   ├── L6\n",
       "│   ├── Smells.\n",
       "│   ├── Directional reading for each room.\n",
       "│   ├── Why Todoist is great\n",
       "│   ├── Visit to verify.\n",
       "│   ├── Blog Posts\n",
       "│   ├── Exercise 2\n",
       "│   │   └── Cafe\n",
       "│   ├── why GTD doesn't work for me.\n",
       "│   ├── Repeat in 1 week to check minor cards.\n",
       "│   ├── L2\n",
       "│   ├── L5\n",
       "│   │   └── Exercise 1.\n",
       "│   ├── Get bag of salt.\n",
       "│   ├── L8\n",
       "│   │   └── THE PENTAGRAM AND THE NATAL CHART\n",
       "│   ├── Stage 2 leave home.\n",
       "│   ├── Clothing.\n",
       "│   ├── Write Prospectus e-mail.\n",
       "│   ├── Test ritual activation.\n",
       "│   ├── Pick a planet.\n",
       "│   ├── Tool box\n",
       "│   ├── post the public essay\n",
       "│   ├── Stretches\n",
       "│   │   ├── Piriformis and Hip Stretch - Seated Faber Stretche\n",
       "│   │   └── Hip external rotation stretch - seated\n",
       "│   ├── Work with directions.\n",
       "│   │   └── Directional ritual 1/week. For 2 months.\n",
       "│   ├── Why taskwarrior is great\n",
       "│   ├── write the public essay\n",
       "│   │   └── why taskwarrior fails.\n",
       "│   ├── Order lamps shelves\n",
       "│   ├── 4 directional reading for home.\n",
       "│   ├── Thrift store.\n",
       "│   ├── Antique store.\n",
       "│   ├── Navigating a space.\n",
       "│   │   └── Stage one. Home.\n",
       "│   ├── 1inch column\n",
       "│   ├── Enchant pendant.\n",
       "│   ├── Ask about interaction with fluticasone\n",
       "│   ├── L3\n",
       "│   ├── Draw out your personal pentagram and put all of your natal planets around it.\n",
       "│   │   └── Pick another planet.\n",
       "│   ├── Everyday at 8:00 am yoga\n",
       "│   ├── Order cat thing\n",
       "│   ├── L4\n",
       "│   ├── Have a public essay.\n",
       "│   └── Study of materials\n",
       "├── Info Collection =\n",
       "├── Shared DVT Tasks\n",
       "│   ├── Create a script that sets time and date to review eclipse.\n",
       "│   └── [The Hitchhiker’s Guide to Python! — The Hitchhiker's Guide to \n",
       "│       Python](https://docs.python-guide.org/#writing-great-python-code)\n",
       "├── Food\n",
       "│   ├── ▪12g or 2 1/2t salt\n",
       "│   ├── 3 large carrots\n",
       "│   ├── ▪Juice of 1 lime\n",
       "│   ├── red wine\n",
       "│   ├── ▪10g or 2t garlic powder\n",
       "│   ├── ▪10g or 3 1/2t ground cumin\n",
       "│   ├── ▪100g or 1 large poblano\n",
       "│   ├── fresh thme\n",
       "│   ├── ▪10g or 3t onion powder\n",
       "│   ├── stalks celery\n",
       "│   ├── ▪1 large red onion\n",
       "│   ├── ▪2g or 1t black pepper\n",
       "│   ├── 2 tablespoons olive oil\n",
       "│   ├── tomato paste\n",
       "│   ├── worcestershire\n",
       "│   ├── ▪1g or 1/2t dried oregano\n",
       "│   ├── ▪450g bell peppers (1 large red, yellow, and orange bell)\n",
       "│   ├── garlic\n",
       "│   ├── ▪10g or 3 1/2t chili powder\n",
       "│   ├── 5 large shallots\n",
       "│   ├── ▪1g or 1t red pepper flakes\n",
       "│   ├── better than buliion beef\n",
       "│   ├── beef stock\n",
       "│   ├── 650g/1.5lbs boneless skinless chicken thighs\n",
       "│   └── pounds chuck roast\n",
       "├── Recommendations\n",
       "├── Trips\n",
       "├── Tasks:Personal\n",
       "│   ├── Sunday spend 1 hour working on deep dream\n",
       "│   ├── Build\n",
       "│   └── Select smart lock for HomeKit\n",
       "├── Quareia Module 1\n",
       "│   ├── Gateways Through Stone and Circle\n",
       "│   ├── Skinner\n",
       "│   ├── Module 1\n",
       "│   ├── Planets\n",
       "│   ├── Rankine\n",
       "│   │   └── Elements\n",
       "│   └── Explore Elemental Energies.\n",
       "├── Parking Lot\n",
       "│   ├── Planetarian Article\n",
       "│   ├── Trip to DC\n",
       "│   ├── Personal Web Page\n",
       "│   ├── Old Kobo Reuse.\n",
       "│   ├── Trip to Colorado\n",
       "│   ├── Learn physics information theory\n",
       "│   ├── New M Persona Online\n",
       "│   ├── New Professional Personal Online\n",
       "│   ├── GLPA Outreach Project\n",
       "│   ├── Learn to Draw\n",
       "│   ├── First BackPacking Trip\n",
       "│   ├── Kivy Pong Tutorial\n",
       "│   └── Learn GR\n",
       "├── Templates\n",
       "│   ├── Car Travel\n",
       "│   └── General Project\n",
       "├── Get deep dream working.\n",
       "├── Those slim shorts from the running site.\n",
       "├── Short Tights from Ten Thousand\n",
       "├── Install Inkbox baseline.\n",
       "│   ├── Boot\n",
       "│   ├── Flash New Card\n",
       "│   ├── Remove flash card.\n",
       "│   ├── Download inkbox\n",
       "│   ├── Make backup.\n",
       "│   └── Install\n",
       "├── Finish Quareia Module 1\n",
       "├── Lock for garage.\n",
       "├── Buy box for toys,\n",
       "├── Watch miracle mile\n",
       "├── Skill goals\n",
       "├── Conflict, Consistency and Truth-Dependencies in Graph Representations of Answer Set Logic Programs . . . . . . \n",
       "│   . . . . . . . . . . . . . . . . . . . . . . . . . . . . . . . 68 Stefania Costantini and Alessandro Provetti\n",
       "├── Knowledge Base Using Frames, Logic, and Propositional Graphs . . . . . . . . .\n",
       "├── Dye jeans\n",
       "├── Ruth Ozeki book\n",
       "├── Consider trying this.[Google Calendar Blocking - PomoDone \n",
       "│   Docs](https://docs.pomodoneapp.com/outbound-integrations/google-calendar-blocking)\n",
       "├── Reread and digest\n",
       "├── find out if conversions a possibility.\n",
       "├── Set up astrology visualization\n",
       "├── [Bomber Jacket Softolio | \n",
       "│   Levenger](https://www.levenger.com/stationery-notebooks-322/padfolios-23013/bomber-jacket-softolio-2.0-13635.as\n",
       "│   px)\n",
       "├── [Executive Zip Folio, Letter | \n",
       "│   Levenger](https://www.levenger.com/stationery-notebooks-322/padfolios-23013/executive-zip-folio-letter-13172.as\n",
       "│   px)\n",
       "├── Reading list.\n",
       "├── Do This\n",
       "├── [Gaming  and Systems/FU The Freeform Universal \n",
       "│   RPG.md](obsidian://open?vault=Knowledge%20Recording&amp;file=Gaming%20%20and%20Systems%2FFU%20The%20Freeform%20Univ\n",
       "│   ersal%20RPG.md)\n",
       "├── Install Kivy @Art\n",
       "├── Work through this.\n",
       "├── [Work Folio A5: Leather Folder, Folio &amp; Compendium | \n",
       "│   Bellroy](https://bellroy.com/products/work-folio-a5?color=graphite&amp;gclid=Cj0KCQjwjbyYBhCdARIsAArC6LKVylF5VAafRc\n",
       "│   EIoHvzthETeY-exrLSEwFdyQRQr7xc1Ut5uAbBg4oaAoe_EALw_wcB&amp;material=leather&amp;shipping_to_country=US&amp;size=a5default&amp;s\n",
       "│   tore_currency=1abe985632a1392e6a94b885fe193d5943b7c213#slide-8)\n",
       "├── [Order Your Dante Colle Adult Sex Toys at \n",
       "│   Fleshjack.com](https://www.fleshjack.com/collections/fleshjack-boys/products/dante-colle)\n",
       "├── [Order Your Diego Sans Male Adult Sex Toys at \n",
       "│   Fleshjack.com](https://www.fleshjack.com/collections/fleshjack-boys/products/diego-sans)\n",
       "├── Eagle feather singers\n",
       "├── Nix woodcraft\n",
       "├── Goliath RPG\n",
       "│   └── Find out what this is?\n",
       "├── [The Esoterrorists 2nd Edition - Pelgrane Press | Esoterrorists | \n",
       "│   DriveThruRPG.com](https://www.drivethrurpg.com/product/123154/The-Esoterrorists-2nd-Edition?affiliate_id=11172)\n",
       "├── [Last Exit (The Tom Doherty Associates Books): Gladstone, Max: 9780765335739: Amazon.com: \n",
       "│   Books](https://www.amazon.com/Last-Exit-Max-Gladstone/dp/0765335735)\n",
       "├── [Amazon.com: Demiurge: The Complete Cthulhu Mythos Tales of Michael Shea eBook : Shea, Michael, Alfrey, Aeron, \n",
       "│   Joshi, S. T.: Kindle \n",
       "│   Store](https://www.amazon.com/Demiurge-Complete-Cthulhu-Mythos-Michael-ebook/dp/B077TFK1Y6)\n",
       "├── [Night's Black Agents - Pelgrane Press | GUMSHOE System | Night's Black Agents | \n",
       "│   DriveThruRPG.com](https://www.drivethrurpg.com/product/106783/Nights-Black-Agents?affiliate_id=11172)\n",
       "├── [Trail of Cthulhu: Cthulhu City - Pelgrane Press | GUMSHOE System | Trail of Cthulhu | \n",
       "│   DriveThruRPG.com](https://www.drivethrurpg.com/product/240813/Trail-of-Cthulhu-Cthulhu-City?affiliate_id=11172)\n",
       "├── [DriveThruRPG.com - Monte Cook Games - Your Best Game Ever - The Largest RPG Download \n",
       "│   Store!](https://www.drivethrurpg.com/browse/pub/4952/Monte-Cook-Games/subcategory/33361/Your-Best-Game-Ever?aff\n",
       "│   iliate_id=11172)\n",
       "├── [Invisible Sun - Monte Cook Games | Invisible Sun | \n",
       "│   DriveThruRPG.com](https://www.drivethrurpg.com/product/267776/Invisible-Sun?affiliate_id=11172)\n",
       "├── [Blades in the Dark - One Seven | \n",
       "│   DriveThruRPG.com](https://www.drivethrurpg.com/product/170689/Blades-in-the-Dark?affiliate_id=11172)\n",
       "├── [The Arithmetic of Compassion](https://www.arithmeticofcompassion.org/)\n",
       "├── Serialization in python with pickle and hdf5\n",
       "├── best practice json and numpy\n",
       "├── Handling Memory in JSON and Python\n",
       "├── Probably not going to use this but put into obsidian\n",
       "├── Buy toolboxes\n",
       "├── Read about virtualenv and virtualenv-wrapper (these are Python packages.)\n",
       "├── Read about pyenv and multiple python installs (this is a brew package.)\n",
       "├── create a virtualenv\n",
       "├── install ipython and jupyter lab\n",
       "├── Read hitchiker's guide to pyhton\n",
       "├── Git learning\n",
       "├── Big Bag\n",
       "│   ├── Tiny Bag\n",
       "│   ├── Workout Clothes\n",
       "│   ├── Jeans\n",
       "│   ├── Little Bag\n",
       "│   └── Nice Clothes\n",
       "├── Backpack\n",
       "│   └── Toiletries Bag\n",
       "├── Meds\n",
       "├── Painkiller\n",
       "├── Deoderant\n",
       "├── Toothpaste\n",
       "├── Toothbrush\n",
       "├── LIghtening Charger\n",
       "├── USB Charger\n",
       "├── Self\n",
       "│   └── Wallet\n",
       "├── Spare Glasses\n",
       "├── [What are Modular Forms?. The Strange Functions Used to Solve… | by Matthew Ward | Cantor’s \n",
       "│   Paradise](https://www.cantorsparadise.com/what-are-modular-forms-6d19c9547b2)\n",
       "├── Whistling Vivaldi\n",
       "├── [Earth's magnetic field is the spookiest thing you've ever heard - \n",
       "│   Inverse](https://apple.news/AMnc4J-ryT_-g5s0iQteb2g)\n",
       "├── Article on shuffling and randomness.\n",
       "├── Eclipse science\n",
       "├── do cable reimbursement\n",
       "├── The owl house\n",
       "├── Rob Roy final scene\n",
       "├── Stop xpass in budget system\n",
       "├── Setup windows boot option.\n",
       "├── A dark song movie\n",
       "├── read this.\n",
       "├── Read this.\n",
       "├── go back to old tables and build the motions of mars.\n",
       "├── [By creating a mathematical wormhole, some scientists think they might have solved gravity’s biggest mystery — \n",
       "│   BBC Science Focus Magazine](https://apple.news/AkLR-X6mYQhiVybDosAPkYg)\n",
       "├── PHASE Begin\n",
       "├── PHASE Due\n",
       "├── PHASE Begin\n",
       "├── PHASE Due\n",
       "├── PHASE Begin\n",
       "├── PHASE Due\n",
       "├── PHASE Begin\n",
       "├── PHASE Due\n",
       "├── Collect Sources\n",
       "├── Get Dates on Calendar\n",
       "├── Estimate Work\n",
       "├── The Raid 2\n",
       "├── Tick tick boom\n",
       "├── Torn and Fried Potatoes\n",
       "├── Brian Lagerstrom Shepherd's Pie\n",
       "├── Red Bag\n",
       "├── Get Key to Madeline\n",
       "├── Cheney McKnight. Not your momma’s history.\n",
       "├── Via format\n",
       "├── Django unchained\n",
       "├── [Supplement Ratings and Reviews - Labdoor](http://Labdoor.com)\n",
       "├── [Type Anatomy: A Visual Guide to the Parts of Letters](https://visme.co/blog/type-anatomy/)\n",
       "├── Fix rune tests\n",
       "├── Get Tattoo\n",
       "├── Clean upstairs ac filter\n",
       "├── * Carbs\n",
       "├── * Protein\n",
       "├── Fritatta\n",
       "├── Indian chicken\n",
       "├── Review E-mail\n",
       "├── Respond regarding Slavery and Planetariums. =\n",
       "├── Mind Body Health =\n",
       "├── Life Management Project\n",
       "├── Order ridge wallet\n",
       "├── Susan sampsell\n",
       "├── Change filter for water softener\n",
       "├── My Own Task Philosophy\n",
       "├── Seattle Game\n",
       "├── Tower Builders\n",
       "├── Online Home for Posting.\n",
       "├── Mage in Cortex Prime\n",
       "├── Finish Quareia module one\n",
       "├── Serve as I and O Officer\n",
       "├── [Sheet Pan Fajitas — Brian Lagerstrom](https://www.brianlagerstrom.com/recipes/sheet-pan-fajitas)\n",
       "├── 1919 eclipse research.\n",
       "├── Respond [Intro/visit - kdavis10@nd.edu - University of Notre Dame \n",
       "│   Mail](https://mail.google.com/mail/u/0/#inbox/FMfcgzGtwqKshcbNLjtfxZBtrGCxhwxM)\n",
       "├── Procrastination chapter cognitive model if adhd.\n",
       "├── Website\n",
       "├── Astral work\n",
       "├── Buy necklace\n",
       "├── job request (https://job request)\n",
       "├── Security Awareness training.\n",
       "├── House Stuff\n",
       "├── Breathe Time\n",
       "├── New Life\n",
       "├── Calendar egg zoomable round view of the year where I can put what’s happening linked to google calendar.\n",
       "├── Better Hips\n",
       "├── david leverton 2507023101 Phone Call.\n",
       "├── EDGES\n",
       "├── April Eclipse Events\n",
       "├── Request for safety two shows one evening one daytime. group Carianne Neslee\n",
       "├── Ingo swann\n",
       "├── itraconazole medication\n",
       "├── Personal toyss\n",
       "├── Hanging\n",
       "├── figure out how to communicate with margot \n",
       "│   (https://mail.google.com/mail/u/0/#inbox/FMfcgzGwHpbcCrTBFDhfcJrrBNBXPRxK)\n",
       "├── order lamps\n",
       "├── send links about conference stuff to sara\n",
       "├── Frontier Nuclear talk public communication.\n",
       "├── Picture and nuclear frontiers talk DEADLINE\n",
       "├── Silicones\n",
       "├── Sophie Scott brown anarchy\n",
       "├── watch \"Alone\"\n",
       "├── https://iopscience.iop.org/article/10.1088/1361-6382/aba4bc\n",
       "├── Look over supplier reference form\n",
       "├── show request https://mail.google.com/mail/u/1/#inbox/FMfcgzGwJJgzmpPZwRqfNDFHjZwVKtlf\n",
       "├── Brian Lagerstrom Pot Roast\n",
       "├── Fiber\n",
       "├── Frozen fruit\n",
       "├── Rogues\n",
       "├── Say nithing\n",
       "├── Reorganize Todoist: calendar projects are just the connection between events and the todo system.\n",
       "├── Reorg: write a tool that adds labels based on keywords etc.\n",
       "├── Order this https://mail.google.com/mail/u/0/#inbox/FMfcgzGwJcgnGFKcdGCSMrqxjDsrmqzq\n",
       "├── stephen reccs\n",
       "├── Reply https://mail.google.com/mail/u/0/#inbox/FMfcgzGwJcgmvpZpwshqDSMpDBpWvZMS\n",
       "├── read academic generative AI stuff.\n",
       "├── [4/8 Eclipse planning updates - kdavis10@nd.edu - University of Notre Dame \n",
       "│   Mail](https://mail.google.com/mail/u/0/#inbox/FMfcgzGwHxvtPZzsDmSGSwvLfkKDGklX) Reply to deanna about eclipse \n",
       "│   stuff.\n",
       "└── read this https://mail.google.com/mail/u/0/#inbox/FMfcgzGwJckFqjVRRRBKqfZBnHRDfGbg\n",
       "</pre>\n"
      ],
      "text/plain": [
       "allgraph\n",
       "├── Inbox\n",
       "│   ├── (https://mail.google.com/mail/u/0/#inbox/FMfcgzGwJcgnPXRFrqwQhLVNFlqbPLKp) REU Illinois\n",
       "│   ├── Ecoflex 00-10\n",
       "│   ├── DS 20\n",
       "│   ├── Ecoflex gel\n",
       "│   └── Ecoflex 5\n",
       "├── Main Work =\n",
       "│   ├── Roadmap for time river\n",
       "│   │   ├── create networkx network of all projects and tasks names only (shouldn't require convert yet.)\n",
       "│   │   ├── automate adding links to shows to send shows e-mail.\n",
       "│   │   ├── LIfe Management Planning Phase\n",
       "│   │   ├── Create a `Todoist-convert` module\n",
       "│   │   └── Todoist features module\n",
       "│   ├── find duties for I And O chair and set up a way to meet each of them.\n",
       "│   ├── handbook stuff.\n",
       "│   │   ├── research training for geivance stuff for conferences.\n",
       "│   │   ├── Privacy policy for communications with me.\n",
       "│   │   └── Spend 30 minutes on handbook plan\n",
       "│   ├── Distance Data plot 3d\n",
       "│   ├── Get data on the population that we “serve” in the midwest. Regarding people of color.\n",
       "│   ├── safety beat for safety message carrianne nisley\n",
       "│   ├── Determine Response\n",
       "│   ├── [Todoist task: Online Home for Posting.](https://todoist.com/showTask?id=7132486790)\n",
       "│   │   ├── Can domain point to synology and to github?\n",
       "│   │   └── Buy domain name.\n",
       "│   ├── Gather data on github workflow for teams.\n",
       "│   ├── (https://www.indeed.com/hire/c/info/grievance-procedures-for-a-workplace)\n",
       "│   ├── Private place for people to let the executive committee know about concerns.\n",
       "│   ├── Handbook\n",
       "│   ├── Committee of Asvisors\n",
       "│   ├── [Effective Grievance Handling: The Employer's Ultimate \n",
       "│   │   Guide](https://www.i-sight.com/resources/effective-grievance-handling-the-ultimate-guide-for-employers/)\n",
       "│   ├── Create Response\n",
       "│   ├── Another Meeting\n",
       "│   ├── [Underground Railroad Quilt Codes: What We Know, What We Believe, and What Inspires \n",
       "│   │   Us](https://folklife.si.edu/magazine/underground-railroad-quilt-codes)\n",
       "│   ├── Place for people to let me know about concerns.\n",
       "│   ├── Find a historian to do the drinking gourd conversation.\n",
       "│   ├── Distance data plot as xarray\n",
       "│   ├── (https://www.shrm.org/resourcesandtools/tools-and-samples/hr-qa/pages/aresolutionformanagementandemployees.\n",
       "│   │   aspx)\n",
       "│   ├── Distance Data plot color.\n",
       "│   ├── Write down how Data will be held in Neorg.\n",
       "│   ├── Prep Sara for I & O Officer\n",
       "│   ├── Tasks are schedules for a time between them and another task.\n",
       "│   ├── [Training - NTEU Grievance Processing Handbook](https://www.nteu282.com/training/06grvan1.html)\n",
       "│   ├── picture and bio to Nuclear Frotiers talk \n",
       "│   │   (https://mail.google.com/mail/u/0/#inbox/FMfcgzGwHfqVxTqqwQfFMXnncfjKkTlW)\n",
       "│   ├── Check out drinking gourd early songs.\n",
       "│   ├── Check on Location\n",
       "│   ├── Prep standards document for putting data on Zenodo.\n",
       "│   ├── Set up meeting with Deanna\n",
       "│   ├── Make repo of Plot Code.\n",
       "│   ├── Connections between Neorg and Todoist.\n",
       "│   ├── Consider whether we want to allow sales of tickets. Make-a-wish\n",
       "│   ├── look into grievance stuff\n",
       "│   ├── Dataflow Sketch\n",
       "│   └── Links to other tasks may require autocomplete?\n",
       "├── Main Personal =\n",
       "│   ├── Half Kneeling Stretch\n",
       "│   ├── Review System\n",
       "│   ├── Get white cloths.\n",
       "│   ├── Label white cloths.\n",
       "│   ├── Pentagram research task.\n",
       "│   ├── Get acrylic paints and brushes.\n",
       "│   ├── L7\n",
       "│   │   ├── Sounds.\n",
       "│   │   ├── Breastplates.\n",
       "│   │   ├── Ritual Cleansing self.\n",
       "│   │   ├── Talisman.\n",
       "│   │   └── Ritual cleansing space.\n",
       "│   ├── Seal exercise.\n",
       "│   ├── Visit to verify.\n",
       "│   ├── Create a new repository\n",
       "│   │   └── Come up with a name for the repository.\n",
       "│   ├── Mcd’s.\n",
       "│   ├── 1 inch squares\n",
       "│   ├── MET anterior inominate rotation correction.\n",
       "│   ├── Check in with everyone.\n",
       "│   ├── Get pendant.\n",
       "│   ├── Ten sessions of this.\n",
       "│   ├── Write Description of Tattoo\n",
       "│   ├── 1 inch pipe\n",
       "│   ├── why todoist fails.\n",
       "│   ├── Make altars\n",
       "│   │   ├── Figure out what to use.\n",
       "│   │   └── Label candles.\n",
       "│   ├── Readings.\n",
       "│   │   ├── Directional reading for city.\n",
       "│   │   ├── Energy in home.\n",
       "│   │   └── Directional reading for neighborhood.\n",
       "│   ├── Organize GitHub.\n",
       "│   ├── Create list to E-mail.\n",
       "│   ├── Collect Images.\n",
       "│   ├── Objects.\n",
       "│   ├── Have a place to put the public essay\n",
       "│   ├── First Game Scheduled\n",
       "│   ├── Memory exploration.\n",
       "│   ├── Shops\n",
       "│   ├── Exercise 3\n",
       "│   │   ├── Look around and make notes.\n",
       "│   │   └── Make map.\n",
       "│   ├── Meditate\n",
       "│   ├── Self painting\n",
       "│   │   └── Get charcoal\n",
       "│   ├── Write Area styles.\n",
       "│   ├── Code\n",
       "│   ├── Pay cleaners\n",
       "│   ├── L6\n",
       "│   ├── Smells.\n",
       "│   ├── Directional reading for each room.\n",
       "│   ├── Why Todoist is great\n",
       "│   ├── Visit to verify.\n",
       "│   ├── Blog Posts\n",
       "│   ├── Exercise 2\n",
       "│   │   └── Cafe\n",
       "│   ├── why GTD doesn't work for me.\n",
       "│   ├── Repeat in 1 week to check minor cards.\n",
       "│   ├── L2\n",
       "│   ├── L5\n",
       "│   │   └── Exercise 1.\n",
       "│   ├── Get bag of salt.\n",
       "│   ├── L8\n",
       "│   │   └── THE PENTAGRAM AND THE NATAL CHART\n",
       "│   ├── Stage 2 leave home.\n",
       "│   ├── Clothing.\n",
       "│   ├── Write Prospectus e-mail.\n",
       "│   ├── Test ritual activation.\n",
       "│   ├── Pick a planet.\n",
       "│   ├── Tool box\n",
       "│   ├── post the public essay\n",
       "│   ├── Stretches\n",
       "│   │   ├── Piriformis and Hip Stretch - Seated Faber Stretche\n",
       "│   │   └── Hip external rotation stretch - seated\n",
       "│   ├── Work with directions.\n",
       "│   │   └── Directional ritual 1/week. For 2 months.\n",
       "│   ├── Why taskwarrior is great\n",
       "│   ├── write the public essay\n",
       "│   │   └── why taskwarrior fails.\n",
       "│   ├── Order lamps shelves\n",
       "│   ├── 4 directional reading for home.\n",
       "│   ├── Thrift store.\n",
       "│   ├── Antique store.\n",
       "│   ├── Navigating a space.\n",
       "│   │   └── Stage one. Home.\n",
       "│   ├── 1inch column\n",
       "│   ├── Enchant pendant.\n",
       "│   ├── Ask about interaction with fluticasone\n",
       "│   ├── L3\n",
       "│   ├── Draw out your personal pentagram and put all of your natal planets around it.\n",
       "│   │   └── Pick another planet.\n",
       "│   ├── Everyday at 8:00 am yoga\n",
       "│   ├── Order cat thing\n",
       "│   ├── L4\n",
       "│   ├── Have a public essay.\n",
       "│   └── Study of materials\n",
       "├── Info Collection =\n",
       "├── Shared DVT Tasks\n",
       "│   ├── Create a script that sets time and date to review eclipse.\n",
       "│   └── [The Hitchhiker’s Guide to Python! — The Hitchhiker's Guide to \n",
       "│       Python](https://docs.python-guide.org/#writing-great-python-code)\n",
       "├── Food\n",
       "│   ├── ▪12g or 2 1/2t salt\n",
       "│   ├── 3 large carrots\n",
       "│   ├── ▪Juice of 1 lime\n",
       "│   ├── red wine\n",
       "│   ├── ▪10g or 2t garlic powder\n",
       "│   ├── ▪10g or 3 1/2t ground cumin\n",
       "│   ├── ▪100g or 1 large poblano\n",
       "│   ├── fresh thme\n",
       "│   ├── ▪10g or 3t onion powder\n",
       "│   ├── stalks celery\n",
       "│   ├── ▪1 large red onion\n",
       "│   ├── ▪2g or 1t black pepper\n",
       "│   ├── 2 tablespoons olive oil\n",
       "│   ├── tomato paste\n",
       "│   ├── worcestershire\n",
       "│   ├── ▪1g or 1/2t dried oregano\n",
       "│   ├── ▪450g bell peppers (1 large red, yellow, and orange bell)\n",
       "│   ├── garlic\n",
       "│   ├── ▪10g or 3 1/2t chili powder\n",
       "│   ├── 5 large shallots\n",
       "│   ├── ▪1g or 1t red pepper flakes\n",
       "│   ├── better than buliion beef\n",
       "│   ├── beef stock\n",
       "│   ├── 650g/1.5lbs boneless skinless chicken thighs\n",
       "│   └── pounds chuck roast\n",
       "├── Recommendations\n",
       "├── Trips\n",
       "├── Tasks:Personal\n",
       "│   ├── Sunday spend 1 hour working on deep dream\n",
       "│   ├── Build\n",
       "│   └── Select smart lock for HomeKit\n",
       "├── Quareia Module 1\n",
       "│   ├── Gateways Through Stone and Circle\n",
       "│   ├── Skinner\n",
       "│   ├── Module 1\n",
       "│   ├── Planets\n",
       "│   ├── Rankine\n",
       "│   │   └── Elements\n",
       "│   └── Explore Elemental Energies.\n",
       "├── Parking Lot\n",
       "│   ├── Planetarian Article\n",
       "│   ├── Trip to DC\n",
       "│   ├── Personal Web Page\n",
       "│   ├── Old Kobo Reuse.\n",
       "│   ├── Trip to Colorado\n",
       "│   ├── Learn physics information theory\n",
       "│   ├── New M Persona Online\n",
       "│   ├── New Professional Personal Online\n",
       "│   ├── GLPA Outreach Project\n",
       "│   ├── Learn to Draw\n",
       "│   ├── First BackPacking Trip\n",
       "│   ├── Kivy Pong Tutorial\n",
       "│   └── Learn GR\n",
       "├── Templates\n",
       "│   ├── Car Travel\n",
       "│   └── General Project\n",
       "├── Get deep dream working.\n",
       "├── Those slim shorts from the running site.\n",
       "├── Short Tights from Ten Thousand\n",
       "├── Install Inkbox baseline.\n",
       "│   ├── Boot\n",
       "│   ├── Flash New Card\n",
       "│   ├── Remove flash card.\n",
       "│   ├── Download inkbox\n",
       "│   ├── Make backup.\n",
       "│   └── Install\n",
       "├── Finish Quareia Module 1\n",
       "├── Lock for garage.\n",
       "├── Buy box for toys,\n",
       "├── Watch miracle mile\n",
       "├── Skill goals\n",
       "├── Conflict, Consistency and Truth-Dependencies in Graph Representations of Answer Set Logic Programs . . . . . . \n",
       "│   . . . . . . . . . . . . . . . . . . . . . . . . . . . . . . . 68 Stefania Costantini and Alessandro Provetti\n",
       "├── Knowledge Base Using Frames, Logic, and Propositional Graphs . . . . . . . . .\n",
       "├── Dye jeans\n",
       "├── Ruth Ozeki book\n",
       "├── Consider trying this.[Google Calendar Blocking - PomoDone \n",
       "│   Docs](https://docs.pomodoneapp.com/outbound-integrations/google-calendar-blocking)\n",
       "├── Reread and digest\n",
       "├── find out if conversions a possibility.\n",
       "├── Set up astrology visualization\n",
       "├── [Bomber Jacket Softolio | \n",
       "│   Levenger](https://www.levenger.com/stationery-notebooks-322/padfolios-23013/bomber-jacket-softolio-2.0-13635.as\n",
       "│   px)\n",
       "├── [Executive Zip Folio, Letter | \n",
       "│   Levenger](https://www.levenger.com/stationery-notebooks-322/padfolios-23013/executive-zip-folio-letter-13172.as\n",
       "│   px)\n",
       "├── Reading list.\n",
       "├── Do This\n",
       "├── [Gaming  and Systems/FU The Freeform Universal \n",
       "│   RPG.md](obsidian://open?vault=Knowledge%20Recording&file=Gaming%20%20and%20Systems%2FFU%20The%20Freeform%20Univ\n",
       "│   ersal%20RPG.md)\n",
       "├── Install Kivy @Art\n",
       "├── Work through this.\n",
       "├── [Work Folio A5: Leather Folder, Folio & Compendium | \n",
       "│   Bellroy](https://bellroy.com/products/work-folio-a5?color=graphite&gclid=Cj0KCQjwjbyYBhCdARIsAArC6LKVylF5VAafRc\n",
       "│   EIoHvzthETeY-exrLSEwFdyQRQr7xc1Ut5uAbBg4oaAoe_EALw_wcB&material=leather&shipping_to_country=US&size=a5default&s\n",
       "│   tore_currency=1abe985632a1392e6a94b885fe193d5943b7c213#slide-8)\n",
       "├── [Order Your Dante Colle Adult Sex Toys at \n",
       "│   Fleshjack.com](https://www.fleshjack.com/collections/fleshjack-boys/products/dante-colle)\n",
       "├── [Order Your Diego Sans Male Adult Sex Toys at \n",
       "│   Fleshjack.com](https://www.fleshjack.com/collections/fleshjack-boys/products/diego-sans)\n",
       "├── Eagle feather singers\n",
       "├── Nix woodcraft\n",
       "├── Goliath RPG\n",
       "│   └── Find out what this is?\n",
       "├── [The Esoterrorists 2nd Edition - Pelgrane Press | Esoterrorists | \n",
       "│   DriveThruRPG.com](https://www.drivethrurpg.com/product/123154/The-Esoterrorists-2nd-Edition?affiliate_id=11172)\n",
       "├── [Last Exit (The Tom Doherty Associates Books): Gladstone, Max: 9780765335739: Amazon.com: \n",
       "│   Books](https://www.amazon.com/Last-Exit-Max-Gladstone/dp/0765335735)\n",
       "├── [Amazon.com: Demiurge: The Complete Cthulhu Mythos Tales of Michael Shea eBook : Shea, Michael, Alfrey, Aeron, \n",
       "│   Joshi, S. T.: Kindle \n",
       "│   Store](https://www.amazon.com/Demiurge-Complete-Cthulhu-Mythos-Michael-ebook/dp/B077TFK1Y6)\n",
       "├── [Night's Black Agents - Pelgrane Press | GUMSHOE System | Night's Black Agents | \n",
       "│   DriveThruRPG.com](https://www.drivethrurpg.com/product/106783/Nights-Black-Agents?affiliate_id=11172)\n",
       "├── [Trail of Cthulhu: Cthulhu City - Pelgrane Press | GUMSHOE System | Trail of Cthulhu | \n",
       "│   DriveThruRPG.com](https://www.drivethrurpg.com/product/240813/Trail-of-Cthulhu-Cthulhu-City?affiliate_id=11172)\n",
       "├── [DriveThruRPG.com - Monte Cook Games - Your Best Game Ever - The Largest RPG Download \n",
       "│   Store!](https://www.drivethrurpg.com/browse/pub/4952/Monte-Cook-Games/subcategory/33361/Your-Best-Game-Ever?aff\n",
       "│   iliate_id=11172)\n",
       "├── [Invisible Sun - Monte Cook Games | Invisible Sun | \n",
       "│   DriveThruRPG.com](https://www.drivethrurpg.com/product/267776/Invisible-Sun?affiliate_id=11172)\n",
       "├── [Blades in the Dark - One Seven | \n",
       "│   DriveThruRPG.com](https://www.drivethrurpg.com/product/170689/Blades-in-the-Dark?affiliate_id=11172)\n",
       "├── [The Arithmetic of Compassion](https://www.arithmeticofcompassion.org/)\n",
       "├── Serialization in python with pickle and hdf5\n",
       "├── best practice json and numpy\n",
       "├── Handling Memory in JSON and Python\n",
       "├── Probably not going to use this but put into obsidian\n",
       "├── Buy toolboxes\n",
       "├── Read about virtualenv and virtualenv-wrapper (these are Python packages.)\n",
       "├── Read about pyenv and multiple python installs (this is a brew package.)\n",
       "├── create a virtualenv\n",
       "├── install ipython and jupyter lab\n",
       "├── Read hitchiker's guide to pyhton\n",
       "├── Git learning\n",
       "├── Big Bag\n",
       "│   ├── Tiny Bag\n",
       "│   ├── Workout Clothes\n",
       "│   ├── Jeans\n",
       "│   ├── Little Bag\n",
       "│   └── Nice Clothes\n",
       "├── Backpack\n",
       "│   └── Toiletries Bag\n",
       "├── Meds\n",
       "├── Painkiller\n",
       "├── Deoderant\n",
       "├── Toothpaste\n",
       "├── Toothbrush\n",
       "├── LIghtening Charger\n",
       "├── USB Charger\n",
       "├── Self\n",
       "│   └── Wallet\n",
       "├── Spare Glasses\n",
       "├── [What are Modular Forms?. The Strange Functions Used to Solve… | by Matthew Ward | Cantor’s \n",
       "│   Paradise](https://www.cantorsparadise.com/what-are-modular-forms-6d19c9547b2)\n",
       "├── Whistling Vivaldi\n",
       "├── [Earth's magnetic field is the spookiest thing you've ever heard - \n",
       "│   Inverse](https://apple.news/AMnc4J-ryT_-g5s0iQteb2g)\n",
       "├── Article on shuffling and randomness.\n",
       "├── Eclipse science\n",
       "├── do cable reimbursement\n",
       "├── The owl house\n",
       "├── Rob Roy final scene\n",
       "├── Stop xpass in budget system\n",
       "├── Setup windows boot option.\n",
       "├── A dark song movie\n",
       "├── read this.\n",
       "├── Read this.\n",
       "├── go back to old tables and build the motions of mars.\n",
       "├── [By creating a mathematical wormhole, some scientists think they might have solved gravity’s biggest mystery — \n",
       "│   BBC Science Focus Magazine](https://apple.news/AkLR-X6mYQhiVybDosAPkYg)\n",
       "├── PHASE Begin\n",
       "├── PHASE Due\n",
       "├── PHASE Begin\n",
       "├── PHASE Due\n",
       "├── PHASE Begin\n",
       "├── PHASE Due\n",
       "├── PHASE Begin\n",
       "├── PHASE Due\n",
       "├── Collect Sources\n",
       "├── Get Dates on Calendar\n",
       "├── Estimate Work\n",
       "├── The Raid 2\n",
       "├── Tick tick boom\n",
       "├── Torn and Fried Potatoes\n",
       "├── Brian Lagerstrom Shepherd's Pie\n",
       "├── Red Bag\n",
       "├── Get Key to Madeline\n",
       "├── Cheney McKnight. Not your momma’s history.\n",
       "├── Via format\n",
       "├── Django unchained\n",
       "├── [Supplement Ratings and Reviews - Labdoor](http://Labdoor.com)\n",
       "├── [Type Anatomy: A Visual Guide to the Parts of Letters](https://visme.co/blog/type-anatomy/)\n",
       "├── Fix rune tests\n",
       "├── Get Tattoo\n",
       "├── Clean upstairs ac filter\n",
       "├── * Carbs\n",
       "├── * Protein\n",
       "├── Fritatta\n",
       "├── Indian chicken\n",
       "├── Review E-mail\n",
       "├── Respond regarding Slavery and Planetariums. =\n",
       "├── Mind Body Health =\n",
       "├── Life Management Project\n",
       "├── Order ridge wallet\n",
       "├── Susan sampsell\n",
       "├── Change filter for water softener\n",
       "├── My Own Task Philosophy\n",
       "├── Seattle Game\n",
       "├── Tower Builders\n",
       "├── Online Home for Posting.\n",
       "├── Mage in Cortex Prime\n",
       "├── Finish Quareia module one\n",
       "├── Serve as I and O Officer\n",
       "├── [Sheet Pan Fajitas — Brian Lagerstrom](https://www.brianlagerstrom.com/recipes/sheet-pan-fajitas)\n",
       "├── 1919 eclipse research.\n",
       "├── Respond [Intro/visit - kdavis10@nd.edu - University of Notre Dame \n",
       "│   Mail](https://mail.google.com/mail/u/0/#inbox/FMfcgzGtwqKshcbNLjtfxZBtrGCxhwxM)\n",
       "├── Procrastination chapter cognitive model if adhd.\n",
       "├── Website\n",
       "├── Astral work\n",
       "├── Buy necklace\n",
       "├── job request (https://job request)\n",
       "├── Security Awareness training.\n",
       "├── House Stuff\n",
       "├── Breathe Time\n",
       "├── New Life\n",
       "├── Calendar egg zoomable round view of the year where I can put what’s happening linked to google calendar.\n",
       "├── Better Hips\n",
       "├── david leverton 2507023101 Phone Call.\n",
       "├── EDGES\n",
       "├── April Eclipse Events\n",
       "├── Request for safety two shows one evening one daytime. group Carianne Neslee\n",
       "├── Ingo swann\n",
       "├── itraconazole medication\n",
       "├── Personal toyss\n",
       "├── Hanging\n",
       "├── figure out how to communicate with margot \n",
       "│   (https://mail.google.com/mail/u/0/#inbox/FMfcgzGwHpbcCrTBFDhfcJrrBNBXPRxK)\n",
       "├── order lamps\n",
       "├── send links about conference stuff to sara\n",
       "├── Frontier Nuclear talk public communication.\n",
       "├── Picture and nuclear frontiers talk DEADLINE\n",
       "├── Silicones\n",
       "├── Sophie Scott brown anarchy\n",
       "├── watch \"Alone\"\n",
       "├── https://iopscience.iop.org/article/10.1088/1361-6382/aba4bc\n",
       "├── Look over supplier reference form\n",
       "├── show request https://mail.google.com/mail/u/1/#inbox/FMfcgzGwJJgzmpPZwRqfNDFHjZwVKtlf\n",
       "├── Brian Lagerstrom Pot Roast\n",
       "├── Fiber\n",
       "├── Frozen fruit\n",
       "├── Rogues\n",
       "├── Say nithing\n",
       "├── Reorganize Todoist: calendar projects are just the connection between events and the todo system.\n",
       "├── Reorg: write a tool that adds labels based on keywords etc.\n",
       "├── Order this https://mail.google.com/mail/u/0/#inbox/FMfcgzGwJcgnGFKcdGCSMrqxjDsrmqzq\n",
       "├── stephen reccs\n",
       "├── Reply https://mail.google.com/mail/u/0/#inbox/FMfcgzGwJcgmvpZpwshqDSMpDBpWvZMS\n",
       "├── read academic generative AI stuff.\n",
       "├── [4/8 Eclipse planning updates - kdavis10@nd.edu - University of Notre Dame \n",
       "│   Mail](https://mail.google.com/mail/u/0/#inbox/FMfcgzGwHxvtPZzsDmSGSwvLfkKDGklX) Reply to deanna about eclipse \n",
       "│   stuff.\n",
       "└── read this https://mail.google.com/mail/u/0/#inbox/FMfcgzGwJckFqjVRRRBKqfZBnHRDfGbg\n"
      ]
     },
     "metadata": {},
     "output_type": "display_data"
    }
   ],
   "source": [
    "t = diGraph_to_richTree(nx.reverse_view(allgraph), attr=[\"content\", \"name\"])\n",
    "print(t)"
   ]
  },
  {
   "cell_type": "code",
   "execution_count": 8,
   "id": "7512441d-b526-4f68-ada1-3308d8e23b10",
   "metadata": {},
   "outputs": [
    {
     "data": {
      "text/html": [
       "<pre style=\"white-space:pre;overflow-x:auto;line-height:normal;font-family:Menlo,'DejaVu Sans Mono',consolas,'Courier New',monospace\"><span style=\"color: #008080; text-decoration-color: #008080; font-weight: bold\">2310851168</span>\n",
       "</pre>\n"
      ],
      "text/plain": [
       "\u001b[1;36m2310851168\u001b[0m\n"
      ]
     },
     "metadata": {},
     "output_type": "display_data"
    },
    {
     "data": {
      "text/html": [
       "<pre style=\"white-space:pre;overflow-x:auto;line-height:normal;font-family:Menlo,'DejaVu Sans Mono',consolas,'Courier New',monospace\"><span style=\"color: #008080; text-decoration-color: #008080; font-weight: bold\">2310851168</span>\n",
       "</pre>\n"
      ],
      "text/plain": [
       "\u001b[1;36m2310851168\u001b[0m\n"
      ]
     },
     "metadata": {},
     "output_type": "display_data"
    },
    {
     "data": {
      "text/html": [
       "<pre style=\"white-space:pre;overflow-x:auto;line-height:normal;font-family:Menlo,'DejaVu Sans Mono',consolas,'Courier New',monospace\"><span style=\"color: #008080; text-decoration-color: #008080; font-weight: bold\">2310851168</span>\n",
       "</pre>\n"
      ],
      "text/plain": [
       "\u001b[1;36m2310851168\u001b[0m\n"
      ]
     },
     "metadata": {},
     "output_type": "display_data"
    },
    {
     "data": {
      "text/html": [
       "<pre style=\"white-space:pre;overflow-x:auto;line-height:normal;font-family:Menlo,'DejaVu Sans Mono',consolas,'Courier New',monospace\"><span style=\"color: #008080; text-decoration-color: #008080; font-weight: bold\">2310851168</span>\n",
       "</pre>\n"
      ],
      "text/plain": [
       "\u001b[1;36m2310851168\u001b[0m\n"
      ]
     },
     "metadata": {},
     "output_type": "display_data"
    },
    {
     "data": {
      "text/html": [
       "<pre style=\"white-space:pre;overflow-x:auto;line-height:normal;font-family:Menlo,'DejaVu Sans Mono',consolas,'Courier New',monospace\"><span style=\"color: #008080; text-decoration-color: #008080; font-weight: bold\">2310851168</span>\n",
       "</pre>\n"
      ],
      "text/plain": [
       "\u001b[1;36m2310851168\u001b[0m\n"
      ]
     },
     "metadata": {},
     "output_type": "display_data"
    },
    {
     "data": {
      "text/html": [
       "<pre style=\"white-space:pre;overflow-x:auto;line-height:normal;font-family:Menlo,'DejaVu Sans Mono',consolas,'Courier New',monospace\"><span style=\"color: #008080; text-decoration-color: #008080; font-weight: bold\">2286616706</span>\n",
       "</pre>\n"
      ],
      "text/plain": [
       "\u001b[1;36m2286616706\u001b[0m\n"
      ]
     },
     "metadata": {},
     "output_type": "display_data"
    },
    {
     "data": {
      "text/html": [
       "<pre style=\"white-space:pre;overflow-x:auto;line-height:normal;font-family:Menlo,'DejaVu Sans Mono',consolas,'Courier New',monospace\"><span style=\"color: #008080; text-decoration-color: #008080; font-weight: bold\">2286616706</span>\n",
       "</pre>\n"
      ],
      "text/plain": [
       "\u001b[1;36m2286616706\u001b[0m\n"
      ]
     },
     "metadata": {},
     "output_type": "display_data"
    },
    {
     "data": {
      "text/html": [
       "<pre style=\"white-space:pre;overflow-x:auto;line-height:normal;font-family:Menlo,'DejaVu Sans Mono',consolas,'Courier New',monospace\"><span style=\"color: #008080; text-decoration-color: #008080; font-weight: bold\">2286616706</span>\n",
       "</pre>\n"
      ],
      "text/plain": [
       "\u001b[1;36m2286616706\u001b[0m\n"
      ]
     },
     "metadata": {},
     "output_type": "display_data"
    },
    {
     "data": {
      "text/html": [
       "<pre style=\"white-space:pre;overflow-x:auto;line-height:normal;font-family:Menlo,'DejaVu Sans Mono',consolas,'Courier New',monospace\"><span style=\"color: #008080; text-decoration-color: #008080; font-weight: bold\">2286616706</span>\n",
       "</pre>\n"
      ],
      "text/plain": [
       "\u001b[1;36m2286616706\u001b[0m\n"
      ]
     },
     "metadata": {},
     "output_type": "display_data"
    },
    {
     "data": {
      "text/html": [
       "<pre style=\"white-space:pre;overflow-x:auto;line-height:normal;font-family:Menlo,'DejaVu Sans Mono',consolas,'Courier New',monospace\"><span style=\"color: #008080; text-decoration-color: #008080; font-weight: bold\">2291514648</span>\n",
       "</pre>\n"
      ],
      "text/plain": [
       "\u001b[1;36m2291514648\u001b[0m\n"
      ]
     },
     "metadata": {},
     "output_type": "display_data"
    },
    {
     "data": {
      "text/html": [
       "<pre style=\"white-space:pre;overflow-x:auto;line-height:normal;font-family:Menlo,'DejaVu Sans Mono',consolas,'Courier New',monospace\"><span style=\"color: #008080; text-decoration-color: #008080; font-weight: bold\">2291514648</span>\n",
       "</pre>\n"
      ],
      "text/plain": [
       "\u001b[1;36m2291514648\u001b[0m\n"
      ]
     },
     "metadata": {},
     "output_type": "display_data"
    },
    {
     "data": {
      "text/html": [
       "<pre style=\"white-space:pre;overflow-x:auto;line-height:normal;font-family:Menlo,'DejaVu Sans Mono',consolas,'Courier New',monospace\"><span style=\"color: #008080; text-decoration-color: #008080; font-weight: bold\">2291514648</span>\n",
       "</pre>\n"
      ],
      "text/plain": [
       "\u001b[1;36m2291514648\u001b[0m\n"
      ]
     },
     "metadata": {},
     "output_type": "display_data"
    },
    {
     "data": {
      "text/html": [
       "<pre style=\"white-space:pre;overflow-x:auto;line-height:normal;font-family:Menlo,'DejaVu Sans Mono',consolas,'Courier New',monospace\"><span style=\"color: #008080; text-decoration-color: #008080; font-weight: bold\">2291514648</span>\n",
       "</pre>\n"
      ],
      "text/plain": [
       "\u001b[1;36m2291514648\u001b[0m\n"
      ]
     },
     "metadata": {},
     "output_type": "display_data"
    },
    {
     "data": {
      "text/html": [
       "<pre style=\"white-space:pre;overflow-x:auto;line-height:normal;font-family:Menlo,'DejaVu Sans Mono',consolas,'Courier New',monospace\"><span style=\"color: #008080; text-decoration-color: #008080; font-weight: bold\">2291514648</span>\n",
       "</pre>\n"
      ],
      "text/plain": [
       "\u001b[1;36m2291514648\u001b[0m\n"
      ]
     },
     "metadata": {},
     "output_type": "display_data"
    },
    {
     "data": {
      "text/html": [
       "<pre style=\"white-space:pre;overflow-x:auto;line-height:normal;font-family:Menlo,'DejaVu Sans Mono',consolas,'Courier New',monospace\"><span style=\"color: #008080; text-decoration-color: #008080; font-weight: bold\">2291514648</span>\n",
       "</pre>\n"
      ],
      "text/plain": [
       "\u001b[1;36m2291514648\u001b[0m\n"
      ]
     },
     "metadata": {},
     "output_type": "display_data"
    },
    {
     "data": {
      "text/html": [
       "<pre style=\"white-space:pre;overflow-x:auto;line-height:normal;font-family:Menlo,'DejaVu Sans Mono',consolas,'Courier New',monospace\"><span style=\"color: #008080; text-decoration-color: #008080; font-weight: bold\">2291514648</span>\n",
       "</pre>\n"
      ],
      "text/plain": [
       "\u001b[1;36m2291514648\u001b[0m\n"
      ]
     },
     "metadata": {},
     "output_type": "display_data"
    },
    {
     "data": {
      "text/html": [
       "<pre style=\"white-space:pre;overflow-x:auto;line-height:normal;font-family:Menlo,'DejaVu Sans Mono',consolas,'Courier New',monospace\"><span style=\"color: #008080; text-decoration-color: #008080; font-weight: bold\">2316472127</span>\n",
       "</pre>\n"
      ],
      "text/plain": [
       "\u001b[1;36m2316472127\u001b[0m\n"
      ]
     },
     "metadata": {},
     "output_type": "display_data"
    },
    {
     "data": {
      "text/html": [
       "<pre style=\"white-space:pre;overflow-x:auto;line-height:normal;font-family:Menlo,'DejaVu Sans Mono',consolas,'Courier New',monospace\"><span style=\"color: #008080; text-decoration-color: #008080; font-weight: bold\">2316472127</span>\n",
       "</pre>\n"
      ],
      "text/plain": [
       "\u001b[1;36m2316472127\u001b[0m\n"
      ]
     },
     "metadata": {},
     "output_type": "display_data"
    },
    {
     "data": {
      "text/html": [
       "<pre style=\"white-space:pre;overflow-x:auto;line-height:normal;font-family:Menlo,'DejaVu Sans Mono',consolas,'Courier New',monospace\"><span style=\"color: #008080; text-decoration-color: #008080; font-weight: bold\">2316472127</span>\n",
       "</pre>\n"
      ],
      "text/plain": [
       "\u001b[1;36m2316472127\u001b[0m\n"
      ]
     },
     "metadata": {},
     "output_type": "display_data"
    },
    {
     "data": {
      "text/html": [
       "<pre style=\"white-space:pre;overflow-x:auto;line-height:normal;font-family:Menlo,'DejaVu Sans Mono',consolas,'Courier New',monospace\"><span style=\"color: #008080; text-decoration-color: #008080; font-weight: bold\">2316472127</span>\n",
       "</pre>\n"
      ],
      "text/plain": [
       "\u001b[1;36m2316472127\u001b[0m\n"
      ]
     },
     "metadata": {},
     "output_type": "display_data"
    },
    {
     "data": {
      "text/html": [
       "<pre style=\"white-space:pre;overflow-x:auto;line-height:normal;font-family:Menlo,'DejaVu Sans Mono',consolas,'Courier New',monospace\"><span style=\"color: #008080; text-decoration-color: #008080; font-weight: bold\">2316472127</span>\n",
       "</pre>\n"
      ],
      "text/plain": [
       "\u001b[1;36m2316472127\u001b[0m\n"
      ]
     },
     "metadata": {},
     "output_type": "display_data"
    },
    {
     "data": {
      "text/html": [
       "<pre style=\"white-space:pre;overflow-x:auto;line-height:normal;font-family:Menlo,'DejaVu Sans Mono',consolas,'Courier New',monospace\"><span style=\"color: #008080; text-decoration-color: #008080; font-weight: bold\">2316472127</span>\n",
       "</pre>\n"
      ],
      "text/plain": [
       "\u001b[1;36m2316472127\u001b[0m\n"
      ]
     },
     "metadata": {},
     "output_type": "display_data"
    },
    {
     "data": {
      "text/html": [
       "<pre style=\"white-space:pre;overflow-x:auto;line-height:normal;font-family:Menlo,'DejaVu Sans Mono',consolas,'Courier New',monospace\"><span style=\"color: #008080; text-decoration-color: #008080; font-weight: bold\">2316472127</span>\n",
       "</pre>\n"
      ],
      "text/plain": [
       "\u001b[1;36m2316472127\u001b[0m\n"
      ]
     },
     "metadata": {},
     "output_type": "display_data"
    },
    {
     "data": {
      "text/html": [
       "<pre style=\"white-space:pre;overflow-x:auto;line-height:normal;font-family:Menlo,'DejaVu Sans Mono',consolas,'Courier New',monospace\"><span style=\"color: #008080; text-decoration-color: #008080; font-weight: bold\">2316472127</span>\n",
       "</pre>\n"
      ],
      "text/plain": [
       "\u001b[1;36m2316472127\u001b[0m\n"
      ]
     },
     "metadata": {},
     "output_type": "display_data"
    },
    {
     "data": {
      "text/html": [
       "<pre style=\"white-space:pre;overflow-x:auto;line-height:normal;font-family:Menlo,'DejaVu Sans Mono',consolas,'Courier New',monospace\"><span style=\"color: #008080; text-decoration-color: #008080; font-weight: bold\">2316472127</span>\n",
       "</pre>\n"
      ],
      "text/plain": [
       "\u001b[1;36m2316472127\u001b[0m\n"
      ]
     },
     "metadata": {},
     "output_type": "display_data"
    },
    {
     "data": {
      "text/html": [
       "<pre style=\"white-space:pre;overflow-x:auto;line-height:normal;font-family:Menlo,'DejaVu Sans Mono',consolas,'Courier New',monospace\"><span style=\"color: #008080; text-decoration-color: #008080; font-weight: bold\">2316472127</span>\n",
       "</pre>\n"
      ],
      "text/plain": [
       "\u001b[1;36m2316472127\u001b[0m\n"
      ]
     },
     "metadata": {},
     "output_type": "display_data"
    },
    {
     "data": {
      "text/html": [
       "<pre style=\"white-space:pre;overflow-x:auto;line-height:normal;font-family:Menlo,'DejaVu Sans Mono',consolas,'Courier New',monospace\"><span style=\"color: #008080; text-decoration-color: #008080; font-weight: bold\">2316472127</span>\n",
       "</pre>\n"
      ],
      "text/plain": [
       "\u001b[1;36m2316472127\u001b[0m\n"
      ]
     },
     "metadata": {},
     "output_type": "display_data"
    },
    {
     "data": {
      "text/html": [
       "<pre style=\"white-space:pre;overflow-x:auto;line-height:normal;font-family:Menlo,'DejaVu Sans Mono',consolas,'Courier New',monospace\"><span style=\"color: #008080; text-decoration-color: #008080; font-weight: bold\">2316472127</span>\n",
       "</pre>\n"
      ],
      "text/plain": [
       "\u001b[1;36m2316472127\u001b[0m\n"
      ]
     },
     "metadata": {},
     "output_type": "display_data"
    },
    {
     "data": {
      "text/html": [
       "<pre style=\"white-space:pre;overflow-x:auto;line-height:normal;font-family:Menlo,'DejaVu Sans Mono',consolas,'Courier New',monospace\"><span style=\"color: #008080; text-decoration-color: #008080; font-weight: bold\">2316472127</span>\n",
       "</pre>\n"
      ],
      "text/plain": [
       "\u001b[1;36m2316472127\u001b[0m\n"
      ]
     },
     "metadata": {},
     "output_type": "display_data"
    },
    {
     "data": {
      "text/html": [
       "<pre style=\"white-space:pre;overflow-x:auto;line-height:normal;font-family:Menlo,'DejaVu Sans Mono',consolas,'Courier New',monospace\"><span style=\"color: #008080; text-decoration-color: #008080; font-weight: bold\">2316472127</span>\n",
       "</pre>\n"
      ],
      "text/plain": [
       "\u001b[1;36m2316472127\u001b[0m\n"
      ]
     },
     "metadata": {},
     "output_type": "display_data"
    },
    {
     "data": {
      "text/html": [
       "<pre style=\"white-space:pre;overflow-x:auto;line-height:normal;font-family:Menlo,'DejaVu Sans Mono',consolas,'Courier New',monospace\"><span style=\"color: #008080; text-decoration-color: #008080; font-weight: bold\">2316472127</span>\n",
       "</pre>\n"
      ],
      "text/plain": [
       "\u001b[1;36m2316472127\u001b[0m\n"
      ]
     },
     "metadata": {},
     "output_type": "display_data"
    },
    {
     "data": {
      "text/html": [
       "<pre style=\"white-space:pre;overflow-x:auto;line-height:normal;font-family:Menlo,'DejaVu Sans Mono',consolas,'Courier New',monospace\"><span style=\"color: #008080; text-decoration-color: #008080; font-weight: bold\">2316472127</span>\n",
       "</pre>\n"
      ],
      "text/plain": [
       "\u001b[1;36m2316472127\u001b[0m\n"
      ]
     },
     "metadata": {},
     "output_type": "display_data"
    },
    {
     "data": {
      "text/html": [
       "<pre style=\"white-space:pre;overflow-x:auto;line-height:normal;font-family:Menlo,'DejaVu Sans Mono',consolas,'Courier New',monospace\"><span style=\"color: #008080; text-decoration-color: #008080; font-weight: bold\">2316472127</span>\n",
       "</pre>\n"
      ],
      "text/plain": [
       "\u001b[1;36m2316472127\u001b[0m\n"
      ]
     },
     "metadata": {},
     "output_type": "display_data"
    },
    {
     "data": {
      "text/html": [
       "<pre style=\"white-space:pre;overflow-x:auto;line-height:normal;font-family:Menlo,'DejaVu Sans Mono',consolas,'Courier New',monospace\"><span style=\"color: #008080; text-decoration-color: #008080; font-weight: bold\">2316472127</span>\n",
       "</pre>\n"
      ],
      "text/plain": [
       "\u001b[1;36m2316472127\u001b[0m\n"
      ]
     },
     "metadata": {},
     "output_type": "display_data"
    },
    {
     "data": {
      "text/html": [
       "<pre style=\"white-space:pre;overflow-x:auto;line-height:normal;font-family:Menlo,'DejaVu Sans Mono',consolas,'Courier New',monospace\"><span style=\"color: #008080; text-decoration-color: #008080; font-weight: bold\">2316472127</span>\n",
       "</pre>\n"
      ],
      "text/plain": [
       "\u001b[1;36m2316472127\u001b[0m\n"
      ]
     },
     "metadata": {},
     "output_type": "display_data"
    },
    {
     "data": {
      "text/html": [
       "<pre style=\"white-space:pre;overflow-x:auto;line-height:normal;font-family:Menlo,'DejaVu Sans Mono',consolas,'Courier New',monospace\"><span style=\"color: #008080; text-decoration-color: #008080; font-weight: bold\">2316472127</span>\n",
       "</pre>\n"
      ],
      "text/plain": [
       "\u001b[1;36m2316472127\u001b[0m\n"
      ]
     },
     "metadata": {},
     "output_type": "display_data"
    },
    {
     "data": {
      "text/html": [
       "<pre style=\"white-space:pre;overflow-x:auto;line-height:normal;font-family:Menlo,'DejaVu Sans Mono',consolas,'Courier New',monospace\"><span style=\"color: #008080; text-decoration-color: #008080; font-weight: bold\">2316472127</span>\n",
       "</pre>\n"
      ],
      "text/plain": [
       "\u001b[1;36m2316472127\u001b[0m\n"
      ]
     },
     "metadata": {},
     "output_type": "display_data"
    },
    {
     "data": {
      "text/html": [
       "<pre style=\"white-space:pre;overflow-x:auto;line-height:normal;font-family:Menlo,'DejaVu Sans Mono',consolas,'Courier New',monospace\"><span style=\"color: #008080; text-decoration-color: #008080; font-weight: bold\">2316472127</span>\n",
       "</pre>\n"
      ],
      "text/plain": [
       "\u001b[1;36m2316472127\u001b[0m\n"
      ]
     },
     "metadata": {},
     "output_type": "display_data"
    },
    {
     "data": {
      "text/html": [
       "<pre style=\"white-space:pre;overflow-x:auto;line-height:normal;font-family:Menlo,'DejaVu Sans Mono',consolas,'Courier New',monospace\"><span style=\"color: #008080; text-decoration-color: #008080; font-weight: bold\">2316472127</span>\n",
       "</pre>\n"
      ],
      "text/plain": [
       "\u001b[1;36m2316472127\u001b[0m\n"
      ]
     },
     "metadata": {},
     "output_type": "display_data"
    },
    {
     "data": {
      "text/html": [
       "<pre style=\"white-space:pre;overflow-x:auto;line-height:normal;font-family:Menlo,'DejaVu Sans Mono',consolas,'Courier New',monospace\"><span style=\"color: #008080; text-decoration-color: #008080; font-weight: bold\">2316472127</span>\n",
       "</pre>\n"
      ],
      "text/plain": [
       "\u001b[1;36m2316472127\u001b[0m\n"
      ]
     },
     "metadata": {},
     "output_type": "display_data"
    },
    {
     "data": {
      "text/html": [
       "<pre style=\"white-space:pre;overflow-x:auto;line-height:normal;font-family:Menlo,'DejaVu Sans Mono',consolas,'Courier New',monospace\"><span style=\"color: #008080; text-decoration-color: #008080; font-weight: bold\">2316472127</span>\n",
       "</pre>\n"
      ],
      "text/plain": [
       "\u001b[1;36m2316472127\u001b[0m\n"
      ]
     },
     "metadata": {},
     "output_type": "display_data"
    },
    {
     "data": {
      "text/html": [
       "<pre style=\"white-space:pre;overflow-x:auto;line-height:normal;font-family:Menlo,'DejaVu Sans Mono',consolas,'Courier New',monospace\"><span style=\"color: #008080; text-decoration-color: #008080; font-weight: bold\">2316472127</span>\n",
       "</pre>\n"
      ],
      "text/plain": [
       "\u001b[1;36m2316472127\u001b[0m\n"
      ]
     },
     "metadata": {},
     "output_type": "display_data"
    },
    {
     "data": {
      "text/html": [
       "<pre style=\"white-space:pre;overflow-x:auto;line-height:normal;font-family:Menlo,'DejaVu Sans Mono',consolas,'Courier New',monospace\"><span style=\"color: #008080; text-decoration-color: #008080; font-weight: bold\">2316472127</span>\n",
       "</pre>\n"
      ],
      "text/plain": [
       "\u001b[1;36m2316472127\u001b[0m\n"
      ]
     },
     "metadata": {},
     "output_type": "display_data"
    },
    {
     "data": {
      "text/html": [
       "<pre style=\"white-space:pre;overflow-x:auto;line-height:normal;font-family:Menlo,'DejaVu Sans Mono',consolas,'Courier New',monospace\"><span style=\"color: #008080; text-decoration-color: #008080; font-weight: bold\">2316472127</span>\n",
       "</pre>\n"
      ],
      "text/plain": [
       "\u001b[1;36m2316472127\u001b[0m\n"
      ]
     },
     "metadata": {},
     "output_type": "display_data"
    },
    {
     "data": {
      "text/html": [
       "<pre style=\"white-space:pre;overflow-x:auto;line-height:normal;font-family:Menlo,'DejaVu Sans Mono',consolas,'Courier New',monospace\"><span style=\"color: #008080; text-decoration-color: #008080; font-weight: bold\">2316472127</span>\n",
       "</pre>\n"
      ],
      "text/plain": [
       "\u001b[1;36m2316472127\u001b[0m\n"
      ]
     },
     "metadata": {},
     "output_type": "display_data"
    },
    {
     "data": {
      "text/html": [
       "<pre style=\"white-space:pre;overflow-x:auto;line-height:normal;font-family:Menlo,'DejaVu Sans Mono',consolas,'Courier New',monospace\"><span style=\"color: #008080; text-decoration-color: #008080; font-weight: bold\">2316472127</span>\n",
       "</pre>\n"
      ],
      "text/plain": [
       "\u001b[1;36m2316472127\u001b[0m\n"
      ]
     },
     "metadata": {},
     "output_type": "display_data"
    },
    {
     "data": {
      "text/html": [
       "<pre style=\"white-space:pre;overflow-x:auto;line-height:normal;font-family:Menlo,'DejaVu Sans Mono',consolas,'Courier New',monospace\"><span style=\"color: #008080; text-decoration-color: #008080; font-weight: bold\">2316472127</span>\n",
       "</pre>\n"
      ],
      "text/plain": [
       "\u001b[1;36m2316472127\u001b[0m\n"
      ]
     },
     "metadata": {},
     "output_type": "display_data"
    },
    {
     "data": {
      "text/html": [
       "<pre style=\"white-space:pre;overflow-x:auto;line-height:normal;font-family:Menlo,'DejaVu Sans Mono',consolas,'Courier New',monospace\"><span style=\"color: #008080; text-decoration-color: #008080; font-weight: bold\">2316472127</span>\n",
       "</pre>\n"
      ],
      "text/plain": [
       "\u001b[1;36m2316472127\u001b[0m\n"
      ]
     },
     "metadata": {},
     "output_type": "display_data"
    },
    {
     "data": {
      "text/html": [
       "<pre style=\"white-space:pre;overflow-x:auto;line-height:normal;font-family:Menlo,'DejaVu Sans Mono',consolas,'Courier New',monospace\"><span style=\"color: #008080; text-decoration-color: #008080; font-weight: bold\">2316472127</span>\n",
       "</pre>\n"
      ],
      "text/plain": [
       "\u001b[1;36m2316472127\u001b[0m\n"
      ]
     },
     "metadata": {},
     "output_type": "display_data"
    },
    {
     "data": {
      "text/html": [
       "<pre style=\"white-space:pre;overflow-x:auto;line-height:normal;font-family:Menlo,'DejaVu Sans Mono',consolas,'Courier New',monospace\"><span style=\"color: #008080; text-decoration-color: #008080; font-weight: bold\">2316472127</span>\n",
       "</pre>\n"
      ],
      "text/plain": [
       "\u001b[1;36m2316472127\u001b[0m\n"
      ]
     },
     "metadata": {},
     "output_type": "display_data"
    },
    {
     "data": {
      "text/html": [
       "<pre style=\"white-space:pre;overflow-x:auto;line-height:normal;font-family:Menlo,'DejaVu Sans Mono',consolas,'Courier New',monospace\"><span style=\"color: #008080; text-decoration-color: #008080; font-weight: bold\">2316472127</span>\n",
       "</pre>\n"
      ],
      "text/plain": [
       "\u001b[1;36m2316472127\u001b[0m\n"
      ]
     },
     "metadata": {},
     "output_type": "display_data"
    },
    {
     "data": {
      "text/html": [
       "<pre style=\"white-space:pre;overflow-x:auto;line-height:normal;font-family:Menlo,'DejaVu Sans Mono',consolas,'Courier New',monospace\"><span style=\"color: #008080; text-decoration-color: #008080; font-weight: bold\">2316472127</span>\n",
       "</pre>\n"
      ],
      "text/plain": [
       "\u001b[1;36m2316472127\u001b[0m\n"
      ]
     },
     "metadata": {},
     "output_type": "display_data"
    },
    {
     "data": {
      "text/html": [
       "<pre style=\"white-space:pre;overflow-x:auto;line-height:normal;font-family:Menlo,'DejaVu Sans Mono',consolas,'Courier New',monospace\"><span style=\"color: #008080; text-decoration-color: #008080; font-weight: bold\">2316472127</span>\n",
       "</pre>\n"
      ],
      "text/plain": [
       "\u001b[1;36m2316472127\u001b[0m\n"
      ]
     },
     "metadata": {},
     "output_type": "display_data"
    },
    {
     "data": {
      "text/html": [
       "<pre style=\"white-space:pre;overflow-x:auto;line-height:normal;font-family:Menlo,'DejaVu Sans Mono',consolas,'Courier New',monospace\"><span style=\"color: #008080; text-decoration-color: #008080; font-weight: bold\">2316472127</span>\n",
       "</pre>\n"
      ],
      "text/plain": [
       "\u001b[1;36m2316472127\u001b[0m\n"
      ]
     },
     "metadata": {},
     "output_type": "display_data"
    },
    {
     "data": {
      "text/html": [
       "<pre style=\"white-space:pre;overflow-x:auto;line-height:normal;font-family:Menlo,'DejaVu Sans Mono',consolas,'Courier New',monospace\"><span style=\"color: #008080; text-decoration-color: #008080; font-weight: bold\">2316472127</span>\n",
       "</pre>\n"
      ],
      "text/plain": [
       "\u001b[1;36m2316472127\u001b[0m\n"
      ]
     },
     "metadata": {},
     "output_type": "display_data"
    },
    {
     "data": {
      "text/html": [
       "<pre style=\"white-space:pre;overflow-x:auto;line-height:normal;font-family:Menlo,'DejaVu Sans Mono',consolas,'Courier New',monospace\"><span style=\"color: #008080; text-decoration-color: #008080; font-weight: bold\">2316472127</span>\n",
       "</pre>\n"
      ],
      "text/plain": [
       "\u001b[1;36m2316472127\u001b[0m\n"
      ]
     },
     "metadata": {},
     "output_type": "display_data"
    },
    {
     "data": {
      "text/html": [
       "<pre style=\"white-space:pre;overflow-x:auto;line-height:normal;font-family:Menlo,'DejaVu Sans Mono',consolas,'Courier New',monospace\"><span style=\"color: #008080; text-decoration-color: #008080; font-weight: bold\">2316472127</span>\n",
       "</pre>\n"
      ],
      "text/plain": [
       "\u001b[1;36m2316472127\u001b[0m\n"
      ]
     },
     "metadata": {},
     "output_type": "display_data"
    },
    {
     "data": {
      "text/html": [
       "<pre style=\"white-space:pre;overflow-x:auto;line-height:normal;font-family:Menlo,'DejaVu Sans Mono',consolas,'Courier New',monospace\"><span style=\"color: #008080; text-decoration-color: #008080; font-weight: bold\">2316472127</span>\n",
       "</pre>\n"
      ],
      "text/plain": [
       "\u001b[1;36m2316472127\u001b[0m\n"
      ]
     },
     "metadata": {},
     "output_type": "display_data"
    },
    {
     "data": {
      "text/html": [
       "<pre style=\"white-space:pre;overflow-x:auto;line-height:normal;font-family:Menlo,'DejaVu Sans Mono',consolas,'Courier New',monospace\"><span style=\"color: #008080; text-decoration-color: #008080; font-weight: bold\">2316472127</span>\n",
       "</pre>\n"
      ],
      "text/plain": [
       "\u001b[1;36m2316472127\u001b[0m\n"
      ]
     },
     "metadata": {},
     "output_type": "display_data"
    },
    {
     "data": {
      "text/html": [
       "<pre style=\"white-space:pre;overflow-x:auto;line-height:normal;font-family:Menlo,'DejaVu Sans Mono',consolas,'Courier New',monospace\"><span style=\"color: #008080; text-decoration-color: #008080; font-weight: bold\">2316472127</span>\n",
       "</pre>\n"
      ],
      "text/plain": [
       "\u001b[1;36m2316472127\u001b[0m\n"
      ]
     },
     "metadata": {},
     "output_type": "display_data"
    },
    {
     "data": {
      "text/html": [
       "<pre style=\"white-space:pre;overflow-x:auto;line-height:normal;font-family:Menlo,'DejaVu Sans Mono',consolas,'Courier New',monospace\"><span style=\"color: #008080; text-decoration-color: #008080; font-weight: bold\">2316472127</span>\n",
       "</pre>\n"
      ],
      "text/plain": [
       "\u001b[1;36m2316472127\u001b[0m\n"
      ]
     },
     "metadata": {},
     "output_type": "display_data"
    },
    {
     "data": {
      "text/html": [
       "<pre style=\"white-space:pre;overflow-x:auto;line-height:normal;font-family:Menlo,'DejaVu Sans Mono',consolas,'Courier New',monospace\"><span style=\"color: #008080; text-decoration-color: #008080; font-weight: bold\">2316472127</span>\n",
       "</pre>\n"
      ],
      "text/plain": [
       "\u001b[1;36m2316472127\u001b[0m\n"
      ]
     },
     "metadata": {},
     "output_type": "display_data"
    },
    {
     "data": {
      "text/html": [
       "<pre style=\"white-space:pre;overflow-x:auto;line-height:normal;font-family:Menlo,'DejaVu Sans Mono',consolas,'Courier New',monospace\"><span style=\"color: #008080; text-decoration-color: #008080; font-weight: bold\">2316472127</span>\n",
       "</pre>\n"
      ],
      "text/plain": [
       "\u001b[1;36m2316472127\u001b[0m\n"
      ]
     },
     "metadata": {},
     "output_type": "display_data"
    },
    {
     "data": {
      "text/html": [
       "<pre style=\"white-space:pre;overflow-x:auto;line-height:normal;font-family:Menlo,'DejaVu Sans Mono',consolas,'Courier New',monospace\"><span style=\"color: #008080; text-decoration-color: #008080; font-weight: bold\">2316472127</span>\n",
       "</pre>\n"
      ],
      "text/plain": [
       "\u001b[1;36m2316472127\u001b[0m\n"
      ]
     },
     "metadata": {},
     "output_type": "display_data"
    },
    {
     "data": {
      "text/html": [
       "<pre style=\"white-space:pre;overflow-x:auto;line-height:normal;font-family:Menlo,'DejaVu Sans Mono',consolas,'Courier New',monospace\"><span style=\"color: #008080; text-decoration-color: #008080; font-weight: bold\">2316472127</span>\n",
       "</pre>\n"
      ],
      "text/plain": [
       "\u001b[1;36m2316472127\u001b[0m\n"
      ]
     },
     "metadata": {},
     "output_type": "display_data"
    },
    {
     "data": {
      "text/html": [
       "<pre style=\"white-space:pre;overflow-x:auto;line-height:normal;font-family:Menlo,'DejaVu Sans Mono',consolas,'Courier New',monospace\"><span style=\"color: #008080; text-decoration-color: #008080; font-weight: bold\">2316472127</span>\n",
       "</pre>\n"
      ],
      "text/plain": [
       "\u001b[1;36m2316472127\u001b[0m\n"
      ]
     },
     "metadata": {},
     "output_type": "display_data"
    },
    {
     "data": {
      "text/html": [
       "<pre style=\"white-space:pre;overflow-x:auto;line-height:normal;font-family:Menlo,'DejaVu Sans Mono',consolas,'Courier New',monospace\"><span style=\"color: #008080; text-decoration-color: #008080; font-weight: bold\">2316472127</span>\n",
       "</pre>\n"
      ],
      "text/plain": [
       "\u001b[1;36m2316472127\u001b[0m\n"
      ]
     },
     "metadata": {},
     "output_type": "display_data"
    },
    {
     "data": {
      "text/html": [
       "<pre style=\"white-space:pre;overflow-x:auto;line-height:normal;font-family:Menlo,'DejaVu Sans Mono',consolas,'Courier New',monospace\"><span style=\"color: #008080; text-decoration-color: #008080; font-weight: bold\">2316472127</span>\n",
       "</pre>\n"
      ],
      "text/plain": [
       "\u001b[1;36m2316472127\u001b[0m\n"
      ]
     },
     "metadata": {},
     "output_type": "display_data"
    },
    {
     "data": {
      "text/html": [
       "<pre style=\"white-space:pre;overflow-x:auto;line-height:normal;font-family:Menlo,'DejaVu Sans Mono',consolas,'Courier New',monospace\"><span style=\"color: #008080; text-decoration-color: #008080; font-weight: bold\">2316472127</span>\n",
       "</pre>\n"
      ],
      "text/plain": [
       "\u001b[1;36m2316472127\u001b[0m\n"
      ]
     },
     "metadata": {},
     "output_type": "display_data"
    },
    {
     "data": {
      "text/html": [
       "<pre style=\"white-space:pre;overflow-x:auto;line-height:normal;font-family:Menlo,'DejaVu Sans Mono',consolas,'Courier New',monospace\"><span style=\"color: #008080; text-decoration-color: #008080; font-weight: bold\">2316472127</span>\n",
       "</pre>\n"
      ],
      "text/plain": [
       "\u001b[1;36m2316472127\u001b[0m\n"
      ]
     },
     "metadata": {},
     "output_type": "display_data"
    },
    {
     "data": {
      "text/html": [
       "<pre style=\"white-space:pre;overflow-x:auto;line-height:normal;font-family:Menlo,'DejaVu Sans Mono',consolas,'Courier New',monospace\"><span style=\"color: #008080; text-decoration-color: #008080; font-weight: bold\">2316472127</span>\n",
       "</pre>\n"
      ],
      "text/plain": [
       "\u001b[1;36m2316472127\u001b[0m\n"
      ]
     },
     "metadata": {},
     "output_type": "display_data"
    },
    {
     "data": {
      "text/html": [
       "<pre style=\"white-space:pre;overflow-x:auto;line-height:normal;font-family:Menlo,'DejaVu Sans Mono',consolas,'Courier New',monospace\"><span style=\"color: #008080; text-decoration-color: #008080; font-weight: bold\">2316472127</span>\n",
       "</pre>\n"
      ],
      "text/plain": [
       "\u001b[1;36m2316472127\u001b[0m\n"
      ]
     },
     "metadata": {},
     "output_type": "display_data"
    },
    {
     "data": {
      "text/html": [
       "<pre style=\"white-space:pre;overflow-x:auto;line-height:normal;font-family:Menlo,'DejaVu Sans Mono',consolas,'Courier New',monospace\"><span style=\"color: #008080; text-decoration-color: #008080; font-weight: bold\">2316472127</span>\n",
       "</pre>\n"
      ],
      "text/plain": [
       "\u001b[1;36m2316472127\u001b[0m\n"
      ]
     },
     "metadata": {},
     "output_type": "display_data"
    },
    {
     "data": {
      "text/html": [
       "<pre style=\"white-space:pre;overflow-x:auto;line-height:normal;font-family:Menlo,'DejaVu Sans Mono',consolas,'Courier New',monospace\"><span style=\"color: #008080; text-decoration-color: #008080; font-weight: bold\">2316472127</span>\n",
       "</pre>\n"
      ],
      "text/plain": [
       "\u001b[1;36m2316472127\u001b[0m\n"
      ]
     },
     "metadata": {},
     "output_type": "display_data"
    },
    {
     "data": {
      "text/html": [
       "<pre style=\"white-space:pre;overflow-x:auto;line-height:normal;font-family:Menlo,'DejaVu Sans Mono',consolas,'Courier New',monospace\"><span style=\"color: #008080; text-decoration-color: #008080; font-weight: bold\">2316472127</span>\n",
       "</pre>\n"
      ],
      "text/plain": [
       "\u001b[1;36m2316472127\u001b[0m\n"
      ]
     },
     "metadata": {},
     "output_type": "display_data"
    },
    {
     "data": {
      "text/html": [
       "<pre style=\"white-space:pre;overflow-x:auto;line-height:normal;font-family:Menlo,'DejaVu Sans Mono',consolas,'Courier New',monospace\"><span style=\"color: #008080; text-decoration-color: #008080; font-weight: bold\">2316472127</span>\n",
       "</pre>\n"
      ],
      "text/plain": [
       "\u001b[1;36m2316472127\u001b[0m\n"
      ]
     },
     "metadata": {},
     "output_type": "display_data"
    },
    {
     "data": {
      "text/html": [
       "<pre style=\"white-space:pre;overflow-x:auto;line-height:normal;font-family:Menlo,'DejaVu Sans Mono',consolas,'Courier New',monospace\"><span style=\"color: #008080; text-decoration-color: #008080; font-weight: bold\">2286616706</span>\n",
       "</pre>\n"
      ],
      "text/plain": [
       "\u001b[1;36m2286616706\u001b[0m\n"
      ]
     },
     "metadata": {},
     "output_type": "display_data"
    },
    {
     "data": {
      "text/html": [
       "<pre style=\"white-space:pre;overflow-x:auto;line-height:normal;font-family:Menlo,'DejaVu Sans Mono',consolas,'Courier New',monospace\"><span style=\"color: #008080; text-decoration-color: #008080; font-weight: bold\">2286616706</span>\n",
       "</pre>\n"
      ],
      "text/plain": [
       "\u001b[1;36m2286616706\u001b[0m\n"
      ]
     },
     "metadata": {},
     "output_type": "display_data"
    },
    {
     "data": {
      "text/html": [
       "<pre style=\"white-space:pre;overflow-x:auto;line-height:normal;font-family:Menlo,'DejaVu Sans Mono',consolas,'Courier New',monospace\"><span style=\"color: #008080; text-decoration-color: #008080; font-weight: bold\">2307317090</span>\n",
       "</pre>\n"
      ],
      "text/plain": [
       "\u001b[1;36m2307317090\u001b[0m\n"
      ]
     },
     "metadata": {},
     "output_type": "display_data"
    },
    {
     "data": {
      "text/html": [
       "<pre style=\"white-space:pre;overflow-x:auto;line-height:normal;font-family:Menlo,'DejaVu Sans Mono',consolas,'Courier New',monospace\"><span style=\"color: #008080; text-decoration-color: #008080; font-weight: bold\">2289893954</span>\n",
       "</pre>\n"
      ],
      "text/plain": [
       "\u001b[1;36m2289893954\u001b[0m\n"
      ]
     },
     "metadata": {},
     "output_type": "display_data"
    },
    {
     "data": {
      "text/html": [
       "<pre style=\"white-space:pre;overflow-x:auto;line-height:normal;font-family:Menlo,'DejaVu Sans Mono',consolas,'Courier New',monospace\"><span style=\"color: #008080; text-decoration-color: #008080; font-weight: bold\">2286616706</span>\n",
       "</pre>\n"
      ],
      "text/plain": [
       "\u001b[1;36m2286616706\u001b[0m\n"
      ]
     },
     "metadata": {},
     "output_type": "display_data"
    },
    {
     "data": {
      "text/html": [
       "<pre style=\"white-space:pre;overflow-x:auto;line-height:normal;font-family:Menlo,'DejaVu Sans Mono',consolas,'Courier New',monospace\"><span style=\"color: #008080; text-decoration-color: #008080; font-weight: bold\">2286616706</span>\n",
       "</pre>\n"
      ],
      "text/plain": [
       "\u001b[1;36m2286616706\u001b[0m\n"
      ]
     },
     "metadata": {},
     "output_type": "display_data"
    },
    {
     "data": {
      "text/html": [
       "<pre style=\"white-space:pre;overflow-x:auto;line-height:normal;font-family:Menlo,'DejaVu Sans Mono',consolas,'Courier New',monospace\"><span style=\"color: #008080; text-decoration-color: #008080; font-weight: bold\">2286616706</span>\n",
       "</pre>\n"
      ],
      "text/plain": [
       "\u001b[1;36m2286616706\u001b[0m\n"
      ]
     },
     "metadata": {},
     "output_type": "display_data"
    },
    {
     "data": {
      "text/html": [
       "<pre style=\"white-space:pre;overflow-x:auto;line-height:normal;font-family:Menlo,'DejaVu Sans Mono',consolas,'Courier New',monospace\"><span style=\"color: #008080; text-decoration-color: #008080; font-weight: bold\">2295538119</span>\n",
       "</pre>\n"
      ],
      "text/plain": [
       "\u001b[1;36m2295538119\u001b[0m\n"
      ]
     },
     "metadata": {},
     "output_type": "display_data"
    },
    {
     "data": {
      "text/html": [
       "<pre style=\"white-space:pre;overflow-x:auto;line-height:normal;font-family:Menlo,'DejaVu Sans Mono',consolas,'Courier New',monospace\"><span style=\"color: #008080; text-decoration-color: #008080; font-weight: bold\">2295538119</span>\n",
       "</pre>\n"
      ],
      "text/plain": [
       "\u001b[1;36m2295538119\u001b[0m\n"
      ]
     },
     "metadata": {},
     "output_type": "display_data"
    },
    {
     "data": {
      "text/html": [
       "<pre style=\"white-space:pre;overflow-x:auto;line-height:normal;font-family:Menlo,'DejaVu Sans Mono',consolas,'Courier New',monospace\"><span style=\"color: #008080; text-decoration-color: #008080; font-weight: bold\">2289893954</span>\n",
       "</pre>\n"
      ],
      "text/plain": [
       "\u001b[1;36m2289893954\u001b[0m\n"
      ]
     },
     "metadata": {},
     "output_type": "display_data"
    },
    {
     "data": {
      "text/html": [
       "<pre style=\"white-space:pre;overflow-x:auto;line-height:normal;font-family:Menlo,'DejaVu Sans Mono',consolas,'Courier New',monospace\"><span style=\"color: #008080; text-decoration-color: #008080; font-weight: bold\">2289893954</span>\n",
       "</pre>\n"
      ],
      "text/plain": [
       "\u001b[1;36m2289893954\u001b[0m\n"
      ]
     },
     "metadata": {},
     "output_type": "display_data"
    },
    {
     "data": {
      "text/html": [
       "<pre style=\"white-space:pre;overflow-x:auto;line-height:normal;font-family:Menlo,'DejaVu Sans Mono',consolas,'Courier New',monospace\"><span style=\"color: #008080; text-decoration-color: #008080; font-weight: bold\">2289893954</span>\n",
       "</pre>\n"
      ],
      "text/plain": [
       "\u001b[1;36m2289893954\u001b[0m\n"
      ]
     },
     "metadata": {},
     "output_type": "display_data"
    },
    {
     "data": {
      "text/html": [
       "<pre style=\"white-space:pre;overflow-x:auto;line-height:normal;font-family:Menlo,'DejaVu Sans Mono',consolas,'Courier New',monospace\"><span style=\"color: #008080; text-decoration-color: #008080; font-weight: bold\">2289893954</span>\n",
       "</pre>\n"
      ],
      "text/plain": [
       "\u001b[1;36m2289893954\u001b[0m\n"
      ]
     },
     "metadata": {},
     "output_type": "display_data"
    },
    {
     "data": {
      "text/html": [
       "<pre style=\"white-space:pre;overflow-x:auto;line-height:normal;font-family:Menlo,'DejaVu Sans Mono',consolas,'Courier New',monospace\"><span style=\"color: #008080; text-decoration-color: #008080; font-weight: bold\">2289893954</span>\n",
       "</pre>\n"
      ],
      "text/plain": [
       "\u001b[1;36m2289893954\u001b[0m\n"
      ]
     },
     "metadata": {},
     "output_type": "display_data"
    },
    {
     "data": {
      "text/html": [
       "<pre style=\"white-space:pre;overflow-x:auto;line-height:normal;font-family:Menlo,'DejaVu Sans Mono',consolas,'Courier New',monospace\"><span style=\"color: #008080; text-decoration-color: #008080; font-weight: bold\">2289893954</span>\n",
       "</pre>\n"
      ],
      "text/plain": [
       "\u001b[1;36m2289893954\u001b[0m\n"
      ]
     },
     "metadata": {},
     "output_type": "display_data"
    },
    {
     "data": {
      "text/html": [
       "<pre style=\"white-space:pre;overflow-x:auto;line-height:normal;font-family:Menlo,'DejaVu Sans Mono',consolas,'Courier New',monospace\"><span style=\"color: #008080; text-decoration-color: #008080; font-weight: bold\">2289893954</span>\n",
       "</pre>\n"
      ],
      "text/plain": [
       "\u001b[1;36m2289893954\u001b[0m\n"
      ]
     },
     "metadata": {},
     "output_type": "display_data"
    },
    {
     "data": {
      "text/html": [
       "<pre style=\"white-space:pre;overflow-x:auto;line-height:normal;font-family:Menlo,'DejaVu Sans Mono',consolas,'Courier New',monospace\"><span style=\"color: #008080; text-decoration-color: #008080; font-weight: bold\">2289893954</span>\n",
       "</pre>\n"
      ],
      "text/plain": [
       "\u001b[1;36m2289893954\u001b[0m\n"
      ]
     },
     "metadata": {},
     "output_type": "display_data"
    },
    {
     "data": {
      "text/html": [
       "<pre style=\"white-space:pre;overflow-x:auto;line-height:normal;font-family:Menlo,'DejaVu Sans Mono',consolas,'Courier New',monospace\"><span style=\"color: #008080; text-decoration-color: #008080; font-weight: bold\">2295538119</span>\n",
       "</pre>\n"
      ],
      "text/plain": [
       "\u001b[1;36m2295538119\u001b[0m\n"
      ]
     },
     "metadata": {},
     "output_type": "display_data"
    },
    {
     "data": {
      "text/html": [
       "<pre style=\"white-space:pre;overflow-x:auto;line-height:normal;font-family:Menlo,'DejaVu Sans Mono',consolas,'Courier New',monospace\"><span style=\"color: #008080; text-decoration-color: #008080; font-weight: bold\">2295538119</span>\n",
       "</pre>\n"
      ],
      "text/plain": [
       "\u001b[1;36m2295538119\u001b[0m\n"
      ]
     },
     "metadata": {},
     "output_type": "display_data"
    },
    {
     "data": {
      "text/html": [
       "<pre style=\"white-space:pre;overflow-x:auto;line-height:normal;font-family:Menlo,'DejaVu Sans Mono',consolas,'Courier New',monospace\"><span style=\"color: #008080; text-decoration-color: #008080; font-weight: bold\">2286616706</span>\n",
       "</pre>\n"
      ],
      "text/plain": [
       "\u001b[1;36m2286616706\u001b[0m\n"
      ]
     },
     "metadata": {},
     "output_type": "display_data"
    },
    {
     "data": {
      "text/html": [
       "<pre style=\"white-space:pre;overflow-x:auto;line-height:normal;font-family:Menlo,'DejaVu Sans Mono',consolas,'Courier New',monospace\"><span style=\"color: #008080; text-decoration-color: #008080; font-weight: bold\">2286616706</span>\n",
       "</pre>\n"
      ],
      "text/plain": [
       "\u001b[1;36m2286616706\u001b[0m\n"
      ]
     },
     "metadata": {},
     "output_type": "display_data"
    },
    {
     "data": {
      "text/html": [
       "<pre style=\"white-space:pre;overflow-x:auto;line-height:normal;font-family:Menlo,'DejaVu Sans Mono',consolas,'Courier New',monospace\"><span style=\"color: #008080; text-decoration-color: #008080; font-weight: bold\">2307317090</span>\n",
       "</pre>\n"
      ],
      "text/plain": [
       "\u001b[1;36m2307317090\u001b[0m\n"
      ]
     },
     "metadata": {},
     "output_type": "display_data"
    },
    {
     "data": {
      "text/html": [
       "<pre style=\"white-space:pre;overflow-x:auto;line-height:normal;font-family:Menlo,'DejaVu Sans Mono',consolas,'Courier New',monospace\"><span style=\"color: #008080; text-decoration-color: #008080; font-weight: bold\">2295538119</span>\n",
       "</pre>\n"
      ],
      "text/plain": [
       "\u001b[1;36m2295538119\u001b[0m\n"
      ]
     },
     "metadata": {},
     "output_type": "display_data"
    },
    {
     "data": {
      "text/html": [
       "<pre style=\"white-space:pre;overflow-x:auto;line-height:normal;font-family:Menlo,'DejaVu Sans Mono',consolas,'Courier New',monospace\"><span style=\"color: #008080; text-decoration-color: #008080; font-weight: bold\">2286616706</span>\n",
       "</pre>\n"
      ],
      "text/plain": [
       "\u001b[1;36m2286616706\u001b[0m\n"
      ]
     },
     "metadata": {},
     "output_type": "display_data"
    },
    {
     "data": {
      "text/html": [
       "<pre style=\"white-space:pre;overflow-x:auto;line-height:normal;font-family:Menlo,'DejaVu Sans Mono',consolas,'Courier New',monospace\"><span style=\"color: #008080; text-decoration-color: #008080; font-weight: bold\">2297473169</span>\n",
       "</pre>\n"
      ],
      "text/plain": [
       "\u001b[1;36m2297473169\u001b[0m\n"
      ]
     },
     "metadata": {},
     "output_type": "display_data"
    },
    {
     "data": {
      "text/html": [
       "<pre style=\"white-space:pre;overflow-x:auto;line-height:normal;font-family:Menlo,'DejaVu Sans Mono',consolas,'Courier New',monospace\"><span style=\"color: #008080; text-decoration-color: #008080; font-weight: bold\">2295538119</span>\n",
       "</pre>\n"
      ],
      "text/plain": [
       "\u001b[1;36m2295538119\u001b[0m\n"
      ]
     },
     "metadata": {},
     "output_type": "display_data"
    },
    {
     "data": {
      "text/html": [
       "<pre style=\"white-space:pre;overflow-x:auto;line-height:normal;font-family:Menlo,'DejaVu Sans Mono',consolas,'Courier New',monospace\"><span style=\"color: #008080; text-decoration-color: #008080; font-weight: bold\">2286616706</span>\n",
       "</pre>\n"
      ],
      "text/plain": [
       "\u001b[1;36m2286616706\u001b[0m\n"
      ]
     },
     "metadata": {},
     "output_type": "display_data"
    },
    {
     "data": {
      "text/html": [
       "<pre style=\"white-space:pre;overflow-x:auto;line-height:normal;font-family:Menlo,'DejaVu Sans Mono',consolas,'Courier New',monospace\"><span style=\"color: #008080; text-decoration-color: #008080; font-weight: bold\">2286616706</span>\n",
       "</pre>\n"
      ],
      "text/plain": [
       "\u001b[1;36m2286616706\u001b[0m\n"
      ]
     },
     "metadata": {},
     "output_type": "display_data"
    },
    {
     "data": {
      "text/html": [
       "<pre style=\"white-space:pre;overflow-x:auto;line-height:normal;font-family:Menlo,'DejaVu Sans Mono',consolas,'Courier New',monospace\"><span style=\"color: #008080; text-decoration-color: #008080; font-weight: bold\">2286616706</span>\n",
       "</pre>\n"
      ],
      "text/plain": [
       "\u001b[1;36m2286616706\u001b[0m\n"
      ]
     },
     "metadata": {},
     "output_type": "display_data"
    },
    {
     "data": {
      "text/html": [
       "<pre style=\"white-space:pre;overflow-x:auto;line-height:normal;font-family:Menlo,'DejaVu Sans Mono',consolas,'Courier New',monospace\"><span style=\"color: #008080; text-decoration-color: #008080; font-weight: bold\">2286616706</span>\n",
       "</pre>\n"
      ],
      "text/plain": [
       "\u001b[1;36m2286616706\u001b[0m\n"
      ]
     },
     "metadata": {},
     "output_type": "display_data"
    },
    {
     "data": {
      "text/html": [
       "<pre style=\"white-space:pre;overflow-x:auto;line-height:normal;font-family:Menlo,'DejaVu Sans Mono',consolas,'Courier New',monospace\"><span style=\"color: #008080; text-decoration-color: #008080; font-weight: bold\">2286616706</span>\n",
       "</pre>\n"
      ],
      "text/plain": [
       "\u001b[1;36m2286616706\u001b[0m\n"
      ]
     },
     "metadata": {},
     "output_type": "display_data"
    },
    {
     "data": {
      "text/html": [
       "<pre style=\"white-space:pre;overflow-x:auto;line-height:normal;font-family:Menlo,'DejaVu Sans Mono',consolas,'Courier New',monospace\"><span style=\"color: #008080; text-decoration-color: #008080; font-weight: bold\">2295538119</span>\n",
       "</pre>\n"
      ],
      "text/plain": [
       "\u001b[1;36m2295538119\u001b[0m\n"
      ]
     },
     "metadata": {},
     "output_type": "display_data"
    },
    {
     "data": {
      "text/html": [
       "<pre style=\"white-space:pre;overflow-x:auto;line-height:normal;font-family:Menlo,'DejaVu Sans Mono',consolas,'Courier New',monospace\"><span style=\"color: #008080; text-decoration-color: #008080; font-weight: bold\">2286616706</span>\n",
       "</pre>\n"
      ],
      "text/plain": [
       "\u001b[1;36m2286616706\u001b[0m\n"
      ]
     },
     "metadata": {},
     "output_type": "display_data"
    },
    {
     "data": {
      "text/html": [
       "<pre style=\"white-space:pre;overflow-x:auto;line-height:normal;font-family:Menlo,'DejaVu Sans Mono',consolas,'Courier New',monospace\"><span style=\"color: #008080; text-decoration-color: #008080; font-weight: bold\">2307317090</span>\n",
       "</pre>\n"
      ],
      "text/plain": [
       "\u001b[1;36m2307317090\u001b[0m\n"
      ]
     },
     "metadata": {},
     "output_type": "display_data"
    },
    {
     "data": {
      "text/html": [
       "<pre style=\"white-space:pre;overflow-x:auto;line-height:normal;font-family:Menlo,'DejaVu Sans Mono',consolas,'Courier New',monospace\"><span style=\"color: #008080; text-decoration-color: #008080; font-weight: bold\">2307317090</span>\n",
       "</pre>\n"
      ],
      "text/plain": [
       "\u001b[1;36m2307317090\u001b[0m\n"
      ]
     },
     "metadata": {},
     "output_type": "display_data"
    },
    {
     "data": {
      "text/html": [
       "<pre style=\"white-space:pre;overflow-x:auto;line-height:normal;font-family:Menlo,'DejaVu Sans Mono',consolas,'Courier New',monospace\"><span style=\"color: #008080; text-decoration-color: #008080; font-weight: bold\">2286616706</span>\n",
       "</pre>\n"
      ],
      "text/plain": [
       "\u001b[1;36m2286616706\u001b[0m\n"
      ]
     },
     "metadata": {},
     "output_type": "display_data"
    },
    {
     "data": {
      "text/html": [
       "<pre style=\"white-space:pre;overflow-x:auto;line-height:normal;font-family:Menlo,'DejaVu Sans Mono',consolas,'Courier New',monospace\"><span style=\"color: #008080; text-decoration-color: #008080; font-weight: bold\">2286616706</span>\n",
       "</pre>\n"
      ],
      "text/plain": [
       "\u001b[1;36m2286616706\u001b[0m\n"
      ]
     },
     "metadata": {},
     "output_type": "display_data"
    },
    {
     "data": {
      "text/html": [
       "<pre style=\"white-space:pre;overflow-x:auto;line-height:normal;font-family:Menlo,'DejaVu Sans Mono',consolas,'Courier New',monospace\"><span style=\"color: #008080; text-decoration-color: #008080; font-weight: bold\">2295538119</span>\n",
       "</pre>\n"
      ],
      "text/plain": [
       "\u001b[1;36m2295538119\u001b[0m\n"
      ]
     },
     "metadata": {},
     "output_type": "display_data"
    },
    {
     "data": {
      "text/html": [
       "<pre style=\"white-space:pre;overflow-x:auto;line-height:normal;font-family:Menlo,'DejaVu Sans Mono',consolas,'Courier New',monospace\"><span style=\"color: #008080; text-decoration-color: #008080; font-weight: bold\">2295538119</span>\n",
       "</pre>\n"
      ],
      "text/plain": [
       "\u001b[1;36m2295538119\u001b[0m\n"
      ]
     },
     "metadata": {},
     "output_type": "display_data"
    },
    {
     "data": {
      "text/html": [
       "<pre style=\"white-space:pre;overflow-x:auto;line-height:normal;font-family:Menlo,'DejaVu Sans Mono',consolas,'Courier New',monospace\"><span style=\"color: #008080; text-decoration-color: #008080; font-weight: bold\">2295538119</span>\n",
       "</pre>\n"
      ],
      "text/plain": [
       "\u001b[1;36m2295538119\u001b[0m\n"
      ]
     },
     "metadata": {},
     "output_type": "display_data"
    },
    {
     "data": {
      "text/html": [
       "<pre style=\"white-space:pre;overflow-x:auto;line-height:normal;font-family:Menlo,'DejaVu Sans Mono',consolas,'Courier New',monospace\"><span style=\"color: #008080; text-decoration-color: #008080; font-weight: bold\">2295538119</span>\n",
       "</pre>\n"
      ],
      "text/plain": [
       "\u001b[1;36m2295538119\u001b[0m\n"
      ]
     },
     "metadata": {},
     "output_type": "display_data"
    },
    {
     "data": {
      "text/html": [
       "<pre style=\"white-space:pre;overflow-x:auto;line-height:normal;font-family:Menlo,'DejaVu Sans Mono',consolas,'Courier New',monospace\"><span style=\"color: #008080; text-decoration-color: #008080; font-weight: bold\">2316111854</span>\n",
       "</pre>\n"
      ],
      "text/plain": [
       "\u001b[1;36m2316111854\u001b[0m\n"
      ]
     },
     "metadata": {},
     "output_type": "display_data"
    },
    {
     "data": {
      "text/html": [
       "<pre style=\"white-space:pre;overflow-x:auto;line-height:normal;font-family:Menlo,'DejaVu Sans Mono',consolas,'Courier New',monospace\"><span style=\"color: #008080; text-decoration-color: #008080; font-weight: bold\">2316111854</span>\n",
       "</pre>\n"
      ],
      "text/plain": [
       "\u001b[1;36m2316111854\u001b[0m\n"
      ]
     },
     "metadata": {},
     "output_type": "display_data"
    },
    {
     "data": {
      "text/html": [
       "<pre style=\"white-space:pre;overflow-x:auto;line-height:normal;font-family:Menlo,'DejaVu Sans Mono',consolas,'Courier New',monospace\"><span style=\"color: #008080; text-decoration-color: #008080; font-weight: bold\">2316111854</span>\n",
       "</pre>\n"
      ],
      "text/plain": [
       "\u001b[1;36m2316111854\u001b[0m\n"
      ]
     },
     "metadata": {},
     "output_type": "display_data"
    },
    {
     "data": {
      "text/html": [
       "<pre style=\"white-space:pre;overflow-x:auto;line-height:normal;font-family:Menlo,'DejaVu Sans Mono',consolas,'Courier New',monospace\"><span style=\"color: #008080; text-decoration-color: #008080; font-weight: bold\">2316111854</span>\n",
       "</pre>\n"
      ],
      "text/plain": [
       "\u001b[1;36m2316111854\u001b[0m\n"
      ]
     },
     "metadata": {},
     "output_type": "display_data"
    },
    {
     "data": {
      "text/html": [
       "<pre style=\"white-space:pre;overflow-x:auto;line-height:normal;font-family:Menlo,'DejaVu Sans Mono',consolas,'Courier New',monospace\"><span style=\"color: #008080; text-decoration-color: #008080; font-weight: bold\">2316111854</span>\n",
       "</pre>\n"
      ],
      "text/plain": [
       "\u001b[1;36m2316111854\u001b[0m\n"
      ]
     },
     "metadata": {},
     "output_type": "display_data"
    },
    {
     "data": {
      "text/html": [
       "<pre style=\"white-space:pre;overflow-x:auto;line-height:normal;font-family:Menlo,'DejaVu Sans Mono',consolas,'Courier New',monospace\"><span style=\"color: #008080; text-decoration-color: #008080; font-weight: bold\">2286616706</span>\n",
       "</pre>\n"
      ],
      "text/plain": [
       "\u001b[1;36m2286616706\u001b[0m\n"
      ]
     },
     "metadata": {},
     "output_type": "display_data"
    },
    {
     "data": {
      "text/html": [
       "<pre style=\"white-space:pre;overflow-x:auto;line-height:normal;font-family:Menlo,'DejaVu Sans Mono',consolas,'Courier New',monospace\"><span style=\"color: #008080; text-decoration-color: #008080; font-weight: bold\">2286616706</span>\n",
       "</pre>\n"
      ],
      "text/plain": [
       "\u001b[1;36m2286616706\u001b[0m\n"
      ]
     },
     "metadata": {},
     "output_type": "display_data"
    },
    {
     "data": {
      "text/html": [
       "<pre style=\"white-space:pre;overflow-x:auto;line-height:normal;font-family:Menlo,'DejaVu Sans Mono',consolas,'Courier New',monospace\"><span style=\"color: #008080; text-decoration-color: #008080; font-weight: bold\">2287547790</span>\n",
       "</pre>\n"
      ],
      "text/plain": [
       "\u001b[1;36m2287547790\u001b[0m\n"
      ]
     },
     "metadata": {},
     "output_type": "display_data"
    },
    {
     "data": {
      "text/html": [
       "<pre style=\"white-space:pre;overflow-x:auto;line-height:normal;font-family:Menlo,'DejaVu Sans Mono',consolas,'Courier New',monospace\"><span style=\"color: #008080; text-decoration-color: #008080; font-weight: bold\">2287547790</span>\n",
       "</pre>\n"
      ],
      "text/plain": [
       "\u001b[1;36m2287547790\u001b[0m\n"
      ]
     },
     "metadata": {},
     "output_type": "display_data"
    },
    {
     "data": {
      "text/html": [
       "<pre style=\"white-space:pre;overflow-x:auto;line-height:normal;font-family:Menlo,'DejaVu Sans Mono',consolas,'Courier New',monospace\"><span style=\"color: #008080; text-decoration-color: #008080; font-weight: bold\">2287547790</span>\n",
       "</pre>\n"
      ],
      "text/plain": [
       "\u001b[1;36m2287547790\u001b[0m\n"
      ]
     },
     "metadata": {},
     "output_type": "display_data"
    },
    {
     "data": {
      "text/html": [
       "<pre style=\"white-space:pre;overflow-x:auto;line-height:normal;font-family:Menlo,'DejaVu Sans Mono',consolas,'Courier New',monospace\"><span style=\"color: #008080; text-decoration-color: #008080; font-weight: bold\">2287547790</span>\n",
       "</pre>\n"
      ],
      "text/plain": [
       "\u001b[1;36m2287547790\u001b[0m\n"
      ]
     },
     "metadata": {},
     "output_type": "display_data"
    },
    {
     "data": {
      "text/html": [
       "<pre style=\"white-space:pre;overflow-x:auto;line-height:normal;font-family:Menlo,'DejaVu Sans Mono',consolas,'Courier New',monospace\"><span style=\"color: #008080; text-decoration-color: #008080; font-weight: bold\">2287547790</span>\n",
       "</pre>\n"
      ],
      "text/plain": [
       "\u001b[1;36m2287547790\u001b[0m\n"
      ]
     },
     "metadata": {},
     "output_type": "display_data"
    },
    {
     "data": {
      "text/html": [
       "<pre style=\"white-space:pre;overflow-x:auto;line-height:normal;font-family:Menlo,'DejaVu Sans Mono',consolas,'Courier New',monospace\"><span style=\"color: #008080; text-decoration-color: #008080; font-weight: bold\">2287547790</span>\n",
       "</pre>\n"
      ],
      "text/plain": [
       "\u001b[1;36m2287547790\u001b[0m\n"
      ]
     },
     "metadata": {},
     "output_type": "display_data"
    },
    {
     "data": {
      "text/html": [
       "<pre style=\"white-space:pre;overflow-x:auto;line-height:normal;font-family:Menlo,'DejaVu Sans Mono',consolas,'Courier New',monospace\"><span style=\"color: #008080; text-decoration-color: #008080; font-weight: bold\">2287547790</span>\n",
       "</pre>\n"
      ],
      "text/plain": [
       "\u001b[1;36m2287547790\u001b[0m\n"
      ]
     },
     "metadata": {},
     "output_type": "display_data"
    },
    {
     "data": {
      "text/html": [
       "<pre style=\"white-space:pre;overflow-x:auto;line-height:normal;font-family:Menlo,'DejaVu Sans Mono',consolas,'Courier New',monospace\"><span style=\"color: #008080; text-decoration-color: #008080; font-weight: bold\">2300594146</span>\n",
       "</pre>\n"
      ],
      "text/plain": [
       "\u001b[1;36m2300594146\u001b[0m\n"
      ]
     },
     "metadata": {},
     "output_type": "display_data"
    },
    {
     "data": {
      "text/html": [
       "<pre style=\"white-space:pre;overflow-x:auto;line-height:normal;font-family:Menlo,'DejaVu Sans Mono',consolas,'Courier New',monospace\"><span style=\"color: #008080; text-decoration-color: #008080; font-weight: bold\">2300594146</span>\n",
       "</pre>\n"
      ],
      "text/plain": [
       "\u001b[1;36m2300594146\u001b[0m\n"
      ]
     },
     "metadata": {},
     "output_type": "display_data"
    },
    {
     "data": {
      "text/html": [
       "<pre style=\"white-space:pre;overflow-x:auto;line-height:normal;font-family:Menlo,'DejaVu Sans Mono',consolas,'Courier New',monospace\"><span style=\"color: #008080; text-decoration-color: #008080; font-weight: bold\">2300594146</span>\n",
       "</pre>\n"
      ],
      "text/plain": [
       "\u001b[1;36m2300594146\u001b[0m\n"
      ]
     },
     "metadata": {},
     "output_type": "display_data"
    },
    {
     "data": {
      "text/html": [
       "<pre style=\"white-space:pre;overflow-x:auto;line-height:normal;font-family:Menlo,'DejaVu Sans Mono',consolas,'Courier New',monospace\"><span style=\"color: #008080; text-decoration-color: #008080; font-weight: bold\">2300594146</span>\n",
       "</pre>\n"
      ],
      "text/plain": [
       "\u001b[1;36m2300594146\u001b[0m\n"
      ]
     },
     "metadata": {},
     "output_type": "display_data"
    },
    {
     "data": {
      "text/html": [
       "<pre style=\"white-space:pre;overflow-x:auto;line-height:normal;font-family:Menlo,'DejaVu Sans Mono',consolas,'Courier New',monospace\"><span style=\"color: #008080; text-decoration-color: #008080; font-weight: bold\">2300594146</span>\n",
       "</pre>\n"
      ],
      "text/plain": [
       "\u001b[1;36m2300594146\u001b[0m\n"
      ]
     },
     "metadata": {},
     "output_type": "display_data"
    },
    {
     "data": {
      "text/html": [
       "<pre style=\"white-space:pre;overflow-x:auto;line-height:normal;font-family:Menlo,'DejaVu Sans Mono',consolas,'Courier New',monospace\"><span style=\"color: #008080; text-decoration-color: #008080; font-weight: bold\">2300594146</span>\n",
       "</pre>\n"
      ],
      "text/plain": [
       "\u001b[1;36m2300594146\u001b[0m\n"
      ]
     },
     "metadata": {},
     "output_type": "display_data"
    },
    {
     "data": {
      "text/html": [
       "<pre style=\"white-space:pre;overflow-x:auto;line-height:normal;font-family:Menlo,'DejaVu Sans Mono',consolas,'Courier New',monospace\"><span style=\"color: #008080; text-decoration-color: #008080; font-weight: bold\">2300594146</span>\n",
       "</pre>\n"
      ],
      "text/plain": [
       "\u001b[1;36m2300594146\u001b[0m\n"
      ]
     },
     "metadata": {},
     "output_type": "display_data"
    },
    {
     "data": {
      "text/html": [
       "<pre style=\"white-space:pre;overflow-x:auto;line-height:normal;font-family:Menlo,'DejaVu Sans Mono',consolas,'Courier New',monospace\"><span style=\"color: #008080; text-decoration-color: #008080; font-weight: bold\">2300594146</span>\n",
       "</pre>\n"
      ],
      "text/plain": [
       "\u001b[1;36m2300594146\u001b[0m\n"
      ]
     },
     "metadata": {},
     "output_type": "display_data"
    },
    {
     "data": {
      "text/html": [
       "<pre style=\"white-space:pre;overflow-x:auto;line-height:normal;font-family:Menlo,'DejaVu Sans Mono',consolas,'Courier New',monospace\"><span style=\"color: #008080; text-decoration-color: #008080; font-weight: bold\">2300594146</span>\n",
       "</pre>\n"
      ],
      "text/plain": [
       "\u001b[1;36m2300594146\u001b[0m\n"
      ]
     },
     "metadata": {},
     "output_type": "display_data"
    },
    {
     "data": {
      "text/html": [
       "<pre style=\"white-space:pre;overflow-x:auto;line-height:normal;font-family:Menlo,'DejaVu Sans Mono',consolas,'Courier New',monospace\"><span style=\"color: #008080; text-decoration-color: #008080; font-weight: bold\">2300594146</span>\n",
       "</pre>\n"
      ],
      "text/plain": [
       "\u001b[1;36m2300594146\u001b[0m\n"
      ]
     },
     "metadata": {},
     "output_type": "display_data"
    },
    {
     "data": {
      "text/html": [
       "<pre style=\"white-space:pre;overflow-x:auto;line-height:normal;font-family:Menlo,'DejaVu Sans Mono',consolas,'Courier New',monospace\"><span style=\"color: #008080; text-decoration-color: #008080; font-weight: bold\">2300594146</span>\n",
       "</pre>\n"
      ],
      "text/plain": [
       "\u001b[1;36m2300594146\u001b[0m\n"
      ]
     },
     "metadata": {},
     "output_type": "display_data"
    },
    {
     "data": {
      "text/html": [
       "<pre style=\"white-space:pre;overflow-x:auto;line-height:normal;font-family:Menlo,'DejaVu Sans Mono',consolas,'Courier New',monospace\"><span style=\"color: #008080; text-decoration-color: #008080; font-weight: bold\">2300594146</span>\n",
       "</pre>\n"
      ],
      "text/plain": [
       "\u001b[1;36m2300594146\u001b[0m\n"
      ]
     },
     "metadata": {},
     "output_type": "display_data"
    },
    {
     "data": {
      "text/html": [
       "<pre style=\"white-space:pre;overflow-x:auto;line-height:normal;font-family:Menlo,'DejaVu Sans Mono',consolas,'Courier New',monospace\"><span style=\"color: #008080; text-decoration-color: #008080; font-weight: bold\">2300594146</span>\n",
       "</pre>\n"
      ],
      "text/plain": [
       "\u001b[1;36m2300594146\u001b[0m\n"
      ]
     },
     "metadata": {},
     "output_type": "display_data"
    },
    {
     "data": {
      "text/html": [
       "<pre style=\"white-space:pre;overflow-x:auto;line-height:normal;font-family:Menlo,'DejaVu Sans Mono',consolas,'Courier New',monospace\"><span style=\"color: #008080; text-decoration-color: #008080; font-weight: bold\">2300594146</span>\n",
       "</pre>\n"
      ],
      "text/plain": [
       "\u001b[1;36m2300594146\u001b[0m\n"
      ]
     },
     "metadata": {},
     "output_type": "display_data"
    },
    {
     "data": {
      "text/html": [
       "<pre style=\"white-space:pre;overflow-x:auto;line-height:normal;font-family:Menlo,'DejaVu Sans Mono',consolas,'Courier New',monospace\"><span style=\"color: #008080; text-decoration-color: #008080; font-weight: bold\">2300594146</span>\n",
       "</pre>\n"
      ],
      "text/plain": [
       "\u001b[1;36m2300594146\u001b[0m\n"
      ]
     },
     "metadata": {},
     "output_type": "display_data"
    },
    {
     "data": {
      "text/html": [
       "<pre style=\"white-space:pre;overflow-x:auto;line-height:normal;font-family:Menlo,'DejaVu Sans Mono',consolas,'Courier New',monospace\"><span style=\"color: #008080; text-decoration-color: #008080; font-weight: bold\">2300594146</span>\n",
       "</pre>\n"
      ],
      "text/plain": [
       "\u001b[1;36m2300594146\u001b[0m\n"
      ]
     },
     "metadata": {},
     "output_type": "display_data"
    },
    {
     "data": {
      "text/html": [
       "<pre style=\"white-space:pre;overflow-x:auto;line-height:normal;font-family:Menlo,'DejaVu Sans Mono',consolas,'Courier New',monospace\"><span style=\"color: #008080; text-decoration-color: #008080; font-weight: bold\">2300594146</span>\n",
       "</pre>\n"
      ],
      "text/plain": [
       "\u001b[1;36m2300594146\u001b[0m\n"
      ]
     },
     "metadata": {},
     "output_type": "display_data"
    },
    {
     "data": {
      "text/html": [
       "<pre style=\"white-space:pre;overflow-x:auto;line-height:normal;font-family:Menlo,'DejaVu Sans Mono',consolas,'Courier New',monospace\"><span style=\"color: #008080; text-decoration-color: #008080; font-weight: bold\">2300594146</span>\n",
       "</pre>\n"
      ],
      "text/plain": [
       "\u001b[1;36m2300594146\u001b[0m\n"
      ]
     },
     "metadata": {},
     "output_type": "display_data"
    },
    {
     "data": {
      "text/html": [
       "<pre style=\"white-space:pre;overflow-x:auto;line-height:normal;font-family:Menlo,'DejaVu Sans Mono',consolas,'Courier New',monospace\"><span style=\"color: #008080; text-decoration-color: #008080; font-weight: bold\">2316111854</span>\n",
       "</pre>\n"
      ],
      "text/plain": [
       "\u001b[1;36m2316111854\u001b[0m\n"
      ]
     },
     "metadata": {},
     "output_type": "display_data"
    },
    {
     "data": {
      "text/html": [
       "<pre style=\"white-space:pre;overflow-x:auto;line-height:normal;font-family:Menlo,'DejaVu Sans Mono',consolas,'Courier New',monospace\"><span style=\"color: #008080; text-decoration-color: #008080; font-weight: bold\">2316111854</span>\n",
       "</pre>\n"
      ],
      "text/plain": [
       "\u001b[1;36m2316111854\u001b[0m\n"
      ]
     },
     "metadata": {},
     "output_type": "display_data"
    },
    {
     "data": {
      "text/html": [
       "<pre style=\"white-space:pre;overflow-x:auto;line-height:normal;font-family:Menlo,'DejaVu Sans Mono',consolas,'Courier New',monospace\"><span style=\"color: #008080; text-decoration-color: #008080; font-weight: bold\">2310851168</span>\n",
       "</pre>\n"
      ],
      "text/plain": [
       "\u001b[1;36m2310851168\u001b[0m\n"
      ]
     },
     "metadata": {},
     "output_type": "display_data"
    },
    {
     "data": {
      "text/html": [
       "<pre style=\"white-space:pre;overflow-x:auto;line-height:normal;font-family:Menlo,'DejaVu Sans Mono',consolas,'Courier New',monospace\"><span style=\"color: #008080; text-decoration-color: #008080; font-weight: bold\">2310851168</span>\n",
       "</pre>\n"
      ],
      "text/plain": [
       "\u001b[1;36m2310851168\u001b[0m\n"
      ]
     },
     "metadata": {},
     "output_type": "display_data"
    },
    {
     "data": {
      "text/html": [
       "<pre style=\"white-space:pre;overflow-x:auto;line-height:normal;font-family:Menlo,'DejaVu Sans Mono',consolas,'Courier New',monospace\"><span style=\"color: #008080; text-decoration-color: #008080; font-weight: bold\">2286616706</span>\n",
       "</pre>\n"
      ],
      "text/plain": [
       "\u001b[1;36m2286616706\u001b[0m\n"
      ]
     },
     "metadata": {},
     "output_type": "display_data"
    },
    {
     "data": {
      "text/html": [
       "<pre style=\"white-space:pre;overflow-x:auto;line-height:normal;font-family:Menlo,'DejaVu Sans Mono',consolas,'Courier New',monospace\"><span style=\"color: #008080; text-decoration-color: #008080; font-weight: bold\">2316111854</span>\n",
       "</pre>\n"
      ],
      "text/plain": [
       "\u001b[1;36m2316111854\u001b[0m\n"
      ]
     },
     "metadata": {},
     "output_type": "display_data"
    },
    {
     "data": {
      "text/html": [
       "<pre style=\"white-space:pre;overflow-x:auto;line-height:normal;font-family:Menlo,'DejaVu Sans Mono',consolas,'Courier New',monospace\"><span style=\"color: #008080; text-decoration-color: #008080; font-weight: bold\">2310851168</span>\n",
       "</pre>\n"
      ],
      "text/plain": [
       "\u001b[1;36m2310851168\u001b[0m\n"
      ]
     },
     "metadata": {},
     "output_type": "display_data"
    },
    {
     "data": {
      "text/html": [
       "<pre style=\"white-space:pre;overflow-x:auto;line-height:normal;font-family:Menlo,'DejaVu Sans Mono',consolas,'Courier New',monospace\"><span style=\"color: #008080; text-decoration-color: #008080; font-weight: bold\">2316111854</span>\n",
       "</pre>\n"
      ],
      "text/plain": [
       "\u001b[1;36m2316111854\u001b[0m\n"
      ]
     },
     "metadata": {},
     "output_type": "display_data"
    },
    {
     "data": {
      "text/html": [
       "<pre style=\"white-space:pre;overflow-x:auto;line-height:normal;font-family:Menlo,'DejaVu Sans Mono',consolas,'Courier New',monospace\"><span style=\"color: #008080; text-decoration-color: #008080; font-weight: bold\">2286616706</span>\n",
       "</pre>\n"
      ],
      "text/plain": [
       "\u001b[1;36m2286616706\u001b[0m\n"
      ]
     },
     "metadata": {},
     "output_type": "display_data"
    },
    {
     "data": {
      "text/html": [
       "<pre style=\"white-space:pre;overflow-x:auto;line-height:normal;font-family:Menlo,'DejaVu Sans Mono',consolas,'Courier New',monospace\"><span style=\"color: #008080; text-decoration-color: #008080; font-weight: bold\">2286616706</span>\n",
       "</pre>\n"
      ],
      "text/plain": [
       "\u001b[1;36m2286616706\u001b[0m\n"
      ]
     },
     "metadata": {},
     "output_type": "display_data"
    },
    {
     "data": {
      "text/html": [
       "<pre style=\"white-space:pre;overflow-x:auto;line-height:normal;font-family:Menlo,'DejaVu Sans Mono',consolas,'Courier New',monospace\"><span style=\"color: #008080; text-decoration-color: #008080; font-weight: bold\">2286616706</span>\n",
       "</pre>\n"
      ],
      "text/plain": [
       "\u001b[1;36m2286616706\u001b[0m\n"
      ]
     },
     "metadata": {},
     "output_type": "display_data"
    },
    {
     "data": {
      "text/html": [
       "<pre style=\"white-space:pre;overflow-x:auto;line-height:normal;font-family:Menlo,'DejaVu Sans Mono',consolas,'Courier New',monospace\"><span style=\"color: #008080; text-decoration-color: #008080; font-weight: bold\">2286616706</span>\n",
       "</pre>\n"
      ],
      "text/plain": [
       "\u001b[1;36m2286616706\u001b[0m\n"
      ]
     },
     "metadata": {},
     "output_type": "display_data"
    },
    {
     "data": {
      "text/html": [
       "<pre style=\"white-space:pre;overflow-x:auto;line-height:normal;font-family:Menlo,'DejaVu Sans Mono',consolas,'Courier New',monospace\"><span style=\"color: #008080; text-decoration-color: #008080; font-weight: bold\">2286616706</span>\n",
       "</pre>\n"
      ],
      "text/plain": [
       "\u001b[1;36m2286616706\u001b[0m\n"
      ]
     },
     "metadata": {},
     "output_type": "display_data"
    },
    {
     "data": {
      "text/html": [
       "<pre style=\"white-space:pre;overflow-x:auto;line-height:normal;font-family:Menlo,'DejaVu Sans Mono',consolas,'Courier New',monospace\"><span style=\"color: #008080; text-decoration-color: #008080; font-weight: bold\">2286616706</span>\n",
       "</pre>\n"
      ],
      "text/plain": [
       "\u001b[1;36m2286616706\u001b[0m\n"
      ]
     },
     "metadata": {},
     "output_type": "display_data"
    },
    {
     "data": {
      "text/html": [
       "<pre style=\"white-space:pre;overflow-x:auto;line-height:normal;font-family:Menlo,'DejaVu Sans Mono',consolas,'Courier New',monospace\"><span style=\"color: #008080; text-decoration-color: #008080; font-weight: bold\">2316111854</span>\n",
       "</pre>\n"
      ],
      "text/plain": [
       "\u001b[1;36m2316111854\u001b[0m\n"
      ]
     },
     "metadata": {},
     "output_type": "display_data"
    },
    {
     "data": {
      "text/html": [
       "<pre style=\"white-space:pre;overflow-x:auto;line-height:normal;font-family:Menlo,'DejaVu Sans Mono',consolas,'Courier New',monospace\"><span style=\"color: #008080; text-decoration-color: #008080; font-weight: bold\">2316111854</span>\n",
       "</pre>\n"
      ],
      "text/plain": [
       "\u001b[1;36m2316111854\u001b[0m\n"
      ]
     },
     "metadata": {},
     "output_type": "display_data"
    },
    {
     "data": {
      "text/html": [
       "<pre style=\"white-space:pre;overflow-x:auto;line-height:normal;font-family:Menlo,'DejaVu Sans Mono',consolas,'Courier New',monospace\"><span style=\"color: #008080; text-decoration-color: #008080; font-weight: bold\">2287547790</span>\n",
       "</pre>\n"
      ],
      "text/plain": [
       "\u001b[1;36m2287547790\u001b[0m\n"
      ]
     },
     "metadata": {},
     "output_type": "display_data"
    },
    {
     "data": {
      "text/html": [
       "<pre style=\"white-space:pre;overflow-x:auto;line-height:normal;font-family:Menlo,'DejaVu Sans Mono',consolas,'Courier New',monospace\"><span style=\"color: #008080; text-decoration-color: #008080; font-weight: bold\">2316111854</span>\n",
       "</pre>\n"
      ],
      "text/plain": [
       "\u001b[1;36m2316111854\u001b[0m\n"
      ]
     },
     "metadata": {},
     "output_type": "display_data"
    },
    {
     "data": {
      "text/html": [
       "<pre style=\"white-space:pre;overflow-x:auto;line-height:normal;font-family:Menlo,'DejaVu Sans Mono',consolas,'Courier New',monospace\"><span style=\"color: #008080; text-decoration-color: #008080; font-weight: bold\">2307271342</span>\n",
       "</pre>\n"
      ],
      "text/plain": [
       "\u001b[1;36m2307271342\u001b[0m\n"
      ]
     },
     "metadata": {},
     "output_type": "display_data"
    },
    {
     "data": {
      "text/html": [
       "<pre style=\"white-space:pre;overflow-x:auto;line-height:normal;font-family:Menlo,'DejaVu Sans Mono',consolas,'Courier New',monospace\"><span style=\"color: #008080; text-decoration-color: #008080; font-weight: bold\">2307271342</span>\n",
       "</pre>\n"
      ],
      "text/plain": [
       "\u001b[1;36m2307271342\u001b[0m\n"
      ]
     },
     "metadata": {},
     "output_type": "display_data"
    },
    {
     "data": {
      "text/html": [
       "<pre style=\"white-space:pre;overflow-x:auto;line-height:normal;font-family:Menlo,'DejaVu Sans Mono',consolas,'Courier New',monospace\"><span style=\"color: #008080; text-decoration-color: #008080; font-weight: bold\">2307271342</span>\n",
       "</pre>\n"
      ],
      "text/plain": [
       "\u001b[1;36m2307271342\u001b[0m\n"
      ]
     },
     "metadata": {},
     "output_type": "display_data"
    },
    {
     "data": {
      "text/html": [
       "<pre style=\"white-space:pre;overflow-x:auto;line-height:normal;font-family:Menlo,'DejaVu Sans Mono',consolas,'Courier New',monospace\"><span style=\"color: #008080; text-decoration-color: #008080; font-weight: bold\">2307271342</span>\n",
       "</pre>\n"
      ],
      "text/plain": [
       "\u001b[1;36m2307271342\u001b[0m\n"
      ]
     },
     "metadata": {},
     "output_type": "display_data"
    },
    {
     "data": {
      "text/html": [
       "<pre style=\"white-space:pre;overflow-x:auto;line-height:normal;font-family:Menlo,'DejaVu Sans Mono',consolas,'Courier New',monospace\"><span style=\"color: #008080; text-decoration-color: #008080; font-weight: bold\">2307271342</span>\n",
       "</pre>\n"
      ],
      "text/plain": [
       "\u001b[1;36m2307271342\u001b[0m\n"
      ]
     },
     "metadata": {},
     "output_type": "display_data"
    },
    {
     "data": {
      "text/html": [
       "<pre style=\"white-space:pre;overflow-x:auto;line-height:normal;font-family:Menlo,'DejaVu Sans Mono',consolas,'Courier New',monospace\"><span style=\"color: #008080; text-decoration-color: #008080; font-weight: bold\">2307271342</span>\n",
       "</pre>\n"
      ],
      "text/plain": [
       "\u001b[1;36m2307271342\u001b[0m\n"
      ]
     },
     "metadata": {},
     "output_type": "display_data"
    },
    {
     "data": {
      "text/html": [
       "<pre style=\"white-space:pre;overflow-x:auto;line-height:normal;font-family:Menlo,'DejaVu Sans Mono',consolas,'Courier New',monospace\"><span style=\"color: #008080; text-decoration-color: #008080; font-weight: bold\">2307271342</span>\n",
       "</pre>\n"
      ],
      "text/plain": [
       "\u001b[1;36m2307271342\u001b[0m\n"
      ]
     },
     "metadata": {},
     "output_type": "display_data"
    },
    {
     "data": {
      "text/html": [
       "<pre style=\"white-space:pre;overflow-x:auto;line-height:normal;font-family:Menlo,'DejaVu Sans Mono',consolas,'Courier New',monospace\"><span style=\"color: #008080; text-decoration-color: #008080; font-weight: bold\">2307271342</span>\n",
       "</pre>\n"
      ],
      "text/plain": [
       "\u001b[1;36m2307271342\u001b[0m\n"
      ]
     },
     "metadata": {},
     "output_type": "display_data"
    },
    {
     "data": {
      "text/html": [
       "<pre style=\"white-space:pre;overflow-x:auto;line-height:normal;font-family:Menlo,'DejaVu Sans Mono',consolas,'Courier New',monospace\"><span style=\"color: #008080; text-decoration-color: #008080; font-weight: bold\">2307271342</span>\n",
       "</pre>\n"
      ],
      "text/plain": [
       "\u001b[1;36m2307271342\u001b[0m\n"
      ]
     },
     "metadata": {},
     "output_type": "display_data"
    },
    {
     "data": {
      "text/html": [
       "<pre style=\"white-space:pre;overflow-x:auto;line-height:normal;font-family:Menlo,'DejaVu Sans Mono',consolas,'Courier New',monospace\"><span style=\"color: #008080; text-decoration-color: #008080; font-weight: bold\">2307271342</span>\n",
       "</pre>\n"
      ],
      "text/plain": [
       "\u001b[1;36m2307271342\u001b[0m\n"
      ]
     },
     "metadata": {},
     "output_type": "display_data"
    },
    {
     "data": {
      "text/html": [
       "<pre style=\"white-space:pre;overflow-x:auto;line-height:normal;font-family:Menlo,'DejaVu Sans Mono',consolas,'Courier New',monospace\"><span style=\"color: #008080; text-decoration-color: #008080; font-weight: bold\">2307271342</span>\n",
       "</pre>\n"
      ],
      "text/plain": [
       "\u001b[1;36m2307271342\u001b[0m\n"
      ]
     },
     "metadata": {},
     "output_type": "display_data"
    },
    {
     "data": {
      "text/html": [
       "<pre style=\"white-space:pre;overflow-x:auto;line-height:normal;font-family:Menlo,'DejaVu Sans Mono',consolas,'Courier New',monospace\"><span style=\"color: #008080; text-decoration-color: #008080; font-weight: bold\">2307317090</span>\n",
       "</pre>\n"
      ],
      "text/plain": [
       "\u001b[1;36m2307317090\u001b[0m\n"
      ]
     },
     "metadata": {},
     "output_type": "display_data"
    },
    {
     "data": {
      "text/html": [
       "<pre style=\"white-space:pre;overflow-x:auto;line-height:normal;font-family:Menlo,'DejaVu Sans Mono',consolas,'Courier New',monospace\"><span style=\"color: #008080; text-decoration-color: #008080; font-weight: bold\">2307317090</span>\n",
       "</pre>\n"
      ],
      "text/plain": [
       "\u001b[1;36m2307317090\u001b[0m\n"
      ]
     },
     "metadata": {},
     "output_type": "display_data"
    },
    {
     "data": {
      "text/html": [
       "<pre style=\"white-space:pre;overflow-x:auto;line-height:normal;font-family:Menlo,'DejaVu Sans Mono',consolas,'Courier New',monospace\"><span style=\"color: #008080; text-decoration-color: #008080; font-weight: bold\">2297935739</span>\n",
       "</pre>\n"
      ],
      "text/plain": [
       "\u001b[1;36m2297935739\u001b[0m\n"
      ]
     },
     "metadata": {},
     "output_type": "display_data"
    },
    {
     "data": {
      "text/html": [
       "<pre style=\"white-space:pre;overflow-x:auto;line-height:normal;font-family:Menlo,'DejaVu Sans Mono',consolas,'Courier New',monospace\"><span style=\"color: #008080; text-decoration-color: #008080; font-weight: bold\">2297935739</span>\n",
       "</pre>\n"
      ],
      "text/plain": [
       "\u001b[1;36m2297935739\u001b[0m\n"
      ]
     },
     "metadata": {},
     "output_type": "display_data"
    },
    {
     "data": {
      "text/html": [
       "<pre style=\"white-space:pre;overflow-x:auto;line-height:normal;font-family:Menlo,'DejaVu Sans Mono',consolas,'Courier New',monospace\"><span style=\"color: #008080; text-decoration-color: #008080; font-weight: bold\">2310851168</span>\n",
       "</pre>\n"
      ],
      "text/plain": [
       "\u001b[1;36m2310851168\u001b[0m\n"
      ]
     },
     "metadata": {},
     "output_type": "display_data"
    },
    {
     "data": {
      "text/html": [
       "<pre style=\"white-space:pre;overflow-x:auto;line-height:normal;font-family:Menlo,'DejaVu Sans Mono',consolas,'Courier New',monospace\"><span style=\"color: #008080; text-decoration-color: #008080; font-weight: bold\">2310851168</span>\n",
       "</pre>\n"
      ],
      "text/plain": [
       "\u001b[1;36m2310851168\u001b[0m\n"
      ]
     },
     "metadata": {},
     "output_type": "display_data"
    },
    {
     "data": {
      "text/html": [
       "<pre style=\"white-space:pre;overflow-x:auto;line-height:normal;font-family:Menlo,'DejaVu Sans Mono',consolas,'Courier New',monospace\"><span style=\"color: #008080; text-decoration-color: #008080; font-weight: bold\">2310851168</span>\n",
       "</pre>\n"
      ],
      "text/plain": [
       "\u001b[1;36m2310851168\u001b[0m\n"
      ]
     },
     "metadata": {},
     "output_type": "display_data"
    },
    {
     "data": {
      "text/html": [
       "<pre style=\"white-space:pre;overflow-x:auto;line-height:normal;font-family:Menlo,'DejaVu Sans Mono',consolas,'Courier New',monospace\"><span style=\"color: #008080; text-decoration-color: #008080; font-weight: bold\">2310851168</span>\n",
       "</pre>\n"
      ],
      "text/plain": [
       "\u001b[1;36m2310851168\u001b[0m\n"
      ]
     },
     "metadata": {},
     "output_type": "display_data"
    },
    {
     "data": {
      "text/html": [
       "<pre style=\"white-space:pre;overflow-x:auto;line-height:normal;font-family:Menlo,'DejaVu Sans Mono',consolas,'Courier New',monospace\"><span style=\"color: #008080; text-decoration-color: #008080; font-weight: bold\">2310851168</span>\n",
       "</pre>\n"
      ],
      "text/plain": [
       "\u001b[1;36m2310851168\u001b[0m\n"
      ]
     },
     "metadata": {},
     "output_type": "display_data"
    },
    {
     "data": {
      "text/html": [
       "<pre style=\"white-space:pre;overflow-x:auto;line-height:normal;font-family:Menlo,'DejaVu Sans Mono',consolas,'Courier New',monospace\"><span style=\"color: #008080; text-decoration-color: #008080; font-weight: bold\">2310851168</span>\n",
       "</pre>\n"
      ],
      "text/plain": [
       "\u001b[1;36m2310851168\u001b[0m\n"
      ]
     },
     "metadata": {},
     "output_type": "display_data"
    },
    {
     "data": {
      "text/html": [
       "<pre style=\"white-space:pre;overflow-x:auto;line-height:normal;font-family:Menlo,'DejaVu Sans Mono',consolas,'Courier New',monospace\"><span style=\"color: #008080; text-decoration-color: #008080; font-weight: bold\">2310851168</span>\n",
       "</pre>\n"
      ],
      "text/plain": [
       "\u001b[1;36m2310851168\u001b[0m\n"
      ]
     },
     "metadata": {},
     "output_type": "display_data"
    },
    {
     "data": {
      "text/html": [
       "<pre style=\"white-space:pre;overflow-x:auto;line-height:normal;font-family:Menlo,'DejaVu Sans Mono',consolas,'Courier New',monospace\"><span style=\"color: #008080; text-decoration-color: #008080; font-weight: bold\">2300594146</span>\n",
       "</pre>\n"
      ],
      "text/plain": [
       "\u001b[1;36m2300594146\u001b[0m\n"
      ]
     },
     "metadata": {},
     "output_type": "display_data"
    },
    {
     "data": {
      "text/html": [
       "<pre style=\"white-space:pre;overflow-x:auto;line-height:normal;font-family:Menlo,'DejaVu Sans Mono',consolas,'Courier New',monospace\"><span style=\"color: #008080; text-decoration-color: #008080; font-weight: bold\">2300594146</span>\n",
       "</pre>\n"
      ],
      "text/plain": [
       "\u001b[1;36m2300594146\u001b[0m\n"
      ]
     },
     "metadata": {},
     "output_type": "display_data"
    },
    {
     "data": {
      "text/html": [
       "<pre style=\"white-space:pre;overflow-x:auto;line-height:normal;font-family:Menlo,'DejaVu Sans Mono',consolas,'Courier New',monospace\"><span style=\"color: #008080; text-decoration-color: #008080; font-weight: bold\">2310851168</span>\n",
       "</pre>\n"
      ],
      "text/plain": [
       "\u001b[1;36m2310851168\u001b[0m\n"
      ]
     },
     "metadata": {},
     "output_type": "display_data"
    },
    {
     "data": {
      "text/html": [
       "<pre style=\"white-space:pre;overflow-x:auto;line-height:normal;font-family:Menlo,'DejaVu Sans Mono',consolas,'Courier New',monospace\"><span style=\"color: #008080; text-decoration-color: #008080; font-weight: bold\">2310851168</span>\n",
       "</pre>\n"
      ],
      "text/plain": [
       "\u001b[1;36m2310851168\u001b[0m\n"
      ]
     },
     "metadata": {},
     "output_type": "display_data"
    },
    {
     "data": {
      "text/html": [
       "<pre style=\"white-space:pre;overflow-x:auto;line-height:normal;font-family:Menlo,'DejaVu Sans Mono',consolas,'Courier New',monospace\"><span style=\"color: #008080; text-decoration-color: #008080; font-weight: bold\">2310851168</span>\n",
       "</pre>\n"
      ],
      "text/plain": [
       "\u001b[1;36m2310851168\u001b[0m\n"
      ]
     },
     "metadata": {},
     "output_type": "display_data"
    },
    {
     "data": {
      "text/html": [
       "<pre style=\"white-space:pre;overflow-x:auto;line-height:normal;font-family:Menlo,'DejaVu Sans Mono',consolas,'Courier New',monospace\"><span style=\"color: #008080; text-decoration-color: #008080; font-weight: bold\">2307317090</span>\n",
       "</pre>\n"
      ],
      "text/plain": [
       "\u001b[1;36m2307317090\u001b[0m\n"
      ]
     },
     "metadata": {},
     "output_type": "display_data"
    },
    {
     "data": {
      "text/html": [
       "<pre style=\"white-space:pre;overflow-x:auto;line-height:normal;font-family:Menlo,'DejaVu Sans Mono',consolas,'Courier New',monospace\"><span style=\"color: #008080; text-decoration-color: #008080; font-weight: bold\">2316111854</span>\n",
       "</pre>\n"
      ],
      "text/plain": [
       "\u001b[1;36m2316111854\u001b[0m\n"
      ]
     },
     "metadata": {},
     "output_type": "display_data"
    },
    {
     "data": {
      "text/html": [
       "<pre style=\"white-space:pre;overflow-x:auto;line-height:normal;font-family:Menlo,'DejaVu Sans Mono',consolas,'Courier New',monospace\"><span style=\"color: #008080; text-decoration-color: #008080; font-weight: bold\">2307317090</span>\n",
       "</pre>\n"
      ],
      "text/plain": [
       "\u001b[1;36m2307317090\u001b[0m\n"
      ]
     },
     "metadata": {},
     "output_type": "display_data"
    },
    {
     "data": {
      "text/html": [
       "<pre style=\"white-space:pre;overflow-x:auto;line-height:normal;font-family:Menlo,'DejaVu Sans Mono',consolas,'Courier New',monospace\"><span style=\"color: #008080; text-decoration-color: #008080; font-weight: bold\">2316111854</span>\n",
       "</pre>\n"
      ],
      "text/plain": [
       "\u001b[1;36m2316111854\u001b[0m\n"
      ]
     },
     "metadata": {},
     "output_type": "display_data"
    },
    {
     "data": {
      "text/html": [
       "<pre style=\"white-space:pre;overflow-x:auto;line-height:normal;font-family:Menlo,'DejaVu Sans Mono',consolas,'Courier New',monospace\"><span style=\"color: #008080; text-decoration-color: #008080; font-weight: bold\">2316111854</span>\n",
       "</pre>\n"
      ],
      "text/plain": [
       "\u001b[1;36m2316111854\u001b[0m\n"
      ]
     },
     "metadata": {},
     "output_type": "display_data"
    },
    {
     "data": {
      "text/html": [
       "<pre style=\"white-space:pre;overflow-x:auto;line-height:normal;font-family:Menlo,'DejaVu Sans Mono',consolas,'Courier New',monospace\"><span style=\"color: #008080; text-decoration-color: #008080; font-weight: bold\">2316472127</span>\n",
       "</pre>\n"
      ],
      "text/plain": [
       "\u001b[1;36m2316472127\u001b[0m\n"
      ]
     },
     "metadata": {},
     "output_type": "display_data"
    },
    {
     "data": {
      "text/html": [
       "<pre style=\"white-space:pre;overflow-x:auto;line-height:normal;font-family:Menlo,'DejaVu Sans Mono',consolas,'Courier New',monospace\"><span style=\"color: #008080; text-decoration-color: #008080; font-weight: bold\">2316472127</span>\n",
       "</pre>\n"
      ],
      "text/plain": [
       "\u001b[1;36m2316472127\u001b[0m\n"
      ]
     },
     "metadata": {},
     "output_type": "display_data"
    },
    {
     "data": {
      "text/html": [
       "<pre style=\"white-space:pre;overflow-x:auto;line-height:normal;font-family:Menlo,'DejaVu Sans Mono',consolas,'Courier New',monospace\"><span style=\"color: #008080; text-decoration-color: #008080; font-weight: bold\">2316472127</span>\n",
       "</pre>\n"
      ],
      "text/plain": [
       "\u001b[1;36m2316472127\u001b[0m\n"
      ]
     },
     "metadata": {},
     "output_type": "display_data"
    },
    {
     "data": {
      "text/html": [
       "<pre style=\"white-space:pre;overflow-x:auto;line-height:normal;font-family:Menlo,'DejaVu Sans Mono',consolas,'Courier New',monospace\"><span style=\"color: #008080; text-decoration-color: #008080; font-weight: bold\">2316472127</span>\n",
       "</pre>\n"
      ],
      "text/plain": [
       "\u001b[1;36m2316472127\u001b[0m\n"
      ]
     },
     "metadata": {},
     "output_type": "display_data"
    },
    {
     "data": {
      "text/html": [
       "<pre style=\"white-space:pre;overflow-x:auto;line-height:normal;font-family:Menlo,'DejaVu Sans Mono',consolas,'Courier New',monospace\"><span style=\"color: #008080; text-decoration-color: #008080; font-weight: bold\">2316472127</span>\n",
       "</pre>\n"
      ],
      "text/plain": [
       "\u001b[1;36m2316472127\u001b[0m\n"
      ]
     },
     "metadata": {},
     "output_type": "display_data"
    },
    {
     "data": {
      "text/html": [
       "<pre style=\"white-space:pre;overflow-x:auto;line-height:normal;font-family:Menlo,'DejaVu Sans Mono',consolas,'Courier New',monospace\"><span style=\"color: #008080; text-decoration-color: #008080; font-weight: bold\">2316472127</span>\n",
       "</pre>\n"
      ],
      "text/plain": [
       "\u001b[1;36m2316472127\u001b[0m\n"
      ]
     },
     "metadata": {},
     "output_type": "display_data"
    },
    {
     "data": {
      "text/html": [
       "<pre style=\"white-space:pre;overflow-x:auto;line-height:normal;font-family:Menlo,'DejaVu Sans Mono',consolas,'Courier New',monospace\"><span style=\"color: #008080; text-decoration-color: #008080; font-weight: bold\">2297935739</span>\n",
       "</pre>\n"
      ],
      "text/plain": [
       "\u001b[1;36m2297935739\u001b[0m\n"
      ]
     },
     "metadata": {},
     "output_type": "display_data"
    },
    {
     "data": {
      "text/html": [
       "<pre style=\"white-space:pre;overflow-x:auto;line-height:normal;font-family:Menlo,'DejaVu Sans Mono',consolas,'Courier New',monospace\"><span style=\"color: #008080; text-decoration-color: #008080; font-weight: bold\">2297935739</span>\n",
       "</pre>\n"
      ],
      "text/plain": [
       "\u001b[1;36m2297935739\u001b[0m\n"
      ]
     },
     "metadata": {},
     "output_type": "display_data"
    },
    {
     "data": {
      "text/html": [
       "<pre style=\"white-space:pre;overflow-x:auto;line-height:normal;font-family:Menlo,'DejaVu Sans Mono',consolas,'Courier New',monospace\"><span style=\"color: #008080; text-decoration-color: #008080; font-weight: bold\">2316472127</span>\n",
       "</pre>\n"
      ],
      "text/plain": [
       "\u001b[1;36m2316472127\u001b[0m\n"
      ]
     },
     "metadata": {},
     "output_type": "display_data"
    },
    {
     "data": {
      "text/html": [
       "<pre style=\"white-space:pre;overflow-x:auto;line-height:normal;font-family:Menlo,'DejaVu Sans Mono',consolas,'Courier New',monospace\"><span style=\"color: #008080; text-decoration-color: #008080; font-weight: bold\">2297935739</span>\n",
       "</pre>\n"
      ],
      "text/plain": [
       "\u001b[1;36m2297935739\u001b[0m\n"
      ]
     },
     "metadata": {},
     "output_type": "display_data"
    },
    {
     "data": {
      "text/html": [
       "<pre style=\"white-space:pre;overflow-x:auto;line-height:normal;font-family:Menlo,'DejaVu Sans Mono',consolas,'Courier New',monospace\"><span style=\"color: #008080; text-decoration-color: #008080; font-weight: bold\">2310851168</span>\n",
       "</pre>\n"
      ],
      "text/plain": [
       "\u001b[1;36m2310851168\u001b[0m\n"
      ]
     },
     "metadata": {},
     "output_type": "display_data"
    },
    {
     "data": {
      "text/html": [
       "<pre style=\"white-space:pre;overflow-x:auto;line-height:normal;font-family:Menlo,'DejaVu Sans Mono',consolas,'Courier New',monospace\"><span style=\"color: #008080; text-decoration-color: #008080; font-weight: bold\">2310851168</span>\n",
       "</pre>\n"
      ],
      "text/plain": [
       "\u001b[1;36m2310851168\u001b[0m\n"
      ]
     },
     "metadata": {},
     "output_type": "display_data"
    },
    {
     "data": {
      "text/html": [
       "<pre style=\"white-space:pre;overflow-x:auto;line-height:normal;font-family:Menlo,'DejaVu Sans Mono',consolas,'Courier New',monospace\"><span style=\"color: #008080; text-decoration-color: #008080; font-weight: bold\">2310851168</span>\n",
       "</pre>\n"
      ],
      "text/plain": [
       "\u001b[1;36m2310851168\u001b[0m\n"
      ]
     },
     "metadata": {},
     "output_type": "display_data"
    },
    {
     "data": {
      "text/html": [
       "<pre style=\"white-space:pre;overflow-x:auto;line-height:normal;font-family:Menlo,'DejaVu Sans Mono',consolas,'Courier New',monospace\"><span style=\"color: #008080; text-decoration-color: #008080; font-weight: bold\">2310851168</span>\n",
       "</pre>\n"
      ],
      "text/plain": [
       "\u001b[1;36m2310851168\u001b[0m\n"
      ]
     },
     "metadata": {},
     "output_type": "display_data"
    },
    {
     "data": {
      "text/html": [
       "<pre style=\"white-space:pre;overflow-x:auto;line-height:normal;font-family:Menlo,'DejaVu Sans Mono',consolas,'Courier New',monospace\"><span style=\"color: #008080; text-decoration-color: #008080; font-weight: bold\">2316472127</span>\n",
       "</pre>\n"
      ],
      "text/plain": [
       "\u001b[1;36m2316472127\u001b[0m\n"
      ]
     },
     "metadata": {},
     "output_type": "display_data"
    },
    {
     "data": {
      "text/html": [
       "<pre style=\"white-space:pre;overflow-x:auto;line-height:normal;font-family:Menlo,'DejaVu Sans Mono',consolas,'Courier New',monospace\"><span style=\"color: #008080; text-decoration-color: #008080; font-weight: bold\">2316472127</span>\n",
       "</pre>\n"
      ],
      "text/plain": [
       "\u001b[1;36m2316472127\u001b[0m\n"
      ]
     },
     "metadata": {},
     "output_type": "display_data"
    },
    {
     "data": {
      "text/html": [
       "<pre style=\"white-space:pre;overflow-x:auto;line-height:normal;font-family:Menlo,'DejaVu Sans Mono',consolas,'Courier New',monospace\"><span style=\"color: #008080; text-decoration-color: #008080; font-weight: bold\">2310851168</span>\n",
       "</pre>\n"
      ],
      "text/plain": [
       "\u001b[1;36m2310851168\u001b[0m\n"
      ]
     },
     "metadata": {},
     "output_type": "display_data"
    },
    {
     "data": {
      "text/html": [
       "<pre style=\"white-space:pre;overflow-x:auto;line-height:normal;font-family:Menlo,'DejaVu Sans Mono',consolas,'Courier New',monospace\"><span style=\"color: #008080; text-decoration-color: #008080; font-weight: bold\">2310851168</span>\n",
       "</pre>\n"
      ],
      "text/plain": [
       "\u001b[1;36m2310851168\u001b[0m\n"
      ]
     },
     "metadata": {},
     "output_type": "display_data"
    },
    {
     "data": {
      "text/html": [
       "<pre style=\"white-space:pre;overflow-x:auto;line-height:normal;font-family:Menlo,'DejaVu Sans Mono',consolas,'Courier New',monospace\"><span style=\"color: #008080; text-decoration-color: #008080; font-weight: bold\">2310851168</span>\n",
       "</pre>\n"
      ],
      "text/plain": [
       "\u001b[1;36m2310851168\u001b[0m\n"
      ]
     },
     "metadata": {},
     "output_type": "display_data"
    },
    {
     "data": {
      "text/html": [
       "<pre style=\"white-space:pre;overflow-x:auto;line-height:normal;font-family:Menlo,'DejaVu Sans Mono',consolas,'Courier New',monospace\"><span style=\"color: #008080; text-decoration-color: #008080; font-weight: bold\">2310851168</span>\n",
       "</pre>\n"
      ],
      "text/plain": [
       "\u001b[1;36m2310851168\u001b[0m\n"
      ]
     },
     "metadata": {},
     "output_type": "display_data"
    },
    {
     "data": {
      "text/html": [
       "<pre style=\"white-space:pre;overflow-x:auto;line-height:normal;font-family:Menlo,'DejaVu Sans Mono',consolas,'Courier New',monospace\"><span style=\"color: #008080; text-decoration-color: #008080; font-weight: bold\">2316472127</span>\n",
       "</pre>\n"
      ],
      "text/plain": [
       "\u001b[1;36m2316472127\u001b[0m\n"
      ]
     },
     "metadata": {},
     "output_type": "display_data"
    },
    {
     "data": {
      "text/html": [
       "<pre style=\"white-space:pre;overflow-x:auto;line-height:normal;font-family:Menlo,'DejaVu Sans Mono',consolas,'Courier New',monospace\"><span style=\"color: #008080; text-decoration-color: #008080; font-weight: bold\">2316472127</span>\n",
       "</pre>\n"
      ],
      "text/plain": [
       "\u001b[1;36m2316472127\u001b[0m\n"
      ]
     },
     "metadata": {},
     "output_type": "display_data"
    },
    {
     "data": {
      "text/html": [
       "<pre style=\"white-space:pre;overflow-x:auto;line-height:normal;font-family:Menlo,'DejaVu Sans Mono',consolas,'Courier New',monospace\"><span style=\"color: #008080; text-decoration-color: #008080; font-weight: bold\">2297935739</span>\n",
       "</pre>\n"
      ],
      "text/plain": [
       "\u001b[1;36m2297935739\u001b[0m\n"
      ]
     },
     "metadata": {},
     "output_type": "display_data"
    },
    {
     "data": {
      "text/html": [
       "<pre style=\"white-space:pre;overflow-x:auto;line-height:normal;font-family:Menlo,'DejaVu Sans Mono',consolas,'Courier New',monospace\"><span style=\"color: #008080; text-decoration-color: #008080; font-weight: bold\">2310851168</span>\n",
       "</pre>\n"
      ],
      "text/plain": [
       "\u001b[1;36m2310851168\u001b[0m\n"
      ]
     },
     "metadata": {},
     "output_type": "display_data"
    },
    {
     "data": {
      "text/html": [
       "<pre style=\"white-space:pre;overflow-x:auto;line-height:normal;font-family:Menlo,'DejaVu Sans Mono',consolas,'Courier New',monospace\"><span style=\"color: #008080; text-decoration-color: #008080; font-weight: bold\">2316472127</span>\n",
       "</pre>\n"
      ],
      "text/plain": [
       "\u001b[1;36m2316472127\u001b[0m\n"
      ]
     },
     "metadata": {},
     "output_type": "display_data"
    },
    {
     "data": {
      "text/html": [
       "<pre style=\"white-space:pre;overflow-x:auto;line-height:normal;font-family:Menlo,'DejaVu Sans Mono',consolas,'Courier New',monospace\"><span style=\"color: #008080; text-decoration-color: #008080; font-weight: bold\">2316472127</span>\n",
       "</pre>\n"
      ],
      "text/plain": [
       "\u001b[1;36m2316472127\u001b[0m\n"
      ]
     },
     "metadata": {},
     "output_type": "display_data"
    },
    {
     "data": {
      "text/html": [
       "<pre style=\"white-space:pre;overflow-x:auto;line-height:normal;font-family:Menlo,'DejaVu Sans Mono',consolas,'Courier New',monospace\"><span style=\"color: #008080; text-decoration-color: #008080; font-weight: bold\">2316472127</span>\n",
       "</pre>\n"
      ],
      "text/plain": [
       "\u001b[1;36m2316472127\u001b[0m\n"
      ]
     },
     "metadata": {},
     "output_type": "display_data"
    },
    {
     "data": {
      "text/html": [
       "<pre style=\"white-space:pre;overflow-x:auto;line-height:normal;font-family:Menlo,'DejaVu Sans Mono',consolas,'Courier New',monospace\"><span style=\"color: #008080; text-decoration-color: #008080; font-weight: bold\">2316472127</span>\n",
       "</pre>\n"
      ],
      "text/plain": [
       "\u001b[1;36m2316472127\u001b[0m\n"
      ]
     },
     "metadata": {},
     "output_type": "display_data"
    },
    {
     "data": {
      "text/html": [
       "<pre style=\"white-space:pre;overflow-x:auto;line-height:normal;font-family:Menlo,'DejaVu Sans Mono',consolas,'Courier New',monospace\"><span style=\"color: #008080; text-decoration-color: #008080; font-weight: bold\">2316472127</span>\n",
       "</pre>\n"
      ],
      "text/plain": [
       "\u001b[1;36m2316472127\u001b[0m\n"
      ]
     },
     "metadata": {},
     "output_type": "display_data"
    },
    {
     "data": {
      "text/html": [
       "<pre style=\"white-space:pre;overflow-x:auto;line-height:normal;font-family:Menlo,'DejaVu Sans Mono',consolas,'Courier New',monospace\"><span style=\"color: #008080; text-decoration-color: #008080; font-weight: bold\">2316472127</span>\n",
       "</pre>\n"
      ],
      "text/plain": [
       "\u001b[1;36m2316472127\u001b[0m\n"
      ]
     },
     "metadata": {},
     "output_type": "display_data"
    },
    {
     "data": {
      "text/html": [
       "<pre style=\"white-space:pre;overflow-x:auto;line-height:normal;font-family:Menlo,'DejaVu Sans Mono',consolas,'Courier New',monospace\"><span style=\"color: #008080; text-decoration-color: #008080; font-weight: bold\">2316472127</span>\n",
       "</pre>\n"
      ],
      "text/plain": [
       "\u001b[1;36m2316472127\u001b[0m\n"
      ]
     },
     "metadata": {},
     "output_type": "display_data"
    },
    {
     "data": {
      "text/html": [
       "<pre style=\"white-space:pre;overflow-x:auto;line-height:normal;font-family:Menlo,'DejaVu Sans Mono',consolas,'Courier New',monospace\"><span style=\"color: #008080; text-decoration-color: #008080; font-weight: bold\">2316472127</span>\n",
       "</pre>\n"
      ],
      "text/plain": [
       "\u001b[1;36m2316472127\u001b[0m\n"
      ]
     },
     "metadata": {},
     "output_type": "display_data"
    },
    {
     "data": {
      "text/html": [
       "<pre style=\"white-space:pre;overflow-x:auto;line-height:normal;font-family:Menlo,'DejaVu Sans Mono',consolas,'Courier New',monospace\"><span style=\"color: #008080; text-decoration-color: #008080; font-weight: bold\">2316472127</span>\n",
       "</pre>\n"
      ],
      "text/plain": [
       "\u001b[1;36m2316472127\u001b[0m\n"
      ]
     },
     "metadata": {},
     "output_type": "display_data"
    },
    {
     "data": {
      "text/html": [
       "<pre style=\"white-space:pre;overflow-x:auto;line-height:normal;font-family:Menlo,'DejaVu Sans Mono',consolas,'Courier New',monospace\"><span style=\"color: #008080; text-decoration-color: #008080; font-weight: bold\">2316472127</span>\n",
       "</pre>\n"
      ],
      "text/plain": [
       "\u001b[1;36m2316472127\u001b[0m\n"
      ]
     },
     "metadata": {},
     "output_type": "display_data"
    },
    {
     "data": {
      "text/html": [
       "<pre style=\"white-space:pre;overflow-x:auto;line-height:normal;font-family:Menlo,'DejaVu Sans Mono',consolas,'Courier New',monospace\"><span style=\"color: #008080; text-decoration-color: #008080; font-weight: bold\">2316472127</span>\n",
       "</pre>\n"
      ],
      "text/plain": [
       "\u001b[1;36m2316472127\u001b[0m\n"
      ]
     },
     "metadata": {},
     "output_type": "display_data"
    },
    {
     "data": {
      "text/html": [
       "<pre style=\"white-space:pre;overflow-x:auto;line-height:normal;font-family:Menlo,'DejaVu Sans Mono',consolas,'Courier New',monospace\"><span style=\"color: #008080; text-decoration-color: #008080; font-weight: bold\">2316472127</span>\n",
       "</pre>\n"
      ],
      "text/plain": [
       "\u001b[1;36m2316472127\u001b[0m\n"
      ]
     },
     "metadata": {},
     "output_type": "display_data"
    },
    {
     "data": {
      "text/html": [
       "<pre style=\"white-space:pre;overflow-x:auto;line-height:normal;font-family:Menlo,'DejaVu Sans Mono',consolas,'Courier New',monospace\"><span style=\"color: #008080; text-decoration-color: #008080; font-weight: bold\">2316472127</span>\n",
       "</pre>\n"
      ],
      "text/plain": [
       "\u001b[1;36m2316472127\u001b[0m\n"
      ]
     },
     "metadata": {},
     "output_type": "display_data"
    },
    {
     "data": {
      "text/html": [
       "<pre style=\"white-space:pre;overflow-x:auto;line-height:normal;font-family:Menlo,'DejaVu Sans Mono',consolas,'Courier New',monospace\"><span style=\"color: #008080; text-decoration-color: #008080; font-weight: bold\">2316472127</span>\n",
       "</pre>\n"
      ],
      "text/plain": [
       "\u001b[1;36m2316472127\u001b[0m\n"
      ]
     },
     "metadata": {},
     "output_type": "display_data"
    },
    {
     "data": {
      "text/html": [
       "<pre style=\"white-space:pre;overflow-x:auto;line-height:normal;font-family:Menlo,'DejaVu Sans Mono',consolas,'Courier New',monospace\"><span style=\"color: #008080; text-decoration-color: #008080; font-weight: bold\">2316472127</span>\n",
       "</pre>\n"
      ],
      "text/plain": [
       "\u001b[1;36m2316472127\u001b[0m\n"
      ]
     },
     "metadata": {},
     "output_type": "display_data"
    },
    {
     "data": {
      "text/html": [
       "<pre style=\"white-space:pre;overflow-x:auto;line-height:normal;font-family:Menlo,'DejaVu Sans Mono',consolas,'Courier New',monospace\"><span style=\"color: #008080; text-decoration-color: #008080; font-weight: bold\">2316472127</span>\n",
       "</pre>\n"
      ],
      "text/plain": [
       "\u001b[1;36m2316472127\u001b[0m\n"
      ]
     },
     "metadata": {},
     "output_type": "display_data"
    },
    {
     "data": {
      "text/html": [
       "<pre style=\"white-space:pre;overflow-x:auto;line-height:normal;font-family:Menlo,'DejaVu Sans Mono',consolas,'Courier New',monospace\"><span style=\"color: #008080; text-decoration-color: #008080; font-weight: bold\">2316472127</span>\n",
       "</pre>\n"
      ],
      "text/plain": [
       "\u001b[1;36m2316472127\u001b[0m\n"
      ]
     },
     "metadata": {},
     "output_type": "display_data"
    },
    {
     "data": {
      "text/html": [
       "<pre style=\"white-space:pre;overflow-x:auto;line-height:normal;font-family:Menlo,'DejaVu Sans Mono',consolas,'Courier New',monospace\"><span style=\"color: #008080; text-decoration-color: #008080; font-weight: bold\">2316472127</span>\n",
       "</pre>\n"
      ],
      "text/plain": [
       "\u001b[1;36m2316472127\u001b[0m\n"
      ]
     },
     "metadata": {},
     "output_type": "display_data"
    },
    {
     "data": {
      "text/html": [
       "<pre style=\"white-space:pre;overflow-x:auto;line-height:normal;font-family:Menlo,'DejaVu Sans Mono',consolas,'Courier New',monospace\"><span style=\"color: #008080; text-decoration-color: #008080; font-weight: bold\">2316472127</span>\n",
       "</pre>\n"
      ],
      "text/plain": [
       "\u001b[1;36m2316472127\u001b[0m\n"
      ]
     },
     "metadata": {},
     "output_type": "display_data"
    },
    {
     "data": {
      "text/html": [
       "<pre style=\"white-space:pre;overflow-x:auto;line-height:normal;font-family:Menlo,'DejaVu Sans Mono',consolas,'Courier New',monospace\"><span style=\"color: #008080; text-decoration-color: #008080; font-weight: bold\">2316472127</span>\n",
       "</pre>\n"
      ],
      "text/plain": [
       "\u001b[1;36m2316472127\u001b[0m\n"
      ]
     },
     "metadata": {},
     "output_type": "display_data"
    },
    {
     "data": {
      "text/html": [
       "<pre style=\"white-space:pre;overflow-x:auto;line-height:normal;font-family:Menlo,'DejaVu Sans Mono',consolas,'Courier New',monospace\"><span style=\"color: #008080; text-decoration-color: #008080; font-weight: bold\">2316472127</span>\n",
       "</pre>\n"
      ],
      "text/plain": [
       "\u001b[1;36m2316472127\u001b[0m\n"
      ]
     },
     "metadata": {},
     "output_type": "display_data"
    },
    {
     "data": {
      "text/html": [
       "<pre style=\"white-space:pre;overflow-x:auto;line-height:normal;font-family:Menlo,'DejaVu Sans Mono',consolas,'Courier New',monospace\"><span style=\"color: #008080; text-decoration-color: #008080; font-weight: bold\">2316472127</span>\n",
       "</pre>\n"
      ],
      "text/plain": [
       "\u001b[1;36m2316472127\u001b[0m\n"
      ]
     },
     "metadata": {},
     "output_type": "display_data"
    },
    {
     "data": {
      "text/html": [
       "<pre style=\"white-space:pre;overflow-x:auto;line-height:normal;font-family:Menlo,'DejaVu Sans Mono',consolas,'Courier New',monospace\"><span style=\"color: #008080; text-decoration-color: #008080; font-weight: bold\">2310851168</span>\n",
       "</pre>\n"
      ],
      "text/plain": [
       "\u001b[1;36m2310851168\u001b[0m\n"
      ]
     },
     "metadata": {},
     "output_type": "display_data"
    },
    {
     "data": {
      "text/html": [
       "<pre style=\"white-space:pre;overflow-x:auto;line-height:normal;font-family:Menlo,'DejaVu Sans Mono',consolas,'Courier New',monospace\"><span style=\"color: #008080; text-decoration-color: #008080; font-weight: bold\">2316472127</span>\n",
       "</pre>\n"
      ],
      "text/plain": [
       "\u001b[1;36m2316472127\u001b[0m\n"
      ]
     },
     "metadata": {},
     "output_type": "display_data"
    },
    {
     "data": {
      "text/html": [
       "<pre style=\"white-space:pre;overflow-x:auto;line-height:normal;font-family:Menlo,'DejaVu Sans Mono',consolas,'Courier New',monospace\"><span style=\"color: #008080; text-decoration-color: #008080; font-weight: bold\">2316472127</span>\n",
       "</pre>\n"
      ],
      "text/plain": [
       "\u001b[1;36m2316472127\u001b[0m\n"
      ]
     },
     "metadata": {},
     "output_type": "display_data"
    },
    {
     "data": {
      "text/html": [
       "<pre style=\"white-space:pre;overflow-x:auto;line-height:normal;font-family:Menlo,'DejaVu Sans Mono',consolas,'Courier New',monospace\"><span style=\"color: #008080; text-decoration-color: #008080; font-weight: bold\">2316472127</span>\n",
       "</pre>\n"
      ],
      "text/plain": [
       "\u001b[1;36m2316472127\u001b[0m\n"
      ]
     },
     "metadata": {},
     "output_type": "display_data"
    },
    {
     "data": {
      "text/html": [
       "<pre style=\"white-space:pre;overflow-x:auto;line-height:normal;font-family:Menlo,'DejaVu Sans Mono',consolas,'Courier New',monospace\"><span style=\"color: #008080; text-decoration-color: #008080; font-weight: bold\">2310851168</span>\n",
       "</pre>\n"
      ],
      "text/plain": [
       "\u001b[1;36m2310851168\u001b[0m\n"
      ]
     },
     "metadata": {},
     "output_type": "display_data"
    },
    {
     "data": {
      "text/html": [
       "<pre style=\"white-space:pre;overflow-x:auto;line-height:normal;font-family:Menlo,'DejaVu Sans Mono',consolas,'Courier New',monospace\"><span style=\"color: #008080; text-decoration-color: #008080; font-weight: bold\">2310851168</span>\n",
       "</pre>\n"
      ],
      "text/plain": [
       "\u001b[1;36m2310851168\u001b[0m\n"
      ]
     },
     "metadata": {},
     "output_type": "display_data"
    },
    {
     "data": {
      "text/html": [
       "<pre style=\"white-space:pre;overflow-x:auto;line-height:normal;font-family:Menlo,'DejaVu Sans Mono',consolas,'Courier New',monospace\"><span style=\"color: #008080; text-decoration-color: #008080; font-weight: bold\">2316472127</span>\n",
       "</pre>\n"
      ],
      "text/plain": [
       "\u001b[1;36m2316472127\u001b[0m\n"
      ]
     },
     "metadata": {},
     "output_type": "display_data"
    },
    {
     "data": {
      "text/html": [
       "<pre style=\"white-space:pre;overflow-x:auto;line-height:normal;font-family:Menlo,'DejaVu Sans Mono',consolas,'Courier New',monospace\"><span style=\"color: #008080; text-decoration-color: #008080; font-weight: bold\">2310851168</span>\n",
       "</pre>\n"
      ],
      "text/plain": [
       "\u001b[1;36m2310851168\u001b[0m\n"
      ]
     },
     "metadata": {},
     "output_type": "display_data"
    },
    {
     "data": {
      "text/html": [
       "<pre style=\"white-space:pre;overflow-x:auto;line-height:normal;font-family:Menlo,'DejaVu Sans Mono',consolas,'Courier New',monospace\"><span style=\"color: #008080; text-decoration-color: #008080; font-weight: bold\">2310851168</span>\n",
       "</pre>\n"
      ],
      "text/plain": [
       "\u001b[1;36m2310851168\u001b[0m\n"
      ]
     },
     "metadata": {},
     "output_type": "display_data"
    },
    {
     "data": {
      "text/html": [
       "<pre style=\"white-space:pre;overflow-x:auto;line-height:normal;font-family:Menlo,'DejaVu Sans Mono',consolas,'Courier New',monospace\"><span style=\"color: #008080; text-decoration-color: #008080; font-weight: bold\">2310851168</span>\n",
       "</pre>\n"
      ],
      "text/plain": [
       "\u001b[1;36m2310851168\u001b[0m\n"
      ]
     },
     "metadata": {},
     "output_type": "display_data"
    },
    {
     "data": {
      "text/html": [
       "<pre style=\"white-space:pre;overflow-x:auto;line-height:normal;font-family:Menlo,'DejaVu Sans Mono',consolas,'Courier New',monospace\"><span style=\"color: #008080; text-decoration-color: #008080; font-weight: bold\">2310851168</span>\n",
       "</pre>\n"
      ],
      "text/plain": [
       "\u001b[1;36m2310851168\u001b[0m\n"
      ]
     },
     "metadata": {},
     "output_type": "display_data"
    },
    {
     "data": {
      "text/html": [
       "<pre style=\"white-space:pre;overflow-x:auto;line-height:normal;font-family:Menlo,'DejaVu Sans Mono',consolas,'Courier New',monospace\"><span style=\"color: #008080; text-decoration-color: #008080; font-weight: bold\">2310851168</span>\n",
       "</pre>\n"
      ],
      "text/plain": [
       "\u001b[1;36m2310851168\u001b[0m\n"
      ]
     },
     "metadata": {},
     "output_type": "display_data"
    },
    {
     "data": {
      "text/html": [
       "<pre style=\"white-space:pre;overflow-x:auto;line-height:normal;font-family:Menlo,'DejaVu Sans Mono',consolas,'Courier New',monospace\"><span style=\"color: #008080; text-decoration-color: #008080; font-weight: bold\">2310851168</span>\n",
       "</pre>\n"
      ],
      "text/plain": [
       "\u001b[1;36m2310851168\u001b[0m\n"
      ]
     },
     "metadata": {},
     "output_type": "display_data"
    },
    {
     "data": {
      "text/html": [
       "<pre style=\"white-space:pre;overflow-x:auto;line-height:normal;font-family:Menlo,'DejaVu Sans Mono',consolas,'Courier New',monospace\"><span style=\"color: #008080; text-decoration-color: #008080; font-weight: bold\">2310851168</span>\n",
       "</pre>\n"
      ],
      "text/plain": [
       "\u001b[1;36m2310851168\u001b[0m\n"
      ]
     },
     "metadata": {},
     "output_type": "display_data"
    },
    {
     "data": {
      "text/html": [
       "<pre style=\"white-space:pre;overflow-x:auto;line-height:normal;font-family:Menlo,'DejaVu Sans Mono',consolas,'Courier New',monospace\"><span style=\"color: #008080; text-decoration-color: #008080; font-weight: bold\">2310851168</span>\n",
       "</pre>\n"
      ],
      "text/plain": [
       "\u001b[1;36m2310851168\u001b[0m\n"
      ]
     },
     "metadata": {},
     "output_type": "display_data"
    },
    {
     "data": {
      "text/html": [
       "<pre style=\"white-space:pre;overflow-x:auto;line-height:normal;font-family:Menlo,'DejaVu Sans Mono',consolas,'Courier New',monospace\"><span style=\"color: #008080; text-decoration-color: #008080; font-weight: bold\">2297935739</span>\n",
       "</pre>\n"
      ],
      "text/plain": [
       "\u001b[1;36m2297935739\u001b[0m\n"
      ]
     },
     "metadata": {},
     "output_type": "display_data"
    },
    {
     "data": {
      "text/html": [
       "<pre style=\"white-space:pre;overflow-x:auto;line-height:normal;font-family:Menlo,'DejaVu Sans Mono',consolas,'Courier New',monospace\"><span style=\"color: #008080; text-decoration-color: #008080; font-weight: bold\">2297935739</span>\n",
       "</pre>\n"
      ],
      "text/plain": [
       "\u001b[1;36m2297935739\u001b[0m\n"
      ]
     },
     "metadata": {},
     "output_type": "display_data"
    },
    {
     "data": {
      "text/html": [
       "<pre style=\"white-space:pre;overflow-x:auto;line-height:normal;font-family:Menlo,'DejaVu Sans Mono',consolas,'Courier New',monospace\"><span style=\"color: #008080; text-decoration-color: #008080; font-weight: bold\">2297935739</span>\n",
       "</pre>\n"
      ],
      "text/plain": [
       "\u001b[1;36m2297935739\u001b[0m\n"
      ]
     },
     "metadata": {},
     "output_type": "display_data"
    },
    {
     "data": {
      "text/html": [
       "<pre style=\"white-space:pre;overflow-x:auto;line-height:normal;font-family:Menlo,'DejaVu Sans Mono',consolas,'Courier New',monospace\"><span style=\"color: #008080; text-decoration-color: #008080; font-weight: bold\">2297935739</span>\n",
       "</pre>\n"
      ],
      "text/plain": [
       "\u001b[1;36m2297935739\u001b[0m\n"
      ]
     },
     "metadata": {},
     "output_type": "display_data"
    },
    {
     "data": {
      "text/html": [
       "<pre style=\"white-space:pre;overflow-x:auto;line-height:normal;font-family:Menlo,'DejaVu Sans Mono',consolas,'Courier New',monospace\"><span style=\"color: #008080; text-decoration-color: #008080; font-weight: bold\">2297935739</span>\n",
       "</pre>\n"
      ],
      "text/plain": [
       "\u001b[1;36m2297935739\u001b[0m\n"
      ]
     },
     "metadata": {},
     "output_type": "display_data"
    },
    {
     "data": {
      "text/html": [
       "<pre style=\"white-space:pre;overflow-x:auto;line-height:normal;font-family:Menlo,'DejaVu Sans Mono',consolas,'Courier New',monospace\"><span style=\"color: #008080; text-decoration-color: #008080; font-weight: bold\">2297935739</span>\n",
       "</pre>\n"
      ],
      "text/plain": [
       "\u001b[1;36m2297935739\u001b[0m\n"
      ]
     },
     "metadata": {},
     "output_type": "display_data"
    },
    {
     "data": {
      "text/html": [
       "<pre style=\"white-space:pre;overflow-x:auto;line-height:normal;font-family:Menlo,'DejaVu Sans Mono',consolas,'Courier New',monospace\"><span style=\"color: #008080; text-decoration-color: #008080; font-weight: bold\">2297935739</span>\n",
       "</pre>\n"
      ],
      "text/plain": [
       "\u001b[1;36m2297935739\u001b[0m\n"
      ]
     },
     "metadata": {},
     "output_type": "display_data"
    },
    {
     "data": {
      "text/html": [
       "<pre style=\"white-space:pre;overflow-x:auto;line-height:normal;font-family:Menlo,'DejaVu Sans Mono',consolas,'Courier New',monospace\"><span style=\"color: #008080; text-decoration-color: #008080; font-weight: bold\">2297935739</span>\n",
       "</pre>\n"
      ],
      "text/plain": [
       "\u001b[1;36m2297935739\u001b[0m\n"
      ]
     },
     "metadata": {},
     "output_type": "display_data"
    },
    {
     "data": {
      "text/html": [
       "<pre style=\"white-space:pre;overflow-x:auto;line-height:normal;font-family:Menlo,'DejaVu Sans Mono',consolas,'Courier New',monospace\"><span style=\"color: #008080; text-decoration-color: #008080; font-weight: bold\">2297935739</span>\n",
       "</pre>\n"
      ],
      "text/plain": [
       "\u001b[1;36m2297935739\u001b[0m\n"
      ]
     },
     "metadata": {},
     "output_type": "display_data"
    },
    {
     "data": {
      "text/html": [
       "<pre style=\"white-space:pre;overflow-x:auto;line-height:normal;font-family:Menlo,'DejaVu Sans Mono',consolas,'Courier New',monospace\"><span style=\"color: #008080; text-decoration-color: #008080; font-weight: bold\">2297935739</span>\n",
       "</pre>\n"
      ],
      "text/plain": [
       "\u001b[1;36m2297935739\u001b[0m\n"
      ]
     },
     "metadata": {},
     "output_type": "display_data"
    },
    {
     "data": {
      "text/html": [
       "<pre style=\"white-space:pre;overflow-x:auto;line-height:normal;font-family:Menlo,'DejaVu Sans Mono',consolas,'Courier New',monospace\"><span style=\"color: #008080; text-decoration-color: #008080; font-weight: bold\">2297935739</span>\n",
       "</pre>\n"
      ],
      "text/plain": [
       "\u001b[1;36m2297935739\u001b[0m\n"
      ]
     },
     "metadata": {},
     "output_type": "display_data"
    },
    {
     "data": {
      "text/html": [
       "<pre style=\"white-space:pre;overflow-x:auto;line-height:normal;font-family:Menlo,'DejaVu Sans Mono',consolas,'Courier New',monospace\"><span style=\"color: #008080; text-decoration-color: #008080; font-weight: bold\">2297935739</span>\n",
       "</pre>\n"
      ],
      "text/plain": [
       "\u001b[1;36m2297935739\u001b[0m\n"
      ]
     },
     "metadata": {},
     "output_type": "display_data"
    },
    {
     "data": {
      "text/html": [
       "<pre style=\"white-space:pre;overflow-x:auto;line-height:normal;font-family:Menlo,'DejaVu Sans Mono',consolas,'Courier New',monospace\"><span style=\"color: #008080; text-decoration-color: #008080; font-weight: bold\">2297935739</span>\n",
       "</pre>\n"
      ],
      "text/plain": [
       "\u001b[1;36m2297935739\u001b[0m\n"
      ]
     },
     "metadata": {},
     "output_type": "display_data"
    },
    {
     "data": {
      "text/html": [
       "<pre style=\"white-space:pre;overflow-x:auto;line-height:normal;font-family:Menlo,'DejaVu Sans Mono',consolas,'Courier New',monospace\"><span style=\"color: #008080; text-decoration-color: #008080; font-weight: bold\">2297935739</span>\n",
       "</pre>\n"
      ],
      "text/plain": [
       "\u001b[1;36m2297935739\u001b[0m\n"
      ]
     },
     "metadata": {},
     "output_type": "display_data"
    },
    {
     "data": {
      "text/html": [
       "<pre style=\"white-space:pre;overflow-x:auto;line-height:normal;font-family:Menlo,'DejaVu Sans Mono',consolas,'Courier New',monospace\"><span style=\"color: #008080; text-decoration-color: #008080; font-weight: bold\">2297935739</span>\n",
       "</pre>\n"
      ],
      "text/plain": [
       "\u001b[1;36m2297935739\u001b[0m\n"
      ]
     },
     "metadata": {},
     "output_type": "display_data"
    },
    {
     "data": {
      "text/html": [
       "<pre style=\"white-space:pre;overflow-x:auto;line-height:normal;font-family:Menlo,'DejaVu Sans Mono',consolas,'Courier New',monospace\"><span style=\"color: #008080; text-decoration-color: #008080; font-weight: bold\">2287547790</span>\n",
       "</pre>\n"
      ],
      "text/plain": [
       "\u001b[1;36m2287547790\u001b[0m\n"
      ]
     },
     "metadata": {},
     "output_type": "display_data"
    },
    {
     "data": {
      "text/html": [
       "<pre style=\"white-space:pre;overflow-x:auto;line-height:normal;font-family:Menlo,'DejaVu Sans Mono',consolas,'Courier New',monospace\"><span style=\"color: #008080; text-decoration-color: #008080; font-weight: bold\">2310851168</span>\n",
       "</pre>\n"
      ],
      "text/plain": [
       "\u001b[1;36m2310851168\u001b[0m\n"
      ]
     },
     "metadata": {},
     "output_type": "display_data"
    },
    {
     "data": {
      "text/html": [
       "<pre style=\"white-space:pre;overflow-x:auto;line-height:normal;font-family:Menlo,'DejaVu Sans Mono',consolas,'Courier New',monospace\"><span style=\"color: #008080; text-decoration-color: #008080; font-weight: bold\">2287547790</span>\n",
       "</pre>\n"
      ],
      "text/plain": [
       "\u001b[1;36m2287547790\u001b[0m\n"
      ]
     },
     "metadata": {},
     "output_type": "display_data"
    },
    {
     "data": {
      "text/html": [
       "<pre style=\"white-space:pre;overflow-x:auto;line-height:normal;font-family:Menlo,'DejaVu Sans Mono',consolas,'Courier New',monospace\"><span style=\"color: #008080; text-decoration-color: #008080; font-weight: bold\">2316472127</span>\n",
       "</pre>\n"
      ],
      "text/plain": [
       "\u001b[1;36m2316472127\u001b[0m\n"
      ]
     },
     "metadata": {},
     "output_type": "display_data"
    },
    {
     "data": {
      "text/html": [
       "<pre style=\"white-space:pre;overflow-x:auto;line-height:normal;font-family:Menlo,'DejaVu Sans Mono',consolas,'Courier New',monospace\"><span style=\"color: #008080; text-decoration-color: #008080; font-weight: bold\">2316472127</span>\n",
       "</pre>\n"
      ],
      "text/plain": [
       "\u001b[1;36m2316472127\u001b[0m\n"
      ]
     },
     "metadata": {},
     "output_type": "display_data"
    },
    {
     "data": {
      "text/html": [
       "<pre style=\"white-space:pre;overflow-x:auto;line-height:normal;font-family:Menlo,'DejaVu Sans Mono',consolas,'Courier New',monospace\"><span style=\"color: #008080; text-decoration-color: #008080; font-weight: bold\">2316472127</span>\n",
       "</pre>\n"
      ],
      "text/plain": [
       "\u001b[1;36m2316472127\u001b[0m\n"
      ]
     },
     "metadata": {},
     "output_type": "display_data"
    },
    {
     "data": {
      "text/html": [
       "<pre style=\"white-space:pre;overflow-x:auto;line-height:normal;font-family:Menlo,'DejaVu Sans Mono',consolas,'Courier New',monospace\"><span style=\"color: #008080; text-decoration-color: #008080; font-weight: bold\">2316472127</span>\n",
       "</pre>\n"
      ],
      "text/plain": [
       "\u001b[1;36m2316472127\u001b[0m\n"
      ]
     },
     "metadata": {},
     "output_type": "display_data"
    },
    {
     "data": {
      "text/html": [
       "<pre style=\"white-space:pre;overflow-x:auto;line-height:normal;font-family:Menlo,'DejaVu Sans Mono',consolas,'Courier New',monospace\"><span style=\"color: #008080; text-decoration-color: #008080; font-weight: bold\">2316472127</span>\n",
       "</pre>\n"
      ],
      "text/plain": [
       "\u001b[1;36m2316472127\u001b[0m\n"
      ]
     },
     "metadata": {},
     "output_type": "display_data"
    },
    {
     "data": {
      "text/html": [
       "<pre style=\"white-space:pre;overflow-x:auto;line-height:normal;font-family:Menlo,'DejaVu Sans Mono',consolas,'Courier New',monospace\"><span style=\"color: #008080; text-decoration-color: #008080; font-weight: bold\">2316472127</span>\n",
       "</pre>\n"
      ],
      "text/plain": [
       "\u001b[1;36m2316472127\u001b[0m\n"
      ]
     },
     "metadata": {},
     "output_type": "display_data"
    },
    {
     "data": {
      "text/html": [
       "<pre style=\"white-space:pre;overflow-x:auto;line-height:normal;font-family:Menlo,'DejaVu Sans Mono',consolas,'Courier New',monospace\"><span style=\"color: #008080; text-decoration-color: #008080; font-weight: bold\">2316472127</span>\n",
       "</pre>\n"
      ],
      "text/plain": [
       "\u001b[1;36m2316472127\u001b[0m\n"
      ]
     },
     "metadata": {},
     "output_type": "display_data"
    },
    {
     "data": {
      "text/html": [
       "<pre style=\"white-space:pre;overflow-x:auto;line-height:normal;font-family:Menlo,'DejaVu Sans Mono',consolas,'Courier New',monospace\"><span style=\"color: #008080; text-decoration-color: #008080; font-weight: bold\">2316472127</span>\n",
       "</pre>\n"
      ],
      "text/plain": [
       "\u001b[1;36m2316472127\u001b[0m\n"
      ]
     },
     "metadata": {},
     "output_type": "display_data"
    },
    {
     "data": {
      "text/html": [
       "<pre style=\"white-space:pre;overflow-x:auto;line-height:normal;font-family:Menlo,'DejaVu Sans Mono',consolas,'Courier New',monospace\"><span style=\"color: #008080; text-decoration-color: #008080; font-weight: bold\">2310851168</span>\n",
       "</pre>\n"
      ],
      "text/plain": [
       "\u001b[1;36m2310851168\u001b[0m\n"
      ]
     },
     "metadata": {},
     "output_type": "display_data"
    },
    {
     "data": {
      "text/html": [
       "<pre style=\"white-space:pre;overflow-x:auto;line-height:normal;font-family:Menlo,'DejaVu Sans Mono',consolas,'Courier New',monospace\"><span style=\"color: #008080; text-decoration-color: #008080; font-weight: bold\">2310851168</span>\n",
       "</pre>\n"
      ],
      "text/plain": [
       "\u001b[1;36m2310851168\u001b[0m\n"
      ]
     },
     "metadata": {},
     "output_type": "display_data"
    },
    {
     "data": {
      "text/html": [
       "<pre style=\"white-space:pre;overflow-x:auto;line-height:normal;font-family:Menlo,'DejaVu Sans Mono',consolas,'Courier New',monospace\"><span style=\"color: #008080; text-decoration-color: #008080; font-weight: bold\">2316472127</span>\n",
       "</pre>\n"
      ],
      "text/plain": [
       "\u001b[1;36m2316472127\u001b[0m\n"
      ]
     },
     "metadata": {},
     "output_type": "display_data"
    },
    {
     "data": {
      "text/html": [
       "<pre style=\"white-space:pre;overflow-x:auto;line-height:normal;font-family:Menlo,'DejaVu Sans Mono',consolas,'Courier New',monospace\"><span style=\"color: #008080; text-decoration-color: #008080; font-weight: bold\">2316472127</span>\n",
       "</pre>\n"
      ],
      "text/plain": [
       "\u001b[1;36m2316472127\u001b[0m\n"
      ]
     },
     "metadata": {},
     "output_type": "display_data"
    },
    {
     "data": {
      "text/html": [
       "<pre style=\"white-space:pre;overflow-x:auto;line-height:normal;font-family:Menlo,'DejaVu Sans Mono',consolas,'Courier New',monospace\"><span style=\"color: #008080; text-decoration-color: #008080; font-weight: bold\">2316472127</span>\n",
       "</pre>\n"
      ],
      "text/plain": [
       "\u001b[1;36m2316472127\u001b[0m\n"
      ]
     },
     "metadata": {},
     "output_type": "display_data"
    },
    {
     "data": {
      "text/html": [
       "<pre style=\"white-space:pre;overflow-x:auto;line-height:normal;font-family:Menlo,'DejaVu Sans Mono',consolas,'Courier New',monospace\"><span style=\"color: #008080; text-decoration-color: #008080; font-weight: bold\">2316472127</span>\n",
       "</pre>\n"
      ],
      "text/plain": [
       "\u001b[1;36m2316472127\u001b[0m\n"
      ]
     },
     "metadata": {},
     "output_type": "display_data"
    },
    {
     "data": {
      "text/html": [
       "<pre style=\"white-space:pre;overflow-x:auto;line-height:normal;font-family:Menlo,'DejaVu Sans Mono',consolas,'Courier New',monospace\"><span style=\"color: #008080; text-decoration-color: #008080; font-weight: bold\">2310851168</span>\n",
       "</pre>\n"
      ],
      "text/plain": [
       "\u001b[1;36m2310851168\u001b[0m\n"
      ]
     },
     "metadata": {},
     "output_type": "display_data"
    },
    {
     "data": {
      "text/html": [
       "<pre style=\"white-space:pre;overflow-x:auto;line-height:normal;font-family:Menlo,'DejaVu Sans Mono',consolas,'Courier New',monospace\"><span style=\"color: #008080; text-decoration-color: #008080; font-weight: bold\">2316472127</span>\n",
       "</pre>\n"
      ],
      "text/plain": [
       "\u001b[1;36m2316472127\u001b[0m\n"
      ]
     },
     "metadata": {},
     "output_type": "display_data"
    },
    {
     "data": {
      "text/html": [
       "<pre style=\"white-space:pre;overflow-x:auto;line-height:normal;font-family:Menlo,'DejaVu Sans Mono',consolas,'Courier New',monospace\"><span style=\"color: #008080; text-decoration-color: #008080; font-weight: bold\">2316472127</span>\n",
       "</pre>\n"
      ],
      "text/plain": [
       "\u001b[1;36m2316472127\u001b[0m\n"
      ]
     },
     "metadata": {},
     "output_type": "display_data"
    },
    {
     "data": {
      "text/html": [
       "<pre style=\"white-space:pre;overflow-x:auto;line-height:normal;font-family:Menlo,'DejaVu Sans Mono',consolas,'Courier New',monospace\"><span style=\"color: #008080; text-decoration-color: #008080; font-weight: bold\">2316472127</span>\n",
       "</pre>\n"
      ],
      "text/plain": [
       "\u001b[1;36m2316472127\u001b[0m\n"
      ]
     },
     "metadata": {},
     "output_type": "display_data"
    },
    {
     "data": {
      "text/html": [
       "<pre style=\"white-space:pre;overflow-x:auto;line-height:normal;font-family:Menlo,'DejaVu Sans Mono',consolas,'Courier New',monospace\"><span style=\"color: #008080; text-decoration-color: #008080; font-weight: bold\">2316472127</span>\n",
       "</pre>\n"
      ],
      "text/plain": [
       "\u001b[1;36m2316472127\u001b[0m\n"
      ]
     },
     "metadata": {},
     "output_type": "display_data"
    },
    {
     "data": {
      "text/html": [
       "<pre style=\"white-space:pre;overflow-x:auto;line-height:normal;font-family:Menlo,'DejaVu Sans Mono',consolas,'Courier New',monospace\"><span style=\"color: #008080; text-decoration-color: #008080; font-weight: bold\">2316472127</span>\n",
       "</pre>\n"
      ],
      "text/plain": [
       "\u001b[1;36m2316472127\u001b[0m\n"
      ]
     },
     "metadata": {},
     "output_type": "display_data"
    },
    {
     "data": {
      "text/html": [
       "<pre style=\"white-space:pre;overflow-x:auto;line-height:normal;font-family:Menlo,'DejaVu Sans Mono',consolas,'Courier New',monospace\"><span style=\"color: #008080; text-decoration-color: #008080; font-weight: bold\">2316472127</span>\n",
       "</pre>\n"
      ],
      "text/plain": [
       "\u001b[1;36m2316472127\u001b[0m\n"
      ]
     },
     "metadata": {},
     "output_type": "display_data"
    },
    {
     "data": {
      "text/html": [
       "<pre style=\"white-space:pre;overflow-x:auto;line-height:normal;font-family:Menlo,'DejaVu Sans Mono',consolas,'Courier New',monospace\"><span style=\"color: #008080; text-decoration-color: #008080; font-weight: bold\">2310851168</span>\n",
       "</pre>\n"
      ],
      "text/plain": [
       "\u001b[1;36m2310851168\u001b[0m\n"
      ]
     },
     "metadata": {},
     "output_type": "display_data"
    },
    {
     "data": {
      "text/html": [
       "<pre style=\"white-space:pre;overflow-x:auto;line-height:normal;font-family:Menlo,'DejaVu Sans Mono',consolas,'Courier New',monospace\"><span style=\"color: #008080; text-decoration-color: #008080; font-weight: bold\">2310851168</span>\n",
       "</pre>\n"
      ],
      "text/plain": [
       "\u001b[1;36m2310851168\u001b[0m\n"
      ]
     },
     "metadata": {},
     "output_type": "display_data"
    },
    {
     "data": {
      "text/html": [
       "<pre style=\"white-space:pre;overflow-x:auto;line-height:normal;font-family:Menlo,'DejaVu Sans Mono',consolas,'Courier New',monospace\"><span style=\"color: #008080; text-decoration-color: #008080; font-weight: bold\">2310851168</span>\n",
       "</pre>\n"
      ],
      "text/plain": [
       "\u001b[1;36m2310851168\u001b[0m\n"
      ]
     },
     "metadata": {},
     "output_type": "display_data"
    },
    {
     "data": {
      "text/html": [
       "<pre style=\"white-space:pre;overflow-x:auto;line-height:normal;font-family:Menlo,'DejaVu Sans Mono',consolas,'Courier New',monospace\"><span style=\"color: #008080; text-decoration-color: #008080; font-weight: bold\">2310851168</span>\n",
       "</pre>\n"
      ],
      "text/plain": [
       "\u001b[1;36m2310851168\u001b[0m\n"
      ]
     },
     "metadata": {},
     "output_type": "display_data"
    },
    {
     "data": {
      "text/html": [
       "<pre style=\"white-space:pre;overflow-x:auto;line-height:normal;font-family:Menlo,'DejaVu Sans Mono',consolas,'Courier New',monospace\"><span style=\"color: #008080; text-decoration-color: #008080; font-weight: bold\">2310851168</span>\n",
       "</pre>\n"
      ],
      "text/plain": [
       "\u001b[1;36m2310851168\u001b[0m\n"
      ]
     },
     "metadata": {},
     "output_type": "display_data"
    },
    {
     "data": {
      "text/html": [
       "<pre style=\"white-space:pre;overflow-x:auto;line-height:normal;font-family:Menlo,'DejaVu Sans Mono',consolas,'Courier New',monospace\"><span style=\"color: #008080; text-decoration-color: #008080; font-weight: bold\">2310851168</span>\n",
       "</pre>\n"
      ],
      "text/plain": [
       "\u001b[1;36m2310851168\u001b[0m\n"
      ]
     },
     "metadata": {},
     "output_type": "display_data"
    },
    {
     "data": {
      "text/html": [
       "<pre style=\"white-space:pre;overflow-x:auto;line-height:normal;font-family:Menlo,'DejaVu Sans Mono',consolas,'Courier New',monospace\"><span style=\"color: #008080; text-decoration-color: #008080; font-weight: bold\">2310851168</span>\n",
       "</pre>\n"
      ],
      "text/plain": [
       "\u001b[1;36m2310851168\u001b[0m\n"
      ]
     },
     "metadata": {},
     "output_type": "display_data"
    },
    {
     "data": {
      "text/html": [
       "<pre style=\"white-space:pre;overflow-x:auto;line-height:normal;font-family:Menlo,'DejaVu Sans Mono',consolas,'Courier New',monospace\"><span style=\"color: #008080; text-decoration-color: #008080; font-weight: bold\">2310851168</span>\n",
       "</pre>\n"
      ],
      "text/plain": [
       "\u001b[1;36m2310851168\u001b[0m\n"
      ]
     },
     "metadata": {},
     "output_type": "display_data"
    },
    {
     "data": {
      "text/html": [
       "<pre style=\"white-space:pre;overflow-x:auto;line-height:normal;font-family:Menlo,'DejaVu Sans Mono',consolas,'Courier New',monospace\"><span style=\"color: #008080; text-decoration-color: #008080; font-weight: bold\">2310851168</span>\n",
       "</pre>\n"
      ],
      "text/plain": [
       "\u001b[1;36m2310851168\u001b[0m\n"
      ]
     },
     "metadata": {},
     "output_type": "display_data"
    },
    {
     "data": {
      "text/html": [
       "<pre style=\"white-space:pre;overflow-x:auto;line-height:normal;font-family:Menlo,'DejaVu Sans Mono',consolas,'Courier New',monospace\"><span style=\"color: #008080; text-decoration-color: #008080; font-weight: bold\">2310851168</span>\n",
       "</pre>\n"
      ],
      "text/plain": [
       "\u001b[1;36m2310851168\u001b[0m\n"
      ]
     },
     "metadata": {},
     "output_type": "display_data"
    },
    {
     "data": {
      "text/html": [
       "<pre style=\"white-space:pre;overflow-x:auto;line-height:normal;font-family:Menlo,'DejaVu Sans Mono',consolas,'Courier New',monospace\"><span style=\"color: #008080; text-decoration-color: #008080; font-weight: bold\">2316472127</span>\n",
       "</pre>\n"
      ],
      "text/plain": [
       "\u001b[1;36m2316472127\u001b[0m\n"
      ]
     },
     "metadata": {},
     "output_type": "display_data"
    },
    {
     "data": {
      "text/html": [
       "<pre style=\"white-space:pre;overflow-x:auto;line-height:normal;font-family:Menlo,'DejaVu Sans Mono',consolas,'Courier New',monospace\"><span style=\"color: #008080; text-decoration-color: #008080; font-weight: bold\">2316472127</span>\n",
       "</pre>\n"
      ],
      "text/plain": [
       "\u001b[1;36m2316472127\u001b[0m\n"
      ]
     },
     "metadata": {},
     "output_type": "display_data"
    },
    {
     "data": {
      "text/html": [
       "<pre style=\"white-space:pre;overflow-x:auto;line-height:normal;font-family:Menlo,'DejaVu Sans Mono',consolas,'Courier New',monospace\"><span style=\"color: #008080; text-decoration-color: #008080; font-weight: bold\">2316472127</span>\n",
       "</pre>\n"
      ],
      "text/plain": [
       "\u001b[1;36m2316472127\u001b[0m\n"
      ]
     },
     "metadata": {},
     "output_type": "display_data"
    },
    {
     "data": {
      "text/html": [
       "<pre style=\"white-space:pre;overflow-x:auto;line-height:normal;font-family:Menlo,'DejaVu Sans Mono',consolas,'Courier New',monospace\"><span style=\"color: #008080; text-decoration-color: #008080; font-weight: bold\">2316472127</span>\n",
       "</pre>\n"
      ],
      "text/plain": [
       "\u001b[1;36m2316472127\u001b[0m\n"
      ]
     },
     "metadata": {},
     "output_type": "display_data"
    },
    {
     "data": {
      "text/html": [
       "<pre style=\"white-space:pre;overflow-x:auto;line-height:normal;font-family:Menlo,'DejaVu Sans Mono',consolas,'Courier New',monospace\"><span style=\"color: #008080; text-decoration-color: #008080; font-weight: bold\">2316472127</span>\n",
       "</pre>\n"
      ],
      "text/plain": [
       "\u001b[1;36m2316472127\u001b[0m\n"
      ]
     },
     "metadata": {},
     "output_type": "display_data"
    },
    {
     "data": {
      "text/html": [
       "<pre style=\"white-space:pre;overflow-x:auto;line-height:normal;font-family:Menlo,'DejaVu Sans Mono',consolas,'Courier New',monospace\"><span style=\"color: #008080; text-decoration-color: #008080; font-weight: bold\">2316472127</span>\n",
       "</pre>\n"
      ],
      "text/plain": [
       "\u001b[1;36m2316472127\u001b[0m\n"
      ]
     },
     "metadata": {},
     "output_type": "display_data"
    },
    {
     "data": {
      "text/html": [
       "<pre style=\"white-space:pre;overflow-x:auto;line-height:normal;font-family:Menlo,'DejaVu Sans Mono',consolas,'Courier New',monospace\"><span style=\"color: #008080; text-decoration-color: #008080; font-weight: bold\">2316472127</span>\n",
       "</pre>\n"
      ],
      "text/plain": [
       "\u001b[1;36m2316472127\u001b[0m\n"
      ]
     },
     "metadata": {},
     "output_type": "display_data"
    },
    {
     "data": {
      "text/html": [
       "<pre style=\"white-space:pre;overflow-x:auto;line-height:normal;font-family:Menlo,'DejaVu Sans Mono',consolas,'Courier New',monospace\"><span style=\"color: #008080; text-decoration-color: #008080; font-weight: bold\">2316472127</span>\n",
       "</pre>\n"
      ],
      "text/plain": [
       "\u001b[1;36m2316472127\u001b[0m\n"
      ]
     },
     "metadata": {},
     "output_type": "display_data"
    },
    {
     "data": {
      "text/html": [
       "<pre style=\"white-space:pre;overflow-x:auto;line-height:normal;font-family:Menlo,'DejaVu Sans Mono',consolas,'Courier New',monospace\"><span style=\"color: #008080; text-decoration-color: #008080; font-weight: bold\">2316472127</span>\n",
       "</pre>\n"
      ],
      "text/plain": [
       "\u001b[1;36m2316472127\u001b[0m\n"
      ]
     },
     "metadata": {},
     "output_type": "display_data"
    },
    {
     "data": {
      "text/html": [
       "<pre style=\"white-space:pre;overflow-x:auto;line-height:normal;font-family:Menlo,'DejaVu Sans Mono',consolas,'Courier New',monospace\"><span style=\"color: #008080; text-decoration-color: #008080; font-weight: bold\">2310851168</span>\n",
       "</pre>\n"
      ],
      "text/plain": [
       "\u001b[1;36m2310851168\u001b[0m\n"
      ]
     },
     "metadata": {},
     "output_type": "display_data"
    },
    {
     "data": {
      "text/html": [
       "<pre style=\"white-space:pre;overflow-x:auto;line-height:normal;font-family:Menlo,'DejaVu Sans Mono',consolas,'Courier New',monospace\"><span style=\"color: #008080; text-decoration-color: #008080; font-weight: bold\">2310851168</span>\n",
       "</pre>\n"
      ],
      "text/plain": [
       "\u001b[1;36m2310851168\u001b[0m\n"
      ]
     },
     "metadata": {},
     "output_type": "display_data"
    },
    {
     "data": {
      "text/html": [
       "<pre style=\"white-space:pre;overflow-x:auto;line-height:normal;font-family:Menlo,'DejaVu Sans Mono',consolas,'Courier New',monospace\"><span style=\"color: #008080; text-decoration-color: #008080; font-weight: bold\">2310851168</span>\n",
       "</pre>\n"
      ],
      "text/plain": [
       "\u001b[1;36m2310851168\u001b[0m\n"
      ]
     },
     "metadata": {},
     "output_type": "display_data"
    },
    {
     "data": {
      "text/html": [
       "<pre style=\"white-space:pre;overflow-x:auto;line-height:normal;font-family:Menlo,'DejaVu Sans Mono',consolas,'Courier New',monospace\"><span style=\"color: #008080; text-decoration-color: #008080; font-weight: bold\">2310851168</span>\n",
       "</pre>\n"
      ],
      "text/plain": [
       "\u001b[1;36m2310851168\u001b[0m\n"
      ]
     },
     "metadata": {},
     "output_type": "display_data"
    },
    {
     "data": {
      "text/html": [
       "<pre style=\"white-space:pre;overflow-x:auto;line-height:normal;font-family:Menlo,'DejaVu Sans Mono',consolas,'Courier New',monospace\"><span style=\"color: #008080; text-decoration-color: #008080; font-weight: bold\">2310851168</span>\n",
       "</pre>\n"
      ],
      "text/plain": [
       "\u001b[1;36m2310851168\u001b[0m\n"
      ]
     },
     "metadata": {},
     "output_type": "display_data"
    },
    {
     "data": {
      "text/html": [
       "<pre style=\"white-space:pre;overflow-x:auto;line-height:normal;font-family:Menlo,'DejaVu Sans Mono',consolas,'Courier New',monospace\"><span style=\"color: #008080; text-decoration-color: #008080; font-weight: bold\">2310851168</span>\n",
       "</pre>\n"
      ],
      "text/plain": [
       "\u001b[1;36m2310851168\u001b[0m\n"
      ]
     },
     "metadata": {},
     "output_type": "display_data"
    },
    {
     "data": {
      "text/html": [
       "<pre style=\"white-space:pre;overflow-x:auto;line-height:normal;font-family:Menlo,'DejaVu Sans Mono',consolas,'Courier New',monospace\"><span style=\"color: #008080; text-decoration-color: #008080; font-weight: bold\">2310851168</span>\n",
       "</pre>\n"
      ],
      "text/plain": [
       "\u001b[1;36m2310851168\u001b[0m\n"
      ]
     },
     "metadata": {},
     "output_type": "display_data"
    },
    {
     "data": {
      "text/html": [
       "<pre style=\"white-space:pre;overflow-x:auto;line-height:normal;font-family:Menlo,'DejaVu Sans Mono',consolas,'Courier New',monospace\"><span style=\"color: #008080; text-decoration-color: #008080; font-weight: bold\">2310851168</span>\n",
       "</pre>\n"
      ],
      "text/plain": [
       "\u001b[1;36m2310851168\u001b[0m\n"
      ]
     },
     "metadata": {},
     "output_type": "display_data"
    },
    {
     "data": {
      "text/html": [
       "<pre style=\"white-space:pre;overflow-x:auto;line-height:normal;font-family:Menlo,'DejaVu Sans Mono',consolas,'Courier New',monospace\"><span style=\"color: #008080; text-decoration-color: #008080; font-weight: bold\">377018486</span>\n",
       "</pre>\n"
      ],
      "text/plain": [
       "\u001b[1;36m377018486\u001b[0m\n"
      ]
     },
     "metadata": {},
     "output_type": "display_data"
    },
    {
     "data": {
      "text/html": [
       "<pre style=\"white-space:pre;overflow-x:auto;line-height:normal;font-family:Menlo,'DejaVu Sans Mono',consolas,'Courier New',monospace\"><span style=\"color: #008080; text-decoration-color: #008080; font-weight: bold\">377018486</span>\n",
       "</pre>\n"
      ],
      "text/plain": [
       "\u001b[1;36m377018486\u001b[0m\n"
      ]
     },
     "metadata": {},
     "output_type": "display_data"
    },
    {
     "data": {
      "text/html": [
       "<pre style=\"white-space:pre;overflow-x:auto;line-height:normal;font-family:Menlo,'DejaVu Sans Mono',consolas,'Courier New',monospace\"><span style=\"color: #008080; text-decoration-color: #008080; font-weight: bold\">377018486</span>\n",
       "</pre>\n"
      ],
      "text/plain": [
       "\u001b[1;36m377018486\u001b[0m\n"
      ]
     },
     "metadata": {},
     "output_type": "display_data"
    },
    {
     "data": {
      "text/html": [
       "<pre style=\"white-space:pre;overflow-x:auto;line-height:normal;font-family:Menlo,'DejaVu Sans Mono',consolas,'Courier New',monospace\"><span style=\"color: #008080; text-decoration-color: #008080; font-weight: bold\">377018486</span>\n",
       "</pre>\n"
      ],
      "text/plain": [
       "\u001b[1;36m377018486\u001b[0m\n"
      ]
     },
     "metadata": {},
     "output_type": "display_data"
    },
    {
     "data": {
      "text/html": [
       "<pre style=\"white-space:pre;overflow-x:auto;line-height:normal;font-family:Menlo,'DejaVu Sans Mono',consolas,'Courier New',monospace\"><span style=\"color: #008080; text-decoration-color: #008080; font-weight: bold\">377018486</span>\n",
       "</pre>\n"
      ],
      "text/plain": [
       "\u001b[1;36m377018486\u001b[0m\n"
      ]
     },
     "metadata": {},
     "output_type": "display_data"
    },
    {
     "data": {
      "text/html": [
       "<pre style=\"white-space:pre;overflow-x:auto;line-height:normal;font-family:Menlo,'DejaVu Sans Mono',consolas,'Courier New',monospace\"><span style=\"color: #008080; text-decoration-color: #008080; font-weight: bold\">377018486</span>\n",
       "</pre>\n"
      ],
      "text/plain": [
       "\u001b[1;36m377018486\u001b[0m\n"
      ]
     },
     "metadata": {},
     "output_type": "display_data"
    },
    {
     "data": {
      "text/html": [
       "<pre style=\"white-space:pre;overflow-x:auto;line-height:normal;font-family:Menlo,'DejaVu Sans Mono',consolas,'Courier New',monospace\"><span style=\"color: #008080; text-decoration-color: #008080; font-weight: bold\">377018486</span>\n",
       "</pre>\n"
      ],
      "text/plain": [
       "\u001b[1;36m377018486\u001b[0m\n"
      ]
     },
     "metadata": {},
     "output_type": "display_data"
    },
    {
     "data": {
      "text/html": [
       "<pre style=\"white-space:pre;overflow-x:auto;line-height:normal;font-family:Menlo,'DejaVu Sans Mono',consolas,'Courier New',monospace\"><span style=\"color: #008080; text-decoration-color: #008080; font-weight: bold\">2310851168</span>\n",
       "</pre>\n"
      ],
      "text/plain": [
       "\u001b[1;36m2310851168\u001b[0m\n"
      ]
     },
     "metadata": {},
     "output_type": "display_data"
    },
    {
     "data": {
      "text/html": [
       "<pre style=\"white-space:pre;overflow-x:auto;line-height:normal;font-family:Menlo,'DejaVu Sans Mono',consolas,'Courier New',monospace\"><span style=\"color: #008080; text-decoration-color: #008080; font-weight: bold\">2310851168</span>\n",
       "</pre>\n"
      ],
      "text/plain": [
       "\u001b[1;36m2310851168\u001b[0m\n"
      ]
     },
     "metadata": {},
     "output_type": "display_data"
    },
    {
     "data": {
      "text/html": [
       "<pre style=\"white-space:pre;overflow-x:auto;line-height:normal;font-family:Menlo,'DejaVu Sans Mono',consolas,'Courier New',monospace\"><span style=\"color: #008080; text-decoration-color: #008080; font-weight: bold\">2310851168</span>\n",
       "</pre>\n"
      ],
      "text/plain": [
       "\u001b[1;36m2310851168\u001b[0m\n"
      ]
     },
     "metadata": {},
     "output_type": "display_data"
    },
    {
     "data": {
      "text/html": [
       "<pre style=\"white-space:pre;overflow-x:auto;line-height:normal;font-family:Menlo,'DejaVu Sans Mono',consolas,'Courier New',monospace\"><span style=\"color: #008080; text-decoration-color: #008080; font-weight: bold\">377018486</span>\n",
       "</pre>\n"
      ],
      "text/plain": [
       "\u001b[1;36m377018486\u001b[0m\n"
      ]
     },
     "metadata": {},
     "output_type": "display_data"
    },
    {
     "data": {
      "text/html": [
       "<pre style=\"white-space:pre;overflow-x:auto;line-height:normal;font-family:Menlo,'DejaVu Sans Mono',consolas,'Courier New',monospace\"><span style=\"color: #008080; text-decoration-color: #008080; font-weight: bold\">2310851168</span>\n",
       "</pre>\n"
      ],
      "text/plain": [
       "\u001b[1;36m2310851168\u001b[0m\n"
      ]
     },
     "metadata": {},
     "output_type": "display_data"
    },
    {
     "data": {
      "text/html": [
       "<pre style=\"white-space:pre;overflow-x:auto;line-height:normal;font-family:Menlo,'DejaVu Sans Mono',consolas,'Courier New',monospace\"><span style=\"color: #008080; text-decoration-color: #008080; font-weight: bold\">2297935739</span>\n",
       "</pre>\n"
      ],
      "text/plain": [
       "\u001b[1;36m2297935739\u001b[0m\n"
      ]
     },
     "metadata": {},
     "output_type": "display_data"
    },
    {
     "data": {
      "text/html": [
       "<pre style=\"white-space:pre;overflow-x:auto;line-height:normal;font-family:Menlo,'DejaVu Sans Mono',consolas,'Courier New',monospace\"><span style=\"color: #008080; text-decoration-color: #008080; font-weight: bold\">2297935739</span>\n",
       "</pre>\n"
      ],
      "text/plain": [
       "\u001b[1;36m2297935739\u001b[0m\n"
      ]
     },
     "metadata": {},
     "output_type": "display_data"
    },
    {
     "data": {
      "text/html": [
       "<pre style=\"white-space:pre;overflow-x:auto;line-height:normal;font-family:Menlo,'DejaVu Sans Mono',consolas,'Courier New',monospace\"><span style=\"color: #008080; text-decoration-color: #008080; font-weight: bold\">2297935739</span>\n",
       "</pre>\n"
      ],
      "text/plain": [
       "\u001b[1;36m2297935739\u001b[0m\n"
      ]
     },
     "metadata": {},
     "output_type": "display_data"
    },
    {
     "data": {
      "text/html": [
       "<pre style=\"white-space:pre;overflow-x:auto;line-height:normal;font-family:Menlo,'DejaVu Sans Mono',consolas,'Courier New',monospace\"><span style=\"color: #008080; text-decoration-color: #008080; font-weight: bold\">2297935739</span>\n",
       "</pre>\n"
      ],
      "text/plain": [
       "\u001b[1;36m2297935739\u001b[0m\n"
      ]
     },
     "metadata": {},
     "output_type": "display_data"
    },
    {
     "data": {
      "text/html": [
       "<pre style=\"white-space:pre;overflow-x:auto;line-height:normal;font-family:Menlo,'DejaVu Sans Mono',consolas,'Courier New',monospace\"><span style=\"color: #008080; text-decoration-color: #008080; font-weight: bold\">2297935739</span>\n",
       "</pre>\n"
      ],
      "text/plain": [
       "\u001b[1;36m2297935739\u001b[0m\n"
      ]
     },
     "metadata": {},
     "output_type": "display_data"
    },
    {
     "data": {
      "text/html": [
       "<pre style=\"white-space:pre;overflow-x:auto;line-height:normal;font-family:Menlo,'DejaVu Sans Mono',consolas,'Courier New',monospace\"><span style=\"color: #008080; text-decoration-color: #008080; font-weight: bold\">2297935739</span>\n",
       "</pre>\n"
      ],
      "text/plain": [
       "\u001b[1;36m2297935739\u001b[0m\n"
      ]
     },
     "metadata": {},
     "output_type": "display_data"
    },
    {
     "data": {
      "text/html": [
       "<pre style=\"white-space:pre;overflow-x:auto;line-height:normal;font-family:Menlo,'DejaVu Sans Mono',consolas,'Courier New',monospace\"><span style=\"color: #008080; text-decoration-color: #008080; font-weight: bold\">2297935739</span>\n",
       "</pre>\n"
      ],
      "text/plain": [
       "\u001b[1;36m2297935739\u001b[0m\n"
      ]
     },
     "metadata": {},
     "output_type": "display_data"
    },
    {
     "data": {
      "text/html": [
       "<pre style=\"white-space:pre;overflow-x:auto;line-height:normal;font-family:Menlo,'DejaVu Sans Mono',consolas,'Courier New',monospace\"><span style=\"color: #008080; text-decoration-color: #008080; font-weight: bold\">2297935739</span>\n",
       "</pre>\n"
      ],
      "text/plain": [
       "\u001b[1;36m2297935739\u001b[0m\n"
      ]
     },
     "metadata": {},
     "output_type": "display_data"
    },
    {
     "data": {
      "text/html": [
       "<pre style=\"white-space:pre;overflow-x:auto;line-height:normal;font-family:Menlo,'DejaVu Sans Mono',consolas,'Courier New',monospace\"><span style=\"color: #008080; text-decoration-color: #008080; font-weight: bold\">2297935739</span>\n",
       "</pre>\n"
      ],
      "text/plain": [
       "\u001b[1;36m2297935739\u001b[0m\n"
      ]
     },
     "metadata": {},
     "output_type": "display_data"
    },
    {
     "data": {
      "text/html": [
       "<pre style=\"white-space:pre;overflow-x:auto;line-height:normal;font-family:Menlo,'DejaVu Sans Mono',consolas,'Courier New',monospace\"><span style=\"color: #008080; text-decoration-color: #008080; font-weight: bold\">2297935739</span>\n",
       "</pre>\n"
      ],
      "text/plain": [
       "\u001b[1;36m2297935739\u001b[0m\n"
      ]
     },
     "metadata": {},
     "output_type": "display_data"
    },
    {
     "data": {
      "text/html": [
       "<pre style=\"white-space:pre;overflow-x:auto;line-height:normal;font-family:Menlo,'DejaVu Sans Mono',consolas,'Courier New',monospace\"><span style=\"color: #008080; text-decoration-color: #008080; font-weight: bold\">2297935739</span>\n",
       "</pre>\n"
      ],
      "text/plain": [
       "\u001b[1;36m2297935739\u001b[0m\n"
      ]
     },
     "metadata": {},
     "output_type": "display_data"
    },
    {
     "data": {
      "text/html": [
       "<pre style=\"white-space:pre;overflow-x:auto;line-height:normal;font-family:Menlo,'DejaVu Sans Mono',consolas,'Courier New',monospace\"><span style=\"color: #008080; text-decoration-color: #008080; font-weight: bold\">2297935739</span>\n",
       "</pre>\n"
      ],
      "text/plain": [
       "\u001b[1;36m2297935739\u001b[0m\n"
      ]
     },
     "metadata": {},
     "output_type": "display_data"
    },
    {
     "data": {
      "text/html": [
       "<pre style=\"white-space:pre;overflow-x:auto;line-height:normal;font-family:Menlo,'DejaVu Sans Mono',consolas,'Courier New',monospace\"><span style=\"color: #008080; text-decoration-color: #008080; font-weight: bold\">2297935739</span>\n",
       "</pre>\n"
      ],
      "text/plain": [
       "\u001b[1;36m2297935739\u001b[0m\n"
      ]
     },
     "metadata": {},
     "output_type": "display_data"
    },
    {
     "data": {
      "text/html": [
       "<pre style=\"white-space:pre;overflow-x:auto;line-height:normal;font-family:Menlo,'DejaVu Sans Mono',consolas,'Courier New',monospace\"><span style=\"color: #008080; text-decoration-color: #008080; font-weight: bold\">2297935739</span>\n",
       "</pre>\n"
      ],
      "text/plain": [
       "\u001b[1;36m2297935739\u001b[0m\n"
      ]
     },
     "metadata": {},
     "output_type": "display_data"
    },
    {
     "data": {
      "text/html": [
       "<pre style=\"white-space:pre;overflow-x:auto;line-height:normal;font-family:Menlo,'DejaVu Sans Mono',consolas,'Courier New',monospace\"><span style=\"color: #008080; text-decoration-color: #008080; font-weight: bold\">2297935739</span>\n",
       "</pre>\n"
      ],
      "text/plain": [
       "\u001b[1;36m2297935739\u001b[0m\n"
      ]
     },
     "metadata": {},
     "output_type": "display_data"
    },
    {
     "data": {
      "text/html": [
       "<pre style=\"white-space:pre;overflow-x:auto;line-height:normal;font-family:Menlo,'DejaVu Sans Mono',consolas,'Courier New',monospace\"><span style=\"color: #008080; text-decoration-color: #008080; font-weight: bold\">377018486</span>\n",
       "</pre>\n"
      ],
      "text/plain": [
       "\u001b[1;36m377018486\u001b[0m\n"
      ]
     },
     "metadata": {},
     "output_type": "display_data"
    },
    {
     "data": {
      "text/html": [
       "<pre style=\"white-space:pre;overflow-x:auto;line-height:normal;font-family:Menlo,'DejaVu Sans Mono',consolas,'Courier New',monospace\"><span style=\"color: #008080; text-decoration-color: #008080; font-weight: bold\">377018486</span>\n",
       "</pre>\n"
      ],
      "text/plain": [
       "\u001b[1;36m377018486\u001b[0m\n"
      ]
     },
     "metadata": {},
     "output_type": "display_data"
    },
    {
     "data": {
      "text/html": [
       "<pre style=\"white-space:pre;overflow-x:auto;line-height:normal;font-family:Menlo,'DejaVu Sans Mono',consolas,'Courier New',monospace\"><span style=\"color: #008080; text-decoration-color: #008080; font-weight: bold\">377018486</span>\n",
       "</pre>\n"
      ],
      "text/plain": [
       "\u001b[1;36m377018486\u001b[0m\n"
      ]
     },
     "metadata": {},
     "output_type": "display_data"
    },
    {
     "data": {
      "text/html": [
       "<pre style=\"white-space:pre;overflow-x:auto;line-height:normal;font-family:Menlo,'DejaVu Sans Mono',consolas,'Courier New',monospace\"><span style=\"color: #008080; text-decoration-color: #008080; font-weight: bold\">377018486</span>\n",
       "</pre>\n"
      ],
      "text/plain": [
       "\u001b[1;36m377018486\u001b[0m\n"
      ]
     },
     "metadata": {},
     "output_type": "display_data"
    },
    {
     "data": {
      "text/html": [
       "<pre style=\"white-space:pre;overflow-x:auto;line-height:normal;font-family:Menlo,'DejaVu Sans Mono',consolas,'Courier New',monospace\"><span style=\"color: #008080; text-decoration-color: #008080; font-weight: bold\">377018486</span>\n",
       "</pre>\n"
      ],
      "text/plain": [
       "\u001b[1;36m377018486\u001b[0m\n"
      ]
     },
     "metadata": {},
     "output_type": "display_data"
    },
    {
     "data": {
      "text/html": [
       "<pre style=\"white-space:pre;overflow-x:auto;line-height:normal;font-family:Menlo,'DejaVu Sans Mono',consolas,'Courier New',monospace\"><span style=\"color: #008080; text-decoration-color: #008080; font-weight: bold\">377018486</span>\n",
       "</pre>\n"
      ],
      "text/plain": [
       "\u001b[1;36m377018486\u001b[0m\n"
      ]
     },
     "metadata": {},
     "output_type": "display_data"
    },
    {
     "data": {
      "text/html": [
       "<pre style=\"white-space:pre;overflow-x:auto;line-height:normal;font-family:Menlo,'DejaVu Sans Mono',consolas,'Courier New',monospace\"><span style=\"color: #008080; text-decoration-color: #008080; font-weight: bold\">377018486</span>\n",
       "</pre>\n"
      ],
      "text/plain": [
       "\u001b[1;36m377018486\u001b[0m\n"
      ]
     },
     "metadata": {},
     "output_type": "display_data"
    },
    {
     "data": {
      "text/html": [
       "<pre style=\"white-space:pre;overflow-x:auto;line-height:normal;font-family:Menlo,'DejaVu Sans Mono',consolas,'Courier New',monospace\"><span style=\"color: #008080; text-decoration-color: #008080; font-weight: bold\">377018486</span>\n",
       "</pre>\n"
      ],
      "text/plain": [
       "\u001b[1;36m377018486\u001b[0m\n"
      ]
     },
     "metadata": {},
     "output_type": "display_data"
    },
    {
     "data": {
      "text/html": [
       "<pre style=\"white-space:pre;overflow-x:auto;line-height:normal;font-family:Menlo,'DejaVu Sans Mono',consolas,'Courier New',monospace\"><span style=\"color: #008080; text-decoration-color: #008080; font-weight: bold\">377018486</span>\n",
       "</pre>\n"
      ],
      "text/plain": [
       "\u001b[1;36m377018486\u001b[0m\n"
      ]
     },
     "metadata": {},
     "output_type": "display_data"
    }
   ],
   "source": [
    "for task in tasks:\n",
    "    print(task.project_id)"
   ]
  },
  {
   "cell_type": "code",
   "execution_count": null,
   "id": "0062c490-ab39-49c6-b188-e24fc47b4dc7",
   "metadata": {},
   "outputs": [],
   "source": []
  }
 ],
 "metadata": {
  "kernelspec": {
   "display_name": "Python 3 (ipykernel)",
   "language": "python",
   "name": "python3"
  },
  "language_info": {
   "codemirror_mode": {
    "name": "ipython",
    "version": 3
   },
   "file_extension": ".py",
   "mimetype": "text/x-python",
   "name": "python",
   "nbconvert_exporter": "python",
   "pygments_lexer": "ipython3",
   "version": "3.12.1"
  }
 },
 "nbformat": 4,
 "nbformat_minor": 5
}
