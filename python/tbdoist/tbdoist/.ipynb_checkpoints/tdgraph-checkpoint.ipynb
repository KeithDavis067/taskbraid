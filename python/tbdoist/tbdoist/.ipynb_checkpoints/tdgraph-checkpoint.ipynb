{
 "cells": [
  {
   "cell_type": "code",
   "execution_count": 1,
   "id": "e0694a95-e94a-4cef-b055-f9105f03bd2c",
   "metadata": {},
   "outputs": [],
   "source": [
    "import os\n",
    "import plotly.express as px\n",
    "import plotly.graph_objects as go\n",
    "import numpy as np\n",
    "import networkx as nx\n",
    "import nxutils as nxu\n",
    "from dataclasses import asdict\n",
    "from rich import print\n",
    "from rich.tree import Tree\n",
    "from rich.errors import NotRenderableError\n",
    "from nxutils import diGraph_to_richTree\n",
    "\n",
    "\n",
    "\n",
    "from todoist_api_python.api import TodoistAPI"
   ]
  },
  {
   "cell_type": "code",
   "execution_count": 2,
   "id": "ecae4043-3bf2-4ee2-92b8-fb72c30ed48b",
   "metadata": {},
   "outputs": [],
   "source": [
    "tdapi = TodoistAPI(os.getenv(\"TODOIST_API_KEY\"))"
   ]
  },
  {
   "cell_type": "code",
   "execution_count": 3,
   "id": "32b344e3-5069-4185-838c-d0dc0a1a9b3e",
   "metadata": {},
   "outputs": [],
   "source": [
    "try:\n",
    "    projects = tdapi.get_projects()\n",
    "    #print(projects)\n",
    "except Exception as error:\n",
    "    print(error)"
   ]
  },
  {
   "cell_type": "code",
   "execution_count": 4,
   "id": "bf2f1c2c-78c1-449b-b69d-2b2c1cd1dfe9",
   "metadata": {},
   "outputs": [],
   "source": [
    "def to_graph(obj, g=None):\n",
    "    if g is None:\n",
    "        g = nx.DiGraph()\n",
    "    ndicts = {}\n",
    "    for n in obj:\n",
    "        nd = asdict(n)\n",
    "        nd[\"obj\"] = n\n",
    "        ndicts[n.id] = nd\n",
    "    edges = [(n.id, n.parent_id) for n in obj if n.parent_id is not None] \n",
    "    g.add_nodes_from(ndicts.items())\n",
    "    g.add_edges_from(edges)\n",
    "    return g\n",
    "\n",
    "ph = to_graph(projects)\n",
    "ph.graph[\"name\"] = \"ToDoist\"\n",
    "rev = nx.reverse_view(ph)"
   ]
  },
  {
   "cell_type": "code",
   "execution_count": 5,
   "id": "ef0021de-6ed4-4c90-8717-19e97b0c3471",
   "metadata": {},
   "outputs": [
    {
     "data": {
      "text/html": [
       "<pre style=\"white-space:pre;overflow-x:auto;line-height:normal;font-family:Menlo,'DejaVu Sans Mono',consolas,'Courier New',monospace\">ToDoist\n",
       "├── Inbox\n",
       "├── Main Work =\n",
       "├── Main Personal =\n",
       "├── Info Collection =\n",
       "├── Shared DVT Tasks\n",
       "├── Food\n",
       "├── Recommendations\n",
       "├── Trips\n",
       "├── Tasks:Personal\n",
       "│   └── Build\n",
       "├── Quareia Module 1\n",
       "├── Parking Lot\n",
       "│   ├── Learn physics information theory\n",
       "│   ├── Kivy Pong Tutorial\n",
       "│   ├── Learn to Draw\n",
       "│   ├── Old Kobo Reuse.\n",
       "│   ├── Personal Web Page\n",
       "│   ├── Planetarian Article\n",
       "│   ├── Trip to Colorado\n",
       "│   ├── First BackPacking Trip\n",
       "│   ├── New M Persona Online\n",
       "│   ├── GLPA Outreach Project\n",
       "│   ├── Learn GR\n",
       "│   ├── New Professional Personal Online\n",
       "│   └── Trip to DC\n",
       "└── Templates\n",
       "    ├── Car Travel\n",
       "    └── General Project\n",
       "</pre>\n"
      ],
      "text/plain": [
       "ToDoist\n",
       "├── Inbox\n",
       "├── Main Work =\n",
       "├── Main Personal =\n",
       "├── Info Collection =\n",
       "├── Shared DVT Tasks\n",
       "├── Food\n",
       "├── Recommendations\n",
       "├── Trips\n",
       "├── Tasks:Personal\n",
       "│   └── Build\n",
       "├── Quareia Module 1\n",
       "├── Parking Lot\n",
       "│   ├── Learn physics information theory\n",
       "│   ├── Kivy Pong Tutorial\n",
       "│   ├── Learn to Draw\n",
       "│   ├── Old Kobo Reuse.\n",
       "│   ├── Personal Web Page\n",
       "│   ├── Planetarian Article\n",
       "│   ├── Trip to Colorado\n",
       "│   ├── First BackPacking Trip\n",
       "│   ├── New M Persona Online\n",
       "│   ├── GLPA Outreach Project\n",
       "│   ├── Learn GR\n",
       "│   ├── New Professional Personal Online\n",
       "│   └── Trip to DC\n",
       "└── Templates\n",
       "    ├── Car Travel\n",
       "    └── General Project\n"
      ]
     },
     "metadata": {},
     "output_type": "display_data"
    }
   ],
   "source": [
    "t = diGraph_to_richTree(rev)\n",
    "print(t)"
   ]
  }
 ],
 "metadata": {
  "kernelspec": {
   "display_name": "Python 3 (ipykernel)",
   "language": "python",
   "name": "python3"
  },
  "language_info": {
   "codemirror_mode": {
    "name": "ipython",
    "version": 3
   },
   "file_extension": ".py",
   "mimetype": "text/x-python",
   "name": "python",
   "nbconvert_exporter": "python",
   "pygments_lexer": "ipython3",
   "version": "3.12.1"
  }
 },
 "nbformat": 4,
 "nbformat_minor": 5
}
