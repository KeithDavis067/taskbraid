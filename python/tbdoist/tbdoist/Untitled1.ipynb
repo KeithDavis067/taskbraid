{
 "cells": [
  {
   "cell_type": "code",
   "execution_count": 5,
   "id": "df29d3b0-c841-49af-9d14-a372853c25e9",
   "metadata": {},
   "outputs": [],
   "source": [
    "a = {\"one\": 2}\n",
    "a.update({\"one\": 1})"
   ]
  },
  {
   "cell_type": "code",
   "execution_count": 6,
   "id": "fbf08b53-eb20-46e3-8172-24f05cdc9073",
   "metadata": {},
   "outputs": [
    {
     "data": {
      "text/plain": [
       "{'one': 1}"
      ]
     },
     "execution_count": 6,
     "metadata": {},
     "output_type": "execute_result"
    }
   ],
   "source": [
    "a"
   ]
  },
  {
   "cell_type": "code",
   "execution_count": null,
   "id": "0d2f2138-041c-455c-9cf3-94e7f653987a",
   "metadata": {},
   "outputs": [],
   "source": []
  }
 ],
 "metadata": {
  "kernelspec": {
   "display_name": "Python 3 (ipykernel)",
   "language": "python",
   "name": "python3"
  },
  "language_info": {
   "codemirror_mode": {
    "name": "ipython",
    "version": 3
   },
   "file_extension": ".py",
   "mimetype": "text/x-python",
   "name": "python",
   "nbconvert_exporter": "python",
   "pygments_lexer": "ipython3",
   "version": "3.12.1"
  }
 },
 "nbformat": 4,
 "nbformat_minor": 5
}
