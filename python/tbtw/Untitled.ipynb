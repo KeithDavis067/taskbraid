{
 "cells": [
  {
   "cell_type": "code",
   "execution_count": 5,
   "id": "7e224454-4730-48f6-8a15-547006eaea17",
   "metadata": {},
   "outputs": [],
   "source": [
    "from tasklib import TaskWarrior\n",
    "from rich import print"
   ]
  },
  {
   "cell_type": "code",
   "execution_count": 2,
   "id": "4b9dfff3-383c-4241-9cd7-7fe925beeac9",
   "metadata": {},
   "outputs": [],
   "source": [
    "tw = TaskWarrior(create=False)"
   ]
  },
  {
   "cell_type": "code",
   "execution_count": 3,
   "id": "8f17d74e-0c7f-42c8-9260-289654b68e97",
   "metadata": {},
   "outputs": [
    {
     "data": {
      "text/plain": [
       "<tasklib.backends.TaskWarrior at 0x10fc90500>"
      ]
     },
     "execution_count": 3,
     "metadata": {},
     "output_type": "execute_result"
    }
   ],
   "source": [
    "tw"
   ]
  },
  {
   "cell_type": "code",
   "execution_count": 10,
   "id": "3caac38c-8f27-4dfd-8e25-d6dacd63703d",
   "metadata": {},
   "outputs": [
    {
     "data": {
      "text/html": [
       "<pre style=\"white-space:pre;overflow-x:auto;line-height:normal;font-family:Menlo,'DejaVu Sans Mono',consolas,'Courier New',monospace\"><span style=\"color: #800080; text-decoration-color: #800080\">/Users/kdavis10/iCloud_Documents/Documents/</span><span style=\"color: #ff00ff; text-decoration-color: #ff00ff\">.task</span>\n",
       "</pre>\n"
      ],
      "text/plain": [
       "\u001b[35m/Users/kdavis10/iCloud_Documents/Documents/\u001b[0m\u001b[95m.task\u001b[0m\n"
      ]
     },
     "metadata": {},
     "output_type": "display_data"
    }
   ],
   "source": [
    "print(tw.config[\"data.location\"])"
   ]
  },
  {
   "cell_type": "code",
   "execution_count": null,
   "id": "5cd24ec1-1453-425d-a5c7-9f0ab9cc839b",
   "metadata": {},
   "outputs": [],
   "source": []
  }
 ],
 "metadata": {
  "kernelspec": {
   "display_name": "Python 3 (ipykernel)",
   "language": "python",
   "name": "python3"
  },
  "language_info": {
   "codemirror_mode": {
    "name": "ipython",
    "version": 3
   },
   "file_extension": ".py",
   "mimetype": "text/x-python",
   "name": "python",
   "nbconvert_exporter": "python",
   "pygments_lexer": "ipython3",
   "version": "3.12.3"
  }
 },
 "nbformat": 4,
 "nbformat_minor": 5
}
