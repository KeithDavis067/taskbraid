{
 "cells": [
  {
   "cell_type": "code",
   "execution_count": 1,
   "id": "6da7e316-d73d-4152-9d41-c5c4550c6e2e",
   "metadata": {},
   "outputs": [],
   "source": [
    "from gcsa.event import Event\n",
    "from gcsa.google_calendar import GoogleCalendar\n",
    "from gcsa.recurrence import Recurrence, DAILY, SU, SA\n",
    "\n",
    "import plotly.express as px\n",
    "import plotly.graph_objects as go\n",
    "\n",
    "import pandas as pd\n",
    "\n",
    "from datetime import datetime, timedelta, date, time\n",
    "import dateutil\n",
    "from dateutil.parser import parse\n",
    "import calendar\n",
    "import numpy as np\n",
    "from circle_cal.model import CalendarElement\n",
    "import circle_cal as cc\n",
    "import circle_cal.model as model\n",
    "import circle_cal.plot as ccplot\n",
    "import pathlib\n",
    "from rich import print\n",
    "import pytz\n",
    "from pytz import timezone"
   ]
  },
  {
   "cell_type": "code",
   "execution_count": 2,
   "id": "40c8b026-33fe-41f5-be9f-c57c596f4590",
   "metadata": {},
   "outputs": [],
   "source": [
    "ETZ = timezone(\"America/New_York\")\n",
    "def localize_any(obj, tz):\n",
    "    try:\n",
    "        return tz.localize(obj)\n",
    "    except ValueError:\n",
    "        if obj.tzinfo:\n",
    "            return obj\n",
    "    except AttributeError:\n",
    "        return tz.localize(datetime.combine(obj, time(0,0)))\n",
    "    return obj\n",
    "\n",
    "def year_to_sunburst(year):\n",
    "    y = CalendarElement(year=year)\n",
    "    parents = [None]\n",
    "    names = [y.year.value]\n",
    "    values = [1]\n",
    "    for m in y:\n",
    "        parents.append(y.year.value)\n",
    "        names.append(m.name)\n",
    "        values.append(1)\n",
    "        for day in m:\n",
    "            parents.append(m.name)\n",
    "            names.append(f\"{day.year}-{day.month}-{day.day}\")\n",
    "            values.append(1)\n",
    "    return dict(parents=parents,\n",
    "                labels=names, values=values)\n",
    "yd = year_to_sunburst(2024)"
   ]
  },
  {
   "cell_type": "code",
   "execution_count": 3,
   "id": "dad67d5f-1d9b-496d-b9c0-4f5b2a2b586b",
   "metadata": {},
   "outputs": [],
   "source": [
    "cred = pathlib.Path('/Users/kdavis10/.config/.credentials')\n",
    "cred_json = \"pygooglecal.apps.googleusercontent.com.json\"\n",
    "\n",
    "try:\n",
    "    gcal = GoogleCalendar(credentials_path=cred / cred_json)\n",
    "except Exception as e:\n",
    "    (cred / \"token.pickle\").unlink()"
   ]
  },
  {
   "cell_type": "code",
   "execution_count": 19,
   "id": "58c05eb7-6b8a-4243-9a95-dffae44a7cfd",
   "metadata": {},
   "outputs": [
    {
     "data": {
      "text/html": [
       "<pre style=\"white-space:pre;overflow-x:auto;line-height:normal;font-family:Menlo,'DejaVu Sans Mono',consolas,'Courier New',monospace\"><span style=\"font-weight: bold\">[</span>\n",
       "    <span style=\"font-weight: bold\">&lt;</span><span style=\"color: #ff00ff; text-decoration-color: #ff00ff; font-weight: bold\">CalendarListEntry</span><span style=\"color: #000000; text-decoration-color: #000000\"> </span><span style=\"color: #800080; text-decoration-color: #800080; font-style: italic\">None</span><span style=\"color: #000000; text-decoration-color: #000000\"> - </span><span style=\"color: #000000; text-decoration-color: #000000; font-weight: bold\">(</span><span style=\"color: #0000ff; text-decoration-color: #0000ff; text-decoration: underline\">http://universerevealed.nd.edu/?eme_ical=public)</span><span style=\"color: #000000; text-decoration-color: #000000\">&gt;,</span>\n",
       "<span style=\"color: #000000; text-decoration-color: #000000\">    &lt;CalendarListEntry </span><span style=\"color: #800080; text-decoration-color: #800080; font-style: italic\">None</span><span style=\"color: #000000; text-decoration-color: #000000\"> - </span><span style=\"color: #000000; text-decoration-color: #000000; font-weight: bold\">(</span><span style=\"color: #000000; text-decoration-color: #000000\">NYT Astronomy and Space Calendar</span><span style=\"color: #000000; text-decoration-color: #000000; font-weight: bold\">)</span><span style=\"color: #000000; text-decoration-color: #000000\">&gt;,</span>\n",
       "<span style=\"color: #000000; text-decoration-color: #000000\">    &lt;CalendarListEntry </span><span style=\"color: #800080; text-decoration-color: #800080; font-style: italic\">None</span><span style=\"color: #000000; text-decoration-color: #000000\"> - </span><span style=\"color: #000000; text-decoration-color: #000000; font-weight: bold\">(</span><span style=\"color: #000000; text-decoration-color: #000000\">kdavis10@nd.edu</span><span style=\"color: #000000; text-decoration-color: #000000; font-weight: bold\">)</span><span style=\"color: #000000; text-decoration-color: #000000\">&gt;,</span>\n",
       "<span style=\"color: #000000; text-decoration-color: #000000\">    &lt;CalendarListEntry </span><span style=\"color: #800080; text-decoration-color: #800080; font-style: italic\">None</span><span style=\"color: #000000; text-decoration-color: #000000\"> - </span><span style=\"color: #000000; text-decoration-color: #000000; font-weight: bold\">(</span><span style=\"color: #000000; text-decoration-color: #000000\">ND-DVT Calendar</span><span style=\"color: #000000; text-decoration-color: #000000; font-weight: bold\">)</span><span style=\"color: #000000; text-decoration-color: #000000\">&gt;,</span>\n",
       "<span style=\"color: #000000; text-decoration-color: #000000\">    &lt;CalendarListEntry </span><span style=\"color: #800080; text-decoration-color: #800080; font-style: italic\">None</span><span style=\"color: #000000; text-decoration-color: #000000\"> - </span><span style=\"color: #000000; text-decoration-color: #000000; font-weight: bold\">(</span><span style=\"color: #000000; text-decoration-color: #000000\">CoS College-wide Events &amp; Conferences</span><span style=\"color: #000000; text-decoration-color: #000000; font-weight: bold\">)</span><span style=\"color: #000000; text-decoration-color: #000000\">&gt;,</span>\n",
       "<span style=\"color: #000000; text-decoration-color: #000000\">    &lt;CalendarListEntry </span><span style=\"color: #800080; text-decoration-color: #800080; font-style: italic\">None</span><span style=\"color: #000000; text-decoration-color: #000000\"> - </span><span style=\"color: #000000; text-decoration-color: #000000; font-weight: bold\">(</span><span style=\"color: #000000; text-decoration-color: #000000\">Keith Davis</span><span style=\"color: #000000; text-decoration-color: #000000; font-weight: bold\">)</span><span style=\"color: #000000; text-decoration-color: #000000\">&gt;,</span>\n",
       "<span style=\"color: #000000; text-decoration-color: #000000\">    &lt;CalendarListEntry </span><span style=\"color: #800080; text-decoration-color: #800080; font-style: italic\">None</span><span style=\"color: #000000; text-decoration-color: #000000\"> - </span><span style=\"color: #000000; text-decoration-color: #000000; font-weight: bold\">(</span><span style=\"color: #000000; text-decoration-color: #000000\">Axis Ludi Calendar</span><span style=\"color: #000000; text-decoration-color: #000000; font-weight: bold\">)</span><span style=\"color: #000000; text-decoration-color: #000000\">&gt;,</span>\n",
       "<span style=\"color: #000000; text-decoration-color: #000000\">    &lt;CalendarListEntry ND Academic Calendar - </span><span style=\"color: #000000; text-decoration-color: #000000; font-weight: bold\">(</span><span style=\"color: #000000; text-decoration-color: #000000\">Academic Calendar</span><span style=\"color: #000000; text-decoration-color: #000000; font-weight: bold\">)</span><span style=\"color: #000000; text-decoration-color: #000000\">&gt;,</span>\n",
       "<span style=\"color: #000000; text-decoration-color: #000000\">    &lt;CalendarListEntry </span><span style=\"color: #800080; text-decoration-color: #800080; font-style: italic\">None</span><span style=\"color: #000000; text-decoration-color: #000000\"> - </span><span style=\"color: #000000; text-decoration-color: #000000; font-weight: bold\">(</span><span style=\"color: #000000; text-decoration-color: #000000\">Holidays in United States</span><span style=\"color: #000000; text-decoration-color: #000000; font-weight: bold\">)</span><span style=\"color: #000000; text-decoration-color: #000000\">&gt;,</span>\n",
       "<span style=\"color: #000000; text-decoration-color: #000000\">    &lt;CalendarListEntry </span><span style=\"color: #800080; text-decoration-color: #800080; font-style: italic\">None</span><span style=\"color: #000000; text-decoration-color: #000000\"> - </span><span style=\"color: #000000; text-decoration-color: #000000; font-weight: bold\">(</span><span style=\"color: #000000; text-decoration-color: #000000\">Seasons</span><span style=\"color: #000000; text-decoration-color: #000000; font-weight: bold\">)</span><span style=\"font-weight: bold\">&gt;</span>\n",
       "<span style=\"font-weight: bold\">]</span>\n",
       "</pre>\n"
      ],
      "text/plain": [
       "\u001b[1m[\u001b[0m\n",
       "    \u001b[1m<\u001b[0m\u001b[1;95mCalendarListEntry\u001b[0m\u001b[39m \u001b[0m\u001b[3;35mNone\u001b[0m\u001b[39m - \u001b[0m\u001b[1;39m(\u001b[0m\u001b[4;94mhttp://universerevealed.nd.edu/?\u001b[0m\u001b[4;94meme_ical\u001b[0m\u001b[4;94m=\u001b[0m\u001b[4;94mpublic\u001b[0m\u001b[4;94m)\u001b[0m\u001b[39m>,\u001b[0m\n",
       "\u001b[39m    <CalendarListEntry \u001b[0m\u001b[3;35mNone\u001b[0m\u001b[39m - \u001b[0m\u001b[1;39m(\u001b[0m\u001b[39mNYT Astronomy and Space Calendar\u001b[0m\u001b[1;39m)\u001b[0m\u001b[39m>,\u001b[0m\n",
       "\u001b[39m    <CalendarListEntry \u001b[0m\u001b[3;35mNone\u001b[0m\u001b[39m - \u001b[0m\u001b[1;39m(\u001b[0m\u001b[39mkdavis10@nd.edu\u001b[0m\u001b[1;39m)\u001b[0m\u001b[39m>,\u001b[0m\n",
       "\u001b[39m    <CalendarListEntry \u001b[0m\u001b[3;35mNone\u001b[0m\u001b[39m - \u001b[0m\u001b[1;39m(\u001b[0m\u001b[39mND-DVT Calendar\u001b[0m\u001b[1;39m)\u001b[0m\u001b[39m>,\u001b[0m\n",
       "\u001b[39m    <CalendarListEntry \u001b[0m\u001b[3;35mNone\u001b[0m\u001b[39m - \u001b[0m\u001b[1;39m(\u001b[0m\u001b[39mCoS College-wide Events & Conferences\u001b[0m\u001b[1;39m)\u001b[0m\u001b[39m>,\u001b[0m\n",
       "\u001b[39m    <CalendarListEntry \u001b[0m\u001b[3;35mNone\u001b[0m\u001b[39m - \u001b[0m\u001b[1;39m(\u001b[0m\u001b[39mKeith Davis\u001b[0m\u001b[1;39m)\u001b[0m\u001b[39m>,\u001b[0m\n",
       "\u001b[39m    <CalendarListEntry \u001b[0m\u001b[3;35mNone\u001b[0m\u001b[39m - \u001b[0m\u001b[1;39m(\u001b[0m\u001b[39mAxis Ludi Calendar\u001b[0m\u001b[1;39m)\u001b[0m\u001b[39m>,\u001b[0m\n",
       "\u001b[39m    <CalendarListEntry ND Academic Calendar - \u001b[0m\u001b[1;39m(\u001b[0m\u001b[39mAcademic Calendar\u001b[0m\u001b[1;39m)\u001b[0m\u001b[39m>,\u001b[0m\n",
       "\u001b[39m    <CalendarListEntry \u001b[0m\u001b[3;35mNone\u001b[0m\u001b[39m - \u001b[0m\u001b[1;39m(\u001b[0m\u001b[39mHolidays in United States\u001b[0m\u001b[1;39m)\u001b[0m\u001b[39m>,\u001b[0m\n",
       "\u001b[39m    <CalendarListEntry \u001b[0m\u001b[3;35mNone\u001b[0m\u001b[39m - \u001b[0m\u001b[1;39m(\u001b[0m\u001b[39mSeasons\u001b[0m\u001b[1;39m)\u001b[0m\u001b[1m>\u001b[0m\n",
       "\u001b[1m]\u001b[0m\n"
      ]
     },
     "metadata": {},
     "output_type": "display_data"
    }
   ],
   "source": [
    "year = y24 = CalendarElement(year=2024)\n",
    "\n",
    "traces = []\n",
    "\n",
    "clist = list(gcal.get_calendar_list())\n",
    "sel_cal_summ = [\"http://universerevealed.nd.edu/?eme_ical=public\",\n",
    "                \"NYT Astronomy and Space Calendar\",\n",
    "                \"kdavis10@nd.edu\",\n",
    "                \"ND-DVT Calendar\",\n",
    "                \"CoS College-wide Events & Conferences\",\n",
    "                \"Keith Davis\",\n",
    "                \"Axis Ludi Calendar\",\n",
    "                \"Holidays in United States\",\n",
    "                \"Academic Calendar\",\n",
    "                \"Seasons\"]\n",
    "\n",
    "selcal = [c for c in clist if c.summary in sel_cal_summ]\n",
    "print(selcal)\n",
    "\n",
    "def weekday(datelike):\n",
    "    return list(calendar.day_name)[calendar.weekday(datelike.year, datelike.month, datelike.day)]\n",
    "\n",
    "def is_weekend(datelike):\n",
    "    if calendar.weekday(datelike.year, datelike.month, datelike.day) in [5, 6]:\n",
    "        return True\n",
    "    else:\n",
    "        return False\n",
    "\n",
    "def weekends(year):\n",
    "    ws = []\n",
    "    start = None\n",
    "    for d in CalendarElement(year=2024).recursive_iteration(\"day\"):\n",
    "        d = d.datetime()\n",
    "        if is_weekend(d):\n",
    "            if start is None:\n",
    "                start=d\n",
    "            else:\n",
    "                ws.append(model.Event(start, end=d))\n",
    "                start=None\n",
    "    return ws\n",
    "\n",
    "ws = weekends(2024)"
   ]
  },
  {
   "cell_type": "code",
   "execution_count": 20,
   "id": "5f78e1d5-6804-4870-8b22-ac5df633a9cb",
   "metadata": {},
   "outputs": [],
   "source": [
    "\n",
    "\n",
    "dfs = []\n",
    "for cal in selcal:\n",
    "    events = gcal.get_events(y24.start.datetime(),\n",
    "                             y24.stop.datetime(),\n",
    "                             single_events=True,\n",
    "                             calendar_id=cal.calendar_id,\n",
    "                            )\n",
    "\n",
    "    df = pd.DataFrame(data=[model.EventWrap(ev) for ev in events if ev.other[\"eventType\"] != \"workingLocation\"],\n",
    "                      columns=[\"Event_obj\"]\n",
    "                     )\n",
    "    \n",
    "    df[\"color\"] = cal.background_color\n",
    "    df[\"calendar_id\"] = cal.calendar_id\n",
    "    df[\"calendar\"] = cal.summary\n",
    "    dfs.append(df)\n",
    "    \n",
    "df = pd.concat(dfs, axis=\"rows\", ignore_index=True)\n",
    "df[\"duration\"] = df[\"Event_obj\"].apply(lambda ev: ev.duration)\n",
    "df[\"mid\"] = pd.to_datetime(df[\"Event_obj\"].apply(lambda ev: localize_any(ev.mid, ETZ)), utc=True).dt.tz_convert(ETZ)\n",
    "df[\"start\"] = pd.to_datetime(df[\"Event_obj\"].apply(lambda ev: localize_any(ev.start, ETZ)), utc=True).dt.tz_convert(ETZ)\n",
    "df[\"end\"] = pd.to_datetime(df[\"Event_obj\"].apply(lambda ev: localize_any(ev.end, ETZ)), utc=True).dt.tz_convert(ETZ)\n",
    "#df[\"end\"] = df[\"Event_obj\"].apply(lambda ev: ev.end)\n",
    "\n",
    "\n",
    "df[\"summary\"] = df[\"Event_obj\"].apply(lambda ev: ev.summary)\n",
    "df[\"weekday\"] = df.start.apply(weekday)\n"
   ]
  },
  {
   "cell_type": "code",
   "execution_count": 21,
   "id": "8dd625c1-7d50-4058-ba17-c789749a921c",
   "metadata": {},
   "outputs": [],
   "source": [
    "df24 = df[df[\"start\"] >= pd.Timestamp(\"2024-01-01\", tzinfo=ETZ)]\n",
    "df24 = df24[df24[\"start\"] <= pd.Timestamp(\"2025-01-01\", tzinfo=ETZ)]"
   ]
  },
  {
   "cell_type": "code",
   "execution_count": 22,
   "id": "ded92581-dfc9-4ee1-bc57-dd0895f265cf",
   "metadata": {},
   "outputs": [
    {
     "data": {
      "text/html": [
       "<div>\n",
       "<style scoped>\n",
       "    .dataframe tbody tr th:only-of-type {\n",
       "        vertical-align: middle;\n",
       "    }\n",
       "\n",
       "    .dataframe tbody tr th {\n",
       "        vertical-align: top;\n",
       "    }\n",
       "\n",
       "    .dataframe thead th {\n",
       "        text-align: right;\n",
       "    }\n",
       "</style>\n",
       "<table border=\"1\" class=\"dataframe\">\n",
       "  <thead>\n",
       "    <tr style=\"text-align: right;\">\n",
       "      <th></th>\n",
       "      <th>name</th>\n",
       "      <th>opacity</th>\n",
       "      <th>rbase</th>\n",
       "    </tr>\n",
       "  </thead>\n",
       "  <tbody>\n",
       "    <tr>\n",
       "      <th>(0 days 00:00:00, 0 days 23:59:59]</th>\n",
       "      <td>hours</td>\n",
       "      <td>1.0</td>\n",
       "      <td>0.8</td>\n",
       "    </tr>\n",
       "    <tr>\n",
       "      <th>(0 days 23:59:59, 1 days 00:00:00]</th>\n",
       "      <td>day</td>\n",
       "      <td>0.8</td>\n",
       "      <td>0.7</td>\n",
       "    </tr>\n",
       "    <tr>\n",
       "      <th>(1 days 00:00:00, 31 days 00:00:00]</th>\n",
       "      <td>weeks</td>\n",
       "      <td>0.7</td>\n",
       "      <td>0.6</td>\n",
       "    </tr>\n",
       "    <tr>\n",
       "      <th>(31 days 00:00:00, 365 days 00:00:00]</th>\n",
       "      <td>months</td>\n",
       "      <td>0.5</td>\n",
       "      <td>0.5</td>\n",
       "    </tr>\n",
       "  </tbody>\n",
       "</table>\n",
       "</div>"
      ],
      "text/plain": [
       "                                         name  opacity  rbase\n",
       "(0 days 00:00:00, 0 days 23:59:59]      hours      1.0    0.8\n",
       "(0 days 23:59:59, 1 days 00:00:00]        day      0.8    0.7\n",
       "(1 days 00:00:00, 31 days 00:00:00]     weeks      0.7    0.6\n",
       "(31 days 00:00:00, 365 days 00:00:00]  months      0.5    0.5"
      ]
     },
     "execution_count": 22,
     "metadata": {},
     "output_type": "execute_result"
    }
   ],
   "source": [
    "ii = pd.IntervalIndex([pd.Interval(pd.Timedelta(days=0), pd.Timedelta(hours=23, minutes=59, seconds=59)),\n",
    "                       pd.Interval(pd.Timedelta(hours=23, minutes=59, seconds=59), pd.Timedelta(days=1)),\n",
    "                       pd.Interval(pd.Timedelta(days=1), pd.Timedelta(days=31)),\n",
    "                       pd.Interval(pd.Timedelta(days=31), pd.Timedelta(days=365))])\n",
    "intervalsdf = pd.DataFrame(data=[\"hours\", \"day\", \"weeks\", \"months\"], index=ii, columns=[\"name\"])\n",
    "intervalsdf[\"opacity\"] = [1, 0.8, 0.7, 0.5]\n",
    "intervalsdf[\"rbase\"] = list(reversed([0.5, 0.6, 0.7, 0.8]))\n",
    "intervalsdf"
   ]
  },
  {
   "cell_type": "code",
   "execution_count": 23,
   "id": "ced556b3-e6ed-4464-b4cf-a14fafdc9bc2",
   "metadata": {},
   "outputs": [],
   "source": [
    "df[\"scale\"] = pd.cut(df[\"duration\"], intervalsdf.index)"
   ]
  },
  {
   "cell_type": "code",
   "execution_count": 24,
   "id": "178a4092-8082-438c-b185-66256c5fd216",
   "metadata": {},
   "outputs": [],
   "source": [
    "df[\"ring\"] = intervalsdf[\"name\"].loc[df[\"scale\"]].reset_index(drop=True)\n",
    "df[\"opacity\"] = intervalsdf[\"opacity\"].loc[df[\"scale\"]].reset_index(drop=True)\n",
    "df[\"rbase\"] = intervalsdf[\"rbase\"].loc[df[\"scale\"]].reset_index(drop=True)"
   ]
  },
  {
   "cell_type": "code",
   "execution_count": 25,
   "id": "5cd6d5f9-4618-40d5-a0da-e5805715f0e8",
   "metadata": {},
   "outputs": [],
   "source": [
    "def ts_to_theta(ts, t0=0, day_to_theta=365/360):\n",
    "    return (timedelta(seconds=(ts - t0)) / timedelta(days=1)) / day_to_theta\n",
    "\n",
    "def calendar_ticks(year):\n",
    "    tickvals = []\n",
    "    ticktext = []\n",
    "    for m in year:\n",
    "        tickvals.append(ts_to_theta(model.to_timestamp(m.start.datetime()),\n",
    "                                    model.to_timestamp(year.start.datetime()),\n",
    "                                    (year.duration / timedelta(days=1)) / 360))\n",
    "        #tickvals.append(ts_to_theta(model.to_timestamp(m.mid),\n",
    "         #                           model.to_timestamp(year.start.datetime()),\n",
    "          #                          (year.duration / timedelta(days=1)) / 360))\n",
    "        #ticktext.append(\"\")\n",
    "        ticktext.append(m.name)\n",
    "    return (tickvals, ticktext)\n",
    "        \n",
    "\n",
    "##def ring_to_base(ring, intervalsdf):\n",
    " #   dr = 1/(len(intervalsdf) + 1)\n",
    " #   rvalues = [(r+1) * dr for r in range(len(intervalsdf))]   \n",
    " #   d = dict(zip(intervalsdf.name.values, reversed(rvalues)))\n",
    " #   return d[ring]\n",
    "    \n",
    "year=y24\n",
    "\n",
    "df[\"midtheta\"] = df.mid.apply(lambda x: ts_to_theta(model.to_timestamp(x),\n",
    "                                                    model.to_timestamp(y24.start.datetime()),\n",
    "                                                    year.duration / timedelta(days=1) / 360))\n",
    "df[\"width\"] = df.duration.apply(lambda x: x / year.duration * 360)\n",
    "#df[\"rbase\"] = df.ring.apply(lambda x: ring_to_base(x, intervalsdf))\n",
    "#df[\"rbase\"] = .5\n",
    "df[\"r\"] = .1 * .97 #1/(len(intervalsdf) + 1) * .97\n"
   ]
  },
  {
   "cell_type": "code",
   "execution_count": 38,
   "id": "102bed9c-1341-499e-a5f7-c633f21e5dd2",
   "metadata": {},
   "outputs": [
    {
     "data": {
      "application/vnd.plotly.v1+json": {
       "config": {
        "plotlyServerURL": "https://plot.ly"
       },
       "data": [
        {
         "base": [
          0.7,
          0.6,
          0.6,
          0.6,
          0.7,
          0.6,
          0.6,
          0.6,
          0.6,
          0.7,
          0.7,
          0.7,
          0.6,
          0.6,
          0.7,
          0.7,
          0.7,
          0.7,
          0.7,
          0.7,
          0.7,
          0.6,
          0.7,
          0.7,
          0.6,
          0.7,
          0.7,
          0.7,
          0.7,
          0.7,
          0.7
         ],
         "customdata": [
          [
           "2024-01-01T00:00:00-05:00",
           "2024-01-02T00:00:00-05:00"
          ],
          [
           "2024-01-03T00:00:00-05:00",
           "2024-01-05T00:00:00-05:00"
          ],
          [
           "2024-04-21T00:00:00-04:00",
           "2024-04-23T00:00:00-04:00"
          ],
          [
           "2024-08-11T00:00:00-04:00",
           "2024-08-13T00:00:00-04:00"
          ],
          [
           "2024-09-22T00:00:00-04:00",
           "2024-09-23T00:00:00-04:00"
          ],
          [
           "2024-10-20T00:00:00-04:00",
           "2024-10-22T00:00:00-04:00"
          ],
          [
           "2024-11-16T00:00:00-05:00",
           "2024-11-18T00:00:00-05:00"
          ],
          [
           "2024-12-13T00:00:00-05:00",
           "2024-12-15T00:00:00-05:00"
          ],
          [
           "2024-12-21T00:00:00-05:00",
           "2024-12-23T00:00:00-05:00"
          ],
          [
           "2024-12-21T00:00:00-05:00",
           "2024-12-22T00:00:00-05:00"
          ],
          [
           "2024-12-30T00:00:00-05:00",
           "2024-12-31T00:00:00-05:00"
          ],
          [
           "2024-09-17T00:00:00-04:00",
           "2024-09-18T00:00:00-04:00"
          ],
          [
           "2024-10-12T00:00:00-04:00",
           "2024-10-14T00:00:00-04:00"
          ],
          [
           "2024-01-02T00:00:00-05:00",
           "2024-01-04T00:00:00-05:00"
          ],
          [
           "2024-01-08T00:00:00-05:00",
           "2024-01-09T00:00:00-05:00"
          ],
          [
           "2024-01-18T00:00:00-05:00",
           "2024-01-19T00:00:00-05:00"
          ],
          [
           "2024-01-19T00:00:00-05:00",
           "2024-01-20T00:00:00-05:00"
          ],
          [
           "2024-02-16T00:00:00-05:00",
           "2024-02-17T00:00:00-05:00"
          ],
          [
           "2024-02-15T00:00:00-05:00",
           "2024-02-16T00:00:00-05:00"
          ],
          [
           "2024-02-22T00:00:00-05:00",
           "2024-02-23T00:00:00-05:00"
          ],
          [
           "2024-03-19T00:00:00-04:00",
           "2024-03-20T00:00:00-04:00"
          ],
          [
           "2024-03-24T00:00:00-04:00",
           "2024-03-26T00:00:00-04:00"
          ],
          [
           "2024-04-08T00:00:00-04:00",
           "2024-04-09T00:00:00-04:00"
          ],
          [
           "2024-04-21T00:00:00-04:00",
           "2024-04-22T00:00:00-04:00"
          ],
          [
           "2024-05-04T00:00:00-04:00",
           "2024-05-06T00:00:00-04:00"
          ],
          [
           "2024-05-03T00:00:00-04:00",
           "2024-05-04T00:00:00-04:00"
          ],
          [
           "2024-06-05T00:00:00-04:00",
           "2024-06-06T00:00:00-04:00"
          ],
          [
           "2024-06-20T00:00:00-04:00",
           "2024-06-21T00:00:00-04:00"
          ],
          [
           "2024-07-05T00:00:00-04:00",
           "2024-07-06T00:00:00-04:00"
          ],
          [
           "2024-07-09T00:00:00-04:00",
           "2024-07-10T00:00:00-04:00"
          ],
          [
           "2024-07-30T00:00:00-04:00",
           "2024-07-31T00:00:00-04:00"
          ]
         ],
         "hovertemplate": "%{text}<br>Start: %{customdata[0]|%Y/%m/%d %H:%M:%S.%L}<br>End: %{customdata[1]|%Y/%m/%d %H:%M:%S.%L}",
         "marker": {
          "color": [
           "#9fc6e7",
           "#9fc6e7",
           "#9fc6e7",
           "#9fc6e7",
           "#9fc6e7",
           "#9fc6e7",
           "#9fc6e7",
           "#9fc6e7",
           "#9fc6e7",
           "#9fc6e7",
           "#9fc6e7",
           "#9fc6e7",
           "#9fc6e7",
           "#9fc6e7",
           "#9fc6e7",
           "#9fc6e7",
           "#9fc6e7",
           "#9fc6e7",
           "#9fc6e7",
           "#9fc6e7",
           "#9fc6e7",
           "#9fc6e7",
           "#9fc6e7",
           "#9fc6e7",
           "#9fc6e7",
           "#9fc6e7",
           "#9fc6e7",
           "#9fc6e7",
           "#9fc6e7",
           "#9fc6e7",
           "#9fc6e7"
          ]
         },
         "name": "NYT Astronomy and Space Calendar",
         "r": [
          0.097,
          0.097,
          0.097,
          0.097,
          0.097,
          0.097,
          0.097,
          0.097,
          0.097,
          0.097,
          0.097,
          0.097,
          0.097,
          0.097,
          0.097,
          0.097,
          0.097,
          0.097,
          0.097,
          0.097,
          0.097,
          0.097,
          0.097,
          0.097,
          0.097,
          0.097,
          0.097,
          0.097,
          0.097,
          0.097,
          0.097
         ],
         "text": [
          "Happy New Year From Science Times",
          "The Quadrantid meteor shower will reach its peak.",
          "The Lyrid meteor shower will reach its peak.",
          "The Perseid meteor shower will reach its peak.",
          "Autumn is here.",
          "The Orionid meteor shower will reach its peak.",
          "The Leonid meteor shower will reach its peak.",
          "The Geminid meteor shower will reach its peak.",
          "The Ursid meteor shower will reach its peak.",
          "The winter solstice.",
          "Rocket Lab may launch a small probe to Venus.",
          "A partial lunar eclipse will be visible in the Western Hemisphere.",
          "A newly discovered comet makes its closest approach to Earth.",
          "Earth will be at its closest point to the sun",
          "The first flight of the Vulcan rocket sent a robotic lander toward the moon.",
          "Axiom Space may send a crew of Italian, Swedish and Turkish astronauts to the International Space Station.",
          "Japan’s SLIM moon lander may attempt to set down on the moon.",
          "Japan’s H3 rocket could attempt a successful flight to orbit.",
          "Intuitive Machines may launch a commercial lunar lander mission",
          "The Intuitive Machines spacecraft Odysseus will attempt to land on the moon.",
          "Spring is here.",
          " A penumbral eclipse will be visible across much of the Western and Eastern Hemispheres.",
          "A total solar eclipse will cross North America.",
          "Comet Pons-Brooks makes its closest approach to the sun.",
          "The Eta Aquarid meteor shower will reach its peak.",
          "China could launch the Chang’e-6 mission to the far side of the moon.",
          "NASA astronauts could fly to the International Space Station aboard Boeing’s Starliner spacecraft for the first time.",
          "The summer solstice.",
          "Earth is at its farthest point from the sun.",
          "The European Space Agency could attempt the first launch of the Ariane 6 rocket.",
          "Two meteor showers are reaching their peaks in the same week."
         ],
         "theta": [
          0.49180327868852464,
          2.9508196721311477,
          110.12295081967213,
          220.28688524590166,
          261.10655737704917,
          289.1393442622951,
          315.7377049180328,
          342.29508196721315,
          350.1639344262295,
          349.672131147541,
          358.5245901639344,
          256.1885245901639,
          281.2704918032787,
          1.9672131147540985,
          7.3770491803278695,
          17.213114754098363,
          18.19672131147541,
          45.73770491803279,
          44.75409836065574,
          51.63934426229508,
          77.17213114754098,
          82.58196721311475,
          96.84426229508196,
          109.6311475409836,
          122.90983606557377,
          121.4344262295082,
          153.89344262295083,
          168.64754098360658,
          183.40163934426232,
          187.33606557377053,
          207.99180327868854
         ],
         "type": "barpolar",
         "width": [
          0.9836065573770492,
          1.9672131147540983,
          1.9672131147540983,
          1.9672131147540983,
          0.9836065573770492,
          1.9672131147540983,
          1.9672131147540983,
          1.9672131147540983,
          1.9672131147540983,
          0.9836065573770492,
          0.9836065573770492,
          0.9836065573770492,
          1.9672131147540983,
          1.9672131147540983,
          0.9836065573770492,
          0.9836065573770492,
          0.9836065573770492,
          0.9836065573770492,
          0.9836065573770492,
          0.9836065573770492,
          0.9836065573770492,
          1.9672131147540983,
          0.9836065573770492,
          0.9836065573770492,
          1.9672131147540983,
          0.9836065573770492,
          0.9836065573770492,
          0.9836065573770492,
          0.9836065573770492,
          0.9836065573770492,
          0.9836065573770492
         ]
        },
        {
         "base": [
          0.7,
          0.7,
          0.7,
          0.7,
          0.7,
          0.7,
          0.7,
          0.7,
          0.7,
          0.7,
          0.7,
          0.7,
          0.7,
          0.7,
          0.7,
          0.7,
          0.7,
          0.7,
          0.7,
          0.7,
          0.7,
          0.7,
          0.7,
          0.7,
          0.7,
          0.7,
          0.7,
          0.7,
          0.7,
          0.7,
          0.7,
          0.7,
          0.6,
          0.7,
          0.7,
          0.6,
          0.8,
          0.8,
          0.7,
          0.7,
          0.7,
          0.7,
          0.8,
          0.8,
          0.8,
          0.8,
          0.8,
          0.8,
          0.8,
          0.8,
          0.8,
          0.8,
          0.8,
          0.8,
          0.8,
          0.8,
          0.8,
          0.8,
          0.8,
          0.8,
          0.8,
          0.8,
          0.8,
          0.8,
          0.7,
          0.8,
          0.8,
          0.8,
          0.8,
          0.8,
          0.8,
          0.8,
          0.8,
          0.8,
          0.6,
          0.8,
          0.8,
          0.8,
          0.8,
          0.8,
          0.8,
          0.8,
          0.8,
          0.8,
          0.6,
          0.8,
          0.8,
          0.8,
          0.8,
          0.8,
          0.8,
          0.8,
          0.8,
          0.8,
          0.8,
          0.8,
          0.8,
          0.8,
          0.8,
          0.8,
          0.8,
          0.8,
          0.8,
          0.8,
          0.8,
          0.8,
          0.8,
          0.8,
          0.8,
          0.8,
          0.8,
          0.8,
          0.8,
          0.8,
          0.8,
          0.8,
          0.8,
          0.8,
          0.8,
          0.8,
          0.8,
          0.8,
          0.8,
          0.8,
          0.8,
          0.8,
          0.8,
          0.8,
          0.8,
          0.8,
          0.8,
          0.8,
          0.8,
          0.8,
          0.8,
          0.8,
          0.8,
          0.8,
          0.8,
          0.8,
          0.8,
          0.8,
          0.8,
          0.8,
          0.8,
          0.8,
          0.8,
          0.8,
          0.8,
          0.8,
          0.8,
          0.8,
          0.8,
          0.8,
          0.8,
          0.8,
          0.8,
          0.8,
          0.8,
          0.8,
          0.8,
          0.8,
          0.8,
          0.8,
          0.8,
          0.7,
          0.8,
          0.8,
          0.8,
          0.8,
          0.8,
          0.8,
          0.8,
          0.8,
          0.8,
          0.8,
          0.8,
          0.8,
          0.8,
          0.8,
          0.8,
          0.8,
          0.8,
          0.8,
          0.8,
          0.8,
          0.8,
          0.8,
          0.8,
          0.8,
          0.8,
          0.8,
          0.8,
          0.8,
          0.8,
          0.8,
          0.8,
          0.8,
          0.8,
          0.8,
          0.8,
          0.8,
          0.8,
          0.8,
          0.8,
          0.8,
          0.8,
          0.8,
          0.8,
          0.8,
          0.8,
          0.8,
          0.8,
          0.8,
          0.8,
          0.8,
          0.8,
          0.8,
          0.8,
          0.8,
          0.8,
          0.8,
          0.8,
          0.8,
          0.8,
          0.8,
          0.8,
          0.8,
          0.8,
          0.8,
          0.8,
          0.8,
          0.8,
          0.8,
          0.8,
          0.8,
          0.8,
          0.8,
          0.8,
          0.8,
          0.8,
          0.8,
          0.8,
          0.8,
          0.7,
          0.8,
          0.6,
          0.8,
          0.8,
          0.8,
          0.8,
          0.8,
          0.5,
          0.8,
          0.8,
          0.8,
          0.8,
          0.8,
          0.8,
          0.7,
          0.7,
          0.8,
          0.8,
          0.8,
          0.8,
          0.8,
          0.8,
          0.8,
          0.8,
          0.8,
          0.8,
          0.8,
          0.8,
          0.8,
          0.8,
          0.8,
          0.8,
          0.8,
          0.8,
          0.8,
          0.8,
          0.8,
          0.7,
          0.8,
          0.8,
          0.8,
          0.8,
          0.8,
          0.8,
          0.8,
          0.8,
          0.8,
          0.6,
          0.6,
          0.8,
          0.8,
          0.8,
          0.8,
          0.8,
          0.8,
          0.8,
          0.8,
          0.8,
          0.8,
          0.8,
          0.8,
          0.8,
          0.8,
          0.8,
          0.8,
          0.8,
          0.8,
          0.8,
          0.8,
          0.8,
          0.8,
          0.8,
          0.8,
          0.8,
          0.7,
          0.8,
          0.8,
          0.8,
          0.8,
          0.8,
          0.8,
          0.8,
          0.8,
          0.8,
          0.8,
          0.8,
          0.8,
          0.8,
          0.8,
          0.8,
          0.8,
          0.6,
          0.7,
          0.8,
          0.8,
          0.8,
          0.8,
          0.8,
          0.8,
          0.8,
          0.8,
          0.8,
          0.8,
          0.8,
          0.8,
          0.8,
          0.8,
          0.8,
          0.8,
          0.8,
          0.8,
          0.8,
          0.8,
          0.8,
          0.8,
          0.8,
          0.8,
          0.8,
          0.8,
          0.8,
          0.8,
          0.8,
          0.8,
          0.8,
          0.8,
          0.8,
          0.8,
          0.8,
          0.8,
          0.8,
          0.8,
          0.8,
          0.8,
          0.8,
          0.8,
          0.8,
          0.8,
          0.8,
          0.8
         ],
         "customdata": [
          [
           "2024-02-01T00:00:00-05:00",
           "2024-02-02T00:00:00-05:00"
          ],
          [
           "2024-05-01T00:00:00-04:00",
           "2024-05-02T00:00:00-04:00"
          ],
          [
           "2024-08-01T00:00:00-04:00",
           "2024-08-02T00:00:00-04:00"
          ],
          [
           "2024-11-01T00:00:00-04:00",
           "2024-11-02T00:00:00-04:00"
          ],
          [
           "2024-01-01T00:00:00-05:00",
           "2024-01-02T00:00:00-05:00"
          ],
          [
           "2024-01-15T00:00:00-05:00",
           "2024-01-16T00:00:00-05:00"
          ],
          [
           "2024-01-29T00:00:00-05:00",
           "2024-01-30T00:00:00-05:00"
          ],
          [
           "2024-02-12T00:00:00-05:00",
           "2024-02-13T00:00:00-05:00"
          ],
          [
           "2024-02-26T00:00:00-05:00",
           "2024-02-27T00:00:00-05:00"
          ],
          [
           "2024-03-11T00:00:00-04:00",
           "2024-03-12T00:00:00-04:00"
          ],
          [
           "2024-03-25T00:00:00-04:00",
           "2024-03-26T00:00:00-04:00"
          ],
          [
           "2024-04-08T00:00:00-04:00",
           "2024-04-09T00:00:00-04:00"
          ],
          [
           "2024-04-22T00:00:00-04:00",
           "2024-04-23T00:00:00-04:00"
          ],
          [
           "2024-05-06T00:00:00-04:00",
           "2024-05-07T00:00:00-04:00"
          ],
          [
           "2024-05-20T00:00:00-04:00",
           "2024-05-21T00:00:00-04:00"
          ],
          [
           "2024-06-03T00:00:00-04:00",
           "2024-06-04T00:00:00-04:00"
          ],
          [
           "2024-06-17T00:00:00-04:00",
           "2024-06-18T00:00:00-04:00"
          ],
          [
           "2024-07-01T00:00:00-04:00",
           "2024-07-02T00:00:00-04:00"
          ],
          [
           "2024-07-15T00:00:00-04:00",
           "2024-07-16T00:00:00-04:00"
          ],
          [
           "2024-07-29T00:00:00-04:00",
           "2024-07-30T00:00:00-04:00"
          ],
          [
           "2024-08-12T00:00:00-04:00",
           "2024-08-13T00:00:00-04:00"
          ],
          [
           "2024-08-26T00:00:00-04:00",
           "2024-08-27T00:00:00-04:00"
          ],
          [
           "2024-09-09T00:00:00-04:00",
           "2024-09-10T00:00:00-04:00"
          ],
          [
           "2024-09-23T00:00:00-04:00",
           "2024-09-24T00:00:00-04:00"
          ],
          [
           "2024-10-07T00:00:00-04:00",
           "2024-10-08T00:00:00-04:00"
          ],
          [
           "2024-10-21T00:00:00-04:00",
           "2024-10-22T00:00:00-04:00"
          ],
          [
           "2024-11-04T00:00:00-05:00",
           "2024-11-05T00:00:00-05:00"
          ],
          [
           "2024-11-18T00:00:00-05:00",
           "2024-11-19T00:00:00-05:00"
          ],
          [
           "2024-12-02T00:00:00-05:00",
           "2024-12-03T00:00:00-05:00"
          ],
          [
           "2024-12-16T00:00:00-05:00",
           "2024-12-17T00:00:00-05:00"
          ],
          [
           "2024-12-30T00:00:00-05:00",
           "2024-12-31T00:00:00-05:00"
          ],
          [
           "2024-03-22T00:00:00-04:00",
           "2024-03-23T00:00:00-04:00"
          ],
          [
           "2024-06-03T00:00:00-04:00",
           "2024-06-08T00:00:00-04:00"
          ],
          [
           "2024-12-06T00:00:00-05:00",
           "2024-12-07T00:00:00-05:00"
          ],
          [
           "2024-02-10T00:00:00-05:00",
           "2024-02-11T00:00:00-05:00"
          ],
          [
           "2024-06-03T00:00:00-04:00",
           "2024-06-05T00:00:00-04:00"
          ],
          [
           "2024-01-25T19:30:00-05:00",
           "2024-01-25T20:30:00-05:00"
          ],
          [
           "2024-01-25T19:30:00-05:00",
           "2024-01-25T20:30:00-05:00"
          ],
          [
           "2024-01-11T00:00:00-05:00",
           "2024-01-12T00:00:00-05:00"
          ],
          [
           "2024-02-01T00:00:00-05:00",
           "2024-02-02T00:00:00-05:00"
          ],
          [
           "2024-11-01T00:00:00-04:00",
           "2024-11-02T00:00:00-04:00"
          ],
          [
           "2024-01-22T00:00:00-05:00",
           "2024-01-23T00:00:00-05:00"
          ],
          [
           "2024-01-09T11:30:00-05:00",
           "2024-01-09T12:30:00-05:00"
          ],
          [
           "2024-01-05T12:00:00-05:00",
           "2024-01-05T13:00:00-05:00"
          ],
          [
           "2024-01-09T11:30:00-05:00",
           "2024-01-09T12:30:00-05:00"
          ],
          [
           "2024-01-05T13:00:00-05:00",
           "2024-01-05T14:00:00-05:00"
          ],
          [
           "2024-01-12T15:00:00-05:00",
           "2024-01-12T15:45:00-05:00"
          ],
          [
           "2024-01-12T13:30:00-05:00",
           "2024-01-12T14:15:00-05:00"
          ],
          [
           "2024-04-05T15:00:00-04:00",
           "2024-04-05T15:45:00-04:00"
          ],
          [
           "2024-01-13T17:00:00-05:00",
           "2024-01-13T21:00:00-05:00"
          ],
          [
           "2024-01-15T09:30:00-05:00",
           "2024-01-15T11:00:00-05:00"
          ],
          [
           "2024-01-17T14:00:00-05:00",
           "2024-01-17T15:00:00-05:00"
          ],
          [
           "2024-01-17T14:00:00-05:00",
           "2024-01-17T15:00:00-05:00"
          ],
          [
           "2024-01-17T14:00:00-05:00",
           "2024-01-17T15:00:00-05:00"
          ],
          [
           "2024-01-23T10:30:00-05:00",
           "2024-01-23T11:30:00-05:00"
          ],
          [
           "2024-01-22T13:15:00-05:00",
           "2024-01-22T14:00:00-05:00"
          ],
          [
           "2024-01-19T10:15:00-05:00",
           "2024-01-19T11:00:00-05:00"
          ],
          [
           "2024-01-26T15:00:00-05:00",
           "2024-01-26T15:45:00-05:00"
          ],
          [
           "2024-01-26T14:00:00-05:00",
           "2024-01-26T17:00:00-05:00"
          ],
          [
           "2024-04-02T18:30:00-04:00",
           "2024-04-02T19:30:00-04:00"
          ],
          [
           "2024-01-24T12:00:00-05:00",
           "2024-01-24T13:00:00-05:00"
          ],
          [
           "2024-01-25T11:00:00-05:00",
           "2024-01-25T12:00:00-05:00"
          ],
          [
           "2024-01-24T15:15:00-05:00",
           "2024-01-24T15:45:00-05:00"
          ],
          [
           "2024-01-29T13:00:00-05:00",
           "2024-01-29T14:00:00-05:00"
          ],
          [
           "2024-03-01T00:00:00-05:00",
           "2024-03-02T00:00:00-05:00"
          ],
          [
           "2024-01-30T11:00:00-05:00",
           "2024-01-30T12:15:00-05:00"
          ],
          [
           "2024-03-27T18:30:00-04:00",
           "2024-03-27T19:30:00-04:00"
          ],
          [
           "2024-01-30T16:00:00-05:00",
           "2024-01-30T17:00:00-05:00"
          ],
          [
           "2024-01-29T16:00:00-05:00",
           "2024-01-29T16:45:00-05:00"
          ],
          [
           "2024-01-31T10:00:00-05:00",
           "2024-01-31T11:00:00-05:00"
          ],
          [
           "2024-03-06T14:00:00-05:00",
           "2024-03-06T14:45:00-05:00"
          ],
          [
           "2024-02-07T15:30:00-05:00",
           "2024-02-07T16:15:00-05:00"
          ],
          [
           "2024-03-22T14:00:00-04:00",
           "2024-03-22T16:00:00-04:00"
          ],
          [
           "2024-02-02T13:30:00-05:00",
           "2024-02-02T14:30:00-05:00"
          ],
          [
           "2024-03-25T00:00:00-04:00",
           "2024-03-29T00:00:00-04:00"
          ],
          [
           "2024-02-16T14:00:00-05:00",
           "2024-02-16T14:50:00-05:00"
          ],
          [
           "2024-02-01T16:00:00-05:00",
           "2024-02-01T17:00:00-05:00"
          ],
          [
           "2024-02-04T17:00:00-05:00",
           "2024-02-04T21:00:00-05:00"
          ],
          [
           "2024-02-08T13:15:00-05:00",
           "2024-02-08T14:00:00-05:00"
          ],
          [
           "2024-02-08T14:00:00-05:00",
           "2024-02-08T15:15:00-05:00"
          ],
          [
           "2024-02-07T08:45:00-05:00",
           "2024-02-07T09:25:00-05:00"
          ],
          [
           "2024-02-14T14:00:00-05:00",
           "2024-02-14T15:00:00-05:00"
          ],
          [
           "2024-01-18T12:30:00-05:00",
           "2024-01-18T13:30:00-05:00"
          ],
          [
           "2024-01-25T12:30:00-05:00",
           "2024-01-25T13:30:00-05:00"
          ],
          [
           "2024-02-19T00:00:00-05:00",
           "2024-02-22T00:00:00-05:00"
          ],
          [
           "2024-02-13T15:40:00-05:00",
           "2024-02-13T15:55:00-05:00"
          ],
          [
           "2024-02-13T16:00:00-05:00",
           "2024-02-13T17:00:00-05:00"
          ],
          [
           "2024-02-19T09:30:00-05:00",
           "2024-02-19T14:18:00-05:00"
          ],
          [
           "2024-02-19T09:30:00-05:00",
           "2024-02-19T10:39:00-05:00"
          ],
          [
           "2024-02-29T10:00:00-05:00",
           "2024-02-29T11:00:00-05:00"
          ],
          [
           "2024-02-27T12:30:00-05:00",
           "2024-02-27T13:30:00-05:00"
          ],
          [
           "2024-02-28T10:00:00-05:00",
           "2024-02-28T11:00:00-05:00"
          ],
          [
           "2024-02-22T16:00:00-05:00",
           "2024-02-22T17:00:00-05:00"
          ],
          [
           "2024-02-15T16:00:00-05:00",
           "2024-02-15T17:00:00-05:00"
          ],
          [
           "2024-02-13T11:30:00-05:00",
           "2024-02-13T13:00:00-05:00"
          ],
          [
           "2024-02-21T12:00:00-05:00",
           "2024-02-21T14:18:00-05:00"
          ],
          [
           "2024-02-21T13:30:00-05:00",
           "2024-02-21T14:00:00-05:00"
          ],
          [
           "2024-02-29T12:30:00-05:00",
           "2024-02-29T13:45:00-05:00"
          ],
          [
           "2024-02-28T18:15:00-05:00",
           "2024-02-28T19:00:00-05:00"
          ],
          [
           "2024-02-23T14:00:00-05:00",
           "2024-02-23T15:00:00-05:00"
          ],
          [
           "2024-02-23T15:45:00-05:00",
           "2024-02-23T16:30:00-05:00"
          ],
          [
           "2024-02-23T16:30:00-05:00",
           "2024-02-23T17:00:00-05:00"
          ],
          [
           "2024-02-27T11:00:00-05:00",
           "2024-02-27T12:15:00-05:00"
          ],
          [
           "2024-02-29T14:00:00-05:00",
           "2024-02-29T15:15:00-05:00"
          ],
          [
           "2024-02-27T10:15:00-05:00",
           "2024-02-27T11:00:00-05:00"
          ],
          [
           "2024-02-28T09:15:00-05:00",
           "2024-02-28T10:00:00-05:00"
          ],
          [
           "2024-03-01T10:00:00-05:00",
           "2024-03-01T11:00:00-05:00"
          ],
          [
           "2024-03-01T09:15:00-05:00",
           "2024-03-01T10:00:00-05:00"
          ],
          [
           "2024-02-26T14:30:00-05:00",
           "2024-02-26T15:15:00-05:00"
          ],
          [
           "2024-03-06T10:00:00-05:00",
           "2024-03-06T11:00:00-05:00"
          ],
          [
           "2024-03-11T16:00:00-04:00",
           "2024-03-11T17:00:00-04:00"
          ],
          [
           "2024-03-11T10:30:00-04:00",
           "2024-03-11T11:30:00-04:00"
          ],
          [
           "2024-03-05T12:00:00-05:00",
           "2024-03-05T13:00:00-05:00"
          ],
          [
           "2024-01-16T14:00:00-05:00",
           "2024-01-16T15:00:00-05:00"
          ],
          [
           "2024-01-23T14:00:00-05:00",
           "2024-01-23T15:00:00-05:00"
          ],
          [
           "2024-02-06T14:00:00-05:00",
           "2024-02-06T15:00:00-05:00"
          ],
          [
           "2024-02-27T14:00:00-05:00",
           "2024-02-27T15:00:00-05:00"
          ],
          [
           "2024-02-13T14:00:00-05:00",
           "2024-02-13T15:00:00-05:00"
          ],
          [
           "2024-02-20T14:00:00-05:00",
           "2024-02-20T15:00:00-05:00"
          ],
          [
           "2024-03-05T16:00:00-05:00",
           "2024-03-05T17:00:00-05:00"
          ],
          [
           "2024-02-29T16:00:00-05:00",
           "2024-02-29T17:00:00-05:00"
          ],
          [
           "2024-03-07T11:00:00-05:00",
           "2024-03-07T12:00:00-05:00"
          ],
          [
           "2024-04-20T09:00:00-04:00",
           "2024-04-20T15:00:00-04:00"
          ],
          [
           "2024-03-20T14:15:00-04:00",
           "2024-03-20T15:00:00-04:00"
          ],
          [
           "2024-03-11T13:00:00-04:00",
           "2024-03-11T14:00:00-04:00"
          ],
          [
           "2024-03-13T12:50:00-04:00",
           "2024-03-13T16:20:00-04:00"
          ],
          [
           "2024-03-13T11:45:00-04:00",
           "2024-03-13T12:45:00-04:00"
          ],
          [
           "2024-03-13T12:45:00-04:00",
           "2024-03-13T15:45:00-04:00"
          ],
          [
           "2024-03-11T13:00:00-04:00",
           "2024-03-11T14:00:00-04:00"
          ],
          [
           "2024-03-27T15:00:00-04:00",
           "2024-03-27T15:45:00-04:00"
          ],
          [
           "2024-03-18T15:00:00-04:00",
           "2024-03-18T15:30:00-04:00"
          ],
          [
           "2024-03-15T15:00:00-04:00",
           "2024-03-15T15:45:00-04:00"
          ],
          [
           "2024-03-22T12:00:00-04:00",
           "2024-03-22T13:00:00-04:00"
          ],
          [
           "2024-04-04T18:00:00-04:00",
           "2024-04-04T19:00:00-04:00"
          ],
          [
           "2024-03-21T14:30:00-04:00",
           "2024-03-21T15:30:00-04:00"
          ],
          [
           "2024-03-21T13:15:00-04:00",
           "2024-03-21T14:00:00-04:00"
          ],
          [
           "2024-03-28T14:00:00-04:00",
           "2024-03-28T15:30:00-04:00"
          ],
          [
           "2024-03-28T12:30:00-04:00",
           "2024-03-28T13:30:00-04:00"
          ],
          [
           "2024-04-01T13:30:00-04:00",
           "2024-04-01T14:00:00-04:00"
          ],
          [
           "2024-03-26T16:00:00-04:00",
           "2024-03-26T17:00:00-04:00"
          ],
          [
           "2024-03-25T12:00:00-04:00",
           "2024-03-25T13:30:00-04:00"
          ],
          [
           "2024-04-29T10:00:00-04:00",
           "2024-04-29T17:00:00-04:00"
          ],
          [
           "2024-04-07T13:00:00-04:00",
           "2024-04-07T13:30:00-04:00"
          ],
          [
           "2024-04-17T13:00:00-04:00",
           "2024-04-17T17:00:00-04:00"
          ],
          [
           "2024-01-16T12:30:00-05:00",
           "2024-01-16T13:30:00-05:00"
          ],
          [
           "2024-01-23T12:30:00-05:00",
           "2024-01-23T13:30:00-05:00"
          ],
          [
           "2024-02-06T12:30:00-05:00",
           "2024-02-06T13:30:00-05:00"
          ],
          [
           "2024-01-30T12:30:00-05:00",
           "2024-01-30T13:30:00-05:00"
          ],
          [
           "2024-02-13T12:30:00-05:00",
           "2024-02-13T13:30:00-05:00"
          ],
          [
           "2024-02-20T12:30:00-05:00",
           "2024-02-20T13:30:00-05:00"
          ],
          [
           "2024-02-27T12:30:00-05:00",
           "2024-02-27T13:30:00-05:00"
          ],
          [
           "2024-03-05T12:30:00-05:00",
           "2024-03-05T13:30:00-05:00"
          ],
          [
           "2024-03-12T12:30:00-04:00",
           "2024-03-12T13:30:00-04:00"
          ],
          [
           "2024-03-19T12:30:00-04:00",
           "2024-03-19T13:30:00-04:00"
          ],
          [
           "2024-03-26T12:30:00-04:00",
           "2024-03-26T13:30:00-04:00"
          ],
          [
           "2024-04-02T12:30:00-04:00",
           "2024-04-02T13:30:00-04:00"
          ],
          [
           "2024-04-09T12:30:00-04:00",
           "2024-04-09T13:30:00-04:00"
          ],
          [
           "2024-04-23T12:30:00-04:00",
           "2024-04-23T13:30:00-04:00"
          ],
          [
           "2024-04-16T12:30:00-04:00",
           "2024-04-16T13:30:00-04:00"
          ],
          [
           "2024-04-23T12:30:00-04:00",
           "2024-04-23T13:45:00-04:00"
          ],
          [
           "2024-04-25T14:15:00-04:00",
           "2024-04-25T15:00:00-04:00"
          ],
          [
           "2024-04-25T09:30:00-04:00",
           "2024-04-25T10:45:00-04:00"
          ],
          [
           "2024-04-23T10:45:00-04:00",
           "2024-04-23T11:30:00-04:00"
          ],
          [
           "2024-04-18T09:00:00-04:00",
           "2024-04-18T17:00:00-04:00"
          ],
          [
           "2024-04-19T09:00:00-04:00",
           "2024-04-19T17:15:00-04:00"
          ],
          [
           "2024-04-23T00:00:00-04:00",
           "2024-04-24T00:00:00-04:00"
          ],
          [
           "2024-04-29T17:00:00-04:00",
           "2024-04-29T18:00:00-04:00"
          ],
          [
           "2024-04-23T10:00:00-04:00",
           "2024-04-23T10:45:00-04:00"
          ],
          [
           "2024-02-01T12:30:00-05:00",
           "2024-02-01T13:30:00-05:00"
          ],
          [
           "2024-02-08T12:30:00-05:00",
           "2024-02-08T13:30:00-05:00"
          ],
          [
           "2024-02-15T12:30:00-05:00",
           "2024-02-15T13:30:00-05:00"
          ],
          [
           "2024-02-29T12:30:00-05:00",
           "2024-02-29T13:30:00-05:00"
          ],
          [
           "2024-03-07T12:30:00-05:00",
           "2024-03-07T13:30:00-05:00"
          ],
          [
           "2024-03-14T12:30:00-04:00",
           "2024-03-14T13:30:00-04:00"
          ],
          [
           "2024-03-21T12:30:00-04:00",
           "2024-03-21T13:30:00-04:00"
          ],
          [
           "2024-03-28T12:30:00-04:00",
           "2024-03-28T13:30:00-04:00"
          ],
          [
           "2024-04-04T12:30:00-04:00",
           "2024-04-04T13:30:00-04:00"
          ],
          [
           "2024-04-11T12:30:00-04:00",
           "2024-04-11T13:30:00-04:00"
          ],
          [
           "2024-04-18T12:30:00-04:00",
           "2024-04-18T13:30:00-04:00"
          ],
          [
           "2024-04-25T15:50:00-04:00",
           "2024-04-25T16:50:00-04:00"
          ],
          [
           "2024-04-25T15:15:00-04:00",
           "2024-04-25T15:45:00-04:00"
          ],
          [
           "2024-04-24T16:00:00-04:00",
           "2024-04-24T17:00:00-04:00"
          ],
          [
           "2024-04-24T15:30:00-04:00",
           "2024-04-24T16:00:00-04:00"
          ],
          [
           "2024-04-24T14:00:00-04:00",
           "2024-04-24T15:00:00-04:00"
          ],
          [
           "2024-04-24T10:00:00-04:00",
           "2024-04-24T10:45:00-04:00"
          ],
          [
           "2024-05-16T14:00:00-04:00",
           "2024-05-16T15:00:00-04:00"
          ],
          [
           "2024-05-16T13:30:00-04:00",
           "2024-05-16T14:00:00-04:00"
          ],
          [
           "2024-05-13T14:00:00-04:00",
           "2024-05-13T16:00:00-04:00"
          ],
          [
           "2024-04-30T12:30:00-04:00",
           "2024-04-30T13:30:00-04:00"
          ],
          [
           "2024-04-30T10:15:00-04:00",
           "2024-04-30T16:45:00-04:00"
          ],
          [
           "2024-05-01T10:15:00-04:00",
           "2024-05-01T16:45:00-04:00"
          ],
          [
           "2024-05-02T10:15:00-04:00",
           "2024-05-02T16:45:00-04:00"
          ],
          [
           "2024-01-17T15:00:00-05:00",
           "2024-01-17T15:30:00-05:00"
          ],
          [
           "2024-01-24T15:00:00-05:00",
           "2024-01-24T15:30:00-05:00"
          ],
          [
           "2024-01-31T15:00:00-05:00",
           "2024-01-31T15:30:00-05:00"
          ],
          [
           "2024-02-07T15:00:00-05:00",
           "2024-02-07T15:30:00-05:00"
          ],
          [
           "2024-02-14T15:00:00-05:00",
           "2024-02-14T15:30:00-05:00"
          ],
          [
           "2024-02-21T15:00:00-05:00",
           "2024-02-21T15:30:00-05:00"
          ],
          [
           "2024-02-28T15:00:00-05:00",
           "2024-02-28T15:30:00-05:00"
          ],
          [
           "2024-03-06T15:00:00-05:00",
           "2024-03-06T15:30:00-05:00"
          ],
          [
           "2024-03-13T15:00:00-04:00",
           "2024-03-13T15:30:00-04:00"
          ],
          [
           "2024-03-20T15:00:00-04:00",
           "2024-03-20T15:30:00-04:00"
          ],
          [
           "2024-03-27T15:00:00-04:00",
           "2024-03-27T15:30:00-04:00"
          ],
          [
           "2024-04-03T15:00:00-04:00",
           "2024-04-03T15:30:00-04:00"
          ],
          [
           "2024-04-10T15:00:00-04:00",
           "2024-04-10T15:30:00-04:00"
          ],
          [
           "2024-04-17T15:00:00-04:00",
           "2024-04-17T15:30:00-04:00"
          ],
          [
           "2024-05-01T15:00:00-04:00",
           "2024-05-01T15:30:00-04:00"
          ],
          [
           "2024-04-23T12:00:00-04:00",
           "2024-04-23T13:30:00-04:00"
          ],
          [
           "2024-02-06T13:45:00-05:00",
           "2024-02-06T14:00:00-05:00"
          ],
          [
           "2024-02-13T13:45:00-05:00",
           "2024-02-13T14:00:00-05:00"
          ],
          [
           "2024-02-20T13:45:00-05:00",
           "2024-02-20T14:00:00-05:00"
          ],
          [
           "2024-02-27T13:45:00-05:00",
           "2024-02-27T14:00:00-05:00"
          ],
          [
           "2024-03-05T13:45:00-05:00",
           "2024-03-05T14:00:00-05:00"
          ],
          [
           "2024-03-19T13:45:00-04:00",
           "2024-03-19T14:00:00-04:00"
          ],
          [
           "2024-04-02T13:45:00-04:00",
           "2024-04-02T14:00:00-04:00"
          ],
          [
           "2024-04-09T13:45:00-04:00",
           "2024-04-09T14:00:00-04:00"
          ],
          [
           "2024-04-16T13:45:00-04:00",
           "2024-04-16T14:00:00-04:00"
          ],
          [
           "2024-04-23T13:45:00-04:00",
           "2024-04-23T14:00:00-04:00"
          ],
          [
           "2024-04-30T13:45:00-04:00",
           "2024-04-30T14:00:00-04:00"
          ],
          [
           "2024-05-09T15:30:00-04:00",
           "2024-05-09T16:30:00-04:00"
          ],
          [
           "2024-05-08T14:30:00-04:00",
           "2024-05-08T15:15:00-04:00"
          ],
          [
           "2024-01-17T12:30:00-05:00",
           "2024-01-17T13:30:00-05:00"
          ],
          [
           "2024-01-24T12:30:00-05:00",
           "2024-01-24T13:30:00-05:00"
          ],
          [
           "2024-01-31T12:30:00-05:00",
           "2024-01-31T13:30:00-05:00"
          ],
          [
           "2024-02-07T12:30:00-05:00",
           "2024-02-07T13:30:00-05:00"
          ],
          [
           "2024-02-14T12:30:00-05:00",
           "2024-02-14T13:30:00-05:00"
          ],
          [
           "2024-02-21T12:30:00-05:00",
           "2024-02-21T13:30:00-05:00"
          ],
          [
           "2024-02-28T12:30:00-05:00",
           "2024-02-28T13:30:00-05:00"
          ],
          [
           "2024-03-06T12:30:00-05:00",
           "2024-03-06T13:30:00-05:00"
          ],
          [
           "2024-03-13T12:30:00-04:00",
           "2024-03-13T13:30:00-04:00"
          ],
          [
           "2024-03-20T12:30:00-04:00",
           "2024-03-20T13:30:00-04:00"
          ],
          [
           "2024-03-27T12:30:00-04:00",
           "2024-03-27T13:30:00-04:00"
          ],
          [
           "2024-04-03T12:30:00-04:00",
           "2024-04-03T13:30:00-04:00"
          ],
          [
           "2024-04-10T12:30:00-04:00",
           "2024-04-10T13:30:00-04:00"
          ],
          [
           "2024-04-17T12:30:00-04:00",
           "2024-04-17T13:30:00-04:00"
          ],
          [
           "2024-04-24T12:30:00-04:00",
           "2024-04-24T13:30:00-04:00"
          ],
          [
           "2024-05-01T12:30:00-04:00",
           "2024-05-01T13:30:00-04:00"
          ],
          [
           "2024-03-05T14:00:00-05:00",
           "2024-03-05T15:00:00-05:00"
          ],
          [
           "2024-05-14T10:40:00-04:00",
           "2024-05-14T11:40:00-04:00"
          ],
          [
           "2024-05-14T10:00:00-04:00",
           "2024-05-14T10:45:00-04:00"
          ],
          [
           "2024-05-16T15:30:00-04:00",
           "2024-05-16T17:00:00-04:00"
          ],
          [
           "2024-05-17T12:45:00-04:00",
           "2024-05-17T13:30:00-04:00"
          ],
          [
           "2024-05-15T13:30:00-04:00",
           "2024-05-15T15:30:00-04:00"
          ],
          [
           "2024-06-03T10:30:00-04:00",
           "2024-06-03T11:00:00-04:00"
          ],
          [
           "2024-09-13T00:00:00-04:00",
           "2024-09-14T00:00:00-04:00"
          ],
          [
           "2024-05-18T13:00:00-04:00",
           "2024-05-18T14:00:00-04:00"
          ],
          [
           "2024-09-04T00:00:00-04:00",
           "2024-09-07T00:00:00-04:00"
          ],
          [
           "2024-05-23T09:00:00-04:00",
           "2024-05-23T10:00:00-04:00"
          ],
          [
           "2024-05-23T14:00:00-04:00",
           "2024-05-23T15:00:00-04:00"
          ],
          [
           "2024-05-24T08:00:00-04:00",
           "2024-05-24T15:00:00-04:00"
          ],
          [
           "2024-05-20T12:00:00-04:00",
           "2024-05-20T13:30:00-04:00"
          ],
          [
           "2024-12-06T17:00:00-05:00",
           "2024-12-06T22:00:00-05:00"
          ],
          [
           "2024-06-10T00:00:00-04:00",
           "2024-07-30T00:00:00-04:00"
          ],
          [
           "2024-04-09T14:00:00-04:00",
           "2024-04-09T15:00:00-04:00"
          ],
          [
           "2024-03-26T14:00:00-04:00",
           "2024-03-26T15:00:00-04:00"
          ],
          [
           "2024-04-02T14:00:00-04:00",
           "2024-04-02T15:00:00-04:00"
          ],
          [
           "2024-04-16T14:00:00-04:00",
           "2024-04-16T15:00:00-04:00"
          ],
          [
           "2024-04-23T14:00:00-04:00",
           "2024-04-23T15:00:00-04:00"
          ],
          [
           "2024-04-30T14:00:00-04:00",
           "2024-04-30T15:00:00-04:00"
          ],
          [
           "2024-06-17T00:00:00-04:00",
           "2024-06-18T00:00:00-04:00"
          ],
          [
           "2024-06-18T00:00:00-04:00",
           "2024-06-19T00:00:00-04:00"
          ],
          [
           "2024-05-22T11:30:00-04:00",
           "2024-05-22T14:00:00-04:00"
          ],
          [
           "2024-05-24T16:00:00-04:00",
           "2024-05-24T17:00:00-04:00"
          ],
          [
           "2024-06-05T10:30:00-04:00",
           "2024-06-05T11:30:00-04:00"
          ],
          [
           "2024-06-03T13:30:00-04:00",
           "2024-06-03T14:00:00-04:00"
          ],
          [
           "2024-06-05T15:00:00-04:00",
           "2024-06-05T16:00:00-04:00"
          ],
          [
           "2024-06-05T14:30:00-04:00",
           "2024-06-05T15:00:00-04:00"
          ],
          [
           "2024-06-05T09:30:00-04:00",
           "2024-06-05T10:00:00-04:00"
          ],
          [
           "2024-06-04T10:30:00-04:00",
           "2024-06-04T11:30:00-04:00"
          ],
          [
           "2024-06-04T10:00:00-04:00",
           "2024-06-04T10:30:00-04:00"
          ],
          [
           "2024-06-04T16:30:00-04:00",
           "2024-06-04T17:30:00-04:00"
          ],
          [
           "2024-06-04T15:30:00-04:00",
           "2024-06-04T16:30:00-04:00"
          ],
          [
           "2024-06-02T19:30:00-04:00",
           "2024-06-02T20:30:00-04:00"
          ],
          [
           "2024-06-25T14:00:00-04:00",
           "2024-06-25T15:00:00-04:00"
          ],
          [
           "2024-08-28T09:45:00-04:00",
           "2024-08-28T10:30:00-04:00"
          ],
          [
           "2024-06-12T10:00:00-04:00",
           "2024-06-12T12:00:00-04:00"
          ],
          [
           "2024-06-11T09:00:00-04:00",
           "2024-06-11T11:00:00-04:00"
          ],
          [
           "2024-06-10T12:00:00-04:00",
           "2024-06-10T13:30:00-04:00"
          ],
          [
           "2024-06-11T09:00:00-04:00",
           "2024-06-11T11:00:00-04:00"
          ],
          [
           "2024-06-11T11:30:00-04:00",
           "2024-06-11T12:30:00-04:00"
          ],
          [
           "2024-06-12T10:00:00-04:00",
           "2024-06-12T11:00:00-04:00"
          ],
          [
           "2024-06-13T15:30:00-04:00",
           "2024-06-13T16:30:00-04:00"
          ],
          [
           "2024-07-20T00:00:00-04:00",
           "2024-07-21T00:00:00-04:00"
          ],
          [
           "2024-06-13T11:00:00-04:00",
           "2024-06-13T12:00:00-04:00"
          ],
          [
           "2024-06-28T18:30:00-04:00",
           "2024-06-28T19:30:00-04:00"
          ],
          [
           "2024-06-14T14:30:00-04:00",
           "2024-06-14T15:30:00-04:00"
          ],
          [
           "2024-06-25T10:00:00-04:00",
           "2024-06-25T11:00:00-04:00"
          ],
          [
           "2024-06-26T14:00:00-04:00",
           "2024-06-26T15:00:00-04:00"
          ],
          [
           "2024-06-27T11:30:00-04:00",
           "2024-06-27T12:30:00-04:00"
          ],
          [
           "2024-06-26T15:30:00-04:00",
           "2024-06-26T16:30:00-04:00"
          ],
          [
           "2024-06-25T16:00:00-04:00",
           "2024-06-25T17:00:00-04:00"
          ],
          [
           "2024-06-25T15:30:00-04:00",
           "2024-06-25T16:00:00-04:00"
          ],
          [
           "2024-06-16T00:00:00-04:00",
           "2024-06-19T00:00:00-04:00"
          ],
          [
           "2024-06-18T00:00:00-04:00",
           "2024-06-21T00:00:00-04:00"
          ],
          [
           "2024-06-27T15:30:00-04:00",
           "2024-06-27T16:30:00-04:00"
          ],
          [
           "2024-06-27T09:00:00-04:00",
           "2024-06-27T10:30:00-04:00"
          ],
          [
           "2024-05-07T14:00:00-04:00",
           "2024-05-07T15:00:00-04:00"
          ],
          [
           "2024-05-14T14:00:00-04:00",
           "2024-05-14T15:00:00-04:00"
          ],
          [
           "2024-05-21T14:00:00-04:00",
           "2024-05-21T15:00:00-04:00"
          ],
          [
           "2024-05-28T14:00:00-04:00",
           "2024-05-28T15:00:00-04:00"
          ],
          [
           "2024-06-04T14:00:00-04:00",
           "2024-06-04T15:00:00-04:00"
          ],
          [
           "2024-06-11T14:00:00-04:00",
           "2024-06-11T15:00:00-04:00"
          ],
          [
           "2024-06-18T14:00:00-04:00",
           "2024-06-18T15:00:00-04:00"
          ],
          [
           "2024-07-10T11:00:00-04:00",
           "2024-07-10T12:00:00-04:00"
          ],
          [
           "2024-07-10T08:30:00-04:00",
           "2024-07-10T17:00:00-04:00"
          ],
          [
           "2024-07-09T08:30:00-04:00",
           "2024-07-09T17:00:00-04:00"
          ],
          [
           "2024-07-19T11:30:00-04:00",
           "2024-07-19T13:00:00-04:00"
          ],
          [
           "2024-07-11T08:30:00-04:00",
           "2024-07-11T12:30:00-04:00"
          ],
          [
           "2024-07-11T14:00:00-04:00",
           "2024-07-11T15:00:00-04:00"
          ],
          [
           "2024-07-15T15:00:00-04:00",
           "2024-07-15T16:00:00-04:00"
          ],
          [
           "2024-07-29T14:00:00-04:00",
           "2024-07-29T15:00:00-04:00"
          ],
          [
           "2024-07-17T18:00:00-04:00",
           "2024-07-17T19:00:00-04:00"
          ],
          [
           "2024-07-23T15:15:00-04:00",
           "2024-07-23T16:00:00-04:00"
          ],
          [
           "2024-07-23T11:00:00-04:00",
           "2024-07-23T11:30:00-04:00"
          ],
          [
           "2024-07-26T12:00:00-04:00",
           "2024-07-26T13:30:00-04:00"
          ],
          [
           "2024-06-18T11:59:00-04:00",
           "2024-06-18T17:00:00-04:00"
          ],
          [
           "2024-06-16T20:30:00-04:00",
           "2024-06-16T23:55:00-04:00"
          ],
          [
           "2024-06-20T12:30:00-04:00",
           "2024-06-20T15:05:00-04:00"
          ],
          [
           "2024-09-05T16:30:00-04:00",
           "2024-09-05T19:00:00-04:00"
          ],
          [
           "2024-08-03T00:00:00-04:00",
           "2024-08-04T00:00:00-04:00"
          ],
          [
           "2024-01-19T12:30:00-05:00",
           "2024-01-19T14:00:00-05:00"
          ],
          [
           "2024-02-23T12:30:00-05:00",
           "2024-02-23T14:00:00-05:00"
          ],
          [
           "2024-04-05T12:30:00-04:00",
           "2024-04-05T14:00:00-04:00"
          ],
          [
           "2024-05-03T12:30:00-04:00",
           "2024-05-03T14:00:00-04:00"
          ],
          [
           "2024-08-20T15:15:00-04:00",
           "2024-08-20T16:00:00-04:00"
          ],
          [
           "2024-06-25T14:00:00-04:00",
           "2024-06-25T15:00:00-04:00"
          ],
          [
           "2024-07-02T14:00:00-04:00",
           "2024-07-02T15:00:00-04:00"
          ],
          [
           "2024-07-09T14:00:00-04:00",
           "2024-07-09T15:00:00-04:00"
          ],
          [
           "2024-07-16T14:00:00-04:00",
           "2024-07-16T15:00:00-04:00"
          ],
          [
           "2024-07-23T14:00:00-04:00",
           "2024-07-23T15:00:00-04:00"
          ],
          [
           "2024-07-30T14:00:00-04:00",
           "2024-07-30T15:00:00-04:00"
          ],
          [
           "2024-08-06T14:00:00-04:00",
           "2024-08-06T15:00:00-04:00"
          ],
          [
           "2024-08-13T14:00:00-04:00",
           "2024-08-13T15:00:00-04:00"
          ],
          [
           "2024-08-20T14:00:00-04:00",
           "2024-08-20T15:00:00-04:00"
          ],
          [
           "2024-08-21T14:00:00-04:00",
           "2024-08-21T15:30:00-04:00"
          ],
          [
           "2024-08-07T14:00:00-04:00",
           "2024-08-07T14:45:00-04:00"
          ],
          [
           "2024-10-22T00:00:00-04:00",
           "2024-10-27T00:00:00-04:00"
          ],
          [
           "2024-09-09T00:00:00-04:00",
           "2024-09-10T00:00:00-04:00"
          ],
          [
           "2024-08-28T12:30:00-04:00",
           "2024-08-28T13:30:00-04:00"
          ],
          [
           "2024-09-04T12:30:00-04:00",
           "2024-09-04T13:30:00-04:00"
          ],
          [
           "2024-10-23T12:30:00-04:00",
           "2024-10-23T13:30:00-04:00"
          ],
          [
           "2024-09-11T12:30:00-04:00",
           "2024-09-11T13:30:00-04:00"
          ],
          [
           "2024-09-18T12:30:00-04:00",
           "2024-09-18T13:30:00-04:00"
          ],
          [
           "2024-09-25T12:30:00-04:00",
           "2024-09-25T13:30:00-04:00"
          ],
          [
           "2024-10-02T12:30:00-04:00",
           "2024-10-02T13:30:00-04:00"
          ],
          [
           "2024-10-09T12:30:00-04:00",
           "2024-10-09T13:30:00-04:00"
          ],
          [
           "2024-10-16T12:30:00-04:00",
           "2024-10-16T13:30:00-04:00"
          ],
          [
           "2024-10-30T12:30:00-04:00",
           "2024-10-30T13:30:00-04:00"
          ],
          [
           "2024-11-06T12:30:00-05:00",
           "2024-11-06T13:30:00-05:00"
          ],
          [
           "2024-11-13T12:30:00-05:00",
           "2024-11-13T13:30:00-05:00"
          ],
          [
           "2024-11-20T12:30:00-05:00",
           "2024-11-20T13:30:00-05:00"
          ],
          [
           "2024-11-27T12:30:00-05:00",
           "2024-11-27T13:30:00-05:00"
          ],
          [
           "2024-12-04T12:30:00-05:00",
           "2024-12-04T13:30:00-05:00"
          ],
          [
           "2024-12-11T12:30:00-05:00",
           "2024-12-11T13:30:00-05:00"
          ],
          [
           "2024-08-30T12:30:00-04:00",
           "2024-08-30T14:00:00-04:00"
          ],
          [
           "2024-06-14T12:00:00-04:00",
           "2024-06-14T13:00:00-04:00"
          ],
          [
           "2024-06-21T12:00:00-04:00",
           "2024-06-21T13:00:00-04:00"
          ],
          [
           "2024-06-28T12:00:00-04:00",
           "2024-06-28T13:00:00-04:00"
          ],
          [
           "2024-07-05T12:00:00-04:00",
           "2024-07-05T13:00:00-04:00"
          ],
          [
           "2024-07-12T12:00:00-04:00",
           "2024-07-12T13:00:00-04:00"
          ],
          [
           "2024-07-19T12:00:00-04:00",
           "2024-07-19T13:00:00-04:00"
          ],
          [
           "2024-07-26T12:00:00-04:00",
           "2024-07-26T13:00:00-04:00"
          ],
          [
           "2024-08-02T12:00:00-04:00",
           "2024-08-02T13:00:00-04:00"
          ],
          [
           "2024-08-09T12:00:00-04:00",
           "2024-08-09T13:00:00-04:00"
          ],
          [
           "2024-08-16T12:00:00-04:00",
           "2024-08-16T13:00:00-04:00"
          ],
          [
           "2024-08-23T12:00:00-04:00",
           "2024-08-23T13:00:00-04:00"
          ],
          [
           "2024-08-27T12:30:00-04:00",
           "2024-08-27T13:30:00-04:00"
          ],
          [
           "2024-09-03T12:30:00-04:00",
           "2024-09-03T13:30:00-04:00"
          ],
          [
           "2024-09-10T12:30:00-04:00",
           "2024-09-10T13:30:00-04:00"
          ],
          [
           "2024-09-17T12:30:00-04:00",
           "2024-09-17T13:30:00-04:00"
          ],
          [
           "2024-09-24T12:30:00-04:00",
           "2024-09-24T13:30:00-04:00"
          ],
          [
           "2024-10-01T12:30:00-04:00",
           "2024-10-01T13:30:00-04:00"
          ],
          [
           "2024-10-08T12:30:00-04:00",
           "2024-10-08T13:30:00-04:00"
          ],
          [
           "2024-10-15T12:30:00-04:00",
           "2024-10-15T13:30:00-04:00"
          ],
          [
           "2024-10-22T12:30:00-04:00",
           "2024-10-22T13:30:00-04:00"
          ],
          [
           "2024-10-29T12:30:00-04:00",
           "2024-10-29T13:30:00-04:00"
          ],
          [
           "2024-11-05T12:30:00-05:00",
           "2024-11-05T13:30:00-05:00"
          ],
          [
           "2024-11-12T12:30:00-05:00",
           "2024-11-12T13:30:00-05:00"
          ],
          [
           "2024-11-19T12:30:00-05:00",
           "2024-11-19T13:30:00-05:00"
          ],
          [
           "2024-11-26T12:30:00-05:00",
           "2024-11-26T13:30:00-05:00"
          ],
          [
           "2024-12-03T12:30:00-05:00",
           "2024-12-03T13:30:00-05:00"
          ],
          [
           "2024-12-10T12:30:00-05:00",
           "2024-12-10T13:30:00-05:00"
          ],
          [
           "2024-09-04T17:00:00-04:00",
           "2024-09-04T19:00:00-04:00"
          ],
          [
           "2024-08-12T14:00:00-04:00",
           "2024-08-12T15:00:00-04:00"
          ]
         ],
         "hovertemplate": "%{text}<br>Start: %{customdata[0]|%Y/%m/%d %H:%M:%S.%L}<br>End: %{customdata[1]|%Y/%m/%d %H:%M:%S.%L}",
         "marker": {
          "color": [
           "#ffad46",
           "#ffad46",
           "#ffad46",
           "#ffad46",
           "#ffad46",
           "#ffad46",
           "#ffad46",
           "#ffad46",
           "#ffad46",
           "#ffad46",
           "#ffad46",
           "#ffad46",
           "#ffad46",
           "#ffad46",
           "#ffad46",
           "#ffad46",
           "#ffad46",
           "#ffad46",
           "#ffad46",
           "#ffad46",
           "#ffad46",
           "#ffad46",
           "#ffad46",
           "#ffad46",
           "#ffad46",
           "#ffad46",
           "#ffad46",
           "#ffad46",
           "#ffad46",
           "#ffad46",
           "#ffad46",
           "#ffad46",
           "#ffad46",
           "#ffad46",
           "#ffad46",
           "#ffad46",
           "#ffad46",
           "#ffad46",
           "#ffad46",
           "#ffad46",
           "#ffad46",
           "#ffad46",
           "#ffad46",
           "#ffad46",
           "#ffad46",
           "#ffad46",
           "#ffad46",
           "#ffad46",
           "#ffad46",
           "#ffad46",
           "#ffad46",
           "#ffad46",
           "#ffad46",
           "#ffad46",
           "#ffad46",
           "#ffad46",
           "#ffad46",
           "#ffad46",
           "#ffad46",
           "#ffad46",
           "#ffad46",
           "#ffad46",
           "#ffad46",
           "#ffad46",
           "#ffad46",
           "#ffad46",
           "#ffad46",
           "#ffad46",
           "#ffad46",
           "#ffad46",
           "#ffad46",
           "#ffad46",
           "#ffad46",
           "#ffad46",
           "#ffad46",
           "#ffad46",
           "#ffad46",
           "#ffad46",
           "#ffad46",
           "#ffad46",
           "#ffad46",
           "#ffad46",
           "#ffad46",
           "#ffad46",
           "#ffad46",
           "#ffad46",
           "#ffad46",
           "#ffad46",
           "#ffad46",
           "#ffad46",
           "#ffad46",
           "#ffad46",
           "#ffad46",
           "#ffad46",
           "#ffad46",
           "#ffad46",
           "#ffad46",
           "#ffad46",
           "#ffad46",
           "#ffad46",
           "#ffad46",
           "#ffad46",
           "#ffad46",
           "#ffad46",
           "#ffad46",
           "#ffad46",
           "#ffad46",
           "#ffad46",
           "#ffad46",
           "#ffad46",
           "#ffad46",
           "#ffad46",
           "#ffad46",
           "#ffad46",
           "#ffad46",
           "#ffad46",
           "#ffad46",
           "#ffad46",
           "#ffad46",
           "#ffad46",
           "#ffad46",
           "#ffad46",
           "#ffad46",
           "#ffad46",
           "#ffad46",
           "#ffad46",
           "#ffad46",
           "#ffad46",
           "#ffad46",
           "#ffad46",
           "#ffad46",
           "#ffad46",
           "#ffad46",
           "#ffad46",
           "#ffad46",
           "#ffad46",
           "#ffad46",
           "#ffad46",
           "#ffad46",
           "#ffad46",
           "#ffad46",
           "#ffad46",
           "#ffad46",
           "#ffad46",
           "#ffad46",
           "#ffad46",
           "#ffad46",
           "#ffad46",
           "#ffad46",
           "#ffad46",
           "#ffad46",
           "#ffad46",
           "#ffad46",
           "#ffad46",
           "#ffad46",
           "#ffad46",
           "#ffad46",
           "#ffad46",
           "#ffad46",
           "#ffad46",
           "#ffad46",
           "#ffad46",
           "#ffad46",
           "#ffad46",
           "#ffad46",
           "#ffad46",
           "#ffad46",
           "#ffad46",
           "#ffad46",
           "#ffad46",
           "#ffad46",
           "#ffad46",
           "#ffad46",
           "#ffad46",
           "#ffad46",
           "#ffad46",
           "#ffad46",
           "#ffad46",
           "#ffad46",
           "#ffad46",
           "#ffad46",
           "#ffad46",
           "#ffad46",
           "#ffad46",
           "#ffad46",
           "#ffad46",
           "#ffad46",
           "#ffad46",
           "#ffad46",
           "#ffad46",
           "#ffad46",
           "#ffad46",
           "#ffad46",
           "#ffad46",
           "#ffad46",
           "#ffad46",
           "#ffad46",
           "#ffad46",
           "#ffad46",
           "#ffad46",
           "#ffad46",
           "#ffad46",
           "#ffad46",
           "#ffad46",
           "#ffad46",
           "#ffad46",
           "#ffad46",
           "#ffad46",
           "#ffad46",
           "#ffad46",
           "#ffad46",
           "#ffad46",
           "#ffad46",
           "#ffad46",
           "#ffad46",
           "#ffad46",
           "#ffad46",
           "#ffad46",
           "#ffad46",
           "#ffad46",
           "#ffad46",
           "#ffad46",
           "#ffad46",
           "#ffad46",
           "#ffad46",
           "#ffad46",
           "#ffad46",
           "#ffad46",
           "#ffad46",
           "#ffad46",
           "#ffad46",
           "#ffad46",
           "#ffad46",
           "#ffad46",
           "#ffad46",
           "#ffad46",
           "#ffad46",
           "#ffad46",
           "#ffad46",
           "#ffad46",
           "#ffad46",
           "#ffad46",
           "#ffad46",
           "#ffad46",
           "#ffad46",
           "#ffad46",
           "#ffad46",
           "#ffad46",
           "#ffad46",
           "#ffad46",
           "#ffad46",
           "#ffad46",
           "#ffad46",
           "#ffad46",
           "#ffad46",
           "#ffad46",
           "#ffad46",
           "#ffad46",
           "#ffad46",
           "#ffad46",
           "#ffad46",
           "#ffad46",
           "#ffad46",
           "#ffad46",
           "#ffad46",
           "#ffad46",
           "#ffad46",
           "#ffad46",
           "#ffad46",
           "#ffad46",
           "#ffad46",
           "#ffad46",
           "#ffad46",
           "#ffad46",
           "#ffad46",
           "#ffad46",
           "#ffad46",
           "#ffad46",
           "#ffad46",
           "#ffad46",
           "#ffad46",
           "#ffad46",
           "#ffad46",
           "#ffad46",
           "#ffad46",
           "#ffad46",
           "#ffad46",
           "#ffad46",
           "#ffad46",
           "#ffad46",
           "#ffad46",
           "#ffad46",
           "#ffad46",
           "#ffad46",
           "#ffad46",
           "#ffad46",
           "#ffad46",
           "#ffad46",
           "#ffad46",
           "#ffad46",
           "#ffad46",
           "#ffad46",
           "#ffad46",
           "#ffad46",
           "#ffad46",
           "#ffad46",
           "#ffad46",
           "#ffad46",
           "#ffad46",
           "#ffad46",
           "#ffad46",
           "#ffad46",
           "#ffad46",
           "#ffad46",
           "#ffad46",
           "#ffad46",
           "#ffad46",
           "#ffad46",
           "#ffad46",
           "#ffad46",
           "#ffad46",
           "#ffad46",
           "#ffad46",
           "#ffad46",
           "#ffad46",
           "#ffad46",
           "#ffad46",
           "#ffad46",
           "#ffad46",
           "#ffad46",
           "#ffad46",
           "#ffad46",
           "#ffad46",
           "#ffad46",
           "#ffad46",
           "#ffad46",
           "#ffad46",
           "#ffad46",
           "#ffad46",
           "#ffad46",
           "#ffad46",
           "#ffad46",
           "#ffad46",
           "#ffad46",
           "#ffad46",
           "#ffad46",
           "#ffad46",
           "#ffad46",
           "#ffad46",
           "#ffad46",
           "#ffad46",
           "#ffad46",
           "#ffad46",
           "#ffad46",
           "#ffad46",
           "#ffad46",
           "#ffad46",
           "#ffad46",
           "#ffad46",
           "#ffad46",
           "#ffad46",
           "#ffad46",
           "#ffad46",
           "#ffad46",
           "#ffad46",
           "#ffad46",
           "#ffad46",
           "#ffad46",
           "#ffad46",
           "#ffad46",
           "#ffad46",
           "#ffad46",
           "#ffad46",
           "#ffad46",
           "#ffad46",
           "#ffad46",
           "#ffad46",
           "#ffad46",
           "#ffad46",
           "#ffad46",
           "#ffad46",
           "#ffad46",
           "#ffad46",
           "#ffad46"
          ]
         },
         "name": "kdavis10@nd.edu",
         "r": [
          0.097,
          0.097,
          0.097,
          0.097,
          0.097,
          0.097,
          0.097,
          0.097,
          0.097,
          0.097,
          0.097,
          0.097,
          0.097,
          0.097,
          0.097,
          0.097,
          0.097,
          0.097,
          0.097,
          0.097,
          0.097,
          0.097,
          0.097,
          0.097,
          0.097,
          0.097,
          0.097,
          0.097,
          0.097,
          0.097,
          0.097,
          0.097,
          0.097,
          0.097,
          0.097,
          0.097,
          0.097,
          0.097,
          0.097,
          0.097,
          0.097,
          0.097,
          0.097,
          0.097,
          0.097,
          0.097,
          0.097,
          0.097,
          0.097,
          0.097,
          0.097,
          0.097,
          0.097,
          0.097,
          0.097,
          0.097,
          0.097,
          0.097,
          0.097,
          0.097,
          0.097,
          0.097,
          0.097,
          0.097,
          0.097,
          0.097,
          0.097,
          0.097,
          0.097,
          0.097,
          0.097,
          0.097,
          0.097,
          0.097,
          0.097,
          0.097,
          0.097,
          0.097,
          0.097,
          0.097,
          0.097,
          0.097,
          0.097,
          0.097,
          0.097,
          0.097,
          0.097,
          0.097,
          0.097,
          0.097,
          0.097,
          0.097,
          0.097,
          0.097,
          0.097,
          0.097,
          0.097,
          0.097,
          0.097,
          0.097,
          0.097,
          0.097,
          0.097,
          0.097,
          0.097,
          0.097,
          0.097,
          0.097,
          0.097,
          0.097,
          0.097,
          0.097,
          0.097,
          0.097,
          0.097,
          0.097,
          0.097,
          0.097,
          0.097,
          0.097,
          0.097,
          0.097,
          0.097,
          0.097,
          0.097,
          0.097,
          0.097,
          0.097,
          0.097,
          0.097,
          0.097,
          0.097,
          0.097,
          0.097,
          0.097,
          0.097,
          0.097,
          0.097,
          0.097,
          0.097,
          0.097,
          0.097,
          0.097,
          0.097,
          0.097,
          0.097,
          0.097,
          0.097,
          0.097,
          0.097,
          0.097,
          0.097,
          0.097,
          0.097,
          0.097,
          0.097,
          0.097,
          0.097,
          0.097,
          0.097,
          0.097,
          0.097,
          0.097,
          0.097,
          0.097,
          0.097,
          0.097,
          0.097,
          0.097,
          0.097,
          0.097,
          0.097,
          0.097,
          0.097,
          0.097,
          0.097,
          0.097,
          0.097,
          0.097,
          0.097,
          0.097,
          0.097,
          0.097,
          0.097,
          0.097,
          0.097,
          0.097,
          0.097,
          0.097,
          0.097,
          0.097,
          0.097,
          0.097,
          0.097,
          0.097,
          0.097,
          0.097,
          0.097,
          0.097,
          0.097,
          0.097,
          0.097,
          0.097,
          0.097,
          0.097,
          0.097,
          0.097,
          0.097,
          0.097,
          0.097,
          0.097,
          0.097,
          0.097,
          0.097,
          0.097,
          0.097,
          0.097,
          0.097,
          0.097,
          0.097,
          0.097,
          0.097,
          0.097,
          0.097,
          0.097,
          0.097,
          0.097,
          0.097,
          0.097,
          0.097,
          0.097,
          0.097,
          0.097,
          0.097,
          0.097,
          0.097,
          0.097,
          0.097,
          0.097,
          0.097,
          0.097,
          0.097,
          0.097,
          0.097,
          0.097,
          0.097,
          0.097,
          0.097,
          0.097,
          0.097,
          0.097,
          0.097,
          0.097,
          0.097,
          0.097,
          0.097,
          0.097,
          0.097,
          0.097,
          0.097,
          0.097,
          0.097,
          0.097,
          0.097,
          0.097,
          0.097,
          0.097,
          0.097,
          0.097,
          0.097,
          0.097,
          0.097,
          0.097,
          0.097,
          0.097,
          0.097,
          0.097,
          0.097,
          0.097,
          0.097,
          0.097,
          0.097,
          0.097,
          0.097,
          0.097,
          0.097,
          0.097,
          0.097,
          0.097,
          0.097,
          0.097,
          0.097,
          0.097,
          0.097,
          0.097,
          0.097,
          0.097,
          0.097,
          0.097,
          0.097,
          0.097,
          0.097,
          0.097,
          0.097,
          0.097,
          0.097,
          0.097,
          0.097,
          0.097,
          0.097,
          0.097,
          0.097,
          0.097,
          0.097,
          0.097,
          0.097,
          0.097,
          0.097,
          0.097,
          0.097,
          0.097,
          0.097,
          0.097,
          0.097,
          0.097,
          0.097,
          0.097,
          0.097,
          0.097,
          0.097,
          0.097,
          0.097,
          0.097,
          0.097,
          0.097,
          0.097,
          0.097,
          0.097,
          0.097,
          0.097,
          0.097,
          0.097,
          0.097,
          0.097,
          0.097,
          0.097,
          0.097,
          0.097,
          0.097,
          0.097,
          0.097,
          0.097,
          0.097,
          0.097,
          0.097,
          0.097,
          0.097,
          0.097,
          0.097,
          0.097,
          0.097,
          0.097,
          0.097,
          0.097,
          0.097,
          0.097,
          0.097,
          0.097,
          0.097,
          0.097,
          0.097,
          0.097,
          0.097,
          0.097,
          0.097,
          0.097,
          0.097,
          0.097,
          0.097,
          0.097,
          0.097,
          0.097,
          0.097,
          0.097
         ],
         "text": [
          "GLPA News Due",
          "GLPA News Due",
          "GLPA News Due",
          "GLPA News Due",
          "Approve Hours",
          "Approve Hours",
          "Approve Hours",
          "Approve Hours",
          "Approve Hours",
          "Approve Hours",
          "Approve Hours",
          "Approve Hours",
          "Approve Hours",
          "Approve Hours",
          "Approve Hours",
          "Approve Hours",
          "Approve Hours",
          "Approve Hours",
          "Approve Hours",
          "Approve Hours",
          "Approve Hours",
          "Approve Hours",
          "Approve Hours",
          "Approve Hours",
          "Approve Hours",
          "Approve Hours",
          "Approve Hours",
          "Approve Hours",
          "Approve Hours",
          "Approve Hours",
          "Approve Hours",
          "WVPE Day",
          "Frontiers in Nuclear Astrophysics ",
          "Christmas Lecture",
          "Science Alive",
          "Talk on Communicating Science.",
          "ILI Initiative",
          "ILI Initiative",
          "Arielle’s Talk",
          "Stephen Heritage REU recc letter",
          "call for proposal for “Summer Academy\"",
          "Annual scholarly report",
          "Meet over Library / ND Eclipse activities.",
          "Matt and Lucas Lunch interview with Keith",
          "Library ND Eclipse Activities",
          "Possible hold for Astrophysics discussion",
          "Eclipse stuff Keith and Deanna",
          "Fabio and Keith Zoom",
          "Eclipse update meeting",
          "Keith Davis' Zoom Meeting",
          "Astro Faculty Meeting",
          "Keith Davis",
          "DVT Upgrade Kickoff Zoom",
          "DVT Upgrade - RFP Kickoff Meeting",
          "Postdoc Coffee Hour with Keith Davis: Science Communication",
          "Meet over Chem",
          "Meet with DVT Students",
          "Eclipse update meeting",
          "Busy",
          "Lauren Weiss Talk",
          "Lunch",
          "DVT Upgrade - Project Touch Base",
          "Michelle",
          "Keith / Miguel data discussion",
          "Prospective Grad Visit",
          "Descriptive Astronomy - Prof. Garnavich out of Town (Planet Tracking Activity)",
          "Phil’s Eclipse talk",
          "Busy",
          "Keith Davis' Zoom Meeting",
          "Keith / Miguel github tutorial meeting?",
          "Eclipse update meeting",
          "Eclipse update meeting",
          "WVPE",
          "DVT Upgrade - Committee Meeting",
          "Release RFP",
          "Orbital and Space Dynamics - Karel Matous",
          "Physics Colloquium (PHYS73000) 118 NSH",
          "Keith Davis' Zoom Meeting",
          "Prep",
          "Phillippe Collon Physics of Civilication",
          "Prep",
          "DVT Upgrade - Committee Meeting",
          "Astro Journal Club",
          "Astro Journal Club",
          "Keith In Boston",
          "Travel",
          "therapy",
          "Flight# UA5309 from SBN -> ORD\n (1 hour and 9 mins.)  Layover of 1 hour and 21 mins.  Flight# 2617 from ORD -> BOS\n (2 hours and 18 mins.)",
          "Flight to Chicago (UA 5309)",
          "Furnace CHeckup.",
          "PT",
          "Beiger Elementary",
          "Physics Colloquium (PHYS73000) 118 NSH",
          "Physics Colloquium (PHYS73000) 118 NSH",
          "Physics & Astronomy LGBTQ/Ally Luncheon",
          "Flight to Boston (UA 2617)",
          "Discuss Eclipse Event - Irish Green",
          "Losecco cosmology",
          "Prep",
          "DVT Upgrade RFP Discussion",
          "Eclipse update meeting",
          "Discuss budget and plans for April 8 eclipse",
          "Eclipses for Desc Astro",
          "Descriptive Astronomy Prof. Beers out of Town",
          "Prep",
          "Pre[",
          "Stephen Piloting - Pierre Moran Middle and North Side Middle School",
          "Prep",
          "Eclipse - backup plan discussion",
          "DVT Upgrade RFP Committee Meeting",
          "therapy",
          "physical therapy",
          "Lunch w/ Jeff",
          "Environmentally Dependent Galaxy Evolution weekly group meeting (Hybrid)",
          "Environmentally Dependent Galaxy Evolution weekly group meeting (Hybrid)",
          "Environmentally Dependent Galaxy Evolution weekly group meeting (Hybrid)",
          "Environmentally Dependent Galaxy Evolution weekly group meeting (Hybrid)",
          "Environmentally Dependent Galaxy Evolution weekly group meeting (Hybrid)",
          "Environmentally Dependent Galaxy Evolution weekly group meeting (Hybrid)",
          "Physics Colloquium (PHYS73000) 118 NSH",
          "Physics Colloquium (PHYS73000) 118 NSH",
          "Eclipse Stream Advance",
          "State Meeting",
          "Eclipse update meeting",
          "Meeting over display cases",
          "Dune 2",
          "Optional lunch with Jeff & Ken before the movie",
          "Dune 2 with Jeff & Ken",
          "Astrophysics case discussion",
          "Eclipse update meeting",
          "haircyt",
          "Eclipse update meeting",
          "meet with Adam about postdoc",
          "Digital Visualization Theater Presentation: “Into the Shadow”",
          "DVT Upgrade - RFP Meeting",
          "Eclipse meeting - 215 Jordan",
          "Final RFP Draft - DVT Upgrade Meeting",
          "Solar Telescope meeting. (weather dependent)",
          "DVT RFP chat",
          "Physics Colloquium (PHYS73000) 118 NSH",
          "LGBTQ/Ally Luncheon",
          "Jury Duty",
          "Eclipse Volunteer Q & A",
          "DVT Upgrade Bidder Conference & Walkthrough (Confirmed)",
          "Astrophysics Seminar (PHYS83200) 184 NSH",
          "Astrophysics Seminar (PHYS83200) 184 NSH",
          "Astrophysics Seminar (PHYS83200) 184 NSH",
          "Astrophysics Seminar (PHYS83200) 184 NSH",
          "Astrophysics Seminar (PHYS83200) 184 NSH",
          "Astrophysics Seminar (PHYS83200) 184 NSH",
          "Astrophysics Seminar (PHYS83200) 184 NSH",
          "Astrophysics Seminar (PHYS83200) 184 NSH",
          "Astrophysics Seminar (PHYS83200) 184 NSH",
          "Astrophysics Seminar (PHYS83200) 184 NSH",
          "Astrophysics Seminar (PHYS83200) 184 NSH",
          "Astrophysics Seminar (PHYS83200) 184 NSH",
          "Astrophysics Seminar (PHYS83200) 184 NSH",
          "Astrophysics Seminar (PHYS83200) 184 NSH",
          "Astrophysics Seminar (PHYS83200) 184 NSH",
          "Losecco Cosmology",
          "American Indian Catholic Schools Network",
          "Science Communications Class",
          "pt",
          "Busy",
          "Busy",
          "Q and A due from bidders",
          "Written responses",
          "Dr. Keith Davis Appointments (Sara Wheeler)",
          "Astro Journal Club",
          "Astro Journal Club",
          "Astro Journal Club",
          "Astro Journal Club",
          "Astro Journal Club",
          "Astro Journal Club",
          "Astro Journal Club",
          "Astro Journal Club",
          "Astro Journal Club",
          "Astro Journal Club",
          "Astro Journal Club",
          "Foot appointment",
          "Trvel",
          "therapy",
          "Travel",
          "DVT Upgrade RFP - Written Questions",
          "Dr. Keith Davis Appointments (Sara Wheeler)",
          "St. Vincent De Paul",
          "Prep",
          "DVT Upgrade RFP -Evaluation",
          "Astrophysics Seminar (PHYS83200) 184 NSH",
          "Jury Duty",
          "Jury Duty",
          "Jury Duty",
          "Colloquium Tea",
          "Colloquium Tea",
          "Colloquium Tea",
          "Colloquium Tea",
          "Colloquium Tea",
          "Colloquium Tea",
          "Colloquium Tea",
          "Colloquium Tea",
          "Colloquium Tea",
          "Colloquium Tea",
          "Colloquium Tea",
          "Colloquium Tea",
          "Colloquium Tea",
          "Colloquium Tea",
          "Colloquium Tea",
          "LGBTQ/Ally Luncheon",
          "Meet with Alex",
          "Meet with Alex",
          "Meet with Alex",
          "Meet with Alex",
          "Meet with Alex",
          "Meet with Alex",
          "Meet with Alex",
          "Meet with Alex",
          "Meet with Alex",
          "Meet with Alex",
          "Meet with Alex",
          "Lara / Keith",
          "Fabio / Keith",
          "Physics Colloquium (PHYS73000) 127 NSH",
          "Physics Colloquium (PHYS73000) 127 NSH",
          "Physics Colloquium (PHYS73000) 127 NSH",
          "Physics Colloquium (PHYS73000) 127 NSH",
          "Physics Colloquium (PHYS73000) 127 NSH",
          "Physics Colloquium (PHYS73000) 127 NSH",
          "Physics Colloquium (PHYS73000) 127 NSH",
          "Physics Colloquium (PHYS73000) 127 NSH",
          "Physics Colloquium (PHYS73000) 127 NSH",
          "Physics Colloquium (PHYS73000) 127 NSH",
          "Physics Colloquium (PHYS73000) 127 NSH",
          "Physics Colloquium (PHYS73000) 127 NSH",
          "Physics Colloquium (PHYS73000) 127 NSH",
          "Physics Colloquium (PHYS73000) 127 NSH",
          "Physics Colloquium (PHYS73000) 127 NSH",
          "Physics Colloquium (PHYS73000) 127 NSH",
          "Galaxies neighborhood_Environmentally Dependent Galaxy Evolution weekly group meeting ",
          "Tammi school presentation",
          "Prep",
          "DVT Upgrade RFP -Evaluation (cont'd if needed)",
          "PT",
          "DVT Upgrade RFP -Evaluation",
          "Science Communication Talk",
          "ND Press Inaugeuration",
          "Physics graduation",
          "Lips",
          "PT",
          "Therapy",
          "Graage door fix",
          "Lunch",
          "Christmas Lecture Featuring Dr. Michelle Thaller, NASA Goddard Space Flight Center",
          "NDQN RET/REHS",
          "EDGE meeting",
          "EDGE meeting",
          "EDGE meeting",
          "EDGE meeting",
          "EDGE meeting",
          "EDGE meeting",
          "Visit to COSM",
          "Visit to SSIA",
          "Gym",
          "Keith/Miguel Code discuss",
          "AJ roof inspection",
          "CFSB ID Monthly Education Call",
          "Busy",
          "Travel",
          "PHone appointee doctor",
          "STEM Summer Camp Group",
          "Prep",
          "Feathers Vet",
          "busy",
          "My Meeting",
          "WSP: Digital Visualization Theater Demonstration",
          "Physical Exam",
          "SSIA Training",
          "Training E & S",
          "Lunch w/ Ken, Jeff & Keith",
          "FW: Notre Dame Digistar Training",
          "Emily, Keith, Miguel over plotting / calculation code.",
          "DigitalSky Dark Matter Intro",
          "DVT Upgrade Committee - Updates, Training, Pre On-Site Visits",
          "Arielle Leaves",
          "Halo analysis code discussion",
          "Warrior Scholar Reception",
          "Tammi / Keith over Comm Sci Presentation",
          "Garage Estimate",
          "Warrior Scholars",
          "Dvt request physics olympics",
          "DNA Learning Center Residential Program",
          "therapy",
          "Busy",
          "KEITH WAYNE DAVIS, Hotel Check-In, MARRIOTT UNIVERSITY PARK - NUCGLO",
          "KEITH WAYNE DAVIS, Hotel Check-In, COURTYARD CONCORD MARRIOTT - NUCGLO",
          "Emily/ Keith Plot talk",
          "DVT Upgrade - On-Site Visit Sharing",
          "EDGE meeting",
          "EDGE meeting",
          "EDGE meeting",
          "EDGE meeting",
          "EDGE meeting",
          "EDGE meeting",
          "EDGE meeting",
          "ND Studios at DVT",
          "Science Communication Conference",
          "Science Communication Conference",
          "QuarkNet picnic",
          "Science Communication Conference",
          "Meet about Audio system",
          "TPAC-R Information Session",
          "DVT Upgrade - Committee Meeting",
          "USpace",
          "Tom / Keith",
          "Morten / Keith",
          "QN luncheon & student posters",
          "Flight to Boston (DL 657)",
          "Flight to Salt Lake City (WN 2429)",
          "Flight to Chicago (WN 4287)",
          "Fall All-College Meeting 2024",
          "Stay Steve Alford Inn",
          "Faculty Meeting",
          "Faculty Meeting",
          "Faculty Meeting",
          "Faculty Meeting",
          "Claire and Keith Meet",
          "EDGE meeting",
          "EDGE meeting",
          "EDGE meeting",
          "EDGE meeting",
          "EDGE meeting",
          "EDGE meeting",
          "EDGE meeting",
          "EDGE meeting",
          "EDGE meeting",
          "DVT Upgrade - Committee Meeting",
          "DVT Update and Discussion",
          "GLPA",
          "Paper and Proposals Due for GLPA",
          "Physics Colloquium (73000) 127 NSH",
          "Physics Colloquium (73000) 127 NSH",
          "Physics Colloquium (73000) 127 NSH",
          "Physics Colloquium (73000) 127 NSH",
          "Physics Colloquium (73000) 127 NSH",
          "Physics Colloquium (73000) 127 NSH",
          "Physics Colloquium (73000) 127 NSH",
          "Physics Colloquium (73000) 127 NSH",
          "Physics Colloquium (73000) 127 NSH",
          "Physics Colloquium (73000) 127 NSH",
          "Physics Colloquium (73000) 127 NSH",
          "Physics Colloquium (73000) 127 NSH",
          "Physics Colloquium (73000) 127 NSH",
          "Physics Colloquium (73000) 127 NSH",
          "Physics Colloquium (73000) 127 NSH",
          "Physics Colloquium (73000) 127 NSH",
          "Faculty Meeting",
          "Astro Journal Club",
          "Astro Journal Club",
          "Astro Journal Club",
          "Astro Journal Club",
          "Astro Journal Club",
          "Astro Journal Club",
          "Astro Journal Club",
          "Astro Journal Club",
          "Astro Journal Club",
          "Astro Journal Club",
          "Astro Journal Club",
          "Astrophysics Seminar (83200) 127 NSH",
          "Astrophysics Seminar (83200) 127 NSH",
          "Astrophysics Seminar (83200) 127 NSH",
          "Astrophysics Seminar (83200) 127 NSH",
          "Astrophysics Seminar (83200) 127 NSH",
          "Astrophysics Seminar (83200) 127 NSH",
          "Astrophysics Seminar (83200) 127 NSH",
          "Astrophysics Seminar (83200) 127 NSH",
          "Astrophysics Seminar (83200) 127 NSH",
          "Astrophysics Seminar (83200) 127 NSH",
          "Astrophysics Seminar (83200) 127 NSH",
          "Astrophysics Seminar (83200) 127 NSH",
          "Astrophysics Seminar (83200) 127 NSH",
          "Astrophysics Seminar (83200) 127 NSH",
          "Astrophysics Seminar (83200) 127 NSH",
          "Astrophysics Seminar (83200) 127 NSH",
          "Pizza on the Roof",
          "HOLD - Cosm Digistar 2025 Demo and Conversation"
         ],
         "theta": [
          30.98360655737705,
          119.4672131147541,
          209.95901639344265,
          300.45081967213116,
          0.49180327868852464,
          14.262295081967213,
          28.032786885245905,
          41.80327868852459,
          55.57377049180328,
          69.30327868852459,
          83.07377049180327,
          96.84426229508196,
          110.61475409836066,
          124.38524590163935,
          138.15573770491804,
          151.92622950819674,
          165.69672131147544,
          179.46721311475412,
          193.23770491803282,
          207.0081967213115,
          220.7786885245902,
          234.54918032786887,
          248.31967213114757,
          262.09016393442624,
          275.8606557377049,
          289.6311475409836,
          303.44262295081967,
          317.2131147540984,
          330.9836065573771,
          344.75409836065575,
          358.5245901639344,
          80.12295081967213,
          153.89344262295083,
          334.91803278688525,
          39.8360655737705,
          152.41803278688528,
          24.426229508196723,
          24.426229508196723,
          10.327868852459018,
          30.98360655737705,
          300.45081967213116,
          21.147540983606557,
          8.360655737704919,
          4.44672131147541,
          8.360655737704919,
          4.4877049180327875,
          11.449795081967213,
          11.388319672131148,
          94.03176229508196,
          12.581967213114755,
          14.190573770491804,
          16.331967213114755,
          16.331967213114755,
          16.331967213114755,
          22.09016393442623,
          21.214139344262296,
          18.140368852459016,
          25.220286885245905,
          25.225409836065573,
          91.22950819672131,
          23.135245901639344,
          24.07786885245902,
          23.258196721311474,
          28.09426229508197,
          59.50819672131148,
          29.001024590163937,
          85.32786885245902,
          29.20081967213115,
          28.21209016393443,
          29.938524590163937,
          64.5235655737705,
          37.044057377049185,
          80.24590163934427,
          32.049180327868854,
          84.54918032786885,
          45.836748633879786,
          31.16803278688525,
          34.221311475409834,
          37.935450819672134,
          37.97643442622951,
          36.76571038251366,
          43.872950819672134,
          17.25409836065574,
          24.139344262295083,
          49.67213114754099,
          42.942281420765035,
          42.97131147540984,
          48.6844262295082,
          48.60963114754099,
          58.46311475409836,
          56.59836065573771,
          57.47950819672131,
          51.82377049180328,
          44.93852459016394,
          42.79713114754098,
          50.70286885245902,
          50.727459016393446,
          58.57069672131148,
          57.8125,
          52.72540983606557,
          52.79200819672131,
          52.817622950819676,
          56.54200819672131,
          58.63217213114754,
          56.50102459016394,
          57.443647540983605,
          59.446721311475414,
          59.41086065573771,
          55.69159836065574,
          64.36475409836066,
          69.48770491803279,
          69.26229508196722,
          63.463114754098356,
          15.348360655737705,
          22.23360655737705,
          36.00409836065574,
          56.65983606557377,
          42.88934426229508,
          49.77459016393443,
          63.62704918032787,
          58.709016393442624,
          65.3893442622951,
          108.64754098360656,
          78.26331967213115,
          69.36475409836065,
          71.37636612021859,
          71.28073770491804,
          71.36270491803279,
          69.36475409836065,
          85.17930327868852,
          76.32172131147541,
          73.37602459016394,
          80.14344262295083,
          93.17622950819673,
          79.26229508196721,
          79.20594262295083,
          86.13729508196722,
          86.06557377049181,
          90.03073770491804,
          84.24180327868852,
          83.10450819672131,
          117.56147540983606,
          95.91188524590164,
          105.81967213114754,
          15.28688524590164,
          22.172131147540988,
          35.94262295081967,
          29.05737704918033,
          42.82786885245902,
          49.71311475409836,
          56.59836065573771,
          63.48360655737706,
          70.32786885245902,
          77.21311475409837,
          84.09836065573771,
          90.98360655737706,
          97.8688524590164,
          111.63934426229508,
          104.75409836065575,
          111.64446721311475,
          113.67315573770492,
          113.48872950819673,
          111.5625,
          106.72131147540985,
          107.71004098360656,
          111.59836065573771,
          117.72540983606558,
          111.53176229508198,
          31.02459016393443,
          37.90983606557377,
          44.795081967213115,
          58.5655737704918,
          65.45081967213116,
          72.29508196721312,
          79.18032786885246,
          86.06557377049181,
          92.95081967213115,
          99.8360655737705,
          106.72131147540985,
          113.74316939890711,
          113.70901639344264,
          112.76639344262296,
          112.73565573770492,
          112.6844262295082,
          112.51536885245902,
          134.3237704918033,
          134.29303278688525,
          131.39344262295083,
          118.52459016393443,
          118.54508196721312,
          119.52868852459017,
          120.51229508196721,
          16.36270491803279,
          23.247950819672134,
          30.133196721311478,
          37.01844262295082,
          43.903688524590166,
          50.78893442622951,
          57.674180327868854,
          64.5594262295082,
          71.40368852459017,
          78.28893442622952,
          85.17418032786885,
          92.0594262295082,
          98.94467213114754,
          105.82991803278689,
          119.60040983606558,
          111.62909836065575,
          35.978483606557376,
          42.86372950819673,
          49.74897540983607,
          56.634221311475414,
          63.51946721311476,
          77.24897540983606,
          91.01946721311475,
          97.9047131147541,
          104.78995901639344,
          111.67520491803279,
          118.56045081967213,
          127.50000000000001,
          126.47028688524591,
          16.27049180327869,
          23.155737704918035,
          30.04098360655738,
          36.92622950819672,
          43.81147540983606,
          50.69672131147541,
          57.58196721311476,
          64.4672131147541,
          71.31147540983606,
          78.19672131147541,
          85.08196721311477,
          91.9672131147541,
          98.85245901639345,
          105.73770491803279,
          112.62295081967214,
          119.50819672131148,
          63.54508196721312,
          132.21994535519127,
          132.1875,
          134.39549180327867,
          135.25102459016395,
          133.34016393442624,
          151.875,
          252.25409836065575,
          136.25000000000003,
          244.38524590163937,
          141.00409836065575,
          141.20901639344262,
          142.06967213114754,
          138.18647540983608,
          335.2254098360656,
          182.90983606557378,
          97.93032786885246,
          84.15983606557377,
          91.04508196721312,
          104.81557377049181,
          111.70081967213116,
          118.5860655737705,
          165.69672131147544,
          166.6803278688525,
          140.1536885245902,
          142.27459016393445,
          153.85245901639345,
          151.99795081967213,
          154.03688524590163,
          154.00614754098362,
          153.80122950819674,
          152.86885245901638,
          152.83811475409837,
          153.11475409836066,
          153.0737704918033,
          151.2704918032787,
          173.66803278688525,
          236.4395491803279,
          160.7377049180328,
          159.71311475409837,
          158.84221311475412,
          159.71311475409837,
          159.79508196721312,
          160.71721311475412,
          161.92622950819674,
          198.15573770491807,
          161.74180327868854,
          176.8032786885246,
          162.8688524590164,
          173.50409836065575,
          174.6516393442623,
          175.5327868852459,
          174.71311475409837,
          173.75000000000003,
          173.719262295082,
          165.69672131147544,
          167.66393442622953,
          175.69672131147541,
          175.44057377049182,
          125.47131147540985,
          132.3565573770492,
          139.24180327868854,
          146.12704918032787,
          153.0122950819672,
          159.89754098360658,
          166.7827868852459,
          188.29918032786887,
          188.35040983606558,
          187.36680327868854,
          197.18237704918033,
          189.24180327868854,
          189.40573770491804,
          193.38114754098362,
          207.11065573770492,
          195.47131147540983,
          201.2551229508197,
          201.07581967213116,
          204.08811475409837,
          166.78244535519127,
          165.13148907103826,
          168.7209699453552,
          244.62090163934425,
          211.92622950819674,
          18.24795081967213,
          52.67418032786886,
          93.94467213114756,
          121.48565573770493,
          228.79610655737707,
          173.66803278688525,
          180.5532786885246,
          187.43852459016395,
          194.3237704918033,
          201.20901639344262,
          208.094262295082,
          214.97950819672133,
          221.86475409836066,
          228.75,
          229.7438524590164,
          215.9579918032787,
          292.58196721311475,
          248.31967213114757,
          236.55737704918033,
          243.4426229508197,
          291.6393442622951,
          250.32786885245903,
          257.2131147540984,
          264.09836065573774,
          270.9836065573771,
          277.8688524590164,
          284.75409836065575,
          298.5245901639344,
          305.45081967213116,
          312.33606557377055,
          319.2213114754099,
          326.1065573770492,
          332.99180327868856,
          339.8770491803279,
          238.53483606557378,
          162.76639344262296,
          169.6516393442623,
          176.53688524590163,
          183.422131147541,
          190.30737704918033,
          197.19262295081967,
          204.077868852459,
          210.96311475409837,
          217.8483606557377,
          224.73360655737704,
          231.6188524590164,
          235.5737704918033,
          242.45901639344262,
          249.344262295082,
          256.2295081967213,
          263.11475409836066,
          270,
          276.88524590163934,
          283.77049180327873,
          290.65573770491807,
          297.5409836065574,
          304.46721311475414,
          311.3524590163935,
          318.2377049180328,
          325.12295081967216,
          332.0081967213115,
          338.8934426229509,
          243.64754098360658,
          220.88114754098362
         ],
         "type": "barpolar",
         "width": [
          0.9836065573770492,
          0.9836065573770492,
          0.9836065573770492,
          0.9836065573770492,
          0.9836065573770492,
          0.9836065573770492,
          0.9836065573770492,
          0.9836065573770492,
          0.9836065573770492,
          0.9836065573770492,
          0.9836065573770492,
          0.9836065573770492,
          0.9836065573770492,
          0.9836065573770492,
          0.9836065573770492,
          0.9836065573770492,
          0.9836065573770492,
          0.9836065573770492,
          0.9836065573770492,
          0.9836065573770492,
          0.9836065573770492,
          0.9836065573770492,
          0.9836065573770492,
          0.9836065573770492,
          0.9836065573770492,
          0.9836065573770492,
          0.9836065573770492,
          0.9836065573770492,
          0.9836065573770492,
          0.9836065573770492,
          0.9836065573770492,
          0.9836065573770492,
          4.918032786885246,
          0.9836065573770492,
          0.9836065573770492,
          1.9672131147540983,
          0.040983606557377046,
          0.040983606557377046,
          0.9836065573770492,
          0.9836065573770492,
          0.9836065573770492,
          0.9836065573770492,
          0.040983606557377046,
          0.040983606557377046,
          0.040983606557377046,
          0.040983606557377046,
          0.030737704918032786,
          0.030737704918032786,
          0.030737704918032786,
          0.16393442622950818,
          0.06147540983606557,
          0.040983606557377046,
          0.040983606557377046,
          0.040983606557377046,
          0.040983606557377046,
          0.030737704918032786,
          0.030737704918032786,
          0.030737704918032786,
          0.12295081967213115,
          0.040983606557377046,
          0.040983606557377046,
          0.040983606557377046,
          0.020491803278688523,
          0.040983606557377046,
          0.9836065573770492,
          0.05122950819672131,
          0.040983606557377046,
          0.040983606557377046,
          0.030737704918032786,
          0.040983606557377046,
          0.030737704918032786,
          0.030737704918032786,
          0.08196721311475409,
          0.040983606557377046,
          3.9344262295081966,
          0.03415300546448087,
          0.040983606557377046,
          0.16393442622950818,
          0.030737704918032786,
          0.05122950819672131,
          0.027322404371584702,
          0.040983606557377046,
          0.040983606557377046,
          0.040983606557377046,
          2.9508196721311477,
          0.010245901639344262,
          0.040983606557377046,
          0.19672131147540983,
          0.04713114754098361,
          0.040983606557377046,
          0.040983606557377046,
          0.040983606557377046,
          0.040983606557377046,
          0.040983606557377046,
          0.06147540983606557,
          0.09426229508196722,
          0.020491803278688523,
          0.05122950819672131,
          0.030737704918032786,
          0.040983606557377046,
          0.030737704918032786,
          0.020491803278688523,
          0.05122950819672131,
          0.05122950819672131,
          0.030737704918032786,
          0.030737704918032786,
          0.040983606557377046,
          0.030737704918032786,
          0.030737704918032786,
          0.040983606557377046,
          0.040983606557377046,
          0.040983606557377046,
          0.040983606557377046,
          0.040983606557377046,
          0.040983606557377046,
          0.040983606557377046,
          0.040983606557377046,
          0.040983606557377046,
          0.040983606557377046,
          0.040983606557377046,
          0.040983606557377046,
          0.040983606557377046,
          0.2459016393442623,
          0.030737704918032786,
          0.040983606557377046,
          0.1434426229508197,
          0.040983606557377046,
          0.12295081967213115,
          0.040983606557377046,
          0.030737704918032786,
          0.020491803278688523,
          0.030737704918032786,
          0.040983606557377046,
          0.040983606557377046,
          0.040983606557377046,
          0.030737704918032786,
          0.06147540983606557,
          0.040983606557377046,
          0.020491803278688523,
          0.040983606557377046,
          0.06147540983606557,
          0.2868852459016394,
          0.020491803278688523,
          0.16393442622950818,
          0.040983606557377046,
          0.040983606557377046,
          0.040983606557377046,
          0.040983606557377046,
          0.040983606557377046,
          0.040983606557377046,
          0.040983606557377046,
          0.040983606557377046,
          0.040983606557377046,
          0.040983606557377046,
          0.040983606557377046,
          0.040983606557377046,
          0.040983606557377046,
          0.040983606557377046,
          0.040983606557377046,
          0.05122950819672131,
          0.030737704918032786,
          0.05122950819672131,
          0.030737704918032786,
          0.32786885245901637,
          0.3381147540983606,
          0.9836065573770492,
          0.040983606557377046,
          0.030737704918032786,
          0.040983606557377046,
          0.040983606557377046,
          0.040983606557377046,
          0.040983606557377046,
          0.040983606557377046,
          0.040983606557377046,
          0.040983606557377046,
          0.040983606557377046,
          0.040983606557377046,
          0.040983606557377046,
          0.040983606557377046,
          0.040983606557377046,
          0.020491803278688523,
          0.040983606557377046,
          0.020491803278688523,
          0.040983606557377046,
          0.030737704918032786,
          0.040983606557377046,
          0.020491803278688523,
          0.08196721311475409,
          0.040983606557377046,
          0.26639344262295084,
          0.26639344262295084,
          0.26639344262295084,
          0.020491803278688523,
          0.020491803278688523,
          0.020491803278688523,
          0.020491803278688523,
          0.020491803278688523,
          0.020491803278688523,
          0.020491803278688523,
          0.020491803278688523,
          0.020491803278688523,
          0.020491803278688523,
          0.020491803278688523,
          0.020491803278688523,
          0.020491803278688523,
          0.020491803278688523,
          0.020491803278688523,
          0.06147540983606557,
          0.010245901639344262,
          0.010245901639344262,
          0.010245901639344262,
          0.010245901639344262,
          0.010245901639344262,
          0.010245901639344262,
          0.010245901639344262,
          0.010245901639344262,
          0.010245901639344262,
          0.010245901639344262,
          0.010245901639344262,
          0.040983606557377046,
          0.030737704918032786,
          0.040983606557377046,
          0.040983606557377046,
          0.040983606557377046,
          0.040983606557377046,
          0.040983606557377046,
          0.040983606557377046,
          0.040983606557377046,
          0.040983606557377046,
          0.040983606557377046,
          0.040983606557377046,
          0.040983606557377046,
          0.040983606557377046,
          0.040983606557377046,
          0.040983606557377046,
          0.040983606557377046,
          0.040983606557377046,
          0.040983606557377046,
          0.040983606557377046,
          0.030737704918032786,
          0.06147540983606557,
          0.030737704918032786,
          0.08196721311475409,
          0.020491803278688523,
          0.9836065573770492,
          0.040983606557377046,
          2.9508196721311477,
          0.040983606557377046,
          0.040983606557377046,
          0.2868852459016394,
          0.06147540983606557,
          0.20491803278688525,
          49.180327868852466,
          0.040983606557377046,
          0.040983606557377046,
          0.040983606557377046,
          0.040983606557377046,
          0.040983606557377046,
          0.040983606557377046,
          0.9836065573770492,
          0.9836065573770492,
          0.10245901639344263,
          0.040983606557377046,
          0.040983606557377046,
          0.020491803278688523,
          0.040983606557377046,
          0.020491803278688523,
          0.020491803278688523,
          0.040983606557377046,
          0.020491803278688523,
          0.040983606557377046,
          0.040983606557377046,
          0.040983606557377046,
          0.040983606557377046,
          0.030737704918032786,
          0.08196721311475409,
          0.08196721311475409,
          0.06147540983606557,
          0.08196721311475409,
          0.040983606557377046,
          0.040983606557377046,
          0.040983606557377046,
          0.9836065573770492,
          0.040983606557377046,
          0.040983606557377046,
          0.040983606557377046,
          0.040983606557377046,
          0.040983606557377046,
          0.040983606557377046,
          0.040983606557377046,
          0.040983606557377046,
          0.020491803278688523,
          2.9508196721311477,
          2.9508196721311477,
          0.040983606557377046,
          0.06147540983606557,
          0.040983606557377046,
          0.040983606557377046,
          0.040983606557377046,
          0.040983606557377046,
          0.040983606557377046,
          0.040983606557377046,
          0.040983606557377046,
          0.040983606557377046,
          0.3483606557377049,
          0.3483606557377049,
          0.06147540983606557,
          0.16393442622950818,
          0.040983606557377046,
          0.040983606557377046,
          0.040983606557377046,
          0.040983606557377046,
          0.030737704918032786,
          0.020491803278688523,
          0.06147540983606557,
          0.20560109289617484,
          0.14002732240437157,
          0.1058743169398907,
          0.10245901639344263,
          0.9836065573770492,
          0.06147540983606557,
          0.06147540983606557,
          0.06147540983606557,
          0.06147540983606557,
          0.030737704918032786,
          0.040983606557377046,
          0.040983606557377046,
          0.040983606557377046,
          0.040983606557377046,
          0.040983606557377046,
          0.040983606557377046,
          0.040983606557377046,
          0.040983606557377046,
          0.040983606557377046,
          0.06147540983606557,
          0.030737704918032786,
          4.918032786885246,
          0.9836065573770492,
          0.040983606557377046,
          0.040983606557377046,
          0.040983606557377046,
          0.040983606557377046,
          0.040983606557377046,
          0.040983606557377046,
          0.040983606557377046,
          0.040983606557377046,
          0.040983606557377046,
          0.040983606557377046,
          0.040983606557377046,
          0.040983606557377046,
          0.040983606557377046,
          0.040983606557377046,
          0.040983606557377046,
          0.040983606557377046,
          0.06147540983606557,
          0.040983606557377046,
          0.040983606557377046,
          0.040983606557377046,
          0.040983606557377046,
          0.040983606557377046,
          0.040983606557377046,
          0.040983606557377046,
          0.040983606557377046,
          0.040983606557377046,
          0.040983606557377046,
          0.040983606557377046,
          0.040983606557377046,
          0.040983606557377046,
          0.040983606557377046,
          0.040983606557377046,
          0.040983606557377046,
          0.040983606557377046,
          0.040983606557377046,
          0.040983606557377046,
          0.040983606557377046,
          0.040983606557377046,
          0.040983606557377046,
          0.040983606557377046,
          0.040983606557377046,
          0.040983606557377046,
          0.040983606557377046,
          0.040983606557377046,
          0.08196721311475409,
          0.040983606557377046
         ]
        },
        {
         "base": [
          0.7,
          0.7,
          0.6,
          0.8,
          0.8,
          0.8,
          0.8,
          0.8,
          0.8,
          0.8,
          0.7,
          0.8,
          0.8,
          0.8,
          0.7,
          0.8,
          0.8,
          0.7,
          0.7,
          0.8,
          0.8,
          0.8,
          0.8,
          0.8,
          0.8,
          0.8,
          0.8,
          0.8,
          0.8,
          0.8,
          0.8,
          0.8,
          0.8,
          0.8,
          0.8,
          0.8,
          0.8,
          0.8,
          0.8,
          0.8,
          0.8,
          0.8,
          0.8,
          0.8,
          0.8,
          0.8,
          0.8,
          0.8,
          0.8,
          0.8,
          0.8,
          0.8,
          0.8,
          0.8,
          0.8,
          0.8,
          0.8,
          0.8,
          0.8,
          0.8,
          0.8,
          0.8,
          0.8,
          0.8,
          0.8,
          0.8,
          0.8,
          0.8,
          0.8,
          0.8,
          0.8,
          0.8,
          0.8,
          0.8,
          0.8,
          0.8,
          0.8,
          0.8,
          0.8,
          0.8,
          0.8,
          0.8,
          0.8,
          0.8,
          0.8,
          0.8,
          0.8,
          0.8,
          0.8,
          0.8,
          0.8,
          0.8,
          0.8,
          0.8
         ],
         "customdata": [
          [
           "2024-04-02T00:00:00-04:00",
           "2024-04-03T00:00:00-04:00"
          ],
          [
           "2024-03-15T00:00:00-04:00",
           "2024-03-16T00:00:00-04:00"
          ],
          [
           "2024-05-30T00:00:00-04:00",
           "2024-06-03T00:00:00-04:00"
          ],
          [
           "2024-03-15T18:30:00-04:00",
           "2024-03-15T19:30:00-04:00"
          ],
          [
           "2024-06-10T19:00:00-04:00",
           "2024-06-10T20:15:00-04:00"
          ],
          [
           "2024-01-25T19:30:00-05:00",
           "2024-01-25T20:30:00-05:00"
          ],
          [
           "2024-04-25T09:30:00-04:00",
           "2024-04-25T10:45:00-04:00"
          ],
          [
           "2024-01-18T09:30:00-05:00",
           "2024-01-18T10:45:00-05:00"
          ],
          [
           "2024-02-16T14:00:00-05:00",
           "2024-02-16T14:50:00-05:00"
          ],
          [
           "2024-03-26T19:00:00-04:00",
           "2024-03-26T20:30:00-04:00"
          ],
          [
           "2024-01-26T00:00:00-05:00",
           "2024-01-27T00:00:00-05:00"
          ],
          [
           "2024-02-05T12:30:00-05:00",
           "2024-02-05T13:45:00-05:00"
          ],
          [
           "2024-01-18T11:00:00-05:00",
           "2024-01-18T12:15:00-05:00"
          ],
          [
           "2024-01-30T11:00:00-05:00",
           "2024-01-30T12:15:00-05:00"
          ],
          [
           "2024-01-24T00:00:00-05:00",
           "2024-01-25T00:00:00-05:00"
          ],
          [
           "2024-02-08T14:00:00-05:00",
           "2024-02-08T15:15:00-05:00"
          ],
          [
           "2024-02-03T14:00:00-05:00",
           "2024-02-03T19:00:00-05:00"
          ],
          [
           "2024-02-20T00:00:00-05:00",
           "2024-02-21T00:00:00-05:00"
          ],
          [
           "2024-03-04T00:00:00-05:00",
           "2024-03-05T00:00:00-05:00"
          ],
          [
           "2024-02-06T11:00:00-05:00",
           "2024-02-06T12:00:00-05:00"
          ],
          [
           "2024-02-07T09:25:00-05:00",
           "2024-02-07T10:15:00-05:00"
          ],
          [
           "2024-03-25T08:20:00-04:00",
           "2024-03-25T10:30:00-04:00"
          ],
          [
           "2024-04-15T08:20:00-04:00",
           "2024-04-15T10:30:00-04:00"
          ],
          [
           "2024-06-01T09:00:00-04:00",
           "2024-06-01T13:00:00-04:00"
          ],
          [
           "2024-06-01T10:00:00-04:00",
           "2024-06-01T11:00:00-04:00"
          ],
          [
           "2024-06-01T11:30:00-04:00",
           "2024-06-01T12:30:00-04:00"
          ],
          [
           "2024-03-21T19:30:00-04:00",
           "2024-03-21T20:30:00-04:00"
          ],
          [
           "2024-02-13T18:30:00-05:00",
           "2024-02-13T19:30:00-05:00"
          ],
          [
           "2024-02-28T10:00:00-05:00",
           "2024-02-28T11:00:00-05:00"
          ],
          [
           "2024-02-15T10:00:00-05:00",
           "2024-02-15T11:00:00-05:00"
          ],
          [
           "2024-02-17T10:00:00-05:00",
           "2024-02-17T10:30:00-05:00"
          ],
          [
           "2024-03-22T10:00:00-04:00",
           "2024-03-22T11:00:00-04:00"
          ],
          [
           "2024-02-27T11:00:00-05:00",
           "2024-02-27T12:15:00-05:00"
          ],
          [
           "2024-03-01T10:00:00-05:00",
           "2024-03-01T11:00:00-05:00"
          ],
          [
           "2024-02-28T19:00:00-05:00",
           "2024-02-28T20:00:00-05:00"
          ],
          [
           "2024-02-29T12:30:00-05:00",
           "2024-02-29T13:45:00-05:00"
          ],
          [
           "2024-03-04T14:00:00-05:00",
           "2024-03-04T15:15:00-05:00"
          ],
          [
           "2024-02-29T14:00:00-05:00",
           "2024-02-29T15:15:00-05:00"
          ],
          [
           "2024-04-06T19:00:00-04:00",
           "2024-04-06T20:00:00-04:00"
          ],
          [
           "2024-03-21T18:00:00-04:00",
           "2024-03-21T19:00:00-04:00"
          ],
          [
           "2024-06-28T14:15:00-04:00",
           "2024-06-28T15:30:00-04:00"
          ],
          [
           "2024-04-25T14:15:00-04:00",
           "2024-04-25T15:00:00-04:00"
          ],
          [
           "2024-03-15T12:15:00-04:00",
           "2024-03-15T13:00:00-04:00"
          ],
          [
           "2024-03-19T15:30:00-04:00",
           "2024-03-19T16:45:00-04:00"
          ],
          [
           "2024-03-26T09:30:00-04:00",
           "2024-03-26T10:45:00-04:00"
          ],
          [
           "2024-03-19T09:30:00-04:00",
           "2024-03-19T10:45:00-04:00"
          ],
          [
           "2024-03-19T11:00:00-04:00",
           "2024-03-19T11:45:00-04:00"
          ],
          [
           "2024-05-03T12:00:00-04:00",
           "2024-05-03T13:00:00-04:00"
          ],
          [
           "2024-04-03T13:00:00-04:00",
           "2024-04-03T14:15:00-04:00"
          ],
          [
           "2024-04-04T18:00:00-04:00",
           "2024-04-04T19:00:00-04:00"
          ],
          [
           "2024-04-04T19:30:00-04:00",
           "2024-04-04T20:30:00-04:00"
          ],
          [
           "2024-04-05T19:00:00-04:00",
           "2024-04-05T20:00:00-04:00"
          ],
          [
           "2024-04-06T16:00:00-04:00",
           "2024-04-06T17:00:00-04:00"
          ],
          [
           "2024-04-15T08:20:00-04:00",
           "2024-04-15T10:30:00-04:00"
          ],
          [
           "2024-05-02T13:30:00-04:00",
           "2024-05-02T15:30:00-04:00"
          ],
          [
           "2024-04-26T10:30:00-04:00",
           "2024-04-26T11:30:00-04:00"
          ],
          [
           "2024-04-23T12:30:00-04:00",
           "2024-04-23T13:45:00-04:00"
          ],
          [
           "2024-05-16T14:00:00-04:00",
           "2024-05-16T15:00:00-04:00"
          ],
          [
           "2024-04-30T09:30:00-04:00",
           "2024-04-30T10:30:00-04:00"
          ],
          [
           "2024-05-21T10:45:00-04:00",
           "2024-05-21T11:45:00-04:00"
          ],
          [
           "2024-06-24T14:15:00-04:00",
           "2024-06-24T16:45:00-04:00"
          ],
          [
           "2024-06-10T14:00:00-04:00",
           "2024-06-10T16:30:00-04:00"
          ],
          [
           "2024-06-26T14:00:00-04:00",
           "2024-06-26T15:00:00-04:00"
          ],
          [
           "2024-05-14T10:40:00-04:00",
           "2024-05-14T11:40:00-04:00"
          ],
          [
           "2024-06-06T19:00:00-04:00",
           "2024-06-06T20:00:00-04:00"
          ],
          [
           "2024-07-24T15:00:00-04:00",
           "2024-07-24T16:00:00-04:00"
          ],
          [
           "2024-05-28T10:00:00-04:00",
           "2024-05-28T11:00:00-04:00"
          ],
          [
           "2024-06-04T10:30:00-04:00",
           "2024-06-04T11:30:00-04:00"
          ],
          [
           "2024-06-26T15:30:00-04:00",
           "2024-06-26T16:30:00-04:00"
          ],
          [
           "2024-07-22T13:30:00-04:00",
           "2024-07-22T15:15:00-04:00"
          ],
          [
           "2024-07-15T13:30:00-04:00",
           "2024-07-15T15:15:00-04:00"
          ],
          [
           "2024-06-06T15:00:00-04:00",
           "2024-06-06T16:00:00-04:00"
          ],
          [
           "2024-09-16T19:30:00-04:00",
           "2024-09-16T20:30:00-04:00"
          ],
          [
           "2024-08-28T19:00:00-04:00",
           "2024-08-28T20:30:00-04:00"
          ],
          [
           "2024-10-08T19:00:00-04:00",
           "2024-10-08T20:30:00-04:00"
          ],
          [
           "2024-12-05T19:00:00-05:00",
           "2024-12-05T20:30:00-05:00"
          ],
          [
           "2024-07-01T09:00:00-04:00",
           "2024-07-01T09:45:00-04:00"
          ],
          [
           "2024-07-11T10:00:00-04:00",
           "2024-07-11T11:00:00-04:00"
          ],
          [
           "2024-07-08T18:00:00-04:00",
           "2024-07-08T19:00:00-04:00"
          ],
          [
           "2024-07-08T16:00:00-04:00",
           "2024-07-08T17:00:00-04:00"
          ],
          [
           "2024-06-27T11:30:00-04:00",
           "2024-06-27T12:30:00-04:00"
          ],
          [
           "2024-07-10T15:45:00-04:00",
           "2024-07-10T16:45:00-04:00"
          ],
          [
           "2024-08-07T13:00:00-04:00",
           "2024-08-07T15:00:00-04:00"
          ],
          [
           "2024-08-24T13:00:00-04:00",
           "2024-08-24T13:40:00-04:00"
          ],
          [
           "2024-08-24T13:55:00-04:00",
           "2024-08-24T14:35:00-04:00"
          ],
          [
           "2024-08-20T09:30:00-04:00",
           "2024-08-20T11:00:00-04:00"
          ],
          [
           "2024-09-03T12:30:00-04:00",
           "2024-09-03T13:45:00-04:00"
          ],
          [
           "2024-12-12T12:30:00-05:00",
           "2024-12-12T13:45:00-05:00"
          ],
          [
           "2024-08-30T13:00:00-04:00",
           "2024-08-30T14:30:00-04:00"
          ],
          [
           "2024-07-24T09:30:00-04:00",
           "2024-07-24T10:30:00-04:00"
          ],
          [
           "2024-08-30T09:30:00-04:00",
           "2024-08-30T10:45:00-04:00"
          ],
          [
           "2024-09-06T09:30:00-04:00",
           "2024-09-06T10:45:00-04:00"
          ],
          [
           "2024-12-06T09:30:00-05:00",
           "2024-12-06T10:45:00-05:00"
          ],
          [
           "2024-09-20T09:30:00-04:00",
           "2024-09-20T10:45:00-04:00"
          ]
         ],
         "hovertemplate": "%{text}<br>Start: %{customdata[0]|%Y/%m/%d %H:%M:%S.%L}<br>End: %{customdata[1]|%Y/%m/%d %H:%M:%S.%L}",
         "marker": {
          "color": [
           "#cd74e6",
           "#cd74e6",
           "#cd74e6",
           "#cd74e6",
           "#cd74e6",
           "#cd74e6",
           "#cd74e6",
           "#cd74e6",
           "#cd74e6",
           "#cd74e6",
           "#cd74e6",
           "#cd74e6",
           "#cd74e6",
           "#cd74e6",
           "#cd74e6",
           "#cd74e6",
           "#cd74e6",
           "#cd74e6",
           "#cd74e6",
           "#cd74e6",
           "#cd74e6",
           "#cd74e6",
           "#cd74e6",
           "#cd74e6",
           "#cd74e6",
           "#cd74e6",
           "#cd74e6",
           "#cd74e6",
           "#cd74e6",
           "#cd74e6",
           "#cd74e6",
           "#cd74e6",
           "#cd74e6",
           "#cd74e6",
           "#cd74e6",
           "#cd74e6",
           "#cd74e6",
           "#cd74e6",
           "#cd74e6",
           "#cd74e6",
           "#cd74e6",
           "#cd74e6",
           "#cd74e6",
           "#cd74e6",
           "#cd74e6",
           "#cd74e6",
           "#cd74e6",
           "#cd74e6",
           "#cd74e6",
           "#cd74e6",
           "#cd74e6",
           "#cd74e6",
           "#cd74e6",
           "#cd74e6",
           "#cd74e6",
           "#cd74e6",
           "#cd74e6",
           "#cd74e6",
           "#cd74e6",
           "#cd74e6",
           "#cd74e6",
           "#cd74e6",
           "#cd74e6",
           "#cd74e6",
           "#cd74e6",
           "#cd74e6",
           "#cd74e6",
           "#cd74e6",
           "#cd74e6",
           "#cd74e6",
           "#cd74e6",
           "#cd74e6",
           "#cd74e6",
           "#cd74e6",
           "#cd74e6",
           "#cd74e6",
           "#cd74e6",
           "#cd74e6",
           "#cd74e6",
           "#cd74e6",
           "#cd74e6",
           "#cd74e6",
           "#cd74e6",
           "#cd74e6",
           "#cd74e6",
           "#cd74e6",
           "#cd74e6",
           "#cd74e6",
           "#cd74e6",
           "#cd74e6",
           "#cd74e6",
           "#cd74e6",
           "#cd74e6",
           "#cd74e6"
          ]
         },
         "name": "ND-DVT Calendar",
         "r": [
          0.097,
          0.097,
          0.097,
          0.097,
          0.097,
          0.097,
          0.097,
          0.097,
          0.097,
          0.097,
          0.097,
          0.097,
          0.097,
          0.097,
          0.097,
          0.097,
          0.097,
          0.097,
          0.097,
          0.097,
          0.097,
          0.097,
          0.097,
          0.097,
          0.097,
          0.097,
          0.097,
          0.097,
          0.097,
          0.097,
          0.097,
          0.097,
          0.097,
          0.097,
          0.097,
          0.097,
          0.097,
          0.097,
          0.097,
          0.097,
          0.097,
          0.097,
          0.097,
          0.097,
          0.097,
          0.097,
          0.097,
          0.097,
          0.097,
          0.097,
          0.097,
          0.097,
          0.097,
          0.097,
          0.097,
          0.097,
          0.097,
          0.097,
          0.097,
          0.097,
          0.097,
          0.097,
          0.097,
          0.097,
          0.097,
          0.097,
          0.097,
          0.097,
          0.097,
          0.097,
          0.097,
          0.097,
          0.097,
          0.097,
          0.097,
          0.097,
          0.097,
          0.097,
          0.097,
          0.097,
          0.097,
          0.097,
          0.097,
          0.097,
          0.097,
          0.097,
          0.097,
          0.097,
          0.097,
          0.097,
          0.097,
          0.097,
          0.097,
          0.097
         ],
         "text": [
          "Eclipse Our Universe Revealed Talk",
          "Cosmic Egg for MAA",
          "Alumni Weekend",
          "Cosmic Egg for MAA",
          "Notre Vita Institute ACGP",
          "ILI Initiative",
          "Science Communications Class",
          "Phil SUS 20010",
          "Orbital and Space Dynamics - Karel Matous",
          "THeo 20888 ACGP",
          "Stephens first recommendation due.",
          "ACGP for Faith and Science Course Phil Presenting",
          "Descriptive Astronomy Tour of the Universe",
          "Descriptive Astronomy - Prof. Garnavich out of Town (Planet Tracking Activity)",
          "Stephen REU reach due.",
          "Phillippe Collon Physics of Civilication",
          "DVT Room Use Lacrosse Team",
          "Senior Living request.",
          "Tickets Release for Eclipse Shows.",
          "Prep Chem DVT",
          "Paul Huber Organic Chemistry",
          "Admitted Student Days (Room Use)",
          "Admitted Student Days (Room Use)",
          "Alumni Weekend",
          "Alumni Weekend Event (Sakimoto)",
          "Alumni Weekend Event (Sakimoto)",
          "ILI Group (Keith presenting)",
          "Proposed DVT Eclipse kickoff.",
          "Beiger Elementary",
          "Dry Run for Orbital",
          "Alex - Planetarium show",
          "Campus Safety",
          "Eclipses for Desc Astro",
          "Stephen Piloting - Pierre Moran Middle and North Side Middle School",
          " Stephen Piloting St Edward’s Hall",
          "Losecco cosmology",
          "Particle Physics and Cosmology - Keith Presenting - Prof. Out of Town.",
          "Descriptive Astronomy Prof. Beers out of Town",
          "Eclipse Presentation for WRRmod2024",
          "Campus Safety",
          "ACGP - Advisory Council Program",
          "American Indian Catholic Schools Network",
          "Previst of Cosmic Egg",
          "Whitney James Class",
          "Intro to Phil: Feraz Azhar",
          "Whitney James Class",
          "Whitney James Class",
          "Marian High School ACGP Theology",
          "ABC57 Interview",
          "Stephen - Proposed DVT Eclipse Talk",
          "Alex - Proposed DVT Eclipse Talk",
          " Stephen - Proposed DVT Eclipse Talk",
          "Alex - Eclipse Presentation",
          "Admitted Student Days (Room Use)",
          "CoS-JAM Room Use",
          "Fenwick High School ACGP",
          "Losecco Cosmology",
          "St. Vincent De Paul",
          "Sustainability",
          "Marshall Traditional School",
          "Trinity and Christian Salvation - ACGP",
          "Notre Dame Vision - ACGP",
          "Warrior Scholars",
          "Tammi school presentation",
          "WVPE SHow",
          "IEP - Ramzi",
          "Review sound",
          "STEM Summer Camp Group",
          "DNA Learning Center Residential Program",
          "ACGP Saints and Scholars",
          "ACGP Saints and Scholars",
          "DVT Cleanout",
          "ACGP Society for Catholic Scientists",
          "ACGP: Cathedral High School Junior Class",
          "ACGP: Cathedral High School Junior Class",
          "ACGP: Cathedral High School Junior Class",
          "Phil - Summer Scholars",
          "Phil - Summer Scholars",
          "DNA Center",
          "IEP",
          "Dvt request physics olympics",
          "DVT Show for PCST Symposium?",
          "US Army STEM program for the Pokagon Band Tribe",
          "Welcome Weekend",
          "Welcome Weekend",
          "Phil - Center for Social Concerns RISE",
          "SUS 20010 (Phil",
          "SUS 20010 (Phil",
          "Catholic School Mission Day (Phil)",
          "AV",
          "PLS Science 2",
          "PLS Science 2",
          "PLS Science 2",
          "PLS Science 2"
         ],
         "theta": [
          90.94262295081967,
          73.23770491803279,
          149.46721311475412,
          73.52459016393443,
          159.12397540983608,
          24.426229508196723,
          113.48872950819673,
          17.13627049180328,
          45.836748633879786,
          84.375,
          25.081967213114755,
          34.9641393442623,
          17.197745901639344,
          29.001024590163937,
          23.114754098360656,
          37.97643442622951,
          33.135245901639344,
          49.67213114754099,
          62.459016393442624,
          35.881147540983605,
          36.79644808743169,
          82.9678961748634,
          103.62363387978142,
          149.91803278688525,
          149.89754098360658,
          149.95901639344265,
          79.4672131147541,
          43.07377049180328,
          57.47950819672131,
          44.692622950819676,
          46.649590163934434,
          80.06147540983606,
          56.54200819672131,
          59.446721311475414,
          57.84836065573771,
          58.57069672131148,
          62.56659836065574,
          58.63217213114754,
          95.1844262295082,
          79.40573770491804,
          176.63422131147541,
          113.67315573770492,
          73.26331967213115,
          77.34118852459017,
          83.98053278688525,
          77.0952868852459,
          77.14651639344264,
          121.45491803278689,
          91.99282786885247,
          93.17622950819673,
          93.23770491803279,
          94.20081967213115,
          95.06147540983606,
          103.62363387978142,
          120.5532786885246,
          114.50819672131149,
          111.64446721311475,
          134.3237704918033,
          118.4016393442623,
          139.10860655737707,
          172.72540983606558,
          158.94467213114754,
          174.6516393442623,
          132.21994535519127,
          155.1844262295082,
          202.23360655737704,
          145.96311475409837,
          152.86885245901638,
          174.71311475409837,
          200.2202868852459,
          193.33504098360655,
          155.0204918032787,
          255.53278688524594,
          236.83401639344262,
          277.16188524590166,
          334.2520491803279,
          179.359631147541,
          189.24180327868854,
          186.61885245901638,
          186.53688524590166,
          175.5327868852459,
          188.4938524590164,
          215.94262295081967,
          232.63661202185793,
          232.67418032786887,
          228.57581967213116,
          242.46413934426232,
          340.8657786885246,
          238.5553278688525,
          202.0081967213115,
          238.406762295082,
          245.29200819672133,
          334.84118852459017,
          259.0625
         ],
         "type": "barpolar",
         "width": [
          0.9836065573770492,
          0.9836065573770492,
          3.9344262295081966,
          0.040983606557377046,
          0.05122950819672131,
          0.040983606557377046,
          0.05122950819672131,
          0.05122950819672131,
          0.03415300546448087,
          0.06147540983606557,
          0.9836065573770492,
          0.05122950819672131,
          0.05122950819672131,
          0.05122950819672131,
          0.9836065573770492,
          0.05122950819672131,
          0.20491803278688525,
          0.9836065573770492,
          0.9836065573770492,
          0.040983606557377046,
          0.03415300546448087,
          0.08879781420765027,
          0.08879781420765027,
          0.16393442622950818,
          0.040983606557377046,
          0.040983606557377046,
          0.040983606557377046,
          0.040983606557377046,
          0.040983606557377046,
          0.040983606557377046,
          0.020491803278688523,
          0.040983606557377046,
          0.05122950819672131,
          0.040983606557377046,
          0.040983606557377046,
          0.05122950819672131,
          0.05122950819672131,
          0.05122950819672131,
          0.040983606557377046,
          0.040983606557377046,
          0.05122950819672131,
          0.030737704918032786,
          0.030737704918032786,
          0.05122950819672131,
          0.05122950819672131,
          0.05122950819672131,
          0.030737704918032786,
          0.040983606557377046,
          0.05122950819672131,
          0.040983606557377046,
          0.040983606557377046,
          0.040983606557377046,
          0.040983606557377046,
          0.08879781420765027,
          0.08196721311475409,
          0.040983606557377046,
          0.05122950819672131,
          0.040983606557377046,
          0.040983606557377046,
          0.040983606557377046,
          0.10245901639344263,
          0.10245901639344263,
          0.040983606557377046,
          0.040983606557377046,
          0.040983606557377046,
          0.040983606557377046,
          0.040983606557377046,
          0.040983606557377046,
          0.040983606557377046,
          0.07172131147540985,
          0.07172131147540985,
          0.040983606557377046,
          0.040983606557377046,
          0.06147540983606557,
          0.06147540983606557,
          0.06147540983606557,
          0.030737704918032786,
          0.040983606557377046,
          0.040983606557377046,
          0.040983606557377046,
          0.040983606557377046,
          0.040983606557377046,
          0.08196721311475409,
          0.027322404371584702,
          0.027322404371584702,
          0.06147540983606557,
          0.05122950819672131,
          0.05122950819672131,
          0.06147540983606557,
          0.040983606557377046,
          0.05122950819672131,
          0.05122950819672131,
          0.05122950819672131,
          0.05122950819672131
         ]
        },
        {
         "base": [
          0.8,
          0.8,
          0.8,
          0.8,
          0.8,
          0.8,
          0.8,
          0.6,
          0.8,
          0.8,
          0.8,
          0.8,
          0.8,
          0.8,
          0.8,
          0.8,
          0.6,
          0.8,
          0.8,
          0.8,
          0.8
         ],
         "customdata": [
          [
           "2024-01-26T15:30:00-05:00",
           "2024-01-26T17:00:00-05:00"
          ],
          [
           "2024-02-29T15:30:00-05:00",
           "2024-02-29T17:00:00-05:00"
          ],
          [
           "2024-04-10T15:30:00-04:00",
           "2024-04-10T17:00:00-04:00"
          ],
          [
           "2024-02-13T18:30:00-05:00",
           "2024-02-13T19:30:00-05:00"
          ],
          [
           "2024-03-19T18:30:00-04:00",
           "2024-03-19T19:30:00-04:00"
          ],
          [
           "2024-03-07T16:00:00-05:00",
           "2024-03-07T17:30:00-05:00"
          ],
          [
           "2024-03-25T07:00:00-04:00",
           "2024-03-25T11:30:00-04:00"
          ],
          [
           "2024-05-06T00:00:00-04:00",
           "2024-05-08T00:00:00-04:00"
          ],
          [
           "2024-04-15T07:30:00-04:00",
           "2024-04-15T11:30:00-04:00"
          ],
          [
           "2024-05-02T13:00:00-04:00",
           "2024-05-02T16:00:00-04:00"
          ],
          [
           "2024-12-06T17:00:00-05:00",
           "2024-12-06T22:00:00-05:00"
          ],
          [
           "2024-05-29T14:00:00-04:00",
           "2024-05-29T16:00:00-04:00"
          ],
          [
           "2024-09-04T18:00:00-04:00",
           "2024-09-04T19:00:00-04:00"
          ],
          [
           "2024-10-02T18:00:00-04:00",
           "2024-10-02T19:00:00-04:00"
          ],
          [
           "2024-11-06T18:00:00-05:00",
           "2024-11-06T19:00:00-05:00"
          ],
          [
           "2024-12-04T18:00:00-05:00",
           "2024-12-04T19:00:00-05:00"
          ],
          [
           "2024-09-11T00:00:00-04:00",
           "2024-09-14T00:00:00-04:00"
          ],
          [
           "2024-08-21T14:00:00-04:00",
           "2024-08-21T16:00:00-04:00"
          ],
          [
           "2024-09-09T17:30:00-04:00",
           "2024-09-09T20:00:00-04:00"
          ],
          [
           "2024-09-09T16:45:00-04:00",
           "2024-09-09T17:30:00-04:00"
          ],
          [
           "2024-09-05T16:30:00-04:00",
           "2024-09-05T19:00:00-04:00"
          ]
         ],
         "hovertemplate": "%{text}<br>Start: %{customdata[0]|%Y/%m/%d %H:%M:%S.%L}<br>End: %{customdata[1]|%Y/%m/%d %H:%M:%S.%L}",
         "marker": {
          "color": [
           "#b3dc6c",
           "#b3dc6c",
           "#b3dc6c",
           "#b3dc6c",
           "#b3dc6c",
           "#b3dc6c",
           "#b3dc6c",
           "#b3dc6c",
           "#b3dc6c",
           "#b3dc6c",
           "#b3dc6c",
           "#b3dc6c",
           "#b3dc6c",
           "#b3dc6c",
           "#b3dc6c",
           "#b3dc6c",
           "#b3dc6c",
           "#b3dc6c",
           "#b3dc6c",
           "#b3dc6c",
           "#b3dc6c"
          ]
         },
         "name": "CoS College-wide Events & Conferences",
         "r": [
          0.097,
          0.097,
          0.097,
          0.097,
          0.097,
          0.097,
          0.097,
          0.097,
          0.097,
          0.097,
          0.097,
          0.097,
          0.097,
          0.097,
          0.097,
          0.097,
          0.097,
          0.097,
          0.097,
          0.097,
          0.097
         ],
         "text": [
          "ND Start",
          "ND Start",
          "ND Start",
          "Proposed DVT Eclipse kickoff.",
          "Proposed Historical Eclipse Talk (Matt Dowd)",
          "Staff Social Hour",
          "Rally Day (formerly known as Admitted Student Days)",
          "Future Faculty Workshop 2024",
          "Rally Day (formerly known as Admitted Student Days)",
          "College of Science Joint Annual Meeting (COS - JAM)",
          "Christmas Lecture Featuring Dr. Michelle Thaller, NASA Goddard Space Flight Center",
          "Summer REU",
          "Our Universe Revealed series at SJCPL",
          "Our Universe Revealed series at SJCPL",
          "Our Universe Revealed series at SJCPL",
          "Our Universe Revealed series at SJCPL",
          "Presidential Inauguration Celebration",
          "Scoop on Goals and ice cream social",
          "Carrier Medal 2024: Michael Levitt",
          "Arrive to Carrier Medal no later than 5:00 pm",
          "Fall All-College Meeting 2024"
         ],
         "theta": [
          25.25614754098361,
          58.69877049180329,
          98.98565573770493,
          43.07377049180328,
          77.45901639344262,
          65.60450819672133,
          82.9610655737705,
          124.87704918032787,
          103.62704918032787,
          120.5532786885246,
          335.2254098360656,
          147.13114754098362,
          243.66803278688525,
          271.20901639344265,
          305.67622950819674,
          333.2172131147541,
          251.2704918032787,
          229.75409836065577,
          248.59631147540986,
          248.52971311475412,
          244.62090163934425
         ],
         "type": "barpolar",
         "width": [
          0.06147540983606557,
          0.06147540983606557,
          0.06147540983606557,
          0.040983606557377046,
          0.040983606557377046,
          0.06147540983606557,
          0.18442622950819673,
          1.9672131147540983,
          0.16393442622950818,
          0.12295081967213115,
          0.20491803278688525,
          0.08196721311475409,
          0.040983606557377046,
          0.040983606557377046,
          0.040983606557377046,
          0.040983606557377046,
          2.9508196721311477,
          0.08196721311475409,
          0.10245901639344263,
          0.030737704918032786,
          0.10245901639344263
         ]
        },
        {
         "base": [
          0.7,
          0.7,
          0.7,
          0.7,
          0.7,
          0.7,
          0.7,
          0.7,
          0.7,
          0.7,
          0.7,
          0.7,
          0.7,
          0.7,
          0.7,
          0.7,
          0.7,
          0.7,
          0.7,
          0.7,
          0.7,
          0.7,
          0.7,
          0.7,
          0.7,
          0.7,
          0.7,
          0.7,
          0.7,
          0.7,
          0.7,
          0.7,
          0.7,
          0.7,
          0.7,
          0.7,
          0.7,
          0.7,
          0.7,
          0.8,
          0.8,
          0.8,
          0.6,
          0.8,
          0.8,
          0.8,
          0.8,
          0.8,
          0.8,
          0.8,
          0.8,
          0.8,
          0.8,
          0.8,
          0.8,
          0.8,
          0.8,
          0.7,
          0.6,
          0.8,
          0.8,
          0.8,
          0.8,
          0.8,
          0.8,
          0.8,
          0.8,
          0.8,
          0.8,
          0.7,
          0.8,
          0.8,
          0.8,
          0.8,
          0.8,
          0.8,
          0.8,
          0.8,
          0.8,
          0.8,
          0.8,
          0.8,
          0.8,
          0.8,
          0.8,
          0.8,
          0.8,
          0.8,
          0.8,
          0.8,
          0.8,
          0.8,
          0.8,
          0.8,
          0.8,
          0.8,
          0.7,
          0.8,
          0.8,
          0.8,
          0.8,
          0.8,
          0.8,
          0.8,
          0.8,
          0.8,
          0.8,
          0.6,
          0.8,
          0.8,
          0.8,
          0.8,
          0.8,
          0.8,
          0.8,
          0.8,
          0.8,
          0.8,
          0.8,
          0.8,
          0.8,
          0.8,
          0.8,
          0.8,
          0.6,
          0.6,
          0.8,
          0.8,
          0.8,
          0.7,
          0.6,
          0.8,
          0.8,
          0.8
         ],
         "customdata": [
          [
           "2024-06-10T00:00:00-04:00",
           "2024-06-11T00:00:00-04:00"
          ],
          [
           "2024-01-08T00:00:00-05:00",
           "2024-01-09T00:00:00-05:00"
          ],
          [
           "2024-02-08T00:00:00-05:00",
           "2024-02-09T00:00:00-05:00"
          ],
          [
           "2024-03-08T00:00:00-05:00",
           "2024-03-09T00:00:00-05:00"
          ],
          [
           "2024-04-08T00:00:00-04:00",
           "2024-04-09T00:00:00-04:00"
          ],
          [
           "2024-05-08T00:00:00-04:00",
           "2024-05-09T00:00:00-04:00"
          ],
          [
           "2024-06-08T00:00:00-04:00",
           "2024-06-09T00:00:00-04:00"
          ],
          [
           "2024-07-08T00:00:00-04:00",
           "2024-07-09T00:00:00-04:00"
          ],
          [
           "2024-08-08T00:00:00-04:00",
           "2024-08-09T00:00:00-04:00"
          ],
          [
           "2024-09-08T00:00:00-04:00",
           "2024-09-09T00:00:00-04:00"
          ],
          [
           "2024-10-08T00:00:00-04:00",
           "2024-10-09T00:00:00-04:00"
          ],
          [
           "2024-11-08T00:00:00-05:00",
           "2024-11-09T00:00:00-05:00"
          ],
          [
           "2024-12-08T00:00:00-05:00",
           "2024-12-09T00:00:00-05:00"
          ],
          [
           "2024-01-08T00:00:00-05:00",
           "2024-01-09T00:00:00-05:00"
          ],
          [
           "2024-01-22T00:00:00-05:00",
           "2024-01-23T00:00:00-05:00"
          ],
          [
           "2024-02-05T00:00:00-05:00",
           "2024-02-06T00:00:00-05:00"
          ],
          [
           "2024-02-19T00:00:00-05:00",
           "2024-02-20T00:00:00-05:00"
          ],
          [
           "2024-03-04T00:00:00-05:00",
           "2024-03-05T00:00:00-05:00"
          ],
          [
           "2024-03-18T00:00:00-04:00",
           "2024-03-19T00:00:00-04:00"
          ],
          [
           "2024-04-01T00:00:00-04:00",
           "2024-04-02T00:00:00-04:00"
          ],
          [
           "2024-04-15T00:00:00-04:00",
           "2024-04-16T00:00:00-04:00"
          ],
          [
           "2024-04-29T00:00:00-04:00",
           "2024-04-30T00:00:00-04:00"
          ],
          [
           "2024-05-13T00:00:00-04:00",
           "2024-05-14T00:00:00-04:00"
          ],
          [
           "2024-05-27T00:00:00-04:00",
           "2024-05-28T00:00:00-04:00"
          ],
          [
           "2024-06-10T00:00:00-04:00",
           "2024-06-11T00:00:00-04:00"
          ],
          [
           "2024-06-24T00:00:00-04:00",
           "2024-06-25T00:00:00-04:00"
          ],
          [
           "2024-07-08T00:00:00-04:00",
           "2024-07-09T00:00:00-04:00"
          ],
          [
           "2024-07-22T00:00:00-04:00",
           "2024-07-23T00:00:00-04:00"
          ],
          [
           "2024-08-05T00:00:00-04:00",
           "2024-08-06T00:00:00-04:00"
          ],
          [
           "2024-08-19T00:00:00-04:00",
           "2024-08-20T00:00:00-04:00"
          ],
          [
           "2024-09-02T00:00:00-04:00",
           "2024-09-03T00:00:00-04:00"
          ],
          [
           "2024-09-16T00:00:00-04:00",
           "2024-09-17T00:00:00-04:00"
          ],
          [
           "2024-09-30T00:00:00-04:00",
           "2024-10-01T00:00:00-04:00"
          ],
          [
           "2024-10-14T00:00:00-04:00",
           "2024-10-15T00:00:00-04:00"
          ],
          [
           "2024-10-28T00:00:00-04:00",
           "2024-10-29T00:00:00-04:00"
          ],
          [
           "2024-11-11T00:00:00-05:00",
           "2024-11-12T00:00:00-05:00"
          ],
          [
           "2024-11-25T00:00:00-05:00",
           "2024-11-26T00:00:00-05:00"
          ],
          [
           "2024-12-09T00:00:00-05:00",
           "2024-12-10T00:00:00-05:00"
          ],
          [
           "2024-12-23T00:00:00-05:00",
           "2024-12-24T00:00:00-05:00"
          ],
          [
           "2024-05-07T10:00:00-04:00",
           "2024-05-07T11:00:00-04:00"
          ],
          [
           "2024-10-29T16:00:00-04:00",
           "2024-10-29T17:00:00-04:00"
          ],
          [
           "2024-01-13T11:30:00-05:00",
           "2024-01-13T12:30:00-05:00"
          ],
          [
           "2024-05-18T00:00:00-04:00",
           "2024-05-20T00:00:00-04:00"
          ],
          [
           "2024-01-04T16:00:00-05:00",
           "2024-01-04T17:00:00-05:00"
          ],
          [
           "2024-01-18T14:00:00-05:00",
           "2024-01-18T15:00:00-05:00"
          ],
          [
           "2024-01-09T18:00:00-05:00",
           "2024-01-09T19:00:00-05:00"
          ],
          [
           "2024-01-12T11:30:00-05:00",
           "2024-01-12T12:15:00-05:00"
          ],
          [
           "2024-01-19T14:30:00-05:00",
           "2024-01-19T15:30:00-05:00"
          ],
          [
           "2024-01-30T16:00:00-05:00",
           "2024-01-30T17:00:00-05:00"
          ],
          [
           "2024-01-23T17:00:00-05:00",
           "2024-01-23T18:00:00-05:00"
          ],
          [
           "2024-01-22T15:30:00-05:00",
           "2024-01-22T16:30:00-05:00"
          ],
          [
           "2024-01-24T12:00:00-05:00",
           "2024-01-24T13:00:00-05:00"
          ],
          [
           "2024-01-29T14:30:00-05:00",
           "2024-01-29T15:30:00-05:00"
          ],
          [
           "2024-02-27T12:30:00-05:00",
           "2024-02-27T13:30:00-05:00"
          ],
          [
           "2024-03-05T10:45:00-05:00",
           "2024-03-05T11:45:00-05:00"
          ],
          [
           "2024-03-11T10:30:00-04:00",
           "2024-03-11T11:30:00-04:00"
          ],
          [
           "2024-02-13T16:00:00-05:00",
           "2024-02-13T17:00:00-05:00"
          ],
          [
           "2024-02-14T00:00:00-05:00",
           "2024-02-15T00:00:00-05:00"
          ],
          [
           "2024-02-01T00:00:00-05:00",
           "2024-02-04T00:00:00-05:00"
          ],
          [
           "2024-02-09T13:45:00-05:00",
           "2024-02-09T14:45:00-05:00"
          ],
          [
           "2024-02-19T09:30:00-05:00",
           "2024-02-19T14:18:00-05:00"
          ],
          [
           "2024-02-21T17:45:00-05:00",
           "2024-02-21T22:27:00-05:00"
          ],
          [
           "2024-02-29T10:00:00-05:00",
           "2024-02-29T11:00:00-05:00"
          ],
          [
           "2024-02-24T11:00:00-05:00",
           "2024-02-24T11:30:00-05:00"
          ],
          [
           "2024-03-30T11:30:00-04:00",
           "2024-03-30T12:00:00-04:00"
          ],
          [
           "2024-03-11T16:00:00-04:00",
           "2024-03-11T17:00:00-04:00"
          ],
          [
           "2024-04-16T10:45:00-04:00",
           "2024-04-16T11:30:00-04:00"
          ],
          [
           "2024-04-23T10:45:00-04:00",
           "2024-04-23T11:30:00-04:00"
          ],
          [
           "2024-04-30T10:45:00-04:00",
           "2024-04-30T11:30:00-04:00"
          ],
          [
           "2024-03-21T00:00:00-04:00",
           "2024-03-22T00:00:00-04:00"
          ],
          [
           "2024-03-13T12:50:00-04:00",
           "2024-03-13T16:20:00-04:00"
          ],
          [
           "2024-03-25T16:00:00-04:00",
           "2024-03-25T17:00:00-04:00"
          ],
          [
           "2024-03-18T15:00:00-04:00",
           "2024-03-18T15:30:00-04:00"
          ],
          [
           "2024-04-12T16:00:00-04:00",
           "2024-04-12T17:00:00-04:00"
          ],
          [
           "2024-04-27T11:00:00-04:00",
           "2024-04-27T11:30:00-04:00"
          ],
          [
           "2024-04-29T10:00:00-04:00",
           "2024-04-29T17:00:00-04:00"
          ],
          [
           "2024-04-25T15:50:00-04:00",
           "2024-04-25T16:50:00-04:00"
          ],
          [
           "2024-04-24T16:00:00-04:00",
           "2024-04-24T17:00:00-04:00"
          ],
          [
           "2024-06-05T09:30:00-04:00",
           "2024-06-05T10:00:00-04:00"
          ],
          [
           "2024-05-07T17:00:00-04:00",
           "2024-05-07T18:00:00-04:00"
          ],
          [
           "2024-05-09T10:30:00-04:00",
           "2024-05-09T11:30:00-04:00"
          ],
          [
           "2024-05-28T17:30:00-04:00",
           "2024-05-28T18:30:00-04:00"
          ],
          [
           "2024-04-27T18:15:00-04:00",
           "2024-04-27T19:15:00-04:00"
          ],
          [
           "2024-04-30T10:15:00-04:00",
           "2024-04-30T16:45:00-04:00"
          ],
          [
           "2024-05-01T10:15:00-04:00",
           "2024-05-01T16:45:00-04:00"
          ],
          [
           "2024-05-02T10:15:00-04:00",
           "2024-05-02T16:45:00-04:00"
          ],
          [
           "2024-05-07T15:30:00-04:00",
           "2024-05-07T16:30:00-04:00"
          ],
          [
           "2024-05-17T12:45:00-04:00",
           "2024-05-17T13:30:00-04:00"
          ],
          [
           "2024-05-23T09:00:00-04:00",
           "2024-05-23T10:00:00-04:00"
          ],
          [
           "2024-11-12T10:00:00-05:00",
           "2024-11-12T11:00:00-05:00"
          ],
          [
           "2024-05-09T13:45:00-04:00",
           "2024-05-09T14:30:00-04:00"
          ],
          [
           "2024-05-23T14:00:00-04:00",
           "2024-05-23T15:00:00-04:00"
          ],
          [
           "2024-05-10T08:00:00-04:00",
           "2024-05-10T12:00:00-04:00"
          ],
          [
           "2024-05-24T08:00:00-04:00",
           "2024-05-24T15:00:00-04:00"
          ],
          [
           "2024-06-09T11:30:00-04:00",
           "2024-06-09T14:30:00-04:00"
          ],
          [
           "2024-05-22T11:30:00-04:00",
           "2024-05-22T14:00:00-04:00"
          ],
          [
           "2024-08-04T00:00:00-04:00",
           "2024-08-05T00:00:00-04:00"
          ],
          [
           "2024-06-05T15:00:00-04:00",
           "2024-06-05T16:00:00-04:00"
          ],
          [
           "2024-06-15T18:00:00-04:00",
           "2024-06-15T21:00:00-04:00"
          ],
          [
           "2024-06-29T11:30:00-04:00",
           "2024-06-29T12:00:00-04:00"
          ],
          [
           "2024-06-05T10:30:00-04:00",
           "2024-06-05T11:30:00-04:00"
          ],
          [
           "2024-06-24T16:00:00-04:00",
           "2024-06-24T17:00:00-04:00"
          ],
          [
           "2024-06-04T16:30:00-04:00",
           "2024-06-04T17:30:00-04:00"
          ],
          [
           "2024-06-25T16:00:00-04:00",
           "2024-06-25T17:00:00-04:00"
          ],
          [
           "2024-06-12T15:15:00-04:00",
           "2024-06-12T16:15:00-04:00"
          ],
          [
           "2024-06-25T10:00:00-04:00",
           "2024-06-25T11:00:00-04:00"
          ],
          [
           "2024-07-03T16:00:00-04:00",
           "2024-07-03T20:00:00-04:00"
          ],
          [
           "2024-02-19T00:00:00-05:00",
           "2024-02-22T00:00:00-05:00"
          ],
          [
           "2024-02-19T12:00:00-05:00",
           "2024-02-19T14:18:00-05:00"
          ],
          [
           "2024-02-19T09:30:00-05:00",
           "2024-02-19T10:39:00-05:00"
          ],
          [
           "2024-06-22T17:00:00-04:00",
           "2024-06-22T19:00:00-04:00"
          ],
          [
           "2024-07-11T16:00:00-04:00",
           "2024-07-11T17:00:00-04:00"
          ],
          [
           "2024-07-22T18:00:00-04:00",
           "2024-07-22T19:00:00-04:00"
          ],
          [
           "2024-06-03T13:30:00-04:00",
           "2024-06-03T14:00:00-04:00"
          ],
          [
           "2024-08-05T13:30:00-04:00",
           "2024-08-05T14:00:00-04:00"
          ],
          [
           "2024-07-08T13:30:00-04:00",
           "2024-07-08T14:00:00-04:00"
          ],
          [
           "2024-07-17T18:00:00-04:00",
           "2024-07-17T21:00:00-04:00"
          ],
          [
           "2024-07-27T12:00:00-04:00",
           "2024-07-27T21:00:00-04:00"
          ],
          [
           "2024-07-18T14:00:00-04:00",
           "2024-07-18T14:45:00-04:00"
          ],
          [
           "2024-07-22T16:00:00-04:00",
           "2024-07-22T18:00:00-04:00"
          ],
          [
           "2024-07-23T18:30:00-04:00",
           "2024-07-23T20:15:00-04:00"
          ],
          [
           "2024-07-25T18:00:00-04:00",
           "2024-07-25T19:45:00-04:00"
          ],
          [
           "2024-07-26T16:45:00-04:00",
           "2024-07-26T18:30:00-04:00"
          ],
          [
           "2024-07-27T09:15:00-04:00",
           "2024-07-27T11:30:00-04:00"
          ],
          [
           "2024-06-19T00:00:00-04:00",
           "2024-06-21T00:00:00-04:00"
          ],
          [
           "2024-06-18T00:00:00-04:00",
           "2024-06-20T00:00:00-04:00"
          ],
          [
           "2024-08-22T17:30:00-04:00",
           "2024-08-22T18:00:00-04:00"
          ],
          [
           "2024-08-08T14:00:00-04:00",
           "2024-08-08T15:00:00-04:00"
          ],
          [
           "2024-08-14T10:00:00-04:00",
           "2024-08-14T11:00:00-04:00"
          ],
          [
           "2024-08-03T00:00:00-04:00",
           "2024-08-04T00:00:00-04:00"
          ],
          [
           "2024-08-16T00:00:00-04:00",
           "2024-08-19T00:00:00-04:00"
          ],
          [
           "2024-07-31T18:00:00-04:00",
           "2024-07-31T21:00:00-04:00"
          ],
          [
           "2024-08-06T09:30:00-04:00",
           "2024-08-06T10:00:00-04:00"
          ],
          [
           "2024-08-11T13:00:00-04:00",
           "2024-08-11T17:00:00-04:00"
          ]
         ],
         "hovertemplate": "%{text}<br>Start: %{customdata[0]|%Y/%m/%d %H:%M:%S.%L}<br>End: %{customdata[1]|%Y/%m/%d %H:%M:%S.%L}",
         "marker": {
          "color": [
           "#9a9cff",
           "#9a9cff",
           "#9a9cff",
           "#9a9cff",
           "#9a9cff",
           "#9a9cff",
           "#9a9cff",
           "#9a9cff",
           "#9a9cff",
           "#9a9cff",
           "#9a9cff",
           "#9a9cff",
           "#9a9cff",
           "#9a9cff",
           "#9a9cff",
           "#9a9cff",
           "#9a9cff",
           "#9a9cff",
           "#9a9cff",
           "#9a9cff",
           "#9a9cff",
           "#9a9cff",
           "#9a9cff",
           "#9a9cff",
           "#9a9cff",
           "#9a9cff",
           "#9a9cff",
           "#9a9cff",
           "#9a9cff",
           "#9a9cff",
           "#9a9cff",
           "#9a9cff",
           "#9a9cff",
           "#9a9cff",
           "#9a9cff",
           "#9a9cff",
           "#9a9cff",
           "#9a9cff",
           "#9a9cff",
           "#9a9cff",
           "#9a9cff",
           "#9a9cff",
           "#9a9cff",
           "#9a9cff",
           "#9a9cff",
           "#9a9cff",
           "#9a9cff",
           "#9a9cff",
           "#9a9cff",
           "#9a9cff",
           "#9a9cff",
           "#9a9cff",
           "#9a9cff",
           "#9a9cff",
           "#9a9cff",
           "#9a9cff",
           "#9a9cff",
           "#9a9cff",
           "#9a9cff",
           "#9a9cff",
           "#9a9cff",
           "#9a9cff",
           "#9a9cff",
           "#9a9cff",
           "#9a9cff",
           "#9a9cff",
           "#9a9cff",
           "#9a9cff",
           "#9a9cff",
           "#9a9cff",
           "#9a9cff",
           "#9a9cff",
           "#9a9cff",
           "#9a9cff",
           "#9a9cff",
           "#9a9cff",
           "#9a9cff",
           "#9a9cff",
           "#9a9cff",
           "#9a9cff",
           "#9a9cff",
           "#9a9cff",
           "#9a9cff",
           "#9a9cff",
           "#9a9cff",
           "#9a9cff",
           "#9a9cff",
           "#9a9cff",
           "#9a9cff",
           "#9a9cff",
           "#9a9cff",
           "#9a9cff",
           "#9a9cff",
           "#9a9cff",
           "#9a9cff",
           "#9a9cff",
           "#9a9cff",
           "#9a9cff",
           "#9a9cff",
           "#9a9cff",
           "#9a9cff",
           "#9a9cff",
           "#9a9cff",
           "#9a9cff",
           "#9a9cff",
           "#9a9cff",
           "#9a9cff",
           "#9a9cff",
           "#9a9cff",
           "#9a9cff",
           "#9a9cff",
           "#9a9cff",
           "#9a9cff",
           "#9a9cff",
           "#9a9cff",
           "#9a9cff",
           "#9a9cff",
           "#9a9cff",
           "#9a9cff",
           "#9a9cff",
           "#9a9cff",
           "#9a9cff",
           "#9a9cff",
           "#9a9cff",
           "#9a9cff",
           "#9a9cff",
           "#9a9cff",
           "#9a9cff",
           "#9a9cff",
           "#9a9cff",
           "#9a9cff",
           "#9a9cff",
           "#9a9cff",
           "#9a9cff"
          ]
         },
         "name": "Keith Davis",
         "r": [
          0.097,
          0.097,
          0.097,
          0.097,
          0.097,
          0.097,
          0.097,
          0.097,
          0.097,
          0.097,
          0.097,
          0.097,
          0.097,
          0.097,
          0.097,
          0.097,
          0.097,
          0.097,
          0.097,
          0.097,
          0.097,
          0.097,
          0.097,
          0.097,
          0.097,
          0.097,
          0.097,
          0.097,
          0.097,
          0.097,
          0.097,
          0.097,
          0.097,
          0.097,
          0.097,
          0.097,
          0.097,
          0.097,
          0.097,
          0.097,
          0.097,
          0.097,
          0.097,
          0.097,
          0.097,
          0.097,
          0.097,
          0.097,
          0.097,
          0.097,
          0.097,
          0.097,
          0.097,
          0.097,
          0.097,
          0.097,
          0.097,
          0.097,
          0.097,
          0.097,
          0.097,
          0.097,
          0.097,
          0.097,
          0.097,
          0.097,
          0.097,
          0.097,
          0.097,
          0.097,
          0.097,
          0.097,
          0.097,
          0.097,
          0.097,
          0.097,
          0.097,
          0.097,
          0.097,
          0.097,
          0.097,
          0.097,
          0.097,
          0.097,
          0.097,
          0.097,
          0.097,
          0.097,
          0.097,
          0.097,
          0.097,
          0.097,
          0.097,
          0.097,
          0.097,
          0.097,
          0.097,
          0.097,
          0.097,
          0.097,
          0.097,
          0.097,
          0.097,
          0.097,
          0.097,
          0.097,
          0.097,
          0.097,
          0.097,
          0.097,
          0.097,
          0.097,
          0.097,
          0.097,
          0.097,
          0.097,
          0.097,
          0.097,
          0.097,
          0.097,
          0.097,
          0.097,
          0.097,
          0.097,
          0.097,
          0.097,
          0.097,
          0.097,
          0.097,
          0.097,
          0.097,
          0.097,
          0.097,
          0.097
         ],
         "text": [
          "Mom's Birthday",
          "Nipsco Due",
          "Nipsco Due",
          "Nipsco Due",
          "Nipsco Due",
          "Nipsco Due",
          "Nipsco Due",
          "Nipsco Due",
          "Nipsco Due",
          "Nipsco Due",
          "Nipsco Due",
          "Nipsco Due",
          "Nipsco Due",
          "recycling pickup",
          "recycling pickup",
          "recycling pickup",
          "recycling pickup",
          "recycling pickup",
          "recycling pickup",
          "recycling pickup",
          "recycling pickup",
          "recycling pickup",
          "recycling pickup",
          "recycling pickup",
          "recycling pickup",
          "recycling pickup",
          "recycling pickup",
          "recycling pickup",
          "recycling pickup",
          "recycling pickup",
          "recycling pickup",
          "recycling pickup",
          "recycling pickup",
          "recycling pickup",
          "recycling pickup",
          "recycling pickup",
          "recycling pickup",
          "recycling pickup",
          "recycling pickup",
          "Dentist",
          "Dermatology",
          "Robby meeting",
          "Chelsea’s Graduation",
          "Therapy",
          "Therapy",
          "Reservation at Jesús Latin Grill",
          "PT",
          "physio appointment",
          "therapy",
          "PT",
          "Eye appt ent",
          "Lunch",
          "PT",
          "PT",
          "Physical Therapy",
          "physical therapy",
          "therapy",
          "Finish Chapter 1",
          "Test Python Read",
          "haircut",
          "Flight# UA5309 from SBN -> ORD\n\t (1 hour and 9 mins.)  Layover of 1 hour and 21 mins.  Flight# 2617 from ORD -> BOS\n\t (2 hours and 18 mins.)",
          "Flight# DL2061 from BOS -> DTW\n\t (2 hours and 33 mins.)  Layover of 1 hour and 2 mins.  Flight# 3751 from DTW -> SBN\n\t (1 hour and 7 mins.)",
          "Furnace CHeckup.",
          "Robby meeting",
          "Meet with Robby",
          "therapy",
          "pt",
          "pt",
          "pt",
          "RFP Final Draft Due",
          "Dune 2",
          "therapy",
          "haircyt",
          "therapy",
          "Robby Meeting",
          "Jury Duty",
          "Foot appointment",
          "therapy",
          "PHone appointee doctor",
          "Therapy",
          "foot doctor",
          "robbykeeting",
          "Reservation at Woochi Japanese Fusion & Bar",
          "Jury Duty",
          "Jury Duty",
          "Jury Duty",
          "PT Appointment",
          "PT",
          "PT",
          "dentist",
          "hIRCUT",
          "Therapy",
          "Mishawaka Door, LLC",
          "Graage door fix",
          "CFSB potluck",
          "Gym",
          "Dayna’s Wedding Reception.",
          "Therapy",
          "Unmade Space",
          "Robby Meeting",
          "AJ roof inspection",
          "Charlie Appointment",
          "Feathers Vet",
          "therapy",
          "haircut",
          "Garage Estimate",
          "Unmade Space",
          "Stay at The Royal Sonesta Boston",
          "Flight to Boston (UA 2617)",
          "Flight to Chicago (UA 5309)",
          "Keith and Chelsie and all the cats",
          "therapy",
          "6:00 Robby meeting",
          "CFSB ID Monthly Education Call",
          "CFSB ID Monthly Education Call",
          "CFSB ID Monthly Education Call",
          "Unmade Space",
          "Star Wars Costuming Get-together",
          "haircut",
          "Workout",
          "workout",
          "Workout",
          "Workout",
          "Workout",
          "Stay at Fairfield Inn & Suites Hooksett",
          "Stay at Courtyard Concord",
          "Robby Meeting",
          "Therapy",
          "AC Inspection",
          "Stay Steve Alford Inn",
          "Fan Expo Chicago",
          "Unmade Space",
          "AUto Service",
          "Unmade Space"
         ],
         "theta": [
          158.81147540983608,
          7.3770491803278695,
          37.868852459016395,
          66.39344262295083,
          96.84426229508196,
          126.35245901639345,
          156.844262295082,
          186.35245901639345,
          216.844262295082,
          247.33606557377053,
          276.844262295082,
          307.3770491803279,
          336.88524590163934,
          7.3770491803278695,
          21.147540983606557,
          34.91803278688525,
          48.68852459016394,
          62.459016393442624,
          76.18852459016394,
          89.95901639344262,
          103.72950819672131,
          117.5,
          131.2704918032787,
          145.0409836065574,
          158.81147540983608,
          172.58196721311478,
          186.35245901639345,
          200.12295081967216,
          213.89344262295083,
          227.66393442622953,
          241.43442622950823,
          255.20491803278688,
          268.9754098360656,
          282.74590163934425,
          296.5163934426229,
          310.32786885245906,
          324.09836065573774,
          337.8688524590164,
          351.6393442622951,
          125.30737704918033,
          297.6844262295082,
          12.295081967213115,
          136.6803278688525,
          3.627049180327869,
          17.315573770491806,
          8.62704918032787,
          11.306352459016393,
          18.31967213114754,
          29.20081967213115,
          22.35655737704918,
          21.311475409836067,
          23.135245901639344,
          28.155737704918035,
          56.59836065573771,
          63.411885245901644,
          69.26229508196722,
          42.97131147540984,
          43.77049180327869,
          31.9672131147541,
          38.94467213114754,
          48.6844262295082,
          50.98770491803279,
          58.46311475409836,
          53.57581967213115,
          87.98155737704919,
          69.48770491803279,
          104.67725409836066,
          111.5625,
          118.44774590163935,
          79.13934426229508,
          71.37636612021859,
          83.25819672131148,
          76.32172131147541,
          100.96311475409836,
          115.50204918032787,
          117.56147540983606,
          113.74316939890711,
          112.76639344262296,
          153.80122950819674,
          125.59426229508198,
          127.29508196721311,
          146.2704918032787,
          115.8094262295082,
          118.54508196721312,
          119.52868852459017,
          120.51229508196721,
          125.53278688524591,
          135.25102459016395,
          141.00409836065575,
          311.25,
          127.42315573770493,
          141.20901639344262,
          128.2377049180328,
          142.06967213114754,
          157.8688524590164,
          140.1536885245902,
          212.90983606557378,
          154.03688524590163,
          164.03688524590166,
          177.48975409836066,
          153.85245901639345,
          172.76639344262298,
          153.11475409836066,
          173.75000000000003,
          160.93237704918036,
          173.50409836065575,
          181.6803278688525,
          49.67213114754099,
          48.73565573770492,
          48.60963114754099,
          170.86065573770495,
          189.48770491803282,
          200.38934426229508,
          151.99795081967213,
          213.96516393442624,
          186.42418032786887,
          195.51229508196724,
          205.2254098360656,
          196.2858606557377,
          200.327868852459,
          201.40881147540983,
          203.35553278688525,
          204.2879098360656,
          204.97438524590166,
          168.15573770491804,
          167.172131147541,
          230.85040983606558,
          216.94672131147541,
          222.68442622950823,
          211.92622950819674,
          225.69672131147544,
          209.2827868852459,
          214.78483606557378,
          219.91803278688528
         ],
         "type": "barpolar",
         "width": [
          0.9836065573770492,
          0.9836065573770492,
          0.9836065573770492,
          0.9836065573770492,
          0.9836065573770492,
          0.9836065573770492,
          0.9836065573770492,
          0.9836065573770492,
          0.9836065573770492,
          0.9836065573770492,
          0.9836065573770492,
          0.9836065573770492,
          0.9836065573770492,
          0.9836065573770492,
          0.9836065573770492,
          0.9836065573770492,
          0.9836065573770492,
          0.9836065573770492,
          0.9836065573770492,
          0.9836065573770492,
          0.9836065573770492,
          0.9836065573770492,
          0.9836065573770492,
          0.9836065573770492,
          0.9836065573770492,
          0.9836065573770492,
          0.9836065573770492,
          0.9836065573770492,
          0.9836065573770492,
          0.9836065573770492,
          0.9836065573770492,
          0.9836065573770492,
          0.9836065573770492,
          0.9836065573770492,
          0.9836065573770492,
          0.9836065573770492,
          0.9836065573770492,
          0.9836065573770492,
          0.9836065573770492,
          0.040983606557377046,
          0.040983606557377046,
          0.040983606557377046,
          1.9672131147540983,
          0.040983606557377046,
          0.040983606557377046,
          0.040983606557377046,
          0.030737704918032786,
          0.040983606557377046,
          0.040983606557377046,
          0.040983606557377046,
          0.040983606557377046,
          0.040983606557377046,
          0.040983606557377046,
          0.040983606557377046,
          0.040983606557377046,
          0.040983606557377046,
          0.040983606557377046,
          0.9836065573770492,
          2.9508196721311477,
          0.040983606557377046,
          0.19672131147540983,
          0.19262295081967212,
          0.040983606557377046,
          0.020491803278688523,
          0.020491803278688523,
          0.040983606557377046,
          0.030737704918032786,
          0.030737704918032786,
          0.030737704918032786,
          0.9836065573770492,
          0.1434426229508197,
          0.040983606557377046,
          0.020491803278688523,
          0.040983606557377046,
          0.020491803278688523,
          0.2868852459016394,
          0.040983606557377046,
          0.040983606557377046,
          0.020491803278688523,
          0.040983606557377046,
          0.040983606557377046,
          0.040983606557377046,
          0.040983606557377046,
          0.26639344262295084,
          0.26639344262295084,
          0.26639344262295084,
          0.040983606557377046,
          0.030737704918032786,
          0.040983606557377046,
          0.040983606557377046,
          0.030737704918032786,
          0.040983606557377046,
          0.16393442622950818,
          0.2868852459016394,
          0.12295081967213115,
          0.10245901639344263,
          0.9836065573770492,
          0.040983606557377046,
          0.12295081967213115,
          0.020491803278688523,
          0.040983606557377046,
          0.040983606557377046,
          0.040983606557377046,
          0.040983606557377046,
          0.040983606557377046,
          0.040983606557377046,
          0.16393442622950818,
          2.9508196721311477,
          0.09426229508196722,
          0.04713114754098361,
          0.08196721311475409,
          0.040983606557377046,
          0.040983606557377046,
          0.020491803278688523,
          0.020491803278688523,
          0.020491803278688523,
          0.12295081967213115,
          0.36885245901639346,
          0.030737704918032786,
          0.08196721311475409,
          0.07172131147540985,
          0.07172131147540985,
          0.07172131147540985,
          0.09221311475409837,
          1.9672131147540983,
          1.9672131147540983,
          0.020491803278688523,
          0.040983606557377046,
          0.040983606557377046,
          0.9836065573770492,
          2.9508196721311477,
          0.12295081967213115,
          0.020491803278688523,
          0.16393442622950818
         ]
        },
        {
         "base": [
          0.8,
          0.8,
          0.8,
          0.8,
          0.8,
          0.8,
          0.8,
          0.8
         ],
         "customdata": [
          [
           "2024-12-14T16:00:00-05:00",
           "2024-12-14T17:00:00-05:00"
          ],
          [
           "2024-01-13T17:00:00-05:00",
           "2024-01-13T21:00:00-05:00"
          ],
          [
           "2024-02-04T17:00:00-05:00",
           "2024-02-04T21:00:00-05:00"
          ],
          [
           "2024-03-17T17:00:00-04:00",
           "2024-03-17T21:00:00-04:00"
          ],
          [
           "2024-03-24T18:00:00-04:00",
           "2024-03-24T20:00:00-04:00"
          ],
          [
           "2024-04-14T18:00:00-04:00",
           "2024-04-14T21:00:00-04:00"
          ],
          [
           "2024-04-28T18:00:00-04:00",
           "2024-04-28T21:00:00-04:00"
          ],
          [
           "2024-05-12T18:00:00-04:00",
           "2024-05-12T21:00:00-04:00"
          ]
         ],
         "hovertemplate": "%{text}<br>Start: %{customdata[0]|%Y/%m/%d %H:%M:%S.%L}<br>End: %{customdata[1]|%Y/%m/%d %H:%M:%S.%L}",
         "marker": {
          "color": [
           "#92e1c0",
           "#92e1c0",
           "#92e1c0",
           "#92e1c0",
           "#92e1c0",
           "#92e1c0",
           "#92e1c0",
           "#92e1c0"
          ]
         },
         "name": "Axis Ludi Calendar",
         "r": [
          0.097,
          0.097,
          0.097,
          0.097,
          0.097,
          0.097,
          0.097,
          0.097
         ],
         "text": [
          "Seattle Game",
          "Seattle Game",
          "Seattle Game",
          "Mage",
          "Mage",
          "Gaming: All Intents & Purposes pre-game",
          "Gaming: All Intents and Purposes",
          "Gaming: All Intents and Purposes"
         ],
         "theta": [
          342.97131147540983,
          12.581967213114755,
          34.221311475409834,
          75.49180327868852,
          82.37704918032787,
          103.05327868852459,
          116.82377049180329,
          130.594262295082
         ],
         "type": "barpolar",
         "width": [
          0.040983606557377046,
          0.16393442622950818,
          0.16393442622950818,
          0.16393442622950818,
          0.08196721311475409,
          0.12295081967213115,
          0.12295081967213115,
          0.12295081967213115
         ]
        },
        {
         "base": [
          0.7,
          0.7,
          0.7,
          0.7,
          0.7,
          0.7,
          0.7,
          0.7,
          0.7,
          0.6,
          0.7,
          0.7,
          0.7,
          0.7,
          0.6,
          0.7,
          0.7,
          0.7,
          0.7,
          0.7,
          0.7,
          0.7,
          0.6,
          0.7,
          0.7,
          0.7,
          0.6,
          0.7,
          0.7,
          0.7,
          0.7,
          0.7,
          0.7,
          0.7,
          0.7,
          0.7,
          0.7,
          0.7,
          0.7,
          0.7,
          0.7,
          0.7,
          0.7,
          0.7,
          0.7,
          0.7,
          0.7,
          0.7,
          0.7,
          0.7,
          0.7,
          0.7,
          0.7,
          0.7,
          0.7,
          0.7,
          0.7,
          0.7,
          0.7,
          0.7,
          0.7,
          0.7,
          0.7
         ],
         "customdata": [
          [
           "2024-01-07T00:00:00-05:00",
           "2024-01-08T00:00:00-05:00"
          ],
          [
           "2024-01-14T00:00:00-05:00",
           "2024-01-15T00:00:00-05:00"
          ],
          [
           "2024-01-15T00:00:00-05:00",
           "2024-01-16T00:00:00-05:00"
          ],
          [
           "2024-01-16T00:00:00-05:00",
           "2024-01-17T00:00:00-05:00"
          ],
          [
           "2024-01-23T00:00:00-05:00",
           "2024-01-24T00:00:00-05:00"
          ],
          [
           "2024-02-16T00:00:00-05:00",
           "2024-02-17T00:00:00-05:00"
          ],
          [
           "2024-02-16T00:00:00-05:00",
           "2024-02-17T00:00:00-05:00"
          ],
          [
           "2024-02-17T00:00:00-05:00",
           "2024-02-18T00:00:00-05:00"
          ],
          [
           "2024-02-18T00:00:00-05:00",
           "2024-02-19T00:00:00-05:00"
          ],
          [
           "2024-03-09T00:00:00-05:00",
           "2024-03-18T00:00:00-04:00"
          ],
          [
           "2024-03-11T00:00:00-04:00",
           "2024-03-12T00:00:00-04:00"
          ],
          [
           "2024-03-12T00:00:00-04:00",
           "2024-03-13T00:00:00-04:00"
          ],
          [
           "2024-03-20T00:00:00-04:00",
           "2024-03-21T00:00:00-04:00"
          ],
          [
           "2024-03-22T00:00:00-04:00",
           "2024-03-23T00:00:00-04:00"
          ],
          [
           "2024-03-29T00:00:00-04:00",
           "2024-04-02T00:00:00-04:00"
          ],
          [
           "2024-04-15T00:00:00-04:00",
           "2024-04-16T00:00:00-04:00"
          ],
          [
           "2024-04-23T00:00:00-04:00",
           "2024-04-24T00:00:00-04:00"
          ],
          [
           "2024-05-01T00:00:00-04:00",
           "2024-05-02T00:00:00-04:00"
          ],
          [
           "2024-05-02T00:00:00-04:00",
           "2024-05-03T00:00:00-04:00"
          ],
          [
           "2024-05-03T00:00:00-04:00",
           "2024-05-04T00:00:00-04:00"
          ],
          [
           "2024-05-04T00:00:00-04:00",
           "2024-05-05T00:00:00-04:00"
          ],
          [
           "2024-05-05T00:00:00-04:00",
           "2024-05-06T00:00:00-04:00"
          ],
          [
           "2024-05-06T00:00:00-04:00",
           "2024-05-11T00:00:00-04:00"
          ],
          [
           "2024-05-11T00:00:00-04:00",
           "2024-05-12T00:00:00-04:00"
          ],
          [
           "2024-05-13T00:00:00-04:00",
           "2024-05-14T00:00:00-04:00"
          ],
          [
           "2024-05-14T00:00:00-04:00",
           "2024-05-15T00:00:00-04:00"
          ],
          [
           "2024-05-17T00:00:00-04:00",
           "2024-05-20T00:00:00-04:00"
          ],
          [
           "2024-07-19T00:00:00-04:00",
           "2024-07-20T00:00:00-04:00"
          ],
          [
           "2024-08-04T00:00:00-04:00",
           "2024-08-05T00:00:00-04:00"
          ],
          [
           "2024-08-26T00:00:00-04:00",
           "2024-08-27T00:00:00-04:00"
          ],
          [
           "2024-08-27T00:00:00-04:00",
           "2024-08-28T00:00:00-04:00"
          ],
          [
           "2024-09-02T00:00:00-04:00",
           "2024-09-03T00:00:00-04:00"
          ],
          [
           "2024-09-03T00:00:00-04:00",
           "2024-09-04T00:00:00-04:00"
          ],
          [
           "2024-10-19T00:00:00-04:00",
           "2024-10-20T00:00:00-04:00"
          ],
          [
           "2024-10-20T00:00:00-04:00",
           "2024-10-21T00:00:00-04:00"
          ],
          [
           "2024-10-21T00:00:00-04:00",
           "2024-10-22T00:00:00-04:00"
          ],
          [
           "2024-10-22T00:00:00-04:00",
           "2024-10-23T00:00:00-04:00"
          ],
          [
           "2024-10-23T00:00:00-04:00",
           "2024-10-24T00:00:00-04:00"
          ],
          [
           "2024-10-24T00:00:00-04:00",
           "2024-10-25T00:00:00-04:00"
          ],
          [
           "2024-10-25T00:00:00-04:00",
           "2024-10-26T00:00:00-04:00"
          ],
          [
           "2024-10-26T00:00:00-04:00",
           "2024-10-27T00:00:00-04:00"
          ],
          [
           "2024-10-27T00:00:00-04:00",
           "2024-10-28T00:00:00-04:00"
          ],
          [
           "2024-10-21T00:00:00-04:00",
           "2024-10-22T00:00:00-04:00"
          ],
          [
           "2024-11-01T00:00:00-04:00",
           "2024-11-02T00:00:00-04:00"
          ],
          [
           "2024-11-18T00:00:00-05:00",
           "2024-11-19T00:00:00-05:00"
          ],
          [
           "2024-11-27T00:00:00-05:00",
           "2024-11-28T00:00:00-05:00"
          ],
          [
           "2024-11-28T00:00:00-05:00",
           "2024-11-29T00:00:00-05:00"
          ],
          [
           "2024-11-29T00:00:00-05:00",
           "2024-11-30T00:00:00-05:00"
          ],
          [
           "2024-12-03T00:00:00-05:00",
           "2024-12-04T00:00:00-05:00"
          ],
          [
           "2024-12-12T00:00:00-05:00",
           "2024-12-13T00:00:00-05:00"
          ],
          [
           "2024-12-13T00:00:00-05:00",
           "2024-12-14T00:00:00-05:00"
          ],
          [
           "2024-12-14T00:00:00-05:00",
           "2024-12-15T00:00:00-05:00"
          ],
          [
           "2024-12-15T00:00:00-05:00",
           "2024-12-16T00:00:00-05:00"
          ],
          [
           "2024-12-16T00:00:00-05:00",
           "2024-12-17T00:00:00-05:00"
          ],
          [
           "2024-12-17T00:00:00-05:00",
           "2024-12-18T00:00:00-05:00"
          ],
          [
           "2024-12-18T00:00:00-05:00",
           "2024-12-19T00:00:00-05:00"
          ],
          [
           "2024-12-19T00:00:00-05:00",
           "2024-12-20T00:00:00-05:00"
          ],
          [
           "2024-12-20T00:00:00-05:00",
           "2024-12-21T00:00:00-05:00"
          ],
          [
           "2024-12-23T00:00:00-05:00",
           "2024-12-24T00:00:00-05:00"
          ],
          [
           "2024-12-22T00:00:00-05:00",
           "2024-12-23T00:00:00-05:00"
          ],
          [
           "2024-09-13T00:00:00-04:00",
           "2024-09-14T00:00:00-04:00"
          ],
          [
           "2024-08-23T00:00:00-04:00",
           "2024-08-24T00:00:00-04:00"
          ],
          [
           "2024-08-25T00:00:00-04:00",
           "2024-08-26T00:00:00-04:00"
          ]
         ],
         "hovertemplate": "%{text}<br>Start: %{customdata[0]|%Y/%m/%d %H:%M:%S.%L}<br>End: %{customdata[1]|%Y/%m/%d %H:%M:%S.%L}",
         "marker": {
          "color": [
           "#ac725e",
           "#ac725e",
           "#ac725e",
           "#ac725e",
           "#ac725e",
           "#ac725e",
           "#ac725e",
           "#ac725e",
           "#ac725e",
           "#ac725e",
           "#ac725e",
           "#ac725e",
           "#ac725e",
           "#ac725e",
           "#ac725e",
           "#ac725e",
           "#ac725e",
           "#ac725e",
           "#ac725e",
           "#ac725e",
           "#ac725e",
           "#ac725e",
           "#ac725e",
           "#ac725e",
           "#ac725e",
           "#ac725e",
           "#ac725e",
           "#ac725e",
           "#ac725e",
           "#ac725e",
           "#ac725e",
           "#ac725e",
           "#ac725e",
           "#ac725e",
           "#ac725e",
           "#ac725e",
           "#ac725e",
           "#ac725e",
           "#ac725e",
           "#ac725e",
           "#ac725e",
           "#ac725e",
           "#ac725e",
           "#ac725e",
           "#ac725e",
           "#ac725e",
           "#ac725e",
           "#ac725e",
           "#ac725e",
           "#ac725e",
           "#ac725e",
           "#ac725e",
           "#ac725e",
           "#ac725e",
           "#ac725e",
           "#ac725e",
           "#ac725e",
           "#ac725e",
           "#ac725e",
           "#ac725e",
           "#ac725e",
           "#ac725e",
           "#ac725e"
          ]
         },
         "name": "Academic Calendar",
         "r": [
          0.097,
          0.097,
          0.097,
          0.097,
          0.097,
          0.097,
          0.097,
          0.097,
          0.097,
          0.097,
          0.097,
          0.097,
          0.097,
          0.097,
          0.097,
          0.097,
          0.097,
          0.097,
          0.097,
          0.097,
          0.097,
          0.097,
          0.097,
          0.097,
          0.097,
          0.097,
          0.097,
          0.097,
          0.097,
          0.097,
          0.097,
          0.097,
          0.097,
          0.097,
          0.097,
          0.097,
          0.097,
          0.097,
          0.097,
          0.097,
          0.097,
          0.097,
          0.097,
          0.097,
          0.097,
          0.097,
          0.097,
          0.097,
          0.097,
          0.097,
          0.097,
          0.097,
          0.097,
          0.097,
          0.097,
          0.097,
          0.097,
          0.097,
          0.097,
          0.097,
          0.097,
          0.097,
          0.097
         ],
         "text": [
          "January Graduation Date",
          "Undergraduate halls open for move-in beginning at 9:00am",
          "Martin Luther King Day - no classes",
          "Classes begin",
          "Last date for all class changes",
          "Last day to drop a class at Saint Mary's College",
          "Junior Parent's Weekend",
          "Junior Parent's Weekend",
          "Junior Parent's Weekend",
          "Mid-Term Break",
          "Mid-term grades due",
          "Students can view grades",
          "Registration begins for Summer Session",
          "Last day to drop a class",
          "Easter Holiday for students",
          "Registration begins for Fall 2024",
          "Course Instructor Feedback (CIF) begins",
          "Last Class Day",
          "Reading Day",
          "Reading Day",
          "Reading Day",
          "Reading Day",
          "Final Exam Week",
          "Undergraduate Halls close at Noon",
          "Final grades are due",
          "Students can view final grades",
          "Commencement Weekend",
          "Last class day for regular 6-week Summer classes",
          "Summer graduation date",
          "Classes begin for Law School and Graduate Business",
          "CLASSES BEGIN",
          "Labor Day - classes are in session",
          "Last date for all class changes",
          "Fall Break",
          "Fall Break",
          "Fall Break",
          "Fall Break",
          "Fall Break",
          "Fall Break",
          "Fall Break",
          "Fall Break",
          "Fall Break",
          "GRADES DUE by 3:45pm",
          "Last day to drop a class",
          "Spring registration begins",
          "Thanksgiving Holiday for students",
          "Thanksgiving",
          "Thanksgiving holiday for students, faculty, staff",
          "Course Instructor Feedback (CIF) begins",
          "LAST CLASS DAY",
          "Reading Day - no exams",
          "Reading Day - no exams",
          "Reading Day - no exams",
          "FINAL EXAMS - no review sessions",
          "FINAL EXAMS - no review sessions",
          "FINAL EXAMS - no review sessions",
          "FINAL EXAMS - no review sessions",
          "FINAL EXAMS - no review sessions",
          "GRADES DUE by 3:45pm",
          "Undergraduate Halls close by Noon",
          "Presidential Inauguration - no classes",
          "Undergraduate Halls open for new first year students",
          "Undergraduate Halls open at 9am"
         ],
         "theta": [
          6.39344262295082,
          13.278688524590164,
          14.262295081967213,
          15.245901639344263,
          22.13114754098361,
          45.73770491803279,
          45.73770491803279,
          46.72131147540984,
          47.704918032786885,
          71.25,
          69.30327868852459,
          70.28688524590164,
          78.15573770491804,
          80.12295081967213,
          88.48360655737704,
          103.72950819672131,
          111.59836065573771,
          119.4672131147541,
          120.45081967213115,
          121.4344262295082,
          122.41803278688525,
          123.40163934426229,
          126.35245901639345,
          129.3032786885246,
          131.2704918032787,
          132.25409836065575,
          136.18852459016395,
          197.172131147541,
          212.90983606557378,
          234.54918032786887,
          235.5327868852459,
          241.43442622950823,
          242.41803278688528,
          287.6639344262295,
          288.6475409836066,
          289.6311475409836,
          290.61475409836066,
          291.5983606557377,
          292.58196721311475,
          293.5655737704918,
          294.54918032786884,
          295.5327868852459,
          289.6311475409836,
          300.45081967213116,
          317.2131147540984,
          326.0655737704918,
          327.0491803278689,
          328.0327868852459,
          331.96721311475414,
          340.81967213114757,
          341.8032786885246,
          342.78688524590166,
          343.77049180327873,
          344.75409836065575,
          345.7377049180328,
          346.72131147540983,
          347.7049180327869,
          348.688524590164,
          351.6393442622951,
          350.65573770491807,
          252.25409836065575,
          231.59836065573774,
          233.56557377049182
         ],
         "type": "barpolar",
         "width": [
          0.9836065573770492,
          0.9836065573770492,
          0.9836065573770492,
          0.9836065573770492,
          0.9836065573770492,
          0.9836065573770492,
          0.9836065573770492,
          0.9836065573770492,
          0.9836065573770492,
          8.811475409836065,
          0.9836065573770492,
          0.9836065573770492,
          0.9836065573770492,
          0.9836065573770492,
          3.9344262295081966,
          0.9836065573770492,
          0.9836065573770492,
          0.9836065573770492,
          0.9836065573770492,
          0.9836065573770492,
          0.9836065573770492,
          0.9836065573770492,
          4.918032786885246,
          0.9836065573770492,
          0.9836065573770492,
          0.9836065573770492,
          2.9508196721311477,
          0.9836065573770492,
          0.9836065573770492,
          0.9836065573770492,
          0.9836065573770492,
          0.9836065573770492,
          0.9836065573770492,
          0.9836065573770492,
          0.9836065573770492,
          0.9836065573770492,
          0.9836065573770492,
          0.9836065573770492,
          0.9836065573770492,
          0.9836065573770492,
          0.9836065573770492,
          0.9836065573770492,
          0.9836065573770492,
          0.9836065573770492,
          0.9836065573770492,
          0.9836065573770492,
          0.9836065573770492,
          0.9836065573770492,
          0.9836065573770492,
          0.9836065573770492,
          0.9836065573770492,
          0.9836065573770492,
          0.9836065573770492,
          0.9836065573770492,
          0.9836065573770492,
          0.9836065573770492,
          0.9836065573770492,
          0.9836065573770492,
          0.9836065573770492,
          0.9836065573770492,
          0.9836065573770492,
          0.9836065573770492,
          0.9836065573770492
         ]
        },
        {
         "base": [
          0.7,
          0.7,
          0.7,
          0.7,
          0.7,
          0.7,
          0.7,
          0.7,
          0.7,
          0.8,
          0.7,
          0.7,
          0.7,
          0.7,
          0.7,
          0.7,
          0.7,
          0.7,
          0.7,
          0.7,
          0.7,
          0.7,
          0.7,
          0.7,
          0.7,
          0.7,
          0.7,
          0.7,
          0.7,
          0.6,
          0.7,
          0.7,
          0.7,
          0.7
         ],
         "customdata": [
          [
           "2024-02-01T00:00:00-05:00",
           "2024-02-02T00:00:00-05:00"
          ],
          [
           "2024-03-01T00:00:00-05:00",
           "2024-03-02T00:00:00-05:00"
          ],
          [
           "2024-05-01T00:00:00-04:00",
           "2024-05-02T00:00:00-04:00"
          ],
          [
           "2024-06-01T00:00:00-04:00",
           "2024-06-02T00:00:00-04:00"
          ],
          [
           "2024-09-15T00:00:00-04:00",
           "2024-09-16T00:00:00-04:00"
          ],
          [
           "2024-10-14T00:00:00-04:00",
           "2024-10-15T00:00:00-04:00"
          ],
          [
           "2024-10-14T00:00:00-04:00",
           "2024-10-15T00:00:00-04:00"
          ],
          [
           "2024-11-01T00:00:00-04:00",
           "2024-11-02T00:00:00-04:00"
          ],
          [
           "2024-11-29T00:00:00-05:00",
           "2024-11-30T00:00:00-05:00"
          ],
          [
           "2024-03-10T00:00:00-05:00",
           "2024-03-11T00:00:00-04:00"
          ],
          [
           "2024-04-01T00:00:00-04:00",
           "2024-04-02T00:00:00-04:00"
          ],
          [
           "2024-07-04T00:00:00-04:00",
           "2024-07-05T00:00:00-04:00"
          ],
          [
           "2024-12-25T00:00:00-05:00",
           "2024-12-26T00:00:00-05:00"
          ],
          [
           "2024-03-17T00:00:00-04:00",
           "2024-03-18T00:00:00-04:00"
          ],
          [
           "2024-06-19T00:00:00-04:00",
           "2024-06-20T00:00:00-04:00"
          ],
          [
           "2024-10-31T00:00:00-04:00",
           "2024-11-01T00:00:00-04:00"
          ],
          [
           "2024-11-05T00:00:00-05:00",
           "2024-11-06T00:00:00-05:00"
          ],
          [
           "2024-11-11T00:00:00-05:00",
           "2024-11-12T00:00:00-05:00"
          ],
          [
           "2024-12-31T00:00:00-05:00",
           "2025-01-01T00:00:00-05:00"
          ],
          [
           "2024-05-05T00:00:00-04:00",
           "2024-05-06T00:00:00-04:00"
          ],
          [
           "2024-09-02T00:00:00-04:00",
           "2024-09-03T00:00:00-04:00"
          ],
          [
           "2024-03-31T00:00:00-04:00",
           "2024-04-01T00:00:00-04:00"
          ],
          [
           "2024-06-14T00:00:00-04:00",
           "2024-06-15T00:00:00-04:00"
          ],
          [
           "2024-11-28T00:00:00-05:00",
           "2024-11-29T00:00:00-05:00"
          ],
          [
           "2024-12-24T00:00:00-05:00",
           "2024-12-25T00:00:00-05:00"
          ],
          [
           "2024-02-19T00:00:00-05:00",
           "2024-02-20T00:00:00-05:00"
          ],
          [
           "2024-05-12T00:00:00-04:00",
           "2024-05-13T00:00:00-04:00"
          ],
          [
           "2024-05-27T00:00:00-04:00",
           "2024-05-28T00:00:00-04:00"
          ],
          [
           "2024-06-16T00:00:00-04:00",
           "2024-06-17T00:00:00-04:00"
          ],
          [
           "2024-11-03T00:00:00-04:00",
           "2024-11-04T00:00:00-05:00"
          ],
          [
           "2024-01-01T00:00:00-05:00",
           "2024-01-02T00:00:00-05:00"
          ],
          [
           "2024-01-15T00:00:00-05:00",
           "2024-01-16T00:00:00-05:00"
          ],
          [
           "2024-02-14T00:00:00-05:00",
           "2024-02-15T00:00:00-05:00"
          ],
          [
           "2024-04-15T00:00:00-04:00",
           "2024-04-16T00:00:00-04:00"
          ]
         ],
         "hovertemplate": "%{text}<br>Start: %{customdata[0]|%Y/%m/%d %H:%M:%S.%L}<br>End: %{customdata[1]|%Y/%m/%d %H:%M:%S.%L}",
         "marker": {
          "color": [
           "#c2c2c2",
           "#c2c2c2",
           "#c2c2c2",
           "#c2c2c2",
           "#c2c2c2",
           "#c2c2c2",
           "#c2c2c2",
           "#c2c2c2",
           "#c2c2c2",
           "#c2c2c2",
           "#c2c2c2",
           "#c2c2c2",
           "#c2c2c2",
           "#c2c2c2",
           "#c2c2c2",
           "#c2c2c2",
           "#c2c2c2",
           "#c2c2c2",
           "#c2c2c2",
           "#c2c2c2",
           "#c2c2c2",
           "#c2c2c2",
           "#c2c2c2",
           "#c2c2c2",
           "#c2c2c2",
           "#c2c2c2",
           "#c2c2c2",
           "#c2c2c2",
           "#c2c2c2",
           "#c2c2c2",
           "#c2c2c2",
           "#c2c2c2",
           "#c2c2c2",
           "#c2c2c2"
          ]
         },
         "name": "Holidays in United States",
         "r": [
          0.097,
          0.097,
          0.097,
          0.097,
          0.097,
          0.097,
          0.097,
          0.097,
          0.097,
          0.097,
          0.097,
          0.097,
          0.097,
          0.097,
          0.097,
          0.097,
          0.097,
          0.097,
          0.097,
          0.097,
          0.097,
          0.097,
          0.097,
          0.097,
          0.097,
          0.097,
          0.097,
          0.097,
          0.097,
          0.097,
          0.097,
          0.097,
          0.097,
          0.097
         ],
         "text": [
          "First Day of Black History Month",
          "First Day of Women's History Month",
          "First Day of Asian Pacific American Heritage Month",
          "First Day of LGBTQ+ Pride Month",
          "First Day of Hispanic Heritage Month",
          "Indigenous Peoples' Day",
          "Columbus Day",
          "First Day of American Indian Heritage Month",
          "Native American Heritage Day",
          "Daylight Saving Time starts",
          "Easter Monday",
          "Independence Day",
          "Christmas Day",
          "St. Patrick's Day",
          "Juneteenth",
          "Halloween",
          "Election Day (General Election)",
          "Veterans Day",
          "New Year's Eve",
          "Cinco de Mayo",
          "Labor Day",
          "Easter Sunday",
          "Flag Day",
          "Thanksgiving Day",
          "Christmas Eve",
          "Presidents' Day",
          "Mother's Day",
          "Memorial Day",
          "Father's Day",
          "Daylight Saving Time ends",
          "New Year's Day",
          "Martin Luther King Jr. Day",
          "Valentine's Day",
          "Tax Day"
         ],
         "theta": [
          30.98360655737705,
          59.50819672131148,
          119.4672131147541,
          149.95901639344265,
          254.22131147540983,
          282.74590163934425,
          282.74590163934425,
          300.45081967213116,
          328.0327868852459,
          68.29918032786885,
          89.95901639344262,
          182.41803278688528,
          353.6065573770492,
          75.20491803278688,
          167.66393442622953,
          299.4672131147541,
          304.42622950819674,
          310.32786885245906,
          359.5081967213115,
          123.40163934426229,
          241.43442622950823,
          88.97540983606558,
          162.74590163934428,
          327.0491803278689,
          352.62295081967216,
          48.68852459016394,
          130.28688524590166,
          145.0409836065574,
          164.71311475409837,
          302.4795081967213,
          0.49180327868852464,
          14.262295081967213,
          43.77049180327869,
          103.72950819672131
         ],
         "type": "barpolar",
         "width": [
          0.9836065573770492,
          0.9836065573770492,
          0.9836065573770492,
          0.9836065573770492,
          0.9836065573770492,
          0.9836065573770492,
          0.9836065573770492,
          0.9836065573770492,
          0.9836065573770492,
          0.9426229508196722,
          0.9836065573770492,
          0.9836065573770492,
          0.9836065573770492,
          0.9836065573770492,
          0.9836065573770492,
          0.9836065573770492,
          0.9836065573770492,
          0.9836065573770492,
          0.9836065573770492,
          0.9836065573770492,
          0.9836065573770492,
          0.9836065573770492,
          0.9836065573770492,
          0.9836065573770492,
          0.9836065573770492,
          0.9836065573770492,
          0.9836065573770492,
          0.9836065573770492,
          0.9836065573770492,
          1.0245901639344261,
          0.9836065573770492,
          0.9836065573770492,
          0.9836065573770492,
          0.9836065573770492
         ]
        },
        {
         "base": [
          0.5,
          0.5
         ],
         "customdata": [
          [
           "2024-01-14T00:00:00-05:00",
           "2024-05-12T00:00:00-04:00"
          ],
          [
           "2024-08-23T00:00:00-04:00",
           "2024-12-23T00:00:00-05:00"
          ]
         ],
         "hovertemplate": "%{text}<br>Start: %{customdata[0]|%Y/%m/%d %H:%M:%S.%L}<br>End: %{customdata[1]|%Y/%m/%d %H:%M:%S.%L}",
         "marker": {
          "color": [
           "#c2c2c2",
           "#c2c2c2"
          ]
         },
         "name": "Seasons",
         "r": [
          0.097,
          0.097
         ],
         "text": [
          "Spring Semester",
          "Fall Semester"
         ],
         "theta": [
          71.25,
          291.1270491803279
         ],
         "type": "barpolar",
         "width": [
          117.00819672131148,
          120.04098360655738
         ]
        },
        {
         "base": 0.4,
         "customdata": [
          [
           "2024-01-06T00:00:00",
           "2024-01-07T00:00:00"
          ],
          [
           "2024-01-13T00:00:00",
           "2024-01-14T00:00:00"
          ],
          [
           "2024-01-20T00:00:00",
           "2024-01-21T00:00:00"
          ],
          [
           "2024-01-27T00:00:00",
           "2024-01-28T00:00:00"
          ],
          [
           "2024-02-03T00:00:00",
           "2024-02-04T00:00:00"
          ],
          [
           "2024-02-10T00:00:00",
           "2024-02-11T00:00:00"
          ],
          [
           "2024-02-17T00:00:00",
           "2024-02-18T00:00:00"
          ],
          [
           "2024-02-24T00:00:00",
           "2024-02-25T00:00:00"
          ],
          [
           "2024-03-02T00:00:00",
           "2024-03-03T00:00:00"
          ],
          [
           "2024-03-09T00:00:00",
           "2024-03-10T00:00:00"
          ],
          [
           "2024-03-16T00:00:00",
           "2024-03-17T00:00:00"
          ],
          [
           "2024-03-23T00:00:00",
           "2024-03-24T00:00:00"
          ],
          [
           "2024-03-30T00:00:00",
           "2024-03-31T00:00:00"
          ],
          [
           "2024-04-06T00:00:00",
           "2024-04-07T00:00:00"
          ],
          [
           "2024-04-13T00:00:00",
           "2024-04-14T00:00:00"
          ],
          [
           "2024-04-20T00:00:00",
           "2024-04-21T00:00:00"
          ],
          [
           "2024-04-27T00:00:00",
           "2024-04-28T00:00:00"
          ],
          [
           "2024-05-04T00:00:00",
           "2024-05-05T00:00:00"
          ],
          [
           "2024-05-11T00:00:00",
           "2024-05-12T00:00:00"
          ],
          [
           "2024-05-18T00:00:00",
           "2024-05-19T00:00:00"
          ],
          [
           "2024-05-25T00:00:00",
           "2024-05-26T00:00:00"
          ],
          [
           "2024-06-01T00:00:00",
           "2024-06-02T00:00:00"
          ],
          [
           "2024-06-08T00:00:00",
           "2024-06-09T00:00:00"
          ],
          [
           "2024-06-15T00:00:00",
           "2024-06-16T00:00:00"
          ],
          [
           "2024-06-22T00:00:00",
           "2024-06-23T00:00:00"
          ],
          [
           "2024-06-29T00:00:00",
           "2024-06-30T00:00:00"
          ],
          [
           "2024-07-06T00:00:00",
           "2024-07-07T00:00:00"
          ],
          [
           "2024-07-13T00:00:00",
           "2024-07-14T00:00:00"
          ],
          [
           "2024-07-20T00:00:00",
           "2024-07-21T00:00:00"
          ],
          [
           "2024-07-27T00:00:00",
           "2024-07-28T00:00:00"
          ],
          [
           "2024-08-03T00:00:00",
           "2024-08-04T00:00:00"
          ],
          [
           "2024-08-10T00:00:00",
           "2024-08-11T00:00:00"
          ],
          [
           "2024-08-17T00:00:00",
           "2024-08-18T00:00:00"
          ],
          [
           "2024-08-24T00:00:00",
           "2024-08-25T00:00:00"
          ],
          [
           "2024-08-31T00:00:00",
           "2024-09-01T00:00:00"
          ],
          [
           "2024-09-07T00:00:00",
           "2024-09-08T00:00:00"
          ],
          [
           "2024-09-14T00:00:00",
           "2024-09-15T00:00:00"
          ],
          [
           "2024-09-21T00:00:00",
           "2024-09-22T00:00:00"
          ],
          [
           "2024-09-28T00:00:00",
           "2024-09-29T00:00:00"
          ],
          [
           "2024-10-05T00:00:00",
           "2024-10-06T00:00:00"
          ],
          [
           "2024-10-12T00:00:00",
           "2024-10-13T00:00:00"
          ],
          [
           "2024-10-19T00:00:00",
           "2024-10-20T00:00:00"
          ],
          [
           "2024-10-26T00:00:00",
           "2024-10-27T00:00:00"
          ],
          [
           "2024-11-02T00:00:00",
           "2024-11-03T00:00:00"
          ],
          [
           "2024-11-09T00:00:00",
           "2024-11-10T00:00:00"
          ],
          [
           "2024-11-16T00:00:00",
           "2024-11-17T00:00:00"
          ],
          [
           "2024-11-23T00:00:00",
           "2024-11-24T00:00:00"
          ],
          [
           "2024-11-30T00:00:00",
           "2024-12-01T00:00:00"
          ],
          [
           "2024-12-07T00:00:00",
           "2024-12-08T00:00:00"
          ],
          [
           "2024-12-14T00:00:00",
           "2024-12-15T00:00:00"
          ],
          [
           "2024-12-21T00:00:00",
           "2024-12-22T00:00:00"
          ],
          [
           "2024-12-28T00:00:00",
           "2024-12-29T00:00:00"
          ]
         ],
         "hovertemplate": "%{text}<br>Start: %{customdata[0]|%Y/%m/%d %H:%M:%S.%L}<br>End: %{customdata[1]|%Y/%m/%d %H:%M:%S.%L}",
         "marker": {
          "color": "#E1E1E1",
          "opacity": 0.5
         },
         "name": "Weekends",
         "r": [
          0.1,
          0.1,
          0.1,
          0.1,
          0.1,
          0.1,
          0.1,
          0.1,
          0.1,
          0.1,
          0.1,
          0.1,
          0.1,
          0.1,
          0.1,
          0.1,
          0.1,
          0.1,
          0.1,
          0.1,
          0.1,
          0.1,
          0.1,
          0.1,
          0.1,
          0.1,
          0.1,
          0.1,
          0.1,
          0.1,
          0.1,
          0.1,
          0.1,
          0.1,
          0.1,
          0.1,
          0.1,
          0.1,
          0.1,
          0.1,
          0.1,
          0.1,
          0.1,
          0.1,
          0.1,
          0.1,
          0.1,
          0.1,
          0.1,
          0.1,
          0.1,
          0.1
         ],
         "theta": [
          5.424657534246576,
          12.328767123287673,
          19.232876712328768,
          26.136986301369863,
          33.04109589041096,
          39.945205479452056,
          46.849315068493155,
          53.75342465753425,
          60.657534246575345,
          67.56164383561644,
          74.42465753424658,
          81.32876712328768,
          88.23287671232876,
          95.13698630136986,
          102.04109589041096,
          108.94520547945206,
          115.84931506849315,
          122.75342465753425,
          129.65753424657535,
          136.56164383561645,
          143.46575342465755,
          150.36986301369865,
          157.27397260273975,
          164.17808219178085,
          171.08219178082194,
          177.98630136986304,
          184.89041095890414,
          191.7945205479452,
          198.6986301369863,
          205.6027397260274,
          212.5068493150685,
          219.4109589041096,
          226.3150684931507,
          233.2191780821918,
          240.1232876712329,
          247.027397260274,
          253.93150684931507,
          260.83561643835617,
          267.73972602739724,
          274.64383561643837,
          281.54794520547944,
          288.45205479452056,
          295.35616438356163,
          302.26027397260276,
          309.2054794520548,
          316.1095890410959,
          323.013698630137,
          329.9178082191781,
          336.8219178082192,
          343.7260273972603,
          350.6301369863014,
          357.5342465753425
         ],
         "type": "barpolar",
         "width": [
          0.9836065573770492,
          0.9836065573770492,
          0.9836065573770492,
          0.9836065573770492,
          0.9836065573770492,
          0.9836065573770492,
          0.9836065573770492,
          0.9836065573770492,
          0.9836065573770492,
          0.9836065573770492,
          0.9836065573770492,
          0.9836065573770492,
          0.9836065573770492,
          0.9836065573770492,
          0.9836065573770492,
          0.9836065573770492,
          0.9836065573770492,
          0.9836065573770492,
          0.9836065573770492,
          0.9836065573770492,
          0.9836065573770492,
          0.9836065573770492,
          0.9836065573770492,
          0.9836065573770492,
          0.9836065573770492,
          0.9836065573770492,
          0.9836065573770492,
          0.9836065573770492,
          0.9836065573770492,
          0.9836065573770492,
          0.9836065573770492,
          0.9836065573770492,
          0.9836065573770492,
          0.9836065573770492,
          0.9836065573770492,
          0.9836065573770492,
          0.9836065573770492,
          0.9836065573770492,
          0.9836065573770492,
          0.9836065573770492,
          0.9836065573770492,
          0.9836065573770492,
          0.9836065573770492,
          0.9836065573770492,
          0.9836065573770492,
          0.9836065573770492,
          0.9836065573770492,
          0.9836065573770492,
          0.9836065573770492,
          0.9836065573770492,
          0.9836065573770492,
          0.9836065573770492
         ]
        },
        {
         "marker": {
          "color": "black"
         },
         "name": "Now",
         "r": [
          0,
          1
         ],
         "text": [
          "Today",
          "Today"
         ],
         "theta": [
          214.90238176506148,
          214.90238176506148
         ],
         "type": "scatterpolar"
        }
       ],
       "layout": {
        "autosize": true,
        "polar": {
         "angularaxis": {
          "rotation": -90,
          "showticklabels": true,
          "ticks": "outside",
          "ticktext": [
           "January",
           "February",
           "March",
           "April",
           "May",
           "June",
           "July",
           "August",
           "September",
           "October",
           "November",
           "December"
          ],
          "tickvals": [
           0,
           30.491803278688526,
           59.016393442622956,
           89.4672131147541,
           118.97540983606558,
           149.46721311475412,
           178.97540983606558,
           209.46721311475412,
           239.95901639344265,
           269.4672131147541,
           299.9590163934426,
           329.5081967213115
          ],
          "type": "linear"
         },
         "radialaxis": {
          "autorange": true,
          "range": [
           0,
           1.008008542445275
          ],
          "showticklabels": false,
          "ticks": "",
          "tickvals": [
           [
            0.8,
            0.7,
            0.6,
            0.5
           ]
          ],
          "type": "linear"
         }
        },
        "template": {}
       }
      },
      "image/png": "[encoded data removed]",
      "text/html": [
       "<div>                            <div id=\"da4a60c5-6a18-4a88-a4ab-18d8bb12cee7\" class=\"plotly-graph-div\" style=\"height:1200px; width:100%;\"></div>            <script type=\"text/javascript\">                require([\"plotly\"], function(Plotly) {                    window.PLOTLYENV=window.PLOTLYENV || {};                                    if (document.getElementById(\"da4a60c5-6a18-4a88-a4ab-18d8bb12cee7\")) {                    Plotly.newPlot(                        \"da4a60c5-6a18-4a88-a4ab-18d8bb12cee7\",                        [{\"base\":[0.7,0.6,0.6,0.6,0.7,0.6,0.6,0.6,0.6,0.7,0.7,0.7,0.6,0.6,0.7,0.7,0.7,0.7,0.7,0.7,0.7,0.6,0.7,0.7,0.6,0.7,0.7,0.7,0.7,0.7,0.7],\"customdata\":[[\"2024-01-01T00:00:00-05:00\",\"2024-01-02T00:00:00-05:00\"],[\"2024-01-03T00:00:00-05:00\",\"2024-01-05T00:00:00-05:00\"],[\"2024-04-21T00:00:00-04:00\",\"2024-04-23T00:00:00-04:00\"],[\"2024-08-11T00:00:00-04:00\",\"2024-08-13T00:00:00-04:00\"],[\"2024-09-22T00:00:00-04:00\",\"2024-09-23T00:00:00-04:00\"],[\"2024-10-20T00:00:00-04:00\",\"2024-10-22T00:00:00-04:00\"],[\"2024-11-16T00:00:00-05:00\",\"2024-11-18T00:00:00-05:00\"],[\"2024-12-13T00:00:00-05:00\",\"2024-12-15T00:00:00-05:00\"],[\"2024-12-21T00:00:00-05:00\",\"2024-12-23T00:00:00-05:00\"],[\"2024-12-21T00:00:00-05:00\",\"2024-12-22T00:00:00-05:00\"],[\"2024-12-30T00:00:00-05:00\",\"2024-12-31T00:00:00-05:00\"],[\"2024-09-17T00:00:00-04:00\",\"2024-09-18T00:00:00-04:00\"],[\"2024-10-12T00:00:00-04:00\",\"2024-10-14T00:00:00-04:00\"],[\"2024-01-02T00:00:00-05:00\",\"2024-01-04T00:00:00-05:00\"],[\"2024-01-08T00:00:00-05:00\",\"2024-01-09T00:00:00-05:00\"],[\"2024-01-18T00:00:00-05:00\",\"2024-01-19T00:00:00-05:00\"],[\"2024-01-19T00:00:00-05:00\",\"2024-01-20T00:00:00-05:00\"],[\"2024-02-16T00:00:00-05:00\",\"2024-02-17T00:00:00-05:00\"],[\"2024-02-15T00:00:00-05:00\",\"2024-02-16T00:00:00-05:00\"],[\"2024-02-22T00:00:00-05:00\",\"2024-02-23T00:00:00-05:00\"],[\"2024-03-19T00:00:00-04:00\",\"2024-03-20T00:00:00-04:00\"],[\"2024-03-24T00:00:00-04:00\",\"2024-03-26T00:00:00-04:00\"],[\"2024-04-08T00:00:00-04:00\",\"2024-04-09T00:00:00-04:00\"],[\"2024-04-21T00:00:00-04:00\",\"2024-04-22T00:00:00-04:00\"],[\"2024-05-04T00:00:00-04:00\",\"2024-05-06T00:00:00-04:00\"],[\"2024-05-03T00:00:00-04:00\",\"2024-05-04T00:00:00-04:00\"],[\"2024-06-05T00:00:00-04:00\",\"2024-06-06T00:00:00-04:00\"],[\"2024-06-20T00:00:00-04:00\",\"2024-06-21T00:00:00-04:00\"],[\"2024-07-05T00:00:00-04:00\",\"2024-07-06T00:00:00-04:00\"],[\"2024-07-09T00:00:00-04:00\",\"2024-07-10T00:00:00-04:00\"],[\"2024-07-30T00:00:00-04:00\",\"2024-07-31T00:00:00-04:00\"]],\"marker\":{\"color\":[\"#9fc6e7\",\"#9fc6e7\",\"#9fc6e7\",\"#9fc6e7\",\"#9fc6e7\",\"#9fc6e7\",\"#9fc6e7\",\"#9fc6e7\",\"#9fc6e7\",\"#9fc6e7\",\"#9fc6e7\",\"#9fc6e7\",\"#9fc6e7\",\"#9fc6e7\",\"#9fc6e7\",\"#9fc6e7\",\"#9fc6e7\",\"#9fc6e7\",\"#9fc6e7\",\"#9fc6e7\",\"#9fc6e7\",\"#9fc6e7\",\"#9fc6e7\",\"#9fc6e7\",\"#9fc6e7\",\"#9fc6e7\",\"#9fc6e7\",\"#9fc6e7\",\"#9fc6e7\",\"#9fc6e7\",\"#9fc6e7\"]},\"name\":\"NYT Astronomy and Space Calendar\",\"r\":[0.097,0.097,0.097,0.097,0.097,0.097,0.097,0.097,0.097,0.097,0.097,0.097,0.097,0.097,0.097,0.097,0.097,0.097,0.097,0.097,0.097,0.097,0.097,0.097,0.097,0.097,0.097,0.097,0.097,0.097,0.097],\"text\":[\"Happy New Year From Science Times\",\"The Quadrantid meteor shower will reach its peak.\",\"The Lyrid meteor shower will reach its peak.\",\"The Perseid meteor shower will reach its peak.\",\"Autumn is here.\",\"The Orionid meteor shower will reach its peak.\",\"The Leonid meteor shower will reach its peak.\",\"The Geminid meteor shower will reach its peak.\",\"The Ursid meteor shower will reach its peak.\",\"The winter solstice.\",\"Rocket Lab may launch a small probe to Venus.\",\"A partial lunar eclipse will be visible in the Western Hemisphere.\",\"A newly discovered comet makes its closest approach to Earth.\",\"Earth will be at its closest point to the sun\",\"The first flight of the Vulcan rocket sent a robotic lander toward the moon.\",\"Axiom Space may send a crew of Italian, Swedish and Turkish astronauts to the International Space Station.\",\"Japan\\u2019s SLIM moon lander may attempt to set down on the moon.\",\"Japan\\u2019s H3 rocket could attempt a successful flight to orbit.\",\"Intuitive Machines may launch a commercial lunar lander mission\",\"The Intuitive Machines spacecraft Odysseus will attempt to land on the moon.\",\"Spring is here.\",\" A penumbral eclipse will be visible across much of the Western and Eastern Hemispheres.\",\"A total solar eclipse will cross North America.\",\"Comet Pons-Brooks makes its closest approach to the sun.\",\"The Eta Aquarid meteor shower will reach its peak.\",\"China could launch the Chang\\u2019e-6 mission to the far side of the moon.\",\"NASA astronauts could fly to the International Space Station aboard Boeing\\u2019s Starliner spacecraft for the first time.\",\"The summer solstice.\",\"Earth is at its farthest point from the sun.\",\"The European Space Agency could attempt the first launch of the Ariane 6 rocket.\",\"Two meteor showers are reaching their peaks in the same week.\"],\"theta\":[0.49180327868852464,2.9508196721311477,110.12295081967213,220.28688524590166,261.10655737704917,289.1393442622951,315.7377049180328,342.29508196721315,350.1639344262295,349.672131147541,358.5245901639344,256.1885245901639,281.2704918032787,1.9672131147540985,7.3770491803278695,17.213114754098363,18.19672131147541,45.73770491803279,44.75409836065574,51.63934426229508,77.17213114754098,82.58196721311475,96.84426229508196,109.6311475409836,122.90983606557377,121.4344262295082,153.89344262295083,168.64754098360658,183.40163934426232,187.33606557377053,207.99180327868854],\"width\":[0.9836065573770492,1.9672131147540983,1.9672131147540983,1.9672131147540983,0.9836065573770492,1.9672131147540983,1.9672131147540983,1.9672131147540983,1.9672131147540983,0.9836065573770492,0.9836065573770492,0.9836065573770492,1.9672131147540983,1.9672131147540983,0.9836065573770492,0.9836065573770492,0.9836065573770492,0.9836065573770492,0.9836065573770492,0.9836065573770492,0.9836065573770492,1.9672131147540983,0.9836065573770492,0.9836065573770492,1.9672131147540983,0.9836065573770492,0.9836065573770492,0.9836065573770492,0.9836065573770492,0.9836065573770492,0.9836065573770492],\"type\":\"barpolar\",\"hovertemplate\":\"%{text}\\u003cbr\\u003eStart: %{customdata[0]|%Y\\u002f%m\\u002f%d %H:%M:%S.%L}\\u003cbr\\u003eEnd: %{customdata[1]|%Y\\u002f%m\\u002f%d %H:%M:%S.%L}\"},{\"base\":[0.7,0.7,0.7,0.7,0.7,0.7,0.7,0.7,0.7,0.7,0.7,0.7,0.7,0.7,0.7,0.7,0.7,0.7,0.7,0.7,0.7,0.7,0.7,0.7,0.7,0.7,0.7,0.7,0.7,0.7,0.7,0.7,0.6,0.7,0.7,0.6,0.8,0.8,0.7,0.7,0.7,0.7,0.8,0.8,0.8,0.8,0.8,0.8,0.8,0.8,0.8,0.8,0.8,0.8,0.8,0.8,0.8,0.8,0.8,0.8,0.8,0.8,0.8,0.8,0.7,0.8,0.8,0.8,0.8,0.8,0.8,0.8,0.8,0.8,0.6,0.8,0.8,0.8,0.8,0.8,0.8,0.8,0.8,0.8,0.6,0.8,0.8,0.8,0.8,0.8,0.8,0.8,0.8,0.8,0.8,0.8,0.8,0.8,0.8,0.8,0.8,0.8,0.8,0.8,0.8,0.8,0.8,0.8,0.8,0.8,0.8,0.8,0.8,0.8,0.8,0.8,0.8,0.8,0.8,0.8,0.8,0.8,0.8,0.8,0.8,0.8,0.8,0.8,0.8,0.8,0.8,0.8,0.8,0.8,0.8,0.8,0.8,0.8,0.8,0.8,0.8,0.8,0.8,0.8,0.8,0.8,0.8,0.8,0.8,0.8,0.8,0.8,0.8,0.8,0.8,0.8,0.8,0.8,0.8,0.8,0.8,0.8,0.8,0.8,0.8,0.7,0.8,0.8,0.8,0.8,0.8,0.8,0.8,0.8,0.8,0.8,0.8,0.8,0.8,0.8,0.8,0.8,0.8,0.8,0.8,0.8,0.8,0.8,0.8,0.8,0.8,0.8,0.8,0.8,0.8,0.8,0.8,0.8,0.8,0.8,0.8,0.8,0.8,0.8,0.8,0.8,0.8,0.8,0.8,0.8,0.8,0.8,0.8,0.8,0.8,0.8,0.8,0.8,0.8,0.8,0.8,0.8,0.8,0.8,0.8,0.8,0.8,0.8,0.8,0.8,0.8,0.8,0.8,0.8,0.8,0.8,0.8,0.8,0.8,0.8,0.8,0.8,0.8,0.8,0.7,0.8,0.6,0.8,0.8,0.8,0.8,0.8,0.5,0.8,0.8,0.8,0.8,0.8,0.8,0.7,0.7,0.8,0.8,0.8,0.8,0.8,0.8,0.8,0.8,0.8,0.8,0.8,0.8,0.8,0.8,0.8,0.8,0.8,0.8,0.8,0.8,0.8,0.7,0.8,0.8,0.8,0.8,0.8,0.8,0.8,0.8,0.8,0.6,0.6,0.8,0.8,0.8,0.8,0.8,0.8,0.8,0.8,0.8,0.8,0.8,0.8,0.8,0.8,0.8,0.8,0.8,0.8,0.8,0.8,0.8,0.8,0.8,0.8,0.8,0.7,0.8,0.8,0.8,0.8,0.8,0.8,0.8,0.8,0.8,0.8,0.8,0.8,0.8,0.8,0.8,0.8,0.6,0.7,0.8,0.8,0.8,0.8,0.8,0.8,0.8,0.8,0.8,0.8,0.8,0.8,0.8,0.8,0.8,0.8,0.8,0.8,0.8,0.8,0.8,0.8,0.8,0.8,0.8,0.8,0.8,0.8,0.8,0.8,0.8,0.8,0.8,0.8,0.8,0.8,0.8,0.8,0.8,0.8,0.8,0.8,0.8,0.8,0.8,0.8],\"customdata\":[[\"2024-02-01T00:00:00-05:00\",\"2024-02-02T00:00:00-05:00\"],[\"2024-05-01T00:00:00-04:00\",\"2024-05-02T00:00:00-04:00\"],[\"2024-08-01T00:00:00-04:00\",\"2024-08-02T00:00:00-04:00\"],[\"2024-11-01T00:00:00-04:00\",\"2024-11-02T00:00:00-04:00\"],[\"2024-01-01T00:00:00-05:00\",\"2024-01-02T00:00:00-05:00\"],[\"2024-01-15T00:00:00-05:00\",\"2024-01-16T00:00:00-05:00\"],[\"2024-01-29T00:00:00-05:00\",\"2024-01-30T00:00:00-05:00\"],[\"2024-02-12T00:00:00-05:00\",\"2024-02-13T00:00:00-05:00\"],[\"2024-02-26T00:00:00-05:00\",\"2024-02-27T00:00:00-05:00\"],[\"2024-03-11T00:00:00-04:00\",\"2024-03-12T00:00:00-04:00\"],[\"2024-03-25T00:00:00-04:00\",\"2024-03-26T00:00:00-04:00\"],[\"2024-04-08T00:00:00-04:00\",\"2024-04-09T00:00:00-04:00\"],[\"2024-04-22T00:00:00-04:00\",\"2024-04-23T00:00:00-04:00\"],[\"2024-05-06T00:00:00-04:00\",\"2024-05-07T00:00:00-04:00\"],[\"2024-05-20T00:00:00-04:00\",\"2024-05-21T00:00:00-04:00\"],[\"2024-06-03T00:00:00-04:00\",\"2024-06-04T00:00:00-04:00\"],[\"2024-06-17T00:00:00-04:00\",\"2024-06-18T00:00:00-04:00\"],[\"2024-07-01T00:00:00-04:00\",\"2024-07-02T00:00:00-04:00\"],[\"2024-07-15T00:00:00-04:00\",\"2024-07-16T00:00:00-04:00\"],[\"2024-07-29T00:00:00-04:00\",\"2024-07-30T00:00:00-04:00\"],[\"2024-08-12T00:00:00-04:00\",\"2024-08-13T00:00:00-04:00\"],[\"2024-08-26T00:00:00-04:00\",\"2024-08-27T00:00:00-04:00\"],[\"2024-09-09T00:00:00-04:00\",\"2024-09-10T00:00:00-04:00\"],[\"2024-09-23T00:00:00-04:00\",\"2024-09-24T00:00:00-04:00\"],[\"2024-10-07T00:00:00-04:00\",\"2024-10-08T00:00:00-04:00\"],[\"2024-10-21T00:00:00-04:00\",\"2024-10-22T00:00:00-04:00\"],[\"2024-11-04T00:00:00-05:00\",\"2024-11-05T00:00:00-05:00\"],[\"2024-11-18T00:00:00-05:00\",\"2024-11-19T00:00:00-05:00\"],[\"2024-12-02T00:00:00-05:00\",\"2024-12-03T00:00:00-05:00\"],[\"2024-12-16T00:00:00-05:00\",\"2024-12-17T00:00:00-05:00\"],[\"2024-12-30T00:00:00-05:00\",\"2024-12-31T00:00:00-05:00\"],[\"2024-03-22T00:00:00-04:00\",\"2024-03-23T00:00:00-04:00\"],[\"2024-06-03T00:00:00-04:00\",\"2024-06-08T00:00:00-04:00\"],[\"2024-12-06T00:00:00-05:00\",\"2024-12-07T00:00:00-05:00\"],[\"2024-02-10T00:00:00-05:00\",\"2024-02-11T00:00:00-05:00\"],[\"2024-06-03T00:00:00-04:00\",\"2024-06-05T00:00:00-04:00\"],[\"2024-01-25T19:30:00-05:00\",\"2024-01-25T20:30:00-05:00\"],[\"2024-01-25T19:30:00-05:00\",\"2024-01-25T20:30:00-05:00\"],[\"2024-01-11T00:00:00-05:00\",\"2024-01-12T00:00:00-05:00\"],[\"2024-02-01T00:00:00-05:00\",\"2024-02-02T00:00:00-05:00\"],[\"2024-11-01T00:00:00-04:00\",\"2024-11-02T00:00:00-04:00\"],[\"2024-01-22T00:00:00-05:00\",\"2024-01-23T00:00:00-05:00\"],[\"2024-01-09T11:30:00-05:00\",\"2024-01-09T12:30:00-05:00\"],[\"2024-01-05T12:00:00-05:00\",\"2024-01-05T13:00:00-05:00\"],[\"2024-01-09T11:30:00-05:00\",\"2024-01-09T12:30:00-05:00\"],[\"2024-01-05T13:00:00-05:00\",\"2024-01-05T14:00:00-05:00\"],[\"2024-01-12T15:00:00-05:00\",\"2024-01-12T15:45:00-05:00\"],[\"2024-01-12T13:30:00-05:00\",\"2024-01-12T14:15:00-05:00\"],[\"2024-04-05T15:00:00-04:00\",\"2024-04-05T15:45:00-04:00\"],[\"2024-01-13T17:00:00-05:00\",\"2024-01-13T21:00:00-05:00\"],[\"2024-01-15T09:30:00-05:00\",\"2024-01-15T11:00:00-05:00\"],[\"2024-01-17T14:00:00-05:00\",\"2024-01-17T15:00:00-05:00\"],[\"2024-01-17T14:00:00-05:00\",\"2024-01-17T15:00:00-05:00\"],[\"2024-01-17T14:00:00-05:00\",\"2024-01-17T15:00:00-05:00\"],[\"2024-01-23T10:30:00-05:00\",\"2024-01-23T11:30:00-05:00\"],[\"2024-01-22T13:15:00-05:00\",\"2024-01-22T14:00:00-05:00\"],[\"2024-01-19T10:15:00-05:00\",\"2024-01-19T11:00:00-05:00\"],[\"2024-01-26T15:00:00-05:00\",\"2024-01-26T15:45:00-05:00\"],[\"2024-01-26T14:00:00-05:00\",\"2024-01-26T17:00:00-05:00\"],[\"2024-04-02T18:30:00-04:00\",\"2024-04-02T19:30:00-04:00\"],[\"2024-01-24T12:00:00-05:00\",\"2024-01-24T13:00:00-05:00\"],[\"2024-01-25T11:00:00-05:00\",\"2024-01-25T12:00:00-05:00\"],[\"2024-01-24T15:15:00-05:00\",\"2024-01-24T15:45:00-05:00\"],[\"2024-01-29T13:00:00-05:00\",\"2024-01-29T14:00:00-05:00\"],[\"2024-03-01T00:00:00-05:00\",\"2024-03-02T00:00:00-05:00\"],[\"2024-01-30T11:00:00-05:00\",\"2024-01-30T12:15:00-05:00\"],[\"2024-03-27T18:30:00-04:00\",\"2024-03-27T19:30:00-04:00\"],[\"2024-01-30T16:00:00-05:00\",\"2024-01-30T17:00:00-05:00\"],[\"2024-01-29T16:00:00-05:00\",\"2024-01-29T16:45:00-05:00\"],[\"2024-01-31T10:00:00-05:00\",\"2024-01-31T11:00:00-05:00\"],[\"2024-03-06T14:00:00-05:00\",\"2024-03-06T14:45:00-05:00\"],[\"2024-02-07T15:30:00-05:00\",\"2024-02-07T16:15:00-05:00\"],[\"2024-03-22T14:00:00-04:00\",\"2024-03-22T16:00:00-04:00\"],[\"2024-02-02T13:30:00-05:00\",\"2024-02-02T14:30:00-05:00\"],[\"2024-03-25T00:00:00-04:00\",\"2024-03-29T00:00:00-04:00\"],[\"2024-02-16T14:00:00-05:00\",\"2024-02-16T14:50:00-05:00\"],[\"2024-02-01T16:00:00-05:00\",\"2024-02-01T17:00:00-05:00\"],[\"2024-02-04T17:00:00-05:00\",\"2024-02-04T21:00:00-05:00\"],[\"2024-02-08T13:15:00-05:00\",\"2024-02-08T14:00:00-05:00\"],[\"2024-02-08T14:00:00-05:00\",\"2024-02-08T15:15:00-05:00\"],[\"2024-02-07T08:45:00-05:00\",\"2024-02-07T09:25:00-05:00\"],[\"2024-02-14T14:00:00-05:00\",\"2024-02-14T15:00:00-05:00\"],[\"2024-01-18T12:30:00-05:00\",\"2024-01-18T13:30:00-05:00\"],[\"2024-01-25T12:30:00-05:00\",\"2024-01-25T13:30:00-05:00\"],[\"2024-02-19T00:00:00-05:00\",\"2024-02-22T00:00:00-05:00\"],[\"2024-02-13T15:40:00-05:00\",\"2024-02-13T15:55:00-05:00\"],[\"2024-02-13T16:00:00-05:00\",\"2024-02-13T17:00:00-05:00\"],[\"2024-02-19T09:30:00-05:00\",\"2024-02-19T14:18:00-05:00\"],[\"2024-02-19T09:30:00-05:00\",\"2024-02-19T10:39:00-05:00\"],[\"2024-02-29T10:00:00-05:00\",\"2024-02-29T11:00:00-05:00\"],[\"2024-02-27T12:30:00-05:00\",\"2024-02-27T13:30:00-05:00\"],[\"2024-02-28T10:00:00-05:00\",\"2024-02-28T11:00:00-05:00\"],[\"2024-02-22T16:00:00-05:00\",\"2024-02-22T17:00:00-05:00\"],[\"2024-02-15T16:00:00-05:00\",\"2024-02-15T17:00:00-05:00\"],[\"2024-02-13T11:30:00-05:00\",\"2024-02-13T13:00:00-05:00\"],[\"2024-02-21T12:00:00-05:00\",\"2024-02-21T14:18:00-05:00\"],[\"2024-02-21T13:30:00-05:00\",\"2024-02-21T14:00:00-05:00\"],[\"2024-02-29T12:30:00-05:00\",\"2024-02-29T13:45:00-05:00\"],[\"2024-02-28T18:15:00-05:00\",\"2024-02-28T19:00:00-05:00\"],[\"2024-02-23T14:00:00-05:00\",\"2024-02-23T15:00:00-05:00\"],[\"2024-02-23T15:45:00-05:00\",\"2024-02-23T16:30:00-05:00\"],[\"2024-02-23T16:30:00-05:00\",\"2024-02-23T17:00:00-05:00\"],[\"2024-02-27T11:00:00-05:00\",\"2024-02-27T12:15:00-05:00\"],[\"2024-02-29T14:00:00-05:00\",\"2024-02-29T15:15:00-05:00\"],[\"2024-02-27T10:15:00-05:00\",\"2024-02-27T11:00:00-05:00\"],[\"2024-02-28T09:15:00-05:00\",\"2024-02-28T10:00:00-05:00\"],[\"2024-03-01T10:00:00-05:00\",\"2024-03-01T11:00:00-05:00\"],[\"2024-03-01T09:15:00-05:00\",\"2024-03-01T10:00:00-05:00\"],[\"2024-02-26T14:30:00-05:00\",\"2024-02-26T15:15:00-05:00\"],[\"2024-03-06T10:00:00-05:00\",\"2024-03-06T11:00:00-05:00\"],[\"2024-03-11T16:00:00-04:00\",\"2024-03-11T17:00:00-04:00\"],[\"2024-03-11T10:30:00-04:00\",\"2024-03-11T11:30:00-04:00\"],[\"2024-03-05T12:00:00-05:00\",\"2024-03-05T13:00:00-05:00\"],[\"2024-01-16T14:00:00-05:00\",\"2024-01-16T15:00:00-05:00\"],[\"2024-01-23T14:00:00-05:00\",\"2024-01-23T15:00:00-05:00\"],[\"2024-02-06T14:00:00-05:00\",\"2024-02-06T15:00:00-05:00\"],[\"2024-02-27T14:00:00-05:00\",\"2024-02-27T15:00:00-05:00\"],[\"2024-02-13T14:00:00-05:00\",\"2024-02-13T15:00:00-05:00\"],[\"2024-02-20T14:00:00-05:00\",\"2024-02-20T15:00:00-05:00\"],[\"2024-03-05T16:00:00-05:00\",\"2024-03-05T17:00:00-05:00\"],[\"2024-02-29T16:00:00-05:00\",\"2024-02-29T17:00:00-05:00\"],[\"2024-03-07T11:00:00-05:00\",\"2024-03-07T12:00:00-05:00\"],[\"2024-04-20T09:00:00-04:00\",\"2024-04-20T15:00:00-04:00\"],[\"2024-03-20T14:15:00-04:00\",\"2024-03-20T15:00:00-04:00\"],[\"2024-03-11T13:00:00-04:00\",\"2024-03-11T14:00:00-04:00\"],[\"2024-03-13T12:50:00-04:00\",\"2024-03-13T16:20:00-04:00\"],[\"2024-03-13T11:45:00-04:00\",\"2024-03-13T12:45:00-04:00\"],[\"2024-03-13T12:45:00-04:00\",\"2024-03-13T15:45:00-04:00\"],[\"2024-03-11T13:00:00-04:00\",\"2024-03-11T14:00:00-04:00\"],[\"2024-03-27T15:00:00-04:00\",\"2024-03-27T15:45:00-04:00\"],[\"2024-03-18T15:00:00-04:00\",\"2024-03-18T15:30:00-04:00\"],[\"2024-03-15T15:00:00-04:00\",\"2024-03-15T15:45:00-04:00\"],[\"2024-03-22T12:00:00-04:00\",\"2024-03-22T13:00:00-04:00\"],[\"2024-04-04T18:00:00-04:00\",\"2024-04-04T19:00:00-04:00\"],[\"2024-03-21T14:30:00-04:00\",\"2024-03-21T15:30:00-04:00\"],[\"2024-03-21T13:15:00-04:00\",\"2024-03-21T14:00:00-04:00\"],[\"2024-03-28T14:00:00-04:00\",\"2024-03-28T15:30:00-04:00\"],[\"2024-03-28T12:30:00-04:00\",\"2024-03-28T13:30:00-04:00\"],[\"2024-04-01T13:30:00-04:00\",\"2024-04-01T14:00:00-04:00\"],[\"2024-03-26T16:00:00-04:00\",\"2024-03-26T17:00:00-04:00\"],[\"2024-03-25T12:00:00-04:00\",\"2024-03-25T13:30:00-04:00\"],[\"2024-04-29T10:00:00-04:00\",\"2024-04-29T17:00:00-04:00\"],[\"2024-04-07T13:00:00-04:00\",\"2024-04-07T13:30:00-04:00\"],[\"2024-04-17T13:00:00-04:00\",\"2024-04-17T17:00:00-04:00\"],[\"2024-01-16T12:30:00-05:00\",\"2024-01-16T13:30:00-05:00\"],[\"2024-01-23T12:30:00-05:00\",\"2024-01-23T13:30:00-05:00\"],[\"2024-02-06T12:30:00-05:00\",\"2024-02-06T13:30:00-05:00\"],[\"2024-01-30T12:30:00-05:00\",\"2024-01-30T13:30:00-05:00\"],[\"2024-02-13T12:30:00-05:00\",\"2024-02-13T13:30:00-05:00\"],[\"2024-02-20T12:30:00-05:00\",\"2024-02-20T13:30:00-05:00\"],[\"2024-02-27T12:30:00-05:00\",\"2024-02-27T13:30:00-05:00\"],[\"2024-03-05T12:30:00-05:00\",\"2024-03-05T13:30:00-05:00\"],[\"2024-03-12T12:30:00-04:00\",\"2024-03-12T13:30:00-04:00\"],[\"2024-03-19T12:30:00-04:00\",\"2024-03-19T13:30:00-04:00\"],[\"2024-03-26T12:30:00-04:00\",\"2024-03-26T13:30:00-04:00\"],[\"2024-04-02T12:30:00-04:00\",\"2024-04-02T13:30:00-04:00\"],[\"2024-04-09T12:30:00-04:00\",\"2024-04-09T13:30:00-04:00\"],[\"2024-04-23T12:30:00-04:00\",\"2024-04-23T13:30:00-04:00\"],[\"2024-04-16T12:30:00-04:00\",\"2024-04-16T13:30:00-04:00\"],[\"2024-04-23T12:30:00-04:00\",\"2024-04-23T13:45:00-04:00\"],[\"2024-04-25T14:15:00-04:00\",\"2024-04-25T15:00:00-04:00\"],[\"2024-04-25T09:30:00-04:00\",\"2024-04-25T10:45:00-04:00\"],[\"2024-04-23T10:45:00-04:00\",\"2024-04-23T11:30:00-04:00\"],[\"2024-04-18T09:00:00-04:00\",\"2024-04-18T17:00:00-04:00\"],[\"2024-04-19T09:00:00-04:00\",\"2024-04-19T17:15:00-04:00\"],[\"2024-04-23T00:00:00-04:00\",\"2024-04-24T00:00:00-04:00\"],[\"2024-04-29T17:00:00-04:00\",\"2024-04-29T18:00:00-04:00\"],[\"2024-04-23T10:00:00-04:00\",\"2024-04-23T10:45:00-04:00\"],[\"2024-02-01T12:30:00-05:00\",\"2024-02-01T13:30:00-05:00\"],[\"2024-02-08T12:30:00-05:00\",\"2024-02-08T13:30:00-05:00\"],[\"2024-02-15T12:30:00-05:00\",\"2024-02-15T13:30:00-05:00\"],[\"2024-02-29T12:30:00-05:00\",\"2024-02-29T13:30:00-05:00\"],[\"2024-03-07T12:30:00-05:00\",\"2024-03-07T13:30:00-05:00\"],[\"2024-03-14T12:30:00-04:00\",\"2024-03-14T13:30:00-04:00\"],[\"2024-03-21T12:30:00-04:00\",\"2024-03-21T13:30:00-04:00\"],[\"2024-03-28T12:30:00-04:00\",\"2024-03-28T13:30:00-04:00\"],[\"2024-04-04T12:30:00-04:00\",\"2024-04-04T13:30:00-04:00\"],[\"2024-04-11T12:30:00-04:00\",\"2024-04-11T13:30:00-04:00\"],[\"2024-04-18T12:30:00-04:00\",\"2024-04-18T13:30:00-04:00\"],[\"2024-04-25T15:50:00-04:00\",\"2024-04-25T16:50:00-04:00\"],[\"2024-04-25T15:15:00-04:00\",\"2024-04-25T15:45:00-04:00\"],[\"2024-04-24T16:00:00-04:00\",\"2024-04-24T17:00:00-04:00\"],[\"2024-04-24T15:30:00-04:00\",\"2024-04-24T16:00:00-04:00\"],[\"2024-04-24T14:00:00-04:00\",\"2024-04-24T15:00:00-04:00\"],[\"2024-04-24T10:00:00-04:00\",\"2024-04-24T10:45:00-04:00\"],[\"2024-05-16T14:00:00-04:00\",\"2024-05-16T15:00:00-04:00\"],[\"2024-05-16T13:30:00-04:00\",\"2024-05-16T14:00:00-04:00\"],[\"2024-05-13T14:00:00-04:00\",\"2024-05-13T16:00:00-04:00\"],[\"2024-04-30T12:30:00-04:00\",\"2024-04-30T13:30:00-04:00\"],[\"2024-04-30T10:15:00-04:00\",\"2024-04-30T16:45:00-04:00\"],[\"2024-05-01T10:15:00-04:00\",\"2024-05-01T16:45:00-04:00\"],[\"2024-05-02T10:15:00-04:00\",\"2024-05-02T16:45:00-04:00\"],[\"2024-01-17T15:00:00-05:00\",\"2024-01-17T15:30:00-05:00\"],[\"2024-01-24T15:00:00-05:00\",\"2024-01-24T15:30:00-05:00\"],[\"2024-01-31T15:00:00-05:00\",\"2024-01-31T15:30:00-05:00\"],[\"2024-02-07T15:00:00-05:00\",\"2024-02-07T15:30:00-05:00\"],[\"2024-02-14T15:00:00-05:00\",\"2024-02-14T15:30:00-05:00\"],[\"2024-02-21T15:00:00-05:00\",\"2024-02-21T15:30:00-05:00\"],[\"2024-02-28T15:00:00-05:00\",\"2024-02-28T15:30:00-05:00\"],[\"2024-03-06T15:00:00-05:00\",\"2024-03-06T15:30:00-05:00\"],[\"2024-03-13T15:00:00-04:00\",\"2024-03-13T15:30:00-04:00\"],[\"2024-03-20T15:00:00-04:00\",\"2024-03-20T15:30:00-04:00\"],[\"2024-03-27T15:00:00-04:00\",\"2024-03-27T15:30:00-04:00\"],[\"2024-04-03T15:00:00-04:00\",\"2024-04-03T15:30:00-04:00\"],[\"2024-04-10T15:00:00-04:00\",\"2024-04-10T15:30:00-04:00\"],[\"2024-04-17T15:00:00-04:00\",\"2024-04-17T15:30:00-04:00\"],[\"2024-05-01T15:00:00-04:00\",\"2024-05-01T15:30:00-04:00\"],[\"2024-04-23T12:00:00-04:00\",\"2024-04-23T13:30:00-04:00\"],[\"2024-02-06T13:45:00-05:00\",\"2024-02-06T14:00:00-05:00\"],[\"2024-02-13T13:45:00-05:00\",\"2024-02-13T14:00:00-05:00\"],[\"2024-02-20T13:45:00-05:00\",\"2024-02-20T14:00:00-05:00\"],[\"2024-02-27T13:45:00-05:00\",\"2024-02-27T14:00:00-05:00\"],[\"2024-03-05T13:45:00-05:00\",\"2024-03-05T14:00:00-05:00\"],[\"2024-03-19T13:45:00-04:00\",\"2024-03-19T14:00:00-04:00\"],[\"2024-04-02T13:45:00-04:00\",\"2024-04-02T14:00:00-04:00\"],[\"2024-04-09T13:45:00-04:00\",\"2024-04-09T14:00:00-04:00\"],[\"2024-04-16T13:45:00-04:00\",\"2024-04-16T14:00:00-04:00\"],[\"2024-04-23T13:45:00-04:00\",\"2024-04-23T14:00:00-04:00\"],[\"2024-04-30T13:45:00-04:00\",\"2024-04-30T14:00:00-04:00\"],[\"2024-05-09T15:30:00-04:00\",\"2024-05-09T16:30:00-04:00\"],[\"2024-05-08T14:30:00-04:00\",\"2024-05-08T15:15:00-04:00\"],[\"2024-01-17T12:30:00-05:00\",\"2024-01-17T13:30:00-05:00\"],[\"2024-01-24T12:30:00-05:00\",\"2024-01-24T13:30:00-05:00\"],[\"2024-01-31T12:30:00-05:00\",\"2024-01-31T13:30:00-05:00\"],[\"2024-02-07T12:30:00-05:00\",\"2024-02-07T13:30:00-05:00\"],[\"2024-02-14T12:30:00-05:00\",\"2024-02-14T13:30:00-05:00\"],[\"2024-02-21T12:30:00-05:00\",\"2024-02-21T13:30:00-05:00\"],[\"2024-02-28T12:30:00-05:00\",\"2024-02-28T13:30:00-05:00\"],[\"2024-03-06T12:30:00-05:00\",\"2024-03-06T13:30:00-05:00\"],[\"2024-03-13T12:30:00-04:00\",\"2024-03-13T13:30:00-04:00\"],[\"2024-03-20T12:30:00-04:00\",\"2024-03-20T13:30:00-04:00\"],[\"2024-03-27T12:30:00-04:00\",\"2024-03-27T13:30:00-04:00\"],[\"2024-04-03T12:30:00-04:00\",\"2024-04-03T13:30:00-04:00\"],[\"2024-04-10T12:30:00-04:00\",\"2024-04-10T13:30:00-04:00\"],[\"2024-04-17T12:30:00-04:00\",\"2024-04-17T13:30:00-04:00\"],[\"2024-04-24T12:30:00-04:00\",\"2024-04-24T13:30:00-04:00\"],[\"2024-05-01T12:30:00-04:00\",\"2024-05-01T13:30:00-04:00\"],[\"2024-03-05T14:00:00-05:00\",\"2024-03-05T15:00:00-05:00\"],[\"2024-05-14T10:40:00-04:00\",\"2024-05-14T11:40:00-04:00\"],[\"2024-05-14T10:00:00-04:00\",\"2024-05-14T10:45:00-04:00\"],[\"2024-05-16T15:30:00-04:00\",\"2024-05-16T17:00:00-04:00\"],[\"2024-05-17T12:45:00-04:00\",\"2024-05-17T13:30:00-04:00\"],[\"2024-05-15T13:30:00-04:00\",\"2024-05-15T15:30:00-04:00\"],[\"2024-06-03T10:30:00-04:00\",\"2024-06-03T11:00:00-04:00\"],[\"2024-09-13T00:00:00-04:00\",\"2024-09-14T00:00:00-04:00\"],[\"2024-05-18T13:00:00-04:00\",\"2024-05-18T14:00:00-04:00\"],[\"2024-09-04T00:00:00-04:00\",\"2024-09-07T00:00:00-04:00\"],[\"2024-05-23T09:00:00-04:00\",\"2024-05-23T10:00:00-04:00\"],[\"2024-05-23T14:00:00-04:00\",\"2024-05-23T15:00:00-04:00\"],[\"2024-05-24T08:00:00-04:00\",\"2024-05-24T15:00:00-04:00\"],[\"2024-05-20T12:00:00-04:00\",\"2024-05-20T13:30:00-04:00\"],[\"2024-12-06T17:00:00-05:00\",\"2024-12-06T22:00:00-05:00\"],[\"2024-06-10T00:00:00-04:00\",\"2024-07-30T00:00:00-04:00\"],[\"2024-04-09T14:00:00-04:00\",\"2024-04-09T15:00:00-04:00\"],[\"2024-03-26T14:00:00-04:00\",\"2024-03-26T15:00:00-04:00\"],[\"2024-04-02T14:00:00-04:00\",\"2024-04-02T15:00:00-04:00\"],[\"2024-04-16T14:00:00-04:00\",\"2024-04-16T15:00:00-04:00\"],[\"2024-04-23T14:00:00-04:00\",\"2024-04-23T15:00:00-04:00\"],[\"2024-04-30T14:00:00-04:00\",\"2024-04-30T15:00:00-04:00\"],[\"2024-06-17T00:00:00-04:00\",\"2024-06-18T00:00:00-04:00\"],[\"2024-06-18T00:00:00-04:00\",\"2024-06-19T00:00:00-04:00\"],[\"2024-05-22T11:30:00-04:00\",\"2024-05-22T14:00:00-04:00\"],[\"2024-05-24T16:00:00-04:00\",\"2024-05-24T17:00:00-04:00\"],[\"2024-06-05T10:30:00-04:00\",\"2024-06-05T11:30:00-04:00\"],[\"2024-06-03T13:30:00-04:00\",\"2024-06-03T14:00:00-04:00\"],[\"2024-06-05T15:00:00-04:00\",\"2024-06-05T16:00:00-04:00\"],[\"2024-06-05T14:30:00-04:00\",\"2024-06-05T15:00:00-04:00\"],[\"2024-06-05T09:30:00-04:00\",\"2024-06-05T10:00:00-04:00\"],[\"2024-06-04T10:30:00-04:00\",\"2024-06-04T11:30:00-04:00\"],[\"2024-06-04T10:00:00-04:00\",\"2024-06-04T10:30:00-04:00\"],[\"2024-06-04T16:30:00-04:00\",\"2024-06-04T17:30:00-04:00\"],[\"2024-06-04T15:30:00-04:00\",\"2024-06-04T16:30:00-04:00\"],[\"2024-06-02T19:30:00-04:00\",\"2024-06-02T20:30:00-04:00\"],[\"2024-06-25T14:00:00-04:00\",\"2024-06-25T15:00:00-04:00\"],[\"2024-08-28T09:45:00-04:00\",\"2024-08-28T10:30:00-04:00\"],[\"2024-06-12T10:00:00-04:00\",\"2024-06-12T12:00:00-04:00\"],[\"2024-06-11T09:00:00-04:00\",\"2024-06-11T11:00:00-04:00\"],[\"2024-06-10T12:00:00-04:00\",\"2024-06-10T13:30:00-04:00\"],[\"2024-06-11T09:00:00-04:00\",\"2024-06-11T11:00:00-04:00\"],[\"2024-06-11T11:30:00-04:00\",\"2024-06-11T12:30:00-04:00\"],[\"2024-06-12T10:00:00-04:00\",\"2024-06-12T11:00:00-04:00\"],[\"2024-06-13T15:30:00-04:00\",\"2024-06-13T16:30:00-04:00\"],[\"2024-07-20T00:00:00-04:00\",\"2024-07-21T00:00:00-04:00\"],[\"2024-06-13T11:00:00-04:00\",\"2024-06-13T12:00:00-04:00\"],[\"2024-06-28T18:30:00-04:00\",\"2024-06-28T19:30:00-04:00\"],[\"2024-06-14T14:30:00-04:00\",\"2024-06-14T15:30:00-04:00\"],[\"2024-06-25T10:00:00-04:00\",\"2024-06-25T11:00:00-04:00\"],[\"2024-06-26T14:00:00-04:00\",\"2024-06-26T15:00:00-04:00\"],[\"2024-06-27T11:30:00-04:00\",\"2024-06-27T12:30:00-04:00\"],[\"2024-06-26T15:30:00-04:00\",\"2024-06-26T16:30:00-04:00\"],[\"2024-06-25T16:00:00-04:00\",\"2024-06-25T17:00:00-04:00\"],[\"2024-06-25T15:30:00-04:00\",\"2024-06-25T16:00:00-04:00\"],[\"2024-06-16T00:00:00-04:00\",\"2024-06-19T00:00:00-04:00\"],[\"2024-06-18T00:00:00-04:00\",\"2024-06-21T00:00:00-04:00\"],[\"2024-06-27T15:30:00-04:00\",\"2024-06-27T16:30:00-04:00\"],[\"2024-06-27T09:00:00-04:00\",\"2024-06-27T10:30:00-04:00\"],[\"2024-05-07T14:00:00-04:00\",\"2024-05-07T15:00:00-04:00\"],[\"2024-05-14T14:00:00-04:00\",\"2024-05-14T15:00:00-04:00\"],[\"2024-05-21T14:00:00-04:00\",\"2024-05-21T15:00:00-04:00\"],[\"2024-05-28T14:00:00-04:00\",\"2024-05-28T15:00:00-04:00\"],[\"2024-06-04T14:00:00-04:00\",\"2024-06-04T15:00:00-04:00\"],[\"2024-06-11T14:00:00-04:00\",\"2024-06-11T15:00:00-04:00\"],[\"2024-06-18T14:00:00-04:00\",\"2024-06-18T15:00:00-04:00\"],[\"2024-07-10T11:00:00-04:00\",\"2024-07-10T12:00:00-04:00\"],[\"2024-07-10T08:30:00-04:00\",\"2024-07-10T17:00:00-04:00\"],[\"2024-07-09T08:30:00-04:00\",\"2024-07-09T17:00:00-04:00\"],[\"2024-07-19T11:30:00-04:00\",\"2024-07-19T13:00:00-04:00\"],[\"2024-07-11T08:30:00-04:00\",\"2024-07-11T12:30:00-04:00\"],[\"2024-07-11T14:00:00-04:00\",\"2024-07-11T15:00:00-04:00\"],[\"2024-07-15T15:00:00-04:00\",\"2024-07-15T16:00:00-04:00\"],[\"2024-07-29T14:00:00-04:00\",\"2024-07-29T15:00:00-04:00\"],[\"2024-07-17T18:00:00-04:00\",\"2024-07-17T19:00:00-04:00\"],[\"2024-07-23T15:15:00-04:00\",\"2024-07-23T16:00:00-04:00\"],[\"2024-07-23T11:00:00-04:00\",\"2024-07-23T11:30:00-04:00\"],[\"2024-07-26T12:00:00-04:00\",\"2024-07-26T13:30:00-04:00\"],[\"2024-06-18T11:59:00-04:00\",\"2024-06-18T17:00:00-04:00\"],[\"2024-06-16T20:30:00-04:00\",\"2024-06-16T23:55:00-04:00\"],[\"2024-06-20T12:30:00-04:00\",\"2024-06-20T15:05:00-04:00\"],[\"2024-09-05T16:30:00-04:00\",\"2024-09-05T19:00:00-04:00\"],[\"2024-08-03T00:00:00-04:00\",\"2024-08-04T00:00:00-04:00\"],[\"2024-01-19T12:30:00-05:00\",\"2024-01-19T14:00:00-05:00\"],[\"2024-02-23T12:30:00-05:00\",\"2024-02-23T14:00:00-05:00\"],[\"2024-04-05T12:30:00-04:00\",\"2024-04-05T14:00:00-04:00\"],[\"2024-05-03T12:30:00-04:00\",\"2024-05-03T14:00:00-04:00\"],[\"2024-08-20T15:15:00-04:00\",\"2024-08-20T16:00:00-04:00\"],[\"2024-06-25T14:00:00-04:00\",\"2024-06-25T15:00:00-04:00\"],[\"2024-07-02T14:00:00-04:00\",\"2024-07-02T15:00:00-04:00\"],[\"2024-07-09T14:00:00-04:00\",\"2024-07-09T15:00:00-04:00\"],[\"2024-07-16T14:00:00-04:00\",\"2024-07-16T15:00:00-04:00\"],[\"2024-07-23T14:00:00-04:00\",\"2024-07-23T15:00:00-04:00\"],[\"2024-07-30T14:00:00-04:00\",\"2024-07-30T15:00:00-04:00\"],[\"2024-08-06T14:00:00-04:00\",\"2024-08-06T15:00:00-04:00\"],[\"2024-08-13T14:00:00-04:00\",\"2024-08-13T15:00:00-04:00\"],[\"2024-08-20T14:00:00-04:00\",\"2024-08-20T15:00:00-04:00\"],[\"2024-08-21T14:00:00-04:00\",\"2024-08-21T15:30:00-04:00\"],[\"2024-08-07T14:00:00-04:00\",\"2024-08-07T14:45:00-04:00\"],[\"2024-10-22T00:00:00-04:00\",\"2024-10-27T00:00:00-04:00\"],[\"2024-09-09T00:00:00-04:00\",\"2024-09-10T00:00:00-04:00\"],[\"2024-08-28T12:30:00-04:00\",\"2024-08-28T13:30:00-04:00\"],[\"2024-09-04T12:30:00-04:00\",\"2024-09-04T13:30:00-04:00\"],[\"2024-10-23T12:30:00-04:00\",\"2024-10-23T13:30:00-04:00\"],[\"2024-09-11T12:30:00-04:00\",\"2024-09-11T13:30:00-04:00\"],[\"2024-09-18T12:30:00-04:00\",\"2024-09-18T13:30:00-04:00\"],[\"2024-09-25T12:30:00-04:00\",\"2024-09-25T13:30:00-04:00\"],[\"2024-10-02T12:30:00-04:00\",\"2024-10-02T13:30:00-04:00\"],[\"2024-10-09T12:30:00-04:00\",\"2024-10-09T13:30:00-04:00\"],[\"2024-10-16T12:30:00-04:00\",\"2024-10-16T13:30:00-04:00\"],[\"2024-10-30T12:30:00-04:00\",\"2024-10-30T13:30:00-04:00\"],[\"2024-11-06T12:30:00-05:00\",\"2024-11-06T13:30:00-05:00\"],[\"2024-11-13T12:30:00-05:00\",\"2024-11-13T13:30:00-05:00\"],[\"2024-11-20T12:30:00-05:00\",\"2024-11-20T13:30:00-05:00\"],[\"2024-11-27T12:30:00-05:00\",\"2024-11-27T13:30:00-05:00\"],[\"2024-12-04T12:30:00-05:00\",\"2024-12-04T13:30:00-05:00\"],[\"2024-12-11T12:30:00-05:00\",\"2024-12-11T13:30:00-05:00\"],[\"2024-08-30T12:30:00-04:00\",\"2024-08-30T14:00:00-04:00\"],[\"2024-06-14T12:00:00-04:00\",\"2024-06-14T13:00:00-04:00\"],[\"2024-06-21T12:00:00-04:00\",\"2024-06-21T13:00:00-04:00\"],[\"2024-06-28T12:00:00-04:00\",\"2024-06-28T13:00:00-04:00\"],[\"2024-07-05T12:00:00-04:00\",\"2024-07-05T13:00:00-04:00\"],[\"2024-07-12T12:00:00-04:00\",\"2024-07-12T13:00:00-04:00\"],[\"2024-07-19T12:00:00-04:00\",\"2024-07-19T13:00:00-04:00\"],[\"2024-07-26T12:00:00-04:00\",\"2024-07-26T13:00:00-04:00\"],[\"2024-08-02T12:00:00-04:00\",\"2024-08-02T13:00:00-04:00\"],[\"2024-08-09T12:00:00-04:00\",\"2024-08-09T13:00:00-04:00\"],[\"2024-08-16T12:00:00-04:00\",\"2024-08-16T13:00:00-04:00\"],[\"2024-08-23T12:00:00-04:00\",\"2024-08-23T13:00:00-04:00\"],[\"2024-08-27T12:30:00-04:00\",\"2024-08-27T13:30:00-04:00\"],[\"2024-09-03T12:30:00-04:00\",\"2024-09-03T13:30:00-04:00\"],[\"2024-09-10T12:30:00-04:00\",\"2024-09-10T13:30:00-04:00\"],[\"2024-09-17T12:30:00-04:00\",\"2024-09-17T13:30:00-04:00\"],[\"2024-09-24T12:30:00-04:00\",\"2024-09-24T13:30:00-04:00\"],[\"2024-10-01T12:30:00-04:00\",\"2024-10-01T13:30:00-04:00\"],[\"2024-10-08T12:30:00-04:00\",\"2024-10-08T13:30:00-04:00\"],[\"2024-10-15T12:30:00-04:00\",\"2024-10-15T13:30:00-04:00\"],[\"2024-10-22T12:30:00-04:00\",\"2024-10-22T13:30:00-04:00\"],[\"2024-10-29T12:30:00-04:00\",\"2024-10-29T13:30:00-04:00\"],[\"2024-11-05T12:30:00-05:00\",\"2024-11-05T13:30:00-05:00\"],[\"2024-11-12T12:30:00-05:00\",\"2024-11-12T13:30:00-05:00\"],[\"2024-11-19T12:30:00-05:00\",\"2024-11-19T13:30:00-05:00\"],[\"2024-11-26T12:30:00-05:00\",\"2024-11-26T13:30:00-05:00\"],[\"2024-12-03T12:30:00-05:00\",\"2024-12-03T13:30:00-05:00\"],[\"2024-12-10T12:30:00-05:00\",\"2024-12-10T13:30:00-05:00\"],[\"2024-09-04T17:00:00-04:00\",\"2024-09-04T19:00:00-04:00\"],[\"2024-08-12T14:00:00-04:00\",\"2024-08-12T15:00:00-04:00\"]],\"marker\":{\"color\":[\"#ffad46\",\"#ffad46\",\"#ffad46\",\"#ffad46\",\"#ffad46\",\"#ffad46\",\"#ffad46\",\"#ffad46\",\"#ffad46\",\"#ffad46\",\"#ffad46\",\"#ffad46\",\"#ffad46\",\"#ffad46\",\"#ffad46\",\"#ffad46\",\"#ffad46\",\"#ffad46\",\"#ffad46\",\"#ffad46\",\"#ffad46\",\"#ffad46\",\"#ffad46\",\"#ffad46\",\"#ffad46\",\"#ffad46\",\"#ffad46\",\"#ffad46\",\"#ffad46\",\"#ffad46\",\"#ffad46\",\"#ffad46\",\"#ffad46\",\"#ffad46\",\"#ffad46\",\"#ffad46\",\"#ffad46\",\"#ffad46\",\"#ffad46\",\"#ffad46\",\"#ffad46\",\"#ffad46\",\"#ffad46\",\"#ffad46\",\"#ffad46\",\"#ffad46\",\"#ffad46\",\"#ffad46\",\"#ffad46\",\"#ffad46\",\"#ffad46\",\"#ffad46\",\"#ffad46\",\"#ffad46\",\"#ffad46\",\"#ffad46\",\"#ffad46\",\"#ffad46\",\"#ffad46\",\"#ffad46\",\"#ffad46\",\"#ffad46\",\"#ffad46\",\"#ffad46\",\"#ffad46\",\"#ffad46\",\"#ffad46\",\"#ffad46\",\"#ffad46\",\"#ffad46\",\"#ffad46\",\"#ffad46\",\"#ffad46\",\"#ffad46\",\"#ffad46\",\"#ffad46\",\"#ffad46\",\"#ffad46\",\"#ffad46\",\"#ffad46\",\"#ffad46\",\"#ffad46\",\"#ffad46\",\"#ffad46\",\"#ffad46\",\"#ffad46\",\"#ffad46\",\"#ffad46\",\"#ffad46\",\"#ffad46\",\"#ffad46\",\"#ffad46\",\"#ffad46\",\"#ffad46\",\"#ffad46\",\"#ffad46\",\"#ffad46\",\"#ffad46\",\"#ffad46\",\"#ffad46\",\"#ffad46\",\"#ffad46\",\"#ffad46\",\"#ffad46\",\"#ffad46\",\"#ffad46\",\"#ffad46\",\"#ffad46\",\"#ffad46\",\"#ffad46\",\"#ffad46\",\"#ffad46\",\"#ffad46\",\"#ffad46\",\"#ffad46\",\"#ffad46\",\"#ffad46\",\"#ffad46\",\"#ffad46\",\"#ffad46\",\"#ffad46\",\"#ffad46\",\"#ffad46\",\"#ffad46\",\"#ffad46\",\"#ffad46\",\"#ffad46\",\"#ffad46\",\"#ffad46\",\"#ffad46\",\"#ffad46\",\"#ffad46\",\"#ffad46\",\"#ffad46\",\"#ffad46\",\"#ffad46\",\"#ffad46\",\"#ffad46\",\"#ffad46\",\"#ffad46\",\"#ffad46\",\"#ffad46\",\"#ffad46\",\"#ffad46\",\"#ffad46\",\"#ffad46\",\"#ffad46\",\"#ffad46\",\"#ffad46\",\"#ffad46\",\"#ffad46\",\"#ffad46\",\"#ffad46\",\"#ffad46\",\"#ffad46\",\"#ffad46\",\"#ffad46\",\"#ffad46\",\"#ffad46\",\"#ffad46\",\"#ffad46\",\"#ffad46\",\"#ffad46\",\"#ffad46\",\"#ffad46\",\"#ffad46\",\"#ffad46\",\"#ffad46\",\"#ffad46\",\"#ffad46\",\"#ffad46\",\"#ffad46\",\"#ffad46\",\"#ffad46\",\"#ffad46\",\"#ffad46\",\"#ffad46\",\"#ffad46\",\"#ffad46\",\"#ffad46\",\"#ffad46\",\"#ffad46\",\"#ffad46\",\"#ffad46\",\"#ffad46\",\"#ffad46\",\"#ffad46\",\"#ffad46\",\"#ffad46\",\"#ffad46\",\"#ffad46\",\"#ffad46\",\"#ffad46\",\"#ffad46\",\"#ffad46\",\"#ffad46\",\"#ffad46\",\"#ffad46\",\"#ffad46\",\"#ffad46\",\"#ffad46\",\"#ffad46\",\"#ffad46\",\"#ffad46\",\"#ffad46\",\"#ffad46\",\"#ffad46\",\"#ffad46\",\"#ffad46\",\"#ffad46\",\"#ffad46\",\"#ffad46\",\"#ffad46\",\"#ffad46\",\"#ffad46\",\"#ffad46\",\"#ffad46\",\"#ffad46\",\"#ffad46\",\"#ffad46\",\"#ffad46\",\"#ffad46\",\"#ffad46\",\"#ffad46\",\"#ffad46\",\"#ffad46\",\"#ffad46\",\"#ffad46\",\"#ffad46\",\"#ffad46\",\"#ffad46\",\"#ffad46\",\"#ffad46\",\"#ffad46\",\"#ffad46\",\"#ffad46\",\"#ffad46\",\"#ffad46\",\"#ffad46\",\"#ffad46\",\"#ffad46\",\"#ffad46\",\"#ffad46\",\"#ffad46\",\"#ffad46\",\"#ffad46\",\"#ffad46\",\"#ffad46\",\"#ffad46\",\"#ffad46\",\"#ffad46\",\"#ffad46\",\"#ffad46\",\"#ffad46\",\"#ffad46\",\"#ffad46\",\"#ffad46\",\"#ffad46\",\"#ffad46\",\"#ffad46\",\"#ffad46\",\"#ffad46\",\"#ffad46\",\"#ffad46\",\"#ffad46\",\"#ffad46\",\"#ffad46\",\"#ffad46\",\"#ffad46\",\"#ffad46\",\"#ffad46\",\"#ffad46\",\"#ffad46\",\"#ffad46\",\"#ffad46\",\"#ffad46\",\"#ffad46\",\"#ffad46\",\"#ffad46\",\"#ffad46\",\"#ffad46\",\"#ffad46\",\"#ffad46\",\"#ffad46\",\"#ffad46\",\"#ffad46\",\"#ffad46\",\"#ffad46\",\"#ffad46\",\"#ffad46\",\"#ffad46\",\"#ffad46\",\"#ffad46\",\"#ffad46\",\"#ffad46\",\"#ffad46\",\"#ffad46\",\"#ffad46\",\"#ffad46\",\"#ffad46\",\"#ffad46\",\"#ffad46\",\"#ffad46\",\"#ffad46\",\"#ffad46\",\"#ffad46\",\"#ffad46\",\"#ffad46\",\"#ffad46\",\"#ffad46\",\"#ffad46\",\"#ffad46\",\"#ffad46\",\"#ffad46\",\"#ffad46\",\"#ffad46\",\"#ffad46\",\"#ffad46\",\"#ffad46\",\"#ffad46\",\"#ffad46\",\"#ffad46\",\"#ffad46\",\"#ffad46\",\"#ffad46\",\"#ffad46\",\"#ffad46\",\"#ffad46\",\"#ffad46\",\"#ffad46\",\"#ffad46\",\"#ffad46\",\"#ffad46\",\"#ffad46\",\"#ffad46\",\"#ffad46\",\"#ffad46\",\"#ffad46\",\"#ffad46\",\"#ffad46\",\"#ffad46\",\"#ffad46\",\"#ffad46\",\"#ffad46\",\"#ffad46\",\"#ffad46\",\"#ffad46\",\"#ffad46\",\"#ffad46\",\"#ffad46\",\"#ffad46\",\"#ffad46\",\"#ffad46\",\"#ffad46\",\"#ffad46\",\"#ffad46\",\"#ffad46\",\"#ffad46\",\"#ffad46\",\"#ffad46\",\"#ffad46\",\"#ffad46\",\"#ffad46\",\"#ffad46\",\"#ffad46\",\"#ffad46\",\"#ffad46\",\"#ffad46\",\"#ffad46\",\"#ffad46\",\"#ffad46\",\"#ffad46\",\"#ffad46\",\"#ffad46\",\"#ffad46\",\"#ffad46\",\"#ffad46\",\"#ffad46\",\"#ffad46\",\"#ffad46\",\"#ffad46\",\"#ffad46\",\"#ffad46\",\"#ffad46\"]},\"name\":\"kdavis10@nd.edu\",\"r\":[0.097,0.097,0.097,0.097,0.097,0.097,0.097,0.097,0.097,0.097,0.097,0.097,0.097,0.097,0.097,0.097,0.097,0.097,0.097,0.097,0.097,0.097,0.097,0.097,0.097,0.097,0.097,0.097,0.097,0.097,0.097,0.097,0.097,0.097,0.097,0.097,0.097,0.097,0.097,0.097,0.097,0.097,0.097,0.097,0.097,0.097,0.097,0.097,0.097,0.097,0.097,0.097,0.097,0.097,0.097,0.097,0.097,0.097,0.097,0.097,0.097,0.097,0.097,0.097,0.097,0.097,0.097,0.097,0.097,0.097,0.097,0.097,0.097,0.097,0.097,0.097,0.097,0.097,0.097,0.097,0.097,0.097,0.097,0.097,0.097,0.097,0.097,0.097,0.097,0.097,0.097,0.097,0.097,0.097,0.097,0.097,0.097,0.097,0.097,0.097,0.097,0.097,0.097,0.097,0.097,0.097,0.097,0.097,0.097,0.097,0.097,0.097,0.097,0.097,0.097,0.097,0.097,0.097,0.097,0.097,0.097,0.097,0.097,0.097,0.097,0.097,0.097,0.097,0.097,0.097,0.097,0.097,0.097,0.097,0.097,0.097,0.097,0.097,0.097,0.097,0.097,0.097,0.097,0.097,0.097,0.097,0.097,0.097,0.097,0.097,0.097,0.097,0.097,0.097,0.097,0.097,0.097,0.097,0.097,0.097,0.097,0.097,0.097,0.097,0.097,0.097,0.097,0.097,0.097,0.097,0.097,0.097,0.097,0.097,0.097,0.097,0.097,0.097,0.097,0.097,0.097,0.097,0.097,0.097,0.097,0.097,0.097,0.097,0.097,0.097,0.097,0.097,0.097,0.097,0.097,0.097,0.097,0.097,0.097,0.097,0.097,0.097,0.097,0.097,0.097,0.097,0.097,0.097,0.097,0.097,0.097,0.097,0.097,0.097,0.097,0.097,0.097,0.097,0.097,0.097,0.097,0.097,0.097,0.097,0.097,0.097,0.097,0.097,0.097,0.097,0.097,0.097,0.097,0.097,0.097,0.097,0.097,0.097,0.097,0.097,0.097,0.097,0.097,0.097,0.097,0.097,0.097,0.097,0.097,0.097,0.097,0.097,0.097,0.097,0.097,0.097,0.097,0.097,0.097,0.097,0.097,0.097,0.097,0.097,0.097,0.097,0.097,0.097,0.097,0.097,0.097,0.097,0.097,0.097,0.097,0.097,0.097,0.097,0.097,0.097,0.097,0.097,0.097,0.097,0.097,0.097,0.097,0.097,0.097,0.097,0.097,0.097,0.097,0.097,0.097,0.097,0.097,0.097,0.097,0.097,0.097,0.097,0.097,0.097,0.097,0.097,0.097,0.097,0.097,0.097,0.097,0.097,0.097,0.097,0.097,0.097,0.097,0.097,0.097,0.097,0.097,0.097,0.097,0.097,0.097,0.097,0.097,0.097,0.097,0.097,0.097,0.097,0.097,0.097,0.097,0.097,0.097,0.097,0.097,0.097,0.097,0.097,0.097,0.097,0.097,0.097,0.097,0.097,0.097,0.097,0.097,0.097,0.097,0.097,0.097,0.097,0.097,0.097,0.097,0.097,0.097,0.097,0.097,0.097,0.097,0.097,0.097,0.097,0.097,0.097,0.097,0.097,0.097,0.097,0.097,0.097,0.097,0.097,0.097,0.097,0.097,0.097,0.097,0.097],\"text\":[\"GLPA News Due\",\"GLPA News Due\",\"GLPA News Due\",\"GLPA News Due\",\"Approve Hours\",\"Approve Hours\",\"Approve Hours\",\"Approve Hours\",\"Approve Hours\",\"Approve Hours\",\"Approve Hours\",\"Approve Hours\",\"Approve Hours\",\"Approve Hours\",\"Approve Hours\",\"Approve Hours\",\"Approve Hours\",\"Approve Hours\",\"Approve Hours\",\"Approve Hours\",\"Approve Hours\",\"Approve Hours\",\"Approve Hours\",\"Approve Hours\",\"Approve Hours\",\"Approve Hours\",\"Approve Hours\",\"Approve Hours\",\"Approve Hours\",\"Approve Hours\",\"Approve Hours\",\"WVPE Day\",\"Frontiers in Nuclear Astrophysics \",\"Christmas Lecture\",\"Science Alive\",\"Talk on Communicating Science.\",\"ILI Initiative\",\"ILI Initiative\",\"Arielle\\u2019s Talk\",\"Stephen Heritage REU recc letter\",\"call for proposal for \\u201cSummer Academy\\\"\",\"Annual scholarly report\",\"Meet over Library \\u002f ND Eclipse activities.\",\"Matt and Lucas Lunch interview with Keith\",\"Library ND Eclipse Activities\",\"Possible hold for Astrophysics discussion\",\"Eclipse stuff Keith and Deanna\",\"Fabio and Keith Zoom\",\"Eclipse update meeting\",\"Keith Davis' Zoom Meeting\",\"Astro Faculty Meeting\",\"Keith Davis\",\"DVT Upgrade Kickoff Zoom\",\"DVT Upgrade - RFP Kickoff Meeting\",\"Postdoc Coffee Hour with Keith Davis: Science Communication\",\"Meet over Chem\",\"Meet with DVT Students\",\"Eclipse update meeting\",\"Busy\",\"Lauren Weiss Talk\",\"Lunch\",\"DVT Upgrade - Project Touch Base\",\"Michelle\",\"Keith \\u002f Miguel data discussion\",\"Prospective Grad Visit\",\"Descriptive Astronomy - Prof. Garnavich out of Town (Planet Tracking Activity)\",\"Phil\\u2019s Eclipse talk\",\"Busy\",\"Keith Davis' Zoom Meeting\",\"Keith \\u002f Miguel github tutorial meeting?\",\"Eclipse update meeting\",\"Eclipse update meeting\",\"WVPE\",\"DVT Upgrade - Committee Meeting\",\"Release RFP\",\"Orbital and Space Dynamics - Karel Matous\",\"Physics Colloquium (PHYS73000) 118 NSH\",\"Keith Davis' Zoom Meeting\",\"Prep\",\"Phillippe Collon Physics of Civilication\",\"Prep\",\"DVT Upgrade - Committee Meeting\",\"Astro Journal Club\",\"Astro Journal Club\",\"Keith In Boston\",\"Travel\",\"therapy\",\"Flight# UA5309 from SBN -\\u003e ORD\\n (1 hour and 9 mins.)  Layover of 1 hour and 21 mins.  Flight# 2617 from ORD -\\u003e BOS\\n (2 hours and 18 mins.)\",\"Flight to Chicago (UA 5309)\",\"Furnace CHeckup.\",\"PT\",\"Beiger Elementary\",\"Physics Colloquium (PHYS73000) 118 NSH\",\"Physics Colloquium (PHYS73000) 118 NSH\",\"Physics & Astronomy LGBTQ\\u002fAlly Luncheon\",\"Flight to Boston (UA 2617)\",\"Discuss Eclipse Event - Irish Green\",\"Losecco cosmology\",\"Prep\",\"DVT Upgrade RFP Discussion\",\"Eclipse update meeting\",\"Discuss budget and plans for April 8 eclipse\",\"Eclipses for Desc Astro\",\"Descriptive Astronomy Prof. Beers out of Town\",\"Prep\",\"Pre[\",\"Stephen Piloting - Pierre Moran Middle and North Side Middle School\",\"Prep\",\"Eclipse - backup plan discussion\",\"DVT Upgrade RFP Committee Meeting\",\"therapy\",\"physical therapy\",\"Lunch w\\u002f Jeff\",\"Environmentally Dependent Galaxy Evolution weekly group meeting (Hybrid)\",\"Environmentally Dependent Galaxy Evolution weekly group meeting (Hybrid)\",\"Environmentally Dependent Galaxy Evolution weekly group meeting (Hybrid)\",\"Environmentally Dependent Galaxy Evolution weekly group meeting (Hybrid)\",\"Environmentally Dependent Galaxy Evolution weekly group meeting (Hybrid)\",\"Environmentally Dependent Galaxy Evolution weekly group meeting (Hybrid)\",\"Physics Colloquium (PHYS73000) 118 NSH\",\"Physics Colloquium (PHYS73000) 118 NSH\",\"Eclipse Stream Advance\",\"State Meeting\",\"Eclipse update meeting\",\"Meeting over display cases\",\"Dune 2\",\"Optional lunch with Jeff & Ken before the movie\",\"Dune 2 with Jeff & Ken\",\"Astrophysics case discussion\",\"Eclipse update meeting\",\"haircyt\",\"Eclipse update meeting\",\"meet with Adam about postdoc\",\"Digital Visualization Theater Presentation: \\u201cInto the Shadow\\u201d\",\"DVT Upgrade - RFP Meeting\",\"Eclipse meeting - 215 Jordan\",\"Final RFP Draft - DVT Upgrade Meeting\",\"Solar Telescope meeting. (weather dependent)\",\"DVT RFP chat\",\"Physics Colloquium (PHYS73000) 118 NSH\",\"LGBTQ\\u002fAlly Luncheon\",\"Jury Duty\",\"Eclipse Volunteer Q & A\",\"DVT Upgrade Bidder Conference & Walkthrough (Confirmed)\",\"Astrophysics Seminar (PHYS83200) 184 NSH\",\"Astrophysics Seminar (PHYS83200) 184 NSH\",\"Astrophysics Seminar (PHYS83200) 184 NSH\",\"Astrophysics Seminar (PHYS83200) 184 NSH\",\"Astrophysics Seminar (PHYS83200) 184 NSH\",\"Astrophysics Seminar (PHYS83200) 184 NSH\",\"Astrophysics Seminar (PHYS83200) 184 NSH\",\"Astrophysics Seminar (PHYS83200) 184 NSH\",\"Astrophysics Seminar (PHYS83200) 184 NSH\",\"Astrophysics Seminar (PHYS83200) 184 NSH\",\"Astrophysics Seminar (PHYS83200) 184 NSH\",\"Astrophysics Seminar (PHYS83200) 184 NSH\",\"Astrophysics Seminar (PHYS83200) 184 NSH\",\"Astrophysics Seminar (PHYS83200) 184 NSH\",\"Astrophysics Seminar (PHYS83200) 184 NSH\",\"Losecco Cosmology\",\"American Indian Catholic Schools Network\",\"Science Communications Class\",\"pt\",\"Busy\",\"Busy\",\"Q and A due from bidders\",\"Written responses\",\"Dr. Keith Davis Appointments (Sara Wheeler)\",\"Astro Journal Club\",\"Astro Journal Club\",\"Astro Journal Club\",\"Astro Journal Club\",\"Astro Journal Club\",\"Astro Journal Club\",\"Astro Journal Club\",\"Astro Journal Club\",\"Astro Journal Club\",\"Astro Journal Club\",\"Astro Journal Club\",\"Foot appointment\",\"Trvel\",\"therapy\",\"Travel\",\"DVT Upgrade RFP - Written Questions\",\"Dr. Keith Davis Appointments (Sara Wheeler)\",\"St. Vincent De Paul\",\"Prep\",\"DVT Upgrade RFP -Evaluation\",\"Astrophysics Seminar (PHYS83200) 184 NSH\",\"Jury Duty\",\"Jury Duty\",\"Jury Duty\",\"Colloquium Tea\",\"Colloquium Tea\",\"Colloquium Tea\",\"Colloquium Tea\",\"Colloquium Tea\",\"Colloquium Tea\",\"Colloquium Tea\",\"Colloquium Tea\",\"Colloquium Tea\",\"Colloquium Tea\",\"Colloquium Tea\",\"Colloquium Tea\",\"Colloquium Tea\",\"Colloquium Tea\",\"Colloquium Tea\",\"LGBTQ\\u002fAlly Luncheon\",\"Meet with Alex\",\"Meet with Alex\",\"Meet with Alex\",\"Meet with Alex\",\"Meet with Alex\",\"Meet with Alex\",\"Meet with Alex\",\"Meet with Alex\",\"Meet with Alex\",\"Meet with Alex\",\"Meet with Alex\",\"Lara \\u002f Keith\",\"Fabio \\u002f Keith\",\"Physics Colloquium (PHYS73000) 127 NSH\",\"Physics Colloquium (PHYS73000) 127 NSH\",\"Physics Colloquium (PHYS73000) 127 NSH\",\"Physics Colloquium (PHYS73000) 127 NSH\",\"Physics Colloquium (PHYS73000) 127 NSH\",\"Physics Colloquium (PHYS73000) 127 NSH\",\"Physics Colloquium (PHYS73000) 127 NSH\",\"Physics Colloquium (PHYS73000) 127 NSH\",\"Physics Colloquium (PHYS73000) 127 NSH\",\"Physics Colloquium (PHYS73000) 127 NSH\",\"Physics Colloquium (PHYS73000) 127 NSH\",\"Physics Colloquium (PHYS73000) 127 NSH\",\"Physics Colloquium (PHYS73000) 127 NSH\",\"Physics Colloquium (PHYS73000) 127 NSH\",\"Physics Colloquium (PHYS73000) 127 NSH\",\"Physics Colloquium (PHYS73000) 127 NSH\",\"Galaxies neighborhood_Environmentally Dependent Galaxy Evolution weekly group meeting \",\"Tammi school presentation\",\"Prep\",\"DVT Upgrade RFP -Evaluation (cont'd if needed)\",\"PT\",\"DVT Upgrade RFP -Evaluation\",\"Science Communication Talk\",\"ND Press Inaugeuration\",\"Physics graduation\",\"Lips\",\"PT\",\"Therapy\",\"Graage door fix\",\"Lunch\",\"Christmas Lecture Featuring Dr. Michelle Thaller, NASA Goddard Space Flight Center\",\"NDQN RET\\u002fREHS\",\"EDGE meeting\",\"EDGE meeting\",\"EDGE meeting\",\"EDGE meeting\",\"EDGE meeting\",\"EDGE meeting\",\"Visit to COSM\",\"Visit to SSIA\",\"Gym\",\"Keith\\u002fMiguel Code discuss\",\"AJ roof inspection\",\"CFSB ID Monthly Education Call\",\"Busy\",\"Travel\",\"PHone appointee doctor\",\"STEM Summer Camp Group\",\"Prep\",\"Feathers Vet\",\"busy\",\"My Meeting\",\"WSP: Digital Visualization Theater Demonstration\",\"Physical Exam\",\"SSIA Training\",\"Training E & S\",\"Lunch w\\u002f Ken, Jeff & Keith\",\"FW: Notre Dame Digistar Training\",\"Emily, Keith, Miguel over plotting \\u002f calculation code.\",\"DigitalSky Dark Matter Intro\",\"DVT Upgrade Committee - Updates, Training, Pre On-Site Visits\",\"Arielle Leaves\",\"Halo analysis code discussion\",\"Warrior Scholar Reception\",\"Tammi \\u002f Keith over Comm Sci Presentation\",\"Garage Estimate\",\"Warrior Scholars\",\"Dvt request physics olympics\",\"DNA Learning Center Residential Program\",\"therapy\",\"Busy\",\"KEITH WAYNE DAVIS, Hotel Check-In, MARRIOTT UNIVERSITY PARK - NUCGLO\",\"KEITH WAYNE DAVIS, Hotel Check-In, COURTYARD CONCORD MARRIOTT - NUCGLO\",\"Emily\\u002f Keith Plot talk\",\"DVT Upgrade - On-Site Visit Sharing\",\"EDGE meeting\",\"EDGE meeting\",\"EDGE meeting\",\"EDGE meeting\",\"EDGE meeting\",\"EDGE meeting\",\"EDGE meeting\",\"ND Studios at DVT\",\"Science Communication Conference\",\"Science Communication Conference\",\"QuarkNet picnic\",\"Science Communication Conference\",\"Meet about Audio system\",\"TPAC-R Information Session\",\"DVT Upgrade - Committee Meeting\",\"USpace\",\"Tom \\u002f Keith\",\"Morten \\u002f Keith\",\"QN luncheon & student posters\",\"Flight to Boston (DL 657)\",\"Flight to Salt Lake City (WN 2429)\",\"Flight to Chicago (WN 4287)\",\"Fall All-College Meeting 2024\",\"Stay Steve Alford Inn\",\"Faculty Meeting\",\"Faculty Meeting\",\"Faculty Meeting\",\"Faculty Meeting\",\"Claire and Keith Meet\",\"EDGE meeting\",\"EDGE meeting\",\"EDGE meeting\",\"EDGE meeting\",\"EDGE meeting\",\"EDGE meeting\",\"EDGE meeting\",\"EDGE meeting\",\"EDGE meeting\",\"DVT Upgrade - Committee Meeting\",\"DVT Update and Discussion\",\"GLPA\",\"Paper and Proposals Due for GLPA\",\"Physics Colloquium (73000) 127 NSH\",\"Physics Colloquium (73000) 127 NSH\",\"Physics Colloquium (73000) 127 NSH\",\"Physics Colloquium (73000) 127 NSH\",\"Physics Colloquium (73000) 127 NSH\",\"Physics Colloquium (73000) 127 NSH\",\"Physics Colloquium (73000) 127 NSH\",\"Physics Colloquium (73000) 127 NSH\",\"Physics Colloquium (73000) 127 NSH\",\"Physics Colloquium (73000) 127 NSH\",\"Physics Colloquium (73000) 127 NSH\",\"Physics Colloquium (73000) 127 NSH\",\"Physics Colloquium (73000) 127 NSH\",\"Physics Colloquium (73000) 127 NSH\",\"Physics Colloquium (73000) 127 NSH\",\"Physics Colloquium (73000) 127 NSH\",\"Faculty Meeting\",\"Astro Journal Club\",\"Astro Journal Club\",\"Astro Journal Club\",\"Astro Journal Club\",\"Astro Journal Club\",\"Astro Journal Club\",\"Astro Journal Club\",\"Astro Journal Club\",\"Astro Journal Club\",\"Astro Journal Club\",\"Astro Journal Club\",\"Astrophysics Seminar (83200) 127 NSH\",\"Astrophysics Seminar (83200) 127 NSH\",\"Astrophysics Seminar (83200) 127 NSH\",\"Astrophysics Seminar (83200) 127 NSH\",\"Astrophysics Seminar (83200) 127 NSH\",\"Astrophysics Seminar (83200) 127 NSH\",\"Astrophysics Seminar (83200) 127 NSH\",\"Astrophysics Seminar (83200) 127 NSH\",\"Astrophysics Seminar (83200) 127 NSH\",\"Astrophysics Seminar (83200) 127 NSH\",\"Astrophysics Seminar (83200) 127 NSH\",\"Astrophysics Seminar (83200) 127 NSH\",\"Astrophysics Seminar (83200) 127 NSH\",\"Astrophysics Seminar (83200) 127 NSH\",\"Astrophysics Seminar (83200) 127 NSH\",\"Astrophysics Seminar (83200) 127 NSH\",\"Pizza on the Roof\",\"HOLD - Cosm Digistar 2025 Demo and Conversation\"],\"theta\":[30.98360655737705,119.4672131147541,209.95901639344265,300.45081967213116,0.49180327868852464,14.262295081967213,28.032786885245905,41.80327868852459,55.57377049180328,69.30327868852459,83.07377049180327,96.84426229508196,110.61475409836066,124.38524590163935,138.15573770491804,151.92622950819674,165.69672131147544,179.46721311475412,193.23770491803282,207.0081967213115,220.7786885245902,234.54918032786887,248.31967213114757,262.09016393442624,275.8606557377049,289.6311475409836,303.44262295081967,317.2131147540984,330.9836065573771,344.75409836065575,358.5245901639344,80.12295081967213,153.89344262295083,334.91803278688525,39.8360655737705,152.41803278688528,24.426229508196723,24.426229508196723,10.327868852459018,30.98360655737705,300.45081967213116,21.147540983606557,8.360655737704919,4.44672131147541,8.360655737704919,4.4877049180327875,11.449795081967213,11.388319672131148,94.03176229508196,12.581967213114755,14.190573770491804,16.331967213114755,16.331967213114755,16.331967213114755,22.09016393442623,21.214139344262296,18.140368852459016,25.220286885245905,25.225409836065573,91.22950819672131,23.135245901639344,24.07786885245902,23.258196721311474,28.09426229508197,59.50819672131148,29.001024590163937,85.32786885245902,29.20081967213115,28.21209016393443,29.938524590163937,64.5235655737705,37.044057377049185,80.24590163934427,32.049180327868854,84.54918032786885,45.836748633879786,31.16803278688525,34.221311475409834,37.935450819672134,37.97643442622951,36.76571038251366,43.872950819672134,17.25409836065574,24.139344262295083,49.67213114754099,42.942281420765035,42.97131147540984,48.6844262295082,48.60963114754099,58.46311475409836,56.59836065573771,57.47950819672131,51.82377049180328,44.93852459016394,42.79713114754098,50.70286885245902,50.727459016393446,58.57069672131148,57.8125,52.72540983606557,52.79200819672131,52.817622950819676,56.54200819672131,58.63217213114754,56.50102459016394,57.443647540983605,59.446721311475414,59.41086065573771,55.69159836065574,64.36475409836066,69.48770491803279,69.26229508196722,63.463114754098356,15.348360655737705,22.23360655737705,36.00409836065574,56.65983606557377,42.88934426229508,49.77459016393443,63.62704918032787,58.709016393442624,65.3893442622951,108.64754098360656,78.26331967213115,69.36475409836065,71.37636612021859,71.28073770491804,71.36270491803279,69.36475409836065,85.17930327868852,76.32172131147541,73.37602459016394,80.14344262295083,93.17622950819673,79.26229508196721,79.20594262295083,86.13729508196722,86.06557377049181,90.03073770491804,84.24180327868852,83.10450819672131,117.56147540983606,95.91188524590164,105.81967213114754,15.28688524590164,22.172131147540988,35.94262295081967,29.05737704918033,42.82786885245902,49.71311475409836,56.59836065573771,63.48360655737706,70.32786885245902,77.21311475409837,84.09836065573771,90.98360655737706,97.8688524590164,111.63934426229508,104.75409836065575,111.64446721311475,113.67315573770492,113.48872950819673,111.5625,106.72131147540985,107.71004098360656,111.59836065573771,117.72540983606558,111.53176229508198,31.02459016393443,37.90983606557377,44.795081967213115,58.5655737704918,65.45081967213116,72.29508196721312,79.18032786885246,86.06557377049181,92.95081967213115,99.8360655737705,106.72131147540985,113.74316939890711,113.70901639344264,112.76639344262296,112.73565573770492,112.6844262295082,112.51536885245902,134.3237704918033,134.29303278688525,131.39344262295083,118.52459016393443,118.54508196721312,119.52868852459017,120.51229508196721,16.36270491803279,23.247950819672134,30.133196721311478,37.01844262295082,43.903688524590166,50.78893442622951,57.674180327868854,64.5594262295082,71.40368852459017,78.28893442622952,85.17418032786885,92.0594262295082,98.94467213114754,105.82991803278689,119.60040983606558,111.62909836065575,35.978483606557376,42.86372950819673,49.74897540983607,56.634221311475414,63.51946721311476,77.24897540983606,91.01946721311475,97.9047131147541,104.78995901639344,111.67520491803279,118.56045081967213,127.50000000000001,126.47028688524591,16.27049180327869,23.155737704918035,30.04098360655738,36.92622950819672,43.81147540983606,50.69672131147541,57.58196721311476,64.4672131147541,71.31147540983606,78.19672131147541,85.08196721311477,91.9672131147541,98.85245901639345,105.73770491803279,112.62295081967214,119.50819672131148,63.54508196721312,132.21994535519127,132.1875,134.39549180327867,135.25102459016395,133.34016393442624,151.875,252.25409836065575,136.25000000000003,244.38524590163937,141.00409836065575,141.20901639344262,142.06967213114754,138.18647540983608,335.2254098360656,182.90983606557378,97.93032786885246,84.15983606557377,91.04508196721312,104.81557377049181,111.70081967213116,118.5860655737705,165.69672131147544,166.6803278688525,140.1536885245902,142.27459016393445,153.85245901639345,151.99795081967213,154.03688524590163,154.00614754098362,153.80122950819674,152.86885245901638,152.83811475409837,153.11475409836066,153.0737704918033,151.2704918032787,173.66803278688525,236.4395491803279,160.7377049180328,159.71311475409837,158.84221311475412,159.71311475409837,159.79508196721312,160.71721311475412,161.92622950819674,198.15573770491807,161.74180327868854,176.8032786885246,162.8688524590164,173.50409836065575,174.6516393442623,175.5327868852459,174.71311475409837,173.75000000000003,173.719262295082,165.69672131147544,167.66393442622953,175.69672131147541,175.44057377049182,125.47131147540985,132.3565573770492,139.24180327868854,146.12704918032787,153.0122950819672,159.89754098360658,166.7827868852459,188.29918032786887,188.35040983606558,187.36680327868854,197.18237704918033,189.24180327868854,189.40573770491804,193.38114754098362,207.11065573770492,195.47131147540983,201.2551229508197,201.07581967213116,204.08811475409837,166.78244535519127,165.13148907103826,168.7209699453552,244.62090163934425,211.92622950819674,18.24795081967213,52.67418032786886,93.94467213114756,121.48565573770493,228.79610655737707,173.66803278688525,180.5532786885246,187.43852459016395,194.3237704918033,201.20901639344262,208.094262295082,214.97950819672133,221.86475409836066,228.75,229.7438524590164,215.9579918032787,292.58196721311475,248.31967213114757,236.55737704918033,243.4426229508197,291.6393442622951,250.32786885245903,257.2131147540984,264.09836065573774,270.9836065573771,277.8688524590164,284.75409836065575,298.5245901639344,305.45081967213116,312.33606557377055,319.2213114754099,326.1065573770492,332.99180327868856,339.8770491803279,238.53483606557378,162.76639344262296,169.6516393442623,176.53688524590163,183.422131147541,190.30737704918033,197.19262295081967,204.077868852459,210.96311475409837,217.8483606557377,224.73360655737704,231.6188524590164,235.5737704918033,242.45901639344262,249.344262295082,256.2295081967213,263.11475409836066,270.0,276.88524590163934,283.77049180327873,290.65573770491807,297.5409836065574,304.46721311475414,311.3524590163935,318.2377049180328,325.12295081967216,332.0081967213115,338.8934426229509,243.64754098360658,220.88114754098362],\"width\":[0.9836065573770492,0.9836065573770492,0.9836065573770492,0.9836065573770492,0.9836065573770492,0.9836065573770492,0.9836065573770492,0.9836065573770492,0.9836065573770492,0.9836065573770492,0.9836065573770492,0.9836065573770492,0.9836065573770492,0.9836065573770492,0.9836065573770492,0.9836065573770492,0.9836065573770492,0.9836065573770492,0.9836065573770492,0.9836065573770492,0.9836065573770492,0.9836065573770492,0.9836065573770492,0.9836065573770492,0.9836065573770492,0.9836065573770492,0.9836065573770492,0.9836065573770492,0.9836065573770492,0.9836065573770492,0.9836065573770492,0.9836065573770492,4.918032786885246,0.9836065573770492,0.9836065573770492,1.9672131147540983,0.040983606557377046,0.040983606557377046,0.9836065573770492,0.9836065573770492,0.9836065573770492,0.9836065573770492,0.040983606557377046,0.040983606557377046,0.040983606557377046,0.040983606557377046,0.030737704918032786,0.030737704918032786,0.030737704918032786,0.16393442622950818,0.06147540983606557,0.040983606557377046,0.040983606557377046,0.040983606557377046,0.040983606557377046,0.030737704918032786,0.030737704918032786,0.030737704918032786,0.12295081967213115,0.040983606557377046,0.040983606557377046,0.040983606557377046,0.020491803278688523,0.040983606557377046,0.9836065573770492,0.05122950819672131,0.040983606557377046,0.040983606557377046,0.030737704918032786,0.040983606557377046,0.030737704918032786,0.030737704918032786,0.08196721311475409,0.040983606557377046,3.9344262295081966,0.03415300546448087,0.040983606557377046,0.16393442622950818,0.030737704918032786,0.05122950819672131,0.027322404371584702,0.040983606557377046,0.040983606557377046,0.040983606557377046,2.9508196721311477,0.010245901639344262,0.040983606557377046,0.19672131147540983,0.04713114754098361,0.040983606557377046,0.040983606557377046,0.040983606557377046,0.040983606557377046,0.040983606557377046,0.06147540983606557,0.09426229508196722,0.020491803278688523,0.05122950819672131,0.030737704918032786,0.040983606557377046,0.030737704918032786,0.020491803278688523,0.05122950819672131,0.05122950819672131,0.030737704918032786,0.030737704918032786,0.040983606557377046,0.030737704918032786,0.030737704918032786,0.040983606557377046,0.040983606557377046,0.040983606557377046,0.040983606557377046,0.040983606557377046,0.040983606557377046,0.040983606557377046,0.040983606557377046,0.040983606557377046,0.040983606557377046,0.040983606557377046,0.040983606557377046,0.040983606557377046,0.2459016393442623,0.030737704918032786,0.040983606557377046,0.1434426229508197,0.040983606557377046,0.12295081967213115,0.040983606557377046,0.030737704918032786,0.020491803278688523,0.030737704918032786,0.040983606557377046,0.040983606557377046,0.040983606557377046,0.030737704918032786,0.06147540983606557,0.040983606557377046,0.020491803278688523,0.040983606557377046,0.06147540983606557,0.2868852459016394,0.020491803278688523,0.16393442622950818,0.040983606557377046,0.040983606557377046,0.040983606557377046,0.040983606557377046,0.040983606557377046,0.040983606557377046,0.040983606557377046,0.040983606557377046,0.040983606557377046,0.040983606557377046,0.040983606557377046,0.040983606557377046,0.040983606557377046,0.040983606557377046,0.040983606557377046,0.05122950819672131,0.030737704918032786,0.05122950819672131,0.030737704918032786,0.32786885245901637,0.3381147540983606,0.9836065573770492,0.040983606557377046,0.030737704918032786,0.040983606557377046,0.040983606557377046,0.040983606557377046,0.040983606557377046,0.040983606557377046,0.040983606557377046,0.040983606557377046,0.040983606557377046,0.040983606557377046,0.040983606557377046,0.040983606557377046,0.040983606557377046,0.020491803278688523,0.040983606557377046,0.020491803278688523,0.040983606557377046,0.030737704918032786,0.040983606557377046,0.020491803278688523,0.08196721311475409,0.040983606557377046,0.26639344262295084,0.26639344262295084,0.26639344262295084,0.020491803278688523,0.020491803278688523,0.020491803278688523,0.020491803278688523,0.020491803278688523,0.020491803278688523,0.020491803278688523,0.020491803278688523,0.020491803278688523,0.020491803278688523,0.020491803278688523,0.020491803278688523,0.020491803278688523,0.020491803278688523,0.020491803278688523,0.06147540983606557,0.010245901639344262,0.010245901639344262,0.010245901639344262,0.010245901639344262,0.010245901639344262,0.010245901639344262,0.010245901639344262,0.010245901639344262,0.010245901639344262,0.010245901639344262,0.010245901639344262,0.040983606557377046,0.030737704918032786,0.040983606557377046,0.040983606557377046,0.040983606557377046,0.040983606557377046,0.040983606557377046,0.040983606557377046,0.040983606557377046,0.040983606557377046,0.040983606557377046,0.040983606557377046,0.040983606557377046,0.040983606557377046,0.040983606557377046,0.040983606557377046,0.040983606557377046,0.040983606557377046,0.040983606557377046,0.040983606557377046,0.030737704918032786,0.06147540983606557,0.030737704918032786,0.08196721311475409,0.020491803278688523,0.9836065573770492,0.040983606557377046,2.9508196721311477,0.040983606557377046,0.040983606557377046,0.2868852459016394,0.06147540983606557,0.20491803278688525,49.180327868852466,0.040983606557377046,0.040983606557377046,0.040983606557377046,0.040983606557377046,0.040983606557377046,0.040983606557377046,0.9836065573770492,0.9836065573770492,0.10245901639344263,0.040983606557377046,0.040983606557377046,0.020491803278688523,0.040983606557377046,0.020491803278688523,0.020491803278688523,0.040983606557377046,0.020491803278688523,0.040983606557377046,0.040983606557377046,0.040983606557377046,0.040983606557377046,0.030737704918032786,0.08196721311475409,0.08196721311475409,0.06147540983606557,0.08196721311475409,0.040983606557377046,0.040983606557377046,0.040983606557377046,0.9836065573770492,0.040983606557377046,0.040983606557377046,0.040983606557377046,0.040983606557377046,0.040983606557377046,0.040983606557377046,0.040983606557377046,0.040983606557377046,0.020491803278688523,2.9508196721311477,2.9508196721311477,0.040983606557377046,0.06147540983606557,0.040983606557377046,0.040983606557377046,0.040983606557377046,0.040983606557377046,0.040983606557377046,0.040983606557377046,0.040983606557377046,0.040983606557377046,0.3483606557377049,0.3483606557377049,0.06147540983606557,0.16393442622950818,0.040983606557377046,0.040983606557377046,0.040983606557377046,0.040983606557377046,0.030737704918032786,0.020491803278688523,0.06147540983606557,0.20560109289617484,0.14002732240437157,0.1058743169398907,0.10245901639344263,0.9836065573770492,0.06147540983606557,0.06147540983606557,0.06147540983606557,0.06147540983606557,0.030737704918032786,0.040983606557377046,0.040983606557377046,0.040983606557377046,0.040983606557377046,0.040983606557377046,0.040983606557377046,0.040983606557377046,0.040983606557377046,0.040983606557377046,0.06147540983606557,0.030737704918032786,4.918032786885246,0.9836065573770492,0.040983606557377046,0.040983606557377046,0.040983606557377046,0.040983606557377046,0.040983606557377046,0.040983606557377046,0.040983606557377046,0.040983606557377046,0.040983606557377046,0.040983606557377046,0.040983606557377046,0.040983606557377046,0.040983606557377046,0.040983606557377046,0.040983606557377046,0.040983606557377046,0.06147540983606557,0.040983606557377046,0.040983606557377046,0.040983606557377046,0.040983606557377046,0.040983606557377046,0.040983606557377046,0.040983606557377046,0.040983606557377046,0.040983606557377046,0.040983606557377046,0.040983606557377046,0.040983606557377046,0.040983606557377046,0.040983606557377046,0.040983606557377046,0.040983606557377046,0.040983606557377046,0.040983606557377046,0.040983606557377046,0.040983606557377046,0.040983606557377046,0.040983606557377046,0.040983606557377046,0.040983606557377046,0.040983606557377046,0.040983606557377046,0.040983606557377046,0.08196721311475409,0.040983606557377046],\"type\":\"barpolar\",\"hovertemplate\":\"%{text}\\u003cbr\\u003eStart: %{customdata[0]|%Y\\u002f%m\\u002f%d %H:%M:%S.%L}\\u003cbr\\u003eEnd: %{customdata[1]|%Y\\u002f%m\\u002f%d %H:%M:%S.%L}\"},{\"base\":[0.7,0.7,0.6,0.8,0.8,0.8,0.8,0.8,0.8,0.8,0.7,0.8,0.8,0.8,0.7,0.8,0.8,0.7,0.7,0.8,0.8,0.8,0.8,0.8,0.8,0.8,0.8,0.8,0.8,0.8,0.8,0.8,0.8,0.8,0.8,0.8,0.8,0.8,0.8,0.8,0.8,0.8,0.8,0.8,0.8,0.8,0.8,0.8,0.8,0.8,0.8,0.8,0.8,0.8,0.8,0.8,0.8,0.8,0.8,0.8,0.8,0.8,0.8,0.8,0.8,0.8,0.8,0.8,0.8,0.8,0.8,0.8,0.8,0.8,0.8,0.8,0.8,0.8,0.8,0.8,0.8,0.8,0.8,0.8,0.8,0.8,0.8,0.8,0.8,0.8,0.8,0.8,0.8,0.8],\"customdata\":[[\"2024-04-02T00:00:00-04:00\",\"2024-04-03T00:00:00-04:00\"],[\"2024-03-15T00:00:00-04:00\",\"2024-03-16T00:00:00-04:00\"],[\"2024-05-30T00:00:00-04:00\",\"2024-06-03T00:00:00-04:00\"],[\"2024-03-15T18:30:00-04:00\",\"2024-03-15T19:30:00-04:00\"],[\"2024-06-10T19:00:00-04:00\",\"2024-06-10T20:15:00-04:00\"],[\"2024-01-25T19:30:00-05:00\",\"2024-01-25T20:30:00-05:00\"],[\"2024-04-25T09:30:00-04:00\",\"2024-04-25T10:45:00-04:00\"],[\"2024-01-18T09:30:00-05:00\",\"2024-01-18T10:45:00-05:00\"],[\"2024-02-16T14:00:00-05:00\",\"2024-02-16T14:50:00-05:00\"],[\"2024-03-26T19:00:00-04:00\",\"2024-03-26T20:30:00-04:00\"],[\"2024-01-26T00:00:00-05:00\",\"2024-01-27T00:00:00-05:00\"],[\"2024-02-05T12:30:00-05:00\",\"2024-02-05T13:45:00-05:00\"],[\"2024-01-18T11:00:00-05:00\",\"2024-01-18T12:15:00-05:00\"],[\"2024-01-30T11:00:00-05:00\",\"2024-01-30T12:15:00-05:00\"],[\"2024-01-24T00:00:00-05:00\",\"2024-01-25T00:00:00-05:00\"],[\"2024-02-08T14:00:00-05:00\",\"2024-02-08T15:15:00-05:00\"],[\"2024-02-03T14:00:00-05:00\",\"2024-02-03T19:00:00-05:00\"],[\"2024-02-20T00:00:00-05:00\",\"2024-02-21T00:00:00-05:00\"],[\"2024-03-04T00:00:00-05:00\",\"2024-03-05T00:00:00-05:00\"],[\"2024-02-06T11:00:00-05:00\",\"2024-02-06T12:00:00-05:00\"],[\"2024-02-07T09:25:00-05:00\",\"2024-02-07T10:15:00-05:00\"],[\"2024-03-25T08:20:00-04:00\",\"2024-03-25T10:30:00-04:00\"],[\"2024-04-15T08:20:00-04:00\",\"2024-04-15T10:30:00-04:00\"],[\"2024-06-01T09:00:00-04:00\",\"2024-06-01T13:00:00-04:00\"],[\"2024-06-01T10:00:00-04:00\",\"2024-06-01T11:00:00-04:00\"],[\"2024-06-01T11:30:00-04:00\",\"2024-06-01T12:30:00-04:00\"],[\"2024-03-21T19:30:00-04:00\",\"2024-03-21T20:30:00-04:00\"],[\"2024-02-13T18:30:00-05:00\",\"2024-02-13T19:30:00-05:00\"],[\"2024-02-28T10:00:00-05:00\",\"2024-02-28T11:00:00-05:00\"],[\"2024-02-15T10:00:00-05:00\",\"2024-02-15T11:00:00-05:00\"],[\"2024-02-17T10:00:00-05:00\",\"2024-02-17T10:30:00-05:00\"],[\"2024-03-22T10:00:00-04:00\",\"2024-03-22T11:00:00-04:00\"],[\"2024-02-27T11:00:00-05:00\",\"2024-02-27T12:15:00-05:00\"],[\"2024-03-01T10:00:00-05:00\",\"2024-03-01T11:00:00-05:00\"],[\"2024-02-28T19:00:00-05:00\",\"2024-02-28T20:00:00-05:00\"],[\"2024-02-29T12:30:00-05:00\",\"2024-02-29T13:45:00-05:00\"],[\"2024-03-04T14:00:00-05:00\",\"2024-03-04T15:15:00-05:00\"],[\"2024-02-29T14:00:00-05:00\",\"2024-02-29T15:15:00-05:00\"],[\"2024-04-06T19:00:00-04:00\",\"2024-04-06T20:00:00-04:00\"],[\"2024-03-21T18:00:00-04:00\",\"2024-03-21T19:00:00-04:00\"],[\"2024-06-28T14:15:00-04:00\",\"2024-06-28T15:30:00-04:00\"],[\"2024-04-25T14:15:00-04:00\",\"2024-04-25T15:00:00-04:00\"],[\"2024-03-15T12:15:00-04:00\",\"2024-03-15T13:00:00-04:00\"],[\"2024-03-19T15:30:00-04:00\",\"2024-03-19T16:45:00-04:00\"],[\"2024-03-26T09:30:00-04:00\",\"2024-03-26T10:45:00-04:00\"],[\"2024-03-19T09:30:00-04:00\",\"2024-03-19T10:45:00-04:00\"],[\"2024-03-19T11:00:00-04:00\",\"2024-03-19T11:45:00-04:00\"],[\"2024-05-03T12:00:00-04:00\",\"2024-05-03T13:00:00-04:00\"],[\"2024-04-03T13:00:00-04:00\",\"2024-04-03T14:15:00-04:00\"],[\"2024-04-04T18:00:00-04:00\",\"2024-04-04T19:00:00-04:00\"],[\"2024-04-04T19:30:00-04:00\",\"2024-04-04T20:30:00-04:00\"],[\"2024-04-05T19:00:00-04:00\",\"2024-04-05T20:00:00-04:00\"],[\"2024-04-06T16:00:00-04:00\",\"2024-04-06T17:00:00-04:00\"],[\"2024-04-15T08:20:00-04:00\",\"2024-04-15T10:30:00-04:00\"],[\"2024-05-02T13:30:00-04:00\",\"2024-05-02T15:30:00-04:00\"],[\"2024-04-26T10:30:00-04:00\",\"2024-04-26T11:30:00-04:00\"],[\"2024-04-23T12:30:00-04:00\",\"2024-04-23T13:45:00-04:00\"],[\"2024-05-16T14:00:00-04:00\",\"2024-05-16T15:00:00-04:00\"],[\"2024-04-30T09:30:00-04:00\",\"2024-04-30T10:30:00-04:00\"],[\"2024-05-21T10:45:00-04:00\",\"2024-05-21T11:45:00-04:00\"],[\"2024-06-24T14:15:00-04:00\",\"2024-06-24T16:45:00-04:00\"],[\"2024-06-10T14:00:00-04:00\",\"2024-06-10T16:30:00-04:00\"],[\"2024-06-26T14:00:00-04:00\",\"2024-06-26T15:00:00-04:00\"],[\"2024-05-14T10:40:00-04:00\",\"2024-05-14T11:40:00-04:00\"],[\"2024-06-06T19:00:00-04:00\",\"2024-06-06T20:00:00-04:00\"],[\"2024-07-24T15:00:00-04:00\",\"2024-07-24T16:00:00-04:00\"],[\"2024-05-28T10:00:00-04:00\",\"2024-05-28T11:00:00-04:00\"],[\"2024-06-04T10:30:00-04:00\",\"2024-06-04T11:30:00-04:00\"],[\"2024-06-26T15:30:00-04:00\",\"2024-06-26T16:30:00-04:00\"],[\"2024-07-22T13:30:00-04:00\",\"2024-07-22T15:15:00-04:00\"],[\"2024-07-15T13:30:00-04:00\",\"2024-07-15T15:15:00-04:00\"],[\"2024-06-06T15:00:00-04:00\",\"2024-06-06T16:00:00-04:00\"],[\"2024-09-16T19:30:00-04:00\",\"2024-09-16T20:30:00-04:00\"],[\"2024-08-28T19:00:00-04:00\",\"2024-08-28T20:30:00-04:00\"],[\"2024-10-08T19:00:00-04:00\",\"2024-10-08T20:30:00-04:00\"],[\"2024-12-05T19:00:00-05:00\",\"2024-12-05T20:30:00-05:00\"],[\"2024-07-01T09:00:00-04:00\",\"2024-07-01T09:45:00-04:00\"],[\"2024-07-11T10:00:00-04:00\",\"2024-07-11T11:00:00-04:00\"],[\"2024-07-08T18:00:00-04:00\",\"2024-07-08T19:00:00-04:00\"],[\"2024-07-08T16:00:00-04:00\",\"2024-07-08T17:00:00-04:00\"],[\"2024-06-27T11:30:00-04:00\",\"2024-06-27T12:30:00-04:00\"],[\"2024-07-10T15:45:00-04:00\",\"2024-07-10T16:45:00-04:00\"],[\"2024-08-07T13:00:00-04:00\",\"2024-08-07T15:00:00-04:00\"],[\"2024-08-24T13:00:00-04:00\",\"2024-08-24T13:40:00-04:00\"],[\"2024-08-24T13:55:00-04:00\",\"2024-08-24T14:35:00-04:00\"],[\"2024-08-20T09:30:00-04:00\",\"2024-08-20T11:00:00-04:00\"],[\"2024-09-03T12:30:00-04:00\",\"2024-09-03T13:45:00-04:00\"],[\"2024-12-12T12:30:00-05:00\",\"2024-12-12T13:45:00-05:00\"],[\"2024-08-30T13:00:00-04:00\",\"2024-08-30T14:30:00-04:00\"],[\"2024-07-24T09:30:00-04:00\",\"2024-07-24T10:30:00-04:00\"],[\"2024-08-30T09:30:00-04:00\",\"2024-08-30T10:45:00-04:00\"],[\"2024-09-06T09:30:00-04:00\",\"2024-09-06T10:45:00-04:00\"],[\"2024-12-06T09:30:00-05:00\",\"2024-12-06T10:45:00-05:00\"],[\"2024-09-20T09:30:00-04:00\",\"2024-09-20T10:45:00-04:00\"]],\"marker\":{\"color\":[\"#cd74e6\",\"#cd74e6\",\"#cd74e6\",\"#cd74e6\",\"#cd74e6\",\"#cd74e6\",\"#cd74e6\",\"#cd74e6\",\"#cd74e6\",\"#cd74e6\",\"#cd74e6\",\"#cd74e6\",\"#cd74e6\",\"#cd74e6\",\"#cd74e6\",\"#cd74e6\",\"#cd74e6\",\"#cd74e6\",\"#cd74e6\",\"#cd74e6\",\"#cd74e6\",\"#cd74e6\",\"#cd74e6\",\"#cd74e6\",\"#cd74e6\",\"#cd74e6\",\"#cd74e6\",\"#cd74e6\",\"#cd74e6\",\"#cd74e6\",\"#cd74e6\",\"#cd74e6\",\"#cd74e6\",\"#cd74e6\",\"#cd74e6\",\"#cd74e6\",\"#cd74e6\",\"#cd74e6\",\"#cd74e6\",\"#cd74e6\",\"#cd74e6\",\"#cd74e6\",\"#cd74e6\",\"#cd74e6\",\"#cd74e6\",\"#cd74e6\",\"#cd74e6\",\"#cd74e6\",\"#cd74e6\",\"#cd74e6\",\"#cd74e6\",\"#cd74e6\",\"#cd74e6\",\"#cd74e6\",\"#cd74e6\",\"#cd74e6\",\"#cd74e6\",\"#cd74e6\",\"#cd74e6\",\"#cd74e6\",\"#cd74e6\",\"#cd74e6\",\"#cd74e6\",\"#cd74e6\",\"#cd74e6\",\"#cd74e6\",\"#cd74e6\",\"#cd74e6\",\"#cd74e6\",\"#cd74e6\",\"#cd74e6\",\"#cd74e6\",\"#cd74e6\",\"#cd74e6\",\"#cd74e6\",\"#cd74e6\",\"#cd74e6\",\"#cd74e6\",\"#cd74e6\",\"#cd74e6\",\"#cd74e6\",\"#cd74e6\",\"#cd74e6\",\"#cd74e6\",\"#cd74e6\",\"#cd74e6\",\"#cd74e6\",\"#cd74e6\",\"#cd74e6\",\"#cd74e6\",\"#cd74e6\",\"#cd74e6\",\"#cd74e6\",\"#cd74e6\"]},\"name\":\"ND-DVT Calendar\",\"r\":[0.097,0.097,0.097,0.097,0.097,0.097,0.097,0.097,0.097,0.097,0.097,0.097,0.097,0.097,0.097,0.097,0.097,0.097,0.097,0.097,0.097,0.097,0.097,0.097,0.097,0.097,0.097,0.097,0.097,0.097,0.097,0.097,0.097,0.097,0.097,0.097,0.097,0.097,0.097,0.097,0.097,0.097,0.097,0.097,0.097,0.097,0.097,0.097,0.097,0.097,0.097,0.097,0.097,0.097,0.097,0.097,0.097,0.097,0.097,0.097,0.097,0.097,0.097,0.097,0.097,0.097,0.097,0.097,0.097,0.097,0.097,0.097,0.097,0.097,0.097,0.097,0.097,0.097,0.097,0.097,0.097,0.097,0.097,0.097,0.097,0.097,0.097,0.097,0.097,0.097,0.097,0.097,0.097,0.097],\"text\":[\"Eclipse Our Universe Revealed Talk\",\"Cosmic Egg for MAA\",\"Alumni Weekend\",\"Cosmic Egg for MAA\",\"Notre Vita Institute ACGP\",\"ILI Initiative\",\"Science Communications Class\",\"Phil SUS 20010\",\"Orbital and Space Dynamics - Karel Matous\",\"THeo 20888 ACGP\",\"Stephens first recommendation due.\",\"ACGP for Faith and Science Course Phil Presenting\",\"Descriptive Astronomy Tour of the Universe\",\"Descriptive Astronomy - Prof. Garnavich out of Town (Planet Tracking Activity)\",\"Stephen REU reach due.\",\"Phillippe Collon Physics of Civilication\",\"DVT Room Use Lacrosse Team\",\"Senior Living request.\",\"Tickets Release for Eclipse Shows.\",\"Prep Chem DVT\",\"Paul Huber Organic Chemistry\",\"Admitted Student Days (Room Use)\",\"Admitted Student Days (Room Use)\",\"Alumni Weekend\",\"Alumni Weekend Event (Sakimoto)\",\"Alumni Weekend Event (Sakimoto)\",\"ILI Group (Keith presenting)\",\"Proposed DVT Eclipse kickoff.\",\"Beiger Elementary\",\"Dry Run for Orbital\",\"Alex - Planetarium show\",\"Campus Safety\",\"Eclipses for Desc Astro\",\"Stephen Piloting - Pierre Moran Middle and North Side Middle School\",\" Stephen Piloting St Edward\\u2019s Hall\",\"Losecco cosmology\",\"Particle Physics and Cosmology - Keith Presenting - Prof. Out of Town.\",\"Descriptive Astronomy Prof. Beers out of Town\",\"Eclipse Presentation for WRRmod2024\",\"Campus Safety\",\"ACGP - Advisory Council Program\",\"American Indian Catholic Schools Network\",\"Previst of Cosmic Egg\",\"Whitney James Class\",\"Intro to Phil: Feraz Azhar\",\"Whitney James Class\",\"Whitney James Class\",\"Marian High School ACGP Theology\",\"ABC57 Interview\",\"Stephen - Proposed DVT Eclipse Talk\",\"Alex - Proposed DVT Eclipse Talk\",\" Stephen - Proposed DVT Eclipse Talk\",\"Alex - Eclipse Presentation\",\"Admitted Student Days (Room Use)\",\"CoS-JAM Room Use\",\"Fenwick High School ACGP\",\"Losecco Cosmology\",\"St. Vincent De Paul\",\"Sustainability\",\"Marshall Traditional School\",\"Trinity and Christian Salvation - ACGP\",\"Notre Dame Vision - ACGP\",\"Warrior Scholars\",\"Tammi school presentation\",\"WVPE SHow\",\"IEP - Ramzi\",\"Review sound\",\"STEM Summer Camp Group\",\"DNA Learning Center Residential Program\",\"ACGP Saints and Scholars\",\"ACGP Saints and Scholars\",\"DVT Cleanout\",\"ACGP Society for Catholic Scientists\",\"ACGP: Cathedral High School Junior Class\",\"ACGP: Cathedral High School Junior Class\",\"ACGP: Cathedral High School Junior Class\",\"Phil - Summer Scholars\",\"Phil - Summer Scholars\",\"DNA Center\",\"IEP\",\"Dvt request physics olympics\",\"DVT Show for PCST Symposium?\",\"US Army STEM program for the Pokagon Band Tribe\",\"Welcome Weekend\",\"Welcome Weekend\",\"Phil - Center for Social Concerns RISE\",\"SUS 20010 (Phil\",\"SUS 20010 (Phil\",\"Catholic School Mission Day (Phil)\",\"AV\",\"PLS Science 2\",\"PLS Science 2\",\"PLS Science 2\",\"PLS Science 2\"],\"theta\":[90.94262295081967,73.23770491803279,149.46721311475412,73.52459016393443,159.12397540983608,24.426229508196723,113.48872950819673,17.13627049180328,45.836748633879786,84.375,25.081967213114755,34.9641393442623,17.197745901639344,29.001024590163937,23.114754098360656,37.97643442622951,33.135245901639344,49.67213114754099,62.459016393442624,35.881147540983605,36.79644808743169,82.9678961748634,103.62363387978142,149.91803278688525,149.89754098360658,149.95901639344265,79.4672131147541,43.07377049180328,57.47950819672131,44.692622950819676,46.649590163934434,80.06147540983606,56.54200819672131,59.446721311475414,57.84836065573771,58.57069672131148,62.56659836065574,58.63217213114754,95.1844262295082,79.40573770491804,176.63422131147541,113.67315573770492,73.26331967213115,77.34118852459017,83.98053278688525,77.0952868852459,77.14651639344264,121.45491803278689,91.99282786885247,93.17622950819673,93.23770491803279,94.20081967213115,95.06147540983606,103.62363387978142,120.5532786885246,114.50819672131149,111.64446721311475,134.3237704918033,118.4016393442623,139.10860655737707,172.72540983606558,158.94467213114754,174.6516393442623,132.21994535519127,155.1844262295082,202.23360655737704,145.96311475409837,152.86885245901638,174.71311475409837,200.2202868852459,193.33504098360655,155.0204918032787,255.53278688524594,236.83401639344262,277.16188524590166,334.2520491803279,179.359631147541,189.24180327868854,186.61885245901638,186.53688524590166,175.5327868852459,188.4938524590164,215.94262295081967,232.63661202185793,232.67418032786887,228.57581967213116,242.46413934426232,340.8657786885246,238.5553278688525,202.0081967213115,238.406762295082,245.29200819672133,334.84118852459017,259.0625],\"width\":[0.9836065573770492,0.9836065573770492,3.9344262295081966,0.040983606557377046,0.05122950819672131,0.040983606557377046,0.05122950819672131,0.05122950819672131,0.03415300546448087,0.06147540983606557,0.9836065573770492,0.05122950819672131,0.05122950819672131,0.05122950819672131,0.9836065573770492,0.05122950819672131,0.20491803278688525,0.9836065573770492,0.9836065573770492,0.040983606557377046,0.03415300546448087,0.08879781420765027,0.08879781420765027,0.16393442622950818,0.040983606557377046,0.040983606557377046,0.040983606557377046,0.040983606557377046,0.040983606557377046,0.040983606557377046,0.020491803278688523,0.040983606557377046,0.05122950819672131,0.040983606557377046,0.040983606557377046,0.05122950819672131,0.05122950819672131,0.05122950819672131,0.040983606557377046,0.040983606557377046,0.05122950819672131,0.030737704918032786,0.030737704918032786,0.05122950819672131,0.05122950819672131,0.05122950819672131,0.030737704918032786,0.040983606557377046,0.05122950819672131,0.040983606557377046,0.040983606557377046,0.040983606557377046,0.040983606557377046,0.08879781420765027,0.08196721311475409,0.040983606557377046,0.05122950819672131,0.040983606557377046,0.040983606557377046,0.040983606557377046,0.10245901639344263,0.10245901639344263,0.040983606557377046,0.040983606557377046,0.040983606557377046,0.040983606557377046,0.040983606557377046,0.040983606557377046,0.040983606557377046,0.07172131147540985,0.07172131147540985,0.040983606557377046,0.040983606557377046,0.06147540983606557,0.06147540983606557,0.06147540983606557,0.030737704918032786,0.040983606557377046,0.040983606557377046,0.040983606557377046,0.040983606557377046,0.040983606557377046,0.08196721311475409,0.027322404371584702,0.027322404371584702,0.06147540983606557,0.05122950819672131,0.05122950819672131,0.06147540983606557,0.040983606557377046,0.05122950819672131,0.05122950819672131,0.05122950819672131,0.05122950819672131],\"type\":\"barpolar\",\"hovertemplate\":\"%{text}\\u003cbr\\u003eStart: %{customdata[0]|%Y\\u002f%m\\u002f%d %H:%M:%S.%L}\\u003cbr\\u003eEnd: %{customdata[1]|%Y\\u002f%m\\u002f%d %H:%M:%S.%L}\"},{\"base\":[0.8,0.8,0.8,0.8,0.8,0.8,0.8,0.6,0.8,0.8,0.8,0.8,0.8,0.8,0.8,0.8,0.6,0.8,0.8,0.8,0.8],\"customdata\":[[\"2024-01-26T15:30:00-05:00\",\"2024-01-26T17:00:00-05:00\"],[\"2024-02-29T15:30:00-05:00\",\"2024-02-29T17:00:00-05:00\"],[\"2024-04-10T15:30:00-04:00\",\"2024-04-10T17:00:00-04:00\"],[\"2024-02-13T18:30:00-05:00\",\"2024-02-13T19:30:00-05:00\"],[\"2024-03-19T18:30:00-04:00\",\"2024-03-19T19:30:00-04:00\"],[\"2024-03-07T16:00:00-05:00\",\"2024-03-07T17:30:00-05:00\"],[\"2024-03-25T07:00:00-04:00\",\"2024-03-25T11:30:00-04:00\"],[\"2024-05-06T00:00:00-04:00\",\"2024-05-08T00:00:00-04:00\"],[\"2024-04-15T07:30:00-04:00\",\"2024-04-15T11:30:00-04:00\"],[\"2024-05-02T13:00:00-04:00\",\"2024-05-02T16:00:00-04:00\"],[\"2024-12-06T17:00:00-05:00\",\"2024-12-06T22:00:00-05:00\"],[\"2024-05-29T14:00:00-04:00\",\"2024-05-29T16:00:00-04:00\"],[\"2024-09-04T18:00:00-04:00\",\"2024-09-04T19:00:00-04:00\"],[\"2024-10-02T18:00:00-04:00\",\"2024-10-02T19:00:00-04:00\"],[\"2024-11-06T18:00:00-05:00\",\"2024-11-06T19:00:00-05:00\"],[\"2024-12-04T18:00:00-05:00\",\"2024-12-04T19:00:00-05:00\"],[\"2024-09-11T00:00:00-04:00\",\"2024-09-14T00:00:00-04:00\"],[\"2024-08-21T14:00:00-04:00\",\"2024-08-21T16:00:00-04:00\"],[\"2024-09-09T17:30:00-04:00\",\"2024-09-09T20:00:00-04:00\"],[\"2024-09-09T16:45:00-04:00\",\"2024-09-09T17:30:00-04:00\"],[\"2024-09-05T16:30:00-04:00\",\"2024-09-05T19:00:00-04:00\"]],\"marker\":{\"color\":[\"#b3dc6c\",\"#b3dc6c\",\"#b3dc6c\",\"#b3dc6c\",\"#b3dc6c\",\"#b3dc6c\",\"#b3dc6c\",\"#b3dc6c\",\"#b3dc6c\",\"#b3dc6c\",\"#b3dc6c\",\"#b3dc6c\",\"#b3dc6c\",\"#b3dc6c\",\"#b3dc6c\",\"#b3dc6c\",\"#b3dc6c\",\"#b3dc6c\",\"#b3dc6c\",\"#b3dc6c\",\"#b3dc6c\"]},\"name\":\"CoS College-wide Events & Conferences\",\"r\":[0.097,0.097,0.097,0.097,0.097,0.097,0.097,0.097,0.097,0.097,0.097,0.097,0.097,0.097,0.097,0.097,0.097,0.097,0.097,0.097,0.097],\"text\":[\"ND Start\",\"ND Start\",\"ND Start\",\"Proposed DVT Eclipse kickoff.\",\"Proposed Historical Eclipse Talk (Matt Dowd)\",\"Staff Social Hour\",\"Rally Day (formerly known as Admitted Student Days)\",\"Future Faculty Workshop 2024\",\"Rally Day (formerly known as Admitted Student Days)\",\"College of Science Joint Annual Meeting (COS - JAM)\",\"Christmas Lecture Featuring Dr. Michelle Thaller, NASA Goddard Space Flight Center\",\"Summer REU\",\"Our Universe Revealed series at SJCPL\",\"Our Universe Revealed series at SJCPL\",\"Our Universe Revealed series at SJCPL\",\"Our Universe Revealed series at SJCPL\",\"Presidential Inauguration Celebration\",\"Scoop on Goals and ice cream social\",\"Carrier Medal 2024: Michael Levitt\",\"Arrive to Carrier Medal no later than 5:00 pm\",\"Fall All-College Meeting 2024\"],\"theta\":[25.25614754098361,58.69877049180329,98.98565573770493,43.07377049180328,77.45901639344262,65.60450819672133,82.9610655737705,124.87704918032787,103.62704918032787,120.5532786885246,335.2254098360656,147.13114754098362,243.66803278688525,271.20901639344265,305.67622950819674,333.2172131147541,251.2704918032787,229.75409836065577,248.59631147540986,248.52971311475412,244.62090163934425],\"width\":[0.06147540983606557,0.06147540983606557,0.06147540983606557,0.040983606557377046,0.040983606557377046,0.06147540983606557,0.18442622950819673,1.9672131147540983,0.16393442622950818,0.12295081967213115,0.20491803278688525,0.08196721311475409,0.040983606557377046,0.040983606557377046,0.040983606557377046,0.040983606557377046,2.9508196721311477,0.08196721311475409,0.10245901639344263,0.030737704918032786,0.10245901639344263],\"type\":\"barpolar\",\"hovertemplate\":\"%{text}\\u003cbr\\u003eStart: %{customdata[0]|%Y\\u002f%m\\u002f%d %H:%M:%S.%L}\\u003cbr\\u003eEnd: %{customdata[1]|%Y\\u002f%m\\u002f%d %H:%M:%S.%L}\"},{\"base\":[0.7,0.7,0.7,0.7,0.7,0.7,0.7,0.7,0.7,0.7,0.7,0.7,0.7,0.7,0.7,0.7,0.7,0.7,0.7,0.7,0.7,0.7,0.7,0.7,0.7,0.7,0.7,0.7,0.7,0.7,0.7,0.7,0.7,0.7,0.7,0.7,0.7,0.7,0.7,0.8,0.8,0.8,0.6,0.8,0.8,0.8,0.8,0.8,0.8,0.8,0.8,0.8,0.8,0.8,0.8,0.8,0.8,0.7,0.6,0.8,0.8,0.8,0.8,0.8,0.8,0.8,0.8,0.8,0.8,0.7,0.8,0.8,0.8,0.8,0.8,0.8,0.8,0.8,0.8,0.8,0.8,0.8,0.8,0.8,0.8,0.8,0.8,0.8,0.8,0.8,0.8,0.8,0.8,0.8,0.8,0.8,0.7,0.8,0.8,0.8,0.8,0.8,0.8,0.8,0.8,0.8,0.8,0.6,0.8,0.8,0.8,0.8,0.8,0.8,0.8,0.8,0.8,0.8,0.8,0.8,0.8,0.8,0.8,0.8,0.6,0.6,0.8,0.8,0.8,0.7,0.6,0.8,0.8,0.8],\"customdata\":[[\"2024-06-10T00:00:00-04:00\",\"2024-06-11T00:00:00-04:00\"],[\"2024-01-08T00:00:00-05:00\",\"2024-01-09T00:00:00-05:00\"],[\"2024-02-08T00:00:00-05:00\",\"2024-02-09T00:00:00-05:00\"],[\"2024-03-08T00:00:00-05:00\",\"2024-03-09T00:00:00-05:00\"],[\"2024-04-08T00:00:00-04:00\",\"2024-04-09T00:00:00-04:00\"],[\"2024-05-08T00:00:00-04:00\",\"2024-05-09T00:00:00-04:00\"],[\"2024-06-08T00:00:00-04:00\",\"2024-06-09T00:00:00-04:00\"],[\"2024-07-08T00:00:00-04:00\",\"2024-07-09T00:00:00-04:00\"],[\"2024-08-08T00:00:00-04:00\",\"2024-08-09T00:00:00-04:00\"],[\"2024-09-08T00:00:00-04:00\",\"2024-09-09T00:00:00-04:00\"],[\"2024-10-08T00:00:00-04:00\",\"2024-10-09T00:00:00-04:00\"],[\"2024-11-08T00:00:00-05:00\",\"2024-11-09T00:00:00-05:00\"],[\"2024-12-08T00:00:00-05:00\",\"2024-12-09T00:00:00-05:00\"],[\"2024-01-08T00:00:00-05:00\",\"2024-01-09T00:00:00-05:00\"],[\"2024-01-22T00:00:00-05:00\",\"2024-01-23T00:00:00-05:00\"],[\"2024-02-05T00:00:00-05:00\",\"2024-02-06T00:00:00-05:00\"],[\"2024-02-19T00:00:00-05:00\",\"2024-02-20T00:00:00-05:00\"],[\"2024-03-04T00:00:00-05:00\",\"2024-03-05T00:00:00-05:00\"],[\"2024-03-18T00:00:00-04:00\",\"2024-03-19T00:00:00-04:00\"],[\"2024-04-01T00:00:00-04:00\",\"2024-04-02T00:00:00-04:00\"],[\"2024-04-15T00:00:00-04:00\",\"2024-04-16T00:00:00-04:00\"],[\"2024-04-29T00:00:00-04:00\",\"2024-04-30T00:00:00-04:00\"],[\"2024-05-13T00:00:00-04:00\",\"2024-05-14T00:00:00-04:00\"],[\"2024-05-27T00:00:00-04:00\",\"2024-05-28T00:00:00-04:00\"],[\"2024-06-10T00:00:00-04:00\",\"2024-06-11T00:00:00-04:00\"],[\"2024-06-24T00:00:00-04:00\",\"2024-06-25T00:00:00-04:00\"],[\"2024-07-08T00:00:00-04:00\",\"2024-07-09T00:00:00-04:00\"],[\"2024-07-22T00:00:00-04:00\",\"2024-07-23T00:00:00-04:00\"],[\"2024-08-05T00:00:00-04:00\",\"2024-08-06T00:00:00-04:00\"],[\"2024-08-19T00:00:00-04:00\",\"2024-08-20T00:00:00-04:00\"],[\"2024-09-02T00:00:00-04:00\",\"2024-09-03T00:00:00-04:00\"],[\"2024-09-16T00:00:00-04:00\",\"2024-09-17T00:00:00-04:00\"],[\"2024-09-30T00:00:00-04:00\",\"2024-10-01T00:00:00-04:00\"],[\"2024-10-14T00:00:00-04:00\",\"2024-10-15T00:00:00-04:00\"],[\"2024-10-28T00:00:00-04:00\",\"2024-10-29T00:00:00-04:00\"],[\"2024-11-11T00:00:00-05:00\",\"2024-11-12T00:00:00-05:00\"],[\"2024-11-25T00:00:00-05:00\",\"2024-11-26T00:00:00-05:00\"],[\"2024-12-09T00:00:00-05:00\",\"2024-12-10T00:00:00-05:00\"],[\"2024-12-23T00:00:00-05:00\",\"2024-12-24T00:00:00-05:00\"],[\"2024-05-07T10:00:00-04:00\",\"2024-05-07T11:00:00-04:00\"],[\"2024-10-29T16:00:00-04:00\",\"2024-10-29T17:00:00-04:00\"],[\"2024-01-13T11:30:00-05:00\",\"2024-01-13T12:30:00-05:00\"],[\"2024-05-18T00:00:00-04:00\",\"2024-05-20T00:00:00-04:00\"],[\"2024-01-04T16:00:00-05:00\",\"2024-01-04T17:00:00-05:00\"],[\"2024-01-18T14:00:00-05:00\",\"2024-01-18T15:00:00-05:00\"],[\"2024-01-09T18:00:00-05:00\",\"2024-01-09T19:00:00-05:00\"],[\"2024-01-12T11:30:00-05:00\",\"2024-01-12T12:15:00-05:00\"],[\"2024-01-19T14:30:00-05:00\",\"2024-01-19T15:30:00-05:00\"],[\"2024-01-30T16:00:00-05:00\",\"2024-01-30T17:00:00-05:00\"],[\"2024-01-23T17:00:00-05:00\",\"2024-01-23T18:00:00-05:00\"],[\"2024-01-22T15:30:00-05:00\",\"2024-01-22T16:30:00-05:00\"],[\"2024-01-24T12:00:00-05:00\",\"2024-01-24T13:00:00-05:00\"],[\"2024-01-29T14:30:00-05:00\",\"2024-01-29T15:30:00-05:00\"],[\"2024-02-27T12:30:00-05:00\",\"2024-02-27T13:30:00-05:00\"],[\"2024-03-05T10:45:00-05:00\",\"2024-03-05T11:45:00-05:00\"],[\"2024-03-11T10:30:00-04:00\",\"2024-03-11T11:30:00-04:00\"],[\"2024-02-13T16:00:00-05:00\",\"2024-02-13T17:00:00-05:00\"],[\"2024-02-14T00:00:00-05:00\",\"2024-02-15T00:00:00-05:00\"],[\"2024-02-01T00:00:00-05:00\",\"2024-02-04T00:00:00-05:00\"],[\"2024-02-09T13:45:00-05:00\",\"2024-02-09T14:45:00-05:00\"],[\"2024-02-19T09:30:00-05:00\",\"2024-02-19T14:18:00-05:00\"],[\"2024-02-21T17:45:00-05:00\",\"2024-02-21T22:27:00-05:00\"],[\"2024-02-29T10:00:00-05:00\",\"2024-02-29T11:00:00-05:00\"],[\"2024-02-24T11:00:00-05:00\",\"2024-02-24T11:30:00-05:00\"],[\"2024-03-30T11:30:00-04:00\",\"2024-03-30T12:00:00-04:00\"],[\"2024-03-11T16:00:00-04:00\",\"2024-03-11T17:00:00-04:00\"],[\"2024-04-16T10:45:00-04:00\",\"2024-04-16T11:30:00-04:00\"],[\"2024-04-23T10:45:00-04:00\",\"2024-04-23T11:30:00-04:00\"],[\"2024-04-30T10:45:00-04:00\",\"2024-04-30T11:30:00-04:00\"],[\"2024-03-21T00:00:00-04:00\",\"2024-03-22T00:00:00-04:00\"],[\"2024-03-13T12:50:00-04:00\",\"2024-03-13T16:20:00-04:00\"],[\"2024-03-25T16:00:00-04:00\",\"2024-03-25T17:00:00-04:00\"],[\"2024-03-18T15:00:00-04:00\",\"2024-03-18T15:30:00-04:00\"],[\"2024-04-12T16:00:00-04:00\",\"2024-04-12T17:00:00-04:00\"],[\"2024-04-27T11:00:00-04:00\",\"2024-04-27T11:30:00-04:00\"],[\"2024-04-29T10:00:00-04:00\",\"2024-04-29T17:00:00-04:00\"],[\"2024-04-25T15:50:00-04:00\",\"2024-04-25T16:50:00-04:00\"],[\"2024-04-24T16:00:00-04:00\",\"2024-04-24T17:00:00-04:00\"],[\"2024-06-05T09:30:00-04:00\",\"2024-06-05T10:00:00-04:00\"],[\"2024-05-07T17:00:00-04:00\",\"2024-05-07T18:00:00-04:00\"],[\"2024-05-09T10:30:00-04:00\",\"2024-05-09T11:30:00-04:00\"],[\"2024-05-28T17:30:00-04:00\",\"2024-05-28T18:30:00-04:00\"],[\"2024-04-27T18:15:00-04:00\",\"2024-04-27T19:15:00-04:00\"],[\"2024-04-30T10:15:00-04:00\",\"2024-04-30T16:45:00-04:00\"],[\"2024-05-01T10:15:00-04:00\",\"2024-05-01T16:45:00-04:00\"],[\"2024-05-02T10:15:00-04:00\",\"2024-05-02T16:45:00-04:00\"],[\"2024-05-07T15:30:00-04:00\",\"2024-05-07T16:30:00-04:00\"],[\"2024-05-17T12:45:00-04:00\",\"2024-05-17T13:30:00-04:00\"],[\"2024-05-23T09:00:00-04:00\",\"2024-05-23T10:00:00-04:00\"],[\"2024-11-12T10:00:00-05:00\",\"2024-11-12T11:00:00-05:00\"],[\"2024-05-09T13:45:00-04:00\",\"2024-05-09T14:30:00-04:00\"],[\"2024-05-23T14:00:00-04:00\",\"2024-05-23T15:00:00-04:00\"],[\"2024-05-10T08:00:00-04:00\",\"2024-05-10T12:00:00-04:00\"],[\"2024-05-24T08:00:00-04:00\",\"2024-05-24T15:00:00-04:00\"],[\"2024-06-09T11:30:00-04:00\",\"2024-06-09T14:30:00-04:00\"],[\"2024-05-22T11:30:00-04:00\",\"2024-05-22T14:00:00-04:00\"],[\"2024-08-04T00:00:00-04:00\",\"2024-08-05T00:00:00-04:00\"],[\"2024-06-05T15:00:00-04:00\",\"2024-06-05T16:00:00-04:00\"],[\"2024-06-15T18:00:00-04:00\",\"2024-06-15T21:00:00-04:00\"],[\"2024-06-29T11:30:00-04:00\",\"2024-06-29T12:00:00-04:00\"],[\"2024-06-05T10:30:00-04:00\",\"2024-06-05T11:30:00-04:00\"],[\"2024-06-24T16:00:00-04:00\",\"2024-06-24T17:00:00-04:00\"],[\"2024-06-04T16:30:00-04:00\",\"2024-06-04T17:30:00-04:00\"],[\"2024-06-25T16:00:00-04:00\",\"2024-06-25T17:00:00-04:00\"],[\"2024-06-12T15:15:00-04:00\",\"2024-06-12T16:15:00-04:00\"],[\"2024-06-25T10:00:00-04:00\",\"2024-06-25T11:00:00-04:00\"],[\"2024-07-03T16:00:00-04:00\",\"2024-07-03T20:00:00-04:00\"],[\"2024-02-19T00:00:00-05:00\",\"2024-02-22T00:00:00-05:00\"],[\"2024-02-19T12:00:00-05:00\",\"2024-02-19T14:18:00-05:00\"],[\"2024-02-19T09:30:00-05:00\",\"2024-02-19T10:39:00-05:00\"],[\"2024-06-22T17:00:00-04:00\",\"2024-06-22T19:00:00-04:00\"],[\"2024-07-11T16:00:00-04:00\",\"2024-07-11T17:00:00-04:00\"],[\"2024-07-22T18:00:00-04:00\",\"2024-07-22T19:00:00-04:00\"],[\"2024-06-03T13:30:00-04:00\",\"2024-06-03T14:00:00-04:00\"],[\"2024-08-05T13:30:00-04:00\",\"2024-08-05T14:00:00-04:00\"],[\"2024-07-08T13:30:00-04:00\",\"2024-07-08T14:00:00-04:00\"],[\"2024-07-17T18:00:00-04:00\",\"2024-07-17T21:00:00-04:00\"],[\"2024-07-27T12:00:00-04:00\",\"2024-07-27T21:00:00-04:00\"],[\"2024-07-18T14:00:00-04:00\",\"2024-07-18T14:45:00-04:00\"],[\"2024-07-22T16:00:00-04:00\",\"2024-07-22T18:00:00-04:00\"],[\"2024-07-23T18:30:00-04:00\",\"2024-07-23T20:15:00-04:00\"],[\"2024-07-25T18:00:00-04:00\",\"2024-07-25T19:45:00-04:00\"],[\"2024-07-26T16:45:00-04:00\",\"2024-07-26T18:30:00-04:00\"],[\"2024-07-27T09:15:00-04:00\",\"2024-07-27T11:30:00-04:00\"],[\"2024-06-19T00:00:00-04:00\",\"2024-06-21T00:00:00-04:00\"],[\"2024-06-18T00:00:00-04:00\",\"2024-06-20T00:00:00-04:00\"],[\"2024-08-22T17:30:00-04:00\",\"2024-08-22T18:00:00-04:00\"],[\"2024-08-08T14:00:00-04:00\",\"2024-08-08T15:00:00-04:00\"],[\"2024-08-14T10:00:00-04:00\",\"2024-08-14T11:00:00-04:00\"],[\"2024-08-03T00:00:00-04:00\",\"2024-08-04T00:00:00-04:00\"],[\"2024-08-16T00:00:00-04:00\",\"2024-08-19T00:00:00-04:00\"],[\"2024-07-31T18:00:00-04:00\",\"2024-07-31T21:00:00-04:00\"],[\"2024-08-06T09:30:00-04:00\",\"2024-08-06T10:00:00-04:00\"],[\"2024-08-11T13:00:00-04:00\",\"2024-08-11T17:00:00-04:00\"]],\"marker\":{\"color\":[\"#9a9cff\",\"#9a9cff\",\"#9a9cff\",\"#9a9cff\",\"#9a9cff\",\"#9a9cff\",\"#9a9cff\",\"#9a9cff\",\"#9a9cff\",\"#9a9cff\",\"#9a9cff\",\"#9a9cff\",\"#9a9cff\",\"#9a9cff\",\"#9a9cff\",\"#9a9cff\",\"#9a9cff\",\"#9a9cff\",\"#9a9cff\",\"#9a9cff\",\"#9a9cff\",\"#9a9cff\",\"#9a9cff\",\"#9a9cff\",\"#9a9cff\",\"#9a9cff\",\"#9a9cff\",\"#9a9cff\",\"#9a9cff\",\"#9a9cff\",\"#9a9cff\",\"#9a9cff\",\"#9a9cff\",\"#9a9cff\",\"#9a9cff\",\"#9a9cff\",\"#9a9cff\",\"#9a9cff\",\"#9a9cff\",\"#9a9cff\",\"#9a9cff\",\"#9a9cff\",\"#9a9cff\",\"#9a9cff\",\"#9a9cff\",\"#9a9cff\",\"#9a9cff\",\"#9a9cff\",\"#9a9cff\",\"#9a9cff\",\"#9a9cff\",\"#9a9cff\",\"#9a9cff\",\"#9a9cff\",\"#9a9cff\",\"#9a9cff\",\"#9a9cff\",\"#9a9cff\",\"#9a9cff\",\"#9a9cff\",\"#9a9cff\",\"#9a9cff\",\"#9a9cff\",\"#9a9cff\",\"#9a9cff\",\"#9a9cff\",\"#9a9cff\",\"#9a9cff\",\"#9a9cff\",\"#9a9cff\",\"#9a9cff\",\"#9a9cff\",\"#9a9cff\",\"#9a9cff\",\"#9a9cff\",\"#9a9cff\",\"#9a9cff\",\"#9a9cff\",\"#9a9cff\",\"#9a9cff\",\"#9a9cff\",\"#9a9cff\",\"#9a9cff\",\"#9a9cff\",\"#9a9cff\",\"#9a9cff\",\"#9a9cff\",\"#9a9cff\",\"#9a9cff\",\"#9a9cff\",\"#9a9cff\",\"#9a9cff\",\"#9a9cff\",\"#9a9cff\",\"#9a9cff\",\"#9a9cff\",\"#9a9cff\",\"#9a9cff\",\"#9a9cff\",\"#9a9cff\",\"#9a9cff\",\"#9a9cff\",\"#9a9cff\",\"#9a9cff\",\"#9a9cff\",\"#9a9cff\",\"#9a9cff\",\"#9a9cff\",\"#9a9cff\",\"#9a9cff\",\"#9a9cff\",\"#9a9cff\",\"#9a9cff\",\"#9a9cff\",\"#9a9cff\",\"#9a9cff\",\"#9a9cff\",\"#9a9cff\",\"#9a9cff\",\"#9a9cff\",\"#9a9cff\",\"#9a9cff\",\"#9a9cff\",\"#9a9cff\",\"#9a9cff\",\"#9a9cff\",\"#9a9cff\",\"#9a9cff\",\"#9a9cff\",\"#9a9cff\",\"#9a9cff\",\"#9a9cff\",\"#9a9cff\",\"#9a9cff\"]},\"name\":\"Keith Davis\",\"r\":[0.097,0.097,0.097,0.097,0.097,0.097,0.097,0.097,0.097,0.097,0.097,0.097,0.097,0.097,0.097,0.097,0.097,0.097,0.097,0.097,0.097,0.097,0.097,0.097,0.097,0.097,0.097,0.097,0.097,0.097,0.097,0.097,0.097,0.097,0.097,0.097,0.097,0.097,0.097,0.097,0.097,0.097,0.097,0.097,0.097,0.097,0.097,0.097,0.097,0.097,0.097,0.097,0.097,0.097,0.097,0.097,0.097,0.097,0.097,0.097,0.097,0.097,0.097,0.097,0.097,0.097,0.097,0.097,0.097,0.097,0.097,0.097,0.097,0.097,0.097,0.097,0.097,0.097,0.097,0.097,0.097,0.097,0.097,0.097,0.097,0.097,0.097,0.097,0.097,0.097,0.097,0.097,0.097,0.097,0.097,0.097,0.097,0.097,0.097,0.097,0.097,0.097,0.097,0.097,0.097,0.097,0.097,0.097,0.097,0.097,0.097,0.097,0.097,0.097,0.097,0.097,0.097,0.097,0.097,0.097,0.097,0.097,0.097,0.097,0.097,0.097,0.097,0.097,0.097,0.097,0.097,0.097,0.097,0.097],\"text\":[\"Mom's Birthday\",\"Nipsco Due\",\"Nipsco Due\",\"Nipsco Due\",\"Nipsco Due\",\"Nipsco Due\",\"Nipsco Due\",\"Nipsco Due\",\"Nipsco Due\",\"Nipsco Due\",\"Nipsco Due\",\"Nipsco Due\",\"Nipsco Due\",\"recycling pickup\",\"recycling pickup\",\"recycling pickup\",\"recycling pickup\",\"recycling pickup\",\"recycling pickup\",\"recycling pickup\",\"recycling pickup\",\"recycling pickup\",\"recycling pickup\",\"recycling pickup\",\"recycling pickup\",\"recycling pickup\",\"recycling pickup\",\"recycling pickup\",\"recycling pickup\",\"recycling pickup\",\"recycling pickup\",\"recycling pickup\",\"recycling pickup\",\"recycling pickup\",\"recycling pickup\",\"recycling pickup\",\"recycling pickup\",\"recycling pickup\",\"recycling pickup\",\"Dentist\",\"Dermatology\",\"Robby meeting\",\"Chelsea\\u2019s Graduation\",\"Therapy\",\"Therapy\",\"Reservation at Jes\\u00fas Latin Grill\",\"PT\",\"physio appointment\",\"therapy\",\"PT\",\"Eye appt ent\",\"Lunch\",\"PT\",\"PT\",\"Physical Therapy\",\"physical therapy\",\"therapy\",\"Finish Chapter 1\",\"Test Python Read\",\"haircut\",\"Flight# UA5309 from SBN -\\u003e ORD\\n\\t (1 hour and 9 mins.)  Layover of 1 hour and 21 mins.  Flight# 2617 from ORD -\\u003e BOS\\n\\t (2 hours and 18 mins.)\",\"Flight# DL2061 from BOS -\\u003e DTW\\n\\t (2 hours and 33 mins.)  Layover of 1 hour and 2 mins.  Flight# 3751 from DTW -\\u003e SBN\\n\\t (1 hour and 7 mins.)\",\"Furnace CHeckup.\",\"Robby meeting\",\"Meet with Robby\",\"therapy\",\"pt\",\"pt\",\"pt\",\"RFP Final Draft Due\",\"Dune 2\",\"therapy\",\"haircyt\",\"therapy\",\"Robby Meeting\",\"Jury Duty\",\"Foot appointment\",\"therapy\",\"PHone appointee doctor\",\"Therapy\",\"foot doctor\",\"robbykeeting\",\"Reservation at Woochi Japanese Fusion & Bar\",\"Jury Duty\",\"Jury Duty\",\"Jury Duty\",\"PT Appointment\",\"PT\",\"PT\",\"dentist\",\"hIRCUT\",\"Therapy\",\"Mishawaka Door, LLC\",\"Graage door fix\",\"CFSB potluck\",\"Gym\",\"Dayna\\u2019s Wedding Reception.\",\"Therapy\",\"Unmade Space\",\"Robby Meeting\",\"AJ roof inspection\",\"Charlie Appointment\",\"Feathers Vet\",\"therapy\",\"haircut\",\"Garage Estimate\",\"Unmade Space\",\"Stay at The Royal Sonesta Boston\",\"Flight to Boston (UA 2617)\",\"Flight to Chicago (UA 5309)\",\"Keith and Chelsie and all the cats\",\"therapy\",\"6:00 Robby meeting\",\"CFSB ID Monthly Education Call\",\"CFSB ID Monthly Education Call\",\"CFSB ID Monthly Education Call\",\"Unmade Space\",\"Star Wars Costuming Get-together\",\"haircut\",\"Workout\",\"workout\",\"Workout\",\"Workout\",\"Workout\",\"Stay at Fairfield Inn & Suites Hooksett\",\"Stay at Courtyard Concord\",\"Robby Meeting\",\"Therapy\",\"AC Inspection\",\"Stay Steve Alford Inn\",\"Fan Expo Chicago\",\"Unmade Space\",\"AUto Service\",\"Unmade Space\"],\"theta\":[158.81147540983608,7.3770491803278695,37.868852459016395,66.39344262295083,96.84426229508196,126.35245901639345,156.844262295082,186.35245901639345,216.844262295082,247.33606557377053,276.844262295082,307.3770491803279,336.88524590163934,7.3770491803278695,21.147540983606557,34.91803278688525,48.68852459016394,62.459016393442624,76.18852459016394,89.95901639344262,103.72950819672131,117.5,131.2704918032787,145.0409836065574,158.81147540983608,172.58196721311478,186.35245901639345,200.12295081967216,213.89344262295083,227.66393442622953,241.43442622950823,255.20491803278688,268.9754098360656,282.74590163934425,296.5163934426229,310.32786885245906,324.09836065573774,337.8688524590164,351.6393442622951,125.30737704918033,297.6844262295082,12.295081967213115,136.6803278688525,3.627049180327869,17.315573770491806,8.62704918032787,11.306352459016393,18.31967213114754,29.20081967213115,22.35655737704918,21.311475409836067,23.135245901639344,28.155737704918035,56.59836065573771,63.411885245901644,69.26229508196722,42.97131147540984,43.77049180327869,31.9672131147541,38.94467213114754,48.6844262295082,50.98770491803279,58.46311475409836,53.57581967213115,87.98155737704919,69.48770491803279,104.67725409836066,111.5625,118.44774590163935,79.13934426229508,71.37636612021859,83.25819672131148,76.32172131147541,100.96311475409836,115.50204918032787,117.56147540983606,113.74316939890711,112.76639344262296,153.80122950819674,125.59426229508198,127.29508196721311,146.2704918032787,115.8094262295082,118.54508196721312,119.52868852459017,120.51229508196721,125.53278688524591,135.25102459016395,141.00409836065575,311.25,127.42315573770493,141.20901639344262,128.2377049180328,142.06967213114754,157.8688524590164,140.1536885245902,212.90983606557378,154.03688524590163,164.03688524590166,177.48975409836066,153.85245901639345,172.76639344262298,153.11475409836066,173.75000000000003,160.93237704918036,173.50409836065575,181.6803278688525,49.67213114754099,48.73565573770492,48.60963114754099,170.86065573770495,189.48770491803282,200.38934426229508,151.99795081967213,213.96516393442624,186.42418032786887,195.51229508196724,205.2254098360656,196.2858606557377,200.327868852459,201.40881147540983,203.35553278688525,204.2879098360656,204.97438524590166,168.15573770491804,167.172131147541,230.85040983606558,216.94672131147541,222.68442622950823,211.92622950819674,225.69672131147544,209.2827868852459,214.78483606557378,219.91803278688528],\"width\":[0.9836065573770492,0.9836065573770492,0.9836065573770492,0.9836065573770492,0.9836065573770492,0.9836065573770492,0.9836065573770492,0.9836065573770492,0.9836065573770492,0.9836065573770492,0.9836065573770492,0.9836065573770492,0.9836065573770492,0.9836065573770492,0.9836065573770492,0.9836065573770492,0.9836065573770492,0.9836065573770492,0.9836065573770492,0.9836065573770492,0.9836065573770492,0.9836065573770492,0.9836065573770492,0.9836065573770492,0.9836065573770492,0.9836065573770492,0.9836065573770492,0.9836065573770492,0.9836065573770492,0.9836065573770492,0.9836065573770492,0.9836065573770492,0.9836065573770492,0.9836065573770492,0.9836065573770492,0.9836065573770492,0.9836065573770492,0.9836065573770492,0.9836065573770492,0.040983606557377046,0.040983606557377046,0.040983606557377046,1.9672131147540983,0.040983606557377046,0.040983606557377046,0.040983606557377046,0.030737704918032786,0.040983606557377046,0.040983606557377046,0.040983606557377046,0.040983606557377046,0.040983606557377046,0.040983606557377046,0.040983606557377046,0.040983606557377046,0.040983606557377046,0.040983606557377046,0.9836065573770492,2.9508196721311477,0.040983606557377046,0.19672131147540983,0.19262295081967212,0.040983606557377046,0.020491803278688523,0.020491803278688523,0.040983606557377046,0.030737704918032786,0.030737704918032786,0.030737704918032786,0.9836065573770492,0.1434426229508197,0.040983606557377046,0.020491803278688523,0.040983606557377046,0.020491803278688523,0.2868852459016394,0.040983606557377046,0.040983606557377046,0.020491803278688523,0.040983606557377046,0.040983606557377046,0.040983606557377046,0.040983606557377046,0.26639344262295084,0.26639344262295084,0.26639344262295084,0.040983606557377046,0.030737704918032786,0.040983606557377046,0.040983606557377046,0.030737704918032786,0.040983606557377046,0.16393442622950818,0.2868852459016394,0.12295081967213115,0.10245901639344263,0.9836065573770492,0.040983606557377046,0.12295081967213115,0.020491803278688523,0.040983606557377046,0.040983606557377046,0.040983606557377046,0.040983606557377046,0.040983606557377046,0.040983606557377046,0.16393442622950818,2.9508196721311477,0.09426229508196722,0.04713114754098361,0.08196721311475409,0.040983606557377046,0.040983606557377046,0.020491803278688523,0.020491803278688523,0.020491803278688523,0.12295081967213115,0.36885245901639346,0.030737704918032786,0.08196721311475409,0.07172131147540985,0.07172131147540985,0.07172131147540985,0.09221311475409837,1.9672131147540983,1.9672131147540983,0.020491803278688523,0.040983606557377046,0.040983606557377046,0.9836065573770492,2.9508196721311477,0.12295081967213115,0.020491803278688523,0.16393442622950818],\"type\":\"barpolar\",\"hovertemplate\":\"%{text}\\u003cbr\\u003eStart: %{customdata[0]|%Y\\u002f%m\\u002f%d %H:%M:%S.%L}\\u003cbr\\u003eEnd: %{customdata[1]|%Y\\u002f%m\\u002f%d %H:%M:%S.%L}\"},{\"base\":[0.8,0.8,0.8,0.8,0.8,0.8,0.8,0.8],\"customdata\":[[\"2024-12-14T16:00:00-05:00\",\"2024-12-14T17:00:00-05:00\"],[\"2024-01-13T17:00:00-05:00\",\"2024-01-13T21:00:00-05:00\"],[\"2024-02-04T17:00:00-05:00\",\"2024-02-04T21:00:00-05:00\"],[\"2024-03-17T17:00:00-04:00\",\"2024-03-17T21:00:00-04:00\"],[\"2024-03-24T18:00:00-04:00\",\"2024-03-24T20:00:00-04:00\"],[\"2024-04-14T18:00:00-04:00\",\"2024-04-14T21:00:00-04:00\"],[\"2024-04-28T18:00:00-04:00\",\"2024-04-28T21:00:00-04:00\"],[\"2024-05-12T18:00:00-04:00\",\"2024-05-12T21:00:00-04:00\"]],\"marker\":{\"color\":[\"#92e1c0\",\"#92e1c0\",\"#92e1c0\",\"#92e1c0\",\"#92e1c0\",\"#92e1c0\",\"#92e1c0\",\"#92e1c0\"]},\"name\":\"Axis Ludi Calendar\",\"r\":[0.097,0.097,0.097,0.097,0.097,0.097,0.097,0.097],\"text\":[\"Seattle Game\",\"Seattle Game\",\"Seattle Game\",\"Mage\",\"Mage\",\"Gaming: All Intents & Purposes pre-game\",\"Gaming: All Intents and Purposes\",\"Gaming: All Intents and Purposes\"],\"theta\":[342.97131147540983,12.581967213114755,34.221311475409834,75.49180327868852,82.37704918032787,103.05327868852459,116.82377049180329,130.594262295082],\"width\":[0.040983606557377046,0.16393442622950818,0.16393442622950818,0.16393442622950818,0.08196721311475409,0.12295081967213115,0.12295081967213115,0.12295081967213115],\"type\":\"barpolar\",\"hovertemplate\":\"%{text}\\u003cbr\\u003eStart: %{customdata[0]|%Y\\u002f%m\\u002f%d %H:%M:%S.%L}\\u003cbr\\u003eEnd: %{customdata[1]|%Y\\u002f%m\\u002f%d %H:%M:%S.%L}\"},{\"base\":[0.7,0.7,0.7,0.7,0.7,0.7,0.7,0.7,0.7,0.6,0.7,0.7,0.7,0.7,0.6,0.7,0.7,0.7,0.7,0.7,0.7,0.7,0.6,0.7,0.7,0.7,0.6,0.7,0.7,0.7,0.7,0.7,0.7,0.7,0.7,0.7,0.7,0.7,0.7,0.7,0.7,0.7,0.7,0.7,0.7,0.7,0.7,0.7,0.7,0.7,0.7,0.7,0.7,0.7,0.7,0.7,0.7,0.7,0.7,0.7,0.7,0.7,0.7],\"customdata\":[[\"2024-01-07T00:00:00-05:00\",\"2024-01-08T00:00:00-05:00\"],[\"2024-01-14T00:00:00-05:00\",\"2024-01-15T00:00:00-05:00\"],[\"2024-01-15T00:00:00-05:00\",\"2024-01-16T00:00:00-05:00\"],[\"2024-01-16T00:00:00-05:00\",\"2024-01-17T00:00:00-05:00\"],[\"2024-01-23T00:00:00-05:00\",\"2024-01-24T00:00:00-05:00\"],[\"2024-02-16T00:00:00-05:00\",\"2024-02-17T00:00:00-05:00\"],[\"2024-02-16T00:00:00-05:00\",\"2024-02-17T00:00:00-05:00\"],[\"2024-02-17T00:00:00-05:00\",\"2024-02-18T00:00:00-05:00\"],[\"2024-02-18T00:00:00-05:00\",\"2024-02-19T00:00:00-05:00\"],[\"2024-03-09T00:00:00-05:00\",\"2024-03-18T00:00:00-04:00\"],[\"2024-03-11T00:00:00-04:00\",\"2024-03-12T00:00:00-04:00\"],[\"2024-03-12T00:00:00-04:00\",\"2024-03-13T00:00:00-04:00\"],[\"2024-03-20T00:00:00-04:00\",\"2024-03-21T00:00:00-04:00\"],[\"2024-03-22T00:00:00-04:00\",\"2024-03-23T00:00:00-04:00\"],[\"2024-03-29T00:00:00-04:00\",\"2024-04-02T00:00:00-04:00\"],[\"2024-04-15T00:00:00-04:00\",\"2024-04-16T00:00:00-04:00\"],[\"2024-04-23T00:00:00-04:00\",\"2024-04-24T00:00:00-04:00\"],[\"2024-05-01T00:00:00-04:00\",\"2024-05-02T00:00:00-04:00\"],[\"2024-05-02T00:00:00-04:00\",\"2024-05-03T00:00:00-04:00\"],[\"2024-05-03T00:00:00-04:00\",\"2024-05-04T00:00:00-04:00\"],[\"2024-05-04T00:00:00-04:00\",\"2024-05-05T00:00:00-04:00\"],[\"2024-05-05T00:00:00-04:00\",\"2024-05-06T00:00:00-04:00\"],[\"2024-05-06T00:00:00-04:00\",\"2024-05-11T00:00:00-04:00\"],[\"2024-05-11T00:00:00-04:00\",\"2024-05-12T00:00:00-04:00\"],[\"2024-05-13T00:00:00-04:00\",\"2024-05-14T00:00:00-04:00\"],[\"2024-05-14T00:00:00-04:00\",\"2024-05-15T00:00:00-04:00\"],[\"2024-05-17T00:00:00-04:00\",\"2024-05-20T00:00:00-04:00\"],[\"2024-07-19T00:00:00-04:00\",\"2024-07-20T00:00:00-04:00\"],[\"2024-08-04T00:00:00-04:00\",\"2024-08-05T00:00:00-04:00\"],[\"2024-08-26T00:00:00-04:00\",\"2024-08-27T00:00:00-04:00\"],[\"2024-08-27T00:00:00-04:00\",\"2024-08-28T00:00:00-04:00\"],[\"2024-09-02T00:00:00-04:00\",\"2024-09-03T00:00:00-04:00\"],[\"2024-09-03T00:00:00-04:00\",\"2024-09-04T00:00:00-04:00\"],[\"2024-10-19T00:00:00-04:00\",\"2024-10-20T00:00:00-04:00\"],[\"2024-10-20T00:00:00-04:00\",\"2024-10-21T00:00:00-04:00\"],[\"2024-10-21T00:00:00-04:00\",\"2024-10-22T00:00:00-04:00\"],[\"2024-10-22T00:00:00-04:00\",\"2024-10-23T00:00:00-04:00\"],[\"2024-10-23T00:00:00-04:00\",\"2024-10-24T00:00:00-04:00\"],[\"2024-10-24T00:00:00-04:00\",\"2024-10-25T00:00:00-04:00\"],[\"2024-10-25T00:00:00-04:00\",\"2024-10-26T00:00:00-04:00\"],[\"2024-10-26T00:00:00-04:00\",\"2024-10-27T00:00:00-04:00\"],[\"2024-10-27T00:00:00-04:00\",\"2024-10-28T00:00:00-04:00\"],[\"2024-10-21T00:00:00-04:00\",\"2024-10-22T00:00:00-04:00\"],[\"2024-11-01T00:00:00-04:00\",\"2024-11-02T00:00:00-04:00\"],[\"2024-11-18T00:00:00-05:00\",\"2024-11-19T00:00:00-05:00\"],[\"2024-11-27T00:00:00-05:00\",\"2024-11-28T00:00:00-05:00\"],[\"2024-11-28T00:00:00-05:00\",\"2024-11-29T00:00:00-05:00\"],[\"2024-11-29T00:00:00-05:00\",\"2024-11-30T00:00:00-05:00\"],[\"2024-12-03T00:00:00-05:00\",\"2024-12-04T00:00:00-05:00\"],[\"2024-12-12T00:00:00-05:00\",\"2024-12-13T00:00:00-05:00\"],[\"2024-12-13T00:00:00-05:00\",\"2024-12-14T00:00:00-05:00\"],[\"2024-12-14T00:00:00-05:00\",\"2024-12-15T00:00:00-05:00\"],[\"2024-12-15T00:00:00-05:00\",\"2024-12-16T00:00:00-05:00\"],[\"2024-12-16T00:00:00-05:00\",\"2024-12-17T00:00:00-05:00\"],[\"2024-12-17T00:00:00-05:00\",\"2024-12-18T00:00:00-05:00\"],[\"2024-12-18T00:00:00-05:00\",\"2024-12-19T00:00:00-05:00\"],[\"2024-12-19T00:00:00-05:00\",\"2024-12-20T00:00:00-05:00\"],[\"2024-12-20T00:00:00-05:00\",\"2024-12-21T00:00:00-05:00\"],[\"2024-12-23T00:00:00-05:00\",\"2024-12-24T00:00:00-05:00\"],[\"2024-12-22T00:00:00-05:00\",\"2024-12-23T00:00:00-05:00\"],[\"2024-09-13T00:00:00-04:00\",\"2024-09-14T00:00:00-04:00\"],[\"2024-08-23T00:00:00-04:00\",\"2024-08-24T00:00:00-04:00\"],[\"2024-08-25T00:00:00-04:00\",\"2024-08-26T00:00:00-04:00\"]],\"marker\":{\"color\":[\"#ac725e\",\"#ac725e\",\"#ac725e\",\"#ac725e\",\"#ac725e\",\"#ac725e\",\"#ac725e\",\"#ac725e\",\"#ac725e\",\"#ac725e\",\"#ac725e\",\"#ac725e\",\"#ac725e\",\"#ac725e\",\"#ac725e\",\"#ac725e\",\"#ac725e\",\"#ac725e\",\"#ac725e\",\"#ac725e\",\"#ac725e\",\"#ac725e\",\"#ac725e\",\"#ac725e\",\"#ac725e\",\"#ac725e\",\"#ac725e\",\"#ac725e\",\"#ac725e\",\"#ac725e\",\"#ac725e\",\"#ac725e\",\"#ac725e\",\"#ac725e\",\"#ac725e\",\"#ac725e\",\"#ac725e\",\"#ac725e\",\"#ac725e\",\"#ac725e\",\"#ac725e\",\"#ac725e\",\"#ac725e\",\"#ac725e\",\"#ac725e\",\"#ac725e\",\"#ac725e\",\"#ac725e\",\"#ac725e\",\"#ac725e\",\"#ac725e\",\"#ac725e\",\"#ac725e\",\"#ac725e\",\"#ac725e\",\"#ac725e\",\"#ac725e\",\"#ac725e\",\"#ac725e\",\"#ac725e\",\"#ac725e\",\"#ac725e\",\"#ac725e\"]},\"name\":\"Academic Calendar\",\"r\":[0.097,0.097,0.097,0.097,0.097,0.097,0.097,0.097,0.097,0.097,0.097,0.097,0.097,0.097,0.097,0.097,0.097,0.097,0.097,0.097,0.097,0.097,0.097,0.097,0.097,0.097,0.097,0.097,0.097,0.097,0.097,0.097,0.097,0.097,0.097,0.097,0.097,0.097,0.097,0.097,0.097,0.097,0.097,0.097,0.097,0.097,0.097,0.097,0.097,0.097,0.097,0.097,0.097,0.097,0.097,0.097,0.097,0.097,0.097,0.097,0.097,0.097,0.097],\"text\":[\"January Graduation Date\",\"Undergraduate halls open for move-in beginning at 9:00am\",\"Martin Luther King Day - no classes\",\"Classes begin\",\"Last date for all class changes\",\"Last day to drop a class at Saint Mary's College\",\"Junior Parent's Weekend\",\"Junior Parent's Weekend\",\"Junior Parent's Weekend\",\"Mid-Term Break\",\"Mid-term grades due\",\"Students can view grades\",\"Registration begins for Summer Session\",\"Last day to drop a class\",\"Easter Holiday for students\",\"Registration begins for Fall 2024\",\"Course Instructor Feedback (CIF) begins\",\"Last Class Day\",\"Reading Day\",\"Reading Day\",\"Reading Day\",\"Reading Day\",\"Final Exam Week\",\"Undergraduate Halls close at Noon\",\"Final grades are due\",\"Students can view final grades\",\"Commencement Weekend\",\"Last class day for regular 6-week Summer classes\",\"Summer graduation date\",\"Classes begin for Law School and Graduate Business\",\"CLASSES BEGIN\",\"Labor Day - classes are in session\",\"Last date for all class changes\",\"Fall Break\",\"Fall Break\",\"Fall Break\",\"Fall Break\",\"Fall Break\",\"Fall Break\",\"Fall Break\",\"Fall Break\",\"Fall Break\",\"GRADES DUE by 3:45pm\",\"Last day to drop a class\",\"Spring registration begins\",\"Thanksgiving Holiday for students\",\"Thanksgiving\",\"Thanksgiving holiday for students, faculty, staff\",\"Course Instructor Feedback (CIF) begins\",\"LAST CLASS DAY\",\"Reading Day - no exams\",\"Reading Day - no exams\",\"Reading Day - no exams\",\"FINAL EXAMS - no review sessions\",\"FINAL EXAMS - no review sessions\",\"FINAL EXAMS - no review sessions\",\"FINAL EXAMS - no review sessions\",\"FINAL EXAMS - no review sessions\",\"GRADES DUE by 3:45pm\",\"Undergraduate Halls close by Noon\",\"Presidential Inauguration - no classes\",\"Undergraduate Halls open for new first year students\",\"Undergraduate Halls open at 9am\"],\"theta\":[6.39344262295082,13.278688524590164,14.262295081967213,15.245901639344263,22.13114754098361,45.73770491803279,45.73770491803279,46.72131147540984,47.704918032786885,71.25,69.30327868852459,70.28688524590164,78.15573770491804,80.12295081967213,88.48360655737704,103.72950819672131,111.59836065573771,119.4672131147541,120.45081967213115,121.4344262295082,122.41803278688525,123.40163934426229,126.35245901639345,129.3032786885246,131.2704918032787,132.25409836065575,136.18852459016395,197.172131147541,212.90983606557378,234.54918032786887,235.5327868852459,241.43442622950823,242.41803278688528,287.6639344262295,288.6475409836066,289.6311475409836,290.61475409836066,291.5983606557377,292.58196721311475,293.5655737704918,294.54918032786884,295.5327868852459,289.6311475409836,300.45081967213116,317.2131147540984,326.0655737704918,327.0491803278689,328.0327868852459,331.96721311475414,340.81967213114757,341.8032786885246,342.78688524590166,343.77049180327873,344.75409836065575,345.7377049180328,346.72131147540983,347.7049180327869,348.688524590164,351.6393442622951,350.65573770491807,252.25409836065575,231.59836065573774,233.56557377049182],\"width\":[0.9836065573770492,0.9836065573770492,0.9836065573770492,0.9836065573770492,0.9836065573770492,0.9836065573770492,0.9836065573770492,0.9836065573770492,0.9836065573770492,8.811475409836065,0.9836065573770492,0.9836065573770492,0.9836065573770492,0.9836065573770492,3.9344262295081966,0.9836065573770492,0.9836065573770492,0.9836065573770492,0.9836065573770492,0.9836065573770492,0.9836065573770492,0.9836065573770492,4.918032786885246,0.9836065573770492,0.9836065573770492,0.9836065573770492,2.9508196721311477,0.9836065573770492,0.9836065573770492,0.9836065573770492,0.9836065573770492,0.9836065573770492,0.9836065573770492,0.9836065573770492,0.9836065573770492,0.9836065573770492,0.9836065573770492,0.9836065573770492,0.9836065573770492,0.9836065573770492,0.9836065573770492,0.9836065573770492,0.9836065573770492,0.9836065573770492,0.9836065573770492,0.9836065573770492,0.9836065573770492,0.9836065573770492,0.9836065573770492,0.9836065573770492,0.9836065573770492,0.9836065573770492,0.9836065573770492,0.9836065573770492,0.9836065573770492,0.9836065573770492,0.9836065573770492,0.9836065573770492,0.9836065573770492,0.9836065573770492,0.9836065573770492,0.9836065573770492,0.9836065573770492],\"type\":\"barpolar\",\"hovertemplate\":\"%{text}\\u003cbr\\u003eStart: %{customdata[0]|%Y\\u002f%m\\u002f%d %H:%M:%S.%L}\\u003cbr\\u003eEnd: %{customdata[1]|%Y\\u002f%m\\u002f%d %H:%M:%S.%L}\"},{\"base\":[0.7,0.7,0.7,0.7,0.7,0.7,0.7,0.7,0.7,0.8,0.7,0.7,0.7,0.7,0.7,0.7,0.7,0.7,0.7,0.7,0.7,0.7,0.7,0.7,0.7,0.7,0.7,0.7,0.7,0.6,0.7,0.7,0.7,0.7],\"customdata\":[[\"2024-02-01T00:00:00-05:00\",\"2024-02-02T00:00:00-05:00\"],[\"2024-03-01T00:00:00-05:00\",\"2024-03-02T00:00:00-05:00\"],[\"2024-05-01T00:00:00-04:00\",\"2024-05-02T00:00:00-04:00\"],[\"2024-06-01T00:00:00-04:00\",\"2024-06-02T00:00:00-04:00\"],[\"2024-09-15T00:00:00-04:00\",\"2024-09-16T00:00:00-04:00\"],[\"2024-10-14T00:00:00-04:00\",\"2024-10-15T00:00:00-04:00\"],[\"2024-10-14T00:00:00-04:00\",\"2024-10-15T00:00:00-04:00\"],[\"2024-11-01T00:00:00-04:00\",\"2024-11-02T00:00:00-04:00\"],[\"2024-11-29T00:00:00-05:00\",\"2024-11-30T00:00:00-05:00\"],[\"2024-03-10T00:00:00-05:00\",\"2024-03-11T00:00:00-04:00\"],[\"2024-04-01T00:00:00-04:00\",\"2024-04-02T00:00:00-04:00\"],[\"2024-07-04T00:00:00-04:00\",\"2024-07-05T00:00:00-04:00\"],[\"2024-12-25T00:00:00-05:00\",\"2024-12-26T00:00:00-05:00\"],[\"2024-03-17T00:00:00-04:00\",\"2024-03-18T00:00:00-04:00\"],[\"2024-06-19T00:00:00-04:00\",\"2024-06-20T00:00:00-04:00\"],[\"2024-10-31T00:00:00-04:00\",\"2024-11-01T00:00:00-04:00\"],[\"2024-11-05T00:00:00-05:00\",\"2024-11-06T00:00:00-05:00\"],[\"2024-11-11T00:00:00-05:00\",\"2024-11-12T00:00:00-05:00\"],[\"2024-12-31T00:00:00-05:00\",\"2025-01-01T00:00:00-05:00\"],[\"2024-05-05T00:00:00-04:00\",\"2024-05-06T00:00:00-04:00\"],[\"2024-09-02T00:00:00-04:00\",\"2024-09-03T00:00:00-04:00\"],[\"2024-03-31T00:00:00-04:00\",\"2024-04-01T00:00:00-04:00\"],[\"2024-06-14T00:00:00-04:00\",\"2024-06-15T00:00:00-04:00\"],[\"2024-11-28T00:00:00-05:00\",\"2024-11-29T00:00:00-05:00\"],[\"2024-12-24T00:00:00-05:00\",\"2024-12-25T00:00:00-05:00\"],[\"2024-02-19T00:00:00-05:00\",\"2024-02-20T00:00:00-05:00\"],[\"2024-05-12T00:00:00-04:00\",\"2024-05-13T00:00:00-04:00\"],[\"2024-05-27T00:00:00-04:00\",\"2024-05-28T00:00:00-04:00\"],[\"2024-06-16T00:00:00-04:00\",\"2024-06-17T00:00:00-04:00\"],[\"2024-11-03T00:00:00-04:00\",\"2024-11-04T00:00:00-05:00\"],[\"2024-01-01T00:00:00-05:00\",\"2024-01-02T00:00:00-05:00\"],[\"2024-01-15T00:00:00-05:00\",\"2024-01-16T00:00:00-05:00\"],[\"2024-02-14T00:00:00-05:00\",\"2024-02-15T00:00:00-05:00\"],[\"2024-04-15T00:00:00-04:00\",\"2024-04-16T00:00:00-04:00\"]],\"marker\":{\"color\":[\"#c2c2c2\",\"#c2c2c2\",\"#c2c2c2\",\"#c2c2c2\",\"#c2c2c2\",\"#c2c2c2\",\"#c2c2c2\",\"#c2c2c2\",\"#c2c2c2\",\"#c2c2c2\",\"#c2c2c2\",\"#c2c2c2\",\"#c2c2c2\",\"#c2c2c2\",\"#c2c2c2\",\"#c2c2c2\",\"#c2c2c2\",\"#c2c2c2\",\"#c2c2c2\",\"#c2c2c2\",\"#c2c2c2\",\"#c2c2c2\",\"#c2c2c2\",\"#c2c2c2\",\"#c2c2c2\",\"#c2c2c2\",\"#c2c2c2\",\"#c2c2c2\",\"#c2c2c2\",\"#c2c2c2\",\"#c2c2c2\",\"#c2c2c2\",\"#c2c2c2\",\"#c2c2c2\"]},\"name\":\"Holidays in United States\",\"r\":[0.097,0.097,0.097,0.097,0.097,0.097,0.097,0.097,0.097,0.097,0.097,0.097,0.097,0.097,0.097,0.097,0.097,0.097,0.097,0.097,0.097,0.097,0.097,0.097,0.097,0.097,0.097,0.097,0.097,0.097,0.097,0.097,0.097,0.097],\"text\":[\"First Day of Black History Month\",\"First Day of Women's History Month\",\"First Day of Asian Pacific American Heritage Month\",\"First Day of LGBTQ+ Pride Month\",\"First Day of Hispanic Heritage Month\",\"Indigenous Peoples' Day\",\"Columbus Day\",\"First Day of American Indian Heritage Month\",\"Native American Heritage Day\",\"Daylight Saving Time starts\",\"Easter Monday\",\"Independence Day\",\"Christmas Day\",\"St. Patrick's Day\",\"Juneteenth\",\"Halloween\",\"Election Day (General Election)\",\"Veterans Day\",\"New Year's Eve\",\"Cinco de Mayo\",\"Labor Day\",\"Easter Sunday\",\"Flag Day\",\"Thanksgiving Day\",\"Christmas Eve\",\"Presidents' Day\",\"Mother's Day\",\"Memorial Day\",\"Father's Day\",\"Daylight Saving Time ends\",\"New Year's Day\",\"Martin Luther King Jr. Day\",\"Valentine's Day\",\"Tax Day\"],\"theta\":[30.98360655737705,59.50819672131148,119.4672131147541,149.95901639344265,254.22131147540983,282.74590163934425,282.74590163934425,300.45081967213116,328.0327868852459,68.29918032786885,89.95901639344262,182.41803278688528,353.6065573770492,75.20491803278688,167.66393442622953,299.4672131147541,304.42622950819674,310.32786885245906,359.5081967213115,123.40163934426229,241.43442622950823,88.97540983606558,162.74590163934428,327.0491803278689,352.62295081967216,48.68852459016394,130.28688524590166,145.0409836065574,164.71311475409837,302.4795081967213,0.49180327868852464,14.262295081967213,43.77049180327869,103.72950819672131],\"width\":[0.9836065573770492,0.9836065573770492,0.9836065573770492,0.9836065573770492,0.9836065573770492,0.9836065573770492,0.9836065573770492,0.9836065573770492,0.9836065573770492,0.9426229508196722,0.9836065573770492,0.9836065573770492,0.9836065573770492,0.9836065573770492,0.9836065573770492,0.9836065573770492,0.9836065573770492,0.9836065573770492,0.9836065573770492,0.9836065573770492,0.9836065573770492,0.9836065573770492,0.9836065573770492,0.9836065573770492,0.9836065573770492,0.9836065573770492,0.9836065573770492,0.9836065573770492,0.9836065573770492,1.0245901639344261,0.9836065573770492,0.9836065573770492,0.9836065573770492,0.9836065573770492],\"type\":\"barpolar\",\"hovertemplate\":\"%{text}\\u003cbr\\u003eStart: %{customdata[0]|%Y\\u002f%m\\u002f%d %H:%M:%S.%L}\\u003cbr\\u003eEnd: %{customdata[1]|%Y\\u002f%m\\u002f%d %H:%M:%S.%L}\"},{\"base\":[0.5,0.5],\"customdata\":[[\"2024-01-14T00:00:00-05:00\",\"2024-05-12T00:00:00-04:00\"],[\"2024-08-23T00:00:00-04:00\",\"2024-12-23T00:00:00-05:00\"]],\"marker\":{\"color\":[\"#c2c2c2\",\"#c2c2c2\"]},\"name\":\"Seasons\",\"r\":[0.097,0.097],\"text\":[\"Spring Semester\",\"Fall Semester\"],\"theta\":[71.25,291.1270491803279],\"width\":[117.00819672131148,120.04098360655738],\"type\":\"barpolar\",\"hovertemplate\":\"%{text}\\u003cbr\\u003eStart: %{customdata[0]|%Y\\u002f%m\\u002f%d %H:%M:%S.%L}\\u003cbr\\u003eEnd: %{customdata[1]|%Y\\u002f%m\\u002f%d %H:%M:%S.%L}\"},{\"base\":0.4,\"customdata\":[[\"2024-01-06T00:00:00\",\"2024-01-07T00:00:00\"],[\"2024-01-13T00:00:00\",\"2024-01-14T00:00:00\"],[\"2024-01-20T00:00:00\",\"2024-01-21T00:00:00\"],[\"2024-01-27T00:00:00\",\"2024-01-28T00:00:00\"],[\"2024-02-03T00:00:00\",\"2024-02-04T00:00:00\"],[\"2024-02-10T00:00:00\",\"2024-02-11T00:00:00\"],[\"2024-02-17T00:00:00\",\"2024-02-18T00:00:00\"],[\"2024-02-24T00:00:00\",\"2024-02-25T00:00:00\"],[\"2024-03-02T00:00:00\",\"2024-03-03T00:00:00\"],[\"2024-03-09T00:00:00\",\"2024-03-10T00:00:00\"],[\"2024-03-16T00:00:00\",\"2024-03-17T00:00:00\"],[\"2024-03-23T00:00:00\",\"2024-03-24T00:00:00\"],[\"2024-03-30T00:00:00\",\"2024-03-31T00:00:00\"],[\"2024-04-06T00:00:00\",\"2024-04-07T00:00:00\"],[\"2024-04-13T00:00:00\",\"2024-04-14T00:00:00\"],[\"2024-04-20T00:00:00\",\"2024-04-21T00:00:00\"],[\"2024-04-27T00:00:00\",\"2024-04-28T00:00:00\"],[\"2024-05-04T00:00:00\",\"2024-05-05T00:00:00\"],[\"2024-05-11T00:00:00\",\"2024-05-12T00:00:00\"],[\"2024-05-18T00:00:00\",\"2024-05-19T00:00:00\"],[\"2024-05-25T00:00:00\",\"2024-05-26T00:00:00\"],[\"2024-06-01T00:00:00\",\"2024-06-02T00:00:00\"],[\"2024-06-08T00:00:00\",\"2024-06-09T00:00:00\"],[\"2024-06-15T00:00:00\",\"2024-06-16T00:00:00\"],[\"2024-06-22T00:00:00\",\"2024-06-23T00:00:00\"],[\"2024-06-29T00:00:00\",\"2024-06-30T00:00:00\"],[\"2024-07-06T00:00:00\",\"2024-07-07T00:00:00\"],[\"2024-07-13T00:00:00\",\"2024-07-14T00:00:00\"],[\"2024-07-20T00:00:00\",\"2024-07-21T00:00:00\"],[\"2024-07-27T00:00:00\",\"2024-07-28T00:00:00\"],[\"2024-08-03T00:00:00\",\"2024-08-04T00:00:00\"],[\"2024-08-10T00:00:00\",\"2024-08-11T00:00:00\"],[\"2024-08-17T00:00:00\",\"2024-08-18T00:00:00\"],[\"2024-08-24T00:00:00\",\"2024-08-25T00:00:00\"],[\"2024-08-31T00:00:00\",\"2024-09-01T00:00:00\"],[\"2024-09-07T00:00:00\",\"2024-09-08T00:00:00\"],[\"2024-09-14T00:00:00\",\"2024-09-15T00:00:00\"],[\"2024-09-21T00:00:00\",\"2024-09-22T00:00:00\"],[\"2024-09-28T00:00:00\",\"2024-09-29T00:00:00\"],[\"2024-10-05T00:00:00\",\"2024-10-06T00:00:00\"],[\"2024-10-12T00:00:00\",\"2024-10-13T00:00:00\"],[\"2024-10-19T00:00:00\",\"2024-10-20T00:00:00\"],[\"2024-10-26T00:00:00\",\"2024-10-27T00:00:00\"],[\"2024-11-02T00:00:00\",\"2024-11-03T00:00:00\"],[\"2024-11-09T00:00:00\",\"2024-11-10T00:00:00\"],[\"2024-11-16T00:00:00\",\"2024-11-17T00:00:00\"],[\"2024-11-23T00:00:00\",\"2024-11-24T00:00:00\"],[\"2024-11-30T00:00:00\",\"2024-12-01T00:00:00\"],[\"2024-12-07T00:00:00\",\"2024-12-08T00:00:00\"],[\"2024-12-14T00:00:00\",\"2024-12-15T00:00:00\"],[\"2024-12-21T00:00:00\",\"2024-12-22T00:00:00\"],[\"2024-12-28T00:00:00\",\"2024-12-29T00:00:00\"]],\"marker\":{\"color\":\"#E1E1E1\",\"opacity\":0.5},\"name\":\"Weekends\",\"r\":[0.1,0.1,0.1,0.1,0.1,0.1,0.1,0.1,0.1,0.1,0.1,0.1,0.1,0.1,0.1,0.1,0.1,0.1,0.1,0.1,0.1,0.1,0.1,0.1,0.1,0.1,0.1,0.1,0.1,0.1,0.1,0.1,0.1,0.1,0.1,0.1,0.1,0.1,0.1,0.1,0.1,0.1,0.1,0.1,0.1,0.1,0.1,0.1,0.1,0.1,0.1,0.1],\"theta\":[5.424657534246576,12.328767123287673,19.232876712328768,26.136986301369863,33.04109589041096,39.945205479452056,46.849315068493155,53.75342465753425,60.657534246575345,67.56164383561644,74.42465753424658,81.32876712328768,88.23287671232876,95.13698630136986,102.04109589041096,108.94520547945206,115.84931506849315,122.75342465753425,129.65753424657535,136.56164383561645,143.46575342465755,150.36986301369865,157.27397260273975,164.17808219178085,171.08219178082194,177.98630136986304,184.89041095890414,191.7945205479452,198.6986301369863,205.6027397260274,212.5068493150685,219.4109589041096,226.3150684931507,233.2191780821918,240.1232876712329,247.027397260274,253.93150684931507,260.83561643835617,267.73972602739724,274.64383561643837,281.54794520547944,288.45205479452056,295.35616438356163,302.26027397260276,309.2054794520548,316.1095890410959,323.013698630137,329.9178082191781,336.8219178082192,343.7260273972603,350.6301369863014,357.5342465753425],\"width\":[0.9836065573770492,0.9836065573770492,0.9836065573770492,0.9836065573770492,0.9836065573770492,0.9836065573770492,0.9836065573770492,0.9836065573770492,0.9836065573770492,0.9836065573770492,0.9836065573770492,0.9836065573770492,0.9836065573770492,0.9836065573770492,0.9836065573770492,0.9836065573770492,0.9836065573770492,0.9836065573770492,0.9836065573770492,0.9836065573770492,0.9836065573770492,0.9836065573770492,0.9836065573770492,0.9836065573770492,0.9836065573770492,0.9836065573770492,0.9836065573770492,0.9836065573770492,0.9836065573770492,0.9836065573770492,0.9836065573770492,0.9836065573770492,0.9836065573770492,0.9836065573770492,0.9836065573770492,0.9836065573770492,0.9836065573770492,0.9836065573770492,0.9836065573770492,0.9836065573770492,0.9836065573770492,0.9836065573770492,0.9836065573770492,0.9836065573770492,0.9836065573770492,0.9836065573770492,0.9836065573770492,0.9836065573770492,0.9836065573770492,0.9836065573770492,0.9836065573770492,0.9836065573770492],\"type\":\"barpolar\",\"hovertemplate\":\"%{text}\\u003cbr\\u003eStart: %{customdata[0]|%Y\\u002f%m\\u002f%d %H:%M:%S.%L}\\u003cbr\\u003eEnd: %{customdata[1]|%Y\\u002f%m\\u002f%d %H:%M:%S.%L}\"},{\"marker\":{\"color\":\"black\"},\"name\":\"Now\",\"r\":[0,1],\"text\":[\"Today\",\"Today\"],\"theta\":[214.90238176506148,214.90238176506148],\"type\":\"scatterpolar\"}],                        {\"template\":{},\"height\":1200,\"polar\":{\"radialaxis\":{\"tickvals\":[[0.8,0.7,0.6,0.5]],\"showticklabels\":false,\"ticks\":\"\"},\"angularaxis\":{\"rotation\":-90,\"showticklabels\":true,\"ticks\":\"outside\",\"ticktext\":[\"January\",\"February\",\"March\",\"April\",\"May\",\"June\",\"July\",\"August\",\"September\",\"October\",\"November\",\"December\"],\"tickvals\":[0.0,30.491803278688526,59.016393442622956,89.4672131147541,118.97540983606558,149.46721311475412,178.97540983606558,209.46721311475412,239.95901639344265,269.4672131147541,299.9590163934426,329.5081967213115]}}},                        {\"responsive\": true}                    ).then(function(){\n",
       "                            \n",
       "var gd = document.getElementById('da4a60c5-6a18-4a88-a4ab-18d8bb12cee7');\n",
       "var x = new MutationObserver(function (mutations, observer) {{\n",
       "        var display = window.getComputedStyle(gd).display;\n",
       "        if (!display || display === 'none') {{\n",
       "            console.log([gd, 'removed!']);\n",
       "            Plotly.purge(gd);\n",
       "            observer.disconnect();\n",
       "        }}\n",
       "}});\n",
       "\n",
       "// Listen for the removal of the full notebook cells\n",
       "var notebookContainer = gd.closest('#notebook-container');\n",
       "if (notebookContainer) {{\n",
       "    x.observe(notebookContainer, {childList: true});\n",
       "}}\n",
       "\n",
       "// Listen for the clearing of the current output cell\n",
       "var outputEl = gd.closest('.output');\n",
       "if (outputEl) {{\n",
       "    x.observe(outputEl, {childList: true});\n",
       "}}\n",
       "\n",
       "                        })                };                });            </script>        </div>"
      ]
     },
     "metadata": {},
     "output_type": "display_data"
    }
   ],
   "source": [
    "dring = df\n",
    "try:\n",
    "    del f\n",
    "except NameError:\n",
    "    pass\n",
    "f = go.Figure()\n",
    "\n",
    "for cal in pd.unique(df.calendar):\n",
    "    df = dring[dring[\"calendar\"] == cal]\n",
    "    f.add_trace(go.Barpolar(theta=df.midtheta, r=df.r, width=df.width, base=df.rbase,\n",
    "                            text=df.summary, marker_color=df.color, name=cal, #marker_opacity=df.opacity\n",
    "                            customdata=df[[\"start\", \"end\"]]\n",
    "                           )\n",
    "               )\n",
    "df = dring\n",
    "tickvals, ticktext = calendar_ticks(y24)\n",
    "\n",
    "f.add_trace(go.Barpolar(theta=[ts_to_theta(model.to_timestamp(w.mid), model.to_timestamp(y24.start.datetime())) for w in ws],\n",
    "                        #r=len(ws) * [.167], base=.167,\n",
    "                        r=len(ws) * [.1], base=.4,\n",
    "                        marker_color=\"#E1E1E1\", marker_opacity=.5,\n",
    "                        width=[(w.duration / year.duration * 360) for w in ws], name=\"Weekends\",\n",
    "                       customdata=[(w.start, w.end) for w in ws])\n",
    "           )\n",
    "\n",
    "f.update_layout(height=1200)\n",
    "f.update_layout(\n",
    "    template=None,\n",
    "    polar = dict(\n",
    "        radialaxis = dict(tickvals=[intervalsdf.rbase],\n",
    "                          showticklabels=False, ticks='',\n",
    "                         ),\n",
    "        angularaxis = dict(\n",
    "            rotation = -90,\n",
    "            showticklabels=True,\n",
    "            ticks='outside',\n",
    "            ticktext=ticktext,\n",
    "            tickvals=tickvals,\n",
    "        )\n",
    "    )\n",
    ")\n",
    "f.update_traces(hovertemplate=\"%{text}<br>Start: %{customdata[0]|%Y/%m/%d %H:%M:%S.%L}\"\n",
    "               \"<br>End: %{customdata[1]|%Y/%m/%d %H:%M:%S.%L}\")\n",
    "#f.add_trace(go.Sunburst(yd))\n",
    "f.add_trace(go.Scatterpolar(r=[0, 1], theta=2*[ts_to_theta(model.to_timestamp(datetime.now()),\n",
    "                                                           model.to_timestamp(y24.start.datetime()),\n",
    "                                                          366 / 360)], name=\"Now\", marker_color=\"black\", text=[\"Today\"]*2))\n",
    "f.show()"
   ]
  },
  {
   "cell_type": "code",
   "execution_count": 37,
   "id": "0c6cfe84-a81d-42cc-b59b-6eac6585f9d4",
   "metadata": {},
   "outputs": [
    {
     "data": {
      "text/plain": [
       "Layout({\n",
       "    'height': 1200,\n",
       "    'polar': {'angularaxis': {'rotation': -90,\n",
       "                              'showticklabels': True,\n",
       "                              'ticks': 'outside',\n",
       "                              'ticktext': [January, February, March, April, May,\n",
       "                                           June, July, August, September, October,\n",
       "                                           November, December],\n",
       "                              'tickvals': [0.0, 30.491803278688526,\n",
       "                                           59.016393442622956, 89.4672131147541,\n",
       "                                           118.97540983606558, 149.46721311475412,\n",
       "                                           178.97540983606558, 209.46721311475412,\n",
       "                                           239.95901639344265, 269.4672131147541,\n",
       "                                           299.9590163934426, 329.5081967213115]},\n",
       "              'radialaxis': {'showticklabels': False, 'ticks': '', 'tickvals': [[0.8, 0.7, 0.6, 0.5]]}},\n",
       "    'template': '...'\n",
       "})"
      ]
     },
     "execution_count": 37,
     "metadata": {},
     "output_type": "execute_result"
    }
   ],
   "source": [
    "f.layout"
   ]
  },
  {
   "cell_type": "code",
   "execution_count": null,
   "id": "f7b4f99c-84e9-4c93-8119-f890c5fa7f97",
   "metadata": {},
   "outputs": [],
   "source": [
    "df[df[\"calendar\"] == \"Academic Calendar\"]"
   ]
  },
  {
   "cell_type": "code",
   "execution_count": null,
   "id": "5c1def6f-2c1f-4586-8af7-c36eb4c1f1d1",
   "metadata": {},
   "outputs": [],
   "source": [
    "f.data[0][\"customdata\"][:,0]"
   ]
  },
  {
   "cell_type": "code",
   "execution_count": 13,
   "id": "8fdb19a2-b299-45af-a7bc-227105a2ffe1",
   "metadata": {},
   "outputs": [
    {
     "data": {
      "text/html": [
       "<div>\n",
       "<style scoped>\n",
       "    .dataframe tbody tr th:only-of-type {\n",
       "        vertical-align: middle;\n",
       "    }\n",
       "\n",
       "    .dataframe tbody tr th {\n",
       "        vertical-align: top;\n",
       "    }\n",
       "\n",
       "    .dataframe thead th {\n",
       "        text-align: right;\n",
       "    }\n",
       "</style>\n",
       "<table border=\"1\" class=\"dataframe\">\n",
       "  <thead>\n",
       "    <tr style=\"text-align: right;\">\n",
       "      <th></th>\n",
       "      <th>Event_obj</th>\n",
       "      <th>color</th>\n",
       "      <th>calendar_id</th>\n",
       "      <th>calendar</th>\n",
       "      <th>duration</th>\n",
       "      <th>mid</th>\n",
       "      <th>start</th>\n",
       "      <th>end</th>\n",
       "      <th>summary</th>\n",
       "      <th>weekday</th>\n",
       "      <th>scale</th>\n",
       "      <th>ring</th>\n",
       "      <th>opacity</th>\n",
       "      <th>rbase</th>\n",
       "      <th>midtheta</th>\n",
       "      <th>width</th>\n",
       "      <th>r</th>\n",
       "    </tr>\n",
       "  </thead>\n",
       "  <tbody>\n",
       "    <tr>\n",
       "      <th>0</th>\n",
       "      <td>&lt;circle_cal.model.EventWrap object at 0x1076e6...</td>\n",
       "      <td>#9fc6e7</td>\n",
       "      <td>nytimes.com_89ai4ijpb733gt28rg21d2c2ek@group.c...</td>\n",
       "      <td>NYT Astronomy and Space Calendar</td>\n",
       "      <td>1 days 00:00:00</td>\n",
       "      <td>2024-01-01 12:00:00-05:00</td>\n",
       "      <td>2023-12-31 23:56:00-05:00</td>\n",
       "      <td>2024-01-01 23:56:00-05:00</td>\n",
       "      <td>Happy New Year From Science Times</td>\n",
       "      <td>Sunday</td>\n",
       "      <td>(0 days 23:59:59, 1 days 00:00:00]</td>\n",
       "      <td>day</td>\n",
       "      <td>0.8</td>\n",
       "      <td>0.8</td>\n",
       "      <td>0.491803</td>\n",
       "      <td>0.983607</td>\n",
       "      <td>0.097</td>\n",
       "    </tr>\n",
       "    <tr>\n",
       "      <th>1</th>\n",
       "      <td>&lt;circle_cal.model.EventWrap object at 0x105e86...</td>\n",
       "      <td>#9fc6e7</td>\n",
       "      <td>nytimes.com_89ai4ijpb733gt28rg21d2c2ek@group.c...</td>\n",
       "      <td>NYT Astronomy and Space Calendar</td>\n",
       "      <td>2 days 00:00:00</td>\n",
       "      <td>2024-01-04 00:00:00-05:00</td>\n",
       "      <td>2024-01-02 23:56:00-05:00</td>\n",
       "      <td>2024-01-04 23:56:00-05:00</td>\n",
       "      <td>The Quadrantid meteor shower will reach its peak.</td>\n",
       "      <td>Tuesday</td>\n",
       "      <td>(1 days 00:00:00, 31 days 00:00:00]</td>\n",
       "      <td>weeks</td>\n",
       "      <td>0.7</td>\n",
       "      <td>0.7</td>\n",
       "      <td>2.950820</td>\n",
       "      <td>1.967213</td>\n",
       "      <td>0.097</td>\n",
       "    </tr>\n",
       "    <tr>\n",
       "      <th>2</th>\n",
       "      <td>&lt;circle_cal.model.EventWrap object at 0x107571...</td>\n",
       "      <td>#9fc6e7</td>\n",
       "      <td>nytimes.com_89ai4ijpb733gt28rg21d2c2ek@group.c...</td>\n",
       "      <td>NYT Astronomy and Space Calendar</td>\n",
       "      <td>2 days 00:00:00</td>\n",
       "      <td>2024-04-22 00:00:00-04:00</td>\n",
       "      <td>2024-04-21 00:56:00-04:00</td>\n",
       "      <td>2024-04-23 00:56:00-04:00</td>\n",
       "      <td>The Lyrid meteor shower will reach its peak.</td>\n",
       "      <td>Sunday</td>\n",
       "      <td>(1 days 00:00:00, 31 days 00:00:00]</td>\n",
       "      <td>weeks</td>\n",
       "      <td>0.7</td>\n",
       "      <td>0.7</td>\n",
       "      <td>110.122951</td>\n",
       "      <td>1.967213</td>\n",
       "      <td>0.097</td>\n",
       "    </tr>\n",
       "    <tr>\n",
       "      <th>3</th>\n",
       "      <td>&lt;circle_cal.model.EventWrap object at 0x1084bd...</td>\n",
       "      <td>#9fc6e7</td>\n",
       "      <td>nytimes.com_89ai4ijpb733gt28rg21d2c2ek@group.c...</td>\n",
       "      <td>NYT Astronomy and Space Calendar</td>\n",
       "      <td>2 days 00:00:00</td>\n",
       "      <td>2024-08-12 00:00:00-04:00</td>\n",
       "      <td>2024-08-11 00:56:00-04:00</td>\n",
       "      <td>2024-08-13 00:56:00-04:00</td>\n",
       "      <td>The Perseid meteor shower will reach its peak.</td>\n",
       "      <td>Sunday</td>\n",
       "      <td>(1 days 00:00:00, 31 days 00:00:00]</td>\n",
       "      <td>weeks</td>\n",
       "      <td>0.7</td>\n",
       "      <td>0.7</td>\n",
       "      <td>220.286885</td>\n",
       "      <td>1.967213</td>\n",
       "      <td>0.097</td>\n",
       "    </tr>\n",
       "    <tr>\n",
       "      <th>4</th>\n",
       "      <td>&lt;circle_cal.model.EventWrap object at 0x1084be...</td>\n",
       "      <td>#9fc6e7</td>\n",
       "      <td>nytimes.com_89ai4ijpb733gt28rg21d2c2ek@group.c...</td>\n",
       "      <td>NYT Astronomy and Space Calendar</td>\n",
       "      <td>1 days 00:00:00</td>\n",
       "      <td>2024-09-22 12:00:00-04:00</td>\n",
       "      <td>2024-09-22 00:56:00-04:00</td>\n",
       "      <td>2024-09-23 00:56:00-04:00</td>\n",
       "      <td>Autumn is here.</td>\n",
       "      <td>Sunday</td>\n",
       "      <td>(0 days 23:59:59, 1 days 00:00:00]</td>\n",
       "      <td>day</td>\n",
       "      <td>0.8</td>\n",
       "      <td>0.8</td>\n",
       "      <td>261.106557</td>\n",
       "      <td>0.983607</td>\n",
       "      <td>0.097</td>\n",
       "    </tr>\n",
       "    <tr>\n",
       "      <th>...</th>\n",
       "      <td>...</td>\n",
       "      <td>...</td>\n",
       "      <td>...</td>\n",
       "      <td>...</td>\n",
       "      <td>...</td>\n",
       "      <td>...</td>\n",
       "      <td>...</td>\n",
       "      <td>...</td>\n",
       "      <td>...</td>\n",
       "      <td>...</td>\n",
       "      <td>...</td>\n",
       "      <td>...</td>\n",
       "      <td>...</td>\n",
       "      <td>...</td>\n",
       "      <td>...</td>\n",
       "      <td>...</td>\n",
       "      <td>...</td>\n",
       "    </tr>\n",
       "    <tr>\n",
       "      <th>764</th>\n",
       "      <td>&lt;circle_cal.model.EventWrap object at 0x1088d3...</td>\n",
       "      <td>#c2c2c2</td>\n",
       "      <td>en.usa#holiday@group.v.calendar.google.com</td>\n",
       "      <td>Holidays in United States</td>\n",
       "      <td>1 days 01:00:00</td>\n",
       "      <td>2024-11-03 12:30:00-05:00</td>\n",
       "      <td>2024-11-03 00:56:00-04:00</td>\n",
       "      <td>2024-11-03 23:56:00-05:00</td>\n",
       "      <td>Daylight Saving Time ends</td>\n",
       "      <td>Sunday</td>\n",
       "      <td>(1 days 00:00:00, 31 days 00:00:00]</td>\n",
       "      <td>weeks</td>\n",
       "      <td>0.7</td>\n",
       "      <td>0.7</td>\n",
       "      <td>302.479508</td>\n",
       "      <td>1.024590</td>\n",
       "      <td>0.097</td>\n",
       "    </tr>\n",
       "    <tr>\n",
       "      <th>765</th>\n",
       "      <td>&lt;circle_cal.model.EventWrap object at 0x1088d3...</td>\n",
       "      <td>#c2c2c2</td>\n",
       "      <td>en.usa#holiday@group.v.calendar.google.com</td>\n",
       "      <td>Holidays in United States</td>\n",
       "      <td>1 days 00:00:00</td>\n",
       "      <td>2024-01-01 12:00:00-05:00</td>\n",
       "      <td>2023-12-31 23:56:00-05:00</td>\n",
       "      <td>2024-01-01 23:56:00-05:00</td>\n",
       "      <td>New Year's Day</td>\n",
       "      <td>Sunday</td>\n",
       "      <td>(0 days 23:59:59, 1 days 00:00:00]</td>\n",
       "      <td>day</td>\n",
       "      <td>0.8</td>\n",
       "      <td>0.8</td>\n",
       "      <td>0.491803</td>\n",
       "      <td>0.983607</td>\n",
       "      <td>0.097</td>\n",
       "    </tr>\n",
       "    <tr>\n",
       "      <th>766</th>\n",
       "      <td>&lt;circle_cal.model.EventWrap object at 0x1088d3...</td>\n",
       "      <td>#c2c2c2</td>\n",
       "      <td>en.usa#holiday@group.v.calendar.google.com</td>\n",
       "      <td>Holidays in United States</td>\n",
       "      <td>1 days 00:00:00</td>\n",
       "      <td>2024-01-15 12:00:00-05:00</td>\n",
       "      <td>2024-01-14 23:56:00-05:00</td>\n",
       "      <td>2024-01-15 23:56:00-05:00</td>\n",
       "      <td>Martin Luther King Jr. Day</td>\n",
       "      <td>Sunday</td>\n",
       "      <td>(0 days 23:59:59, 1 days 00:00:00]</td>\n",
       "      <td>day</td>\n",
       "      <td>0.8</td>\n",
       "      <td>0.8</td>\n",
       "      <td>14.262295</td>\n",
       "      <td>0.983607</td>\n",
       "      <td>0.097</td>\n",
       "    </tr>\n",
       "    <tr>\n",
       "      <th>767</th>\n",
       "      <td>&lt;circle_cal.model.EventWrap object at 0x1088d3...</td>\n",
       "      <td>#c2c2c2</td>\n",
       "      <td>en.usa#holiday@group.v.calendar.google.com</td>\n",
       "      <td>Holidays in United States</td>\n",
       "      <td>1 days 00:00:00</td>\n",
       "      <td>2024-02-14 12:00:00-05:00</td>\n",
       "      <td>2024-02-13 23:56:00-05:00</td>\n",
       "      <td>2024-02-14 23:56:00-05:00</td>\n",
       "      <td>Valentine's Day</td>\n",
       "      <td>Tuesday</td>\n",
       "      <td>(0 days 23:59:59, 1 days 00:00:00]</td>\n",
       "      <td>day</td>\n",
       "      <td>0.8</td>\n",
       "      <td>0.8</td>\n",
       "      <td>43.770492</td>\n",
       "      <td>0.983607</td>\n",
       "      <td>0.097</td>\n",
       "    </tr>\n",
       "    <tr>\n",
       "      <th>768</th>\n",
       "      <td>&lt;circle_cal.model.EventWrap object at 0x1088cb...</td>\n",
       "      <td>#c2c2c2</td>\n",
       "      <td>en.usa#holiday@group.v.calendar.google.com</td>\n",
       "      <td>Holidays in United States</td>\n",
       "      <td>1 days 00:00:00</td>\n",
       "      <td>2024-04-15 12:00:00-04:00</td>\n",
       "      <td>2024-04-15 00:56:00-04:00</td>\n",
       "      <td>2024-04-16 00:56:00-04:00</td>\n",
       "      <td>Tax Day</td>\n",
       "      <td>Monday</td>\n",
       "      <td>(0 days 23:59:59, 1 days 00:00:00]</td>\n",
       "      <td>day</td>\n",
       "      <td>0.8</td>\n",
       "      <td>0.8</td>\n",
       "      <td>103.729508</td>\n",
       "      <td>0.983607</td>\n",
       "      <td>0.097</td>\n",
       "    </tr>\n",
       "  </tbody>\n",
       "</table>\n",
       "<p>769 rows × 17 columns</p>\n",
       "</div>"
      ],
      "text/plain": [
       "                                             Event_obj    color  \\\n",
       "0    <circle_cal.model.EventWrap object at 0x1076e6...  #9fc6e7   \n",
       "1    <circle_cal.model.EventWrap object at 0x105e86...  #9fc6e7   \n",
       "2    <circle_cal.model.EventWrap object at 0x107571...  #9fc6e7   \n",
       "3    <circle_cal.model.EventWrap object at 0x1084bd...  #9fc6e7   \n",
       "4    <circle_cal.model.EventWrap object at 0x1084be...  #9fc6e7   \n",
       "..                                                 ...      ...   \n",
       "764  <circle_cal.model.EventWrap object at 0x1088d3...  #c2c2c2   \n",
       "765  <circle_cal.model.EventWrap object at 0x1088d3...  #c2c2c2   \n",
       "766  <circle_cal.model.EventWrap object at 0x1088d3...  #c2c2c2   \n",
       "767  <circle_cal.model.EventWrap object at 0x1088d3...  #c2c2c2   \n",
       "768  <circle_cal.model.EventWrap object at 0x1088cb...  #c2c2c2   \n",
       "\n",
       "                                           calendar_id  \\\n",
       "0    nytimes.com_89ai4ijpb733gt28rg21d2c2ek@group.c...   \n",
       "1    nytimes.com_89ai4ijpb733gt28rg21d2c2ek@group.c...   \n",
       "2    nytimes.com_89ai4ijpb733gt28rg21d2c2ek@group.c...   \n",
       "3    nytimes.com_89ai4ijpb733gt28rg21d2c2ek@group.c...   \n",
       "4    nytimes.com_89ai4ijpb733gt28rg21d2c2ek@group.c...   \n",
       "..                                                 ...   \n",
       "764         en.usa#holiday@group.v.calendar.google.com   \n",
       "765         en.usa#holiday@group.v.calendar.google.com   \n",
       "766         en.usa#holiday@group.v.calendar.google.com   \n",
       "767         en.usa#holiday@group.v.calendar.google.com   \n",
       "768         en.usa#holiday@group.v.calendar.google.com   \n",
       "\n",
       "                             calendar        duration  \\\n",
       "0    NYT Astronomy and Space Calendar 1 days 00:00:00   \n",
       "1    NYT Astronomy and Space Calendar 2 days 00:00:00   \n",
       "2    NYT Astronomy and Space Calendar 2 days 00:00:00   \n",
       "3    NYT Astronomy and Space Calendar 2 days 00:00:00   \n",
       "4    NYT Astronomy and Space Calendar 1 days 00:00:00   \n",
       "..                                ...             ...   \n",
       "764         Holidays in United States 1 days 01:00:00   \n",
       "765         Holidays in United States 1 days 00:00:00   \n",
       "766         Holidays in United States 1 days 00:00:00   \n",
       "767         Holidays in United States 1 days 00:00:00   \n",
       "768         Holidays in United States 1 days 00:00:00   \n",
       "\n",
       "                          mid                     start  \\\n",
       "0   2024-01-01 12:00:00-05:00 2023-12-31 23:56:00-05:00   \n",
       "1   2024-01-04 00:00:00-05:00 2024-01-02 23:56:00-05:00   \n",
       "2   2024-04-22 00:00:00-04:00 2024-04-21 00:56:00-04:00   \n",
       "3   2024-08-12 00:00:00-04:00 2024-08-11 00:56:00-04:00   \n",
       "4   2024-09-22 12:00:00-04:00 2024-09-22 00:56:00-04:00   \n",
       "..                        ...                       ...   \n",
       "764 2024-11-03 12:30:00-05:00 2024-11-03 00:56:00-04:00   \n",
       "765 2024-01-01 12:00:00-05:00 2023-12-31 23:56:00-05:00   \n",
       "766 2024-01-15 12:00:00-05:00 2024-01-14 23:56:00-05:00   \n",
       "767 2024-02-14 12:00:00-05:00 2024-02-13 23:56:00-05:00   \n",
       "768 2024-04-15 12:00:00-04:00 2024-04-15 00:56:00-04:00   \n",
       "\n",
       "                          end  \\\n",
       "0   2024-01-01 23:56:00-05:00   \n",
       "1   2024-01-04 23:56:00-05:00   \n",
       "2   2024-04-23 00:56:00-04:00   \n",
       "3   2024-08-13 00:56:00-04:00   \n",
       "4   2024-09-23 00:56:00-04:00   \n",
       "..                        ...   \n",
       "764 2024-11-03 23:56:00-05:00   \n",
       "765 2024-01-01 23:56:00-05:00   \n",
       "766 2024-01-15 23:56:00-05:00   \n",
       "767 2024-02-14 23:56:00-05:00   \n",
       "768 2024-04-16 00:56:00-04:00   \n",
       "\n",
       "                                               summary  weekday  \\\n",
       "0                    Happy New Year From Science Times   Sunday   \n",
       "1    The Quadrantid meteor shower will reach its peak.  Tuesday   \n",
       "2         The Lyrid meteor shower will reach its peak.   Sunday   \n",
       "3       The Perseid meteor shower will reach its peak.   Sunday   \n",
       "4                                      Autumn is here.   Sunday   \n",
       "..                                                 ...      ...   \n",
       "764                          Daylight Saving Time ends   Sunday   \n",
       "765                                     New Year's Day   Sunday   \n",
       "766                         Martin Luther King Jr. Day   Sunday   \n",
       "767                                    Valentine's Day  Tuesday   \n",
       "768                                            Tax Day   Monday   \n",
       "\n",
       "                                   scale   ring  opacity  rbase    midtheta  \\\n",
       "0     (0 days 23:59:59, 1 days 00:00:00]    day      0.8    0.8    0.491803   \n",
       "1    (1 days 00:00:00, 31 days 00:00:00]  weeks      0.7    0.7    2.950820   \n",
       "2    (1 days 00:00:00, 31 days 00:00:00]  weeks      0.7    0.7  110.122951   \n",
       "3    (1 days 00:00:00, 31 days 00:00:00]  weeks      0.7    0.7  220.286885   \n",
       "4     (0 days 23:59:59, 1 days 00:00:00]    day      0.8    0.8  261.106557   \n",
       "..                                   ...    ...      ...    ...         ...   \n",
       "764  (1 days 00:00:00, 31 days 00:00:00]  weeks      0.7    0.7  302.479508   \n",
       "765   (0 days 23:59:59, 1 days 00:00:00]    day      0.8    0.8    0.491803   \n",
       "766   (0 days 23:59:59, 1 days 00:00:00]    day      0.8    0.8   14.262295   \n",
       "767   (0 days 23:59:59, 1 days 00:00:00]    day      0.8    0.8   43.770492   \n",
       "768   (0 days 23:59:59, 1 days 00:00:00]    day      0.8    0.8  103.729508   \n",
       "\n",
       "        width      r  \n",
       "0    0.983607  0.097  \n",
       "1    1.967213  0.097  \n",
       "2    1.967213  0.097  \n",
       "3    1.967213  0.097  \n",
       "4    0.983607  0.097  \n",
       "..        ...    ...  \n",
       "764  1.024590  0.097  \n",
       "765  0.983607  0.097  \n",
       "766  0.983607  0.097  \n",
       "767  0.983607  0.097  \n",
       "768  0.983607  0.097  \n",
       "\n",
       "[769 rows x 17 columns]"
      ]
     },
     "execution_count": 13,
     "metadata": {},
     "output_type": "execute_result"
    }
   ],
   "source": [
    "dring"
   ]
  },
  {
   "cell_type": "code",
   "execution_count": 47,
   "id": "84a344b5-f0b4-4d21-8952-e518f2ed8ae0",
   "metadata": {},
   "outputs": [
    {
     "data": {
      "text/plain": [
       "[]"
      ]
     },
     "execution_count": 47,
     "metadata": {},
     "output_type": "execute_result"
    }
   ],
   "source": [
    "list(events)"
   ]
  },
  {
   "cell_type": "code",
   "execution_count": 51,
   "id": "2aa13686-f422-4f95-841b-77128508eb85",
   "metadata": {},
   "outputs": [],
   "source": [
    "    events = gcal.get_events(y24.start.datetime(),\n",
    "                             y24.stop.datetime(),\n",
    "                             single_events=True,\n",
    "                             calendar_id=selcal[1],\n",
    "                            )"
   ]
  },
  {
   "cell_type": "code",
   "execution_count": 56,
   "id": "a34ebc13-4f18-44a0-80d8-3acc84ea35db",
   "metadata": {},
   "outputs": [],
   "source": [
    "eve = next(gcal.get_events())"
   ]
  },
  {
   "cell_type": "code",
   "execution_count": 57,
   "id": "2d6b103a-6141-4c21-bc39-9638226bde34",
   "metadata": {},
   "outputs": [],
   "source": [
    "wr = model.EventWrap(eve)"
   ]
  },
  {
   "cell_type": "code",
   "execution_count": 62,
   "id": "8001ef74-65c4-417a-9685-af905ce061b3",
   "metadata": {},
   "outputs": [
    {
     "data": {
      "text/plain": [
       "datetime.datetime(2017, 5, 1, 0, 0, tzinfo=<DstTzInfo 'America/New_York' LMT-1 day, 19:04:00 STD>)"
      ]
     },
     "execution_count": 62,
     "metadata": {},
     "output_type": "execute_result"
    }
   ],
   "source": [
    "localize_any(wr.start, ETZ)"
   ]
  },
  {
   "cell_type": "code",
   "execution_count": 64,
   "id": "cea9f4a0-f998-49b9-821b-56047f921e77",
   "metadata": {},
   "outputs": [
    {
     "data": {
      "text/plain": [
       "datetime.datetime(2017, 5, 1, 0, 0)"
      ]
     },
     "execution_count": 64,
     "metadata": {},
     "output_type": "execute_result"
    }
   ],
   "source": [
    "datetime.combine(wr.start, time(0,0))"
   ]
  },
  {
   "cell_type": "code",
   "execution_count": 65,
   "id": "68e07d5f-87c9-41e9-9626-4df043ddef43",
   "metadata": {},
   "outputs": [
    {
     "data": {
      "text/plain": [
       "<DstTzInfo 'America/New_York' LMT-1 day, 19:04:00 STD>"
      ]
     },
     "execution_count": 65,
     "metadata": {},
     "output_type": "execute_result"
    }
   ],
   "source": [
    "ETZ"
   ]
  },
  {
   "cell_type": "code",
   "execution_count": null,
   "id": "d8514e82-c480-4f35-ac53-8494d846bd0c",
   "metadata": {},
   "outputs": [],
   "source": []
  }
 ],
 "metadata": {
  "kernelspec": {
   "display_name": "Python 3 (ipykernel)",
   "language": "python",
   "name": "python3"
  },
  "language_info": {
   "codemirror_mode": {
    "name": "ipython",
    "version": 3
   },
   "file_extension": ".py",
   "mimetype": "text/x-python",
   "name": "python",
   "nbconvert_exporter": "python",
   "pygments_lexer": "ipython3",
   "version": "3.12.4"
  }
 },
 "nbformat": 4,
 "nbformat_minor": 5
}
