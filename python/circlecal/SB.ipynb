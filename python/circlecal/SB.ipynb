{
 "cells": [
  {
   "cell_type": "code",
   "execution_count": 1,
   "id": "6da7e316-d73d-4152-9d41-c5c4550c6e2e",
   "metadata": {},
   "outputs": [],
   "source": [
    "from gcsa.event import Event\n",
    "from gcsa.google_calendar import GoogleCalendar\n",
    "from gcsa.recurrence import Recurrence, DAILY, SU, SA\n",
    "\n",
    "import plotly.express as px\n",
    "import plotly.graph_objects as go\n",
    "\n",
    "import pandas as pd\n",
    "\n",
    "from datetime import datetime, timedelta, date, time\n",
    "import dateutil\n",
    "from dateutil.parser import parse\n",
    "import calendar\n",
    "import numpy as np\n",
    "from circle_cal.model import CalendarElement\n",
    "import circle_cal as cc\n",
    "import circle_cal.model as model\n",
    "import circle_cal.plot as ccplot\n",
    "import pathlib\n",
    "from rich import print\n",
    "import pytz\n",
    "from pytz import timezone"
   ]
  },
  {
   "cell_type": "code",
   "execution_count": 2,
   "id": "40c8b026-33fe-41f5-be9f-c57c596f4590",
   "metadata": {},
   "outputs": [],
   "source": [
    "ETZ = timezone(\"America/New_York\")\n",
    "def localize_any(obj, tz):\n",
    "    try:\n",
    "        return tz.localize(obj)\n",
    "    except ValueError:\n",
    "        if obj.tzinfo:\n",
    "            return obj\n",
    "    except AttributeError:\n",
    "        return datetime.combine(obj, time(0,0), tzinfo=tz)\n",
    "    return obj"
   ]
  },
  {
   "cell_type": "code",
   "execution_count": 3,
   "id": "dad67d5f-1d9b-496d-b9c0-4f5b2a2b586b",
   "metadata": {},
   "outputs": [
    {
     "data": {
      "text/html": [
       "<pre style=\"white-space:pre;overflow-x:auto;line-height:normal;font-family:Menlo,'DejaVu Sans Mono',consolas,'Courier New',monospace\"><span style=\"font-weight: bold\">[</span>\n",
       "    <span style=\"font-weight: bold\">(</span><span style=\"color: #008080; text-decoration-color: #008080; font-weight: bold\">0</span>, <span style=\"font-weight: bold\">&lt;</span><span style=\"color: #ff00ff; text-decoration-color: #ff00ff; font-weight: bold\">CalendarListEntry</span><span style=\"color: #000000; text-decoration-color: #000000\"> </span><span style=\"color: #800080; text-decoration-color: #800080; font-style: italic\">None</span><span style=\"color: #000000; text-decoration-color: #000000\"> - </span><span style=\"color: #000000; text-decoration-color: #000000; font-weight: bold\">(</span><span style=\"color: #000000; text-decoration-color: #000000\">Weather</span><span style=\"color: #000000; text-decoration-color: #000000; font-weight: bold\">)</span><span style=\"color: #000000; text-decoration-color: #000000\">&gt;</span><span style=\"color: #000000; text-decoration-color: #000000; font-weight: bold\">)</span><span style=\"color: #000000; text-decoration-color: #000000\">,</span>\n",
       "<span style=\"color: #000000; text-decoration-color: #000000\">    </span><span style=\"color: #000000; text-decoration-color: #000000; font-weight: bold\">(</span><span style=\"color: #008080; text-decoration-color: #008080; font-weight: bold\">1</span><span style=\"color: #000000; text-decoration-color: #000000\">, &lt;CalendarListEntry </span><span style=\"color: #800080; text-decoration-color: #800080; font-style: italic\">None</span><span style=\"color: #000000; text-decoration-color: #000000\"> - </span><span style=\"color: #000000; text-decoration-color: #000000; font-weight: bold\">(</span><span style=\"color: #000000; text-decoration-color: #000000\">Payments</span><span style=\"color: #000000; text-decoration-color: #000000; font-weight: bold\">)</span><span style=\"color: #000000; text-decoration-color: #000000\">&gt;</span><span style=\"color: #000000; text-decoration-color: #000000; font-weight: bold\">)</span><span style=\"color: #000000; text-decoration-color: #000000\">,</span>\n",
       "<span style=\"color: #000000; text-decoration-color: #000000\">    </span><span style=\"color: #000000; text-decoration-color: #000000; font-weight: bold\">(</span><span style=\"color: #008080; text-decoration-color: #008080; font-weight: bold\">2</span><span style=\"color: #000000; text-decoration-color: #000000\">, &lt;CalendarListEntry </span><span style=\"color: #800080; text-decoration-color: #800080; font-style: italic\">None</span><span style=\"color: #000000; text-decoration-color: #000000\"> - </span><span style=\"color: #000000; text-decoration-color: #000000; font-weight: bold\">(</span><span style=\"color: #000000; text-decoration-color: #000000\">Axis Ludi Calendar</span><span style=\"color: #000000; text-decoration-color: #000000; font-weight: bold\">)</span><span style=\"color: #000000; text-decoration-color: #000000\">&gt;</span><span style=\"color: #000000; text-decoration-color: #000000; font-weight: bold\">)</span><span style=\"color: #000000; text-decoration-color: #000000\">,</span>\n",
       "<span style=\"color: #000000; text-decoration-color: #000000\">    </span><span style=\"color: #000000; text-decoration-color: #000000; font-weight: bold\">(</span><span style=\"color: #008080; text-decoration-color: #008080; font-weight: bold\">3</span><span style=\"color: #000000; text-decoration-color: #000000\">, &lt;CalendarListEntry </span><span style=\"color: #800080; text-decoration-color: #800080; font-style: italic\">None</span><span style=\"color: #000000; text-decoration-color: #000000\"> - </span><span style=\"color: #000000; text-decoration-color: #000000; font-weight: bold\">(</span><span style=\"color: #000000; text-decoration-color: #000000\">NYT Astronomy and Space Calendar</span><span style=\"color: #000000; text-decoration-color: #000000; font-weight: bold\">)</span><span style=\"color: #000000; text-decoration-color: #000000\">&gt;</span><span style=\"color: #000000; text-decoration-color: #000000; font-weight: bold\">)</span><span style=\"color: #000000; text-decoration-color: #000000\">,</span>\n",
       "<span style=\"color: #000000; text-decoration-color: #000000\">    </span><span style=\"color: #000000; text-decoration-color: #000000; font-weight: bold\">(</span><span style=\"color: #008080; text-decoration-color: #008080; font-weight: bold\">4</span><span style=\"color: #000000; text-decoration-color: #000000\">, &lt;CalendarListEntry </span><span style=\"color: #800080; text-decoration-color: #800080; font-style: italic\">None</span><span style=\"color: #000000; text-decoration-color: #000000\"> - </span><span style=\"color: #000000; text-decoration-color: #000000; font-weight: bold\">(</span><span style=\"color: #000000; text-decoration-color: #000000\">LIPS </span><span style=\"color: #008080; text-decoration-color: #008080; font-weight: bold\">2015</span><span style=\"color: #000000; text-decoration-color: #000000; font-weight: bold\">)</span><span style=\"color: #000000; text-decoration-color: #000000\">&gt;</span><span style=\"color: #000000; text-decoration-color: #000000; font-weight: bold\">)</span><span style=\"color: #000000; text-decoration-color: #000000\">,</span>\n",
       "<span style=\"color: #000000; text-decoration-color: #000000\">    </span><span style=\"color: #000000; text-decoration-color: #000000; font-weight: bold\">(</span><span style=\"color: #008080; text-decoration-color: #008080; font-weight: bold\">5</span><span style=\"color: #000000; text-decoration-color: #000000\">, &lt;CalendarListEntry </span><span style=\"color: #800080; text-decoration-color: #800080; font-style: italic\">None</span><span style=\"color: #000000; text-decoration-color: #000000\"> - </span><span style=\"color: #000000; text-decoration-color: #000000; font-weight: bold\">(</span><span style=\"color: #000000; text-decoration-color: #000000\">ND-DVT Provisional Shows</span><span style=\"color: #000000; text-decoration-color: #000000; font-weight: bold\">)</span><span style=\"color: #000000; text-decoration-color: #000000\">&gt;</span><span style=\"color: #000000; text-decoration-color: #000000; font-weight: bold\">)</span><span style=\"color: #000000; text-decoration-color: #000000\">,</span>\n",
       "<span style=\"color: #000000; text-decoration-color: #000000\">    </span><span style=\"color: #000000; text-decoration-color: #000000; font-weight: bold\">(</span><span style=\"color: #008080; text-decoration-color: #008080; font-weight: bold\">6</span><span style=\"color: #000000; text-decoration-color: #000000\">, &lt;CalendarListEntry </span><span style=\"color: #800080; text-decoration-color: #800080; font-style: italic\">None</span><span style=\"color: #000000; text-decoration-color: #000000\"> - </span><span style=\"color: #000000; text-decoration-color: #000000; font-weight: bold\">(</span><span style=\"color: #000000; text-decoration-color: #000000\">keithwdavis@gmail.com</span><span style=\"color: #000000; text-decoration-color: #000000; font-weight: bold\">)</span><span style=\"color: #000000; text-decoration-color: #000000\">&gt;</span><span style=\"color: #000000; text-decoration-color: #000000; font-weight: bold\">)</span><span style=\"color: #000000; text-decoration-color: #000000\">,</span>\n",
       "<span style=\"color: #000000; text-decoration-color: #000000\">    </span><span style=\"color: #000000; text-decoration-color: #000000; font-weight: bold\">(</span><span style=\"color: #008080; text-decoration-color: #008080; font-weight: bold\">7</span><span style=\"color: #000000; text-decoration-color: #000000\">, &lt;CalendarListEntry </span><span style=\"color: #800080; text-decoration-color: #800080; font-style: italic\">None</span><span style=\"color: #000000; text-decoration-color: #000000\"> - </span><span style=\"color: #000000; text-decoration-color: #000000; font-weight: bold\">(</span><span style=\"color: #000000; text-decoration-color: #000000\">Work</span><span style=\"color: #000000; text-decoration-color: #000000; font-weight: bold\">)</span><span style=\"color: #000000; text-decoration-color: #000000\">&gt;</span><span style=\"color: #000000; text-decoration-color: #000000; font-weight: bold\">)</span><span style=\"color: #000000; text-decoration-color: #000000\">,</span>\n",
       "<span style=\"color: #000000; text-decoration-color: #000000\">    </span><span style=\"color: #000000; text-decoration-color: #000000; font-weight: bold\">(</span><span style=\"color: #008080; text-decoration-color: #008080; font-weight: bold\">8</span><span style=\"color: #000000; text-decoration-color: #000000\">, &lt;CalendarListEntry </span><span style=\"color: #800080; text-decoration-color: #800080; font-style: italic\">None</span><span style=\"color: #000000; text-decoration-color: #000000\"> - </span><span style=\"color: #000000; text-decoration-color: #000000; font-weight: bold\">(</span><span style=\"color: #000000; text-decoration-color: #000000\">Cognoscenti</span><span style=\"color: #000000; text-decoration-color: #000000; font-weight: bold\">)</span><span style=\"color: #000000; text-decoration-color: #000000\">&gt;</span><span style=\"color: #000000; text-decoration-color: #000000; font-weight: bold\">)</span><span style=\"color: #000000; text-decoration-color: #000000\">,</span>\n",
       "<span style=\"color: #000000; text-decoration-color: #000000\">    </span><span style=\"color: #000000; text-decoration-color: #000000; font-weight: bold\">(</span><span style=\"color: #008080; text-decoration-color: #008080; font-weight: bold\">9</span><span style=\"color: #000000; text-decoration-color: #000000\">, &lt;CalendarListEntry </span><span style=\"color: #800080; text-decoration-color: #800080; font-style: italic\">None</span><span style=\"color: #000000; text-decoration-color: #000000\"> - </span><span style=\"color: #000000; text-decoration-color: #000000; font-weight: bold\">(</span><span style=\"color: #000000; text-decoration-color: #000000\">Academic Calendar</span><span style=\"color: #000000; text-decoration-color: #000000; font-weight: bold\">)</span><span style=\"color: #000000; text-decoration-color: #000000\">&gt;</span><span style=\"color: #000000; text-decoration-color: #000000; font-weight: bold\">)</span><span style=\"color: #000000; text-decoration-color: #000000\">,</span>\n",
       "<span style=\"color: #000000; text-decoration-color: #000000\">    </span><span style=\"color: #000000; text-decoration-color: #000000; font-weight: bold\">(</span><span style=\"color: #008080; text-decoration-color: #008080; font-weight: bold\">10</span><span style=\"color: #000000; text-decoration-color: #000000\">, &lt;CalendarListEntry </span><span style=\"color: #800080; text-decoration-color: #800080; font-style: italic\">None</span><span style=\"color: #000000; text-decoration-color: #000000\"> - </span><span style=\"color: #000000; text-decoration-color: #000000; font-weight: bold\">(</span><span style=\"color: #000000; text-decoration-color: #000000\">Descriptive Astronomy</span><span style=\"color: #000000; text-decoration-color: #000000; font-weight: bold\">)</span><span style=\"color: #000000; text-decoration-color: #000000\">&gt;</span><span style=\"color: #000000; text-decoration-color: #000000; font-weight: bold\">)</span><span style=\"color: #000000; text-decoration-color: #000000\">,</span>\n",
       "<span style=\"color: #000000; text-decoration-color: #000000\">    </span><span style=\"color: #000000; text-decoration-color: #000000; font-weight: bold\">(</span><span style=\"color: #008080; text-decoration-color: #008080; font-weight: bold\">11</span><span style=\"color: #000000; text-decoration-color: #000000\">, &lt;CalendarListEntry </span><span style=\"color: #800080; text-decoration-color: #800080; font-style: italic\">None</span><span style=\"color: #000000; text-decoration-color: #000000\"> - </span><span style=\"color: #000000; text-decoration-color: #000000; font-weight: bold\">(</span><span style=\"color: #000000; text-decoration-color: #000000\">DVT Student Work Schedule</span><span style=\"color: #000000; text-decoration-color: #000000; font-weight: bold\">)</span><span style=\"color: #000000; text-decoration-color: #000000\">&gt;</span><span style=\"color: #000000; text-decoration-color: #000000; font-weight: bold\">)</span><span style=\"color: #000000; text-decoration-color: #000000\">,</span>\n",
       "<span style=\"color: #000000; text-decoration-color: #000000\">    </span><span style=\"color: #000000; text-decoration-color: #000000; font-weight: bold\">(</span><span style=\"color: #008080; text-decoration-color: #008080; font-weight: bold\">12</span><span style=\"color: #000000; text-decoration-color: #000000\">, &lt;CalendarListEntry </span><span style=\"color: #800080; text-decoration-color: #800080; font-style: italic\">None</span><span style=\"color: #000000; text-decoration-color: #000000\"> - </span><span style=\"color: #000000; text-decoration-color: #000000; font-weight: bold\">(</span><span style=\"color: #000000; text-decoration-color: #000000\">PTE Meal Plan </span><span style=\"color: #000000; text-decoration-color: #000000; font-weight: bold\">(</span><span style=\"color: #000000; text-decoration-color: #000000\">recipes</span><span style=\"color: #000000; text-decoration-color: #000000; font-weight: bold\">))</span><span style=\"color: #000000; text-decoration-color: #000000\">&gt;</span><span style=\"color: #000000; text-decoration-color: #000000; font-weight: bold\">)</span><span style=\"color: #000000; text-decoration-color: #000000\">,</span>\n",
       "<span style=\"color: #000000; text-decoration-color: #000000\">    </span><span style=\"color: #000000; text-decoration-color: #000000; font-weight: bold\">(</span><span style=\"color: #008080; text-decoration-color: #008080; font-weight: bold\">13</span><span style=\"color: #000000; text-decoration-color: #000000\">, &lt;CalendarListEntry </span><span style=\"color: #800080; text-decoration-color: #800080; font-style: italic\">None</span><span style=\"color: #000000; text-decoration-color: #000000\"> - </span><span style=\"color: #000000; text-decoration-color: #000000; font-weight: bold\">(</span><span style=\"color: #000000; text-decoration-color: #000000\">LIPS </span><span style=\"color: #008080; text-decoration-color: #008080; font-weight: bold\">2013</span><span style=\"color: #000000; text-decoration-color: #000000\"> Calendar </span><span style=\"color: #000000; text-decoration-color: #000000; font-weight: bold\">(</span><span style=\"color: #000000; text-decoration-color: #000000\">August </span><span style=\"color: #008080; text-decoration-color: #008080; font-weight: bold\">2</span><span style=\"color: #000000; text-decoration-color: #000000\"> Revision</span><span style=\"color: #000000; text-decoration-color: #000000; font-weight: bold\">))</span><span style=\"color: #000000; text-decoration-color: #000000\">&gt;</span><span style=\"color: #000000; text-decoration-color: #000000; font-weight: bold\">)</span><span style=\"color: #000000; text-decoration-color: #000000\">,</span>\n",
       "<span style=\"color: #000000; text-decoration-color: #000000\">    </span><span style=\"color: #000000; text-decoration-color: #000000; font-weight: bold\">(</span><span style=\"color: #008080; text-decoration-color: #008080; font-weight: bold\">14</span><span style=\"color: #000000; text-decoration-color: #000000\">, &lt;CalendarListEntry </span><span style=\"color: #800080; text-decoration-color: #800080; font-style: italic\">None</span><span style=\"color: #000000; text-decoration-color: #000000\"> - </span><span style=\"color: #000000; text-decoration-color: #000000; font-weight: bold\">(</span><span style=\"color: #000000; text-decoration-color: #000000\">indivisibleIN02 Action Calendar</span><span style=\"color: #000000; text-decoration-color: #000000; font-weight: bold\">)</span><span style=\"color: #000000; text-decoration-color: #000000\">&gt;</span><span style=\"color: #000000; text-decoration-color: #000000; font-weight: bold\">)</span><span style=\"color: #000000; text-decoration-color: #000000\">,</span>\n",
       "<span style=\"color: #000000; text-decoration-color: #000000\">    </span><span style=\"color: #000000; text-decoration-color: #000000; font-weight: bold\">(</span><span style=\"color: #008080; text-decoration-color: #008080; font-weight: bold\">15</span><span style=\"color: #000000; text-decoration-color: #000000\">, &lt;CalendarListEntry </span><span style=\"color: #800080; text-decoration-color: #800080; font-style: italic\">None</span><span style=\"color: #000000; text-decoration-color: #000000\"> - </span><span style=\"color: #000000; text-decoration-color: #000000; font-weight: bold\">(</span><span style=\"color: #000000; text-decoration-color: #000000\">Clemson Planetarium</span><span style=\"color: #000000; text-decoration-color: #000000; font-weight: bold\">)</span><span style=\"color: #000000; text-decoration-color: #000000\">&gt;</span><span style=\"color: #000000; text-decoration-color: #000000; font-weight: bold\">)</span><span style=\"color: #000000; text-decoration-color: #000000\">,</span>\n",
       "<span style=\"color: #000000; text-decoration-color: #000000\">    </span><span style=\"color: #000000; text-decoration-color: #000000; font-weight: bold\">(</span><span style=\"color: #008080; text-decoration-color: #008080; font-weight: bold\">16</span><span style=\"color: #000000; text-decoration-color: #000000\">, &lt;CalendarListEntry </span><span style=\"color: #800080; text-decoration-color: #800080; font-style: italic\">None</span><span style=\"color: #000000; text-decoration-color: #000000\"> - </span><span style=\"color: #000000; text-decoration-color: #000000; font-weight: bold\">(</span><span style=\"color: #000000; text-decoration-color: #000000\">Birthdays</span><span style=\"color: #000000; text-decoration-color: #000000; font-weight: bold\">)</span><span style=\"color: #000000; text-decoration-color: #000000\">&gt;</span><span style=\"color: #000000; text-decoration-color: #000000; font-weight: bold\">)</span><span style=\"color: #000000; text-decoration-color: #000000\">,</span>\n",
       "<span style=\"color: #000000; text-decoration-color: #000000\">    </span><span style=\"color: #000000; text-decoration-color: #000000; font-weight: bold\">(</span><span style=\"color: #008080; text-decoration-color: #008080; font-weight: bold\">17</span><span style=\"color: #000000; text-decoration-color: #000000\">, &lt;CalendarListEntry </span><span style=\"color: #800080; text-decoration-color: #800080; font-style: italic\">None</span><span style=\"color: #000000; text-decoration-color: #000000\"> - </span><span style=\"color: #000000; text-decoration-color: #000000; font-weight: bold\">(</span><span style=\"color: #000000; text-decoration-color: #000000\">Remember The Milk</span><span style=\"color: #000000; text-decoration-color: #000000; font-weight: bold\">)</span><span style=\"color: #000000; text-decoration-color: #000000\">&gt;</span><span style=\"color: #000000; text-decoration-color: #000000; font-weight: bold\">)</span><span style=\"color: #000000; text-decoration-color: #000000\">,</span>\n",
       "<span style=\"color: #000000; text-decoration-color: #000000\">    </span><span style=\"color: #000000; text-decoration-color: #000000; font-weight: bold\">(</span><span style=\"color: #008080; text-decoration-color: #008080; font-weight: bold\">18</span><span style=\"color: #000000; text-decoration-color: #000000\">, &lt;CalendarListEntry </span><span style=\"color: #800080; text-decoration-color: #800080; font-style: italic\">None</span><span style=\"color: #000000; text-decoration-color: #000000\"> - </span><span style=\"color: #000000; text-decoration-color: #000000; font-weight: bold\">(</span><span style=\"color: #000000; text-decoration-color: #000000\">Phases of the Moon</span><span style=\"color: #000000; text-decoration-color: #000000; font-weight: bold\">)</span><span style=\"color: #000000; text-decoration-color: #000000\">&gt;</span><span style=\"color: #000000; text-decoration-color: #000000; font-weight: bold\">)</span><span style=\"color: #000000; text-decoration-color: #000000\">,</span>\n",
       "<span style=\"color: #000000; text-decoration-color: #000000\">    </span><span style=\"color: #000000; text-decoration-color: #000000; font-weight: bold\">(</span><span style=\"color: #008080; text-decoration-color: #008080; font-weight: bold\">19</span><span style=\"color: #000000; text-decoration-color: #000000\">, &lt;CalendarListEntry </span><span style=\"color: #800080; text-decoration-color: #800080; font-style: italic\">None</span><span style=\"color: #000000; text-decoration-color: #000000\"> - </span><span style=\"color: #000000; text-decoration-color: #000000; font-weight: bold\">(</span><span style=\"color: #000000; text-decoration-color: #000000\"> Wolverhampton</span><span style=\"color: #000000; text-decoration-color: #000000; font-weight: bold\">)</span><span style=\"color: #000000; text-decoration-color: #000000\">&gt;</span><span style=\"color: #000000; text-decoration-color: #000000; font-weight: bold\">)</span><span style=\"color: #000000; text-decoration-color: #000000\">,</span>\n",
       "<span style=\"color: #000000; text-decoration-color: #000000\">    </span><span style=\"color: #000000; text-decoration-color: #000000; font-weight: bold\">(</span><span style=\"color: #008080; text-decoration-color: #008080; font-weight: bold\">20</span><span style=\"color: #000000; text-decoration-color: #000000\">, &lt;CalendarListEntry </span><span style=\"color: #800080; text-decoration-color: #800080; font-style: italic\">None</span><span style=\"color: #000000; text-decoration-color: #000000\"> - </span><span style=\"color: #000000; text-decoration-color: #000000; font-weight: bold\">(</span><span style=\"color: #000000; text-decoration-color: #000000\">Chicago Fire</span><span style=\"color: #000000; text-decoration-color: #000000; font-weight: bold\">)</span><span style=\"color: #000000; text-decoration-color: #000000\">&gt;</span><span style=\"color: #000000; text-decoration-color: #000000; font-weight: bold\">)</span><span style=\"color: #000000; text-decoration-color: #000000\">,</span>\n",
       "<span style=\"color: #000000; text-decoration-color: #000000\">    </span><span style=\"color: #000000; text-decoration-color: #000000; font-weight: bold\">(</span><span style=\"color: #008080; text-decoration-color: #008080; font-weight: bold\">21</span><span style=\"color: #000000; text-decoration-color: #000000\">, &lt;CalendarListEntry </span><span style=\"color: #800080; text-decoration-color: #800080; font-style: italic\">None</span><span style=\"color: #000000; text-decoration-color: #000000\"> - </span><span style=\"color: #000000; text-decoration-color: #000000; font-weight: bold\">(</span><span style=\"color: #000000; text-decoration-color: #000000\">GenCon </span><span style=\"color: #008080; text-decoration-color: #008080; font-weight: bold\">2019</span><span style=\"color: #000000; text-decoration-color: #000000; font-weight: bold\">)</span><span style=\"color: #000000; text-decoration-color: #000000\">&gt;</span><span style=\"color: #000000; text-decoration-color: #000000; font-weight: bold\">)</span><span style=\"color: #000000; text-decoration-color: #000000\">,</span>\n",
       "<span style=\"color: #000000; text-decoration-color: #000000\">    </span><span style=\"color: #000000; text-decoration-color: #000000; font-weight: bold\">(</span><span style=\"color: #008080; text-decoration-color: #008080; font-weight: bold\">22</span><span style=\"color: #000000; text-decoration-color: #000000\">, &lt;CalendarListEntry </span><span style=\"color: #800080; text-decoration-color: #800080; font-style: italic\">None</span><span style=\"color: #000000; text-decoration-color: #000000\"> - </span><span style=\"color: #000000; text-decoration-color: #000000; font-weight: bold\">(</span><span style=\"color: #000000; text-decoration-color: #000000\">Holidays in United States</span><span style=\"color: #000000; text-decoration-color: #000000; font-weight: bold\">)</span><span style=\"color: #000000; text-decoration-color: #000000\">&gt;</span><span style=\"color: #000000; text-decoration-color: #000000; font-weight: bold\">)</span><span style=\"color: #000000; text-decoration-color: #000000\">,</span>\n",
       "<span style=\"color: #000000; text-decoration-color: #000000\">    </span><span style=\"color: #000000; text-decoration-color: #000000; font-weight: bold\">(</span><span style=\"color: #008080; text-decoration-color: #008080; font-weight: bold\">23</span><span style=\"color: #000000; text-decoration-color: #000000\">, &lt;CalendarListEntry </span><span style=\"color: #800080; text-decoration-color: #800080; font-style: italic\">None</span><span style=\"color: #000000; text-decoration-color: #000000\"> - </span><span style=\"color: #000000; text-decoration-color: #000000; font-weight: bold\">(</span><span style=\"color: #000000; text-decoration-color: #000000\">kdavis10@nd.edu</span><span style=\"color: #000000; text-decoration-color: #000000; font-weight: bold\">)</span><span style=\"color: #000000; text-decoration-color: #000000\">&gt;</span><span style=\"color: #000000; text-decoration-color: #000000; font-weight: bold\">)</span><span style=\"color: #000000; text-decoration-color: #000000\">,</span>\n",
       "<span style=\"color: #000000; text-decoration-color: #000000\">    </span><span style=\"color: #000000; text-decoration-color: #000000; font-weight: bold\">(</span><span style=\"color: #008080; text-decoration-color: #008080; font-weight: bold\">24</span><span style=\"color: #000000; text-decoration-color: #000000\">, &lt;CalendarListEntry </span><span style=\"color: #800080; text-decoration-color: #800080; font-style: italic\">None</span><span style=\"color: #000000; text-decoration-color: #000000\"> - </span><span style=\"color: #000000; text-decoration-color: #000000; font-weight: bold\">(</span><span style=\"color: #000000; text-decoration-color: #000000\">DVT Student Work UNAVAILABLE</span><span style=\"color: #000000; text-decoration-color: #000000; font-weight: bold\">)</span><span style=\"color: #000000; text-decoration-color: #000000\">&gt;</span><span style=\"color: #000000; text-decoration-color: #000000; font-weight: bold\">)</span><span style=\"color: #000000; text-decoration-color: #000000\">,</span>\n",
       "<span style=\"color: #000000; text-decoration-color: #000000\">    </span><span style=\"color: #000000; text-decoration-color: #000000; font-weight: bold\">(</span><span style=\"color: #008080; text-decoration-color: #008080; font-weight: bold\">25</span><span style=\"color: #000000; text-decoration-color: #000000\">, &lt;CalendarListEntry </span><span style=\"color: #800080; text-decoration-color: #800080; font-style: italic\">None</span><span style=\"color: #000000; text-decoration-color: #000000\"> - </span><span style=\"color: #000000; text-decoration-color: #000000; font-weight: bold\">(</span><span style=\"color: #000000; text-decoration-color: #000000\">Great Lakes Planetarium Association</span><span style=\"color: #000000; text-decoration-color: #000000; font-weight: bold\">)</span><span style=\"color: #000000; text-decoration-color: #000000\">&gt;</span><span style=\"color: #000000; text-decoration-color: #000000; font-weight: bold\">)</span><span style=\"color: #000000; text-decoration-color: #000000\">,</span>\n",
       "<span style=\"color: #000000; text-decoration-color: #000000\">    </span><span style=\"color: #000000; text-decoration-color: #000000; font-weight: bold\">(</span><span style=\"color: #008080; text-decoration-color: #008080; font-weight: bold\">26</span><span style=\"color: #000000; text-decoration-color: #000000\">, &lt;CalendarListEntry </span><span style=\"color: #800080; text-decoration-color: #800080; font-style: italic\">None</span><span style=\"color: #000000; text-decoration-color: #000000\"> - </span><span style=\"color: #000000; text-decoration-color: #000000; font-weight: bold\">(</span><span style=\"color: #000000; text-decoration-color: #000000\">Tasks Personal</span><span style=\"color: #000000; text-decoration-color: #000000; font-weight: bold\">)</span><span style=\"color: #000000; text-decoration-color: #000000\">&gt;</span><span style=\"color: #000000; text-decoration-color: #000000; font-weight: bold\">)</span><span style=\"color: #000000; text-decoration-color: #000000\">,</span>\n",
       "<span style=\"color: #000000; text-decoration-color: #000000\">    </span><span style=\"color: #000000; text-decoration-color: #000000; font-weight: bold\">(</span><span style=\"color: #008080; text-decoration-color: #008080; font-weight: bold\">27</span><span style=\"color: #000000; text-decoration-color: #000000\">, &lt;CalendarListEntry </span><span style=\"color: #800080; text-decoration-color: #800080; font-style: italic\">None</span><span style=\"color: #000000; text-decoration-color: #000000\"> - </span><span style=\"color: #000000; text-decoration-color: #000000; font-weight: bold\">(</span><span style=\"color: #000000; text-decoration-color: #000000\">Legend Secondary</span><span style=\"color: #000000; text-decoration-color: #000000; font-weight: bold\">)</span><span style=\"color: #000000; text-decoration-color: #000000\">&gt;</span><span style=\"color: #000000; text-decoration-color: #000000; font-weight: bold\">)</span><span style=\"color: #000000; text-decoration-color: #000000\">,</span>\n",
       "<span style=\"color: #000000; text-decoration-color: #000000\">    </span><span style=\"color: #000000; text-decoration-color: #000000; font-weight: bold\">(</span><span style=\"color: #008080; text-decoration-color: #008080; font-weight: bold\">28</span><span style=\"color: #000000; text-decoration-color: #000000\">, &lt;CalendarListEntry </span><span style=\"color: #800080; text-decoration-color: #800080; font-style: italic\">None</span><span style=\"color: #000000; text-decoration-color: #000000\"> - </span><span style=\"color: #000000; text-decoration-color: #000000; font-weight: bold\">(</span><span style=\"color: #000000; text-decoration-color: #000000\">Legend Main</span><span style=\"color: #000000; text-decoration-color: #000000; font-weight: bold\">)</span><span style=\"color: #000000; text-decoration-color: #000000\">&gt;</span><span style=\"color: #000000; text-decoration-color: #000000; font-weight: bold\">)</span><span style=\"color: #000000; text-decoration-color: #000000\">,</span>\n",
       "<span style=\"color: #000000; text-decoration-color: #000000\">    </span><span style=\"color: #000000; text-decoration-color: #000000; font-weight: bold\">(</span><span style=\"color: #008080; text-decoration-color: #008080; font-weight: bold\">29</span><span style=\"color: #000000; text-decoration-color: #000000\">, &lt;CalendarListEntry </span><span style=\"color: #800080; text-decoration-color: #800080; font-style: italic\">None</span><span style=\"color: #000000; text-decoration-color: #000000\"> - </span><span style=\"color: #000000; text-decoration-color: #000000; font-weight: bold\">(</span><span style=\"color: #000000; text-decoration-color: #000000\">TD Trips</span><span style=\"color: #000000; text-decoration-color: #000000; font-weight: bold\">)</span><span style=\"color: #000000; text-decoration-color: #000000\">&gt;</span><span style=\"color: #000000; text-decoration-color: #000000; font-weight: bold\">)</span><span style=\"color: #000000; text-decoration-color: #000000\">,</span>\n",
       "<span style=\"color: #000000; text-decoration-color: #000000\">    </span><span style=\"color: #000000; text-decoration-color: #000000; font-weight: bold\">(</span><span style=\"color: #008080; text-decoration-color: #008080; font-weight: bold\">30</span><span style=\"color: #000000; text-decoration-color: #000000\">, &lt;CalendarListEntry </span><span style=\"color: #800080; text-decoration-color: #800080; font-style: italic\">None</span><span style=\"color: #000000; text-decoration-color: #000000\"> - </span><span style=\"color: #000000; text-decoration-color: #000000; font-weight: bold\">(</span><span style=\"color: #000000; text-decoration-color: #000000\">Food</span><span style=\"color: #000000; text-decoration-color: #000000; font-weight: bold\">)</span><span style=\"color: #000000; text-decoration-color: #000000\">&gt;</span><span style=\"color: #000000; text-decoration-color: #000000; font-weight: bold\">)</span><span style=\"color: #000000; text-decoration-color: #000000\">,</span>\n",
       "<span style=\"color: #000000; text-decoration-color: #000000\">    </span><span style=\"color: #000000; text-decoration-color: #000000; font-weight: bold\">(</span><span style=\"color: #008080; text-decoration-color: #008080; font-weight: bold\">31</span><span style=\"color: #000000; text-decoration-color: #000000\">, &lt;CalendarListEntry </span><span style=\"color: #800080; text-decoration-color: #800080; font-style: italic\">None</span><span style=\"color: #000000; text-decoration-color: #000000\"> - </span><span style=\"color: #000000; text-decoration-color: #000000; font-weight: bold\">(</span><span style=\"color: #000000; text-decoration-color: #000000\">Tasks: Work</span><span style=\"color: #000000; text-decoration-color: #000000; font-weight: bold\">)</span><span style=\"color: #000000; text-decoration-color: #000000\">&gt;</span><span style=\"color: #000000; text-decoration-color: #000000; font-weight: bold\">)</span><span style=\"color: #000000; text-decoration-color: #000000\">,</span>\n",
       "<span style=\"color: #000000; text-decoration-color: #000000\">    </span><span style=\"color: #000000; text-decoration-color: #000000; font-weight: bold\">(</span><span style=\"color: #008080; text-decoration-color: #008080; font-weight: bold\">32</span><span style=\"color: #000000; text-decoration-color: #000000\">, &lt;CalendarListEntry </span><span style=\"color: #800080; text-decoration-color: #800080; font-style: italic\">None</span><span style=\"color: #000000; text-decoration-color: #000000\"> - </span><span style=\"color: #000000; text-decoration-color: #000000; font-weight: bold\">(</span><span style=\"color: #000000; text-decoration-color: #000000\">TD Work Projects</span><span style=\"color: #000000; text-decoration-color: #000000; font-weight: bold\">)</span><span style=\"font-weight: bold\">&gt;)</span>\n",
       "<span style=\"font-weight: bold\">]</span>\n",
       "</pre>\n"
      ],
      "text/plain": [
       "\u001b[1m[\u001b[0m\n",
       "    \u001b[1m(\u001b[0m\u001b[1;36m0\u001b[0m, \u001b[1m<\u001b[0m\u001b[1;95mCalendarListEntry\u001b[0m\u001b[39m \u001b[0m\u001b[3;35mNone\u001b[0m\u001b[39m - \u001b[0m\u001b[1;39m(\u001b[0m\u001b[39mWeather\u001b[0m\u001b[1;39m)\u001b[0m\u001b[39m>\u001b[0m\u001b[1;39m)\u001b[0m\u001b[39m,\u001b[0m\n",
       "\u001b[39m    \u001b[0m\u001b[1;39m(\u001b[0m\u001b[1;36m1\u001b[0m\u001b[39m, <CalendarListEntry \u001b[0m\u001b[3;35mNone\u001b[0m\u001b[39m - \u001b[0m\u001b[1;39m(\u001b[0m\u001b[39mPayments\u001b[0m\u001b[1;39m)\u001b[0m\u001b[39m>\u001b[0m\u001b[1;39m)\u001b[0m\u001b[39m,\u001b[0m\n",
       "\u001b[39m    \u001b[0m\u001b[1;39m(\u001b[0m\u001b[1;36m2\u001b[0m\u001b[39m, <CalendarListEntry \u001b[0m\u001b[3;35mNone\u001b[0m\u001b[39m - \u001b[0m\u001b[1;39m(\u001b[0m\u001b[39mAxis Ludi Calendar\u001b[0m\u001b[1;39m)\u001b[0m\u001b[39m>\u001b[0m\u001b[1;39m)\u001b[0m\u001b[39m,\u001b[0m\n",
       "\u001b[39m    \u001b[0m\u001b[1;39m(\u001b[0m\u001b[1;36m3\u001b[0m\u001b[39m, <CalendarListEntry \u001b[0m\u001b[3;35mNone\u001b[0m\u001b[39m - \u001b[0m\u001b[1;39m(\u001b[0m\u001b[39mNYT Astronomy and Space Calendar\u001b[0m\u001b[1;39m)\u001b[0m\u001b[39m>\u001b[0m\u001b[1;39m)\u001b[0m\u001b[39m,\u001b[0m\n",
       "\u001b[39m    \u001b[0m\u001b[1;39m(\u001b[0m\u001b[1;36m4\u001b[0m\u001b[39m, <CalendarListEntry \u001b[0m\u001b[3;35mNone\u001b[0m\u001b[39m - \u001b[0m\u001b[1;39m(\u001b[0m\u001b[39mLIPS \u001b[0m\u001b[1;36m2015\u001b[0m\u001b[1;39m)\u001b[0m\u001b[39m>\u001b[0m\u001b[1;39m)\u001b[0m\u001b[39m,\u001b[0m\n",
       "\u001b[39m    \u001b[0m\u001b[1;39m(\u001b[0m\u001b[1;36m5\u001b[0m\u001b[39m, <CalendarListEntry \u001b[0m\u001b[3;35mNone\u001b[0m\u001b[39m - \u001b[0m\u001b[1;39m(\u001b[0m\u001b[39mND-DVT Provisional Shows\u001b[0m\u001b[1;39m)\u001b[0m\u001b[39m>\u001b[0m\u001b[1;39m)\u001b[0m\u001b[39m,\u001b[0m\n",
       "\u001b[39m    \u001b[0m\u001b[1;39m(\u001b[0m\u001b[1;36m6\u001b[0m\u001b[39m, <CalendarListEntry \u001b[0m\u001b[3;35mNone\u001b[0m\u001b[39m - \u001b[0m\u001b[1;39m(\u001b[0m\u001b[39mkeithwdavis@gmail.com\u001b[0m\u001b[1;39m)\u001b[0m\u001b[39m>\u001b[0m\u001b[1;39m)\u001b[0m\u001b[39m,\u001b[0m\n",
       "\u001b[39m    \u001b[0m\u001b[1;39m(\u001b[0m\u001b[1;36m7\u001b[0m\u001b[39m, <CalendarListEntry \u001b[0m\u001b[3;35mNone\u001b[0m\u001b[39m - \u001b[0m\u001b[1;39m(\u001b[0m\u001b[39mWork\u001b[0m\u001b[1;39m)\u001b[0m\u001b[39m>\u001b[0m\u001b[1;39m)\u001b[0m\u001b[39m,\u001b[0m\n",
       "\u001b[39m    \u001b[0m\u001b[1;39m(\u001b[0m\u001b[1;36m8\u001b[0m\u001b[39m, <CalendarListEntry \u001b[0m\u001b[3;35mNone\u001b[0m\u001b[39m - \u001b[0m\u001b[1;39m(\u001b[0m\u001b[39mCognoscenti\u001b[0m\u001b[1;39m)\u001b[0m\u001b[39m>\u001b[0m\u001b[1;39m)\u001b[0m\u001b[39m,\u001b[0m\n",
       "\u001b[39m    \u001b[0m\u001b[1;39m(\u001b[0m\u001b[1;36m9\u001b[0m\u001b[39m, <CalendarListEntry \u001b[0m\u001b[3;35mNone\u001b[0m\u001b[39m - \u001b[0m\u001b[1;39m(\u001b[0m\u001b[39mAcademic Calendar\u001b[0m\u001b[1;39m)\u001b[0m\u001b[39m>\u001b[0m\u001b[1;39m)\u001b[0m\u001b[39m,\u001b[0m\n",
       "\u001b[39m    \u001b[0m\u001b[1;39m(\u001b[0m\u001b[1;36m10\u001b[0m\u001b[39m, <CalendarListEntry \u001b[0m\u001b[3;35mNone\u001b[0m\u001b[39m - \u001b[0m\u001b[1;39m(\u001b[0m\u001b[39mDescriptive Astronomy\u001b[0m\u001b[1;39m)\u001b[0m\u001b[39m>\u001b[0m\u001b[1;39m)\u001b[0m\u001b[39m,\u001b[0m\n",
       "\u001b[39m    \u001b[0m\u001b[1;39m(\u001b[0m\u001b[1;36m11\u001b[0m\u001b[39m, <CalendarListEntry \u001b[0m\u001b[3;35mNone\u001b[0m\u001b[39m - \u001b[0m\u001b[1;39m(\u001b[0m\u001b[39mDVT Student Work Schedule\u001b[0m\u001b[1;39m)\u001b[0m\u001b[39m>\u001b[0m\u001b[1;39m)\u001b[0m\u001b[39m,\u001b[0m\n",
       "\u001b[39m    \u001b[0m\u001b[1;39m(\u001b[0m\u001b[1;36m12\u001b[0m\u001b[39m, <CalendarListEntry \u001b[0m\u001b[3;35mNone\u001b[0m\u001b[39m - \u001b[0m\u001b[1;39m(\u001b[0m\u001b[39mPTE Meal Plan \u001b[0m\u001b[1;39m(\u001b[0m\u001b[39mrecipes\u001b[0m\u001b[1;39m)\u001b[0m\u001b[1;39m)\u001b[0m\u001b[39m>\u001b[0m\u001b[1;39m)\u001b[0m\u001b[39m,\u001b[0m\n",
       "\u001b[39m    \u001b[0m\u001b[1;39m(\u001b[0m\u001b[1;36m13\u001b[0m\u001b[39m, <CalendarListEntry \u001b[0m\u001b[3;35mNone\u001b[0m\u001b[39m - \u001b[0m\u001b[1;39m(\u001b[0m\u001b[39mLIPS \u001b[0m\u001b[1;36m2013\u001b[0m\u001b[39m Calendar \u001b[0m\u001b[1;39m(\u001b[0m\u001b[39mAugust \u001b[0m\u001b[1;36m2\u001b[0m\u001b[39m Revision\u001b[0m\u001b[1;39m)\u001b[0m\u001b[1;39m)\u001b[0m\u001b[39m>\u001b[0m\u001b[1;39m)\u001b[0m\u001b[39m,\u001b[0m\n",
       "\u001b[39m    \u001b[0m\u001b[1;39m(\u001b[0m\u001b[1;36m14\u001b[0m\u001b[39m, <CalendarListEntry \u001b[0m\u001b[3;35mNone\u001b[0m\u001b[39m - \u001b[0m\u001b[1;39m(\u001b[0m\u001b[39mindivisibleIN02 Action Calendar\u001b[0m\u001b[1;39m)\u001b[0m\u001b[39m>\u001b[0m\u001b[1;39m)\u001b[0m\u001b[39m,\u001b[0m\n",
       "\u001b[39m    \u001b[0m\u001b[1;39m(\u001b[0m\u001b[1;36m15\u001b[0m\u001b[39m, <CalendarListEntry \u001b[0m\u001b[3;35mNone\u001b[0m\u001b[39m - \u001b[0m\u001b[1;39m(\u001b[0m\u001b[39mClemson Planetarium\u001b[0m\u001b[1;39m)\u001b[0m\u001b[39m>\u001b[0m\u001b[1;39m)\u001b[0m\u001b[39m,\u001b[0m\n",
       "\u001b[39m    \u001b[0m\u001b[1;39m(\u001b[0m\u001b[1;36m16\u001b[0m\u001b[39m, <CalendarListEntry \u001b[0m\u001b[3;35mNone\u001b[0m\u001b[39m - \u001b[0m\u001b[1;39m(\u001b[0m\u001b[39mBirthdays\u001b[0m\u001b[1;39m)\u001b[0m\u001b[39m>\u001b[0m\u001b[1;39m)\u001b[0m\u001b[39m,\u001b[0m\n",
       "\u001b[39m    \u001b[0m\u001b[1;39m(\u001b[0m\u001b[1;36m17\u001b[0m\u001b[39m, <CalendarListEntry \u001b[0m\u001b[3;35mNone\u001b[0m\u001b[39m - \u001b[0m\u001b[1;39m(\u001b[0m\u001b[39mRemember The Milk\u001b[0m\u001b[1;39m)\u001b[0m\u001b[39m>\u001b[0m\u001b[1;39m)\u001b[0m\u001b[39m,\u001b[0m\n",
       "\u001b[39m    \u001b[0m\u001b[1;39m(\u001b[0m\u001b[1;36m18\u001b[0m\u001b[39m, <CalendarListEntry \u001b[0m\u001b[3;35mNone\u001b[0m\u001b[39m - \u001b[0m\u001b[1;39m(\u001b[0m\u001b[39mPhases of the Moon\u001b[0m\u001b[1;39m)\u001b[0m\u001b[39m>\u001b[0m\u001b[1;39m)\u001b[0m\u001b[39m,\u001b[0m\n",
       "\u001b[39m    \u001b[0m\u001b[1;39m(\u001b[0m\u001b[1;36m19\u001b[0m\u001b[39m, <CalendarListEntry \u001b[0m\u001b[3;35mNone\u001b[0m\u001b[39m - \u001b[0m\u001b[1;39m(\u001b[0m\u001b[39m Wolverhampton\u001b[0m\u001b[1;39m)\u001b[0m\u001b[39m>\u001b[0m\u001b[1;39m)\u001b[0m\u001b[39m,\u001b[0m\n",
       "\u001b[39m    \u001b[0m\u001b[1;39m(\u001b[0m\u001b[1;36m20\u001b[0m\u001b[39m, <CalendarListEntry \u001b[0m\u001b[3;35mNone\u001b[0m\u001b[39m - \u001b[0m\u001b[1;39m(\u001b[0m\u001b[39mChicago Fire\u001b[0m\u001b[1;39m)\u001b[0m\u001b[39m>\u001b[0m\u001b[1;39m)\u001b[0m\u001b[39m,\u001b[0m\n",
       "\u001b[39m    \u001b[0m\u001b[1;39m(\u001b[0m\u001b[1;36m21\u001b[0m\u001b[39m, <CalendarListEntry \u001b[0m\u001b[3;35mNone\u001b[0m\u001b[39m - \u001b[0m\u001b[1;39m(\u001b[0m\u001b[39mGenCon \u001b[0m\u001b[1;36m2019\u001b[0m\u001b[1;39m)\u001b[0m\u001b[39m>\u001b[0m\u001b[1;39m)\u001b[0m\u001b[39m,\u001b[0m\n",
       "\u001b[39m    \u001b[0m\u001b[1;39m(\u001b[0m\u001b[1;36m22\u001b[0m\u001b[39m, <CalendarListEntry \u001b[0m\u001b[3;35mNone\u001b[0m\u001b[39m - \u001b[0m\u001b[1;39m(\u001b[0m\u001b[39mHolidays in United States\u001b[0m\u001b[1;39m)\u001b[0m\u001b[39m>\u001b[0m\u001b[1;39m)\u001b[0m\u001b[39m,\u001b[0m\n",
       "\u001b[39m    \u001b[0m\u001b[1;39m(\u001b[0m\u001b[1;36m23\u001b[0m\u001b[39m, <CalendarListEntry \u001b[0m\u001b[3;35mNone\u001b[0m\u001b[39m - \u001b[0m\u001b[1;39m(\u001b[0m\u001b[39mkdavis10@nd.edu\u001b[0m\u001b[1;39m)\u001b[0m\u001b[39m>\u001b[0m\u001b[1;39m)\u001b[0m\u001b[39m,\u001b[0m\n",
       "\u001b[39m    \u001b[0m\u001b[1;39m(\u001b[0m\u001b[1;36m24\u001b[0m\u001b[39m, <CalendarListEntry \u001b[0m\u001b[3;35mNone\u001b[0m\u001b[39m - \u001b[0m\u001b[1;39m(\u001b[0m\u001b[39mDVT Student Work UNAVAILABLE\u001b[0m\u001b[1;39m)\u001b[0m\u001b[39m>\u001b[0m\u001b[1;39m)\u001b[0m\u001b[39m,\u001b[0m\n",
       "\u001b[39m    \u001b[0m\u001b[1;39m(\u001b[0m\u001b[1;36m25\u001b[0m\u001b[39m, <CalendarListEntry \u001b[0m\u001b[3;35mNone\u001b[0m\u001b[39m - \u001b[0m\u001b[1;39m(\u001b[0m\u001b[39mGreat Lakes Planetarium Association\u001b[0m\u001b[1;39m)\u001b[0m\u001b[39m>\u001b[0m\u001b[1;39m)\u001b[0m\u001b[39m,\u001b[0m\n",
       "\u001b[39m    \u001b[0m\u001b[1;39m(\u001b[0m\u001b[1;36m26\u001b[0m\u001b[39m, <CalendarListEntry \u001b[0m\u001b[3;35mNone\u001b[0m\u001b[39m - \u001b[0m\u001b[1;39m(\u001b[0m\u001b[39mTasks Personal\u001b[0m\u001b[1;39m)\u001b[0m\u001b[39m>\u001b[0m\u001b[1;39m)\u001b[0m\u001b[39m,\u001b[0m\n",
       "\u001b[39m    \u001b[0m\u001b[1;39m(\u001b[0m\u001b[1;36m27\u001b[0m\u001b[39m, <CalendarListEntry \u001b[0m\u001b[3;35mNone\u001b[0m\u001b[39m - \u001b[0m\u001b[1;39m(\u001b[0m\u001b[39mLegend Secondary\u001b[0m\u001b[1;39m)\u001b[0m\u001b[39m>\u001b[0m\u001b[1;39m)\u001b[0m\u001b[39m,\u001b[0m\n",
       "\u001b[39m    \u001b[0m\u001b[1;39m(\u001b[0m\u001b[1;36m28\u001b[0m\u001b[39m, <CalendarListEntry \u001b[0m\u001b[3;35mNone\u001b[0m\u001b[39m - \u001b[0m\u001b[1;39m(\u001b[0m\u001b[39mLegend Main\u001b[0m\u001b[1;39m)\u001b[0m\u001b[39m>\u001b[0m\u001b[1;39m)\u001b[0m\u001b[39m,\u001b[0m\n",
       "\u001b[39m    \u001b[0m\u001b[1;39m(\u001b[0m\u001b[1;36m29\u001b[0m\u001b[39m, <CalendarListEntry \u001b[0m\u001b[3;35mNone\u001b[0m\u001b[39m - \u001b[0m\u001b[1;39m(\u001b[0m\u001b[39mTD Trips\u001b[0m\u001b[1;39m)\u001b[0m\u001b[39m>\u001b[0m\u001b[1;39m)\u001b[0m\u001b[39m,\u001b[0m\n",
       "\u001b[39m    \u001b[0m\u001b[1;39m(\u001b[0m\u001b[1;36m30\u001b[0m\u001b[39m, <CalendarListEntry \u001b[0m\u001b[3;35mNone\u001b[0m\u001b[39m - \u001b[0m\u001b[1;39m(\u001b[0m\u001b[39mFood\u001b[0m\u001b[1;39m)\u001b[0m\u001b[39m>\u001b[0m\u001b[1;39m)\u001b[0m\u001b[39m,\u001b[0m\n",
       "\u001b[39m    \u001b[0m\u001b[1;39m(\u001b[0m\u001b[1;36m31\u001b[0m\u001b[39m, <CalendarListEntry \u001b[0m\u001b[3;35mNone\u001b[0m\u001b[39m - \u001b[0m\u001b[1;39m(\u001b[0m\u001b[39mTasks: Work\u001b[0m\u001b[1;39m)\u001b[0m\u001b[39m>\u001b[0m\u001b[1;39m)\u001b[0m\u001b[39m,\u001b[0m\n",
       "\u001b[39m    \u001b[0m\u001b[1;39m(\u001b[0m\u001b[1;36m32\u001b[0m\u001b[39m, <CalendarListEntry \u001b[0m\u001b[3;35mNone\u001b[0m\u001b[39m - \u001b[0m\u001b[1;39m(\u001b[0m\u001b[39mTD Work Projects\u001b[0m\u001b[1;39m)\u001b[0m\u001b[1m>\u001b[0m\u001b[1m)\u001b[0m\n",
       "\u001b[1m]\u001b[0m\n"
      ]
     },
     "metadata": {},
     "output_type": "display_data"
    }
   ],
   "source": [
    "cred = pathlib.Path('/Users/kdavis10/.config/.credentials')\n",
    "cred_json = \"pygooglecal.apps.googleusercontent.com.json\"\n",
    "\n",
    "try:\n",
    "    gcal = GoogleCalendar(credentials_path=cred / cred_json)\n",
    "except Exception as e:\n",
    "    (cred / \"token.pickle\").unlink()\n",
    "print(list(enumerate(gcal.get_calendar_list())))"
   ]
  },
  {
   "cell_type": "code",
   "execution_count": 4,
   "id": "58c05eb7-6b8a-4243-9a95-dffae44a7cfd",
   "metadata": {},
   "outputs": [],
   "source": [
    "year = y24 = CalendarElement(year=2024)\n",
    "\n",
    "traces = []\n",
    "\n",
    "clist = list(gcal.get_calendar_list())\n",
    "\n"
   ]
  },
  {
   "cell_type": "code",
   "execution_count": 5,
   "id": "5f78e1d5-6804-4870-8b22-ac5df633a9cb",
   "metadata": {},
   "outputs": [],
   "source": [
    "dfs = []\n",
    "for cid in [6, 9, 23, 31,26]:\n",
    "    events = gcal.get_events(y24.start.datetime(),\n",
    "                             y24.stop.datetime(),\n",
    "                             single_events=True,\n",
    "                             calendar_id=clist[cid].calendar_id,\n",
    "                            )\n",
    "\n",
    "    df = pd.DataFrame(data=[model.EventWrap(ev) for ev in events if ev.other[\"eventType\"] != \"workingLocation\"],\n",
    "                      columns=[\"Event_obj\"]\n",
    "                     )\n",
    "    \n",
    "    df[\"cid\"] = cid\n",
    "    df[\"color\"] = clist[cid].background_color\n",
    "    df[\"calendar_id\"] = clist[cid].calendar_id\n",
    "    dfs.append(df)\n",
    "    \n",
    "df = pd.concat(dfs, axis=\"rows\", ignore_index=True)\n",
    "df[\"duration\"] = df[\"Event_obj\"].apply(lambda ev: ev.duration)\n",
    "df[\"mid\"] = pd.to_datetime(df[\"Event_obj\"].apply(lambda ev: localize_any(ev.mid, ETZ)), utc=True).dt.tz_convert(ETZ)\n",
    "df[\"start\"] = pd.to_datetime(df[\"Event_obj\"].apply(lambda ev: localize_any(ev.start, ETZ)), utc=True).dt.tz_convert(ETZ)\n",
    "df[\"end\"] = pd.to_datetime(df[\"Event_obj\"].apply(lambda ev: localize_any(ev.end, ETZ)), utc=True).dt.tz_convert(ETZ)\n",
    "#df[\"end\"] = df[\"Event_obj\"].apply(lambda ev: ev.end)\n",
    "\n",
    "\n",
    "df[\"summary\"] = df[\"Event_obj\"].apply(lambda ev: ev.summary)\n"
   ]
  },
  {
   "cell_type": "code",
   "execution_count": 6,
   "id": "8dd625c1-7d50-4058-ba17-c789749a921c",
   "metadata": {},
   "outputs": [],
   "source": [
    "df24 = df[df[\"start\"] >= pd.Timestamp(\"2024-01-01\", tzinfo=ETZ)]\n",
    "df24 = df24[df24[\"start\"] <= pd.Timestamp(\"2025-01-01\", tzinfo=ETZ)]"
   ]
  },
  {
   "cell_type": "code",
   "execution_count": 7,
   "id": "ded92581-dfc9-4ee1-bc57-dd0895f265cf",
   "metadata": {},
   "outputs": [],
   "source": [
    "ii = pd.IntervalIndex([pd.Interval(pd.Timedelta(days=0), pd.Timedelta(days=1)),\n",
    "                       pd.Interval(pd.Timedelta(days=1), pd.Timedelta(days=1)),\n",
    "                       pd.Interval(pd.Timedelta(days=1), pd.Timedelta(days=7)),\n",
    "                       pd.Interval(pd.Timedelta(days=7), pd.Timedelta(days=31)),\n",
    "                       pd.Interval(pd.Timedelta(days=31), pd.Timedelta(days=365))])\n",
    "intervalsdf = pd.DataFrame(data=[\"hours\", \"day\", \"days\", \"weeks\", \"months\"], index=ii, columns=[\"name\"])"
   ]
  },
  {
   "cell_type": "code",
   "execution_count": 8,
   "id": "ced556b3-e6ed-4464-b4cf-a14fafdc9bc2",
   "metadata": {},
   "outputs": [],
   "source": [
    "df[\"scale\"] = pd.cut(df[\"duration\"], intervalsdf.index)"
   ]
  },
  {
   "cell_type": "code",
   "execution_count": 9,
   "id": "cba8b695-5c68-452f-9e99-d4ceb0a22ee7",
   "metadata": {},
   "outputs": [
    {
     "data": {
      "text/plain": [
       "0      (0 days 00:00:00, 1 days 00:00:00]\n",
       "1      (0 days 00:00:00, 1 days 00:00:00]\n",
       "2      (0 days 00:00:00, 1 days 00:00:00]\n",
       "3      (0 days 00:00:00, 1 days 00:00:00]\n",
       "4      (0 days 00:00:00, 1 days 00:00:00]\n",
       "                      ...                \n",
       "627    (0 days 00:00:00, 1 days 00:00:00]\n",
       "628    (0 days 00:00:00, 1 days 00:00:00]\n",
       "629    (0 days 00:00:00, 1 days 00:00:00]\n",
       "630    (0 days 00:00:00, 1 days 00:00:00]\n",
       "631    (0 days 00:00:00, 1 days 00:00:00]\n",
       "Name: scale, Length: 632, dtype: category\n",
       "Categories (5, interval[timedelta64[ns], right]): [(0 days 00:00:00, 1 days 00:00:00] < (1 days 00:00:00, 1 days 00:00:00] < (1 days 00:00:00, 7 days 00:00:00] < (7 days 00:00:00, 31 days 00:00:00] < (31 days 00:00:00, 365 days 00:00:00]]"
      ]
     },
     "execution_count": 9,
     "metadata": {},
     "output_type": "execute_result"
    }
   ],
   "source": [
    "df[\"scale\"]"
   ]
  },
  {
   "cell_type": "code",
   "execution_count": 10,
   "id": "178a4092-8082-438c-b185-66256c5fd216",
   "metadata": {},
   "outputs": [],
   "source": [
    "df[\"ring\"] = intervalsdf.loc[df[\"scale\"]].reset_index(drop=True)"
   ]
  },
  {
   "cell_type": "code",
   "execution_count": 22,
   "id": "5cd6d5f9-4618-40d5-a0da-e5805715f0e8",
   "metadata": {},
   "outputs": [],
   "source": [
    "def ts_to_theta(ts, day_to_theta=365/360):\n",
    "    return ts / day_to_theta\n",
    "\n",
    "def ring_to_base(ring, intervalsdf):\n",
    "    rvalues = [1, 5/6, 4/6, 3/6, 2/6, 1/6]\n",
    "    d = dict(zip(intervalsdf.name.values, rvalues))\n",
    "    return d[ring]\n",
    "    \n",
    "year=y24\n",
    "\n",
    "df[\"midtheta\"] = df.mid.apply(lambda x: ts_to_theta(model.to_timestamp(x), y24.duration / timedelta(days=1) / 360))\n",
    "df[\"width\"] = df.duration.apply(lambda x: x / year.duration * 360)\n",
    "df[\"rbase\"] = df.ring.apply(lambda x: ring_to_base(x, intervalsdf))\n",
    "df[\"r\"] = df[\"rbase\"]"
   ]
  },
  {
   "cell_type": "code",
   "execution_count": 26,
   "id": "102bed9c-1341-499e-a5f7-c633f21e5dd2",
   "metadata": {},
   "outputs": [
    {
     "data": {
      "application/vnd.plotly.v1+json": {
       "config": {
        "plotlyServerURL": "https://plot.ly"
       },
       "data": [
        {
         "marker": {
          "color": [
           "#9a9cff",
           "#9a9cff",
           "#9a9cff",
           "#9a9cff",
           "#9a9cff",
           "#9a9cff",
           "#9a9cff",
           "#9a9cff",
           "#9a9cff",
           "#9a9cff",
           "#9a9cff",
           "#9a9cff",
           "#9a9cff",
           "#9a9cff",
           "#9a9cff",
           "#9a9cff",
           "#9a9cff",
           "#9a9cff",
           "#9a9cff",
           "#9a9cff",
           "#9a9cff",
           "#9a9cff",
           "#9a9cff",
           "#9a9cff",
           "#9a9cff",
           "#9a9cff",
           "#9a9cff",
           "#9a9cff",
           "#9a9cff",
           "#9a9cff",
           "#9a9cff",
           "#9a9cff",
           "#9a9cff",
           "#9a9cff",
           "#9a9cff",
           "#9a9cff",
           "#9a9cff",
           "#9a9cff",
           "#9a9cff",
           "#9a9cff",
           "#9a9cff",
           "#9a9cff",
           "#9a9cff",
           "#9a9cff",
           "#9a9cff",
           "#9a9cff",
           "#9a9cff",
           "#9a9cff",
           "#9a9cff",
           "#9a9cff",
           "#9a9cff",
           "#9a9cff",
           "#9a9cff",
           "#9a9cff",
           "#9a9cff",
           "#9a9cff",
           "#9a9cff",
           "#9a9cff",
           "#9a9cff",
           "#9a9cff",
           "#9a9cff",
           "#9a9cff",
           "#9a9cff",
           "#9a9cff",
           "#9a9cff",
           "#9a9cff",
           "#9a9cff",
           "#9a9cff",
           "#9a9cff",
           "#9a9cff",
           "#9a9cff",
           "#9a9cff",
           "#9a9cff",
           "#9a9cff",
           "#9a9cff",
           "#9a9cff",
           "#9a9cff",
           "#9a9cff",
           "#9a9cff",
           "#9a9cff",
           "#9a9cff",
           "#9a9cff",
           "#9a9cff",
           "#9a9cff",
           "#9a9cff",
           "#9a9cff",
           "#9a9cff",
           "#9a9cff",
           "#9a9cff",
           "#9a9cff",
           "#9a9cff",
           "#9a9cff",
           "#9a9cff",
           "#9a9cff",
           "#9a9cff",
           "#9a9cff",
           "#9a9cff",
           "#9a9cff",
           "#9a9cff",
           "#9a9cff",
           "#9a9cff",
           "#9a9cff",
           "#9a9cff",
           "#9a9cff",
           "#9a9cff",
           "#9a9cff",
           "#9a9cff",
           "#9a9cff",
           "#9a9cff",
           "#9a9cff",
           "#9a9cff",
           "#9a9cff",
           "#9a9cff",
           "#9a9cff",
           "#9a9cff",
           "#9a9cff",
           "#9a9cff",
           "#9a9cff",
           "#9a9cff",
           "#9a9cff",
           "#9a9cff",
           "#9a9cff",
           "#9a9cff",
           "#9a9cff",
           "#9a9cff",
           "#9a9cff",
           "#9a9cff",
           "#9a9cff",
           "#9a9cff",
           "#9a9cff",
           "#9a9cff",
           "#9a9cff",
           "#9a9cff",
           "#9a9cff",
           "#cd74e6",
           "#cd74e6",
           "#cd74e6",
           "#cd74e6",
           "#cd74e6",
           "#cd74e6",
           "#cd74e6",
           "#cd74e6",
           "#cd74e6",
           "#cd74e6",
           "#cd74e6",
           "#cd74e6",
           "#cd74e6",
           "#cd74e6",
           "#cd74e6",
           "#cd74e6",
           "#cd74e6",
           "#cd74e6",
           "#cd74e6",
           "#cd74e6",
           "#cd74e6",
           "#cd74e6",
           "#cd74e6",
           "#cd74e6",
           "#cd74e6",
           "#cd74e6",
           "#cd74e6",
           "#cd74e6",
           "#cd74e6",
           "#cd74e6",
           "#cd74e6",
           "#cd74e6",
           "#cd74e6",
           "#cd74e6",
           "#cd74e6",
           "#cd74e6",
           "#cd74e6",
           "#cd74e6",
           "#cd74e6",
           "#cd74e6",
           "#cd74e6",
           "#cd74e6",
           "#cd74e6",
           "#cd74e6",
           "#cd74e6",
           "#cd74e6",
           "#cd74e6",
           "#cd74e6",
           "#cd74e6",
           "#cd74e6",
           "#cd74e6",
           "#cd74e6",
           "#cd74e6",
           "#cd74e6",
           "#cd74e6",
           "#cd74e6",
           "#cd74e6",
           "#cd74e6",
           "#cd74e6",
           "#cd74e6",
           "#cd74e6",
           "#cd74e6",
           "#cd74e6",
           "#ffad46",
           "#ffad46",
           "#ffad46",
           "#ffad46",
           "#ffad46",
           "#ffad46",
           "#ffad46",
           "#ffad46",
           "#ffad46",
           "#ffad46",
           "#ffad46",
           "#ffad46",
           "#ffad46",
           "#ffad46",
           "#ffad46",
           "#ffad46",
           "#ffad46",
           "#ffad46",
           "#ffad46",
           "#ffad46",
           "#ffad46",
           "#ffad46",
           "#ffad46",
           "#ffad46",
           "#ffad46",
           "#ffad46",
           "#ffad46",
           "#ffad46",
           "#ffad46",
           "#ffad46",
           "#ffad46",
           "#ffad46",
           "#ffad46",
           "#ffad46",
           "#ffad46",
           "#ffad46",
           "#ffad46",
           "#ffad46",
           "#ffad46",
           "#ffad46",
           "#ffad46",
           "#ffad46",
           "#ffad46",
           "#ffad46",
           "#ffad46",
           "#ffad46",
           "#ffad46",
           "#ffad46",
           "#ffad46",
           "#ffad46",
           "#ffad46",
           "#ffad46",
           "#ffad46",
           "#ffad46",
           "#ffad46",
           "#ffad46",
           "#ffad46",
           "#ffad46",
           "#ffad46",
           "#ffad46",
           "#ffad46",
           "#ffad46",
           "#ffad46",
           "#ffad46",
           "#ffad46",
           "#ffad46",
           "#ffad46",
           "#ffad46",
           "#ffad46",
           "#ffad46",
           "#ffad46",
           "#ffad46",
           "#ffad46",
           "#ffad46",
           "#ffad46",
           "#ffad46",
           "#ffad46",
           "#ffad46",
           "#ffad46",
           "#ffad46",
           "#ffad46",
           "#ffad46",
           "#ffad46",
           "#ffad46",
           "#ffad46",
           "#ffad46",
           "#ffad46",
           "#ffad46",
           "#ffad46",
           "#ffad46",
           "#ffad46",
           "#ffad46",
           "#ffad46",
           "#ffad46",
           "#ffad46",
           "#ffad46",
           "#ffad46",
           "#ffad46",
           "#ffad46",
           "#ffad46",
           "#ffad46",
           "#ffad46",
           "#ffad46",
           "#ffad46",
           "#ffad46",
           "#ffad46",
           "#ffad46",
           "#ffad46",
           "#ffad46",
           "#ffad46",
           "#ffad46",
           "#ffad46",
           "#ffad46",
           "#ffad46",
           "#ffad46",
           "#ffad46",
           "#ffad46",
           "#ffad46",
           "#ffad46",
           "#ffad46",
           "#ffad46",
           "#ffad46",
           "#ffad46",
           "#ffad46",
           "#ffad46",
           "#ffad46",
           "#ffad46",
           "#ffad46",
           "#ffad46",
           "#ffad46",
           "#ffad46",
           "#ffad46",
           "#ffad46",
           "#ffad46",
           "#ffad46",
           "#ffad46",
           "#ffad46",
           "#ffad46",
           "#ffad46",
           "#ffad46",
           "#ffad46",
           "#ffad46",
           "#ffad46",
           "#ffad46",
           "#ffad46",
           "#ffad46",
           "#ffad46",
           "#ffad46",
           "#ffad46",
           "#ffad46",
           "#ffad46",
           "#ffad46",
           "#ffad46",
           "#ffad46",
           "#ffad46",
           "#ffad46",
           "#ffad46",
           "#ffad46",
           "#ffad46",
           "#ffad46",
           "#ffad46",
           "#ffad46",
           "#ffad46",
           "#ffad46",
           "#ffad46",
           "#ffad46",
           "#ffad46",
           "#ffad46",
           "#ffad46",
           "#ffad46",
           "#ffad46",
           "#ffad46",
           "#ffad46",
           "#ffad46",
           "#ffad46",
           "#ffad46",
           "#ffad46",
           "#ffad46",
           "#ffad46",
           "#ffad46",
           "#ffad46",
           "#ffad46",
           "#ffad46",
           "#ffad46",
           "#ffad46",
           "#ffad46",
           "#ffad46",
           "#ffad46",
           "#ffad46",
           "#ffad46",
           "#ffad46",
           "#ffad46",
           "#ffad46",
           "#ffad46",
           "#ffad46",
           "#ffad46",
           "#ffad46",
           "#ffad46",
           "#ffad46",
           "#ffad46",
           "#ffad46",
           "#ffad46",
           "#ffad46",
           "#ffad46",
           "#ffad46",
           "#ffad46",
           "#ffad46",
           "#ffad46",
           "#ffad46",
           "#ffad46",
           "#ffad46",
           "#ffad46",
           "#ffad46",
           "#ffad46",
           "#ffad46",
           "#ffad46",
           "#ffad46",
           "#ffad46",
           "#ffad46",
           "#ffad46",
           "#ffad46",
           "#ffad46",
           "#ffad46",
           "#ffad46",
           "#ffad46",
           "#ffad46",
           "#ffad46",
           "#ffad46",
           "#ffad46",
           "#ffad46",
           "#ffad46",
           "#ffad46",
           "#ffad46",
           "#ffad46",
           "#ffad46",
           "#ffad46",
           "#ffad46",
           "#ffad46",
           "#ffad46",
           "#ffad46",
           "#ffad46",
           "#ffad46",
           "#ffad46",
           "#ffad46",
           "#ffad46",
           "#ffad46",
           "#ffad46",
           "#ffad46",
           "#ffad46",
           "#ffad46",
           "#ffad46",
           "#ffad46",
           "#ffad46",
           "#ffad46",
           "#ffad46",
           "#ffad46",
           "#ffad46",
           "#ffad46",
           "#ffad46",
           "#ffad46",
           "#ffad46",
           "#ffad46",
           "#ffad46",
           "#ffad46",
           "#ffad46",
           "#ffad46",
           "#ffad46",
           "#ffad46",
           "#ffad46",
           "#ffad46",
           "#ffad46",
           "#ffad46",
           "#ffad46",
           "#ffad46",
           "#ffad46",
           "#ffad46",
           "#ffad46",
           "#ffad46",
           "#ffad46",
           "#ffad46",
           "#ffad46",
           "#ffad46",
           "#ffad46",
           "#ffad46",
           "#ffad46",
           "#ffad46",
           "#ffad46",
           "#ffad46",
           "#ffad46",
           "#ffad46",
           "#ffad46",
           "#ffad46",
           "#ffad46",
           "#ffad46",
           "#ffad46",
           "#ffad46",
           "#ffad46",
           "#ffad46",
           "#ffad46",
           "#ffad46",
           "#ffad46",
           "#ffad46",
           "#ffad46",
           "#ffad46",
           "#ffad46",
           "#ffad46",
           "#ffad46",
           "#ffad46",
           "#ffad46",
           "#ffad46",
           "#ffad46",
           "#ffad46",
           "#ffad46",
           "#ffad46",
           "#ffad46",
           "#ffad46",
           "#ffad46",
           "#ffad46",
           "#ffad46",
           "#ffad46",
           "#ffad46",
           "#ffad46",
           "#ffad46",
           "#ffad46",
           "#ffad46",
           "#ffad46",
           "#ffad46",
           "#ffad46",
           "#ffad46",
           "#ffad46",
           "#ffad46",
           "#ffad46",
           "#ffad46",
           "#ffad46",
           "#ffad46",
           "#ffad46",
           "#ffad46",
           "#ffad46",
           "#ffad46",
           "#ffad46",
           "#ffad46",
           "#ffad46",
           "#ffad46",
           "#ffad46",
           "#ffad46",
           "#ffad46",
           "#ffad46",
           "#ffad46",
           "#ffad46",
           "#ffad46",
           "#ffad46",
           "#ffad46",
           "#ffad46",
           "#ffad46",
           "#ffad46",
           "#ffad46",
           "#ffad46",
           "#ffad46",
           "#ffad46",
           "#ffad46",
           "#ffad46",
           "#ffad46",
           "#ffad46",
           "#ffad46",
           "#ffad46",
           "#ffad46",
           "#ffad46",
           "#ffad46",
           "#ffad46",
           "#ffad46",
           "#ffad46",
           "#ffad46",
           "#ffad46",
           "#ffad46",
           "#ffad46",
           "#ffad46",
           "#7ecc4a",
           "#7ecc4a",
           "#7ecc4a",
           "#7ecc4a",
           "#7ecc4a",
           "#7ecc4a",
           "#7ecc4a",
           "#7ecc4a",
           "#7ecc4a",
           "#7ecc4a",
           "#7ecc4a",
           "#7ecc4a",
           "#7ecc4a",
           "#7ecc4a",
           "#7ecc4a",
           "#7ecc4a",
           "#7ecc4a",
           "#7ecc4a",
           "#7ecc4a",
           "#7ecc4a",
           "#7ecc4a",
           "#7ecc4a",
           "#7ecc4a",
           "#7ecc4a",
           "#7ecc4a",
           "#7ecc4a",
           "#7ecc4a",
           "#7ecc4a",
           "#7ecc4a",
           "#7ecc4a",
           "#7ecc4a",
           "#7ecc4a",
           "#7ecc4a",
           "#7ecc4a",
           "#7ecc4a",
           "#7ecc4a",
           "#7ecc4a",
           "#7ecc4a",
           "#7ecc4a",
           "#7ecc4a",
           "#7ecc4a",
           "#7ecc4a",
           "#7ecc4a",
           "#7ecc4a",
           "#7ecc4a",
           "#7ecc4a",
           "#7ecc4a",
           "#7ecc4a",
           "#7ecc4a",
           "#7ecc4a",
           "#7ecc4a",
           "#7ecc4a",
           "#96c3eb",
           "#96c3eb",
           "#96c3eb",
           "#96c3eb",
           "#96c3eb",
           "#96c3eb",
           "#96c3eb"
          ]
         },
         "r": [
          1,
          1,
          1,
          1,
          1,
          1,
          1,
          1,
          1,
          1,
          1,
          1,
          1,
          1,
          1,
          1,
          1,
          1,
          1,
          1,
          1,
          1,
          1,
          1,
          1,
          1,
          1,
          1,
          1,
          1,
          1,
          1,
          1,
          1,
          1,
          1,
          1,
          1,
          1,
          1,
          1,
          1,
          0.6666666666666666,
          1,
          1,
          1,
          1,
          1,
          1,
          1,
          1,
          1,
          1,
          1,
          1,
          1,
          1,
          1,
          0.6666666666666666,
          1,
          1,
          1,
          1,
          1,
          1,
          1,
          1,
          1,
          1,
          1,
          1,
          1,
          1,
          1,
          1,
          1,
          1,
          1,
          1,
          1,
          1,
          1,
          1,
          1,
          1,
          1,
          1,
          1,
          1,
          1,
          1,
          1,
          1,
          1,
          1,
          1,
          1,
          1,
          1,
          1,
          1,
          1,
          1,
          1,
          1,
          1,
          1,
          0.6666666666666666,
          1,
          1,
          1,
          1,
          1,
          1,
          1,
          1,
          1,
          1,
          1,
          1,
          1,
          1,
          1,
          1,
          0.6666666666666666,
          0.6666666666666666,
          1,
          1,
          1,
          1,
          0.6666666666666666,
          1,
          1,
          1,
          1,
          1,
          1,
          1,
          1,
          1,
          1,
          1,
          1,
          0.5,
          1,
          1,
          1,
          1,
          0.6666666666666666,
          1,
          1,
          1,
          1,
          1,
          1,
          1,
          0.6666666666666666,
          1,
          1,
          1,
          0.6666666666666666,
          1,
          1,
          1,
          1,
          1,
          1,
          1,
          1,
          1,
          1,
          1,
          1,
          1,
          1,
          1,
          1,
          1,
          1,
          1,
          1,
          1,
          1,
          1,
          1,
          1,
          1,
          1,
          1,
          1,
          1,
          1,
          1,
          1,
          1,
          1,
          1,
          1,
          1,
          1,
          1,
          1,
          1,
          1,
          1,
          1,
          1,
          1,
          1,
          1,
          1,
          1,
          1,
          1,
          1,
          1,
          1,
          1,
          1,
          1,
          1,
          1,
          1,
          1,
          1,
          1,
          1,
          1,
          1,
          0.6666666666666666,
          1,
          1,
          0.6666666666666666,
          1,
          1,
          1,
          1,
          1,
          1,
          1,
          1,
          1,
          1,
          1,
          1,
          1,
          1,
          1,
          1,
          1,
          1,
          1,
          1,
          1,
          1,
          1,
          1,
          1,
          1,
          1,
          1,
          1,
          1,
          1,
          1,
          1,
          1,
          1,
          1,
          1,
          1,
          0.6666666666666666,
          1,
          1,
          1,
          1,
          1,
          1,
          1,
          1,
          1,
          0.6666666666666666,
          1,
          1,
          1,
          1,
          1,
          1,
          1,
          1,
          1,
          1,
          1,
          1,
          1,
          1,
          1,
          1,
          1,
          1,
          1,
          1,
          1,
          1,
          1,
          1,
          1,
          1,
          1,
          1,
          1,
          1,
          1,
          1,
          1,
          1,
          1,
          1,
          1,
          1,
          1,
          1,
          1,
          1,
          1,
          1,
          1,
          1,
          1,
          1,
          1,
          1,
          1,
          1,
          1,
          1,
          1,
          1,
          1,
          1,
          1,
          1,
          1,
          1,
          1,
          1,
          1,
          1,
          1,
          1,
          1,
          1,
          1,
          1,
          1,
          1,
          1,
          1,
          1,
          1,
          1,
          1,
          1,
          1,
          1,
          1,
          1,
          1,
          1,
          1,
          1,
          1,
          1,
          1,
          1,
          1,
          1,
          1,
          1,
          1,
          1,
          1,
          1,
          1,
          1,
          1,
          1,
          1,
          1,
          1,
          1,
          1,
          1,
          1,
          1,
          1,
          1,
          1,
          1,
          1,
          1,
          1,
          1,
          1,
          1,
          1,
          1,
          1,
          1,
          1,
          1,
          1,
          1,
          1,
          1,
          1,
          1,
          1,
          1,
          1,
          1,
          1,
          1,
          1,
          1,
          1,
          1,
          1,
          1,
          1,
          1,
          1,
          1,
          1,
          1,
          1,
          1,
          1,
          1,
          1,
          0.6666666666666666,
          1,
          1,
          1,
          1,
          1,
          0.3333333333333333,
          1,
          1,
          1,
          1,
          1,
          1,
          1,
          1,
          1,
          1,
          1,
          1,
          1,
          1,
          1,
          1,
          1,
          1,
          1,
          1,
          1,
          1,
          1,
          1,
          1,
          1,
          1,
          1,
          1,
          1,
          1,
          1,
          1,
          1,
          1,
          1,
          1,
          1,
          1,
          0.6666666666666666,
          0.6666666666666666,
          1,
          1,
          1,
          1,
          1,
          1,
          1,
          1,
          1,
          1,
          1,
          1,
          1,
          1,
          1,
          1,
          1,
          1,
          1,
          1,
          1,
          1,
          1,
          1,
          1,
          1,
          1,
          1,
          1,
          1,
          1,
          1,
          1,
          1,
          1,
          1,
          1,
          1,
          1,
          1,
          1,
          1,
          1,
          1,
          1,
          1,
          1,
          1,
          1,
          1,
          1,
          1,
          1,
          1,
          1,
          1,
          1,
          1,
          1,
          1,
          1,
          1,
          1,
          1,
          1,
          1,
          0.6666666666666666,
          1,
          1,
          1,
          1,
          1,
          1,
          1,
          1,
          1,
          1,
          1,
          1,
          1,
          1,
          1,
          1,
          1,
          1,
          1,
          1,
          1,
          1,
          1,
          1,
          1,
          1,
          1,
          1,
          1,
          1,
          1,
          1,
          1,
          1,
          1,
          1,
          1,
          1,
          1,
          1,
          1,
          1,
          1,
          1,
          1,
          1,
          1,
          1,
          1,
          1,
          1,
          1,
          1,
          1,
          1,
          1,
          1,
          1,
          1,
          1,
          1,
          1,
          1,
          1,
          1,
          1,
          1,
          1,
          1,
          1,
          1,
          1,
          1,
          1,
          1,
          1,
          1
         ],
         "text": [
          "Mom's Birthday",
          "Nipsco Due",
          "Nipsco Due",
          "Nipsco Due",
          "Nipsco Due",
          "Nipsco Due",
          "Nipsco Due",
          "Nipsco Due",
          "Nipsco Due",
          "Nipsco Due",
          "Nipsco Due",
          "Nipsco Due",
          "Nipsco Due",
          "recycling pickup",
          "recycling pickup",
          "recycling pickup",
          "recycling pickup",
          "recycling pickup",
          "recycling pickup",
          "recycling pickup",
          "recycling pickup",
          "recycling pickup",
          "recycling pickup",
          "recycling pickup",
          "recycling pickup",
          "recycling pickup",
          "recycling pickup",
          "recycling pickup",
          "recycling pickup",
          "recycling pickup",
          "recycling pickup",
          "recycling pickup",
          "recycling pickup",
          "recycling pickup",
          "recycling pickup",
          "recycling pickup",
          "recycling pickup",
          "recycling pickup",
          "recycling pickup",
          "Dentist",
          "Dermatology",
          "Robby meeting",
          "Chelsea’s Graduation",
          "Therapy",
          "Therapy",
          "Reservation at Jesús Latin Grill",
          "PT",
          "physio appointment",
          "therapy",
          "PT",
          "Eye appt ent",
          "Lunch",
          "PT",
          "PT",
          "Physical Therapy",
          "physical therapy",
          "therapy",
          "Finish Chapter 1",
          "Test Python Read",
          "haircut",
          "Flight# UA5309 from SBN -> ORD\n\t (1 hour and 9 mins.)  Layover of 1 hour and 21 mins.  Flight# 2617 from ORD -> BOS\n\t (2 hours and 18 mins.)",
          "Flight# DL2061 from BOS -> DTW\n\t (2 hours and 33 mins.)  Layover of 1 hour and 2 mins.  Flight# 3751 from DTW -> SBN\n\t (1 hour and 7 mins.)",
          "Furnace CHeckup.",
          "Robby meeting",
          "Meet with Robby",
          "therapy",
          "pt",
          "pt",
          "pt",
          "RFP Final Draft Due",
          "Dune 2",
          "therapy",
          "haircyt",
          "therapy",
          "Robby Meeting",
          "Jury Duty",
          "Foot appointment",
          "therapy",
          "PHone appointee doctor",
          "Therapy",
          "foot doctor",
          "robbykeeting",
          "Reservation at Woochi Japanese Fusion & Bar",
          "Jury Duty",
          "Jury Duty",
          "Jury Duty",
          "PT Appointment",
          "PT",
          "PT",
          "dentist",
          "hIRCUT",
          "Therapy",
          "Mishawaka Door, LLC",
          "Graage door fix",
          "CFSB potluck",
          "Gym",
          "Dayna’s Wedding Reception.",
          "Therapy",
          "Unmade Space",
          "Robby Meeting",
          "AJ roof inspection",
          "Charlie Appointment",
          "Feathers Vet",
          "therapy",
          "haircut",
          "Garage Estimate",
          "Unmade Space",
          "Stay at The Royal Sonesta Boston",
          "Flight to Boston (UA 2617)",
          "Flight to Chicago (UA 5309)",
          "Keith and Chelsie and all the cats",
          "therapy",
          "6:00 Robby meeting",
          "CFSB ID Monthly Education Call",
          "CFSB ID Monthly Education Call",
          "CFSB ID Monthly Education Call",
          "Unmade Space",
          "Star Wars Costuming Get-together",
          "haircut",
          "Workout",
          "workout",
          "Workout",
          "Workout",
          "Workout",
          "Stay at Fairfield Inn & Suites Hooksett",
          "Stay at Courtyard Concord",
          "Robby Meeting",
          "Therapy",
          "AC Inspection",
          "Stay Steve Alford Inn",
          "Fan Expo Chicago",
          "Unmade Space",
          "Unmade Space",
          "AUto Service",
          "January Graduation Date",
          "Undergraduate halls open for move-in beginning at 9:00am",
          "Martin Luther King Day - no classes",
          "Classes begin",
          "Last date for all class changes",
          "Last day to drop a class at Saint Mary's College",
          "Junior Parent's Weekend",
          "Junior Parent's Weekend",
          "Junior Parent's Weekend",
          "Mid-Term Break",
          "Mid-term grades due",
          "Students can view grades",
          "Registration begins for Summer Session",
          "Last day to drop a class",
          "Easter Holiday for students",
          "Registration begins for Fall 2024",
          "Course Instructor Feedback (CIF) begins",
          "Last Class Day",
          "Reading Day",
          "Reading Day",
          "Reading Day",
          "Reading Day",
          "Final Exam Week",
          "Undergraduate Halls close at Noon",
          "Final grades are due",
          "Students can view final grades",
          "Commencement Weekend",
          "Last class day for regular 6-week Summer classes",
          "Summer graduation date",
          "Classes begin for Law School and Graduate Business",
          "CLASSES BEGIN",
          "Labor Day - classes are in session",
          "Last date for all class changes",
          "Fall Break",
          "Fall Break",
          "Fall Break",
          "Fall Break",
          "Fall Break",
          "Fall Break",
          "Fall Break",
          "Fall Break",
          "Fall Break",
          "GRADES DUE by 3:45pm",
          "Last day to drop a class",
          "Spring registration begins",
          "Thanksgiving Holiday for students",
          "Thanksgiving",
          "Thanksgiving holiday for students, faculty, staff",
          "Course Instructor Feedback (CIF) begins",
          "LAST CLASS DAY",
          "Reading Day - no exams",
          "Reading Day - no exams",
          "Reading Day - no exams",
          "FINAL EXAMS - no review sessions",
          "FINAL EXAMS - no review sessions",
          "FINAL EXAMS - no review sessions",
          "FINAL EXAMS - no review sessions",
          "FINAL EXAMS - no review sessions",
          "GRADES DUE by 3:45pm",
          "Undergraduate Halls close by Noon",
          "Presidential Inauguration - no classes",
          "Undergraduate Halls open for new first year students",
          "Undergraduate Halls open at 9am",
          "GLPA News Due",
          "GLPA News Due",
          "GLPA News Due",
          "GLPA News Due",
          "Approve Hours",
          "Approve Hours",
          "Approve Hours",
          "Approve Hours",
          "Approve Hours",
          "Approve Hours",
          "Approve Hours",
          "Approve Hours",
          "Approve Hours",
          "Approve Hours",
          "Approve Hours",
          "Approve Hours",
          "Approve Hours",
          "Approve Hours",
          "Approve Hours",
          "Approve Hours",
          "Approve Hours",
          "Approve Hours",
          "Approve Hours",
          "Approve Hours",
          "Approve Hours",
          "Approve Hours",
          "Approve Hours",
          "Approve Hours",
          "Approve Hours",
          "Approve Hours",
          "Approve Hours",
          "WVPE Day",
          "Frontiers in Nuclear Astrophysics ",
          "Christmas Lecture",
          "Science Alive",
          "Talk on Communicating Science.",
          "ILI Initiative",
          "ILI Initiative",
          "Arielle’s Talk",
          "Stephen Heritage REU recc letter",
          "call for proposal for “Summer Academy\"",
          "Annual scholarly report",
          "Meet over Library / ND Eclipse activities.",
          "Matt and Lucas Lunch interview with Keith",
          "Library ND Eclipse Activities",
          "Possible hold for Astrophysics discussion",
          "Eclipse stuff Keith and Deanna",
          "Fabio and Keith Zoom",
          "Eclipse update meeting",
          "Keith Davis' Zoom Meeting",
          "Astro Faculty Meeting",
          "Keith Davis",
          "DVT Upgrade Kickoff Zoom",
          "DVT Upgrade - RFP Kickoff Meeting",
          "Postdoc Coffee Hour with Keith Davis: Science Communication",
          "Meet over Chem",
          "Meet with DVT Students",
          "Eclipse update meeting",
          "Busy",
          "Lauren Weiss Talk",
          "Lunch",
          "DVT Upgrade - Project Touch Base",
          "Michelle",
          "Keith / Miguel data discussion",
          "Prospective Grad Visit",
          "Descriptive Astronomy - Prof. Garnavich out of Town (Planet Tracking Activity)",
          "Phil’s Eclipse talk",
          "Busy",
          "Keith Davis' Zoom Meeting",
          "Keith / Miguel github tutorial meeting?",
          "Eclipse update meeting",
          "Eclipse update meeting",
          "WVPE",
          "DVT Upgrade - Committee Meeting",
          "Release RFP",
          "Orbital and Space Dynamics - Karel Matous",
          "Physics Colloquium (PHYS73000) 118 NSH",
          "Keith Davis' Zoom Meeting",
          "Prep",
          "Phillippe Collon Physics of Civilication",
          "Prep",
          "DVT Upgrade - Committee Meeting",
          "Astro Journal Club",
          "Astro Journal Club",
          "Keith In Boston",
          "Travel",
          "therapy",
          "Flight# UA5309 from SBN -> ORD\n (1 hour and 9 mins.)  Layover of 1 hour and 21 mins.  Flight# 2617 from ORD -> BOS\n (2 hours and 18 mins.)",
          "Furnace CHeckup.",
          "PT",
          "Beiger Elementary",
          "Physics Colloquium (PHYS73000) 118 NSH",
          "Physics Colloquium (PHYS73000) 118 NSH",
          "Physics & Astronomy LGBTQ/Ally Luncheon",
          "Discuss Eclipse Event - Irish Green",
          "Losecco cosmology",
          "Prep",
          "DVT Upgrade RFP Discussion",
          "Eclipse update meeting",
          "Discuss budget and plans for April 8 eclipse",
          "Eclipses for Desc Astro",
          "Descriptive Astronomy Prof. Beers out of Town",
          "Prep",
          "Pre[",
          "Stephen Piloting - Pierre Moran Middle and North Side Middle School",
          "Prep",
          "Eclipse - backup plan discussion",
          "DVT Upgrade RFP Committee Meeting",
          "therapy",
          "physical therapy",
          "Lunch w/ Jeff",
          "Environmentally Dependent Galaxy Evolution weekly group meeting (Hybrid)",
          "Environmentally Dependent Galaxy Evolution weekly group meeting (Hybrid)",
          "Environmentally Dependent Galaxy Evolution weekly group meeting (Hybrid)",
          "Environmentally Dependent Galaxy Evolution weekly group meeting (Hybrid)",
          "Environmentally Dependent Galaxy Evolution weekly group meeting (Hybrid)",
          "Environmentally Dependent Galaxy Evolution weekly group meeting (Hybrid)",
          "Physics Colloquium (PHYS73000) 118 NSH",
          "Physics Colloquium (PHYS73000) 118 NSH",
          "Eclipse Stream Advance",
          "State Meeting",
          "Eclipse update meeting",
          "Meeting over display cases",
          "Dune 2",
          "Optional lunch with Jeff & Ken before the movie",
          "Dune 2 with Jeff & Ken",
          "Astrophysics case discussion",
          "Eclipse update meeting",
          "haircyt",
          "Eclipse update meeting",
          "meet with Adam about postdoc",
          "DVT Upgrade - RFP Meeting",
          "Eclipse meeting - 215 Jordan",
          "Final RFP Draft - DVT Upgrade Meeting",
          "Solar Telescope meeting. (weather dependent)",
          "DVT RFP chat",
          "Physics Colloquium (PHYS73000) 118 NSH",
          "LGBTQ/Ally Luncheon",
          "Jury Duty",
          "Eclipse Volunteer Q & A",
          "DVT Upgrade Bidder Conference & Walkthrough (Confirmed)",
          "Astrophysics Seminar (PHYS83200) 184 NSH",
          "Astrophysics Seminar (PHYS83200) 184 NSH",
          "Astrophysics Seminar (PHYS83200) 184 NSH",
          "Astrophysics Seminar (PHYS83200) 184 NSH",
          "Astrophysics Seminar (PHYS83200) 184 NSH",
          "Astrophysics Seminar (PHYS83200) 184 NSH",
          "Astrophysics Seminar (PHYS83200) 184 NSH",
          "Astrophysics Seminar (PHYS83200) 184 NSH",
          "Astrophysics Seminar (PHYS83200) 184 NSH",
          "Astrophysics Seminar (PHYS83200) 184 NSH",
          "Astrophysics Seminar (PHYS83200) 184 NSH",
          "Astrophysics Seminar (PHYS83200) 184 NSH",
          "Astrophysics Seminar (PHYS83200) 184 NSH",
          "Astrophysics Seminar (PHYS83200) 184 NSH",
          "Astrophysics Seminar (PHYS83200) 184 NSH",
          "Losecco Cosmology",
          "American Indian Catholic Schools Network",
          "Science Communications Class",
          "pt",
          "Busy",
          "Busy",
          "Q and A due from bidders",
          "Written responses",
          "Dr. Keith Davis Appointments (Sara Wheeler)",
          "Astro Journal Club",
          "Astro Journal Club",
          "Astro Journal Club",
          "Astro Journal Club",
          "Astro Journal Club",
          "Astro Journal Club",
          "Astro Journal Club",
          "Astro Journal Club",
          "Astro Journal Club",
          "Astro Journal Club",
          "Astro Journal Club",
          "Foot appointment",
          "Trvel",
          "therapy",
          "Travel",
          "DVT Upgrade RFP - Written Questions",
          "Dr. Keith Davis Appointments (Sara Wheeler)",
          "St. Vincent De Paul",
          "Prep",
          "DVT Upgrade RFP -Evaluation",
          "Astrophysics Seminar (PHYS83200) 184 NSH",
          "Jury Duty",
          "Jury Duty",
          "Jury Duty",
          "Colloquium Tea",
          "Colloquium Tea",
          "Colloquium Tea",
          "Colloquium Tea",
          "Colloquium Tea",
          "Colloquium Tea",
          "Colloquium Tea",
          "Colloquium Tea",
          "Colloquium Tea",
          "Colloquium Tea",
          "Colloquium Tea",
          "Colloquium Tea",
          "Colloquium Tea",
          "Colloquium Tea",
          "Colloquium Tea",
          "LGBTQ/Ally Luncheon",
          "Meet with Alex",
          "Meet with Alex",
          "Meet with Alex",
          "Meet with Alex",
          "Meet with Alex",
          "Meet with Alex",
          "Meet with Alex",
          "Meet with Alex",
          "Meet with Alex",
          "Meet with Alex",
          "Meet with Alex",
          "Lara / Keith",
          "Fabio / Keith",
          "Physics Colloquium (PHYS73000) 127 NSH",
          "Physics Colloquium (PHYS73000) 127 NSH",
          "Physics Colloquium (PHYS73000) 127 NSH",
          "Physics Colloquium (PHYS73000) 127 NSH",
          "Physics Colloquium (PHYS73000) 127 NSH",
          "Physics Colloquium (PHYS73000) 127 NSH",
          "Physics Colloquium (PHYS73000) 127 NSH",
          "Physics Colloquium (PHYS73000) 127 NSH",
          "Physics Colloquium (PHYS73000) 127 NSH",
          "Physics Colloquium (PHYS73000) 127 NSH",
          "Physics Colloquium (PHYS73000) 127 NSH",
          "Physics Colloquium (PHYS73000) 127 NSH",
          "Physics Colloquium (PHYS73000) 127 NSH",
          "Physics Colloquium (PHYS73000) 127 NSH",
          "Physics Colloquium (PHYS73000) 127 NSH",
          "Physics Colloquium (PHYS73000) 127 NSH",
          "Galaxies neighborhood_Environmentally Dependent Galaxy Evolution weekly group meeting ",
          "Tammi school presentation",
          "Prep",
          "DVT Upgrade RFP -Evaluation (cont'd if needed)",
          "PT",
          "DVT Upgrade RFP -Evaluation",
          "Science Communication Talk",
          "ND Press Inaugeuration",
          "Physics graduation",
          "Lips",
          "PT",
          "Therapy",
          "Graage door fix",
          "Lunch",
          "Christmas Lecture Featuring Dr. Michelle Thaller, NASA Goddard Space Flight Center",
          "NDQN RET/REHS",
          "EDGE meeting",
          "EDGE meeting",
          "EDGE meeting",
          "EDGE meeting",
          "EDGE meeting",
          "EDGE meeting",
          "Visit to COSM",
          "Visit to SSIA",
          "Gym",
          "Keith/Miguel Code discuss",
          "AJ roof inspection",
          "CFSB ID Monthly Education Call",
          "Busy",
          "Travel",
          "PHone appointee doctor",
          "STEM Summer Camp Group",
          "Prep",
          "Feathers Vet",
          "busy",
          "My Meeting",
          "WSP: Digital Visualization Theater Demonstration",
          "Physical Exam",
          "SSIA Training",
          "Training E & S",
          "Lunch w/ Ken, Jeff & Keith",
          "FW: Notre Dame Digistar Training",
          "Emily, Keith, Miguel over plotting / calculation code.",
          "DigitalSky Dark Matter Intro",
          "DVT Upgrade Committee - Updates, Training, Pre On-Site Visits",
          "Arielle Leaves",
          "Halo analysis code discussion",
          "Warrior Scholar Reception",
          "Tammi / Keith over Comm Sci Presentation",
          "Garage Estimate",
          "Warrior Scholars",
          "Dvt request physics olympics",
          "DNA Learning Center Residential Program",
          "therapy",
          "Busy",
          "KEITH WAYNE DAVIS, Hotel Check-In, MARRIOTT UNIVERSITY PARK - NUCGLO",
          "KEITH WAYNE DAVIS, Hotel Check-In, COURTYARD CONCORD MARRIOTT - NUCGLO",
          "Emily/ Keith Plot talk",
          "DVT Upgrade - On-Site Visit Sharing",
          "EDGE meeting",
          "EDGE meeting",
          "EDGE meeting",
          "EDGE meeting",
          "EDGE meeting",
          "EDGE meeting",
          "EDGE meeting",
          "ND Studios at DVT",
          "Science Communication Conference",
          "Science Communication Conference",
          "QuarkNet picnic",
          "Science Communication Conference",
          "Meet about Audio system",
          "TPAC-R Information Session",
          "DVT Upgrade - Committee Meeting",
          "USpace",
          "Tom / Keith",
          "Morten / Keith",
          "QN luncheon & student posters",
          "Fall All-College Meeting 2024",
          "Stay Steve Alford Inn",
          "Faculty Meeting",
          "Faculty Meeting",
          "Faculty Meeting",
          "Faculty Meeting",
          "Claire and Keith Meet",
          "Astrophysics Seminar (83200) 127 NSH",
          "Astrophysics Seminar (83200) 127 NSH",
          "Astrophysics Seminar (83200) 127 NSH",
          "Astrophysics Seminar (83200) 127 NSH",
          "Astrophysics Seminar (83200) 127 NSH",
          "Astrophysics Seminar (83200) 127 NSH",
          "Astrophysics Seminar (83200) 127 NSH",
          "Astrophysics Seminar (83200) 127 NSH",
          "Astrophysics Seminar (83200) 127 NSH",
          "Astrophysics Seminar (83200) 127 NSH",
          "Astrophysics Seminar (83200) 127 NSH",
          "Astrophysics Seminar (83200) 127 NSH",
          "Astrophysics Seminar (83200) 127 NSH",
          "Astrophysics Seminar (83200) 127 NSH",
          "Astrophysics Seminar (83200) 127 NSH",
          "Astrophysics Seminar (83200) 127 NSH",
          "EDGE meeting",
          "EDGE meeting",
          "EDGE meeting",
          "EDGE meeting",
          "EDGE meeting",
          "EDGE meeting",
          "EDGE meeting",
          "EDGE meeting",
          "EDGE meeting",
          "Astro Journal Club",
          "Astro Journal Club",
          "Astro Journal Club",
          "Astro Journal Club",
          "Astro Journal Club",
          "Astro Journal Club",
          "Astro Journal Club",
          "Astro Journal Club",
          "Astro Journal Club",
          "Astro Journal Club",
          "Astro Journal Club",
          "DVT Upgrade - Committee Meeting",
          "DVT Update and Discussion",
          "GLPA",
          "Paper and Proposals Due for GLPA",
          "Physics Colloquium (73000) 127 NSH",
          "Physics Colloquium (73000) 127 NSH",
          "Physics Colloquium (73000) 127 NSH",
          "Physics Colloquium (73000) 127 NSH",
          "Physics Colloquium (73000) 127 NSH",
          "Physics Colloquium (73000) 127 NSH",
          "Physics Colloquium (73000) 127 NSH",
          "Physics Colloquium (73000) 127 NSH",
          "Physics Colloquium (73000) 127 NSH",
          "Physics Colloquium (73000) 127 NSH",
          "Physics Colloquium (73000) 127 NSH",
          "Physics Colloquium (73000) 127 NSH",
          "Physics Colloquium (73000) 127 NSH",
          "Physics Colloquium (73000) 127 NSH",
          "Physics Colloquium (73000) 127 NSH",
          "Physics Colloquium (73000) 127 NSH",
          "Faculty Meeting",
          "picture and bio to Nuclear Frotiers talk https://mail.google.com/mail/u/0/#inbox/FMfcgzGwHfqVxTqqwQfFMXnncfjKkTlW",
          "Picture and nuclear frontiers talk DEADLINE",
          "Language for Quality Definitions.",
          "https://mail.google.com/mail/u/0/#inbox/FMfcgzGxRxCQMnTvFXjmbzVZrJlPwTMT?compose=new",
          "Registering for workshop that I'm giving a talk at.",
          "Start up",
          "send Show e-mail.",
          "send Show e-mail.",
          "send Show e-mail.",
          "send Show e-mail.",
          "send Show e-mail.",
          "send Show e-mail.",
          "send Show e-mail.",
          "send Show e-mail.",
          "send Show e-mail.",
          "send Show e-mail.",
          "send Show e-mail.",
          "send Show e-mail.",
          "send Show e-mail.",
          "send Show e-mail.",
          "send Show e-mail.",
          "send Show e-mail.",
          "send Show e-mail.",
          "send Show e-mail.",
          "send Show e-mail.",
          "send Show e-mail.",
          "send Show e-mail.",
          "send Show e-mail.",
          "send Show e-mail.",
          "send Show e-mail.",
          "send Show e-mail.",
          "send Show e-mail.",
          "send Show e-mail.",
          "send Show e-mail.",
          "send Show e-mail.",
          "send Show e-mail.",
          "send Show e-mail.",
          "send Show e-mail.",
          "send Show e-mail.",
          "send Show e-mail.",
          "Change sheets 8:00 pm",
          "Reply to ramzi 9:00 AM",
          "Replace battery in keys. 8:00 pm",
          "Get box 12:00 pm",
          "Meditate and yoga 9:00 am",
          "Run 10:00",
          "cook pork",
          "eat",
          "put together couch",
          "eat",
          "Take notes on meditation 12:00 pm",
          "clean carpets",
          "therapy",
          "Test from cal",
          "Reply to Jeff 10:00 am",
          "Steak 5:00",
          "Potatoes 5:00 PM",
          "Broccoli 5:00",
          "Tomorrow 11:30"
         ],
         "theta": [
          1689870688.5245903,
          1676786754.0983608,
          1679421245.9016395,
          1681885770.4918034,
          1684516721.3114755,
          1687066229.5081968,
          1689700721.3114755,
          1692250229.5081968,
          1694884721.3114755,
          1697519213.1147542,
          1700068721.3114755,
          1702706754.0983608,
          1705256262.295082,
          1676786754.0983608,
          1677976524.590164,
          1679166295.0819674,
          1680356065.5737705,
          1681545836.065574,
          1682732065.5737705,
          1683921836.065574,
          1685111606.557377,
          1686301377.0491805,
          1687491147.5409837,
          1688680918.032787,
          1689870688.5245903,
          1691060459.0163934,
          1692250229.5081968,
          1693440000,
          1694629770.4918034,
          1695819540.9836066,
          1697009311.47541,
          1698199081.9672132,
          1699388852.4590166,
          1700578622.9508197,
          1701768393.4426231,
          1702961704.918033,
          1704151475.409836,
          1705341245.9016395,
          1706531016.3934426,
          1686975934.4262297,
          1701869311.47541,
          1677211672.1311476,
          1687958557.3770492,
          1676462754.0983608,
          1677645442.622951,
          1676894754.0983608,
          1677126245.9016395,
          1677732196.7213116,
          1678672327.8688526,
          1678080983.6065574,
          1677990688.5245903,
          1678148262.295082,
          1678582032.7868853,
          1681039475.409836,
          1681628163.9344263,
          1682133639.3442624,
          1679862098.3606558,
          1679931147.5409837,
          1678911344.2622952,
          1679514196.7213116,
          1680355711.47541,
          1680554714.7540984,
          1681200590.1639345,
          1680778327.8688526,
          1683750983.6065574,
          1682153114.7540984,
          1685193491.8032787,
          1685788377.0491805,
          1686383262.295082,
          1682987016.3934426,
          1682316295.0819674,
          1683342885.2459018,
          1682743573.7704918,
          1684872590.1639345,
          1686128754.0983608,
          1686306688.5245903,
          1685976786.885246,
          1685892393.4426231,
          1689437803.2786887,
          1687000721.3114755,
          1687147672.1311476,
          1688787147.5409837,
          1686155311.47541,
          1686391672.1311476,
          1686476655.737705,
          1686561639.3442624,
          1686995409.8360658,
          1687835065.5737705,
          1688332131.147541,
          1703041377.0491805,
          1687158737.7049181,
          1688349836.065574,
          1687229114.7540984,
          1688424196.7213116,
          1689789245.9016395,
          1688258655.737705,
          1694544786.885246,
          1689458163.9344263,
          1690322163.9344263,
          1691484491.8032787,
          1689442229.5081968,
          1691076393.4426231,
          1689378491.8032787,
          1691161377.0491805,
          1690053934.4262297,
          1691140131.147541,
          1691846557.3770492,
          1680441049.180328,
          1680360137.7049181,
          1680349249.180328,
          1690911737.7049181,
          1692521114.7540984,
          1693463016.3934426,
          1689282000,
          1694635967.2131147,
          1692256426.2295084,
          1693041639.3442624,
          1693880852.4590166,
          1693108475.409836,
          1693457704.918033,
          1693551098.3606558,
          1693719295.0819674,
          1693799852.4590166,
          1693859163.9344263,
          1690678032.7868853,
          1690593049.180328,
          1696094852.4590166,
          1694893573.7704918,
          1695389311.47541,
          1694459803.2786887,
          1695649573.7704918,
          1694231409.8360658,
          1695150295.0819674,
          1694706786.885246,
          1676701770.4918034,
          1677296655.737705,
          1677381639.3442624,
          1677466622.9508197,
          1678061508.1967213,
          1680101114.7540984,
          1680101114.7540984,
          1680186098.3606558,
          1680271081.9672132,
          1682305377.0491805,
          1682137180.327869,
          1682222163.9344263,
          1682902032.7868853,
          1683072000,
          1683794360.6557379,
          1685111606.557377,
          1685791475.409836,
          1686471344.2622952,
          1686556327.8688526,
          1686641311.47541,
          1686726295.0819674,
          1686811278.6885247,
          1687066229.5081968,
          1687321180.327869,
          1687491147.5409837,
          1687576131.147541,
          1687916065.5737705,
          1693185049.180328,
          1694544786.885246,
          1696414426.2295084,
          1696499409.8360658,
          1697009311.47541,
          1697094295.0819674,
          1701003540.9836066,
          1701088524.590164,
          1701173508.1967213,
          1701258491.8032787,
          1701343475.409836,
          1701428459.0163934,
          1701513442.622951,
          1701598426.2295084,
          1701683409.8360658,
          1701173508.1967213,
          1702108327.8688526,
          1703556590.1639345,
          1704321442.622951,
          1704406426.2295084,
          1704491409.8360658,
          1704831344.2622952,
          1705596196.7213116,
          1705681180.327869,
          1705766163.9344263,
          1705851147.5409837,
          1705936131.147541,
          1706021114.7540984,
          1706106098.3606558,
          1706191081.9672132,
          1706276065.5737705,
          1706531016.3934426,
          1706446032.7868853,
          1697944131.147541,
          1696159475.409836,
          1696329442.622951,
          1678826360.6557379,
          1686471344.2622952,
          1694289836.065574,
          1702108327.8688526,
          1676191868.8524592,
          1677381639.3442624,
          1678571409.8360658,
          1679761180.327869,
          1680950950.8196723,
          1682137180.327869,
          1683326950.8196723,
          1684516721.3114755,
          1685706491.8032787,
          1686896262.295082,
          1688086032.7868853,
          1689275803.2786887,
          1690465573.7704918,
          1691655344.2622952,
          1692845114.7540984,
          1694034885.2459018,
          1695224655.737705,
          1696414426.2295084,
          1697604196.7213116,
          1698793967.2131147,
          1699983737.7049181,
          1701173508.1967213,
          1702366819.6721313,
          1703556590.1639345,
          1704746360.6557379,
          1705936131.147541,
          1707125901.6393445,
          1683072000,
          1689445770.4918034,
          1705086295.0819674,
          1679591213.1147542,
          1689318295.0819674,
          1678259803.2786887,
          1678259803.2786887,
          1677041704.918033,
          1678826360.6557379,
          1702108327.8688526,
          1677976524.590164,
          1676871737.7049181,
          1676533573.7704918,
          1676871737.7049181,
          1676537114.7540984,
          1677138639.3442624,
          1677133327.8688526,
          1684273721.3114755,
          1677236459.0163934,
          1677375442.622951,
          1677560459.0163934,
          1677560459.0163934,
          1677560459.0163934,
          1678057967.2131147,
          1677982278.6885247,
          1677716704.918033,
          1678328409.8360658,
          1678328852.4590166,
          1684031606.557377,
          1678148262.295082,
          1678229704.918033,
          1678158885.2459018,
          1678576721.3114755,
          1681290885.2459018,
          1678655065.5737705,
          1683521704.918033,
          1678672327.8688526,
          1678586901.6393445,
          1678736065.5737705,
          1681724213.1147542,
          1679349983.6065574,
          1683082622.9508197,
          1678918426.2295084,
          1683454426.2295084,
          1680109672.1311476,
          1678842295.0819674,
          1679106098.3606558,
          1679427000,
          1679430540.9836066,
          1679325934.4262297,
          1679940000,
          1677640131.147541,
          1678235016.3934426,
          1680441049.180328,
          1679859590.1639345,
          1679862098.3606558,
          1680355711.47541,
          1681200590.1639345,
          1681039475.409836,
          1681115606.557377,
          1680626950.8196723,
          1680032065.5737705,
          1679847049.180328,
          1680532229.5081968,
          1681209885.2459018,
          1681144377.0491805,
          1680704852.4590166,
          1680710606.557377,
          1680712819.6721313,
          1681034606.557377,
          1681215196.7213116,
          1681031065.5737705,
          1681112508.1967213,
          1681285573.7704918,
          1681282475.409836,
          1680961131.147541,
          1681710491.8032787,
          1682153114.7540984,
          1682133639.3442624,
          1681632590.1639345,
          1677475475.409836,
          1678070360.6557379,
          1679260131.147541,
          1681044786.885246,
          1679855016.3934426,
          1680449901.6393445,
          1681646754.0983608,
          1681221836.065574,
          1681799016.3934426,
          1685536524.590164,
          1682911327.8688526,
          1682142491.8032787,
          1682316295.0819674,
          1682308032.7868853,
          1682315114.7540984,
          1682142491.8032787,
          1683508868.8524592,
          1682743573.7704918,
          1682489065.5737705,
          1683073770.4918034,
          1682997639.3442624,
          1682992770.4918034,
          1683591639.3442624,
          1683585442.622951,
          1683928032.7868853,
          1683427868.8524592,
          1683329606.557377,
          1686306688.5245903,
          1684436163.9344263,
          1685292196.7213116,
          1677470163.9344263,
          1678065049.180328,
          1679254819.6721313,
          1678659934.4262297,
          1679849704.918033,
          1680444590.1639345,
          1681039475.409836,
          1681634360.6557379,
          1682225704.918033,
          1682820590.1639345,
          1683415475.409836,
          1684010360.6557379,
          1684605245.9016395,
          1685795016.3934426,
          1685200131.147541,
          1685795459.0163934,
          1685970737.7049181,
          1685954803.2786887,
          1685788377.0491805,
          1685370098.3606558,
          1685455524.590164,
          1685791475.409836,
          1686320852.4590166,
          1685785721.3114755,
          1678829901.6393445,
          1679424786.885246,
          1680019672.1311476,
          1681209442.622951,
          1681804327.8688526,
          1682395672.1311476,
          1682990557.3770492,
          1683585442.622951,
          1684180327.8688526,
          1684775213.1147542,
          1685370098.3606558,
          1685976786.885246,
          1685973836.065574,
          1685892393.4426231,
          1685889737.7049181,
          1685885311.47541,
          1685870704.918033,
          1687754950.8196723,
          1687752295.0819674,
          1687501770.4918034,
          1686389901.6393445,
          1686391672.1311476,
          1686476655.737705,
          1686561639.3442624,
          1677563114.7540984,
          1678158000,
          1678752885.2459018,
          1679347770.4918034,
          1679942655.737705,
          1680537540.9836066,
          1681132426.2295084,
          1681727311.47541,
          1682318655.737705,
          1682913540.9836066,
          1683508426.2295084,
          1684103311.47541,
          1684698196.7213116,
          1685293081.9672132,
          1686482852.4590166,
          1685794131.147541,
          1679257918.032787,
          1679852803.2786887,
          1680447688.5245903,
          1681042573.7704918,
          1681637459.0163934,
          1682823688.5245903,
          1684013459.0163934,
          1684608344.2622952,
          1685203229.5081968,
          1685798114.7540984,
          1686393000,
          1687165377.0491805,
          1687076409.8360658,
          1677555147.5409837,
          1678150032.7868853,
          1678744918.032787,
          1679339803.2786887,
          1679934688.5245903,
          1680529573.7704918,
          1681124459.0163934,
          1681719344.2622952,
          1682310688.5245903,
          1682905573.7704918,
          1683500459.0163934,
          1684095344.2622952,
          1684690229.5081968,
          1685285114.7540984,
          1685880000,
          1686474885.2459018,
          1681639672.1311476,
          1687573180.327869,
          1687570377.0491805,
          1687761147.5409837,
          1687835065.5737705,
          1687669967.2131147,
          1689271377.0491805,
          1697944131.147541,
          1687921377.0491805,
          1697264262.295082,
          1688332131.147541,
          1688349836.065574,
          1688424196.7213116,
          1688088688.5245903,
          1705112852.4590166,
          1691952786.885246,
          1684610557.3770492,
          1683420786.885246,
          1684015672.1311476,
          1685205442.622951,
          1685800327.8688526,
          1686395213.1147542,
          1690465573.7704918,
          1690550557.3770492,
          1688258655.737705,
          1688441901.6393445,
          1689442229.5081968,
          1689282000,
          1689458163.9344263,
          1689455508.1967213,
          1689437803.2786887,
          1689357245.9016395,
          1689354590.1639345,
          1689378491.8032787,
          1689374950.8196723,
          1689219147.5409837,
          1691154295.0819674,
          1696577754.0983608,
          1690037114.7540984,
          1689948590.1639345,
          1689873344.2622952,
          1689948590.1639345,
          1689955672.1311476,
          1690035344.2622952,
          1690139803.2786887,
          1693270032.7868853,
          1690123868.8524592,
          1691425180.327869,
          1690221245.9016395,
          1691140131.147541,
          1691239278.6885247,
          1691315409.8360658,
          1691244590.1639345,
          1691161377.0491805,
          1691158721.3114755,
          1690465573.7704918,
          1690635540.9836066,
          1691329573.7704918,
          1691307442.622951,
          1686990098.3606558,
          1687584983.6065574,
          1688179868.8524592,
          1688774754.0983608,
          1689369639.3442624,
          1689964524.590164,
          1690559409.8360658,
          1692418426.2295084,
          1692422852.4590166,
          1692337868.8524592,
          1693185934.4262297,
          1692499868.8524592,
          1692514032.7868853,
          1692857508.1967213,
          1694043737.7049181,
          1693038098.3606558,
          1693537819.6721313,
          1693522327.8688526,
          1693782590.1639345,
          1697284622.9508197,
          1694459803.2786887,
          1677726000,
          1680700426.2295084,
          1684266196.7213116,
          1686645737.7049181,
          1695917360.6557379,
          1696502950.8196723,
          1697097836.065574,
          1697692721.3114755,
          1698287606.557377,
          1698882491.8032787,
          1699477377.0491805,
          1700072262.295082,
          1700667147.5409837,
          1701262032.7868853,
          1701856918.032787,
          1702455344.2622952,
          1703050229.5081968,
          1703645114.7540984,
          1704240000,
          1704834885.2459018,
          1705429770.4918034,
          1691154295.0819674,
          1691749180.327869,
          1692344065.5737705,
          1692938950.8196723,
          1693533836.065574,
          1694128721.3114755,
          1694723606.557377,
          1695318491.8032787,
          1695913377.0491805,
          1690212393.4426231,
          1690807278.6885247,
          1691402163.9344263,
          1691997049.180328,
          1692591934.4262297,
          1693186819.6721313,
          1693781704.918033,
          1694376590.1639345,
          1694971475.409836,
          1695566360.6557379,
          1696161245.9016395,
          1695999245.9016395,
          1694808147.5409837,
          1701428459.0163934,
          1697604196.7213116,
          1696587934.4262297,
          1697182819.6721313,
          1701347016.3934426,
          1697777704.918033,
          1698372590.1639345,
          1698967475.409836,
          1699562360.6557379,
          1700157245.9016395,
          1700752131.147541,
          1701941901.6393445,
          1702540327.8688526,
          1703135213.1147542,
          1703730098.3606558,
          1704324983.6065574,
          1704919868.8524592,
          1705514754.0983608,
          1696758786.885246,
          1682392131.147541,
          1682477114.7540984,
          1682477114.7540984,
          1684771672.1311476,
          1684771672.1311476,
          1684854885.2459018,
          1687151213.1147542,
          1687746098.3606558,
          1688340983.6065574,
          1688935868.8524592,
          1689530754.0983608,
          1690125639.3442624,
          1690720524.590164,
          1691315409.8360658,
          1691910295.0819674,
          1692505180.327869,
          1693100065.5737705,
          1693694950.8196723,
          1694289836.065574,
          1694884721.3114755,
          1695479606.557377,
          1696074491.8032787,
          1696669377.0491805,
          1697264262.295082,
          1697859147.5409837,
          1698454032.7868853,
          1699048918.032787,
          1699643803.2786887,
          1700238688.5245903,
          1700833573.7704918,
          1701428459.0163934,
          1702023344.2622952,
          1702621770.4918034,
          1703216655.737705,
          1703811540.9836066,
          1704406426.2295084,
          1705001311.47541,
          1705596196.7213116,
          1706191081.9672132,
          1706785967.2131147,
          1687945278.6885247,
          1688246262.295082,
          1690239836.065574,
          1690806393.4426231,
          1690965737.7049181,
          1690969278.6885247,
          1690974590.1639345,
          1690976360.6557379,
          1690979901.6393445,
          1690994065.5737705,
          1690976360.6557379,
          1691493344.2622952,
          1684872590.1639345,
          1687828868.8524592,
          1688249803.2786887,
          1688487049.180328,
          1688529540.9836066,
          1688742000,
          1690039770.4918034
         ],
         "type": "barpolar",
         "width": [
          0.9836065573770492,
          0.9836065573770492,
          0.9836065573770492,
          0.9836065573770492,
          0.9836065573770492,
          0.9836065573770492,
          0.9836065573770492,
          0.9836065573770492,
          0.9836065573770492,
          0.9836065573770492,
          0.9836065573770492,
          0.9836065573770492,
          0.9836065573770492,
          0.9836065573770492,
          0.9836065573770492,
          0.9836065573770492,
          0.9836065573770492,
          0.9836065573770492,
          0.9836065573770492,
          0.9836065573770492,
          0.9836065573770492,
          0.9836065573770492,
          0.9836065573770492,
          0.9836065573770492,
          0.9836065573770492,
          0.9836065573770492,
          0.9836065573770492,
          0.9836065573770492,
          0.9836065573770492,
          0.9836065573770492,
          0.9836065573770492,
          0.9836065573770492,
          0.9836065573770492,
          0.9836065573770492,
          0.9836065573770492,
          0.9836065573770492,
          0.9836065573770492,
          0.9836065573770492,
          0.9836065573770492,
          0.040983606557377046,
          0.040983606557377046,
          0.040983606557377046,
          1.9672131147540983,
          0.040983606557377046,
          0.040983606557377046,
          0.040983606557377046,
          0.030737704918032786,
          0.040983606557377046,
          0.040983606557377046,
          0.040983606557377046,
          0.040983606557377046,
          0.040983606557377046,
          0.040983606557377046,
          0.040983606557377046,
          0.040983606557377046,
          0.040983606557377046,
          0.040983606557377046,
          0.9836065573770492,
          2.9508196721311477,
          0.040983606557377046,
          0.19672131147540983,
          0.19262295081967212,
          0.040983606557377046,
          0.020491803278688523,
          0.020491803278688523,
          0.040983606557377046,
          0.030737704918032786,
          0.030737704918032786,
          0.030737704918032786,
          0.9836065573770492,
          0.1434426229508197,
          0.040983606557377046,
          0.020491803278688523,
          0.040983606557377046,
          0.020491803278688523,
          0.2868852459016394,
          0.040983606557377046,
          0.040983606557377046,
          0.020491803278688523,
          0.040983606557377046,
          0.040983606557377046,
          0.040983606557377046,
          0.040983606557377046,
          0.26639344262295084,
          0.26639344262295084,
          0.26639344262295084,
          0.040983606557377046,
          0.030737704918032786,
          0.040983606557377046,
          0.040983606557377046,
          0.030737704918032786,
          0.040983606557377046,
          0.16393442622950818,
          0.2868852459016394,
          0.12295081967213115,
          0.10245901639344263,
          0.9836065573770492,
          0.040983606557377046,
          0.12295081967213115,
          0.020491803278688523,
          0.040983606557377046,
          0.040983606557377046,
          0.040983606557377046,
          0.040983606557377046,
          0.040983606557377046,
          0.040983606557377046,
          0.16393442622950818,
          2.9508196721311477,
          0.09426229508196722,
          0.04713114754098361,
          0.08196721311475409,
          0.040983606557377046,
          0.040983606557377046,
          0.020491803278688523,
          0.020491803278688523,
          0.020491803278688523,
          0.12295081967213115,
          0.36885245901639346,
          0.030737704918032786,
          0.08196721311475409,
          0.07172131147540985,
          0.07172131147540985,
          0.07172131147540985,
          0.09221311475409837,
          1.9672131147540983,
          1.9672131147540983,
          0.020491803278688523,
          0.040983606557377046,
          0.040983606557377046,
          0.9836065573770492,
          2.9508196721311477,
          0.12295081967213115,
          0.16393442622950818,
          0.020491803278688523,
          0.9836065573770492,
          0.9836065573770492,
          0.9836065573770492,
          0.9836065573770492,
          0.9836065573770492,
          0.9836065573770492,
          0.9836065573770492,
          0.9836065573770492,
          0.9836065573770492,
          8.811475409836065,
          0.9836065573770492,
          0.9836065573770492,
          0.9836065573770492,
          0.9836065573770492,
          3.9344262295081966,
          0.9836065573770492,
          0.9836065573770492,
          0.9836065573770492,
          0.9836065573770492,
          0.9836065573770492,
          0.9836065573770492,
          0.9836065573770492,
          4.918032786885246,
          0.9836065573770492,
          0.9836065573770492,
          0.9836065573770492,
          2.9508196721311477,
          0.9836065573770492,
          0.9836065573770492,
          0.9836065573770492,
          0.9836065573770492,
          0.9836065573770492,
          0.9836065573770492,
          0.9836065573770492,
          0.9836065573770492,
          0.9836065573770492,
          0.9836065573770492,
          0.9836065573770492,
          0.9836065573770492,
          0.9836065573770492,
          0.9836065573770492,
          0.9836065573770492,
          0.9836065573770492,
          0.9836065573770492,
          0.9836065573770492,
          0.9836065573770492,
          0.9836065573770492,
          0.9836065573770492,
          0.9836065573770492,
          0.9836065573770492,
          0.9836065573770492,
          0.9836065573770492,
          0.9836065573770492,
          0.9836065573770492,
          0.9836065573770492,
          0.9836065573770492,
          0.9836065573770492,
          0.9836065573770492,
          0.9836065573770492,
          0.9836065573770492,
          0.9836065573770492,
          0.9836065573770492,
          0.9836065573770492,
          0.9836065573770492,
          0.9836065573770492,
          0.9836065573770492,
          0.9836065573770492,
          0.9836065573770492,
          0.9836065573770492,
          0.9836065573770492,
          0.9836065573770492,
          0.9836065573770492,
          0.9836065573770492,
          0.9836065573770492,
          0.9836065573770492,
          0.9836065573770492,
          0.9836065573770492,
          0.9836065573770492,
          0.9836065573770492,
          0.9836065573770492,
          0.9836065573770492,
          0.9836065573770492,
          0.9836065573770492,
          0.9836065573770492,
          0.9836065573770492,
          0.9836065573770492,
          0.9836065573770492,
          0.9836065573770492,
          0.9836065573770492,
          0.9836065573770492,
          0.9836065573770492,
          0.9836065573770492,
          0.9836065573770492,
          0.9836065573770492,
          0.9836065573770492,
          4.918032786885246,
          0.9836065573770492,
          0.9836065573770492,
          1.9672131147540983,
          0.040983606557377046,
          0.040983606557377046,
          0.9836065573770492,
          0.9836065573770492,
          0.9836065573770492,
          0.9836065573770492,
          0.040983606557377046,
          0.040983606557377046,
          0.040983606557377046,
          0.040983606557377046,
          0.030737704918032786,
          0.030737704918032786,
          0.030737704918032786,
          0.16393442622950818,
          0.06147540983606557,
          0.040983606557377046,
          0.040983606557377046,
          0.040983606557377046,
          0.040983606557377046,
          0.030737704918032786,
          0.030737704918032786,
          0.030737704918032786,
          0.12295081967213115,
          0.040983606557377046,
          0.040983606557377046,
          0.040983606557377046,
          0.020491803278688523,
          0.040983606557377046,
          0.9836065573770492,
          0.05122950819672131,
          0.040983606557377046,
          0.040983606557377046,
          0.030737704918032786,
          0.040983606557377046,
          0.030737704918032786,
          0.030737704918032786,
          0.08196721311475409,
          0.040983606557377046,
          3.9344262295081966,
          0.03415300546448087,
          0.040983606557377046,
          0.16393442622950818,
          0.030737704918032786,
          0.05122950819672131,
          0.027322404371584702,
          0.040983606557377046,
          0.040983606557377046,
          0.040983606557377046,
          2.9508196721311477,
          0.010245901639344262,
          0.040983606557377046,
          0.19672131147540983,
          0.040983606557377046,
          0.040983606557377046,
          0.040983606557377046,
          0.040983606557377046,
          0.040983606557377046,
          0.06147540983606557,
          0.020491803278688523,
          0.05122950819672131,
          0.030737704918032786,
          0.040983606557377046,
          0.030737704918032786,
          0.020491803278688523,
          0.05122950819672131,
          0.05122950819672131,
          0.030737704918032786,
          0.030737704918032786,
          0.040983606557377046,
          0.030737704918032786,
          0.030737704918032786,
          0.040983606557377046,
          0.040983606557377046,
          0.040983606557377046,
          0.040983606557377046,
          0.040983606557377046,
          0.040983606557377046,
          0.040983606557377046,
          0.040983606557377046,
          0.040983606557377046,
          0.040983606557377046,
          0.040983606557377046,
          0.040983606557377046,
          0.040983606557377046,
          0.2459016393442623,
          0.030737704918032786,
          0.040983606557377046,
          0.1434426229508197,
          0.040983606557377046,
          0.12295081967213115,
          0.040983606557377046,
          0.030737704918032786,
          0.020491803278688523,
          0.030737704918032786,
          0.040983606557377046,
          0.040983606557377046,
          0.030737704918032786,
          0.06147540983606557,
          0.040983606557377046,
          0.020491803278688523,
          0.040983606557377046,
          0.06147540983606557,
          0.2868852459016394,
          0.020491803278688523,
          0.16393442622950818,
          0.040983606557377046,
          0.040983606557377046,
          0.040983606557377046,
          0.040983606557377046,
          0.040983606557377046,
          0.040983606557377046,
          0.040983606557377046,
          0.040983606557377046,
          0.040983606557377046,
          0.040983606557377046,
          0.040983606557377046,
          0.040983606557377046,
          0.040983606557377046,
          0.040983606557377046,
          0.040983606557377046,
          0.05122950819672131,
          0.030737704918032786,
          0.05122950819672131,
          0.030737704918032786,
          0.32786885245901637,
          0.3381147540983606,
          0.9836065573770492,
          0.040983606557377046,
          0.030737704918032786,
          0.040983606557377046,
          0.040983606557377046,
          0.040983606557377046,
          0.040983606557377046,
          0.040983606557377046,
          0.040983606557377046,
          0.040983606557377046,
          0.040983606557377046,
          0.040983606557377046,
          0.040983606557377046,
          0.040983606557377046,
          0.040983606557377046,
          0.020491803278688523,
          0.040983606557377046,
          0.020491803278688523,
          0.040983606557377046,
          0.030737704918032786,
          0.040983606557377046,
          0.020491803278688523,
          0.08196721311475409,
          0.040983606557377046,
          0.26639344262295084,
          0.26639344262295084,
          0.26639344262295084,
          0.020491803278688523,
          0.020491803278688523,
          0.020491803278688523,
          0.020491803278688523,
          0.020491803278688523,
          0.020491803278688523,
          0.020491803278688523,
          0.020491803278688523,
          0.020491803278688523,
          0.020491803278688523,
          0.020491803278688523,
          0.020491803278688523,
          0.020491803278688523,
          0.020491803278688523,
          0.020491803278688523,
          0.06147540983606557,
          0.010245901639344262,
          0.010245901639344262,
          0.010245901639344262,
          0.010245901639344262,
          0.010245901639344262,
          0.010245901639344262,
          0.010245901639344262,
          0.010245901639344262,
          0.010245901639344262,
          0.010245901639344262,
          0.010245901639344262,
          0.040983606557377046,
          0.030737704918032786,
          0.040983606557377046,
          0.040983606557377046,
          0.040983606557377046,
          0.040983606557377046,
          0.040983606557377046,
          0.040983606557377046,
          0.040983606557377046,
          0.040983606557377046,
          0.040983606557377046,
          0.040983606557377046,
          0.040983606557377046,
          0.040983606557377046,
          0.040983606557377046,
          0.040983606557377046,
          0.040983606557377046,
          0.040983606557377046,
          0.040983606557377046,
          0.040983606557377046,
          0.030737704918032786,
          0.06147540983606557,
          0.030737704918032786,
          0.08196721311475409,
          0.020491803278688523,
          0.9836065573770492,
          0.040983606557377046,
          2.9508196721311477,
          0.040983606557377046,
          0.040983606557377046,
          0.2868852459016394,
          0.06147540983606557,
          0.20491803278688525,
          49.180327868852466,
          0.040983606557377046,
          0.040983606557377046,
          0.040983606557377046,
          0.040983606557377046,
          0.040983606557377046,
          0.040983606557377046,
          0.9836065573770492,
          0.9836065573770492,
          0.10245901639344263,
          0.040983606557377046,
          0.040983606557377046,
          0.020491803278688523,
          0.040983606557377046,
          0.020491803278688523,
          0.020491803278688523,
          0.040983606557377046,
          0.020491803278688523,
          0.040983606557377046,
          0.040983606557377046,
          0.040983606557377046,
          0.040983606557377046,
          0.030737704918032786,
          0.08196721311475409,
          0.08196721311475409,
          0.06147540983606557,
          0.08196721311475409,
          0.040983606557377046,
          0.040983606557377046,
          0.040983606557377046,
          0.9836065573770492,
          0.040983606557377046,
          0.040983606557377046,
          0.040983606557377046,
          0.040983606557377046,
          0.040983606557377046,
          0.040983606557377046,
          0.040983606557377046,
          0.040983606557377046,
          0.020491803278688523,
          2.9508196721311477,
          2.9508196721311477,
          0.040983606557377046,
          0.06147540983606557,
          0.040983606557377046,
          0.040983606557377046,
          0.040983606557377046,
          0.040983606557377046,
          0.040983606557377046,
          0.040983606557377046,
          0.040983606557377046,
          0.040983606557377046,
          0.3483606557377049,
          0.3483606557377049,
          0.06147540983606557,
          0.16393442622950818,
          0.040983606557377046,
          0.040983606557377046,
          0.040983606557377046,
          0.040983606557377046,
          0.030737704918032786,
          0.020491803278688523,
          0.06147540983606557,
          0.10245901639344263,
          0.9836065573770492,
          0.06147540983606557,
          0.06147540983606557,
          0.06147540983606557,
          0.06147540983606557,
          0.030737704918032786,
          0.040983606557377046,
          0.040983606557377046,
          0.040983606557377046,
          0.040983606557377046,
          0.040983606557377046,
          0.040983606557377046,
          0.040983606557377046,
          0.040983606557377046,
          0.040983606557377046,
          0.040983606557377046,
          0.040983606557377046,
          0.040983606557377046,
          0.040983606557377046,
          0.040983606557377046,
          0.040983606557377046,
          0.040983606557377046,
          0.040983606557377046,
          0.040983606557377046,
          0.040983606557377046,
          0.040983606557377046,
          0.040983606557377046,
          0.040983606557377046,
          0.040983606557377046,
          0.040983606557377046,
          0.040983606557377046,
          0.040983606557377046,
          0.040983606557377046,
          0.040983606557377046,
          0.040983606557377046,
          0.040983606557377046,
          0.040983606557377046,
          0.040983606557377046,
          0.040983606557377046,
          0.040983606557377046,
          0.040983606557377046,
          0.040983606557377046,
          0.06147540983606557,
          0.030737704918032786,
          4.918032786885246,
          0.9836065573770492,
          0.040983606557377046,
          0.040983606557377046,
          0.040983606557377046,
          0.040983606557377046,
          0.040983606557377046,
          0.040983606557377046,
          0.040983606557377046,
          0.040983606557377046,
          0.040983606557377046,
          0.040983606557377046,
          0.040983606557377046,
          0.040983606557377046,
          0.040983606557377046,
          0.040983606557377046,
          0.040983606557377046,
          0.040983606557377046,
          0.06147540983606557,
          0.9836065573770492,
          0.9836065573770492,
          0.9836065573770492,
          0.9836065573770492,
          0.9836065573770492,
          0.040983606557377046,
          0.9836065573770492,
          0.9836065573770492,
          0.9836065573770492,
          0.9836065573770492,
          0.9836065573770492,
          0.9836065573770492,
          0.9836065573770492,
          0.9836065573770492,
          0.9836065573770492,
          0.9836065573770492,
          0.9836065573770492,
          0.9836065573770492,
          0.9836065573770492,
          0.9836065573770492,
          0.9836065573770492,
          0.9836065573770492,
          0.9836065573770492,
          0.9836065573770492,
          0.9836065573770492,
          0.9836065573770492,
          0.9836065573770492,
          0.9836065573770492,
          0.9836065573770492,
          0.9836065573770492,
          0.9836065573770492,
          0.9836065573770492,
          0.9836065573770492,
          0.9836065573770492,
          0.9836065573770492,
          0.9836065573770492,
          0.9836065573770492,
          0.9836065573770492,
          0.9836065573770492,
          0.9836065573770492,
          0.020491803278688523,
          0.020491803278688523,
          0.020491803278688523,
          0.020491803278688523,
          0.020491803278688523,
          0.020491803278688523,
          0.020491803278688523,
          0.020491803278688523,
          0.020491803278688523,
          0.020491803278688523,
          0.020491803278688523,
          0.020491803278688523,
          0.040983606557377046,
          0.010245901639344262,
          0.020491803278688523,
          0.020491803278688523,
          0.020491803278688523,
          0.020491803278688523,
          0.020491803278688523
         ]
        }
       ],
       "layout": {
        "autosize": true,
        "polar": {
         "angularaxis": {
          "type": "linear"
         },
         "radialaxis": {
          "autorange": true,
          "range": [
           0,
           3.1578947368421053
          ],
          "type": "linear"
         }
        },
        "template": {
         "data": {
          "bar": [
           {
            "error_x": {
             "color": "#2a3f5f"
            },
            "error_y": {
             "color": "#2a3f5f"
            },
            "marker": {
             "line": {
              "color": "#E5ECF6",
              "width": 0.5
             },
             "pattern": {
              "fillmode": "overlay",
              "size": 10,
              "solidity": 0.2
             }
            },
            "type": "bar"
           }
          ],
          "barpolar": [
           {
            "marker": {
             "line": {
              "color": "#E5ECF6",
              "width": 0.5
             },
             "pattern": {
              "fillmode": "overlay",
              "size": 10,
              "solidity": 0.2
             }
            },
            "type": "barpolar"
           }
          ],
          "carpet": [
           {
            "aaxis": {
             "endlinecolor": "#2a3f5f",
             "gridcolor": "white",
             "linecolor": "white",
             "minorgridcolor": "white",
             "startlinecolor": "#2a3f5f"
            },
            "baxis": {
             "endlinecolor": "#2a3f5f",
             "gridcolor": "white",
             "linecolor": "white",
             "minorgridcolor": "white",
             "startlinecolor": "#2a3f5f"
            },
            "type": "carpet"
           }
          ],
          "choropleth": [
           {
            "colorbar": {
             "outlinewidth": 0,
             "ticks": ""
            },
            "type": "choropleth"
           }
          ],
          "contour": [
           {
            "colorbar": {
             "outlinewidth": 0,
             "ticks": ""
            },
            "colorscale": [
             [
              0,
              "#0d0887"
             ],
             [
              0.1111111111111111,
              "#46039f"
             ],
             [
              0.2222222222222222,
              "#7201a8"
             ],
             [
              0.3333333333333333,
              "#9c179e"
             ],
             [
              0.4444444444444444,
              "#bd3786"
             ],
             [
              0.5555555555555556,
              "#d8576b"
             ],
             [
              0.6666666666666666,
              "#ed7953"
             ],
             [
              0.7777777777777778,
              "#fb9f3a"
             ],
             [
              0.8888888888888888,
              "#fdca26"
             ],
             [
              1,
              "#f0f921"
             ]
            ],
            "type": "contour"
           }
          ],
          "contourcarpet": [
           {
            "colorbar": {
             "outlinewidth": 0,
             "ticks": ""
            },
            "type": "contourcarpet"
           }
          ],
          "heatmap": [
           {
            "colorbar": {
             "outlinewidth": 0,
             "ticks": ""
            },
            "colorscale": [
             [
              0,
              "#0d0887"
             ],
             [
              0.1111111111111111,
              "#46039f"
             ],
             [
              0.2222222222222222,
              "#7201a8"
             ],
             [
              0.3333333333333333,
              "#9c179e"
             ],
             [
              0.4444444444444444,
              "#bd3786"
             ],
             [
              0.5555555555555556,
              "#d8576b"
             ],
             [
              0.6666666666666666,
              "#ed7953"
             ],
             [
              0.7777777777777778,
              "#fb9f3a"
             ],
             [
              0.8888888888888888,
              "#fdca26"
             ],
             [
              1,
              "#f0f921"
             ]
            ],
            "type": "heatmap"
           }
          ],
          "heatmapgl": [
           {
            "colorbar": {
             "outlinewidth": 0,
             "ticks": ""
            },
            "colorscale": [
             [
              0,
              "#0d0887"
             ],
             [
              0.1111111111111111,
              "#46039f"
             ],
             [
              0.2222222222222222,
              "#7201a8"
             ],
             [
              0.3333333333333333,
              "#9c179e"
             ],
             [
              0.4444444444444444,
              "#bd3786"
             ],
             [
              0.5555555555555556,
              "#d8576b"
             ],
             [
              0.6666666666666666,
              "#ed7953"
             ],
             [
              0.7777777777777778,
              "#fb9f3a"
             ],
             [
              0.8888888888888888,
              "#fdca26"
             ],
             [
              1,
              "#f0f921"
             ]
            ],
            "type": "heatmapgl"
           }
          ],
          "histogram": [
           {
            "marker": {
             "pattern": {
              "fillmode": "overlay",
              "size": 10,
              "solidity": 0.2
             }
            },
            "type": "histogram"
           }
          ],
          "histogram2d": [
           {
            "colorbar": {
             "outlinewidth": 0,
             "ticks": ""
            },
            "colorscale": [
             [
              0,
              "#0d0887"
             ],
             [
              0.1111111111111111,
              "#46039f"
             ],
             [
              0.2222222222222222,
              "#7201a8"
             ],
             [
              0.3333333333333333,
              "#9c179e"
             ],
             [
              0.4444444444444444,
              "#bd3786"
             ],
             [
              0.5555555555555556,
              "#d8576b"
             ],
             [
              0.6666666666666666,
              "#ed7953"
             ],
             [
              0.7777777777777778,
              "#fb9f3a"
             ],
             [
              0.8888888888888888,
              "#fdca26"
             ],
             [
              1,
              "#f0f921"
             ]
            ],
            "type": "histogram2d"
           }
          ],
          "histogram2dcontour": [
           {
            "colorbar": {
             "outlinewidth": 0,
             "ticks": ""
            },
            "colorscale": [
             [
              0,
              "#0d0887"
             ],
             [
              0.1111111111111111,
              "#46039f"
             ],
             [
              0.2222222222222222,
              "#7201a8"
             ],
             [
              0.3333333333333333,
              "#9c179e"
             ],
             [
              0.4444444444444444,
              "#bd3786"
             ],
             [
              0.5555555555555556,
              "#d8576b"
             ],
             [
              0.6666666666666666,
              "#ed7953"
             ],
             [
              0.7777777777777778,
              "#fb9f3a"
             ],
             [
              0.8888888888888888,
              "#fdca26"
             ],
             [
              1,
              "#f0f921"
             ]
            ],
            "type": "histogram2dcontour"
           }
          ],
          "mesh3d": [
           {
            "colorbar": {
             "outlinewidth": 0,
             "ticks": ""
            },
            "type": "mesh3d"
           }
          ],
          "parcoords": [
           {
            "line": {
             "colorbar": {
              "outlinewidth": 0,
              "ticks": ""
             }
            },
            "type": "parcoords"
           }
          ],
          "pie": [
           {
            "automargin": true,
            "type": "pie"
           }
          ],
          "scatter": [
           {
            "fillpattern": {
             "fillmode": "overlay",
             "size": 10,
             "solidity": 0.2
            },
            "type": "scatter"
           }
          ],
          "scatter3d": [
           {
            "line": {
             "colorbar": {
              "outlinewidth": 0,
              "ticks": ""
             }
            },
            "marker": {
             "colorbar": {
              "outlinewidth": 0,
              "ticks": ""
             }
            },
            "type": "scatter3d"
           }
          ],
          "scattercarpet": [
           {
            "marker": {
             "colorbar": {
              "outlinewidth": 0,
              "ticks": ""
             }
            },
            "type": "scattercarpet"
           }
          ],
          "scattergeo": [
           {
            "marker": {
             "colorbar": {
              "outlinewidth": 0,
              "ticks": ""
             }
            },
            "type": "scattergeo"
           }
          ],
          "scattergl": [
           {
            "marker": {
             "colorbar": {
              "outlinewidth": 0,
              "ticks": ""
             }
            },
            "type": "scattergl"
           }
          ],
          "scattermapbox": [
           {
            "marker": {
             "colorbar": {
              "outlinewidth": 0,
              "ticks": ""
             }
            },
            "type": "scattermapbox"
           }
          ],
          "scatterpolar": [
           {
            "marker": {
             "colorbar": {
              "outlinewidth": 0,
              "ticks": ""
             }
            },
            "type": "scatterpolar"
           }
          ],
          "scatterpolargl": [
           {
            "marker": {
             "colorbar": {
              "outlinewidth": 0,
              "ticks": ""
             }
            },
            "type": "scatterpolargl"
           }
          ],
          "scatterternary": [
           {
            "marker": {
             "colorbar": {
              "outlinewidth": 0,
              "ticks": ""
             }
            },
            "type": "scatterternary"
           }
          ],
          "surface": [
           {
            "colorbar": {
             "outlinewidth": 0,
             "ticks": ""
            },
            "colorscale": [
             [
              0,
              "#0d0887"
             ],
             [
              0.1111111111111111,
              "#46039f"
             ],
             [
              0.2222222222222222,
              "#7201a8"
             ],
             [
              0.3333333333333333,
              "#9c179e"
             ],
             [
              0.4444444444444444,
              "#bd3786"
             ],
             [
              0.5555555555555556,
              "#d8576b"
             ],
             [
              0.6666666666666666,
              "#ed7953"
             ],
             [
              0.7777777777777778,
              "#fb9f3a"
             ],
             [
              0.8888888888888888,
              "#fdca26"
             ],
             [
              1,
              "#f0f921"
             ]
            ],
            "type": "surface"
           }
          ],
          "table": [
           {
            "cells": {
             "fill": {
              "color": "#EBF0F8"
             },
             "line": {
              "color": "white"
             }
            },
            "header": {
             "fill": {
              "color": "#C8D4E3"
             },
             "line": {
              "color": "white"
             }
            },
            "type": "table"
           }
          ]
         },
         "layout": {
          "annotationdefaults": {
           "arrowcolor": "#2a3f5f",
           "arrowhead": 0,
           "arrowwidth": 1
          },
          "autotypenumbers": "strict",
          "coloraxis": {
           "colorbar": {
            "outlinewidth": 0,
            "ticks": ""
           }
          },
          "colorscale": {
           "diverging": [
            [
             0,
             "#8e0152"
            ],
            [
             0.1,
             "#c51b7d"
            ],
            [
             0.2,
             "#de77ae"
            ],
            [
             0.3,
             "#f1b6da"
            ],
            [
             0.4,
             "#fde0ef"
            ],
            [
             0.5,
             "#f7f7f7"
            ],
            [
             0.6,
             "#e6f5d0"
            ],
            [
             0.7,
             "#b8e186"
            ],
            [
             0.8,
             "#7fbc41"
            ],
            [
             0.9,
             "#4d9221"
            ],
            [
             1,
             "#276419"
            ]
           ],
           "sequential": [
            [
             0,
             "#0d0887"
            ],
            [
             0.1111111111111111,
             "#46039f"
            ],
            [
             0.2222222222222222,
             "#7201a8"
            ],
            [
             0.3333333333333333,
             "#9c179e"
            ],
            [
             0.4444444444444444,
             "#bd3786"
            ],
            [
             0.5555555555555556,
             "#d8576b"
            ],
            [
             0.6666666666666666,
             "#ed7953"
            ],
            [
             0.7777777777777778,
             "#fb9f3a"
            ],
            [
             0.8888888888888888,
             "#fdca26"
            ],
            [
             1,
             "#f0f921"
            ]
           ],
           "sequentialminus": [
            [
             0,
             "#0d0887"
            ],
            [
             0.1111111111111111,
             "#46039f"
            ],
            [
             0.2222222222222222,
             "#7201a8"
            ],
            [
             0.3333333333333333,
             "#9c179e"
            ],
            [
             0.4444444444444444,
             "#bd3786"
            ],
            [
             0.5555555555555556,
             "#d8576b"
            ],
            [
             0.6666666666666666,
             "#ed7953"
            ],
            [
             0.7777777777777778,
             "#fb9f3a"
            ],
            [
             0.8888888888888888,
             "#fdca26"
            ],
            [
             1,
             "#f0f921"
            ]
           ]
          },
          "colorway": [
           "#636efa",
           "#EF553B",
           "#00cc96",
           "#ab63fa",
           "#FFA15A",
           "#19d3f3",
           "#FF6692",
           "#B6E880",
           "#FF97FF",
           "#FECB52"
          ],
          "font": {
           "color": "#2a3f5f"
          },
          "geo": {
           "bgcolor": "white",
           "lakecolor": "white",
           "landcolor": "#E5ECF6",
           "showlakes": true,
           "showland": true,
           "subunitcolor": "white"
          },
          "hoverlabel": {
           "align": "left"
          },
          "hovermode": "closest",
          "mapbox": {
           "style": "light"
          },
          "paper_bgcolor": "white",
          "plot_bgcolor": "#E5ECF6",
          "polar": {
           "angularaxis": {
            "gridcolor": "white",
            "linecolor": "white",
            "ticks": ""
           },
           "bgcolor": "#E5ECF6",
           "radialaxis": {
            "gridcolor": "white",
            "linecolor": "white",
            "ticks": ""
           }
          },
          "scene": {
           "xaxis": {
            "backgroundcolor": "#E5ECF6",
            "gridcolor": "white",
            "gridwidth": 2,
            "linecolor": "white",
            "showbackground": true,
            "ticks": "",
            "zerolinecolor": "white"
           },
           "yaxis": {
            "backgroundcolor": "#E5ECF6",
            "gridcolor": "white",
            "gridwidth": 2,
            "linecolor": "white",
            "showbackground": true,
            "ticks": "",
            "zerolinecolor": "white"
           },
           "zaxis": {
            "backgroundcolor": "#E5ECF6",
            "gridcolor": "white",
            "gridwidth": 2,
            "linecolor": "white",
            "showbackground": true,
            "ticks": "",
            "zerolinecolor": "white"
           }
          },
          "shapedefaults": {
           "line": {
            "color": "#2a3f5f"
           }
          },
          "ternary": {
           "aaxis": {
            "gridcolor": "white",
            "linecolor": "white",
            "ticks": ""
           },
           "baxis": {
            "gridcolor": "white",
            "linecolor": "white",
            "ticks": ""
           },
           "bgcolor": "#E5ECF6",
           "caxis": {
            "gridcolor": "white",
            "linecolor": "white",
            "ticks": ""
           }
          },
          "title": {
           "x": 0.05
          },
          "xaxis": {
           "automargin": true,
           "gridcolor": "white",
           "linecolor": "white",
           "ticks": "",
           "title": {
            "standoff": 15
           },
           "zerolinecolor": "white",
           "zerolinewidth": 2
          },
          "yaxis": {
           "automargin": true,
           "gridcolor": "white",
           "linecolor": "white",
           "ticks": "",
           "title": {
            "standoff": 15
           },
           "zerolinecolor": "white",
           "zerolinewidth": 2
          }
         }
        }
       }
      },
      "image/png": "[encoded data removed]",
      "text/html": [
       "<div>                            <div id=\"c64b5767-9542-4f14-a752-dc40dedcc34e\" class=\"plotly-graph-div\" style=\"height:800px; width:100%;\"></div>            <script type=\"text/javascript\">                require([\"plotly\"], function(Plotly) {                    window.PLOTLYENV=window.PLOTLYENV || {};                                    if (document.getElementById(\"c64b5767-9542-4f14-a752-dc40dedcc34e\")) {                    Plotly.newPlot(                        \"c64b5767-9542-4f14-a752-dc40dedcc34e\",                        [{\"marker\":{\"color\":[\"#9a9cff\",\"#9a9cff\",\"#9a9cff\",\"#9a9cff\",\"#9a9cff\",\"#9a9cff\",\"#9a9cff\",\"#9a9cff\",\"#9a9cff\",\"#9a9cff\",\"#9a9cff\",\"#9a9cff\",\"#9a9cff\",\"#9a9cff\",\"#9a9cff\",\"#9a9cff\",\"#9a9cff\",\"#9a9cff\",\"#9a9cff\",\"#9a9cff\",\"#9a9cff\",\"#9a9cff\",\"#9a9cff\",\"#9a9cff\",\"#9a9cff\",\"#9a9cff\",\"#9a9cff\",\"#9a9cff\",\"#9a9cff\",\"#9a9cff\",\"#9a9cff\",\"#9a9cff\",\"#9a9cff\",\"#9a9cff\",\"#9a9cff\",\"#9a9cff\",\"#9a9cff\",\"#9a9cff\",\"#9a9cff\",\"#9a9cff\",\"#9a9cff\",\"#9a9cff\",\"#9a9cff\",\"#9a9cff\",\"#9a9cff\",\"#9a9cff\",\"#9a9cff\",\"#9a9cff\",\"#9a9cff\",\"#9a9cff\",\"#9a9cff\",\"#9a9cff\",\"#9a9cff\",\"#9a9cff\",\"#9a9cff\",\"#9a9cff\",\"#9a9cff\",\"#9a9cff\",\"#9a9cff\",\"#9a9cff\",\"#9a9cff\",\"#9a9cff\",\"#9a9cff\",\"#9a9cff\",\"#9a9cff\",\"#9a9cff\",\"#9a9cff\",\"#9a9cff\",\"#9a9cff\",\"#9a9cff\",\"#9a9cff\",\"#9a9cff\",\"#9a9cff\",\"#9a9cff\",\"#9a9cff\",\"#9a9cff\",\"#9a9cff\",\"#9a9cff\",\"#9a9cff\",\"#9a9cff\",\"#9a9cff\",\"#9a9cff\",\"#9a9cff\",\"#9a9cff\",\"#9a9cff\",\"#9a9cff\",\"#9a9cff\",\"#9a9cff\",\"#9a9cff\",\"#9a9cff\",\"#9a9cff\",\"#9a9cff\",\"#9a9cff\",\"#9a9cff\",\"#9a9cff\",\"#9a9cff\",\"#9a9cff\",\"#9a9cff\",\"#9a9cff\",\"#9a9cff\",\"#9a9cff\",\"#9a9cff\",\"#9a9cff\",\"#9a9cff\",\"#9a9cff\",\"#9a9cff\",\"#9a9cff\",\"#9a9cff\",\"#9a9cff\",\"#9a9cff\",\"#9a9cff\",\"#9a9cff\",\"#9a9cff\",\"#9a9cff\",\"#9a9cff\",\"#9a9cff\",\"#9a9cff\",\"#9a9cff\",\"#9a9cff\",\"#9a9cff\",\"#9a9cff\",\"#9a9cff\",\"#9a9cff\",\"#9a9cff\",\"#9a9cff\",\"#9a9cff\",\"#9a9cff\",\"#9a9cff\",\"#9a9cff\",\"#9a9cff\",\"#9a9cff\",\"#9a9cff\",\"#9a9cff\",\"#9a9cff\",\"#cd74e6\",\"#cd74e6\",\"#cd74e6\",\"#cd74e6\",\"#cd74e6\",\"#cd74e6\",\"#cd74e6\",\"#cd74e6\",\"#cd74e6\",\"#cd74e6\",\"#cd74e6\",\"#cd74e6\",\"#cd74e6\",\"#cd74e6\",\"#cd74e6\",\"#cd74e6\",\"#cd74e6\",\"#cd74e6\",\"#cd74e6\",\"#cd74e6\",\"#cd74e6\",\"#cd74e6\",\"#cd74e6\",\"#cd74e6\",\"#cd74e6\",\"#cd74e6\",\"#cd74e6\",\"#cd74e6\",\"#cd74e6\",\"#cd74e6\",\"#cd74e6\",\"#cd74e6\",\"#cd74e6\",\"#cd74e6\",\"#cd74e6\",\"#cd74e6\",\"#cd74e6\",\"#cd74e6\",\"#cd74e6\",\"#cd74e6\",\"#cd74e6\",\"#cd74e6\",\"#cd74e6\",\"#cd74e6\",\"#cd74e6\",\"#cd74e6\",\"#cd74e6\",\"#cd74e6\",\"#cd74e6\",\"#cd74e6\",\"#cd74e6\",\"#cd74e6\",\"#cd74e6\",\"#cd74e6\",\"#cd74e6\",\"#cd74e6\",\"#cd74e6\",\"#cd74e6\",\"#cd74e6\",\"#cd74e6\",\"#cd74e6\",\"#cd74e6\",\"#cd74e6\",\"#ffad46\",\"#ffad46\",\"#ffad46\",\"#ffad46\",\"#ffad46\",\"#ffad46\",\"#ffad46\",\"#ffad46\",\"#ffad46\",\"#ffad46\",\"#ffad46\",\"#ffad46\",\"#ffad46\",\"#ffad46\",\"#ffad46\",\"#ffad46\",\"#ffad46\",\"#ffad46\",\"#ffad46\",\"#ffad46\",\"#ffad46\",\"#ffad46\",\"#ffad46\",\"#ffad46\",\"#ffad46\",\"#ffad46\",\"#ffad46\",\"#ffad46\",\"#ffad46\",\"#ffad46\",\"#ffad46\",\"#ffad46\",\"#ffad46\",\"#ffad46\",\"#ffad46\",\"#ffad46\",\"#ffad46\",\"#ffad46\",\"#ffad46\",\"#ffad46\",\"#ffad46\",\"#ffad46\",\"#ffad46\",\"#ffad46\",\"#ffad46\",\"#ffad46\",\"#ffad46\",\"#ffad46\",\"#ffad46\",\"#ffad46\",\"#ffad46\",\"#ffad46\",\"#ffad46\",\"#ffad46\",\"#ffad46\",\"#ffad46\",\"#ffad46\",\"#ffad46\",\"#ffad46\",\"#ffad46\",\"#ffad46\",\"#ffad46\",\"#ffad46\",\"#ffad46\",\"#ffad46\",\"#ffad46\",\"#ffad46\",\"#ffad46\",\"#ffad46\",\"#ffad46\",\"#ffad46\",\"#ffad46\",\"#ffad46\",\"#ffad46\",\"#ffad46\",\"#ffad46\",\"#ffad46\",\"#ffad46\",\"#ffad46\",\"#ffad46\",\"#ffad46\",\"#ffad46\",\"#ffad46\",\"#ffad46\",\"#ffad46\",\"#ffad46\",\"#ffad46\",\"#ffad46\",\"#ffad46\",\"#ffad46\",\"#ffad46\",\"#ffad46\",\"#ffad46\",\"#ffad46\",\"#ffad46\",\"#ffad46\",\"#ffad46\",\"#ffad46\",\"#ffad46\",\"#ffad46\",\"#ffad46\",\"#ffad46\",\"#ffad46\",\"#ffad46\",\"#ffad46\",\"#ffad46\",\"#ffad46\",\"#ffad46\",\"#ffad46\",\"#ffad46\",\"#ffad46\",\"#ffad46\",\"#ffad46\",\"#ffad46\",\"#ffad46\",\"#ffad46\",\"#ffad46\",\"#ffad46\",\"#ffad46\",\"#ffad46\",\"#ffad46\",\"#ffad46\",\"#ffad46\",\"#ffad46\",\"#ffad46\",\"#ffad46\",\"#ffad46\",\"#ffad46\",\"#ffad46\",\"#ffad46\",\"#ffad46\",\"#ffad46\",\"#ffad46\",\"#ffad46\",\"#ffad46\",\"#ffad46\",\"#ffad46\",\"#ffad46\",\"#ffad46\",\"#ffad46\",\"#ffad46\",\"#ffad46\",\"#ffad46\",\"#ffad46\",\"#ffad46\",\"#ffad46\",\"#ffad46\",\"#ffad46\",\"#ffad46\",\"#ffad46\",\"#ffad46\",\"#ffad46\",\"#ffad46\",\"#ffad46\",\"#ffad46\",\"#ffad46\",\"#ffad46\",\"#ffad46\",\"#ffad46\",\"#ffad46\",\"#ffad46\",\"#ffad46\",\"#ffad46\",\"#ffad46\",\"#ffad46\",\"#ffad46\",\"#ffad46\",\"#ffad46\",\"#ffad46\",\"#ffad46\",\"#ffad46\",\"#ffad46\",\"#ffad46\",\"#ffad46\",\"#ffad46\",\"#ffad46\",\"#ffad46\",\"#ffad46\",\"#ffad46\",\"#ffad46\",\"#ffad46\",\"#ffad46\",\"#ffad46\",\"#ffad46\",\"#ffad46\",\"#ffad46\",\"#ffad46\",\"#ffad46\",\"#ffad46\",\"#ffad46\",\"#ffad46\",\"#ffad46\",\"#ffad46\",\"#ffad46\",\"#ffad46\",\"#ffad46\",\"#ffad46\",\"#ffad46\",\"#ffad46\",\"#ffad46\",\"#ffad46\",\"#ffad46\",\"#ffad46\",\"#ffad46\",\"#ffad46\",\"#ffad46\",\"#ffad46\",\"#ffad46\",\"#ffad46\",\"#ffad46\",\"#ffad46\",\"#ffad46\",\"#ffad46\",\"#ffad46\",\"#ffad46\",\"#ffad46\",\"#ffad46\",\"#ffad46\",\"#ffad46\",\"#ffad46\",\"#ffad46\",\"#ffad46\",\"#ffad46\",\"#ffad46\",\"#ffad46\",\"#ffad46\",\"#ffad46\",\"#ffad46\",\"#ffad46\",\"#ffad46\",\"#ffad46\",\"#ffad46\",\"#ffad46\",\"#ffad46\",\"#ffad46\",\"#ffad46\",\"#ffad46\",\"#ffad46\",\"#ffad46\",\"#ffad46\",\"#ffad46\",\"#ffad46\",\"#ffad46\",\"#ffad46\",\"#ffad46\",\"#ffad46\",\"#ffad46\",\"#ffad46\",\"#ffad46\",\"#ffad46\",\"#ffad46\",\"#ffad46\",\"#ffad46\",\"#ffad46\",\"#ffad46\",\"#ffad46\",\"#ffad46\",\"#ffad46\",\"#ffad46\",\"#ffad46\",\"#ffad46\",\"#ffad46\",\"#ffad46\",\"#ffad46\",\"#ffad46\",\"#ffad46\",\"#ffad46\",\"#ffad46\",\"#ffad46\",\"#ffad46\",\"#ffad46\",\"#ffad46\",\"#ffad46\",\"#ffad46\",\"#ffad46\",\"#ffad46\",\"#ffad46\",\"#ffad46\",\"#ffad46\",\"#ffad46\",\"#ffad46\",\"#ffad46\",\"#ffad46\",\"#ffad46\",\"#ffad46\",\"#ffad46\",\"#ffad46\",\"#ffad46\",\"#ffad46\",\"#ffad46\",\"#ffad46\",\"#ffad46\",\"#ffad46\",\"#ffad46\",\"#ffad46\",\"#ffad46\",\"#ffad46\",\"#ffad46\",\"#ffad46\",\"#ffad46\",\"#ffad46\",\"#ffad46\",\"#ffad46\",\"#ffad46\",\"#ffad46\",\"#ffad46\",\"#ffad46\",\"#ffad46\",\"#ffad46\",\"#ffad46\",\"#ffad46\",\"#ffad46\",\"#ffad46\",\"#ffad46\",\"#ffad46\",\"#ffad46\",\"#ffad46\",\"#ffad46\",\"#ffad46\",\"#ffad46\",\"#ffad46\",\"#ffad46\",\"#ffad46\",\"#ffad46\",\"#ffad46\",\"#ffad46\",\"#ffad46\",\"#ffad46\",\"#ffad46\",\"#ffad46\",\"#ffad46\",\"#ffad46\",\"#ffad46\",\"#ffad46\",\"#ffad46\",\"#ffad46\",\"#ffad46\",\"#ffad46\",\"#ffad46\",\"#ffad46\",\"#ffad46\",\"#ffad46\",\"#ffad46\",\"#ffad46\",\"#ffad46\",\"#ffad46\",\"#ffad46\",\"#ffad46\",\"#ffad46\",\"#ffad46\",\"#ffad46\",\"#ffad46\",\"#ffad46\",\"#ffad46\",\"#ffad46\",\"#ffad46\",\"#ffad46\",\"#ffad46\",\"#ffad46\",\"#ffad46\",\"#ffad46\",\"#ffad46\",\"#ffad46\",\"#ffad46\",\"#ffad46\",\"#ffad46\",\"#ffad46\",\"#ffad46\",\"#ffad46\",\"#ffad46\",\"#ffad46\",\"#ffad46\",\"#ffad46\",\"#ffad46\",\"#ffad46\",\"#ffad46\",\"#7ecc4a\",\"#7ecc4a\",\"#7ecc4a\",\"#7ecc4a\",\"#7ecc4a\",\"#7ecc4a\",\"#7ecc4a\",\"#7ecc4a\",\"#7ecc4a\",\"#7ecc4a\",\"#7ecc4a\",\"#7ecc4a\",\"#7ecc4a\",\"#7ecc4a\",\"#7ecc4a\",\"#7ecc4a\",\"#7ecc4a\",\"#7ecc4a\",\"#7ecc4a\",\"#7ecc4a\",\"#7ecc4a\",\"#7ecc4a\",\"#7ecc4a\",\"#7ecc4a\",\"#7ecc4a\",\"#7ecc4a\",\"#7ecc4a\",\"#7ecc4a\",\"#7ecc4a\",\"#7ecc4a\",\"#7ecc4a\",\"#7ecc4a\",\"#7ecc4a\",\"#7ecc4a\",\"#7ecc4a\",\"#7ecc4a\",\"#7ecc4a\",\"#7ecc4a\",\"#7ecc4a\",\"#7ecc4a\",\"#7ecc4a\",\"#7ecc4a\",\"#7ecc4a\",\"#7ecc4a\",\"#7ecc4a\",\"#7ecc4a\",\"#7ecc4a\",\"#7ecc4a\",\"#7ecc4a\",\"#7ecc4a\",\"#7ecc4a\",\"#7ecc4a\",\"#96c3eb\",\"#96c3eb\",\"#96c3eb\",\"#96c3eb\",\"#96c3eb\",\"#96c3eb\",\"#96c3eb\"]},\"r\":[1.0,1.0,1.0,1.0,1.0,1.0,1.0,1.0,1.0,1.0,1.0,1.0,1.0,1.0,1.0,1.0,1.0,1.0,1.0,1.0,1.0,1.0,1.0,1.0,1.0,1.0,1.0,1.0,1.0,1.0,1.0,1.0,1.0,1.0,1.0,1.0,1.0,1.0,1.0,1.0,1.0,1.0,0.6666666666666666,1.0,1.0,1.0,1.0,1.0,1.0,1.0,1.0,1.0,1.0,1.0,1.0,1.0,1.0,1.0,0.6666666666666666,1.0,1.0,1.0,1.0,1.0,1.0,1.0,1.0,1.0,1.0,1.0,1.0,1.0,1.0,1.0,1.0,1.0,1.0,1.0,1.0,1.0,1.0,1.0,1.0,1.0,1.0,1.0,1.0,1.0,1.0,1.0,1.0,1.0,1.0,1.0,1.0,1.0,1.0,1.0,1.0,1.0,1.0,1.0,1.0,1.0,1.0,1.0,1.0,0.6666666666666666,1.0,1.0,1.0,1.0,1.0,1.0,1.0,1.0,1.0,1.0,1.0,1.0,1.0,1.0,1.0,1.0,0.6666666666666666,0.6666666666666666,1.0,1.0,1.0,1.0,0.6666666666666666,1.0,1.0,1.0,1.0,1.0,1.0,1.0,1.0,1.0,1.0,1.0,1.0,0.5,1.0,1.0,1.0,1.0,0.6666666666666666,1.0,1.0,1.0,1.0,1.0,1.0,1.0,0.6666666666666666,1.0,1.0,1.0,0.6666666666666666,1.0,1.0,1.0,1.0,1.0,1.0,1.0,1.0,1.0,1.0,1.0,1.0,1.0,1.0,1.0,1.0,1.0,1.0,1.0,1.0,1.0,1.0,1.0,1.0,1.0,1.0,1.0,1.0,1.0,1.0,1.0,1.0,1.0,1.0,1.0,1.0,1.0,1.0,1.0,1.0,1.0,1.0,1.0,1.0,1.0,1.0,1.0,1.0,1.0,1.0,1.0,1.0,1.0,1.0,1.0,1.0,1.0,1.0,1.0,1.0,1.0,1.0,1.0,1.0,1.0,1.0,1.0,1.0,0.6666666666666666,1.0,1.0,0.6666666666666666,1.0,1.0,1.0,1.0,1.0,1.0,1.0,1.0,1.0,1.0,1.0,1.0,1.0,1.0,1.0,1.0,1.0,1.0,1.0,1.0,1.0,1.0,1.0,1.0,1.0,1.0,1.0,1.0,1.0,1.0,1.0,1.0,1.0,1.0,1.0,1.0,1.0,1.0,0.6666666666666666,1.0,1.0,1.0,1.0,1.0,1.0,1.0,1.0,1.0,0.6666666666666666,1.0,1.0,1.0,1.0,1.0,1.0,1.0,1.0,1.0,1.0,1.0,1.0,1.0,1.0,1.0,1.0,1.0,1.0,1.0,1.0,1.0,1.0,1.0,1.0,1.0,1.0,1.0,1.0,1.0,1.0,1.0,1.0,1.0,1.0,1.0,1.0,1.0,1.0,1.0,1.0,1.0,1.0,1.0,1.0,1.0,1.0,1.0,1.0,1.0,1.0,1.0,1.0,1.0,1.0,1.0,1.0,1.0,1.0,1.0,1.0,1.0,1.0,1.0,1.0,1.0,1.0,1.0,1.0,1.0,1.0,1.0,1.0,1.0,1.0,1.0,1.0,1.0,1.0,1.0,1.0,1.0,1.0,1.0,1.0,1.0,1.0,1.0,1.0,1.0,1.0,1.0,1.0,1.0,1.0,1.0,1.0,1.0,1.0,1.0,1.0,1.0,1.0,1.0,1.0,1.0,1.0,1.0,1.0,1.0,1.0,1.0,1.0,1.0,1.0,1.0,1.0,1.0,1.0,1.0,1.0,1.0,1.0,1.0,1.0,1.0,1.0,1.0,1.0,1.0,1.0,1.0,1.0,1.0,1.0,1.0,1.0,1.0,1.0,1.0,1.0,1.0,1.0,1.0,1.0,1.0,1.0,1.0,1.0,1.0,1.0,1.0,1.0,1.0,1.0,1.0,1.0,1.0,1.0,0.6666666666666666,1.0,1.0,1.0,1.0,1.0,0.3333333333333333,1.0,1.0,1.0,1.0,1.0,1.0,1.0,1.0,1.0,1.0,1.0,1.0,1.0,1.0,1.0,1.0,1.0,1.0,1.0,1.0,1.0,1.0,1.0,1.0,1.0,1.0,1.0,1.0,1.0,1.0,1.0,1.0,1.0,1.0,1.0,1.0,1.0,1.0,1.0,0.6666666666666666,0.6666666666666666,1.0,1.0,1.0,1.0,1.0,1.0,1.0,1.0,1.0,1.0,1.0,1.0,1.0,1.0,1.0,1.0,1.0,1.0,1.0,1.0,1.0,1.0,1.0,1.0,1.0,1.0,1.0,1.0,1.0,1.0,1.0,1.0,1.0,1.0,1.0,1.0,1.0,1.0,1.0,1.0,1.0,1.0,1.0,1.0,1.0,1.0,1.0,1.0,1.0,1.0,1.0,1.0,1.0,1.0,1.0,1.0,1.0,1.0,1.0,1.0,1.0,1.0,1.0,1.0,1.0,1.0,0.6666666666666666,1.0,1.0,1.0,1.0,1.0,1.0,1.0,1.0,1.0,1.0,1.0,1.0,1.0,1.0,1.0,1.0,1.0,1.0,1.0,1.0,1.0,1.0,1.0,1.0,1.0,1.0,1.0,1.0,1.0,1.0,1.0,1.0,1.0,1.0,1.0,1.0,1.0,1.0,1.0,1.0,1.0,1.0,1.0,1.0,1.0,1.0,1.0,1.0,1.0,1.0,1.0,1.0,1.0,1.0,1.0,1.0,1.0,1.0,1.0,1.0,1.0,1.0,1.0,1.0,1.0,1.0,1.0,1.0,1.0,1.0,1.0,1.0,1.0,1.0,1.0,1.0,1.0],\"text\":[\"Mom's Birthday\",\"Nipsco Due\",\"Nipsco Due\",\"Nipsco Due\",\"Nipsco Due\",\"Nipsco Due\",\"Nipsco Due\",\"Nipsco Due\",\"Nipsco Due\",\"Nipsco Due\",\"Nipsco Due\",\"Nipsco Due\",\"Nipsco Due\",\"recycling pickup\",\"recycling pickup\",\"recycling pickup\",\"recycling pickup\",\"recycling pickup\",\"recycling pickup\",\"recycling pickup\",\"recycling pickup\",\"recycling pickup\",\"recycling pickup\",\"recycling pickup\",\"recycling pickup\",\"recycling pickup\",\"recycling pickup\",\"recycling pickup\",\"recycling pickup\",\"recycling pickup\",\"recycling pickup\",\"recycling pickup\",\"recycling pickup\",\"recycling pickup\",\"recycling pickup\",\"recycling pickup\",\"recycling pickup\",\"recycling pickup\",\"recycling pickup\",\"Dentist\",\"Dermatology\",\"Robby meeting\",\"Chelsea\\u2019s Graduation\",\"Therapy\",\"Therapy\",\"Reservation at Jes\\u00fas Latin Grill\",\"PT\",\"physio appointment\",\"therapy\",\"PT\",\"Eye appt ent\",\"Lunch\",\"PT\",\"PT\",\"Physical Therapy\",\"physical therapy\",\"therapy\",\"Finish Chapter 1\",\"Test Python Read\",\"haircut\",\"Flight# UA5309 from SBN -\\u003e ORD\\n\\t (1 hour and 9 mins.)  Layover of 1 hour and 21 mins.  Flight# 2617 from ORD -\\u003e BOS\\n\\t (2 hours and 18 mins.)\",\"Flight# DL2061 from BOS -\\u003e DTW\\n\\t (2 hours and 33 mins.)  Layover of 1 hour and 2 mins.  Flight# 3751 from DTW -\\u003e SBN\\n\\t (1 hour and 7 mins.)\",\"Furnace CHeckup.\",\"Robby meeting\",\"Meet with Robby\",\"therapy\",\"pt\",\"pt\",\"pt\",\"RFP Final Draft Due\",\"Dune 2\",\"therapy\",\"haircyt\",\"therapy\",\"Robby Meeting\",\"Jury Duty\",\"Foot appointment\",\"therapy\",\"PHone appointee doctor\",\"Therapy\",\"foot doctor\",\"robbykeeting\",\"Reservation at Woochi Japanese Fusion & Bar\",\"Jury Duty\",\"Jury Duty\",\"Jury Duty\",\"PT Appointment\",\"PT\",\"PT\",\"dentist\",\"hIRCUT\",\"Therapy\",\"Mishawaka Door, LLC\",\"Graage door fix\",\"CFSB potluck\",\"Gym\",\"Dayna\\u2019s Wedding Reception.\",\"Therapy\",\"Unmade Space\",\"Robby Meeting\",\"AJ roof inspection\",\"Charlie Appointment\",\"Feathers Vet\",\"therapy\",\"haircut\",\"Garage Estimate\",\"Unmade Space\",\"Stay at The Royal Sonesta Boston\",\"Flight to Boston (UA 2617)\",\"Flight to Chicago (UA 5309)\",\"Keith and Chelsie and all the cats\",\"therapy\",\"6:00 Robby meeting\",\"CFSB ID Monthly Education Call\",\"CFSB ID Monthly Education Call\",\"CFSB ID Monthly Education Call\",\"Unmade Space\",\"Star Wars Costuming Get-together\",\"haircut\",\"Workout\",\"workout\",\"Workout\",\"Workout\",\"Workout\",\"Stay at Fairfield Inn & Suites Hooksett\",\"Stay at Courtyard Concord\",\"Robby Meeting\",\"Therapy\",\"AC Inspection\",\"Stay Steve Alford Inn\",\"Fan Expo Chicago\",\"Unmade Space\",\"Unmade Space\",\"AUto Service\",\"January Graduation Date\",\"Undergraduate halls open for move-in beginning at 9:00am\",\"Martin Luther King Day - no classes\",\"Classes begin\",\"Last date for all class changes\",\"Last day to drop a class at Saint Mary's College\",\"Junior Parent's Weekend\",\"Junior Parent's Weekend\",\"Junior Parent's Weekend\",\"Mid-Term Break\",\"Mid-term grades due\",\"Students can view grades\",\"Registration begins for Summer Session\",\"Last day to drop a class\",\"Easter Holiday for students\",\"Registration begins for Fall 2024\",\"Course Instructor Feedback (CIF) begins\",\"Last Class Day\",\"Reading Day\",\"Reading Day\",\"Reading Day\",\"Reading Day\",\"Final Exam Week\",\"Undergraduate Halls close at Noon\",\"Final grades are due\",\"Students can view final grades\",\"Commencement Weekend\",\"Last class day for regular 6-week Summer classes\",\"Summer graduation date\",\"Classes begin for Law School and Graduate Business\",\"CLASSES BEGIN\",\"Labor Day - classes are in session\",\"Last date for all class changes\",\"Fall Break\",\"Fall Break\",\"Fall Break\",\"Fall Break\",\"Fall Break\",\"Fall Break\",\"Fall Break\",\"Fall Break\",\"Fall Break\",\"GRADES DUE by 3:45pm\",\"Last day to drop a class\",\"Spring registration begins\",\"Thanksgiving Holiday for students\",\"Thanksgiving\",\"Thanksgiving holiday for students, faculty, staff\",\"Course Instructor Feedback (CIF) begins\",\"LAST CLASS DAY\",\"Reading Day - no exams\",\"Reading Day - no exams\",\"Reading Day - no exams\",\"FINAL EXAMS - no review sessions\",\"FINAL EXAMS - no review sessions\",\"FINAL EXAMS - no review sessions\",\"FINAL EXAMS - no review sessions\",\"FINAL EXAMS - no review sessions\",\"GRADES DUE by 3:45pm\",\"Undergraduate Halls close by Noon\",\"Presidential Inauguration - no classes\",\"Undergraduate Halls open for new first year students\",\"Undergraduate Halls open at 9am\",\"GLPA News Due\",\"GLPA News Due\",\"GLPA News Due\",\"GLPA News Due\",\"Approve Hours\",\"Approve Hours\",\"Approve Hours\",\"Approve Hours\",\"Approve Hours\",\"Approve Hours\",\"Approve Hours\",\"Approve Hours\",\"Approve Hours\",\"Approve Hours\",\"Approve Hours\",\"Approve Hours\",\"Approve Hours\",\"Approve Hours\",\"Approve Hours\",\"Approve Hours\",\"Approve Hours\",\"Approve Hours\",\"Approve Hours\",\"Approve Hours\",\"Approve Hours\",\"Approve Hours\",\"Approve Hours\",\"Approve Hours\",\"Approve Hours\",\"Approve Hours\",\"Approve Hours\",\"WVPE Day\",\"Frontiers in Nuclear Astrophysics \",\"Christmas Lecture\",\"Science Alive\",\"Talk on Communicating Science.\",\"ILI Initiative\",\"ILI Initiative\",\"Arielle\\u2019s Talk\",\"Stephen Heritage REU recc letter\",\"call for proposal for \\u201cSummer Academy\\\"\",\"Annual scholarly report\",\"Meet over Library \\u002f ND Eclipse activities.\",\"Matt and Lucas Lunch interview with Keith\",\"Library ND Eclipse Activities\",\"Possible hold for Astrophysics discussion\",\"Eclipse stuff Keith and Deanna\",\"Fabio and Keith Zoom\",\"Eclipse update meeting\",\"Keith Davis' Zoom Meeting\",\"Astro Faculty Meeting\",\"Keith Davis\",\"DVT Upgrade Kickoff Zoom\",\"DVT Upgrade - RFP Kickoff Meeting\",\"Postdoc Coffee Hour with Keith Davis: Science Communication\",\"Meet over Chem\",\"Meet with DVT Students\",\"Eclipse update meeting\",\"Busy\",\"Lauren Weiss Talk\",\"Lunch\",\"DVT Upgrade - Project Touch Base\",\"Michelle\",\"Keith \\u002f Miguel data discussion\",\"Prospective Grad Visit\",\"Descriptive Astronomy - Prof. Garnavich out of Town (Planet Tracking Activity)\",\"Phil\\u2019s Eclipse talk\",\"Busy\",\"Keith Davis' Zoom Meeting\",\"Keith \\u002f Miguel github tutorial meeting?\",\"Eclipse update meeting\",\"Eclipse update meeting\",\"WVPE\",\"DVT Upgrade - Committee Meeting\",\"Release RFP\",\"Orbital and Space Dynamics - Karel Matous\",\"Physics Colloquium (PHYS73000) 118 NSH\",\"Keith Davis' Zoom Meeting\",\"Prep\",\"Phillippe Collon Physics of Civilication\",\"Prep\",\"DVT Upgrade - Committee Meeting\",\"Astro Journal Club\",\"Astro Journal Club\",\"Keith In Boston\",\"Travel\",\"therapy\",\"Flight# UA5309 from SBN -\\u003e ORD\\n (1 hour and 9 mins.)  Layover of 1 hour and 21 mins.  Flight# 2617 from ORD -\\u003e BOS\\n (2 hours and 18 mins.)\",\"Furnace CHeckup.\",\"PT\",\"Beiger Elementary\",\"Physics Colloquium (PHYS73000) 118 NSH\",\"Physics Colloquium (PHYS73000) 118 NSH\",\"Physics & Astronomy LGBTQ\\u002fAlly Luncheon\",\"Discuss Eclipse Event - Irish Green\",\"Losecco cosmology\",\"Prep\",\"DVT Upgrade RFP Discussion\",\"Eclipse update meeting\",\"Discuss budget and plans for April 8 eclipse\",\"Eclipses for Desc Astro\",\"Descriptive Astronomy Prof. Beers out of Town\",\"Prep\",\"Pre[\",\"Stephen Piloting - Pierre Moran Middle and North Side Middle School\",\"Prep\",\"Eclipse - backup plan discussion\",\"DVT Upgrade RFP Committee Meeting\",\"therapy\",\"physical therapy\",\"Lunch w\\u002f Jeff\",\"Environmentally Dependent Galaxy Evolution weekly group meeting (Hybrid)\",\"Environmentally Dependent Galaxy Evolution weekly group meeting (Hybrid)\",\"Environmentally Dependent Galaxy Evolution weekly group meeting (Hybrid)\",\"Environmentally Dependent Galaxy Evolution weekly group meeting (Hybrid)\",\"Environmentally Dependent Galaxy Evolution weekly group meeting (Hybrid)\",\"Environmentally Dependent Galaxy Evolution weekly group meeting (Hybrid)\",\"Physics Colloquium (PHYS73000) 118 NSH\",\"Physics Colloquium (PHYS73000) 118 NSH\",\"Eclipse Stream Advance\",\"State Meeting\",\"Eclipse update meeting\",\"Meeting over display cases\",\"Dune 2\",\"Optional lunch with Jeff & Ken before the movie\",\"Dune 2 with Jeff & Ken\",\"Astrophysics case discussion\",\"Eclipse update meeting\",\"haircyt\",\"Eclipse update meeting\",\"meet with Adam about postdoc\",\"DVT Upgrade - RFP Meeting\",\"Eclipse meeting - 215 Jordan\",\"Final RFP Draft - DVT Upgrade Meeting\",\"Solar Telescope meeting. (weather dependent)\",\"DVT RFP chat\",\"Physics Colloquium (PHYS73000) 118 NSH\",\"LGBTQ\\u002fAlly Luncheon\",\"Jury Duty\",\"Eclipse Volunteer Q & A\",\"DVT Upgrade Bidder Conference & Walkthrough (Confirmed)\",\"Astrophysics Seminar (PHYS83200) 184 NSH\",\"Astrophysics Seminar (PHYS83200) 184 NSH\",\"Astrophysics Seminar (PHYS83200) 184 NSH\",\"Astrophysics Seminar (PHYS83200) 184 NSH\",\"Astrophysics Seminar (PHYS83200) 184 NSH\",\"Astrophysics Seminar (PHYS83200) 184 NSH\",\"Astrophysics Seminar (PHYS83200) 184 NSH\",\"Astrophysics Seminar (PHYS83200) 184 NSH\",\"Astrophysics Seminar (PHYS83200) 184 NSH\",\"Astrophysics Seminar (PHYS83200) 184 NSH\",\"Astrophysics Seminar (PHYS83200) 184 NSH\",\"Astrophysics Seminar (PHYS83200) 184 NSH\",\"Astrophysics Seminar (PHYS83200) 184 NSH\",\"Astrophysics Seminar (PHYS83200) 184 NSH\",\"Astrophysics Seminar (PHYS83200) 184 NSH\",\"Losecco Cosmology\",\"American Indian Catholic Schools Network\",\"Science Communications Class\",\"pt\",\"Busy\",\"Busy\",\"Q and A due from bidders\",\"Written responses\",\"Dr. Keith Davis Appointments (Sara Wheeler)\",\"Astro Journal Club\",\"Astro Journal Club\",\"Astro Journal Club\",\"Astro Journal Club\",\"Astro Journal Club\",\"Astro Journal Club\",\"Astro Journal Club\",\"Astro Journal Club\",\"Astro Journal Club\",\"Astro Journal Club\",\"Astro Journal Club\",\"Foot appointment\",\"Trvel\",\"therapy\",\"Travel\",\"DVT Upgrade RFP - Written Questions\",\"Dr. Keith Davis Appointments (Sara Wheeler)\",\"St. Vincent De Paul\",\"Prep\",\"DVT Upgrade RFP -Evaluation\",\"Astrophysics Seminar (PHYS83200) 184 NSH\",\"Jury Duty\",\"Jury Duty\",\"Jury Duty\",\"Colloquium Tea\",\"Colloquium Tea\",\"Colloquium Tea\",\"Colloquium Tea\",\"Colloquium Tea\",\"Colloquium Tea\",\"Colloquium Tea\",\"Colloquium Tea\",\"Colloquium Tea\",\"Colloquium Tea\",\"Colloquium Tea\",\"Colloquium Tea\",\"Colloquium Tea\",\"Colloquium Tea\",\"Colloquium Tea\",\"LGBTQ\\u002fAlly Luncheon\",\"Meet with Alex\",\"Meet with Alex\",\"Meet with Alex\",\"Meet with Alex\",\"Meet with Alex\",\"Meet with Alex\",\"Meet with Alex\",\"Meet with Alex\",\"Meet with Alex\",\"Meet with Alex\",\"Meet with Alex\",\"Lara \\u002f Keith\",\"Fabio \\u002f Keith\",\"Physics Colloquium (PHYS73000) 127 NSH\",\"Physics Colloquium (PHYS73000) 127 NSH\",\"Physics Colloquium (PHYS73000) 127 NSH\",\"Physics Colloquium (PHYS73000) 127 NSH\",\"Physics Colloquium (PHYS73000) 127 NSH\",\"Physics Colloquium (PHYS73000) 127 NSH\",\"Physics Colloquium (PHYS73000) 127 NSH\",\"Physics Colloquium (PHYS73000) 127 NSH\",\"Physics Colloquium (PHYS73000) 127 NSH\",\"Physics Colloquium (PHYS73000) 127 NSH\",\"Physics Colloquium (PHYS73000) 127 NSH\",\"Physics Colloquium (PHYS73000) 127 NSH\",\"Physics Colloquium (PHYS73000) 127 NSH\",\"Physics Colloquium (PHYS73000) 127 NSH\",\"Physics Colloquium (PHYS73000) 127 NSH\",\"Physics Colloquium (PHYS73000) 127 NSH\",\"Galaxies neighborhood_Environmentally Dependent Galaxy Evolution weekly group meeting \",\"Tammi school presentation\",\"Prep\",\"DVT Upgrade RFP -Evaluation (cont'd if needed)\",\"PT\",\"DVT Upgrade RFP -Evaluation\",\"Science Communication Talk\",\"ND Press Inaugeuration\",\"Physics graduation\",\"Lips\",\"PT\",\"Therapy\",\"Graage door fix\",\"Lunch\",\"Christmas Lecture Featuring Dr. Michelle Thaller, NASA Goddard Space Flight Center\",\"NDQN RET\\u002fREHS\",\"EDGE meeting\",\"EDGE meeting\",\"EDGE meeting\",\"EDGE meeting\",\"EDGE meeting\",\"EDGE meeting\",\"Visit to COSM\",\"Visit to SSIA\",\"Gym\",\"Keith\\u002fMiguel Code discuss\",\"AJ roof inspection\",\"CFSB ID Monthly Education Call\",\"Busy\",\"Travel\",\"PHone appointee doctor\",\"STEM Summer Camp Group\",\"Prep\",\"Feathers Vet\",\"busy\",\"My Meeting\",\"WSP: Digital Visualization Theater Demonstration\",\"Physical Exam\",\"SSIA Training\",\"Training E & S\",\"Lunch w\\u002f Ken, Jeff & Keith\",\"FW: Notre Dame Digistar Training\",\"Emily, Keith, Miguel over plotting \\u002f calculation code.\",\"DigitalSky Dark Matter Intro\",\"DVT Upgrade Committee - Updates, Training, Pre On-Site Visits\",\"Arielle Leaves\",\"Halo analysis code discussion\",\"Warrior Scholar Reception\",\"Tammi \\u002f Keith over Comm Sci Presentation\",\"Garage Estimate\",\"Warrior Scholars\",\"Dvt request physics olympics\",\"DNA Learning Center Residential Program\",\"therapy\",\"Busy\",\"KEITH WAYNE DAVIS, Hotel Check-In, MARRIOTT UNIVERSITY PARK - NUCGLO\",\"KEITH WAYNE DAVIS, Hotel Check-In, COURTYARD CONCORD MARRIOTT - NUCGLO\",\"Emily\\u002f Keith Plot talk\",\"DVT Upgrade - On-Site Visit Sharing\",\"EDGE meeting\",\"EDGE meeting\",\"EDGE meeting\",\"EDGE meeting\",\"EDGE meeting\",\"EDGE meeting\",\"EDGE meeting\",\"ND Studios at DVT\",\"Science Communication Conference\",\"Science Communication Conference\",\"QuarkNet picnic\",\"Science Communication Conference\",\"Meet about Audio system\",\"TPAC-R Information Session\",\"DVT Upgrade - Committee Meeting\",\"USpace\",\"Tom \\u002f Keith\",\"Morten \\u002f Keith\",\"QN luncheon & student posters\",\"Fall All-College Meeting 2024\",\"Stay Steve Alford Inn\",\"Faculty Meeting\",\"Faculty Meeting\",\"Faculty Meeting\",\"Faculty Meeting\",\"Claire and Keith Meet\",\"Astrophysics Seminar (83200) 127 NSH\",\"Astrophysics Seminar (83200) 127 NSH\",\"Astrophysics Seminar (83200) 127 NSH\",\"Astrophysics Seminar (83200) 127 NSH\",\"Astrophysics Seminar (83200) 127 NSH\",\"Astrophysics Seminar (83200) 127 NSH\",\"Astrophysics Seminar (83200) 127 NSH\",\"Astrophysics Seminar (83200) 127 NSH\",\"Astrophysics Seminar (83200) 127 NSH\",\"Astrophysics Seminar (83200) 127 NSH\",\"Astrophysics Seminar (83200) 127 NSH\",\"Astrophysics Seminar (83200) 127 NSH\",\"Astrophysics Seminar (83200) 127 NSH\",\"Astrophysics Seminar (83200) 127 NSH\",\"Astrophysics Seminar (83200) 127 NSH\",\"Astrophysics Seminar (83200) 127 NSH\",\"EDGE meeting\",\"EDGE meeting\",\"EDGE meeting\",\"EDGE meeting\",\"EDGE meeting\",\"EDGE meeting\",\"EDGE meeting\",\"EDGE meeting\",\"EDGE meeting\",\"Astro Journal Club\",\"Astro Journal Club\",\"Astro Journal Club\",\"Astro Journal Club\",\"Astro Journal Club\",\"Astro Journal Club\",\"Astro Journal Club\",\"Astro Journal Club\",\"Astro Journal Club\",\"Astro Journal Club\",\"Astro Journal Club\",\"DVT Upgrade - Committee Meeting\",\"DVT Update and Discussion\",\"GLPA\",\"Paper and Proposals Due for GLPA\",\"Physics Colloquium (73000) 127 NSH\",\"Physics Colloquium (73000) 127 NSH\",\"Physics Colloquium (73000) 127 NSH\",\"Physics Colloquium (73000) 127 NSH\",\"Physics Colloquium (73000) 127 NSH\",\"Physics Colloquium (73000) 127 NSH\",\"Physics Colloquium (73000) 127 NSH\",\"Physics Colloquium (73000) 127 NSH\",\"Physics Colloquium (73000) 127 NSH\",\"Physics Colloquium (73000) 127 NSH\",\"Physics Colloquium (73000) 127 NSH\",\"Physics Colloquium (73000) 127 NSH\",\"Physics Colloquium (73000) 127 NSH\",\"Physics Colloquium (73000) 127 NSH\",\"Physics Colloquium (73000) 127 NSH\",\"Physics Colloquium (73000) 127 NSH\",\"Faculty Meeting\",\"picture and bio to Nuclear Frotiers talk https:\\u002f\\u002fmail.google.com\\u002fmail\\u002fu\\u002f0\\u002f#inbox\\u002fFMfcgzGwHfqVxTqqwQfFMXnncfjKkTlW\",\"Picture and nuclear frontiers talk DEADLINE\",\"Language for Quality Definitions.\",\"https:\\u002f\\u002fmail.google.com\\u002fmail\\u002fu\\u002f0\\u002f#inbox\\u002fFMfcgzGxRxCQMnTvFXjmbzVZrJlPwTMT?compose=new\",\"Registering for workshop that I'm giving a talk at.\",\"Start up\",\"send Show e-mail.\",\"send Show e-mail.\",\"send Show e-mail.\",\"send Show e-mail.\",\"send Show e-mail.\",\"send Show e-mail.\",\"send Show e-mail.\",\"send Show e-mail.\",\"send Show e-mail.\",\"send Show e-mail.\",\"send Show e-mail.\",\"send Show e-mail.\",\"send Show e-mail.\",\"send Show e-mail.\",\"send Show e-mail.\",\"send Show e-mail.\",\"send Show e-mail.\",\"send Show e-mail.\",\"send Show e-mail.\",\"send Show e-mail.\",\"send Show e-mail.\",\"send Show e-mail.\",\"send Show e-mail.\",\"send Show e-mail.\",\"send Show e-mail.\",\"send Show e-mail.\",\"send Show e-mail.\",\"send Show e-mail.\",\"send Show e-mail.\",\"send Show e-mail.\",\"send Show e-mail.\",\"send Show e-mail.\",\"send Show e-mail.\",\"send Show e-mail.\",\"Change sheets 8:00 pm\",\"Reply to ramzi 9:00 AM\",\"Replace battery in keys. 8:00 pm\",\"Get box 12:00 pm\",\"Meditate and yoga 9:00 am\",\"Run 10:00\",\"cook pork\",\"eat\",\"put together couch\",\"eat\",\"Take notes on meditation 12:00 pm\",\"clean carpets\",\"therapy\",\"Test from cal\",\"Reply to Jeff 10:00 am\",\"Steak 5:00\",\"Potatoes 5:00 PM\",\"Broccoli 5:00\",\"Tomorrow 11:30\"],\"theta\":[1689870688.5245903,1676786754.0983608,1679421245.9016395,1681885770.4918034,1684516721.3114755,1687066229.5081968,1689700721.3114755,1692250229.5081968,1694884721.3114755,1697519213.1147542,1700068721.3114755,1702706754.0983608,1705256262.295082,1676786754.0983608,1677976524.590164,1679166295.0819674,1680356065.5737705,1681545836.065574,1682732065.5737705,1683921836.065574,1685111606.557377,1686301377.0491805,1687491147.5409837,1688680918.032787,1689870688.5245903,1691060459.0163934,1692250229.5081968,1693440000.0,1694629770.4918034,1695819540.9836066,1697009311.47541,1698199081.9672132,1699388852.4590166,1700578622.9508197,1701768393.4426231,1702961704.918033,1704151475.409836,1705341245.9016395,1706531016.3934426,1686975934.4262297,1701869311.47541,1677211672.1311476,1687958557.3770492,1676462754.0983608,1677645442.622951,1676894754.0983608,1677126245.9016395,1677732196.7213116,1678672327.8688526,1678080983.6065574,1677990688.5245903,1678148262.295082,1678582032.7868853,1681039475.409836,1681628163.9344263,1682133639.3442624,1679862098.3606558,1679931147.5409837,1678911344.2622952,1679514196.7213116,1680355711.47541,1680554714.7540984,1681200590.1639345,1680778327.8688526,1683750983.6065574,1682153114.7540984,1685193491.8032787,1685788377.0491805,1686383262.295082,1682987016.3934426,1682316295.0819674,1683342885.2459018,1682743573.7704918,1684872590.1639345,1686128754.0983608,1686306688.5245903,1685976786.885246,1685892393.4426231,1689437803.2786887,1687000721.3114755,1687147672.1311476,1688787147.5409837,1686155311.47541,1686391672.1311476,1686476655.737705,1686561639.3442624,1686995409.8360658,1687835065.5737705,1688332131.147541,1703041377.0491805,1687158737.7049181,1688349836.065574,1687229114.7540984,1688424196.7213116,1689789245.9016395,1688258655.737705,1694544786.885246,1689458163.9344263,1690322163.9344263,1691484491.8032787,1689442229.5081968,1691076393.4426231,1689378491.8032787,1691161377.0491805,1690053934.4262297,1691140131.147541,1691846557.3770492,1680441049.180328,1680360137.7049181,1680349249.180328,1690911737.7049181,1692521114.7540984,1693463016.3934426,1689282000.0,1694635967.2131147,1692256426.2295084,1693041639.3442624,1693880852.4590166,1693108475.409836,1693457704.918033,1693551098.3606558,1693719295.0819674,1693799852.4590166,1693859163.9344263,1690678032.7868853,1690593049.180328,1696094852.4590166,1694893573.7704918,1695389311.47541,1694459803.2786887,1695649573.7704918,1694231409.8360658,1695150295.0819674,1694706786.885246,1676701770.4918034,1677296655.737705,1677381639.3442624,1677466622.9508197,1678061508.1967213,1680101114.7540984,1680101114.7540984,1680186098.3606558,1680271081.9672132,1682305377.0491805,1682137180.327869,1682222163.9344263,1682902032.7868853,1683072000.0,1683794360.6557379,1685111606.557377,1685791475.409836,1686471344.2622952,1686556327.8688526,1686641311.47541,1686726295.0819674,1686811278.6885247,1687066229.5081968,1687321180.327869,1687491147.5409837,1687576131.147541,1687916065.5737705,1693185049.180328,1694544786.885246,1696414426.2295084,1696499409.8360658,1697009311.47541,1697094295.0819674,1701003540.9836066,1701088524.590164,1701173508.1967213,1701258491.8032787,1701343475.409836,1701428459.0163934,1701513442.622951,1701598426.2295084,1701683409.8360658,1701173508.1967213,1702108327.8688526,1703556590.1639345,1704321442.622951,1704406426.2295084,1704491409.8360658,1704831344.2622952,1705596196.7213116,1705681180.327869,1705766163.9344263,1705851147.5409837,1705936131.147541,1706021114.7540984,1706106098.3606558,1706191081.9672132,1706276065.5737705,1706531016.3934426,1706446032.7868853,1697944131.147541,1696159475.409836,1696329442.622951,1678826360.6557379,1686471344.2622952,1694289836.065574,1702108327.8688526,1676191868.8524592,1677381639.3442624,1678571409.8360658,1679761180.327869,1680950950.8196723,1682137180.327869,1683326950.8196723,1684516721.3114755,1685706491.8032787,1686896262.295082,1688086032.7868853,1689275803.2786887,1690465573.7704918,1691655344.2622952,1692845114.7540984,1694034885.2459018,1695224655.737705,1696414426.2295084,1697604196.7213116,1698793967.2131147,1699983737.7049181,1701173508.1967213,1702366819.6721313,1703556590.1639345,1704746360.6557379,1705936131.147541,1707125901.6393445,1683072000.0,1689445770.4918034,1705086295.0819674,1679591213.1147542,1689318295.0819674,1678259803.2786887,1678259803.2786887,1677041704.918033,1678826360.6557379,1702108327.8688526,1677976524.590164,1676871737.7049181,1676533573.7704918,1676871737.7049181,1676537114.7540984,1677138639.3442624,1677133327.8688526,1684273721.3114755,1677236459.0163934,1677375442.622951,1677560459.0163934,1677560459.0163934,1677560459.0163934,1678057967.2131147,1677982278.6885247,1677716704.918033,1678328409.8360658,1678328852.4590166,1684031606.557377,1678148262.295082,1678229704.918033,1678158885.2459018,1678576721.3114755,1681290885.2459018,1678655065.5737705,1683521704.918033,1678672327.8688526,1678586901.6393445,1678736065.5737705,1681724213.1147542,1679349983.6065574,1683082622.9508197,1678918426.2295084,1683454426.2295084,1680109672.1311476,1678842295.0819674,1679106098.3606558,1679427000.0,1679430540.9836066,1679325934.4262297,1679940000.0,1677640131.147541,1678235016.3934426,1680441049.180328,1679859590.1639345,1679862098.3606558,1680355711.47541,1681200590.1639345,1681039475.409836,1681115606.557377,1680626950.8196723,1680032065.5737705,1679847049.180328,1680532229.5081968,1681209885.2459018,1681144377.0491805,1680704852.4590166,1680710606.557377,1680712819.6721313,1681034606.557377,1681215196.7213116,1681031065.5737705,1681112508.1967213,1681285573.7704918,1681282475.409836,1680961131.147541,1681710491.8032787,1682153114.7540984,1682133639.3442624,1681632590.1639345,1677475475.409836,1678070360.6557379,1679260131.147541,1681044786.885246,1679855016.3934426,1680449901.6393445,1681646754.0983608,1681221836.065574,1681799016.3934426,1685536524.590164,1682911327.8688526,1682142491.8032787,1682316295.0819674,1682308032.7868853,1682315114.7540984,1682142491.8032787,1683508868.8524592,1682743573.7704918,1682489065.5737705,1683073770.4918034,1682997639.3442624,1682992770.4918034,1683591639.3442624,1683585442.622951,1683928032.7868853,1683427868.8524592,1683329606.557377,1686306688.5245903,1684436163.9344263,1685292196.7213116,1677470163.9344263,1678065049.180328,1679254819.6721313,1678659934.4262297,1679849704.918033,1680444590.1639345,1681039475.409836,1681634360.6557379,1682225704.918033,1682820590.1639345,1683415475.409836,1684010360.6557379,1684605245.9016395,1685795016.3934426,1685200131.147541,1685795459.0163934,1685970737.7049181,1685954803.2786887,1685788377.0491805,1685370098.3606558,1685455524.590164,1685791475.409836,1686320852.4590166,1685785721.3114755,1678829901.6393445,1679424786.885246,1680019672.1311476,1681209442.622951,1681804327.8688526,1682395672.1311476,1682990557.3770492,1683585442.622951,1684180327.8688526,1684775213.1147542,1685370098.3606558,1685976786.885246,1685973836.065574,1685892393.4426231,1685889737.7049181,1685885311.47541,1685870704.918033,1687754950.8196723,1687752295.0819674,1687501770.4918034,1686389901.6393445,1686391672.1311476,1686476655.737705,1686561639.3442624,1677563114.7540984,1678158000.0,1678752885.2459018,1679347770.4918034,1679942655.737705,1680537540.9836066,1681132426.2295084,1681727311.47541,1682318655.737705,1682913540.9836066,1683508426.2295084,1684103311.47541,1684698196.7213116,1685293081.9672132,1686482852.4590166,1685794131.147541,1679257918.032787,1679852803.2786887,1680447688.5245903,1681042573.7704918,1681637459.0163934,1682823688.5245903,1684013459.0163934,1684608344.2622952,1685203229.5081968,1685798114.7540984,1686393000.0,1687165377.0491805,1687076409.8360658,1677555147.5409837,1678150032.7868853,1678744918.032787,1679339803.2786887,1679934688.5245903,1680529573.7704918,1681124459.0163934,1681719344.2622952,1682310688.5245903,1682905573.7704918,1683500459.0163934,1684095344.2622952,1684690229.5081968,1685285114.7540984,1685880000.0,1686474885.2459018,1681639672.1311476,1687573180.327869,1687570377.0491805,1687761147.5409837,1687835065.5737705,1687669967.2131147,1689271377.0491805,1697944131.147541,1687921377.0491805,1697264262.295082,1688332131.147541,1688349836.065574,1688424196.7213116,1688088688.5245903,1705112852.4590166,1691952786.885246,1684610557.3770492,1683420786.885246,1684015672.1311476,1685205442.622951,1685800327.8688526,1686395213.1147542,1690465573.7704918,1690550557.3770492,1688258655.737705,1688441901.6393445,1689442229.5081968,1689282000.0,1689458163.9344263,1689455508.1967213,1689437803.2786887,1689357245.9016395,1689354590.1639345,1689378491.8032787,1689374950.8196723,1689219147.5409837,1691154295.0819674,1696577754.0983608,1690037114.7540984,1689948590.1639345,1689873344.2622952,1689948590.1639345,1689955672.1311476,1690035344.2622952,1690139803.2786887,1693270032.7868853,1690123868.8524592,1691425180.327869,1690221245.9016395,1691140131.147541,1691239278.6885247,1691315409.8360658,1691244590.1639345,1691161377.0491805,1691158721.3114755,1690465573.7704918,1690635540.9836066,1691329573.7704918,1691307442.622951,1686990098.3606558,1687584983.6065574,1688179868.8524592,1688774754.0983608,1689369639.3442624,1689964524.590164,1690559409.8360658,1692418426.2295084,1692422852.4590166,1692337868.8524592,1693185934.4262297,1692499868.8524592,1692514032.7868853,1692857508.1967213,1694043737.7049181,1693038098.3606558,1693537819.6721313,1693522327.8688526,1693782590.1639345,1697284622.9508197,1694459803.2786887,1677726000.0,1680700426.2295084,1684266196.7213116,1686645737.7049181,1695917360.6557379,1696502950.8196723,1697097836.065574,1697692721.3114755,1698287606.557377,1698882491.8032787,1699477377.0491805,1700072262.295082,1700667147.5409837,1701262032.7868853,1701856918.032787,1702455344.2622952,1703050229.5081968,1703645114.7540984,1704240000.0,1704834885.2459018,1705429770.4918034,1691154295.0819674,1691749180.327869,1692344065.5737705,1692938950.8196723,1693533836.065574,1694128721.3114755,1694723606.557377,1695318491.8032787,1695913377.0491805,1690212393.4426231,1690807278.6885247,1691402163.9344263,1691997049.180328,1692591934.4262297,1693186819.6721313,1693781704.918033,1694376590.1639345,1694971475.409836,1695566360.6557379,1696161245.9016395,1695999245.9016395,1694808147.5409837,1701428459.0163934,1697604196.7213116,1696587934.4262297,1697182819.6721313,1701347016.3934426,1697777704.918033,1698372590.1639345,1698967475.409836,1699562360.6557379,1700157245.9016395,1700752131.147541,1701941901.6393445,1702540327.8688526,1703135213.1147542,1703730098.3606558,1704324983.6065574,1704919868.8524592,1705514754.0983608,1696758786.885246,1682392131.147541,1682477114.7540984,1682477114.7540984,1684771672.1311476,1684771672.1311476,1684854885.2459018,1687151213.1147542,1687746098.3606558,1688340983.6065574,1688935868.8524592,1689530754.0983608,1690125639.3442624,1690720524.590164,1691315409.8360658,1691910295.0819674,1692505180.327869,1693100065.5737705,1693694950.8196723,1694289836.065574,1694884721.3114755,1695479606.557377,1696074491.8032787,1696669377.0491805,1697264262.295082,1697859147.5409837,1698454032.7868853,1699048918.032787,1699643803.2786887,1700238688.5245903,1700833573.7704918,1701428459.0163934,1702023344.2622952,1702621770.4918034,1703216655.737705,1703811540.9836066,1704406426.2295084,1705001311.47541,1705596196.7213116,1706191081.9672132,1706785967.2131147,1687945278.6885247,1688246262.295082,1690239836.065574,1690806393.4426231,1690965737.7049181,1690969278.6885247,1690974590.1639345,1690976360.6557379,1690979901.6393445,1690994065.5737705,1690976360.6557379,1691493344.2622952,1684872590.1639345,1687828868.8524592,1688249803.2786887,1688487049.180328,1688529540.9836066,1688742000.0,1690039770.4918034],\"width\":[0.9836065573770492,0.9836065573770492,0.9836065573770492,0.9836065573770492,0.9836065573770492,0.9836065573770492,0.9836065573770492,0.9836065573770492,0.9836065573770492,0.9836065573770492,0.9836065573770492,0.9836065573770492,0.9836065573770492,0.9836065573770492,0.9836065573770492,0.9836065573770492,0.9836065573770492,0.9836065573770492,0.9836065573770492,0.9836065573770492,0.9836065573770492,0.9836065573770492,0.9836065573770492,0.9836065573770492,0.9836065573770492,0.9836065573770492,0.9836065573770492,0.9836065573770492,0.9836065573770492,0.9836065573770492,0.9836065573770492,0.9836065573770492,0.9836065573770492,0.9836065573770492,0.9836065573770492,0.9836065573770492,0.9836065573770492,0.9836065573770492,0.9836065573770492,0.040983606557377046,0.040983606557377046,0.040983606557377046,1.9672131147540983,0.040983606557377046,0.040983606557377046,0.040983606557377046,0.030737704918032786,0.040983606557377046,0.040983606557377046,0.040983606557377046,0.040983606557377046,0.040983606557377046,0.040983606557377046,0.040983606557377046,0.040983606557377046,0.040983606557377046,0.040983606557377046,0.9836065573770492,2.9508196721311477,0.040983606557377046,0.19672131147540983,0.19262295081967212,0.040983606557377046,0.020491803278688523,0.020491803278688523,0.040983606557377046,0.030737704918032786,0.030737704918032786,0.030737704918032786,0.9836065573770492,0.1434426229508197,0.040983606557377046,0.020491803278688523,0.040983606557377046,0.020491803278688523,0.2868852459016394,0.040983606557377046,0.040983606557377046,0.020491803278688523,0.040983606557377046,0.040983606557377046,0.040983606557377046,0.040983606557377046,0.26639344262295084,0.26639344262295084,0.26639344262295084,0.040983606557377046,0.030737704918032786,0.040983606557377046,0.040983606557377046,0.030737704918032786,0.040983606557377046,0.16393442622950818,0.2868852459016394,0.12295081967213115,0.10245901639344263,0.9836065573770492,0.040983606557377046,0.12295081967213115,0.020491803278688523,0.040983606557377046,0.040983606557377046,0.040983606557377046,0.040983606557377046,0.040983606557377046,0.040983606557377046,0.16393442622950818,2.9508196721311477,0.09426229508196722,0.04713114754098361,0.08196721311475409,0.040983606557377046,0.040983606557377046,0.020491803278688523,0.020491803278688523,0.020491803278688523,0.12295081967213115,0.36885245901639346,0.030737704918032786,0.08196721311475409,0.07172131147540985,0.07172131147540985,0.07172131147540985,0.09221311475409837,1.9672131147540983,1.9672131147540983,0.020491803278688523,0.040983606557377046,0.040983606557377046,0.9836065573770492,2.9508196721311477,0.12295081967213115,0.16393442622950818,0.020491803278688523,0.9836065573770492,0.9836065573770492,0.9836065573770492,0.9836065573770492,0.9836065573770492,0.9836065573770492,0.9836065573770492,0.9836065573770492,0.9836065573770492,8.811475409836065,0.9836065573770492,0.9836065573770492,0.9836065573770492,0.9836065573770492,3.9344262295081966,0.9836065573770492,0.9836065573770492,0.9836065573770492,0.9836065573770492,0.9836065573770492,0.9836065573770492,0.9836065573770492,4.918032786885246,0.9836065573770492,0.9836065573770492,0.9836065573770492,2.9508196721311477,0.9836065573770492,0.9836065573770492,0.9836065573770492,0.9836065573770492,0.9836065573770492,0.9836065573770492,0.9836065573770492,0.9836065573770492,0.9836065573770492,0.9836065573770492,0.9836065573770492,0.9836065573770492,0.9836065573770492,0.9836065573770492,0.9836065573770492,0.9836065573770492,0.9836065573770492,0.9836065573770492,0.9836065573770492,0.9836065573770492,0.9836065573770492,0.9836065573770492,0.9836065573770492,0.9836065573770492,0.9836065573770492,0.9836065573770492,0.9836065573770492,0.9836065573770492,0.9836065573770492,0.9836065573770492,0.9836065573770492,0.9836065573770492,0.9836065573770492,0.9836065573770492,0.9836065573770492,0.9836065573770492,0.9836065573770492,0.9836065573770492,0.9836065573770492,0.9836065573770492,0.9836065573770492,0.9836065573770492,0.9836065573770492,0.9836065573770492,0.9836065573770492,0.9836065573770492,0.9836065573770492,0.9836065573770492,0.9836065573770492,0.9836065573770492,0.9836065573770492,0.9836065573770492,0.9836065573770492,0.9836065573770492,0.9836065573770492,0.9836065573770492,0.9836065573770492,0.9836065573770492,0.9836065573770492,0.9836065573770492,0.9836065573770492,0.9836065573770492,0.9836065573770492,0.9836065573770492,0.9836065573770492,0.9836065573770492,0.9836065573770492,0.9836065573770492,4.918032786885246,0.9836065573770492,0.9836065573770492,1.9672131147540983,0.040983606557377046,0.040983606557377046,0.9836065573770492,0.9836065573770492,0.9836065573770492,0.9836065573770492,0.040983606557377046,0.040983606557377046,0.040983606557377046,0.040983606557377046,0.030737704918032786,0.030737704918032786,0.030737704918032786,0.16393442622950818,0.06147540983606557,0.040983606557377046,0.040983606557377046,0.040983606557377046,0.040983606557377046,0.030737704918032786,0.030737704918032786,0.030737704918032786,0.12295081967213115,0.040983606557377046,0.040983606557377046,0.040983606557377046,0.020491803278688523,0.040983606557377046,0.9836065573770492,0.05122950819672131,0.040983606557377046,0.040983606557377046,0.030737704918032786,0.040983606557377046,0.030737704918032786,0.030737704918032786,0.08196721311475409,0.040983606557377046,3.9344262295081966,0.03415300546448087,0.040983606557377046,0.16393442622950818,0.030737704918032786,0.05122950819672131,0.027322404371584702,0.040983606557377046,0.040983606557377046,0.040983606557377046,2.9508196721311477,0.010245901639344262,0.040983606557377046,0.19672131147540983,0.040983606557377046,0.040983606557377046,0.040983606557377046,0.040983606557377046,0.040983606557377046,0.06147540983606557,0.020491803278688523,0.05122950819672131,0.030737704918032786,0.040983606557377046,0.030737704918032786,0.020491803278688523,0.05122950819672131,0.05122950819672131,0.030737704918032786,0.030737704918032786,0.040983606557377046,0.030737704918032786,0.030737704918032786,0.040983606557377046,0.040983606557377046,0.040983606557377046,0.040983606557377046,0.040983606557377046,0.040983606557377046,0.040983606557377046,0.040983606557377046,0.040983606557377046,0.040983606557377046,0.040983606557377046,0.040983606557377046,0.040983606557377046,0.2459016393442623,0.030737704918032786,0.040983606557377046,0.1434426229508197,0.040983606557377046,0.12295081967213115,0.040983606557377046,0.030737704918032786,0.020491803278688523,0.030737704918032786,0.040983606557377046,0.040983606557377046,0.030737704918032786,0.06147540983606557,0.040983606557377046,0.020491803278688523,0.040983606557377046,0.06147540983606557,0.2868852459016394,0.020491803278688523,0.16393442622950818,0.040983606557377046,0.040983606557377046,0.040983606557377046,0.040983606557377046,0.040983606557377046,0.040983606557377046,0.040983606557377046,0.040983606557377046,0.040983606557377046,0.040983606557377046,0.040983606557377046,0.040983606557377046,0.040983606557377046,0.040983606557377046,0.040983606557377046,0.05122950819672131,0.030737704918032786,0.05122950819672131,0.030737704918032786,0.32786885245901637,0.3381147540983606,0.9836065573770492,0.040983606557377046,0.030737704918032786,0.040983606557377046,0.040983606557377046,0.040983606557377046,0.040983606557377046,0.040983606557377046,0.040983606557377046,0.040983606557377046,0.040983606557377046,0.040983606557377046,0.040983606557377046,0.040983606557377046,0.040983606557377046,0.020491803278688523,0.040983606557377046,0.020491803278688523,0.040983606557377046,0.030737704918032786,0.040983606557377046,0.020491803278688523,0.08196721311475409,0.040983606557377046,0.26639344262295084,0.26639344262295084,0.26639344262295084,0.020491803278688523,0.020491803278688523,0.020491803278688523,0.020491803278688523,0.020491803278688523,0.020491803278688523,0.020491803278688523,0.020491803278688523,0.020491803278688523,0.020491803278688523,0.020491803278688523,0.020491803278688523,0.020491803278688523,0.020491803278688523,0.020491803278688523,0.06147540983606557,0.010245901639344262,0.010245901639344262,0.010245901639344262,0.010245901639344262,0.010245901639344262,0.010245901639344262,0.010245901639344262,0.010245901639344262,0.010245901639344262,0.010245901639344262,0.010245901639344262,0.040983606557377046,0.030737704918032786,0.040983606557377046,0.040983606557377046,0.040983606557377046,0.040983606557377046,0.040983606557377046,0.040983606557377046,0.040983606557377046,0.040983606557377046,0.040983606557377046,0.040983606557377046,0.040983606557377046,0.040983606557377046,0.040983606557377046,0.040983606557377046,0.040983606557377046,0.040983606557377046,0.040983606557377046,0.040983606557377046,0.030737704918032786,0.06147540983606557,0.030737704918032786,0.08196721311475409,0.020491803278688523,0.9836065573770492,0.040983606557377046,2.9508196721311477,0.040983606557377046,0.040983606557377046,0.2868852459016394,0.06147540983606557,0.20491803278688525,49.180327868852466,0.040983606557377046,0.040983606557377046,0.040983606557377046,0.040983606557377046,0.040983606557377046,0.040983606557377046,0.9836065573770492,0.9836065573770492,0.10245901639344263,0.040983606557377046,0.040983606557377046,0.020491803278688523,0.040983606557377046,0.020491803278688523,0.020491803278688523,0.040983606557377046,0.020491803278688523,0.040983606557377046,0.040983606557377046,0.040983606557377046,0.040983606557377046,0.030737704918032786,0.08196721311475409,0.08196721311475409,0.06147540983606557,0.08196721311475409,0.040983606557377046,0.040983606557377046,0.040983606557377046,0.9836065573770492,0.040983606557377046,0.040983606557377046,0.040983606557377046,0.040983606557377046,0.040983606557377046,0.040983606557377046,0.040983606557377046,0.040983606557377046,0.020491803278688523,2.9508196721311477,2.9508196721311477,0.040983606557377046,0.06147540983606557,0.040983606557377046,0.040983606557377046,0.040983606557377046,0.040983606557377046,0.040983606557377046,0.040983606557377046,0.040983606557377046,0.040983606557377046,0.3483606557377049,0.3483606557377049,0.06147540983606557,0.16393442622950818,0.040983606557377046,0.040983606557377046,0.040983606557377046,0.040983606557377046,0.030737704918032786,0.020491803278688523,0.06147540983606557,0.10245901639344263,0.9836065573770492,0.06147540983606557,0.06147540983606557,0.06147540983606557,0.06147540983606557,0.030737704918032786,0.040983606557377046,0.040983606557377046,0.040983606557377046,0.040983606557377046,0.040983606557377046,0.040983606557377046,0.040983606557377046,0.040983606557377046,0.040983606557377046,0.040983606557377046,0.040983606557377046,0.040983606557377046,0.040983606557377046,0.040983606557377046,0.040983606557377046,0.040983606557377046,0.040983606557377046,0.040983606557377046,0.040983606557377046,0.040983606557377046,0.040983606557377046,0.040983606557377046,0.040983606557377046,0.040983606557377046,0.040983606557377046,0.040983606557377046,0.040983606557377046,0.040983606557377046,0.040983606557377046,0.040983606557377046,0.040983606557377046,0.040983606557377046,0.040983606557377046,0.040983606557377046,0.040983606557377046,0.040983606557377046,0.06147540983606557,0.030737704918032786,4.918032786885246,0.9836065573770492,0.040983606557377046,0.040983606557377046,0.040983606557377046,0.040983606557377046,0.040983606557377046,0.040983606557377046,0.040983606557377046,0.040983606557377046,0.040983606557377046,0.040983606557377046,0.040983606557377046,0.040983606557377046,0.040983606557377046,0.040983606557377046,0.040983606557377046,0.040983606557377046,0.06147540983606557,0.9836065573770492,0.9836065573770492,0.9836065573770492,0.9836065573770492,0.9836065573770492,0.040983606557377046,0.9836065573770492,0.9836065573770492,0.9836065573770492,0.9836065573770492,0.9836065573770492,0.9836065573770492,0.9836065573770492,0.9836065573770492,0.9836065573770492,0.9836065573770492,0.9836065573770492,0.9836065573770492,0.9836065573770492,0.9836065573770492,0.9836065573770492,0.9836065573770492,0.9836065573770492,0.9836065573770492,0.9836065573770492,0.9836065573770492,0.9836065573770492,0.9836065573770492,0.9836065573770492,0.9836065573770492,0.9836065573770492,0.9836065573770492,0.9836065573770492,0.9836065573770492,0.9836065573770492,0.9836065573770492,0.9836065573770492,0.9836065573770492,0.9836065573770492,0.9836065573770492,0.020491803278688523,0.020491803278688523,0.020491803278688523,0.020491803278688523,0.020491803278688523,0.020491803278688523,0.020491803278688523,0.020491803278688523,0.020491803278688523,0.020491803278688523,0.020491803278688523,0.020491803278688523,0.040983606557377046,0.010245901639344262,0.020491803278688523,0.020491803278688523,0.020491803278688523,0.020491803278688523,0.020491803278688523],\"type\":\"barpolar\"}],                        {\"template\":{\"data\":{\"histogram2dcontour\":[{\"type\":\"histogram2dcontour\",\"colorbar\":{\"outlinewidth\":0,\"ticks\":\"\"},\"colorscale\":[[0.0,\"#0d0887\"],[0.1111111111111111,\"#46039f\"],[0.2222222222222222,\"#7201a8\"],[0.3333333333333333,\"#9c179e\"],[0.4444444444444444,\"#bd3786\"],[0.5555555555555556,\"#d8576b\"],[0.6666666666666666,\"#ed7953\"],[0.7777777777777778,\"#fb9f3a\"],[0.8888888888888888,\"#fdca26\"],[1.0,\"#f0f921\"]]}],\"choropleth\":[{\"type\":\"choropleth\",\"colorbar\":{\"outlinewidth\":0,\"ticks\":\"\"}}],\"histogram2d\":[{\"type\":\"histogram2d\",\"colorbar\":{\"outlinewidth\":0,\"ticks\":\"\"},\"colorscale\":[[0.0,\"#0d0887\"],[0.1111111111111111,\"#46039f\"],[0.2222222222222222,\"#7201a8\"],[0.3333333333333333,\"#9c179e\"],[0.4444444444444444,\"#bd3786\"],[0.5555555555555556,\"#d8576b\"],[0.6666666666666666,\"#ed7953\"],[0.7777777777777778,\"#fb9f3a\"],[0.8888888888888888,\"#fdca26\"],[1.0,\"#f0f921\"]]}],\"heatmap\":[{\"type\":\"heatmap\",\"colorbar\":{\"outlinewidth\":0,\"ticks\":\"\"},\"colorscale\":[[0.0,\"#0d0887\"],[0.1111111111111111,\"#46039f\"],[0.2222222222222222,\"#7201a8\"],[0.3333333333333333,\"#9c179e\"],[0.4444444444444444,\"#bd3786\"],[0.5555555555555556,\"#d8576b\"],[0.6666666666666666,\"#ed7953\"],[0.7777777777777778,\"#fb9f3a\"],[0.8888888888888888,\"#fdca26\"],[1.0,\"#f0f921\"]]}],\"heatmapgl\":[{\"type\":\"heatmapgl\",\"colorbar\":{\"outlinewidth\":0,\"ticks\":\"\"},\"colorscale\":[[0.0,\"#0d0887\"],[0.1111111111111111,\"#46039f\"],[0.2222222222222222,\"#7201a8\"],[0.3333333333333333,\"#9c179e\"],[0.4444444444444444,\"#bd3786\"],[0.5555555555555556,\"#d8576b\"],[0.6666666666666666,\"#ed7953\"],[0.7777777777777778,\"#fb9f3a\"],[0.8888888888888888,\"#fdca26\"],[1.0,\"#f0f921\"]]}],\"contourcarpet\":[{\"type\":\"contourcarpet\",\"colorbar\":{\"outlinewidth\":0,\"ticks\":\"\"}}],\"contour\":[{\"type\":\"contour\",\"colorbar\":{\"outlinewidth\":0,\"ticks\":\"\"},\"colorscale\":[[0.0,\"#0d0887\"],[0.1111111111111111,\"#46039f\"],[0.2222222222222222,\"#7201a8\"],[0.3333333333333333,\"#9c179e\"],[0.4444444444444444,\"#bd3786\"],[0.5555555555555556,\"#d8576b\"],[0.6666666666666666,\"#ed7953\"],[0.7777777777777778,\"#fb9f3a\"],[0.8888888888888888,\"#fdca26\"],[1.0,\"#f0f921\"]]}],\"surface\":[{\"type\":\"surface\",\"colorbar\":{\"outlinewidth\":0,\"ticks\":\"\"},\"colorscale\":[[0.0,\"#0d0887\"],[0.1111111111111111,\"#46039f\"],[0.2222222222222222,\"#7201a8\"],[0.3333333333333333,\"#9c179e\"],[0.4444444444444444,\"#bd3786\"],[0.5555555555555556,\"#d8576b\"],[0.6666666666666666,\"#ed7953\"],[0.7777777777777778,\"#fb9f3a\"],[0.8888888888888888,\"#fdca26\"],[1.0,\"#f0f921\"]]}],\"mesh3d\":[{\"type\":\"mesh3d\",\"colorbar\":{\"outlinewidth\":0,\"ticks\":\"\"}}],\"scatter\":[{\"fillpattern\":{\"fillmode\":\"overlay\",\"size\":10,\"solidity\":0.2},\"type\":\"scatter\"}],\"parcoords\":[{\"type\":\"parcoords\",\"line\":{\"colorbar\":{\"outlinewidth\":0,\"ticks\":\"\"}}}],\"scatterpolargl\":[{\"type\":\"scatterpolargl\",\"marker\":{\"colorbar\":{\"outlinewidth\":0,\"ticks\":\"\"}}}],\"bar\":[{\"error_x\":{\"color\":\"#2a3f5f\"},\"error_y\":{\"color\":\"#2a3f5f\"},\"marker\":{\"line\":{\"color\":\"#E5ECF6\",\"width\":0.5},\"pattern\":{\"fillmode\":\"overlay\",\"size\":10,\"solidity\":0.2}},\"type\":\"bar\"}],\"scattergeo\":[{\"type\":\"scattergeo\",\"marker\":{\"colorbar\":{\"outlinewidth\":0,\"ticks\":\"\"}}}],\"scatterpolar\":[{\"type\":\"scatterpolar\",\"marker\":{\"colorbar\":{\"outlinewidth\":0,\"ticks\":\"\"}}}],\"histogram\":[{\"marker\":{\"pattern\":{\"fillmode\":\"overlay\",\"size\":10,\"solidity\":0.2}},\"type\":\"histogram\"}],\"scattergl\":[{\"type\":\"scattergl\",\"marker\":{\"colorbar\":{\"outlinewidth\":0,\"ticks\":\"\"}}}],\"scatter3d\":[{\"type\":\"scatter3d\",\"line\":{\"colorbar\":{\"outlinewidth\":0,\"ticks\":\"\"}},\"marker\":{\"colorbar\":{\"outlinewidth\":0,\"ticks\":\"\"}}}],\"scattermapbox\":[{\"type\":\"scattermapbox\",\"marker\":{\"colorbar\":{\"outlinewidth\":0,\"ticks\":\"\"}}}],\"scatterternary\":[{\"type\":\"scatterternary\",\"marker\":{\"colorbar\":{\"outlinewidth\":0,\"ticks\":\"\"}}}],\"scattercarpet\":[{\"type\":\"scattercarpet\",\"marker\":{\"colorbar\":{\"outlinewidth\":0,\"ticks\":\"\"}}}],\"carpet\":[{\"aaxis\":{\"endlinecolor\":\"#2a3f5f\",\"gridcolor\":\"white\",\"linecolor\":\"white\",\"minorgridcolor\":\"white\",\"startlinecolor\":\"#2a3f5f\"},\"baxis\":{\"endlinecolor\":\"#2a3f5f\",\"gridcolor\":\"white\",\"linecolor\":\"white\",\"minorgridcolor\":\"white\",\"startlinecolor\":\"#2a3f5f\"},\"type\":\"carpet\"}],\"table\":[{\"cells\":{\"fill\":{\"color\":\"#EBF0F8\"},\"line\":{\"color\":\"white\"}},\"header\":{\"fill\":{\"color\":\"#C8D4E3\"},\"line\":{\"color\":\"white\"}},\"type\":\"table\"}],\"barpolar\":[{\"marker\":{\"line\":{\"color\":\"#E5ECF6\",\"width\":0.5},\"pattern\":{\"fillmode\":\"overlay\",\"size\":10,\"solidity\":0.2}},\"type\":\"barpolar\"}],\"pie\":[{\"automargin\":true,\"type\":\"pie\"}]},\"layout\":{\"autotypenumbers\":\"strict\",\"colorway\":[\"#636efa\",\"#EF553B\",\"#00cc96\",\"#ab63fa\",\"#FFA15A\",\"#19d3f3\",\"#FF6692\",\"#B6E880\",\"#FF97FF\",\"#FECB52\"],\"font\":{\"color\":\"#2a3f5f\"},\"hovermode\":\"closest\",\"hoverlabel\":{\"align\":\"left\"},\"paper_bgcolor\":\"white\",\"plot_bgcolor\":\"#E5ECF6\",\"polar\":{\"bgcolor\":\"#E5ECF6\",\"angularaxis\":{\"gridcolor\":\"white\",\"linecolor\":\"white\",\"ticks\":\"\"},\"radialaxis\":{\"gridcolor\":\"white\",\"linecolor\":\"white\",\"ticks\":\"\"}},\"ternary\":{\"bgcolor\":\"#E5ECF6\",\"aaxis\":{\"gridcolor\":\"white\",\"linecolor\":\"white\",\"ticks\":\"\"},\"baxis\":{\"gridcolor\":\"white\",\"linecolor\":\"white\",\"ticks\":\"\"},\"caxis\":{\"gridcolor\":\"white\",\"linecolor\":\"white\",\"ticks\":\"\"}},\"coloraxis\":{\"colorbar\":{\"outlinewidth\":0,\"ticks\":\"\"}},\"colorscale\":{\"sequential\":[[0.0,\"#0d0887\"],[0.1111111111111111,\"#46039f\"],[0.2222222222222222,\"#7201a8\"],[0.3333333333333333,\"#9c179e\"],[0.4444444444444444,\"#bd3786\"],[0.5555555555555556,\"#d8576b\"],[0.6666666666666666,\"#ed7953\"],[0.7777777777777778,\"#fb9f3a\"],[0.8888888888888888,\"#fdca26\"],[1.0,\"#f0f921\"]],\"sequentialminus\":[[0.0,\"#0d0887\"],[0.1111111111111111,\"#46039f\"],[0.2222222222222222,\"#7201a8\"],[0.3333333333333333,\"#9c179e\"],[0.4444444444444444,\"#bd3786\"],[0.5555555555555556,\"#d8576b\"],[0.6666666666666666,\"#ed7953\"],[0.7777777777777778,\"#fb9f3a\"],[0.8888888888888888,\"#fdca26\"],[1.0,\"#f0f921\"]],\"diverging\":[[0,\"#8e0152\"],[0.1,\"#c51b7d\"],[0.2,\"#de77ae\"],[0.3,\"#f1b6da\"],[0.4,\"#fde0ef\"],[0.5,\"#f7f7f7\"],[0.6,\"#e6f5d0\"],[0.7,\"#b8e186\"],[0.8,\"#7fbc41\"],[0.9,\"#4d9221\"],[1,\"#276419\"]]},\"xaxis\":{\"gridcolor\":\"white\",\"linecolor\":\"white\",\"ticks\":\"\",\"title\":{\"standoff\":15},\"zerolinecolor\":\"white\",\"automargin\":true,\"zerolinewidth\":2},\"yaxis\":{\"gridcolor\":\"white\",\"linecolor\":\"white\",\"ticks\":\"\",\"title\":{\"standoff\":15},\"zerolinecolor\":\"white\",\"automargin\":true,\"zerolinewidth\":2},\"scene\":{\"xaxis\":{\"backgroundcolor\":\"#E5ECF6\",\"gridcolor\":\"white\",\"linecolor\":\"white\",\"showbackground\":true,\"ticks\":\"\",\"zerolinecolor\":\"white\",\"gridwidth\":2},\"yaxis\":{\"backgroundcolor\":\"#E5ECF6\",\"gridcolor\":\"white\",\"linecolor\":\"white\",\"showbackground\":true,\"ticks\":\"\",\"zerolinecolor\":\"white\",\"gridwidth\":2},\"zaxis\":{\"backgroundcolor\":\"#E5ECF6\",\"gridcolor\":\"white\",\"linecolor\":\"white\",\"showbackground\":true,\"ticks\":\"\",\"zerolinecolor\":\"white\",\"gridwidth\":2}},\"shapedefaults\":{\"line\":{\"color\":\"#2a3f5f\"}},\"annotationdefaults\":{\"arrowcolor\":\"#2a3f5f\",\"arrowhead\":0,\"arrowwidth\":1},\"geo\":{\"bgcolor\":\"white\",\"landcolor\":\"#E5ECF6\",\"subunitcolor\":\"white\",\"showland\":true,\"showlakes\":true,\"lakecolor\":\"white\"},\"title\":{\"x\":0.05},\"mapbox\":{\"style\":\"light\"}}},\"height\":800},                        {\"responsive\": true}                    ).then(function(){\n",
       "                            \n",
       "var gd = document.getElementById('c64b5767-9542-4f14-a752-dc40dedcc34e');\n",
       "var x = new MutationObserver(function (mutations, observer) {{\n",
       "        var display = window.getComputedStyle(gd).display;\n",
       "        if (!display || display === 'none') {{\n",
       "            console.log([gd, 'removed!']);\n",
       "            Plotly.purge(gd);\n",
       "            observer.disconnect();\n",
       "        }}\n",
       "}});\n",
       "\n",
       "// Listen for the removal of the full notebook cells\n",
       "var notebookContainer = gd.closest('#notebook-container');\n",
       "if (notebookContainer) {{\n",
       "    x.observe(notebookContainer, {childList: true});\n",
       "}}\n",
       "\n",
       "// Listen for the clearing of the current output cell\n",
       "var outputEl = gd.closest('.output');\n",
       "if (outputEl) {{\n",
       "    x.observe(outputEl, {childList: true});\n",
       "}}\n",
       "\n",
       "                        })                };                });            </script>        </div>"
      ]
     },
     "metadata": {},
     "output_type": "display_data"
    }
   ],
   "source": [
    "dring = df\n",
    "try:\n",
    "    del f\n",
    "except NameError:\n",
    "    pass\n",
    "    \n",
    "f = go.Figure(go.Barpolar(theta=df.midtheta, r=df.r, width=df.width, #base=df.rbase,\n",
    "                          text=df.summary, marker_color=df.color))\n",
    "f.update_layout(height=800)\n",
    "f.show()"
   ]
  },
  {
   "cell_type": "code",
   "execution_count": 33,
   "id": "0059e5fe-11a0-4ee7-84b9-3862abf7b3ac",
   "metadata": {},
   "outputs": [
    {
     "data": {
      "text/html": [
       "<div>\n",
       "<style scoped>\n",
       "    .dataframe tbody tr th:only-of-type {\n",
       "        vertical-align: middle;\n",
       "    }\n",
       "\n",
       "    .dataframe tbody tr th {\n",
       "        vertical-align: top;\n",
       "    }\n",
       "\n",
       "    .dataframe thead th {\n",
       "        text-align: right;\n",
       "    }\n",
       "</style>\n",
       "<table border=\"1\" class=\"dataframe\">\n",
       "  <thead>\n",
       "    <tr style=\"text-align: right;\">\n",
       "      <th></th>\n",
       "      <th>name</th>\n",
       "    </tr>\n",
       "  </thead>\n",
       "  <tbody>\n",
       "    <tr>\n",
       "      <th>(0 days 00:00:00, 1 days 00:00:00]</th>\n",
       "      <td>hours</td>\n",
       "    </tr>\n",
       "    <tr>\n",
       "      <th>(1 days 00:00:00, 1 days 00:00:00]</th>\n",
       "      <td>day</td>\n",
       "    </tr>\n",
       "    <tr>\n",
       "      <th>(1 days 00:00:00, 7 days 00:00:00]</th>\n",
       "      <td>days</td>\n",
       "    </tr>\n",
       "    <tr>\n",
       "      <th>(7 days 00:00:00, 31 days 00:00:00]</th>\n",
       "      <td>weeks</td>\n",
       "    </tr>\n",
       "    <tr>\n",
       "      <th>(31 days 00:00:00, 365 days 00:00:00]</th>\n",
       "      <td>months</td>\n",
       "    </tr>\n",
       "  </tbody>\n",
       "</table>\n",
       "</div>"
      ],
      "text/plain": [
       "                                         name\n",
       "(0 days 00:00:00, 1 days 00:00:00]      hours\n",
       "(1 days 00:00:00, 1 days 00:00:00]        day\n",
       "(1 days 00:00:00, 7 days 00:00:00]       days\n",
       "(7 days 00:00:00, 31 days 00:00:00]     weeks\n",
       "(31 days 00:00:00, 365 days 00:00:00]  months"
      ]
     },
     "execution_count": 33,
     "metadata": {},
     "output_type": "execute_result"
    }
   ],
   "source": [
    "intervalsdf"
   ]
  },
  {
   "cell_type": "code",
   "execution_count": 53,
   "id": "d3ce6b81-f548-4d38-aa86-f9ce0c1e6a18",
   "metadata": {},
   "outputs": [
    {
     "data": {
      "text/plain": [
       "array([0.2 , 0.36, 0.52, 0.68, 0.84, 1.  ])"
      ]
     },
     "execution_count": 53,
     "metadata": {},
     "output_type": "execute_result"
    }
   ],
   "source": [
    "np.linspace(1 / len(intervalsdf), 1, len(intervalsdf)+1)"
   ]
  },
  {
   "cell_type": "code",
   "execution_count": 41,
   "id": "ff22f425-e7eb-4f7d-b3d2-b1615d802853",
   "metadata": {},
   "outputs": [
    {
     "ename": "AttributeError",
     "evalue": "'numpy.ndarray' object has no attribute 'items'",
     "output_type": "error",
     "traceback": [
      "\u001b[0;31m---------------------------------------------------------------------------\u001b[0m",
      "\u001b[0;31mAttributeError\u001b[0m                            Traceback (most recent call last)",
      "Cell \u001b[0;32mIn[41], line 1\u001b[0m\n\u001b[0;32m----> 1\u001b[0m rvalues \u001b[38;5;241m=\u001b[39m \u001b[38;5;28mlist\u001b[39m(\u001b[43mnp\u001b[49m\u001b[38;5;241;43m.\u001b[39;49m\u001b[43mlinspace\u001b[49m\u001b[43m(\u001b[49m\u001b[38;5;241;43m0\u001b[39;49m\u001b[43m,\u001b[49m\u001b[43m \u001b[49m\u001b[38;5;241;43m1\u001b[39;49m\u001b[43m,\u001b[49m\u001b[43m \u001b[49m\u001b[38;5;28;43mlen\u001b[39;49m\u001b[43m(\u001b[49m\u001b[43mintervalsdf\u001b[49m\u001b[43m)\u001b[49m\u001b[38;5;241;43m+\u001b[39;49m\u001b[38;5;241;43m1\u001b[39;49m\u001b[43m)\u001b[49m\u001b[38;5;241;43m.\u001b[39;49m\u001b[43mitems\u001b[49m)\n",
      "\u001b[0;31mAttributeError\u001b[0m: 'numpy.ndarray' object has no attribute 'items'"
     ]
    }
   ],
   "source": []
  },
  {
   "cell_type": "code",
   "execution_count": 37,
   "id": "7cc301a3-8454-41df-9985-65a76fd30de1",
   "metadata": {},
   "outputs": [
    {
     "data": {
      "text/plain": [
       "[np.float64(0.0),\n",
       " np.float64(0.2),\n",
       " np.float64(0.4),\n",
       " np.float64(0.6000000000000001),\n",
       " np.float64(0.8),\n",
       " np.float64(1.0)]"
      ]
     },
     "execution_count": 37,
     "metadata": {},
     "output_type": "execute_result"
    }
   ],
   "source": [
    "rvalues"
   ]
  },
  {
   "cell_type": "code",
   "execution_count": 109,
   "id": "9184ba35-8230-4b42-9818-81d133675fb8",
   "metadata": {},
   "outputs": [
    {
     "data": {
      "text/plain": [
       "0.0"
      ]
     },
     "execution_count": 109,
     "metadata": {},
     "output_type": "execute_result"
    }
   ],
   "source": [
    "rvalues.item(0)"
   ]
  },
  {
   "cell_type": "code",
   "execution_count": 111,
   "id": "708c98ec-f296-4f86-a7b8-1bf061524993",
   "metadata": {},
   "outputs": [],
   "source": [
    "    rvalues = np.linspace(0, 1, len(intervalsdf)+1)\n",
    "    idf = intervalsdf.reset_index()"
   ]
  },
  {
   "cell_type": "code",
   "execution_count": 112,
   "id": "5655f914-d2b1-43e7-9f5b-53beb7e78bba",
   "metadata": {},
   "outputs": [
    {
     "data": {
      "text/html": [
       "<div>\n",
       "<style scoped>\n",
       "    .dataframe tbody tr th:only-of-type {\n",
       "        vertical-align: middle;\n",
       "    }\n",
       "\n",
       "    .dataframe tbody tr th {\n",
       "        vertical-align: top;\n",
       "    }\n",
       "\n",
       "    .dataframe thead th {\n",
       "        text-align: right;\n",
       "    }\n",
       "</style>\n",
       "<table border=\"1\" class=\"dataframe\">\n",
       "  <thead>\n",
       "    <tr style=\"text-align: right;\">\n",
       "      <th></th>\n",
       "      <th>index</th>\n",
       "      <th>name</th>\n",
       "    </tr>\n",
       "  </thead>\n",
       "  <tbody>\n",
       "    <tr>\n",
       "      <th>0</th>\n",
       "      <td>(0 days 00:00:00, 1 days 00:00:00]</td>\n",
       "      <td>hours</td>\n",
       "    </tr>\n",
       "    <tr>\n",
       "      <th>1</th>\n",
       "      <td>(1 days 00:00:00, 1 days 00:00:00]</td>\n",
       "      <td>day</td>\n",
       "    </tr>\n",
       "    <tr>\n",
       "      <th>2</th>\n",
       "      <td>(1 days 00:00:00, 7 days 00:00:00]</td>\n",
       "      <td>days</td>\n",
       "    </tr>\n",
       "    <tr>\n",
       "      <th>3</th>\n",
       "      <td>(7 days 00:00:00, 31 days 00:00:00]</td>\n",
       "      <td>weeks</td>\n",
       "    </tr>\n",
       "    <tr>\n",
       "      <th>4</th>\n",
       "      <td>(31 days 00:00:00, 365 days 00:00:00]</td>\n",
       "      <td>months</td>\n",
       "    </tr>\n",
       "  </tbody>\n",
       "</table>\n",
       "</div>"
      ],
      "text/plain": [
       "                                   index    name\n",
       "0     (0 days 00:00:00, 1 days 00:00:00]   hours\n",
       "1     (1 days 00:00:00, 1 days 00:00:00]     day\n",
       "2     (1 days 00:00:00, 7 days 00:00:00]    days\n",
       "3    (7 days 00:00:00, 31 days 00:00:00]   weeks\n",
       "4  (31 days 00:00:00, 365 days 00:00:00]  months"
      ]
     },
     "execution_count": 112,
     "metadata": {},
     "output_type": "execute_result"
    }
   ],
   "source": [
    "idf"
   ]
  },
  {
   "cell_type": "code",
   "execution_count": 114,
   "id": "e8f9be40-4d77-443b-9e94-b53899f744cc",
   "metadata": {},
   "outputs": [
    {
     "data": {
      "text/plain": [
       "0.0"
      ]
     },
     "execution_count": 114,
     "metadata": {},
     "output_type": "execute_result"
    }
   ],
   "source": [
    "rvalues.item(0)"
   ]
  },
  {
   "cell_type": "code",
   "execution_count": 123,
   "id": "566255f6-b13e-4a96-804c-1fab7259bb41",
   "metadata": {},
   "outputs": [
    {
     "data": {
      "text/plain": [
       "1"
      ]
     },
     "execution_count": 123,
     "metadata": {},
     "output_type": "execute_result"
    }
   ],
   "source": [
    "int(idf[idf[\"name\"]==\"day\"].index.values[0])"
   ]
  },
  {
   "cell_type": "code",
   "execution_count": 27,
   "id": "29917648-5852-46e5-8476-9d6b0e1853fb",
   "metadata": {},
   "outputs": [
    {
     "data": {
      "text/html": [
       "<div>\n",
       "<style scoped>\n",
       "    .dataframe tbody tr th:only-of-type {\n",
       "        vertical-align: middle;\n",
       "    }\n",
       "\n",
       "    .dataframe tbody tr th {\n",
       "        vertical-align: top;\n",
       "    }\n",
       "\n",
       "    .dataframe thead th {\n",
       "        text-align: right;\n",
       "    }\n",
       "</style>\n",
       "<table border=\"1\" class=\"dataframe\">\n",
       "  <thead>\n",
       "    <tr style=\"text-align: right;\">\n",
       "      <th></th>\n",
       "      <th>name</th>\n",
       "    </tr>\n",
       "  </thead>\n",
       "  <tbody>\n",
       "    <tr>\n",
       "      <th>(0 days 00:00:00, 1 days 00:00:00]</th>\n",
       "      <td>hours</td>\n",
       "    </tr>\n",
       "  </tbody>\n",
       "</table>\n",
       "</div>"
      ],
      "text/plain": [
       "                                     name\n",
       "(0 days 00:00:00, 1 days 00:00:00]  hours"
      ]
     },
     "execution_count": 27,
     "metadata": {},
     "output_type": "execute_result"
    }
   ],
   "source": [
    "intervalsdf[intervalsdf.name == \"hours\"]"
   ]
  },
  {
   "cell_type": "code",
   "execution_count": 47,
   "id": "944a08ac-4cc9-4c91-9858-d1355d51f929",
   "metadata": {},
   "outputs": [
    {
     "data": {
      "text/plain": [
       "{'idx': {'hours': 0, 'day': 1, 'days': 2, 'weeks': 3, 'months': 4}}"
      ]
     },
     "execution_count": 47,
     "metadata": {},
     "output_type": "execute_result"
    }
   ],
   "source": [
    "intervalsdf.reset_index().reset_index().set_index(\"name\").rename(columns={\"level_0\": \"idx\"}).drop(columns=\"index\").to_dict()"
   ]
  },
  {
   "cell_type": "code",
   "execution_count": 50,
   "id": "495422b8-ca95-405b-a1b7-29399e02bdc3",
   "metadata": {},
   "outputs": [],
   "source": [
    "    rvalues = reversed(range(1, len(intervalsdf)))"
   ]
  },
  {
   "cell_type": "code",
   "execution_count": 52,
   "id": "13f7ecb0-f90d-45f0-8a49-e7cd415033f1",
   "metadata": {},
   "outputs": [
    {
     "data": {
      "text/plain": [
       "[4, 3, 2, 1]"
      ]
     },
     "execution_count": 52,
     "metadata": {},
     "output_type": "execute_result"
    }
   ],
   "source": []
  },
  {
   "cell_type": "code",
   "execution_count": 32,
   "id": "c9c27e50-fa68-45ee-9950-f1090d609b06",
   "metadata": {},
   "outputs": [
    {
     "data": {
      "application/vnd.plotly.v1+json": {
       "config": {
        "plotlyServerURL": "https://plot.ly"
       },
       "data": [
        {
         "base": [
          0,
          0.5,
          1
         ],
         "r": [
          0.5,
          1,
          2
         ],
         "theta": [
          0,
          90,
          180
         ],
         "type": "barpolar",
         "width": 20
        }
       ],
       "layout": {
        "autosize": true,
        "polar": {
         "angularaxis": {
          "type": "linear"
         },
         "radialaxis": {
          "autorange": true,
          "range": [
           0,
           3.1578947368421053
          ],
          "type": "linear"
         }
        },
        "template": {
         "data": {
          "bar": [
           {
            "error_x": {
             "color": "#2a3f5f"
            },
            "error_y": {
             "color": "#2a3f5f"
            },
            "marker": {
             "line": {
              "color": "#E5ECF6",
              "width": 0.5
             },
             "pattern": {
              "fillmode": "overlay",
              "size": 10,
              "solidity": 0.2
             }
            },
            "type": "bar"
           }
          ],
          "barpolar": [
           {
            "marker": {
             "line": {
              "color": "#E5ECF6",
              "width": 0.5
             },
             "pattern": {
              "fillmode": "overlay",
              "size": 10,
              "solidity": 0.2
             }
            },
            "type": "barpolar"
           }
          ],
          "carpet": [
           {
            "aaxis": {
             "endlinecolor": "#2a3f5f",
             "gridcolor": "white",
             "linecolor": "white",
             "minorgridcolor": "white",
             "startlinecolor": "#2a3f5f"
            },
            "baxis": {
             "endlinecolor": "#2a3f5f",
             "gridcolor": "white",
             "linecolor": "white",
             "minorgridcolor": "white",
             "startlinecolor": "#2a3f5f"
            },
            "type": "carpet"
           }
          ],
          "choropleth": [
           {
            "colorbar": {
             "outlinewidth": 0,
             "ticks": ""
            },
            "type": "choropleth"
           }
          ],
          "contour": [
           {
            "colorbar": {
             "outlinewidth": 0,
             "ticks": ""
            },
            "colorscale": [
             [
              0,
              "#0d0887"
             ],
             [
              0.1111111111111111,
              "#46039f"
             ],
             [
              0.2222222222222222,
              "#7201a8"
             ],
             [
              0.3333333333333333,
              "#9c179e"
             ],
             [
              0.4444444444444444,
              "#bd3786"
             ],
             [
              0.5555555555555556,
              "#d8576b"
             ],
             [
              0.6666666666666666,
              "#ed7953"
             ],
             [
              0.7777777777777778,
              "#fb9f3a"
             ],
             [
              0.8888888888888888,
              "#fdca26"
             ],
             [
              1,
              "#f0f921"
             ]
            ],
            "type": "contour"
           }
          ],
          "contourcarpet": [
           {
            "colorbar": {
             "outlinewidth": 0,
             "ticks": ""
            },
            "type": "contourcarpet"
           }
          ],
          "heatmap": [
           {
            "colorbar": {
             "outlinewidth": 0,
             "ticks": ""
            },
            "colorscale": [
             [
              0,
              "#0d0887"
             ],
             [
              0.1111111111111111,
              "#46039f"
             ],
             [
              0.2222222222222222,
              "#7201a8"
             ],
             [
              0.3333333333333333,
              "#9c179e"
             ],
             [
              0.4444444444444444,
              "#bd3786"
             ],
             [
              0.5555555555555556,
              "#d8576b"
             ],
             [
              0.6666666666666666,
              "#ed7953"
             ],
             [
              0.7777777777777778,
              "#fb9f3a"
             ],
             [
              0.8888888888888888,
              "#fdca26"
             ],
             [
              1,
              "#f0f921"
             ]
            ],
            "type": "heatmap"
           }
          ],
          "heatmapgl": [
           {
            "colorbar": {
             "outlinewidth": 0,
             "ticks": ""
            },
            "colorscale": [
             [
              0,
              "#0d0887"
             ],
             [
              0.1111111111111111,
              "#46039f"
             ],
             [
              0.2222222222222222,
              "#7201a8"
             ],
             [
              0.3333333333333333,
              "#9c179e"
             ],
             [
              0.4444444444444444,
              "#bd3786"
             ],
             [
              0.5555555555555556,
              "#d8576b"
             ],
             [
              0.6666666666666666,
              "#ed7953"
             ],
             [
              0.7777777777777778,
              "#fb9f3a"
             ],
             [
              0.8888888888888888,
              "#fdca26"
             ],
             [
              1,
              "#f0f921"
             ]
            ],
            "type": "heatmapgl"
           }
          ],
          "histogram": [
           {
            "marker": {
             "pattern": {
              "fillmode": "overlay",
              "size": 10,
              "solidity": 0.2
             }
            },
            "type": "histogram"
           }
          ],
          "histogram2d": [
           {
            "colorbar": {
             "outlinewidth": 0,
             "ticks": ""
            },
            "colorscale": [
             [
              0,
              "#0d0887"
             ],
             [
              0.1111111111111111,
              "#46039f"
             ],
             [
              0.2222222222222222,
              "#7201a8"
             ],
             [
              0.3333333333333333,
              "#9c179e"
             ],
             [
              0.4444444444444444,
              "#bd3786"
             ],
             [
              0.5555555555555556,
              "#d8576b"
             ],
             [
              0.6666666666666666,
              "#ed7953"
             ],
             [
              0.7777777777777778,
              "#fb9f3a"
             ],
             [
              0.8888888888888888,
              "#fdca26"
             ],
             [
              1,
              "#f0f921"
             ]
            ],
            "type": "histogram2d"
           }
          ],
          "histogram2dcontour": [
           {
            "colorbar": {
             "outlinewidth": 0,
             "ticks": ""
            },
            "colorscale": [
             [
              0,
              "#0d0887"
             ],
             [
              0.1111111111111111,
              "#46039f"
             ],
             [
              0.2222222222222222,
              "#7201a8"
             ],
             [
              0.3333333333333333,
              "#9c179e"
             ],
             [
              0.4444444444444444,
              "#bd3786"
             ],
             [
              0.5555555555555556,
              "#d8576b"
             ],
             [
              0.6666666666666666,
              "#ed7953"
             ],
             [
              0.7777777777777778,
              "#fb9f3a"
             ],
             [
              0.8888888888888888,
              "#fdca26"
             ],
             [
              1,
              "#f0f921"
             ]
            ],
            "type": "histogram2dcontour"
           }
          ],
          "mesh3d": [
           {
            "colorbar": {
             "outlinewidth": 0,
             "ticks": ""
            },
            "type": "mesh3d"
           }
          ],
          "parcoords": [
           {
            "line": {
             "colorbar": {
              "outlinewidth": 0,
              "ticks": ""
             }
            },
            "type": "parcoords"
           }
          ],
          "pie": [
           {
            "automargin": true,
            "type": "pie"
           }
          ],
          "scatter": [
           {
            "fillpattern": {
             "fillmode": "overlay",
             "size": 10,
             "solidity": 0.2
            },
            "type": "scatter"
           }
          ],
          "scatter3d": [
           {
            "line": {
             "colorbar": {
              "outlinewidth": 0,
              "ticks": ""
             }
            },
            "marker": {
             "colorbar": {
              "outlinewidth": 0,
              "ticks": ""
             }
            },
            "type": "scatter3d"
           }
          ],
          "scattercarpet": [
           {
            "marker": {
             "colorbar": {
              "outlinewidth": 0,
              "ticks": ""
             }
            },
            "type": "scattercarpet"
           }
          ],
          "scattergeo": [
           {
            "marker": {
             "colorbar": {
              "outlinewidth": 0,
              "ticks": ""
             }
            },
            "type": "scattergeo"
           }
          ],
          "scattergl": [
           {
            "marker": {
             "colorbar": {
              "outlinewidth": 0,
              "ticks": ""
             }
            },
            "type": "scattergl"
           }
          ],
          "scattermapbox": [
           {
            "marker": {
             "colorbar": {
              "outlinewidth": 0,
              "ticks": ""
             }
            },
            "type": "scattermapbox"
           }
          ],
          "scatterpolar": [
           {
            "marker": {
             "colorbar": {
              "outlinewidth": 0,
              "ticks": ""
             }
            },
            "type": "scatterpolar"
           }
          ],
          "scatterpolargl": [
           {
            "marker": {
             "colorbar": {
              "outlinewidth": 0,
              "ticks": ""
             }
            },
            "type": "scatterpolargl"
           }
          ],
          "scatterternary": [
           {
            "marker": {
             "colorbar": {
              "outlinewidth": 0,
              "ticks": ""
             }
            },
            "type": "scatterternary"
           }
          ],
          "surface": [
           {
            "colorbar": {
             "outlinewidth": 0,
             "ticks": ""
            },
            "colorscale": [
             [
              0,
              "#0d0887"
             ],
             [
              0.1111111111111111,
              "#46039f"
             ],
             [
              0.2222222222222222,
              "#7201a8"
             ],
             [
              0.3333333333333333,
              "#9c179e"
             ],
             [
              0.4444444444444444,
              "#bd3786"
             ],
             [
              0.5555555555555556,
              "#d8576b"
             ],
             [
              0.6666666666666666,
              "#ed7953"
             ],
             [
              0.7777777777777778,
              "#fb9f3a"
             ],
             [
              0.8888888888888888,
              "#fdca26"
             ],
             [
              1,
              "#f0f921"
             ]
            ],
            "type": "surface"
           }
          ],
          "table": [
           {
            "cells": {
             "fill": {
              "color": "#EBF0F8"
             },
             "line": {
              "color": "white"
             }
            },
            "header": {
             "fill": {
              "color": "#C8D4E3"
             },
             "line": {
              "color": "white"
             }
            },
            "type": "table"
           }
          ]
         },
         "layout": {
          "annotationdefaults": {
           "arrowcolor": "#2a3f5f",
           "arrowhead": 0,
           "arrowwidth": 1
          },
          "autotypenumbers": "strict",
          "coloraxis": {
           "colorbar": {
            "outlinewidth": 0,
            "ticks": ""
           }
          },
          "colorscale": {
           "diverging": [
            [
             0,
             "#8e0152"
            ],
            [
             0.1,
             "#c51b7d"
            ],
            [
             0.2,
             "#de77ae"
            ],
            [
             0.3,
             "#f1b6da"
            ],
            [
             0.4,
             "#fde0ef"
            ],
            [
             0.5,
             "#f7f7f7"
            ],
            [
             0.6,
             "#e6f5d0"
            ],
            [
             0.7,
             "#b8e186"
            ],
            [
             0.8,
             "#7fbc41"
            ],
            [
             0.9,
             "#4d9221"
            ],
            [
             1,
             "#276419"
            ]
           ],
           "sequential": [
            [
             0,
             "#0d0887"
            ],
            [
             0.1111111111111111,
             "#46039f"
            ],
            [
             0.2222222222222222,
             "#7201a8"
            ],
            [
             0.3333333333333333,
             "#9c179e"
            ],
            [
             0.4444444444444444,
             "#bd3786"
            ],
            [
             0.5555555555555556,
             "#d8576b"
            ],
            [
             0.6666666666666666,
             "#ed7953"
            ],
            [
             0.7777777777777778,
             "#fb9f3a"
            ],
            [
             0.8888888888888888,
             "#fdca26"
            ],
            [
             1,
             "#f0f921"
            ]
           ],
           "sequentialminus": [
            [
             0,
             "#0d0887"
            ],
            [
             0.1111111111111111,
             "#46039f"
            ],
            [
             0.2222222222222222,
             "#7201a8"
            ],
            [
             0.3333333333333333,
             "#9c179e"
            ],
            [
             0.4444444444444444,
             "#bd3786"
            ],
            [
             0.5555555555555556,
             "#d8576b"
            ],
            [
             0.6666666666666666,
             "#ed7953"
            ],
            [
             0.7777777777777778,
             "#fb9f3a"
            ],
            [
             0.8888888888888888,
             "#fdca26"
            ],
            [
             1,
             "#f0f921"
            ]
           ]
          },
          "colorway": [
           "#636efa",
           "#EF553B",
           "#00cc96",
           "#ab63fa",
           "#FFA15A",
           "#19d3f3",
           "#FF6692",
           "#B6E880",
           "#FF97FF",
           "#FECB52"
          ],
          "font": {
           "color": "#2a3f5f"
          },
          "geo": {
           "bgcolor": "white",
           "lakecolor": "white",
           "landcolor": "#E5ECF6",
           "showlakes": true,
           "showland": true,
           "subunitcolor": "white"
          },
          "hoverlabel": {
           "align": "left"
          },
          "hovermode": "closest",
          "mapbox": {
           "style": "light"
          },
          "paper_bgcolor": "white",
          "plot_bgcolor": "#E5ECF6",
          "polar": {
           "angularaxis": {
            "gridcolor": "white",
            "linecolor": "white",
            "ticks": ""
           },
           "bgcolor": "#E5ECF6",
           "radialaxis": {
            "gridcolor": "white",
            "linecolor": "white",
            "ticks": ""
           }
          },
          "scene": {
           "xaxis": {
            "backgroundcolor": "#E5ECF6",
            "gridcolor": "white",
            "gridwidth": 2,
            "linecolor": "white",
            "showbackground": true,
            "ticks": "",
            "zerolinecolor": "white"
           },
           "yaxis": {
            "backgroundcolor": "#E5ECF6",
            "gridcolor": "white",
            "gridwidth": 2,
            "linecolor": "white",
            "showbackground": true,
            "ticks": "",
            "zerolinecolor": "white"
           },
           "zaxis": {
            "backgroundcolor": "#E5ECF6",
            "gridcolor": "white",
            "gridwidth": 2,
            "linecolor": "white",
            "showbackground": true,
            "ticks": "",
            "zerolinecolor": "white"
           }
          },
          "shapedefaults": {
           "line": {
            "color": "#2a3f5f"
           }
          },
          "ternary": {
           "aaxis": {
            "gridcolor": "white",
            "linecolor": "white",
            "ticks": ""
           },
           "baxis": {
            "gridcolor": "white",
            "linecolor": "white",
            "ticks": ""
           },
           "bgcolor": "#E5ECF6",
           "caxis": {
            "gridcolor": "white",
            "linecolor": "white",
            "ticks": ""
           }
          },
          "title": {
           "x": 0.05
          },
          "xaxis": {
           "automargin": true,
           "gridcolor": "white",
           "linecolor": "white",
           "ticks": "",
           "title": {
            "standoff": 15
           },
           "zerolinecolor": "white",
           "zerolinewidth": 2
          },
          "yaxis": {
           "automargin": true,
           "gridcolor": "white",
           "linecolor": "white",
           "ticks": "",
           "title": {
            "standoff": 15
           },
           "zerolinecolor": "white",
           "zerolinewidth": 2
          }
         }
        }
       }
      },
      "image/png": "[encoded data removed]",
      "text/html": [
       "<div>                            <div id=\"ee530928-7160-44ab-ab11-0b3b466b0538\" class=\"plotly-graph-div\" style=\"height:1000px; width:100%;\"></div>            <script type=\"text/javascript\">                require([\"plotly\"], function(Plotly) {                    window.PLOTLYENV=window.PLOTLYENV || {};                                    if (document.getElementById(\"ee530928-7160-44ab-ab11-0b3b466b0538\")) {                    Plotly.newPlot(                        \"ee530928-7160-44ab-ab11-0b3b466b0538\",                        [{\"base\":[0,0.5,1],\"r\":[0.5,1,2],\"theta\":[0,90,180],\"width\":20,\"type\":\"barpolar\"}],                        {\"template\":{\"data\":{\"histogram2dcontour\":[{\"type\":\"histogram2dcontour\",\"colorbar\":{\"outlinewidth\":0,\"ticks\":\"\"},\"colorscale\":[[0.0,\"#0d0887\"],[0.1111111111111111,\"#46039f\"],[0.2222222222222222,\"#7201a8\"],[0.3333333333333333,\"#9c179e\"],[0.4444444444444444,\"#bd3786\"],[0.5555555555555556,\"#d8576b\"],[0.6666666666666666,\"#ed7953\"],[0.7777777777777778,\"#fb9f3a\"],[0.8888888888888888,\"#fdca26\"],[1.0,\"#f0f921\"]]}],\"choropleth\":[{\"type\":\"choropleth\",\"colorbar\":{\"outlinewidth\":0,\"ticks\":\"\"}}],\"histogram2d\":[{\"type\":\"histogram2d\",\"colorbar\":{\"outlinewidth\":0,\"ticks\":\"\"},\"colorscale\":[[0.0,\"#0d0887\"],[0.1111111111111111,\"#46039f\"],[0.2222222222222222,\"#7201a8\"],[0.3333333333333333,\"#9c179e\"],[0.4444444444444444,\"#bd3786\"],[0.5555555555555556,\"#d8576b\"],[0.6666666666666666,\"#ed7953\"],[0.7777777777777778,\"#fb9f3a\"],[0.8888888888888888,\"#fdca26\"],[1.0,\"#f0f921\"]]}],\"heatmap\":[{\"type\":\"heatmap\",\"colorbar\":{\"outlinewidth\":0,\"ticks\":\"\"},\"colorscale\":[[0.0,\"#0d0887\"],[0.1111111111111111,\"#46039f\"],[0.2222222222222222,\"#7201a8\"],[0.3333333333333333,\"#9c179e\"],[0.4444444444444444,\"#bd3786\"],[0.5555555555555556,\"#d8576b\"],[0.6666666666666666,\"#ed7953\"],[0.7777777777777778,\"#fb9f3a\"],[0.8888888888888888,\"#fdca26\"],[1.0,\"#f0f921\"]]}],\"heatmapgl\":[{\"type\":\"heatmapgl\",\"colorbar\":{\"outlinewidth\":0,\"ticks\":\"\"},\"colorscale\":[[0.0,\"#0d0887\"],[0.1111111111111111,\"#46039f\"],[0.2222222222222222,\"#7201a8\"],[0.3333333333333333,\"#9c179e\"],[0.4444444444444444,\"#bd3786\"],[0.5555555555555556,\"#d8576b\"],[0.6666666666666666,\"#ed7953\"],[0.7777777777777778,\"#fb9f3a\"],[0.8888888888888888,\"#fdca26\"],[1.0,\"#f0f921\"]]}],\"contourcarpet\":[{\"type\":\"contourcarpet\",\"colorbar\":{\"outlinewidth\":0,\"ticks\":\"\"}}],\"contour\":[{\"type\":\"contour\",\"colorbar\":{\"outlinewidth\":0,\"ticks\":\"\"},\"colorscale\":[[0.0,\"#0d0887\"],[0.1111111111111111,\"#46039f\"],[0.2222222222222222,\"#7201a8\"],[0.3333333333333333,\"#9c179e\"],[0.4444444444444444,\"#bd3786\"],[0.5555555555555556,\"#d8576b\"],[0.6666666666666666,\"#ed7953\"],[0.7777777777777778,\"#fb9f3a\"],[0.8888888888888888,\"#fdca26\"],[1.0,\"#f0f921\"]]}],\"surface\":[{\"type\":\"surface\",\"colorbar\":{\"outlinewidth\":0,\"ticks\":\"\"},\"colorscale\":[[0.0,\"#0d0887\"],[0.1111111111111111,\"#46039f\"],[0.2222222222222222,\"#7201a8\"],[0.3333333333333333,\"#9c179e\"],[0.4444444444444444,\"#bd3786\"],[0.5555555555555556,\"#d8576b\"],[0.6666666666666666,\"#ed7953\"],[0.7777777777777778,\"#fb9f3a\"],[0.8888888888888888,\"#fdca26\"],[1.0,\"#f0f921\"]]}],\"mesh3d\":[{\"type\":\"mesh3d\",\"colorbar\":{\"outlinewidth\":0,\"ticks\":\"\"}}],\"scatter\":[{\"fillpattern\":{\"fillmode\":\"overlay\",\"size\":10,\"solidity\":0.2},\"type\":\"scatter\"}],\"parcoords\":[{\"type\":\"parcoords\",\"line\":{\"colorbar\":{\"outlinewidth\":0,\"ticks\":\"\"}}}],\"scatterpolargl\":[{\"type\":\"scatterpolargl\",\"marker\":{\"colorbar\":{\"outlinewidth\":0,\"ticks\":\"\"}}}],\"bar\":[{\"error_x\":{\"color\":\"#2a3f5f\"},\"error_y\":{\"color\":\"#2a3f5f\"},\"marker\":{\"line\":{\"color\":\"#E5ECF6\",\"width\":0.5},\"pattern\":{\"fillmode\":\"overlay\",\"size\":10,\"solidity\":0.2}},\"type\":\"bar\"}],\"scattergeo\":[{\"type\":\"scattergeo\",\"marker\":{\"colorbar\":{\"outlinewidth\":0,\"ticks\":\"\"}}}],\"scatterpolar\":[{\"type\":\"scatterpolar\",\"marker\":{\"colorbar\":{\"outlinewidth\":0,\"ticks\":\"\"}}}],\"histogram\":[{\"marker\":{\"pattern\":{\"fillmode\":\"overlay\",\"size\":10,\"solidity\":0.2}},\"type\":\"histogram\"}],\"scattergl\":[{\"type\":\"scattergl\",\"marker\":{\"colorbar\":{\"outlinewidth\":0,\"ticks\":\"\"}}}],\"scatter3d\":[{\"type\":\"scatter3d\",\"line\":{\"colorbar\":{\"outlinewidth\":0,\"ticks\":\"\"}},\"marker\":{\"colorbar\":{\"outlinewidth\":0,\"ticks\":\"\"}}}],\"scattermapbox\":[{\"type\":\"scattermapbox\",\"marker\":{\"colorbar\":{\"outlinewidth\":0,\"ticks\":\"\"}}}],\"scatterternary\":[{\"type\":\"scatterternary\",\"marker\":{\"colorbar\":{\"outlinewidth\":0,\"ticks\":\"\"}}}],\"scattercarpet\":[{\"type\":\"scattercarpet\",\"marker\":{\"colorbar\":{\"outlinewidth\":0,\"ticks\":\"\"}}}],\"carpet\":[{\"aaxis\":{\"endlinecolor\":\"#2a3f5f\",\"gridcolor\":\"white\",\"linecolor\":\"white\",\"minorgridcolor\":\"white\",\"startlinecolor\":\"#2a3f5f\"},\"baxis\":{\"endlinecolor\":\"#2a3f5f\",\"gridcolor\":\"white\",\"linecolor\":\"white\",\"minorgridcolor\":\"white\",\"startlinecolor\":\"#2a3f5f\"},\"type\":\"carpet\"}],\"table\":[{\"cells\":{\"fill\":{\"color\":\"#EBF0F8\"},\"line\":{\"color\":\"white\"}},\"header\":{\"fill\":{\"color\":\"#C8D4E3\"},\"line\":{\"color\":\"white\"}},\"type\":\"table\"}],\"barpolar\":[{\"marker\":{\"line\":{\"color\":\"#E5ECF6\",\"width\":0.5},\"pattern\":{\"fillmode\":\"overlay\",\"size\":10,\"solidity\":0.2}},\"type\":\"barpolar\"}],\"pie\":[{\"automargin\":true,\"type\":\"pie\"}]},\"layout\":{\"autotypenumbers\":\"strict\",\"colorway\":[\"#636efa\",\"#EF553B\",\"#00cc96\",\"#ab63fa\",\"#FFA15A\",\"#19d3f3\",\"#FF6692\",\"#B6E880\",\"#FF97FF\",\"#FECB52\"],\"font\":{\"color\":\"#2a3f5f\"},\"hovermode\":\"closest\",\"hoverlabel\":{\"align\":\"left\"},\"paper_bgcolor\":\"white\",\"plot_bgcolor\":\"#E5ECF6\",\"polar\":{\"bgcolor\":\"#E5ECF6\",\"angularaxis\":{\"gridcolor\":\"white\",\"linecolor\":\"white\",\"ticks\":\"\"},\"radialaxis\":{\"gridcolor\":\"white\",\"linecolor\":\"white\",\"ticks\":\"\"}},\"ternary\":{\"bgcolor\":\"#E5ECF6\",\"aaxis\":{\"gridcolor\":\"white\",\"linecolor\":\"white\",\"ticks\":\"\"},\"baxis\":{\"gridcolor\":\"white\",\"linecolor\":\"white\",\"ticks\":\"\"},\"caxis\":{\"gridcolor\":\"white\",\"linecolor\":\"white\",\"ticks\":\"\"}},\"coloraxis\":{\"colorbar\":{\"outlinewidth\":0,\"ticks\":\"\"}},\"colorscale\":{\"sequential\":[[0.0,\"#0d0887\"],[0.1111111111111111,\"#46039f\"],[0.2222222222222222,\"#7201a8\"],[0.3333333333333333,\"#9c179e\"],[0.4444444444444444,\"#bd3786\"],[0.5555555555555556,\"#d8576b\"],[0.6666666666666666,\"#ed7953\"],[0.7777777777777778,\"#fb9f3a\"],[0.8888888888888888,\"#fdca26\"],[1.0,\"#f0f921\"]],\"sequentialminus\":[[0.0,\"#0d0887\"],[0.1111111111111111,\"#46039f\"],[0.2222222222222222,\"#7201a8\"],[0.3333333333333333,\"#9c179e\"],[0.4444444444444444,\"#bd3786\"],[0.5555555555555556,\"#d8576b\"],[0.6666666666666666,\"#ed7953\"],[0.7777777777777778,\"#fb9f3a\"],[0.8888888888888888,\"#fdca26\"],[1.0,\"#f0f921\"]],\"diverging\":[[0,\"#8e0152\"],[0.1,\"#c51b7d\"],[0.2,\"#de77ae\"],[0.3,\"#f1b6da\"],[0.4,\"#fde0ef\"],[0.5,\"#f7f7f7\"],[0.6,\"#e6f5d0\"],[0.7,\"#b8e186\"],[0.8,\"#7fbc41\"],[0.9,\"#4d9221\"],[1,\"#276419\"]]},\"xaxis\":{\"gridcolor\":\"white\",\"linecolor\":\"white\",\"ticks\":\"\",\"title\":{\"standoff\":15},\"zerolinecolor\":\"white\",\"automargin\":true,\"zerolinewidth\":2},\"yaxis\":{\"gridcolor\":\"white\",\"linecolor\":\"white\",\"ticks\":\"\",\"title\":{\"standoff\":15},\"zerolinecolor\":\"white\",\"automargin\":true,\"zerolinewidth\":2},\"scene\":{\"xaxis\":{\"backgroundcolor\":\"#E5ECF6\",\"gridcolor\":\"white\",\"linecolor\":\"white\",\"showbackground\":true,\"ticks\":\"\",\"zerolinecolor\":\"white\",\"gridwidth\":2},\"yaxis\":{\"backgroundcolor\":\"#E5ECF6\",\"gridcolor\":\"white\",\"linecolor\":\"white\",\"showbackground\":true,\"ticks\":\"\",\"zerolinecolor\":\"white\",\"gridwidth\":2},\"zaxis\":{\"backgroundcolor\":\"#E5ECF6\",\"gridcolor\":\"white\",\"linecolor\":\"white\",\"showbackground\":true,\"ticks\":\"\",\"zerolinecolor\":\"white\",\"gridwidth\":2}},\"shapedefaults\":{\"line\":{\"color\":\"#2a3f5f\"}},\"annotationdefaults\":{\"arrowcolor\":\"#2a3f5f\",\"arrowhead\":0,\"arrowwidth\":1},\"geo\":{\"bgcolor\":\"white\",\"landcolor\":\"#E5ECF6\",\"subunitcolor\":\"white\",\"showland\":true,\"showlakes\":true,\"lakecolor\":\"white\"},\"title\":{\"x\":0.05},\"mapbox\":{\"style\":\"light\"}}},\"height\":1000},                        {\"responsive\": true}                    ).then(function(){\n",
       "                            \n",
       "var gd = document.getElementById('ee530928-7160-44ab-ab11-0b3b466b0538');\n",
       "var x = new MutationObserver(function (mutations, observer) {{\n",
       "        var display = window.getComputedStyle(gd).display;\n",
       "        if (!display || display === 'none') {{\n",
       "            console.log([gd, 'removed!']);\n",
       "            Plotly.purge(gd);\n",
       "            observer.disconnect();\n",
       "        }}\n",
       "}});\n",
       "\n",
       "// Listen for the removal of the full notebook cells\n",
       "var notebookContainer = gd.closest('#notebook-container');\n",
       "if (notebookContainer) {{\n",
       "    x.observe(notebookContainer, {childList: true});\n",
       "}}\n",
       "\n",
       "// Listen for the clearing of the current output cell\n",
       "var outputEl = gd.closest('.output');\n",
       "if (outputEl) {{\n",
       "    x.observe(outputEl, {childList: true});\n",
       "}}\n",
       "\n",
       "                        })                };                });            </script>        </div>"
      ]
     },
     "metadata": {},
     "output_type": "display_data"
    }
   ],
   "source": [
    "fig = go.Figure(go.Barpolar(r=[0.5, 1, 2], theta=[0, 90, 180], base=[0, 0.5, 1], width=20))\n",
    "fig.update_layout(height=1000)\n",
    "fig.show()"
   ]
  },
  {
   "cell_type": "code",
   "execution_count": null,
   "id": "dc48c6c5-dcf8-4ce1-a2cc-6e9c0e4a07a4",
   "metadata": {},
   "outputs": [],
   "source": []
  }
 ],
 "metadata": {
  "kernelspec": {
   "display_name": "Python 3 (ipykernel)",
   "language": "python",
   "name": "python3"
  },
  "language_info": {
   "codemirror_mode": {
    "name": "ipython",
    "version": 3
   },
   "file_extension": ".py",
   "mimetype": "text/x-python",
   "name": "python",
   "nbconvert_exporter": "python",
   "pygments_lexer": "ipython3",
   "version": "3.12.4"
  }
 },
 "nbformat": 4,
 "nbformat_minor": 5
}
