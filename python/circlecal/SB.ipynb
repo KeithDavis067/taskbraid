{
 "cells": [
  {
   "cell_type": "code",
   "execution_count": 1,
   "id": "6da7e316-d73d-4152-9d41-c5c4550c6e2e",
   "metadata": {},
   "outputs": [],
   "source": [
    "from gcsa.event import Event\n",
    "from gcsa.google_calendar import GoogleCalendar\n",
    "from gcsa.recurrence import Recurrence, DAILY, SU, SA\n",
    "\n",
    "import plotly.express as px\n",
    "import plotly.graph_objects as go\n",
    "from plotly.subplots import make_subplots\n",
    "\n",
    "import pandas as pd\n",
    "\n",
    "from datetime import datetime, timedelta, date, time\n",
    "import dateutil\n",
    "from dateutil.parser import parse\n",
    "import calendar\n",
    "import numpy as np\n",
    "from circle_cal.model import CalendarElement\n",
    "import circle_cal as cc\n",
    "import circle_cal.model as model\n",
    "import circle_cal.plot as ccplot\n",
    "import pathlib\n",
    "from rich import print\n",
    "import pytz\n",
    "from pytz import timezone\n",
    "import workalendar"
   ]
  },
  {
   "cell_type": "code",
   "execution_count": 2,
   "id": "dad67d5f-1d9b-496d-b9c0-4f5b2a2b586b",
   "metadata": {},
   "outputs": [],
   "source": [
    "cred = pathlib.Path('/Users/kdavis10/.config/.credentials')\n",
    "cred_json = \"pygooglecal.apps.googleusercontent.com.json\"\n",
    "\n",
    "try:\n",
    "    gcal = GoogleCalendar(credentials_path=cred / cred_json)\n",
    "except Exception as e:\n",
    "    (cred / \"token.pickle\").unlink()\n",
    "    print(\"Token expired, re-run this cell.\")"
   ]
  },
  {
   "cell_type": "code",
   "execution_count": 3,
   "id": "58c05eb7-6b8a-4243-9a95-dffae44a7cfd",
   "metadata": {},
   "outputs": [
    {
     "data": {
      "text/html": [
       "<pre style=\"white-space:pre;overflow-x:auto;line-height:normal;font-family:Menlo,'DejaVu Sans Mono',consolas,'Courier New',monospace\"><span style=\"font-weight: bold\">[</span>\n",
       "    <span style=\"font-weight: bold\">&lt;</span><span style=\"color: #ff00ff; text-decoration-color: #ff00ff; font-weight: bold\">CalendarListEntry</span><span style=\"color: #000000; text-decoration-color: #000000\"> </span><span style=\"color: #800080; text-decoration-color: #800080; font-style: italic\">None</span><span style=\"color: #000000; text-decoration-color: #000000\"> - </span><span style=\"color: #000000; text-decoration-color: #000000; font-weight: bold\">(</span><span style=\"color: #0000ff; text-decoration-color: #0000ff; text-decoration: underline\">http://universerevealed.nd.edu/?eme_ical=public)</span><span style=\"color: #000000; text-decoration-color: #000000\">&gt;,</span>\n",
       "<span style=\"color: #000000; text-decoration-color: #000000\">    &lt;CalendarListEntry </span><span style=\"color: #800080; text-decoration-color: #800080; font-style: italic\">None</span><span style=\"color: #000000; text-decoration-color: #000000\"> - </span><span style=\"color: #000000; text-decoration-color: #000000; font-weight: bold\">(</span><span style=\"color: #000000; text-decoration-color: #000000\">NYT Astronomy and Space Calendar</span><span style=\"color: #000000; text-decoration-color: #000000; font-weight: bold\">)</span><span style=\"color: #000000; text-decoration-color: #000000\">&gt;,</span>\n",
       "<span style=\"color: #000000; text-decoration-color: #000000\">    &lt;CalendarListEntry </span><span style=\"color: #800080; text-decoration-color: #800080; font-style: italic\">None</span><span style=\"color: #000000; text-decoration-color: #000000\"> - </span><span style=\"color: #000000; text-decoration-color: #000000; font-weight: bold\">(</span><span style=\"color: #000000; text-decoration-color: #000000\">kdavis10@nd.edu</span><span style=\"color: #000000; text-decoration-color: #000000; font-weight: bold\">)</span><span style=\"color: #000000; text-decoration-color: #000000\">&gt;,</span>\n",
       "<span style=\"color: #000000; text-decoration-color: #000000\">    &lt;CalendarListEntry </span><span style=\"color: #800080; text-decoration-color: #800080; font-style: italic\">None</span><span style=\"color: #000000; text-decoration-color: #000000\"> - </span><span style=\"color: #000000; text-decoration-color: #000000; font-weight: bold\">(</span><span style=\"color: #000000; text-decoration-color: #000000\">ND-DVT Calendar</span><span style=\"color: #000000; text-decoration-color: #000000; font-weight: bold\">)</span><span style=\"color: #000000; text-decoration-color: #000000\">&gt;,</span>\n",
       "<span style=\"color: #000000; text-decoration-color: #000000\">    &lt;CalendarListEntry </span><span style=\"color: #800080; text-decoration-color: #800080; font-style: italic\">None</span><span style=\"color: #000000; text-decoration-color: #000000\"> - </span><span style=\"color: #000000; text-decoration-color: #000000; font-weight: bold\">(</span><span style=\"color: #000000; text-decoration-color: #000000\">CoS College-wide Events &amp; Conferences</span><span style=\"color: #000000; text-decoration-color: #000000; font-weight: bold\">)</span><span style=\"color: #000000; text-decoration-color: #000000\">&gt;,</span>\n",
       "<span style=\"color: #000000; text-decoration-color: #000000\">    &lt;CalendarListEntry </span><span style=\"color: #800080; text-decoration-color: #800080; font-style: italic\">None</span><span style=\"color: #000000; text-decoration-color: #000000\"> - </span><span style=\"color: #000000; text-decoration-color: #000000; font-weight: bold\">(</span><span style=\"color: #000000; text-decoration-color: #000000\">Keith Davis</span><span style=\"color: #000000; text-decoration-color: #000000; font-weight: bold\">)</span><span style=\"color: #000000; text-decoration-color: #000000\">&gt;,</span>\n",
       "<span style=\"color: #000000; text-decoration-color: #000000\">    &lt;CalendarListEntry </span><span style=\"color: #800080; text-decoration-color: #800080; font-style: italic\">None</span><span style=\"color: #000000; text-decoration-color: #000000\"> - </span><span style=\"color: #000000; text-decoration-color: #000000; font-weight: bold\">(</span><span style=\"color: #000000; text-decoration-color: #000000\">Axis Ludi Calendar</span><span style=\"color: #000000; text-decoration-color: #000000; font-weight: bold\">)</span><span style=\"color: #000000; text-decoration-color: #000000\">&gt;,</span>\n",
       "<span style=\"color: #000000; text-decoration-color: #000000\">    &lt;CalendarListEntry ND Academic Calendar - </span><span style=\"color: #000000; text-decoration-color: #000000; font-weight: bold\">(</span><span style=\"color: #000000; text-decoration-color: #000000\">Academic Calendar</span><span style=\"color: #000000; text-decoration-color: #000000; font-weight: bold\">)</span><span style=\"color: #000000; text-decoration-color: #000000\">&gt;,</span>\n",
       "<span style=\"color: #000000; text-decoration-color: #000000\">    &lt;CalendarListEntry </span><span style=\"color: #800080; text-decoration-color: #800080; font-style: italic\">None</span><span style=\"color: #000000; text-decoration-color: #000000\"> - </span><span style=\"color: #000000; text-decoration-color: #000000; font-weight: bold\">(</span><span style=\"color: #000000; text-decoration-color: #000000\">Holidays in United States</span><span style=\"color: #000000; text-decoration-color: #000000; font-weight: bold\">)</span><span style=\"color: #000000; text-decoration-color: #000000\">&gt;,</span>\n",
       "<span style=\"color: #000000; text-decoration-color: #000000\">    &lt;CalendarListEntry </span><span style=\"color: #800080; text-decoration-color: #800080; font-style: italic\">None</span><span style=\"color: #000000; text-decoration-color: #000000\"> - </span><span style=\"color: #000000; text-decoration-color: #000000; font-weight: bold\">(</span><span style=\"color: #000000; text-decoration-color: #000000\">Seasons</span><span style=\"color: #000000; text-decoration-color: #000000; font-weight: bold\">)</span><span style=\"font-weight: bold\">&gt;</span>\n",
       "<span style=\"font-weight: bold\">]</span>\n",
       "</pre>\n"
      ],
      "text/plain": [
       "\u001b[1m[\u001b[0m\n",
       "    \u001b[1m<\u001b[0m\u001b[1;95mCalendarListEntry\u001b[0m\u001b[39m \u001b[0m\u001b[3;35mNone\u001b[0m\u001b[39m - \u001b[0m\u001b[1;39m(\u001b[0m\u001b[4;94mhttp://universerevealed.nd.edu/?\u001b[0m\u001b[4;94meme_ical\u001b[0m\u001b[4;94m=\u001b[0m\u001b[4;94mpublic\u001b[0m\u001b[4;94m)\u001b[0m\u001b[39m>,\u001b[0m\n",
       "\u001b[39m    <CalendarListEntry \u001b[0m\u001b[3;35mNone\u001b[0m\u001b[39m - \u001b[0m\u001b[1;39m(\u001b[0m\u001b[39mNYT Astronomy and Space Calendar\u001b[0m\u001b[1;39m)\u001b[0m\u001b[39m>,\u001b[0m\n",
       "\u001b[39m    <CalendarListEntry \u001b[0m\u001b[3;35mNone\u001b[0m\u001b[39m - \u001b[0m\u001b[1;39m(\u001b[0m\u001b[39mkdavis10@nd.edu\u001b[0m\u001b[1;39m)\u001b[0m\u001b[39m>,\u001b[0m\n",
       "\u001b[39m    <CalendarListEntry \u001b[0m\u001b[3;35mNone\u001b[0m\u001b[39m - \u001b[0m\u001b[1;39m(\u001b[0m\u001b[39mND-DVT Calendar\u001b[0m\u001b[1;39m)\u001b[0m\u001b[39m>,\u001b[0m\n",
       "\u001b[39m    <CalendarListEntry \u001b[0m\u001b[3;35mNone\u001b[0m\u001b[39m - \u001b[0m\u001b[1;39m(\u001b[0m\u001b[39mCoS College-wide Events & Conferences\u001b[0m\u001b[1;39m)\u001b[0m\u001b[39m>,\u001b[0m\n",
       "\u001b[39m    <CalendarListEntry \u001b[0m\u001b[3;35mNone\u001b[0m\u001b[39m - \u001b[0m\u001b[1;39m(\u001b[0m\u001b[39mKeith Davis\u001b[0m\u001b[1;39m)\u001b[0m\u001b[39m>,\u001b[0m\n",
       "\u001b[39m    <CalendarListEntry \u001b[0m\u001b[3;35mNone\u001b[0m\u001b[39m - \u001b[0m\u001b[1;39m(\u001b[0m\u001b[39mAxis Ludi Calendar\u001b[0m\u001b[1;39m)\u001b[0m\u001b[39m>,\u001b[0m\n",
       "\u001b[39m    <CalendarListEntry ND Academic Calendar - \u001b[0m\u001b[1;39m(\u001b[0m\u001b[39mAcademic Calendar\u001b[0m\u001b[1;39m)\u001b[0m\u001b[39m>,\u001b[0m\n",
       "\u001b[39m    <CalendarListEntry \u001b[0m\u001b[3;35mNone\u001b[0m\u001b[39m - \u001b[0m\u001b[1;39m(\u001b[0m\u001b[39mHolidays in United States\u001b[0m\u001b[1;39m)\u001b[0m\u001b[39m>,\u001b[0m\n",
       "\u001b[39m    <CalendarListEntry \u001b[0m\u001b[3;35mNone\u001b[0m\u001b[39m - \u001b[0m\u001b[1;39m(\u001b[0m\u001b[39mSeasons\u001b[0m\u001b[1;39m)\u001b[0m\u001b[1m>\u001b[0m\n",
       "\u001b[1m]\u001b[0m\n"
      ]
     },
     "metadata": {},
     "output_type": "display_data"
    }
   ],
   "source": [
    "year = y24 = model.Year(2024)\n",
    "\n",
    "traces = []\n",
    "\n",
    "clist = list(gcal.get_calendar_list())\n",
    "sel_cal_summ = [\"http://universerevealed.nd.edu/?eme_ical=public\",\n",
    "                \"NYT Astronomy and Space Calendar\",\n",
    "                \"kdavis10@nd.edu\",\n",
    "                \"ND-DVT Calendar\",\n",
    "                \"CoS College-wide Events & Conferences\",\n",
    "                \"Keith Davis\",\n",
    "                \"Axis Ludi Calendar\",\n",
    "                \"Holidays in United States\",\n",
    "                \"Academic Calendar\",\n",
    "                \"Seasons\"]\n",
    "\n",
    "selcal = [c for c in clist if c.summary in sel_cal_summ]\n",
    "print(selcal)\n",
    "\n",
    "ws = year.weekends()"
   ]
  },
  {
   "cell_type": "code",
   "execution_count": 4,
   "id": "5f78e1d5-6804-4870-8b22-ac5df633a9cb",
   "metadata": {},
   "outputs": [
    {
     "ename": "AttributeError",
     "evalue": "'Year' object has no attribute 'end'",
     "output_type": "error",
     "traceback": [
      "\u001b[0;31m---------------------------------------------------------------------------\u001b[0m",
      "\u001b[0;31mAttributeError\u001b[0m                            Traceback (most recent call last)",
      "Cell \u001b[0;32mIn[4], line 1\u001b[0m\n\u001b[0;32m----> 1\u001b[0m df \u001b[38;5;241m=\u001b[39m \u001b[43mccplot\u001b[49m\u001b[38;5;241;43m.\u001b[39;49m\u001b[43mselected_cals_to_dataframe\u001b[49m\u001b[43m(\u001b[49m\u001b[43mgcal\u001b[49m\u001b[43m,\u001b[49m\u001b[43m \u001b[49m\u001b[43mselcal\u001b[49m\u001b[43m,\u001b[49m\u001b[43m \u001b[49m\u001b[43my24\u001b[49m\u001b[43m)\u001b[49m\n\u001b[1;32m      2\u001b[0m df\n",
      "File \u001b[0;32m~/Documents/PythonProjects/taskbraid/python/circlecal/circle_cal/plot.py:74\u001b[0m, in \u001b[0;36mselected_cals_to_dataframe\u001b[0;34m(gcal, selcal, year)\u001b[0m\n\u001b[1;32m     71\u001b[0m dfs \u001b[38;5;241m=\u001b[39m []\n\u001b[1;32m     72\u001b[0m \u001b[38;5;28;01mfor\u001b[39;00m cal \u001b[38;5;129;01min\u001b[39;00m selcal:\n\u001b[1;32m     73\u001b[0m     events \u001b[38;5;241m=\u001b[39m gcal\u001b[38;5;241m.\u001b[39mget_events(year\u001b[38;5;241m.\u001b[39mstart,\n\u001b[0;32m---> 74\u001b[0m                              \u001b[43myear\u001b[49m\u001b[38;5;241;43m.\u001b[39;49m\u001b[43mend\u001b[49m,\n\u001b[1;32m     75\u001b[0m                              single_events\u001b[38;5;241m=\u001b[39m\u001b[38;5;28;01mTrue\u001b[39;00m,\n\u001b[1;32m     76\u001b[0m                              calendar_id\u001b[38;5;241m=\u001b[39mcal\u001b[38;5;241m.\u001b[39mcalendar_id,\n\u001b[1;32m     77\u001b[0m                              )\n\u001b[1;32m     78\u001b[0m     df \u001b[38;5;241m=\u001b[39m events_to_dataframe(events)\n\u001b[1;32m     79\u001b[0m     dfs\u001b[38;5;241m.\u001b[39mappend(df)\n",
      "\u001b[0;31mAttributeError\u001b[0m: 'Year' object has no attribute 'end'"
     ]
    }
   ],
   "source": [
    "df = ccplot.selected_cals_to_dataframe(gcal, selcal, y24)\n",
    "df"
   ]
  },
  {
   "cell_type": "code",
   "execution_count": null,
   "id": "ded92581-dfc9-4ee1-bc57-dd0895f265cf",
   "metadata": {},
   "outputs": [],
   "source": [
    "ii = pd.IntervalIndex([pd.Interval(pd.Timedelta(days=0), pd.Timedelta(hours=23, minutes=59, seconds=59)),\n",
    "                       pd.Interval(pd.Timedelta(hours=23, minutes=59, seconds=59), pd.Timedelta(days=1)),\n",
    "                       pd.Interval(pd.Timedelta(days=1), pd.Timedelta(days=31)),\n",
    "                       pd.Interval(pd.Timedelta(days=31), pd.Timedelta(days=10000))])\n",
    "intervalsdf = pd.DataFrame(data=[\"hours\", \"day\", \"weeks\", \"months\"], index=ii, columns=[\"name\"])\n",
    "intervalsdf[\"opacity\"] = [1, 0.8, 0.7, 0.5]\n",
    "intervalsdf[\"rbase\"] = list(reversed([0.5, 0.6, 0.7, 0.8]))\n",
    "\n"
   ]
  },
  {
   "cell_type": "code",
   "execution_count": 7,
   "id": "2a002b3a-db3f-4f8d-9775-7cd557bd0934",
   "metadata": {},
   "outputs": [],
   "source": [
    "df[\"scale\"] = pd.cut(df[\"duration\"], intervalsdf.index)"
   ]
  },
  {
   "cell_type": "code",
   "execution_count": 8,
   "id": "178a4092-8082-438c-b185-66256c5fd216",
   "metadata": {},
   "outputs": [],
   "source": [
    "df[\"ring\"] = intervalsdf[\"name\"].loc[df[\"scale\"]].reset_index(drop=True)\n",
    "df[\"opacity\"] = intervalsdf[\"opacity\"].loc[df[\"scale\"]].reset_index(drop=True)\n",
    "df[\"rbase\"] = intervalsdf[\"rbase\"].loc[df[\"scale\"]].reset_index(drop=True)"
   ]
  },
  {
   "cell_type": "code",
   "execution_count": 9,
   "id": "5cd6d5f9-4618-40d5-a0da-e5805715f0e8",
   "metadata": {},
   "outputs": [],
   "source": [
    "def calendar_ticks(year):\n",
    "    tickvals = []\n",
    "    ticktext = []\n",
    "    for m in year:\n",
    "        tickvals.append(year.to_theta(m.start))\n",
    "        #tickvals.append(ts_to_theta(model.to_timestamp(m.mid),\n",
    "         #                           model.to_timestamp(year.start.datetime()),\n",
    "          #                          (year.duration / timedelta(days=1)) / 360))\n",
    "        #ticktext.append(\"\")\n",
    "        ticktext.append(m.name)\n",
    "    return (tickvals, ticktext)\n",
    "        \n",
    "\n",
    "##def ring_to_base(ring, intervalsdf):\n",
    " #   dr = 1/(len(intervalsdf) + 1)\n",
    " #   rvalues = [(r+1) * dr for r in range(len(intervalsdf))]   \n",
    " #   d = dict(zip(intervalsdf.name.values, reversed(rvalues)))\n",
    " #   return d[ring]\n",
    "    \n",
    "year=y24\n",
    "\n",
    "df[\"midtheta\"] = df.mid.apply(year.to_theta)\n",
    "df[\"width\"] = df.duration.apply(year.to_theta)\n",
    "#df[\"rbase\"] = df.ring.apply(lambda x: ring_to_base(x, intervalsdf))\n",
    "#df[\"rbase\"] = .5\n",
    "df[\"r\"] = .1 * .97 #1/(len(intervalsdf) + 1) * .97\n"
   ]
  },
  {
   "cell_type": "code",
   "execution_count": 10,
   "id": "102bed9c-1341-499e-a5f7-c633f21e5dd2",
   "metadata": {},
   "outputs": [
    {
     "ename": "AttributeError",
     "evalue": "'Year' object has no attribute 'is_whole_months'",
     "output_type": "error",
     "traceback": [
      "\u001b[0;31m---------------------------------------------------------------------------\u001b[0m",
      "\u001b[0;31mAttributeError\u001b[0m                            Traceback (most recent call last)",
      "Cell \u001b[0;32mIn[10], line 19\u001b[0m\n\u001b[1;32m     12\u001b[0m     f\u001b[38;5;241m.\u001b[39madd_trace(go\u001b[38;5;241m.\u001b[39mBarpolar(theta\u001b[38;5;241m=\u001b[39mdf\u001b[38;5;241m.\u001b[39mmidtheta, r\u001b[38;5;241m=\u001b[39mdf\u001b[38;5;241m.\u001b[39mr, width\u001b[38;5;241m=\u001b[39mdf\u001b[38;5;241m.\u001b[39mwidth, base\u001b[38;5;241m=\u001b[39mdf\u001b[38;5;241m.\u001b[39mrbase,\n\u001b[1;32m     13\u001b[0m                             text\u001b[38;5;241m=\u001b[39mdf\u001b[38;5;241m.\u001b[39msummary, marker_color\u001b[38;5;241m=\u001b[39mdf\u001b[38;5;241m.\u001b[39mcolor, name\u001b[38;5;241m=\u001b[39mcal, \u001b[38;5;66;03m#marker_opacity=df.opacity\u001b[39;00m\n\u001b[1;32m     14\u001b[0m                             customdata\u001b[38;5;241m=\u001b[39mdf[[\u001b[38;5;124m\"\u001b[39m\u001b[38;5;124mstart\u001b[39m\u001b[38;5;124m\"\u001b[39m, \u001b[38;5;124m\"\u001b[39m\u001b[38;5;124mend\u001b[39m\u001b[38;5;124m\"\u001b[39m]],\n\u001b[1;32m     15\u001b[0m                             \n\u001b[1;32m     16\u001b[0m                            )\n\u001b[1;32m     17\u001b[0m                )\n\u001b[1;32m     18\u001b[0m df \u001b[38;5;241m=\u001b[39m dring\n\u001b[0;32m---> 19\u001b[0m tickvals, ticktext \u001b[38;5;241m=\u001b[39m \u001b[43mcalendar_ticks\u001b[49m\u001b[43m(\u001b[49m\u001b[43my24\u001b[49m\u001b[43m)\u001b[49m\n\u001b[1;32m     21\u001b[0m f\u001b[38;5;241m.\u001b[39madd_trace(go\u001b[38;5;241m.\u001b[39mBarpolar(theta\u001b[38;5;241m=\u001b[39m[o_theta(model\u001b[38;5;241m.\u001b[39mto_timestamp(w\u001b[38;5;241m.\u001b[39mmid), model\u001b[38;5;241m.\u001b[39mto_timestamp(y24\u001b[38;5;241m.\u001b[39mstart\u001b[38;5;241m.\u001b[39mdatetime())) \u001b[38;5;28;01mfor\u001b[39;00m w \u001b[38;5;129;01min\u001b[39;00m ws],\n\u001b[1;32m     22\u001b[0m                         \u001b[38;5;66;03m#r=len(ws) * [.167], base=.167,\u001b[39;00m\n\u001b[1;32m     23\u001b[0m                         r\u001b[38;5;241m=\u001b[39m\u001b[38;5;28mlen\u001b[39m(ws) \u001b[38;5;241m*\u001b[39m [\u001b[38;5;241m.1\u001b[39m], base\u001b[38;5;241m=\u001b[39m\u001b[38;5;241m.4\u001b[39m,\n\u001b[0;32m   (...)\u001b[0m\n\u001b[1;32m     26\u001b[0m                        customdata\u001b[38;5;241m=\u001b[39m[(w\u001b[38;5;241m.\u001b[39mstart, w\u001b[38;5;241m.\u001b[39mend) \u001b[38;5;28;01mfor\u001b[39;00m w \u001b[38;5;129;01min\u001b[39;00m ws])\n\u001b[1;32m     27\u001b[0m            )\n\u001b[1;32m     29\u001b[0m f\u001b[38;5;241m.\u001b[39mupdate_layout(height\u001b[38;5;241m=\u001b[39m\u001b[38;5;241m800\u001b[39m)\n",
      "Cell \u001b[0;32mIn[9], line 4\u001b[0m, in \u001b[0;36mcalendar_ticks\u001b[0;34m(year)\u001b[0m\n\u001b[1;32m      2\u001b[0m tickvals \u001b[38;5;241m=\u001b[39m []\n\u001b[1;32m      3\u001b[0m ticktext \u001b[38;5;241m=\u001b[39m []\n\u001b[0;32m----> 4\u001b[0m \u001b[38;5;28;01mfor\u001b[39;00m m \u001b[38;5;129;01min\u001b[39;00m year:\n\u001b[1;32m      5\u001b[0m     tickvals\u001b[38;5;241m.\u001b[39mappend(year\u001b[38;5;241m.\u001b[39mto_theta(m\u001b[38;5;241m.\u001b[39mstart))\n\u001b[1;32m      6\u001b[0m     \u001b[38;5;66;03m#tickvals.append(ts_to_theta(model.to_timestamp(m.mid),\u001b[39;00m\n\u001b[1;32m      7\u001b[0m      \u001b[38;5;66;03m#                           model.to_timestamp(year.start.datetime()),\u001b[39;00m\n\u001b[1;32m      8\u001b[0m       \u001b[38;5;66;03m#                          (year.duration / timedelta(days=1)) / 360))\u001b[39;00m\n\u001b[1;32m      9\u001b[0m     \u001b[38;5;66;03m#ticktext.append(\"\")\u001b[39;00m\n",
      "File \u001b[0;32m~/Documents/PythonProjects/taskbraid/python/circlecal/circle_cal/model.py:1370\u001b[0m, in \u001b[0;36mCalendarPeriod.__getitem__\u001b[0;34m(self, i)\u001b[0m\n\u001b[1;32m   1367\u001b[0m \u001b[38;5;28;01mexcept\u001b[39;00m \u001b[38;5;167;01mAttributeError\u001b[39;00m:\n\u001b[1;32m   1368\u001b[0m     step \u001b[38;5;241m=\u001b[39m \u001b[38;5;241m1\u001b[39m\n\u001b[0;32m-> 1370\u001b[0m \u001b[38;5;28;01mif\u001b[39;00m \u001b[38;5;28;43mself\u001b[39;49m\u001b[38;5;241;43m.\u001b[39;49m\u001b[43mis_whole_months\u001b[49m():\n\u001b[1;32m   1371\u001b[0m     months \u001b[38;5;241m=\u001b[39m \u001b[38;5;28mself\u001b[39m\u001b[38;5;241m.\u001b[39mend\u001b[38;5;241m.\u001b[39mmonth \u001b[38;5;241m-\u001b[39m \u001b[38;5;28mself\u001b[39m\u001b[38;5;241m.\u001b[39mstart\u001b[38;5;241m.\u001b[39mmonth\n\u001b[1;32m   1372\u001b[0m     \u001b[38;5;28;01mif\u001b[39;00m start \u001b[38;5;241m>\u001b[39m months:\n",
      "\u001b[0;31mAttributeError\u001b[0m: 'Year' object has no attribute 'is_whole_months'"
     ]
    }
   ],
   "source": [
    "dring = df\n",
    "try:\n",
    "    del f\n",
    "except NameError:\n",
    "    pass\n",
    "f = subplotsfig = make_subplots(rows=1, cols=2, specs=[[{'type': 'polar'}, {'type': 'polar'}]])\n",
    "f = go.Figure(f)\n",
    "#f = go.Figure()\n",
    "\n",
    "for cal in pd.unique(df.calendar):\n",
    "    df = dring[dring[\"calendar\"] == cal]\n",
    "    f.add_trace(go.Barpolar(theta=df.midtheta, r=df.r, width=df.width, base=df.rbase,\n",
    "                            text=df.summary, marker_color=df.color, name=cal, #marker_opacity=df.opacity\n",
    "                            customdata=df[[\"start\", \"end\"]],\n",
    "                            \n",
    "                           )\n",
    "               )\n",
    "df = dring\n",
    "tickvals, ticktext = calendar_ticks(y24)\n",
    "\n",
    "f.add_trace(go.Barpolar(theta=[o_theta(model.to_timestamp(w.mid), model.to_timestamp(y24.start.datetime())) for w in ws],\n",
    "                        #r=len(ws) * [.167], base=.167,\n",
    "                        r=len(ws) * [.1], base=.4,\n",
    "                        marker_color=\"#E1E1E1\", marker_opacity=.5,\n",
    "                        width=[(w.duration / year.duration * 360) for w in ws], name=\"Weekends\",\n",
    "                       customdata=[(w.start, w.end) for w in ws])\n",
    "           )\n",
    "\n",
    "f.update_layout(height=800)\n",
    "f.update_layout(\n",
    "    template=None,\n",
    "    polar = dict(\n",
    "        radialaxis = dict(tickvals=[intervalsdf.rbase],\n",
    "                          showticklabels=False, ticks='',\n",
    "                         ),\n",
    "        angularaxis = dict(\n",
    "            rotation = -90,\n",
    "            showticklabels=True,\n",
    "            ticks='outside',\n",
    "            ticktext=ticktext,\n",
    "            tickvals=tickvals,\n",
    "        )\n",
    "    )\n",
    ")\n",
    "f.update_traces(hovertemplate=\"%{text}<br>Start: %{customdata[0]|%Y/%m/%d %H:%M:%S.%L}\"\n",
    "               \"<br>End: %{customdata[1]|%Y/%m/%d %H:%M:%S.%L}\")\n",
    "#f.add_trace(go.Sunburst(yd))\n",
    "f.add_trace(go.Scatterpolar(r=[0, 1], theta=2*[ts_to_theta(model.to_timestamp(datetime.now()),\n",
    "                                                           model.to_timestamp(y24.start.datetime()),\n",
    "                                                          366 / 360)], name=\"Now\", marker_color=\"black\", text=[\"Today\"]*2))\n",
    "\n",
    "for t in f.data:\n",
    "    f.add_trace(t, 1, 2)\n",
    "\n",
    "f.update_layout(polar2=dict(angularaxis=f.layout[\"polar\"][\"angularaxis\"],\n",
    "                           radialaxis=f.layout[\"polar\"][\"radialaxis\"]))\n",
    "f.update_layout(polar2=dict(sector=[90,100]))\n",
    "\n",
    "f.show()"
   ]
  },
  {
   "cell_type": "code",
   "execution_count": 12,
   "id": "d8514e82-c480-4f35-ac53-8494d846bd0c",
   "metadata": {},
   "outputs": [
    {
     "data": {
      "text/plain": [
       "layout.Polar({\n",
       "    'angularaxis': {'rotation': -90,\n",
       "                    'showticklabels': True,\n",
       "                    'ticks': 'outside',\n",
       "                    'ticktext': [January, February, March, April, May, June, July,\n",
       "                                 August, September, October, November, December],\n",
       "                    'tickvals': [0.0, 30.491803278688526, 59.016393442622956,\n",
       "                                 89.4672131147541, 118.97540983606558,\n",
       "                                 149.46721311475412, 178.97540983606558,\n",
       "                                 209.46721311475412, 239.95901639344265,\n",
       "                                 269.4672131147541, 299.9590163934426,\n",
       "                                 329.5081967213115]},\n",
       "    'domain': {'x': [0.0, 0.45], 'y': [0.0, 1.0]},\n",
       "    'radialaxis': {'showticklabels': False, 'ticks': '', 'tickvals': [[0.8, 0.7, 0.6, 0.5]]}\n",
       "})"
      ]
     },
     "execution_count": 12,
     "metadata": {},
     "output_type": "execute_result"
    }
   ],
   "source": [
    "f.layout[\"polar\"]"
   ]
  },
  {
   "cell_type": "code",
   "execution_count": 13,
   "id": "94043be9-1c6b-4127-88f8-b42d1bcf8bf8",
   "metadata": {},
   "outputs": [],
   "source": [
    "g = iter(year)"
   ]
  },
  {
   "cell_type": "code",
   "execution_count": 14,
   "id": "28d585d3-a82e-4e2a-8afd-1d45aea82b94",
   "metadata": {},
   "outputs": [
    {
     "data": {
      "text/html": [
       "<pre style=\"white-space:pre;overflow-x:auto;line-height:normal;font-family:Menlo,'DejaVu Sans Mono',consolas,'Courier New',monospace\"><span style=\"font-weight: bold\">{</span><span style=\"color: #008000; text-decoration-color: #008000\">'year'</span>: <span style=\"color: #008080; text-decoration-color: #008080; font-weight: bold\">2024</span>, <span style=\"color: #008000; text-decoration-color: #008000\">'month'</span>: <span style=\"color: #008080; text-decoration-color: #008080; font-weight: bold\">1</span>, <span style=\"color: #008000; text-decoration-color: #008000\">'type'</span>: <span style=\"color: #008000; text-decoration-color: #008000\">'CalendarElement'</span><span style=\"font-weight: bold\">}</span>\n",
       "</pre>\n"
      ],
      "text/plain": [
       "\u001b[1m{\u001b[0m\u001b[32m'year'\u001b[0m: \u001b[1;36m2024\u001b[0m, \u001b[32m'month'\u001b[0m: \u001b[1;36m1\u001b[0m, \u001b[32m'type'\u001b[0m: \u001b[32m'CalendarElement'\u001b[0m\u001b[1m}\u001b[0m\n"
      ]
     },
     "metadata": {},
     "output_type": "display_data"
    },
    {
     "data": {
      "text/html": [
       "<pre style=\"white-space:pre;overflow-x:auto;line-height:normal;font-family:Menlo,'DejaVu Sans Mono',consolas,'Courier New',monospace\"><span style=\"font-weight: bold\">{</span><span style=\"color: #008000; text-decoration-color: #008000\">'year'</span>: <span style=\"color: #008080; text-decoration-color: #008080; font-weight: bold\">2024</span>, <span style=\"color: #008000; text-decoration-color: #008000\">'month'</span>: <span style=\"color: #008080; text-decoration-color: #008080; font-weight: bold\">2</span>, <span style=\"color: #008000; text-decoration-color: #008000\">'type'</span>: <span style=\"color: #008000; text-decoration-color: #008000\">'CalendarElement'</span><span style=\"font-weight: bold\">}</span>\n",
       "</pre>\n"
      ],
      "text/plain": [
       "\u001b[1m{\u001b[0m\u001b[32m'year'\u001b[0m: \u001b[1;36m2024\u001b[0m, \u001b[32m'month'\u001b[0m: \u001b[1;36m2\u001b[0m, \u001b[32m'type'\u001b[0m: \u001b[32m'CalendarElement'\u001b[0m\u001b[1m}\u001b[0m\n"
      ]
     },
     "metadata": {},
     "output_type": "display_data"
    },
    {
     "data": {
      "text/html": [
       "<pre style=\"white-space:pre;overflow-x:auto;line-height:normal;font-family:Menlo,'DejaVu Sans Mono',consolas,'Courier New',monospace\"><span style=\"font-weight: bold\">{</span><span style=\"color: #008000; text-decoration-color: #008000\">'year'</span>: <span style=\"color: #008080; text-decoration-color: #008080; font-weight: bold\">2024</span>, <span style=\"color: #008000; text-decoration-color: #008000\">'month'</span>: <span style=\"color: #008080; text-decoration-color: #008080; font-weight: bold\">3</span>, <span style=\"color: #008000; text-decoration-color: #008000\">'type'</span>: <span style=\"color: #008000; text-decoration-color: #008000\">'CalendarElement'</span><span style=\"font-weight: bold\">}</span>\n",
       "</pre>\n"
      ],
      "text/plain": [
       "\u001b[1m{\u001b[0m\u001b[32m'year'\u001b[0m: \u001b[1;36m2024\u001b[0m, \u001b[32m'month'\u001b[0m: \u001b[1;36m3\u001b[0m, \u001b[32m'type'\u001b[0m: \u001b[32m'CalendarElement'\u001b[0m\u001b[1m}\u001b[0m\n"
      ]
     },
     "metadata": {},
     "output_type": "display_data"
    },
    {
     "data": {
      "text/html": [
       "<pre style=\"white-space:pre;overflow-x:auto;line-height:normal;font-family:Menlo,'DejaVu Sans Mono',consolas,'Courier New',monospace\"><span style=\"font-weight: bold\">{</span><span style=\"color: #008000; text-decoration-color: #008000\">'year'</span>: <span style=\"color: #008080; text-decoration-color: #008080; font-weight: bold\">2024</span>, <span style=\"color: #008000; text-decoration-color: #008000\">'month'</span>: <span style=\"color: #008080; text-decoration-color: #008080; font-weight: bold\">4</span>, <span style=\"color: #008000; text-decoration-color: #008000\">'type'</span>: <span style=\"color: #008000; text-decoration-color: #008000\">'CalendarElement'</span><span style=\"font-weight: bold\">}</span>\n",
       "</pre>\n"
      ],
      "text/plain": [
       "\u001b[1m{\u001b[0m\u001b[32m'year'\u001b[0m: \u001b[1;36m2024\u001b[0m, \u001b[32m'month'\u001b[0m: \u001b[1;36m4\u001b[0m, \u001b[32m'type'\u001b[0m: \u001b[32m'CalendarElement'\u001b[0m\u001b[1m}\u001b[0m\n"
      ]
     },
     "metadata": {},
     "output_type": "display_data"
    },
    {
     "data": {
      "text/html": [
       "<pre style=\"white-space:pre;overflow-x:auto;line-height:normal;font-family:Menlo,'DejaVu Sans Mono',consolas,'Courier New',monospace\"><span style=\"font-weight: bold\">{</span><span style=\"color: #008000; text-decoration-color: #008000\">'year'</span>: <span style=\"color: #008080; text-decoration-color: #008080; font-weight: bold\">2024</span>, <span style=\"color: #008000; text-decoration-color: #008000\">'month'</span>: <span style=\"color: #008080; text-decoration-color: #008080; font-weight: bold\">5</span>, <span style=\"color: #008000; text-decoration-color: #008000\">'type'</span>: <span style=\"color: #008000; text-decoration-color: #008000\">'CalendarElement'</span><span style=\"font-weight: bold\">}</span>\n",
       "</pre>\n"
      ],
      "text/plain": [
       "\u001b[1m{\u001b[0m\u001b[32m'year'\u001b[0m: \u001b[1;36m2024\u001b[0m, \u001b[32m'month'\u001b[0m: \u001b[1;36m5\u001b[0m, \u001b[32m'type'\u001b[0m: \u001b[32m'CalendarElement'\u001b[0m\u001b[1m}\u001b[0m\n"
      ]
     },
     "metadata": {},
     "output_type": "display_data"
    },
    {
     "data": {
      "text/html": [
       "<pre style=\"white-space:pre;overflow-x:auto;line-height:normal;font-family:Menlo,'DejaVu Sans Mono',consolas,'Courier New',monospace\"><span style=\"font-weight: bold\">{</span><span style=\"color: #008000; text-decoration-color: #008000\">'year'</span>: <span style=\"color: #008080; text-decoration-color: #008080; font-weight: bold\">2024</span>, <span style=\"color: #008000; text-decoration-color: #008000\">'month'</span>: <span style=\"color: #008080; text-decoration-color: #008080; font-weight: bold\">6</span>, <span style=\"color: #008000; text-decoration-color: #008000\">'type'</span>: <span style=\"color: #008000; text-decoration-color: #008000\">'CalendarElement'</span><span style=\"font-weight: bold\">}</span>\n",
       "</pre>\n"
      ],
      "text/plain": [
       "\u001b[1m{\u001b[0m\u001b[32m'year'\u001b[0m: \u001b[1;36m2024\u001b[0m, \u001b[32m'month'\u001b[0m: \u001b[1;36m6\u001b[0m, \u001b[32m'type'\u001b[0m: \u001b[32m'CalendarElement'\u001b[0m\u001b[1m}\u001b[0m\n"
      ]
     },
     "metadata": {},
     "output_type": "display_data"
    },
    {
     "data": {
      "text/html": [
       "<pre style=\"white-space:pre;overflow-x:auto;line-height:normal;font-family:Menlo,'DejaVu Sans Mono',consolas,'Courier New',monospace\"><span style=\"font-weight: bold\">{</span><span style=\"color: #008000; text-decoration-color: #008000\">'year'</span>: <span style=\"color: #008080; text-decoration-color: #008080; font-weight: bold\">2024</span>, <span style=\"color: #008000; text-decoration-color: #008000\">'month'</span>: <span style=\"color: #008080; text-decoration-color: #008080; font-weight: bold\">7</span>, <span style=\"color: #008000; text-decoration-color: #008000\">'type'</span>: <span style=\"color: #008000; text-decoration-color: #008000\">'CalendarElement'</span><span style=\"font-weight: bold\">}</span>\n",
       "</pre>\n"
      ],
      "text/plain": [
       "\u001b[1m{\u001b[0m\u001b[32m'year'\u001b[0m: \u001b[1;36m2024\u001b[0m, \u001b[32m'month'\u001b[0m: \u001b[1;36m7\u001b[0m, \u001b[32m'type'\u001b[0m: \u001b[32m'CalendarElement'\u001b[0m\u001b[1m}\u001b[0m\n"
      ]
     },
     "metadata": {},
     "output_type": "display_data"
    },
    {
     "data": {
      "text/html": [
       "<pre style=\"white-space:pre;overflow-x:auto;line-height:normal;font-family:Menlo,'DejaVu Sans Mono',consolas,'Courier New',monospace\"><span style=\"font-weight: bold\">{</span><span style=\"color: #008000; text-decoration-color: #008000\">'year'</span>: <span style=\"color: #008080; text-decoration-color: #008080; font-weight: bold\">2024</span>, <span style=\"color: #008000; text-decoration-color: #008000\">'month'</span>: <span style=\"color: #008080; text-decoration-color: #008080; font-weight: bold\">8</span>, <span style=\"color: #008000; text-decoration-color: #008000\">'type'</span>: <span style=\"color: #008000; text-decoration-color: #008000\">'CalendarElement'</span><span style=\"font-weight: bold\">}</span>\n",
       "</pre>\n"
      ],
      "text/plain": [
       "\u001b[1m{\u001b[0m\u001b[32m'year'\u001b[0m: \u001b[1;36m2024\u001b[0m, \u001b[32m'month'\u001b[0m: \u001b[1;36m8\u001b[0m, \u001b[32m'type'\u001b[0m: \u001b[32m'CalendarElement'\u001b[0m\u001b[1m}\u001b[0m\n"
      ]
     },
     "metadata": {},
     "output_type": "display_data"
    },
    {
     "data": {
      "text/html": [
       "<pre style=\"white-space:pre;overflow-x:auto;line-height:normal;font-family:Menlo,'DejaVu Sans Mono',consolas,'Courier New',monospace\"><span style=\"font-weight: bold\">{</span><span style=\"color: #008000; text-decoration-color: #008000\">'year'</span>: <span style=\"color: #008080; text-decoration-color: #008080; font-weight: bold\">2024</span>, <span style=\"color: #008000; text-decoration-color: #008000\">'month'</span>: <span style=\"color: #008080; text-decoration-color: #008080; font-weight: bold\">9</span>, <span style=\"color: #008000; text-decoration-color: #008000\">'type'</span>: <span style=\"color: #008000; text-decoration-color: #008000\">'CalendarElement'</span><span style=\"font-weight: bold\">}</span>\n",
       "</pre>\n"
      ],
      "text/plain": [
       "\u001b[1m{\u001b[0m\u001b[32m'year'\u001b[0m: \u001b[1;36m2024\u001b[0m, \u001b[32m'month'\u001b[0m: \u001b[1;36m9\u001b[0m, \u001b[32m'type'\u001b[0m: \u001b[32m'CalendarElement'\u001b[0m\u001b[1m}\u001b[0m\n"
      ]
     },
     "metadata": {},
     "output_type": "display_data"
    },
    {
     "data": {
      "text/html": [
       "<pre style=\"white-space:pre;overflow-x:auto;line-height:normal;font-family:Menlo,'DejaVu Sans Mono',consolas,'Courier New',monospace\"><span style=\"font-weight: bold\">{</span><span style=\"color: #008000; text-decoration-color: #008000\">'year'</span>: <span style=\"color: #008080; text-decoration-color: #008080; font-weight: bold\">2024</span>, <span style=\"color: #008000; text-decoration-color: #008000\">'month'</span>: <span style=\"color: #008080; text-decoration-color: #008080; font-weight: bold\">10</span>, <span style=\"color: #008000; text-decoration-color: #008000\">'type'</span>: <span style=\"color: #008000; text-decoration-color: #008000\">'CalendarElement'</span><span style=\"font-weight: bold\">}</span>\n",
       "</pre>\n"
      ],
      "text/plain": [
       "\u001b[1m{\u001b[0m\u001b[32m'year'\u001b[0m: \u001b[1;36m2024\u001b[0m, \u001b[32m'month'\u001b[0m: \u001b[1;36m10\u001b[0m, \u001b[32m'type'\u001b[0m: \u001b[32m'CalendarElement'\u001b[0m\u001b[1m}\u001b[0m\n"
      ]
     },
     "metadata": {},
     "output_type": "display_data"
    },
    {
     "data": {
      "text/html": [
       "<pre style=\"white-space:pre;overflow-x:auto;line-height:normal;font-family:Menlo,'DejaVu Sans Mono',consolas,'Courier New',monospace\"><span style=\"font-weight: bold\">{</span><span style=\"color: #008000; text-decoration-color: #008000\">'year'</span>: <span style=\"color: #008080; text-decoration-color: #008080; font-weight: bold\">2024</span>, <span style=\"color: #008000; text-decoration-color: #008000\">'month'</span>: <span style=\"color: #008080; text-decoration-color: #008080; font-weight: bold\">11</span>, <span style=\"color: #008000; text-decoration-color: #008000\">'type'</span>: <span style=\"color: #008000; text-decoration-color: #008000\">'CalendarElement'</span><span style=\"font-weight: bold\">}</span>\n",
       "</pre>\n"
      ],
      "text/plain": [
       "\u001b[1m{\u001b[0m\u001b[32m'year'\u001b[0m: \u001b[1;36m2024\u001b[0m, \u001b[32m'month'\u001b[0m: \u001b[1;36m11\u001b[0m, \u001b[32m'type'\u001b[0m: \u001b[32m'CalendarElement'\u001b[0m\u001b[1m}\u001b[0m\n"
      ]
     },
     "metadata": {},
     "output_type": "display_data"
    },
    {
     "data": {
      "text/html": [
       "<pre style=\"white-space:pre;overflow-x:auto;line-height:normal;font-family:Menlo,'DejaVu Sans Mono',consolas,'Courier New',monospace\"><span style=\"font-weight: bold\">{</span><span style=\"color: #008000; text-decoration-color: #008000\">'year'</span>: <span style=\"color: #008080; text-decoration-color: #008080; font-weight: bold\">2024</span>, <span style=\"color: #008000; text-decoration-color: #008000\">'month'</span>: <span style=\"color: #008080; text-decoration-color: #008080; font-weight: bold\">12</span>, <span style=\"color: #008000; text-decoration-color: #008000\">'type'</span>: <span style=\"color: #008000; text-decoration-color: #008000\">'CalendarElement'</span><span style=\"font-weight: bold\">}</span>\n",
       "</pre>\n"
      ],
      "text/plain": [
       "\u001b[1m{\u001b[0m\u001b[32m'year'\u001b[0m: \u001b[1;36m2024\u001b[0m, \u001b[32m'month'\u001b[0m: \u001b[1;36m12\u001b[0m, \u001b[32m'type'\u001b[0m: \u001b[32m'CalendarElement'\u001b[0m\u001b[1m}\u001b[0m\n"
      ]
     },
     "metadata": {},
     "output_type": "display_data"
    }
   ],
   "source": [
    "for m in g:\n",
    "    print(m)"
   ]
  },
  {
   "cell_type": "code",
   "execution_count": null,
   "id": "d15c42d1-aadf-4039-95e6-68c82874a828",
   "metadata": {},
   "outputs": [],
   "source": []
  }
 ],
 "metadata": {
  "kernelspec": {
   "display_name": "Python 3 (ipykernel)",
   "language": "python",
   "name": "python3"
  },
  "language_info": {
   "codemirror_mode": {
    "name": "ipython",
    "version": 3
   },
   "file_extension": ".py",
   "mimetype": "text/x-python",
   "name": "python",
   "nbconvert_exporter": "python",
   "pygments_lexer": "ipython3",
   "version": "3.12.5"
  }
 },
 "nbformat": 4,
 "nbformat_minor": 5
}
