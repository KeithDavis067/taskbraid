{
 "cells": [
  {
   "cell_type": "code",
   "execution_count": 1,
   "id": "6da7e316-d73d-4152-9d41-c5c4550c6e2e",
   "metadata": {},
   "outputs": [],
   "source": [
    "from gcsa.event import Event\n",
    "from gcsa.google_calendar import GoogleCalendar\n",
    "from gcsa.recurrence import Recurrence, DAILY, SU, SA\n",
    "\n",
    "import plotly.express as px\n",
    "import plotly.graph_objects as go\n",
    "from plotly.subplots import make_subplots\n",
    "\n",
    "import pandas as pd\n",
    "\n",
    "from datetime import datetime, timedelta, date, time\n",
    "import dateutil\n",
    "from dateutil.parser import parse\n",
    "import calendar\n",
    "import numpy as np\n",
    "from circle_cal.model import CalendarElement\n",
    "import circle_cal as cc\n",
    "import circle_cal.model as model\n",
    "import circle_cal.plot as ccplot\n",
    "import pathlib\n",
    "from rich import print\n",
    "import pytz\n",
    "from pytz import timezone\n",
    "import workalendar"
   ]
  },
  {
   "cell_type": "code",
   "execution_count": 2,
   "id": "dad67d5f-1d9b-496d-b9c0-4f5b2a2b586b",
   "metadata": {},
   "outputs": [],
   "source": [
    "cred = pathlib.Path('/Users/kdavis10/.config/.credentials')\n",
    "cred_json = \"pygooglecal.apps.googleusercontent.com.json\"\n",
    "\n",
    "try:\n",
    "    gcal = GoogleCalendar(credentials_path=cred / cred_json)\n",
    "except Exception as e:\n",
    "    (cred / \"token.pickle\").unlink()\n",
    "    print(\"Token expired, re-run this cell.\")"
   ]
  },
  {
   "cell_type": "code",
   "execution_count": 3,
   "id": "58c05eb7-6b8a-4243-9a95-dffae44a7cfd",
   "metadata": {},
   "outputs": [
    {
     "data": {
      "text/html": [
       "<pre style=\"white-space:pre;overflow-x:auto;line-height:normal;font-family:Menlo,'DejaVu Sans Mono',consolas,'Courier New',monospace\"><span style=\"font-weight: bold\">[</span>\n",
       "    <span style=\"font-weight: bold\">&lt;</span><span style=\"color: #ff00ff; text-decoration-color: #ff00ff; font-weight: bold\">CalendarListEntry</span><span style=\"color: #000000; text-decoration-color: #000000\"> </span><span style=\"color: #800080; text-decoration-color: #800080; font-style: italic\">None</span><span style=\"color: #000000; text-decoration-color: #000000\"> - </span><span style=\"color: #000000; text-decoration-color: #000000; font-weight: bold\">(</span><span style=\"color: #000000; text-decoration-color: #000000\">NYT Astronomy and Space Calendar</span><span style=\"color: #000000; text-decoration-color: #000000; font-weight: bold\">)</span><span style=\"color: #000000; text-decoration-color: #000000\">&gt;,</span>\n",
       "<span style=\"color: #000000; text-decoration-color: #000000\">    &lt;CalendarListEntry </span><span style=\"color: #800080; text-decoration-color: #800080; font-style: italic\">None</span><span style=\"color: #000000; text-decoration-color: #000000\"> - </span><span style=\"color: #000000; text-decoration-color: #000000; font-weight: bold\">(</span><span style=\"color: #000000; text-decoration-color: #000000\">CoS College-wide Events &amp; Conferences</span><span style=\"color: #000000; text-decoration-color: #000000; font-weight: bold\">)</span><span style=\"color: #000000; text-decoration-color: #000000\">&gt;,</span>\n",
       "<span style=\"color: #000000; text-decoration-color: #000000\">    &lt;CalendarListEntry </span><span style=\"color: #800080; text-decoration-color: #800080; font-style: italic\">None</span><span style=\"color: #000000; text-decoration-color: #000000\"> - </span><span style=\"color: #000000; text-decoration-color: #000000; font-weight: bold\">(</span><span style=\"color: #000000; text-decoration-color: #000000\">Seasons</span><span style=\"color: #000000; text-decoration-color: #000000; font-weight: bold\">)</span><span style=\"color: #000000; text-decoration-color: #000000\">&gt;,</span>\n",
       "<span style=\"color: #000000; text-decoration-color: #000000\">    &lt;CalendarListEntry </span><span style=\"color: #800080; text-decoration-color: #800080; font-style: italic\">None</span><span style=\"color: #000000; text-decoration-color: #000000\"> - </span><span style=\"color: #000000; text-decoration-color: #000000; font-weight: bold\">(</span><span style=\"color: #0000ff; text-decoration-color: #0000ff; text-decoration: underline\">http://universerevealed.nd.edu/?eme_ical=public)</span><span style=\"color: #000000; text-decoration-color: #000000\">&gt;,</span>\n",
       "<span style=\"color: #000000; text-decoration-color: #000000\">    &lt;CalendarListEntry </span><span style=\"color: #800080; text-decoration-color: #800080; font-style: italic\">None</span><span style=\"color: #000000; text-decoration-color: #000000\"> - </span><span style=\"color: #000000; text-decoration-color: #000000; font-weight: bold\">(</span><span style=\"color: #000000; text-decoration-color: #000000\">Holidays in United States</span><span style=\"color: #000000; text-decoration-color: #000000; font-weight: bold\">)</span><span style=\"color: #000000; text-decoration-color: #000000\">&gt;,</span>\n",
       "<span style=\"color: #000000; text-decoration-color: #000000\">    &lt;CalendarListEntry </span><span style=\"color: #800080; text-decoration-color: #800080; font-style: italic\">None</span><span style=\"color: #000000; text-decoration-color: #000000\"> - </span><span style=\"color: #000000; text-decoration-color: #000000; font-weight: bold\">(</span><span style=\"color: #000000; text-decoration-color: #000000\">Axis Ludi Calendar</span><span style=\"color: #000000; text-decoration-color: #000000; font-weight: bold\">)</span><span style=\"color: #000000; text-decoration-color: #000000\">&gt;,</span>\n",
       "<span style=\"color: #000000; text-decoration-color: #000000\">    &lt;CalendarListEntry </span><span style=\"color: #800080; text-decoration-color: #800080; font-style: italic\">None</span><span style=\"color: #000000; text-decoration-color: #000000\"> - </span><span style=\"color: #000000; text-decoration-color: #000000; font-weight: bold\">(</span><span style=\"color: #000000; text-decoration-color: #000000\">Keith Davis</span><span style=\"color: #000000; text-decoration-color: #000000; font-weight: bold\">)</span><span style=\"color: #000000; text-decoration-color: #000000\">&gt;,</span>\n",
       "<span style=\"color: #000000; text-decoration-color: #000000\">    &lt;CalendarListEntry </span><span style=\"color: #800080; text-decoration-color: #800080; font-style: italic\">None</span><span style=\"color: #000000; text-decoration-color: #000000\"> - </span><span style=\"color: #000000; text-decoration-color: #000000; font-weight: bold\">(</span><span style=\"color: #000000; text-decoration-color: #000000\">ND-DVT Calendar</span><span style=\"color: #000000; text-decoration-color: #000000; font-weight: bold\">)</span><span style=\"color: #000000; text-decoration-color: #000000\">&gt;,</span>\n",
       "<span style=\"color: #000000; text-decoration-color: #000000\">    &lt;CalendarListEntry ND Academic Calendar - </span><span style=\"color: #000000; text-decoration-color: #000000; font-weight: bold\">(</span><span style=\"color: #000000; text-decoration-color: #000000\">Academic Calendar</span><span style=\"color: #000000; text-decoration-color: #000000; font-weight: bold\">)</span><span style=\"color: #000000; text-decoration-color: #000000\">&gt;,</span>\n",
       "<span style=\"color: #000000; text-decoration-color: #000000\">    &lt;CalendarListEntry </span><span style=\"color: #800080; text-decoration-color: #800080; font-style: italic\">None</span><span style=\"color: #000000; text-decoration-color: #000000\"> - </span><span style=\"color: #000000; text-decoration-color: #000000; font-weight: bold\">(</span><span style=\"color: #000000; text-decoration-color: #000000\">kdavis10@nd.edu</span><span style=\"color: #000000; text-decoration-color: #000000; font-weight: bold\">)</span><span style=\"font-weight: bold\">&gt;</span>\n",
       "<span style=\"font-weight: bold\">]</span>\n",
       "</pre>\n"
      ],
      "text/plain": [
       "\u001b[1m[\u001b[0m\n",
       "    \u001b[1m<\u001b[0m\u001b[1;95mCalendarListEntry\u001b[0m\u001b[39m \u001b[0m\u001b[3;35mNone\u001b[0m\u001b[39m - \u001b[0m\u001b[1;39m(\u001b[0m\u001b[39mNYT Astronomy and Space Calendar\u001b[0m\u001b[1;39m)\u001b[0m\u001b[39m>,\u001b[0m\n",
       "\u001b[39m    <CalendarListEntry \u001b[0m\u001b[3;35mNone\u001b[0m\u001b[39m - \u001b[0m\u001b[1;39m(\u001b[0m\u001b[39mCoS College-wide Events & Conferences\u001b[0m\u001b[1;39m)\u001b[0m\u001b[39m>,\u001b[0m\n",
       "\u001b[39m    <CalendarListEntry \u001b[0m\u001b[3;35mNone\u001b[0m\u001b[39m - \u001b[0m\u001b[1;39m(\u001b[0m\u001b[39mSeasons\u001b[0m\u001b[1;39m)\u001b[0m\u001b[39m>,\u001b[0m\n",
       "\u001b[39m    <CalendarListEntry \u001b[0m\u001b[3;35mNone\u001b[0m\u001b[39m - \u001b[0m\u001b[1;39m(\u001b[0m\u001b[4;94mhttp://universerevealed.nd.edu/?\u001b[0m\u001b[4;94meme_ical\u001b[0m\u001b[4;94m=\u001b[0m\u001b[4;94mpublic\u001b[0m\u001b[4;94m)\u001b[0m\u001b[39m>,\u001b[0m\n",
       "\u001b[39m    <CalendarListEntry \u001b[0m\u001b[3;35mNone\u001b[0m\u001b[39m - \u001b[0m\u001b[1;39m(\u001b[0m\u001b[39mHolidays in United States\u001b[0m\u001b[1;39m)\u001b[0m\u001b[39m>,\u001b[0m\n",
       "\u001b[39m    <CalendarListEntry \u001b[0m\u001b[3;35mNone\u001b[0m\u001b[39m - \u001b[0m\u001b[1;39m(\u001b[0m\u001b[39mAxis Ludi Calendar\u001b[0m\u001b[1;39m)\u001b[0m\u001b[39m>,\u001b[0m\n",
       "\u001b[39m    <CalendarListEntry \u001b[0m\u001b[3;35mNone\u001b[0m\u001b[39m - \u001b[0m\u001b[1;39m(\u001b[0m\u001b[39mKeith Davis\u001b[0m\u001b[1;39m)\u001b[0m\u001b[39m>,\u001b[0m\n",
       "\u001b[39m    <CalendarListEntry \u001b[0m\u001b[3;35mNone\u001b[0m\u001b[39m - \u001b[0m\u001b[1;39m(\u001b[0m\u001b[39mND-DVT Calendar\u001b[0m\u001b[1;39m)\u001b[0m\u001b[39m>,\u001b[0m\n",
       "\u001b[39m    <CalendarListEntry ND Academic Calendar - \u001b[0m\u001b[1;39m(\u001b[0m\u001b[39mAcademic Calendar\u001b[0m\u001b[1;39m)\u001b[0m\u001b[39m>,\u001b[0m\n",
       "\u001b[39m    <CalendarListEntry \u001b[0m\u001b[3;35mNone\u001b[0m\u001b[39m - \u001b[0m\u001b[1;39m(\u001b[0m\u001b[39mkdavis10@nd.edu\u001b[0m\u001b[1;39m)\u001b[0m\u001b[1m>\u001b[0m\n",
       "\u001b[1m]\u001b[0m\n"
      ]
     },
     "metadata": {},
     "output_type": "display_data"
    }
   ],
   "source": [
    "year = y24 = model.Year(2024)\n",
    "\n",
    "traces = []\n",
    "\n",
    "clist = list(gcal.get_calendar_list())\n",
    "sel_cal_summ = [\"http://universerevealed.nd.edu/?eme_ical=public\",\n",
    "                \"NYT Astronomy and Space Calendar\",\n",
    "                \"kdavis10@nd.edu\",\n",
    "                \"ND-DVT Calendar\",\n",
    "                \"CoS College-wide Events & Conferences\",\n",
    "                \"Keith Davis\",\n",
    "                \"Axis Ludi Calendar\",\n",
    "                \"Holidays in United States\",\n",
    "                \"Academic Calendar\",\n",
    "                \"Seasons\"]\n",
    "\n",
    "selcal = [c for c in clist if c.summary in sel_cal_summ]\n",
    "print(selcal)\n",
    "\n",
    "ws = year.weekends()"
   ]
  },
  {
   "cell_type": "code",
   "execution_count": 4,
   "id": "5f78e1d5-6804-4870-8b22-ac5df633a9cb",
   "metadata": {},
   "outputs": [
    {
     "name": "stderr",
     "output_type": "stream",
     "text": [
      "/Users/kdavis10/Documents/PythonProjects/taskbraid/python/circlecal/circle_cal/plot.py:85: FutureWarning: The behavior of DataFrame concatenation with empty or all-NA entries is deprecated. In a future version, this will no longer exclude empty or all-NA columns when determining the result dtypes. To retain the old behavior, exclude the relevant entries before the concat operation.\n",
      "  df = pd.concat(dfs, axis=\"rows\", ignore_index=True)\n"
     ]
    },
    {
     "data": {
      "text/html": [
       "<div>\n",
       "<style scoped>\n",
       "    .dataframe tbody tr th:only-of-type {\n",
       "        vertical-align: middle;\n",
       "    }\n",
       "\n",
       "    .dataframe tbody tr th {\n",
       "        vertical-align: top;\n",
       "    }\n",
       "\n",
       "    .dataframe thead th {\n",
       "        text-align: right;\n",
       "    }\n",
       "</style>\n",
       "<table border=\"1\" class=\"dataframe\">\n",
       "  <thead>\n",
       "    <tr style=\"text-align: right;\">\n",
       "      <th></th>\n",
       "      <th>Event_obj</th>\n",
       "      <th>duration</th>\n",
       "      <th>mid</th>\n",
       "      <th>start</th>\n",
       "      <th>end</th>\n",
       "      <th>summary</th>\n",
       "      <th>color</th>\n",
       "      <th>calendar_id</th>\n",
       "      <th>calendar</th>\n",
       "      <th>weekday</th>\n",
       "    </tr>\n",
       "  </thead>\n",
       "  <tbody>\n",
       "    <tr>\n",
       "      <th>0</th>\n",
       "      <td>&lt;circle_cal.model.EventWrap object at 0x11fd5a...</td>\n",
       "      <td>1 days 00:00:00</td>\n",
       "      <td>2024-01-01 12:00:00-05:00</td>\n",
       "      <td>2024-01-01 00:00:00-05:00</td>\n",
       "      <td>2024-01-02 00:00:00-05:00</td>\n",
       "      <td>Happy New Year From Science Times</td>\n",
       "      <td>#9fc6e7</td>\n",
       "      <td>nytimes.com_89ai4ijpb733gt28rg21d2c2ek@group.c...</td>\n",
       "      <td>NYT Astronomy and Space Calendar</td>\n",
       "      <td>Monday</td>\n",
       "    </tr>\n",
       "    <tr>\n",
       "      <th>1</th>\n",
       "      <td>&lt;circle_cal.model.EventWrap object at 0x11fd5a...</td>\n",
       "      <td>2 days 00:00:00</td>\n",
       "      <td>2024-01-04 00:00:00-05:00</td>\n",
       "      <td>2024-01-03 00:00:00-05:00</td>\n",
       "      <td>2024-01-05 00:00:00-05:00</td>\n",
       "      <td>The Quadrantid meteor shower will reach its peak.</td>\n",
       "      <td>#9fc6e7</td>\n",
       "      <td>nytimes.com_89ai4ijpb733gt28rg21d2c2ek@group.c...</td>\n",
       "      <td>NYT Astronomy and Space Calendar</td>\n",
       "      <td>Wednesday</td>\n",
       "    </tr>\n",
       "    <tr>\n",
       "      <th>2</th>\n",
       "      <td>&lt;circle_cal.model.EventWrap object at 0x11fd5a...</td>\n",
       "      <td>2 days 00:00:00</td>\n",
       "      <td>2024-04-22 00:00:00-04:00</td>\n",
       "      <td>2024-04-21 00:00:00-04:00</td>\n",
       "      <td>2024-04-23 00:00:00-04:00</td>\n",
       "      <td>The Lyrid meteor shower will reach its peak.</td>\n",
       "      <td>#9fc6e7</td>\n",
       "      <td>nytimes.com_89ai4ijpb733gt28rg21d2c2ek@group.c...</td>\n",
       "      <td>NYT Astronomy and Space Calendar</td>\n",
       "      <td>Sunday</td>\n",
       "    </tr>\n",
       "    <tr>\n",
       "      <th>3</th>\n",
       "      <td>&lt;circle_cal.model.EventWrap object at 0x11fd5a...</td>\n",
       "      <td>2 days 00:00:00</td>\n",
       "      <td>2024-08-12 00:00:00-04:00</td>\n",
       "      <td>2024-08-11 00:00:00-04:00</td>\n",
       "      <td>2024-08-13 00:00:00-04:00</td>\n",
       "      <td>The Perseid meteor shower will reach its peak.</td>\n",
       "      <td>#9fc6e7</td>\n",
       "      <td>nytimes.com_89ai4ijpb733gt28rg21d2c2ek@group.c...</td>\n",
       "      <td>NYT Astronomy and Space Calendar</td>\n",
       "      <td>Sunday</td>\n",
       "    </tr>\n",
       "    <tr>\n",
       "      <th>4</th>\n",
       "      <td>&lt;circle_cal.model.EventWrap object at 0x11fd5a...</td>\n",
       "      <td>1 days 00:00:00</td>\n",
       "      <td>2024-09-22 12:00:00-04:00</td>\n",
       "      <td>2024-09-22 00:00:00-04:00</td>\n",
       "      <td>2024-09-23 00:00:00-04:00</td>\n",
       "      <td>Autumn is here.</td>\n",
       "      <td>#9fc6e7</td>\n",
       "      <td>nytimes.com_89ai4ijpb733gt28rg21d2c2ek@group.c...</td>\n",
       "      <td>NYT Astronomy and Space Calendar</td>\n",
       "      <td>Sunday</td>\n",
       "    </tr>\n",
       "    <tr>\n",
       "      <th>...</th>\n",
       "      <td>...</td>\n",
       "      <td>...</td>\n",
       "      <td>...</td>\n",
       "      <td>...</td>\n",
       "      <td>...</td>\n",
       "      <td>...</td>\n",
       "      <td>...</td>\n",
       "      <td>...</td>\n",
       "      <td>...</td>\n",
       "      <td>...</td>\n",
       "    </tr>\n",
       "    <tr>\n",
       "      <th>1190</th>\n",
       "      <td>&lt;circle_cal.model.EventWrap object at 0x1280f3...</td>\n",
       "      <td>0 days 01:00:00</td>\n",
       "      <td>2024-09-12 13:00:00-04:00</td>\n",
       "      <td>2024-09-12 12:30:00-04:00</td>\n",
       "      <td>2024-09-12 13:30:00-04:00</td>\n",
       "      <td>Astro Journal Club</td>\n",
       "      <td>#ffad46</td>\n",
       "      <td>kdavis10@nd.edu</td>\n",
       "      <td>kdavis10@nd.edu</td>\n",
       "      <td>Thursday</td>\n",
       "    </tr>\n",
       "    <tr>\n",
       "      <th>1191</th>\n",
       "      <td>&lt;circle_cal.model.EventWrap object at 0x1280f3...</td>\n",
       "      <td>0 days 02:30:00</td>\n",
       "      <td>2024-09-05 17:45:00-04:00</td>\n",
       "      <td>2024-09-05 16:30:00-04:00</td>\n",
       "      <td>2024-09-05 19:00:00-04:00</td>\n",
       "      <td>Save the Date! Academic Year kick-off; All-Col...</td>\n",
       "      <td>#ffad46</td>\n",
       "      <td>kdavis10@nd.edu</td>\n",
       "      <td>kdavis10@nd.edu</td>\n",
       "      <td>Thursday</td>\n",
       "    </tr>\n",
       "    <tr>\n",
       "      <th>1192</th>\n",
       "      <td>&lt;circle_cal.model.EventWrap object at 0x1280f3...</td>\n",
       "      <td>0 days 01:30:00</td>\n",
       "      <td>2024-09-20 13:15:00-04:00</td>\n",
       "      <td>2024-09-20 12:30:00-04:00</td>\n",
       "      <td>2024-09-20 14:00:00-04:00</td>\n",
       "      <td>Faculty Meeting- External Review</td>\n",
       "      <td>#ffad46</td>\n",
       "      <td>kdavis10@nd.edu</td>\n",
       "      <td>kdavis10@nd.edu</td>\n",
       "      <td>Friday</td>\n",
       "    </tr>\n",
       "    <tr>\n",
       "      <th>1193</th>\n",
       "      <td>&lt;circle_cal.model.EventWrap object at 0x1280f3...</td>\n",
       "      <td>0 days 01:30:00</td>\n",
       "      <td>2024-10-04 13:15:00-04:00</td>\n",
       "      <td>2024-10-04 12:30:00-04:00</td>\n",
       "      <td>2024-10-04 14:00:00-04:00</td>\n",
       "      <td>Faculty Meeting</td>\n",
       "      <td>#ffad46</td>\n",
       "      <td>kdavis10@nd.edu</td>\n",
       "      <td>kdavis10@nd.edu</td>\n",
       "      <td>Friday</td>\n",
       "    </tr>\n",
       "    <tr>\n",
       "      <th>1194</th>\n",
       "      <td>&lt;circle_cal.model.EventWrap object at 0x1280f3...</td>\n",
       "      <td>0 days 00:30:00</td>\n",
       "      <td>2024-09-18 14:45:00-04:00</td>\n",
       "      <td>2024-09-18 14:30:00-04:00</td>\n",
       "      <td>2024-09-18 15:00:00-04:00</td>\n",
       "      <td>Outreach Meeting</td>\n",
       "      <td>#ffad46</td>\n",
       "      <td>kdavis10@nd.edu</td>\n",
       "      <td>kdavis10@nd.edu</td>\n",
       "      <td>Wednesday</td>\n",
       "    </tr>\n",
       "  </tbody>\n",
       "</table>\n",
       "<p>1195 rows × 10 columns</p>\n",
       "</div>"
      ],
      "text/plain": [
       "                                              Event_obj        duration  \\\n",
       "0     <circle_cal.model.EventWrap object at 0x11fd5a... 1 days 00:00:00   \n",
       "1     <circle_cal.model.EventWrap object at 0x11fd5a... 2 days 00:00:00   \n",
       "2     <circle_cal.model.EventWrap object at 0x11fd5a... 2 days 00:00:00   \n",
       "3     <circle_cal.model.EventWrap object at 0x11fd5a... 2 days 00:00:00   \n",
       "4     <circle_cal.model.EventWrap object at 0x11fd5a... 1 days 00:00:00   \n",
       "...                                                 ...             ...   \n",
       "1190  <circle_cal.model.EventWrap object at 0x1280f3... 0 days 01:00:00   \n",
       "1191  <circle_cal.model.EventWrap object at 0x1280f3... 0 days 02:30:00   \n",
       "1192  <circle_cal.model.EventWrap object at 0x1280f3... 0 days 01:30:00   \n",
       "1193  <circle_cal.model.EventWrap object at 0x1280f3... 0 days 01:30:00   \n",
       "1194  <circle_cal.model.EventWrap object at 0x1280f3... 0 days 00:30:00   \n",
       "\n",
       "                           mid                     start  \\\n",
       "0    2024-01-01 12:00:00-05:00 2024-01-01 00:00:00-05:00   \n",
       "1    2024-01-04 00:00:00-05:00 2024-01-03 00:00:00-05:00   \n",
       "2    2024-04-22 00:00:00-04:00 2024-04-21 00:00:00-04:00   \n",
       "3    2024-08-12 00:00:00-04:00 2024-08-11 00:00:00-04:00   \n",
       "4    2024-09-22 12:00:00-04:00 2024-09-22 00:00:00-04:00   \n",
       "...                        ...                       ...   \n",
       "1190 2024-09-12 13:00:00-04:00 2024-09-12 12:30:00-04:00   \n",
       "1191 2024-09-05 17:45:00-04:00 2024-09-05 16:30:00-04:00   \n",
       "1192 2024-09-20 13:15:00-04:00 2024-09-20 12:30:00-04:00   \n",
       "1193 2024-10-04 13:15:00-04:00 2024-10-04 12:30:00-04:00   \n",
       "1194 2024-09-18 14:45:00-04:00 2024-09-18 14:30:00-04:00   \n",
       "\n",
       "                           end  \\\n",
       "0    2024-01-02 00:00:00-05:00   \n",
       "1    2024-01-05 00:00:00-05:00   \n",
       "2    2024-04-23 00:00:00-04:00   \n",
       "3    2024-08-13 00:00:00-04:00   \n",
       "4    2024-09-23 00:00:00-04:00   \n",
       "...                        ...   \n",
       "1190 2024-09-12 13:30:00-04:00   \n",
       "1191 2024-09-05 19:00:00-04:00   \n",
       "1192 2024-09-20 14:00:00-04:00   \n",
       "1193 2024-10-04 14:00:00-04:00   \n",
       "1194 2024-09-18 15:00:00-04:00   \n",
       "\n",
       "                                                summary    color  \\\n",
       "0                     Happy New Year From Science Times  #9fc6e7   \n",
       "1     The Quadrantid meteor shower will reach its peak.  #9fc6e7   \n",
       "2          The Lyrid meteor shower will reach its peak.  #9fc6e7   \n",
       "3        The Perseid meteor shower will reach its peak.  #9fc6e7   \n",
       "4                                       Autumn is here.  #9fc6e7   \n",
       "...                                                 ...      ...   \n",
       "1190                                 Astro Journal Club  #ffad46   \n",
       "1191  Save the Date! Academic Year kick-off; All-Col...  #ffad46   \n",
       "1192                   Faculty Meeting- External Review  #ffad46   \n",
       "1193                                    Faculty Meeting  #ffad46   \n",
       "1194                                   Outreach Meeting  #ffad46   \n",
       "\n",
       "                                            calendar_id  \\\n",
       "0     nytimes.com_89ai4ijpb733gt28rg21d2c2ek@group.c...   \n",
       "1     nytimes.com_89ai4ijpb733gt28rg21d2c2ek@group.c...   \n",
       "2     nytimes.com_89ai4ijpb733gt28rg21d2c2ek@group.c...   \n",
       "3     nytimes.com_89ai4ijpb733gt28rg21d2c2ek@group.c...   \n",
       "4     nytimes.com_89ai4ijpb733gt28rg21d2c2ek@group.c...   \n",
       "...                                                 ...   \n",
       "1190                                    kdavis10@nd.edu   \n",
       "1191                                    kdavis10@nd.edu   \n",
       "1192                                    kdavis10@nd.edu   \n",
       "1193                                    kdavis10@nd.edu   \n",
       "1194                                    kdavis10@nd.edu   \n",
       "\n",
       "                              calendar    weekday  \n",
       "0     NYT Astronomy and Space Calendar     Monday  \n",
       "1     NYT Astronomy and Space Calendar  Wednesday  \n",
       "2     NYT Astronomy and Space Calendar     Sunday  \n",
       "3     NYT Astronomy and Space Calendar     Sunday  \n",
       "4     NYT Astronomy and Space Calendar     Sunday  \n",
       "...                                ...        ...  \n",
       "1190                   kdavis10@nd.edu   Thursday  \n",
       "1191                   kdavis10@nd.edu   Thursday  \n",
       "1192                   kdavis10@nd.edu     Friday  \n",
       "1193                   kdavis10@nd.edu     Friday  \n",
       "1194                   kdavis10@nd.edu  Wednesday  \n",
       "\n",
       "[1195 rows x 10 columns]"
      ]
     },
     "execution_count": 4,
     "metadata": {},
     "output_type": "execute_result"
    }
   ],
   "source": [
    "df = ccplot.selected_cals_to_dataframe(gcal, selcal, y24)\n",
    "df"
   ]
  },
  {
   "cell_type": "code",
   "execution_count": 5,
   "id": "ded92581-dfc9-4ee1-bc57-dd0895f265cf",
   "metadata": {},
   "outputs": [],
   "source": [
    "ii = pd.IntervalIndex([pd.Interval(pd.Timedelta(days=0), pd.Timedelta(hours=23, minutes=59, seconds=59)),\n",
    "                       pd.Interval(pd.Timedelta(hours=23, minutes=59, seconds=59), pd.Timedelta(days=1)),\n",
    "                       pd.Interval(pd.Timedelta(days=1), pd.Timedelta(days=31)),\n",
    "                       pd.Interval(pd.Timedelta(days=31), pd.Timedelta(days=10000))])\n",
    "intervalsdf = pd.DataFrame(data=[\"hours\", \"day\", \"weeks\", \"months\"], index=ii, columns=[\"name\"])\n",
    "intervalsdf[\"opacity\"] = [1, 0.8, 0.7, 0.5]\n",
    "intervalsdf[\"rbase\"] = list(reversed([0.5, 0.6, 0.7, 0.8]))\n",
    "\n"
   ]
  },
  {
   "cell_type": "code",
   "execution_count": 6,
   "id": "2a002b3a-db3f-4f8d-9775-7cd557bd0934",
   "metadata": {},
   "outputs": [],
   "source": [
    "df[\"scale\"] = pd.cut(df[\"duration\"], intervalsdf.index)"
   ]
  },
  {
   "cell_type": "code",
   "execution_count": 7,
   "id": "178a4092-8082-438c-b185-66256c5fd216",
   "metadata": {},
   "outputs": [],
   "source": [
    "df[\"ring\"] = intervalsdf[\"name\"].loc[df[\"scale\"]].reset_index(drop=True)\n",
    "df[\"opacity\"] = intervalsdf[\"opacity\"].loc[df[\"scale\"]].reset_index(drop=True)\n",
    "df[\"rbase\"] = intervalsdf[\"rbase\"].loc[df[\"scale\"]].reset_index(drop=True)"
   ]
  },
  {
   "cell_type": "code",
   "execution_count": 8,
   "id": "5cd6d5f9-4618-40d5-a0da-e5805715f0e8",
   "metadata": {},
   "outputs": [],
   "source": [
    "def calendar_ticks(year):\n",
    "    tickvals = []\n",
    "    ticktext = []\n",
    "    for m in year:\n",
    "        tickvals.append(year.to_theta(m.start))\n",
    "        #tickvals.append(ts_to_theta(model.to_timestamp(m.mid),\n",
    "         #                           model.to_timestamp(year.start.datetime()),\n",
    "          #                          (year.duration / timedelta(days=1)) / 360))\n",
    "        #ticktext.append(\"\")\n",
    "        ticktext.append(m.name)\n",
    "    return (tickvals, ticktext)\n",
    "        \n",
    "\n",
    "##def ring_to_base(ring, intervalsdf):\n",
    " #   dr = 1/(len(intervalsdf) + 1)\n",
    " #   rvalues = [(r+1) * dr for r in range(len(intervalsdf))]   \n",
    " #   d = dict(zip(intervalsdf.name.values, reversed(rvalues)))\n",
    " #   return d[ring]\n",
    "    \n",
    "year=y24\n",
    "\n",
    "df[\"midtheta\"] = df.mid.apply(year.to_theta)\n",
    "df[\"width\"] = df.duration.apply(year.to_theta)\n",
    "#df[\"rbase\"] = df.ring.apply(lambda x: ring_to_base(x, intervalsdf))\n",
    "#df[\"rbase\"] = .5\n",
    "df[\"r\"] = .1 * .97 #1/(len(intervalsdf) + 1) * .97\n"
   ]
  },
  {
   "cell_type": "code",
   "execution_count": 9,
   "id": "102bed9c-1341-499e-a5f7-c633f21e5dd2",
   "metadata": {},
   "outputs": [
    {
     "ename": "NameError",
     "evalue": "name 'o_theta' is not defined",
     "output_type": "error",
     "traceback": [
      "\u001b[0;31m---------------------------------------------------------------------------\u001b[0m",
      "\u001b[0;31mNameError\u001b[0m                                 Traceback (most recent call last)",
      "Cell \u001b[0;32mIn[9], line 21\u001b[0m\n\u001b[1;32m     18\u001b[0m df \u001b[38;5;241m=\u001b[39m dring\n\u001b[1;32m     19\u001b[0m tickvals, ticktext \u001b[38;5;241m=\u001b[39m calendar_ticks(y24)\n\u001b[0;32m---> 21\u001b[0m f\u001b[38;5;241m.\u001b[39madd_trace(go\u001b[38;5;241m.\u001b[39mBarpolar(theta\u001b[38;5;241m=\u001b[39m[\u001b[43mo_theta\u001b[49m(model\u001b[38;5;241m.\u001b[39mto_timestamp(w\u001b[38;5;241m.\u001b[39mmid), model\u001b[38;5;241m.\u001b[39mto_timestamp(y24\u001b[38;5;241m.\u001b[39mstart\u001b[38;5;241m.\u001b[39mdatetime())) \u001b[38;5;28;01mfor\u001b[39;00m w \u001b[38;5;129;01min\u001b[39;00m ws],\n\u001b[1;32m     22\u001b[0m                         \u001b[38;5;66;03m#r=len(ws) * [.167], base=.167,\u001b[39;00m\n\u001b[1;32m     23\u001b[0m                         r\u001b[38;5;241m=\u001b[39m\u001b[38;5;28mlen\u001b[39m(ws) \u001b[38;5;241m*\u001b[39m [\u001b[38;5;241m.1\u001b[39m], base\u001b[38;5;241m=\u001b[39m\u001b[38;5;241m.4\u001b[39m,\n\u001b[1;32m     24\u001b[0m                         marker_color\u001b[38;5;241m=\u001b[39m\u001b[38;5;124m\"\u001b[39m\u001b[38;5;124m#E1E1E1\u001b[39m\u001b[38;5;124m\"\u001b[39m, marker_opacity\u001b[38;5;241m=\u001b[39m\u001b[38;5;241m.5\u001b[39m,\n\u001b[1;32m     25\u001b[0m                         width\u001b[38;5;241m=\u001b[39m[(w\u001b[38;5;241m.\u001b[39mduration \u001b[38;5;241m/\u001b[39m year\u001b[38;5;241m.\u001b[39mduration \u001b[38;5;241m*\u001b[39m \u001b[38;5;241m360\u001b[39m) \u001b[38;5;28;01mfor\u001b[39;00m w \u001b[38;5;129;01min\u001b[39;00m ws], name\u001b[38;5;241m=\u001b[39m\u001b[38;5;124m\"\u001b[39m\u001b[38;5;124mWeekends\u001b[39m\u001b[38;5;124m\"\u001b[39m,\n\u001b[1;32m     26\u001b[0m                        customdata\u001b[38;5;241m=\u001b[39m[(w\u001b[38;5;241m.\u001b[39mstart, w\u001b[38;5;241m.\u001b[39mend) \u001b[38;5;28;01mfor\u001b[39;00m w \u001b[38;5;129;01min\u001b[39;00m ws])\n\u001b[1;32m     27\u001b[0m            )\n\u001b[1;32m     29\u001b[0m f\u001b[38;5;241m.\u001b[39mupdate_layout(height\u001b[38;5;241m=\u001b[39m\u001b[38;5;241m800\u001b[39m)\n\u001b[1;32m     30\u001b[0m f\u001b[38;5;241m.\u001b[39mupdate_layout(\n\u001b[1;32m     31\u001b[0m     template\u001b[38;5;241m=\u001b[39m\u001b[38;5;28;01mNone\u001b[39;00m,\n\u001b[1;32m     32\u001b[0m     polar \u001b[38;5;241m=\u001b[39m \u001b[38;5;28mdict\u001b[39m(\n\u001b[0;32m   (...)\u001b[0m\n\u001b[1;32m     43\u001b[0m     )\n\u001b[1;32m     44\u001b[0m )\n",
      "\u001b[0;31mNameError\u001b[0m: name 'o_theta' is not defined"
     ]
    }
   ],
   "source": [
    "dring = df\n",
    "try:\n",
    "    del f\n",
    "except NameError:\n",
    "    pass\n",
    "f = subplotsfig = make_subplots(rows=1, cols=2, specs=[[{'type': 'polar'}, {'type': 'polar'}]])\n",
    "f = go.Figure(f)\n",
    "#f = go.Figure()\n",
    "\n",
    "for cal in pd.unique(df.calendar):\n",
    "    df = dring[dring[\"calendar\"] == cal]\n",
    "    f.add_trace(go.Barpolar(theta=df.midtheta, r=df.r, width=df.width, base=df.rbase,\n",
    "                            text=df.summary, marker_color=df.color, name=cal, #marker_opacity=df.opacity\n",
    "                            customdata=df[[\"start\", \"end\"]],\n",
    "                            \n",
    "                           )\n",
    "               )\n",
    "df = dring\n",
    "tickvals, ticktext = calendar_ticks(y24)\n",
    "\n",
    "f.add_trace(go.Barpolar(theta=[o_theta(model.to_timestamp(w.mid), model.to_timestamp(y24.start.datetime())) for w in ws],\n",
    "                        #r=len(ws) * [.167], base=.167,\n",
    "                        r=len(ws) * [.1], base=.4,\n",
    "                        marker_color=\"#E1E1E1\", marker_opacity=.5,\n",
    "                        width=[(w.duration / year.duration * 360) for w in ws], name=\"Weekends\",\n",
    "                       customdata=[(w.start, w.end) for w in ws])\n",
    "           )\n",
    "\n",
    "f.update_layout(height=800)\n",
    "f.update_layout(\n",
    "    template=None,\n",
    "    polar = dict(\n",
    "        radialaxis = dict(tickvals=[intervalsdf.rbase],\n",
    "                          showticklabels=False, ticks='',\n",
    "                         ),\n",
    "        angularaxis = dict(\n",
    "            rotation = -90,\n",
    "            showticklabels=True,\n",
    "            ticks='outside',\n",
    "            ticktext=ticktext,\n",
    "            tickvals=tickvals,\n",
    "        )\n",
    "    )\n",
    ")\n",
    "f.update_traces(hovertemplate=\"%{text}<br>Start: %{customdata[0]|%Y/%m/%d %H:%M:%S.%L}\"\n",
    "               \"<br>End: %{customdata[1]|%Y/%m/%d %H:%M:%S.%L}\")\n",
    "#f.add_trace(go.Sunburst(yd))\n",
    "f.add_trace(go.Scatterpolar(r=[0, 1], theta=2*[ts_to_theta(model.to_timestamp(datetime.now()),\n",
    "                                                           model.to_timestamp(y24.start.datetime()),\n",
    "                                                          366 / 360)], name=\"Now\", marker_color=\"black\", text=[\"Today\"]*2))\n",
    "\n",
    "for t in f.data:\n",
    "    f.add_trace(t, 1, 2)\n",
    "\n",
    "f.update_layout(polar2=dict(angularaxis=f.layout[\"polar\"][\"angularaxis\"],\n",
    "                           radialaxis=f.layout[\"polar\"][\"radialaxis\"]))\n",
    "f.update_layout(polar2=dict(sector=[90,100]))\n",
    "\n",
    "f.show()"
   ]
  },
  {
   "cell_type": "code",
   "execution_count": 12,
   "id": "d8514e82-c480-4f35-ac53-8494d846bd0c",
   "metadata": {},
   "outputs": [
    {
     "data": {
      "text/plain": [
       "layout.Polar({\n",
       "    'angularaxis': {'rotation': -90,\n",
       "                    'showticklabels': True,\n",
       "                    'ticks': 'outside',\n",
       "                    'ticktext': [January, February, March, April, May, June, July,\n",
       "                                 August, September, October, November, December],\n",
       "                    'tickvals': [0.0, 30.491803278688526, 59.016393442622956,\n",
       "                                 89.4672131147541, 118.97540983606558,\n",
       "                                 149.46721311475412, 178.97540983606558,\n",
       "                                 209.46721311475412, 239.95901639344265,\n",
       "                                 269.4672131147541, 299.9590163934426,\n",
       "                                 329.5081967213115]},\n",
       "    'domain': {'x': [0.0, 0.45], 'y': [0.0, 1.0]},\n",
       "    'radialaxis': {'showticklabels': False, 'ticks': '', 'tickvals': [[0.8, 0.7, 0.6, 0.5]]}\n",
       "})"
      ]
     },
     "execution_count": 12,
     "metadata": {},
     "output_type": "execute_result"
    }
   ],
   "source": [
    "f.layout[\"polar\"]"
   ]
  },
  {
   "cell_type": "code",
   "execution_count": 13,
   "id": "94043be9-1c6b-4127-88f8-b42d1bcf8bf8",
   "metadata": {},
   "outputs": [],
   "source": [
    "g = iter(year)"
   ]
  },
  {
   "cell_type": "code",
   "execution_count": 14,
   "id": "28d585d3-a82e-4e2a-8afd-1d45aea82b94",
   "metadata": {},
   "outputs": [
    {
     "data": {
      "text/html": [
       "<pre style=\"white-space:pre;overflow-x:auto;line-height:normal;font-family:Menlo,'DejaVu Sans Mono',consolas,'Courier New',monospace\"><span style=\"font-weight: bold\">{</span><span style=\"color: #008000; text-decoration-color: #008000\">'year'</span>: <span style=\"color: #008080; text-decoration-color: #008080; font-weight: bold\">2024</span>, <span style=\"color: #008000; text-decoration-color: #008000\">'month'</span>: <span style=\"color: #008080; text-decoration-color: #008080; font-weight: bold\">1</span>, <span style=\"color: #008000; text-decoration-color: #008000\">'type'</span>: <span style=\"color: #008000; text-decoration-color: #008000\">'CalendarElement'</span><span style=\"font-weight: bold\">}</span>\n",
       "</pre>\n"
      ],
      "text/plain": [
       "\u001b[1m{\u001b[0m\u001b[32m'year'\u001b[0m: \u001b[1;36m2024\u001b[0m, \u001b[32m'month'\u001b[0m: \u001b[1;36m1\u001b[0m, \u001b[32m'type'\u001b[0m: \u001b[32m'CalendarElement'\u001b[0m\u001b[1m}\u001b[0m\n"
      ]
     },
     "metadata": {},
     "output_type": "display_data"
    },
    {
     "data": {
      "text/html": [
       "<pre style=\"white-space:pre;overflow-x:auto;line-height:normal;font-family:Menlo,'DejaVu Sans Mono',consolas,'Courier New',monospace\"><span style=\"font-weight: bold\">{</span><span style=\"color: #008000; text-decoration-color: #008000\">'year'</span>: <span style=\"color: #008080; text-decoration-color: #008080; font-weight: bold\">2024</span>, <span style=\"color: #008000; text-decoration-color: #008000\">'month'</span>: <span style=\"color: #008080; text-decoration-color: #008080; font-weight: bold\">2</span>, <span style=\"color: #008000; text-decoration-color: #008000\">'type'</span>: <span style=\"color: #008000; text-decoration-color: #008000\">'CalendarElement'</span><span style=\"font-weight: bold\">}</span>\n",
       "</pre>\n"
      ],
      "text/plain": [
       "\u001b[1m{\u001b[0m\u001b[32m'year'\u001b[0m: \u001b[1;36m2024\u001b[0m, \u001b[32m'month'\u001b[0m: \u001b[1;36m2\u001b[0m, \u001b[32m'type'\u001b[0m: \u001b[32m'CalendarElement'\u001b[0m\u001b[1m}\u001b[0m\n"
      ]
     },
     "metadata": {},
     "output_type": "display_data"
    },
    {
     "data": {
      "text/html": [
       "<pre style=\"white-space:pre;overflow-x:auto;line-height:normal;font-family:Menlo,'DejaVu Sans Mono',consolas,'Courier New',monospace\"><span style=\"font-weight: bold\">{</span><span style=\"color: #008000; text-decoration-color: #008000\">'year'</span>: <span style=\"color: #008080; text-decoration-color: #008080; font-weight: bold\">2024</span>, <span style=\"color: #008000; text-decoration-color: #008000\">'month'</span>: <span style=\"color: #008080; text-decoration-color: #008080; font-weight: bold\">3</span>, <span style=\"color: #008000; text-decoration-color: #008000\">'type'</span>: <span style=\"color: #008000; text-decoration-color: #008000\">'CalendarElement'</span><span style=\"font-weight: bold\">}</span>\n",
       "</pre>\n"
      ],
      "text/plain": [
       "\u001b[1m{\u001b[0m\u001b[32m'year'\u001b[0m: \u001b[1;36m2024\u001b[0m, \u001b[32m'month'\u001b[0m: \u001b[1;36m3\u001b[0m, \u001b[32m'type'\u001b[0m: \u001b[32m'CalendarElement'\u001b[0m\u001b[1m}\u001b[0m\n"
      ]
     },
     "metadata": {},
     "output_type": "display_data"
    },
    {
     "data": {
      "text/html": [
       "<pre style=\"white-space:pre;overflow-x:auto;line-height:normal;font-family:Menlo,'DejaVu Sans Mono',consolas,'Courier New',monospace\"><span style=\"font-weight: bold\">{</span><span style=\"color: #008000; text-decoration-color: #008000\">'year'</span>: <span style=\"color: #008080; text-decoration-color: #008080; font-weight: bold\">2024</span>, <span style=\"color: #008000; text-decoration-color: #008000\">'month'</span>: <span style=\"color: #008080; text-decoration-color: #008080; font-weight: bold\">4</span>, <span style=\"color: #008000; text-decoration-color: #008000\">'type'</span>: <span style=\"color: #008000; text-decoration-color: #008000\">'CalendarElement'</span><span style=\"font-weight: bold\">}</span>\n",
       "</pre>\n"
      ],
      "text/plain": [
       "\u001b[1m{\u001b[0m\u001b[32m'year'\u001b[0m: \u001b[1;36m2024\u001b[0m, \u001b[32m'month'\u001b[0m: \u001b[1;36m4\u001b[0m, \u001b[32m'type'\u001b[0m: \u001b[32m'CalendarElement'\u001b[0m\u001b[1m}\u001b[0m\n"
      ]
     },
     "metadata": {},
     "output_type": "display_data"
    },
    {
     "data": {
      "text/html": [
       "<pre style=\"white-space:pre;overflow-x:auto;line-height:normal;font-family:Menlo,'DejaVu Sans Mono',consolas,'Courier New',monospace\"><span style=\"font-weight: bold\">{</span><span style=\"color: #008000; text-decoration-color: #008000\">'year'</span>: <span style=\"color: #008080; text-decoration-color: #008080; font-weight: bold\">2024</span>, <span style=\"color: #008000; text-decoration-color: #008000\">'month'</span>: <span style=\"color: #008080; text-decoration-color: #008080; font-weight: bold\">5</span>, <span style=\"color: #008000; text-decoration-color: #008000\">'type'</span>: <span style=\"color: #008000; text-decoration-color: #008000\">'CalendarElement'</span><span style=\"font-weight: bold\">}</span>\n",
       "</pre>\n"
      ],
      "text/plain": [
       "\u001b[1m{\u001b[0m\u001b[32m'year'\u001b[0m: \u001b[1;36m2024\u001b[0m, \u001b[32m'month'\u001b[0m: \u001b[1;36m5\u001b[0m, \u001b[32m'type'\u001b[0m: \u001b[32m'CalendarElement'\u001b[0m\u001b[1m}\u001b[0m\n"
      ]
     },
     "metadata": {},
     "output_type": "display_data"
    },
    {
     "data": {
      "text/html": [
       "<pre style=\"white-space:pre;overflow-x:auto;line-height:normal;font-family:Menlo,'DejaVu Sans Mono',consolas,'Courier New',monospace\"><span style=\"font-weight: bold\">{</span><span style=\"color: #008000; text-decoration-color: #008000\">'year'</span>: <span style=\"color: #008080; text-decoration-color: #008080; font-weight: bold\">2024</span>, <span style=\"color: #008000; text-decoration-color: #008000\">'month'</span>: <span style=\"color: #008080; text-decoration-color: #008080; font-weight: bold\">6</span>, <span style=\"color: #008000; text-decoration-color: #008000\">'type'</span>: <span style=\"color: #008000; text-decoration-color: #008000\">'CalendarElement'</span><span style=\"font-weight: bold\">}</span>\n",
       "</pre>\n"
      ],
      "text/plain": [
       "\u001b[1m{\u001b[0m\u001b[32m'year'\u001b[0m: \u001b[1;36m2024\u001b[0m, \u001b[32m'month'\u001b[0m: \u001b[1;36m6\u001b[0m, \u001b[32m'type'\u001b[0m: \u001b[32m'CalendarElement'\u001b[0m\u001b[1m}\u001b[0m\n"
      ]
     },
     "metadata": {},
     "output_type": "display_data"
    },
    {
     "data": {
      "text/html": [
       "<pre style=\"white-space:pre;overflow-x:auto;line-height:normal;font-family:Menlo,'DejaVu Sans Mono',consolas,'Courier New',monospace\"><span style=\"font-weight: bold\">{</span><span style=\"color: #008000; text-decoration-color: #008000\">'year'</span>: <span style=\"color: #008080; text-decoration-color: #008080; font-weight: bold\">2024</span>, <span style=\"color: #008000; text-decoration-color: #008000\">'month'</span>: <span style=\"color: #008080; text-decoration-color: #008080; font-weight: bold\">7</span>, <span style=\"color: #008000; text-decoration-color: #008000\">'type'</span>: <span style=\"color: #008000; text-decoration-color: #008000\">'CalendarElement'</span><span style=\"font-weight: bold\">}</span>\n",
       "</pre>\n"
      ],
      "text/plain": [
       "\u001b[1m{\u001b[0m\u001b[32m'year'\u001b[0m: \u001b[1;36m2024\u001b[0m, \u001b[32m'month'\u001b[0m: \u001b[1;36m7\u001b[0m, \u001b[32m'type'\u001b[0m: \u001b[32m'CalendarElement'\u001b[0m\u001b[1m}\u001b[0m\n"
      ]
     },
     "metadata": {},
     "output_type": "display_data"
    },
    {
     "data": {
      "text/html": [
       "<pre style=\"white-space:pre;overflow-x:auto;line-height:normal;font-family:Menlo,'DejaVu Sans Mono',consolas,'Courier New',monospace\"><span style=\"font-weight: bold\">{</span><span style=\"color: #008000; text-decoration-color: #008000\">'year'</span>: <span style=\"color: #008080; text-decoration-color: #008080; font-weight: bold\">2024</span>, <span style=\"color: #008000; text-decoration-color: #008000\">'month'</span>: <span style=\"color: #008080; text-decoration-color: #008080; font-weight: bold\">8</span>, <span style=\"color: #008000; text-decoration-color: #008000\">'type'</span>: <span style=\"color: #008000; text-decoration-color: #008000\">'CalendarElement'</span><span style=\"font-weight: bold\">}</span>\n",
       "</pre>\n"
      ],
      "text/plain": [
       "\u001b[1m{\u001b[0m\u001b[32m'year'\u001b[0m: \u001b[1;36m2024\u001b[0m, \u001b[32m'month'\u001b[0m: \u001b[1;36m8\u001b[0m, \u001b[32m'type'\u001b[0m: \u001b[32m'CalendarElement'\u001b[0m\u001b[1m}\u001b[0m\n"
      ]
     },
     "metadata": {},
     "output_type": "display_data"
    },
    {
     "data": {
      "text/html": [
       "<pre style=\"white-space:pre;overflow-x:auto;line-height:normal;font-family:Menlo,'DejaVu Sans Mono',consolas,'Courier New',monospace\"><span style=\"font-weight: bold\">{</span><span style=\"color: #008000; text-decoration-color: #008000\">'year'</span>: <span style=\"color: #008080; text-decoration-color: #008080; font-weight: bold\">2024</span>, <span style=\"color: #008000; text-decoration-color: #008000\">'month'</span>: <span style=\"color: #008080; text-decoration-color: #008080; font-weight: bold\">9</span>, <span style=\"color: #008000; text-decoration-color: #008000\">'type'</span>: <span style=\"color: #008000; text-decoration-color: #008000\">'CalendarElement'</span><span style=\"font-weight: bold\">}</span>\n",
       "</pre>\n"
      ],
      "text/plain": [
       "\u001b[1m{\u001b[0m\u001b[32m'year'\u001b[0m: \u001b[1;36m2024\u001b[0m, \u001b[32m'month'\u001b[0m: \u001b[1;36m9\u001b[0m, \u001b[32m'type'\u001b[0m: \u001b[32m'CalendarElement'\u001b[0m\u001b[1m}\u001b[0m\n"
      ]
     },
     "metadata": {},
     "output_type": "display_data"
    },
    {
     "data": {
      "text/html": [
       "<pre style=\"white-space:pre;overflow-x:auto;line-height:normal;font-family:Menlo,'DejaVu Sans Mono',consolas,'Courier New',monospace\"><span style=\"font-weight: bold\">{</span><span style=\"color: #008000; text-decoration-color: #008000\">'year'</span>: <span style=\"color: #008080; text-decoration-color: #008080; font-weight: bold\">2024</span>, <span style=\"color: #008000; text-decoration-color: #008000\">'month'</span>: <span style=\"color: #008080; text-decoration-color: #008080; font-weight: bold\">10</span>, <span style=\"color: #008000; text-decoration-color: #008000\">'type'</span>: <span style=\"color: #008000; text-decoration-color: #008000\">'CalendarElement'</span><span style=\"font-weight: bold\">}</span>\n",
       "</pre>\n"
      ],
      "text/plain": [
       "\u001b[1m{\u001b[0m\u001b[32m'year'\u001b[0m: \u001b[1;36m2024\u001b[0m, \u001b[32m'month'\u001b[0m: \u001b[1;36m10\u001b[0m, \u001b[32m'type'\u001b[0m: \u001b[32m'CalendarElement'\u001b[0m\u001b[1m}\u001b[0m\n"
      ]
     },
     "metadata": {},
     "output_type": "display_data"
    },
    {
     "data": {
      "text/html": [
       "<pre style=\"white-space:pre;overflow-x:auto;line-height:normal;font-family:Menlo,'DejaVu Sans Mono',consolas,'Courier New',monospace\"><span style=\"font-weight: bold\">{</span><span style=\"color: #008000; text-decoration-color: #008000\">'year'</span>: <span style=\"color: #008080; text-decoration-color: #008080; font-weight: bold\">2024</span>, <span style=\"color: #008000; text-decoration-color: #008000\">'month'</span>: <span style=\"color: #008080; text-decoration-color: #008080; font-weight: bold\">11</span>, <span style=\"color: #008000; text-decoration-color: #008000\">'type'</span>: <span style=\"color: #008000; text-decoration-color: #008000\">'CalendarElement'</span><span style=\"font-weight: bold\">}</span>\n",
       "</pre>\n"
      ],
      "text/plain": [
       "\u001b[1m{\u001b[0m\u001b[32m'year'\u001b[0m: \u001b[1;36m2024\u001b[0m, \u001b[32m'month'\u001b[0m: \u001b[1;36m11\u001b[0m, \u001b[32m'type'\u001b[0m: \u001b[32m'CalendarElement'\u001b[0m\u001b[1m}\u001b[0m\n"
      ]
     },
     "metadata": {},
     "output_type": "display_data"
    },
    {
     "data": {
      "text/html": [
       "<pre style=\"white-space:pre;overflow-x:auto;line-height:normal;font-family:Menlo,'DejaVu Sans Mono',consolas,'Courier New',monospace\"><span style=\"font-weight: bold\">{</span><span style=\"color: #008000; text-decoration-color: #008000\">'year'</span>: <span style=\"color: #008080; text-decoration-color: #008080; font-weight: bold\">2024</span>, <span style=\"color: #008000; text-decoration-color: #008000\">'month'</span>: <span style=\"color: #008080; text-decoration-color: #008080; font-weight: bold\">12</span>, <span style=\"color: #008000; text-decoration-color: #008000\">'type'</span>: <span style=\"color: #008000; text-decoration-color: #008000\">'CalendarElement'</span><span style=\"font-weight: bold\">}</span>\n",
       "</pre>\n"
      ],
      "text/plain": [
       "\u001b[1m{\u001b[0m\u001b[32m'year'\u001b[0m: \u001b[1;36m2024\u001b[0m, \u001b[32m'month'\u001b[0m: \u001b[1;36m12\u001b[0m, \u001b[32m'type'\u001b[0m: \u001b[32m'CalendarElement'\u001b[0m\u001b[1m}\u001b[0m\n"
      ]
     },
     "metadata": {},
     "output_type": "display_data"
    }
   ],
   "source": [
    "for m in g:\n",
    "    print(m)"
   ]
  },
  {
   "cell_type": "code",
   "execution_count": null,
   "id": "d15c42d1-aadf-4039-95e6-68c82874a828",
   "metadata": {},
   "outputs": [],
   "source": []
  }
 ],
 "metadata": {
  "kernelspec": {
   "display_name": "Python 3 (ipykernel)",
   "language": "python",
   "name": "python3"
  },
  "language_info": {
   "codemirror_mode": {
    "name": "ipython",
    "version": 3
   },
   "file_extension": ".py",
   "mimetype": "text/x-python",
   "name": "python",
   "nbconvert_exporter": "python",
   "pygments_lexer": "ipython3",
   "version": "3.12.5"
  }
 },
 "nbformat": 4,
 "nbformat_minor": 5
}
