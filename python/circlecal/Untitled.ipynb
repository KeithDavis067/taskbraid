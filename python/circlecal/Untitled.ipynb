{
 "cells": [
  {
   "cell_type": "code",
   "execution_count": 1,
   "id": "03c9f2ae-a7fb-42dd-916e-09f3d2342154",
   "metadata": {},
   "outputs": [],
   "source": [
    "from datetime import datetime, date, time\n",
    "from datetime import timedelta\n",
    "from calendar import monthrange\n",
    "import circle_cal.newmodel as nm"
   ]
  },
  {
   "cell_type": "code",
   "execution_count": 2,
   "id": "adfd31f8-ae50-47a5-9b3f-57db1fa92b8f",
   "metadata": {},
   "outputs": [],
   "source": [
    "dtp = nm.DTPrecision(year=2024)"
   ]
  },
  {
   "cell_type": "code",
   "execution_count": 3,
   "id": "21246d5a-3bba-400b-a535-29ef2c05e09f",
   "metadata": {},
   "outputs": [
    {
     "data": {
      "text/plain": [
       "2024"
      ]
     },
     "execution_count": 3,
     "metadata": {},
     "output_type": "execute_result"
    }
   ],
   "source": [
    "dtp.year"
   ]
  },
  {
   "cell_type": "code",
   "execution_count": 4,
   "id": "4a6bf52a-81ac-465a-a053-1c0fbfc0226a",
   "metadata": {},
   "outputs": [],
   "source": [
    "dtp = nm.DTPrecision(year=2024, day=1)"
   ]
  },
  {
   "cell_type": "code",
   "execution_count": 5,
   "id": "b4668fb6-992e-4582-b714-5988be2ee63c",
   "metadata": {},
   "outputs": [],
   "source": [
    "dtp.year = None"
   ]
  },
  {
   "cell_type": "code",
   "execution_count": 6,
   "id": "44ce3d9b-2e38-470a-aee8-be4a36a25f9e",
   "metadata": {},
   "outputs": [
    {
     "data": {
      "text/plain": [
       "{'year': None,\n",
       " 'month': None,\n",
       " 'day': None,\n",
       " 'hour': None,\n",
       " 'minute': None,\n",
       " 'second': None,\n",
       " 'microsecond': None}"
      ]
     },
     "execution_count": 6,
     "metadata": {},
     "output_type": "execute_result"
    }
   ],
   "source": [
    "dtp.to_dict()"
   ]
  },
  {
   "cell_type": "code",
   "execution_count": 7,
   "id": "75fa9793-fe84-4933-9b44-ae421307384c",
   "metadata": {},
   "outputs": [],
   "source": [
    "dtp.day"
   ]
  },
  {
   "cell_type": "code",
   "execution_count": 8,
   "id": "2bcd1491-88cf-4952-8a0f-416d2d4a2e7e",
   "metadata": {},
   "outputs": [
    {
     "data": {
      "text/plain": [
       "['year', 'month', 'day', 'hour', 'minute', 'second', 'microsecond']"
      ]
     },
     "execution_count": 8,
     "metadata": {},
     "output_type": "execute_result"
    }
   ],
   "source": [
    "[\"year\"] + nm._subunits(\"year\")"
   ]
  },
  {
   "cell_type": "code",
   "execution_count": 9,
   "id": "d2d346de-7ff5-4a02-9b9c-4cb2dc759bb0",
   "metadata": {},
   "outputs": [],
   "source": [
    "dtp.monkey = \"five\""
   ]
  },
  {
   "cell_type": "code",
   "execution_count": 10,
   "id": "7a813b5c-959e-454f-a8f7-f03826c2c354",
   "metadata": {},
   "outputs": [
    {
     "data": {
      "text/plain": [
       "'five'"
      ]
     },
     "execution_count": 10,
     "metadata": {},
     "output_type": "execute_result"
    }
   ],
   "source": [
    "dtp.monkey"
   ]
  },
  {
   "cell_type": "code",
   "execution_count": 11,
   "id": "7cf0a93b-f63d-4300-9c76-757a81df2f5f",
   "metadata": {},
   "outputs": [],
   "source": [
    "setattr(dtp,\"day\", None)"
   ]
  },
  {
   "cell_type": "code",
   "execution_count": 12,
   "id": "b7b8d5d3-86f3-4b97-9773-b1212fe740c9",
   "metadata": {},
   "outputs": [
    {
     "data": {
      "text/plain": [
       "{'year': None,\n",
       " 'month': None,\n",
       " 'day': None,\n",
       " 'hour': None,\n",
       " 'minute': None,\n",
       " 'second': None,\n",
       " 'microsecond': None}"
      ]
     },
     "execution_count": 12,
     "metadata": {},
     "output_type": "execute_result"
    }
   ],
   "source": [
    "dtp.to_dict()"
   ]
  },
  {
   "cell_type": "code",
   "execution_count": 13,
   "id": "fb91f4af-4c23-4e26-bf3c-701f62fa695e",
   "metadata": {},
   "outputs": [
    {
     "data": {
      "text/plain": [
       "{'year': range(1, 10000),\n",
       " 'month': range(1, 13),\n",
       " 'day': None,\n",
       " 'hour': range(0, 24),\n",
       " 'minute': range(0, 60),\n",
       " 'second': range(0, 60),\n",
       " 'microsecond': range(0, 1000000)}"
      ]
     },
     "execution_count": 13,
     "metadata": {},
     "output_type": "execute_result"
    }
   ],
   "source": [
    "dtp.ranges"
   ]
  },
  {
   "cell_type": "code",
   "execution_count": 14,
   "id": "31107cde-d7a5-48e5-a7db-a769241ba736",
   "metadata": {},
   "outputs": [
    {
     "ename": "TypeError",
     "evalue": "function missing required argument 'month' (pos 2)",
     "output_type": "error",
     "traceback": [
      "\u001b[0;31m---------------------------------------------------------------------------\u001b[0m",
      "\u001b[0;31mTypeError\u001b[0m                                 Traceback (most recent call last)",
      "Cell \u001b[0;32mIn[14], line 1\u001b[0m\n\u001b[0;32m----> 1\u001b[0m \u001b[43mdatetime\u001b[49m\u001b[43m(\u001b[49m\u001b[38;5;241;43m2024\u001b[39;49m\u001b[43m)\u001b[49m\n",
      "\u001b[0;31mTypeError\u001b[0m: function missing required argument 'month' (pos 2)"
     ]
    }
   ],
   "source": [
    "datetime(2024)"
   ]
  },
  {
   "cell_type": "code",
   "execution_count": 16,
   "id": "2bf9611e-5f42-48fd-a8e9-dc5c1a839f29",
   "metadata": {},
   "outputs": [
    {
     "ename": "TypeError",
     "evalue": "'NoneType' object cannot be interpreted as an integer",
     "output_type": "error",
     "traceback": [
      "\u001b[0;31m---------------------------------------------------------------------------\u001b[0m",
      "\u001b[0;31mTypeError\u001b[0m                                 Traceback (most recent call last)",
      "Cell \u001b[0;32mIn[16], line 1\u001b[0m\n\u001b[0;32m----> 1\u001b[0m \u001b[43mdatetime\u001b[49m\u001b[43m(\u001b[49m\u001b[38;5;241;43m2024\u001b[39;49m\u001b[43m,\u001b[49m\u001b[43m \u001b[49m\u001b[38;5;241;43m1\u001b[39;49m\u001b[43m,\u001b[49m\u001b[43m \u001b[49m\u001b[38;5;241;43m1\u001b[39;49m\u001b[43m,\u001b[49m\u001b[43m \u001b[49m\u001b[43msecond\u001b[49m\u001b[38;5;241;43m=\u001b[39;49m\u001b[38;5;28;43;01mNone\u001b[39;49;00m\u001b[43m)\u001b[49m\n",
      "\u001b[0;31mTypeError\u001b[0m: 'NoneType' object cannot be interpreted as an integer"
     ]
    }
   ],
   "source": [
    "datetime(2024, 1, 1, second=None)"
   ]
  },
  {
   "cell_type": "code",
   "execution_count": null,
   "id": "c5dd8ee2-b8a7-452e-b860-12b90baa2527",
   "metadata": {},
   "outputs": [],
   "source": []
  }
 ],
 "metadata": {
  "kernelspec": {
   "display_name": "Python 3 (ipykernel)",
   "language": "python",
   "name": "python3"
  },
  "language_info": {
   "codemirror_mode": {
    "name": "ipython",
    "version": 3
   },
   "file_extension": ".py",
   "mimetype": "text/x-python",
   "name": "python",
   "nbconvert_exporter": "python",
   "pygments_lexer": "ipython3",
   "version": "3.12.7"
  }
 },
 "nbformat": 4,
 "nbformat_minor": 5
}
