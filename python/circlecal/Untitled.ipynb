{
 "cells": [
  {
   "cell_type": "code",
   "execution_count": 1,
   "id": "41c4408d-8429-475b-a63a-3724e438db96",
   "metadata": {},
   "outputs": [],
   "source": [
    "import numpy as np"
   ]
  },
  {
   "cell_type": "code",
   "execution_count": 3,
   "id": "8df84ae3-cb0e-49a4-b5b7-a4cc1c7fb49b",
   "metadata": {},
   "outputs": [
    {
     "data": {
      "text/plain": [
       "array([0.2       , 0.46666667, 0.73333333, 1.        ])"
      ]
     },
     "execution_count": 3,
     "metadata": {},
     "output_type": "execute_result"
    }
   ],
   "source": [
    "timeranges = 4\n",
    "np.linspace(1/(timeranges+1),1, timeranges)"
   ]
  },
  {
   "cell_type": "code",
   "execution_count": 3,
   "id": "14b5b074-4cef-410d-97bf-f87b29d6768b",
   "metadata": {},
   "outputs": [],
   "source": [
    "r = iter(range(3))"
   ]
  },
  {
   "cell_type": "code",
   "execution_count": 14,
   "id": "d869402a-022a-4fdb-859a-7ff36cf3aade",
   "metadata": {},
   "outputs": [],
   "source": [
    "r = iter(range(3))"
   ]
  },
  {
   "cell_type": "code",
   "execution_count": 13,
   "id": "657f6fa1-1514-4553-beca-03e23959528f",
   "metadata": {},
   "outputs": [
    {
     "name": "stdout",
     "output_type": "stream",
     "text": [
      "0\n",
      "1\n",
      "2\n"
     ]
    }
   ],
   "source": [
    "for i in r:\n",
    "    print(i)"
   ]
  },
  {
   "cell_type": "code",
   "execution_count": 12,
   "id": "dc571df3-a81c-4159-a98d-6efb86da8c12",
   "metadata": {},
   "outputs": [
    {
     "data": {
      "text/plain": [
       "<range_iterator at 0x1069f3cc0>"
      ]
     },
     "execution_count": 12,
     "metadata": {},
     "output_type": "execute_result"
    }
   ],
   "source": [
    "r"
   ]
  },
  {
   "cell_type": "code",
   "execution_count": 18,
   "id": "a6d6831a-136a-407d-a9ab-1b531220df1c",
   "metadata": {},
   "outputs": [
    {
     "data": {
      "text/plain": [
       "<range_iterator at 0x110a38660>"
      ]
     },
     "execution_count": 18,
     "metadata": {},
     "output_type": "execute_result"
    }
   ],
   "source": [
    "r"
   ]
  },
  {
   "cell_type": "code",
   "execution_count": 19,
   "id": "787abf7b-32b9-4e27-8c79-e5977ec35d9c",
   "metadata": {},
   "outputs": [
    {
     "data": {
      "text/plain": [
       "0"
      ]
     },
     "execution_count": 19,
     "metadata": {},
     "output_type": "execute_result"
    }
   ],
   "source": [
    "next(r)"
   ]
  },
  {
   "cell_type": "code",
   "execution_count": 20,
   "id": "84d54175-1828-4fd2-8cda-be843036c94e",
   "metadata": {},
   "outputs": [
    {
     "data": {
      "text/plain": [
       "1"
      ]
     },
     "execution_count": 20,
     "metadata": {},
     "output_type": "execute_result"
    }
   ],
   "source": [
    "next(r)"
   ]
  },
  {
   "cell_type": "code",
   "execution_count": 21,
   "id": "6e074b33-a126-42bd-adc6-2d3aaf8a7578",
   "metadata": {},
   "outputs": [
    {
     "data": {
      "text/plain": [
       "2"
      ]
     },
     "execution_count": 21,
     "metadata": {},
     "output_type": "execute_result"
    }
   ],
   "source": [
    "next(r)"
   ]
  },
  {
   "cell_type": "code",
   "execution_count": null,
   "id": "84091854-2e48-4133-ad2a-572e3922cb20",
   "metadata": {},
   "outputs": [],
   "source": []
  }
 ],
 "metadata": {
  "kernelspec": {
   "display_name": "Python 3 (ipykernel)",
   "language": "python",
   "name": "python3"
  },
  "language_info": {
   "codemirror_mode": {
    "name": "ipython",
    "version": 3
   },
   "file_extension": ".py",
   "mimetype": "text/x-python",
   "name": "python",
   "nbconvert_exporter": "python",
   "pygments_lexer": "ipython3",
   "version": "3.12.3"
  }
 },
 "nbformat": 4,
 "nbformat_minor": 5
}
