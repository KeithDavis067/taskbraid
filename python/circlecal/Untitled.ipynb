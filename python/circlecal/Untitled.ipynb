{
 "cells": [
  {
   "cell_type": "code",
   "execution_count": 2,
   "id": "f823a0b5-421b-4489-95f9-2174301e2b76",
   "metadata": {},
   "outputs": [],
   "source": [
    "from datetime import datetime, date, time"
   ]
  },
  {
   "cell_type": "code",
   "execution_count": 5,
   "id": "63cebf30-9ec0-4807-8a53-2aa25a343b28",
   "metadata": {},
   "outputs": [],
   "source": [
    "from dateutil.relativedelta import relativedelta"
   ]
  },
  {
   "cell_type": "code",
   "execution_count": 9,
   "id": "c4f94947-8116-467f-89b5-c629ef2c427d",
   "metadata": {},
   "outputs": [],
   "source": [
    "def rd_to_abs(rd):\n",
    "    ABSUNITS = [\"year\",\n",
    "                \"month\",\n",
    "                \"day\",\n",
    "                \"hour\",\n",
    "                \"minute\",\n",
    "                \"second\",\n",
    "                \"microsecond\"]\n",
    "\n",
    "    RELUNITS = [a + 's' for a in ABSUNITS]\n",
    "\n",
    "    UNITORDER = dict([(u, i) for i, u in enumerate(reversed(ABSUNITS))])\n",
    "\n",
    "    if has_date(rd):\n",
    "        \n",
    "\n",
    "def has_date(rd):\n",
    "    for u in [\"year\", \"month\", \"day\"]:\n",
    "        if getattr(u, rd) is not None:\n",
    "            return True\n",
    "    return False\n"
   ]
  },
  {
   "cell_type": "code",
   "execution_count": 10,
   "id": "da214a5d-ffa9-4ca8-a46d-23a228e1dcf1",
   "metadata": {},
   "outputs": [],
   "source": [
    "rd = relativedelta(2024)"
   ]
  },
  {
   "cell_type": "code",
   "execution_count": 13,
   "id": "b8cb052a-8928-482b-8fb6-5f2884abd1ca",
   "metadata": {},
   "outputs": [
    {
     "ename": "TypeError",
     "evalue": "argument of type 'relativedelta' is not iterable",
     "output_type": "error",
     "traceback": [
      "\u001b[0;31m---------------------------------------------------------------------------\u001b[0m",
      "\u001b[0;31mTypeError\u001b[0m                                 Traceback (most recent call last)",
      "Cell \u001b[0;32mIn[13], line 1\u001b[0m\n\u001b[0;32m----> 1\u001b[0m \u001b[38;5;28;01mif\u001b[39;00m \u001b[38;5;124;43m\"\u001b[39;49m\u001b[38;5;124;43myear\u001b[39;49m\u001b[38;5;124;43m\"\u001b[39;49m\u001b[43m \u001b[49m\u001b[38;5;129;43;01min\u001b[39;49;00m\u001b[43m \u001b[49m\u001b[43mrd\u001b[49m:\n\u001b[1;32m      2\u001b[0m     \u001b[38;5;28mprint\u001b[39m(\u001b[38;5;28;01mTrue\u001b[39;00m)\n",
      "\u001b[0;31mTypeError\u001b[0m: argument of type 'relativedelta' is not iterable"
     ]
    }
   ],
   "source": [
    "if \"year\" in rd:\n",
    "    print(True)"
   ]
  },
  {
   "cell_type": "code",
   "execution_count": 14,
   "id": "d8d1488f-48d1-45de-b5ac-812b85d599d3",
   "metadata": {},
   "outputs": [
    {
     "data": {
      "text/plain": [
       "{'years': 0,\n",
       " 'months': 0,\n",
       " 'days': 0,\n",
       " 'leapdays': 0,\n",
       " 'hours': 0,\n",
       " 'minutes': 0,\n",
       " 'seconds': 0,\n",
       " 'microseconds': 0,\n",
       " 'year': None,\n",
       " 'month': None,\n",
       " 'day': None,\n",
       " 'hour': None,\n",
       " 'minute': None,\n",
       " 'second': None,\n",
       " 'microsecond': None,\n",
       " 'weekday': None,\n",
       " '_has_time': 0}"
      ]
     },
     "execution_count": 14,
     "metadata": {},
     "output_type": "execute_result"
    }
   ],
   "source": [
    "rd.__dict__"
   ]
  },
  {
   "cell_type": "code",
   "execution_count": null,
   "id": "cbeb0118-9eb3-437b-ba90-1dc2a4b59992",
   "metadata": {},
   "outputs": [],
   "source": []
  }
 ],
 "metadata": {
  "kernelspec": {
   "display_name": "Python 3 (ipykernel)",
   "language": "python",
   "name": "python3"
  },
  "language_info": {
   "codemirror_mode": {
    "name": "ipython",
    "version": 3
   },
   "file_extension": ".py",
   "mimetype": "text/x-python",
   "name": "python",
   "nbconvert_exporter": "python",
   "pygments_lexer": "ipython3",
   "version": "3.12.2"
  }
 },
 "nbformat": 4,
 "nbformat_minor": 5
}
