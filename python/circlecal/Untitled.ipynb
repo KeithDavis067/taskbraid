{
 "cells": [
  {
   "cell_type": "code",
   "execution_count": 1,
   "id": "03c9f2ae-a7fb-42dd-916e-09f3d2342154",
   "metadata": {},
   "outputs": [],
   "source": [
    "from datetime import datetime, date, time\n",
    "from datetime import timedelta\n",
    "from calendar import monthrange\n",
    "import circle_cal.newmodel as nm"
   ]
  },
  {
   "cell_type": "code",
   "execution_count": 2,
   "id": "4a6bf52a-81ac-465a-a053-1c0fbfc0226a",
   "metadata": {},
   "outputs": [],
   "source": [
    "dtp = nm.DTPrecision(2024)"
   ]
  },
  {
   "cell_type": "code",
   "execution_count": 11,
   "id": "c604da69-7d86-4146-92d0-f631feb5cbb1",
   "metadata": {},
   "outputs": [],
   "source": [
    "y = nm.CalendarPeriod(start=nm.DTPrecision(2024), stop=nm.DTPrecision(2027))"
   ]
  },
  {
   "cell_type": "code",
   "execution_count": 12,
   "id": "abca9d5a-f61d-423b-a87b-91ab2eea141b",
   "metadata": {},
   "outputs": [
    {
     "data": {
      "text/plain": [
       "3"
      ]
     },
     "execution_count": 12,
     "metadata": {},
     "output_type": "execute_result"
    }
   ],
   "source": [
    "len(y)"
   ]
  },
  {
   "cell_type": "code",
   "execution_count": 13,
   "id": "7736100f-ad2a-41e7-af1f-7f91cd7b3c77",
   "metadata": {},
   "outputs": [
    {
     "data": {
      "text/plain": [
       "DTPrecision:2024 "
      ]
     },
     "execution_count": 13,
     "metadata": {},
     "output_type": "execute_result"
    }
   ],
   "source": [
    "y.start"
   ]
  },
  {
   "cell_type": "code",
   "execution_count": 14,
   "id": "7940b685-ab57-4705-a22d-4dde090277de",
   "metadata": {},
   "outputs": [
    {
     "data": {
      "text/plain": [
       "DTPrecision:2027 "
      ]
     },
     "execution_count": 14,
     "metadata": {},
     "output_type": "execute_result"
    }
   ],
   "source": [
    "y.stop"
   ]
  },
  {
   "cell_type": "code",
   "execution_count": 15,
   "id": "43ac71d9-1c58-489f-9709-1067e659588a",
   "metadata": {},
   "outputs": [
    {
     "name": "stdout",
     "output_type": "stream",
     "text": [
      "DTPrecision:2024 \n",
      "BEfore: DTPrecision:2024 \n",
      "After: DTPrecision:2025 \n"
     ]
    },
    {
     "data": {
      "text/plain": [
       "[DTPrecision:2024 , DTPrecision:2025 ]"
      ]
     },
     "execution_count": 15,
     "metadata": {},
     "output_type": "execute_result"
    }
   ],
   "source": [
    "y[0]"
   ]
  },
  {
   "cell_type": "code",
   "execution_count": 16,
   "id": "eb19918d-85e6-4e3c-9fc6-f55daa013a72",
   "metadata": {},
   "outputs": [
    {
     "name": "stdout",
     "output_type": "stream",
     "text": [
      "DTPrecision:2024 \n",
      "BEfore: DTPrecision:2024 \n",
      "After: DTPrecision:2025 \n"
     ]
    },
    {
     "data": {
      "text/plain": [
       "[DTPrecision:2024 , DTPrecision:2025 ]"
      ]
     },
     "execution_count": 16,
     "metadata": {},
     "output_type": "execute_result"
    }
   ],
   "source": [
    "y[0]"
   ]
  },
  {
   "cell_type": "code",
   "execution_count": 17,
   "id": "4a7d574f-45d3-4b84-9b26-dd13183fd6dd",
   "metadata": {},
   "outputs": [
    {
     "name": "stdout",
     "output_type": "stream",
     "text": [
      "DTPrecision:2024 \n",
      "BEfore: DTPrecision:2024 \n",
      "After: DTPrecision:2025 \n",
      "[DTPrecision:2024 , DTPrecision:2025 ]\n",
      "DTPrecision:2024 \n",
      "incrementing to start.\n",
      "BEfore: DTPrecision:2025 \n",
      "After: DTPrecision:2026 \n",
      "[DTPrecision:2025 , DTPrecision:2026 ]\n",
      "DTPrecision:2024 \n",
      "incrementing to start.\n",
      "incrementing to start.\n",
      "BEfore: DTPrecision:2026 \n",
      "After: DTPrecision:2027 \n",
      "[DTPrecision:2026 , DTPrecision:2027 ]\n"
     ]
    }
   ],
   "source": [
    "for r in y:\n",
    "    print(r)"
   ]
  },
  {
   "cell_type": "code",
   "execution_count": 23,
   "id": "939bfabc-fa41-40a2-b5bc-82b09f5886e1",
   "metadata": {},
   "outputs": [],
   "source": [
    "dt = datetime(2023, 1, 1, second=0)"
   ]
  },
  {
   "cell_type": "code",
   "execution_count": 24,
   "id": "843d86c3-f3ae-4514-a19c-f6fa011c681c",
   "metadata": {},
   "outputs": [
    {
     "name": "stdout",
     "output_type": "stream",
     "text": [
      "2023-01-01 00:00:00\n"
     ]
    }
   ],
   "source": [
    "print(dt)"
   ]
  },
  {
   "cell_type": "code",
   "execution_count": 25,
   "id": "946b0054-6f53-41cf-af3d-6c118aba7287",
   "metadata": {},
   "outputs": [
    {
     "name": "stdout",
     "output_type": "stream",
     "text": [
      "year 2023\n",
      "month 1\n",
      "day 1\n",
      "hour 0\n",
      "minute 0\n",
      "second 0\n",
      "microsecond 0\n"
     ]
    }
   ],
   "source": [
    "for u in dtp.UNITS:\n",
    "    try:\n",
    "        print(u, getattr(dt, u))\n",
    "    except AttributeError:\n",
    "        print(u, \"AttributeError\")"
   ]
  },
  {
   "cell_type": "code",
   "execution_count": 26,
   "id": "42df5c19-361d-4f00-835f-0448f2ef3599",
   "metadata": {},
   "outputs": [
    {
     "data": {
      "text/plain": [
       "datetime.datetime(2023, 1, 1, 0, 0)"
      ]
     },
     "execution_count": 26,
     "metadata": {},
     "output_type": "execute_result"
    }
   ],
   "source": [
    "dt"
   ]
  },
  {
   "cell_type": "code",
   "execution_count": null,
   "id": "c77d2b69-370e-4cf6-be88-d26488445247",
   "metadata": {},
   "outputs": [],
   "source": []
  }
 ],
 "metadata": {
  "kernelspec": {
   "display_name": "Python 3 (ipykernel)",
   "language": "python",
   "name": "python3"
  },
  "language_info": {
   "codemirror_mode": {
    "name": "ipython",
    "version": 3
   },
   "file_extension": ".py",
   "mimetype": "text/x-python",
   "name": "python",
   "nbconvert_exporter": "python",
   "pygments_lexer": "ipython3",
   "version": "3.12.7"
  }
 },
 "nbformat": 4,
 "nbformat_minor": 5
}
