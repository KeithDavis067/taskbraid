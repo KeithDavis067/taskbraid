{
 "cells": [
  {
   "cell_type": "code",
   "execution_count": 1,
   "id": "03c9f2ae-a7fb-42dd-916e-09f3d2342154",
   "metadata": {},
   "outputs": [],
   "source": [
    "from datetime import datetime, date, time\n",
    "from datetime import timedelta\n",
    "from calendar import monthrange\n",
    "import circle_cal.newmodel as nm"
   ]
  },
  {
   "cell_type": "code",
   "execution_count": 2,
   "id": "4a6bf52a-81ac-465a-a053-1c0fbfc0226a",
   "metadata": {},
   "outputs": [],
   "source": [
    "dtp = nm.DTPrecision(2024)"
   ]
  },
  {
   "cell_type": "code",
   "execution_count": 3,
   "id": "c604da69-7d86-4146-92d0-f631feb5cbb1",
   "metadata": {},
   "outputs": [],
   "source": [
    "y = nm.CalendarPeriod(start=nm.DTPrecision(2024), stop=nm.DTPrecision(2027))"
   ]
  },
  {
   "cell_type": "code",
   "execution_count": 4,
   "id": "abca9d5a-f61d-423b-a87b-91ab2eea141b",
   "metadata": {},
   "outputs": [
    {
     "data": {
      "text/plain": [
       "1"
      ]
     },
     "execution_count": 4,
     "metadata": {},
     "output_type": "execute_result"
    }
   ],
   "source": [
    "len(y)"
   ]
  },
  {
   "cell_type": "code",
   "execution_count": 5,
   "id": "7736100f-ad2a-41e7-af1f-7f91cd7b3c77",
   "metadata": {},
   "outputs": [
    {
     "data": {
      "text/plain": [
       "DTPrecision:2024 "
      ]
     },
     "execution_count": 5,
     "metadata": {},
     "output_type": "execute_result"
    }
   ],
   "source": [
    "y.start"
   ]
  },
  {
   "cell_type": "code",
   "execution_count": 6,
   "id": "7940b685-ab57-4705-a22d-4dde090277de",
   "metadata": {},
   "outputs": [
    {
     "data": {
      "text/plain": [
       "DTPrecision:2025 "
      ]
     },
     "execution_count": 6,
     "metadata": {},
     "output_type": "execute_result"
    }
   ],
   "source": [
    "y.stop"
   ]
  },
  {
   "cell_type": "code",
   "execution_count": 7,
   "id": "43ac71d9-1c58-489f-9709-1067e659588a",
   "metadata": {},
   "outputs": [
    {
     "name": "stdout",
     "output_type": "stream",
     "text": [
      "DTPrecision:2024 \n",
      "BEfore: DTPrecision:2024 \n",
      "After: DTPrecision:2025 \n"
     ]
    },
    {
     "data": {
      "text/plain": [
       "[DTPrecision:2024 , DTPrecision:2025 ]"
      ]
     },
     "execution_count": 7,
     "metadata": {},
     "output_type": "execute_result"
    }
   ],
   "source": [
    "y[0]"
   ]
  },
  {
   "cell_type": "code",
   "execution_count": 10,
   "id": "eb19918d-85e6-4e3c-9fc6-f55daa013a72",
   "metadata": {},
   "outputs": [
    {
     "ename": "IndexError",
     "evalue": "",
     "output_type": "error",
     "traceback": [
      "\u001b[0;31m---------------------------------------------------------------------------\u001b[0m",
      "\u001b[0;31mIndexError\u001b[0m                                Traceback (most recent call last)",
      "Cell \u001b[0;32mIn[10], line 1\u001b[0m\n\u001b[0;32m----> 1\u001b[0m \u001b[43my\u001b[49m\u001b[43m[\u001b[49m\u001b[38;5;241;43m0\u001b[39;49m\u001b[43m:\u001b[49m\u001b[38;5;241;43m2\u001b[39;49m\u001b[43m]\u001b[49m\n",
      "File \u001b[0;32m~/Documents/PythonProjects/taskbraid/python/circlecal/circle_cal/newmodel.py:695\u001b[0m, in \u001b[0;36mCalendarPeriod.__getitem__\u001b[0;34m(self, i)\u001b[0m\n\u001b[1;32m    692\u001b[0m     step \u001b[38;5;241m=\u001b[39m \u001b[38;5;241m1\u001b[39m\n\u001b[1;32m    694\u001b[0m \u001b[38;5;28;01mif\u001b[39;00m stop \u001b[38;5;241m>\u001b[39m \u001b[38;5;28mlen\u001b[39m(\u001b[38;5;28mself\u001b[39m):\n\u001b[0;32m--> 695\u001b[0m     \u001b[38;5;28;01mraise\u001b[39;00m \u001b[38;5;167;01mIndexError\u001b[39;00m\n\u001b[1;32m    697\u001b[0m items \u001b[38;5;241m=\u001b[39m []\n\u001b[1;32m    698\u001b[0m counter \u001b[38;5;241m=\u001b[39m \u001b[38;5;28miter\u001b[39m(\u001b[38;5;28mself\u001b[39m\u001b[38;5;241m.\u001b[39mstart)\n",
      "\u001b[0;31mIndexError\u001b[0m: "
     ]
    }
   ],
   "source": [
    "y[0]"
   ]
  },
  {
   "cell_type": "code",
   "execution_count": 9,
   "id": "4a7d574f-45d3-4b84-9b26-dd13183fd6dd",
   "metadata": {},
   "outputs": [
    {
     "data": {
      "text/plain": [
       "1"
      ]
     },
     "execution_count": 9,
     "metadata": {},
     "output_type": "execute_result"
    }
   ],
   "source": [
    "len(y)"
   ]
  },
  {
   "cell_type": "code",
   "execution_count": null,
   "id": "939bfabc-fa41-40a2-b5bc-82b09f5886e1",
   "metadata": {},
   "outputs": [],
   "source": []
  }
 ],
 "metadata": {
  "kernelspec": {
   "display_name": "Python 3 (ipykernel)",
   "language": "python",
   "name": "python3"
  },
  "language_info": {
   "codemirror_mode": {
    "name": "ipython",
    "version": 3
   },
   "file_extension": ".py",
   "mimetype": "text/x-python",
   "name": "python",
   "nbconvert_exporter": "python",
   "pygments_lexer": "ipython3",
   "version": "3.12.7"
  }
 },
 "nbformat": 4,
 "nbformat_minor": 5
}
