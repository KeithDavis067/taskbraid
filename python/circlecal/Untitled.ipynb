{
 "cells": [
  {
   "cell_type": "code",
   "execution_count": 1,
   "id": "03c9f2ae-a7fb-42dd-916e-09f3d2342154",
   "metadata": {},
   "outputs": [],
   "source": [
    "from datetime import datetime, date, time\n",
    "from datetime import timedelta\n",
    "from calendar import monthrange\n",
    "import circle_cal.newmodel as nm"
   ]
  },
  {
   "cell_type": "code",
   "execution_count": 2,
   "id": "adfd31f8-ae50-47a5-9b3f-57db1fa92b8f",
   "metadata": {},
   "outputs": [],
   "source": [
    "dtp = nm.DTPrecision(year=2024, month=1, day=10)"
   ]
  },
  {
   "cell_type": "code",
   "execution_count": 3,
   "id": "21246d5a-3bba-400b-a535-29ef2c05e09f",
   "metadata": {},
   "outputs": [],
   "source": [
    "dtp.increment()"
   ]
  },
  {
   "cell_type": "code",
   "execution_count": 4,
   "id": "4a6bf52a-81ac-465a-a053-1c0fbfc0226a",
   "metadata": {},
   "outputs": [
    {
     "data": {
      "text/plain": [
       "DTPrecision:2024-01-11 "
      ]
     },
     "execution_count": 4,
     "metadata": {},
     "output_type": "execute_result"
    }
   ],
   "source": [
    "dtp"
   ]
  },
  {
   "cell_type": "code",
   "execution_count": 5,
   "id": "b4668fb6-992e-4582-b714-5988be2ee63c",
   "metadata": {},
   "outputs": [
    {
     "name": "stdout",
     "output_type": "stream",
     "text": [
      "DTPrecision:2024-01-12 \n",
      "DTPrecision:2024-01-13 \n",
      "DTPrecision:2024-01-14 \n",
      "DTPrecision:2024-01-15 \n",
      "DTPrecision:2024-01-16 \n",
      "DTPrecision:2024-01-17 \n",
      "DTPrecision:2024-01-18 \n",
      "DTPrecision:2024-01-19 \n",
      "DTPrecision:2024-01-20 \n",
      "DTPrecision:2024-01-21 \n",
      "DTPrecision:2024-01-22 \n",
      "DTPrecision:2024-01-23 \n",
      "DTPrecision:2024-01-24 \n",
      "DTPrecision:2024-01-25 \n",
      "DTPrecision:2024-01-26 \n",
      "DTPrecision:2024-01-27 \n",
      "DTPrecision:2024-01-28 \n",
      "DTPrecision:2024-01-29 \n",
      "DTPrecision:2024-01-30 \n",
      "DTPrecision:2024-01-31 \n",
      "DTPrecision:2024-02-01 \n",
      "DTPrecision:2024-02-02 \n",
      "DTPrecision:2024-02-03 \n",
      "DTPrecision:2024-02-04 \n",
      "DTPrecision:2024-02-05 \n",
      "DTPrecision:2024-02-06 \n",
      "DTPrecision:2024-02-07 \n",
      "DTPrecision:2024-02-08 \n",
      "DTPrecision:2024-02-09 \n",
      "DTPrecision:2024-02-10 \n",
      "DTPrecision:2024-02-11 \n",
      "DTPrecision:2024-02-12 \n",
      "DTPrecision:2024-02-13 \n",
      "DTPrecision:2024-02-14 \n",
      "DTPrecision:2024-02-15 \n",
      "DTPrecision:2024-02-16 \n",
      "DTPrecision:2024-02-17 \n",
      "DTPrecision:2024-02-18 \n",
      "DTPrecision:2024-02-19 \n",
      "DTPrecision:2024-02-20 \n",
      "DTPrecision:2024-02-21 \n",
      "DTPrecision:2024-02-22 \n",
      "DTPrecision:2024-02-23 \n",
      "DTPrecision:2024-02-24 \n",
      "DTPrecision:2024-02-25 \n",
      "DTPrecision:2024-02-26 \n",
      "DTPrecision:2024-02-27 \n",
      "DTPrecision:2024-02-28 \n",
      "DTPrecision:2024-02-29 \n",
      "DTPrecision:2024-03-01 \n",
      "DTPrecision:2024-03-02 \n",
      "DTPrecision:2024-03-03 \n",
      "DTPrecision:2024-03-04 \n",
      "DTPrecision:2024-03-05 \n",
      "DTPrecision:2024-03-06 \n",
      "DTPrecision:2024-03-07 \n",
      "DTPrecision:2024-03-08 \n",
      "DTPrecision:2024-03-09 \n",
      "DTPrecision:2024-03-10 \n",
      "DTPrecision:2024-03-11 \n",
      "DTPrecision:2024-03-12 \n",
      "DTPrecision:2024-03-13 \n",
      "DTPrecision:2024-03-14 \n",
      "DTPrecision:2024-03-15 \n",
      "DTPrecision:2024-03-16 \n",
      "DTPrecision:2024-03-17 \n",
      "DTPrecision:2024-03-18 \n",
      "DTPrecision:2024-03-19 \n",
      "DTPrecision:2024-03-20 \n",
      "DTPrecision:2024-03-21 \n",
      "DTPrecision:2024-03-22 \n",
      "DTPrecision:2024-03-23 \n",
      "DTPrecision:2024-03-24 \n",
      "DTPrecision:2024-03-25 \n",
      "DTPrecision:2024-03-26 \n",
      "DTPrecision:2024-03-27 \n",
      "DTPrecision:2024-03-28 \n",
      "DTPrecision:2024-03-29 \n",
      "DTPrecision:2024-03-30 \n",
      "DTPrecision:2024-03-31 \n",
      "DTPrecision:2024-04-01 \n",
      "DTPrecision:2024-04-02 \n",
      "DTPrecision:2024-04-03 \n",
      "DTPrecision:2024-04-04 \n",
      "DTPrecision:2024-04-05 \n",
      "DTPrecision:2024-04-06 \n",
      "DTPrecision:2024-04-07 \n",
      "DTPrecision:2024-04-08 \n",
      "DTPrecision:2024-04-09 \n",
      "DTPrecision:2024-04-10 \n",
      "DTPrecision:2024-04-11 \n",
      "DTPrecision:2024-04-12 \n",
      "DTPrecision:2024-04-13 \n",
      "DTPrecision:2024-04-14 \n",
      "DTPrecision:2024-04-15 \n",
      "DTPrecision:2024-04-16 \n",
      "DTPrecision:2024-04-17 \n",
      "DTPrecision:2024-04-18 \n",
      "DTPrecision:2024-04-19 \n",
      "DTPrecision:2024-04-20 \n",
      "DTPrecision:2024-04-21 \n",
      "DTPrecision:2024-04-22 \n",
      "DTPrecision:2024-04-23 \n",
      "DTPrecision:2024-04-24 \n",
      "DTPrecision:2024-04-25 \n",
      "DTPrecision:2024-04-26 \n",
      "DTPrecision:2024-04-27 \n",
      "DTPrecision:2024-04-28 \n",
      "DTPrecision:2024-04-29 \n",
      "DTPrecision:2024-04-30 \n",
      "DTPrecision:2024-05-01 \n",
      "DTPrecision:2024-05-02 \n",
      "DTPrecision:2024-05-03 \n",
      "DTPrecision:2024-05-04 \n",
      "DTPrecision:2024-05-05 \n",
      "DTPrecision:2024-05-06 \n",
      "DTPrecision:2024-05-07 \n",
      "DTPrecision:2024-05-08 \n",
      "DTPrecision:2024-05-09 \n",
      "DTPrecision:2024-05-10 \n",
      "DTPrecision:2024-05-11 \n",
      "DTPrecision:2024-05-12 \n",
      "DTPrecision:2024-05-13 \n",
      "DTPrecision:2024-05-14 \n",
      "DTPrecision:2024-05-15 \n",
      "DTPrecision:2024-05-16 \n",
      "DTPrecision:2024-05-17 \n",
      "DTPrecision:2024-05-18 \n",
      "DTPrecision:2024-05-19 \n",
      "DTPrecision:2024-05-20 \n",
      "DTPrecision:2024-05-21 \n",
      "DTPrecision:2024-05-22 \n",
      "DTPrecision:2024-05-23 \n",
      "DTPrecision:2024-05-24 \n",
      "DTPrecision:2024-05-25 \n",
      "DTPrecision:2024-05-26 \n",
      "DTPrecision:2024-05-27 \n",
      "DTPrecision:2024-05-28 \n",
      "DTPrecision:2024-05-29 \n",
      "DTPrecision:2024-05-30 \n",
      "DTPrecision:2024-05-31 \n",
      "DTPrecision:2024-06-01 \n",
      "DTPrecision:2024-06-02 \n",
      "DTPrecision:2024-06-03 \n",
      "DTPrecision:2024-06-04 \n",
      "DTPrecision:2024-06-05 \n",
      "DTPrecision:2024-06-06 \n",
      "DTPrecision:2024-06-07 \n",
      "DTPrecision:2024-06-08 \n",
      "DTPrecision:2024-06-09 \n",
      "DTPrecision:2024-06-10 \n",
      "DTPrecision:2024-06-11 \n",
      "DTPrecision:2024-06-12 \n",
      "DTPrecision:2024-06-13 \n",
      "DTPrecision:2024-06-14 \n",
      "DTPrecision:2024-06-15 \n",
      "DTPrecision:2024-06-16 \n",
      "DTPrecision:2024-06-17 \n",
      "DTPrecision:2024-06-18 \n",
      "DTPrecision:2024-06-19 \n",
      "DTPrecision:2024-06-20 \n",
      "DTPrecision:2024-06-21 \n",
      "DTPrecision:2024-06-22 \n",
      "DTPrecision:2024-06-23 \n",
      "DTPrecision:2024-06-24 \n",
      "DTPrecision:2024-06-25 \n",
      "DTPrecision:2024-06-26 \n",
      "DTPrecision:2024-06-27 \n",
      "DTPrecision:2024-06-28 \n",
      "DTPrecision:2024-06-29 \n",
      "DTPrecision:2024-06-30 \n",
      "DTPrecision:2024-07-01 \n",
      "DTPrecision:2024-07-02 \n",
      "DTPrecision:2024-07-03 \n",
      "DTPrecision:2024-07-04 \n",
      "DTPrecision:2024-07-05 \n",
      "DTPrecision:2024-07-06 \n",
      "DTPrecision:2024-07-07 \n",
      "DTPrecision:2024-07-08 \n",
      "DTPrecision:2024-07-09 \n",
      "DTPrecision:2024-07-10 \n",
      "DTPrecision:2024-07-11 \n",
      "DTPrecision:2024-07-12 \n",
      "DTPrecision:2024-07-13 \n",
      "DTPrecision:2024-07-14 \n",
      "DTPrecision:2024-07-15 \n",
      "DTPrecision:2024-07-16 \n",
      "DTPrecision:2024-07-17 \n",
      "DTPrecision:2024-07-18 \n",
      "DTPrecision:2024-07-19 \n",
      "DTPrecision:2024-07-20 \n",
      "DTPrecision:2024-07-21 \n",
      "DTPrecision:2024-07-22 \n",
      "DTPrecision:2024-07-23 \n",
      "DTPrecision:2024-07-24 \n",
      "DTPrecision:2024-07-25 \n",
      "DTPrecision:2024-07-26 \n",
      "DTPrecision:2024-07-27 \n",
      "DTPrecision:2024-07-28 \n",
      "DTPrecision:2024-07-29 \n"
     ]
    }
   ],
   "source": [
    "for i in range(200):\n",
    "    dtp.increment()\n",
    "    print(dtp)"
   ]
  },
  {
   "cell_type": "code",
   "execution_count": 6,
   "id": "44ce3d9b-2e38-470a-aee8-be4a36a25f9e",
   "metadata": {},
   "outputs": [],
   "source": [
    "y = nm.CalendarPeriod(start=nm.DTPrecision(year=2024, month=12), stop=nm.DTPrecision(year=2026))"
   ]
  },
  {
   "cell_type": "code",
   "execution_count": 7,
   "id": "238e4050-d0c5-4de3-b702-b945b77e2cf2",
   "metadata": {},
   "outputs": [
    {
     "data": {
      "text/plain": [
       "DTPrecision:2024-12 DTPrecision:2025-01 "
      ]
     },
     "execution_count": 7,
     "metadata": {},
     "output_type": "execute_result"
    }
   ],
   "source": [
    "y[2]"
   ]
  },
  {
   "cell_type": "code",
   "execution_count": 8,
   "id": "0f6e07ef-95e2-4467-a454-069d5e1f5366",
   "metadata": {},
   "outputs": [
    {
     "data": {
      "text/plain": [
       "DTPrecision:2024-12 DTPrecision:2025-01 "
      ]
     },
     "execution_count": 8,
     "metadata": {},
     "output_type": "execute_result"
    }
   ],
   "source": [
    "y[1]"
   ]
  },
  {
   "cell_type": "code",
   "execution_count": 10,
   "id": "2bcd1491-88cf-4952-8a0f-416d2d4a2e7e",
   "metadata": {},
   "outputs": [
    {
     "data": {
      "text/plain": [
       "DTPrecision:2024-07-30 "
      ]
     },
     "execution_count": 10,
     "metadata": {},
     "output_type": "execute_result"
    }
   ],
   "source": [
    "dtp"
   ]
  },
  {
   "cell_type": "code",
   "execution_count": 10,
   "id": "d2d346de-7ff5-4a02-9b9c-4cb2dc759bb0",
   "metadata": {},
   "outputs": [
    {
     "data": {
      "text/plain": [
       "datetime.timedelta(days=1461)"
      ]
     },
     "execution_count": 10,
     "metadata": {},
     "output_type": "execute_result"
    }
   ],
   "source": [
    "cp.duration"
   ]
  },
  {
   "cell_type": "code",
   "execution_count": 13,
   "id": "7cf0a93b-f63d-4300-9c76-757a81df2f5f",
   "metadata": {},
   "outputs": [],
   "source": [
    "setattr(dtp,\"day\", None)"
   ]
  },
  {
   "cell_type": "code",
   "execution_count": 14,
   "id": "b7b8d5d3-86f3-4b97-9773-b1212fe740c9",
   "metadata": {},
   "outputs": [
    {
     "ename": "AttributeError",
     "evalue": "'DTPrecision' object has no attribute 'duration'",
     "output_type": "error",
     "traceback": [
      "\u001b[0;31m---------------------------------------------------------------------------\u001b[0m",
      "\u001b[0;31mAttributeError\u001b[0m                            Traceback (most recent call last)",
      "Cell \u001b[0;32mIn[14], line 1\u001b[0m\n\u001b[0;32m----> 1\u001b[0m \u001b[43mdtp\u001b[49m\u001b[38;5;241;43m.\u001b[39;49m\u001b[43mduration\u001b[49m\n",
      "File \u001b[0;32m~/Documents/PythonProjects/taskbraid/python/circlecal/circle_cal/newmodel.py:158\u001b[0m, in \u001b[0;36mDTPrecision.__getattr__\u001b[0;34m(self, name)\u001b[0m\n\u001b[1;32m    156\u001b[0m \u001b[38;5;28;01mif\u001b[39;00m name \u001b[38;5;129;01min\u001b[39;00m UNITS:\n\u001b[1;32m    157\u001b[0m     \u001b[38;5;28;01mreturn\u001b[39;00m \u001b[38;5;28;01mNone\u001b[39;00m\n\u001b[0;32m--> 158\u001b[0m \u001b[38;5;28;01mreturn\u001b[39;00m \u001b[38;5;28;43msuper\u001b[39;49m\u001b[43m(\u001b[49m\u001b[43m)\u001b[49m\u001b[38;5;241;43m.\u001b[39;49m\u001b[38;5;21;43m__getattribute__\u001b[39;49m\u001b[43m(\u001b[49m\u001b[43mname\u001b[49m\u001b[43m)\u001b[49m\n",
      "\u001b[0;31mAttributeError\u001b[0m: 'DTPrecision' object has no attribute 'duration'"
     ]
    }
   ],
   "source": [
    "dtp.duration"
   ]
  },
  {
   "cell_type": "code",
   "execution_count": 15,
   "id": "fb91f4af-4c23-4e26-bf3c-701f62fa695e",
   "metadata": {},
   "outputs": [
    {
     "data": {
      "text/plain": [
       "{'year': range(1, 10000),\n",
       " 'month': range(1, 13),\n",
       " 'day': None,\n",
       " 'hour': range(0, 24),\n",
       " 'minute': range(0, 60),\n",
       " 'second': range(0, 60),\n",
       " 'microsecond': range(0, 1000000)}"
      ]
     },
     "execution_count": 15,
     "metadata": {},
     "output_type": "execute_result"
    }
   ],
   "source": [
    "dtp.ranges"
   ]
  },
  {
   "cell_type": "code",
   "execution_count": 16,
   "id": "31107cde-d7a5-48e5-a7db-a769241ba736",
   "metadata": {},
   "outputs": [
    {
     "ename": "TypeError",
     "evalue": "function missing required argument 'month' (pos 2)",
     "output_type": "error",
     "traceback": [
      "\u001b[0;31m---------------------------------------------------------------------------\u001b[0m",
      "\u001b[0;31mTypeError\u001b[0m                                 Traceback (most recent call last)",
      "Cell \u001b[0;32mIn[16], line 1\u001b[0m\n\u001b[0;32m----> 1\u001b[0m \u001b[43mdatetime\u001b[49m\u001b[43m(\u001b[49m\u001b[38;5;241;43m2024\u001b[39;49m\u001b[43m)\u001b[49m\n",
      "\u001b[0;31mTypeError\u001b[0m: function missing required argument 'month' (pos 2)"
     ]
    }
   ],
   "source": [
    "datetime(2024)"
   ]
  },
  {
   "cell_type": "code",
   "execution_count": 17,
   "id": "2bf9611e-5f42-48fd-a8e9-dc5c1a839f29",
   "metadata": {},
   "outputs": [
    {
     "ename": "TypeError",
     "evalue": "'NoneType' object cannot be interpreted as an integer",
     "output_type": "error",
     "traceback": [
      "\u001b[0;31m---------------------------------------------------------------------------\u001b[0m",
      "\u001b[0;31mTypeError\u001b[0m                                 Traceback (most recent call last)",
      "Cell \u001b[0;32mIn[17], line 1\u001b[0m\n\u001b[0;32m----> 1\u001b[0m \u001b[43mdatetime\u001b[49m\u001b[43m(\u001b[49m\u001b[38;5;241;43m2024\u001b[39;49m\u001b[43m,\u001b[49m\u001b[43m \u001b[49m\u001b[38;5;241;43m1\u001b[39;49m\u001b[43m,\u001b[49m\u001b[43m \u001b[49m\u001b[38;5;241;43m1\u001b[39;49m\u001b[43m,\u001b[49m\u001b[43m \u001b[49m\u001b[43msecond\u001b[49m\u001b[38;5;241;43m=\u001b[39;49m\u001b[38;5;28;43;01mNone\u001b[39;49;00m\u001b[43m)\u001b[49m\n",
      "\u001b[0;31mTypeError\u001b[0m: 'NoneType' object cannot be interpreted as an integer"
     ]
    }
   ],
   "source": [
    "datetime(2024, 1, 1, second=None)"
   ]
  },
  {
   "cell_type": "code",
   "execution_count": 18,
   "id": "c5dd8ee2-b8a7-452e-b860-12b90baa2527",
   "metadata": {},
   "outputs": [
    {
     "ename": "TypeError",
     "evalue": "argument for function given by name ('year') and position (1)",
     "output_type": "error",
     "traceback": [
      "\u001b[0;31m---------------------------------------------------------------------------\u001b[0m",
      "\u001b[0;31mTypeError\u001b[0m                                 Traceback (most recent call last)",
      "Cell \u001b[0;32mIn[18], line 1\u001b[0m\n\u001b[0;32m----> 1\u001b[0m \u001b[43mdatetime\u001b[49m\u001b[43m(\u001b[49m\u001b[38;5;241;43m2023\u001b[39;49m\u001b[43m,\u001b[49m\u001b[38;5;241;43m2\u001b[39;49m\u001b[43m,\u001b[49m\u001b[43m \u001b[49m\u001b[38;5;241;43m1\u001b[39;49m\u001b[43m,\u001b[49m\u001b[43m \u001b[49m\u001b[43myear\u001b[49m\u001b[38;5;241;43m=\u001b[39;49m\u001b[38;5;241;43m2025\u001b[39;49m\u001b[43m)\u001b[49m\n",
      "\u001b[0;31mTypeError\u001b[0m: argument for function given by name ('year') and position (1)"
     ]
    }
   ],
   "source": [
    "datetime(2023,2, 1, year=2025)"
   ]
  },
  {
   "cell_type": "code",
   "execution_count": 19,
   "id": "4e705e17-6e02-458f-b73e-1b79b68cc6a8",
   "metadata": {},
   "outputs": [
    {
     "ename": "ValueError",
     "evalue": "12 is not in list",
     "output_type": "error",
     "traceback": [
      "\u001b[0;31m---------------------------------------------------------------------------\u001b[0m",
      "\u001b[0;31mValueError\u001b[0m                                Traceback (most recent call last)",
      "Cell \u001b[0;32mIn[19], line 1\u001b[0m\n\u001b[0;32m----> 1\u001b[0m \u001b[43m[\u001b[49m\u001b[38;5;28;43;01mFalse\u001b[39;49;00m\u001b[43m,\u001b[49m\u001b[43m \u001b[49m\u001b[38;5;28;43;01mTrue\u001b[39;49;00m\u001b[43m,\u001b[49m\u001b[43m \u001b[49m\u001b[38;5;28;43;01mTrue\u001b[39;49;00m\u001b[43m]\u001b[49m\u001b[38;5;241;43m.\u001b[39;49m\u001b[43mindex\u001b[49m\u001b[43m(\u001b[49m\u001b[38;5;241;43m12\u001b[39;49m\u001b[43m)\u001b[49m\n",
      "\u001b[0;31mValueError\u001b[0m: 12 is not in list"
     ]
    }
   ],
   "source": [
    "[False, True, True].index(12)"
   ]
  },
  {
   "cell_type": "code",
   "execution_count": 20,
   "id": "1bb7a7c1-c08a-4d0f-8b2e-7fdea1c27584",
   "metadata": {},
   "outputs": [],
   "source": [
    "s = dtp.to_dict()"
   ]
  },
  {
   "cell_type": "code",
   "execution_count": 21,
   "id": "50ac66e3-1f23-47cf-8508-1011c58283b9",
   "metadata": {},
   "outputs": [
    {
     "data": {
      "text/plain": [
       "1"
      ]
     },
     "execution_count": 21,
     "metadata": {},
     "output_type": "execute_result"
    }
   ],
   "source": [
    "list(s.keys()).index(\"month\")"
   ]
  },
  {
   "cell_type": "code",
   "execution_count": 22,
   "id": "c3dfb42e-e8dd-44d9-9d34-de8252465e93",
   "metadata": {},
   "outputs": [
    {
     "data": {
      "text/plain": [
       "{'year': 2024,\n",
       " 'month': None,\n",
       " 'day': None,\n",
       " 'hour': None,\n",
       " 'minute': None,\n",
       " 'second': None,\n",
       " 'microsecond': None}"
      ]
     },
     "execution_count": 22,
     "metadata": {},
     "output_type": "execute_result"
    }
   ],
   "source": [
    "s"
   ]
  },
  {
   "cell_type": "code",
   "execution_count": 17,
   "id": "381ccedd-8111-4dd6-8576-3b22ad78dfaf",
   "metadata": {},
   "outputs": [],
   "source": [
    "s.update({\"monkey\": 3})"
   ]
  },
  {
   "cell_type": "code",
   "execution_count": 35,
   "id": "3a19ae27-ed00-4a63-a0b5-60242513bf83",
   "metadata": {},
   "outputs": [
    {
     "data": {
      "text/plain": [
       "{'year': None,\n",
       " 'month': 3,\n",
       " 'day': None,\n",
       " 'hour': None,\n",
       " 'minute': None,\n",
       " 'second': None,\n",
       " 'microsecond': None,\n",
       " 'monkey': 3}"
      ]
     },
     "execution_count": 35,
     "metadata": {},
     "output_type": "execute_result"
    }
   ],
   "source": [
    "s"
   ]
  },
  {
   "cell_type": "code",
   "execution_count": 38,
   "id": "73683430-9cdf-4773-9de7-dc219f7456ce",
   "metadata": {},
   "outputs": [],
   "source": [
    "n = datetime(2024, 1, 1)"
   ]
  },
  {
   "cell_type": "code",
   "execution_count": 40,
   "id": "d42cf45d-a364-44b8-8059-d938a5bdbe99",
   "metadata": {},
   "outputs": [
    {
     "data": {
      "text/plain": [
       "0"
      ]
     },
     "execution_count": 40,
     "metadata": {},
     "output_type": "execute_result"
    }
   ],
   "source": [
    "getattr(n, \"microsecond\")"
   ]
  },
  {
   "cell_type": "code",
   "execution_count": 41,
   "id": "d7da87be-63cb-436d-92f6-30b17b3a06f0",
   "metadata": {},
   "outputs": [
    {
     "data": {
      "text/plain": [
       "datetime.datetime(2024, 1, 1, 0, 0)"
      ]
     },
     "execution_count": 41,
     "metadata": {},
     "output_type": "execute_result"
    }
   ],
   "source": [
    "n"
   ]
  },
  {
   "cell_type": "code",
   "execution_count": 42,
   "id": "be3ff673-46b9-480f-a605-16574820996c",
   "metadata": {},
   "outputs": [
    {
     "data": {
      "text/plain": [
       "0"
      ]
     },
     "execution_count": 42,
     "metadata": {},
     "output_type": "execute_result"
    }
   ],
   "source": [
    "n.microsecond"
   ]
  },
  {
   "cell_type": "code",
   "execution_count": 43,
   "id": "b9122fcb-4a04-4a07-9d01-84ae764b239e",
   "metadata": {},
   "outputs": [
    {
     "data": {
      "text/plain": [
       "['__add__',\n",
       " '__class__',\n",
       " '__delattr__',\n",
       " '__dir__',\n",
       " '__doc__',\n",
       " '__eq__',\n",
       " '__format__',\n",
       " '__ge__',\n",
       " '__getattribute__',\n",
       " '__getstate__',\n",
       " '__gt__',\n",
       " '__hash__',\n",
       " '__init__',\n",
       " '__init_subclass__',\n",
       " '__le__',\n",
       " '__lt__',\n",
       " '__ne__',\n",
       " '__new__',\n",
       " '__radd__',\n",
       " '__reduce__',\n",
       " '__reduce_ex__',\n",
       " '__repr__',\n",
       " '__rsub__',\n",
       " '__setattr__',\n",
       " '__sizeof__',\n",
       " '__str__',\n",
       " '__sub__',\n",
       " '__subclasshook__',\n",
       " 'astimezone',\n",
       " 'combine',\n",
       " 'ctime',\n",
       " 'date',\n",
       " 'day',\n",
       " 'dst',\n",
       " 'fold',\n",
       " 'fromisocalendar',\n",
       " 'fromisoformat',\n",
       " 'fromordinal',\n",
       " 'fromtimestamp',\n",
       " 'hour',\n",
       " 'isocalendar',\n",
       " 'isoformat',\n",
       " 'isoweekday',\n",
       " 'max',\n",
       " 'microsecond',\n",
       " 'min',\n",
       " 'minute',\n",
       " 'month',\n",
       " 'now',\n",
       " 'replace',\n",
       " 'resolution',\n",
       " 'second',\n",
       " 'strftime',\n",
       " 'strptime',\n",
       " 'time',\n",
       " 'timestamp',\n",
       " 'timetuple',\n",
       " 'timetz',\n",
       " 'today',\n",
       " 'toordinal',\n",
       " 'tzinfo',\n",
       " 'tzname',\n",
       " 'utcfromtimestamp',\n",
       " 'utcnow',\n",
       " 'utcoffset',\n",
       " 'utctimetuple',\n",
       " 'weekday',\n",
       " 'year']"
      ]
     },
     "execution_count": 43,
     "metadata": {},
     "output_type": "execute_result"
    }
   ],
   "source": [
    "dir(n)"
   ]
  },
  {
   "cell_type": "code",
   "execution_count": 44,
   "id": "8c7c77b9-7dbe-45e8-a8f4-7a068287aaef",
   "metadata": {},
   "outputs": [
    {
     "data": {
      "text/plain": [
       "True"
      ]
     },
     "execution_count": 44,
     "metadata": {},
     "output_type": "execute_result"
    }
   ],
   "source": [
    "4 != None"
   ]
  },
  {
   "cell_type": "code",
   "execution_count": 47,
   "id": "7998c455-10f0-404e-95bf-32127167ddbf",
   "metadata": {},
   "outputs": [
    {
     "data": {
      "text/plain": [
       "datetime.datetime(2024, 1, 1, 0, 0)"
      ]
     },
     "execution_count": 47,
     "metadata": {},
     "output_type": "execute_result"
    }
   ],
   "source": [
    "n"
   ]
  },
  {
   "cell_type": "code",
   "execution_count": 12,
   "id": "345b225f-8401-455b-a32d-1a9a67e8835f",
   "metadata": {},
   "outputs": [
    {
     "name": "stdout",
     "output_type": "stream",
     "text": [
      "0\n",
      "1\n"
     ]
    }
   ],
   "source": [
    "for i in range(0, 1+1):\n",
    "    print(i)"
   ]
  },
  {
   "cell_type": "code",
   "execution_count": null,
   "id": "d1f1cad1-c0ce-45b2-8162-c6c304c66b4a",
   "metadata": {},
   "outputs": [],
   "source": []
  },
  {
   "cell_type": "code",
   "execution_count": null,
   "id": "167c3a07-0112-405f-b8c0-96d82338fbee",
   "metadata": {},
   "outputs": [],
   "source": []
  }
 ],
 "metadata": {
  "kernelspec": {
   "display_name": "Python 3 (ipykernel)",
   "language": "python",
   "name": "python3"
  },
  "language_info": {
   "codemirror_mode": {
    "name": "ipython",
    "version": 3
   },
   "file_extension": ".py",
   "mimetype": "text/x-python",
   "name": "python",
   "nbconvert_exporter": "python",
   "pygments_lexer": "ipython3",
   "version": "3.12.7"
  }
 },
 "nbformat": 4,
 "nbformat_minor": 5
}
