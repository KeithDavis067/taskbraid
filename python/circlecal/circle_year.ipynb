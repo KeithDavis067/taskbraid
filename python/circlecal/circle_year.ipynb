{
 "cells": [
  {
   "cell_type": "code",
   "execution_count": 1,
   "id": "3ac1e556-d484-4e54-8d34-0f1c8d8973a8",
   "metadata": {},
   "outputs": [],
   "source": [
    "from gcsa.event import Event\n",
    "from gcsa.google_calendar import GoogleCalendar\n",
    "from gcsa.recurrence import Recurrence, DAILY, SU, SA\n",
    "\n",
    "import plotly.express as px\n",
    "import plotly.graph_objects as go\n",
    "\n",
    "import pandas as pd\n",
    "\n",
    "from datetime import datetime, timedelta, date\n",
    "import dateutil\n",
    "from dateutil.parser import parse\n",
    "import calendar\n",
    "import numpy as np\n",
    "from circle_cal import Year_Data\n",
    "import circle_cal as cc\n",
    "import "
   ]
  },
  {
   "cell_type": "code",
   "execution_count": 2,
   "id": "28c9b232-ef89-4705-b087-f37651783028",
   "metadata": {},
   "outputs": [],
   "source": [
    "gcal = GoogleCalendar('keithwdavis@gmail.com',\n",
    "                          credentials_path='/Users/kdavis10/.config/.credentials/pygooglecal.apps.googleusercontent.com.json')\n"
   ]
  },
  {
   "cell_type": "code",
   "execution_count": 33,
   "id": "79ac95a4-a43f-4208-8cdb-f7baed0a7d86",
   "metadata": {},
   "outputs": [],
   "source": [
    "events = list(gcal)\n",
    "events = events[0:10]"
   ]
  },
  {
   "cell_type": "code",
   "execution_count": 9,
   "id": "4b648265-6240-4ec8-89cc-2f85f7a1d5f8",
   "metadata": {},
   "outputs": [
    {
     "name": "stdout",
     "output_type": "stream",
     "text": [
      "Help on class timedelta in module datetime:\n",
      "\n",
      "class timedelta(builtins.object)\n",
      " |  Difference between two datetime values.\n",
      " |\n",
      " |  timedelta(days=0, seconds=0, microseconds=0, milliseconds=0, minutes=0, hours=0, weeks=0)\n",
      " |\n",
      " |  All arguments are optional and default to 0.\n",
      " |  Arguments may be integers or floats, and may be positive or negative.\n",
      " |\n",
      " |  Methods defined here:\n",
      " |\n",
      " |  __abs__(self, /)\n",
      " |      abs(self)\n",
      " |\n",
      " |  __add__(self, value, /)\n",
      " |      Return self+value.\n",
      " |\n",
      " |  __bool__(self, /)\n",
      " |      True if self else False\n",
      " |\n",
      " |  __divmod__(self, value, /)\n",
      " |      Return divmod(self, value).\n",
      " |\n",
      " |  __eq__(self, value, /)\n",
      " |      Return self==value.\n",
      " |\n",
      " |  __floordiv__(self, value, /)\n",
      " |      Return self//value.\n",
      " |\n",
      " |  __ge__(self, value, /)\n",
      " |      Return self>=value.\n",
      " |\n",
      " |  __getattribute__(self, name, /)\n",
      " |      Return getattr(self, name).\n",
      " |\n",
      " |  __gt__(self, value, /)\n",
      " |      Return self>value.\n",
      " |\n",
      " |  __hash__(self, /)\n",
      " |      Return hash(self).\n",
      " |\n",
      " |  __le__(self, value, /)\n",
      " |      Return self<=value.\n",
      " |\n",
      " |  __lt__(self, value, /)\n",
      " |      Return self<value.\n",
      " |\n",
      " |  __mod__(self, value, /)\n",
      " |      Return self%value.\n",
      " |\n",
      " |  __mul__(self, value, /)\n",
      " |      Return self*value.\n",
      " |\n",
      " |  __ne__(self, value, /)\n",
      " |      Return self!=value.\n",
      " |\n",
      " |  __neg__(self, /)\n",
      " |      -self\n",
      " |\n",
      " |  __pos__(self, /)\n",
      " |      +self\n",
      " |\n",
      " |  __radd__(self, value, /)\n",
      " |      Return value+self.\n",
      " |\n",
      " |  __rdivmod__(self, value, /)\n",
      " |      Return divmod(value, self).\n",
      " |\n",
      " |  __reduce__(...)\n",
      " |      __reduce__() -> (cls, state)\n",
      " |\n",
      " |  __repr__(self, /)\n",
      " |      Return repr(self).\n",
      " |\n",
      " |  __rfloordiv__(self, value, /)\n",
      " |      Return value//self.\n",
      " |\n",
      " |  __rmod__(self, value, /)\n",
      " |      Return value%self.\n",
      " |\n",
      " |  __rmul__(self, value, /)\n",
      " |      Return value*self.\n",
      " |\n",
      " |  __rsub__(self, value, /)\n",
      " |      Return value-self.\n",
      " |\n",
      " |  __rtruediv__(self, value, /)\n",
      " |      Return value/self.\n",
      " |\n",
      " |  __str__(self, /)\n",
      " |      Return str(self).\n",
      " |\n",
      " |  __sub__(self, value, /)\n",
      " |      Return self-value.\n",
      " |\n",
      " |  __truediv__(self, value, /)\n",
      " |      Return self/value.\n",
      " |\n",
      " |  total_seconds(...)\n",
      " |      Total seconds in the duration.\n",
      " |\n",
      " |  ----------------------------------------------------------------------\n",
      " |  Static methods defined here:\n",
      " |\n",
      " |  __new__(*args, **kwargs) from builtins.type\n",
      " |      Create and return a new object.  See help(type) for accurate signature.\n",
      " |\n",
      " |  ----------------------------------------------------------------------\n",
      " |  Data descriptors defined here:\n",
      " |\n",
      " |  days\n",
      " |      Number of days.\n",
      " |\n",
      " |  microseconds\n",
      " |      Number of microseconds (>= 0 and less than 1 second).\n",
      " |\n",
      " |  seconds\n",
      " |      Number of seconds (>= 0 and less than 1 day).\n",
      " |\n",
      " |  ----------------------------------------------------------------------\n",
      " |  Data and other attributes defined here:\n",
      " |\n",
      " |  max = datetime.timedelta(days=999999999, seconds=86399, microseconds=9...\n",
      " |\n",
      " |  min = datetime.timedelta(days=-999999999)\n",
      " |\n",
      " |  resolution = datetime.timedelta(microseconds=1)\n",
      "\n"
     ]
    }
   ],
   "source": []
  },
  {
   "cell_type": "code",
   "execution_count": 56,
   "id": "f419937a-e86d-4903-901f-40377be23832",
   "metadata": {},
   "outputs": [
    {
     "data": {
      "text/plain": [
       "(datetime.datetime(2024, 10, 29, 16, 0, tzinfo=tzoffset(None, -14400)),\n",
       " datetime.datetime(2024, 10, 29, 17, 0, tzinfo=tzoffset(None, -14400)))"
      ]
     },
     "execution_count": 56,
     "metadata": {},
     "output_type": "execute_result"
    }
   ],
   "source": [
    "events[4].start, events[4].end"
   ]
  },
  {
   "cell_type": "code",
   "execution_count": 60,
   "id": "28b88612-3cf1-40d1-abb3-7295d4f76d6f",
   "metadata": {},
   "outputs": [
    {
     "ename": "AttributeError",
     "evalue": "'datetime.date' object has no attribute 'tz'",
     "output_type": "error",
     "traceback": [
      "\u001b[0;31m---------------------------------------------------------------------------\u001b[0m",
      "\u001b[0;31mAttributeError\u001b[0m                            Traceback (most recent call last)",
      "Cell \u001b[0;32mIn[60], line 2\u001b[0m\n\u001b[1;32m      1\u001b[0m d \u001b[38;5;241m=\u001b[39m date(\u001b[38;5;241m2024\u001b[39m, \u001b[38;5;241m1\u001b[39m, \u001b[38;5;241m1\u001b[39m)\n\u001b[0;32m----> 2\u001b[0m \u001b[43md\u001b[49m\u001b[38;5;241;43m.\u001b[39;49m\u001b[43mtz\u001b[49m\n",
      "\u001b[0;31mAttributeError\u001b[0m: 'datetime.date' object has no attribute 'tz'"
     ]
    }
   ],
   "source": [
    "d = date(2024, 1, 1)\n",
    "d.tz"
   ]
  },
  {
   "cell_type": "code",
   "execution_count": 4,
   "id": "7c36c791-bd2d-4bad-b627-829a1402bc4f",
   "metadata": {},
   "outputs": [
    {
     "ename": "NameError",
     "evalue": "name 'month_name' is not defined",
     "output_type": "error",
     "traceback": [
      "\u001b[0;31m---------------------------------------------------------------------------\u001b[0m",
      "\u001b[0;31mNameError\u001b[0m                                 Traceback (most recent call last)",
      "Cell \u001b[0;32mIn[4], line 46\u001b[0m\n\u001b[1;32m     31\u001b[0m theta, width \u001b[38;5;241m=\u001b[39m cc\u001b[38;5;241m.\u001b[39mevents_to_polar(months, days_to_theta \u001b[38;5;241m=\u001b[39m d_to_degree)\n\u001b[1;32m     33\u001b[0m fig\u001b[38;5;241m.\u001b[39madd_trace(go\u001b[38;5;241m.\u001b[39mBarpolar(base\u001b[38;5;241m=\u001b[39m[\u001b[38;5;241m.9\u001b[39m] \u001b[38;5;241m*\u001b[39m \u001b[38;5;241m12\u001b[39m, r\u001b[38;5;241m=\u001b[39m[\u001b[38;5;241m.05\u001b[39m] \u001b[38;5;241m*\u001b[39m \u001b[38;5;241m12\u001b[39m,\n\u001b[1;32m     34\u001b[0m                           theta\u001b[38;5;241m=\u001b[39mtheta,\n\u001b[1;32m     35\u001b[0m                           width\u001b[38;5;241m=\u001b[39mwidth,\n\u001b[0;32m   (...)\u001b[0m\n\u001b[1;32m     38\u001b[0m                           )\n\u001b[1;32m     39\u001b[0m               )\n\u001b[1;32m     41\u001b[0m fig\u001b[38;5;241m.\u001b[39mupdate_polars(\n\u001b[1;32m     42\u001b[0m     \u001b[38;5;28mdict\u001b[39m(\n\u001b[1;32m     43\u001b[0m         angularaxis\u001b[38;5;241m=\u001b[39m\u001b[38;5;28mdict\u001b[39m(\n\u001b[1;32m     44\u001b[0m             rotation\u001b[38;5;241m=\u001b[39m\u001b[38;5;241m-\u001b[39m\u001b[38;5;241m90\u001b[39m,\n\u001b[1;32m     45\u001b[0m             tickvals \u001b[38;5;241m=\u001b[39m theta,\n\u001b[0;32m---> 46\u001b[0m             tickmode\u001b[38;5;241m=\u001b[39m\u001b[38;5;124m\"\u001b[39m\u001b[38;5;124marray\u001b[39m\u001b[38;5;124m\"\u001b[39m, ticktext\u001b[38;5;241m=\u001b[39m\u001b[43mmonth_name\u001b[49m[\u001b[38;5;241m1\u001b[39m:]\n\u001b[1;32m     47\u001b[0m         ),\n\u001b[1;32m     48\u001b[0m     ),\n\u001b[1;32m     49\u001b[0m     \u001b[38;5;66;03m#margin = dict(t=0, l=0, r=0, b=0),\u001b[39;00m\n\u001b[1;32m     50\u001b[0m )\n\u001b[1;32m     51\u001b[0m fig\u001b[38;5;241m.\u001b[39mupdate_layout(\u001b[38;5;28mdict\u001b[39m(height\u001b[38;5;241m=\u001b[39m\u001b[38;5;241m1000\u001b[39m))\n\u001b[1;32m     52\u001b[0m fig\u001b[38;5;241m.\u001b[39mshow()\n",
      "\u001b[0;31mNameError\u001b[0m: name 'month_name' is not defined"
     ]
    }
   ],
   "source": [
    "try:\n",
    "    del fig\n",
    "except NameError:\n",
    "    pass\n",
    "\n",
    "\n",
    "y=year=Year_Data(2024)\n",
    "ydict = year.to_dict()\n",
    "d_to_degree = (360 / len(y))\n",
    "fig = go.Figure()\n",
    "\n",
    "ids = [\"2024\"] + [str(m) for m in calendar.month_name][1:] + [str(d.date()) for d in ydict[\"date\"]]\n",
    "parents = [\"\"] + 12 * [2024] + ydict[\"month_str\"]\n",
    "values = [0] + 12 * [0] + len(ydict[\"day\"]) * [1]\n",
    "labels = [\"2024\"] + [str(m) for m in calendar.month_name][1:] + [str(d) for d in ydict[\"day\"]]\n",
    "\n",
    "sb2 = go.Sunburst(labels=labels, ids=ids, parents=parents,values=values, sort=False, rotation=-90)\n",
    "dbase=np.array([0.95] * y.length().days)\n",
    "dr=1 - dbase\n",
    "#fig.add_trace(sb2)\n",
    "#fig.add_trace(go.Barpolar(r=dr, base=dbase,\n",
    "#                           theta=[d.date() for d in ydict[\"date\"]],\n",
    "                          #theta0 = -90,\n",
    "                          #dtheta = (360 / y.length().days),\n",
    "                           \n",
    "#                          name=\"date\",\n",
    "                          #hovertext=[d.date() for d in ydict[\"date\"]]\n",
    "#               )\n",
    "\n",
    "months = [date(y.year, i, 1) for i in range(1,13)] + [date(y.year+1, 1, 1)]\n",
    "theta, width = cc.events_to_polar(months, days_to_theta = d_to_degree)\n",
    "\n",
    "fig.add_trace(go.Barpolar(base=[.9] * 12, r=[.05] * 12,\n",
    "                          theta=theta,\n",
    "                          width=width,\n",
    "                          marker_color=\"orange\",\n",
    "                          marker_line_color=\"black\",\n",
    "                          )\n",
    "              )\n",
    "\n",
    "fig.update_polars(\n",
    "    dict(\n",
    "        angularaxis=dict(\n",
    "            rotation=-90,\n",
    "            tickvals = theta,\n",
    "            tickmode=\"array\", ticktext=month_name[1:]\n",
    "        ),\n",
    "    ),\n",
    "    #margin = dict(t=0, l=0, r=0, b=0),\n",
    ")\n",
    "fig.update_layout(dict(height=1000))\n",
    "fig.show()"
   ]
  },
  {
   "cell_type": "code",
   "execution_count": 6,
   "id": "db20fd12-d53d-4853-ab59-a6284fb21d6f",
   "metadata": {},
   "outputs": [
    {
     "data": {
      "text/plain": [
       "datetime.timedelta(days=-1, seconds=86399, microseconds=999999)"
      ]
     },
     "execution_count": 6,
     "metadata": {},
     "output_type": "execute_result"
    }
   ],
   "source": [
    "y.length()"
   ]
  },
  {
   "cell_type": "code",
   "execution_count": 31,
   "id": "199b1510-4afe-4004-9c87-39e1ec1097f5",
   "metadata": {},
   "outputs": [],
   "source": [
    "dur = events_to_dur(meve)\n",
    "mid = events_to_mid(meve, dur)"
   ]
  },
  {
   "cell_type": "code",
   "execution_count": 21,
   "id": "5ae4fb72-e673-4dd1-89bb-e848ab25905f",
   "metadata": {},
   "outputs": [],
   "source": [
    "outA = np.vectorize(datetime.toordinal)(marray)"
   ]
  },
  {
   "cell_type": "code",
   "execution_count": 22,
   "id": "2dfbfee1-f776-4515-b508-157d615ac256",
   "metadata": {},
   "outputs": [
    {
     "data": {
      "text/plain": [
       "array([738886, 738917, 738946, 738977, 739007, 739038, 739068, 739099,\n",
       "       739130, 739160, 739191, 739221, 739252])"
      ]
     },
     "execution_count": 22,
     "metadata": {},
     "output_type": "execute_result"
    }
   ],
   "source": [
    "outA"
   ]
  },
  {
   "cell_type": "code",
   "execution_count": 20,
   "id": "6556aeea-b9f7-4287-8335-99198084ddbb",
   "metadata": {},
   "outputs": [
    {
     "data": {
      "text/plain": [
       "<method 'toordinal' of 'datetime.date' objects>"
      ]
     },
     "execution_count": 20,
     "metadata": {},
     "output_type": "execute_result"
    }
   ],
   "source": [
    "datetime.toordinal"
   ]
  },
  {
   "cell_type": "code",
   "execution_count": 80,
   "id": "9aa7e17a-9726-438c-9ed9-391e7978d1d5",
   "metadata": {},
   "outputs": [
    {
     "data": {
      "application/vnd.plotly.v1+json": {
       "config": {
        "plotlyServerURL": "https://plot.ly"
       },
       "data": [
        {
         "labels": [
          "2024",
          "January",
          "January",
          "January",
          "January",
          "January",
          "January",
          "January",
          "January",
          "January",
          "January",
          "January",
          "January",
          "January",
          "January",
          "January",
          "January",
          "January",
          "January",
          "January",
          "January",
          "January",
          "January",
          "January",
          "January",
          "January",
          "January",
          "January",
          "January",
          "January",
          "January",
          "January",
          "February",
          "February",
          "February",
          "February",
          "February",
          "February",
          "February",
          "February",
          "February",
          "February",
          "February",
          "February",
          "February",
          "February",
          "February",
          "February",
          "February",
          "February",
          "February",
          "February",
          "February",
          "February",
          "February",
          "February",
          "February",
          "February",
          "February",
          "February",
          "February",
          "March",
          "March",
          "March",
          "March",
          "March",
          "March",
          "March",
          "March",
          "March",
          "March",
          "March",
          "March",
          "March",
          "March",
          "March",
          "March",
          "March",
          "March",
          "March",
          "March",
          "March",
          "March",
          "March",
          "March",
          "March",
          "March",
          "March",
          "March",
          "March",
          "March",
          "March",
          "April",
          "April",
          "April",
          "April",
          "April",
          "April",
          "April",
          "April",
          "April",
          "April",
          "April",
          "April",
          "April",
          "April",
          "April",
          "April",
          "April",
          "April",
          "April",
          "April",
          "April",
          "April",
          "April",
          "April",
          "April",
          "April",
          "April",
          "April",
          "April",
          "April",
          "May",
          "May",
          "May",
          "May",
          "May",
          "May",
          "May",
          "May",
          "May",
          "May",
          "May",
          "May",
          "May",
          "May",
          "May",
          "May",
          "May",
          "May",
          "May",
          "May",
          "May",
          "May",
          "May",
          "May",
          "May",
          "May",
          "May",
          "May",
          "May",
          "May",
          "May",
          "June",
          "June",
          "June",
          "June",
          "June",
          "June",
          "June",
          "June",
          "June",
          "June",
          "June",
          "June",
          "June",
          "June",
          "June",
          "June",
          "June",
          "June",
          "June",
          "June",
          "June",
          "June",
          "June",
          "June",
          "June",
          "June",
          "June",
          "June",
          "June",
          "June",
          "July",
          "July",
          "July",
          "July",
          "July",
          "July",
          "July",
          "July",
          "July",
          "July",
          "July",
          "July",
          "July",
          "July",
          "July",
          "July",
          "July",
          "July",
          "July",
          "July",
          "July",
          "July",
          "July",
          "July",
          "July",
          "July",
          "July",
          "July",
          "July",
          "July",
          "July",
          "August",
          "August",
          "August",
          "August",
          "August",
          "August",
          "August",
          "August",
          "August",
          "August",
          "August",
          "August",
          "August",
          "August",
          "August",
          "August",
          "August",
          "August",
          "August",
          "August",
          "August",
          "August",
          "August",
          "August",
          "August",
          "August",
          "August",
          "August",
          "August",
          "August",
          "August",
          "September",
          "September",
          "September",
          "September",
          "September",
          "September",
          "September",
          "September",
          "September",
          "September",
          "September",
          "September",
          "September",
          "September",
          "September",
          "September",
          "September",
          "September",
          "September",
          "September",
          "September",
          "September",
          "September",
          "September",
          "September",
          "September",
          "September",
          "September",
          "September",
          "September",
          "October",
          "October",
          "October",
          "October",
          "October",
          "October",
          "October",
          "October",
          "October",
          "October",
          "October",
          "October",
          "October",
          "October",
          "October",
          "October",
          "October",
          "October",
          "October",
          "October",
          "October",
          "October",
          "October",
          "October",
          "October",
          "October",
          "October",
          "October",
          "October",
          "October",
          "October",
          "November",
          "November",
          "November",
          "November",
          "November",
          "November",
          "November",
          "November",
          "November",
          "November",
          "November",
          "November",
          "November",
          "November",
          "November",
          "November",
          "November",
          "November",
          "November",
          "November",
          "November",
          "November",
          "November",
          "November",
          "November",
          "November",
          "November",
          "November",
          "November",
          "November",
          "December",
          "December",
          "December",
          "December",
          "December",
          "December",
          "December",
          "December",
          "December",
          "December",
          "December",
          "December",
          "December",
          "December",
          "December",
          "December",
          "December",
          "December",
          "December",
          "December",
          "December",
          "December",
          "December",
          "December",
          "December",
          "December",
          "December",
          "December",
          "December",
          "December",
          "December",
          "2024-01-01 00:00:00",
          "2024-01-02 00:00:00",
          "2024-01-03 00:00:00",
          "2024-01-04 00:00:00",
          "2024-01-05 00:00:00",
          "2024-01-06 00:00:00",
          "2024-01-07 00:00:00",
          "2024-01-08 00:00:00",
          "2024-01-09 00:00:00",
          "2024-01-10 00:00:00",
          "2024-01-11 00:00:00",
          "2024-01-12 00:00:00",
          "2024-01-13 00:00:00",
          "2024-01-14 00:00:00",
          "2024-01-15 00:00:00",
          "2024-01-16 00:00:00",
          "2024-01-17 00:00:00",
          "2024-01-18 00:00:00",
          "2024-01-19 00:00:00",
          "2024-01-20 00:00:00",
          "2024-01-21 00:00:00",
          "2024-01-22 00:00:00",
          "2024-01-23 00:00:00",
          "2024-01-24 00:00:00",
          "2024-01-25 00:00:00",
          "2024-01-26 00:00:00",
          "2024-01-27 00:00:00",
          "2024-01-28 00:00:00",
          "2024-01-29 00:00:00",
          "2024-01-30 00:00:00",
          "2024-01-31 00:00:00",
          "2024-02-01 00:00:00",
          "2024-02-02 00:00:00",
          "2024-02-03 00:00:00",
          "2024-02-04 00:00:00",
          "2024-02-05 00:00:00",
          "2024-02-06 00:00:00",
          "2024-02-07 00:00:00",
          "2024-02-08 00:00:00",
          "2024-02-09 00:00:00",
          "2024-02-10 00:00:00",
          "2024-02-11 00:00:00",
          "2024-02-12 00:00:00",
          "2024-02-13 00:00:00",
          "2024-02-14 00:00:00",
          "2024-02-15 00:00:00",
          "2024-02-16 00:00:00",
          "2024-02-17 00:00:00",
          "2024-02-18 00:00:00",
          "2024-02-19 00:00:00",
          "2024-02-20 00:00:00",
          "2024-02-21 00:00:00",
          "2024-02-22 00:00:00",
          "2024-02-23 00:00:00",
          "2024-02-24 00:00:00",
          "2024-02-25 00:00:00",
          "2024-02-26 00:00:00",
          "2024-02-27 00:00:00",
          "2024-02-28 00:00:00",
          "2024-02-29 00:00:00",
          "2024-03-01 00:00:00",
          "2024-03-02 00:00:00",
          "2024-03-03 00:00:00",
          "2024-03-04 00:00:00",
          "2024-03-05 00:00:00",
          "2024-03-06 00:00:00",
          "2024-03-07 00:00:00",
          "2024-03-08 00:00:00",
          "2024-03-09 00:00:00",
          "2024-03-10 00:00:00",
          "2024-03-11 00:00:00",
          "2024-03-12 00:00:00",
          "2024-03-13 00:00:00",
          "2024-03-14 00:00:00",
          "2024-03-15 00:00:00",
          "2024-03-16 00:00:00",
          "2024-03-17 00:00:00",
          "2024-03-18 00:00:00",
          "2024-03-19 00:00:00",
          "2024-03-20 00:00:00",
          "2024-03-21 00:00:00",
          "2024-03-22 00:00:00",
          "2024-03-23 00:00:00",
          "2024-03-24 00:00:00",
          "2024-03-25 00:00:00",
          "2024-03-26 00:00:00",
          "2024-03-27 00:00:00",
          "2024-03-28 00:00:00",
          "2024-03-29 00:00:00",
          "2024-03-30 00:00:00",
          "2024-03-31 00:00:00",
          "2024-04-01 00:00:00",
          "2024-04-02 00:00:00",
          "2024-04-03 00:00:00",
          "2024-04-04 00:00:00",
          "2024-04-05 00:00:00",
          "2024-04-06 00:00:00",
          "2024-04-07 00:00:00",
          "2024-04-08 00:00:00",
          "2024-04-09 00:00:00",
          "2024-04-10 00:00:00",
          "2024-04-11 00:00:00",
          "2024-04-12 00:00:00",
          "2024-04-13 00:00:00",
          "2024-04-14 00:00:00",
          "2024-04-15 00:00:00",
          "2024-04-16 00:00:00",
          "2024-04-17 00:00:00",
          "2024-04-18 00:00:00",
          "2024-04-19 00:00:00",
          "2024-04-20 00:00:00",
          "2024-04-21 00:00:00",
          "2024-04-22 00:00:00",
          "2024-04-23 00:00:00",
          "2024-04-24 00:00:00",
          "2024-04-25 00:00:00",
          "2024-04-26 00:00:00",
          "2024-04-27 00:00:00",
          "2024-04-28 00:00:00",
          "2024-04-29 00:00:00",
          "2024-04-30 00:00:00",
          "2024-05-01 00:00:00",
          "2024-05-02 00:00:00",
          "2024-05-03 00:00:00",
          "2024-05-04 00:00:00",
          "2024-05-05 00:00:00",
          "2024-05-06 00:00:00",
          "2024-05-07 00:00:00",
          "2024-05-08 00:00:00",
          "2024-05-09 00:00:00",
          "2024-05-10 00:00:00",
          "2024-05-11 00:00:00",
          "2024-05-12 00:00:00",
          "2024-05-13 00:00:00",
          "2024-05-14 00:00:00",
          "2024-05-15 00:00:00",
          "2024-05-16 00:00:00",
          "2024-05-17 00:00:00",
          "2024-05-18 00:00:00",
          "2024-05-19 00:00:00",
          "2024-05-20 00:00:00",
          "2024-05-21 00:00:00",
          "2024-05-22 00:00:00",
          "2024-05-23 00:00:00",
          "2024-05-24 00:00:00",
          "2024-05-25 00:00:00",
          "2024-05-26 00:00:00",
          "2024-05-27 00:00:00",
          "2024-05-28 00:00:00",
          "2024-05-29 00:00:00",
          "2024-05-30 00:00:00",
          "2024-05-31 00:00:00",
          "2024-06-01 00:00:00",
          "2024-06-02 00:00:00",
          "2024-06-03 00:00:00",
          "2024-06-04 00:00:00",
          "2024-06-05 00:00:00",
          "2024-06-06 00:00:00",
          "2024-06-07 00:00:00",
          "2024-06-08 00:00:00",
          "2024-06-09 00:00:00",
          "2024-06-10 00:00:00",
          "2024-06-11 00:00:00",
          "2024-06-12 00:00:00",
          "2024-06-13 00:00:00",
          "2024-06-14 00:00:00",
          "2024-06-15 00:00:00",
          "2024-06-16 00:00:00",
          "2024-06-17 00:00:00",
          "2024-06-18 00:00:00",
          "2024-06-19 00:00:00",
          "2024-06-20 00:00:00",
          "2024-06-21 00:00:00",
          "2024-06-22 00:00:00",
          "2024-06-23 00:00:00",
          "2024-06-24 00:00:00",
          "2024-06-25 00:00:00",
          "2024-06-26 00:00:00",
          "2024-06-27 00:00:00",
          "2024-06-28 00:00:00",
          "2024-06-29 00:00:00",
          "2024-06-30 00:00:00",
          "2024-07-01 00:00:00",
          "2024-07-02 00:00:00",
          "2024-07-03 00:00:00",
          "2024-07-04 00:00:00",
          "2024-07-05 00:00:00",
          "2024-07-06 00:00:00",
          "2024-07-07 00:00:00",
          "2024-07-08 00:00:00",
          "2024-07-09 00:00:00",
          "2024-07-10 00:00:00",
          "2024-07-11 00:00:00",
          "2024-07-12 00:00:00",
          "2024-07-13 00:00:00",
          "2024-07-14 00:00:00",
          "2024-07-15 00:00:00",
          "2024-07-16 00:00:00",
          "2024-07-17 00:00:00",
          "2024-07-18 00:00:00",
          "2024-07-19 00:00:00",
          "2024-07-20 00:00:00",
          "2024-07-21 00:00:00",
          "2024-07-22 00:00:00",
          "2024-07-23 00:00:00",
          "2024-07-24 00:00:00",
          "2024-07-25 00:00:00",
          "2024-07-26 00:00:00",
          "2024-07-27 00:00:00",
          "2024-07-28 00:00:00",
          "2024-07-29 00:00:00",
          "2024-07-30 00:00:00",
          "2024-07-31 00:00:00",
          "2024-08-01 00:00:00",
          "2024-08-02 00:00:00",
          "2024-08-03 00:00:00",
          "2024-08-04 00:00:00",
          "2024-08-05 00:00:00",
          "2024-08-06 00:00:00",
          "2024-08-07 00:00:00",
          "2024-08-08 00:00:00",
          "2024-08-09 00:00:00",
          "2024-08-10 00:00:00",
          "2024-08-11 00:00:00",
          "2024-08-12 00:00:00",
          "2024-08-13 00:00:00",
          "2024-08-14 00:00:00",
          "2024-08-15 00:00:00",
          "2024-08-16 00:00:00",
          "2024-08-17 00:00:00",
          "2024-08-18 00:00:00",
          "2024-08-19 00:00:00",
          "2024-08-20 00:00:00",
          "2024-08-21 00:00:00",
          "2024-08-22 00:00:00",
          "2024-08-23 00:00:00",
          "2024-08-24 00:00:00",
          "2024-08-25 00:00:00",
          "2024-08-26 00:00:00",
          "2024-08-27 00:00:00",
          "2024-08-28 00:00:00",
          "2024-08-29 00:00:00",
          "2024-08-30 00:00:00",
          "2024-08-31 00:00:00",
          "2024-09-01 00:00:00",
          "2024-09-02 00:00:00",
          "2024-09-03 00:00:00",
          "2024-09-04 00:00:00",
          "2024-09-05 00:00:00",
          "2024-09-06 00:00:00",
          "2024-09-07 00:00:00",
          "2024-09-08 00:00:00",
          "2024-09-09 00:00:00",
          "2024-09-10 00:00:00",
          "2024-09-11 00:00:00",
          "2024-09-12 00:00:00",
          "2024-09-13 00:00:00",
          "2024-09-14 00:00:00",
          "2024-09-15 00:00:00",
          "2024-09-16 00:00:00",
          "2024-09-17 00:00:00",
          "2024-09-18 00:00:00",
          "2024-09-19 00:00:00",
          "2024-09-20 00:00:00",
          "2024-09-21 00:00:00",
          "2024-09-22 00:00:00",
          "2024-09-23 00:00:00",
          "2024-09-24 00:00:00",
          "2024-09-25 00:00:00",
          "2024-09-26 00:00:00",
          "2024-09-27 00:00:00",
          "2024-09-28 00:00:00",
          "2024-09-29 00:00:00",
          "2024-09-30 00:00:00",
          "2024-10-01 00:00:00",
          "2024-10-02 00:00:00",
          "2024-10-03 00:00:00",
          "2024-10-04 00:00:00",
          "2024-10-05 00:00:00",
          "2024-10-06 00:00:00",
          "2024-10-07 00:00:00",
          "2024-10-08 00:00:00",
          "2024-10-09 00:00:00",
          "2024-10-10 00:00:00",
          "2024-10-11 00:00:00",
          "2024-10-12 00:00:00",
          "2024-10-13 00:00:00",
          "2024-10-14 00:00:00",
          "2024-10-15 00:00:00",
          "2024-10-16 00:00:00",
          "2024-10-17 00:00:00",
          "2024-10-18 00:00:00",
          "2024-10-19 00:00:00",
          "2024-10-20 00:00:00",
          "2024-10-21 00:00:00",
          "2024-10-22 00:00:00",
          "2024-10-23 00:00:00",
          "2024-10-24 00:00:00",
          "2024-10-25 00:00:00",
          "2024-10-26 00:00:00",
          "2024-10-27 00:00:00",
          "2024-10-28 00:00:00",
          "2024-10-29 00:00:00",
          "2024-10-30 00:00:00",
          "2024-10-31 00:00:00",
          "2024-11-01 00:00:00",
          "2024-11-02 00:00:00",
          "2024-11-03 00:00:00",
          "2024-11-04 00:00:00",
          "2024-11-05 00:00:00",
          "2024-11-06 00:00:00",
          "2024-11-07 00:00:00",
          "2024-11-08 00:00:00",
          "2024-11-09 00:00:00",
          "2024-11-10 00:00:00",
          "2024-11-11 00:00:00",
          "2024-11-12 00:00:00",
          "2024-11-13 00:00:00",
          "2024-11-14 00:00:00",
          "2024-11-15 00:00:00",
          "2024-11-16 00:00:00",
          "2024-11-17 00:00:00",
          "2024-11-18 00:00:00",
          "2024-11-19 00:00:00",
          "2024-11-20 00:00:00",
          "2024-11-21 00:00:00",
          "2024-11-22 00:00:00",
          "2024-11-23 00:00:00",
          "2024-11-24 00:00:00",
          "2024-11-25 00:00:00",
          "2024-11-26 00:00:00",
          "2024-11-27 00:00:00",
          "2024-11-28 00:00:00",
          "2024-11-29 00:00:00",
          "2024-11-30 00:00:00",
          "2024-12-01 00:00:00",
          "2024-12-02 00:00:00",
          "2024-12-03 00:00:00",
          "2024-12-04 00:00:00",
          "2024-12-05 00:00:00",
          "2024-12-06 00:00:00",
          "2024-12-07 00:00:00",
          "2024-12-08 00:00:00",
          "2024-12-09 00:00:00",
          "2024-12-10 00:00:00",
          "2024-12-11 00:00:00",
          "2024-12-12 00:00:00",
          "2024-12-13 00:00:00",
          "2024-12-14 00:00:00",
          "2024-12-15 00:00:00",
          "2024-12-16 00:00:00",
          "2024-12-17 00:00:00",
          "2024-12-18 00:00:00",
          "2024-12-19 00:00:00",
          "2024-12-20 00:00:00",
          "2024-12-21 00:00:00",
          "2024-12-22 00:00:00",
          "2024-12-23 00:00:00",
          "2024-12-24 00:00:00",
          "2024-12-25 00:00:00",
          "2024-12-26 00:00:00",
          "2024-12-27 00:00:00",
          "2024-12-28 00:00:00",
          "2024-12-29 00:00:00",
          "2024-12-30 00:00:00",
          "2024-12-31 00:00:00"
         ],
         "parents": [
          "",
          2024,
          2024,
          2024,
          2024,
          2024,
          2024,
          2024,
          2024,
          2024,
          2024,
          2024,
          2024,
          2024,
          2024,
          2024,
          2024,
          2024,
          2024,
          2024,
          2024,
          2024,
          2024,
          2024,
          2024,
          2024,
          2024,
          2024,
          2024,
          2024,
          2024,
          2024,
          2024,
          2024,
          2024,
          2024,
          2024,
          2024,
          2024,
          2024,
          2024,
          2024,
          2024,
          2024,
          2024,
          2024,
          2024,
          2024,
          2024,
          2024,
          2024,
          2024,
          2024,
          2024,
          2024,
          2024,
          2024,
          2024,
          2024,
          2024,
          2024,
          2024,
          2024,
          2024,
          2024,
          2024,
          2024,
          2024,
          2024,
          2024,
          2024,
          2024,
          2024,
          2024,
          2024,
          2024,
          2024,
          2024,
          2024,
          2024,
          2024,
          2024,
          2024,
          2024,
          2024,
          2024,
          2024,
          2024,
          2024,
          2024,
          2024,
          2024,
          2024,
          2024,
          2024,
          2024,
          2024,
          2024,
          2024,
          2024,
          2024,
          2024,
          2024,
          2024,
          2024,
          2024,
          2024,
          2024,
          2024,
          2024,
          2024,
          2024,
          2024,
          2024,
          2024,
          2024,
          2024,
          2024,
          2024,
          2024,
          2024,
          2024,
          2024,
          2024,
          2024,
          2024,
          2024,
          2024,
          2024,
          2024,
          2024,
          2024,
          2024,
          2024,
          2024,
          2024,
          2024,
          2024,
          2024,
          2024,
          2024,
          2024,
          2024,
          2024,
          2024,
          2024,
          2024,
          2024,
          2024,
          2024,
          2024,
          2024,
          2024,
          2024,
          2024,
          2024,
          2024,
          2024,
          2024,
          2024,
          2024,
          2024,
          2024,
          2024,
          2024,
          2024,
          2024,
          2024,
          2024,
          2024,
          2024,
          2024,
          2024,
          2024,
          2024,
          2024,
          2024,
          2024,
          2024,
          2024,
          2024,
          2024,
          2024,
          2024,
          2024,
          2024,
          2024,
          2024,
          2024,
          2024,
          2024,
          2024,
          2024,
          2024,
          2024,
          2024,
          2024,
          2024,
          2024,
          2024,
          2024,
          2024,
          2024,
          2024,
          2024,
          2024,
          2024,
          2024,
          2024,
          2024,
          2024,
          2024,
          2024,
          2024,
          2024,
          2024,
          2024,
          2024,
          2024,
          2024,
          2024,
          2024,
          2024,
          2024,
          2024,
          2024,
          2024,
          2024,
          2024,
          2024,
          2024,
          2024,
          2024,
          2024,
          2024,
          2024,
          2024,
          2024,
          2024,
          2024,
          2024,
          2024,
          2024,
          2024,
          2024,
          2024,
          2024,
          2024,
          2024,
          2024,
          2024,
          2024,
          2024,
          2024,
          2024,
          2024,
          2024,
          2024,
          2024,
          2024,
          2024,
          2024,
          2024,
          2024,
          2024,
          2024,
          2024,
          2024,
          2024,
          2024,
          2024,
          2024,
          2024,
          2024,
          2024,
          2024,
          2024,
          2024,
          2024,
          2024,
          2024,
          2024,
          2024,
          2024,
          2024,
          2024,
          2024,
          2024,
          2024,
          2024,
          2024,
          2024,
          2024,
          2024,
          2024,
          2024,
          2024,
          2024,
          2024,
          2024,
          2024,
          2024,
          2024,
          2024,
          2024,
          2024,
          2024,
          2024,
          2024,
          2024,
          2024,
          2024,
          2024,
          2024,
          2024,
          2024,
          2024,
          2024,
          2024,
          2024,
          2024,
          2024,
          2024,
          2024,
          2024,
          2024,
          2024,
          2024,
          2024,
          2024,
          2024,
          2024,
          2024,
          2024,
          2024,
          2024,
          2024,
          2024,
          2024,
          2024,
          2024,
          2024,
          2024,
          2024,
          2024,
          2024,
          2024,
          2024,
          2024,
          2024,
          2024,
          2024,
          2024,
          2024,
          2024,
          2024,
          2024,
          2024,
          2024,
          2024,
          2024,
          2024,
          2024,
          2024,
          2024,
          2024,
          2024,
          "January",
          "January",
          "January",
          "January",
          "January",
          "January",
          "January",
          "January",
          "January",
          "January",
          "January",
          "January",
          "January",
          "January",
          "January",
          "January",
          "January",
          "January",
          "January",
          "January",
          "January",
          "January",
          "January",
          "January",
          "January",
          "January",
          "January",
          "January",
          "January",
          "January",
          "January",
          "February",
          "February",
          "February",
          "February",
          "February",
          "February",
          "February",
          "February",
          "February",
          "February",
          "February",
          "February",
          "February",
          "February",
          "February",
          "February",
          "February",
          "February",
          "February",
          "February",
          "February",
          "February",
          "February",
          "February",
          "February",
          "February",
          "February",
          "February",
          "February",
          "March",
          "March",
          "March",
          "March",
          "March",
          "March",
          "March",
          "March",
          "March",
          "March",
          "March",
          "March",
          "March",
          "March",
          "March",
          "March",
          "March",
          "March",
          "March",
          "March",
          "March",
          "March",
          "March",
          "March",
          "March",
          "March",
          "March",
          "March",
          "March",
          "March",
          "March",
          "April",
          "April",
          "April",
          "April",
          "April",
          "April",
          "April",
          "April",
          "April",
          "April",
          "April",
          "April",
          "April",
          "April",
          "April",
          "April",
          "April",
          "April",
          "April",
          "April",
          "April",
          "April",
          "April",
          "April",
          "April",
          "April",
          "April",
          "April",
          "April",
          "April",
          "May",
          "May",
          "May",
          "May",
          "May",
          "May",
          "May",
          "May",
          "May",
          "May",
          "May",
          "May",
          "May",
          "May",
          "May",
          "May",
          "May",
          "May",
          "May",
          "May",
          "May",
          "May",
          "May",
          "May",
          "May",
          "May",
          "May",
          "May",
          "May",
          "May",
          "May",
          "June",
          "June",
          "June",
          "June",
          "June",
          "June",
          "June",
          "June",
          "June",
          "June",
          "June",
          "June",
          "June",
          "June",
          "June",
          "June",
          "June",
          "June",
          "June",
          "June",
          "June",
          "June",
          "June",
          "June",
          "June",
          "June",
          "June",
          "June",
          "June",
          "June",
          "July",
          "July",
          "July",
          "July",
          "July",
          "July",
          "July",
          "July",
          "July",
          "July",
          "July",
          "July",
          "July",
          "July",
          "July",
          "July",
          "July",
          "July",
          "July",
          "July",
          "July",
          "July",
          "July",
          "July",
          "July",
          "July",
          "July",
          "July",
          "July",
          "July",
          "July",
          "August",
          "August",
          "August",
          "August",
          "August",
          "August",
          "August",
          "August",
          "August",
          "August",
          "August",
          "August",
          "August",
          "August",
          "August",
          "August",
          "August",
          "August",
          "August",
          "August",
          "August",
          "August",
          "August",
          "August",
          "August",
          "August",
          "August",
          "August",
          "August",
          "August",
          "August",
          "September",
          "September",
          "September",
          "September",
          "September",
          "September",
          "September",
          "September",
          "September",
          "September",
          "September",
          "September",
          "September",
          "September",
          "September",
          "September",
          "September",
          "September",
          "September",
          "September",
          "September",
          "September",
          "September",
          "September",
          "September",
          "September",
          "September",
          "September",
          "September",
          "September",
          "October",
          "October",
          "October",
          "October",
          "October",
          "October",
          "October",
          "October",
          "October",
          "October",
          "October",
          "October",
          "October",
          "October",
          "October",
          "October",
          "October",
          "October",
          "October",
          "October",
          "October",
          "October",
          "October",
          "October",
          "October",
          "October",
          "October",
          "October",
          "October",
          "October",
          "October",
          "November",
          "November",
          "November",
          "November",
          "November",
          "November",
          "November",
          "November",
          "November",
          "November",
          "November",
          "November",
          "November",
          "November",
          "November",
          "November",
          "November",
          "November",
          "November",
          "November",
          "November",
          "November",
          "November",
          "November",
          "November",
          "November",
          "November",
          "November",
          "November",
          "November",
          "December",
          "December",
          "December",
          "December",
          "December",
          "December",
          "December",
          "December",
          "December",
          "December",
          "December",
          "December",
          "December",
          "December",
          "December",
          "December",
          "December",
          "December",
          "December",
          "December",
          "December",
          "December",
          "December",
          "December",
          "December",
          "December",
          "December",
          "December",
          "December",
          "December",
          "December"
         ],
         "rotation": -90,
         "sort": false,
         "type": "sunburst",
         "values": [
          0,
          31,
          29,
          31,
          30,
          31,
          30,
          31,
          31,
          30,
          31,
          30,
          31,
          1,
          1,
          1,
          1,
          1,
          1,
          1,
          1,
          1,
          1,
          1,
          1,
          1,
          1,
          1,
          1,
          1,
          1,
          1,
          1,
          1,
          1,
          1,
          1,
          1,
          1,
          1,
          1,
          1,
          1,
          1,
          1,
          1,
          1,
          1,
          1,
          1,
          1,
          1,
          1,
          1,
          1,
          1,
          1,
          1,
          1,
          1,
          1,
          1,
          1,
          1,
          1,
          1,
          1,
          1,
          1,
          1,
          1,
          1,
          1,
          1,
          1,
          1,
          1,
          1,
          1,
          1,
          1,
          1,
          1,
          1,
          1,
          1,
          1,
          1,
          1,
          1,
          1,
          1,
          1,
          1,
          1,
          1,
          1,
          1,
          1,
          1,
          1,
          1,
          1,
          1,
          1,
          1,
          1,
          1,
          1,
          1,
          1,
          1,
          1,
          1,
          1,
          1,
          1,
          1,
          1,
          1,
          1,
          1,
          1,
          1,
          1,
          1,
          1,
          1,
          1,
          1,
          1,
          1,
          1,
          1,
          1,
          1,
          1,
          1,
          1,
          1,
          1,
          1,
          1,
          1,
          1,
          1,
          1,
          1,
          1,
          1,
          1,
          1,
          1,
          1,
          1,
          1,
          1,
          1,
          1,
          1,
          1,
          1,
          1,
          1,
          1,
          1,
          1,
          1,
          1,
          1,
          1,
          1,
          1,
          1,
          1,
          1,
          1,
          1,
          1,
          1,
          1,
          1,
          1,
          1,
          1,
          1,
          1,
          1,
          1,
          1,
          1,
          1,
          1,
          1,
          1,
          1,
          1,
          1,
          1,
          1,
          1,
          1,
          1,
          1,
          1,
          1,
          1,
          1,
          1,
          1,
          1,
          1,
          1,
          1,
          1,
          1,
          1,
          1,
          1,
          1,
          1,
          1,
          1,
          1,
          1,
          1,
          1,
          1,
          1,
          1,
          1,
          1,
          1,
          1,
          1,
          1,
          1,
          1,
          1,
          1,
          1,
          1,
          1,
          1,
          1,
          1,
          1,
          1,
          1,
          1,
          1,
          1,
          1,
          1,
          1,
          1,
          1,
          1,
          1,
          1,
          1,
          1,
          1,
          1,
          1,
          1,
          1,
          1,
          1,
          1,
          1,
          1,
          1,
          1,
          1,
          1,
          1,
          1,
          1,
          1,
          1,
          1,
          1,
          1,
          1,
          1,
          1,
          1,
          1,
          1,
          1,
          1,
          1,
          1,
          1,
          1,
          1,
          1,
          1,
          1,
          1,
          1,
          1,
          1,
          1,
          1,
          1,
          1,
          1,
          1,
          1,
          1,
          1,
          1,
          1,
          1,
          1,
          1,
          1,
          1,
          1,
          1,
          1,
          1,
          1,
          1,
          1,
          1,
          1,
          1,
          1,
          1,
          1,
          1,
          1,
          1,
          1,
          1,
          1,
          1,
          1,
          1,
          1,
          1,
          1,
          1,
          1,
          1,
          1,
          1,
          1,
          1,
          1,
          1,
          1,
          1,
          1,
          1,
          1,
          1,
          1,
          1,
          1,
          1,
          1,
          1,
          1,
          1,
          1,
          1,
          1,
          1,
          1,
          1,
          1,
          1,
          1,
          1,
          1
         ]
        }
       ],
       "layout": {
        "autosize": true,
        "template": {
         "data": {
          "bar": [
           {
            "error_x": {
             "color": "#2a3f5f"
            },
            "error_y": {
             "color": "#2a3f5f"
            },
            "marker": {
             "line": {
              "color": "#E5ECF6",
              "width": 0.5
             },
             "pattern": {
              "fillmode": "overlay",
              "size": 10,
              "solidity": 0.2
             }
            },
            "type": "bar"
           }
          ],
          "barpolar": [
           {
            "marker": {
             "line": {
              "color": "#E5ECF6",
              "width": 0.5
             },
             "pattern": {
              "fillmode": "overlay",
              "size": 10,
              "solidity": 0.2
             }
            },
            "type": "barpolar"
           }
          ],
          "carpet": [
           {
            "aaxis": {
             "endlinecolor": "#2a3f5f",
             "gridcolor": "white",
             "linecolor": "white",
             "minorgridcolor": "white",
             "startlinecolor": "#2a3f5f"
            },
            "baxis": {
             "endlinecolor": "#2a3f5f",
             "gridcolor": "white",
             "linecolor": "white",
             "minorgridcolor": "white",
             "startlinecolor": "#2a3f5f"
            },
            "type": "carpet"
           }
          ],
          "choropleth": [
           {
            "colorbar": {
             "outlinewidth": 0,
             "ticks": ""
            },
            "type": "choropleth"
           }
          ],
          "contour": [
           {
            "colorbar": {
             "outlinewidth": 0,
             "ticks": ""
            },
            "colorscale": [
             [
              0,
              "#0d0887"
             ],
             [
              0.1111111111111111,
              "#46039f"
             ],
             [
              0.2222222222222222,
              "#7201a8"
             ],
             [
              0.3333333333333333,
              "#9c179e"
             ],
             [
              0.4444444444444444,
              "#bd3786"
             ],
             [
              0.5555555555555556,
              "#d8576b"
             ],
             [
              0.6666666666666666,
              "#ed7953"
             ],
             [
              0.7777777777777778,
              "#fb9f3a"
             ],
             [
              0.8888888888888888,
              "#fdca26"
             ],
             [
              1,
              "#f0f921"
             ]
            ],
            "type": "contour"
           }
          ],
          "contourcarpet": [
           {
            "colorbar": {
             "outlinewidth": 0,
             "ticks": ""
            },
            "type": "contourcarpet"
           }
          ],
          "heatmap": [
           {
            "colorbar": {
             "outlinewidth": 0,
             "ticks": ""
            },
            "colorscale": [
             [
              0,
              "#0d0887"
             ],
             [
              0.1111111111111111,
              "#46039f"
             ],
             [
              0.2222222222222222,
              "#7201a8"
             ],
             [
              0.3333333333333333,
              "#9c179e"
             ],
             [
              0.4444444444444444,
              "#bd3786"
             ],
             [
              0.5555555555555556,
              "#d8576b"
             ],
             [
              0.6666666666666666,
              "#ed7953"
             ],
             [
              0.7777777777777778,
              "#fb9f3a"
             ],
             [
              0.8888888888888888,
              "#fdca26"
             ],
             [
              1,
              "#f0f921"
             ]
            ],
            "type": "heatmap"
           }
          ],
          "heatmapgl": [
           {
            "colorbar": {
             "outlinewidth": 0,
             "ticks": ""
            },
            "colorscale": [
             [
              0,
              "#0d0887"
             ],
             [
              0.1111111111111111,
              "#46039f"
             ],
             [
              0.2222222222222222,
              "#7201a8"
             ],
             [
              0.3333333333333333,
              "#9c179e"
             ],
             [
              0.4444444444444444,
              "#bd3786"
             ],
             [
              0.5555555555555556,
              "#d8576b"
             ],
             [
              0.6666666666666666,
              "#ed7953"
             ],
             [
              0.7777777777777778,
              "#fb9f3a"
             ],
             [
              0.8888888888888888,
              "#fdca26"
             ],
             [
              1,
              "#f0f921"
             ]
            ],
            "type": "heatmapgl"
           }
          ],
          "histogram": [
           {
            "marker": {
             "pattern": {
              "fillmode": "overlay",
              "size": 10,
              "solidity": 0.2
             }
            },
            "type": "histogram"
           }
          ],
          "histogram2d": [
           {
            "colorbar": {
             "outlinewidth": 0,
             "ticks": ""
            },
            "colorscale": [
             [
              0,
              "#0d0887"
             ],
             [
              0.1111111111111111,
              "#46039f"
             ],
             [
              0.2222222222222222,
              "#7201a8"
             ],
             [
              0.3333333333333333,
              "#9c179e"
             ],
             [
              0.4444444444444444,
              "#bd3786"
             ],
             [
              0.5555555555555556,
              "#d8576b"
             ],
             [
              0.6666666666666666,
              "#ed7953"
             ],
             [
              0.7777777777777778,
              "#fb9f3a"
             ],
             [
              0.8888888888888888,
              "#fdca26"
             ],
             [
              1,
              "#f0f921"
             ]
            ],
            "type": "histogram2d"
           }
          ],
          "histogram2dcontour": [
           {
            "colorbar": {
             "outlinewidth": 0,
             "ticks": ""
            },
            "colorscale": [
             [
              0,
              "#0d0887"
             ],
             [
              0.1111111111111111,
              "#46039f"
             ],
             [
              0.2222222222222222,
              "#7201a8"
             ],
             [
              0.3333333333333333,
              "#9c179e"
             ],
             [
              0.4444444444444444,
              "#bd3786"
             ],
             [
              0.5555555555555556,
              "#d8576b"
             ],
             [
              0.6666666666666666,
              "#ed7953"
             ],
             [
              0.7777777777777778,
              "#fb9f3a"
             ],
             [
              0.8888888888888888,
              "#fdca26"
             ],
             [
              1,
              "#f0f921"
             ]
            ],
            "type": "histogram2dcontour"
           }
          ],
          "mesh3d": [
           {
            "colorbar": {
             "outlinewidth": 0,
             "ticks": ""
            },
            "type": "mesh3d"
           }
          ],
          "parcoords": [
           {
            "line": {
             "colorbar": {
              "outlinewidth": 0,
              "ticks": ""
             }
            },
            "type": "parcoords"
           }
          ],
          "pie": [
           {
            "automargin": true,
            "type": "pie"
           }
          ],
          "scatter": [
           {
            "fillpattern": {
             "fillmode": "overlay",
             "size": 10,
             "solidity": 0.2
            },
            "type": "scatter"
           }
          ],
          "scatter3d": [
           {
            "line": {
             "colorbar": {
              "outlinewidth": 0,
              "ticks": ""
             }
            },
            "marker": {
             "colorbar": {
              "outlinewidth": 0,
              "ticks": ""
             }
            },
            "type": "scatter3d"
           }
          ],
          "scattercarpet": [
           {
            "marker": {
             "colorbar": {
              "outlinewidth": 0,
              "ticks": ""
             }
            },
            "type": "scattercarpet"
           }
          ],
          "scattergeo": [
           {
            "marker": {
             "colorbar": {
              "outlinewidth": 0,
              "ticks": ""
             }
            },
            "type": "scattergeo"
           }
          ],
          "scattergl": [
           {
            "marker": {
             "colorbar": {
              "outlinewidth": 0,
              "ticks": ""
             }
            },
            "type": "scattergl"
           }
          ],
          "scattermapbox": [
           {
            "marker": {
             "colorbar": {
              "outlinewidth": 0,
              "ticks": ""
             }
            },
            "type": "scattermapbox"
           }
          ],
          "scatterpolar": [
           {
            "marker": {
             "colorbar": {
              "outlinewidth": 0,
              "ticks": ""
             }
            },
            "type": "scatterpolar"
           }
          ],
          "scatterpolargl": [
           {
            "marker": {
             "colorbar": {
              "outlinewidth": 0,
              "ticks": ""
             }
            },
            "type": "scatterpolargl"
           }
          ],
          "scatterternary": [
           {
            "marker": {
             "colorbar": {
              "outlinewidth": 0,
              "ticks": ""
             }
            },
            "type": "scatterternary"
           }
          ],
          "surface": [
           {
            "colorbar": {
             "outlinewidth": 0,
             "ticks": ""
            },
            "colorscale": [
             [
              0,
              "#0d0887"
             ],
             [
              0.1111111111111111,
              "#46039f"
             ],
             [
              0.2222222222222222,
              "#7201a8"
             ],
             [
              0.3333333333333333,
              "#9c179e"
             ],
             [
              0.4444444444444444,
              "#bd3786"
             ],
             [
              0.5555555555555556,
              "#d8576b"
             ],
             [
              0.6666666666666666,
              "#ed7953"
             ],
             [
              0.7777777777777778,
              "#fb9f3a"
             ],
             [
              0.8888888888888888,
              "#fdca26"
             ],
             [
              1,
              "#f0f921"
             ]
            ],
            "type": "surface"
           }
          ],
          "table": [
           {
            "cells": {
             "fill": {
              "color": "#EBF0F8"
             },
             "line": {
              "color": "white"
             }
            },
            "header": {
             "fill": {
              "color": "#C8D4E3"
             },
             "line": {
              "color": "white"
             }
            },
            "type": "table"
           }
          ]
         },
         "layout": {
          "annotationdefaults": {
           "arrowcolor": "#2a3f5f",
           "arrowhead": 0,
           "arrowwidth": 1
          },
          "autotypenumbers": "strict",
          "coloraxis": {
           "colorbar": {
            "outlinewidth": 0,
            "ticks": ""
           }
          },
          "colorscale": {
           "diverging": [
            [
             0,
             "#8e0152"
            ],
            [
             0.1,
             "#c51b7d"
            ],
            [
             0.2,
             "#de77ae"
            ],
            [
             0.3,
             "#f1b6da"
            ],
            [
             0.4,
             "#fde0ef"
            ],
            [
             0.5,
             "#f7f7f7"
            ],
            [
             0.6,
             "#e6f5d0"
            ],
            [
             0.7,
             "#b8e186"
            ],
            [
             0.8,
             "#7fbc41"
            ],
            [
             0.9,
             "#4d9221"
            ],
            [
             1,
             "#276419"
            ]
           ],
           "sequential": [
            [
             0,
             "#0d0887"
            ],
            [
             0.1111111111111111,
             "#46039f"
            ],
            [
             0.2222222222222222,
             "#7201a8"
            ],
            [
             0.3333333333333333,
             "#9c179e"
            ],
            [
             0.4444444444444444,
             "#bd3786"
            ],
            [
             0.5555555555555556,
             "#d8576b"
            ],
            [
             0.6666666666666666,
             "#ed7953"
            ],
            [
             0.7777777777777778,
             "#fb9f3a"
            ],
            [
             0.8888888888888888,
             "#fdca26"
            ],
            [
             1,
             "#f0f921"
            ]
           ],
           "sequentialminus": [
            [
             0,
             "#0d0887"
            ],
            [
             0.1111111111111111,
             "#46039f"
            ],
            [
             0.2222222222222222,
             "#7201a8"
            ],
            [
             0.3333333333333333,
             "#9c179e"
            ],
            [
             0.4444444444444444,
             "#bd3786"
            ],
            [
             0.5555555555555556,
             "#d8576b"
            ],
            [
             0.6666666666666666,
             "#ed7953"
            ],
            [
             0.7777777777777778,
             "#fb9f3a"
            ],
            [
             0.8888888888888888,
             "#fdca26"
            ],
            [
             1,
             "#f0f921"
            ]
           ]
          },
          "colorway": [
           "#636efa",
           "#EF553B",
           "#00cc96",
           "#ab63fa",
           "#FFA15A",
           "#19d3f3",
           "#FF6692",
           "#B6E880",
           "#FF97FF",
           "#FECB52"
          ],
          "font": {
           "color": "#2a3f5f"
          },
          "geo": {
           "bgcolor": "white",
           "lakecolor": "white",
           "landcolor": "#E5ECF6",
           "showlakes": true,
           "showland": true,
           "subunitcolor": "white"
          },
          "hoverlabel": {
           "align": "left"
          },
          "hovermode": "closest",
          "mapbox": {
           "style": "light"
          },
          "paper_bgcolor": "white",
          "plot_bgcolor": "#E5ECF6",
          "polar": {
           "angularaxis": {
            "gridcolor": "white",
            "linecolor": "white",
            "ticks": ""
           },
           "bgcolor": "#E5ECF6",
           "radialaxis": {
            "gridcolor": "white",
            "linecolor": "white",
            "ticks": ""
           }
          },
          "scene": {
           "xaxis": {
            "backgroundcolor": "#E5ECF6",
            "gridcolor": "white",
            "gridwidth": 2,
            "linecolor": "white",
            "showbackground": true,
            "ticks": "",
            "zerolinecolor": "white"
           },
           "yaxis": {
            "backgroundcolor": "#E5ECF6",
            "gridcolor": "white",
            "gridwidth": 2,
            "linecolor": "white",
            "showbackground": true,
            "ticks": "",
            "zerolinecolor": "white"
           },
           "zaxis": {
            "backgroundcolor": "#E5ECF6",
            "gridcolor": "white",
            "gridwidth": 2,
            "linecolor": "white",
            "showbackground": true,
            "ticks": "",
            "zerolinecolor": "white"
           }
          },
          "shapedefaults": {
           "line": {
            "color": "#2a3f5f"
           }
          },
          "ternary": {
           "aaxis": {
            "gridcolor": "white",
            "linecolor": "white",
            "ticks": ""
           },
           "baxis": {
            "gridcolor": "white",
            "linecolor": "white",
            "ticks": ""
           },
           "bgcolor": "#E5ECF6",
           "caxis": {
            "gridcolor": "white",
            "linecolor": "white",
            "ticks": ""
           }
          },
          "title": {
           "x": 0.05
          },
          "xaxis": {
           "automargin": true,
           "gridcolor": "white",
           "linecolor": "white",
           "ticks": "",
           "title": {
            "standoff": 15
           },
           "zerolinecolor": "white",
           "zerolinewidth": 2
          },
          "yaxis": {
           "automargin": true,
           "gridcolor": "white",
           "linecolor": "white",
           "ticks": "",
           "title": {
            "standoff": 15
           },
           "zerolinecolor": "white",
           "zerolinewidth": 2
          }
         }
        }
       }
      },
      "image/png": "[encoded data removed]",
      "text/html": [
       "<div>                            <div id=\"d5ac220e-d84b-4eee-ae78-0d6c5e446a25\" class=\"plotly-graph-div\" style=\"height:525px; width:100%;\"></div>            <script type=\"text/javascript\">                require([\"plotly\"], function(Plotly) {                    window.PLOTLYENV=window.PLOTLYENV || {};                                    if (document.getElementById(\"d5ac220e-d84b-4eee-ae78-0d6c5e446a25\")) {                    Plotly.newPlot(                        \"d5ac220e-d84b-4eee-ae78-0d6c5e446a25\",                        [{\"labels\":[\"2024\",\"January\",\"January\",\"January\",\"January\",\"January\",\"January\",\"January\",\"January\",\"January\",\"January\",\"January\",\"January\",\"January\",\"January\",\"January\",\"January\",\"January\",\"January\",\"January\",\"January\",\"January\",\"January\",\"January\",\"January\",\"January\",\"January\",\"January\",\"January\",\"January\",\"January\",\"January\",\"February\",\"February\",\"February\",\"February\",\"February\",\"February\",\"February\",\"February\",\"February\",\"February\",\"February\",\"February\",\"February\",\"February\",\"February\",\"February\",\"February\",\"February\",\"February\",\"February\",\"February\",\"February\",\"February\",\"February\",\"February\",\"February\",\"February\",\"February\",\"February\",\"March\",\"March\",\"March\",\"March\",\"March\",\"March\",\"March\",\"March\",\"March\",\"March\",\"March\",\"March\",\"March\",\"March\",\"March\",\"March\",\"March\",\"March\",\"March\",\"March\",\"March\",\"March\",\"March\",\"March\",\"March\",\"March\",\"March\",\"March\",\"March\",\"March\",\"March\",\"April\",\"April\",\"April\",\"April\",\"April\",\"April\",\"April\",\"April\",\"April\",\"April\",\"April\",\"April\",\"April\",\"April\",\"April\",\"April\",\"April\",\"April\",\"April\",\"April\",\"April\",\"April\",\"April\",\"April\",\"April\",\"April\",\"April\",\"April\",\"April\",\"April\",\"May\",\"May\",\"May\",\"May\",\"May\",\"May\",\"May\",\"May\",\"May\",\"May\",\"May\",\"May\",\"May\",\"May\",\"May\",\"May\",\"May\",\"May\",\"May\",\"May\",\"May\",\"May\",\"May\",\"May\",\"May\",\"May\",\"May\",\"May\",\"May\",\"May\",\"May\",\"June\",\"June\",\"June\",\"June\",\"June\",\"June\",\"June\",\"June\",\"June\",\"June\",\"June\",\"June\",\"June\",\"June\",\"June\",\"June\",\"June\",\"June\",\"June\",\"June\",\"June\",\"June\",\"June\",\"June\",\"June\",\"June\",\"June\",\"June\",\"June\",\"June\",\"July\",\"July\",\"July\",\"July\",\"July\",\"July\",\"July\",\"July\",\"July\",\"July\",\"July\",\"July\",\"July\",\"July\",\"July\",\"July\",\"July\",\"July\",\"July\",\"July\",\"July\",\"July\",\"July\",\"July\",\"July\",\"July\",\"July\",\"July\",\"July\",\"July\",\"July\",\"August\",\"August\",\"August\",\"August\",\"August\",\"August\",\"August\",\"August\",\"August\",\"August\",\"August\",\"August\",\"August\",\"August\",\"August\",\"August\",\"August\",\"August\",\"August\",\"August\",\"August\",\"August\",\"August\",\"August\",\"August\",\"August\",\"August\",\"August\",\"August\",\"August\",\"August\",\"September\",\"September\",\"September\",\"September\",\"September\",\"September\",\"September\",\"September\",\"September\",\"September\",\"September\",\"September\",\"September\",\"September\",\"September\",\"September\",\"September\",\"September\",\"September\",\"September\",\"September\",\"September\",\"September\",\"September\",\"September\",\"September\",\"September\",\"September\",\"September\",\"September\",\"October\",\"October\",\"October\",\"October\",\"October\",\"October\",\"October\",\"October\",\"October\",\"October\",\"October\",\"October\",\"October\",\"October\",\"October\",\"October\",\"October\",\"October\",\"October\",\"October\",\"October\",\"October\",\"October\",\"October\",\"October\",\"October\",\"October\",\"October\",\"October\",\"October\",\"October\",\"November\",\"November\",\"November\",\"November\",\"November\",\"November\",\"November\",\"November\",\"November\",\"November\",\"November\",\"November\",\"November\",\"November\",\"November\",\"November\",\"November\",\"November\",\"November\",\"November\",\"November\",\"November\",\"November\",\"November\",\"November\",\"November\",\"November\",\"November\",\"November\",\"November\",\"December\",\"December\",\"December\",\"December\",\"December\",\"December\",\"December\",\"December\",\"December\",\"December\",\"December\",\"December\",\"December\",\"December\",\"December\",\"December\",\"December\",\"December\",\"December\",\"December\",\"December\",\"December\",\"December\",\"December\",\"December\",\"December\",\"December\",\"December\",\"December\",\"December\",\"December\",\"2024-01-01 00:00:00\",\"2024-01-02 00:00:00\",\"2024-01-03 00:00:00\",\"2024-01-04 00:00:00\",\"2024-01-05 00:00:00\",\"2024-01-06 00:00:00\",\"2024-01-07 00:00:00\",\"2024-01-08 00:00:00\",\"2024-01-09 00:00:00\",\"2024-01-10 00:00:00\",\"2024-01-11 00:00:00\",\"2024-01-12 00:00:00\",\"2024-01-13 00:00:00\",\"2024-01-14 00:00:00\",\"2024-01-15 00:00:00\",\"2024-01-16 00:00:00\",\"2024-01-17 00:00:00\",\"2024-01-18 00:00:00\",\"2024-01-19 00:00:00\",\"2024-01-20 00:00:00\",\"2024-01-21 00:00:00\",\"2024-01-22 00:00:00\",\"2024-01-23 00:00:00\",\"2024-01-24 00:00:00\",\"2024-01-25 00:00:00\",\"2024-01-26 00:00:00\",\"2024-01-27 00:00:00\",\"2024-01-28 00:00:00\",\"2024-01-29 00:00:00\",\"2024-01-30 00:00:00\",\"2024-01-31 00:00:00\",\"2024-02-01 00:00:00\",\"2024-02-02 00:00:00\",\"2024-02-03 00:00:00\",\"2024-02-04 00:00:00\",\"2024-02-05 00:00:00\",\"2024-02-06 00:00:00\",\"2024-02-07 00:00:00\",\"2024-02-08 00:00:00\",\"2024-02-09 00:00:00\",\"2024-02-10 00:00:00\",\"2024-02-11 00:00:00\",\"2024-02-12 00:00:00\",\"2024-02-13 00:00:00\",\"2024-02-14 00:00:00\",\"2024-02-15 00:00:00\",\"2024-02-16 00:00:00\",\"2024-02-17 00:00:00\",\"2024-02-18 00:00:00\",\"2024-02-19 00:00:00\",\"2024-02-20 00:00:00\",\"2024-02-21 00:00:00\",\"2024-02-22 00:00:00\",\"2024-02-23 00:00:00\",\"2024-02-24 00:00:00\",\"2024-02-25 00:00:00\",\"2024-02-26 00:00:00\",\"2024-02-27 00:00:00\",\"2024-02-28 00:00:00\",\"2024-02-29 00:00:00\",\"2024-03-01 00:00:00\",\"2024-03-02 00:00:00\",\"2024-03-03 00:00:00\",\"2024-03-04 00:00:00\",\"2024-03-05 00:00:00\",\"2024-03-06 00:00:00\",\"2024-03-07 00:00:00\",\"2024-03-08 00:00:00\",\"2024-03-09 00:00:00\",\"2024-03-10 00:00:00\",\"2024-03-11 00:00:00\",\"2024-03-12 00:00:00\",\"2024-03-13 00:00:00\",\"2024-03-14 00:00:00\",\"2024-03-15 00:00:00\",\"2024-03-16 00:00:00\",\"2024-03-17 00:00:00\",\"2024-03-18 00:00:00\",\"2024-03-19 00:00:00\",\"2024-03-20 00:00:00\",\"2024-03-21 00:00:00\",\"2024-03-22 00:00:00\",\"2024-03-23 00:00:00\",\"2024-03-24 00:00:00\",\"2024-03-25 00:00:00\",\"2024-03-26 00:00:00\",\"2024-03-27 00:00:00\",\"2024-03-28 00:00:00\",\"2024-03-29 00:00:00\",\"2024-03-30 00:00:00\",\"2024-03-31 00:00:00\",\"2024-04-01 00:00:00\",\"2024-04-02 00:00:00\",\"2024-04-03 00:00:00\",\"2024-04-04 00:00:00\",\"2024-04-05 00:00:00\",\"2024-04-06 00:00:00\",\"2024-04-07 00:00:00\",\"2024-04-08 00:00:00\",\"2024-04-09 00:00:00\",\"2024-04-10 00:00:00\",\"2024-04-11 00:00:00\",\"2024-04-12 00:00:00\",\"2024-04-13 00:00:00\",\"2024-04-14 00:00:00\",\"2024-04-15 00:00:00\",\"2024-04-16 00:00:00\",\"2024-04-17 00:00:00\",\"2024-04-18 00:00:00\",\"2024-04-19 00:00:00\",\"2024-04-20 00:00:00\",\"2024-04-21 00:00:00\",\"2024-04-22 00:00:00\",\"2024-04-23 00:00:00\",\"2024-04-24 00:00:00\",\"2024-04-25 00:00:00\",\"2024-04-26 00:00:00\",\"2024-04-27 00:00:00\",\"2024-04-28 00:00:00\",\"2024-04-29 00:00:00\",\"2024-04-30 00:00:00\",\"2024-05-01 00:00:00\",\"2024-05-02 00:00:00\",\"2024-05-03 00:00:00\",\"2024-05-04 00:00:00\",\"2024-05-05 00:00:00\",\"2024-05-06 00:00:00\",\"2024-05-07 00:00:00\",\"2024-05-08 00:00:00\",\"2024-05-09 00:00:00\",\"2024-05-10 00:00:00\",\"2024-05-11 00:00:00\",\"2024-05-12 00:00:00\",\"2024-05-13 00:00:00\",\"2024-05-14 00:00:00\",\"2024-05-15 00:00:00\",\"2024-05-16 00:00:00\",\"2024-05-17 00:00:00\",\"2024-05-18 00:00:00\",\"2024-05-19 00:00:00\",\"2024-05-20 00:00:00\",\"2024-05-21 00:00:00\",\"2024-05-22 00:00:00\",\"2024-05-23 00:00:00\",\"2024-05-24 00:00:00\",\"2024-05-25 00:00:00\",\"2024-05-26 00:00:00\",\"2024-05-27 00:00:00\",\"2024-05-28 00:00:00\",\"2024-05-29 00:00:00\",\"2024-05-30 00:00:00\",\"2024-05-31 00:00:00\",\"2024-06-01 00:00:00\",\"2024-06-02 00:00:00\",\"2024-06-03 00:00:00\",\"2024-06-04 00:00:00\",\"2024-06-05 00:00:00\",\"2024-06-06 00:00:00\",\"2024-06-07 00:00:00\",\"2024-06-08 00:00:00\",\"2024-06-09 00:00:00\",\"2024-06-10 00:00:00\",\"2024-06-11 00:00:00\",\"2024-06-12 00:00:00\",\"2024-06-13 00:00:00\",\"2024-06-14 00:00:00\",\"2024-06-15 00:00:00\",\"2024-06-16 00:00:00\",\"2024-06-17 00:00:00\",\"2024-06-18 00:00:00\",\"2024-06-19 00:00:00\",\"2024-06-20 00:00:00\",\"2024-06-21 00:00:00\",\"2024-06-22 00:00:00\",\"2024-06-23 00:00:00\",\"2024-06-24 00:00:00\",\"2024-06-25 00:00:00\",\"2024-06-26 00:00:00\",\"2024-06-27 00:00:00\",\"2024-06-28 00:00:00\",\"2024-06-29 00:00:00\",\"2024-06-30 00:00:00\",\"2024-07-01 00:00:00\",\"2024-07-02 00:00:00\",\"2024-07-03 00:00:00\",\"2024-07-04 00:00:00\",\"2024-07-05 00:00:00\",\"2024-07-06 00:00:00\",\"2024-07-07 00:00:00\",\"2024-07-08 00:00:00\",\"2024-07-09 00:00:00\",\"2024-07-10 00:00:00\",\"2024-07-11 00:00:00\",\"2024-07-12 00:00:00\",\"2024-07-13 00:00:00\",\"2024-07-14 00:00:00\",\"2024-07-15 00:00:00\",\"2024-07-16 00:00:00\",\"2024-07-17 00:00:00\",\"2024-07-18 00:00:00\",\"2024-07-19 00:00:00\",\"2024-07-20 00:00:00\",\"2024-07-21 00:00:00\",\"2024-07-22 00:00:00\",\"2024-07-23 00:00:00\",\"2024-07-24 00:00:00\",\"2024-07-25 00:00:00\",\"2024-07-26 00:00:00\",\"2024-07-27 00:00:00\",\"2024-07-28 00:00:00\",\"2024-07-29 00:00:00\",\"2024-07-30 00:00:00\",\"2024-07-31 00:00:00\",\"2024-08-01 00:00:00\",\"2024-08-02 00:00:00\",\"2024-08-03 00:00:00\",\"2024-08-04 00:00:00\",\"2024-08-05 00:00:00\",\"2024-08-06 00:00:00\",\"2024-08-07 00:00:00\",\"2024-08-08 00:00:00\",\"2024-08-09 00:00:00\",\"2024-08-10 00:00:00\",\"2024-08-11 00:00:00\",\"2024-08-12 00:00:00\",\"2024-08-13 00:00:00\",\"2024-08-14 00:00:00\",\"2024-08-15 00:00:00\",\"2024-08-16 00:00:00\",\"2024-08-17 00:00:00\",\"2024-08-18 00:00:00\",\"2024-08-19 00:00:00\",\"2024-08-20 00:00:00\",\"2024-08-21 00:00:00\",\"2024-08-22 00:00:00\",\"2024-08-23 00:00:00\",\"2024-08-24 00:00:00\",\"2024-08-25 00:00:00\",\"2024-08-26 00:00:00\",\"2024-08-27 00:00:00\",\"2024-08-28 00:00:00\",\"2024-08-29 00:00:00\",\"2024-08-30 00:00:00\",\"2024-08-31 00:00:00\",\"2024-09-01 00:00:00\",\"2024-09-02 00:00:00\",\"2024-09-03 00:00:00\",\"2024-09-04 00:00:00\",\"2024-09-05 00:00:00\",\"2024-09-06 00:00:00\",\"2024-09-07 00:00:00\",\"2024-09-08 00:00:00\",\"2024-09-09 00:00:00\",\"2024-09-10 00:00:00\",\"2024-09-11 00:00:00\",\"2024-09-12 00:00:00\",\"2024-09-13 00:00:00\",\"2024-09-14 00:00:00\",\"2024-09-15 00:00:00\",\"2024-09-16 00:00:00\",\"2024-09-17 00:00:00\",\"2024-09-18 00:00:00\",\"2024-09-19 00:00:00\",\"2024-09-20 00:00:00\",\"2024-09-21 00:00:00\",\"2024-09-22 00:00:00\",\"2024-09-23 00:00:00\",\"2024-09-24 00:00:00\",\"2024-09-25 00:00:00\",\"2024-09-26 00:00:00\",\"2024-09-27 00:00:00\",\"2024-09-28 00:00:00\",\"2024-09-29 00:00:00\",\"2024-09-30 00:00:00\",\"2024-10-01 00:00:00\",\"2024-10-02 00:00:00\",\"2024-10-03 00:00:00\",\"2024-10-04 00:00:00\",\"2024-10-05 00:00:00\",\"2024-10-06 00:00:00\",\"2024-10-07 00:00:00\",\"2024-10-08 00:00:00\",\"2024-10-09 00:00:00\",\"2024-10-10 00:00:00\",\"2024-10-11 00:00:00\",\"2024-10-12 00:00:00\",\"2024-10-13 00:00:00\",\"2024-10-14 00:00:00\",\"2024-10-15 00:00:00\",\"2024-10-16 00:00:00\",\"2024-10-17 00:00:00\",\"2024-10-18 00:00:00\",\"2024-10-19 00:00:00\",\"2024-10-20 00:00:00\",\"2024-10-21 00:00:00\",\"2024-10-22 00:00:00\",\"2024-10-23 00:00:00\",\"2024-10-24 00:00:00\",\"2024-10-25 00:00:00\",\"2024-10-26 00:00:00\",\"2024-10-27 00:00:00\",\"2024-10-28 00:00:00\",\"2024-10-29 00:00:00\",\"2024-10-30 00:00:00\",\"2024-10-31 00:00:00\",\"2024-11-01 00:00:00\",\"2024-11-02 00:00:00\",\"2024-11-03 00:00:00\",\"2024-11-04 00:00:00\",\"2024-11-05 00:00:00\",\"2024-11-06 00:00:00\",\"2024-11-07 00:00:00\",\"2024-11-08 00:00:00\",\"2024-11-09 00:00:00\",\"2024-11-10 00:00:00\",\"2024-11-11 00:00:00\",\"2024-11-12 00:00:00\",\"2024-11-13 00:00:00\",\"2024-11-14 00:00:00\",\"2024-11-15 00:00:00\",\"2024-11-16 00:00:00\",\"2024-11-17 00:00:00\",\"2024-11-18 00:00:00\",\"2024-11-19 00:00:00\",\"2024-11-20 00:00:00\",\"2024-11-21 00:00:00\",\"2024-11-22 00:00:00\",\"2024-11-23 00:00:00\",\"2024-11-24 00:00:00\",\"2024-11-25 00:00:00\",\"2024-11-26 00:00:00\",\"2024-11-27 00:00:00\",\"2024-11-28 00:00:00\",\"2024-11-29 00:00:00\",\"2024-11-30 00:00:00\",\"2024-12-01 00:00:00\",\"2024-12-02 00:00:00\",\"2024-12-03 00:00:00\",\"2024-12-04 00:00:00\",\"2024-12-05 00:00:00\",\"2024-12-06 00:00:00\",\"2024-12-07 00:00:00\",\"2024-12-08 00:00:00\",\"2024-12-09 00:00:00\",\"2024-12-10 00:00:00\",\"2024-12-11 00:00:00\",\"2024-12-12 00:00:00\",\"2024-12-13 00:00:00\",\"2024-12-14 00:00:00\",\"2024-12-15 00:00:00\",\"2024-12-16 00:00:00\",\"2024-12-17 00:00:00\",\"2024-12-18 00:00:00\",\"2024-12-19 00:00:00\",\"2024-12-20 00:00:00\",\"2024-12-21 00:00:00\",\"2024-12-22 00:00:00\",\"2024-12-23 00:00:00\",\"2024-12-24 00:00:00\",\"2024-12-25 00:00:00\",\"2024-12-26 00:00:00\",\"2024-12-27 00:00:00\",\"2024-12-28 00:00:00\",\"2024-12-29 00:00:00\",\"2024-12-30 00:00:00\",\"2024-12-31 00:00:00\"],\"parents\":[\"\",2024,2024,2024,2024,2024,2024,2024,2024,2024,2024,2024,2024,2024,2024,2024,2024,2024,2024,2024,2024,2024,2024,2024,2024,2024,2024,2024,2024,2024,2024,2024,2024,2024,2024,2024,2024,2024,2024,2024,2024,2024,2024,2024,2024,2024,2024,2024,2024,2024,2024,2024,2024,2024,2024,2024,2024,2024,2024,2024,2024,2024,2024,2024,2024,2024,2024,2024,2024,2024,2024,2024,2024,2024,2024,2024,2024,2024,2024,2024,2024,2024,2024,2024,2024,2024,2024,2024,2024,2024,2024,2024,2024,2024,2024,2024,2024,2024,2024,2024,2024,2024,2024,2024,2024,2024,2024,2024,2024,2024,2024,2024,2024,2024,2024,2024,2024,2024,2024,2024,2024,2024,2024,2024,2024,2024,2024,2024,2024,2024,2024,2024,2024,2024,2024,2024,2024,2024,2024,2024,2024,2024,2024,2024,2024,2024,2024,2024,2024,2024,2024,2024,2024,2024,2024,2024,2024,2024,2024,2024,2024,2024,2024,2024,2024,2024,2024,2024,2024,2024,2024,2024,2024,2024,2024,2024,2024,2024,2024,2024,2024,2024,2024,2024,2024,2024,2024,2024,2024,2024,2024,2024,2024,2024,2024,2024,2024,2024,2024,2024,2024,2024,2024,2024,2024,2024,2024,2024,2024,2024,2024,2024,2024,2024,2024,2024,2024,2024,2024,2024,2024,2024,2024,2024,2024,2024,2024,2024,2024,2024,2024,2024,2024,2024,2024,2024,2024,2024,2024,2024,2024,2024,2024,2024,2024,2024,2024,2024,2024,2024,2024,2024,2024,2024,2024,2024,2024,2024,2024,2024,2024,2024,2024,2024,2024,2024,2024,2024,2024,2024,2024,2024,2024,2024,2024,2024,2024,2024,2024,2024,2024,2024,2024,2024,2024,2024,2024,2024,2024,2024,2024,2024,2024,2024,2024,2024,2024,2024,2024,2024,2024,2024,2024,2024,2024,2024,2024,2024,2024,2024,2024,2024,2024,2024,2024,2024,2024,2024,2024,2024,2024,2024,2024,2024,2024,2024,2024,2024,2024,2024,2024,2024,2024,2024,2024,2024,2024,2024,2024,2024,2024,2024,2024,2024,2024,2024,2024,2024,2024,2024,2024,2024,2024,2024,2024,2024,2024,2024,2024,2024,2024,2024,2024,2024,2024,2024,2024,\"January\",\"January\",\"January\",\"January\",\"January\",\"January\",\"January\",\"January\",\"January\",\"January\",\"January\",\"January\",\"January\",\"January\",\"January\",\"January\",\"January\",\"January\",\"January\",\"January\",\"January\",\"January\",\"January\",\"January\",\"January\",\"January\",\"January\",\"January\",\"January\",\"January\",\"January\",\"February\",\"February\",\"February\",\"February\",\"February\",\"February\",\"February\",\"February\",\"February\",\"February\",\"February\",\"February\",\"February\",\"February\",\"February\",\"February\",\"February\",\"February\",\"February\",\"February\",\"February\",\"February\",\"February\",\"February\",\"February\",\"February\",\"February\",\"February\",\"February\",\"March\",\"March\",\"March\",\"March\",\"March\",\"March\",\"March\",\"March\",\"March\",\"March\",\"March\",\"March\",\"March\",\"March\",\"March\",\"March\",\"March\",\"March\",\"March\",\"March\",\"March\",\"March\",\"March\",\"March\",\"March\",\"March\",\"March\",\"March\",\"March\",\"March\",\"March\",\"April\",\"April\",\"April\",\"April\",\"April\",\"April\",\"April\",\"April\",\"April\",\"April\",\"April\",\"April\",\"April\",\"April\",\"April\",\"April\",\"April\",\"April\",\"April\",\"April\",\"April\",\"April\",\"April\",\"April\",\"April\",\"April\",\"April\",\"April\",\"April\",\"April\",\"May\",\"May\",\"May\",\"May\",\"May\",\"May\",\"May\",\"May\",\"May\",\"May\",\"May\",\"May\",\"May\",\"May\",\"May\",\"May\",\"May\",\"May\",\"May\",\"May\",\"May\",\"May\",\"May\",\"May\",\"May\",\"May\",\"May\",\"May\",\"May\",\"May\",\"May\",\"June\",\"June\",\"June\",\"June\",\"June\",\"June\",\"June\",\"June\",\"June\",\"June\",\"June\",\"June\",\"June\",\"June\",\"June\",\"June\",\"June\",\"June\",\"June\",\"June\",\"June\",\"June\",\"June\",\"June\",\"June\",\"June\",\"June\",\"June\",\"June\",\"June\",\"July\",\"July\",\"July\",\"July\",\"July\",\"July\",\"July\",\"July\",\"July\",\"July\",\"July\",\"July\",\"July\",\"July\",\"July\",\"July\",\"July\",\"July\",\"July\",\"July\",\"July\",\"July\",\"July\",\"July\",\"July\",\"July\",\"July\",\"July\",\"July\",\"July\",\"July\",\"August\",\"August\",\"August\",\"August\",\"August\",\"August\",\"August\",\"August\",\"August\",\"August\",\"August\",\"August\",\"August\",\"August\",\"August\",\"August\",\"August\",\"August\",\"August\",\"August\",\"August\",\"August\",\"August\",\"August\",\"August\",\"August\",\"August\",\"August\",\"August\",\"August\",\"August\",\"September\",\"September\",\"September\",\"September\",\"September\",\"September\",\"September\",\"September\",\"September\",\"September\",\"September\",\"September\",\"September\",\"September\",\"September\",\"September\",\"September\",\"September\",\"September\",\"September\",\"September\",\"September\",\"September\",\"September\",\"September\",\"September\",\"September\",\"September\",\"September\",\"September\",\"October\",\"October\",\"October\",\"October\",\"October\",\"October\",\"October\",\"October\",\"October\",\"October\",\"October\",\"October\",\"October\",\"October\",\"October\",\"October\",\"October\",\"October\",\"October\",\"October\",\"October\",\"October\",\"October\",\"October\",\"October\",\"October\",\"October\",\"October\",\"October\",\"October\",\"October\",\"November\",\"November\",\"November\",\"November\",\"November\",\"November\",\"November\",\"November\",\"November\",\"November\",\"November\",\"November\",\"November\",\"November\",\"November\",\"November\",\"November\",\"November\",\"November\",\"November\",\"November\",\"November\",\"November\",\"November\",\"November\",\"November\",\"November\",\"November\",\"November\",\"November\",\"December\",\"December\",\"December\",\"December\",\"December\",\"December\",\"December\",\"December\",\"December\",\"December\",\"December\",\"December\",\"December\",\"December\",\"December\",\"December\",\"December\",\"December\",\"December\",\"December\",\"December\",\"December\",\"December\",\"December\",\"December\",\"December\",\"December\",\"December\",\"December\",\"December\",\"December\"],\"rotation\":-90,\"sort\":false,\"values\":[0,31,29,31,30,31,30,31,31,30,31,30,31,1,1,1,1,1,1,1,1,1,1,1,1,1,1,1,1,1,1,1,1,1,1,1,1,1,1,1,1,1,1,1,1,1,1,1,1,1,1,1,1,1,1,1,1,1,1,1,1,1,1,1,1,1,1,1,1,1,1,1,1,1,1,1,1,1,1,1,1,1,1,1,1,1,1,1,1,1,1,1,1,1,1,1,1,1,1,1,1,1,1,1,1,1,1,1,1,1,1,1,1,1,1,1,1,1,1,1,1,1,1,1,1,1,1,1,1,1,1,1,1,1,1,1,1,1,1,1,1,1,1,1,1,1,1,1,1,1,1,1,1,1,1,1,1,1,1,1,1,1,1,1,1,1,1,1,1,1,1,1,1,1,1,1,1,1,1,1,1,1,1,1,1,1,1,1,1,1,1,1,1,1,1,1,1,1,1,1,1,1,1,1,1,1,1,1,1,1,1,1,1,1,1,1,1,1,1,1,1,1,1,1,1,1,1,1,1,1,1,1,1,1,1,1,1,1,1,1,1,1,1,1,1,1,1,1,1,1,1,1,1,1,1,1,1,1,1,1,1,1,1,1,1,1,1,1,1,1,1,1,1,1,1,1,1,1,1,1,1,1,1,1,1,1,1,1,1,1,1,1,1,1,1,1,1,1,1,1,1,1,1,1,1,1,1,1,1,1,1,1,1,1,1,1,1,1,1,1,1,1,1,1,1,1,1,1,1,1,1,1,1,1,1,1,1,1,1,1,1,1,1,1,1,1,1,1,1,1,1,1,1,1,1,1,1,1,1,1,1,1,1,1,1,1,1,1,1,1,1,1,1,1,1,1,1,1,1],\"type\":\"sunburst\"}],                        {\"template\":{\"data\":{\"histogram2dcontour\":[{\"type\":\"histogram2dcontour\",\"colorbar\":{\"outlinewidth\":0,\"ticks\":\"\"},\"colorscale\":[[0.0,\"#0d0887\"],[0.1111111111111111,\"#46039f\"],[0.2222222222222222,\"#7201a8\"],[0.3333333333333333,\"#9c179e\"],[0.4444444444444444,\"#bd3786\"],[0.5555555555555556,\"#d8576b\"],[0.6666666666666666,\"#ed7953\"],[0.7777777777777778,\"#fb9f3a\"],[0.8888888888888888,\"#fdca26\"],[1.0,\"#f0f921\"]]}],\"choropleth\":[{\"type\":\"choropleth\",\"colorbar\":{\"outlinewidth\":0,\"ticks\":\"\"}}],\"histogram2d\":[{\"type\":\"histogram2d\",\"colorbar\":{\"outlinewidth\":0,\"ticks\":\"\"},\"colorscale\":[[0.0,\"#0d0887\"],[0.1111111111111111,\"#46039f\"],[0.2222222222222222,\"#7201a8\"],[0.3333333333333333,\"#9c179e\"],[0.4444444444444444,\"#bd3786\"],[0.5555555555555556,\"#d8576b\"],[0.6666666666666666,\"#ed7953\"],[0.7777777777777778,\"#fb9f3a\"],[0.8888888888888888,\"#fdca26\"],[1.0,\"#f0f921\"]]}],\"heatmap\":[{\"type\":\"heatmap\",\"colorbar\":{\"outlinewidth\":0,\"ticks\":\"\"},\"colorscale\":[[0.0,\"#0d0887\"],[0.1111111111111111,\"#46039f\"],[0.2222222222222222,\"#7201a8\"],[0.3333333333333333,\"#9c179e\"],[0.4444444444444444,\"#bd3786\"],[0.5555555555555556,\"#d8576b\"],[0.6666666666666666,\"#ed7953\"],[0.7777777777777778,\"#fb9f3a\"],[0.8888888888888888,\"#fdca26\"],[1.0,\"#f0f921\"]]}],\"heatmapgl\":[{\"type\":\"heatmapgl\",\"colorbar\":{\"outlinewidth\":0,\"ticks\":\"\"},\"colorscale\":[[0.0,\"#0d0887\"],[0.1111111111111111,\"#46039f\"],[0.2222222222222222,\"#7201a8\"],[0.3333333333333333,\"#9c179e\"],[0.4444444444444444,\"#bd3786\"],[0.5555555555555556,\"#d8576b\"],[0.6666666666666666,\"#ed7953\"],[0.7777777777777778,\"#fb9f3a\"],[0.8888888888888888,\"#fdca26\"],[1.0,\"#f0f921\"]]}],\"contourcarpet\":[{\"type\":\"contourcarpet\",\"colorbar\":{\"outlinewidth\":0,\"ticks\":\"\"}}],\"contour\":[{\"type\":\"contour\",\"colorbar\":{\"outlinewidth\":0,\"ticks\":\"\"},\"colorscale\":[[0.0,\"#0d0887\"],[0.1111111111111111,\"#46039f\"],[0.2222222222222222,\"#7201a8\"],[0.3333333333333333,\"#9c179e\"],[0.4444444444444444,\"#bd3786\"],[0.5555555555555556,\"#d8576b\"],[0.6666666666666666,\"#ed7953\"],[0.7777777777777778,\"#fb9f3a\"],[0.8888888888888888,\"#fdca26\"],[1.0,\"#f0f921\"]]}],\"surface\":[{\"type\":\"surface\",\"colorbar\":{\"outlinewidth\":0,\"ticks\":\"\"},\"colorscale\":[[0.0,\"#0d0887\"],[0.1111111111111111,\"#46039f\"],[0.2222222222222222,\"#7201a8\"],[0.3333333333333333,\"#9c179e\"],[0.4444444444444444,\"#bd3786\"],[0.5555555555555556,\"#d8576b\"],[0.6666666666666666,\"#ed7953\"],[0.7777777777777778,\"#fb9f3a\"],[0.8888888888888888,\"#fdca26\"],[1.0,\"#f0f921\"]]}],\"mesh3d\":[{\"type\":\"mesh3d\",\"colorbar\":{\"outlinewidth\":0,\"ticks\":\"\"}}],\"scatter\":[{\"fillpattern\":{\"fillmode\":\"overlay\",\"size\":10,\"solidity\":0.2},\"type\":\"scatter\"}],\"parcoords\":[{\"type\":\"parcoords\",\"line\":{\"colorbar\":{\"outlinewidth\":0,\"ticks\":\"\"}}}],\"scatterpolargl\":[{\"type\":\"scatterpolargl\",\"marker\":{\"colorbar\":{\"outlinewidth\":0,\"ticks\":\"\"}}}],\"bar\":[{\"error_x\":{\"color\":\"#2a3f5f\"},\"error_y\":{\"color\":\"#2a3f5f\"},\"marker\":{\"line\":{\"color\":\"#E5ECF6\",\"width\":0.5},\"pattern\":{\"fillmode\":\"overlay\",\"size\":10,\"solidity\":0.2}},\"type\":\"bar\"}],\"scattergeo\":[{\"type\":\"scattergeo\",\"marker\":{\"colorbar\":{\"outlinewidth\":0,\"ticks\":\"\"}}}],\"scatterpolar\":[{\"type\":\"scatterpolar\",\"marker\":{\"colorbar\":{\"outlinewidth\":0,\"ticks\":\"\"}}}],\"histogram\":[{\"marker\":{\"pattern\":{\"fillmode\":\"overlay\",\"size\":10,\"solidity\":0.2}},\"type\":\"histogram\"}],\"scattergl\":[{\"type\":\"scattergl\",\"marker\":{\"colorbar\":{\"outlinewidth\":0,\"ticks\":\"\"}}}],\"scatter3d\":[{\"type\":\"scatter3d\",\"line\":{\"colorbar\":{\"outlinewidth\":0,\"ticks\":\"\"}},\"marker\":{\"colorbar\":{\"outlinewidth\":0,\"ticks\":\"\"}}}],\"scattermapbox\":[{\"type\":\"scattermapbox\",\"marker\":{\"colorbar\":{\"outlinewidth\":0,\"ticks\":\"\"}}}],\"scatterternary\":[{\"type\":\"scatterternary\",\"marker\":{\"colorbar\":{\"outlinewidth\":0,\"ticks\":\"\"}}}],\"scattercarpet\":[{\"type\":\"scattercarpet\",\"marker\":{\"colorbar\":{\"outlinewidth\":0,\"ticks\":\"\"}}}],\"carpet\":[{\"aaxis\":{\"endlinecolor\":\"#2a3f5f\",\"gridcolor\":\"white\",\"linecolor\":\"white\",\"minorgridcolor\":\"white\",\"startlinecolor\":\"#2a3f5f\"},\"baxis\":{\"endlinecolor\":\"#2a3f5f\",\"gridcolor\":\"white\",\"linecolor\":\"white\",\"minorgridcolor\":\"white\",\"startlinecolor\":\"#2a3f5f\"},\"type\":\"carpet\"}],\"table\":[{\"cells\":{\"fill\":{\"color\":\"#EBF0F8\"},\"line\":{\"color\":\"white\"}},\"header\":{\"fill\":{\"color\":\"#C8D4E3\"},\"line\":{\"color\":\"white\"}},\"type\":\"table\"}],\"barpolar\":[{\"marker\":{\"line\":{\"color\":\"#E5ECF6\",\"width\":0.5},\"pattern\":{\"fillmode\":\"overlay\",\"size\":10,\"solidity\":0.2}},\"type\":\"barpolar\"}],\"pie\":[{\"automargin\":true,\"type\":\"pie\"}]},\"layout\":{\"autotypenumbers\":\"strict\",\"colorway\":[\"#636efa\",\"#EF553B\",\"#00cc96\",\"#ab63fa\",\"#FFA15A\",\"#19d3f3\",\"#FF6692\",\"#B6E880\",\"#FF97FF\",\"#FECB52\"],\"font\":{\"color\":\"#2a3f5f\"},\"hovermode\":\"closest\",\"hoverlabel\":{\"align\":\"left\"},\"paper_bgcolor\":\"white\",\"plot_bgcolor\":\"#E5ECF6\",\"polar\":{\"bgcolor\":\"#E5ECF6\",\"angularaxis\":{\"gridcolor\":\"white\",\"linecolor\":\"white\",\"ticks\":\"\"},\"radialaxis\":{\"gridcolor\":\"white\",\"linecolor\":\"white\",\"ticks\":\"\"}},\"ternary\":{\"bgcolor\":\"#E5ECF6\",\"aaxis\":{\"gridcolor\":\"white\",\"linecolor\":\"white\",\"ticks\":\"\"},\"baxis\":{\"gridcolor\":\"white\",\"linecolor\":\"white\",\"ticks\":\"\"},\"caxis\":{\"gridcolor\":\"white\",\"linecolor\":\"white\",\"ticks\":\"\"}},\"coloraxis\":{\"colorbar\":{\"outlinewidth\":0,\"ticks\":\"\"}},\"colorscale\":{\"sequential\":[[0.0,\"#0d0887\"],[0.1111111111111111,\"#46039f\"],[0.2222222222222222,\"#7201a8\"],[0.3333333333333333,\"#9c179e\"],[0.4444444444444444,\"#bd3786\"],[0.5555555555555556,\"#d8576b\"],[0.6666666666666666,\"#ed7953\"],[0.7777777777777778,\"#fb9f3a\"],[0.8888888888888888,\"#fdca26\"],[1.0,\"#f0f921\"]],\"sequentialminus\":[[0.0,\"#0d0887\"],[0.1111111111111111,\"#46039f\"],[0.2222222222222222,\"#7201a8\"],[0.3333333333333333,\"#9c179e\"],[0.4444444444444444,\"#bd3786\"],[0.5555555555555556,\"#d8576b\"],[0.6666666666666666,\"#ed7953\"],[0.7777777777777778,\"#fb9f3a\"],[0.8888888888888888,\"#fdca26\"],[1.0,\"#f0f921\"]],\"diverging\":[[0,\"#8e0152\"],[0.1,\"#c51b7d\"],[0.2,\"#de77ae\"],[0.3,\"#f1b6da\"],[0.4,\"#fde0ef\"],[0.5,\"#f7f7f7\"],[0.6,\"#e6f5d0\"],[0.7,\"#b8e186\"],[0.8,\"#7fbc41\"],[0.9,\"#4d9221\"],[1,\"#276419\"]]},\"xaxis\":{\"gridcolor\":\"white\",\"linecolor\":\"white\",\"ticks\":\"\",\"title\":{\"standoff\":15},\"zerolinecolor\":\"white\",\"automargin\":true,\"zerolinewidth\":2},\"yaxis\":{\"gridcolor\":\"white\",\"linecolor\":\"white\",\"ticks\":\"\",\"title\":{\"standoff\":15},\"zerolinecolor\":\"white\",\"automargin\":true,\"zerolinewidth\":2},\"scene\":{\"xaxis\":{\"backgroundcolor\":\"#E5ECF6\",\"gridcolor\":\"white\",\"linecolor\":\"white\",\"showbackground\":true,\"ticks\":\"\",\"zerolinecolor\":\"white\",\"gridwidth\":2},\"yaxis\":{\"backgroundcolor\":\"#E5ECF6\",\"gridcolor\":\"white\",\"linecolor\":\"white\",\"showbackground\":true,\"ticks\":\"\",\"zerolinecolor\":\"white\",\"gridwidth\":2},\"zaxis\":{\"backgroundcolor\":\"#E5ECF6\",\"gridcolor\":\"white\",\"linecolor\":\"white\",\"showbackground\":true,\"ticks\":\"\",\"zerolinecolor\":\"white\",\"gridwidth\":2}},\"shapedefaults\":{\"line\":{\"color\":\"#2a3f5f\"}},\"annotationdefaults\":{\"arrowcolor\":\"#2a3f5f\",\"arrowhead\":0,\"arrowwidth\":1},\"geo\":{\"bgcolor\":\"white\",\"landcolor\":\"#E5ECF6\",\"subunitcolor\":\"white\",\"showland\":true,\"showlakes\":true,\"lakecolor\":\"white\"},\"title\":{\"x\":0.05},\"mapbox\":{\"style\":\"light\"}}}},                        {\"responsive\": true}                    ).then(function(){\n",
       "                            \n",
       "var gd = document.getElementById('d5ac220e-d84b-4eee-ae78-0d6c5e446a25');\n",
       "var x = new MutationObserver(function (mutations, observer) {{\n",
       "        var display = window.getComputedStyle(gd).display;\n",
       "        if (!display || display === 'none') {{\n",
       "            console.log([gd, 'removed!']);\n",
       "            Plotly.purge(gd);\n",
       "            observer.disconnect();\n",
       "        }}\n",
       "}});\n",
       "\n",
       "// Listen for the removal of the full notebook cells\n",
       "var notebookContainer = gd.closest('#notebook-container');\n",
       "if (notebookContainer) {{\n",
       "    x.observe(notebookContainer, {childList: true});\n",
       "}}\n",
       "\n",
       "// Listen for the clearing of the current output cell\n",
       "var outputEl = gd.closest('.output');\n",
       "if (outputEl) {{\n",
       "    x.observe(outputEl, {childList: true});\n",
       "}}\n",
       "\n",
       "                        })                };                });            </script>        </div>"
      ]
     },
     "metadata": {},
     "output_type": "display_data"
    }
   ],
   "source": [
    "fig3 = go.Figure()\n",
    "\n",
    "ids = [\"2024\"] + ydict[\"month_str\"] + [str(d) for d in ydict[\"date\"]]\n",
    "parents = [\"\"] + 366 * [2024] + ydict[\"month_str\"]\n",
    "values = [0] + [31, 29, 31, 30, 31, 30, 31, 31, 30, 31, 30, 31] + [1] * 366\n",
    "\n",
    "sb3 = go.Sunburst(labels=ids, parents=parents,values=values, sort=False, rotation=-90)\n",
    "fig3.add_trace(sb3)\n",
    "fig3.show()"
   ]
  },
  {
   "cell_type": "code",
   "execution_count": 24,
   "id": "71909188-2f76-4b27-9b72-764ced502d1f",
   "metadata": {},
   "outputs": [
    {
     "ename": "TypeError",
     "evalue": "unsupported operand type(s) for -: 'list' and 'list'",
     "output_type": "error",
     "traceback": [
      "\u001b[0;31m---------------------------------------------------------------------------\u001b[0m",
      "\u001b[0;31mTypeError\u001b[0m                                 Traceback (most recent call last)",
      "Cell \u001b[0;32mIn[24], line 2\u001b[0m\n\u001b[1;32m      1\u001b[0m a \u001b[38;5;241m=\u001b[39m \u001b[38;5;28mlist\u001b[39m(\u001b[38;5;28mrange\u001b[39m(\u001b[38;5;241m10\u001b[39m))\n\u001b[0;32m----> 2\u001b[0m \u001b[43ma\u001b[49m\u001b[43m[\u001b[49m\u001b[38;5;241;43m1\u001b[39;49m\u001b[43m:\u001b[49m\u001b[43m]\u001b[49m\u001b[43m \u001b[49m\u001b[38;5;241;43m-\u001b[39;49m\u001b[43m \u001b[49m\u001b[43ma\u001b[49m\u001b[43m[\u001b[49m\u001b[38;5;241;43m0\u001b[39;49m\u001b[43m:\u001b[49m\u001b[38;5;241;43m-\u001b[39;49m\u001b[38;5;241;43m1\u001b[39;49m\u001b[43m]\u001b[49m\n",
      "\u001b[0;31mTypeError\u001b[0m: unsupported operand type(s) for -: 'list' and 'list'"
     ]
    }
   ],
   "source": [
    "a = list(range(10))\n",
    "a[1:] - a[0:-1]"
   ]
  },
  {
   "cell_type": "code",
   "execution_count": 16,
   "id": "2120f6c8-8262-4dbe-8944-625b6f6fb118",
   "metadata": {},
   "outputs": [],
   "source": [
    "a = np.ones(12)"
   ]
  },
  {
   "cell_type": "code",
   "execution_count": 20,
   "id": "00454e04-39a4-44cc-9057-659ab523f35d",
   "metadata": {},
   "outputs": [
    {
     "data": {
      "text/plain": [
       "array([0., 0., 0., 0., 0., 0., 0., 0., 0., 0., 0.])"
      ]
     },
     "execution_count": 20,
     "metadata": {},
     "output_type": "execute_result"
    }
   ],
   "source": [
    "a[1:] - a[:-1]"
   ]
  },
  {
   "cell_type": "code",
   "execution_count": 25,
   "id": "dc45e3cf-fe12-4c15-a994-3af2dc1505b0",
   "metadata": {},
   "outputs": [],
   "source": [
    "x, y = [1,2]"
   ]
  },
  {
   "cell_type": "code",
   "execution_count": 26,
   "id": "2d101e8e-4cb3-4c2e-8a6a-43d4bfe745fd",
   "metadata": {},
   "outputs": [
    {
     "data": {
      "text/plain": [
       "1"
      ]
     },
     "execution_count": 26,
     "metadata": {},
     "output_type": "execute_result"
    }
   ],
   "source": [
    "x"
   ]
  },
  {
   "cell_type": "code",
   "execution_count": 30,
   "id": "2db06d80-6586-4808-86d7-c9ea7dd545bc",
   "metadata": {},
   "outputs": [
    {
     "ename": "TypeError",
     "evalue": "cannot unpack non-iterable int object",
     "output_type": "error",
     "traceback": [
      "\u001b[0;31m---------------------------------------------------------------------------\u001b[0m",
      "\u001b[0;31mTypeError\u001b[0m                                 Traceback (most recent call last)",
      "Cell \u001b[0;32mIn[30], line 1\u001b[0m\n\u001b[0;32m----> 1\u001b[0m [end \u001b[38;5;241m-\u001b[39m start \u001b[38;5;28;01mfor\u001b[39;00m start, end \u001b[38;5;129;01min\u001b[39;00m a]\n",
      "\u001b[0;31mTypeError\u001b[0m: cannot unpack non-iterable int object"
     ]
    }
   ],
   "source": [
    "[end - start for start, end in a]"
   ]
  },
  {
   "cell_type": "code",
   "execution_count": 31,
   "id": "ad01bbca-31b6-43ce-8dc8-0e406c510596",
   "metadata": {},
   "outputs": [
    {
     "data": {
      "text/plain": [
       "[0, 1, 2, 3, 4, 5, 6, 7, 8, 9]"
      ]
     },
     "execution_count": 31,
     "metadata": {},
     "output_type": "execute_result"
    }
   ],
   "source": [
    "a"
   ]
  },
  {
   "cell_type": "code",
   "execution_count": 32,
   "id": "0f32c909-3f22-43a1-8a03-4b6eec7ce9df",
   "metadata": {},
   "outputs": [
    {
     "ename": "TypeError",
     "evalue": "unsupported operand type(s) for -: 'list' and 'list'",
     "output_type": "error",
     "traceback": [
      "\u001b[0;31m---------------------------------------------------------------------------\u001b[0m",
      "\u001b[0;31mTypeError\u001b[0m                                 Traceback (most recent call last)",
      "Cell \u001b[0;32mIn[32], line 1\u001b[0m\n\u001b[0;32m----> 1\u001b[0m \u001b[43ma\u001b[49m\u001b[43m[\u001b[49m\u001b[38;5;241;43m1\u001b[39;49m\u001b[43m:\u001b[49m\u001b[43m]\u001b[49m\u001b[43m \u001b[49m\u001b[38;5;241;43m-\u001b[39;49m\u001b[43m \u001b[49m\u001b[43ma\u001b[49m\u001b[43m[\u001b[49m\u001b[38;5;241;43m0\u001b[39;49m\u001b[43m:\u001b[49m\u001b[38;5;241;43m-\u001b[39;49m\u001b[38;5;241;43m1\u001b[39;49m\u001b[43m]\u001b[49m\n",
      "\u001b[0;31mTypeError\u001b[0m: unsupported operand type(s) for -: 'list' and 'list'"
     ]
    }
   ],
   "source": [
    "a[1:] - a[0:-1]"
   ]
  },
  {
   "cell_type": "code",
   "execution_count": 35,
   "id": "607c608d-c110-42b2-b2cb-c850053b943c",
   "metadata": {},
   "outputs": [
    {
     "data": {
      "text/plain": [
       "[0, 1, 2, 3, 4, 5, 6, 7, 8]"
      ]
     },
     "execution_count": 35,
     "metadata": {},
     "output_type": "execute_result"
    }
   ],
   "source": [
    "a[:-1]"
   ]
  },
  {
   "cell_type": "code",
   "execution_count": 15,
   "id": "9b8d2779-0cfe-4711-b24e-bcdcd1b90acb",
   "metadata": {},
   "outputs": [
    {
     "data": {
      "text/plain": [
       "[0.05, 0.05, 0.05, 0.05, 0.05, 0.05, 0.05, 0.05, 0.05, 0.05, 0.05, 0.05]"
      ]
     },
     "execution_count": 15,
     "metadata": {},
     "output_type": "execute_result"
    }
   ],
   "source": [
    "[.05] * 12"
   ]
  },
  {
   "cell_type": "code",
   "execution_count": 54,
   "id": "1796729a-61f1-497c-bc49-45d8a33d7a9d",
   "metadata": {},
   "outputs": [
    {
     "data": {
      "text/plain": [
       "'%B'"
      ]
     },
     "execution_count": 54,
     "metadata": {},
     "output_type": "execute_result"
    }
   ],
   "source": [
    "month_name.format"
   ]
  },
  {
   "cell_type": "code",
   "execution_count": null,
   "id": "10b9691d-8c09-4d4c-8c46-e09f6c9d75ad",
   "metadata": {},
   "outputs": [],
   "source": []
  }
 ],
 "metadata": {
  "kernelspec": {
   "display_name": "Python 3 (ipykernel)",
   "language": "python",
   "name": "python3"
  },
  "language_info": {
   "codemirror_mode": {
    "name": "ipython",
    "version": 3
   },
   "file_extension": ".py",
   "mimetype": "text/x-python",
   "name": "python",
   "nbconvert_exporter": "python",
   "pygments_lexer": "ipython3",
   "version": "3.12.2"
  }
 },
 "nbformat": 4,
 "nbformat_minor": 5
}
