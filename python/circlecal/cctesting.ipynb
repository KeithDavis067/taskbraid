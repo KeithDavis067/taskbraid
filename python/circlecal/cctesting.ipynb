{
 "cells": [
  {
   "cell_type": "code",
   "execution_count": 1,
   "id": "60d86443-ead0-4b5f-956b-6c834843653b",
   "metadata": {},
   "outputs": [],
   "source": [
    "from datetime import datetime, date, timedelta, time\n",
    "from dateutil import utils, parser\n",
    "from dateutil.relativedelta import relativedelta\n",
    "import circle_cal as cc\n",
    "import circle_cal.model as model\n",
    "from calendar import monthrange, month_name"
   ]
  },
  {
   "cell_type": "code",
   "execution_count": 2,
   "id": "c60f7c86-cb8d-460b-8194-aa60be7c6f9c",
   "metadata": {},
   "outputs": [],
   "source": [
    "year = model.CalendarElement(year=2024)"
   ]
  },
  {
   "cell_type": "code",
   "execution_count": 3,
   "id": "05c2f019-4294-4eca-b316-b386daf6a748",
   "metadata": {},
   "outputs": [
    {
     "name": "stdout",
     "output_type": "stream",
     "text": [
      "January\n",
      "February\n",
      "March\n",
      "April\n",
      "May\n",
      "June\n",
      "July\n",
      "August\n",
      "September\n",
      "October\n",
      "November\n",
      "December\n"
     ]
    }
   ],
   "source": [
    "for m in model.CalendarElement(unit=\"year\", value=2024):\n",
    "    print(month_name[m.value])"
   ]
  },
  {
   "cell_type": "code",
   "execution_count": 4,
   "id": "ba9609f6-a6e5-4b1e-befd-ca1417f3b819",
   "metadata": {},
   "outputs": [
    {
     "data": {
      "text/plain": [
       "'year'"
      ]
     },
     "execution_count": 4,
     "metadata": {},
     "output_type": "execute_result"
    }
   ],
   "source": [
    "year.element"
   ]
  },
  {
   "cell_type": "code",
   "execution_count": 24,
   "id": "033e93e0-e977-4f93-a7e4-ca65f39c669d",
   "metadata": {},
   "outputs": [],
   "source": [
    "ecl = model.CalendarElement(year=2024, month=4, day=8)"
   ]
  },
  {
   "cell_type": "code",
   "execution_count": 25,
   "id": "425347ce-9ee4-4d71-aeb3-a3d3b9dba32c",
   "metadata": {},
   "outputs": [
    {
     "data": {
      "text/plain": [
       "circle_cal.model.CalendarElement"
      ]
     },
     "execution_count": 25,
     "metadata": {},
     "output_type": "execute_result"
    }
   ],
   "source": [
    "type(ecl.subunit)"
   ]
  },
  {
   "cell_type": "code",
   "execution_count": 26,
   "id": "d696bd6a-9407-4c36-8663-4d0d54401077",
   "metadata": {},
   "outputs": [
    {
     "data": {
      "text/plain": [
       "'day'"
      ]
     },
     "execution_count": 26,
     "metadata": {},
     "output_type": "execute_result"
    }
   ],
   "source": [
    "ecl.subunit.subunit.element"
   ]
  },
  {
   "cell_type": "code",
   "execution_count": 28,
   "id": "3475005f-2460-464f-ad66-ee1343da811a",
   "metadata": {},
   "outputs": [],
   "source": [
    "for h in iter(ecl):\n",
    "    print(h)"
   ]
  },
  {
   "cell_type": "code",
   "execution_count": 30,
   "id": "4c2fd75a-edb0-495b-8ffb-957b9416275b",
   "metadata": {},
   "outputs": [
    {
     "data": {
      "text/plain": [
       "False"
      ]
     },
     "execution_count": 30,
     "metadata": {},
     "output_type": "execute_result"
    }
   ],
   "source": [
    "8 in h"
   ]
  },
  {
   "cell_type": "code",
   "execution_count": null,
   "id": "e2551aae-508d-4c1a-a0ea-d755d1ecfbae",
   "metadata": {},
   "outputs": [],
   "source": []
  }
 ],
 "metadata": {
  "kernelspec": {
   "display_name": "Python 3 (ipykernel)",
   "language": "python",
   "name": "python3"
  },
  "language_info": {
   "codemirror_mode": {
    "name": "ipython",
    "version": 3
   },
   "file_extension": ".py",
   "mimetype": "text/x-python",
   "name": "python",
   "nbconvert_exporter": "python",
   "pygments_lexer": "ipython3",
   "version": "3.12.2"
  }
 },
 "nbformat": 4,
 "nbformat_minor": 5
}
