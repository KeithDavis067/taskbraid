{
 "cells": [
  {
   "cell_type": "code",
   "execution_count": 1,
   "id": "60d86443-ead0-4b5f-956b-6c834843653b",
   "metadata": {},
   "outputs": [],
   "source": [
    "from datetime import datetime, date, timedelta, time\n",
    "from dateutil import utils, parser\n",
    "from dateutil.relativedelta import relativedelta\n",
    "import circle_cal as cc\n",
    "import circle_cal.model as model\n",
    "from circle_cal.model import TimeDigit, CalendarElement, TimeRegister\n",
    "from calendar import monthrange, month_name\n",
    "from rich import print"
   ]
  },
  {
   "cell_type": "code",
   "execution_count": 2,
   "id": "80e9d846-65c7-4670-baa2-5d61be3114c5",
   "metadata": {},
   "outputs": [],
   "source": [
    "c = CalendarElement(year=2024, month=2, day=29)"
   ]
  },
  {
   "cell_type": "code",
   "execution_count": 3,
   "id": "54c2f079-0ab4-4fd5-a222-58b8cf126178",
   "metadata": {},
   "outputs": [
    {
     "data": {
      "text/plain": [
       "{'year': 2024, 'month': 2, 'day': 29, 'type': 'CalendarElement'}"
      ]
     },
     "execution_count": 3,
     "metadata": {},
     "output_type": "execute_result"
    }
   ],
   "source": [
    "c"
   ]
  },
  {
   "cell_type": "code",
   "execution_count": 4,
   "id": "cb4d0e10-b868-49d7-9a43-0ac3f5094014",
   "metadata": {},
   "outputs": [
    {
     "data": {
      "text/plain": [
       "'day'"
      ]
     },
     "execution_count": 4,
     "metadata": {},
     "output_type": "execute_result"
    }
   ],
   "source": [
    "c.unit"
   ]
  },
  {
   "cell_type": "code",
   "execution_count": 5,
   "id": "e23096c4-ac97-4933-9482-cc12d04041f5",
   "metadata": {},
   "outputs": [
    {
     "data": {
      "text/plain": [
       "{'year': 2024, 'month': 2, 'day': 29, 'hour': 0, 'type': 'CalendarElement'}"
      ]
     },
     "execution_count": 5,
     "metadata": {},
     "output_type": "execute_result"
    }
   ],
   "source": [
    "c.start"
   ]
  },
  {
   "cell_type": "code",
   "execution_count": 6,
   "id": "c1bcbaab-a002-4dbc-ad8b-18811f6ac4d5",
   "metadata": {},
   "outputs": [
    {
     "data": {
      "text/plain": [
       "{'year': 2024, 'month': 3, 'day': 1, 'type': 'CalendarElement'}"
      ]
     },
     "execution_count": 6,
     "metadata": {},
     "output_type": "execute_result"
    }
   ],
   "source": [
    "c.stop"
   ]
  },
  {
   "cell_type": "code",
   "execution_count": 7,
   "id": "5f4bb7e0-8335-4ec0-9c49-a8ae0721048d",
   "metadata": {},
   "outputs": [
    {
     "data": {
      "text/plain": [
       "False"
      ]
     },
     "execution_count": 7,
     "metadata": {},
     "output_type": "execute_result"
    }
   ],
   "source": [
    "c.start > c.stop"
   ]
  },
  {
   "cell_type": "code",
   "execution_count": 8,
   "id": "733f744d-a660-47b4-8064-a1939a5f6286",
   "metadata": {},
   "outputs": [
    {
     "data": {
      "text/plain": [
       "True"
      ]
     },
     "execution_count": 8,
     "metadata": {},
     "output_type": "execute_result"
    }
   ],
   "source": [
    "c.stop > c.start"
   ]
  },
  {
   "cell_type": "code",
   "execution_count": 9,
   "id": "76f573ea-ea06-493e-b841-f0acf7236be7",
   "metadata": {},
   "outputs": [
    {
     "name": "stdout",
     "output_type": "stream",
     "text": [
      "Contains Called.\n"
     ]
    },
    {
     "data": {
      "text/plain": [
       "False"
      ]
     },
     "execution_count": 9,
     "metadata": {},
     "output_type": "execute_result"
    }
   ],
   "source": [
    "c.stop in c.start"
   ]
  },
  {
   "cell_type": "code",
   "execution_count": 10,
   "id": "2138054c-69b6-4a5d-9cc4-bd036ff979e0",
   "metadata": {},
   "outputs": [
    {
     "name": "stdout",
     "output_type": "stream",
     "text": [
      "Contains Called.\n"
     ]
    },
    {
     "data": {
      "text/plain": [
       "True"
      ]
     },
     "execution_count": 10,
     "metadata": {},
     "output_type": "execute_result"
    }
   ],
   "source": [
    "c.start in c"
   ]
  },
  {
   "cell_type": "code",
   "execution_count": 11,
   "id": "5be39cf7-20b6-48ae-aa59-b91086b88892",
   "metadata": {},
   "outputs": [
    {
     "data": {
      "text/plain": [
       "{'year': 2024, 'month': 2, 'day': 29, 'type': 'CalendarElement'}"
      ]
     },
     "execution_count": 11,
     "metadata": {},
     "output_type": "execute_result"
    }
   ],
   "source": [
    "c"
   ]
  },
  {
   "cell_type": "code",
   "execution_count": 12,
   "id": "3ba14d70-2ab1-469e-9e05-54c5d72cfe7a",
   "metadata": {},
   "outputs": [
    {
     "name": "stdout",
     "output_type": "stream",
     "text": [
      "Contains Called.\n"
     ]
    },
    {
     "data": {
      "text/plain": [
       "False"
      ]
     },
     "execution_count": 12,
     "metadata": {},
     "output_type": "execute_result"
    }
   ],
   "source": [
    "c.stop in c"
   ]
  },
  {
   "cell_type": "code",
   "execution_count": 13,
   "id": "da41a77e-bbad-4166-bbdf-ff84d266e5b2",
   "metadata": {},
   "outputs": [],
   "source": [
    "c = CalendarElement(year=2024)"
   ]
  },
  {
   "cell_type": "code",
   "execution_count": 14,
   "id": "55269196-908e-4441-a3fa-3e5a60eb0aa0",
   "metadata": {},
   "outputs": [
    {
     "data": {
      "text/plain": [
       "False"
      ]
     },
     "execution_count": 14,
     "metadata": {},
     "output_type": "execute_result"
    }
   ],
   "source": [
    "c < datetime.now()"
   ]
  },
  {
   "cell_type": "code",
   "execution_count": 15,
   "id": "0e1e8e23-e415-4daf-a22f-1ddb958f06da",
   "metadata": {},
   "outputs": [
    {
     "data": {
      "text/plain": [
       "False"
      ]
     },
     "execution_count": 15,
     "metadata": {},
     "output_type": "execute_result"
    }
   ],
   "source": [
    "c > datetime.now()"
   ]
  },
  {
   "cell_type": "code",
   "execution_count": 16,
   "id": "202cd222-3f1a-450b-8bbb-7b8b5d51b2f6",
   "metadata": {},
   "outputs": [
    {
     "name": "stdout",
     "output_type": "stream",
     "text": [
      "Contains Called.\n"
     ]
    },
    {
     "data": {
      "text/plain": [
       "True"
      ]
     },
     "execution_count": 16,
     "metadata": {},
     "output_type": "execute_result"
    }
   ],
   "source": [
    "datetime.now() in c"
   ]
  },
  {
   "cell_type": "code",
   "execution_count": 17,
   "id": "e52f1176-4a72-4bbf-aef5-bbe3a7d20074",
   "metadata": {},
   "outputs": [
    {
     "data": {
      "text/plain": [
       "'month'"
      ]
     },
     "execution_count": 17,
     "metadata": {},
     "output_type": "execute_result"
    }
   ],
   "source": [
    "c.subunit"
   ]
  },
  {
   "cell_type": "code",
   "execution_count": 18,
   "id": "395f1808-d318-4171-98c6-a9b3cfe1897f",
   "metadata": {},
   "outputs": [
    {
     "data": {
      "text/plain": [
       "True"
      ]
     },
     "execution_count": 18,
     "metadata": {},
     "output_type": "execute_result"
    }
   ],
   "source": [
    "datetime.now() < c.stop"
   ]
  },
  {
   "cell_type": "code",
   "execution_count": 19,
   "id": "6e5e383f-d4fe-4ee5-abbb-51be44a89cfe",
   "metadata": {},
   "outputs": [
    {
     "data": {
      "text/plain": [
       "False"
      ]
     },
     "execution_count": 19,
     "metadata": {},
     "output_type": "execute_result"
    }
   ],
   "source": [
    "c < datetime.now()"
   ]
  },
  {
   "cell_type": "code",
   "execution_count": 20,
   "id": "0a97663e-a4f1-4db7-bff5-72d696b468c7",
   "metadata": {},
   "outputs": [],
   "source": [
    "t = TimeDigit(\"month\", value=2)"
   ]
  },
  {
   "cell_type": "code",
   "execution_count": 21,
   "id": "27391637-e4f2-45f5-85b3-c150b710a8cd",
   "metadata": {},
   "outputs": [],
   "source": [
    "t2 = TimeDigit(\"month\", value=2)"
   ]
  },
  {
   "cell_type": "code",
   "execution_count": 22,
   "id": "940e6bd8-4bdb-4e23-9b1e-5779ddd90502",
   "metadata": {},
   "outputs": [],
   "source": [
    "t == t2"
   ]
  },
  {
   "cell_type": "code",
   "execution_count": 23,
   "id": "d270108d-9973-44e8-8062-da266ef171fd",
   "metadata": {},
   "outputs": [
    {
     "data": {
      "text/plain": [
       "['__class__',\n",
       " '__delattr__',\n",
       " '__dict__',\n",
       " '__dir__',\n",
       " '__doc__',\n",
       " '__eq__',\n",
       " '__format__',\n",
       " '__ge__',\n",
       " '__getattr__',\n",
       " '__getattribute__',\n",
       " '__getstate__',\n",
       " '__gt__',\n",
       " '__hash__',\n",
       " '__init__',\n",
       " '__init_subclass__',\n",
       " '__iter__',\n",
       " '__le__',\n",
       " '__len__',\n",
       " '__lt__',\n",
       " '__module__',\n",
       " '__ne__',\n",
       " '__new__',\n",
       " '__next__',\n",
       " '__reduce__',\n",
       " '__reduce_ex__',\n",
       " '__repr__',\n",
       " '__setattr__',\n",
       " '__sizeof__',\n",
       " '__str__',\n",
       " '__subclasshook__',\n",
       " '__weakref__',\n",
       " '_subunit',\n",
       " '_superunit',\n",
       " '_value',\n",
       " 'as_dict',\n",
       " 'range',\n",
       " 'start',\n",
       " 'stop',\n",
       " 'subunit',\n",
       " 'superunit',\n",
       " 'unit',\n",
       " 'unit_range',\n",
       " 'value']"
      ]
     },
     "execution_count": 23,
     "metadata": {},
     "output_type": "execute_result"
    }
   ],
   "source": [
    "dir(t)"
   ]
  },
  {
   "cell_type": "code",
   "execution_count": 24,
   "id": "ad40c93f-6aa1-47e4-8995-7a1ca40ae826",
   "metadata": {},
   "outputs": [
    {
     "data": {
      "text/plain": [
       "{'type': circle_cal.model.TimeDigit,\n",
       " 'unit': 'month',\n",
       " 'value': 2,\n",
       " 'subunit': 'day',\n",
       " 'superunit': 'year'}"
      ]
     },
     "execution_count": 24,
     "metadata": {},
     "output_type": "execute_result"
    }
   ],
   "source": [
    "t.as_dict()"
   ]
  },
  {
   "cell_type": "code",
   "execution_count": null,
   "id": "360910ab-dffa-4782-951e-e7ac7a0c8480",
   "metadata": {},
   "outputs": [],
   "source": []
  }
 ],
 "metadata": {
  "kernelspec": {
   "display_name": "Python 3 (ipykernel)",
   "language": "python",
   "name": "python3"
  },
  "language_info": {
   "codemirror_mode": {
    "name": "ipython",
    "version": 3
   },
   "file_extension": ".py",
   "mimetype": "text/x-python",
   "name": "python",
   "nbconvert_exporter": "python",
   "pygments_lexer": "ipython3",
   "version": "3.12.3"
  }
 },
 "nbformat": 4,
 "nbformat_minor": 5
}
