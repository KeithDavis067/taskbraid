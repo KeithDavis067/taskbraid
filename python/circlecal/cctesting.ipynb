{
 "cells": [
  {
   "cell_type": "code",
   "execution_count": 1,
   "id": "60d86443-ead0-4b5f-956b-6c834843653b",
   "metadata": {},
   "outputs": [],
   "source": [
    "from datetime import datetime, date, timedelta, time\n",
    "from dateutil import utils, parser\n",
    "from dateutil.relativedelta import relativedelta\n",
    "import circle_cal as cc\n",
    "import circle_cal.model as model"
   ]
  },
  {
   "cell_type": "code",
   "execution_count": 2,
   "id": "0b510a8c-cd7d-4817-83c6-7ffc59fe562f",
   "metadata": {},
   "outputs": [
    {
     "name": "stdout",
     "output_type": "stream",
     "text": [
      "DEBUG: ranges is {'year': range(2024, 2025), 'month': range(1, 13)}\n"
     ]
    }
   ],
   "source": [
    "y24 = model.CalendarElement(year = 2024)"
   ]
  },
  {
   "cell_type": "code",
   "execution_count": 3,
   "id": "6a3a4b5b-f6a5-44a3-8d14-e0c737a76c24",
   "metadata": {},
   "outputs": [
    {
     "name": "stdout",
     "output_type": "stream",
     "text": [
      "DEBUG: ranges is {'month': range(1, 2), 'day': range(1, 32)}\n"
     ]
    }
   ],
   "source": [
    "for i in y24:\n",
    "    print(i.unit, getattr(i, i.unit))"
   ]
  },
  {
   "cell_type": "code",
   "execution_count": 4,
   "id": "0593b7e2-0d7e-49b6-a505-e8037dbfa1bc",
   "metadata": {},
   "outputs": [
    {
     "name": "stdout",
     "output_type": "stream",
     "text": [
      "DEBUG: ranges is {'month': range(1, 2), 'day': range(1, 32)}\n"
     ]
    },
    {
     "ename": "KeyError",
     "evalue": "'year'",
     "output_type": "error",
     "traceback": [
      "\u001b[0;31m---------------------------------------------------------------------------\u001b[0m",
      "\u001b[0;31mKeyError\u001b[0m                                  Traceback (most recent call last)",
      "Cell \u001b[0;32mIn[4], line 1\u001b[0m\n\u001b[0;32m----> 1\u001b[0m jan24 \u001b[38;5;241m=\u001b[39m \u001b[43mmodel\u001b[49m\u001b[38;5;241;43m.\u001b[39;49m\u001b[43mCalendarElement\u001b[49m\u001b[43m(\u001b[49m\u001b[43myear\u001b[49m\u001b[38;5;241;43m=\u001b[39;49m\u001b[38;5;241;43m2024\u001b[39;49m\u001b[43m,\u001b[49m\u001b[43m \u001b[49m\u001b[43mmonth\u001b[49m\u001b[38;5;241;43m=\u001b[39;49m\u001b[38;5;241;43m1\u001b[39;49m\u001b[43m)\u001b[49m\n",
      "File \u001b[0;32m~/Documents/PythonProjects/taskbraid/python/circlecal/circle_cal/model.py:162\u001b[0m, in \u001b[0;36mCalendarElement.__init__\u001b[0;34m(self, **kwargs)\u001b[0m\n\u001b[1;32m    159\u001b[0m \u001b[38;5;28;01mfor\u001b[39;00m u \u001b[38;5;129;01min\u001b[39;00m \u001b[38;5;28mself\u001b[39m\u001b[38;5;241m.\u001b[39msuperunits:\n\u001b[1;32m    160\u001b[0m     \u001b[38;5;28;01mif\u001b[39;00m (u \u001b[38;5;129;01mis\u001b[39;00m \u001b[38;5;129;01mnot\u001b[39;00m \u001b[38;5;28;01mNone\u001b[39;00m) \u001b[38;5;129;01mor\u001b[39;00m (u \u001b[38;5;129;01mnot\u001b[39;00m \u001b[38;5;129;01min\u001b[39;00m \u001b[38;5;28mself\u001b[39m\u001b[38;5;241m.\u001b[39mranges[u]):\n\u001b[1;32m    161\u001b[0m         \u001b[38;5;28;01mraise\u001b[39;00m \u001b[38;5;167;01mValueError\u001b[39;00m(\u001b[38;5;124mf\u001b[39m\u001b[38;5;124m\"\u001b[39m\u001b[38;5;132;01m{\u001b[39;00m\u001b[38;5;28mgetattr\u001b[39m(\u001b[38;5;28mself\u001b[39m,\u001b[38;5;250m \u001b[39mu)\u001b[38;5;132;01m}\u001b[39;00m\u001b[38;5;124m is not a valid \u001b[39m\u001b[38;5;132;01m{\u001b[39;00mu\u001b[38;5;132;01m}\u001b[39;00m\u001b[38;5;124m. \u001b[39m\u001b[38;5;124m\"\u001b[39m\n\u001b[0;32m--> 162\u001b[0m                          \u001b[38;5;124mf\u001b[39m\u001b[38;5;124m\"\u001b[39m\u001b[38;5;124mEnter a \u001b[39m\u001b[38;5;132;01m{\u001b[39;00mu\u001b[38;5;132;01m}\u001b[39;00m\u001b[38;5;124m within \u001b[39m\u001b[38;5;132;01m{\u001b[39;00m\u001b[38;5;28;43mself\u001b[39;49m\u001b[38;5;241;43m.\u001b[39;49m\u001b[43mranges\u001b[49m\u001b[43m[\u001b[49m\u001b[43mu\u001b[49m\u001b[43m]\u001b[49m\u001b[38;5;132;01m}\u001b[39;00m\u001b[38;5;124m.\u001b[39m\u001b[38;5;124m\"\u001b[39m)\n",
      "\u001b[0;31mKeyError\u001b[0m: 'year'"
     ]
    }
   ],
   "source": [
    "jan24 = model.CalendarElement(year=2024, month=1)"
   ]
  },
  {
   "cell_type": "code",
   "execution_count": 10,
   "id": "043418c8-449e-44fa-aa03-8815b243a5f7",
   "metadata": {},
   "outputs": [
    {
     "data": {
      "text/plain": [
       "{'year': range(2024, 2025), 'month': range(1, 13)}"
      ]
     },
     "execution_count": 10,
     "metadata": {},
     "output_type": "execute_result"
    }
   ],
   "source": [
    "y24.ranges"
   ]
  },
  {
   "cell_type": "code",
   "execution_count": 6,
   "id": "2cb09abc-136d-4ea0-983c-55292ac6dc37",
   "metadata": {},
   "outputs": [
    {
     "data": {
      "text/plain": [
       "[('year', 2024),\n",
       " ('month', None),\n",
       " ('day', None),\n",
       " ('hour', None),\n",
       " ('minute', None),\n",
       " ('second', None),\n",
       " ('microsecond', None)]"
      ]
     },
     "execution_count": 6,
     "metadata": {},
     "output_type": "execute_result"
    }
   ],
   "source": [
    "[(u, v) for u, v in y24.as_dict().items()]"
   ]
  },
  {
   "cell_type": "code",
   "execution_count": 7,
   "id": "0f0b2278-5bf3-40d9-8778-389170e1b410",
   "metadata": {},
   "outputs": [],
   "source": [
    "r = range(10)"
   ]
  },
  {
   "cell_type": "code",
   "execution_count": 10,
   "id": "4fe35435-c326-4820-adee-a8d725be1797",
   "metadata": {},
   "outputs": [
    {
     "data": {
      "text/plain": [
       "10"
      ]
     },
     "execution_count": 10,
     "metadata": {},
     "output_type": "execute_result"
    }
   ],
   "source": [
    "r.stop"
   ]
  },
  {
   "cell_type": "code",
   "execution_count": 13,
   "id": "b146042d-4c3b-498b-8792-2aff6e28dc2c",
   "metadata": {},
   "outputs": [
    {
     "data": {
      "text/plain": [
       "range(2, 10)"
      ]
     },
     "execution_count": 13,
     "metadata": {},
     "output_type": "execute_result"
    }
   ],
   "source": [
    "range(2, r.stop)"
   ]
  },
  {
   "cell_type": "code",
   "execution_count": 15,
   "id": "bd075c7f-34d8-40d9-9b0a-4f2a5c7a2914",
   "metadata": {},
   "outputs": [
    {
     "data": {
      "text/plain": [
       "2024"
      ]
     },
     "execution_count": 15,
     "metadata": {},
     "output_type": "execute_result"
    }
   ],
   "source": [
    "y24.year"
   ]
  },
  {
   "cell_type": "code",
   "execution_count": 16,
   "id": "5778be30-7b50-4fe7-82e0-2fefc2da526b",
   "metadata": {},
   "outputs": [],
   "source": [
    "y24.month"
   ]
  },
  {
   "cell_type": "code",
   "execution_count": 17,
   "id": "0e8cc716-8209-4674-bf0f-fefcf206b879",
   "metadata": {},
   "outputs": [],
   "source": [
    "y24.month = 10"
   ]
  },
  {
   "cell_type": "code",
   "execution_count": 18,
   "id": "9009c3e5-0716-4c9d-8709-63fa9a6e07d5",
   "metadata": {},
   "outputs": [],
   "source": [
    "y24.month = 22"
   ]
  },
  {
   "cell_type": "code",
   "execution_count": 21,
   "id": "9af57206-6956-4a94-979b-b6b7c05a76aa",
   "metadata": {},
   "outputs": [
    {
     "data": {
      "text/plain": [
       "9999"
      ]
     },
     "execution_count": 21,
     "metadata": {},
     "output_type": "execute_result"
    }
   ],
   "source": [
    "datetime.max.year"
   ]
  },
  {
   "cell_type": "code",
   "execution_count": null,
   "id": "c60f7c86-cb8d-460b-8194-aa60be7c6f9c",
   "metadata": {},
   "outputs": [],
   "source": []
  }
 ],
 "metadata": {
  "kernelspec": {
   "display_name": "Python 3 (ipykernel)",
   "language": "python",
   "name": "python3"
  },
  "language_info": {
   "codemirror_mode": {
    "name": "ipython",
    "version": 3
   },
   "file_extension": ".py",
   "mimetype": "text/x-python",
   "name": "python",
   "nbconvert_exporter": "python",
   "pygments_lexer": "ipython3",
   "version": "3.12.2"
  }
 },
 "nbformat": 4,
 "nbformat_minor": 5
}
