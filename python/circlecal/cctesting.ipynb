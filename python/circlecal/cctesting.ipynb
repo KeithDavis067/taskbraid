{
 "cells": [
  {
   "cell_type": "code",
   "execution_count": 1,
   "id": "60d86443-ead0-4b5f-956b-6c834843653b",
   "metadata": {},
   "outputs": [],
   "source": [
    "from datetime import datetime, date, timedelta, time\n",
    "from dateutil import utils, parser\n",
    "from dateutil.relativedelta import relativedelta\n",
    "import circle_cal as cc\n",
    "import circle_cal.model as model\n",
    "from circle_cal.model import TimeDigit, CalendarElement, TimeRegister\n",
    "from calendar import monthrange, month_name\n",
    "from rich import print"
   ]
  },
  {
   "cell_type": "code",
   "execution_count": 14,
   "id": "80e9d846-65c7-4670-baa2-5d61be3114c5",
   "metadata": {},
   "outputs": [],
   "source": [
    "c = CalendarElement(year=2024)"
   ]
  },
  {
   "cell_type": "code",
   "execution_count": 15,
   "id": "d8302ccc-b469-4ecb-b756-51757a36d23f",
   "metadata": {},
   "outputs": [
    {
     "name": "stdout",
     "output_type": "stream",
     "text": [
      "day\n"
     ]
    }
   ],
   "source": [
    "c.day=1"
   ]
  },
  {
   "cell_type": "code",
   "execution_count": 16,
   "id": "df7d9b8e-0721-4833-ba10-25c940ae393a",
   "metadata": {},
   "outputs": [
    {
     "data": {
      "text/plain": [
       "{'year': 2024, 'month': 1, 'type': 'CalendarElement'}"
      ]
     },
     "execution_count": 16,
     "metadata": {},
     "output_type": "execute_result"
    }
   ],
   "source": [
    "c"
   ]
  },
  {
   "cell_type": "code",
   "execution_count": 5,
   "id": "a4df6122-c53a-4066-a9ff-4a7b92a9fb44",
   "metadata": {},
   "outputs": [
    {
     "data": {
      "text/plain": [
       "True"
      ]
     },
     "execution_count": 5,
     "metadata": {},
     "output_type": "execute_result"
    }
   ],
   "source": [
    "c.has_date()"
   ]
  },
  {
   "cell_type": "code",
   "execution_count": 6,
   "id": "9db33b67-6736-430c-bfae-cf246906d34b",
   "metadata": {},
   "outputs": [
    {
     "data": {
      "text/plain": [
       "False"
      ]
     },
     "execution_count": 6,
     "metadata": {},
     "output_type": "execute_result"
    }
   ],
   "source": [
    "c.has_time()"
   ]
  },
  {
   "cell_type": "code",
   "execution_count": 7,
   "id": "4b3a62fa-d4f5-4eb9-8efe-f8248276e88b",
   "metadata": {},
   "outputs": [
    {
     "data": {
      "text/plain": [
       "datetime.date(2024, 1, 1)"
      ]
     },
     "execution_count": 7,
     "metadata": {},
     "output_type": "execute_result"
    }
   ],
   "source": [
    "c.as_dtclass()"
   ]
  },
  {
   "cell_type": "code",
   "execution_count": 8,
   "id": "71a7d8d6-05ac-4a2a-9540-2f91c438065d",
   "metadata": {},
   "outputs": [
    {
     "name": "stdout",
     "output_type": "stream",
     "text": [
      "minute\n",
      "hour\n",
      "day\n"
     ]
    },
    {
     "ename": "ValueError",
     "evalue": "'subunit' attribute (('month', {'type': <class 'circle_cal.model.TimeDigit'>, 'unit': 'month', 'value': 1, 'subunit': 'day', 'superunit': '<circle_cal.model.TimeDigit object at 0x105f84500>'})) on param 'obj'must be unassigned or this instance. month",
     "output_type": "error",
     "traceback": [
      "\u001b[0;31m---------------------------------------------------------------------------\u001b[0m",
      "\u001b[0;31mKeyError\u001b[0m                                  Traceback (most recent call last)",
      "File \u001b[0;32m~/Documents/PythonProjects/taskbraid/python/circlecal/circle_cal/model.py:614\u001b[0m, in \u001b[0;36mCalendarElement.set_unit\u001b[0;34m(self, unit, value)\u001b[0m\n\u001b[1;32m    613\u001b[0m \u001b[38;5;28;01mtry\u001b[39;00m:\n\u001b[0;32m--> 614\u001b[0m     \u001b[38;5;28;01mif\u001b[39;00m \u001b[38;5;28;43mself\u001b[39;49m\u001b[38;5;241;43m.\u001b[39;49m\u001b[43mdigits\u001b[49m\u001b[43m[\u001b[49m\u001b[43m_superunit\u001b[49m\u001b[43m(\u001b[49m\u001b[43munit\u001b[49m\u001b[43m)\u001b[49m\u001b[43m]\u001b[49m\u001b[38;5;241m.\u001b[39mvalue \u001b[38;5;129;01mis\u001b[39;00m \u001b[38;5;28;01mNone\u001b[39;00m:\n\u001b[1;32m    615\u001b[0m         \u001b[38;5;28;01mraise\u001b[39;00m \u001b[38;5;167;01mKeyError\u001b[39;00m\n",
      "\u001b[0;31mKeyError\u001b[0m: 'hour'",
      "\nDuring handling of the above exception, another exception occurred:\n",
      "\u001b[0;31mKeyError\u001b[0m                                  Traceback (most recent call last)",
      "File \u001b[0;32m~/Documents/PythonProjects/taskbraid/python/circlecal/circle_cal/model.py:614\u001b[0m, in \u001b[0;36mCalendarElement.set_unit\u001b[0;34m(self, unit, value)\u001b[0m\n\u001b[1;32m    613\u001b[0m \u001b[38;5;28;01mtry\u001b[39;00m:\n\u001b[0;32m--> 614\u001b[0m     \u001b[38;5;28;01mif\u001b[39;00m \u001b[38;5;28;43mself\u001b[39;49m\u001b[38;5;241;43m.\u001b[39;49m\u001b[43mdigits\u001b[49m\u001b[43m[\u001b[49m\u001b[43m_superunit\u001b[49m\u001b[43m(\u001b[49m\u001b[43munit\u001b[49m\u001b[43m)\u001b[49m\u001b[43m]\u001b[49m\u001b[38;5;241m.\u001b[39mvalue \u001b[38;5;129;01mis\u001b[39;00m \u001b[38;5;28;01mNone\u001b[39;00m:\n\u001b[1;32m    615\u001b[0m         \u001b[38;5;28;01mraise\u001b[39;00m \u001b[38;5;167;01mKeyError\u001b[39;00m\n",
      "\u001b[0;31mKeyError\u001b[0m: 'day'",
      "\nDuring handling of the above exception, another exception occurred:\n",
      "\u001b[0;31mValueError\u001b[0m                                Traceback (most recent call last)",
      "Cell \u001b[0;32mIn[8], line 1\u001b[0m\n\u001b[0;32m----> 1\u001b[0m m \u001b[38;5;241m=\u001b[39m \u001b[43mCalendarElement\u001b[49m\u001b[43m(\u001b[49m\u001b[43myear\u001b[49m\u001b[38;5;241;43m=\u001b[39;49m\u001b[38;5;241;43m2024\u001b[39;49m\u001b[43m,\u001b[49m\u001b[43m \u001b[49m\u001b[43mminute\u001b[49m\u001b[38;5;241;43m=\u001b[39;49m\u001b[38;5;241;43m1\u001b[39;49m\u001b[43m)\u001b[49m\n",
      "File \u001b[0;32m~/Documents/PythonProjects/taskbraid/python/circlecal/circle_cal/model.py:654\u001b[0m, in \u001b[0;36mCalendarElement.__init__\u001b[0;34m(self, **kwargs)\u001b[0m\n\u001b[1;32m    652\u001b[0m \u001b[38;5;28;01mfor\u001b[39;00m u \u001b[38;5;129;01min\u001b[39;00m UNITS:\n\u001b[1;32m    653\u001b[0m     \u001b[38;5;28;01mtry\u001b[39;00m:\n\u001b[0;32m--> 654\u001b[0m         \u001b[38;5;28;43mself\u001b[39;49m\u001b[38;5;241;43m.\u001b[39;49m\u001b[43mset_unit\u001b[49m\u001b[43m(\u001b[49m\u001b[43mu\u001b[49m\u001b[43m,\u001b[49m\u001b[43m \u001b[49m\u001b[43mkwargs\u001b[49m\u001b[43m[\u001b[49m\u001b[43mu\u001b[49m\u001b[43m]\u001b[49m\u001b[43m)\u001b[49m\n\u001b[1;32m    655\u001b[0m     \u001b[38;5;28;01mexcept\u001b[39;00m \u001b[38;5;167;01mKeyError\u001b[39;00m:\n\u001b[1;32m    656\u001b[0m         \u001b[38;5;66;03m# Do nothing if no value passed for u.\u001b[39;00m\n\u001b[1;32m    657\u001b[0m         \u001b[38;5;28;01mcontinue\u001b[39;00m\n",
      "File \u001b[0;32m~/Documents/PythonProjects/taskbraid/python/circlecal/circle_cal/model.py:621\u001b[0m, in \u001b[0;36mCalendarElement.set_unit\u001b[0;34m(self, unit, value)\u001b[0m\n\u001b[1;32m    619\u001b[0m \u001b[38;5;28;01mfor\u001b[39;00m u \u001b[38;5;129;01min\u001b[39;00m _superunits(unit):\n\u001b[1;32m    620\u001b[0m     \u001b[38;5;28;01mtry\u001b[39;00m:\n\u001b[0;32m--> 621\u001b[0m         \u001b[38;5;28;43mself\u001b[39;49m\u001b[38;5;241;43m.\u001b[39;49m\u001b[43mset_unit\u001b[49m\u001b[43m(\u001b[49m\u001b[43mu\u001b[49m\u001b[43m,\u001b[49m\u001b[43m \u001b[49m\u001b[38;5;28;43mgetattr\u001b[39;49m\u001b[43m(\u001b[49m\u001b[43mdt\u001b[49m\u001b[43m,\u001b[49m\u001b[43m \u001b[49m\u001b[43mu\u001b[49m\u001b[43m)\u001b[49m\u001b[43m)\u001b[49m\n\u001b[1;32m    622\u001b[0m     \u001b[38;5;28;01mexcept\u001b[39;00m \u001b[38;5;167;01mAttributeError\u001b[39;00m:\n\u001b[1;32m    623\u001b[0m         \u001b[38;5;28mself\u001b[39m\u001b[38;5;241m.\u001b[39mset_unit(u, \u001b[38;5;241m0\u001b[39m)\n",
      "File \u001b[0;32m~/Documents/PythonProjects/taskbraid/python/circlecal/circle_cal/model.py:621\u001b[0m, in \u001b[0;36mCalendarElement.set_unit\u001b[0;34m(self, unit, value)\u001b[0m\n\u001b[1;32m    619\u001b[0m \u001b[38;5;28;01mfor\u001b[39;00m u \u001b[38;5;129;01min\u001b[39;00m _superunits(unit):\n\u001b[1;32m    620\u001b[0m     \u001b[38;5;28;01mtry\u001b[39;00m:\n\u001b[0;32m--> 621\u001b[0m         \u001b[38;5;28;43mself\u001b[39;49m\u001b[38;5;241;43m.\u001b[39;49m\u001b[43mset_unit\u001b[49m\u001b[43m(\u001b[49m\u001b[43mu\u001b[49m\u001b[43m,\u001b[49m\u001b[43m \u001b[49m\u001b[38;5;28;43mgetattr\u001b[39;49m\u001b[43m(\u001b[49m\u001b[43mdt\u001b[49m\u001b[43m,\u001b[49m\u001b[43m \u001b[49m\u001b[43mu\u001b[49m\u001b[43m)\u001b[49m\u001b[43m)\u001b[49m\n\u001b[1;32m    622\u001b[0m     \u001b[38;5;28;01mexcept\u001b[39;00m \u001b[38;5;167;01mAttributeError\u001b[39;00m:\n\u001b[1;32m    623\u001b[0m         \u001b[38;5;28mself\u001b[39m\u001b[38;5;241m.\u001b[39mset_unit(u, \u001b[38;5;241m0\u001b[39m)\n",
      "File \u001b[0;32m~/Documents/PythonProjects/taskbraid/python/circlecal/circle_cal/model.py:627\u001b[0m, in \u001b[0;36mCalendarElement.set_unit\u001b[0;34m(self, unit, value)\u001b[0m\n\u001b[1;32m    625\u001b[0m         \u001b[38;5;28;01mreturn\u001b[39;00m\n\u001b[1;32m    626\u001b[0m     \u001b[38;5;66;03m# If we aren't at \"year\" but have all inbetween units set.\u001b[39;00m\n\u001b[0;32m--> 627\u001b[0m     td \u001b[38;5;241m=\u001b[39m \u001b[43mTimeDigit\u001b[49m\u001b[43m(\u001b[49m\u001b[43munit\u001b[49m\u001b[43m,\u001b[49m\u001b[43m \u001b[49m\u001b[43mvalue\u001b[49m\u001b[38;5;241;43m=\u001b[39;49m\u001b[43mv\u001b[49m\u001b[43m,\u001b[49m\n\u001b[1;32m    628\u001b[0m \u001b[43m                   \u001b[49m\u001b[43msuperunit\u001b[49m\u001b[38;5;241;43m=\u001b[39;49m\u001b[38;5;28;43mself\u001b[39;49m\u001b[38;5;241;43m.\u001b[39;49m\u001b[43mdigits\u001b[49m\u001b[43m[\u001b[49m\u001b[43m_superunit\u001b[49m\u001b[43m(\u001b[49m\u001b[43munit\u001b[49m\u001b[43m)\u001b[49m\u001b[43m]\u001b[49m\u001b[43m)\u001b[49m\n\u001b[1;32m    629\u001b[0m \u001b[38;5;28;01melse\u001b[39;00m:\n\u001b[1;32m    630\u001b[0m     td \u001b[38;5;241m=\u001b[39m TimeDigit(unit, value\u001b[38;5;241m=\u001b[39mv)\n",
      "File \u001b[0;32m~/Documents/PythonProjects/taskbraid/python/circlecal/circle_cal/model.py:325\u001b[0m, in \u001b[0;36mTimeDigit.__init__\u001b[0;34m(self, unit, value, superunit, subunit)\u001b[0m\n\u001b[1;32m    323\u001b[0m     \u001b[38;5;28;01mraise\u001b[39;00m \u001b[38;5;167;01mTypeError\u001b[39;00m(\u001b[38;5;124mf\u001b[39m\u001b[38;5;124m\"\u001b[39m\u001b[38;5;132;01m{\u001b[39;00munit\u001b[38;5;132;01m}\u001b[39;00m\u001b[38;5;124m not one of \u001b[39m\u001b[38;5;132;01m{\u001b[39;00mUNITS\u001b[38;5;132;01m}\u001b[39;00m\u001b[38;5;124m.\u001b[39m\u001b[38;5;124m\"\u001b[39m)\n\u001b[1;32m    324\u001b[0m \u001b[38;5;28mself\u001b[39m\u001b[38;5;241m.\u001b[39munit \u001b[38;5;241m=\u001b[39m unit\n\u001b[0;32m--> 325\u001b[0m \u001b[38;5;28;43mself\u001b[39;49m\u001b[38;5;241;43m.\u001b[39;49m\u001b[43msuperunit\u001b[49m \u001b[38;5;241m=\u001b[39m superunit\n\u001b[1;32m    326\u001b[0m \u001b[38;5;28mself\u001b[39m\u001b[38;5;241m.\u001b[39msubunit \u001b[38;5;241m=\u001b[39m subunit\n\u001b[1;32m    327\u001b[0m \u001b[38;5;28mself\u001b[39m\u001b[38;5;241m.\u001b[39munit_range \u001b[38;5;241m=\u001b[39m _unit_range(\u001b[38;5;28mself\u001b[39m)\n",
      "File \u001b[0;32m~/Documents/PythonProjects/taskbraid/python/circlecal/circle_cal/model.py:233\u001b[0m, in \u001b[0;36mTimeDigit.superunit\u001b[0;34m(self, obj)\u001b[0m\n\u001b[1;32m    231\u001b[0m         obj\u001b[38;5;241m.\u001b[39m_subunit \u001b[38;5;241m=\u001b[39m \u001b[38;5;28mself\u001b[39m\n\u001b[1;32m    232\u001b[0m     \u001b[38;5;28;01melif\u001b[39;00m obj\u001b[38;5;241m.\u001b[39msubunit \u001b[38;5;129;01mis\u001b[39;00m \u001b[38;5;129;01mnot\u001b[39;00m \u001b[38;5;28mself\u001b[39m:\n\u001b[0;32m--> 233\u001b[0m         \u001b[38;5;28;01mraise\u001b[39;00m \u001b[38;5;167;01mValueError\u001b[39;00m(\u001b[38;5;124mf\u001b[39m\u001b[38;5;124m\"\u001b[39m\u001b[38;5;124m'\u001b[39m\u001b[38;5;124msubunit\u001b[39m\u001b[38;5;124m'\u001b[39m\u001b[38;5;124m attribute (\u001b[39m\u001b[38;5;132;01m{\u001b[39;00m(\u001b[38;5;28mself\u001b[39m\u001b[38;5;241m.\u001b[39munit,\u001b[38;5;250m \u001b[39mobj\u001b[38;5;241m.\u001b[39msubunit)\u001b[38;5;132;01m}\u001b[39;00m\u001b[38;5;124m) on param \u001b[39m\u001b[38;5;124m'\u001b[39m\u001b[38;5;124mobj\u001b[39m\u001b[38;5;124m'\u001b[39m\u001b[38;5;124m\"\u001b[39m\n\u001b[1;32m    234\u001b[0m                          \u001b[38;5;124mf\u001b[39m\u001b[38;5;124m\"\u001b[39m\u001b[38;5;124mmust be unassigned or this instance. \u001b[39m\u001b[38;5;132;01m{\u001b[39;00m\u001b[38;5;28mself\u001b[39m\u001b[38;5;241m.\u001b[39munit\u001b[38;5;132;01m}\u001b[39;00m\u001b[38;5;124m\"\u001b[39m)\n\u001b[1;32m    235\u001b[0m     \u001b[38;5;28mself\u001b[39m\u001b[38;5;241m.\u001b[39m_superunit \u001b[38;5;241m=\u001b[39m obj\n\u001b[1;32m    236\u001b[0m \u001b[38;5;28;01melse\u001b[39;00m:\n",
      "\u001b[0;31mValueError\u001b[0m: 'subunit' attribute (('month', {'type': <class 'circle_cal.model.TimeDigit'>, 'unit': 'month', 'value': 1, 'subunit': 'day', 'superunit': '<circle_cal.model.TimeDigit object at 0x105f84500>'})) on param 'obj'must be unassigned or this instance. month"
     ]
    }
   ],
   "source": [
    "m = CalendarElement(year=2024, minute=1)"
   ]
  },
  {
   "cell_type": "code",
   "execution_count": null,
   "id": "7318d872-46cd-4ec0-9c23-683bd1cb18af",
   "metadata": {},
   "outputs": [],
   "source": []
  },
  {
   "cell_type": "code",
   "execution_count": null,
   "id": "23908305-4620-4651-be19-ac973c232786",
   "metadata": {},
   "outputs": [],
   "source": []
  },
  {
   "cell_type": "code",
   "execution_count": null,
   "id": "1f100784-156a-45e1-a8e7-4002a0f2a752",
   "metadata": {},
   "outputs": [],
   "source": []
  },
  {
   "cell_type": "code",
   "execution_count": null,
   "id": "238d75e4-b3a0-4142-84b3-815c1fa474e4",
   "metadata": {},
   "outputs": [],
   "source": []
  },
  {
   "cell_type": "code",
   "execution_count": null,
   "id": "82e8b467-f9dd-42fa-a4f2-08ab6ee28ec8",
   "metadata": {},
   "outputs": [],
   "source": []
  },
  {
   "cell_type": "code",
   "execution_count": null,
   "id": "d14717fb-7a27-404c-b640-7354b2ff63db",
   "metadata": {},
   "outputs": [],
   "source": []
  },
  {
   "cell_type": "code",
   "execution_count": null,
   "id": "93717eeb-ee79-42f6-aed6-fcda4a0f2496",
   "metadata": {},
   "outputs": [],
   "source": []
  },
  {
   "cell_type": "code",
   "execution_count": null,
   "id": "c5b84b60-f6f0-4414-b227-2faee3134061",
   "metadata": {},
   "outputs": [],
   "source": []
  },
  {
   "cell_type": "code",
   "execution_count": null,
   "id": "365cc069-5500-461c-9ca0-7319a8f89889",
   "metadata": {},
   "outputs": [],
   "source": []
  },
  {
   "cell_type": "code",
   "execution_count": null,
   "id": "75debbc0-a6e9-4615-a4a7-29747aebaea8",
   "metadata": {},
   "outputs": [],
   "source": []
  },
  {
   "cell_type": "code",
   "execution_count": null,
   "id": "879d42cb-9ba4-42ea-a62e-1960a9e99b5e",
   "metadata": {},
   "outputs": [],
   "source": []
  },
  {
   "cell_type": "code",
   "execution_count": null,
   "id": "d87e9a2b-1054-4e2f-aefc-cd6e6d8496a6",
   "metadata": {},
   "outputs": [],
   "source": []
  }
 ],
 "metadata": {
  "kernelspec": {
   "display_name": "Python 3 (ipykernel)",
   "language": "python",
   "name": "python3"
  },
  "language_info": {
   "codemirror_mode": {
    "name": "ipython",
    "version": 3
   },
   "file_extension": ".py",
   "mimetype": "text/x-python",
   "name": "python",
   "nbconvert_exporter": "python",
   "pygments_lexer": "ipython3",
   "version": "3.12.3"
  }
 },
 "nbformat": 4,
 "nbformat_minor": 5
}
