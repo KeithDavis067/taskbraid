{
 "cells": [
  {
   "cell_type": "code",
   "execution_count": 1,
   "id": "60d86443-ead0-4b5f-956b-6c834843653b",
   "metadata": {},
   "outputs": [],
   "source": [
    "from datetime import datetime, date, timedelta, time\n",
    "from dateutil import utils, parser\n",
    "from dateutil.relativedelta import relativedelta\n",
    "import circle_cal as cc\n",
    "import circle_cal.model as model\n",
    "from calendar import monthrange, month_name"
   ]
  },
  {
   "cell_type": "code",
   "execution_count": 6,
   "id": "c60f7c86-cb8d-460b-8194-aa60be7c6f9c",
   "metadata": {},
   "outputs": [],
   "source": [
    "year = model.CalendarElement(year=2024)"
   ]
  },
  {
   "cell_type": "code",
   "execution_count": 7,
   "id": "3c7b5bf3-4459-4105-b91a-23ebd0da479d",
   "metadata": {},
   "outputs": [
    {
     "data": {
      "text/plain": [
       "'year'"
      ]
     },
     "execution_count": 7,
     "metadata": {},
     "output_type": "execute_result"
    }
   ],
   "source": [
    "year.unit"
   ]
  },
  {
   "cell_type": "code",
   "execution_count": 17,
   "id": "4cecab77-3ba2-498d-8dc1-4105a27a974b",
   "metadata": {},
   "outputs": [
    {
     "name": "stdout",
     "output_type": "stream",
     "text": [
      "2024-1-1\n",
      "2024-1-2\n",
      "2024-1-3\n",
      "2024-1-4\n",
      "2024-1-5\n",
      "2024-1-6\n",
      "2024-1-7\n",
      "2024-1-8\n",
      "2024-1-9\n",
      "2024-1-10\n",
      "2024-1-11\n",
      "2024-1-12\n",
      "2024-1-13\n",
      "2024-1-14\n",
      "2024-1-15\n",
      "2024-1-16\n",
      "2024-1-17\n",
      "2024-1-18\n",
      "2024-1-19\n",
      "2024-1-20\n",
      "2024-1-21\n",
      "2024-1-22\n",
      "2024-1-23\n",
      "2024-1-24\n",
      "2024-1-25\n",
      "2024-1-26\n",
      "2024-1-27\n",
      "2024-1-28\n",
      "2024-1-29\n",
      "2024-1-30\n",
      "2024-1-31\n",
      "2024-2-1\n",
      "2024-2-2\n",
      "2024-2-3\n",
      "2024-2-4\n",
      "2024-2-5\n",
      "2024-2-6\n",
      "2024-2-7\n",
      "2024-2-8\n",
      "2024-2-9\n",
      "2024-2-10\n",
      "2024-2-11\n",
      "2024-2-12\n",
      "2024-2-13\n",
      "2024-2-14\n",
      "2024-2-15\n",
      "2024-2-16\n",
      "2024-2-17\n",
      "2024-2-18\n",
      "2024-2-19\n",
      "2024-2-20\n",
      "2024-2-21\n",
      "2024-2-22\n",
      "2024-2-23\n",
      "2024-2-24\n",
      "2024-2-25\n",
      "2024-2-26\n",
      "2024-2-27\n",
      "2024-2-28\n",
      "2024-2-29\n",
      "2024-3-1\n",
      "2024-3-2\n",
      "2024-3-3\n",
      "2024-3-4\n",
      "2024-3-5\n",
      "2024-3-6\n",
      "2024-3-7\n",
      "2024-3-8\n",
      "2024-3-9\n",
      "2024-3-10\n",
      "2024-3-11\n",
      "2024-3-12\n",
      "2024-3-13\n",
      "2024-3-14\n",
      "2024-3-15\n",
      "2024-3-16\n",
      "2024-3-17\n",
      "2024-3-18\n",
      "2024-3-19\n",
      "2024-3-20\n",
      "2024-3-21\n",
      "2024-3-22\n",
      "2024-3-23\n",
      "2024-3-24\n",
      "2024-3-25\n",
      "2024-3-26\n",
      "2024-3-27\n",
      "2024-3-28\n",
      "2024-3-29\n",
      "2024-3-30\n",
      "2024-3-31\n",
      "2024-4-1\n",
      "2024-4-2\n",
      "2024-4-3\n",
      "2024-4-4\n",
      "2024-4-5\n",
      "2024-4-6\n",
      "2024-4-7\n",
      "2024-4-8\n",
      "2024-4-9\n",
      "2024-4-10\n",
      "2024-4-11\n",
      "2024-4-12\n",
      "2024-4-13\n",
      "2024-4-14\n",
      "2024-4-15\n",
      "2024-4-16\n",
      "2024-4-17\n",
      "2024-4-18\n",
      "2024-4-19\n",
      "2024-4-20\n",
      "2024-4-21\n",
      "2024-4-22\n",
      "2024-4-23\n",
      "2024-4-24\n",
      "2024-4-25\n",
      "2024-4-26\n",
      "2024-4-27\n",
      "2024-4-28\n",
      "2024-4-29\n",
      "2024-4-30\n",
      "2024-5-1\n",
      "2024-5-2\n",
      "2024-5-3\n",
      "2024-5-4\n",
      "2024-5-5\n",
      "2024-5-6\n",
      "2024-5-7\n",
      "2024-5-8\n",
      "2024-5-9\n",
      "2024-5-10\n",
      "2024-5-11\n",
      "2024-5-12\n",
      "2024-5-13\n",
      "2024-5-14\n",
      "2024-5-15\n",
      "2024-5-16\n",
      "2024-5-17\n",
      "2024-5-18\n",
      "2024-5-19\n",
      "2024-5-20\n",
      "2024-5-21\n",
      "2024-5-22\n",
      "2024-5-23\n",
      "2024-5-24\n",
      "2024-5-25\n",
      "2024-5-26\n",
      "2024-5-27\n",
      "2024-5-28\n",
      "2024-5-29\n",
      "2024-5-30\n",
      "2024-5-31\n",
      "2024-6-1\n",
      "2024-6-2\n",
      "2024-6-3\n",
      "2024-6-4\n",
      "2024-6-5\n",
      "2024-6-6\n",
      "2024-6-7\n",
      "2024-6-8\n",
      "2024-6-9\n",
      "2024-6-10\n",
      "2024-6-11\n",
      "2024-6-12\n",
      "2024-6-13\n",
      "2024-6-14\n",
      "2024-6-15\n",
      "2024-6-16\n",
      "2024-6-17\n",
      "2024-6-18\n",
      "2024-6-19\n",
      "2024-6-20\n",
      "2024-6-21\n",
      "2024-6-22\n",
      "2024-6-23\n",
      "2024-6-24\n",
      "2024-6-25\n",
      "2024-6-26\n",
      "2024-6-27\n",
      "2024-6-28\n",
      "2024-6-29\n",
      "2024-6-30\n",
      "2024-7-1\n",
      "2024-7-2\n",
      "2024-7-3\n",
      "2024-7-4\n",
      "2024-7-5\n",
      "2024-7-6\n",
      "2024-7-7\n",
      "2024-7-8\n",
      "2024-7-9\n",
      "2024-7-10\n",
      "2024-7-11\n",
      "2024-7-12\n",
      "2024-7-13\n",
      "2024-7-14\n",
      "2024-7-15\n",
      "2024-7-16\n",
      "2024-7-17\n",
      "2024-7-18\n",
      "2024-7-19\n",
      "2024-7-20\n",
      "2024-7-21\n",
      "2024-7-22\n",
      "2024-7-23\n",
      "2024-7-24\n",
      "2024-7-25\n",
      "2024-7-26\n",
      "2024-7-27\n",
      "2024-7-28\n",
      "2024-7-29\n",
      "2024-7-30\n",
      "2024-7-31\n",
      "2024-8-1\n",
      "2024-8-2\n",
      "2024-8-3\n",
      "2024-8-4\n",
      "2024-8-5\n",
      "2024-8-6\n",
      "2024-8-7\n",
      "2024-8-8\n",
      "2024-8-9\n",
      "2024-8-10\n",
      "2024-8-11\n",
      "2024-8-12\n",
      "2024-8-13\n",
      "2024-8-14\n",
      "2024-8-15\n",
      "2024-8-16\n",
      "2024-8-17\n",
      "2024-8-18\n",
      "2024-8-19\n",
      "2024-8-20\n",
      "2024-8-21\n",
      "2024-8-22\n",
      "2024-8-23\n",
      "2024-8-24\n",
      "2024-8-25\n",
      "2024-8-26\n",
      "2024-8-27\n",
      "2024-8-28\n",
      "2024-8-29\n",
      "2024-8-30\n",
      "2024-8-31\n",
      "2024-9-1\n",
      "2024-9-2\n",
      "2024-9-3\n",
      "2024-9-4\n",
      "2024-9-5\n",
      "2024-9-6\n",
      "2024-9-7\n",
      "2024-9-8\n",
      "2024-9-9\n",
      "2024-9-10\n",
      "2024-9-11\n",
      "2024-9-12\n",
      "2024-9-13\n",
      "2024-9-14\n",
      "2024-9-15\n",
      "2024-9-16\n",
      "2024-9-17\n",
      "2024-9-18\n",
      "2024-9-19\n",
      "2024-9-20\n",
      "2024-9-21\n",
      "2024-9-22\n",
      "2024-9-23\n",
      "2024-9-24\n",
      "2024-9-25\n",
      "2024-9-26\n",
      "2024-9-27\n",
      "2024-9-28\n",
      "2024-9-29\n",
      "2024-9-30\n",
      "2024-10-1\n",
      "2024-10-2\n",
      "2024-10-3\n",
      "2024-10-4\n",
      "2024-10-5\n",
      "2024-10-6\n",
      "2024-10-7\n",
      "2024-10-8\n",
      "2024-10-9\n",
      "2024-10-10\n",
      "2024-10-11\n",
      "2024-10-12\n",
      "2024-10-13\n",
      "2024-10-14\n",
      "2024-10-15\n",
      "2024-10-16\n",
      "2024-10-17\n",
      "2024-10-18\n",
      "2024-10-19\n",
      "2024-10-20\n",
      "2024-10-21\n",
      "2024-10-22\n",
      "2024-10-23\n",
      "2024-10-24\n",
      "2024-10-25\n",
      "2024-10-26\n",
      "2024-10-27\n",
      "2024-10-28\n",
      "2024-10-29\n",
      "2024-10-30\n",
      "2024-10-31\n",
      "2024-11-1\n",
      "2024-11-2\n",
      "2024-11-3\n",
      "2024-11-4\n",
      "2024-11-5\n",
      "2024-11-6\n",
      "2024-11-7\n",
      "2024-11-8\n",
      "2024-11-9\n",
      "2024-11-10\n",
      "2024-11-11\n",
      "2024-11-12\n",
      "2024-11-13\n",
      "2024-11-14\n",
      "2024-11-15\n",
      "2024-11-16\n",
      "2024-11-17\n",
      "2024-11-18\n",
      "2024-11-19\n",
      "2024-11-20\n",
      "2024-11-21\n",
      "2024-11-22\n",
      "2024-11-23\n",
      "2024-11-24\n",
      "2024-11-25\n",
      "2024-11-26\n",
      "2024-11-27\n",
      "2024-11-28\n",
      "2024-11-29\n",
      "2024-11-30\n",
      "2024-12-1\n",
      "2024-12-2\n",
      "2024-12-3\n",
      "2024-12-4\n",
      "2024-12-5\n",
      "2024-12-6\n",
      "2024-12-7\n",
      "2024-12-8\n",
      "2024-12-9\n",
      "2024-12-10\n",
      "2024-12-11\n",
      "2024-12-12\n",
      "2024-12-13\n",
      "2024-12-14\n",
      "2024-12-15\n",
      "2024-12-16\n",
      "2024-12-17\n",
      "2024-12-18\n",
      "2024-12-19\n",
      "2024-12-20\n",
      "2024-12-21\n",
      "2024-12-22\n",
      "2024-12-23\n",
      "2024-12-24\n",
      "2024-12-25\n",
      "2024-12-26\n",
      "2024-12-27\n",
      "2024-12-28\n",
      "2024-12-29\n",
      "2024-12-30\n",
      "2024-12-31\n"
     ]
    }
   ],
   "source": [
    "for m in model.CalendarElement(year=2024):\n",
    "    for d in m:\n",
    "        print(\"-\".join([str(v) for v in [year.year.value, m.month.value, d.day.value]]))"
   ]
  },
  {
   "cell_type": "code",
   "execution_count": 10,
   "id": "4bde9afa-f4b6-4527-b348-98c861a7d216",
   "metadata": {},
   "outputs": [
    {
     "data": {
      "text/plain": [
       "2024"
      ]
     },
     "execution_count": 10,
     "metadata": {},
     "output_type": "execute_result"
    }
   ],
   "source": [
    "year.year.value"
   ]
  },
  {
   "cell_type": "code",
   "execution_count": 14,
   "id": "eedf44c1-6241-4145-974f-ccd686c2c4ae",
   "metadata": {},
   "outputs": [
    {
     "data": {
      "text/plain": [
       "{'type': <class 'circle_cal.model.TimeDigit'>, 'unit': 'month', 'value': 1, 'subunit': 'day', 'superunit': {'type': <class 'circle_cal.model.TimeDigit'>, 'unit': 'year', 'value': 2024, 'subunit': 'month', 'superunit': None}}"
      ]
     },
     "execution_count": 14,
     "metadata": {},
     "output_type": "execute_result"
    }
   ],
   "source": [
    "year._state"
   ]
  },
  {
   "cell_type": "code",
   "execution_count": 15,
   "id": "45cf766c-c921-4646-a05d-8e961b5390a2",
   "metadata": {},
   "outputs": [
    {
     "data": {
      "text/plain": [
       "2"
      ]
     },
     "execution_count": 15,
     "metadata": {},
     "output_type": "execute_result"
    }
   ],
   "source": [
    "next(year._state)"
   ]
  },
  {
   "cell_type": "code",
   "execution_count": 16,
   "id": "f0068c35-2b3c-423f-b93b-4d9c044da91f",
   "metadata": {},
   "outputs": [
    {
     "data": {
      "text/plain": [
       "{'type': <class 'circle_cal.model.TimeDigit'>, 'unit': 'month', 'value': 2, 'subunit': 'day', 'superunit': {'type': <class 'circle_cal.model.TimeDigit'>, 'unit': 'year', 'value': 2024, 'subunit': 'month', 'superunit': None}}"
      ]
     },
     "execution_count": 16,
     "metadata": {},
     "output_type": "execute_result"
    }
   ],
   "source": [
    "year._state"
   ]
  },
  {
   "cell_type": "code",
   "execution_count": 17,
   "id": "de04b35d-4ba8-4e32-93b8-45088bdf1a0c",
   "metadata": {},
   "outputs": [],
   "source": [
    "del year._state"
   ]
  },
  {
   "cell_type": "code",
   "execution_count": 18,
   "id": "070c986c-6f60-4fd8-af6a-a70b7b307557",
   "metadata": {},
   "outputs": [],
   "source": [
    "i = iter(year)"
   ]
  },
  {
   "cell_type": "code",
   "execution_count": 19,
   "id": "40c11581-c2df-454f-a5bd-2f64246591de",
   "metadata": {},
   "outputs": [
    {
     "data": {
      "text/plain": [
       "generator"
      ]
     },
     "execution_count": 19,
     "metadata": {},
     "output_type": "execute_result"
    }
   ],
   "source": [
    "type(i)"
   ]
  },
  {
   "cell_type": "code",
   "execution_count": 20,
   "id": "0b566196-917a-4edc-a594-252c0d204328",
   "metadata": {},
   "outputs": [
    {
     "name": "stdout",
     "output_type": "stream",
     "text": [
      "<circle_cal.model.CalendarElement object at 0x11c9b56d0>\n"
     ]
    }
   ],
   "source": [
    "for n in i:\n",
    "    print(n)"
   ]
  },
  {
   "cell_type": "code",
   "execution_count": 22,
   "id": "255b9991-6687-4ced-b07b-06cfbd714cbd",
   "metadata": {},
   "outputs": [
    {
     "data": {
      "text/plain": [
       "{'type': <class 'circle_cal.model.TimeDigit'>, 'unit': 'month', 'value': 1, 'subunit': 'day', 'superunit': {'type': <class 'circle_cal.model.TimeDigit'>, 'unit': 'year', 'value': 2024, 'subunit': 'month', 'superunit': None}}"
      ]
     },
     "execution_count": 22,
     "metadata": {},
     "output_type": "execute_result"
    }
   ],
   "source": [
    "n.month"
   ]
  },
  {
   "cell_type": "code",
   "execution_count": null,
   "id": "84c35485-2a78-4e2e-a17c-0be710c665ad",
   "metadata": {},
   "outputs": [],
   "source": []
  }
 ],
 "metadata": {
  "kernelspec": {
   "display_name": "Python 3 (ipykernel)",
   "language": "python",
   "name": "python3"
  },
  "language_info": {
   "codemirror_mode": {
    "name": "ipython",
    "version": 3
   },
   "file_extension": ".py",
   "mimetype": "text/x-python",
   "name": "python",
   "nbconvert_exporter": "python",
   "pygments_lexer": "ipython3",
   "version": "3.12.2"
  }
 },
 "nbformat": 4,
 "nbformat_minor": 5
}
