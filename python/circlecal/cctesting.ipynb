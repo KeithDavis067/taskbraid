{
 "cells": [
  {
   "cell_type": "code",
   "execution_count": 1,
   "id": "60d86443-ead0-4b5f-956b-6c834843653b",
   "metadata": {},
   "outputs": [],
   "source": [
    "from datetime import datetime, date, timedelta, time\n",
    "from dateutil import utils, parser\n",
    "from dateutil.relativedelta import relativedelta\n",
    "from circle_cal import Year_Data\n",
    "import circle_cal as cc\n",
    "import circle_cal.model as model"
   ]
  },
  {
   "cell_type": "code",
   "execution_count": 2,
   "id": "34a6b63c-f5b2-492b-85e5-358a4ca57b00",
   "metadata": {},
   "outputs": [],
   "source": [
    "y2024 = model.CalendarElement(year=2024)"
   ]
  },
  {
   "cell_type": "code",
   "execution_count": 3,
   "id": "630b659c-29ae-44d0-9e06-74ee4233ab36",
   "metadata": {},
   "outputs": [
    {
     "data": {
      "text/plain": [
       "{'year': range(2024, 2025),\n",
       " 'month': range(1, 13),\n",
       " 'day': None,\n",
       " 'hour': range(1, 24),\n",
       " 'minute': range(1, 60),\n",
       " 'second': range(1, 60),\n",
       " 'microsecond': range(1, 1000000)}"
      ]
     },
     "execution_count": 3,
     "metadata": {},
     "output_type": "execute_result"
    }
   ],
   "source": [
    "y2024.unitranges"
   ]
  },
  {
   "cell_type": "code",
   "execution_count": 6,
   "id": "f3adbca9-1d02-4c1d-84a5-cbc010c660dc",
   "metadata": {},
   "outputs": [
    {
     "ename": "KeyError",
     "evalue": "None",
     "output_type": "error",
     "traceback": [
      "\u001b[0;31m---------------------------------------------------------------------------\u001b[0m",
      "\u001b[0;31mKeyError\u001b[0m                                  Traceback (most recent call last)",
      "Cell \u001b[0;32mIn[6], line 1\u001b[0m\n\u001b[0;32m----> 1\u001b[0m \u001b[38;5;28;43;01mfor\u001b[39;49;00m\u001b[43m \u001b[49m\u001b[43mday\u001b[49m\u001b[43m \u001b[49m\u001b[38;5;129;43;01min\u001b[39;49;00m\u001b[43m \u001b[49m\u001b[43my2024\u001b[49m\u001b[38;5;241;43m.\u001b[39;49m\u001b[43miterover\u001b[49m\u001b[43m(\u001b[49m\u001b[43m)\u001b[49m\u001b[43m:\u001b[49m\n\u001b[1;32m      2\u001b[0m \u001b[43m    \u001b[49m\u001b[38;5;28;43mprint\u001b[39;49m\u001b[43m(\u001b[49m\u001b[43mday\u001b[49m\u001b[43m)\u001b[49m\n",
      "File \u001b[0;32m~/Documents/PythonProjects/taskbraid/python/circlecal/circle_cal/model.py:190\u001b[0m, in \u001b[0;36mCalendarElement.iterover\u001b[0;34m(self, unit, units, date, tuple, ranges, value, smallest, depth)\u001b[0m\n\u001b[1;32m    187\u001b[0m         r \u001b[38;5;241m=\u001b[39m ranges[u]\n\u001b[1;32m    188\u001b[0m         \u001b[38;5;28;01mbreak\u001b[39;00m\n\u001b[0;32m--> 190\u001b[0m \u001b[38;5;28;01mif\u001b[39;00m \u001b[38;5;28mself\u001b[39m\u001b[38;5;241m.\u001b[39mUNITORDER[u] \u001b[38;5;241m>\u001b[39m\u001b[38;5;241m=\u001b[39m \u001b[38;5;28;43mself\u001b[39;49m\u001b[38;5;241;43m.\u001b[39;49m\u001b[43mUNITORDER\u001b[49m\u001b[43m[\u001b[49m\u001b[43msmallest\u001b[49m\u001b[43m]\u001b[49m:\n\u001b[1;32m    191\u001b[0m     \u001b[38;5;28;01mif\u001b[39;00m u \u001b[38;5;241m==\u001b[39m \u001b[38;5;124m\"\u001b[39m\u001b[38;5;124mday\u001b[39m\u001b[38;5;124m\"\u001b[39m \u001b[38;5;129;01mand\u001b[39;00m r \u001b[38;5;129;01mis\u001b[39;00m \u001b[38;5;28;01mNone\u001b[39;00m:\n\u001b[1;32m    192\u001b[0m         r \u001b[38;5;241m=\u001b[39m \u001b[38;5;28mrange\u001b[39m(\u001b[38;5;241m1\u001b[39m, monthrange(value\u001b[38;5;241m.\u001b[39myear, value\u001b[38;5;241m.\u001b[39mmonth)[\u001b[38;5;241m1\u001b[39m]\u001b[38;5;241m+\u001b[39m\u001b[38;5;241m1\u001b[39m)\n",
      "\u001b[0;31mKeyError\u001b[0m: None"
     ]
    }
   ],
   "source": [
    "for day in y2024.iterover(smallest=\"day\"):\n",
    "    print(day)"
   ]
  },
  {
   "cell_type": "code",
   "execution_count": 5,
   "id": "8211b3aa-4e1f-46f9-b7d4-71818b228bd1",
   "metadata": {},
   "outputs": [
    {
     "name": "stdout",
     "output_type": "stream",
     "text": [
      "{'microsecond': 0, 'second': 1, 'minute': 2, 'hour': 3, 'day': 4, 'month': 5, 'year': 6}\n"
     ]
    }
   ],
   "source": [
    "print(y2024.UNITORDER)"
   ]
  },
  {
   "cell_type": "code",
   "execution_count": 6,
   "id": "cd0a6ad7-c951-47e8-ad04-aec535543e37",
   "metadata": {},
   "outputs": [
    {
     "name": "stdout",
     "output_type": "stream",
     "text": [
      "['hour', 'minute', 'second', 'microsecond']\n"
     ]
    }
   ],
   "source": [
    "print(y2024.subunits)"
   ]
  },
  {
   "cell_type": "code",
   "execution_count": 7,
   "id": "fff4064a-e832-4d67-aa68-08cf7557d33f",
   "metadata": {},
   "outputs": [
    {
     "ename": "TypeError",
     "evalue": "'NoneType' object cannot be interpreted as an integer",
     "output_type": "error",
     "traceback": [
      "\u001b[0;31m---------------------------------------------------------------------------\u001b[0m",
      "\u001b[0;31mTypeError\u001b[0m                                 Traceback (most recent call last)",
      "Cell \u001b[0;32mIn[7], line 1\u001b[0m\n\u001b[0;32m----> 1\u001b[0m \u001b[38;5;28;43mlen\u001b[39;49m\u001b[43m(\u001b[49m\u001b[43my2024\u001b[49m\u001b[43m)\u001b[49m\n",
      "\u001b[0;31mTypeError\u001b[0m: 'NoneType' object cannot be interpreted as an integer"
     ]
    }
   ],
   "source": [
    "len(y2024)"
   ]
  },
  {
   "cell_type": "code",
   "execution_count": 8,
   "id": "6e6f8d90-9944-49e2-87f9-29534f586bdf",
   "metadata": {},
   "outputs": [
    {
     "data": {
      "text/plain": [
       "{'year': range(2024, 2025),\n",
       " 'month': range(1, 13),\n",
       " 'day': None,\n",
       " 'hour': range(1, 24),\n",
       " 'minute': range(1, 60),\n",
       " 'second': range(1, 60),\n",
       " 'microsecond': range(1, 1000000)}"
      ]
     },
     "execution_count": 8,
     "metadata": {},
     "output_type": "execute_result"
    }
   ],
   "source": [
    "y2024.unitranges"
   ]
  },
  {
   "cell_type": "code",
   "execution_count": 9,
   "id": "b5d4ce06-e33f-46a2-aeda-668ea78e76ca",
   "metadata": {},
   "outputs": [
    {
     "data": {
      "text/plain": [
       "['year', 'month', 'day', 'hour', 'minute', 'second', 'microsecond']"
      ]
     },
     "execution_count": 9,
     "metadata": {},
     "output_type": "execute_result"
    }
   ],
   "source": [
    "y2024.__class__.ABSUNITS"
   ]
  },
  {
   "cell_type": "code",
   "execution_count": 10,
   "id": "85e49b50-b070-4eae-9eae-a54957ce98f5",
   "metadata": {},
   "outputs": [
    {
     "ename": "AttributeError",
     "evalue": "module 'circle_cal' has no attribute 'monthrange'",
     "output_type": "error",
     "traceback": [
      "\u001b[0;31m---------------------------------------------------------------------------\u001b[0m",
      "\u001b[0;31mAttributeError\u001b[0m                            Traceback (most recent call last)",
      "Cell \u001b[0;32mIn[10], line 1\u001b[0m\n\u001b[0;32m----> 1\u001b[0m \u001b[43mcc\u001b[49m\u001b[38;5;241;43m.\u001b[39;49m\u001b[43mmonthrange\u001b[49m(\u001b[38;5;241m2024\u001b[39m, \u001b[38;5;241m3\u001b[39m)\n",
      "\u001b[0;31mAttributeError\u001b[0m: module 'circle_cal' has no attribute 'monthrange'"
     ]
    }
   ],
   "source": [
    "cc.monthrange(2024, 3)"
   ]
  },
  {
   "cell_type": "code",
   "execution_count": 11,
   "id": "da29560a-4970-49ac-84d7-71ff3f5b8eb5",
   "metadata": {},
   "outputs": [],
   "source": [
    "from calendar import monthrange"
   ]
  },
  {
   "cell_type": "code",
   "execution_count": 12,
   "id": "2fdf03ed-2567-4300-a5e5-365f6bc4e8f9",
   "metadata": {},
   "outputs": [
    {
     "data": {
      "text/plain": [
       "(calendar.FRIDAY, 31)"
      ]
     },
     "execution_count": 12,
     "metadata": {},
     "output_type": "execute_result"
    }
   ],
   "source": [
    "monthrange(2024, 3)"
   ]
  },
  {
   "cell_type": "code",
   "execution_count": 6,
   "id": "26e2e34d-44e2-4625-90a8-683640c3b6cc",
   "metadata": {},
   "outputs": [
    {
     "name": "stdout",
     "output_type": "stream",
     "text": [
      "Help on method_descriptor:\n",
      "\n",
      "pop(...)\n",
      "    D.pop(k[,d]) -> v, remove specified key and return the corresponding value.\n",
      "\n",
      "    If the key is not found, return the default if given; otherwise,\n",
      "    raise a KeyError.\n",
      "\n"
     ]
    }
   ],
   "source": [
    "help(dict.pop)"
   ]
  },
  {
   "cell_type": "code",
   "execution_count": 8,
   "id": "fd03d149-fb73-43cf-93ca-8424a0c8778e",
   "metadata": {},
   "outputs": [],
   "source": [
    "ur = y2024.unitranges.copy()"
   ]
  },
  {
   "cell_type": "code",
   "execution_count": 10,
   "id": "38d6509a-1c7c-4747-a3d6-e2bb4fa3df05",
   "metadata": {},
   "outputs": [
    {
     "data": {
      "text/plain": [
       "range(2024, 2025)"
      ]
     },
     "execution_count": 10,
     "metadata": {},
     "output_type": "execute_result"
    }
   ],
   "source": [
    "ur.pop(\"year\")"
   ]
  },
  {
   "cell_type": "code",
   "execution_count": 12,
   "id": "2b880da6-ecd4-4420-b244-df5c681b4e42",
   "metadata": {},
   "outputs": [
    {
     "ename": "KeyError",
     "evalue": "'year'",
     "output_type": "error",
     "traceback": [
      "\u001b[0;31m---------------------------------------------------------------------------\u001b[0m",
      "\u001b[0;31mKeyError\u001b[0m                                  Traceback (most recent call last)",
      "Cell \u001b[0;32mIn[12], line 1\u001b[0m\n\u001b[0;32m----> 1\u001b[0m \u001b[43mur\u001b[49m\u001b[38;5;241;43m.\u001b[39;49m\u001b[43mpop\u001b[49m\u001b[43m(\u001b[49m\u001b[38;5;124;43m\"\u001b[39;49m\u001b[38;5;124;43myear\u001b[39;49m\u001b[38;5;124;43m\"\u001b[39;49m\u001b[43m)\u001b[49m\n",
      "\u001b[0;31mKeyError\u001b[0m: 'year'"
     ]
    }
   ],
   "source": [
    "ur.pop(\"year\")"
   ]
  },
  {
   "cell_type": "code",
   "execution_count": 13,
   "id": "87c84b23-75db-4dce-a065-dabb0aadc9ff",
   "metadata": {},
   "outputs": [
    {
     "data": {
      "text/plain": [
       "{'microsecond': 0,\n",
       " 'second': 1,\n",
       " 'minute': 2,\n",
       " 'hour': 3,\n",
       " 'day': 4,\n",
       " 'month': 5,\n",
       " 'year': 6}"
      ]
     },
     "execution_count": 13,
     "metadata": {},
     "output_type": "execute_result"
    }
   ],
   "source": [
    "y2024.UNITORDER"
   ]
  },
  {
   "cell_type": "code",
   "execution_count": 14,
   "id": "9a88f9a6-8ced-4b9e-baba-7ca263f8b79c",
   "metadata": {},
   "outputs": [
    {
     "data": {
      "text/plain": [
       "['year', 'month', 'day', 'hour', 'minute', 'second', 'microsecond']"
      ]
     },
     "execution_count": 14,
     "metadata": {},
     "output_type": "execute_result"
    }
   ],
   "source": [
    "y2024.ABSUNITS"
   ]
  },
  {
   "cell_type": "code",
   "execution_count": null,
   "id": "443c4689-9b94-40db-8e28-31c4187070a7",
   "metadata": {},
   "outputs": [],
   "source": []
  }
 ],
 "metadata": {
  "kernelspec": {
   "display_name": "Python 3 (ipykernel)",
   "language": "python",
   "name": "python3"
  },
  "language_info": {
   "codemirror_mode": {
    "name": "ipython",
    "version": 3
   },
   "file_extension": ".py",
   "mimetype": "text/x-python",
   "name": "python",
   "nbconvert_exporter": "python",
   "pygments_lexer": "ipython3",
   "version": "3.12.2"
  }
 },
 "nbformat": 4,
 "nbformat_minor": 5
}
