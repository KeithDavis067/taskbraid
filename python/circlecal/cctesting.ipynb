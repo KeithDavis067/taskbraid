{
 "cells": [
  {
   "cell_type": "code",
   "execution_count": 1,
   "id": "60d86443-ead0-4b5f-956b-6c834843653b",
   "metadata": {},
   "outputs": [],
   "source": [
    "from datetime import datetime, date, timedelta, time\n",
    "from dateutil import utils, parser\n",
    "from dateutil.relativedelta import relativedelta\n",
    "import circle_cal as cc\n",
    "import circle_cal.model as model\n",
    "from calendar import monthrange, month_name"
   ]
  },
  {
   "cell_type": "code",
   "execution_count": 2,
   "id": "4de8c97e-f52a-446f-a920-ffa396bba073",
   "metadata": {},
   "outputs": [],
   "source": [
    "y = model.CalendarElement(year=2024)"
   ]
  },
  {
   "cell_type": "code",
   "execution_count": 3,
   "id": "1b40a2f9-bfcb-4e05-b457-95cd4c5797d2",
   "metadata": {},
   "outputs": [
    {
     "data": {
      "text/plain": [
       "{'year': 2024, 'type': 'CalendarElement'}"
      ]
     },
     "execution_count": 3,
     "metadata": {},
     "output_type": "execute_result"
    }
   ],
   "source": [
    "y"
   ]
  },
  {
   "cell_type": "code",
   "execution_count": 4,
   "id": "98d09810-263b-49cb-b481-12a5570e8c64",
   "metadata": {},
   "outputs": [],
   "source": [
    "y.minute = 25"
   ]
  },
  {
   "cell_type": "code",
   "execution_count": 5,
   "id": "19236bc2-8d5f-4a40-905d-b9eee238d9fc",
   "metadata": {},
   "outputs": [
    {
     "data": {
      "text/plain": [
       "{'year': 2024, 'minute': 25, 'type': 'CalendarElement'}"
      ]
     },
     "execution_count": 5,
     "metadata": {},
     "output_type": "execute_result"
    }
   ],
   "source": [
    "y"
   ]
  },
  {
   "cell_type": "code",
   "execution_count": 6,
   "id": "bf8d9771-cf3c-49d1-9a33-8e6ca509b017",
   "metadata": {},
   "outputs": [
    {
     "name": "stdout",
     "output_type": "stream",
     "text": [
      "25\n"
     ]
    }
   ],
   "source": [
    "print(y.minute)"
   ]
  },
  {
   "cell_type": "code",
   "execution_count": 7,
   "id": "10432f18-06a1-489e-9a14-94b34ce2b8a1",
   "metadata": {},
   "outputs": [
    {
     "data": {
      "text/plain": [
       "{'year': {'type': <class 'circle_cal.model.TimeDigit'>, 'unit': 'year', 'value': 2024, 'subunit': 'month', 'superunit': None},\n",
       " 'minute': {'type': <class 'circle_cal.model.TimeDigit'>, 'unit': 'minute', 'value': 25, 'subunit': 'second', 'superunit': 'hour'}}"
      ]
     },
     "execution_count": 7,
     "metadata": {},
     "output_type": "execute_result"
    }
   ],
   "source": [
    "y.digits"
   ]
  },
  {
   "cell_type": "code",
   "execution_count": 7,
   "id": "fe91c0bc-979f-4018-ae47-800be1074244",
   "metadata": {},
   "outputs": [
    {
     "data": {
      "text/plain": [
       "relativedelta(year=2024)"
      ]
     },
     "execution_count": 7,
     "metadata": {},
     "output_type": "execute_result"
    }
   ],
   "source": [
    "relativedelta(year=2024)"
   ]
  },
  {
   "cell_type": "code",
   "execution_count": 10,
   "id": "8bb85d01-55f3-47e6-b4f9-4c06b143999e",
   "metadata": {},
   "outputs": [
    {
     "data": {
      "text/plain": [
       "datetime.datetime(2024, 1, 1, 0, 0)"
      ]
     },
     "execution_count": 10,
     "metadata": {},
     "output_type": "execute_result"
    }
   ],
   "source": [
    "datetime(1, 1, 1) + relativedelta(year=2024)"
   ]
  },
  {
   "cell_type": "code",
   "execution_count": 8,
   "id": "98626280-9f98-43f4-90d3-d9619ffd1157",
   "metadata": {},
   "outputs": [
    {
     "data": {
      "text/plain": [
       "datetime.datetime(2024, 1, 1, 0, 25)"
      ]
     },
     "execution_count": 8,
     "metadata": {},
     "output_type": "execute_result"
    }
   ],
   "source": [
    "y.datetime()"
   ]
  },
  {
   "cell_type": "code",
   "execution_count": 9,
   "id": "0cf0f473-9398-40a8-924f-807110ca7d69",
   "metadata": {},
   "outputs": [],
   "source": [
    "a = {None: \"None\"}"
   ]
  },
  {
   "cell_type": "code",
   "execution_count": 10,
   "id": "b1073f4d-45eb-462a-ba63-3983a98df266",
   "metadata": {},
   "outputs": [
    {
     "data": {
      "text/plain": [
       "{None: 'None'}"
      ]
     },
     "execution_count": 10,
     "metadata": {},
     "output_type": "execute_result"
    }
   ],
   "source": [
    "a"
   ]
  },
  {
   "cell_type": "code",
   "execution_count": 11,
   "id": "3fee1675-a23a-449a-9881-da03b957d9ef",
   "metadata": {},
   "outputs": [
    {
     "data": {
      "text/plain": [
       "'None'"
      ]
     },
     "execution_count": 11,
     "metadata": {},
     "output_type": "execute_result"
    }
   ],
   "source": [
    "a[None]"
   ]
  },
  {
   "cell_type": "code",
   "execution_count": null,
   "id": "3de13745-e7cb-4dfa-9148-45b22d5f29a7",
   "metadata": {},
   "outputs": [],
   "source": []
  }
 ],
 "metadata": {
  "kernelspec": {
   "display_name": "Python 3 (ipykernel)",
   "language": "python",
   "name": "python3"
  },
  "language_info": {
   "codemirror_mode": {
    "name": "ipython",
    "version": 3
   },
   "file_extension": ".py",
   "mimetype": "text/x-python",
   "name": "python",
   "nbconvert_exporter": "python",
   "pygments_lexer": "ipython3",
   "version": "3.12.3"
  }
 },
 "nbformat": 4,
 "nbformat_minor": 5
}
