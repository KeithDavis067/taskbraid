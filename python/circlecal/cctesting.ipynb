{
 "cells": [
  {
   "cell_type": "code",
   "execution_count": 1,
   "id": "60d86443-ead0-4b5f-956b-6c834843653b",
   "metadata": {},
   "outputs": [],
   "source": [
    "from datetime import datetime, date, timedelta, time\n",
    "from dateutil import utils, parser\n",
    "from dateutil.relativedelta import relativedelta\n",
    "import circle_cal as cc\n",
    "import circle_cal.model as model\n",
    "from circle_cal.model import TimeDigit, CalendarElement, TimeRegister\n",
    "from calendar import monthrange, month_name\n",
    "from rich import print"
   ]
  },
  {
   "cell_type": "code",
   "execution_count": 2,
   "id": "80e9d846-65c7-4670-baa2-5d61be3114c5",
   "metadata": {},
   "outputs": [],
   "source": [
    "c = CalendarElement(year=2024, month=2, day=29)"
   ]
  },
  {
   "cell_type": "code",
   "execution_count": 3,
   "id": "54c2f079-0ab4-4fd5-a222-58b8cf126178",
   "metadata": {},
   "outputs": [
    {
     "data": {
      "text/plain": [
       "{'year': 2024, 'month': 2, 'day': 29, 'type': 'CalendarElement'}"
      ]
     },
     "execution_count": 3,
     "metadata": {},
     "output_type": "execute_result"
    }
   ],
   "source": [
    "c"
   ]
  },
  {
   "cell_type": "code",
   "execution_count": 4,
   "id": "cb4d0e10-b868-49d7-9a43-0ac3f5094014",
   "metadata": {},
   "outputs": [
    {
     "data": {
      "text/plain": [
       "{'year': {'type': <class 'circle_cal.model.TimeDigit'>, 'unit': 'year', 'value': 2024, 'subunit': '<circle_cal.model.TimeDigit object at 0x12058efc0>', 'superunit': '<NoneType object at 0x10664f1a0>'},\n",
       " 'month': {'type': <class 'circle_cal.model.TimeDigit'>, 'unit': 'month', 'value': 2, 'subunit': '<circle_cal.model.TimeDigit object at 0x12058f020>', 'superunit': '<circle_cal.model.TimeDigit object at 0x12058ef00>'},\n",
       " 'day': {'type': <class 'circle_cal.model.TimeDigit'>, 'unit': 'day', 'value': 29, 'subunit': 'hour', 'superunit': '<circle_cal.model.TimeDigit object at 0x12058efc0>'}}"
      ]
     },
     "execution_count": 4,
     "metadata": {},
     "output_type": "execute_result"
    }
   ],
   "source": [
    "c.digits"
   ]
  },
  {
   "cell_type": "code",
   "execution_count": 5,
   "id": "e23096c4-ac97-4933-9482-cc12d04041f5",
   "metadata": {},
   "outputs": [],
   "source": [
    "del c.day"
   ]
  },
  {
   "cell_type": "code",
   "execution_count": 6,
   "id": "733f744d-a660-47b4-8064-a1939a5f6286",
   "metadata": {},
   "outputs": [
    {
     "data": {
      "text/plain": [
       "{'year': {'type': <class 'circle_cal.model.TimeDigit'>, 'unit': 'year', 'value': 2024, 'subunit': '<circle_cal.model.TimeDigit object at 0x12058efc0>', 'superunit': '<NoneType object at 0x10664f1a0>'},\n",
       " 'month': {'type': <class 'circle_cal.model.TimeDigit'>, 'unit': 'month', 'value': 2, 'subunit': 'day', 'superunit': '<circle_cal.model.TimeDigit object at 0x12058ef00>'}}"
      ]
     },
     "execution_count": 6,
     "metadata": {},
     "output_type": "execute_result"
    }
   ],
   "source": [
    "c.digits"
   ]
  },
  {
   "cell_type": "code",
   "execution_count": 7,
   "id": "76f573ea-ea06-493e-b841-f0acf7236be7",
   "metadata": {},
   "outputs": [
    {
     "data": {
      "text/plain": [
       "'day'"
      ]
     },
     "execution_count": 7,
     "metadata": {},
     "output_type": "execute_result"
    }
   ],
   "source": [
    "c.month.subunit"
   ]
  },
  {
   "cell_type": "code",
   "execution_count": 8,
   "id": "2138054c-69b6-4a5d-9cc4-bd036ff979e0",
   "metadata": {},
   "outputs": [],
   "source": [
    "c.day = 10"
   ]
  },
  {
   "cell_type": "code",
   "execution_count": 9,
   "id": "d8302ccc-b469-4ecb-b756-51757a36d23f",
   "metadata": {},
   "outputs": [
    {
     "data": {
      "text/plain": [
       "{'year': 2024, 'month': 2, 'day': 10, 'type': 'CalendarElement'}"
      ]
     },
     "execution_count": 9,
     "metadata": {},
     "output_type": "execute_result"
    }
   ],
   "source": [
    "c"
   ]
  },
  {
   "cell_type": "code",
   "execution_count": 12,
   "id": "47425cd0-c27e-4c25-bc15-a49b1f7a6835",
   "metadata": {},
   "outputs": [
    {
     "data": {
      "text/plain": [
       "{'year': 2024, 'month': 1, 'day': 10, 'type': 'CalendarElement'}"
      ]
     },
     "execution_count": 12,
     "metadata": {},
     "output_type": "execute_result"
    }
   ],
   "source": [
    "c"
   ]
  },
  {
   "cell_type": "code",
   "execution_count": 13,
   "id": "3716e5dd-41d8-4a17-a46a-0eb51413cb67",
   "metadata": {},
   "outputs": [
    {
     "data": {
      "text/plain": [
       "dict_keys(['year', 'month', 'day'])"
      ]
     },
     "execution_count": 13,
     "metadata": {},
     "output_type": "execute_result"
    }
   ],
   "source": [
    "c.digits.keys()"
   ]
  },
  {
   "cell_type": "code",
   "execution_count": 14,
   "id": "446f3519-d48a-4c68-a499-e8c7543318c2",
   "metadata": {},
   "outputs": [
    {
     "data": {
      "text/plain": [
       "datetime.datetime(2024, 1, 10, 0, 0)"
      ]
     },
     "execution_count": 14,
     "metadata": {},
     "output_type": "execute_result"
    }
   ],
   "source": [
    "c.datetime()"
   ]
  },
  {
   "cell_type": "code",
   "execution_count": 15,
   "id": "59744038-be63-4358-a4ef-4bd3decde2e3",
   "metadata": {},
   "outputs": [],
   "source": [
    "del c.digits[\"month\"]"
   ]
  },
  {
   "cell_type": "code",
   "execution_count": 16,
   "id": "0afb33d8-941b-4fa2-9b9e-854cfef2686b",
   "metadata": {},
   "outputs": [
    {
     "data": {
      "text/plain": [
       "'year'"
      ]
     },
     "execution_count": 16,
     "metadata": {},
     "output_type": "execute_result"
    }
   ],
   "source": [
    "c.unit"
   ]
  },
  {
   "cell_type": "code",
   "execution_count": 17,
   "id": "65772c3f-287b-4a37-b38e-770b32cdcdcc",
   "metadata": {},
   "outputs": [
    {
     "data": {
      "text/plain": [
       "{'year': 2024, 'day': 10, 'type': 'CalendarElement'}"
      ]
     },
     "execution_count": 17,
     "metadata": {},
     "output_type": "execute_result"
    }
   ],
   "source": [
    "c"
   ]
  },
  {
   "cell_type": "code",
   "execution_count": 20,
   "id": "e67c2741-fdda-4c60-8809-f4ca08404e75",
   "metadata": {},
   "outputs": [
    {
     "ename": "AttributeError",
     "evalue": "'CalendarElement' object has no attribute 'month'",
     "output_type": "error",
     "traceback": [
      "\u001b[0;31m---------------------------------------------------------------------------\u001b[0m",
      "\u001b[0;31mAttributeError\u001b[0m                            Traceback (most recent call last)",
      "Cell \u001b[0;32mIn[20], line 1\u001b[0m\n\u001b[0;32m----> 1\u001b[0m \u001b[38;5;28;01mdel\u001b[39;00m \u001b[43mc\u001b[49m\u001b[38;5;241;43m.\u001b[39;49m\u001b[43mmonth\u001b[49m\n",
      "File \u001b[0;32m~/Documents/PythonProjects/taskbraid/python/circlecal/circle_cal/model.py:448\u001b[0m, in \u001b[0;36m_delunitattr\u001b[0;34m(obj, name)\u001b[0m\n\u001b[1;32m    446\u001b[0m     \u001b[38;5;28;01mdel\u001b[39;00m obj\u001b[38;5;241m.\u001b[39mdigits[name]\n\u001b[1;32m    447\u001b[0m \u001b[38;5;28;01melse\u001b[39;00m:\n\u001b[0;32m--> 448\u001b[0m     \u001b[38;5;28;43mobject\u001b[39;49m\u001b[38;5;241;43m.\u001b[39;49m\u001b[38;5;21;43m__delattr__\u001b[39;49m\u001b[43m(\u001b[49m\u001b[43mobj\u001b[49m\u001b[43m,\u001b[49m\u001b[43m \u001b[49m\u001b[43mname\u001b[49m\u001b[43m)\u001b[49m\n",
      "\u001b[0;31mAttributeError\u001b[0m: 'CalendarElement' object has no attribute 'month'"
     ]
    }
   ],
   "source": [
    "del c.month"
   ]
  },
  {
   "cell_type": "code",
   "execution_count": 22,
   "id": "a9b7fbc8-d7c9-4434-be30-4bfa6fa4f6e6",
   "metadata": {},
   "outputs": [
    {
     "data": {
      "text/plain": [
       "{'type': <class 'circle_cal.model.TimeDigit'>, 'unit': 'month', 'value': 1, 'subunit': 'day', 'superunit': '<circle_cal.model.TimeDigit object at 0x125d04950>'}"
      ]
     },
     "execution_count": 22,
     "metadata": {},
     "output_type": "execute_result"
    }
   ],
   "source": [
    "c.year.subunit"
   ]
  },
  {
   "cell_type": "code",
   "execution_count": 23,
   "id": "1fb17fc9-cdcc-40c2-810b-7209c886703b",
   "metadata": {},
   "outputs": [],
   "source": [
    "c.year.subunit = None"
   ]
  },
  {
   "cell_type": "code",
   "execution_count": 24,
   "id": "7fe9f876-aeaa-4472-b163-439cec5bbd28",
   "metadata": {},
   "outputs": [
    {
     "data": {
      "text/plain": [
       "{'year': 2024, 'type': 'CalendarElement'}"
      ]
     },
     "execution_count": 24,
     "metadata": {},
     "output_type": "execute_result"
    }
   ],
   "source": [
    "c"
   ]
  },
  {
   "cell_type": "code",
   "execution_count": 25,
   "id": "55a4e937-bafc-486b-823d-9aa885468883",
   "metadata": {},
   "outputs": [
    {
     "name": "stdout",
     "output_type": "stream",
     "text": [
      "day\n"
     ]
    }
   ],
   "source": [
    "c.day=10"
   ]
  },
  {
   "cell_type": "code",
   "execution_count": 26,
   "id": "2d71894c-6660-482f-8bd1-dd07d1ed4254",
   "metadata": {},
   "outputs": [
    {
     "data": {
      "text/plain": [
       "{'year': 2024, 'month': 1, 'type': 'CalendarElement'}"
      ]
     },
     "execution_count": 26,
     "metadata": {},
     "output_type": "execute_result"
    }
   ],
   "source": [
    "c"
   ]
  },
  {
   "cell_type": "code",
   "execution_count": 27,
   "id": "adc0b14c-d965-4cbe-a381-1534517d1611",
   "metadata": {},
   "outputs": [],
   "source": [
    "c.day=10"
   ]
  },
  {
   "cell_type": "code",
   "execution_count": 28,
   "id": "b9e7f987-1b66-45eb-aea6-0edbf44a0d79",
   "metadata": {},
   "outputs": [
    {
     "data": {
      "text/plain": [
       "{'year': 2024, 'month': 1, 'day': 10, 'type': 'CalendarElement'}"
      ]
     },
     "execution_count": 28,
     "metadata": {},
     "output_type": "execute_result"
    }
   ],
   "source": [
    "c"
   ]
  },
  {
   "cell_type": "code",
   "execution_count": null,
   "id": "fc6f5593-cec7-494d-a5a5-58bd26f57c03",
   "metadata": {},
   "outputs": [],
   "source": []
  }
 ],
 "metadata": {
  "kernelspec": {
   "display_name": "Python 3 (ipykernel)",
   "language": "python",
   "name": "python3"
  },
  "language_info": {
   "codemirror_mode": {
    "name": "ipython",
    "version": 3
   },
   "file_extension": ".py",
   "mimetype": "text/x-python",
   "name": "python",
   "nbconvert_exporter": "python",
   "pygments_lexer": "ipython3",
   "version": "3.12.3"
  }
 },
 "nbformat": 4,
 "nbformat_minor": 5
}
