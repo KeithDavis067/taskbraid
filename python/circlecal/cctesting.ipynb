{
 "cells": [
  {
   "cell_type": "code",
   "execution_count": 1,
   "id": "60d86443-ead0-4b5f-956b-6c834843653b",
   "metadata": {},
   "outputs": [
    {
     "ename": "SyntaxError",
     "evalue": "expected 'except' or 'finally' block (model.py, line 1011)",
     "output_type": "error",
     "traceback": [
      "Traceback \u001b[0;36m(most recent call last)\u001b[0m:\n",
      "\u001b[0m  File \u001b[1;32m~/Library/Caches/pypoetry/virtualenvs/circle-cal-KrYc5OLF-py3.12/lib/python3.12/site-packages/IPython/core/interactiveshell.py:3577\u001b[0m in \u001b[1;35mrun_code\u001b[0m\n    exec(code_obj, self.user_global_ns, self.user_ns)\u001b[0m\n",
      "\u001b[0m  Cell \u001b[1;32mIn[1], line 4\u001b[0m\n    import circle_cal as cc\u001b[0m\n",
      "\u001b[0;36m  File \u001b[0;32m~/Documents/PythonProjects/taskbraid/python/circlecal/circle_cal/__init__.py:1\u001b[0;36m\n\u001b[0;31m    from .model import TimeDigit\u001b[0;36m\n",
      "\u001b[0;36m  File \u001b[0;32m~/Documents/PythonProjects/taskbraid/python/circlecal/circle_cal/model.py:1011\u001b[0;36m\u001b[0m\n\u001b[0;31m    def __getattr__(self, name):\u001b[0m\n\u001b[0m    ^\u001b[0m\n\u001b[0;31mSyntaxError\u001b[0m\u001b[0;31m:\u001b[0m expected 'except' or 'finally' block\n"
     ]
    }
   ],
   "source": [
    "from datetime import datetime, date, timedelta, time\n",
    "from dateutil import utils, parser\n",
    "from dateutil.relativedelta import relativedelta\n",
    "import circle_cal as cc\n",
    "import circle_cal.model as model\n",
    "from circle_cal.model import TimeDigit, CalendarElement, TimeRegister\n",
    "from calendar import monthrange, month_name\n",
    "from rich import print"
   ]
  },
  {
   "cell_type": "code",
   "execution_count": 2,
   "id": "b97df45c-4229-4349-9fe4-dde54e67ae4a",
   "metadata": {},
   "outputs": [],
   "source": [
    "c = CalendarElement()"
   ]
  },
  {
   "cell_type": "code",
   "execution_count": 3,
   "id": "8b385752-78b6-4ffc-b085-c1aef8990a30",
   "metadata": {},
   "outputs": [],
   "source": [
    "c.minute=10"
   ]
  },
  {
   "cell_type": "code",
   "execution_count": 4,
   "id": "7dd02f6e-3c42-439a-84f4-215cfcdc3775",
   "metadata": {},
   "outputs": [
    {
     "data": {
      "text/plain": [
       "{'year': 1, 'month': 1, 'day': 1, 'hour': 0, 'minute': 10, 'type': 'CalendarElement'}"
      ]
     },
     "execution_count": 4,
     "metadata": {},
     "output_type": "execute_result"
    }
   ],
   "source": [
    "c"
   ]
  },
  {
   "cell_type": "code",
   "execution_count": 5,
   "id": "4bbad7dd-9f2e-488d-b8d0-287210d96f7a",
   "metadata": {},
   "outputs": [],
   "source": [
    "c.month =None"
   ]
  },
  {
   "cell_type": "code",
   "execution_count": 6,
   "id": "c921f6b0-8d67-47f4-b0bc-f694a0df99f8",
   "metadata": {},
   "outputs": [
    {
     "data": {
      "text/plain": [
       "{'year': 1, 'type': 'CalendarElement'}"
      ]
     },
     "execution_count": 6,
     "metadata": {},
     "output_type": "execute_result"
    }
   ],
   "source": [
    "c"
   ]
  },
  {
   "cell_type": "code",
   "execution_count": null,
   "id": "0cdc6910-187f-4c26-99ff-d7183a313343",
   "metadata": {},
   "outputs": [],
   "source": []
  }
 ],
 "metadata": {
  "kernelspec": {
   "display_name": "Python 3 (ipykernel)",
   "language": "python",
   "name": "python3"
  },
  "language_info": {
   "codemirror_mode": {
    "name": "ipython",
    "version": 3
   },
   "file_extension": ".py",
   "mimetype": "text/x-python",
   "name": "python",
   "nbconvert_exporter": "python",
   "pygments_lexer": "ipython3",
   "version": "3.12.3"
  }
 },
 "nbformat": 4,
 "nbformat_minor": 5
}
