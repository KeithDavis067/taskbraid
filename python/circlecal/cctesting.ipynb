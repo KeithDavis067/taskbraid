{
 "cells": [
  {
   "cell_type": "code",
   "execution_count": 1,
   "id": "60d86443-ead0-4b5f-956b-6c834843653b",
   "metadata": {},
   "outputs": [],
   "source": [
    "from datetime import datetime, date, timedelta, time\n",
    "from dateutil import utils, parser\n",
    "from dateutil.relativedelta import relativedelta\n",
    "from circle_cal import Year_Data\n",
    "import circle_cal as cc\n",
    "import circle_cal.model as model"
   ]
  },
  {
   "cell_type": "code",
   "execution_count": 2,
   "id": "34a6b63c-f5b2-492b-85e5-358a4ca57b00",
   "metadata": {},
   "outputs": [],
   "source": [
    "y2024 = model.CalendarElement(year=2024)"
   ]
  },
  {
   "cell_type": "code",
   "execution_count": 3,
   "id": "b3305e15-4af2-4018-b9a5-d10bba5c879e",
   "metadata": {},
   "outputs": [
    {
     "name": "stdout",
     "output_type": "stream",
     "text": [
      "__iter__ called.\n",
      "month\n",
      "relativedelta(months=+1, year=2024)\n",
      "month\n",
      "relativedelta(months=+2, year=2024)\n",
      "month\n",
      "relativedelta(months=+3, year=2024)\n",
      "month\n",
      "relativedelta(months=+4, year=2024)\n",
      "month\n",
      "relativedelta(months=+5, year=2024)\n",
      "month\n",
      "relativedelta(months=+6, year=2024)\n",
      "month\n",
      "relativedelta(months=+7, year=2024)\n",
      "month\n",
      "relativedelta(months=+8, year=2024)\n",
      "month\n",
      "relativedelta(months=+9, year=2024)\n",
      "month\n",
      "relativedelta(months=+10, year=2024)\n",
      "month\n",
      "relativedelta(months=+11, year=2024)\n",
      "month\n",
      "relativedelta(years=+1, year=2024)\n",
      "month\n",
      "relativedelta(years=+1, months=+1, year=2024)\n",
      "month\n",
      "relativedelta(years=+1, months=+2, year=2024)\n",
      "month\n",
      "relativedelta(years=+1, months=+3, year=2024)\n",
      "month\n",
      "relativedelta(years=+1, months=+4, year=2024)\n",
      "Breaking on emergen cy\n"
     ]
    }
   ],
   "source": [
    "for i, ele in enumerate(y2024):\n",
    "    print(ele.relativedelta)\n",
    "    if i > 14:\n",
    "        print(\"Breaking on emergen cy\")\n",
    "        break"
   ]
  },
  {
   "cell_type": "code",
   "execution_count": 5,
   "id": "3b527378-d5c2-4215-9061-f133e05b8f0c",
   "metadata": {},
   "outputs": [
    {
     "name": "stdout",
     "output_type": "stream",
     "text": [
      "__iter__ called.\n"
     ]
    }
   ],
   "source": [
    "iy = iter(y2024)"
   ]
  },
  {
   "cell_type": "code",
   "execution_count": 9,
   "id": "a3ee13d5-8696-4848-be0a-a6a3a25cc407",
   "metadata": {},
   "outputs": [],
   "source": [
    "iy.state = iy.state + relativedelta(months=1)"
   ]
  },
  {
   "cell_type": "code",
   "execution_count": 11,
   "id": "a8efe25d-353b-4939-9d27-bd30fecfc45a",
   "metadata": {},
   "outputs": [
    {
     "data": {
      "text/plain": [
       "relativedelta(months=+1, year=2024)"
      ]
     },
     "execution_count": 11,
     "metadata": {},
     "output_type": "execute_result"
    }
   ],
   "source": [
    "iy.state.normalized()"
   ]
  },
  {
   "cell_type": "code",
   "execution_count": 14,
   "id": "012ad36b-7c3a-4a21-8885-99f617a9e929",
   "metadata": {},
   "outputs": [
    {
     "ename": "AttributeError",
     "evalue": "'NoneType' object has no attribute 'start'",
     "output_type": "error",
     "traceback": [
      "\u001b[0;31m---------------------------------------------------------------------------\u001b[0m",
      "\u001b[0;31mAttributeError\u001b[0m                            Traceback (most recent call last)",
      "Cell \u001b[0;32mIn[14], line 1\u001b[0m\n\u001b[0;32m----> 1\u001b[0m state \u001b[38;5;241m=\u001b[39m datetime(\u001b[38;5;241m*\u001b[39m\u001b[38;5;241m*\u001b[39m\u001b[38;5;28mdict\u001b[39m([(unit, \u001b[43my2024\u001b[49m\u001b[38;5;241;43m.\u001b[39;49m\u001b[43munitranges\u001b[49m\u001b[43m[\u001b[49m\u001b[43munit\u001b[49m\u001b[43m]\u001b[49m\u001b[38;5;241;43m.\u001b[39;49m\u001b[43mstart\u001b[49m) \u001b[38;5;28;01mfor\u001b[39;00m unit \u001b[38;5;129;01min\u001b[39;00m y2024\u001b[38;5;241m.\u001b[39munitranges]))\n",
      "\u001b[0;31mAttributeError\u001b[0m: 'NoneType' object has no attribute 'start'"
     ]
    }
   ],
   "source": []
  },
  {
   "cell_type": "code",
   "execution_count": null,
   "id": "4dd8fa51-3291-4bee-83c1-2e80edd5cb19",
   "metadata": {},
   "outputs": [],
   "source": []
  }
 ],
 "metadata": {
  "kernelspec": {
   "display_name": "Python 3 (ipykernel)",
   "language": "python",
   "name": "python3"
  },
  "language_info": {
   "codemirror_mode": {
    "name": "ipython",
    "version": 3
   },
   "file_extension": ".py",
   "mimetype": "text/x-python",
   "name": "python",
   "nbconvert_exporter": "python",
   "pygments_lexer": "ipython3",
   "version": "3.12.2"
  }
 },
 "nbformat": 4,
 "nbformat_minor": 5
}
