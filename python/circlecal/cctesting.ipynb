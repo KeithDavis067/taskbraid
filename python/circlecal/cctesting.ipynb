{
 "cells": [
  {
   "cell_type": "code",
   "execution_count": 1,
   "id": "60d86443-ead0-4b5f-956b-6c834843653b",
   "metadata": {},
   "outputs": [],
   "source": [
    "from datetime import datetime, date, timedelta, time\n",
    "from dateutil import utils, parser\n",
    "from dateutil.relativedelta import relativedelta\n",
    "import circle_cal as cc\n",
    "import circle_cal.model as model\n",
    "from circle_cal.model import TimeDigit, CalendarElement, TimeRegister\n",
    "from calendar import monthrange, month_name\n",
    "from rich import print"
   ]
  },
  {
   "cell_type": "code",
   "execution_count": 2,
   "id": "80e9d846-65c7-4670-baa2-5d61be3114c5",
   "metadata": {},
   "outputs": [],
   "source": [
    "c = CalendarElement(year=2024, month=2, day=29)"
   ]
  },
  {
   "cell_type": "code",
   "execution_count": 3,
   "id": "54c2f079-0ab4-4fd5-a222-58b8cf126178",
   "metadata": {},
   "outputs": [
    {
     "data": {
      "text/plain": [
       "{'year': 2024, 'month': 2, 'day': 29, 'type': 'CalendarElement'}"
      ]
     },
     "execution_count": 3,
     "metadata": {},
     "output_type": "execute_result"
    }
   ],
   "source": [
    "c"
   ]
  },
  {
   "cell_type": "code",
   "execution_count": 4,
   "id": "cb4d0e10-b868-49d7-9a43-0ac3f5094014",
   "metadata": {},
   "outputs": [
    {
     "data": {
      "text/plain": [
       "{'year': {'type': <class 'circle_cal.model.TimeDigit'>, 'unit': 'year', 'value': 2024, 'subunit': '<circle_cal.model.TimeDigit object at 0x10723c8f0>', 'superunit': '<NoneType object at 0x10364dd00>'},\n",
       " 'month': {'type': <class 'circle_cal.model.TimeDigit'>, 'unit': 'month', 'value': 2, 'subunit': '<circle_cal.model.TimeDigit object at 0x111ab3320>', 'superunit': '<circle_cal.model.TimeDigit object at 0x12422bb60>'},\n",
       " 'day': {'type': <class 'circle_cal.model.TimeDigit'>, 'unit': 'day', 'value': 29, 'subunit': 'hour', 'superunit': '<circle_cal.model.TimeDigit object at 0x10723c8f0>'}}"
      ]
     },
     "execution_count": 4,
     "metadata": {},
     "output_type": "execute_result"
    }
   ],
   "source": [
    "c.digits"
   ]
  },
  {
   "cell_type": "code",
   "execution_count": 5,
   "id": "e23096c4-ac97-4933-9482-cc12d04041f5",
   "metadata": {},
   "outputs": [
    {
     "data": {
      "text/plain": [
       "dict_keys(['year', 'month', 'day'])"
      ]
     },
     "execution_count": 5,
     "metadata": {},
     "output_type": "execute_result"
    }
   ],
   "source": [
    "c.digits.keys()"
   ]
  },
  {
   "cell_type": "code",
   "execution_count": 6,
   "id": "733f744d-a660-47b4-8064-a1939a5f6286",
   "metadata": {},
   "outputs": [
    {
     "ename": "AttributeError",
     "evalue": "'CalendarElement' object has no attribute 'hour'",
     "output_type": "error",
     "traceback": [
      "\u001b[0;31m---------------------------------------------------------------------------\u001b[0m",
      "\u001b[0;31mAttributeError\u001b[0m                            Traceback (most recent call last)",
      "Cell \u001b[0;32mIn[6], line 1\u001b[0m\n\u001b[0;32m----> 1\u001b[0m \u001b[43mc\u001b[49m\u001b[38;5;241;43m.\u001b[39;49m\u001b[43mhour\u001b[49m\n",
      "File \u001b[0;32m~/Documents/PythonProjects/taskbraid/python/circlecal/circle_cal/model.py:442\u001b[0m, in \u001b[0;36m_getunitattr\u001b[0;34m(obj, name)\u001b[0m\n\u001b[1;32m    439\u001b[0m \u001b[38;5;28;01mexcept\u001b[39;00m \u001b[38;5;167;01mKeyError\u001b[39;00m:\n\u001b[1;32m    440\u001b[0m     \u001b[38;5;28;01mpass\u001b[39;00m\n\u001b[0;32m--> 442\u001b[0m \u001b[43mobj\u001b[49m\u001b[38;5;241;43m.\u001b[39;49m\u001b[38;5;21;43m__getattribute__\u001b[39;49m\u001b[43m(\u001b[49m\u001b[43mname\u001b[49m\u001b[43m)\u001b[49m\n",
      "\u001b[0;31mAttributeError\u001b[0m: 'CalendarElement' object has no attribute 'hour'"
     ]
    }
   ],
   "source": [
    "c.hour"
   ]
  },
  {
   "cell_type": "code",
   "execution_count": 7,
   "id": "2138054c-69b6-4a5d-9cc4-bd036ff979e0",
   "metadata": {},
   "outputs": [
    {
     "name": "stdout",
     "output_type": "stream",
     "text": [
      "minute\n"
     ]
    },
    {
     "ename": "ValueError",
     "evalue": "'subunit' attribute on param 'obj'is 29must be unassigned or this instance.",
     "output_type": "error",
     "traceback": [
      "\u001b[0;31m---------------------------------------------------------------------------\u001b[0m",
      "\u001b[0;31mKeyError\u001b[0m                                  Traceback (most recent call last)",
      "File \u001b[0;32m~/Documents/PythonProjects/taskbraid/python/circlecal/circle_cal/model.py:618\u001b[0m, in \u001b[0;36mCalendarElement.set_unit\u001b[0;34m(self, unit, value)\u001b[0m\n\u001b[1;32m    617\u001b[0m \u001b[38;5;28;01mtry\u001b[39;00m:\n\u001b[0;32m--> 618\u001b[0m     \u001b[38;5;28;01mif\u001b[39;00m \u001b[38;5;28;43mself\u001b[39;49m\u001b[38;5;241;43m.\u001b[39;49m\u001b[43mdigits\u001b[49m\u001b[43m[\u001b[49m\u001b[43m_superunit\u001b[49m\u001b[43m(\u001b[49m\u001b[43munit\u001b[49m\u001b[43m)\u001b[49m\u001b[43m]\u001b[49m\u001b[38;5;241m.\u001b[39mvalue \u001b[38;5;129;01mis\u001b[39;00m \u001b[38;5;28;01mNone\u001b[39;00m:\n\u001b[1;32m    619\u001b[0m         \u001b[38;5;28;01mraise\u001b[39;00m \u001b[38;5;167;01mKeyError\u001b[39;00m\n",
      "\u001b[0;31mKeyError\u001b[0m: 'hour'",
      "\nDuring handling of the above exception, another exception occurred:\n",
      "\u001b[0;31mValueError\u001b[0m                                Traceback (most recent call last)",
      "Cell \u001b[0;32mIn[7], line 1\u001b[0m\n\u001b[0;32m----> 1\u001b[0m \u001b[43mc\u001b[49m\u001b[38;5;241;43m.\u001b[39;49m\u001b[43mminute\u001b[49m\u001b[38;5;241m=\u001b[39m\u001b[38;5;241m0\u001b[39m\n",
      "File \u001b[0;32m~/Documents/PythonProjects/taskbraid/python/circlecal/circle_cal/model.py:431\u001b[0m, in \u001b[0;36m_setunitattr\u001b[0;34m(obj, name, value)\u001b[0m\n\u001b[1;32m    429\u001b[0m \u001b[38;5;28;01mdef\u001b[39;00m \u001b[38;5;21m_setunitattr\u001b[39m(obj, name, value):\n\u001b[1;32m    430\u001b[0m     \u001b[38;5;28;01mif\u001b[39;00m name \u001b[38;5;129;01min\u001b[39;00m UNITS:\n\u001b[0;32m--> 431\u001b[0m         \u001b[43mobj\u001b[49m\u001b[38;5;241;43m.\u001b[39;49m\u001b[43mset_unit\u001b[49m\u001b[43m(\u001b[49m\u001b[43mname\u001b[49m\u001b[43m,\u001b[49m\u001b[43m \u001b[49m\u001b[43mvalue\u001b[49m\u001b[43m)\u001b[49m\n\u001b[1;32m    432\u001b[0m     \u001b[38;5;28;01melse\u001b[39;00m:\n\u001b[1;32m    433\u001b[0m         \u001b[38;5;28mobject\u001b[39m\u001b[38;5;241m.\u001b[39m\u001b[38;5;21m__setattr__\u001b[39m(obj, name, value)\n",
      "File \u001b[0;32m~/Documents/PythonProjects/taskbraid/python/circlecal/circle_cal/model.py:625\u001b[0m, in \u001b[0;36mCalendarElement.set_unit\u001b[0;34m(self, unit, value)\u001b[0m\n\u001b[1;32m    623\u001b[0m \u001b[38;5;28;01mfor\u001b[39;00m u \u001b[38;5;129;01min\u001b[39;00m _superunits(unit):\n\u001b[1;32m    624\u001b[0m     \u001b[38;5;28;01mtry\u001b[39;00m:\n\u001b[0;32m--> 625\u001b[0m         \u001b[38;5;28;43mself\u001b[39;49m\u001b[38;5;241;43m.\u001b[39;49m\u001b[43mset_unit\u001b[49m\u001b[43m(\u001b[49m\u001b[43mu\u001b[49m\u001b[43m,\u001b[49m\u001b[43m \u001b[49m\u001b[38;5;28;43mgetattr\u001b[39;49m\u001b[43m(\u001b[49m\u001b[43mdt\u001b[49m\u001b[43m,\u001b[49m\u001b[43m \u001b[49m\u001b[43mu\u001b[49m\u001b[43m)\u001b[49m\u001b[43m)\u001b[49m\n\u001b[1;32m    626\u001b[0m     \u001b[38;5;28;01mexcept\u001b[39;00m \u001b[38;5;167;01mAttributeError\u001b[39;00m:\n\u001b[1;32m    627\u001b[0m         \u001b[38;5;28mself\u001b[39m\u001b[38;5;241m.\u001b[39mset_unit(u, \u001b[38;5;241m0\u001b[39m)\n",
      "File \u001b[0;32m~/Documents/PythonProjects/taskbraid/python/circlecal/circle_cal/model.py:629\u001b[0m, in \u001b[0;36mCalendarElement.set_unit\u001b[0;34m(self, unit, value)\u001b[0m\n\u001b[1;32m    627\u001b[0m                 \u001b[38;5;28mself\u001b[39m\u001b[38;5;241m.\u001b[39mset_unit(u, \u001b[38;5;241m0\u001b[39m)\n\u001b[1;32m    628\u001b[0m     \u001b[38;5;66;03m# If we aren't at \"year\" but have all inbetween units set.\u001b[39;00m\n\u001b[0;32m--> 629\u001b[0m     td \u001b[38;5;241m=\u001b[39m \u001b[43mTimeDigit\u001b[49m\u001b[43m(\u001b[49m\u001b[43munit\u001b[49m\u001b[43m,\u001b[49m\u001b[43m \u001b[49m\u001b[43mvalue\u001b[49m\u001b[38;5;241;43m=\u001b[39;49m\u001b[43mv\u001b[49m\u001b[43m,\u001b[49m\n\u001b[1;32m    630\u001b[0m \u001b[43m                   \u001b[49m\u001b[43msuperunit\u001b[49m\u001b[38;5;241;43m=\u001b[39;49m\u001b[38;5;28;43mself\u001b[39;49m\u001b[38;5;241;43m.\u001b[39;49m\u001b[43mdigits\u001b[49m\u001b[43m[\u001b[49m\u001b[43m_superunit\u001b[49m\u001b[43m(\u001b[49m\u001b[43munit\u001b[49m\u001b[43m)\u001b[49m\u001b[43m]\u001b[49m\u001b[43m)\u001b[49m\n\u001b[1;32m    631\u001b[0m \u001b[38;5;28;01melse\u001b[39;00m:  \u001b[38;5;66;03m# we are at 'year.'\u001b[39;00m\n\u001b[1;32m    632\u001b[0m     td \u001b[38;5;241m=\u001b[39m TimeDigit(unit, value\u001b[38;5;241m=\u001b[39mv)\n",
      "File \u001b[0;32m~/Documents/PythonProjects/taskbraid/python/circlecal/circle_cal/model.py:326\u001b[0m, in \u001b[0;36mTimeDigit.__init__\u001b[0;34m(self, unit, value, superunit, subunit)\u001b[0m\n\u001b[1;32m    324\u001b[0m     \u001b[38;5;28;01mraise\u001b[39;00m \u001b[38;5;167;01mTypeError\u001b[39;00m(\u001b[38;5;124mf\u001b[39m\u001b[38;5;124m\"\u001b[39m\u001b[38;5;132;01m{\u001b[39;00munit\u001b[38;5;132;01m}\u001b[39;00m\u001b[38;5;124m not one of \u001b[39m\u001b[38;5;132;01m{\u001b[39;00mUNITS\u001b[38;5;132;01m}\u001b[39;00m\u001b[38;5;124m.\u001b[39m\u001b[38;5;124m\"\u001b[39m)\n\u001b[1;32m    325\u001b[0m \u001b[38;5;28mself\u001b[39m\u001b[38;5;241m.\u001b[39munit \u001b[38;5;241m=\u001b[39m unit\n\u001b[0;32m--> 326\u001b[0m \u001b[38;5;28;43mself\u001b[39;49m\u001b[38;5;241;43m.\u001b[39;49m\u001b[43msuperunit\u001b[49m \u001b[38;5;241m=\u001b[39m superunit\n\u001b[1;32m    327\u001b[0m \u001b[38;5;28mself\u001b[39m\u001b[38;5;241m.\u001b[39msubunit \u001b[38;5;241m=\u001b[39m subunit\n\u001b[1;32m    328\u001b[0m \u001b[38;5;28mself\u001b[39m\u001b[38;5;241m.\u001b[39munit_range \u001b[38;5;241m=\u001b[39m _unit_range(\u001b[38;5;28mself\u001b[39m)\n",
      "File \u001b[0;32m~/Documents/PythonProjects/taskbraid/python/circlecal/circle_cal/model.py:233\u001b[0m, in \u001b[0;36mTimeDigit.superunit\u001b[0;34m(self, obj)\u001b[0m\n\u001b[1;32m    231\u001b[0m         obj\u001b[38;5;241m.\u001b[39m_subunit \u001b[38;5;241m=\u001b[39m \u001b[38;5;28mself\u001b[39m\n\u001b[1;32m    232\u001b[0m     \u001b[38;5;28;01melif\u001b[39;00m obj\u001b[38;5;241m.\u001b[39msubunit \u001b[38;5;129;01mis\u001b[39;00m \u001b[38;5;129;01mnot\u001b[39;00m \u001b[38;5;28mself\u001b[39m:\n\u001b[0;32m--> 233\u001b[0m         \u001b[38;5;28;01mraise\u001b[39;00m \u001b[38;5;167;01mValueError\u001b[39;00m(\u001b[38;5;124mf\u001b[39m\u001b[38;5;124m\"\u001b[39m\u001b[38;5;124m'\u001b[39m\u001b[38;5;124msubunit\u001b[39m\u001b[38;5;124m'\u001b[39m\u001b[38;5;124m attribute on param \u001b[39m\u001b[38;5;124m'\u001b[39m\u001b[38;5;124mobj\u001b[39m\u001b[38;5;124m'\u001b[39m\u001b[38;5;124m\"\u001b[39m\n\u001b[1;32m    234\u001b[0m                          \u001b[38;5;124mf\u001b[39m\u001b[38;5;124m\"\u001b[39m\u001b[38;5;124mis \u001b[39m\u001b[38;5;132;01m{\u001b[39;00mobj\u001b[38;5;241m.\u001b[39msubunit\u001b[38;5;132;01m}\u001b[39;00m\u001b[38;5;124m\"\u001b[39m\n\u001b[1;32m    235\u001b[0m                          \u001b[38;5;124m\"\u001b[39m\u001b[38;5;124mmust be unassigned or this instance.\u001b[39m\u001b[38;5;124m\"\u001b[39m)\n\u001b[1;32m    236\u001b[0m     \u001b[38;5;28mself\u001b[39m\u001b[38;5;241m.\u001b[39m_superunit \u001b[38;5;241m=\u001b[39m obj\n\u001b[1;32m    237\u001b[0m \u001b[38;5;28;01melse\u001b[39;00m:\n",
      "\u001b[0;31mValueError\u001b[0m: 'subunit' attribute on param 'obj'is 29must be unassigned or this instance."
     ]
    }
   ],
   "source": [
    "c.minute=0"
   ]
  },
  {
   "cell_type": "code",
   "execution_count": 9,
   "id": "d8302ccc-b469-4ecb-b756-51757a36d23f",
   "metadata": {},
   "outputs": [
    {
     "data": {
      "text/plain": [
       "{'type': <class 'circle_cal.model.TimeDigit'>, 'unit': 'minute', 'value': 0, 'subunit': 'second', 'superunit': '<circle_cal.model.TimeDigit object at 0x1246bdbb0>'}"
      ]
     },
     "execution_count": 9,
     "metadata": {},
     "output_type": "execute_result"
    }
   ],
   "source": [
    "TimeDigit(\"minute\", value=0, superunit=c.hour)"
   ]
  },
  {
   "cell_type": "code",
   "execution_count": 10,
   "id": "47425cd0-c27e-4c25-bc15-a49b1f7a6835",
   "metadata": {},
   "outputs": [
    {
     "data": {
      "text/plain": [
       "{'year': 2024, 'month': 1, 'day': 10, 'type': 'CalendarElement'}"
      ]
     },
     "execution_count": 10,
     "metadata": {},
     "output_type": "execute_result"
    }
   ],
   "source": [
    "c"
   ]
  },
  {
   "cell_type": "code",
   "execution_count": 11,
   "id": "3716e5dd-41d8-4a17-a46a-0eb51413cb67",
   "metadata": {},
   "outputs": [
    {
     "data": {
      "text/plain": [
       "dict_keys(['year', 'month', 'day'])"
      ]
     },
     "execution_count": 11,
     "metadata": {},
     "output_type": "execute_result"
    }
   ],
   "source": [
    "c.digits.keys()"
   ]
  },
  {
   "cell_type": "code",
   "execution_count": 12,
   "id": "446f3519-d48a-4c68-a499-e8c7543318c2",
   "metadata": {},
   "outputs": [
    {
     "data": {
      "text/plain": [
       "datetime.datetime(2024, 1, 10, 0, 0)"
      ]
     },
     "execution_count": 12,
     "metadata": {},
     "output_type": "execute_result"
    }
   ],
   "source": [
    "c.datetime()"
   ]
  },
  {
   "cell_type": "code",
   "execution_count": 13,
   "id": "59744038-be63-4358-a4ef-4bd3decde2e3",
   "metadata": {},
   "outputs": [],
   "source": [
    "del c.digits[\"month\"]"
   ]
  },
  {
   "cell_type": "code",
   "execution_count": 14,
   "id": "0afb33d8-941b-4fa2-9b9e-854cfef2686b",
   "metadata": {},
   "outputs": [
    {
     "data": {
      "text/plain": [
       "'year'"
      ]
     },
     "execution_count": 14,
     "metadata": {},
     "output_type": "execute_result"
    }
   ],
   "source": [
    "c.unit"
   ]
  },
  {
   "cell_type": "code",
   "execution_count": 15,
   "id": "65772c3f-287b-4a37-b38e-770b32cdcdcc",
   "metadata": {},
   "outputs": [
    {
     "data": {
      "text/plain": [
       "{'year': 2024, 'day': 10, 'type': 'CalendarElement'}"
      ]
     },
     "execution_count": 15,
     "metadata": {},
     "output_type": "execute_result"
    }
   ],
   "source": [
    "c"
   ]
  },
  {
   "cell_type": "code",
   "execution_count": 16,
   "id": "fc6f5593-cec7-494d-a5a5-58bd26f57c03",
   "metadata": {},
   "outputs": [
    {
     "data": {
      "text/plain": [
       "datetime.datetime(2024, 5, 10, 9, 2, 17, 213001)"
      ]
     },
     "execution_count": 16,
     "metadata": {},
     "output_type": "execute_result"
    }
   ],
   "source": [
    "datetime.today()"
   ]
  },
  {
   "cell_type": "code",
   "execution_count": 17,
   "id": "f87af089-8cb4-4399-804c-ac002537e802",
   "metadata": {},
   "outputs": [
    {
     "ename": "TypeError",
     "evalue": "'datetime.datetime' object is not iterable",
     "output_type": "error",
     "traceback": [
      "\u001b[0;31m---------------------------------------------------------------------------\u001b[0m",
      "\u001b[0;31mTypeError\u001b[0m                                 Traceback (most recent call last)",
      "Cell \u001b[0;32mIn[17], line 1\u001b[0m\n\u001b[0;32m----> 1\u001b[0m \u001b[38;5;28;43mdict\u001b[39;49m\u001b[43m(\u001b[49m\u001b[43mdatetime\u001b[49m\u001b[38;5;241;43m.\u001b[39;49m\u001b[43mtoday\u001b[49m\u001b[43m(\u001b[49m\u001b[43m)\u001b[49m\u001b[43m)\u001b[49m\n",
      "\u001b[0;31mTypeError\u001b[0m: 'datetime.datetime' object is not iterable"
     ]
    }
   ],
   "source": []
  },
  {
   "cell_type": "code",
   "execution_count": null,
   "id": "dc2bc683-55d9-4f8a-9eb6-7efb6ad22c43",
   "metadata": {},
   "outputs": [],
   "source": []
  }
 ],
 "metadata": {
  "kernelspec": {
   "display_name": "Python 3 (ipykernel)",
   "language": "python",
   "name": "python3"
  },
  "language_info": {
   "codemirror_mode": {
    "name": "ipython",
    "version": 3
   },
   "file_extension": ".py",
   "mimetype": "text/x-python",
   "name": "python",
   "nbconvert_exporter": "python",
   "pygments_lexer": "ipython3",
   "version": "3.12.3"
  }
 },
 "nbformat": 4,
 "nbformat_minor": 5
}
