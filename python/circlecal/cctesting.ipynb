{
 "cells": [
  {
   "cell_type": "code",
   "execution_count": 1,
   "id": "60d86443-ead0-4b5f-956b-6c834843653b",
   "metadata": {},
   "outputs": [],
   "source": [
    "from datetime import datetime, date, timedelta, time\n",
    "from dateutil import utils, parser\n",
    "from dateutil.relativedelta import relativedelta\n",
    "import circle_cal as cc\n",
    "import circle_cal.model as model\n",
    "from calendar import monthrange, month_name"
   ]
  },
  {
   "cell_type": "code",
   "execution_count": 2,
   "id": "c60f7c86-cb8d-460b-8194-aa60be7c6f9c",
   "metadata": {},
   "outputs": [],
   "source": [
    "year = model.CalendarElement(year=2024)\n",
    "#days = [d.datetime() for d in year.recursive_iteration(\"day\")]"
   ]
  },
  {
   "cell_type": "code",
   "execution_count": 3,
   "id": "be22b2a8-dd10-4815-b159-ac24f9172dd8",
   "metadata": {},
   "outputs": [
    {
     "data": {
      "text/plain": [
       "{'type': <class 'circle_cal.model.TimeDigit'>, 'unit': 'year', 'value': 2024, 'subunit': 'month', 'superunit': None}"
      ]
     },
     "execution_count": 3,
     "metadata": {},
     "output_type": "execute_result"
    }
   ],
   "source": [
    "year.year"
   ]
  },
  {
   "cell_type": "code",
   "execution_count": 4,
   "id": "02a7b3fd-a6b4-4af0-b31b-a221762be222",
   "metadata": {},
   "outputs": [
    {
     "name": "stdout",
     "output_type": "stream",
     "text": [
      "{'year': 2024, 'month': 1, 'type': 'CalendarElement'}\n",
      "{'year': 2024, 'month': 2, 'type': 'CalendarElement'}\n",
      "{'year': 2024, 'month': 3, 'type': 'CalendarElement'}\n",
      "{'year': 2024, 'month': 4, 'type': 'CalendarElement'}\n",
      "{'year': 2024, 'month': 5, 'type': 'CalendarElement'}\n",
      "{'year': 2024, 'month': 6, 'type': 'CalendarElement'}\n",
      "{'year': 2024, 'month': 7, 'type': 'CalendarElement'}\n",
      "{'year': 2024, 'month': 8, 'type': 'CalendarElement'}\n",
      "{'year': 2024, 'month': 9, 'type': 'CalendarElement'}\n",
      "{'year': 2024, 'month': 10, 'type': 'CalendarElement'}\n",
      "{'year': 2024, 'month': 11, 'type': 'CalendarElement'}\n",
      "{'year': 2024, 'month': 12, 'type': 'CalendarElement'}\n"
     ]
    }
   ],
   "source": [
    "for i, m in enumerate(year):\n",
    "    if i > 20:\n",
    "        break\n",
    "    print(m)"
   ]
  },
  {
   "cell_type": "code",
   "execution_count": 6,
   "id": "1d66eb4b-1e2b-4bf8-a9dd-3d2dd8b3d683",
   "metadata": {},
   "outputs": [
    {
     "ename": "TypeError",
     "evalue": "object of type 'generator' has no len()",
     "output_type": "error",
     "traceback": [
      "\u001b[0;31m---------------------------------------------------------------------------\u001b[0m",
      "\u001b[0;31mTypeError\u001b[0m                                 Traceback (most recent call last)",
      "Cell \u001b[0;32mIn[6], line 1\u001b[0m\n\u001b[0;32m----> 1\u001b[0m \u001b[38;5;28;43mlen\u001b[39;49m\u001b[43m(\u001b[49m\u001b[43myear\u001b[49m\u001b[38;5;241;43m.\u001b[39;49m\u001b[43mrecursive_iteration\u001b[49m\u001b[43m(\u001b[49m\u001b[38;5;124;43m\"\u001b[39;49m\u001b[38;5;124;43mday\u001b[39;49m\u001b[38;5;124;43m\"\u001b[39;49m\u001b[43m)\u001b[49m\u001b[43m)\u001b[49m\n",
      "\u001b[0;31mTypeError\u001b[0m: object of type 'generator' has no len()"
     ]
    }
   ],
   "source": [
    "for d in year.recursive_iteration(\"day\"):\n",
    "    print(f\"{d.year, d.month, {d.day}\""
   ]
  },
  {
   "cell_type": "code",
   "execution_count": 10,
   "id": "3e05ad9b-d220-4d37-a7aa-7494cc9b072c",
   "metadata": {},
   "outputs": [
    {
     "name": "stdout",
     "output_type": "stream",
     "text": [
      "{'year': 2024, 'month': 12, 'day': 1, 'type': 'CalendarElement'}\n",
      "Got Unit day\n",
      "{'year': 2024, 'month': 12, 'day': 1, 'type': 'CalendarElement'}\n",
      "{'year': 2024, 'month': 12, 'day': 2, 'type': 'CalendarElement'}\n",
      "Got Unit day\n",
      "{'year': 2024, 'month': 12, 'day': 2, 'type': 'CalendarElement'}\n",
      "{'year': 2024, 'month': 12, 'day': 3, 'type': 'CalendarElement'}\n",
      "Got Unit day\n",
      "{'year': 2024, 'month': 12, 'day': 3, 'type': 'CalendarElement'}\n",
      "{'year': 2024, 'month': 12, 'day': 4, 'type': 'CalendarElement'}\n",
      "Got Unit day\n",
      "{'year': 2024, 'month': 12, 'day': 4, 'type': 'CalendarElement'}\n",
      "{'year': 2024, 'month': 12, 'day': 5, 'type': 'CalendarElement'}\n",
      "Got Unit day\n",
      "{'year': 2024, 'month': 12, 'day': 5, 'type': 'CalendarElement'}\n",
      "{'year': 2024, 'month': 12, 'day': 6, 'type': 'CalendarElement'}\n",
      "Got Unit day\n",
      "{'year': 2024, 'month': 12, 'day': 6, 'type': 'CalendarElement'}\n",
      "{'year': 2024, 'month': 12, 'day': 7, 'type': 'CalendarElement'}\n",
      "Got Unit day\n",
      "{'year': 2024, 'month': 12, 'day': 7, 'type': 'CalendarElement'}\n",
      "{'year': 2024, 'month': 12, 'day': 8, 'type': 'CalendarElement'}\n",
      "Got Unit day\n",
      "{'year': 2024, 'month': 12, 'day': 8, 'type': 'CalendarElement'}\n",
      "{'year': 2024, 'month': 12, 'day': 9, 'type': 'CalendarElement'}\n",
      "Got Unit day\n",
      "{'year': 2024, 'month': 12, 'day': 9, 'type': 'CalendarElement'}\n",
      "{'year': 2024, 'month': 12, 'day': 10, 'type': 'CalendarElement'}\n",
      "Got Unit day\n",
      "{'year': 2024, 'month': 12, 'day': 10, 'type': 'CalendarElement'}\n",
      "{'year': 2024, 'month': 12, 'day': 11, 'type': 'CalendarElement'}\n",
      "Got Unit day\n",
      "{'year': 2024, 'month': 12, 'day': 11, 'type': 'CalendarElement'}\n",
      "{'year': 2024, 'month': 12, 'day': 12, 'type': 'CalendarElement'}\n",
      "Got Unit day\n",
      "{'year': 2024, 'month': 12, 'day': 12, 'type': 'CalendarElement'}\n",
      "{'year': 2024, 'month': 12, 'day': 13, 'type': 'CalendarElement'}\n",
      "Got Unit day\n",
      "{'year': 2024, 'month': 12, 'day': 13, 'type': 'CalendarElement'}\n",
      "{'year': 2024, 'month': 12, 'day': 14, 'type': 'CalendarElement'}\n",
      "Got Unit day\n",
      "{'year': 2024, 'month': 12, 'day': 14, 'type': 'CalendarElement'}\n",
      "{'year': 2024, 'month': 12, 'day': 15, 'type': 'CalendarElement'}\n",
      "Got Unit day\n",
      "{'year': 2024, 'month': 12, 'day': 15, 'type': 'CalendarElement'}\n",
      "{'year': 2024, 'month': 12, 'day': 16, 'type': 'CalendarElement'}\n",
      "Got Unit day\n",
      "{'year': 2024, 'month': 12, 'day': 16, 'type': 'CalendarElement'}\n",
      "{'year': 2024, 'month': 12, 'day': 17, 'type': 'CalendarElement'}\n",
      "Got Unit day\n",
      "{'year': 2024, 'month': 12, 'day': 17, 'type': 'CalendarElement'}\n",
      "{'year': 2024, 'month': 12, 'day': 18, 'type': 'CalendarElement'}\n",
      "Got Unit day\n",
      "{'year': 2024, 'month': 12, 'day': 18, 'type': 'CalendarElement'}\n",
      "{'year': 2024, 'month': 12, 'day': 19, 'type': 'CalendarElement'}\n",
      "Got Unit day\n",
      "{'year': 2024, 'month': 12, 'day': 19, 'type': 'CalendarElement'}\n",
      "{'year': 2024, 'month': 12, 'day': 20, 'type': 'CalendarElement'}\n",
      "Got Unit day\n",
      "{'year': 2024, 'month': 12, 'day': 20, 'type': 'CalendarElement'}\n",
      "{'year': 2024, 'month': 12, 'day': 21, 'type': 'CalendarElement'}\n",
      "Got Unit day\n",
      "{'year': 2024, 'month': 12, 'day': 21, 'type': 'CalendarElement'}\n",
      "{'year': 2024, 'month': 12, 'day': 22, 'type': 'CalendarElement'}\n",
      "Got Unit day\n",
      "{'year': 2024, 'month': 12, 'day': 22, 'type': 'CalendarElement'}\n",
      "{'year': 2024, 'month': 12, 'day': 23, 'type': 'CalendarElement'}\n",
      "Got Unit day\n",
      "{'year': 2024, 'month': 12, 'day': 23, 'type': 'CalendarElement'}\n",
      "{'year': 2024, 'month': 12, 'day': 24, 'type': 'CalendarElement'}\n",
      "Got Unit day\n",
      "{'year': 2024, 'month': 12, 'day': 24, 'type': 'CalendarElement'}\n",
      "{'year': 2024, 'month': 12, 'day': 25, 'type': 'CalendarElement'}\n",
      "Got Unit day\n",
      "{'year': 2024, 'month': 12, 'day': 25, 'type': 'CalendarElement'}\n",
      "{'year': 2024, 'month': 12, 'day': 26, 'type': 'CalendarElement'}\n",
      "Got Unit day\n",
      "{'year': 2024, 'month': 12, 'day': 26, 'type': 'CalendarElement'}\n",
      "{'year': 2024, 'month': 12, 'day': 27, 'type': 'CalendarElement'}\n",
      "Got Unit day\n",
      "{'year': 2024, 'month': 12, 'day': 27, 'type': 'CalendarElement'}\n",
      "{'year': 2024, 'month': 12, 'day': 28, 'type': 'CalendarElement'}\n",
      "Got Unit day\n",
      "{'year': 2024, 'month': 12, 'day': 28, 'type': 'CalendarElement'}\n",
      "{'year': 2024, 'month': 12, 'day': 29, 'type': 'CalendarElement'}\n",
      "Got Unit day\n",
      "{'year': 2024, 'month': 12, 'day': 29, 'type': 'CalendarElement'}\n",
      "{'year': 2024, 'month': 12, 'day': 30, 'type': 'CalendarElement'}\n",
      "Got Unit day\n",
      "{'year': 2024, 'month': 12, 'day': 30, 'type': 'CalendarElement'}\n",
      "{'year': 2024, 'month': 12, 'day': 31, 'type': 'CalendarElement'}\n",
      "Got Unit day\n",
      "{'year': 2024, 'month': 12, 'day': 31, 'type': 'CalendarElement'}\n"
     ]
    }
   ],
   "source": [
    "for d in m.recursive_iteration(\"day\"):\n",
    "    print(d)"
   ]
  },
  {
   "cell_type": "code",
   "execution_count": null,
   "id": "0b3369b2-06f0-4abc-a578-d419fc3e3f6f",
   "metadata": {},
   "outputs": [],
   "source": []
  }
 ],
 "metadata": {
  "kernelspec": {
   "display_name": "Python 3 (ipykernel)",
   "language": "python",
   "name": "python3"
  },
  "language_info": {
   "codemirror_mode": {
    "name": "ipython",
    "version": 3
   },
   "file_extension": ".py",
   "mimetype": "text/x-python",
   "name": "python",
   "nbconvert_exporter": "python",
   "pygments_lexer": "ipython3",
   "version": "3.12.2"
  }
 },
 "nbformat": 4,
 "nbformat_minor": 5
}
