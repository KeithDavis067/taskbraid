{
 "cells": [
  {
   "cell_type": "code",
   "execution_count": 1,
   "id": "60d86443-ead0-4b5f-956b-6c834843653b",
   "metadata": {},
   "outputs": [],
   "source": [
    "from datetime import datetime, date, timedelta, time\n",
    "from dateutil import utils, parser\n",
    "from dateutil.relativedelta import relativedelta\n",
    "import circle_cal as cc\n",
    "import circle_cal.model as model\n",
    "from calendar import monthrange, month_name"
   ]
  },
  {
   "cell_type": "code",
   "execution_count": 2,
   "id": "c60f7c86-cb8d-460b-8194-aa60be7c6f9c",
   "metadata": {},
   "outputs": [],
   "source": [
    "year = model.CalendarElement(year=2024)\n",
    "days = [d.datetime() for d in year.recursive_iteration(\"day\")]"
   ]
  },
  {
   "cell_type": "code",
   "execution_count": 3,
   "id": "84c35485-2a78-4e2e-a17c-0be710c665ad",
   "metadata": {},
   "outputs": [
    {
     "data": {
      "text/plain": [
       "datetime.datetime(2024, 12, 1, 0, 0)"
      ]
     },
     "execution_count": 3,
     "metadata": {},
     "output_type": "execute_result"
    }
   ],
   "source": [
    "year.end"
   ]
  },
  {
   "cell_type": "code",
   "execution_count": 4,
   "id": "be22b2a8-dd10-4815-b159-ac24f9172dd8",
   "metadata": {},
   "outputs": [
    {
     "data": {
      "text/plain": [
       "datetime.date(2024, 12, 31)"
      ]
     },
     "execution_count": 4,
     "metadata": {},
     "output_type": "execute_result"
    }
   ],
   "source": [
    "date(2024 ,1, 1) + relativedelta(years=1, days=-1)"
   ]
  },
  {
   "cell_type": "code",
   "execution_count": 6,
   "id": "ca12f7f9-6dfc-43d9-9549-ee6ebd68cd74",
   "metadata": {},
   "outputs": [
    {
     "data": {
      "text/plain": [
       "datetime.datetime(2024, 12, 31, 0, 0)"
      ]
     },
     "execution_count": 6,
     "metadata": {},
     "output_type": "execute_result"
    }
   ],
   "source": [
    "year.start + relativedelta(years=1, days=-1)"
   ]
  },
  {
   "cell_type": "code",
   "execution_count": null,
   "id": "02a7b3fd-a6b4-4af0-b31b-a221762be222",
   "metadata": {},
   "outputs": [],
   "source": []
  }
 ],
 "metadata": {
  "kernelspec": {
   "display_name": "Python 3 (ipykernel)",
   "language": "python",
   "name": "python3"
  },
  "language_info": {
   "codemirror_mode": {
    "name": "ipython",
    "version": 3
   },
   "file_extension": ".py",
   "mimetype": "text/x-python",
   "name": "python",
   "nbconvert_exporter": "python",
   "pygments_lexer": "ipython3",
   "version": "3.12.2"
  }
 },
 "nbformat": 4,
 "nbformat_minor": 5
}
