{
 "cells": [
  {
   "cell_type": "code",
   "execution_count": 1,
   "id": "60d86443-ead0-4b5f-956b-6c834843653b",
   "metadata": {},
   "outputs": [],
   "source": [
    "from datetime import datetime, date, timedelta, time\n",
    "from dateutil import utils, parser\n",
    "from dateutil.relativedelta import relativedelta\n",
    "import circle_cal as cc\n",
    "import circle_cal.model as model\n",
    "from calendar import monthrange, month_name"
   ]
  },
  {
   "cell_type": "code",
   "execution_count": 2,
   "id": "c60f7c86-cb8d-460b-8194-aa60be7c6f9c",
   "metadata": {},
   "outputs": [
    {
     "data": {
      "text/plain": [
       "{'year': 2024, 'type': 'CalendarElement'}"
      ]
     },
     "execution_count": 2,
     "metadata": {},
     "output_type": "execute_result"
    }
   ],
   "source": [
    "year = model.CalendarElement(year=2024)\n",
    "year.start"
   ]
  },
  {
   "cell_type": "code",
   "execution_count": 3,
   "id": "463dc5e0-416c-4e8b-b3b2-f49d31af17d6",
   "metadata": {},
   "outputs": [],
   "source": [
    "year.subunit"
   ]
  },
  {
   "cell_type": "code",
   "execution_count": 5,
   "id": "e5c6dedb-ad32-4005-aaff-352b855e46e7",
   "metadata": {},
   "outputs": [
    {
     "data": {
      "text/plain": [
       "{'year': 2024, 'type': 'CalendarElement'}"
      ]
     },
     "execution_count": 5,
     "metadata": {},
     "output_type": "execute_result"
    }
   ],
   "source": [
    "year._set_all_to_start()"
   ]
  },
  {
   "cell_type": "code",
   "execution_count": 6,
   "id": "65ca930b-0865-480b-848e-96bcdda64f20",
   "metadata": {},
   "outputs": [
    {
     "data": {
      "text/plain": [
       "{'year': 2024, 'type': 'CalendarElement'}"
      ]
     },
     "execution_count": 6,
     "metadata": {},
     "output_type": "execute_result"
    }
   ],
   "source": [
    "year"
   ]
  },
  {
   "cell_type": "code",
   "execution_count": 7,
   "id": "c58ce183-b2a3-4a4c-a5f0-c63029aca0f5",
   "metadata": {},
   "outputs": [
    {
     "data": {
      "text/plain": [
       "'microsecond'"
      ]
     },
     "execution_count": 7,
     "metadata": {},
     "output_type": "execute_result"
    }
   ],
   "source": [
    "year.unit"
   ]
  },
  {
   "cell_type": "code",
   "execution_count": 8,
   "id": "500197ac-c735-4d63-9ada-8ead2c0dd34c",
   "metadata": {},
   "outputs": [
    {
     "data": {
      "text/plain": [
       "{'year': 2024, 'month': 1, 'day': 1, 'hour': 0, 'minute': 0, 'second': 0, 'type': 'CalendarElement'}"
      ]
     },
     "execution_count": 8,
     "metadata": {},
     "output_type": "execute_result"
    }
   ],
   "source": [
    "year"
   ]
  },
  {
   "cell_type": "code",
   "execution_count": 10,
   "id": "9b213ff8-1bbf-4717-bbec-bf9e31ce30d1",
   "metadata": {},
   "outputs": [],
   "source": [
    "Feb29_8_00 = model.CalendarElement(year=2024, day=29, month=2, hour=8,minute=0)"
   ]
  },
  {
   "cell_type": "code",
   "execution_count": 11,
   "id": "bee440ac-9e1a-4f01-9616-e1974ebf15b8",
   "metadata": {},
   "outputs": [
    {
     "data": {
      "text/plain": [
       "{'year': 2024, 'month': 2, 'day': 29, 'hour': 8, 'minute': 0, 'type': 'CalendarElement'}"
      ]
     },
     "execution_count": 11,
     "metadata": {},
     "output_type": "execute_result"
    }
   ],
   "source": [
    "Feb29_8_00"
   ]
  },
  {
   "cell_type": "code",
   "execution_count": 12,
   "id": "11cb3ba0-45b5-4d29-8e3d-c1d7282cde90",
   "metadata": {},
   "outputs": [
    {
     "data": {
      "text/plain": [
       "'minute'"
      ]
     },
     "execution_count": 12,
     "metadata": {},
     "output_type": "execute_result"
    }
   ],
   "source": [
    "Feb29_8_00.unit"
   ]
  },
  {
   "cell_type": "code",
   "execution_count": 13,
   "id": "f1f44909-ea04-467a-a26b-74221b962518",
   "metadata": {},
   "outputs": [
    {
     "data": {
      "text/plain": [
       "'minute'"
      ]
     },
     "execution_count": 13,
     "metadata": {},
     "output_type": "execute_result"
    }
   ],
   "source": [
    "Feb29_8_00.unit"
   ]
  },
  {
   "cell_type": "code",
   "execution_count": 14,
   "id": "3dba91c4-d8d3-414e-a39f-c516121cbe1d",
   "metadata": {},
   "outputs": [],
   "source": [
    "Feb29_8_00.set_digit_by_unit(\"second\", 0)"
   ]
  },
  {
   "cell_type": "code",
   "execution_count": 15,
   "id": "a783c318-786a-437a-8cf4-89eb88f35b41",
   "metadata": {},
   "outputs": [
    {
     "data": {
      "text/plain": [
       "'microsecond'"
      ]
     },
     "execution_count": 15,
     "metadata": {},
     "output_type": "execute_result"
    }
   ],
   "source": [
    "Feb29_8_00.unit"
   ]
  },
  {
   "cell_type": "code",
   "execution_count": 22,
   "id": "13d8f4f6-d143-471e-86cc-c13a3b0b1c52",
   "metadata": {},
   "outputs": [
    {
     "ename": "TypeError",
     "evalue": "microsecond has no members.",
     "output_type": "error",
     "traceback": [
      "\u001b[0;31m---------------------------------------------------------------------------\u001b[0m",
      "\u001b[0;31mTypeError\u001b[0m                                 Traceback (most recent call last)",
      "Cell \u001b[0;32mIn[22], line 1\u001b[0m\n\u001b[0;32m----> 1\u001b[0m \u001b[38;5;28;43;01mfor\u001b[39;49;00m\u001b[43m \u001b[49m\u001b[43mi\u001b[49m\u001b[43m \u001b[49m\u001b[38;5;129;43;01min\u001b[39;49;00m\u001b[43m \u001b[49m\u001b[43mFeb29_8_00\u001b[49m\u001b[43m:\u001b[49m\n\u001b[1;32m      2\u001b[0m \u001b[43m    \u001b[49m\u001b[38;5;28;43mprint\u001b[39;49m\u001b[43m(\u001b[49m\u001b[43mi\u001b[49m\u001b[43m)\u001b[49m\n",
      "File \u001b[0;32m~/Documents/PythonProjects/taskbraid/python/circlecal/circle_cal/model.py:435\u001b[0m, in \u001b[0;36mCalendarElement.__getitem__\u001b[0;34m(self, i)\u001b[0m\n\u001b[1;32m    433\u001b[0m \u001b[38;5;28;01mdef\u001b[39;00m \u001b[38;5;21m__getitem__\u001b[39m(\u001b[38;5;28mself\u001b[39m, i):\n\u001b[1;32m    434\u001b[0m     \u001b[38;5;28;01mif\u001b[39;00m \u001b[38;5;28mself\u001b[39m\u001b[38;5;241m.\u001b[39msubunit \u001b[38;5;129;01mis\u001b[39;00m \u001b[38;5;28;01mNone\u001b[39;00m:\n\u001b[0;32m--> 435\u001b[0m         \u001b[38;5;28;01mraise\u001b[39;00m \u001b[38;5;167;01mTypeError\u001b[39;00m(\u001b[38;5;124mf\u001b[39m\u001b[38;5;124m\"\u001b[39m\u001b[38;5;132;01m{\u001b[39;00m\u001b[38;5;28mself\u001b[39m\u001b[38;5;241m.\u001b[39munit\u001b[38;5;132;01m}\u001b[39;00m\u001b[38;5;124m has no members.\u001b[39m\u001b[38;5;124m\"\u001b[39m)\n\u001b[1;32m    437\u001b[0m     \u001b[38;5;66;03m# This lets us get the start range for the unit.\u001b[39;00m\n\u001b[1;32m    438\u001b[0m     new \u001b[38;5;241m=\u001b[39m \u001b[38;5;28mself\u001b[39m\u001b[38;5;241m.\u001b[39mgen_sub_element()\n",
      "\u001b[0;31mTypeError\u001b[0m: microsecond has no members."
     ]
    }
   ],
   "source": [
    "for i in Feb29_8_00:\n",
    "    print(i)"
   ]
  },
  {
   "cell_type": "code",
   "execution_count": 17,
   "id": "2cbf1bb6-3249-4ce2-b021-e9b10c731644",
   "metadata": {},
   "outputs": [],
   "source": [
    "del Feb29_8_00.microsecond"
   ]
  },
  {
   "cell_type": "code",
   "execution_count": 18,
   "id": "87da2a8a-dd9f-4910-8050-280f36bc1877",
   "metadata": {},
   "outputs": [
    {
     "data": {
      "text/plain": [
       "{'type': <class 'circle_cal.model.TimeDigit'>, 'unit': 'microsecond', 'value': None, 'subunit': None, 'superunit': {'type': <class 'circle_cal.model.TimeDigit'>, 'unit': 'second', 'value': 0, 'subunit': 'microsecond', 'superunit': {'type': <class 'circle_cal.model.TimeDigit'>, 'unit': 'minute', 'value': 0, 'subunit': 'second', 'superunit': {'type': <class 'circle_cal.model.TimeDigit'>, 'unit': 'hour', 'value': 8, 'subunit': 'minute', 'superunit': {'type': <class 'circle_cal.model.TimeDigit'>, 'unit': 'day', 'value': 29, 'subunit': 'hour', 'superunit': {'type': <class 'circle_cal.model.TimeDigit'>, 'unit': 'month', 'value': 2, 'subunit': 'day', 'superunit': {'type': <class 'circle_cal.model.TimeDigit'>, 'unit': 'year', 'value': 2024, 'subunit': 'month', 'superunit': None}}}}}}}"
      ]
     },
     "execution_count": 18,
     "metadata": {},
     "output_type": "execute_result"
    }
   ],
   "source": [
    "Feb29_8_00.microsecond"
   ]
  },
  {
   "cell_type": "code",
   "execution_count": 19,
   "id": "089d0a23-05a6-4767-b355-4659f17b1e4f",
   "metadata": {},
   "outputs": [
    {
     "data": {
      "text/plain": [
       "{'type': <class 'circle_cal.model.TimeDigit'>, 'unit': 'second', 'value': 0, 'subunit': 'microsecond', 'superunit': {'type': <class 'circle_cal.model.TimeDigit'>, 'unit': 'minute', 'value': 0, 'subunit': 'second', 'superunit': {'type': <class 'circle_cal.model.TimeDigit'>, 'unit': 'hour', 'value': 8, 'subunit': 'minute', 'superunit': {'type': <class 'circle_cal.model.TimeDigit'>, 'unit': 'day', 'value': 29, 'subunit': 'hour', 'superunit': {'type': <class 'circle_cal.model.TimeDigit'>, 'unit': 'month', 'value': 2, 'subunit': 'day', 'superunit': {'type': <class 'circle_cal.model.TimeDigit'>, 'unit': 'year', 'value': 2024, 'subunit': 'month', 'superunit': None}}}}}}"
      ]
     },
     "execution_count": 19,
     "metadata": {},
     "output_type": "execute_result"
    }
   ],
   "source": [
    "Feb29_8_00.second"
   ]
  },
  {
   "cell_type": "code",
   "execution_count": 20,
   "id": "950de775-a5a4-441f-b626-5923542a92dd",
   "metadata": {},
   "outputs": [],
   "source": [
    "Feb29_8_00.subunit"
   ]
  },
  {
   "cell_type": "code",
   "execution_count": 21,
   "id": "7fd8ea55-dd31-4180-8e6e-774716785c1f",
   "metadata": {},
   "outputs": [
    {
     "data": {
      "text/plain": [
       "{'type': <class 'circle_cal.model.TimeDigit'>, 'unit': 'microsecond', 'value': None, 'subunit': None, 'superunit': {'type': <class 'circle_cal.model.TimeDigit'>, 'unit': 'second', 'value': 0, 'subunit': 'microsecond', 'superunit': {'type': <class 'circle_cal.model.TimeDigit'>, 'unit': 'minute', 'value': 0, 'subunit': 'second', 'superunit': {'type': <class 'circle_cal.model.TimeDigit'>, 'unit': 'hour', 'value': 8, 'subunit': 'minute', 'superunit': {'type': <class 'circle_cal.model.TimeDigit'>, 'unit': 'day', 'value': 29, 'subunit': 'hour', 'superunit': {'type': <class 'circle_cal.model.TimeDigit'>, 'unit': 'month', 'value': 2, 'subunit': 'day', 'superunit': {'type': <class 'circle_cal.model.TimeDigit'>, 'unit': 'year', 'value': 2024, 'subunit': 'month', 'superunit': None}}}}}}}"
      ]
     },
     "execution_count": 21,
     "metadata": {},
     "output_type": "execute_result"
    }
   ],
   "source": [
    "Feb29_8_00.microsecond"
   ]
  },
  {
   "cell_type": "code",
   "execution_count": 23,
   "id": "c56eda43-493b-438a-b422-a68b698da079",
   "metadata": {},
   "outputs": [
    {
     "data": {
      "text/plain": [
       "'microsecond'"
      ]
     },
     "execution_count": 23,
     "metadata": {},
     "output_type": "execute_result"
    }
   ],
   "source": [
    "Feb29_8_00.unit"
   ]
  },
  {
   "cell_type": "code",
   "execution_count": 24,
   "id": "33a43f1c-9fac-4b83-ac57-5ff5a63d411c",
   "metadata": {},
   "outputs": [
    {
     "data": {
      "text/plain": [
       "{'type': <class 'circle_cal.model.TimeDigit'>, 'unit': 'microsecond', 'value': None, 'subunit': None, 'superunit': {'type': <class 'circle_cal.model.TimeDigit'>, 'unit': 'second', 'value': 0, 'subunit': 'microsecond', 'superunit': {'type': <class 'circle_cal.model.TimeDigit'>, 'unit': 'minute', 'value': 0, 'subunit': 'second', 'superunit': {'type': <class 'circle_cal.model.TimeDigit'>, 'unit': 'hour', 'value': 8, 'subunit': 'minute', 'superunit': {'type': <class 'circle_cal.model.TimeDigit'>, 'unit': 'day', 'value': 29, 'subunit': 'hour', 'superunit': {'type': <class 'circle_cal.model.TimeDigit'>, 'unit': 'month', 'value': 2, 'subunit': 'day', 'superunit': {'type': <class 'circle_cal.model.TimeDigit'>, 'unit': 'year', 'value': 2024, 'subunit': 'month', 'superunit': None}}}}}}}"
      ]
     },
     "execution_count": 24,
     "metadata": {},
     "output_type": "execute_result"
    }
   ],
   "source": [
    "Feb29_8_00.microsecond"
   ]
  },
  {
   "cell_type": "code",
   "execution_count": 25,
   "id": "ff78f0d4-56ec-41db-8c3b-717159f5d2f8",
   "metadata": {},
   "outputs": [],
   "source": [
    "Feb29_8_00.microsecond.value"
   ]
  },
  {
   "cell_type": "code",
   "execution_count": null,
   "id": "4de8c97e-f52a-446f-a920-ffa396bba073",
   "metadata": {},
   "outputs": [],
   "source": []
  }
 ],
 "metadata": {
  "kernelspec": {
   "display_name": "Python 3 (ipykernel)",
   "language": "python",
   "name": "python3"
  },
  "language_info": {
   "codemirror_mode": {
    "name": "ipython",
    "version": 3
   },
   "file_extension": ".py",
   "mimetype": "text/x-python",
   "name": "python",
   "nbconvert_exporter": "python",
   "pygments_lexer": "ipython3",
   "version": "3.12.3"
  }
 },
 "nbformat": 4,
 "nbformat_minor": 5
}
