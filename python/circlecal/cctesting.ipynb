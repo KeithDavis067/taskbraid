{
 "cells": [
  {
   "cell_type": "code",
   "execution_count": 1,
   "id": "60d86443-ead0-4b5f-956b-6c834843653b",
   "metadata": {},
   "outputs": [
    {
     "name": "stdout",
     "output_type": "stream",
     "text": [
      "year\n",
      "month\n",
      "day\n",
      "hour\n",
      "minute\n",
      "second\n",
      "microsecond\n"
     ]
    }
   ],
   "source": [
    "from datetime import datetime, date, timedelta, time\n",
    "from dateutil import utils, parser\n",
    "from dateutil.relativedelta import relativedelta\n",
    "import circle_cal as cc\n",
    "import circle_cal.model as model\n",
    "from calendar import monthrange, month_name"
   ]
  },
  {
   "cell_type": "code",
   "execution_count": 2,
   "id": "c60f7c86-cb8d-460b-8194-aa60be7c6f9c",
   "metadata": {},
   "outputs": [
    {
     "name": "stdout",
     "output_type": "stream",
     "text": [
      "year {'year': 2024}\n"
     ]
    }
   ],
   "source": [
    "year = model.CalendarElement(year=2024)\n",
    "year.year = None"
   ]
  },
  {
   "cell_type": "code",
   "execution_count": 3,
   "id": "05c2f019-4294-4eca-b316-b386daf6a748",
   "metadata": {},
   "outputs": [],
   "source": [
    "setattr(year, \"year\", 2024)"
   ]
  },
  {
   "cell_type": "code",
   "execution_count": 4,
   "id": "ba9609f6-a6e5-4b1e-befd-ca1417f3b819",
   "metadata": {},
   "outputs": [
    {
     "data": {
      "text/plain": [
       "{'type': <class 'circle_cal.model.TimeDigit'>, 'unit': 'microsecond', 'value': 2024, 'subunit': None, 'superunit': 'second'}"
      ]
     },
     "execution_count": 4,
     "metadata": {},
     "output_type": "execute_result"
    }
   ],
   "source": [
    "year.year"
   ]
  },
  {
   "cell_type": "code",
   "execution_count": 7,
   "id": "033e93e0-e977-4f93-a7e4-ca65f39c669d",
   "metadata": {},
   "outputs": [
    {
     "data": {
      "text/plain": [
       "{'type': <class 'circle_cal.model.TimeDigit'>, 'unit': 'microsecond', 'value': 2024, 'subunit': None, 'superunit': 'second'}"
      ]
     },
     "execution_count": 7,
     "metadata": {},
     "output_type": "execute_result"
    }
   ],
   "source": [
    "getattr(year, \"month\")"
   ]
  },
  {
   "cell_type": "code",
   "execution_count": 25,
   "id": "425347ce-9ee4-4d71-aeb3-a3d3b9dba32c",
   "metadata": {},
   "outputs": [
    {
     "data": {
      "text/plain": [
       "circle_cal.model.CalendarElement"
      ]
     },
     "execution_count": 25,
     "metadata": {},
     "output_type": "execute_result"
    }
   ],
   "source": [
    "type(ecl.subunit)"
   ]
  },
  {
   "cell_type": "code",
   "execution_count": 7,
   "id": "d696bd6a-9407-4c36-8663-4d0d54401077",
   "metadata": {},
   "outputs": [
    {
     "data": {
      "text/plain": [
       "<method-wrapper '__getattribute__' of CalendarElement object at 0x104829370>"
      ]
     },
     "execution_count": 7,
     "metadata": {},
     "output_type": "execute_result"
    }
   ],
   "source": [
    "year.__getattribute__"
   ]
  },
  {
   "cell_type": "code",
   "execution_count": 28,
   "id": "3475005f-2460-464f-ad66-ee1343da811a",
   "metadata": {},
   "outputs": [],
   "source": [
    "for h in iter(ecl):\n",
    "    print(h)"
   ]
  },
  {
   "cell_type": "code",
   "execution_count": 30,
   "id": "4c2fd75a-edb0-495b-8ffb-957b9416275b",
   "metadata": {},
   "outputs": [
    {
     "data": {
      "text/plain": [
       "False"
      ]
     },
     "execution_count": 30,
     "metadata": {},
     "output_type": "execute_result"
    }
   ],
   "source": [
    "8 in h"
   ]
  },
  {
   "cell_type": "code",
   "execution_count": 5,
   "id": "e2551aae-508d-4c1a-a0ea-d755d1ecfbae",
   "metadata": {},
   "outputs": [],
   "source": [
    "l = list(range(10))"
   ]
  },
  {
   "cell_type": "code",
   "execution_count": 6,
   "id": "1c8db8ec-c80c-4a27-9713-7be6b840fdc8",
   "metadata": {},
   "outputs": [
    {
     "data": {
      "text/plain": [
       "[0, 1, 2, 3, 4, 5, 6, 7, 8, 9]"
      ]
     },
     "execution_count": 6,
     "metadata": {},
     "output_type": "execute_result"
    }
   ],
   "source": [
    "l"
   ]
  },
  {
   "cell_type": "code",
   "execution_count": 7,
   "id": "9883b4d8-dd57-4882-8811-9f1679e920a9",
   "metadata": {},
   "outputs": [],
   "source": [
    "l.sort(reverse=True)"
   ]
  },
  {
   "cell_type": "code",
   "execution_count": 8,
   "id": "0017cece-829b-46d2-a2eb-f4e1d8dc5e9a",
   "metadata": {},
   "outputs": [
    {
     "data": {
      "text/plain": [
       "[9, 8, 7, 6, 5, 4, 3, 2, 1, 0]"
      ]
     },
     "execution_count": 8,
     "metadata": {},
     "output_type": "execute_result"
    }
   ],
   "source": [
    "setattr"
   ]
  },
  {
   "cell_type": "code",
   "execution_count": null,
   "id": "df606df5-4906-4971-8a79-e0d7c064574a",
   "metadata": {},
   "outputs": [],
   "source": []
  }
 ],
 "metadata": {
  "kernelspec": {
   "display_name": "Python 3 (ipykernel)",
   "language": "python",
   "name": "python3"
  },
  "language_info": {
   "codemirror_mode": {
    "name": "ipython",
    "version": 3
   },
   "file_extension": ".py",
   "mimetype": "text/x-python",
   "name": "python",
   "nbconvert_exporter": "python",
   "pygments_lexer": "ipython3",
   "version": "3.12.2"
  }
 },
 "nbformat": 4,
 "nbformat_minor": 5
}
