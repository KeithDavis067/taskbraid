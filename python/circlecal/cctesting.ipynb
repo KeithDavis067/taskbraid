{
 "cells": [
  {
   "cell_type": "code",
   "execution_count": 1,
   "id": "60d86443-ead0-4b5f-956b-6c834843653b",
   "metadata": {},
   "outputs": [],
   "source": [
    "from datetime import datetime, date, timedelta, time\n",
    "from dateutil import utils, parser\n",
    "from dateutil.relativedelta import relativedelta\n",
    "import circle_cal as cc\n",
    "import circle_cal.model as model\n",
    "from calendar import monthrange, month_name"
   ]
  },
  {
   "cell_type": "code",
   "execution_count": 2,
   "id": "c60f7c86-cb8d-460b-8194-aa60be7c6f9c",
   "metadata": {},
   "outputs": [
    {
     "name": "stdout",
     "output_type": "stream",
     "text": [
      "{'unit': 'year', 'value': 2024, 'subunit': None, 'superunit': None}\n",
      "{'unit': None, 'value': None, 'subunit': None, 'superunit': None}\n"
     ]
    }
   ],
   "source": [
    "year = model.CalendarElement(unit=\"year\", year=2024)"
   ]
  },
  {
   "cell_type": "code",
   "execution_count": 3,
   "id": "05c2f019-4294-4eca-b316-b386daf6a748",
   "metadata": {},
   "outputs": [
    {
     "ename": "TypeError",
     "evalue": "CalendarElement.__init__() takes 1 positional argument but 3 were given",
     "output_type": "error",
     "traceback": [
      "\u001b[0;31m---------------------------------------------------------------------------\u001b[0m",
      "\u001b[0;31mTypeError\u001b[0m                                 Traceback (most recent call last)",
      "Cell \u001b[0;32mIn[3], line 1\u001b[0m\n\u001b[0;32m----> 1\u001b[0m \u001b[38;5;28;01mfor\u001b[39;00m m \u001b[38;5;129;01min\u001b[39;00m \u001b[43mmodel\u001b[49m\u001b[38;5;241;43m.\u001b[39;49m\u001b[43mCalendarElement\u001b[49m\u001b[43m(\u001b[49m\u001b[38;5;124;43m\"\u001b[39;49m\u001b[38;5;124;43myear\u001b[39;49m\u001b[38;5;124;43m\"\u001b[39;49m\u001b[43m,\u001b[49m\u001b[43m \u001b[49m\u001b[38;5;241;43m2024\u001b[39;49m\u001b[43m)\u001b[49m:\n\u001b[1;32m      2\u001b[0m     \u001b[38;5;28mprint\u001b[39m(month_name[m\u001b[38;5;241m.\u001b[39mvalue])\n",
      "\u001b[0;31mTypeError\u001b[0m: CalendarElement.__init__() takes 1 positional argument but 3 were given"
     ]
    }
   ],
   "source": [
    "for m in model.CalendarElement(\"year\", 2024):\n",
    "    print(month_name[m.value])"
   ]
  },
  {
   "cell_type": "code",
   "execution_count": 4,
   "id": "8151d31d-abfd-4ae8-a47c-b6444198ff95",
   "metadata": {},
   "outputs": [
    {
     "data": {
      "text/plain": [
       "12"
      ]
     },
     "execution_count": 4,
     "metadata": {},
     "output_type": "execute_result"
    }
   ],
   "source": [
    "len(model.CalendarElement(\"year\", 2024))"
   ]
  },
  {
   "cell_type": "code",
   "execution_count": 4,
   "id": "7d8a2617-6448-4caa-9c09-dd425bb43564",
   "metadata": {},
   "outputs": [
    {
     "data": {
      "text/plain": [
       "{'year': range(1, 10000),\n",
       " 'month': range(1, 13),\n",
       " 'day': None,\n",
       " 'hour': range(0, 24),\n",
       " 'minute': range(0, 60),\n",
       " 'second': range(0, 60),\n",
       " 'microsecond': range(0, 1000000)}"
      ]
     },
     "execution_count": 4,
     "metadata": {},
     "output_type": "execute_result"
    }
   ],
   "source": [
    "model.RANGES"
   ]
  },
  {
   "cell_type": "code",
   "execution_count": 4,
   "id": "d02bdf5b-350b-4216-b090-b1aeb787a029",
   "metadata": {},
   "outputs": [
    {
     "ename": "AttributeError",
     "evalue": "'NoneType' object has no attribute 'itr'",
     "output_type": "error",
     "traceback": [
      "\u001b[0;31m---------------------------------------------------------------------------\u001b[0m",
      "\u001b[0;31mAttributeError\u001b[0m                            Traceback (most recent call last)",
      "Cell \u001b[0;32mIn[4], line 2\u001b[0m\n\u001b[1;32m      1\u001b[0m n \u001b[38;5;241m=\u001b[39m \u001b[38;5;28;01mNone\u001b[39;00m\n\u001b[0;32m----> 2\u001b[0m \u001b[43mn\u001b[49m\u001b[38;5;241;43m.\u001b[39;49m\u001b[43mitr\u001b[49m\n",
      "\u001b[0;31mAttributeError\u001b[0m: 'NoneType' object has no attribute 'itr'"
     ]
    }
   ],
   "source": [
    "n = None\n",
    "n.itr"
   ]
  },
  {
   "cell_type": "code",
   "execution_count": 7,
   "id": "a7176d97-76e7-4aee-a040-df5a7bffdffd",
   "metadata": {},
   "outputs": [],
   "source": [
    "d = {\"one\": 1}"
   ]
  },
  {
   "cell_type": "code",
   "execution_count": 10,
   "id": "88beb8f4-540c-43ec-b0de-dd30cd255e6a",
   "metadata": {},
   "outputs": [
    {
     "ename": "KeyError",
     "evalue": "'one'",
     "output_type": "error",
     "traceback": [
      "\u001b[0;31m---------------------------------------------------------------------------\u001b[0m",
      "\u001b[0;31mKeyError\u001b[0m                                  Traceback (most recent call last)",
      "Cell \u001b[0;32mIn[10], line 1\u001b[0m\n\u001b[0;32m----> 1\u001b[0m \u001b[43md\u001b[49m\u001b[38;5;241;43m.\u001b[39;49m\u001b[43mpop\u001b[49m\u001b[43m(\u001b[49m\u001b[38;5;124;43m\"\u001b[39;49m\u001b[38;5;124;43mone\u001b[39;49m\u001b[38;5;124;43m\"\u001b[39;49m\u001b[43m)\u001b[49m\n",
      "\u001b[0;31mKeyError\u001b[0m: 'one'"
     ]
    }
   ],
   "source": [
    "d.pop(\"one\")"
   ]
  },
  {
   "cell_type": "code",
   "execution_count": null,
   "id": "ba9609f6-a6e5-4b1e-befd-ca1417f3b819",
   "metadata": {},
   "outputs": [],
   "source": []
  }
 ],
 "metadata": {
  "kernelspec": {
   "display_name": "Python 3 (ipykernel)",
   "language": "python",
   "name": "python3"
  },
  "language_info": {
   "codemirror_mode": {
    "name": "ipython",
    "version": 3
   },
   "file_extension": ".py",
   "mimetype": "text/x-python",
   "name": "python",
   "nbconvert_exporter": "python",
   "pygments_lexer": "ipython3",
   "version": "3.12.2"
  }
 },
 "nbformat": 4,
 "nbformat_minor": 5
}
