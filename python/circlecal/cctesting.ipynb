{
 "cells": [
  {
   "cell_type": "code",
   "execution_count": 1,
   "id": "60d86443-ead0-4b5f-956b-6c834843653b",
   "metadata": {},
   "outputs": [],
   "source": [
    "from datetime import datetime, date, timedelta, time\n",
    "from dateutil import utils, parser\n",
    "from dateutil.relativedelta import relativedelta\n",
    "import circle_cal as cc\n",
    "import circle_cal.model as model\n",
    "from calendar import monthrange, month_name"
   ]
  },
  {
   "cell_type": "code",
   "execution_count": 9,
   "id": "c60f7c86-cb8d-460b-8194-aa60be7c6f9c",
   "metadata": {},
   "outputs": [],
   "source": [
    "year = model.CalendarElement(year=2024)\n",
    "year.start"
   ]
  },
  {
   "cell_type": "code",
   "execution_count": 3,
   "id": "be22b2a8-dd10-4815-b159-ac24f9172dd8",
   "metadata": {},
   "outputs": [],
   "source": [
    "year"
   ]
  },
  {
   "cell_type": "code",
   "execution_count": 4,
   "id": "0b3369b2-06f0-4abc-a578-d419fc3e3f6f",
   "metadata": {},
   "outputs": [],
   "source": [
    "ms.subunit"
   ]
  },
  {
   "cell_type": "code",
   "execution_count": 5,
   "id": "463dc5e0-416c-4e8b-b3b2-f49d31af17d6",
   "metadata": {},
   "outputs": [
    {
     "data": {
      "text/plain": [
       "'month'"
      ]
     },
     "execution_count": 5,
     "metadata": {},
     "output_type": "execute_result"
    }
   ],
   "source": [
    "year.subunit"
   ]
  },
  {
   "cell_type": "code",
   "execution_count": 6,
   "id": "e5c6dedb-ad32-4005-aaff-352b855e46e7",
   "metadata": {},
   "outputs": [],
   "source": [
    "year._set_all_to_start()"
   ]
  },
  {
   "cell_type": "code",
   "execution_count": 7,
   "id": "65ca930b-0865-480b-848e-96bcdda64f20",
   "metadata": {},
   "outputs": [
    {
     "data": {
      "text/plain": [
       "{'year': 2024, 'month': 1, 'day': 1, 'hour': 0, 'minute': 0, 'second': 0, 'type': 'CalendarElement'}"
      ]
     },
     "execution_count": 7,
     "metadata": {},
     "output_type": "execute_result"
    }
   ],
   "source": [
    "year"
   ]
  },
  {
   "cell_type": "code",
   "execution_count": 8,
   "id": "c58ce183-b2a3-4a4c-a5f0-c63029aca0f5",
   "metadata": {},
   "outputs": [
    {
     "data": {
      "text/plain": [
       "'microsecond'"
      ]
     },
     "execution_count": 8,
     "metadata": {},
     "output_type": "execute_result"
    }
   ],
   "source": [
    "year.unit"
   ]
  },
  {
   "cell_type": "code",
   "execution_count": 19,
   "id": "500197ac-c735-4d63-9ada-8ead2c0dd34c",
   "metadata": {},
   "outputs": [
    {
     "data": {
      "text/plain": [
       "'second'"
      ]
     },
     "execution_count": 19,
     "metadata": {},
     "output_type": "execute_result"
    }
   ],
   "source": [
    "year"
   ]
  },
  {
   "cell_type": "code",
   "execution_count": 22,
   "id": "b9c92360-b90a-4a09-83b2-ed6b9a77c97d",
   "metadata": {},
   "outputs": [
    {
     "data": {
      "text/plain": [
       "True"
      ]
     },
     "execution_count": 22,
     "metadata": {},
     "output_type": "execute_result"
    }
   ],
   "source": [
    "getattr(year, \"microsecond\").subunit is None"
   ]
  },
  {
   "cell_type": "code",
   "execution_count": null,
   "id": "9b213ff8-1bbf-4717-bbec-bf9e31ce30d1",
   "metadata": {},
   "outputs": [],
   "source": []
  }
 ],
 "metadata": {
  "kernelspec": {
   "display_name": "Python 3 (ipykernel)",
   "language": "python",
   "name": "python3"
  },
  "language_info": {
   "codemirror_mode": {
    "name": "ipython",
    "version": 3
   },
   "file_extension": ".py",
   "mimetype": "text/x-python",
   "name": "python",
   "nbconvert_exporter": "python",
   "pygments_lexer": "ipython3",
   "version": "3.12.2"
  }
 },
 "nbformat": 4,
 "nbformat_minor": 5
}
