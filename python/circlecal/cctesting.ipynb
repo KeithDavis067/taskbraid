{
 "cells": [
  {
   "cell_type": "code",
   "execution_count": 1,
   "id": "60d86443-ead0-4b5f-956b-6c834843653b",
   "metadata": {},
   "outputs": [],
   "source": [
    "from datetime import datetime, date, timedelta, time\n",
    "from dateutil import utils, parser\n",
    "from dateutil.relativedelta import relativedelta\n",
    "from circle_cal import Year_Data\n",
    "#import circle_cal as cc\n",
    "import circle_cal.model as model"
   ]
  },
  {
   "cell_type": "code",
   "execution_count": 2,
   "id": "34a6b63c-f5b2-492b-85e5-358a4ca57b00",
   "metadata": {},
   "outputs": [],
   "source": [
    "tenth = model.CalendarElement(day=10)"
   ]
  },
  {
   "cell_type": "code",
   "execution_count": 3,
   "id": "bebcec0a-8ee0-4130-8e05-6be6c534d961",
   "metadata": {},
   "outputs": [
    {
     "data": {
      "text/plain": [
       "'day'"
      ]
     },
     "execution_count": 3,
     "metadata": {},
     "output_type": "execute_result"
    }
   ],
   "source": [
    "tenth.unit"
   ]
  },
  {
   "cell_type": "code",
   "execution_count": 4,
   "id": "409c6ff3-9b90-4f9c-b26c-1e62d5fafff1",
   "metadata": {},
   "outputs": [
    {
     "data": {
      "text/plain": [
       "['hour', 'minute', 'second', 'microsecond']"
      ]
     },
     "execution_count": 4,
     "metadata": {},
     "output_type": "execute_result"
    }
   ],
   "source": [
    "tenth.subunits"
   ]
  },
  {
   "cell_type": "code",
   "execution_count": 5,
   "id": "630b659c-29ae-44d0-9e06-74ee4233ab36",
   "metadata": {},
   "outputs": [],
   "source": [
    "i = tenth.iter()"
   ]
  },
  {
   "cell_type": "code",
   "execution_count": 7,
   "id": "e10c1e8a-9540-4ca8-a41e-5b334c45ce06",
   "metadata": {},
   "outputs": [],
   "source": [
    "i = range(1, 10)"
   ]
  },
  {
   "cell_type": "code",
   "execution_count": 8,
   "id": "c425cef6-cb70-41d9-abe4-895c55b079ac",
   "metadata": {},
   "outputs": [
    {
     "data": {
      "text/plain": [
       "9"
      ]
     },
     "execution_count": 8,
     "metadata": {},
     "output_type": "execute_result"
    }
   ],
   "source": [
    "len(i)"
   ]
  },
  {
   "cell_type": "code",
   "execution_count": 9,
   "id": "23e318bc-75d6-4e3f-9f27-48628e10ef93",
   "metadata": {},
   "outputs": [
    {
     "data": {
      "text/plain": [
       "range(1, 10)"
      ]
     },
     "execution_count": 9,
     "metadata": {},
     "output_type": "execute_result"
    }
   ],
   "source": [
    "i"
   ]
  },
  {
   "cell_type": "code",
   "execution_count": null,
   "id": "ca72458a-2d98-4c25-beac-8282a79ef959",
   "metadata": {},
   "outputs": [],
   "source": []
  }
 ],
 "metadata": {
  "kernelspec": {
   "display_name": "Python 3 (ipykernel)",
   "language": "python",
   "name": "python3"
  },
  "language_info": {
   "codemirror_mode": {
    "name": "ipython",
    "version": 3
   },
   "file_extension": ".py",
   "mimetype": "text/x-python",
   "name": "python",
   "nbconvert_exporter": "python",
   "pygments_lexer": "ipython3",
   "version": "3.12.1"
  }
 },
 "nbformat": 4,
 "nbformat_minor": 5
}
