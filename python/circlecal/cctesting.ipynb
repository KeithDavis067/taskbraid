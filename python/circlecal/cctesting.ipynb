{
 "cells": [
  {
   "cell_type": "code",
   "execution_count": 1,
   "id": "60d86443-ead0-4b5f-956b-6c834843653b",
   "metadata": {},
   "outputs": [],
   "source": [
    "from datetime import datetime, date, timedelta, time\n",
    "from dateutil import utils, parser\n",
    "from dateutil.relativedelta import relativedelta\n",
    "import circle_cal as cc\n",
    "import circle_cal.model as model\n",
    "from circle_cal.model import TimeDigit, CalendarElement, TimeRegister\n",
    "from calendar import monthrange, month_name\n",
    "from rich import print"
   ]
  },
  {
   "cell_type": "code",
   "execution_count": 2,
   "id": "80e9d846-65c7-4670-baa2-5d61be3114c5",
   "metadata": {},
   "outputs": [],
   "source": [
    "c = CalendarElement(year=2024, month=2, day=29)"
   ]
  },
  {
   "cell_type": "code",
   "execution_count": 3,
   "id": "54c2f079-0ab4-4fd5-a222-58b8cf126178",
   "metadata": {},
   "outputs": [
    {
     "data": {
      "text/plain": [
       "{'year': 2024, 'month': 2, 'day': 29, 'type': 'CalendarElement'}"
      ]
     },
     "execution_count": 3,
     "metadata": {},
     "output_type": "execute_result"
    }
   ],
   "source": [
    "c"
   ]
  },
  {
   "cell_type": "code",
   "execution_count": 4,
   "id": "cb4d0e10-b868-49d7-9a43-0ac3f5094014",
   "metadata": {},
   "outputs": [
    {
     "data": {
      "text/plain": [
       "'day'"
      ]
     },
     "execution_count": 4,
     "metadata": {},
     "output_type": "execute_result"
    }
   ],
   "source": [
    "c.unit"
   ]
  },
  {
   "cell_type": "code",
   "execution_count": 5,
   "id": "e23096c4-ac97-4933-9482-cc12d04041f5",
   "metadata": {},
   "outputs": [
    {
     "data": {
      "text/plain": [
       "{'year': 2024, 'month': 2, 'day': 29, 'hour': 0, 'type': 'CalendarElement'}"
      ]
     },
     "execution_count": 5,
     "metadata": {},
     "output_type": "execute_result"
    }
   ],
   "source": [
    "c.start"
   ]
  },
  {
   "cell_type": "code",
   "execution_count": 6,
   "id": "c1bcbaab-a002-4dbc-ad8b-18811f6ac4d5",
   "metadata": {},
   "outputs": [
    {
     "data": {
      "text/plain": [
       "{'year': 2024, 'month': 3, 'day': 1, 'type': 'CalendarElement'}"
      ]
     },
     "execution_count": 6,
     "metadata": {},
     "output_type": "execute_result"
    }
   ],
   "source": [
    "c.stop"
   ]
  },
  {
   "cell_type": "code",
   "execution_count": 7,
   "id": "5f4bb7e0-8335-4ec0-9c49-a8ae0721048d",
   "metadata": {},
   "outputs": [
    {
     "data": {
      "text/plain": [
       "False"
      ]
     },
     "execution_count": 7,
     "metadata": {},
     "output_type": "execute_result"
    }
   ],
   "source": [
    "c.start > c.stop"
   ]
  },
  {
   "cell_type": "code",
   "execution_count": 8,
   "id": "733f744d-a660-47b4-8064-a1939a5f6286",
   "metadata": {},
   "outputs": [
    {
     "data": {
      "text/plain": [
       "True"
      ]
     },
     "execution_count": 8,
     "metadata": {},
     "output_type": "execute_result"
    }
   ],
   "source": [
    "c.stop > c.start"
   ]
  },
  {
   "cell_type": "code",
   "execution_count": 9,
   "id": "76f573ea-ea06-493e-b841-f0acf7236be7",
   "metadata": {},
   "outputs": [
    {
     "name": "stdout",
     "output_type": "stream",
     "text": [
      "Contains Called.\n"
     ]
    },
    {
     "data": {
      "text/plain": [
       "False"
      ]
     },
     "execution_count": 9,
     "metadata": {},
     "output_type": "execute_result"
    }
   ],
   "source": [
    "c.stop in c.start"
   ]
  },
  {
   "cell_type": "code",
   "execution_count": 10,
   "id": "2138054c-69b6-4a5d-9cc4-bd036ff979e0",
   "metadata": {},
   "outputs": [
    {
     "name": "stdout",
     "output_type": "stream",
     "text": [
      "Contains Called.\n"
     ]
    },
    {
     "data": {
      "text/plain": [
       "True"
      ]
     },
     "execution_count": 10,
     "metadata": {},
     "output_type": "execute_result"
    }
   ],
   "source": [
    "c.start in c"
   ]
  },
  {
   "cell_type": "code",
   "execution_count": 11,
   "id": "5be39cf7-20b6-48ae-aa59-b91086b88892",
   "metadata": {},
   "outputs": [
    {
     "data": {
      "text/plain": [
       "{'year': 2024, 'month': 2, 'day': 29, 'type': 'CalendarElement'}"
      ]
     },
     "execution_count": 11,
     "metadata": {},
     "output_type": "execute_result"
    }
   ],
   "source": [
    "c"
   ]
  },
  {
   "cell_type": "code",
   "execution_count": 12,
   "id": "3ba14d70-2ab1-469e-9e05-54c5d72cfe7a",
   "metadata": {},
   "outputs": [
    {
     "name": "stdout",
     "output_type": "stream",
     "text": [
      "Contains Called.\n"
     ]
    },
    {
     "data": {
      "text/plain": [
       "False"
      ]
     },
     "execution_count": 12,
     "metadata": {},
     "output_type": "execute_result"
    }
   ],
   "source": [
    "c.stop in c"
   ]
  },
  {
   "cell_type": "code",
   "execution_count": 13,
   "id": "da41a77e-bbad-4166-bbdf-ff84d266e5b2",
   "metadata": {},
   "outputs": [],
   "source": [
    "c = CalendarElement(year=2024)"
   ]
  },
  {
   "cell_type": "code",
   "execution_count": 14,
   "id": "55269196-908e-4441-a3fa-3e5a60eb0aa0",
   "metadata": {},
   "outputs": [
    {
     "data": {
      "text/plain": [
       "False"
      ]
     },
     "execution_count": 14,
     "metadata": {},
     "output_type": "execute_result"
    }
   ],
   "source": [
    "c < datetime.now()"
   ]
  },
  {
   "cell_type": "code",
   "execution_count": 15,
   "id": "0e1e8e23-e415-4daf-a22f-1ddb958f06da",
   "metadata": {},
   "outputs": [
    {
     "data": {
      "text/plain": [
       "False"
      ]
     },
     "execution_count": 15,
     "metadata": {},
     "output_type": "execute_result"
    }
   ],
   "source": [
    "c > datetime.now()"
   ]
  },
  {
   "cell_type": "code",
   "execution_count": 16,
   "id": "202cd222-3f1a-450b-8bbb-7b8b5d51b2f6",
   "metadata": {},
   "outputs": [
    {
     "name": "stdout",
     "output_type": "stream",
     "text": [
      "Contains Called.\n"
     ]
    },
    {
     "data": {
      "text/plain": [
       "True"
      ]
     },
     "execution_count": 16,
     "metadata": {},
     "output_type": "execute_result"
    }
   ],
   "source": [
    "datetime.now() in c"
   ]
  },
  {
   "cell_type": "code",
   "execution_count": 17,
   "id": "e52f1176-4a72-4bbf-aef5-bbe3a7d20074",
   "metadata": {},
   "outputs": [
    {
     "data": {
      "text/plain": [
       "'month'"
      ]
     },
     "execution_count": 17,
     "metadata": {},
     "output_type": "execute_result"
    }
   ],
   "source": [
    "c.subunit"
   ]
  },
  {
   "cell_type": "code",
   "execution_count": 18,
   "id": "395f1808-d318-4171-98c6-a9b3cfe1897f",
   "metadata": {},
   "outputs": [
    {
     "data": {
      "text/plain": [
       "True"
      ]
     },
     "execution_count": 18,
     "metadata": {},
     "output_type": "execute_result"
    }
   ],
   "source": [
    "datetime.now() < c.stop"
   ]
  },
  {
   "cell_type": "code",
   "execution_count": 19,
   "id": "6e5e383f-d4fe-4ee5-abbb-51be44a89cfe",
   "metadata": {},
   "outputs": [
    {
     "data": {
      "text/plain": [
       "False"
      ]
     },
     "execution_count": 19,
     "metadata": {},
     "output_type": "execute_result"
    }
   ],
   "source": [
    "c < datetime.now()"
   ]
  },
  {
   "cell_type": "code",
   "execution_count": 20,
   "id": "0a97663e-a4f1-4db7-bff5-72d696b468c7",
   "metadata": {},
   "outputs": [],
   "source": [
    "t = TimeDigit(\"month\", value=2)"
   ]
  },
  {
   "cell_type": "code",
   "execution_count": 21,
   "id": "27391637-e4f2-45f5-85b3-c150b710a8cd",
   "metadata": {},
   "outputs": [],
   "source": [
    "t2 = TimeDigit(\"month\", value=2)"
   ]
  },
  {
   "cell_type": "code",
   "execution_count": 24,
   "id": "940e6bd8-4bdb-4e23-9b1e-5779ddd90502",
   "metadata": {},
   "outputs": [
    {
     "data": {
      "text/plain": [
       "True"
      ]
     },
     "execution_count": 24,
     "metadata": {},
     "output_type": "execute_result"
    }
   ],
   "source": [
    "t == t2"
   ]
  },
  {
   "cell_type": "code",
   "execution_count": 25,
   "id": "360910ab-dffa-4782-951e-e7ac7a0c8480",
   "metadata": {},
   "outputs": [
    {
     "data": {
      "text/plain": [
       "{'year': 2024, 'type': 'CalendarElement'}"
      ]
     },
     "execution_count": 25,
     "metadata": {},
     "output_type": "execute_result"
    }
   ],
   "source": [
    "c"
   ]
  },
  {
   "cell_type": "code",
   "execution_count": 26,
   "id": "34f7e94e-adb0-4d37-83d4-c3d228333649",
   "metadata": {},
   "outputs": [
    {
     "data": {
      "text/plain": [
       "{'type': <class 'circle_cal.model.TimeDigit'>, 'unit': 'year', 'value': 2024, 'subunit': 'month', 'superunit': '<NoneType object at 0x107b4f1a0>'}"
      ]
     },
     "execution_count": 26,
     "metadata": {},
     "output_type": "execute_result"
    }
   ],
   "source": [
    "c.year"
   ]
  },
  {
   "cell_type": "code",
   "execution_count": 27,
   "id": "dae6ae21-c5bf-40f3-bc2a-bcce3c7b7350",
   "metadata": {},
   "outputs": [
    {
     "data": {
      "text/plain": [
       "circle_cal.model.TimeDigit"
      ]
     },
     "execution_count": 27,
     "metadata": {},
     "output_type": "execute_result"
    }
   ],
   "source": [
    "type(c.year)"
   ]
  },
  {
   "cell_type": "code",
   "execution_count": 28,
   "id": "f54c2456-ec1e-4c45-be2f-937ab93404fe",
   "metadata": {},
   "outputs": [
    {
     "data": {
      "text/plain": [
       "{'year': 2024, 'type': 'CalendarElement'}"
      ]
     },
     "execution_count": 28,
     "metadata": {},
     "output_type": "execute_result"
    }
   ],
   "source": [
    "c"
   ]
  },
  {
   "cell_type": "code",
   "execution_count": 29,
   "id": "85c5c718-7bb0-4b1d-9653-0f4a2eab9e7a",
   "metadata": {},
   "outputs": [
    {
     "data": {
      "text/plain": [
       "False"
      ]
     },
     "execution_count": 29,
     "metadata": {},
     "output_type": "execute_result"
    }
   ],
   "source": [
    "c.start < c"
   ]
  },
  {
   "cell_type": "code",
   "execution_count": 30,
   "id": "e4ea3d75-5e31-444c-a328-7412bcaf2d1d",
   "metadata": {},
   "outputs": [
    {
     "ename": "AttributeError",
     "evalue": "'CalendarElement' object has no attribute 'end'",
     "output_type": "error",
     "traceback": [
      "\u001b[0;31m---------------------------------------------------------------------------\u001b[0m",
      "\u001b[0;31mAttributeError\u001b[0m                            Traceback (most recent call last)",
      "Cell \u001b[0;32mIn[30], line 1\u001b[0m\n\u001b[0;32m----> 1\u001b[0m \u001b[43mc\u001b[49m\u001b[38;5;241;43m.\u001b[39;49m\u001b[43mend\u001b[49m \u001b[38;5;241m>\u001b[39m c\n",
      "File \u001b[0;32m~/Documents/PythonProjects/taskbraid/python/circlecal/circle_cal/model.py:441\u001b[0m, in \u001b[0;36m_getunitattr\u001b[0;34m(obj, name)\u001b[0m\n\u001b[1;32m    438\u001b[0m \u001b[38;5;28;01mexcept\u001b[39;00m \u001b[38;5;167;01mKeyError\u001b[39;00m:\n\u001b[1;32m    439\u001b[0m     \u001b[38;5;28;01mpass\u001b[39;00m\n\u001b[0;32m--> 441\u001b[0m \u001b[43mobj\u001b[49m\u001b[38;5;241;43m.\u001b[39;49m\u001b[38;5;21;43m__getattribute__\u001b[39;49m\u001b[43m(\u001b[49m\u001b[43mname\u001b[49m\u001b[43m)\u001b[49m\n",
      "\u001b[0;31mAttributeError\u001b[0m: 'CalendarElement' object has no attribute 'end'"
     ]
    }
   ],
   "source": [
    "c.end > c"
   ]
  },
  {
   "cell_type": "code",
   "execution_count": null,
   "id": "d8302ccc-b469-4ecb-b756-51757a36d23f",
   "metadata": {},
   "outputs": [],
   "source": []
  }
 ],
 "metadata": {
  "kernelspec": {
   "display_name": "Python 3 (ipykernel)",
   "language": "python",
   "name": "python3"
  },
  "language_info": {
   "codemirror_mode": {
    "name": "ipython",
    "version": 3
   },
   "file_extension": ".py",
   "mimetype": "text/x-python",
   "name": "python",
   "nbconvert_exporter": "python",
   "pygments_lexer": "ipython3",
   "version": "3.12.3"
  }
 },
 "nbformat": 4,
 "nbformat_minor": 5
}
