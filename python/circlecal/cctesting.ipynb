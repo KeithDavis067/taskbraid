{
 "cells": [
  {
   "cell_type": "code",
   "execution_count": 1,
   "id": "60d86443-ead0-4b5f-956b-6c834843653b",
   "metadata": {},
   "outputs": [],
   "source": [
    "from datetime import datetime, date, timedelta, time\n",
    "from dateutil import utils, parser\n",
    "from dateutil.relativedelta import relativedelta\n",
    "import circle_cal as cc\n",
    "import circle_cal.model as model\n",
    "from circle_cal.model import TimeDigit, CalendarElement\n",
    "from calendar import monthrange, month_name\n",
    "from rich import print"
   ]
  },
  {
   "cell_type": "code",
   "execution_count": 2,
   "id": "ba736381-979e-413c-9b56-3894692ac06c",
   "metadata": {},
   "outputs": [],
   "source": [
    "tdy = TimeDigit(\"year\", 2024)\n",
    "tdm = TimeDigit(\"month\", 2)"
   ]
  },
  {
   "cell_type": "code",
   "execution_count": 3,
   "id": "6436b46a-cdbb-456b-9b2c-9a87b11c30a1",
   "metadata": {},
   "outputs": [],
   "source": [
    "tdy.subunit = tdm"
   ]
  },
  {
   "cell_type": "code",
   "execution_count": 4,
   "id": "f16152dc-4c6b-4b01-92af-24875f98e8a0",
   "metadata": {},
   "outputs": [
    {
     "data": {
      "text/plain": [
       "'year'"
      ]
     },
     "execution_count": 4,
     "metadata": {},
     "output_type": "execute_result"
    }
   ],
   "source": [
    "tdy.unit"
   ]
  },
  {
   "cell_type": "code",
   "execution_count": 5,
   "id": "c52a7fd8-0017-4f14-bb40-47c0439e46ff",
   "metadata": {},
   "outputs": [],
   "source": [
    "y24 = CalendarElement(year=2024)"
   ]
  },
  {
   "cell_type": "code",
   "execution_count": 6,
   "id": "402df192-fa36-41e3-aa62-8b1396d07d87",
   "metadata": {},
   "outputs": [
    {
     "data": {
      "text/plain": [
       "{'year': 2024, 'type': 'CalendarElement'}"
      ]
     },
     "execution_count": 6,
     "metadata": {},
     "output_type": "execute_result"
    }
   ],
   "source": [
    "y24"
   ]
  },
  {
   "cell_type": "code",
   "execution_count": 7,
   "id": "f862fd3f-a5be-4216-83f6-53b595143551",
   "metadata": {},
   "outputs": [
    {
     "name": "stdout",
     "output_type": "stream",
     "text": [
      "microsecond\n",
      "second\n",
      "minute\n",
      "hour\n",
      "day\n"
     ]
    },
    {
     "data": {
      "text/plain": [
       "{'year': 2024, 'month': 1, 'day': 1, 'hour': 0, 'minute': 0, 'type': 'CalendarElement'}"
      ]
     },
     "execution_count": 7,
     "metadata": {},
     "output_type": "execute_result"
    }
   ],
   "source": [
    "y24.start"
   ]
  },
  {
   "cell_type": "code",
   "execution_count": 8,
   "id": "ddc96841-aa40-4008-8a72-71556caf11b7",
   "metadata": {},
   "outputs": [
    {
     "data": {
      "text/plain": [
       "{'year': 2024, 'type': 'CalendarElement'}"
      ]
     },
     "execution_count": 8,
     "metadata": {},
     "output_type": "execute_result"
    }
   ],
   "source": [
    "y24"
   ]
  },
  {
   "cell_type": "code",
   "execution_count": 10,
   "id": "24365dec-77df-4395-943f-b6040b8190b7",
   "metadata": {},
   "outputs": [
    {
     "ename": "RecursionError",
     "evalue": "maximum recursion depth exceeded",
     "output_type": "error",
     "traceback": [
      "\u001b[0;31m---------------------------------------------------------------------------\u001b[0m",
      "\u001b[0;31mRecursionError\u001b[0m                            Traceback (most recent call last)",
      "Cell \u001b[0;32mIn[10], line 1\u001b[0m\n\u001b[0;32m----> 1\u001b[0m \u001b[43my24\u001b[49m\u001b[38;5;241;43m.\u001b[39;49m\u001b[43mstop\u001b[49m\n",
      "File \u001b[0;32m~/Documents/PythonProjects/taskbraid/python/circlecal/circle_cal/model.py:623\u001b[0m, in \u001b[0;36mCalendarElement.stop\u001b[0;34m(self)\u001b[0m\n\u001b[1;32m    621\u001b[0m new \u001b[38;5;241m=\u001b[39m \u001b[38;5;28mself\u001b[39m\u001b[38;5;241m.\u001b[39m\u001b[38;5;18m__class__\u001b[39m(\u001b[38;5;241m*\u001b[39m\u001b[38;5;241m*\u001b[39m\u001b[38;5;28mself\u001b[39m\u001b[38;5;241m.\u001b[39mas_dict())\n\u001b[1;32m    622\u001b[0m \u001b[38;5;28;01mfor\u001b[39;00m u \u001b[38;5;129;01min\u001b[39;00m _subunits(\u001b[38;5;28mself\u001b[39m\u001b[38;5;241m.\u001b[39munit):\n\u001b[0;32m--> 623\u001b[0m     \u001b[38;5;28msetattr\u001b[39m(new, u, \u001b[38;5;28mgetattr\u001b[39m(new, \u001b[43mnew\u001b[49m\u001b[38;5;241;43m.\u001b[39;49m\u001b[43msuperunit\u001b[49m)\u001b[38;5;241m.\u001b[39msubunit_range\u001b[38;5;241m.\u001b[39mstop)\n\u001b[1;32m    624\u001b[0m \u001b[38;5;28;01mreturn\u001b[39;00m new\n",
      "File \u001b[0;32m~/Documents/PythonProjects/taskbraid/python/circlecal/circle_cal/model.py:450\u001b[0m, in \u001b[0;36mCalendarElement.superunit\u001b[0;34m(self)\u001b[0m\n\u001b[1;32m    448\u001b[0m \u001b[38;5;241m@\u001b[39m \u001b[38;5;28mproperty\u001b[39m\n\u001b[1;32m    449\u001b[0m \u001b[38;5;28;01mdef\u001b[39;00m \u001b[38;5;21msuperunit\u001b[39m(\u001b[38;5;28mself\u001b[39m):\n\u001b[0;32m--> 450\u001b[0m     \u001b[38;5;28;01mreturn\u001b[39;00m _superunit(\u001b[38;5;28;43mself\u001b[39;49m\u001b[38;5;241;43m.\u001b[39;49m\u001b[43msuperunit\u001b[49m)\n",
      "File \u001b[0;32m~/Documents/PythonProjects/taskbraid/python/circlecal/circle_cal/model.py:450\u001b[0m, in \u001b[0;36mCalendarElement.superunit\u001b[0;34m(self)\u001b[0m\n\u001b[1;32m    448\u001b[0m \u001b[38;5;241m@\u001b[39m \u001b[38;5;28mproperty\u001b[39m\n\u001b[1;32m    449\u001b[0m \u001b[38;5;28;01mdef\u001b[39;00m \u001b[38;5;21msuperunit\u001b[39m(\u001b[38;5;28mself\u001b[39m):\n\u001b[0;32m--> 450\u001b[0m     \u001b[38;5;28;01mreturn\u001b[39;00m _superunit(\u001b[38;5;28;43mself\u001b[39;49m\u001b[38;5;241;43m.\u001b[39;49m\u001b[43msuperunit\u001b[49m)\n",
      "    \u001b[0;31m[... skipping similar frames: CalendarElement.superunit at line 450 (2973 times)]\u001b[0m\n",
      "File \u001b[0;32m~/Documents/PythonProjects/taskbraid/python/circlecal/circle_cal/model.py:450\u001b[0m, in \u001b[0;36mCalendarElement.superunit\u001b[0;34m(self)\u001b[0m\n\u001b[1;32m    448\u001b[0m \u001b[38;5;241m@\u001b[39m \u001b[38;5;28mproperty\u001b[39m\n\u001b[1;32m    449\u001b[0m \u001b[38;5;28;01mdef\u001b[39;00m \u001b[38;5;21msuperunit\u001b[39m(\u001b[38;5;28mself\u001b[39m):\n\u001b[0;32m--> 450\u001b[0m     \u001b[38;5;28;01mreturn\u001b[39;00m _superunit(\u001b[38;5;28;43mself\u001b[39;49m\u001b[38;5;241;43m.\u001b[39;49m\u001b[43msuperunit\u001b[49m)\n",
      "\u001b[0;31mRecursionError\u001b[0m: maximum recursion depth exceeded"
     ]
    }
   ],
   "source": [
    "y24.stop"
   ]
  },
  {
   "cell_type": "code",
   "execution_count": 14,
   "id": "410b00e4-8abe-4365-9343-bf8ca01c4229",
   "metadata": {},
   "outputs": [
    {
     "ename": "StopIteration",
     "evalue": "",
     "output_type": "error",
     "traceback": [
      "\u001b[0;31m---------------------------------------------------------------------------\u001b[0m",
      "\u001b[0;31mStopIteration\u001b[0m                             Traceback (most recent call last)",
      "Cell \u001b[0;32mIn[14], line 1\u001b[0m\n\u001b[0;32m----> 1\u001b[0m \u001b[38;5;28;43mnext\u001b[39;49m\u001b[43m(\u001b[49m\u001b[43my24\u001b[49m\u001b[38;5;241;43m.\u001b[39;49m\u001b[43mdigit\u001b[49m\u001b[43m)\u001b[49m\n",
      "File \u001b[0;32m~/Documents/PythonProjects/taskbraid/python/circlecal/circle_cal/model.py:312\u001b[0m, in \u001b[0;36mTimeDigit.__next__\u001b[0;34m(self)\u001b[0m\n\u001b[1;32m    309\u001b[0m \u001b[38;5;28;01mif\u001b[39;00m \u001b[38;5;129;01mnot\u001b[39;00m \u001b[38;5;28mhasattr\u001b[39m(\u001b[38;5;28mself\u001b[39m, \u001b[38;5;124m\"\u001b[39m\u001b[38;5;124mitr\u001b[39m\u001b[38;5;124m\"\u001b[39m):\n\u001b[1;32m    310\u001b[0m     \u001b[38;5;28mself\u001b[39m\u001b[38;5;241m.\u001b[39mitr \u001b[38;5;241m=\u001b[39m \u001b[38;5;28miter\u001b[39m(\u001b[38;5;28mself\u001b[39m\u001b[38;5;241m.\u001b[39mvalue_range)\n\u001b[0;32m--> 312\u001b[0m \u001b[38;5;28mself\u001b[39m\u001b[38;5;241m.\u001b[39mvalue \u001b[38;5;241m=\u001b[39m \u001b[38;5;28;43mnext\u001b[39;49m\u001b[43m(\u001b[49m\u001b[38;5;28;43mself\u001b[39;49m\u001b[38;5;241;43m.\u001b[39;49m\u001b[43mitr\u001b[49m\u001b[43m)\u001b[49m\n\u001b[1;32m    313\u001b[0m \u001b[38;5;28;01mreturn\u001b[39;00m \u001b[38;5;28mself\u001b[39m\u001b[38;5;241m.\u001b[39mvalue\n",
      "\u001b[0;31mStopIteration\u001b[0m: "
     ]
    }
   ],
   "source": [
    "next(y24.digit)"
   ]
  },
  {
   "cell_type": "code",
   "execution_count": 18,
   "id": "5db2a16e-1040-4182-9f2f-8410f4ecb153",
   "metadata": {},
   "outputs": [
    {
     "data": {
      "text/plain": [
       "range(2024, 2025)"
      ]
     },
     "execution_count": 18,
     "metadata": {},
     "output_type": "execute_result"
    }
   ],
   "source": [
    "y24.digit.value_range"
   ]
  },
  {
   "cell_type": "code",
   "execution_count": null,
   "id": "b53d28c6-3711-42da-b2f1-2051524cafb0",
   "metadata": {},
   "outputs": [],
   "source": []
  },
  {
   "cell_type": "raw",
   "id": "0b74c7ae-692f-4681-a708-949a519d529e",
   "metadata": {},
   "source": []
  },
  {
   "cell_type": "code",
   "execution_count": null,
   "id": "9a727cea-a930-40b8-8d90-a07d50dff001",
   "metadata": {},
   "outputs": [],
   "source": []
  },
  {
   "cell_type": "code",
   "execution_count": 16,
   "id": "7fa0bbc8-3624-4f77-8c22-f38e069558f1",
   "metadata": {},
   "outputs": [
    {
     "data": {
      "text/plain": [
       "{'year': 2024, 'type': 'CalendarElement'}"
      ]
     },
     "execution_count": 16,
     "metadata": {},
     "output_type": "execute_result"
    }
   ],
   "source": [
    "y24"
   ]
  },
  {
   "cell_type": "code",
   "execution_count": 27,
   "id": "6e3c65a2-afd9-4c08-b6d1-bdc223954371",
   "metadata": {},
   "outputs": [
    {
     "name": "stdout",
     "output_type": "stream",
     "text": [
      "Help on built-in function index:\n",
      "\n",
      "index(...) method of builtins.range instance\n",
      "    rangeobject.index(value) -> integer -- return index of value.\n",
      "    Raise ValueError if the value is not present.\n",
      "\n"
     ]
    }
   ],
   "source": [
    "help(r.index)"
   ]
  },
  {
   "cell_type": "code",
   "execution_count": 28,
   "id": "815df606-baf4-4b69-b440-7a1ec8096df5",
   "metadata": {},
   "outputs": [
    {
     "ename": "AttributeError",
     "evalue": "readonly attribute",
     "output_type": "error",
     "traceback": [
      "\u001b[0;31m---------------------------------------------------------------------------\u001b[0m",
      "\u001b[0;31mAttributeError\u001b[0m                            Traceback (most recent call last)",
      "Cell \u001b[0;32mIn[28], line 1\u001b[0m\n\u001b[0;32m----> 1\u001b[0m \u001b[43mr\u001b[49m\u001b[38;5;241;43m.\u001b[39;49m\u001b[43mstart\u001b[49m \u001b[38;5;241m=\u001b[39m \u001b[38;5;241m10\u001b[39m\n",
      "\u001b[0;31mAttributeError\u001b[0m: readonly attribute"
     ]
    }
   ],
   "source": [
    "r.start = 10"
   ]
  },
  {
   "cell_type": "code",
   "execution_count": null,
   "id": "66dc5cab-587b-458f-84cc-0cd61ebaebe4",
   "metadata": {},
   "outputs": [],
   "source": []
  }
 ],
 "metadata": {
  "kernelspec": {
   "display_name": "Python 3 (ipykernel)",
   "language": "python",
   "name": "python3"
  },
  "language_info": {
   "codemirror_mode": {
    "name": "ipython",
    "version": 3
   },
   "file_extension": ".py",
   "mimetype": "text/x-python",
   "name": "python",
   "nbconvert_exporter": "python",
   "pygments_lexer": "ipython3",
   "version": "3.12.3"
  }
 },
 "nbformat": 4,
 "nbformat_minor": 5
}
