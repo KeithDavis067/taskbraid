{
 "cells": [
  {
   "cell_type": "code",
   "execution_count": 1,
   "id": "60d86443-ead0-4b5f-956b-6c834843653b",
   "metadata": {},
   "outputs": [],
   "source": [
    "from datetime import datetime, date, timedelta, time\n",
    "from dateutil import utils, parser\n",
    "from dateutil.relativedelta import relativedelta\n",
    "import circle_cal as cc\n",
    "import circle_cal.model as model\n",
    "from circle_cal.model import TimeDigit, CalendarElement, TimeRegister\n",
    "from calendar import monthrange, month_name\n",
    "from rich import print"
   ]
  },
  {
   "cell_type": "code",
   "execution_count": 2,
   "id": "b97df45c-4229-4349-9fe4-dde54e67ae4a",
   "metadata": {},
   "outputs": [],
   "source": [
    "c = CalendarElement()"
   ]
  },
  {
   "cell_type": "code",
   "execution_count": 3,
   "id": "8b385752-78b6-4ffc-b085-c1aef8990a30",
   "metadata": {},
   "outputs": [],
   "source": [
    "c.minute=10"
   ]
  },
  {
   "cell_type": "code",
   "execution_count": 4,
   "id": "7dd02f6e-3c42-439a-84f4-215cfcdc3775",
   "metadata": {},
   "outputs": [
    {
     "data": {
      "text/plain": [
       "{'year': 1, 'month': 1, 'day': 1, 'hour': 0, 'minute': 10, 'type': 'CalendarElement'}"
      ]
     },
     "execution_count": 4,
     "metadata": {},
     "output_type": "execute_result"
    }
   ],
   "source": [
    "c"
   ]
  },
  {
   "cell_type": "code",
   "execution_count": 5,
   "id": "4bbad7dd-9f2e-488d-b8d0-287210d96f7a",
   "metadata": {},
   "outputs": [],
   "source": [
    "c.month =None"
   ]
  },
  {
   "cell_type": "code",
   "execution_count": 6,
   "id": "c921f6b0-8d67-47f4-b0bc-f694a0df99f8",
   "metadata": {},
   "outputs": [
    {
     "data": {
      "text/plain": [
       "{'year': 1, 'type': 'CalendarElement'}"
      ]
     },
     "execution_count": 6,
     "metadata": {},
     "output_type": "execute_result"
    }
   ],
   "source": [
    "c"
   ]
  },
  {
   "cell_type": "code",
   "execution_count": null,
   "id": "0cdc6910-187f-4c26-99ff-d7183a313343",
   "metadata": {},
   "outputs": [],
   "source": []
  }
 ],
 "metadata": {
  "kernelspec": {
   "display_name": "Python 3 (ipykernel)",
   "language": "python",
   "name": "python3"
  },
  "language_info": {
   "codemirror_mode": {
    "name": "ipython",
    "version": 3
   },
   "file_extension": ".py",
   "mimetype": "text/x-python",
   "name": "python",
   "nbconvert_exporter": "python",
   "pygments_lexer": "ipython3",
   "version": "3.12.3"
  }
 },
 "nbformat": 4,
 "nbformat_minor": 5
}
