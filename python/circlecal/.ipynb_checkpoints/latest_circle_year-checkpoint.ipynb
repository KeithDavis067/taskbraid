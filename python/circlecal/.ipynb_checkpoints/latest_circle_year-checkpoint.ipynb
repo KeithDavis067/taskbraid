{
 "cells": [
  {
   "cell_type": "code",
   "execution_count": 1,
   "id": "58844e03-d44e-4b54-bd67-c0ac6b5a4cfb",
   "metadata": {},
   "outputs": [],
   "source": [
    "from gcsa.event import Event\n",
    "from gcsa.google_calendar import GoogleCalendar\n",
    "from gcsa.recurrence import Recurrence, DAILY, SU, SA\n",
    "\n",
    "import plotly.express as px\n",
    "import plotly.graph_objects as go\n",
    "\n",
    "import pandas as pd\n",
    "\n",
    "from datetime import datetime, timedelta, date\n",
    "import dateutil\n",
    "from dateutil.parser import parse\n",
    "import calendar\n",
    "import numpy as np\n",
    "from circle_cal.model import CalendarElement\n",
    "import circle_cal as cc\n",
    "import circle_cal.model as model"
   ]
  },
  {
   "cell_type": "code",
   "execution_count": 2,
   "id": "faab0ba5-96a2-42de-9264-20f3515f5c03",
   "metadata": {},
   "outputs": [],
   "source": [
    "gcal = GoogleCalendar('keithwdavis@gmail.com',\n",
    "                          credentials_path='/Users/kdavis10/.config/.credentials/pygooglecal.apps.googleusercontent.com.json')\n"
   ]
  },
  {
   "cell_type": "code",
   "execution_count": 5,
   "id": "c52bc63f-c615-4cc3-ba61-0943672d8677",
   "metadata": {},
   "outputs": [
    {
     "ename": "AttributeError",
     "evalue": "'CalendarElement' object has no attribute 'date_as_number'",
     "output_type": "error",
     "traceback": [
      "\u001b[0;31m---------------------------------------------------------------------------\u001b[0m",
      "\u001b[0;31mAttributeError\u001b[0m                            Traceback (most recent call last)",
      "Cell \u001b[0;32mIn[5], line 6\u001b[0m\n\u001b[1;32m      4\u001b[0m months \u001b[38;5;241m=\u001b[39m [date(y\u001b[38;5;241m.\u001b[39myear, i, \u001b[38;5;241m1\u001b[39m) \u001b[38;5;28;01mfor\u001b[39;00m i \u001b[38;5;129;01min\u001b[39;00m \u001b[38;5;28mrange\u001b[39m(\u001b[38;5;241m1\u001b[39m,\u001b[38;5;241m13\u001b[39m)] \u001b[38;5;241m+\u001b[39m [date(y\u001b[38;5;241m.\u001b[39myear\u001b[38;5;241m+\u001b[39m\u001b[38;5;241m1\u001b[39m, \u001b[38;5;241m1\u001b[39m, \u001b[38;5;241m1\u001b[39m)]\n\u001b[1;32m      5\u001b[0m theta, width \u001b[38;5;241m=\u001b[39m cc\u001b[38;5;241m.\u001b[39mevents_to_polar(months, days_to_theta \u001b[38;5;241m=\u001b[39m d_to_degree)\n\u001b[0;32m----> 6\u001b[0m minor_ticks \u001b[38;5;241m=\u001b[39m [d_to_degree \u001b[38;5;241m*\u001b[39m \u001b[43my\u001b[49m\u001b[38;5;241;43m.\u001b[39;49m\u001b[43mdate_as_number\u001b[49m(date(y\u001b[38;5;241m.\u001b[39myear, m, \u001b[38;5;241m1\u001b[39m)) \u001b[38;5;28;01mfor\u001b[39;00m m \u001b[38;5;129;01min\u001b[39;00m \u001b[38;5;28mrange\u001b[39m(\u001b[38;5;241m1\u001b[39m,\u001b[38;5;241m13\u001b[39m)]\n\u001b[1;32m      9\u001b[0m fig \u001b[38;5;241m=\u001b[39m go\u001b[38;5;241m.\u001b[39mFigure()\n\u001b[1;32m     10\u001b[0m fig\u001b[38;5;241m.\u001b[39madd_trace(go\u001b[38;5;241m.\u001b[39mBarpolar(base\u001b[38;5;241m=\u001b[39m[\u001b[38;5;241m.9\u001b[39m] \u001b[38;5;241m*\u001b[39m \u001b[38;5;241m12\u001b[39m, r\u001b[38;5;241m=\u001b[39m[\u001b[38;5;241m.05\u001b[39m] \u001b[38;5;241m*\u001b[39m \u001b[38;5;241m12\u001b[39m,\n\u001b[1;32m     11\u001b[0m                           theta\u001b[38;5;241m=\u001b[39mtheta,\n\u001b[1;32m     12\u001b[0m                           width\u001b[38;5;241m=\u001b[39mwidth,\n\u001b[0;32m   (...)\u001b[0m\n\u001b[1;32m     15\u001b[0m                           )\n\u001b[1;32m     16\u001b[0m               )\n",
      "\u001b[0;31mAttributeError\u001b[0m: 'CalendarElement' object has no attribute 'date_as_number'"
     ]
    }
   ],
   "source": [
    "y=CalendarElement(year=2024)\n",
    "d_to_degree = 360 / len(y.recursive_iter(2))\n",
    "\n",
    "months = [m for m in y]\n",
    "theta, width = cc.events_to_polar(months, days_to_theta = d_to_degree)\n",
    "minor_ticks = [d_to_degree * y.date_as_number(date(y.year, m, 1)) for m in range(1,13)]\n",
    "\n",
    "\n",
    "fig = go.Figure()\n",
    "fig.add_trace(go.Barpolar(base=[.9] * 12, r=[.05] * 12,\n",
    "                          theta=theta,\n",
    "                          width=width,\n",
    "                          marker_color=\"orange\",\n",
    "                          marker_line_color=\"black\",\n",
    "                          )\n",
    "              )\n",
    "tickvals = []\n",
    "for u, v in zip(theta, minor_ticks):\n",
    "    tickvals.append(u)\n",
    "    tickvals.append(v)\n",
    "ticktext = []\n",
    "for m in calendar.month_abbr[1:]:\n",
    "    ticktext.append(m)\n",
    "    ticktext.append(\"\")\n",
    "\n",
    "fig.update_polars(\n",
    "    dict(\n",
    "        angularaxis=dict(\n",
    "            rotation=-90,\n",
    "            tickmode=\"array\",\n",
    "            tickvals=tickvals,\n",
    "            ticktext=ticktext\n",
    "        ),\n",
    "    ),\n",
    "    #margin = dict(t=0, l=0, r=0, b=0),\n",
    ")\n",
    "fig.update_layout(dict(height=1000))\n",
    "fig.show()"
   ]
  },
  {
   "cell_type": "code",
   "execution_count": 4,
   "id": "a35d2909-1b43-47f3-bdcf-f9c6563d1746",
   "metadata": {},
   "outputs": [
    {
     "ename": "NameError",
     "evalue": "name 'y' is not defined",
     "output_type": "error",
     "traceback": [
      "\u001b[0;31m---------------------------------------------------------------------------\u001b[0m",
      "\u001b[0;31mNameError\u001b[0m                                 Traceback (most recent call last)",
      "Cell \u001b[0;32mIn[4], line 1\u001b[0m\n\u001b[0;32m----> 1\u001b[0m datetime\u001b[38;5;241m.\u001b[39mnow() \u001b[38;5;129;01min\u001b[39;00m \u001b[43my\u001b[49m\n",
      "\u001b[0;31mNameError\u001b[0m: name 'y' is not defined"
     ]
    }
   ],
   "source": [
    "datetime.now() in y"
   ]
  },
  {
   "cell_type": "code",
   "execution_count": 3,
   "id": "6fe29609-00cb-4c66-9cc3-4c433a413659",
   "metadata": {},
   "outputs": [
    {
     "ename": "NameError",
     "evalue": "name 'd_to_degree' is not defined",
     "output_type": "error",
     "traceback": [
      "\u001b[0;31m---------------------------------------------------------------------------\u001b[0m",
      "\u001b[0;31mNameError\u001b[0m                                 Traceback (most recent call last)",
      "Cell \u001b[0;32mIn[3], line 1\u001b[0m\n\u001b[0;32m----> 1\u001b[0m \u001b[43md_to_degree\u001b[49m\n",
      "\u001b[0;31mNameError\u001b[0m: name 'd_to_degree' is not defined"
     ]
    }
   ],
   "source": [
    "d_to_degree"
   ]
  },
  {
   "cell_type": "code",
   "execution_count": 2,
   "id": "11f46824-17d9-4a00-941f-871c62aa6c15",
   "metadata": {},
   "outputs": [],
   "source": [
    "start = date.today()"
   ]
  },
  {
   "cell_type": "code",
   "execution_count": 3,
   "id": "b8ef9cb7-e81b-4667-8891-0ebdddb92f80",
   "metadata": {},
   "outputs": [],
   "source": [
    "end = date.today() + timedelta(days=100)"
   ]
  },
  {
   "cell_type": "code",
   "execution_count": 4,
   "id": "db1c4e4e-a5a9-4776-840f-7f565073bfde",
   "metadata": {},
   "outputs": [
    {
     "data": {
      "text/plain": [
       "True"
      ]
     },
     "execution_count": 4,
     "metadata": {},
     "output_type": "execute_result"
    }
   ],
   "source": [
    "model._quacks_like_a_date(end)"
   ]
  },
  {
   "cell_type": "code",
   "execution_count": 6,
   "id": "9a53b637-3b7e-478f-b78a-3b169a66e1dd",
   "metadata": {},
   "outputs": [
    {
     "data": {
      "text/plain": [
       "'dt'"
      ]
     },
     "execution_count": 6,
     "metadata": {},
     "output_type": "execute_result"
    }
   ],
   "source": [
    "model._date_or_dt(datetime.now())"
   ]
  },
  {
   "cell_type": "code",
   "execution_count": 8,
   "id": "25e051c4-4d66-4457-8ffb-902cfb216efe",
   "metadata": {},
   "outputs": [],
   "source": [
    "d = datetime.now()"
   ]
  },
  {
   "cell_type": "code",
   "execution_count": 10,
   "id": "99e11829-be72-4ee1-b1d8-02625f0ea3fd",
   "metadata": {},
   "outputs": [
    {
     "data": {
      "text/plain": [
       "True"
      ]
     },
     "execution_count": 10,
     "metadata": {},
     "output_type": "execute_result"
    }
   ],
   "source": [
    "model._quacks_like_a_dt(d)"
   ]
  },
  {
   "cell_type": "code",
   "execution_count": 16,
   "id": "82743ce3-aad7-4772-b54a-7605feea5da0",
   "metadata": {},
   "outputs": [
    {
     "data": {
      "text/plain": [
       "datetime.datetime"
      ]
     },
     "execution_count": 16,
     "metadata": {},
     "output_type": "execute_result"
    }
   ],
   "source": [
    "type(d)"
   ]
  },
  {
   "cell_type": "code",
   "execution_count": 11,
   "id": "0831c5c5-93a0-4d53-ad1b-858cbfba59cd",
   "metadata": {},
   "outputs": [],
   "source": [
    "da=d.date()"
   ]
  },
  {
   "cell_type": "code",
   "execution_count": 17,
   "id": "1d761d6f-eecb-41fc-89a1-f13e23c5436f",
   "metadata": {},
   "outputs": [
    {
     "name": "stdout",
     "output_type": "stream",
     "text": [
      "Help on date object:\n",
      "\n",
      "class date(builtins.object)\n",
      " |  date(year, month, day) --> date object\n",
      " |\n",
      " |  Methods defined here:\n",
      " |\n",
      " |  __add__(self, value, /)\n",
      " |      Return self+value.\n",
      " |\n",
      " |  __eq__(self, value, /)\n",
      " |      Return self==value.\n",
      " |\n",
      " |  __format__(...)\n",
      " |      Formats self with strftime.\n",
      " |\n",
      " |  __ge__(self, value, /)\n",
      " |      Return self>=value.\n",
      " |\n",
      " |  __getattribute__(self, name, /)\n",
      " |      Return getattr(self, name).\n",
      " |\n",
      " |  __gt__(self, value, /)\n",
      " |      Return self>value.\n",
      " |\n",
      " |  __hash__(self, /)\n",
      " |      Return hash(self).\n",
      " |\n",
      " |  __le__(self, value, /)\n",
      " |      Return self<=value.\n",
      " |\n",
      " |  __lt__(self, value, /)\n",
      " |      Return self<value.\n",
      " |\n",
      " |  __ne__(self, value, /)\n",
      " |      Return self!=value.\n",
      " |\n",
      " |  __radd__(self, value, /)\n",
      " |      Return value+self.\n",
      " |\n",
      " |  __reduce__(...)\n",
      " |      __reduce__() -> (cls, state)\n",
      " |\n",
      " |  __repr__(self, /)\n",
      " |      Return repr(self).\n",
      " |\n",
      " |  __rsub__(self, value, /)\n",
      " |      Return value-self.\n",
      " |\n",
      " |  __str__(self, /)\n",
      " |      Return str(self).\n",
      " |\n",
      " |  __sub__(self, value, /)\n",
      " |      Return self-value.\n",
      " |\n",
      " |  ctime(...)\n",
      " |      Return ctime() style string.\n",
      " |\n",
      " |  isocalendar(...)\n",
      " |      Return a named tuple containing ISO year, week number, and weekday.\n",
      " |\n",
      " |  isoformat(...)\n",
      " |      Return string in ISO 8601 format, YYYY-MM-DD.\n",
      " |\n",
      " |  isoweekday(...)\n",
      " |      Return the day of the week represented by the date.\n",
      " |      Monday == 1 ... Sunday == 7\n",
      " |\n",
      " |  replace(...)\n",
      " |      Return date with new specified fields.\n",
      " |\n",
      " |  strftime(...)\n",
      " |      format -> strftime() style string.\n",
      " |\n",
      " |  timetuple(...)\n",
      " |      Return time tuple, compatible with time.localtime().\n",
      " |\n",
      " |  toordinal(...)\n",
      " |      Return proleptic Gregorian ordinal.  January 1 of year 1 is day 1.\n",
      " |\n",
      " |  weekday(...)\n",
      " |      Return the day of the week represented by the date.\n",
      " |      Monday == 0 ... Sunday == 6\n",
      " |\n",
      " |  ----------------------------------------------------------------------\n",
      " |  Class methods defined here:\n",
      " |\n",
      " |  fromisocalendar(...) from builtins.type\n",
      " |      int, int, int -> Construct a date from the ISO year, week number and weekday.\n",
      " |\n",
      " |      This is the inverse of the date.isocalendar() function\n",
      " |\n",
      " |  fromisoformat(...) from builtins.type\n",
      " |      str -> Construct a date from a string in ISO 8601 format.\n",
      " |\n",
      " |  fromordinal(...) from builtins.type\n",
      " |      int -> date corresponding to a proleptic Gregorian ordinal.\n",
      " |\n",
      " |  fromtimestamp(timestamp, /) from builtins.type\n",
      " |      Create a date from a POSIX timestamp.\n",
      " |\n",
      " |      The timestamp is a number, e.g. created via time.time(), that is interpreted\n",
      " |      as local time.\n",
      " |\n",
      " |  today(...) from builtins.type\n",
      " |      Current date or datetime:  same as self.__class__.fromtimestamp(time.time()).\n",
      " |\n",
      " |  ----------------------------------------------------------------------\n",
      " |  Static methods defined here:\n",
      " |\n",
      " |  __new__(*args, **kwargs) from builtins.type\n",
      " |      Create and return a new object.  See help(type) for accurate signature.\n",
      " |\n",
      " |  ----------------------------------------------------------------------\n",
      " |  Data descriptors defined here:\n",
      " |\n",
      " |  day\n",
      " |\n",
      " |  month\n",
      " |\n",
      " |  year\n",
      " |\n",
      " |  ----------------------------------------------------------------------\n",
      " |  Data and other attributes defined here:\n",
      " |\n",
      " |  max = datetime.date(9999, 12, 31)\n",
      " |\n",
      " |  min = datetime.date(1, 1, 1)\n",
      " |\n",
      " |  resolution = datetime.timedelta(days=1)\n",
      "\n"
     ]
    }
   ],
   "source": [
    "help(da)"
   ]
  },
  {
   "cell_type": "code",
   "execution_count": null,
   "id": "eada0ec3-f544-4f54-b43e-ef2641c24ae1",
   "metadata": {},
   "outputs": [],
   "source": []
  }
 ],
 "metadata": {
  "kernelspec": {
   "display_name": "Python 3 (ipykernel)",
   "language": "python",
   "name": "python3"
  },
  "language_info": {
   "codemirror_mode": {
    "name": "ipython",
    "version": 3
   },
   "file_extension": ".py",
   "mimetype": "text/x-python",
   "name": "python",
   "nbconvert_exporter": "python",
   "pygments_lexer": "ipython3",
   "version": "3.12.2"
  }
 },
 "nbformat": 4,
 "nbformat_minor": 5
}
