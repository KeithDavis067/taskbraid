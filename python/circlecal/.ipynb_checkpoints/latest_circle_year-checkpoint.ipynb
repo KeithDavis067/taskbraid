{
 "cells": [
  {
   "cell_type": "code",
   "execution_count": 1,
   "id": "58844e03-d44e-4b54-bd67-c0ac6b5a4cfb",
   "metadata": {},
   "outputs": [],
   "source": [
    "from gcsa.event import Event\n",
    "from gcsa.google_calendar import GoogleCalendar\n",
    "from gcsa.recurrence import Recurrence, DAILY, SU, SA\n",
    "\n",
    "import plotly.express as px\n",
    "import plotly.graph_objects as go\n",
    "\n",
    "import pandas as pd\n",
    "\n",
    "from datetime import datetime, timedelta, date\n",
    "import dateutil\n",
    "from dateutil.parser import parse\n",
    "import calendar\n",
    "import numpy as np\n",
    "from circle_cal.model import CalendarElement\n",
    "import circle_cal as cc\n",
    "import circle_cal.model as model\n",
    "import pathlib"
   ]
  },
  {
   "cell_type": "code",
   "execution_count": 2,
   "id": "faab0ba5-96a2-42de-9264-20f3515f5c03",
   "metadata": {},
   "outputs": [],
   "source": [
    "cred = pathlib.Path('/Users/kdavis10/.config/.credentials')\n",
    "cred_json = \"pygooglecal.apps.googleusercontent.com.json\"\n",
    "\n",
    "try:\n",
    "    gcal = GoogleCalendar('keithwdavis@gmail.com',\n",
    "                          credentials_path=cred / cred_json)\n",
    "except Exception as e:\n",
    "    (cred / \"token.pickle\").unlink()"
   ]
  },
  {
   "cell_type": "code",
   "execution_count": null,
   "id": "cd142df0-bb00-45d9-8221-8acf74f94051",
   "metadata": {},
   "outputs": [],
   "source": [
    "def year_fig(year):\n",
    "    for all in "
   ]
  }
 ],
 "metadata": {
  "kernelspec": {
   "display_name": "Python 3 (ipykernel)",
   "language": "python",
   "name": "python3"
  },
  "language_info": {
   "codemirror_mode": {
    "name": "ipython",
    "version": 3
   },
   "file_extension": ".py",
   "mimetype": "text/x-python",
   "name": "python",
   "nbconvert_exporter": "python",
   "pygments_lexer": "ipython3",
   "version": "3.12.3"
  }
 },
 "nbformat": 4,
 "nbformat_minor": 5
}
