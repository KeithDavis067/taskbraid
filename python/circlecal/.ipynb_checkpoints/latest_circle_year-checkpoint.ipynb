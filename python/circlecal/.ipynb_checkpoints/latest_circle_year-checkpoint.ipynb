{
 "cells": [
  {
   "cell_type": "code",
   "execution_count": 40,
   "id": "58844e03-d44e-4b54-bd67-c0ac6b5a4cfb",
   "metadata": {},
   "outputs": [],
   "source": [
    "from gcsa.event import Event\n",
    "from gcsa.google_calendar import GoogleCalendar\n",
    "from gcsa.recurrence import Recurrence, DAILY, SU, SA\n",
    "\n",
    "import plotly.express as px\n",
    "import plotly.graph_objects as go\n",
    "\n",
    "import pandas as pd\n",
    "\n",
    "from datetime import datetime, timedelta, date\n",
    "import dateutil\n",
    "from dateutil.parser import parse\n",
    "import calendar\n",
    "import numpy as np\n",
    "from circle_cal.model import CalendarElement\n",
    "import circle_cal as cc\n",
    "import circle_cal.model as model\n",
    "import circle_cal.plot as ccplot\n",
    "import pathlib\n",
    "from rich import print\n",
    "import pytz\n",
    "from pytz import timezone"
   ]
  },
  {
   "cell_type": "code",
   "execution_count": 41,
   "id": "faab0ba5-96a2-42de-9264-20f3515f5c03",
   "metadata": {},
   "outputs": [
    {
     "data": {
      "text/html": [
       "<pre style=\"white-space:pre;overflow-x:auto;line-height:normal;font-family:Menlo,'DejaVu Sans Mono',consolas,'Courier New',monospace\"><span style=\"font-weight: bold\">[</span>\n",
       "    <span style=\"font-weight: bold\">&lt;</span><span style=\"color: #ff00ff; text-decoration-color: #ff00ff; font-weight: bold\">CalendarListEntry</span><span style=\"color: #000000; text-decoration-color: #000000\"> </span><span style=\"color: #800080; text-decoration-color: #800080; font-style: italic\">None</span><span style=\"color: #000000; text-decoration-color: #000000\"> - </span><span style=\"color: #000000; text-decoration-color: #000000; font-weight: bold\">(</span><span style=\"color: #000000; text-decoration-color: #000000\">Weather</span><span style=\"color: #000000; text-decoration-color: #000000; font-weight: bold\">)</span><span style=\"color: #000000; text-decoration-color: #000000\">&gt;,</span>\n",
       "<span style=\"color: #000000; text-decoration-color: #000000\">    &lt;CalendarListEntry </span><span style=\"color: #800080; text-decoration-color: #800080; font-style: italic\">None</span><span style=\"color: #000000; text-decoration-color: #000000\"> - </span><span style=\"color: #000000; text-decoration-color: #000000; font-weight: bold\">(</span><span style=\"color: #000000; text-decoration-color: #000000\">Payments</span><span style=\"color: #000000; text-decoration-color: #000000; font-weight: bold\">)</span><span style=\"color: #000000; text-decoration-color: #000000\">&gt;,</span>\n",
       "<span style=\"color: #000000; text-decoration-color: #000000\">    &lt;CalendarListEntry </span><span style=\"color: #800080; text-decoration-color: #800080; font-style: italic\">None</span><span style=\"color: #000000; text-decoration-color: #000000\"> - </span><span style=\"color: #000000; text-decoration-color: #000000; font-weight: bold\">(</span><span style=\"color: #000000; text-decoration-color: #000000\">Axis Ludi Calendar</span><span style=\"color: #000000; text-decoration-color: #000000; font-weight: bold\">)</span><span style=\"color: #000000; text-decoration-color: #000000\">&gt;,</span>\n",
       "<span style=\"color: #000000; text-decoration-color: #000000\">    &lt;CalendarListEntry </span><span style=\"color: #800080; text-decoration-color: #800080; font-style: italic\">None</span><span style=\"color: #000000; text-decoration-color: #000000\"> - </span><span style=\"color: #000000; text-decoration-color: #000000; font-weight: bold\">(</span><span style=\"color: #000000; text-decoration-color: #000000\">NYT Astronomy and Space Calendar</span><span style=\"color: #000000; text-decoration-color: #000000; font-weight: bold\">)</span><span style=\"color: #000000; text-decoration-color: #000000\">&gt;,</span>\n",
       "<span style=\"color: #000000; text-decoration-color: #000000\">    &lt;CalendarListEntry </span><span style=\"color: #800080; text-decoration-color: #800080; font-style: italic\">None</span><span style=\"color: #000000; text-decoration-color: #000000\"> - </span><span style=\"color: #000000; text-decoration-color: #000000; font-weight: bold\">(</span><span style=\"color: #000000; text-decoration-color: #000000\">LIPS </span><span style=\"color: #008080; text-decoration-color: #008080; font-weight: bold\">2015</span><span style=\"color: #000000; text-decoration-color: #000000; font-weight: bold\">)</span><span style=\"color: #000000; text-decoration-color: #000000\">&gt;,</span>\n",
       "<span style=\"color: #000000; text-decoration-color: #000000\">    &lt;CalendarListEntry </span><span style=\"color: #800080; text-decoration-color: #800080; font-style: italic\">None</span><span style=\"color: #000000; text-decoration-color: #000000\"> - </span><span style=\"color: #000000; text-decoration-color: #000000; font-weight: bold\">(</span><span style=\"color: #000000; text-decoration-color: #000000\">ND-DVT Provisional Shows</span><span style=\"color: #000000; text-decoration-color: #000000; font-weight: bold\">)</span><span style=\"color: #000000; text-decoration-color: #000000\">&gt;,</span>\n",
       "<span style=\"color: #000000; text-decoration-color: #000000\">    &lt;CalendarListEntry </span><span style=\"color: #800080; text-decoration-color: #800080; font-style: italic\">None</span><span style=\"color: #000000; text-decoration-color: #000000\"> - </span><span style=\"color: #000000; text-decoration-color: #000000; font-weight: bold\">(</span><span style=\"color: #000000; text-decoration-color: #000000\">keithwdavis@gmail.com</span><span style=\"color: #000000; text-decoration-color: #000000; font-weight: bold\">)</span><span style=\"color: #000000; text-decoration-color: #000000\">&gt;,</span>\n",
       "<span style=\"color: #000000; text-decoration-color: #000000\">    &lt;CalendarListEntry </span><span style=\"color: #800080; text-decoration-color: #800080; font-style: italic\">None</span><span style=\"color: #000000; text-decoration-color: #000000\"> - </span><span style=\"color: #000000; text-decoration-color: #000000; font-weight: bold\">(</span><span style=\"color: #000000; text-decoration-color: #000000\">Work</span><span style=\"color: #000000; text-decoration-color: #000000; font-weight: bold\">)</span><span style=\"color: #000000; text-decoration-color: #000000\">&gt;,</span>\n",
       "<span style=\"color: #000000; text-decoration-color: #000000\">    &lt;CalendarListEntry </span><span style=\"color: #800080; text-decoration-color: #800080; font-style: italic\">None</span><span style=\"color: #000000; text-decoration-color: #000000\"> - </span><span style=\"color: #000000; text-decoration-color: #000000; font-weight: bold\">(</span><span style=\"color: #000000; text-decoration-color: #000000\">Cognoscenti</span><span style=\"color: #000000; text-decoration-color: #000000; font-weight: bold\">)</span><span style=\"color: #000000; text-decoration-color: #000000\">&gt;,</span>\n",
       "<span style=\"color: #000000; text-decoration-color: #000000\">    &lt;CalendarListEntry </span><span style=\"color: #800080; text-decoration-color: #800080; font-style: italic\">None</span><span style=\"color: #000000; text-decoration-color: #000000\"> - </span><span style=\"color: #000000; text-decoration-color: #000000; font-weight: bold\">(</span><span style=\"color: #000000; text-decoration-color: #000000\">Academic Calendar</span><span style=\"color: #000000; text-decoration-color: #000000; font-weight: bold\">)</span><span style=\"color: #000000; text-decoration-color: #000000\">&gt;,</span>\n",
       "<span style=\"color: #000000; text-decoration-color: #000000\">    &lt;CalendarListEntry </span><span style=\"color: #800080; text-decoration-color: #800080; font-style: italic\">None</span><span style=\"color: #000000; text-decoration-color: #000000\"> - </span><span style=\"color: #000000; text-decoration-color: #000000; font-weight: bold\">(</span><span style=\"color: #000000; text-decoration-color: #000000\">Descriptive Astronomy</span><span style=\"color: #000000; text-decoration-color: #000000; font-weight: bold\">)</span><span style=\"color: #000000; text-decoration-color: #000000\">&gt;,</span>\n",
       "<span style=\"color: #000000; text-decoration-color: #000000\">    &lt;CalendarListEntry </span><span style=\"color: #800080; text-decoration-color: #800080; font-style: italic\">None</span><span style=\"color: #000000; text-decoration-color: #000000\"> - </span><span style=\"color: #000000; text-decoration-color: #000000; font-weight: bold\">(</span><span style=\"color: #000000; text-decoration-color: #000000\">DVT Student Work Schedule</span><span style=\"color: #000000; text-decoration-color: #000000; font-weight: bold\">)</span><span style=\"color: #000000; text-decoration-color: #000000\">&gt;,</span>\n",
       "<span style=\"color: #000000; text-decoration-color: #000000\">    &lt;CalendarListEntry </span><span style=\"color: #800080; text-decoration-color: #800080; font-style: italic\">None</span><span style=\"color: #000000; text-decoration-color: #000000\"> - </span><span style=\"color: #000000; text-decoration-color: #000000; font-weight: bold\">(</span><span style=\"color: #000000; text-decoration-color: #000000\">PTE Meal Plan </span><span style=\"color: #000000; text-decoration-color: #000000; font-weight: bold\">(</span><span style=\"color: #000000; text-decoration-color: #000000\">recipes</span><span style=\"color: #000000; text-decoration-color: #000000; font-weight: bold\">))</span><span style=\"color: #000000; text-decoration-color: #000000\">&gt;,</span>\n",
       "<span style=\"color: #000000; text-decoration-color: #000000\">    &lt;CalendarListEntry </span><span style=\"color: #800080; text-decoration-color: #800080; font-style: italic\">None</span><span style=\"color: #000000; text-decoration-color: #000000\"> - </span><span style=\"color: #000000; text-decoration-color: #000000; font-weight: bold\">(</span><span style=\"color: #000000; text-decoration-color: #000000\">LIPS </span><span style=\"color: #008080; text-decoration-color: #008080; font-weight: bold\">2013</span><span style=\"color: #000000; text-decoration-color: #000000\"> Calendar </span><span style=\"color: #000000; text-decoration-color: #000000; font-weight: bold\">(</span><span style=\"color: #000000; text-decoration-color: #000000\">August </span><span style=\"color: #008080; text-decoration-color: #008080; font-weight: bold\">2</span><span style=\"color: #000000; text-decoration-color: #000000\"> Revision</span><span style=\"color: #000000; text-decoration-color: #000000; font-weight: bold\">))</span><span style=\"color: #000000; text-decoration-color: #000000\">&gt;,</span>\n",
       "<span style=\"color: #000000; text-decoration-color: #000000\">    &lt;CalendarListEntry </span><span style=\"color: #800080; text-decoration-color: #800080; font-style: italic\">None</span><span style=\"color: #000000; text-decoration-color: #000000\"> - </span><span style=\"color: #000000; text-decoration-color: #000000; font-weight: bold\">(</span><span style=\"color: #000000; text-decoration-color: #000000\">indivisibleIN02 Action Calendar</span><span style=\"color: #000000; text-decoration-color: #000000; font-weight: bold\">)</span><span style=\"color: #000000; text-decoration-color: #000000\">&gt;,</span>\n",
       "<span style=\"color: #000000; text-decoration-color: #000000\">    &lt;CalendarListEntry </span><span style=\"color: #800080; text-decoration-color: #800080; font-style: italic\">None</span><span style=\"color: #000000; text-decoration-color: #000000\"> - </span><span style=\"color: #000000; text-decoration-color: #000000; font-weight: bold\">(</span><span style=\"color: #000000; text-decoration-color: #000000\">Clemson Planetarium</span><span style=\"color: #000000; text-decoration-color: #000000; font-weight: bold\">)</span><span style=\"color: #000000; text-decoration-color: #000000\">&gt;,</span>\n",
       "<span style=\"color: #000000; text-decoration-color: #000000\">    &lt;CalendarListEntry </span><span style=\"color: #800080; text-decoration-color: #800080; font-style: italic\">None</span><span style=\"color: #000000; text-decoration-color: #000000\"> - </span><span style=\"color: #000000; text-decoration-color: #000000; font-weight: bold\">(</span><span style=\"color: #000000; text-decoration-color: #000000\">Birthdays</span><span style=\"color: #000000; text-decoration-color: #000000; font-weight: bold\">)</span><span style=\"color: #000000; text-decoration-color: #000000\">&gt;,</span>\n",
       "<span style=\"color: #000000; text-decoration-color: #000000\">    &lt;CalendarListEntry </span><span style=\"color: #800080; text-decoration-color: #800080; font-style: italic\">None</span><span style=\"color: #000000; text-decoration-color: #000000\"> - </span><span style=\"color: #000000; text-decoration-color: #000000; font-weight: bold\">(</span><span style=\"color: #000000; text-decoration-color: #000000\">Remember The Milk</span><span style=\"color: #000000; text-decoration-color: #000000; font-weight: bold\">)</span><span style=\"color: #000000; text-decoration-color: #000000\">&gt;,</span>\n",
       "<span style=\"color: #000000; text-decoration-color: #000000\">    &lt;CalendarListEntry </span><span style=\"color: #800080; text-decoration-color: #800080; font-style: italic\">None</span><span style=\"color: #000000; text-decoration-color: #000000\"> - </span><span style=\"color: #000000; text-decoration-color: #000000; font-weight: bold\">(</span><span style=\"color: #000000; text-decoration-color: #000000\">Phases of the Moon</span><span style=\"color: #000000; text-decoration-color: #000000; font-weight: bold\">)</span><span style=\"color: #000000; text-decoration-color: #000000\">&gt;,</span>\n",
       "<span style=\"color: #000000; text-decoration-color: #000000\">    &lt;CalendarListEntry </span><span style=\"color: #800080; text-decoration-color: #800080; font-style: italic\">None</span><span style=\"color: #000000; text-decoration-color: #000000\"> - </span><span style=\"color: #000000; text-decoration-color: #000000; font-weight: bold\">(</span><span style=\"color: #000000; text-decoration-color: #000000\"> Wolverhampton</span><span style=\"color: #000000; text-decoration-color: #000000; font-weight: bold\">)</span><span style=\"color: #000000; text-decoration-color: #000000\">&gt;,</span>\n",
       "<span style=\"color: #000000; text-decoration-color: #000000\">    &lt;CalendarListEntry </span><span style=\"color: #800080; text-decoration-color: #800080; font-style: italic\">None</span><span style=\"color: #000000; text-decoration-color: #000000\"> - </span><span style=\"color: #000000; text-decoration-color: #000000; font-weight: bold\">(</span><span style=\"color: #000000; text-decoration-color: #000000\">Chicago Fire</span><span style=\"color: #000000; text-decoration-color: #000000; font-weight: bold\">)</span><span style=\"color: #000000; text-decoration-color: #000000\">&gt;,</span>\n",
       "<span style=\"color: #000000; text-decoration-color: #000000\">    &lt;CalendarListEntry </span><span style=\"color: #800080; text-decoration-color: #800080; font-style: italic\">None</span><span style=\"color: #000000; text-decoration-color: #000000\"> - </span><span style=\"color: #000000; text-decoration-color: #000000; font-weight: bold\">(</span><span style=\"color: #000000; text-decoration-color: #000000\">GenCon </span><span style=\"color: #008080; text-decoration-color: #008080; font-weight: bold\">2019</span><span style=\"color: #000000; text-decoration-color: #000000; font-weight: bold\">)</span><span style=\"color: #000000; text-decoration-color: #000000\">&gt;,</span>\n",
       "<span style=\"color: #000000; text-decoration-color: #000000\">    &lt;CalendarListEntry </span><span style=\"color: #800080; text-decoration-color: #800080; font-style: italic\">None</span><span style=\"color: #000000; text-decoration-color: #000000\"> - </span><span style=\"color: #000000; text-decoration-color: #000000; font-weight: bold\">(</span><span style=\"color: #000000; text-decoration-color: #000000\">Holidays in United States</span><span style=\"color: #000000; text-decoration-color: #000000; font-weight: bold\">)</span><span style=\"color: #000000; text-decoration-color: #000000\">&gt;,</span>\n",
       "<span style=\"color: #000000; text-decoration-color: #000000\">    &lt;CalendarListEntry </span><span style=\"color: #800080; text-decoration-color: #800080; font-style: italic\">None</span><span style=\"color: #000000; text-decoration-color: #000000\"> - </span><span style=\"color: #000000; text-decoration-color: #000000; font-weight: bold\">(</span><span style=\"color: #000000; text-decoration-color: #000000\">kdavis10@nd.edu</span><span style=\"color: #000000; text-decoration-color: #000000; font-weight: bold\">)</span><span style=\"color: #000000; text-decoration-color: #000000\">&gt;,</span>\n",
       "<span style=\"color: #000000; text-decoration-color: #000000\">    &lt;CalendarListEntry </span><span style=\"color: #800080; text-decoration-color: #800080; font-style: italic\">None</span><span style=\"color: #000000; text-decoration-color: #000000\"> - </span><span style=\"color: #000000; text-decoration-color: #000000; font-weight: bold\">(</span><span style=\"color: #000000; text-decoration-color: #000000\">DVT Student Work UNAVAILABLE</span><span style=\"color: #000000; text-decoration-color: #000000; font-weight: bold\">)</span><span style=\"color: #000000; text-decoration-color: #000000\">&gt;,</span>\n",
       "<span style=\"color: #000000; text-decoration-color: #000000\">    &lt;CalendarListEntry </span><span style=\"color: #800080; text-decoration-color: #800080; font-style: italic\">None</span><span style=\"color: #000000; text-decoration-color: #000000\"> - </span><span style=\"color: #000000; text-decoration-color: #000000; font-weight: bold\">(</span><span style=\"color: #000000; text-decoration-color: #000000\">Great Lakes Planetarium Association</span><span style=\"color: #000000; text-decoration-color: #000000; font-weight: bold\">)</span><span style=\"color: #000000; text-decoration-color: #000000\">&gt;,</span>\n",
       "<span style=\"color: #000000; text-decoration-color: #000000\">    &lt;CalendarListEntry </span><span style=\"color: #800080; text-decoration-color: #800080; font-style: italic\">None</span><span style=\"color: #000000; text-decoration-color: #000000\"> - </span><span style=\"color: #000000; text-decoration-color: #000000; font-weight: bold\">(</span><span style=\"color: #000000; text-decoration-color: #000000\">Tasks Personal</span><span style=\"color: #000000; text-decoration-color: #000000; font-weight: bold\">)</span><span style=\"color: #000000; text-decoration-color: #000000\">&gt;,</span>\n",
       "<span style=\"color: #000000; text-decoration-color: #000000\">    &lt;CalendarListEntry </span><span style=\"color: #800080; text-decoration-color: #800080; font-style: italic\">None</span><span style=\"color: #000000; text-decoration-color: #000000\"> - </span><span style=\"color: #000000; text-decoration-color: #000000; font-weight: bold\">(</span><span style=\"color: #000000; text-decoration-color: #000000\">Legend Secondary</span><span style=\"color: #000000; text-decoration-color: #000000; font-weight: bold\">)</span><span style=\"color: #000000; text-decoration-color: #000000\">&gt;,</span>\n",
       "<span style=\"color: #000000; text-decoration-color: #000000\">    &lt;CalendarListEntry </span><span style=\"color: #800080; text-decoration-color: #800080; font-style: italic\">None</span><span style=\"color: #000000; text-decoration-color: #000000\"> - </span><span style=\"color: #000000; text-decoration-color: #000000; font-weight: bold\">(</span><span style=\"color: #000000; text-decoration-color: #000000\">Legend Main</span><span style=\"color: #000000; text-decoration-color: #000000; font-weight: bold\">)</span><span style=\"color: #000000; text-decoration-color: #000000\">&gt;,</span>\n",
       "<span style=\"color: #000000; text-decoration-color: #000000\">    &lt;CalendarListEntry </span><span style=\"color: #800080; text-decoration-color: #800080; font-style: italic\">None</span><span style=\"color: #000000; text-decoration-color: #000000\"> - </span><span style=\"color: #000000; text-decoration-color: #000000; font-weight: bold\">(</span><span style=\"color: #000000; text-decoration-color: #000000\">TD Trips</span><span style=\"color: #000000; text-decoration-color: #000000; font-weight: bold\">)</span><span style=\"color: #000000; text-decoration-color: #000000\">&gt;,</span>\n",
       "<span style=\"color: #000000; text-decoration-color: #000000\">    &lt;CalendarListEntry </span><span style=\"color: #800080; text-decoration-color: #800080; font-style: italic\">None</span><span style=\"color: #000000; text-decoration-color: #000000\"> - </span><span style=\"color: #000000; text-decoration-color: #000000; font-weight: bold\">(</span><span style=\"color: #000000; text-decoration-color: #000000\">Food</span><span style=\"color: #000000; text-decoration-color: #000000; font-weight: bold\">)</span><span style=\"color: #000000; text-decoration-color: #000000\">&gt;,</span>\n",
       "<span style=\"color: #000000; text-decoration-color: #000000\">    &lt;CalendarListEntry </span><span style=\"color: #800080; text-decoration-color: #800080; font-style: italic\">None</span><span style=\"color: #000000; text-decoration-color: #000000\"> - </span><span style=\"color: #000000; text-decoration-color: #000000; font-weight: bold\">(</span><span style=\"color: #000000; text-decoration-color: #000000\">Tasks: Work</span><span style=\"color: #000000; text-decoration-color: #000000; font-weight: bold\">)</span><span style=\"color: #000000; text-decoration-color: #000000\">&gt;,</span>\n",
       "<span style=\"color: #000000; text-decoration-color: #000000\">    &lt;CalendarListEntry </span><span style=\"color: #800080; text-decoration-color: #800080; font-style: italic\">None</span><span style=\"color: #000000; text-decoration-color: #000000\"> - </span><span style=\"color: #000000; text-decoration-color: #000000; font-weight: bold\">(</span><span style=\"color: #000000; text-decoration-color: #000000\">TD Work Projects</span><span style=\"color: #000000; text-decoration-color: #000000; font-weight: bold\">)</span><span style=\"font-weight: bold\">&gt;</span>\n",
       "<span style=\"font-weight: bold\">]</span>\n",
       "</pre>\n"
      ],
      "text/plain": [
       "\u001b[1m[\u001b[0m\n",
       "    \u001b[1m<\u001b[0m\u001b[1;95mCalendarListEntry\u001b[0m\u001b[39m \u001b[0m\u001b[3;35mNone\u001b[0m\u001b[39m - \u001b[0m\u001b[1;39m(\u001b[0m\u001b[39mWeather\u001b[0m\u001b[1;39m)\u001b[0m\u001b[39m>,\u001b[0m\n",
       "\u001b[39m    <CalendarListEntry \u001b[0m\u001b[3;35mNone\u001b[0m\u001b[39m - \u001b[0m\u001b[1;39m(\u001b[0m\u001b[39mPayments\u001b[0m\u001b[1;39m)\u001b[0m\u001b[39m>,\u001b[0m\n",
       "\u001b[39m    <CalendarListEntry \u001b[0m\u001b[3;35mNone\u001b[0m\u001b[39m - \u001b[0m\u001b[1;39m(\u001b[0m\u001b[39mAxis Ludi Calendar\u001b[0m\u001b[1;39m)\u001b[0m\u001b[39m>,\u001b[0m\n",
       "\u001b[39m    <CalendarListEntry \u001b[0m\u001b[3;35mNone\u001b[0m\u001b[39m - \u001b[0m\u001b[1;39m(\u001b[0m\u001b[39mNYT Astronomy and Space Calendar\u001b[0m\u001b[1;39m)\u001b[0m\u001b[39m>,\u001b[0m\n",
       "\u001b[39m    <CalendarListEntry \u001b[0m\u001b[3;35mNone\u001b[0m\u001b[39m - \u001b[0m\u001b[1;39m(\u001b[0m\u001b[39mLIPS \u001b[0m\u001b[1;36m2015\u001b[0m\u001b[1;39m)\u001b[0m\u001b[39m>,\u001b[0m\n",
       "\u001b[39m    <CalendarListEntry \u001b[0m\u001b[3;35mNone\u001b[0m\u001b[39m - \u001b[0m\u001b[1;39m(\u001b[0m\u001b[39mND-DVT Provisional Shows\u001b[0m\u001b[1;39m)\u001b[0m\u001b[39m>,\u001b[0m\n",
       "\u001b[39m    <CalendarListEntry \u001b[0m\u001b[3;35mNone\u001b[0m\u001b[39m - \u001b[0m\u001b[1;39m(\u001b[0m\u001b[39mkeithwdavis@gmail.com\u001b[0m\u001b[1;39m)\u001b[0m\u001b[39m>,\u001b[0m\n",
       "\u001b[39m    <CalendarListEntry \u001b[0m\u001b[3;35mNone\u001b[0m\u001b[39m - \u001b[0m\u001b[1;39m(\u001b[0m\u001b[39mWork\u001b[0m\u001b[1;39m)\u001b[0m\u001b[39m>,\u001b[0m\n",
       "\u001b[39m    <CalendarListEntry \u001b[0m\u001b[3;35mNone\u001b[0m\u001b[39m - \u001b[0m\u001b[1;39m(\u001b[0m\u001b[39mCognoscenti\u001b[0m\u001b[1;39m)\u001b[0m\u001b[39m>,\u001b[0m\n",
       "\u001b[39m    <CalendarListEntry \u001b[0m\u001b[3;35mNone\u001b[0m\u001b[39m - \u001b[0m\u001b[1;39m(\u001b[0m\u001b[39mAcademic Calendar\u001b[0m\u001b[1;39m)\u001b[0m\u001b[39m>,\u001b[0m\n",
       "\u001b[39m    <CalendarListEntry \u001b[0m\u001b[3;35mNone\u001b[0m\u001b[39m - \u001b[0m\u001b[1;39m(\u001b[0m\u001b[39mDescriptive Astronomy\u001b[0m\u001b[1;39m)\u001b[0m\u001b[39m>,\u001b[0m\n",
       "\u001b[39m    <CalendarListEntry \u001b[0m\u001b[3;35mNone\u001b[0m\u001b[39m - \u001b[0m\u001b[1;39m(\u001b[0m\u001b[39mDVT Student Work Schedule\u001b[0m\u001b[1;39m)\u001b[0m\u001b[39m>,\u001b[0m\n",
       "\u001b[39m    <CalendarListEntry \u001b[0m\u001b[3;35mNone\u001b[0m\u001b[39m - \u001b[0m\u001b[1;39m(\u001b[0m\u001b[39mPTE Meal Plan \u001b[0m\u001b[1;39m(\u001b[0m\u001b[39mrecipes\u001b[0m\u001b[1;39m)\u001b[0m\u001b[1;39m)\u001b[0m\u001b[39m>,\u001b[0m\n",
       "\u001b[39m    <CalendarListEntry \u001b[0m\u001b[3;35mNone\u001b[0m\u001b[39m - \u001b[0m\u001b[1;39m(\u001b[0m\u001b[39mLIPS \u001b[0m\u001b[1;36m2013\u001b[0m\u001b[39m Calendar \u001b[0m\u001b[1;39m(\u001b[0m\u001b[39mAugust \u001b[0m\u001b[1;36m2\u001b[0m\u001b[39m Revision\u001b[0m\u001b[1;39m)\u001b[0m\u001b[1;39m)\u001b[0m\u001b[39m>,\u001b[0m\n",
       "\u001b[39m    <CalendarListEntry \u001b[0m\u001b[3;35mNone\u001b[0m\u001b[39m - \u001b[0m\u001b[1;39m(\u001b[0m\u001b[39mindivisibleIN02 Action Calendar\u001b[0m\u001b[1;39m)\u001b[0m\u001b[39m>,\u001b[0m\n",
       "\u001b[39m    <CalendarListEntry \u001b[0m\u001b[3;35mNone\u001b[0m\u001b[39m - \u001b[0m\u001b[1;39m(\u001b[0m\u001b[39mClemson Planetarium\u001b[0m\u001b[1;39m)\u001b[0m\u001b[39m>,\u001b[0m\n",
       "\u001b[39m    <CalendarListEntry \u001b[0m\u001b[3;35mNone\u001b[0m\u001b[39m - \u001b[0m\u001b[1;39m(\u001b[0m\u001b[39mBirthdays\u001b[0m\u001b[1;39m)\u001b[0m\u001b[39m>,\u001b[0m\n",
       "\u001b[39m    <CalendarListEntry \u001b[0m\u001b[3;35mNone\u001b[0m\u001b[39m - \u001b[0m\u001b[1;39m(\u001b[0m\u001b[39mRemember The Milk\u001b[0m\u001b[1;39m)\u001b[0m\u001b[39m>,\u001b[0m\n",
       "\u001b[39m    <CalendarListEntry \u001b[0m\u001b[3;35mNone\u001b[0m\u001b[39m - \u001b[0m\u001b[1;39m(\u001b[0m\u001b[39mPhases of the Moon\u001b[0m\u001b[1;39m)\u001b[0m\u001b[39m>,\u001b[0m\n",
       "\u001b[39m    <CalendarListEntry \u001b[0m\u001b[3;35mNone\u001b[0m\u001b[39m - \u001b[0m\u001b[1;39m(\u001b[0m\u001b[39m Wolverhampton\u001b[0m\u001b[1;39m)\u001b[0m\u001b[39m>,\u001b[0m\n",
       "\u001b[39m    <CalendarListEntry \u001b[0m\u001b[3;35mNone\u001b[0m\u001b[39m - \u001b[0m\u001b[1;39m(\u001b[0m\u001b[39mChicago Fire\u001b[0m\u001b[1;39m)\u001b[0m\u001b[39m>,\u001b[0m\n",
       "\u001b[39m    <CalendarListEntry \u001b[0m\u001b[3;35mNone\u001b[0m\u001b[39m - \u001b[0m\u001b[1;39m(\u001b[0m\u001b[39mGenCon \u001b[0m\u001b[1;36m2019\u001b[0m\u001b[1;39m)\u001b[0m\u001b[39m>,\u001b[0m\n",
       "\u001b[39m    <CalendarListEntry \u001b[0m\u001b[3;35mNone\u001b[0m\u001b[39m - \u001b[0m\u001b[1;39m(\u001b[0m\u001b[39mHolidays in United States\u001b[0m\u001b[1;39m)\u001b[0m\u001b[39m>,\u001b[0m\n",
       "\u001b[39m    <CalendarListEntry \u001b[0m\u001b[3;35mNone\u001b[0m\u001b[39m - \u001b[0m\u001b[1;39m(\u001b[0m\u001b[39mkdavis10@nd.edu\u001b[0m\u001b[1;39m)\u001b[0m\u001b[39m>,\u001b[0m\n",
       "\u001b[39m    <CalendarListEntry \u001b[0m\u001b[3;35mNone\u001b[0m\u001b[39m - \u001b[0m\u001b[1;39m(\u001b[0m\u001b[39mDVT Student Work UNAVAILABLE\u001b[0m\u001b[1;39m)\u001b[0m\u001b[39m>,\u001b[0m\n",
       "\u001b[39m    <CalendarListEntry \u001b[0m\u001b[3;35mNone\u001b[0m\u001b[39m - \u001b[0m\u001b[1;39m(\u001b[0m\u001b[39mGreat Lakes Planetarium Association\u001b[0m\u001b[1;39m)\u001b[0m\u001b[39m>,\u001b[0m\n",
       "\u001b[39m    <CalendarListEntry \u001b[0m\u001b[3;35mNone\u001b[0m\u001b[39m - \u001b[0m\u001b[1;39m(\u001b[0m\u001b[39mTasks Personal\u001b[0m\u001b[1;39m)\u001b[0m\u001b[39m>,\u001b[0m\n",
       "\u001b[39m    <CalendarListEntry \u001b[0m\u001b[3;35mNone\u001b[0m\u001b[39m - \u001b[0m\u001b[1;39m(\u001b[0m\u001b[39mLegend Secondary\u001b[0m\u001b[1;39m)\u001b[0m\u001b[39m>,\u001b[0m\n",
       "\u001b[39m    <CalendarListEntry \u001b[0m\u001b[3;35mNone\u001b[0m\u001b[39m - \u001b[0m\u001b[1;39m(\u001b[0m\u001b[39mLegend Main\u001b[0m\u001b[1;39m)\u001b[0m\u001b[39m>,\u001b[0m\n",
       "\u001b[39m    <CalendarListEntry \u001b[0m\u001b[3;35mNone\u001b[0m\u001b[39m - \u001b[0m\u001b[1;39m(\u001b[0m\u001b[39mTD Trips\u001b[0m\u001b[1;39m)\u001b[0m\u001b[39m>,\u001b[0m\n",
       "\u001b[39m    <CalendarListEntry \u001b[0m\u001b[3;35mNone\u001b[0m\u001b[39m - \u001b[0m\u001b[1;39m(\u001b[0m\u001b[39mFood\u001b[0m\u001b[1;39m)\u001b[0m\u001b[39m>,\u001b[0m\n",
       "\u001b[39m    <CalendarListEntry \u001b[0m\u001b[3;35mNone\u001b[0m\u001b[39m - \u001b[0m\u001b[1;39m(\u001b[0m\u001b[39mTasks: Work\u001b[0m\u001b[1;39m)\u001b[0m\u001b[39m>,\u001b[0m\n",
       "\u001b[39m    <CalendarListEntry \u001b[0m\u001b[3;35mNone\u001b[0m\u001b[39m - \u001b[0m\u001b[1;39m(\u001b[0m\u001b[39mTD Work Projects\u001b[0m\u001b[1;39m)\u001b[0m\u001b[1m>\u001b[0m\n",
       "\u001b[1m]\u001b[0m\n"
      ]
     },
     "metadata": {},
     "output_type": "display_data"
    }
   ],
   "source": [
    "cred = pathlib.Path('/Users/kdavis10/.config/.credentials')\n",
    "cred_json = \"pygooglecal.apps.googleusercontent.com.json\"\n",
    "\n",
    "try:\n",
    "    gcal = GoogleCalendar('kdavis10@nd.edu',\n",
    "                          credentials_path=cred / cred_json)\n",
    "except Exception as e:\n",
    "    (cred / \"token.pickle\").unlink()\n",
    "print(list(gcal.get_calendar_list()))"
   ]
  },
  {
   "cell_type": "code",
   "execution_count": 42,
   "id": "8cc5e227-d3bf-4fe5-b9d4-f5c9035e63f0",
   "metadata": {
    "scrolled": true
   },
   "outputs": [
    {
     "data": {
      "text/plain": [
       "'#ffad46'"
      ]
     },
     "execution_count": 42,
     "metadata": {},
     "output_type": "execute_result"
    }
   ],
   "source": [
    "gcal.get_calendar_list_entry().background_color"
   ]
  },
  {
   "cell_type": "code",
   "execution_count": 43,
   "id": "d745f8b9-438a-4180-afd3-93a898c7e525",
   "metadata": {},
   "outputs": [
    {
     "data": {
      "text/html": [
       "<pre style=\"white-space:pre;overflow-x:auto;line-height:normal;font-family:Menlo,'DejaVu Sans Mono',consolas,'Courier New',monospace\"><span style=\"color: #008080; text-decoration-color: #008080; font-weight: bold\">309</span>\n",
       "</pre>\n"
      ],
      "text/plain": [
       "\u001b[1;36m309\u001b[0m\n"
      ]
     },
     "metadata": {},
     "output_type": "display_data"
    },
    {
     "data": {
      "application/vnd.plotly.v1+json": {
       "config": {
        "plotlyServerURL": "https://plot.ly"
       },
       "data": [
        {
         "base": [
          0.52,
          0.52,
          0.52,
          0.52,
          0.52,
          0.52,
          0.52,
          0.52,
          0.52,
          0.52,
          0.52,
          0.52,
          0.52,
          0.52,
          0.52,
          0.52,
          0.52,
          0.52,
          0.52,
          0.52,
          0.52,
          0.52,
          0.52,
          0.52,
          0.52,
          0.52,
          0.52,
          0.52,
          0.52,
          0.52,
          0.52,
          0.52,
          0.36,
          0.52,
          0.52,
          0.36,
          0.6799999999999999,
          0.6799999999999999,
          0.52,
          0.52,
          0.52,
          0.52,
          0.6799999999999999,
          0.6799999999999999,
          0.6799999999999999,
          0.6799999999999999,
          0.8400000000000001,
          0.8400000000000001,
          0.8400000000000001,
          0.6799999999999999,
          0.6799999999999999,
          0.6799999999999999,
          0.6799999999999999,
          0.6799999999999999,
          0.6799999999999999,
          0.8400000000000001,
          0.8400000000000001,
          0.8400000000000001,
          0.6799999999999999,
          0.6799999999999999,
          0.6799999999999999,
          0.6799999999999999,
          0.8400000000000001,
          0.6799999999999999,
          0.52,
          0.6799999999999999,
          0.6799999999999999,
          0.6799999999999999,
          0.8400000000000001,
          0.6799999999999999,
          0.8400000000000001,
          0.8400000000000001,
          0.6799999999999999,
          0.6799999999999999,
          0.36,
          0.8400000000000001,
          0.6799999999999999,
          0.6799999999999999,
          0.8400000000000001,
          0.6799999999999999,
          0.8400000000000001,
          0.6799999999999999,
          0.6799999999999999,
          0.6799999999999999,
          0.36,
          0.8400000000000001,
          0.6799999999999999,
          0.6799999999999999,
          0.6799999999999999,
          0.6799999999999999,
          0.6799999999999999,
          0.6799999999999999,
          0.6799999999999999,
          0.6799999999999999,
          0.8400000000000001,
          0.6799999999999999,
          0.8400000000000001,
          0.6799999999999999,
          0.8400000000000001,
          0.6799999999999999,
          0.8400000000000001,
          0.6799999999999999,
          0.6799999999999999,
          0.8400000000000001,
          0.8400000000000001,
          0.6799999999999999,
          0.8400000000000001,
          0.8400000000000001,
          0.6799999999999999,
          0.6799999999999999,
          0.6799999999999999,
          0.6799999999999999,
          0.6799999999999999,
          0.6799999999999999,
          0.6799999999999999,
          0.6799999999999999,
          0.6799999999999999,
          0.6799999999999999,
          0.6799999999999999,
          0.6799999999999999,
          0.6799999999999999,
          0.6799999999999999,
          0.6799999999999999,
          0.8400000000000001,
          0.6799999999999999,
          0.6799999999999999,
          0.6799999999999999,
          0.6799999999999999,
          0.6799999999999999,
          0.8400000000000001,
          0.8400000000000001,
          0.8400000000000001,
          0.6799999999999999,
          0.6799999999999999,
          0.8400000000000001,
          0.6799999999999999,
          0.6799999999999999,
          0.8400000000000001,
          0.6799999999999999,
          0.6799999999999999,
          0.6799999999999999,
          0.8400000000000001,
          0.6799999999999999,
          0.6799999999999999,
          0.6799999999999999,
          0.6799999999999999,
          0.6799999999999999,
          0.6799999999999999,
          0.6799999999999999,
          0.6799999999999999,
          0.6799999999999999,
          0.6799999999999999,
          0.6799999999999999,
          0.6799999999999999,
          0.6799999999999999,
          0.6799999999999999,
          0.6799999999999999,
          0.6799999999999999,
          0.6799999999999999,
          0.6799999999999999,
          0.8400000000000001,
          0.6799999999999999,
          0.8400000000000001,
          0.6799999999999999,
          0.6799999999999999,
          0.52,
          0.6799999999999999,
          0.8400000000000001,
          0.6799999999999999,
          0.6799999999999999,
          0.6799999999999999,
          0.6799999999999999,
          0.6799999999999999,
          0.6799999999999999,
          0.6799999999999999,
          0.6799999999999999,
          0.6799999999999999,
          0.6799999999999999,
          0.6799999999999999,
          0.6799999999999999,
          0.8400000000000001,
          0.6799999999999999,
          0.8400000000000001,
          0.6799999999999999,
          0.6799999999999999,
          0.6799999999999999,
          0.6799999999999999,
          0.6799999999999999,
          0.6799999999999999,
          0.6799999999999999,
          0.6799999999999999,
          0.6799999999999999,
          0.6799999999999999,
          0.6799999999999999,
          0.6799999999999999,
          0.6799999999999999,
          0.6799999999999999,
          0.6799999999999999,
          0.6799999999999999,
          0.6799999999999999,
          0.8400000000000001,
          0.6799999999999999,
          0.8400000000000001,
          0.6799999999999999,
          0.6799999999999999,
          0.6799999999999999,
          0.6799999999999999,
          0.6799999999999999,
          0.8400000000000001,
          0.8400000000000001,
          0.8400000000000001,
          0.8400000000000001,
          0.8400000000000001,
          0.8400000000000001,
          0.8400000000000001,
          0.8400000000000001,
          0.8400000000000001,
          0.8400000000000001,
          0.8400000000000001,
          0.8400000000000001,
          0.8400000000000001,
          0.8400000000000001,
          0.8400000000000001,
          0.6799999999999999,
          0.6799999999999999,
          0.8400000000000001,
          0.8400000000000001,
          0.8400000000000001,
          0.8400000000000001,
          0.8400000000000001,
          0.8400000000000001,
          0.8400000000000001,
          0.8400000000000001,
          0.8400000000000001,
          0.8400000000000001,
          0.8400000000000001,
          0.6799999999999999,
          0.8400000000000001,
          0.8400000000000001,
          0.6799999999999999,
          0.6799999999999999,
          0.6799999999999999,
          0.6799999999999999,
          0.6799999999999999,
          0.6799999999999999,
          0.6799999999999999,
          0.6799999999999999,
          0.6799999999999999,
          0.6799999999999999,
          0.6799999999999999,
          0.6799999999999999,
          0.6799999999999999,
          0.6799999999999999,
          0.6799999999999999,
          0.6799999999999999,
          0.6799999999999999,
          0.6799999999999999,
          0.6799999999999999,
          0.6799999999999999,
          0.6799999999999999,
          0.6799999999999999,
          0.6799999999999999,
          0.6799999999999999,
          0.6799999999999999,
          0.6799999999999999,
          0.6799999999999999,
          0.6799999999999999,
          0.6799999999999999,
          0.6799999999999999,
          0.6799999999999999,
          0.6799999999999999,
          0.6799999999999999,
          0.6799999999999999,
          0.6799999999999999,
          0.6799999999999999,
          0.6799999999999999,
          0.8400000000000001,
          0.6799999999999999,
          0.8400000000000001,
          0.6799999999999999,
          0.6799999999999999,
          0.8400000000000001,
          0.52,
          0.6799999999999999,
          0.36,
          0.6799999999999999,
          0.6799999999999999,
          0.6799999999999999,
          0.6799999999999999,
          0.6799999999999999,
          0.6799999999999999,
          0.2,
          0.6799999999999999,
          0.6799999999999999,
          0.6799999999999999,
          0.6799999999999999,
          0.6799999999999999,
          0.6799999999999999,
          0.52,
          0.52,
          0.6799999999999999,
          0.6799999999999999,
          0.6799999999999999,
          0.6799999999999999,
          0.6799999999999999,
          0.6799999999999999,
          0.6799999999999999,
          0.6799999999999999,
          0.6799999999999999
         ],
         "marker": {
          "color": "#ffad46"
         },
         "r": [
          0.16,
          0.16,
          0.16,
          0.16,
          0.16,
          0.16,
          0.16,
          0.16,
          0.16,
          0.16,
          0.16,
          0.16,
          0.16,
          0.16,
          0.16,
          0.16,
          0.16,
          0.16,
          0.16,
          0.16,
          0.16,
          0.16,
          0.16,
          0.16,
          0.16,
          0.16,
          0.16,
          0.16,
          0.16,
          0.16,
          0.16,
          0.16,
          0.16,
          0.16,
          0.16,
          0.16,
          0.16,
          0.16,
          0.16,
          0.16,
          0.16,
          0.16,
          0.16,
          0.16,
          0.16,
          0.16,
          0.16,
          0.16,
          0.16,
          0.16,
          0.16,
          0.16,
          0.16,
          0.16,
          0.16,
          0.16,
          0.16,
          0.16,
          0.16,
          0.16,
          0.16,
          0.16,
          0.16,
          0.16,
          0.16,
          0.16,
          0.16,
          0.16,
          0.16,
          0.16,
          0.16,
          0.16,
          0.16,
          0.16,
          0.16,
          0.16,
          0.16,
          0.16,
          0.16,
          0.16,
          0.16,
          0.16,
          0.16,
          0.16,
          0.16,
          0.16,
          0.16,
          0.16,
          0.16,
          0.16,
          0.16,
          0.16,
          0.16,
          0.16,
          0.16,
          0.16,
          0.16,
          0.16,
          0.16,
          0.16,
          0.16,
          0.16,
          0.16,
          0.16,
          0.16,
          0.16,
          0.16,
          0.16,
          0.16,
          0.16,
          0.16,
          0.16,
          0.16,
          0.16,
          0.16,
          0.16,
          0.16,
          0.16,
          0.16,
          0.16,
          0.16,
          0.16,
          0.16,
          0.16,
          0.16,
          0.16,
          0.16,
          0.16,
          0.16,
          0.16,
          0.16,
          0.16,
          0.16,
          0.16,
          0.16,
          0.16,
          0.16,
          0.16,
          0.16,
          0.16,
          0.16,
          0.16,
          0.16,
          0.16,
          0.16,
          0.16,
          0.16,
          0.16,
          0.16,
          0.16,
          0.16,
          0.16,
          0.16,
          0.16,
          0.16,
          0.16,
          0.16,
          0.16,
          0.16,
          0.16,
          0.16,
          0.16,
          0.16,
          0.16,
          0.16,
          0.16,
          0.16,
          0.16,
          0.16,
          0.16,
          0.16,
          0.16,
          0.16,
          0.16,
          0.16,
          0.16,
          0.16,
          0.16,
          0.16,
          0.16,
          0.16,
          0.16,
          0.16,
          0.16,
          0.16,
          0.16,
          0.16,
          0.16,
          0.16,
          0.16,
          0.16,
          0.16,
          0.16,
          0.16,
          0.16,
          0.16,
          0.16,
          0.16,
          0.16,
          0.16,
          0.16,
          0.16,
          0.16,
          0.16,
          0.16,
          0.16,
          0.16,
          0.16,
          0.16,
          0.16,
          0.16,
          0.16,
          0.16,
          0.16,
          0.16,
          0.16,
          0.16,
          0.16,
          0.16,
          0.16,
          0.16,
          0.16,
          0.16,
          0.16,
          0.16,
          0.16,
          0.16,
          0.16,
          0.16,
          0.16,
          0.16,
          0.16,
          0.16,
          0.16,
          0.16,
          0.16,
          0.16,
          0.16,
          0.16,
          0.16,
          0.16,
          0.16,
          0.16,
          0.16,
          0.16,
          0.16,
          0.16,
          0.16,
          0.16,
          0.16,
          0.16,
          0.16,
          0.16,
          0.16,
          0.16,
          0.16,
          0.16,
          0.16,
          0.16,
          0.16,
          0.16,
          0.16,
          0.16,
          0.16,
          0.16,
          0.16,
          0.16,
          0.16,
          0.16,
          0.16,
          0.16,
          0.16,
          0.16,
          0.16,
          0.16,
          0.16,
          0.16,
          0.16,
          0.16,
          0.16,
          0.16,
          0.16,
          0.16,
          0.16,
          0.16,
          0.16,
          0.16,
          0.16,
          0.16,
          0.16,
          0.16,
          0.16,
          0.16,
          0.16,
          0.16,
          0.16,
          0.16,
          0.16,
          0.16,
          0.16,
          0.16,
          0.16,
          0.16,
          0.16,
          0.16,
          0.16,
          0.16,
          0.16,
          0.16
         ],
         "text": [
          "0 2024-02-01 12:00:00 GLPA News Due",
          "1 2024-05-01 12:00:00 GLPA News Due",
          "2 2024-08-01 12:00:00 GLPA News Due",
          "3 2024-11-01 12:00:00 GLPA News Due",
          "4 2024-01-01 12:00:00 Approve Hours",
          "5 2024-01-15 12:00:00 Approve Hours",
          "6 2024-01-29 12:00:00 Approve Hours",
          "7 2024-02-12 12:00:00 Approve Hours",
          "8 2024-02-26 12:00:00 Approve Hours",
          "9 2024-03-11 12:00:00 Approve Hours",
          "10 2024-03-25 12:00:00 Approve Hours",
          "11 2024-04-08 12:00:00 Approve Hours",
          "12 2024-04-22 12:00:00 Approve Hours",
          "13 2024-05-06 12:00:00 Approve Hours",
          "14 2024-05-20 12:00:00 Approve Hours",
          "15 2024-06-03 12:00:00 Approve Hours",
          "16 2024-06-17 12:00:00 Approve Hours",
          "17 2024-07-01 12:00:00 Approve Hours",
          "18 2024-07-15 12:00:00 Approve Hours",
          "19 2024-07-29 12:00:00 Approve Hours",
          "20 2024-08-12 12:00:00 Approve Hours",
          "21 2024-08-26 12:00:00 Approve Hours",
          "22 2024-09-09 12:00:00 Approve Hours",
          "23 2024-09-23 12:00:00 Approve Hours",
          "24 2024-10-07 12:00:00 Approve Hours",
          "25 2024-10-21 12:00:00 Approve Hours",
          "26 2024-11-04 12:00:00 Approve Hours",
          "27 2024-11-18 12:00:00 Approve Hours",
          "28 2024-12-02 12:00:00 Approve Hours",
          "29 2024-12-16 12:00:00 Approve Hours",
          "30 2024-12-30 12:00:00 Approve Hours",
          "31 2024-03-22 12:00:00 WVPE Day",
          "32 2024-06-05 12:00:00 Frontiers in Nuclear Astrophysics ",
          "33 2024-12-06 12:00:00 Christmas Lecture",
          "34 2024-02-10 12:00:00 Science Alive",
          "35 2024-06-04 00:00:00 Talk on Communicating Science.",
          "36 2024-01-25 20:00:00-05:00 ILI Initiative",
          "37 2024-01-25 20:00:00-05:00 ILI Initiative",
          "38 2024-01-11 12:00:00 Arielle’s Talk",
          "39 2024-02-01 12:00:00 Stephen Heritage REU recc letter",
          "40 2024-11-01 12:00:00 call for proposal for “Summer Academy\"",
          "41 2024-01-22 12:00:00 Annual scholarly report",
          "42 2024-01-09 12:00:00-05:00 Meet over Library / ND Eclipse activities.",
          "43 2024-01-05 12:30:00-05:00 Matt and Lucas Lunch interview with Keith",
          "44 2024-01-09 12:00:00-05:00 Library ND Eclipse Activities",
          "45 2024-01-05 13:30:00-05:00 Possible hold for Astrophysics discussion",
          "46 2024-01-12 15:22:30-05:00 Eclipse stuff Keith and Deanna",
          "47 2024-01-12 13:52:30-05:00 Fabio and Keith Zoom",
          "48 2024-04-05 15:22:30-04:00 Eclipse update meeting",
          "49 2024-01-13 19:00:00-05:00 Keith Davis' Zoom Meeting",
          "50 2024-01-15 10:15:00-05:00 Astro Faculty Meeting",
          "51 2024-01-17 14:30:00-05:00 Keith Davis",
          "52 2024-01-17 14:30:00-05:00 DVT Upgrade Kickoff Zoom",
          "53 2024-01-17 14:30:00-05:00 DVT Upgrade - RFP Kickoff Meeting",
          "54 2024-01-23 11:00:00-05:00 Postdoc Coffee Hour with Keith Davis: Science Communication",
          "55 2024-01-22 13:37:30-05:00 Meet over Chem",
          "56 2024-01-19 10:37:30-05:00 Meet with DVT Students",
          "57 2024-01-26 15:22:30-05:00 Eclipse update meeting",
          "58 2024-01-26 15:30:00-05:00 Busy",
          "59 2024-04-02 19:00:00-04:00 Lauren Weiss Talk",
          "60 2024-01-24 12:30:00-05:00 Lunch",
          "61 2024-01-25 11:30:00-05:00 DVT Upgrade - Project Touch Base",
          "62 2024-01-24 15:30:00-05:00 Michelle",
          "63 2024-01-29 13:30:00-05:00 Keith / Miguel data discussion",
          "64 2024-03-01 12:00:00 Prospective Grad Visit",
          "65 2024-01-30 11:37:30-05:00 Descriptive Astronomy - Prof. Garnavich out of Town (Planet Tracking Activity)",
          "66 2024-03-27 19:00:00-04:00 Phil’s Eclipse talk",
          "67 2024-01-30 16:30:00-05:00 Busy",
          "68 2024-01-29 16:22:30-05:00 Keith Davis' Zoom Meeting",
          "69 2024-01-31 10:30:00-05:00 Keith / Miguel github tutorial meeting?",
          "70 2024-03-06 14:22:30-05:00 Eclipse update meeting",
          "71 2024-02-07 15:52:30-05:00 Eclipse update meeting",
          "72 2024-03-22 15:00:00-04:00 WVPE",
          "73 2024-02-02 14:00:00-05:00 DVT Upgrade - Committee Meeting",
          "74 2024-03-27 00:00:00 Release RFP",
          "75 2024-02-16 14:25:00-05:00 Orbital and Space Dynamics - Karel Matous",
          "76 2024-02-01 16:30:00-05:00 Physics Colloquium (PHYS73000) 118 NSH",
          "77 2024-02-04 19:00:00-05:00 Keith Davis' Zoom Meeting",
          "78 2024-02-08 13:37:30-05:00 Prep",
          "79 2024-02-08 14:37:30-05:00 Phillippe Collon Physics of Civilication",
          "80 2024-02-07 09:05:00-05:00 Prep",
          "81 2024-02-14 14:30:00-05:00 DVT Upgrade - Committee Meeting",
          "82 2024-01-18 13:00:00-05:00 Astro Journal Club",
          "83 2024-01-25 13:00:00-05:00 Astro Journal Club",
          "84 2024-02-20 12:00:00 Keith In Boston",
          "85 2024-02-13 15:47:30-05:00 Travel",
          "86 2024-02-13 16:30:00-05:00 therapy",
          "87 2024-02-19 11:54:00-05:00 Flight# UA5309 from SBN -> ORD\n (1 hour and 9 mins.)  Layover of 1 hour and 21 mins.  Flight# 2617 from ORD -> BOS\n (2 hours and 18 mins.)",
          "88 2024-02-29 10:30:00-05:00 Furnace CHeckup.",
          "89 2024-02-27 13:00:00-05:00 PT",
          "90 2024-02-28 10:30:00-05:00 Beiger Elementary",
          "91 2024-02-22 16:30:00-05:00 Physics Colloquium (PHYS73000) 118 NSH",
          "92 2024-02-15 16:30:00-05:00 Physics Colloquium (PHYS73000) 118 NSH",
          "93 2024-02-13 12:15:00-05:00 Physics & Astronomy LGBTQ/Ally Luncheon",
          "94 2024-02-21 13:45:00-05:00 Discuss Eclipse Event - Irish Green",
          "95 2024-02-29 13:07:30-05:00 Losecco cosmology",
          "96 2024-02-28 18:37:30-05:00 Prep",
          "97 2024-02-23 14:30:00-05:00 DVT Upgrade RFP Discussion",
          "98 2024-02-23 16:07:30-05:00 Eclipse update meeting",
          "99 2024-02-23 13:15:00-05:00 Faculty Meeting",
          "100 2024-02-23 16:45:00-05:00 Discuss budget and plans for April 8 eclipse",
          "101 2024-02-27 11:37:30-05:00 Eclipses for Desc Astro",
          "102 2024-02-29 14:37:30-05:00 Descriptive Astronomy Prof. Beers out of Town",
          "103 2024-02-27 10:37:30-05:00 Prep",
          "104 2024-02-28 09:37:30-05:00 Pre[",
          "105 2024-03-01 10:30:00-05:00 Stephen Piloting - Pierre Moran Middle and North Side Middle School",
          "106 2024-03-01 09:37:30-05:00 Prep",
          "107 2024-02-26 14:52:30-05:00 Eclipse - backup plan discussion",
          "108 2024-01-19 13:15:00-05:00 Faculty Meeting",
          "109 2024-03-06 10:30:00-05:00 DVT Upgrade RFP Committee Meeting",
          "110 2024-03-11 16:30:00-04:00 therapy",
          "111 2024-03-11 11:00:00-04:00 physical therapy",
          "112 2024-03-05 12:30:00-05:00 Lunch w/ Jeff",
          "113 2024-01-16 14:30:00-05:00 Environmentally Dependent Galaxy Evolution weekly group meeting (Hybrid)",
          "114 2024-01-23 14:30:00-05:00 Environmentally Dependent Galaxy Evolution weekly group meeting (Hybrid)",
          "115 2024-02-06 14:30:00-05:00 Environmentally Dependent Galaxy Evolution weekly group meeting (Hybrid)",
          "116 2024-02-27 14:30:00-05:00 Environmentally Dependent Galaxy Evolution weekly group meeting (Hybrid)",
          "117 2024-02-13 14:30:00-05:00 Environmentally Dependent Galaxy Evolution weekly group meeting (Hybrid)",
          "118 2024-02-20 14:30:00-05:00 Environmentally Dependent Galaxy Evolution weekly group meeting (Hybrid)",
          "119 2024-03-05 16:30:00-05:00 Physics Colloquium (PHYS73000) 118 NSH",
          "120 2024-02-29 16:30:00-05:00 Physics Colloquium (PHYS73000) 118 NSH",
          "121 2024-03-07 11:30:00-05:00 Eclipse Stream Advance",
          "122 2024-04-20 12:00:00-04:00 State Meeting",
          "123 2024-03-20 14:37:30-04:00 Eclipse update meeting",
          "124 2024-03-11 13:30:00-04:00 Meeting over display cases",
          "125 2024-03-13 14:35:00-04:00 Dune 2",
          "126 2024-03-13 12:15:00-04:00 Optional lunch with Jeff & Ken before the movie",
          "127 2024-03-13 14:15:00-04:00 Dune 2 with Jeff & Ken",
          "128 2024-03-11 13:30:00-04:00 Astrophysics case discussion",
          "129 2024-03-27 15:22:30-04:00 Eclipse update meeting",
          "130 2024-03-18 15:15:00-04:00 haircyt",
          "131 2024-03-15 15:22:30-04:00 Eclipse update meeting",
          "132 2024-03-22 12:30:00-04:00 meet with Adam about postdoc",
          "133 2024-03-21 15:00:00-04:00 DVT Upgrade - RFP Meeting",
          "134 2024-03-21 13:37:30-04:00 Eclipse meeting - 215 Jordan",
          "135 2024-03-28 14:45:00-04:00 Final RFP Draft - DVT Upgrade Meeting",
          "136 2024-03-28 13:00:00-04:00 Solar Telescope meeting. (weather dependent)",
          "137 2024-04-01 13:45:00-04:00 DVT RFP chat",
          "138 2024-03-26 16:30:00-04:00 Physics Colloquium (PHYS73000) 118 NSH",
          "139 2024-03-25 12:45:00-04:00 LGBTQ/Ally Luncheon",
          "140 2024-04-29 13:30:00-04:00 Jury Duty",
          "141 2024-04-07 13:15:00-04:00 Eclipse Volunteer Q & A",
          "142 2024-04-17 15:00:00-04:00 DVT Upgrade Bidder Conference & Walkthrough (Confirmed)",
          "143 2024-01-16 13:00:00-05:00 Astrophysics Seminar (PHYS83200) 184 NSH",
          "144 2024-01-23 13:00:00-05:00 Astrophysics Seminar (PHYS83200) 184 NSH",
          "145 2024-02-06 13:00:00-05:00 Astrophysics Seminar (PHYS83200) 184 NSH",
          "146 2024-04-05 13:15:00-04:00 Faculty Meeting",
          "147 2024-01-30 13:00:00-05:00 Astrophysics Seminar (PHYS83200) 184 NSH",
          "148 2024-02-13 13:00:00-05:00 Astrophysics Seminar (PHYS83200) 184 NSH",
          "149 2024-02-20 13:00:00-05:00 Astrophysics Seminar (PHYS83200) 184 NSH",
          "150 2024-02-27 13:00:00-05:00 Astrophysics Seminar (PHYS83200) 184 NSH",
          "151 2024-03-05 13:00:00-05:00 Astrophysics Seminar (PHYS83200) 184 NSH",
          "152 2024-03-12 13:00:00-04:00 Astrophysics Seminar (PHYS83200) 184 NSH",
          "153 2024-03-19 13:00:00-04:00 Astrophysics Seminar (PHYS83200) 184 NSH",
          "154 2024-03-26 13:00:00-04:00 Astrophysics Seminar (PHYS83200) 184 NSH",
          "155 2024-04-02 13:00:00-04:00 Astrophysics Seminar (PHYS83200) 184 NSH",
          "156 2024-04-09 13:00:00-04:00 Astrophysics Seminar (PHYS83200) 184 NSH",
          "157 2024-04-23 13:00:00-04:00 Astrophysics Seminar (PHYS83200) 184 NSH",
          "158 2024-04-16 13:00:00-04:00 Astrophysics Seminar (PHYS83200) 184 NSH",
          "159 2024-04-23 13:07:30-04:00 Losecco Cosmology",
          "160 2024-04-25 14:37:30-04:00 American Indian Catholic Schools Network",
          "161 2024-04-25 10:07:30-04:00 Science Communications Class",
          "162 2024-04-23 11:07:30-04:00 pt",
          "163 2024-04-18 13:00:00-04:00 Busy",
          "164 2024-04-19 13:07:30-04:00 Busy",
          "165 2024-04-23 12:00:00 Q and A due from bidders",
          "166 2024-04-29 17:30:00-04:00 Written responses",
          "167 2024-04-23 10:22:30-04:00 Dr. Keith Davis Appointments (Sara Wheeler)",
          "168 2024-02-01 13:00:00-05:00 Astro Journal Club",
          "169 2024-02-08 13:00:00-05:00 Astro Journal Club",
          "170 2024-02-15 13:00:00-05:00 Astro Journal Club",
          "171 2024-02-29 13:00:00-05:00 Astro Journal Club",
          "172 2024-03-07 13:00:00-05:00 Astro Journal Club",
          "173 2024-03-14 13:00:00-04:00 Astro Journal Club",
          "174 2024-03-21 13:00:00-04:00 Astro Journal Club",
          "175 2024-03-28 13:00:00-04:00 Astro Journal Club",
          "176 2024-04-04 13:00:00-04:00 Astro Journal Club",
          "177 2024-04-11 13:00:00-04:00 Astro Journal Club",
          "178 2024-04-18 13:00:00-04:00 Astro Journal Club",
          "179 2024-04-25 16:20:00-04:00 Foot appointment",
          "180 2024-04-25 15:30:00-04:00 Trvel",
          "181 2024-04-24 16:30:00-04:00 therapy",
          "182 2024-04-24 15:45:00-04:00 Travel",
          "183 2024-04-24 14:30:00-04:00 DVT Upgrade RFP - Written Questions",
          "184 2024-08-27 13:00:00-04:00 Astrophysics Seminar (83200) 127 NSH",
          "185 2024-09-03 13:00:00-04:00 Astrophysics Seminar (83200) 127 NSH",
          "186 2024-09-10 13:00:00-04:00 Astrophysics Seminar (83200) 127 NSH",
          "187 2024-09-17 13:00:00-04:00 Astrophysics Seminar (83200) 127 NSH",
          "188 2024-09-24 13:00:00-04:00 Astrophysics Seminar (83200) 127 NSH",
          "189 2024-10-01 13:00:00-04:00 Astrophysics Seminar (83200) 127 NSH",
          "190 2024-10-08 13:00:00-04:00 Astrophysics Seminar (83200) 127 NSH",
          "191 2024-10-15 13:00:00-04:00 Astrophysics Seminar (83200) 127 NSH",
          "192 2024-10-22 13:00:00-04:00 Astrophysics Seminar (83200) 127 NSH",
          "193 2024-10-29 13:00:00-04:00 Astrophysics Seminar (83200) 127 NSH",
          "194 2024-11-05 13:00:00-05:00 Astrophysics Seminar (83200) 127 NSH",
          "195 2024-11-12 13:00:00-05:00 Astrophysics Seminar (83200) 127 NSH",
          "196 2024-11-19 13:00:00-05:00 Astrophysics Seminar (83200) 127 NSH",
          "197 2024-11-26 13:00:00-05:00 Astrophysics Seminar (83200) 127 NSH",
          "198 2024-12-03 13:00:00-05:00 Astrophysics Seminar (83200) 127 NSH",
          "199 2024-12-10 13:00:00-05:00 Astrophysics Seminar (83200) 127 NSH",
          "200 2024-04-24 10:22:30-04:00 Dr. Keith Davis Appointments (Sara Wheeler)",
          "201 2024-05-16 14:30:00-04:00 St. Vincent De Paul",
          "202 2024-05-16 13:45:00-04:00 Prep",
          "203 2024-05-13 15:00:00-04:00 DVT Upgrade RFP -Evaluation",
          "204 2024-04-30 13:00:00-04:00 Astrophysics Seminar (PHYS83200) 184 NSH",
          "205 2024-04-30 13:30:00-04:00 Jury Duty",
          "206 2024-05-01 13:30:00-04:00 Jury Duty",
          "207 2024-05-02 13:30:00-04:00 Jury Duty",
          "208 2024-01-17 15:15:00-05:00 Colloquium Tea",
          "209 2024-01-24 15:15:00-05:00 Colloquium Tea",
          "210 2024-01-31 15:15:00-05:00 Colloquium Tea",
          "211 2024-02-07 15:15:00-05:00 Colloquium Tea",
          "212 2024-02-14 15:15:00-05:00 Colloquium Tea",
          "213 2024-02-21 15:15:00-05:00 Colloquium Tea",
          "214 2024-02-28 15:15:00-05:00 Colloquium Tea",
          "215 2024-03-06 15:15:00-05:00 Colloquium Tea",
          "216 2024-03-13 15:15:00-04:00 Colloquium Tea",
          "217 2024-03-20 15:15:00-04:00 Colloquium Tea",
          "218 2024-03-27 15:15:00-04:00 Colloquium Tea",
          "219 2024-04-03 15:15:00-04:00 Colloquium Tea",
          "220 2024-04-10 15:15:00-04:00 Colloquium Tea",
          "221 2024-04-17 15:15:00-04:00 Colloquium Tea",
          "222 2024-05-01 15:15:00-04:00 Colloquium Tea",
          "223 2024-04-23 12:45:00-04:00 LGBTQ/Ally Luncheon",
          "224 2024-05-03 13:15:00-04:00 Faculty Meeting",
          "225 2024-02-06 13:52:30-05:00 Meet with Alex",
          "226 2024-02-13 13:52:30-05:00 Meet with Alex",
          "227 2024-02-20 13:52:30-05:00 Meet with Alex",
          "228 2024-02-27 13:52:30-05:00 Meet with Alex",
          "229 2024-03-05 13:52:30-05:00 Meet with Alex",
          "230 2024-03-19 13:52:30-04:00 Meet with Alex",
          "231 2024-04-02 13:52:30-04:00 Meet with Alex",
          "232 2024-04-09 13:52:30-04:00 Meet with Alex",
          "233 2024-04-16 13:52:30-04:00 Meet with Alex",
          "234 2024-04-23 13:52:30-04:00 Meet with Alex",
          "235 2024-04-30 13:52:30-04:00 Meet with Alex",
          "236 2024-05-09 16:00:00-04:00 Lara / Keith",
          "237 2024-05-08 14:52:30-04:00 Fabio / Keith",
          "238 2024-07-10 16:07:30-04:00 DVT Show for PCST Symposium?",
          "239 2024-01-17 13:00:00-05:00 Physics Colloquium (PHYS73000) 127 NSH",
          "240 2024-01-24 13:00:00-05:00 Physics Colloquium (PHYS73000) 127 NSH",
          "241 2024-01-31 13:00:00-05:00 Physics Colloquium (PHYS73000) 127 NSH",
          "242 2024-02-07 13:00:00-05:00 Physics Colloquium (PHYS73000) 127 NSH",
          "243 2024-02-14 13:00:00-05:00 Physics Colloquium (PHYS73000) 127 NSH",
          "244 2024-02-21 13:00:00-05:00 Physics Colloquium (PHYS73000) 127 NSH",
          "245 2024-02-28 13:00:00-05:00 Physics Colloquium (PHYS73000) 127 NSH",
          "246 2024-03-06 13:00:00-05:00 Physics Colloquium (PHYS73000) 127 NSH",
          "247 2024-03-13 13:00:00-04:00 Physics Colloquium (PHYS73000) 127 NSH",
          "248 2024-03-20 13:00:00-04:00 Physics Colloquium (PHYS73000) 127 NSH",
          "249 2024-03-27 13:00:00-04:00 Physics Colloquium (PHYS73000) 127 NSH",
          "250 2024-04-03 13:00:00-04:00 Physics Colloquium (PHYS73000) 127 NSH",
          "251 2024-04-10 13:00:00-04:00 Physics Colloquium (PHYS73000) 127 NSH",
          "252 2024-04-17 13:00:00-04:00 Physics Colloquium (PHYS73000) 127 NSH",
          "253 2024-04-24 13:00:00-04:00 Physics Colloquium (PHYS73000) 127 NSH",
          "254 2024-05-01 13:00:00-04:00 Physics Colloquium (PHYS73000) 127 NSH",
          "255 2024-09-04 13:00:00-04:00 Physics Colloquium (73000) 127 NSH",
          "256 2024-09-11 13:00:00-04:00 Physics Colloquium (73000) 127 NSH",
          "257 2024-09-18 13:00:00-04:00 Physics Colloquium (73000) 127 NSH",
          "258 2024-09-25 13:00:00-04:00 Physics Colloquium (73000) 127 NSH",
          "259 2024-10-02 13:00:00-04:00 Physics Colloquium (73000) 127 NSH",
          "260 2024-10-09 13:00:00-04:00 Physics Colloquium (73000) 127 NSH",
          "261 2024-10-16 13:00:00-04:00 Physics Colloquium (73000) 127 NSH",
          "262 2024-10-23 13:00:00-04:00 Physics Colloquium (73000) 127 NSH",
          "263 2024-10-30 13:00:00-04:00 Physics Colloquium (73000) 127 NSH",
          "264 2024-11-06 13:00:00-05:00 Physics Colloquium (73000) 127 NSH",
          "265 2024-11-13 13:00:00-05:00 Physics Colloquium (73000) 127 NSH",
          "266 2024-11-20 13:00:00-05:00 Physics Colloquium (73000) 127 NSH",
          "267 2024-11-27 13:00:00-05:00 Physics Colloquium (73000) 127 NSH",
          "268 2024-12-04 13:00:00-05:00 Physics Colloquium (73000) 127 NSH",
          "269 2024-12-11 13:00:00-05:00 Physics Colloquium (73000) 127 NSH",
          "270 2024-08-28 13:00:00-04:00 Physics Colloquium (73000) 127 NSH",
          "271 2024-07-09 12:45:00-04:00 Science Communication Conference",
          "272 2024-07-10 12:45:00-04:00 Science Communication Conference",
          "273 2024-07-11 12:45:00-04:00 Science Communication Conference",
          "274 2024-03-05 14:30:00-05:00 Galaxies neighborhood_Environmentally Dependent Galaxy Evolution weekly group meeting ",
          "275 2024-05-14 11:10:00-04:00 Tammi school presentation",
          "276 2024-05-14 10:22:30-04:00 Prep",
          "277 2024-05-16 16:15:00-04:00 DVT Upgrade RFP -Evaluation (cont'd if needed)",
          "278 2024-05-17 13:07:30-04:00 PT",
          "279 2024-06-25 14:30:00-04:00 WSP: Digital Visualization Theater Demonstration",
          "280 2024-05-15 14:30:00-04:00 DVT Upgrade RFP -Evaluation",
          "281 2024-06-03 10:45:00-04:00 Science Communication Talk",
          "282 2024-09-13 12:00:00 ND Press Inaugeuration",
          "283 2024-05-18 13:30:00-04:00 Physics graduation",
          "284 2024-09-05 12:00:00 Lips",
          "285 2024-05-23 09:30:00-04:00 PT",
          "286 2024-05-23 14:30:00-04:00 Therapy",
          "287 2024-05-24 11:30:00-04:00 Graage door fix",
          "288 2024-05-20 12:45:00-04:00 Lunch",
          "289 2024-09-05 17:45:00-04:00 Fall All-College Meeting 2024",
          "290 2024-12-06 19:30:00-05:00 Christmas Lecture Featuring Dr. Michelle Thaller, NASA Goddard Space Flight Center",
          "291 2024-07-05 00:00:00 NDQN RET/REHS",
          "292 2024-04-09 14:30:00-04:00 EDGE meeting",
          "293 2024-03-26 14:30:00-04:00 EDGE meeting",
          "294 2024-04-02 14:30:00-04:00 EDGE meeting",
          "295 2024-04-16 14:30:00-04:00 EDGE meeting",
          "296 2024-04-23 14:30:00-04:00 EDGE meeting",
          "297 2024-04-30 14:30:00-04:00 EDGE meeting",
          "298 2024-06-17 12:00:00 Visit to COSM",
          "299 2024-06-18 12:00:00 Visit to SSIA",
          "300 2024-05-07 14:30:00-04:00 EDGE meeting",
          "301 2024-05-14 14:30:00-04:00 EDGE meeting",
          "302 2024-05-28 14:30:00-04:00 EDGE meeting",
          "303 2024-06-04 14:30:00-04:00 EDGE meeting",
          "304 2024-06-11 14:30:00-04:00 EDGE meeting",
          "305 2024-06-18 14:30:00-04:00 EDGE meeting",
          "306 2024-06-25 14:30:00-04:00 EDGE meeting",
          "307 2024-05-21 14:30:00-04:00 EDGE meeting",
          "308 2024-05-22 12:45:00-04:00 Gym"
         ],
         "theta": [
          30.983606557377048,
          119.46721311475409,
          209.95901639344262,
          300.4508196721311,
          0.4918032786885246,
          14.262295081967213,
          28.0327868852459,
          41.80327868852459,
          55.57377049180328,
          69.30327868852459,
          83.07377049180327,
          96.84426229508196,
          110.61475409836065,
          124.38524590163934,
          138.15573770491804,
          151.92622950819674,
          165.69672131147541,
          179.46721311475412,
          193.2377049180328,
          207.0081967213115,
          220.77868852459017,
          234.54918032786887,
          248.31967213114754,
          262.0901639344262,
          275.8606557377049,
          289.6311475409836,
          303.44262295081967,
          317.21311475409834,
          330.983606557377,
          344.75409836065575,
          358.5245901639344,
          80.12295081967213,
          153.89344262295083,
          334.91803278688525,
          39.83606557377049,
          152.41803278688525,
          24.42622950819672,
          24.42622950819672,
          10.327868852459016,
          30.983606557377048,
          300.4508196721311,
          21.147540983606557,
          8.360655737704917,
          4.446721311475409,
          8.360655737704917,
          4.487704918032787,
          11.449795081967213,
          11.388319672131148,
          94.03176229508196,
          12.581967213114753,
          14.190573770491804,
          16.331967213114755,
          16.331967213114755,
          16.331967213114755,
          22.09016393442623,
          21.214139344262293,
          18.140368852459016,
          25.2202868852459,
          25.225409836065573,
          91.22950819672131,
          23.135245901639344,
          24.077868852459016,
          23.258196721311474,
          28.09426229508197,
          59.50819672131147,
          29.001024590163933,
          85.32786885245902,
          29.200819672131146,
          28.212090163934427,
          29.938524590163933,
          64.52356557377048,
          37.044057377049185,
          80.24590163934425,
          32.049180327868854,
          84.54918032786884,
          45.83674863387978,
          31.168032786885245,
          34.221311475409834,
          37.935450819672134,
          37.97643442622951,
          36.76571038251366,
          43.87295081967213,
          17.25409836065574,
          24.139344262295083,
          49.67213114754098,
          42.94228142076503,
          42.971311475409834,
          48.68442622950819,
          58.463114754098356,
          56.5983606557377,
          57.47950819672131,
          51.82377049180328,
          44.93852459016394,
          42.79713114754098,
          50.72745901639344,
          58.57069672131147,
          57.8125,
          52.72540983606557,
          52.79200819672131,
          52.674180327868854,
          52.81762295081967,
          56.54200819672131,
          58.63217213114754,
          56.50102459016394,
          57.443647540983605,
          59.44672131147541,
          59.4108606557377,
          55.69159836065573,
          18.24795081967213,
          64.36475409836065,
          69.48770491803278,
          69.26229508196721,
          63.463114754098356,
          15.348360655737704,
          22.23360655737705,
          36.00409836065573,
          56.659836065573764,
          42.889344262295076,
          49.77459016393442,
          63.627049180327866,
          58.709016393442624,
          65.38934426229508,
          108.64754098360655,
          78.26331967213115,
          69.36475409836065,
          71.37636612021858,
          71.28073770491802,
          71.36270491803278,
          69.36475409836065,
          85.17930327868852,
          76.32172131147541,
          73.37602459016392,
          80.14344262295083,
          79.26229508196721,
          79.20594262295083,
          86.13729508196721,
          86.0655737704918,
          90.03073770491802,
          84.24180327868852,
          83.10450819672131,
          117.56147540983606,
          95.91188524590164,
          105.81967213114754,
          15.286885245901638,
          22.172131147540984,
          35.94262295081967,
          93.94467213114754,
          29.057377049180328,
          42.82786885245901,
          49.713114754098356,
          56.5983606557377,
          63.48360655737705,
          70.32786885245902,
          77.21311475409836,
          84.09836065573771,
          90.98360655737704,
          97.8688524590164,
          111.63934426229508,
          104.75409836065573,
          111.64446721311475,
          113.67315573770492,
          113.48872950819671,
          111.5625,
          106.72131147540983,
          107.71004098360655,
          111.5983606557377,
          117.72540983606557,
          111.53176229508196,
          31.024590163934427,
          37.90983606557377,
          44.795081967213115,
          58.5655737704918,
          65.45081967213115,
          72.29508196721311,
          79.18032786885246,
          86.0655737704918,
          92.95081967213115,
          99.83606557377048,
          106.72131147540983,
          113.7431693989071,
          113.70901639344262,
          112.76639344262294,
          112.73565573770492,
          112.68442622950819,
          235.5737704918033,
          242.45901639344262,
          249.34426229508196,
          256.2295081967213,
          263.11475409836066,
          270,
          276.88524590163934,
          283.7704918032787,
          290.655737704918,
          297.54098360655735,
          304.4672131147541,
          311.3524590163935,
          318.2377049180328,
          325.12295081967216,
          332.0081967213115,
          338.89344262295083,
          112.51536885245902,
          134.3237704918033,
          134.29303278688525,
          131.39344262295083,
          118.52459016393442,
          118.54508196721311,
          119.52868852459015,
          120.51229508196721,
          16.362704918032787,
          23.24795081967213,
          30.133196721311474,
          37.018442622950815,
          43.90368852459016,
          50.7889344262295,
          57.67418032786885,
          64.5594262295082,
          71.40368852459017,
          78.2889344262295,
          85.17418032786885,
          92.05942622950819,
          98.94467213114754,
          105.82991803278688,
          119.60040983606557,
          111.62909836065573,
          121.48565573770492,
          35.978483606557376,
          42.86372950819672,
          49.74897540983606,
          56.63422131147541,
          63.51946721311475,
          77.24897540983606,
          91.01946721311475,
          97.90471311475409,
          104.78995901639344,
          111.67520491803278,
          118.56045081967213,
          127.5,
          126.4702868852459,
          188.48872950819674,
          16.270491803278688,
          23.155737704918035,
          30.04098360655738,
          36.92622950819672,
          43.81147540983606,
          50.69672131147541,
          57.58196721311475,
          64.4672131147541,
          71.31147540983606,
          78.19672131147541,
          85.08196721311475,
          91.9672131147541,
          98.85245901639344,
          105.73770491803279,
          112.62295081967213,
          119.50819672131148,
          243.44262295081967,
          250.327868852459,
          257.21311475409834,
          264.0983606557377,
          270.9836065573771,
          277.8688524590164,
          284.75409836065575,
          291.6393442622951,
          298.5245901639344,
          305.45081967213116,
          312.3360655737705,
          319.22131147540983,
          326.10655737704917,
          332.99180327868856,
          339.8770491803279,
          236.55737704918033,
          187.36680327868854,
          188.35040983606558,
          189.33401639344262,
          63.54508196721312,
          132.21994535519127,
          132.1875,
          134.39549180327867,
          135.25102459016395,
          173.66803278688525,
          133.34016393442622,
          151.875,
          252.25409836065572,
          136.25,
          244.38524590163934,
          141.00409836065572,
          141.20901639344262,
          142.06967213114754,
          138.18647540983608,
          244.62090163934425,
          335.2254098360656,
          182.90983606557378,
          97.93032786885246,
          84.15983606557377,
          91.04508196721311,
          104.8155737704918,
          111.70081967213115,
          118.58606557377048,
          165.69672131147541,
          166.68032786885246,
          125.47131147540983,
          132.35655737704917,
          146.12704918032787,
          153.0122950819672,
          159.89754098360655,
          166.7827868852459,
          173.66803278688525,
          139.2418032786885,
          140.15368852459017
         ],
         "type": "barpolar",
         "width": [
          0.9863013698630136,
          0.9863013698630136,
          0.9863013698630136,
          0.9863013698630136,
          0.9863013698630136,
          0.9863013698630136,
          0.9863013698630136,
          0.9863013698630136,
          0.9863013698630136,
          0.9863013698630136,
          0.9863013698630136,
          0.9863013698630136,
          0.9863013698630136,
          0.9863013698630136,
          0.9863013698630136,
          0.9863013698630136,
          0.9863013698630136,
          0.9863013698630136,
          0.9863013698630136,
          0.9863013698630136,
          0.9863013698630136,
          0.9863013698630136,
          0.9863013698630136,
          0.9863013698630136,
          0.9863013698630136,
          0.9863013698630136,
          0.9863013698630136,
          0.9863013698630136,
          0.9863013698630136,
          0.9863013698630136,
          0.9863013698630136,
          0.9863013698630136,
          4.931506849315069,
          0.9863013698630136,
          0.9863013698630136,
          1.9726027397260273,
          0.0410958904109589,
          0.0410958904109589,
          0.9863013698630136,
          0.9863013698630136,
          0.9863013698630136,
          0.9863013698630136,
          0.0410958904109589,
          0.0410958904109589,
          0.0410958904109589,
          0.0410958904109589,
          0.030821917808219176,
          0.030821917808219176,
          0.030821917808219176,
          0.1643835616438356,
          0.06164383561643835,
          0.0410958904109589,
          0.0410958904109589,
          0.0410958904109589,
          0.0410958904109589,
          0.030821917808219176,
          0.030821917808219176,
          0.030821917808219176,
          0.1232876712328767,
          0.0410958904109589,
          0.0410958904109589,
          0.0410958904109589,
          0.02054794520547945,
          0.0410958904109589,
          0.9863013698630136,
          0.05136986301369863,
          0.0410958904109589,
          0.0410958904109589,
          0.030821917808219176,
          0.0410958904109589,
          0.030821917808219176,
          0.030821917808219176,
          0.0821917808219178,
          0.0410958904109589,
          3.9452054794520546,
          0.03424657534246575,
          0.0410958904109589,
          0.1643835616438356,
          0.030821917808219176,
          0.05136986301369863,
          0.0273972602739726,
          0.0410958904109589,
          0.0410958904109589,
          0.0410958904109589,
          2.958904109589041,
          0.010273972602739725,
          0.0410958904109589,
          0.19726027397260273,
          0.0410958904109589,
          0.0410958904109589,
          0.0410958904109589,
          0.0410958904109589,
          0.0410958904109589,
          0.06164383561643835,
          0.02054794520547945,
          0.05136986301369863,
          0.030821917808219176,
          0.0410958904109589,
          0.030821917808219176,
          0.06164383561643835,
          0.02054794520547945,
          0.05136986301369863,
          0.05136986301369863,
          0.030821917808219176,
          0.030821917808219176,
          0.0410958904109589,
          0.030821917808219176,
          0.030821917808219176,
          0.06164383561643835,
          0.0410958904109589,
          0.0410958904109589,
          0.0410958904109589,
          0.0410958904109589,
          0.0410958904109589,
          0.0410958904109589,
          0.0410958904109589,
          0.0410958904109589,
          0.0410958904109589,
          0.0410958904109589,
          0.0410958904109589,
          0.0410958904109589,
          0.0410958904109589,
          0.2465753424657534,
          0.030821917808219176,
          0.0410958904109589,
          0.14383561643835616,
          0.0410958904109589,
          0.1232876712328767,
          0.0410958904109589,
          0.030821917808219176,
          0.02054794520547945,
          0.030821917808219176,
          0.0410958904109589,
          0.0410958904109589,
          0.030821917808219176,
          0.06164383561643835,
          0.0410958904109589,
          0.02054794520547945,
          0.0410958904109589,
          0.06164383561643835,
          0.2876712328767123,
          0.02054794520547945,
          0.1643835616438356,
          0.0410958904109589,
          0.0410958904109589,
          0.0410958904109589,
          0.06164383561643835,
          0.0410958904109589,
          0.0410958904109589,
          0.0410958904109589,
          0.0410958904109589,
          0.0410958904109589,
          0.0410958904109589,
          0.0410958904109589,
          0.0410958904109589,
          0.0410958904109589,
          0.0410958904109589,
          0.0410958904109589,
          0.0410958904109589,
          0.05136986301369863,
          0.030821917808219176,
          0.05136986301369863,
          0.030821917808219176,
          0.3287671232876712,
          0.3390410958904109,
          0.9863013698630136,
          0.0410958904109589,
          0.030821917808219176,
          0.0410958904109589,
          0.0410958904109589,
          0.0410958904109589,
          0.0410958904109589,
          0.0410958904109589,
          0.0410958904109589,
          0.0410958904109589,
          0.0410958904109589,
          0.0410958904109589,
          0.0410958904109589,
          0.0410958904109589,
          0.0410958904109589,
          0.02054794520547945,
          0.0410958904109589,
          0.02054794520547945,
          0.0410958904109589,
          0.0410958904109589,
          0.0410958904109589,
          0.0410958904109589,
          0.0410958904109589,
          0.0410958904109589,
          0.0410958904109589,
          0.0410958904109589,
          0.0410958904109589,
          0.0410958904109589,
          0.0410958904109589,
          0.0410958904109589,
          0.0410958904109589,
          0.0410958904109589,
          0.0410958904109589,
          0.0410958904109589,
          0.0410958904109589,
          0.030821917808219176,
          0.0410958904109589,
          0.02054794520547945,
          0.0821917808219178,
          0.0410958904109589,
          0.26712328767123283,
          0.26712328767123283,
          0.26712328767123283,
          0.02054794520547945,
          0.02054794520547945,
          0.02054794520547945,
          0.02054794520547945,
          0.02054794520547945,
          0.02054794520547945,
          0.02054794520547945,
          0.02054794520547945,
          0.02054794520547945,
          0.02054794520547945,
          0.02054794520547945,
          0.02054794520547945,
          0.02054794520547945,
          0.02054794520547945,
          0.02054794520547945,
          0.06164383561643835,
          0.06164383561643835,
          0.010273972602739725,
          0.010273972602739725,
          0.010273972602739725,
          0.010273972602739725,
          0.010273972602739725,
          0.010273972602739725,
          0.010273972602739725,
          0.010273972602739725,
          0.010273972602739725,
          0.010273972602739725,
          0.010273972602739725,
          0.0410958904109589,
          0.030821917808219176,
          0.030821917808219176,
          0.0410958904109589,
          0.0410958904109589,
          0.0410958904109589,
          0.0410958904109589,
          0.0410958904109589,
          0.0410958904109589,
          0.0410958904109589,
          0.0410958904109589,
          0.0410958904109589,
          0.0410958904109589,
          0.0410958904109589,
          0.0410958904109589,
          0.0410958904109589,
          0.0410958904109589,
          0.0410958904109589,
          0.0410958904109589,
          0.0410958904109589,
          0.0410958904109589,
          0.0410958904109589,
          0.0410958904109589,
          0.0410958904109589,
          0.0410958904109589,
          0.0410958904109589,
          0.0410958904109589,
          0.0410958904109589,
          0.0410958904109589,
          0.0410958904109589,
          0.0410958904109589,
          0.0410958904109589,
          0.0410958904109589,
          0.0410958904109589,
          0.0410958904109589,
          0.3493150684931507,
          0.3493150684931507,
          0.3493150684931507,
          0.0410958904109589,
          0.0410958904109589,
          0.030821917808219176,
          0.06164383561643835,
          0.030821917808219176,
          0.0410958904109589,
          0.0821917808219178,
          0.02054794520547945,
          0.9863013698630136,
          0.0410958904109589,
          2.958904109589041,
          0.0410958904109589,
          0.0410958904109589,
          0.2876712328767123,
          0.06164383561643835,
          0.10273972602739725,
          0.2054794520547945,
          49.31506849315068,
          0.0410958904109589,
          0.0410958904109589,
          0.0410958904109589,
          0.0410958904109589,
          0.0410958904109589,
          0.0410958904109589,
          0.9863013698630136,
          0.9863013698630136,
          0.0410958904109589,
          0.0410958904109589,
          0.0410958904109589,
          0.0410958904109589,
          0.0410958904109589,
          0.0410958904109589,
          0.0410958904109589,
          0.0410958904109589,
          0.10273972602739725
         ]
        }
       ],
       "layout": {
        "autosize": true,
        "polar": {
         "angularaxis": {
          "direction": "counterclockwise",
          "rotation": -90,
          "tickmode": "array",
          "tickvals": [
           30.491803278688526,
           59.01639344262295,
           89.46721311475409,
           118.97540983606557,
           149.46721311475412,
           178.97540983606558,
           209.46721311475412,
           239.95901639344262,
           269.4672131147541,
           299.9590163934426,
           329.5081967213115,
           0
          ],
          "type": "linear"
         },
         "radialaxis": {
          "autorange": true,
          "range": [
           0,
           1.0526315789473684
          ],
          "type": "linear"
         }
        },
        "template": {
         "data": {
          "bar": [
           {
            "error_x": {
             "color": "#2a3f5f"
            },
            "error_y": {
             "color": "#2a3f5f"
            },
            "marker": {
             "line": {
              "color": "#E5ECF6",
              "width": 0.5
             },
             "pattern": {
              "fillmode": "overlay",
              "size": 10,
              "solidity": 0.2
             }
            },
            "type": "bar"
           }
          ],
          "barpolar": [
           {
            "marker": {
             "line": {
              "color": "#E5ECF6",
              "width": 0.5
             },
             "pattern": {
              "fillmode": "overlay",
              "size": 10,
              "solidity": 0.2
             }
            },
            "type": "barpolar"
           }
          ],
          "carpet": [
           {
            "aaxis": {
             "endlinecolor": "#2a3f5f",
             "gridcolor": "white",
             "linecolor": "white",
             "minorgridcolor": "white",
             "startlinecolor": "#2a3f5f"
            },
            "baxis": {
             "endlinecolor": "#2a3f5f",
             "gridcolor": "white",
             "linecolor": "white",
             "minorgridcolor": "white",
             "startlinecolor": "#2a3f5f"
            },
            "type": "carpet"
           }
          ],
          "choropleth": [
           {
            "colorbar": {
             "outlinewidth": 0,
             "ticks": ""
            },
            "type": "choropleth"
           }
          ],
          "contour": [
           {
            "colorbar": {
             "outlinewidth": 0,
             "ticks": ""
            },
            "colorscale": [
             [
              0,
              "#0d0887"
             ],
             [
              0.1111111111111111,
              "#46039f"
             ],
             [
              0.2222222222222222,
              "#7201a8"
             ],
             [
              0.3333333333333333,
              "#9c179e"
             ],
             [
              0.4444444444444444,
              "#bd3786"
             ],
             [
              0.5555555555555556,
              "#d8576b"
             ],
             [
              0.6666666666666666,
              "#ed7953"
             ],
             [
              0.7777777777777778,
              "#fb9f3a"
             ],
             [
              0.8888888888888888,
              "#fdca26"
             ],
             [
              1,
              "#f0f921"
             ]
            ],
            "type": "contour"
           }
          ],
          "contourcarpet": [
           {
            "colorbar": {
             "outlinewidth": 0,
             "ticks": ""
            },
            "type": "contourcarpet"
           }
          ],
          "heatmap": [
           {
            "colorbar": {
             "outlinewidth": 0,
             "ticks": ""
            },
            "colorscale": [
             [
              0,
              "#0d0887"
             ],
             [
              0.1111111111111111,
              "#46039f"
             ],
             [
              0.2222222222222222,
              "#7201a8"
             ],
             [
              0.3333333333333333,
              "#9c179e"
             ],
             [
              0.4444444444444444,
              "#bd3786"
             ],
             [
              0.5555555555555556,
              "#d8576b"
             ],
             [
              0.6666666666666666,
              "#ed7953"
             ],
             [
              0.7777777777777778,
              "#fb9f3a"
             ],
             [
              0.8888888888888888,
              "#fdca26"
             ],
             [
              1,
              "#f0f921"
             ]
            ],
            "type": "heatmap"
           }
          ],
          "heatmapgl": [
           {
            "colorbar": {
             "outlinewidth": 0,
             "ticks": ""
            },
            "colorscale": [
             [
              0,
              "#0d0887"
             ],
             [
              0.1111111111111111,
              "#46039f"
             ],
             [
              0.2222222222222222,
              "#7201a8"
             ],
             [
              0.3333333333333333,
              "#9c179e"
             ],
             [
              0.4444444444444444,
              "#bd3786"
             ],
             [
              0.5555555555555556,
              "#d8576b"
             ],
             [
              0.6666666666666666,
              "#ed7953"
             ],
             [
              0.7777777777777778,
              "#fb9f3a"
             ],
             [
              0.8888888888888888,
              "#fdca26"
             ],
             [
              1,
              "#f0f921"
             ]
            ],
            "type": "heatmapgl"
           }
          ],
          "histogram": [
           {
            "marker": {
             "pattern": {
              "fillmode": "overlay",
              "size": 10,
              "solidity": 0.2
             }
            },
            "type": "histogram"
           }
          ],
          "histogram2d": [
           {
            "colorbar": {
             "outlinewidth": 0,
             "ticks": ""
            },
            "colorscale": [
             [
              0,
              "#0d0887"
             ],
             [
              0.1111111111111111,
              "#46039f"
             ],
             [
              0.2222222222222222,
              "#7201a8"
             ],
             [
              0.3333333333333333,
              "#9c179e"
             ],
             [
              0.4444444444444444,
              "#bd3786"
             ],
             [
              0.5555555555555556,
              "#d8576b"
             ],
             [
              0.6666666666666666,
              "#ed7953"
             ],
             [
              0.7777777777777778,
              "#fb9f3a"
             ],
             [
              0.8888888888888888,
              "#fdca26"
             ],
             [
              1,
              "#f0f921"
             ]
            ],
            "type": "histogram2d"
           }
          ],
          "histogram2dcontour": [
           {
            "colorbar": {
             "outlinewidth": 0,
             "ticks": ""
            },
            "colorscale": [
             [
              0,
              "#0d0887"
             ],
             [
              0.1111111111111111,
              "#46039f"
             ],
             [
              0.2222222222222222,
              "#7201a8"
             ],
             [
              0.3333333333333333,
              "#9c179e"
             ],
             [
              0.4444444444444444,
              "#bd3786"
             ],
             [
              0.5555555555555556,
              "#d8576b"
             ],
             [
              0.6666666666666666,
              "#ed7953"
             ],
             [
              0.7777777777777778,
              "#fb9f3a"
             ],
             [
              0.8888888888888888,
              "#fdca26"
             ],
             [
              1,
              "#f0f921"
             ]
            ],
            "type": "histogram2dcontour"
           }
          ],
          "mesh3d": [
           {
            "colorbar": {
             "outlinewidth": 0,
             "ticks": ""
            },
            "type": "mesh3d"
           }
          ],
          "parcoords": [
           {
            "line": {
             "colorbar": {
              "outlinewidth": 0,
              "ticks": ""
             }
            },
            "type": "parcoords"
           }
          ],
          "pie": [
           {
            "automargin": true,
            "type": "pie"
           }
          ],
          "scatter": [
           {
            "fillpattern": {
             "fillmode": "overlay",
             "size": 10,
             "solidity": 0.2
            },
            "type": "scatter"
           }
          ],
          "scatter3d": [
           {
            "line": {
             "colorbar": {
              "outlinewidth": 0,
              "ticks": ""
             }
            },
            "marker": {
             "colorbar": {
              "outlinewidth": 0,
              "ticks": ""
             }
            },
            "type": "scatter3d"
           }
          ],
          "scattercarpet": [
           {
            "marker": {
             "colorbar": {
              "outlinewidth": 0,
              "ticks": ""
             }
            },
            "type": "scattercarpet"
           }
          ],
          "scattergeo": [
           {
            "marker": {
             "colorbar": {
              "outlinewidth": 0,
              "ticks": ""
             }
            },
            "type": "scattergeo"
           }
          ],
          "scattergl": [
           {
            "marker": {
             "colorbar": {
              "outlinewidth": 0,
              "ticks": ""
             }
            },
            "type": "scattergl"
           }
          ],
          "scattermapbox": [
           {
            "marker": {
             "colorbar": {
              "outlinewidth": 0,
              "ticks": ""
             }
            },
            "type": "scattermapbox"
           }
          ],
          "scatterpolar": [
           {
            "marker": {
             "colorbar": {
              "outlinewidth": 0,
              "ticks": ""
             }
            },
            "type": "scatterpolar"
           }
          ],
          "scatterpolargl": [
           {
            "marker": {
             "colorbar": {
              "outlinewidth": 0,
              "ticks": ""
             }
            },
            "type": "scatterpolargl"
           }
          ],
          "scatterternary": [
           {
            "marker": {
             "colorbar": {
              "outlinewidth": 0,
              "ticks": ""
             }
            },
            "type": "scatterternary"
           }
          ],
          "surface": [
           {
            "colorbar": {
             "outlinewidth": 0,
             "ticks": ""
            },
            "colorscale": [
             [
              0,
              "#0d0887"
             ],
             [
              0.1111111111111111,
              "#46039f"
             ],
             [
              0.2222222222222222,
              "#7201a8"
             ],
             [
              0.3333333333333333,
              "#9c179e"
             ],
             [
              0.4444444444444444,
              "#bd3786"
             ],
             [
              0.5555555555555556,
              "#d8576b"
             ],
             [
              0.6666666666666666,
              "#ed7953"
             ],
             [
              0.7777777777777778,
              "#fb9f3a"
             ],
             [
              0.8888888888888888,
              "#fdca26"
             ],
             [
              1,
              "#f0f921"
             ]
            ],
            "type": "surface"
           }
          ],
          "table": [
           {
            "cells": {
             "fill": {
              "color": "#EBF0F8"
             },
             "line": {
              "color": "white"
             }
            },
            "header": {
             "fill": {
              "color": "#C8D4E3"
             },
             "line": {
              "color": "white"
             }
            },
            "type": "table"
           }
          ]
         },
         "layout": {
          "annotationdefaults": {
           "arrowcolor": "#2a3f5f",
           "arrowhead": 0,
           "arrowwidth": 1
          },
          "autotypenumbers": "strict",
          "coloraxis": {
           "colorbar": {
            "outlinewidth": 0,
            "ticks": ""
           }
          },
          "colorscale": {
           "diverging": [
            [
             0,
             "#8e0152"
            ],
            [
             0.1,
             "#c51b7d"
            ],
            [
             0.2,
             "#de77ae"
            ],
            [
             0.3,
             "#f1b6da"
            ],
            [
             0.4,
             "#fde0ef"
            ],
            [
             0.5,
             "#f7f7f7"
            ],
            [
             0.6,
             "#e6f5d0"
            ],
            [
             0.7,
             "#b8e186"
            ],
            [
             0.8,
             "#7fbc41"
            ],
            [
             0.9,
             "#4d9221"
            ],
            [
             1,
             "#276419"
            ]
           ],
           "sequential": [
            [
             0,
             "#0d0887"
            ],
            [
             0.1111111111111111,
             "#46039f"
            ],
            [
             0.2222222222222222,
             "#7201a8"
            ],
            [
             0.3333333333333333,
             "#9c179e"
            ],
            [
             0.4444444444444444,
             "#bd3786"
            ],
            [
             0.5555555555555556,
             "#d8576b"
            ],
            [
             0.6666666666666666,
             "#ed7953"
            ],
            [
             0.7777777777777778,
             "#fb9f3a"
            ],
            [
             0.8888888888888888,
             "#fdca26"
            ],
            [
             1,
             "#f0f921"
            ]
           ],
           "sequentialminus": [
            [
             0,
             "#0d0887"
            ],
            [
             0.1111111111111111,
             "#46039f"
            ],
            [
             0.2222222222222222,
             "#7201a8"
            ],
            [
             0.3333333333333333,
             "#9c179e"
            ],
            [
             0.4444444444444444,
             "#bd3786"
            ],
            [
             0.5555555555555556,
             "#d8576b"
            ],
            [
             0.6666666666666666,
             "#ed7953"
            ],
            [
             0.7777777777777778,
             "#fb9f3a"
            ],
            [
             0.8888888888888888,
             "#fdca26"
            ],
            [
             1,
             "#f0f921"
            ]
           ]
          },
          "colorway": [
           "#636efa",
           "#EF553B",
           "#00cc96",
           "#ab63fa",
           "#FFA15A",
           "#19d3f3",
           "#FF6692",
           "#B6E880",
           "#FF97FF",
           "#FECB52"
          ],
          "font": {
           "color": "#2a3f5f"
          },
          "geo": {
           "bgcolor": "white",
           "lakecolor": "white",
           "landcolor": "#E5ECF6",
           "showlakes": true,
           "showland": true,
           "subunitcolor": "white"
          },
          "hoverlabel": {
           "align": "left"
          },
          "hovermode": "closest",
          "mapbox": {
           "style": "light"
          },
          "paper_bgcolor": "white",
          "plot_bgcolor": "#E5ECF6",
          "polar": {
           "angularaxis": {
            "gridcolor": "white",
            "linecolor": "white",
            "ticks": ""
           },
           "bgcolor": "#E5ECF6",
           "radialaxis": {
            "gridcolor": "white",
            "linecolor": "white",
            "ticks": ""
           }
          },
          "scene": {
           "xaxis": {
            "backgroundcolor": "#E5ECF6",
            "gridcolor": "white",
            "gridwidth": 2,
            "linecolor": "white",
            "showbackground": true,
            "ticks": "",
            "zerolinecolor": "white"
           },
           "yaxis": {
            "backgroundcolor": "#E5ECF6",
            "gridcolor": "white",
            "gridwidth": 2,
            "linecolor": "white",
            "showbackground": true,
            "ticks": "",
            "zerolinecolor": "white"
           },
           "zaxis": {
            "backgroundcolor": "#E5ECF6",
            "gridcolor": "white",
            "gridwidth": 2,
            "linecolor": "white",
            "showbackground": true,
            "ticks": "",
            "zerolinecolor": "white"
           }
          },
          "shapedefaults": {
           "line": {
            "color": "#2a3f5f"
           }
          },
          "ternary": {
           "aaxis": {
            "gridcolor": "white",
            "linecolor": "white",
            "ticks": ""
           },
           "baxis": {
            "gridcolor": "white",
            "linecolor": "white",
            "ticks": ""
           },
           "bgcolor": "#E5ECF6",
           "caxis": {
            "gridcolor": "white",
            "linecolor": "white",
            "ticks": ""
           }
          },
          "title": {
           "x": 0.05
          },
          "xaxis": {
           "automargin": true,
           "gridcolor": "white",
           "linecolor": "white",
           "ticks": "",
           "title": {
            "standoff": 15
           },
           "zerolinecolor": "white",
           "zerolinewidth": 2
          },
          "yaxis": {
           "automargin": true,
           "gridcolor": "white",
           "linecolor": "white",
           "ticks": "",
           "title": {
            "standoff": 15
           },
           "zerolinecolor": "white",
           "zerolinewidth": 2
          }
         }
        }
       }
      },
      "image/png": "[encoded data removed]",
      "text/html": [
       "<div>                            <div id=\"dbbae4c4-b0df-448d-9daa-798cd33e74bb\" class=\"plotly-graph-div\" style=\"height:1000px; width:100%;\"></div>            <script type=\"text/javascript\">                require([\"plotly\"], function(Plotly) {                    window.PLOTLYENV=window.PLOTLYENV || {};                                    if (document.getElementById(\"dbbae4c4-b0df-448d-9daa-798cd33e74bb\")) {                    Plotly.newPlot(                        \"dbbae4c4-b0df-448d-9daa-798cd33e74bb\",                        [{\"base\":[0.52,0.52,0.52,0.52,0.52,0.52,0.52,0.52,0.52,0.52,0.52,0.52,0.52,0.52,0.52,0.52,0.52,0.52,0.52,0.52,0.52,0.52,0.52,0.52,0.52,0.52,0.52,0.52,0.52,0.52,0.52,0.52,0.36,0.52,0.52,0.36,0.6799999999999999,0.6799999999999999,0.52,0.52,0.52,0.52,0.6799999999999999,0.6799999999999999,0.6799999999999999,0.6799999999999999,0.8400000000000001,0.8400000000000001,0.8400000000000001,0.6799999999999999,0.6799999999999999,0.6799999999999999,0.6799999999999999,0.6799999999999999,0.6799999999999999,0.8400000000000001,0.8400000000000001,0.8400000000000001,0.6799999999999999,0.6799999999999999,0.6799999999999999,0.6799999999999999,0.8400000000000001,0.6799999999999999,0.52,0.6799999999999999,0.6799999999999999,0.6799999999999999,0.8400000000000001,0.6799999999999999,0.8400000000000001,0.8400000000000001,0.6799999999999999,0.6799999999999999,0.36,0.8400000000000001,0.6799999999999999,0.6799999999999999,0.8400000000000001,0.6799999999999999,0.8400000000000001,0.6799999999999999,0.6799999999999999,0.6799999999999999,0.36,0.8400000000000001,0.6799999999999999,0.6799999999999999,0.6799999999999999,0.6799999999999999,0.6799999999999999,0.6799999999999999,0.6799999999999999,0.6799999999999999,0.8400000000000001,0.6799999999999999,0.8400000000000001,0.6799999999999999,0.8400000000000001,0.6799999999999999,0.8400000000000001,0.6799999999999999,0.6799999999999999,0.8400000000000001,0.8400000000000001,0.6799999999999999,0.8400000000000001,0.8400000000000001,0.6799999999999999,0.6799999999999999,0.6799999999999999,0.6799999999999999,0.6799999999999999,0.6799999999999999,0.6799999999999999,0.6799999999999999,0.6799999999999999,0.6799999999999999,0.6799999999999999,0.6799999999999999,0.6799999999999999,0.6799999999999999,0.6799999999999999,0.8400000000000001,0.6799999999999999,0.6799999999999999,0.6799999999999999,0.6799999999999999,0.6799999999999999,0.8400000000000001,0.8400000000000001,0.8400000000000001,0.6799999999999999,0.6799999999999999,0.8400000000000001,0.6799999999999999,0.6799999999999999,0.8400000000000001,0.6799999999999999,0.6799999999999999,0.6799999999999999,0.8400000000000001,0.6799999999999999,0.6799999999999999,0.6799999999999999,0.6799999999999999,0.6799999999999999,0.6799999999999999,0.6799999999999999,0.6799999999999999,0.6799999999999999,0.6799999999999999,0.6799999999999999,0.6799999999999999,0.6799999999999999,0.6799999999999999,0.6799999999999999,0.6799999999999999,0.6799999999999999,0.6799999999999999,0.8400000000000001,0.6799999999999999,0.8400000000000001,0.6799999999999999,0.6799999999999999,0.52,0.6799999999999999,0.8400000000000001,0.6799999999999999,0.6799999999999999,0.6799999999999999,0.6799999999999999,0.6799999999999999,0.6799999999999999,0.6799999999999999,0.6799999999999999,0.6799999999999999,0.6799999999999999,0.6799999999999999,0.6799999999999999,0.8400000000000001,0.6799999999999999,0.8400000000000001,0.6799999999999999,0.6799999999999999,0.6799999999999999,0.6799999999999999,0.6799999999999999,0.6799999999999999,0.6799999999999999,0.6799999999999999,0.6799999999999999,0.6799999999999999,0.6799999999999999,0.6799999999999999,0.6799999999999999,0.6799999999999999,0.6799999999999999,0.6799999999999999,0.6799999999999999,0.8400000000000001,0.6799999999999999,0.8400000000000001,0.6799999999999999,0.6799999999999999,0.6799999999999999,0.6799999999999999,0.6799999999999999,0.8400000000000001,0.8400000000000001,0.8400000000000001,0.8400000000000001,0.8400000000000001,0.8400000000000001,0.8400000000000001,0.8400000000000001,0.8400000000000001,0.8400000000000001,0.8400000000000001,0.8400000000000001,0.8400000000000001,0.8400000000000001,0.8400000000000001,0.6799999999999999,0.6799999999999999,0.8400000000000001,0.8400000000000001,0.8400000000000001,0.8400000000000001,0.8400000000000001,0.8400000000000001,0.8400000000000001,0.8400000000000001,0.8400000000000001,0.8400000000000001,0.8400000000000001,0.6799999999999999,0.8400000000000001,0.8400000000000001,0.6799999999999999,0.6799999999999999,0.6799999999999999,0.6799999999999999,0.6799999999999999,0.6799999999999999,0.6799999999999999,0.6799999999999999,0.6799999999999999,0.6799999999999999,0.6799999999999999,0.6799999999999999,0.6799999999999999,0.6799999999999999,0.6799999999999999,0.6799999999999999,0.6799999999999999,0.6799999999999999,0.6799999999999999,0.6799999999999999,0.6799999999999999,0.6799999999999999,0.6799999999999999,0.6799999999999999,0.6799999999999999,0.6799999999999999,0.6799999999999999,0.6799999999999999,0.6799999999999999,0.6799999999999999,0.6799999999999999,0.6799999999999999,0.6799999999999999,0.6799999999999999,0.6799999999999999,0.6799999999999999,0.6799999999999999,0.8400000000000001,0.6799999999999999,0.8400000000000001,0.6799999999999999,0.6799999999999999,0.8400000000000001,0.52,0.6799999999999999,0.36,0.6799999999999999,0.6799999999999999,0.6799999999999999,0.6799999999999999,0.6799999999999999,0.6799999999999999,0.2,0.6799999999999999,0.6799999999999999,0.6799999999999999,0.6799999999999999,0.6799999999999999,0.6799999999999999,0.52,0.52,0.6799999999999999,0.6799999999999999,0.6799999999999999,0.6799999999999999,0.6799999999999999,0.6799999999999999,0.6799999999999999,0.6799999999999999,0.6799999999999999],\"marker\":{\"color\":\"#ffad46\"},\"r\":[0.16,0.16,0.16,0.16,0.16,0.16,0.16,0.16,0.16,0.16,0.16,0.16,0.16,0.16,0.16,0.16,0.16,0.16,0.16,0.16,0.16,0.16,0.16,0.16,0.16,0.16,0.16,0.16,0.16,0.16,0.16,0.16,0.16,0.16,0.16,0.16,0.16,0.16,0.16,0.16,0.16,0.16,0.16,0.16,0.16,0.16,0.16,0.16,0.16,0.16,0.16,0.16,0.16,0.16,0.16,0.16,0.16,0.16,0.16,0.16,0.16,0.16,0.16,0.16,0.16,0.16,0.16,0.16,0.16,0.16,0.16,0.16,0.16,0.16,0.16,0.16,0.16,0.16,0.16,0.16,0.16,0.16,0.16,0.16,0.16,0.16,0.16,0.16,0.16,0.16,0.16,0.16,0.16,0.16,0.16,0.16,0.16,0.16,0.16,0.16,0.16,0.16,0.16,0.16,0.16,0.16,0.16,0.16,0.16,0.16,0.16,0.16,0.16,0.16,0.16,0.16,0.16,0.16,0.16,0.16,0.16,0.16,0.16,0.16,0.16,0.16,0.16,0.16,0.16,0.16,0.16,0.16,0.16,0.16,0.16,0.16,0.16,0.16,0.16,0.16,0.16,0.16,0.16,0.16,0.16,0.16,0.16,0.16,0.16,0.16,0.16,0.16,0.16,0.16,0.16,0.16,0.16,0.16,0.16,0.16,0.16,0.16,0.16,0.16,0.16,0.16,0.16,0.16,0.16,0.16,0.16,0.16,0.16,0.16,0.16,0.16,0.16,0.16,0.16,0.16,0.16,0.16,0.16,0.16,0.16,0.16,0.16,0.16,0.16,0.16,0.16,0.16,0.16,0.16,0.16,0.16,0.16,0.16,0.16,0.16,0.16,0.16,0.16,0.16,0.16,0.16,0.16,0.16,0.16,0.16,0.16,0.16,0.16,0.16,0.16,0.16,0.16,0.16,0.16,0.16,0.16,0.16,0.16,0.16,0.16,0.16,0.16,0.16,0.16,0.16,0.16,0.16,0.16,0.16,0.16,0.16,0.16,0.16,0.16,0.16,0.16,0.16,0.16,0.16,0.16,0.16,0.16,0.16,0.16,0.16,0.16,0.16,0.16,0.16,0.16,0.16,0.16,0.16,0.16,0.16,0.16,0.16,0.16,0.16,0.16,0.16,0.16,0.16,0.16,0.16,0.16,0.16,0.16,0.16,0.16,0.16,0.16,0.16,0.16,0.16,0.16,0.16,0.16,0.16,0.16,0.16,0.16,0.16,0.16,0.16,0.16,0.16,0.16,0.16,0.16,0.16,0.16,0.16,0.16,0.16,0.16,0.16,0.16,0.16,0.16,0.16,0.16,0.16,0.16],\"text\":[\"0 2024-02-01 12:00:00 GLPA News Due\",\"1 2024-05-01 12:00:00 GLPA News Due\",\"2 2024-08-01 12:00:00 GLPA News Due\",\"3 2024-11-01 12:00:00 GLPA News Due\",\"4 2024-01-01 12:00:00 Approve Hours\",\"5 2024-01-15 12:00:00 Approve Hours\",\"6 2024-01-29 12:00:00 Approve Hours\",\"7 2024-02-12 12:00:00 Approve Hours\",\"8 2024-02-26 12:00:00 Approve Hours\",\"9 2024-03-11 12:00:00 Approve Hours\",\"10 2024-03-25 12:00:00 Approve Hours\",\"11 2024-04-08 12:00:00 Approve Hours\",\"12 2024-04-22 12:00:00 Approve Hours\",\"13 2024-05-06 12:00:00 Approve Hours\",\"14 2024-05-20 12:00:00 Approve Hours\",\"15 2024-06-03 12:00:00 Approve Hours\",\"16 2024-06-17 12:00:00 Approve Hours\",\"17 2024-07-01 12:00:00 Approve Hours\",\"18 2024-07-15 12:00:00 Approve Hours\",\"19 2024-07-29 12:00:00 Approve Hours\",\"20 2024-08-12 12:00:00 Approve Hours\",\"21 2024-08-26 12:00:00 Approve Hours\",\"22 2024-09-09 12:00:00 Approve Hours\",\"23 2024-09-23 12:00:00 Approve Hours\",\"24 2024-10-07 12:00:00 Approve Hours\",\"25 2024-10-21 12:00:00 Approve Hours\",\"26 2024-11-04 12:00:00 Approve Hours\",\"27 2024-11-18 12:00:00 Approve Hours\",\"28 2024-12-02 12:00:00 Approve Hours\",\"29 2024-12-16 12:00:00 Approve Hours\",\"30 2024-12-30 12:00:00 Approve Hours\",\"31 2024-03-22 12:00:00 WVPE Day\",\"32 2024-06-05 12:00:00 Frontiers in Nuclear Astrophysics \",\"33 2024-12-06 12:00:00 Christmas Lecture\",\"34 2024-02-10 12:00:00 Science Alive\",\"35 2024-06-04 00:00:00 Talk on Communicating Science.\",\"36 2024-01-25 20:00:00-05:00 ILI Initiative\",\"37 2024-01-25 20:00:00-05:00 ILI Initiative\",\"38 2024-01-11 12:00:00 Arielle\\u2019s Talk\",\"39 2024-02-01 12:00:00 Stephen Heritage REU recc letter\",\"40 2024-11-01 12:00:00 call for proposal for \\u201cSummer Academy\\\"\",\"41 2024-01-22 12:00:00 Annual scholarly report\",\"42 2024-01-09 12:00:00-05:00 Meet over Library \\u002f ND Eclipse activities.\",\"43 2024-01-05 12:30:00-05:00 Matt and Lucas Lunch interview with Keith\",\"44 2024-01-09 12:00:00-05:00 Library ND Eclipse Activities\",\"45 2024-01-05 13:30:00-05:00 Possible hold for Astrophysics discussion\",\"46 2024-01-12 15:22:30-05:00 Eclipse stuff Keith and Deanna\",\"47 2024-01-12 13:52:30-05:00 Fabio and Keith Zoom\",\"48 2024-04-05 15:22:30-04:00 Eclipse update meeting\",\"49 2024-01-13 19:00:00-05:00 Keith Davis' Zoom Meeting\",\"50 2024-01-15 10:15:00-05:00 Astro Faculty Meeting\",\"51 2024-01-17 14:30:00-05:00 Keith Davis\",\"52 2024-01-17 14:30:00-05:00 DVT Upgrade Kickoff Zoom\",\"53 2024-01-17 14:30:00-05:00 DVT Upgrade - RFP Kickoff Meeting\",\"54 2024-01-23 11:00:00-05:00 Postdoc Coffee Hour with Keith Davis: Science Communication\",\"55 2024-01-22 13:37:30-05:00 Meet over Chem\",\"56 2024-01-19 10:37:30-05:00 Meet with DVT Students\",\"57 2024-01-26 15:22:30-05:00 Eclipse update meeting\",\"58 2024-01-26 15:30:00-05:00 Busy\",\"59 2024-04-02 19:00:00-04:00 Lauren Weiss Talk\",\"60 2024-01-24 12:30:00-05:00 Lunch\",\"61 2024-01-25 11:30:00-05:00 DVT Upgrade - Project Touch Base\",\"62 2024-01-24 15:30:00-05:00 Michelle\",\"63 2024-01-29 13:30:00-05:00 Keith \\u002f Miguel data discussion\",\"64 2024-03-01 12:00:00 Prospective Grad Visit\",\"65 2024-01-30 11:37:30-05:00 Descriptive Astronomy - Prof. Garnavich out of Town (Planet Tracking Activity)\",\"66 2024-03-27 19:00:00-04:00 Phil\\u2019s Eclipse talk\",\"67 2024-01-30 16:30:00-05:00 Busy\",\"68 2024-01-29 16:22:30-05:00 Keith Davis' Zoom Meeting\",\"69 2024-01-31 10:30:00-05:00 Keith \\u002f Miguel github tutorial meeting?\",\"70 2024-03-06 14:22:30-05:00 Eclipse update meeting\",\"71 2024-02-07 15:52:30-05:00 Eclipse update meeting\",\"72 2024-03-22 15:00:00-04:00 WVPE\",\"73 2024-02-02 14:00:00-05:00 DVT Upgrade - Committee Meeting\",\"74 2024-03-27 00:00:00 Release RFP\",\"75 2024-02-16 14:25:00-05:00 Orbital and Space Dynamics - Karel Matous\",\"76 2024-02-01 16:30:00-05:00 Physics Colloquium (PHYS73000) 118 NSH\",\"77 2024-02-04 19:00:00-05:00 Keith Davis' Zoom Meeting\",\"78 2024-02-08 13:37:30-05:00 Prep\",\"79 2024-02-08 14:37:30-05:00 Phillippe Collon Physics of Civilication\",\"80 2024-02-07 09:05:00-05:00 Prep\",\"81 2024-02-14 14:30:00-05:00 DVT Upgrade - Committee Meeting\",\"82 2024-01-18 13:00:00-05:00 Astro Journal Club\",\"83 2024-01-25 13:00:00-05:00 Astro Journal Club\",\"84 2024-02-20 12:00:00 Keith In Boston\",\"85 2024-02-13 15:47:30-05:00 Travel\",\"86 2024-02-13 16:30:00-05:00 therapy\",\"87 2024-02-19 11:54:00-05:00 Flight# UA5309 from SBN -\\u003e ORD\\n (1 hour and 9 mins.)  Layover of 1 hour and 21 mins.  Flight# 2617 from ORD -\\u003e BOS\\n (2 hours and 18 mins.)\",\"88 2024-02-29 10:30:00-05:00 Furnace CHeckup.\",\"89 2024-02-27 13:00:00-05:00 PT\",\"90 2024-02-28 10:30:00-05:00 Beiger Elementary\",\"91 2024-02-22 16:30:00-05:00 Physics Colloquium (PHYS73000) 118 NSH\",\"92 2024-02-15 16:30:00-05:00 Physics Colloquium (PHYS73000) 118 NSH\",\"93 2024-02-13 12:15:00-05:00 Physics & Astronomy LGBTQ\\u002fAlly Luncheon\",\"94 2024-02-21 13:45:00-05:00 Discuss Eclipse Event - Irish Green\",\"95 2024-02-29 13:07:30-05:00 Losecco cosmology\",\"96 2024-02-28 18:37:30-05:00 Prep\",\"97 2024-02-23 14:30:00-05:00 DVT Upgrade RFP Discussion\",\"98 2024-02-23 16:07:30-05:00 Eclipse update meeting\",\"99 2024-02-23 13:15:00-05:00 Faculty Meeting\",\"100 2024-02-23 16:45:00-05:00 Discuss budget and plans for April 8 eclipse\",\"101 2024-02-27 11:37:30-05:00 Eclipses for Desc Astro\",\"102 2024-02-29 14:37:30-05:00 Descriptive Astronomy Prof. Beers out of Town\",\"103 2024-02-27 10:37:30-05:00 Prep\",\"104 2024-02-28 09:37:30-05:00 Pre[\",\"105 2024-03-01 10:30:00-05:00 Stephen Piloting - Pierre Moran Middle and North Side Middle School\",\"106 2024-03-01 09:37:30-05:00 Prep\",\"107 2024-02-26 14:52:30-05:00 Eclipse - backup plan discussion\",\"108 2024-01-19 13:15:00-05:00 Faculty Meeting\",\"109 2024-03-06 10:30:00-05:00 DVT Upgrade RFP Committee Meeting\",\"110 2024-03-11 16:30:00-04:00 therapy\",\"111 2024-03-11 11:00:00-04:00 physical therapy\",\"112 2024-03-05 12:30:00-05:00 Lunch w\\u002f Jeff\",\"113 2024-01-16 14:30:00-05:00 Environmentally Dependent Galaxy Evolution weekly group meeting (Hybrid)\",\"114 2024-01-23 14:30:00-05:00 Environmentally Dependent Galaxy Evolution weekly group meeting (Hybrid)\",\"115 2024-02-06 14:30:00-05:00 Environmentally Dependent Galaxy Evolution weekly group meeting (Hybrid)\",\"116 2024-02-27 14:30:00-05:00 Environmentally Dependent Galaxy Evolution weekly group meeting (Hybrid)\",\"117 2024-02-13 14:30:00-05:00 Environmentally Dependent Galaxy Evolution weekly group meeting (Hybrid)\",\"118 2024-02-20 14:30:00-05:00 Environmentally Dependent Galaxy Evolution weekly group meeting (Hybrid)\",\"119 2024-03-05 16:30:00-05:00 Physics Colloquium (PHYS73000) 118 NSH\",\"120 2024-02-29 16:30:00-05:00 Physics Colloquium (PHYS73000) 118 NSH\",\"121 2024-03-07 11:30:00-05:00 Eclipse Stream Advance\",\"122 2024-04-20 12:00:00-04:00 State Meeting\",\"123 2024-03-20 14:37:30-04:00 Eclipse update meeting\",\"124 2024-03-11 13:30:00-04:00 Meeting over display cases\",\"125 2024-03-13 14:35:00-04:00 Dune 2\",\"126 2024-03-13 12:15:00-04:00 Optional lunch with Jeff & Ken before the movie\",\"127 2024-03-13 14:15:00-04:00 Dune 2 with Jeff & Ken\",\"128 2024-03-11 13:30:00-04:00 Astrophysics case discussion\",\"129 2024-03-27 15:22:30-04:00 Eclipse update meeting\",\"130 2024-03-18 15:15:00-04:00 haircyt\",\"131 2024-03-15 15:22:30-04:00 Eclipse update meeting\",\"132 2024-03-22 12:30:00-04:00 meet with Adam about postdoc\",\"133 2024-03-21 15:00:00-04:00 DVT Upgrade - RFP Meeting\",\"134 2024-03-21 13:37:30-04:00 Eclipse meeting - 215 Jordan\",\"135 2024-03-28 14:45:00-04:00 Final RFP Draft - DVT Upgrade Meeting\",\"136 2024-03-28 13:00:00-04:00 Solar Telescope meeting. (weather dependent)\",\"137 2024-04-01 13:45:00-04:00 DVT RFP chat\",\"138 2024-03-26 16:30:00-04:00 Physics Colloquium (PHYS73000) 118 NSH\",\"139 2024-03-25 12:45:00-04:00 LGBTQ\\u002fAlly Luncheon\",\"140 2024-04-29 13:30:00-04:00 Jury Duty\",\"141 2024-04-07 13:15:00-04:00 Eclipse Volunteer Q & A\",\"142 2024-04-17 15:00:00-04:00 DVT Upgrade Bidder Conference & Walkthrough (Confirmed)\",\"143 2024-01-16 13:00:00-05:00 Astrophysics Seminar (PHYS83200) 184 NSH\",\"144 2024-01-23 13:00:00-05:00 Astrophysics Seminar (PHYS83200) 184 NSH\",\"145 2024-02-06 13:00:00-05:00 Astrophysics Seminar (PHYS83200) 184 NSH\",\"146 2024-04-05 13:15:00-04:00 Faculty Meeting\",\"147 2024-01-30 13:00:00-05:00 Astrophysics Seminar (PHYS83200) 184 NSH\",\"148 2024-02-13 13:00:00-05:00 Astrophysics Seminar (PHYS83200) 184 NSH\",\"149 2024-02-20 13:00:00-05:00 Astrophysics Seminar (PHYS83200) 184 NSH\",\"150 2024-02-27 13:00:00-05:00 Astrophysics Seminar (PHYS83200) 184 NSH\",\"151 2024-03-05 13:00:00-05:00 Astrophysics Seminar (PHYS83200) 184 NSH\",\"152 2024-03-12 13:00:00-04:00 Astrophysics Seminar (PHYS83200) 184 NSH\",\"153 2024-03-19 13:00:00-04:00 Astrophysics Seminar (PHYS83200) 184 NSH\",\"154 2024-03-26 13:00:00-04:00 Astrophysics Seminar (PHYS83200) 184 NSH\",\"155 2024-04-02 13:00:00-04:00 Astrophysics Seminar (PHYS83200) 184 NSH\",\"156 2024-04-09 13:00:00-04:00 Astrophysics Seminar (PHYS83200) 184 NSH\",\"157 2024-04-23 13:00:00-04:00 Astrophysics Seminar (PHYS83200) 184 NSH\",\"158 2024-04-16 13:00:00-04:00 Astrophysics Seminar (PHYS83200) 184 NSH\",\"159 2024-04-23 13:07:30-04:00 Losecco Cosmology\",\"160 2024-04-25 14:37:30-04:00 American Indian Catholic Schools Network\",\"161 2024-04-25 10:07:30-04:00 Science Communications Class\",\"162 2024-04-23 11:07:30-04:00 pt\",\"163 2024-04-18 13:00:00-04:00 Busy\",\"164 2024-04-19 13:07:30-04:00 Busy\",\"165 2024-04-23 12:00:00 Q and A due from bidders\",\"166 2024-04-29 17:30:00-04:00 Written responses\",\"167 2024-04-23 10:22:30-04:00 Dr. Keith Davis Appointments (Sara Wheeler)\",\"168 2024-02-01 13:00:00-05:00 Astro Journal Club\",\"169 2024-02-08 13:00:00-05:00 Astro Journal Club\",\"170 2024-02-15 13:00:00-05:00 Astro Journal Club\",\"171 2024-02-29 13:00:00-05:00 Astro Journal Club\",\"172 2024-03-07 13:00:00-05:00 Astro Journal Club\",\"173 2024-03-14 13:00:00-04:00 Astro Journal Club\",\"174 2024-03-21 13:00:00-04:00 Astro Journal Club\",\"175 2024-03-28 13:00:00-04:00 Astro Journal Club\",\"176 2024-04-04 13:00:00-04:00 Astro Journal Club\",\"177 2024-04-11 13:00:00-04:00 Astro Journal Club\",\"178 2024-04-18 13:00:00-04:00 Astro Journal Club\",\"179 2024-04-25 16:20:00-04:00 Foot appointment\",\"180 2024-04-25 15:30:00-04:00 Trvel\",\"181 2024-04-24 16:30:00-04:00 therapy\",\"182 2024-04-24 15:45:00-04:00 Travel\",\"183 2024-04-24 14:30:00-04:00 DVT Upgrade RFP - Written Questions\",\"184 2024-08-27 13:00:00-04:00 Astrophysics Seminar (83200) 127 NSH\",\"185 2024-09-03 13:00:00-04:00 Astrophysics Seminar (83200) 127 NSH\",\"186 2024-09-10 13:00:00-04:00 Astrophysics Seminar (83200) 127 NSH\",\"187 2024-09-17 13:00:00-04:00 Astrophysics Seminar (83200) 127 NSH\",\"188 2024-09-24 13:00:00-04:00 Astrophysics Seminar (83200) 127 NSH\",\"189 2024-10-01 13:00:00-04:00 Astrophysics Seminar (83200) 127 NSH\",\"190 2024-10-08 13:00:00-04:00 Astrophysics Seminar (83200) 127 NSH\",\"191 2024-10-15 13:00:00-04:00 Astrophysics Seminar (83200) 127 NSH\",\"192 2024-10-22 13:00:00-04:00 Astrophysics Seminar (83200) 127 NSH\",\"193 2024-10-29 13:00:00-04:00 Astrophysics Seminar (83200) 127 NSH\",\"194 2024-11-05 13:00:00-05:00 Astrophysics Seminar (83200) 127 NSH\",\"195 2024-11-12 13:00:00-05:00 Astrophysics Seminar (83200) 127 NSH\",\"196 2024-11-19 13:00:00-05:00 Astrophysics Seminar (83200) 127 NSH\",\"197 2024-11-26 13:00:00-05:00 Astrophysics Seminar (83200) 127 NSH\",\"198 2024-12-03 13:00:00-05:00 Astrophysics Seminar (83200) 127 NSH\",\"199 2024-12-10 13:00:00-05:00 Astrophysics Seminar (83200) 127 NSH\",\"200 2024-04-24 10:22:30-04:00 Dr. Keith Davis Appointments (Sara Wheeler)\",\"201 2024-05-16 14:30:00-04:00 St. Vincent De Paul\",\"202 2024-05-16 13:45:00-04:00 Prep\",\"203 2024-05-13 15:00:00-04:00 DVT Upgrade RFP -Evaluation\",\"204 2024-04-30 13:00:00-04:00 Astrophysics Seminar (PHYS83200) 184 NSH\",\"205 2024-04-30 13:30:00-04:00 Jury Duty\",\"206 2024-05-01 13:30:00-04:00 Jury Duty\",\"207 2024-05-02 13:30:00-04:00 Jury Duty\",\"208 2024-01-17 15:15:00-05:00 Colloquium Tea\",\"209 2024-01-24 15:15:00-05:00 Colloquium Tea\",\"210 2024-01-31 15:15:00-05:00 Colloquium Tea\",\"211 2024-02-07 15:15:00-05:00 Colloquium Tea\",\"212 2024-02-14 15:15:00-05:00 Colloquium Tea\",\"213 2024-02-21 15:15:00-05:00 Colloquium Tea\",\"214 2024-02-28 15:15:00-05:00 Colloquium Tea\",\"215 2024-03-06 15:15:00-05:00 Colloquium Tea\",\"216 2024-03-13 15:15:00-04:00 Colloquium Tea\",\"217 2024-03-20 15:15:00-04:00 Colloquium Tea\",\"218 2024-03-27 15:15:00-04:00 Colloquium Tea\",\"219 2024-04-03 15:15:00-04:00 Colloquium Tea\",\"220 2024-04-10 15:15:00-04:00 Colloquium Tea\",\"221 2024-04-17 15:15:00-04:00 Colloquium Tea\",\"222 2024-05-01 15:15:00-04:00 Colloquium Tea\",\"223 2024-04-23 12:45:00-04:00 LGBTQ\\u002fAlly Luncheon\",\"224 2024-05-03 13:15:00-04:00 Faculty Meeting\",\"225 2024-02-06 13:52:30-05:00 Meet with Alex\",\"226 2024-02-13 13:52:30-05:00 Meet with Alex\",\"227 2024-02-20 13:52:30-05:00 Meet with Alex\",\"228 2024-02-27 13:52:30-05:00 Meet with Alex\",\"229 2024-03-05 13:52:30-05:00 Meet with Alex\",\"230 2024-03-19 13:52:30-04:00 Meet with Alex\",\"231 2024-04-02 13:52:30-04:00 Meet with Alex\",\"232 2024-04-09 13:52:30-04:00 Meet with Alex\",\"233 2024-04-16 13:52:30-04:00 Meet with Alex\",\"234 2024-04-23 13:52:30-04:00 Meet with Alex\",\"235 2024-04-30 13:52:30-04:00 Meet with Alex\",\"236 2024-05-09 16:00:00-04:00 Lara \\u002f Keith\",\"237 2024-05-08 14:52:30-04:00 Fabio \\u002f Keith\",\"238 2024-07-10 16:07:30-04:00 DVT Show for PCST Symposium?\",\"239 2024-01-17 13:00:00-05:00 Physics Colloquium (PHYS73000) 127 NSH\",\"240 2024-01-24 13:00:00-05:00 Physics Colloquium (PHYS73000) 127 NSH\",\"241 2024-01-31 13:00:00-05:00 Physics Colloquium (PHYS73000) 127 NSH\",\"242 2024-02-07 13:00:00-05:00 Physics Colloquium (PHYS73000) 127 NSH\",\"243 2024-02-14 13:00:00-05:00 Physics Colloquium (PHYS73000) 127 NSH\",\"244 2024-02-21 13:00:00-05:00 Physics Colloquium (PHYS73000) 127 NSH\",\"245 2024-02-28 13:00:00-05:00 Physics Colloquium (PHYS73000) 127 NSH\",\"246 2024-03-06 13:00:00-05:00 Physics Colloquium (PHYS73000) 127 NSH\",\"247 2024-03-13 13:00:00-04:00 Physics Colloquium (PHYS73000) 127 NSH\",\"248 2024-03-20 13:00:00-04:00 Physics Colloquium (PHYS73000) 127 NSH\",\"249 2024-03-27 13:00:00-04:00 Physics Colloquium (PHYS73000) 127 NSH\",\"250 2024-04-03 13:00:00-04:00 Physics Colloquium (PHYS73000) 127 NSH\",\"251 2024-04-10 13:00:00-04:00 Physics Colloquium (PHYS73000) 127 NSH\",\"252 2024-04-17 13:00:00-04:00 Physics Colloquium (PHYS73000) 127 NSH\",\"253 2024-04-24 13:00:00-04:00 Physics Colloquium (PHYS73000) 127 NSH\",\"254 2024-05-01 13:00:00-04:00 Physics Colloquium (PHYS73000) 127 NSH\",\"255 2024-09-04 13:00:00-04:00 Physics Colloquium (73000) 127 NSH\",\"256 2024-09-11 13:00:00-04:00 Physics Colloquium (73000) 127 NSH\",\"257 2024-09-18 13:00:00-04:00 Physics Colloquium (73000) 127 NSH\",\"258 2024-09-25 13:00:00-04:00 Physics Colloquium (73000) 127 NSH\",\"259 2024-10-02 13:00:00-04:00 Physics Colloquium (73000) 127 NSH\",\"260 2024-10-09 13:00:00-04:00 Physics Colloquium (73000) 127 NSH\",\"261 2024-10-16 13:00:00-04:00 Physics Colloquium (73000) 127 NSH\",\"262 2024-10-23 13:00:00-04:00 Physics Colloquium (73000) 127 NSH\",\"263 2024-10-30 13:00:00-04:00 Physics Colloquium (73000) 127 NSH\",\"264 2024-11-06 13:00:00-05:00 Physics Colloquium (73000) 127 NSH\",\"265 2024-11-13 13:00:00-05:00 Physics Colloquium (73000) 127 NSH\",\"266 2024-11-20 13:00:00-05:00 Physics Colloquium (73000) 127 NSH\",\"267 2024-11-27 13:00:00-05:00 Physics Colloquium (73000) 127 NSH\",\"268 2024-12-04 13:00:00-05:00 Physics Colloquium (73000) 127 NSH\",\"269 2024-12-11 13:00:00-05:00 Physics Colloquium (73000) 127 NSH\",\"270 2024-08-28 13:00:00-04:00 Physics Colloquium (73000) 127 NSH\",\"271 2024-07-09 12:45:00-04:00 Science Communication Conference\",\"272 2024-07-10 12:45:00-04:00 Science Communication Conference\",\"273 2024-07-11 12:45:00-04:00 Science Communication Conference\",\"274 2024-03-05 14:30:00-05:00 Galaxies neighborhood_Environmentally Dependent Galaxy Evolution weekly group meeting \",\"275 2024-05-14 11:10:00-04:00 Tammi school presentation\",\"276 2024-05-14 10:22:30-04:00 Prep\",\"277 2024-05-16 16:15:00-04:00 DVT Upgrade RFP -Evaluation (cont'd if needed)\",\"278 2024-05-17 13:07:30-04:00 PT\",\"279 2024-06-25 14:30:00-04:00 WSP: Digital Visualization Theater Demonstration\",\"280 2024-05-15 14:30:00-04:00 DVT Upgrade RFP -Evaluation\",\"281 2024-06-03 10:45:00-04:00 Science Communication Talk\",\"282 2024-09-13 12:00:00 ND Press Inaugeuration\",\"283 2024-05-18 13:30:00-04:00 Physics graduation\",\"284 2024-09-05 12:00:00 Lips\",\"285 2024-05-23 09:30:00-04:00 PT\",\"286 2024-05-23 14:30:00-04:00 Therapy\",\"287 2024-05-24 11:30:00-04:00 Graage door fix\",\"288 2024-05-20 12:45:00-04:00 Lunch\",\"289 2024-09-05 17:45:00-04:00 Fall All-College Meeting 2024\",\"290 2024-12-06 19:30:00-05:00 Christmas Lecture Featuring Dr. Michelle Thaller, NASA Goddard Space Flight Center\",\"291 2024-07-05 00:00:00 NDQN RET\\u002fREHS\",\"292 2024-04-09 14:30:00-04:00 EDGE meeting\",\"293 2024-03-26 14:30:00-04:00 EDGE meeting\",\"294 2024-04-02 14:30:00-04:00 EDGE meeting\",\"295 2024-04-16 14:30:00-04:00 EDGE meeting\",\"296 2024-04-23 14:30:00-04:00 EDGE meeting\",\"297 2024-04-30 14:30:00-04:00 EDGE meeting\",\"298 2024-06-17 12:00:00 Visit to COSM\",\"299 2024-06-18 12:00:00 Visit to SSIA\",\"300 2024-05-07 14:30:00-04:00 EDGE meeting\",\"301 2024-05-14 14:30:00-04:00 EDGE meeting\",\"302 2024-05-28 14:30:00-04:00 EDGE meeting\",\"303 2024-06-04 14:30:00-04:00 EDGE meeting\",\"304 2024-06-11 14:30:00-04:00 EDGE meeting\",\"305 2024-06-18 14:30:00-04:00 EDGE meeting\",\"306 2024-06-25 14:30:00-04:00 EDGE meeting\",\"307 2024-05-21 14:30:00-04:00 EDGE meeting\",\"308 2024-05-22 12:45:00-04:00 Gym\"],\"theta\":[30.983606557377048,119.46721311475409,209.95901639344262,300.4508196721311,0.4918032786885246,14.262295081967213,28.0327868852459,41.80327868852459,55.57377049180328,69.30327868852459,83.07377049180327,96.84426229508196,110.61475409836065,124.38524590163934,138.15573770491804,151.92622950819674,165.69672131147541,179.46721311475412,193.2377049180328,207.0081967213115,220.77868852459017,234.54918032786887,248.31967213114754,262.0901639344262,275.8606557377049,289.6311475409836,303.44262295081967,317.21311475409834,330.983606557377,344.75409836065575,358.5245901639344,80.12295081967213,153.89344262295083,334.91803278688525,39.83606557377049,152.41803278688525,24.42622950819672,24.42622950819672,10.327868852459016,30.983606557377048,300.4508196721311,21.147540983606557,8.360655737704917,4.446721311475409,8.360655737704917,4.487704918032787,11.449795081967213,11.388319672131148,94.03176229508196,12.581967213114753,14.190573770491804,16.331967213114755,16.331967213114755,16.331967213114755,22.09016393442623,21.214139344262293,18.140368852459016,25.2202868852459,25.225409836065573,91.22950819672131,23.135245901639344,24.077868852459016,23.258196721311474,28.09426229508197,59.50819672131147,29.001024590163933,85.32786885245902,29.200819672131146,28.212090163934427,29.938524590163933,64.52356557377048,37.044057377049185,80.24590163934425,32.049180327868854,84.54918032786884,45.83674863387978,31.168032786885245,34.221311475409834,37.935450819672134,37.97643442622951,36.76571038251366,43.87295081967213,17.25409836065574,24.139344262295083,49.67213114754098,42.94228142076503,42.971311475409834,48.68442622950819,58.463114754098356,56.5983606557377,57.47950819672131,51.82377049180328,44.93852459016394,42.79713114754098,50.72745901639344,58.57069672131147,57.8125,52.72540983606557,52.79200819672131,52.674180327868854,52.81762295081967,56.54200819672131,58.63217213114754,56.50102459016394,57.443647540983605,59.44672131147541,59.4108606557377,55.69159836065573,18.24795081967213,64.36475409836065,69.48770491803278,69.26229508196721,63.463114754098356,15.348360655737704,22.23360655737705,36.00409836065573,56.659836065573764,42.889344262295076,49.77459016393442,63.627049180327866,58.709016393442624,65.38934426229508,108.64754098360655,78.26331967213115,69.36475409836065,71.37636612021858,71.28073770491802,71.36270491803278,69.36475409836065,85.17930327868852,76.32172131147541,73.37602459016392,80.14344262295083,79.26229508196721,79.20594262295083,86.13729508196721,86.0655737704918,90.03073770491802,84.24180327868852,83.10450819672131,117.56147540983606,95.91188524590164,105.81967213114754,15.286885245901638,22.172131147540984,35.94262295081967,93.94467213114754,29.057377049180328,42.82786885245901,49.713114754098356,56.5983606557377,63.48360655737705,70.32786885245902,77.21311475409836,84.09836065573771,90.98360655737704,97.8688524590164,111.63934426229508,104.75409836065573,111.64446721311475,113.67315573770492,113.48872950819671,111.5625,106.72131147540983,107.71004098360655,111.5983606557377,117.72540983606557,111.53176229508196,31.024590163934427,37.90983606557377,44.795081967213115,58.5655737704918,65.45081967213115,72.29508196721311,79.18032786885246,86.0655737704918,92.95081967213115,99.83606557377048,106.72131147540983,113.7431693989071,113.70901639344262,112.76639344262294,112.73565573770492,112.68442622950819,235.5737704918033,242.45901639344262,249.34426229508196,256.2295081967213,263.11475409836066,270.0,276.88524590163934,283.7704918032787,290.655737704918,297.54098360655735,304.4672131147541,311.3524590163935,318.2377049180328,325.12295081967216,332.0081967213115,338.89344262295083,112.51536885245902,134.3237704918033,134.29303278688525,131.39344262295083,118.52459016393442,118.54508196721311,119.52868852459015,120.51229508196721,16.362704918032787,23.24795081967213,30.133196721311474,37.018442622950815,43.90368852459016,50.7889344262295,57.67418032786885,64.5594262295082,71.40368852459017,78.2889344262295,85.17418032786885,92.05942622950819,98.94467213114754,105.82991803278688,119.60040983606557,111.62909836065573,121.48565573770492,35.978483606557376,42.86372950819672,49.74897540983606,56.63422131147541,63.51946721311475,77.24897540983606,91.01946721311475,97.90471311475409,104.78995901639344,111.67520491803278,118.56045081967213,127.5,126.4702868852459,188.48872950819674,16.270491803278688,23.155737704918035,30.04098360655738,36.92622950819672,43.81147540983606,50.69672131147541,57.58196721311475,64.4672131147541,71.31147540983606,78.19672131147541,85.08196721311475,91.9672131147541,98.85245901639344,105.73770491803279,112.62295081967213,119.50819672131148,243.44262295081967,250.327868852459,257.21311475409834,264.0983606557377,270.9836065573771,277.8688524590164,284.75409836065575,291.6393442622951,298.5245901639344,305.45081967213116,312.3360655737705,319.22131147540983,326.10655737704917,332.99180327868856,339.8770491803279,236.55737704918033,187.36680327868854,188.35040983606558,189.33401639344262,63.54508196721312,132.21994535519127,132.1875,134.39549180327867,135.25102459016395,173.66803278688525,133.34016393442622,151.875,252.25409836065572,136.25,244.38524590163934,141.00409836065572,141.20901639344262,142.06967213114754,138.18647540983608,244.62090163934425,335.2254098360656,182.90983606557378,97.93032786885246,84.15983606557377,91.04508196721311,104.8155737704918,111.70081967213115,118.58606557377048,165.69672131147541,166.68032786885246,125.47131147540983,132.35655737704917,146.12704918032787,153.0122950819672,159.89754098360655,166.7827868852459,173.66803278688525,139.2418032786885,140.15368852459017],\"width\":[0.9863013698630136,0.9863013698630136,0.9863013698630136,0.9863013698630136,0.9863013698630136,0.9863013698630136,0.9863013698630136,0.9863013698630136,0.9863013698630136,0.9863013698630136,0.9863013698630136,0.9863013698630136,0.9863013698630136,0.9863013698630136,0.9863013698630136,0.9863013698630136,0.9863013698630136,0.9863013698630136,0.9863013698630136,0.9863013698630136,0.9863013698630136,0.9863013698630136,0.9863013698630136,0.9863013698630136,0.9863013698630136,0.9863013698630136,0.9863013698630136,0.9863013698630136,0.9863013698630136,0.9863013698630136,0.9863013698630136,0.9863013698630136,4.931506849315069,0.9863013698630136,0.9863013698630136,1.9726027397260273,0.0410958904109589,0.0410958904109589,0.9863013698630136,0.9863013698630136,0.9863013698630136,0.9863013698630136,0.0410958904109589,0.0410958904109589,0.0410958904109589,0.0410958904109589,0.030821917808219176,0.030821917808219176,0.030821917808219176,0.1643835616438356,0.06164383561643835,0.0410958904109589,0.0410958904109589,0.0410958904109589,0.0410958904109589,0.030821917808219176,0.030821917808219176,0.030821917808219176,0.1232876712328767,0.0410958904109589,0.0410958904109589,0.0410958904109589,0.02054794520547945,0.0410958904109589,0.9863013698630136,0.05136986301369863,0.0410958904109589,0.0410958904109589,0.030821917808219176,0.0410958904109589,0.030821917808219176,0.030821917808219176,0.0821917808219178,0.0410958904109589,3.9452054794520546,0.03424657534246575,0.0410958904109589,0.1643835616438356,0.030821917808219176,0.05136986301369863,0.0273972602739726,0.0410958904109589,0.0410958904109589,0.0410958904109589,2.958904109589041,0.010273972602739725,0.0410958904109589,0.19726027397260273,0.0410958904109589,0.0410958904109589,0.0410958904109589,0.0410958904109589,0.0410958904109589,0.06164383561643835,0.02054794520547945,0.05136986301369863,0.030821917808219176,0.0410958904109589,0.030821917808219176,0.06164383561643835,0.02054794520547945,0.05136986301369863,0.05136986301369863,0.030821917808219176,0.030821917808219176,0.0410958904109589,0.030821917808219176,0.030821917808219176,0.06164383561643835,0.0410958904109589,0.0410958904109589,0.0410958904109589,0.0410958904109589,0.0410958904109589,0.0410958904109589,0.0410958904109589,0.0410958904109589,0.0410958904109589,0.0410958904109589,0.0410958904109589,0.0410958904109589,0.0410958904109589,0.2465753424657534,0.030821917808219176,0.0410958904109589,0.14383561643835616,0.0410958904109589,0.1232876712328767,0.0410958904109589,0.030821917808219176,0.02054794520547945,0.030821917808219176,0.0410958904109589,0.0410958904109589,0.030821917808219176,0.06164383561643835,0.0410958904109589,0.02054794520547945,0.0410958904109589,0.06164383561643835,0.2876712328767123,0.02054794520547945,0.1643835616438356,0.0410958904109589,0.0410958904109589,0.0410958904109589,0.06164383561643835,0.0410958904109589,0.0410958904109589,0.0410958904109589,0.0410958904109589,0.0410958904109589,0.0410958904109589,0.0410958904109589,0.0410958904109589,0.0410958904109589,0.0410958904109589,0.0410958904109589,0.0410958904109589,0.05136986301369863,0.030821917808219176,0.05136986301369863,0.030821917808219176,0.3287671232876712,0.3390410958904109,0.9863013698630136,0.0410958904109589,0.030821917808219176,0.0410958904109589,0.0410958904109589,0.0410958904109589,0.0410958904109589,0.0410958904109589,0.0410958904109589,0.0410958904109589,0.0410958904109589,0.0410958904109589,0.0410958904109589,0.0410958904109589,0.0410958904109589,0.02054794520547945,0.0410958904109589,0.02054794520547945,0.0410958904109589,0.0410958904109589,0.0410958904109589,0.0410958904109589,0.0410958904109589,0.0410958904109589,0.0410958904109589,0.0410958904109589,0.0410958904109589,0.0410958904109589,0.0410958904109589,0.0410958904109589,0.0410958904109589,0.0410958904109589,0.0410958904109589,0.0410958904109589,0.0410958904109589,0.030821917808219176,0.0410958904109589,0.02054794520547945,0.0821917808219178,0.0410958904109589,0.26712328767123283,0.26712328767123283,0.26712328767123283,0.02054794520547945,0.02054794520547945,0.02054794520547945,0.02054794520547945,0.02054794520547945,0.02054794520547945,0.02054794520547945,0.02054794520547945,0.02054794520547945,0.02054794520547945,0.02054794520547945,0.02054794520547945,0.02054794520547945,0.02054794520547945,0.02054794520547945,0.06164383561643835,0.06164383561643835,0.010273972602739725,0.010273972602739725,0.010273972602739725,0.010273972602739725,0.010273972602739725,0.010273972602739725,0.010273972602739725,0.010273972602739725,0.010273972602739725,0.010273972602739725,0.010273972602739725,0.0410958904109589,0.030821917808219176,0.030821917808219176,0.0410958904109589,0.0410958904109589,0.0410958904109589,0.0410958904109589,0.0410958904109589,0.0410958904109589,0.0410958904109589,0.0410958904109589,0.0410958904109589,0.0410958904109589,0.0410958904109589,0.0410958904109589,0.0410958904109589,0.0410958904109589,0.0410958904109589,0.0410958904109589,0.0410958904109589,0.0410958904109589,0.0410958904109589,0.0410958904109589,0.0410958904109589,0.0410958904109589,0.0410958904109589,0.0410958904109589,0.0410958904109589,0.0410958904109589,0.0410958904109589,0.0410958904109589,0.0410958904109589,0.0410958904109589,0.0410958904109589,0.0410958904109589,0.3493150684931507,0.3493150684931507,0.3493150684931507,0.0410958904109589,0.0410958904109589,0.030821917808219176,0.06164383561643835,0.030821917808219176,0.0410958904109589,0.0821917808219178,0.02054794520547945,0.9863013698630136,0.0410958904109589,2.958904109589041,0.0410958904109589,0.0410958904109589,0.2876712328767123,0.06164383561643835,0.10273972602739725,0.2054794520547945,49.31506849315068,0.0410958904109589,0.0410958904109589,0.0410958904109589,0.0410958904109589,0.0410958904109589,0.0410958904109589,0.9863013698630136,0.9863013698630136,0.0410958904109589,0.0410958904109589,0.0410958904109589,0.0410958904109589,0.0410958904109589,0.0410958904109589,0.0410958904109589,0.0410958904109589,0.10273972602739725],\"type\":\"barpolar\"}],                        {\"template\":{\"data\":{\"histogram2dcontour\":[{\"type\":\"histogram2dcontour\",\"colorbar\":{\"outlinewidth\":0,\"ticks\":\"\"},\"colorscale\":[[0.0,\"#0d0887\"],[0.1111111111111111,\"#46039f\"],[0.2222222222222222,\"#7201a8\"],[0.3333333333333333,\"#9c179e\"],[0.4444444444444444,\"#bd3786\"],[0.5555555555555556,\"#d8576b\"],[0.6666666666666666,\"#ed7953\"],[0.7777777777777778,\"#fb9f3a\"],[0.8888888888888888,\"#fdca26\"],[1.0,\"#f0f921\"]]}],\"choropleth\":[{\"type\":\"choropleth\",\"colorbar\":{\"outlinewidth\":0,\"ticks\":\"\"}}],\"histogram2d\":[{\"type\":\"histogram2d\",\"colorbar\":{\"outlinewidth\":0,\"ticks\":\"\"},\"colorscale\":[[0.0,\"#0d0887\"],[0.1111111111111111,\"#46039f\"],[0.2222222222222222,\"#7201a8\"],[0.3333333333333333,\"#9c179e\"],[0.4444444444444444,\"#bd3786\"],[0.5555555555555556,\"#d8576b\"],[0.6666666666666666,\"#ed7953\"],[0.7777777777777778,\"#fb9f3a\"],[0.8888888888888888,\"#fdca26\"],[1.0,\"#f0f921\"]]}],\"heatmap\":[{\"type\":\"heatmap\",\"colorbar\":{\"outlinewidth\":0,\"ticks\":\"\"},\"colorscale\":[[0.0,\"#0d0887\"],[0.1111111111111111,\"#46039f\"],[0.2222222222222222,\"#7201a8\"],[0.3333333333333333,\"#9c179e\"],[0.4444444444444444,\"#bd3786\"],[0.5555555555555556,\"#d8576b\"],[0.6666666666666666,\"#ed7953\"],[0.7777777777777778,\"#fb9f3a\"],[0.8888888888888888,\"#fdca26\"],[1.0,\"#f0f921\"]]}],\"heatmapgl\":[{\"type\":\"heatmapgl\",\"colorbar\":{\"outlinewidth\":0,\"ticks\":\"\"},\"colorscale\":[[0.0,\"#0d0887\"],[0.1111111111111111,\"#46039f\"],[0.2222222222222222,\"#7201a8\"],[0.3333333333333333,\"#9c179e\"],[0.4444444444444444,\"#bd3786\"],[0.5555555555555556,\"#d8576b\"],[0.6666666666666666,\"#ed7953\"],[0.7777777777777778,\"#fb9f3a\"],[0.8888888888888888,\"#fdca26\"],[1.0,\"#f0f921\"]]}],\"contourcarpet\":[{\"type\":\"contourcarpet\",\"colorbar\":{\"outlinewidth\":0,\"ticks\":\"\"}}],\"contour\":[{\"type\":\"contour\",\"colorbar\":{\"outlinewidth\":0,\"ticks\":\"\"},\"colorscale\":[[0.0,\"#0d0887\"],[0.1111111111111111,\"#46039f\"],[0.2222222222222222,\"#7201a8\"],[0.3333333333333333,\"#9c179e\"],[0.4444444444444444,\"#bd3786\"],[0.5555555555555556,\"#d8576b\"],[0.6666666666666666,\"#ed7953\"],[0.7777777777777778,\"#fb9f3a\"],[0.8888888888888888,\"#fdca26\"],[1.0,\"#f0f921\"]]}],\"surface\":[{\"type\":\"surface\",\"colorbar\":{\"outlinewidth\":0,\"ticks\":\"\"},\"colorscale\":[[0.0,\"#0d0887\"],[0.1111111111111111,\"#46039f\"],[0.2222222222222222,\"#7201a8\"],[0.3333333333333333,\"#9c179e\"],[0.4444444444444444,\"#bd3786\"],[0.5555555555555556,\"#d8576b\"],[0.6666666666666666,\"#ed7953\"],[0.7777777777777778,\"#fb9f3a\"],[0.8888888888888888,\"#fdca26\"],[1.0,\"#f0f921\"]]}],\"mesh3d\":[{\"type\":\"mesh3d\",\"colorbar\":{\"outlinewidth\":0,\"ticks\":\"\"}}],\"scatter\":[{\"fillpattern\":{\"fillmode\":\"overlay\",\"size\":10,\"solidity\":0.2},\"type\":\"scatter\"}],\"parcoords\":[{\"type\":\"parcoords\",\"line\":{\"colorbar\":{\"outlinewidth\":0,\"ticks\":\"\"}}}],\"scatterpolargl\":[{\"type\":\"scatterpolargl\",\"marker\":{\"colorbar\":{\"outlinewidth\":0,\"ticks\":\"\"}}}],\"bar\":[{\"error_x\":{\"color\":\"#2a3f5f\"},\"error_y\":{\"color\":\"#2a3f5f\"},\"marker\":{\"line\":{\"color\":\"#E5ECF6\",\"width\":0.5},\"pattern\":{\"fillmode\":\"overlay\",\"size\":10,\"solidity\":0.2}},\"type\":\"bar\"}],\"scattergeo\":[{\"type\":\"scattergeo\",\"marker\":{\"colorbar\":{\"outlinewidth\":0,\"ticks\":\"\"}}}],\"scatterpolar\":[{\"type\":\"scatterpolar\",\"marker\":{\"colorbar\":{\"outlinewidth\":0,\"ticks\":\"\"}}}],\"histogram\":[{\"marker\":{\"pattern\":{\"fillmode\":\"overlay\",\"size\":10,\"solidity\":0.2}},\"type\":\"histogram\"}],\"scattergl\":[{\"type\":\"scattergl\",\"marker\":{\"colorbar\":{\"outlinewidth\":0,\"ticks\":\"\"}}}],\"scatter3d\":[{\"type\":\"scatter3d\",\"line\":{\"colorbar\":{\"outlinewidth\":0,\"ticks\":\"\"}},\"marker\":{\"colorbar\":{\"outlinewidth\":0,\"ticks\":\"\"}}}],\"scattermapbox\":[{\"type\":\"scattermapbox\",\"marker\":{\"colorbar\":{\"outlinewidth\":0,\"ticks\":\"\"}}}],\"scatterternary\":[{\"type\":\"scatterternary\",\"marker\":{\"colorbar\":{\"outlinewidth\":0,\"ticks\":\"\"}}}],\"scattercarpet\":[{\"type\":\"scattercarpet\",\"marker\":{\"colorbar\":{\"outlinewidth\":0,\"ticks\":\"\"}}}],\"carpet\":[{\"aaxis\":{\"endlinecolor\":\"#2a3f5f\",\"gridcolor\":\"white\",\"linecolor\":\"white\",\"minorgridcolor\":\"white\",\"startlinecolor\":\"#2a3f5f\"},\"baxis\":{\"endlinecolor\":\"#2a3f5f\",\"gridcolor\":\"white\",\"linecolor\":\"white\",\"minorgridcolor\":\"white\",\"startlinecolor\":\"#2a3f5f\"},\"type\":\"carpet\"}],\"table\":[{\"cells\":{\"fill\":{\"color\":\"#EBF0F8\"},\"line\":{\"color\":\"white\"}},\"header\":{\"fill\":{\"color\":\"#C8D4E3\"},\"line\":{\"color\":\"white\"}},\"type\":\"table\"}],\"barpolar\":[{\"marker\":{\"line\":{\"color\":\"#E5ECF6\",\"width\":0.5},\"pattern\":{\"fillmode\":\"overlay\",\"size\":10,\"solidity\":0.2}},\"type\":\"barpolar\"}],\"pie\":[{\"automargin\":true,\"type\":\"pie\"}]},\"layout\":{\"autotypenumbers\":\"strict\",\"colorway\":[\"#636efa\",\"#EF553B\",\"#00cc96\",\"#ab63fa\",\"#FFA15A\",\"#19d3f3\",\"#FF6692\",\"#B6E880\",\"#FF97FF\",\"#FECB52\"],\"font\":{\"color\":\"#2a3f5f\"},\"hovermode\":\"closest\",\"hoverlabel\":{\"align\":\"left\"},\"paper_bgcolor\":\"white\",\"plot_bgcolor\":\"#E5ECF6\",\"polar\":{\"bgcolor\":\"#E5ECF6\",\"angularaxis\":{\"gridcolor\":\"white\",\"linecolor\":\"white\",\"ticks\":\"\"},\"radialaxis\":{\"gridcolor\":\"white\",\"linecolor\":\"white\",\"ticks\":\"\"}},\"ternary\":{\"bgcolor\":\"#E5ECF6\",\"aaxis\":{\"gridcolor\":\"white\",\"linecolor\":\"white\",\"ticks\":\"\"},\"baxis\":{\"gridcolor\":\"white\",\"linecolor\":\"white\",\"ticks\":\"\"},\"caxis\":{\"gridcolor\":\"white\",\"linecolor\":\"white\",\"ticks\":\"\"}},\"coloraxis\":{\"colorbar\":{\"outlinewidth\":0,\"ticks\":\"\"}},\"colorscale\":{\"sequential\":[[0.0,\"#0d0887\"],[0.1111111111111111,\"#46039f\"],[0.2222222222222222,\"#7201a8\"],[0.3333333333333333,\"#9c179e\"],[0.4444444444444444,\"#bd3786\"],[0.5555555555555556,\"#d8576b\"],[0.6666666666666666,\"#ed7953\"],[0.7777777777777778,\"#fb9f3a\"],[0.8888888888888888,\"#fdca26\"],[1.0,\"#f0f921\"]],\"sequentialminus\":[[0.0,\"#0d0887\"],[0.1111111111111111,\"#46039f\"],[0.2222222222222222,\"#7201a8\"],[0.3333333333333333,\"#9c179e\"],[0.4444444444444444,\"#bd3786\"],[0.5555555555555556,\"#d8576b\"],[0.6666666666666666,\"#ed7953\"],[0.7777777777777778,\"#fb9f3a\"],[0.8888888888888888,\"#fdca26\"],[1.0,\"#f0f921\"]],\"diverging\":[[0,\"#8e0152\"],[0.1,\"#c51b7d\"],[0.2,\"#de77ae\"],[0.3,\"#f1b6da\"],[0.4,\"#fde0ef\"],[0.5,\"#f7f7f7\"],[0.6,\"#e6f5d0\"],[0.7,\"#b8e186\"],[0.8,\"#7fbc41\"],[0.9,\"#4d9221\"],[1,\"#276419\"]]},\"xaxis\":{\"gridcolor\":\"white\",\"linecolor\":\"white\",\"ticks\":\"\",\"title\":{\"standoff\":15},\"zerolinecolor\":\"white\",\"automargin\":true,\"zerolinewidth\":2},\"yaxis\":{\"gridcolor\":\"white\",\"linecolor\":\"white\",\"ticks\":\"\",\"title\":{\"standoff\":15},\"zerolinecolor\":\"white\",\"automargin\":true,\"zerolinewidth\":2},\"scene\":{\"xaxis\":{\"backgroundcolor\":\"#E5ECF6\",\"gridcolor\":\"white\",\"linecolor\":\"white\",\"showbackground\":true,\"ticks\":\"\",\"zerolinecolor\":\"white\",\"gridwidth\":2},\"yaxis\":{\"backgroundcolor\":\"#E5ECF6\",\"gridcolor\":\"white\",\"linecolor\":\"white\",\"showbackground\":true,\"ticks\":\"\",\"zerolinecolor\":\"white\",\"gridwidth\":2},\"zaxis\":{\"backgroundcolor\":\"#E5ECF6\",\"gridcolor\":\"white\",\"linecolor\":\"white\",\"showbackground\":true,\"ticks\":\"\",\"zerolinecolor\":\"white\",\"gridwidth\":2}},\"shapedefaults\":{\"line\":{\"color\":\"#2a3f5f\"}},\"annotationdefaults\":{\"arrowcolor\":\"#2a3f5f\",\"arrowhead\":0,\"arrowwidth\":1},\"geo\":{\"bgcolor\":\"white\",\"landcolor\":\"#E5ECF6\",\"subunitcolor\":\"white\",\"showland\":true,\"showlakes\":true,\"lakecolor\":\"white\"},\"title\":{\"x\":0.05},\"mapbox\":{\"style\":\"light\"}}},\"height\":1000,\"polar\":{\"angularaxis\":{\"direction\":\"counterclockwise\",\"rotation\":-90,\"tickmode\":\"array\",\"tickvals\":[30.491803278688526,59.01639344262295,89.46721311475409,118.97540983606557,149.46721311475412,178.97540983606558,209.46721311475412,239.95901639344262,269.4672131147541,299.9590163934426,329.5081967213115,0.0]}}},                        {\"responsive\": true}                    ).then(function(){\n",
       "                            \n",
       "var gd = document.getElementById('dbbae4c4-b0df-448d-9daa-798cd33e74bb');\n",
       "var x = new MutationObserver(function (mutations, observer) {{\n",
       "        var display = window.getComputedStyle(gd).display;\n",
       "        if (!display || display === 'none') {{\n",
       "            console.log([gd, 'removed!']);\n",
       "            Plotly.purge(gd);\n",
       "            observer.disconnect();\n",
       "        }}\n",
       "}});\n",
       "\n",
       "// Listen for the removal of the full notebook cells\n",
       "var notebookContainer = gd.closest('#notebook-container');\n",
       "if (notebookContainer) {{\n",
       "    x.observe(notebookContainer, {childList: true});\n",
       "}}\n",
       "\n",
       "// Listen for the clearing of the current output cell\n",
       "var outputEl = gd.closest('.output');\n",
       "if (outputEl) {{\n",
       "    x.observe(outputEl, {childList: true});\n",
       "}}\n",
       "\n",
       "                        })                };                });            </script>        </div>"
      ]
     },
     "metadata": {},
     "output_type": "display_data"
    }
   ],
   "source": [
    "year = y24 = CalendarElement(year=2024)\n",
    "\n",
    "eve = gcal.get_events(y24.start.datetime(), y24.stop.datetime(), single_events=True)\n",
    "eve = [model.EventWrap(ev) for ev in eve if ev.other[\"eventType\"] != \"workingLocation\"]\n",
    "print(len(eve))\n",
    "\n",
    "t = ccplot.events_to_trace(eve, 360 / 365)\n",
    "t.marker.color=gcal.get_calendar_list_entry().background_color\n",
    "\n",
    "rot = -90\n",
    "fig = go.Figure(data=t)\n",
    "sector = [ccplot.to_theta(y24[4].start.datetime())+rot,\n",
    "          ccplot.to_theta(y24[7].stop.datetime())+rot]\n",
    "fig.update_layout(height=1000)\n",
    "\n",
    "fig.update_layout(dict(polar=\n",
    "                       dict(angularaxis=\n",
    "                            dict(direction=\"counterclockwise\",\n",
    "                                 \n",
    "                                 rotation=rot,\n",
    "                                 #showticklabels=False,\n",
    "                                 tickmode=\"array\", tickvals=[ccplot.to_theta(m.stop.datetime()) for m in y24],\n",
    "                                 ),\n",
    "                            #sector=sector,\n",
    "                            \n",
    "                           ),\n",
    " \n",
    "                      ),\n",
    "                 ),\n",
    "\n",
    "\n",
    "fig.show()\n"
   ]
  },
  {
   "cell_type": "code",
   "execution_count": 21,
   "id": "0c6ab09b-3e60-47ad-b858-78942646f124",
   "metadata": {},
   "outputs": [
    {
     "data": {
      "application/vnd.plotly.v1+json": {
       "config": {
        "plotlyServerURL": "https://plot.ly"
       },
       "data": [
        {
         "base": [
          0.52,
          0.52,
          0.52,
          0.52,
          0.52,
          0.52,
          0.52,
          0.52,
          0.52,
          0.52,
          0.52,
          0.52,
          0.52,
          0.52,
          0.52,
          0.52,
          0.52,
          0.52,
          0.52,
          0.52,
          0.52,
          0.52,
          0.52,
          0.52,
          0.52,
          0.52,
          0.52,
          0.52,
          0.52,
          0.52,
          0.52,
          0.52,
          0.36,
          0.52,
          0.52,
          0.36,
          0.6799999999999999,
          0.6799999999999999,
          0.52,
          0.52,
          0.52,
          0.52,
          0.6799999999999999,
          0.6799999999999999,
          0.6799999999999999,
          0.6799999999999999,
          0.8400000000000001,
          0.8400000000000001,
          0.8400000000000001,
          0.6799999999999999,
          0.6799999999999999,
          0.6799999999999999,
          0.6799999999999999,
          0.6799999999999999,
          0.6799999999999999,
          0.8400000000000001,
          0.8400000000000001,
          0.8400000000000001,
          0.6799999999999999,
          0.6799999999999999,
          0.6799999999999999,
          0.6799999999999999,
          0.8400000000000001,
          0.6799999999999999,
          0.52,
          0.6799999999999999,
          0.6799999999999999,
          0.6799999999999999,
          0.8400000000000001,
          0.6799999999999999,
          0.8400000000000001,
          0.8400000000000001,
          0.6799999999999999,
          0.6799999999999999,
          0.36,
          0.8400000000000001,
          0.6799999999999999,
          0.6799999999999999,
          0.52,
          0.8400000000000001,
          0.6799999999999999,
          0.8400000000000001,
          0.6799999999999999,
          0.6799999999999999,
          0.6799999999999999,
          0.36,
          0.8400000000000001,
          0.6799999999999999,
          0.6799999999999999,
          0.6799999999999999,
          0.6799999999999999,
          0.6799999999999999,
          0.6799999999999999,
          0.6799999999999999,
          0.6799999999999999,
          0.8400000000000001,
          0.6799999999999999,
          0.8400000000000001,
          0.6799999999999999,
          0.8400000000000001,
          0.6799999999999999,
          0.8400000000000001,
          0.6799999999999999,
          0.6799999999999999,
          0.8400000000000001,
          0.8400000000000001,
          0.6799999999999999,
          0.8400000000000001,
          0.8400000000000001,
          0.6799999999999999,
          0.6799999999999999,
          0.6799999999999999,
          0.6799999999999999,
          0.6799999999999999,
          0.6799999999999999,
          0.6799999999999999,
          0.6799999999999999,
          0.6799999999999999,
          0.6799999999999999,
          0.6799999999999999,
          0.6799999999999999,
          0.6799999999999999,
          0.6799999999999999,
          0.6799999999999999,
          0.8400000000000001,
          0.6799999999999999,
          0.6799999999999999,
          0.6799999999999999,
          0.6799999999999999,
          0.6799999999999999,
          0.8400000000000001,
          0.8400000000000001,
          0.8400000000000001,
          0.6799999999999999,
          0.6799999999999999,
          0.8400000000000001,
          0.6799999999999999,
          0.6799999999999999,
          0.8400000000000001,
          0.6799999999999999,
          0.6799999999999999,
          0.6799999999999999,
          0.8400000000000001,
          0.6799999999999999,
          0.6799999999999999,
          0.6799999999999999,
          0.6799999999999999,
          0.6799999999999999,
          0.6799999999999999,
          0.6799999999999999,
          0.6799999999999999,
          0.6799999999999999,
          0.6799999999999999,
          0.6799999999999999,
          0.6799999999999999,
          0.6799999999999999,
          0.6799999999999999,
          0.6799999999999999,
          0.6799999999999999,
          0.6799999999999999,
          0.6799999999999999,
          0.8400000000000001,
          0.6799999999999999,
          0.8400000000000001,
          0.6799999999999999,
          0.6799999999999999,
          0.52,
          0.6799999999999999,
          0.8400000000000001,
          0.6799999999999999,
          0.6799999999999999,
          0.6799999999999999,
          0.6799999999999999,
          0.6799999999999999,
          0.6799999999999999,
          0.6799999999999999,
          0.6799999999999999,
          0.6799999999999999,
          0.6799999999999999,
          0.6799999999999999,
          0.6799999999999999,
          0.8400000000000001,
          0.6799999999999999,
          0.8400000000000001,
          0.6799999999999999,
          0.6799999999999999,
          0.6799999999999999,
          0.6799999999999999,
          0.6799999999999999,
          0.6799999999999999,
          0.6799999999999999,
          0.6799999999999999,
          0.6799999999999999,
          0.6799999999999999,
          0.6799999999999999,
          0.6799999999999999,
          0.6799999999999999,
          0.6799999999999999,
          0.6799999999999999,
          0.6799999999999999,
          0.6799999999999999,
          0.8400000000000001,
          0.6799999999999999,
          0.8400000000000001,
          0.6799999999999999,
          0.6799999999999999,
          0.6799999999999999,
          0.6799999999999999,
          0.6799999999999999,
          0.8400000000000001,
          0.8400000000000001,
          0.8400000000000001,
          0.8400000000000001,
          0.8400000000000001,
          0.8400000000000001,
          0.8400000000000001,
          0.8400000000000001,
          0.8400000000000001,
          0.8400000000000001,
          0.8400000000000001,
          0.8400000000000001,
          0.8400000000000001,
          0.8400000000000001,
          0.8400000000000001,
          0.6799999999999999,
          0.6799999999999999,
          0.8400000000000001,
          0.8400000000000001,
          0.8400000000000001,
          0.8400000000000001,
          0.8400000000000001,
          0.8400000000000001,
          0.8400000000000001,
          0.8400000000000001,
          0.8400000000000001,
          0.8400000000000001,
          0.8400000000000001,
          0.6799999999999999,
          0.8400000000000001,
          0.8400000000000001,
          0.6799999999999999,
          0.6799999999999999,
          0.6799999999999999,
          0.6799999999999999,
          0.6799999999999999,
          0.6799999999999999,
          0.6799999999999999,
          0.6799999999999999,
          0.6799999999999999,
          0.6799999999999999,
          0.6799999999999999,
          0.6799999999999999,
          0.6799999999999999,
          0.6799999999999999,
          0.6799999999999999,
          0.6799999999999999,
          0.6799999999999999,
          0.6799999999999999,
          0.6799999999999999,
          0.6799999999999999,
          0.6799999999999999,
          0.6799999999999999,
          0.6799999999999999,
          0.6799999999999999,
          0.6799999999999999,
          0.6799999999999999,
          0.6799999999999999,
          0.6799999999999999,
          0.6799999999999999,
          0.6799999999999999,
          0.6799999999999999,
          0.6799999999999999,
          0.6799999999999999,
          0.6799999999999999,
          0.6799999999999999,
          0.6799999999999999,
          0.6799999999999999,
          0.8400000000000001,
          0.6799999999999999,
          0.8400000000000001,
          0.6799999999999999,
          0.6799999999999999,
          0.8400000000000001,
          0.52,
          0.6799999999999999,
          0.36,
          0.6799999999999999,
          0.6799999999999999,
          0.6799999999999999,
          0.6799999999999999,
          0.6799999999999999,
          0.6799999999999999,
          0.2,
          0.6799999999999999,
          0.6799999999999999,
          0.6799999999999999,
          0.6799999999999999,
          0.6799999999999999,
          0.6799999999999999,
          0.52,
          0.52,
          0.6799999999999999,
          0.6799999999999999,
          0.6799999999999999,
          0.6799999999999999,
          0.6799999999999999,
          0.6799999999999999,
          0.6799999999999999,
          0.6799999999999999,
          0.6799999999999999
         ],
         "r": [
          0.16,
          0.16,
          0.16,
          0.16,
          0.16,
          0.16,
          0.16,
          0.16,
          0.16,
          0.16,
          0.16,
          0.16,
          0.16,
          0.16,
          0.16,
          0.16,
          0.16,
          0.16,
          0.16,
          0.16,
          0.16,
          0.16,
          0.16,
          0.16,
          0.16,
          0.16,
          0.16,
          0.16,
          0.16,
          0.16,
          0.16,
          0.16,
          0.16,
          0.16,
          0.16,
          0.16,
          0.16,
          0.16,
          0.16,
          0.16,
          0.16,
          0.16,
          0.16,
          0.16,
          0.16,
          0.16,
          0.16,
          0.16,
          0.16,
          0.16,
          0.16,
          0.16,
          0.16,
          0.16,
          0.16,
          0.16,
          0.16,
          0.16,
          0.16,
          0.16,
          0.16,
          0.16,
          0.16,
          0.16,
          0.16,
          0.16,
          0.16,
          0.16,
          0.16,
          0.16,
          0.16,
          0.16,
          0.16,
          0.16,
          0.16,
          0.16,
          0.16,
          0.16,
          0.16,
          0.16,
          0.16,
          0.16,
          0.16,
          0.16,
          0.16,
          0.16,
          0.16,
          0.16,
          0.16,
          0.16,
          0.16,
          0.16,
          0.16,
          0.16,
          0.16,
          0.16,
          0.16,
          0.16,
          0.16,
          0.16,
          0.16,
          0.16,
          0.16,
          0.16,
          0.16,
          0.16,
          0.16,
          0.16,
          0.16,
          0.16,
          0.16,
          0.16,
          0.16,
          0.16,
          0.16,
          0.16,
          0.16,
          0.16,
          0.16,
          0.16,
          0.16,
          0.16,
          0.16,
          0.16,
          0.16,
          0.16,
          0.16,
          0.16,
          0.16,
          0.16,
          0.16,
          0.16,
          0.16,
          0.16,
          0.16,
          0.16,
          0.16,
          0.16,
          0.16,
          0.16,
          0.16,
          0.16,
          0.16,
          0.16,
          0.16,
          0.16,
          0.16,
          0.16,
          0.16,
          0.16,
          0.16,
          0.16,
          0.16,
          0.16,
          0.16,
          0.16,
          0.16,
          0.16,
          0.16,
          0.16,
          0.16,
          0.16,
          0.16,
          0.16,
          0.16,
          0.16,
          0.16,
          0.16,
          0.16,
          0.16,
          0.16,
          0.16,
          0.16,
          0.16,
          0.16,
          0.16,
          0.16,
          0.16,
          0.16,
          0.16,
          0.16,
          0.16,
          0.16,
          0.16,
          0.16,
          0.16,
          0.16,
          0.16,
          0.16,
          0.16,
          0.16,
          0.16,
          0.16,
          0.16,
          0.16,
          0.16,
          0.16,
          0.16,
          0.16,
          0.16,
          0.16,
          0.16,
          0.16,
          0.16,
          0.16,
          0.16,
          0.16,
          0.16,
          0.16,
          0.16,
          0.16,
          0.16,
          0.16,
          0.16,
          0.16,
          0.16,
          0.16,
          0.16,
          0.16,
          0.16,
          0.16,
          0.16,
          0.16,
          0.16,
          0.16,
          0.16,
          0.16,
          0.16,
          0.16,
          0.16,
          0.16,
          0.16,
          0.16,
          0.16,
          0.16,
          0.16,
          0.16,
          0.16,
          0.16,
          0.16,
          0.16,
          0.16,
          0.16,
          0.16,
          0.16,
          0.16,
          0.16,
          0.16,
          0.16,
          0.16,
          0.16,
          0.16,
          0.16,
          0.16,
          0.16,
          0.16,
          0.16,
          0.16,
          0.16,
          0.16,
          0.16,
          0.16,
          0.16,
          0.16,
          0.16,
          0.16,
          0.16,
          0.16,
          0.16,
          0.16,
          0.16,
          0.16,
          0.16,
          0.16,
          0.16,
          0.16,
          0.16,
          0.16,
          0.16,
          0.16,
          0.16,
          0.16,
          0.16,
          0.16,
          0.16,
          0.16,
          0.16,
          0.16,
          0.16,
          0.16,
          0.16,
          0.16,
          0.16,
          0.16,
          0.16,
          0.16,
          0.16,
          0.16,
          0.16,
          0.16,
          0.16,
          0.16,
          0.16,
          0.16,
          0.16,
          0.16,
          0.16,
          0.16,
          0.16,
          0.16
         ],
         "text": [
          "0 2024-02-01 12:00:00 GLPA News Due",
          "1 2024-05-01 12:00:00 GLPA News Due",
          "2 2024-08-01 12:00:00 GLPA News Due",
          "3 2024-11-01 12:00:00 GLPA News Due",
          "4 2024-01-01 12:00:00 Approve Hours",
          "5 2024-01-15 12:00:00 Approve Hours",
          "6 2024-01-29 12:00:00 Approve Hours",
          "7 2024-02-12 12:00:00 Approve Hours",
          "8 2024-02-26 12:00:00 Approve Hours",
          "9 2024-03-11 12:00:00 Approve Hours",
          "10 2024-03-25 12:00:00 Approve Hours",
          "11 2024-04-08 12:00:00 Approve Hours",
          "12 2024-04-22 12:00:00 Approve Hours",
          "13 2024-05-06 12:00:00 Approve Hours",
          "14 2024-05-20 12:00:00 Approve Hours",
          "15 2024-06-03 12:00:00 Approve Hours",
          "16 2024-06-17 12:00:00 Approve Hours",
          "17 2024-07-01 12:00:00 Approve Hours",
          "18 2024-07-15 12:00:00 Approve Hours",
          "19 2024-07-29 12:00:00 Approve Hours",
          "20 2024-08-12 12:00:00 Approve Hours",
          "21 2024-08-26 12:00:00 Approve Hours",
          "22 2024-09-09 12:00:00 Approve Hours",
          "23 2024-09-23 12:00:00 Approve Hours",
          "24 2024-10-07 12:00:00 Approve Hours",
          "25 2024-10-21 12:00:00 Approve Hours",
          "26 2024-11-04 12:00:00 Approve Hours",
          "27 2024-11-18 12:00:00 Approve Hours",
          "28 2024-12-02 12:00:00 Approve Hours",
          "29 2024-12-16 12:00:00 Approve Hours",
          "30 2024-12-30 12:00:00 Approve Hours",
          "31 2024-03-22 12:00:00 WVPE Day",
          "32 2024-06-05 12:00:00 Frontiers in Nuclear Astrophysics ",
          "33 2024-12-06 12:00:00 Christmas Lecture",
          "34 2024-02-10 12:00:00 Science Alive",
          "35 2024-06-04 00:00:00 Talk on Communicating Science.",
          "36 2024-01-25 20:00:00-05:00 ILI Initiative",
          "37 2024-01-25 20:00:00-05:00 ILI Initiative",
          "38 2024-01-11 12:00:00 Arielle’s Talk",
          "39 2024-02-01 12:00:00 Stephen Heritage REU recc letter",
          "40 2024-11-01 12:00:00 call for proposal for “Summer Academy\"",
          "41 2024-01-22 12:00:00 Annual scholarly report",
          "42 2024-01-09 12:00:00-05:00 Meet over Library / ND Eclipse activities.",
          "43 2024-01-05 12:30:00-05:00 Matt and Lucas Lunch interview with Keith",
          "44 2024-01-09 12:00:00-05:00 Library ND Eclipse Activities",
          "45 2024-01-05 13:30:00-05:00 Possible hold for Astrophysics discussion",
          "46 2024-01-12 15:22:30-05:00 Eclipse stuff Keith and Deanna",
          "47 2024-01-12 13:52:30-05:00 Fabio and Keith Zoom",
          "48 2024-04-05 15:22:30-04:00 Eclipse update meeting",
          "49 2024-01-13 19:00:00-05:00 Keith Davis' Zoom Meeting",
          "50 2024-01-15 10:15:00-05:00 Astro Faculty Meeting",
          "51 2024-01-17 14:30:00-05:00 Keith Davis",
          "52 2024-01-17 14:30:00-05:00 DVT Upgrade Kickoff Zoom",
          "53 2024-01-17 14:30:00-05:00 DVT Upgrade - RFP Kickoff Meeting",
          "54 2024-01-23 11:00:00-05:00 Postdoc Coffee Hour with Keith Davis: Science Communication",
          "55 2024-01-22 13:37:30-05:00 Meet over Chem",
          "56 2024-01-19 10:37:30-05:00 Meet with DVT Students",
          "57 2024-01-26 15:22:30-05:00 Eclipse update meeting",
          "58 2024-01-26 15:30:00-05:00 Busy",
          "59 2024-04-02 19:00:00-04:00 Lauren Weiss Talk",
          "60 2024-01-24 12:30:00-05:00 Lunch",
          "61 2024-01-25 11:30:00-05:00 DVT Upgrade - Project Touch Base",
          "62 2024-01-24 15:30:00-05:00 Michelle",
          "63 2024-01-29 13:30:00-05:00 Keith / Miguel data discussion",
          "64 2024-03-01 12:00:00 Prospective Grad Visit",
          "65 2024-01-30 11:37:30-05:00 Descriptive Astronomy - Prof. Garnavich out of Town (Planet Tracking Activity)",
          "66 2024-03-27 19:00:00-04:00 Phil’s Eclipse talk",
          "67 2024-01-30 16:30:00-05:00 Busy",
          "68 2024-01-29 16:22:30-05:00 Keith Davis' Zoom Meeting",
          "69 2024-01-31 10:30:00-05:00 Keith / Miguel github tutorial meeting?",
          "70 2024-03-06 14:22:30-05:00 Eclipse update meeting",
          "71 2024-02-07 15:52:30-05:00 Eclipse update meeting",
          "72 2024-03-22 15:00:00-04:00 WVPE",
          "73 2024-02-02 14:00:00-05:00 DVT Upgrade - Committee Meeting",
          "74 2024-03-27 00:00:00 Release RFP",
          "75 2024-02-16 14:25:00-05:00 Orbital and Space Dynamics - Karel Matous",
          "76 2024-02-01 16:30:00-05:00 Physics Colloquium (PHYS73000) 118 NSH",
          "77 2024-02-04 19:00:00-05:00 Keith Davis' Zoom Meeting",
          "78 2024-08-04 12:00:00 Dayna’s Wedding Reception.",
          "79 2024-02-08 13:37:30-05:00 Prep",
          "80 2024-02-08 14:37:30-05:00 Phillippe Collon Physics of Civilication",
          "81 2024-02-07 09:05:00-05:00 Prep",
          "82 2024-02-14 14:30:00-05:00 DVT Upgrade - Committee Meeting",
          "83 2024-01-18 13:00:00-05:00 Astro Journal Club",
          "84 2024-01-25 13:00:00-05:00 Astro Journal Club",
          "85 2024-02-20 12:00:00 Keith In Boston",
          "86 2024-02-13 15:47:30-05:00 Travel",
          "87 2024-02-13 16:30:00-05:00 therapy",
          "88 2024-02-19 11:54:00-05:00 Flight# UA5309 from SBN -> ORD\n (1 hour and 9 mins.)  Layover of 1 hour and 21 mins.  Flight# 2617 from ORD -> BOS\n (2 hours and 18 mins.)",
          "89 2024-02-29 10:30:00-05:00 Furnace CHeckup.",
          "90 2024-02-27 13:00:00-05:00 PT",
          "91 2024-02-28 10:30:00-05:00 Beiger Elementary",
          "92 2024-02-22 16:30:00-05:00 Physics Colloquium (PHYS73000) 118 NSH",
          "93 2024-02-15 16:30:00-05:00 Physics Colloquium (PHYS73000) 118 NSH",
          "94 2024-02-13 12:15:00-05:00 Physics & Astronomy LGBTQ/Ally Luncheon",
          "95 2024-02-21 13:45:00-05:00 Discuss Eclipse Event - Irish Green",
          "96 2024-02-29 13:07:30-05:00 Losecco cosmology",
          "97 2024-02-28 18:37:30-05:00 Prep",
          "98 2024-02-23 14:30:00-05:00 DVT Upgrade RFP Discussion",
          "99 2024-02-23 16:07:30-05:00 Eclipse update meeting",
          "100 2024-02-23 13:15:00-05:00 Faculty Meeting",
          "101 2024-02-23 16:45:00-05:00 Discuss budget and plans for April 8 eclipse",
          "102 2024-02-27 11:37:30-05:00 Eclipses for Desc Astro",
          "103 2024-02-29 14:37:30-05:00 Descriptive Astronomy Prof. Beers out of Town",
          "104 2024-02-27 10:37:30-05:00 Prep",
          "105 2024-02-28 09:37:30-05:00 Pre[",
          "106 2024-03-01 10:30:00-05:00 Stephen Piloting - Pierre Moran Middle and North Side Middle School",
          "107 2024-03-01 09:37:30-05:00 Prep",
          "108 2024-02-26 14:52:30-05:00 Eclipse - backup plan discussion",
          "109 2024-01-19 13:15:00-05:00 Faculty Meeting",
          "110 2024-03-06 10:30:00-05:00 DVT Upgrade RFP Committee Meeting",
          "111 2024-03-11 16:30:00-04:00 therapy",
          "112 2024-03-11 11:00:00-04:00 physical therapy",
          "113 2024-03-05 12:30:00-05:00 Lunch w/ Jeff",
          "114 2024-01-16 14:30:00-05:00 Environmentally Dependent Galaxy Evolution weekly group meeting (Hybrid)",
          "115 2024-01-23 14:30:00-05:00 Environmentally Dependent Galaxy Evolution weekly group meeting (Hybrid)",
          "116 2024-02-06 14:30:00-05:00 Environmentally Dependent Galaxy Evolution weekly group meeting (Hybrid)",
          "117 2024-02-27 14:30:00-05:00 Environmentally Dependent Galaxy Evolution weekly group meeting (Hybrid)",
          "118 2024-02-13 14:30:00-05:00 Environmentally Dependent Galaxy Evolution weekly group meeting (Hybrid)",
          "119 2024-02-20 14:30:00-05:00 Environmentally Dependent Galaxy Evolution weekly group meeting (Hybrid)",
          "120 2024-03-05 16:30:00-05:00 Physics Colloquium (PHYS73000) 118 NSH",
          "121 2024-02-29 16:30:00-05:00 Physics Colloquium (PHYS73000) 118 NSH",
          "122 2024-03-07 11:30:00-05:00 Eclipse Stream Advance",
          "123 2024-04-20 12:00:00-04:00 State Meeting",
          "124 2024-03-20 14:37:30-04:00 Eclipse update meeting",
          "125 2024-03-11 13:30:00-04:00 Meeting over display cases",
          "126 2024-03-13 14:35:00-04:00 Dune 2",
          "127 2024-03-13 12:15:00-04:00 Optional lunch with Jeff & Ken before the movie",
          "128 2024-03-13 14:15:00-04:00 Dune 2 with Jeff & Ken",
          "129 2024-03-11 13:30:00-04:00 Astrophysics case discussion",
          "130 2024-03-27 15:22:30-04:00 Eclipse update meeting",
          "131 2024-03-18 15:15:00-04:00 haircyt",
          "132 2024-03-15 15:22:30-04:00 Eclipse update meeting",
          "133 2024-03-22 12:30:00-04:00 meet with Adam about postdoc",
          "134 2024-03-21 15:00:00-04:00 DVT Upgrade - RFP Meeting",
          "135 2024-03-21 13:37:30-04:00 Eclipse meeting - 215 Jordan",
          "136 2024-03-28 14:45:00-04:00 Final RFP Draft - DVT Upgrade Meeting",
          "137 2024-03-28 13:00:00-04:00 Solar Telescope meeting. (weather dependent)",
          "138 2024-04-01 13:45:00-04:00 DVT RFP chat",
          "139 2024-03-26 16:30:00-04:00 Physics Colloquium (PHYS73000) 118 NSH",
          "140 2024-03-25 12:45:00-04:00 LGBTQ/Ally Luncheon",
          "141 2024-04-29 13:30:00-04:00 Jury Duty",
          "142 2024-04-07 13:15:00-04:00 Eclipse Volunteer Q & A",
          "143 2024-04-17 15:00:00-04:00 DVT Upgrade Bidder Conference & Walkthrough (Confirmed)",
          "144 2024-01-16 13:00:00-05:00 Astrophysics Seminar (PHYS83200) 184 NSH",
          "145 2024-01-23 13:00:00-05:00 Astrophysics Seminar (PHYS83200) 184 NSH",
          "146 2024-02-06 13:00:00-05:00 Astrophysics Seminar (PHYS83200) 184 NSH",
          "147 2024-04-05 13:15:00-04:00 Faculty Meeting",
          "148 2024-01-30 13:00:00-05:00 Astrophysics Seminar (PHYS83200) 184 NSH",
          "149 2024-02-13 13:00:00-05:00 Astrophysics Seminar (PHYS83200) 184 NSH",
          "150 2024-02-20 13:00:00-05:00 Astrophysics Seminar (PHYS83200) 184 NSH",
          "151 2024-02-27 13:00:00-05:00 Astrophysics Seminar (PHYS83200) 184 NSH",
          "152 2024-03-05 13:00:00-05:00 Astrophysics Seminar (PHYS83200) 184 NSH",
          "153 2024-03-12 13:00:00-04:00 Astrophysics Seminar (PHYS83200) 184 NSH",
          "154 2024-03-19 13:00:00-04:00 Astrophysics Seminar (PHYS83200) 184 NSH",
          "155 2024-03-26 13:00:00-04:00 Astrophysics Seminar (PHYS83200) 184 NSH",
          "156 2024-04-02 13:00:00-04:00 Astrophysics Seminar (PHYS83200) 184 NSH",
          "157 2024-04-09 13:00:00-04:00 Astrophysics Seminar (PHYS83200) 184 NSH",
          "158 2024-04-23 13:00:00-04:00 Astrophysics Seminar (PHYS83200) 184 NSH",
          "159 2024-04-16 13:00:00-04:00 Astrophysics Seminar (PHYS83200) 184 NSH",
          "160 2024-04-23 13:07:30-04:00 Losecco Cosmology",
          "161 2024-04-25 14:37:30-04:00 American Indian Catholic Schools Network",
          "162 2024-04-25 10:07:30-04:00 Science Communications Class",
          "163 2024-04-23 11:07:30-04:00 pt",
          "164 2024-04-18 13:00:00-04:00 Busy",
          "165 2024-04-19 13:07:30-04:00 Busy",
          "166 2024-04-23 12:00:00 Q and A due from bidders",
          "167 2024-04-29 17:30:00-04:00 Written responses",
          "168 2024-04-23 10:22:30-04:00 Dr. Keith Davis Appointments (Sara Wheeler)",
          "169 2024-02-01 13:00:00-05:00 Astro Journal Club",
          "170 2024-02-08 13:00:00-05:00 Astro Journal Club",
          "171 2024-02-15 13:00:00-05:00 Astro Journal Club",
          "172 2024-02-29 13:00:00-05:00 Astro Journal Club",
          "173 2024-03-07 13:00:00-05:00 Astro Journal Club",
          "174 2024-03-14 13:00:00-04:00 Astro Journal Club",
          "175 2024-03-21 13:00:00-04:00 Astro Journal Club",
          "176 2024-03-28 13:00:00-04:00 Astro Journal Club",
          "177 2024-04-04 13:00:00-04:00 Astro Journal Club",
          "178 2024-04-11 13:00:00-04:00 Astro Journal Club",
          "179 2024-04-18 13:00:00-04:00 Astro Journal Club",
          "180 2024-04-25 16:20:00-04:00 Foot appointment",
          "181 2024-04-25 15:30:00-04:00 Trvel",
          "182 2024-04-24 16:30:00-04:00 therapy",
          "183 2024-04-24 15:45:00-04:00 Travel",
          "184 2024-04-24 14:30:00-04:00 DVT Upgrade RFP - Written Questions",
          "185 2024-08-27 13:00:00-04:00 Astrophysics Seminar (83200) 127 NSH",
          "186 2024-09-03 13:00:00-04:00 Astrophysics Seminar (83200) 127 NSH",
          "187 2024-09-10 13:00:00-04:00 Astrophysics Seminar (83200) 127 NSH",
          "188 2024-09-17 13:00:00-04:00 Astrophysics Seminar (83200) 127 NSH",
          "189 2024-09-24 13:00:00-04:00 Astrophysics Seminar (83200) 127 NSH",
          "190 2024-10-01 13:00:00-04:00 Astrophysics Seminar (83200) 127 NSH",
          "191 2024-10-08 13:00:00-04:00 Astrophysics Seminar (83200) 127 NSH",
          "192 2024-10-15 13:00:00-04:00 Astrophysics Seminar (83200) 127 NSH",
          "193 2024-10-22 13:00:00-04:00 Astrophysics Seminar (83200) 127 NSH",
          "194 2024-10-29 13:00:00-04:00 Astrophysics Seminar (83200) 127 NSH",
          "195 2024-11-05 13:00:00-05:00 Astrophysics Seminar (83200) 127 NSH",
          "196 2024-11-12 13:00:00-05:00 Astrophysics Seminar (83200) 127 NSH",
          "197 2024-11-19 13:00:00-05:00 Astrophysics Seminar (83200) 127 NSH",
          "198 2024-11-26 13:00:00-05:00 Astrophysics Seminar (83200) 127 NSH",
          "199 2024-12-03 13:00:00-05:00 Astrophysics Seminar (83200) 127 NSH",
          "200 2024-12-10 13:00:00-05:00 Astrophysics Seminar (83200) 127 NSH",
          "201 2024-04-24 10:22:30-04:00 Dr. Keith Davis Appointments (Sara Wheeler)",
          "202 2024-05-16 14:30:00-04:00 St. Vincent De Paul",
          "203 2024-05-16 13:45:00-04:00 Prep",
          "204 2024-05-13 15:00:00-04:00 DVT Upgrade RFP -Evaluation",
          "205 2024-04-30 13:00:00-04:00 Astrophysics Seminar (PHYS83200) 184 NSH",
          "206 2024-04-30 13:30:00-04:00 Jury Duty",
          "207 2024-05-01 13:30:00-04:00 Jury Duty",
          "208 2024-05-02 13:30:00-04:00 Jury Duty",
          "209 2024-01-17 15:15:00-05:00 Colloquium Tea",
          "210 2024-01-24 15:15:00-05:00 Colloquium Tea",
          "211 2024-01-31 15:15:00-05:00 Colloquium Tea",
          "212 2024-02-07 15:15:00-05:00 Colloquium Tea",
          "213 2024-02-14 15:15:00-05:00 Colloquium Tea",
          "214 2024-02-21 15:15:00-05:00 Colloquium Tea",
          "215 2024-02-28 15:15:00-05:00 Colloquium Tea",
          "216 2024-03-06 15:15:00-05:00 Colloquium Tea",
          "217 2024-03-13 15:15:00-04:00 Colloquium Tea",
          "218 2024-03-20 15:15:00-04:00 Colloquium Tea",
          "219 2024-03-27 15:15:00-04:00 Colloquium Tea",
          "220 2024-04-03 15:15:00-04:00 Colloquium Tea",
          "221 2024-04-10 15:15:00-04:00 Colloquium Tea",
          "222 2024-04-17 15:15:00-04:00 Colloquium Tea",
          "223 2024-05-01 15:15:00-04:00 Colloquium Tea",
          "224 2024-04-23 12:45:00-04:00 LGBTQ/Ally Luncheon",
          "225 2024-05-03 13:15:00-04:00 Faculty Meeting",
          "226 2024-02-06 13:52:30-05:00 Meet with Alex",
          "227 2024-02-13 13:52:30-05:00 Meet with Alex",
          "228 2024-02-20 13:52:30-05:00 Meet with Alex",
          "229 2024-02-27 13:52:30-05:00 Meet with Alex",
          "230 2024-03-05 13:52:30-05:00 Meet with Alex",
          "231 2024-03-19 13:52:30-04:00 Meet with Alex",
          "232 2024-04-02 13:52:30-04:00 Meet with Alex",
          "233 2024-04-09 13:52:30-04:00 Meet with Alex",
          "234 2024-04-16 13:52:30-04:00 Meet with Alex",
          "235 2024-04-23 13:52:30-04:00 Meet with Alex",
          "236 2024-04-30 13:52:30-04:00 Meet with Alex",
          "237 2024-05-09 16:00:00-04:00 Lara / Keith",
          "238 2024-05-08 14:52:30-04:00 Fabio / Keith",
          "239 2024-07-10 16:07:30-04:00 DVT Show for PCST Symposium?",
          "240 2024-01-17 13:00:00-05:00 Physics Colloquium (PHYS73000) 127 NSH",
          "241 2024-01-24 13:00:00-05:00 Physics Colloquium (PHYS73000) 127 NSH",
          "242 2024-01-31 13:00:00-05:00 Physics Colloquium (PHYS73000) 127 NSH",
          "243 2024-02-07 13:00:00-05:00 Physics Colloquium (PHYS73000) 127 NSH",
          "244 2024-02-14 13:00:00-05:00 Physics Colloquium (PHYS73000) 127 NSH",
          "245 2024-02-21 13:00:00-05:00 Physics Colloquium (PHYS73000) 127 NSH",
          "246 2024-02-28 13:00:00-05:00 Physics Colloquium (PHYS73000) 127 NSH",
          "247 2024-03-06 13:00:00-05:00 Physics Colloquium (PHYS73000) 127 NSH",
          "248 2024-03-13 13:00:00-04:00 Physics Colloquium (PHYS73000) 127 NSH",
          "249 2024-03-20 13:00:00-04:00 Physics Colloquium (PHYS73000) 127 NSH",
          "250 2024-03-27 13:00:00-04:00 Physics Colloquium (PHYS73000) 127 NSH",
          "251 2024-04-03 13:00:00-04:00 Physics Colloquium (PHYS73000) 127 NSH",
          "252 2024-04-10 13:00:00-04:00 Physics Colloquium (PHYS73000) 127 NSH",
          "253 2024-04-17 13:00:00-04:00 Physics Colloquium (PHYS73000) 127 NSH",
          "254 2024-04-24 13:00:00-04:00 Physics Colloquium (PHYS73000) 127 NSH",
          "255 2024-05-01 13:00:00-04:00 Physics Colloquium (PHYS73000) 127 NSH",
          "256 2024-09-04 13:00:00-04:00 Physics Colloquium (73000) 127 NSH",
          "257 2024-09-11 13:00:00-04:00 Physics Colloquium (73000) 127 NSH",
          "258 2024-09-18 13:00:00-04:00 Physics Colloquium (73000) 127 NSH",
          "259 2024-09-25 13:00:00-04:00 Physics Colloquium (73000) 127 NSH",
          "260 2024-10-02 13:00:00-04:00 Physics Colloquium (73000) 127 NSH",
          "261 2024-10-09 13:00:00-04:00 Physics Colloquium (73000) 127 NSH",
          "262 2024-10-16 13:00:00-04:00 Physics Colloquium (73000) 127 NSH",
          "263 2024-10-23 13:00:00-04:00 Physics Colloquium (73000) 127 NSH",
          "264 2024-10-30 13:00:00-04:00 Physics Colloquium (73000) 127 NSH",
          "265 2024-11-06 13:00:00-05:00 Physics Colloquium (73000) 127 NSH",
          "266 2024-11-13 13:00:00-05:00 Physics Colloquium (73000) 127 NSH",
          "267 2024-11-20 13:00:00-05:00 Physics Colloquium (73000) 127 NSH",
          "268 2024-11-27 13:00:00-05:00 Physics Colloquium (73000) 127 NSH",
          "269 2024-12-04 13:00:00-05:00 Physics Colloquium (73000) 127 NSH",
          "270 2024-12-11 13:00:00-05:00 Physics Colloquium (73000) 127 NSH",
          "271 2024-08-28 13:00:00-04:00 Physics Colloquium (73000) 127 NSH",
          "272 2024-07-09 12:45:00-04:00 Science Communication Conference",
          "273 2024-07-10 12:45:00-04:00 Science Communication Conference",
          "274 2024-07-11 12:45:00-04:00 Science Communication Conference",
          "275 2024-03-05 14:30:00-05:00 Galaxies neighborhood_Environmentally Dependent Galaxy Evolution weekly group meeting ",
          "276 2024-05-14 11:10:00-04:00 Tammi school presentation",
          "277 2024-05-14 10:22:30-04:00 Prep",
          "278 2024-05-16 16:15:00-04:00 DVT Upgrade RFP -Evaluation (cont'd if needed)",
          "279 2024-05-17 13:07:30-04:00 PT",
          "280 2024-06-25 14:30:00-04:00 WSP: Digital Visualization Theater Demonstration",
          "281 2024-05-15 14:30:00-04:00 DVT Upgrade RFP -Evaluation",
          "282 2024-06-03 10:45:00-04:00 Science Communication Talk",
          "283 2024-09-13 12:00:00 ND Press Inaugeuration",
          "284 2024-05-18 13:30:00-04:00 Physics graduation",
          "285 2024-09-05 12:00:00 Lips",
          "286 2024-05-23 09:30:00-04:00 PT",
          "287 2024-05-23 14:30:00-04:00 Therapy",
          "288 2024-05-24 11:30:00-04:00 Graage door fix",
          "289 2024-05-20 12:45:00-04:00 Lunch",
          "290 2024-09-05 17:45:00-04:00 Fall All-College Meeting 2024",
          "291 2024-12-06 19:30:00-05:00 Christmas Lecture Featuring Dr. Michelle Thaller, NASA Goddard Space Flight Center",
          "292 2024-07-05 00:00:00 NDQN RET/REHS",
          "293 2024-04-09 14:30:00-04:00 EDGE meeting",
          "294 2024-03-26 14:30:00-04:00 EDGE meeting",
          "295 2024-04-02 14:30:00-04:00 EDGE meeting",
          "296 2024-04-16 14:30:00-04:00 EDGE meeting",
          "297 2024-04-23 14:30:00-04:00 EDGE meeting",
          "298 2024-04-30 14:30:00-04:00 EDGE meeting",
          "299 2024-06-17 12:00:00 Visit to COSM",
          "300 2024-06-18 12:00:00 Visit to SSIA",
          "301 2024-05-07 14:30:00-04:00 EDGE meeting",
          "302 2024-05-14 14:30:00-04:00 EDGE meeting",
          "303 2024-05-28 14:30:00-04:00 EDGE meeting",
          "304 2024-06-04 14:30:00-04:00 EDGE meeting",
          "305 2024-06-11 14:30:00-04:00 EDGE meeting",
          "306 2024-06-18 14:30:00-04:00 EDGE meeting",
          "307 2024-06-25 14:30:00-04:00 EDGE meeting",
          "308 2024-05-21 14:30:00-04:00 EDGE meeting",
          "309 2024-05-22 12:45:00-04:00 Gym"
         ],
         "theta": [
          30.983606557377048,
          119.46721311475409,
          209.95901639344262,
          300.4508196721311,
          0.4918032786885246,
          14.262295081967213,
          28.0327868852459,
          41.80327868852459,
          55.57377049180328,
          69.30327868852459,
          83.07377049180327,
          96.84426229508196,
          110.61475409836065,
          124.38524590163934,
          138.15573770491804,
          151.92622950819674,
          165.69672131147541,
          179.46721311475412,
          193.2377049180328,
          207.0081967213115,
          220.77868852459017,
          234.54918032786887,
          248.31967213114754,
          262.0901639344262,
          275.8606557377049,
          289.6311475409836,
          303.44262295081967,
          317.21311475409834,
          330.983606557377,
          344.75409836065575,
          358.5245901639344,
          80.12295081967213,
          153.89344262295083,
          334.91803278688525,
          39.83606557377049,
          152.41803278688525,
          24.42622950819672,
          24.42622950819672,
          10.327868852459016,
          30.983606557377048,
          300.4508196721311,
          21.147540983606557,
          8.360655737704917,
          4.446721311475409,
          8.360655737704917,
          4.487704918032787,
          11.449795081967213,
          11.388319672131148,
          94.03176229508196,
          12.581967213114753,
          14.190573770491804,
          16.331967213114755,
          16.331967213114755,
          16.331967213114755,
          22.09016393442623,
          21.214139344262293,
          18.140368852459016,
          25.2202868852459,
          25.225409836065573,
          91.22950819672131,
          23.135245901639344,
          24.077868852459016,
          23.258196721311474,
          28.09426229508197,
          59.50819672131147,
          29.001024590163933,
          85.32786885245902,
          29.200819672131146,
          28.212090163934427,
          29.938524590163933,
          64.52356557377048,
          37.044057377049185,
          80.24590163934425,
          32.049180327868854,
          84.54918032786884,
          45.83674863387978,
          31.168032786885245,
          34.221311475409834,
          212.90983606557378,
          37.935450819672134,
          37.97643442622951,
          36.76571038251366,
          43.87295081967213,
          17.25409836065574,
          24.139344262295083,
          49.67213114754098,
          42.94228142076503,
          42.971311475409834,
          48.68442622950819,
          58.463114754098356,
          56.5983606557377,
          57.47950819672131,
          51.82377049180328,
          44.93852459016394,
          42.79713114754098,
          50.72745901639344,
          58.57069672131147,
          57.8125,
          52.72540983606557,
          52.79200819672131,
          52.674180327868854,
          52.81762295081967,
          56.54200819672131,
          58.63217213114754,
          56.50102459016394,
          57.443647540983605,
          59.44672131147541,
          59.4108606557377,
          55.69159836065573,
          18.24795081967213,
          64.36475409836065,
          69.48770491803278,
          69.26229508196721,
          63.463114754098356,
          15.348360655737704,
          22.23360655737705,
          36.00409836065573,
          56.659836065573764,
          42.889344262295076,
          49.77459016393442,
          63.627049180327866,
          58.709016393442624,
          65.38934426229508,
          108.64754098360655,
          78.26331967213115,
          69.36475409836065,
          71.37636612021858,
          71.28073770491802,
          71.36270491803278,
          69.36475409836065,
          85.17930327868852,
          76.32172131147541,
          73.37602459016392,
          80.14344262295083,
          79.26229508196721,
          79.20594262295083,
          86.13729508196721,
          86.0655737704918,
          90.03073770491802,
          84.24180327868852,
          83.10450819672131,
          117.56147540983606,
          95.91188524590164,
          105.81967213114754,
          15.286885245901638,
          22.172131147540984,
          35.94262295081967,
          93.94467213114754,
          29.057377049180328,
          42.82786885245901,
          49.713114754098356,
          56.5983606557377,
          63.48360655737705,
          70.32786885245902,
          77.21311475409836,
          84.09836065573771,
          90.98360655737704,
          97.8688524590164,
          111.63934426229508,
          104.75409836065573,
          111.64446721311475,
          113.67315573770492,
          113.48872950819671,
          111.5625,
          106.72131147540983,
          107.71004098360655,
          111.5983606557377,
          117.72540983606557,
          111.53176229508196,
          31.024590163934427,
          37.90983606557377,
          44.795081967213115,
          58.5655737704918,
          65.45081967213115,
          72.29508196721311,
          79.18032786885246,
          86.0655737704918,
          92.95081967213115,
          99.83606557377048,
          106.72131147540983,
          113.7431693989071,
          113.70901639344262,
          112.76639344262294,
          112.73565573770492,
          112.68442622950819,
          235.5737704918033,
          242.45901639344262,
          249.34426229508196,
          256.2295081967213,
          263.11475409836066,
          270,
          276.88524590163934,
          283.7704918032787,
          290.655737704918,
          297.54098360655735,
          304.4672131147541,
          311.3524590163935,
          318.2377049180328,
          325.12295081967216,
          332.0081967213115,
          338.89344262295083,
          112.51536885245902,
          134.3237704918033,
          134.29303278688525,
          131.39344262295083,
          118.52459016393442,
          118.54508196721311,
          119.52868852459015,
          120.51229508196721,
          16.362704918032787,
          23.24795081967213,
          30.133196721311474,
          37.018442622950815,
          43.90368852459016,
          50.7889344262295,
          57.67418032786885,
          64.5594262295082,
          71.40368852459017,
          78.2889344262295,
          85.17418032786885,
          92.05942622950819,
          98.94467213114754,
          105.82991803278688,
          119.60040983606557,
          111.62909836065573,
          121.48565573770492,
          35.978483606557376,
          42.86372950819672,
          49.74897540983606,
          56.63422131147541,
          63.51946721311475,
          77.24897540983606,
          91.01946721311475,
          97.90471311475409,
          104.78995901639344,
          111.67520491803278,
          118.56045081967213,
          127.5,
          126.4702868852459,
          188.48872950819674,
          16.270491803278688,
          23.155737704918035,
          30.04098360655738,
          36.92622950819672,
          43.81147540983606,
          50.69672131147541,
          57.58196721311475,
          64.4672131147541,
          71.31147540983606,
          78.19672131147541,
          85.08196721311475,
          91.9672131147541,
          98.85245901639344,
          105.73770491803279,
          112.62295081967213,
          119.50819672131148,
          243.44262295081967,
          250.327868852459,
          257.21311475409834,
          264.0983606557377,
          270.9836065573771,
          277.8688524590164,
          284.75409836065575,
          291.6393442622951,
          298.5245901639344,
          305.45081967213116,
          312.3360655737705,
          319.22131147540983,
          326.10655737704917,
          332.99180327868856,
          339.8770491803279,
          236.55737704918033,
          187.36680327868854,
          188.35040983606558,
          189.33401639344262,
          63.54508196721312,
          132.21994535519127,
          132.1875,
          134.39549180327867,
          135.25102459016395,
          173.66803278688525,
          133.34016393442622,
          151.875,
          252.25409836065572,
          136.25,
          244.38524590163934,
          141.00409836065572,
          141.20901639344262,
          142.06967213114754,
          138.18647540983608,
          244.62090163934425,
          335.2254098360656,
          182.90983606557378,
          97.93032786885246,
          84.15983606557377,
          91.04508196721311,
          104.8155737704918,
          111.70081967213115,
          118.58606557377048,
          165.69672131147541,
          166.68032786885246,
          125.47131147540983,
          132.35655737704917,
          146.12704918032787,
          153.0122950819672,
          159.89754098360655,
          166.7827868852459,
          173.66803278688525,
          139.2418032786885,
          140.15368852459017
         ],
         "type": "barpolar",
         "width": [
          0.9863013698630136,
          0.9863013698630136,
          0.9863013698630136,
          0.9863013698630136,
          0.9863013698630136,
          0.9863013698630136,
          0.9863013698630136,
          0.9863013698630136,
          0.9863013698630136,
          0.9863013698630136,
          0.9863013698630136,
          0.9863013698630136,
          0.9863013698630136,
          0.9863013698630136,
          0.9863013698630136,
          0.9863013698630136,
          0.9863013698630136,
          0.9863013698630136,
          0.9863013698630136,
          0.9863013698630136,
          0.9863013698630136,
          0.9863013698630136,
          0.9863013698630136,
          0.9863013698630136,
          0.9863013698630136,
          0.9863013698630136,
          0.9863013698630136,
          0.9863013698630136,
          0.9863013698630136,
          0.9863013698630136,
          0.9863013698630136,
          0.9863013698630136,
          4.931506849315069,
          0.9863013698630136,
          0.9863013698630136,
          1.9726027397260273,
          0.0410958904109589,
          0.0410958904109589,
          0.9863013698630136,
          0.9863013698630136,
          0.9863013698630136,
          0.9863013698630136,
          0.0410958904109589,
          0.0410958904109589,
          0.0410958904109589,
          0.0410958904109589,
          0.030821917808219176,
          0.030821917808219176,
          0.030821917808219176,
          0.1643835616438356,
          0.06164383561643835,
          0.0410958904109589,
          0.0410958904109589,
          0.0410958904109589,
          0.0410958904109589,
          0.030821917808219176,
          0.030821917808219176,
          0.030821917808219176,
          0.1232876712328767,
          0.0410958904109589,
          0.0410958904109589,
          0.0410958904109589,
          0.02054794520547945,
          0.0410958904109589,
          0.9863013698630136,
          0.05136986301369863,
          0.0410958904109589,
          0.0410958904109589,
          0.030821917808219176,
          0.0410958904109589,
          0.030821917808219176,
          0.030821917808219176,
          0.0821917808219178,
          0.0410958904109589,
          3.9452054794520546,
          0.03424657534246575,
          0.0410958904109589,
          0.1643835616438356,
          0.9863013698630136,
          0.030821917808219176,
          0.05136986301369863,
          0.0273972602739726,
          0.0410958904109589,
          0.0410958904109589,
          0.0410958904109589,
          2.958904109589041,
          0.010273972602739725,
          0.0410958904109589,
          0.19726027397260273,
          0.0410958904109589,
          0.0410958904109589,
          0.0410958904109589,
          0.0410958904109589,
          0.0410958904109589,
          0.06164383561643835,
          0.02054794520547945,
          0.05136986301369863,
          0.030821917808219176,
          0.0410958904109589,
          0.030821917808219176,
          0.06164383561643835,
          0.02054794520547945,
          0.05136986301369863,
          0.05136986301369863,
          0.030821917808219176,
          0.030821917808219176,
          0.0410958904109589,
          0.030821917808219176,
          0.030821917808219176,
          0.06164383561643835,
          0.0410958904109589,
          0.0410958904109589,
          0.0410958904109589,
          0.0410958904109589,
          0.0410958904109589,
          0.0410958904109589,
          0.0410958904109589,
          0.0410958904109589,
          0.0410958904109589,
          0.0410958904109589,
          0.0410958904109589,
          0.0410958904109589,
          0.0410958904109589,
          0.2465753424657534,
          0.030821917808219176,
          0.0410958904109589,
          0.14383561643835616,
          0.0410958904109589,
          0.1232876712328767,
          0.0410958904109589,
          0.030821917808219176,
          0.02054794520547945,
          0.030821917808219176,
          0.0410958904109589,
          0.0410958904109589,
          0.030821917808219176,
          0.06164383561643835,
          0.0410958904109589,
          0.02054794520547945,
          0.0410958904109589,
          0.06164383561643835,
          0.2876712328767123,
          0.02054794520547945,
          0.1643835616438356,
          0.0410958904109589,
          0.0410958904109589,
          0.0410958904109589,
          0.06164383561643835,
          0.0410958904109589,
          0.0410958904109589,
          0.0410958904109589,
          0.0410958904109589,
          0.0410958904109589,
          0.0410958904109589,
          0.0410958904109589,
          0.0410958904109589,
          0.0410958904109589,
          0.0410958904109589,
          0.0410958904109589,
          0.0410958904109589,
          0.05136986301369863,
          0.030821917808219176,
          0.05136986301369863,
          0.030821917808219176,
          0.3287671232876712,
          0.3390410958904109,
          0.9863013698630136,
          0.0410958904109589,
          0.030821917808219176,
          0.0410958904109589,
          0.0410958904109589,
          0.0410958904109589,
          0.0410958904109589,
          0.0410958904109589,
          0.0410958904109589,
          0.0410958904109589,
          0.0410958904109589,
          0.0410958904109589,
          0.0410958904109589,
          0.0410958904109589,
          0.0410958904109589,
          0.02054794520547945,
          0.0410958904109589,
          0.02054794520547945,
          0.0410958904109589,
          0.0410958904109589,
          0.0410958904109589,
          0.0410958904109589,
          0.0410958904109589,
          0.0410958904109589,
          0.0410958904109589,
          0.0410958904109589,
          0.0410958904109589,
          0.0410958904109589,
          0.0410958904109589,
          0.0410958904109589,
          0.0410958904109589,
          0.0410958904109589,
          0.0410958904109589,
          0.0410958904109589,
          0.0410958904109589,
          0.030821917808219176,
          0.0410958904109589,
          0.02054794520547945,
          0.0821917808219178,
          0.0410958904109589,
          0.26712328767123283,
          0.26712328767123283,
          0.26712328767123283,
          0.02054794520547945,
          0.02054794520547945,
          0.02054794520547945,
          0.02054794520547945,
          0.02054794520547945,
          0.02054794520547945,
          0.02054794520547945,
          0.02054794520547945,
          0.02054794520547945,
          0.02054794520547945,
          0.02054794520547945,
          0.02054794520547945,
          0.02054794520547945,
          0.02054794520547945,
          0.02054794520547945,
          0.06164383561643835,
          0.06164383561643835,
          0.010273972602739725,
          0.010273972602739725,
          0.010273972602739725,
          0.010273972602739725,
          0.010273972602739725,
          0.010273972602739725,
          0.010273972602739725,
          0.010273972602739725,
          0.010273972602739725,
          0.010273972602739725,
          0.010273972602739725,
          0.0410958904109589,
          0.030821917808219176,
          0.030821917808219176,
          0.0410958904109589,
          0.0410958904109589,
          0.0410958904109589,
          0.0410958904109589,
          0.0410958904109589,
          0.0410958904109589,
          0.0410958904109589,
          0.0410958904109589,
          0.0410958904109589,
          0.0410958904109589,
          0.0410958904109589,
          0.0410958904109589,
          0.0410958904109589,
          0.0410958904109589,
          0.0410958904109589,
          0.0410958904109589,
          0.0410958904109589,
          0.0410958904109589,
          0.0410958904109589,
          0.0410958904109589,
          0.0410958904109589,
          0.0410958904109589,
          0.0410958904109589,
          0.0410958904109589,
          0.0410958904109589,
          0.0410958904109589,
          0.0410958904109589,
          0.0410958904109589,
          0.0410958904109589,
          0.0410958904109589,
          0.0410958904109589,
          0.0410958904109589,
          0.3493150684931507,
          0.3493150684931507,
          0.3493150684931507,
          0.0410958904109589,
          0.0410958904109589,
          0.030821917808219176,
          0.06164383561643835,
          0.030821917808219176,
          0.0410958904109589,
          0.0821917808219178,
          0.02054794520547945,
          0.9863013698630136,
          0.0410958904109589,
          2.958904109589041,
          0.0410958904109589,
          0.0410958904109589,
          0.2876712328767123,
          0.06164383561643835,
          0.10273972602739725,
          0.2054794520547945,
          49.31506849315068,
          0.0410958904109589,
          0.0410958904109589,
          0.0410958904109589,
          0.0410958904109589,
          0.0410958904109589,
          0.0410958904109589,
          0.9863013698630136,
          0.9863013698630136,
          0.0410958904109589,
          0.0410958904109589,
          0.0410958904109589,
          0.0410958904109589,
          0.0410958904109589,
          0.0410958904109589,
          0.0410958904109589,
          0.0410958904109589,
          0.10273972602739725
         ]
        }
       ],
       "layout": {
        "autosize": true,
        "polar": {
         "angularaxis": {
          "direction": "counterclockwise",
          "rotation": -90,
          "tickmode": "array",
          "tickvals": [
           30.491803278688526,
           59.01639344262295,
           89.46721311475409,
           118.97540983606557,
           149.46721311475412,
           178.97540983606558,
           209.46721311475412,
           239.95901639344262,
           269.4672131147541,
           299.9590163934426,
           329.5081967213115,
           0
          ],
          "type": "linear"
         },
         "radialaxis": {
          "autorange": true,
          "range": [
           0,
           1.0526315789473684
          ],
          "type": "linear"
         }
        },
        "template": {
         "data": {
          "bar": [
           {
            "error_x": {
             "color": "#2a3f5f"
            },
            "error_y": {
             "color": "#2a3f5f"
            },
            "marker": {
             "line": {
              "color": "#E5ECF6",
              "width": 0.5
             },
             "pattern": {
              "fillmode": "overlay",
              "size": 10,
              "solidity": 0.2
             }
            },
            "type": "bar"
           }
          ],
          "barpolar": [
           {
            "marker": {
             "line": {
              "color": "#E5ECF6",
              "width": 0.5
             },
             "pattern": {
              "fillmode": "overlay",
              "size": 10,
              "solidity": 0.2
             }
            },
            "type": "barpolar"
           }
          ],
          "carpet": [
           {
            "aaxis": {
             "endlinecolor": "#2a3f5f",
             "gridcolor": "white",
             "linecolor": "white",
             "minorgridcolor": "white",
             "startlinecolor": "#2a3f5f"
            },
            "baxis": {
             "endlinecolor": "#2a3f5f",
             "gridcolor": "white",
             "linecolor": "white",
             "minorgridcolor": "white",
             "startlinecolor": "#2a3f5f"
            },
            "type": "carpet"
           }
          ],
          "choropleth": [
           {
            "colorbar": {
             "outlinewidth": 0,
             "ticks": ""
            },
            "type": "choropleth"
           }
          ],
          "contour": [
           {
            "colorbar": {
             "outlinewidth": 0,
             "ticks": ""
            },
            "colorscale": [
             [
              0,
              "#0d0887"
             ],
             [
              0.1111111111111111,
              "#46039f"
             ],
             [
              0.2222222222222222,
              "#7201a8"
             ],
             [
              0.3333333333333333,
              "#9c179e"
             ],
             [
              0.4444444444444444,
              "#bd3786"
             ],
             [
              0.5555555555555556,
              "#d8576b"
             ],
             [
              0.6666666666666666,
              "#ed7953"
             ],
             [
              0.7777777777777778,
              "#fb9f3a"
             ],
             [
              0.8888888888888888,
              "#fdca26"
             ],
             [
              1,
              "#f0f921"
             ]
            ],
            "type": "contour"
           }
          ],
          "contourcarpet": [
           {
            "colorbar": {
             "outlinewidth": 0,
             "ticks": ""
            },
            "type": "contourcarpet"
           }
          ],
          "heatmap": [
           {
            "colorbar": {
             "outlinewidth": 0,
             "ticks": ""
            },
            "colorscale": [
             [
              0,
              "#0d0887"
             ],
             [
              0.1111111111111111,
              "#46039f"
             ],
             [
              0.2222222222222222,
              "#7201a8"
             ],
             [
              0.3333333333333333,
              "#9c179e"
             ],
             [
              0.4444444444444444,
              "#bd3786"
             ],
             [
              0.5555555555555556,
              "#d8576b"
             ],
             [
              0.6666666666666666,
              "#ed7953"
             ],
             [
              0.7777777777777778,
              "#fb9f3a"
             ],
             [
              0.8888888888888888,
              "#fdca26"
             ],
             [
              1,
              "#f0f921"
             ]
            ],
            "type": "heatmap"
           }
          ],
          "heatmapgl": [
           {
            "colorbar": {
             "outlinewidth": 0,
             "ticks": ""
            },
            "colorscale": [
             [
              0,
              "#0d0887"
             ],
             [
              0.1111111111111111,
              "#46039f"
             ],
             [
              0.2222222222222222,
              "#7201a8"
             ],
             [
              0.3333333333333333,
              "#9c179e"
             ],
             [
              0.4444444444444444,
              "#bd3786"
             ],
             [
              0.5555555555555556,
              "#d8576b"
             ],
             [
              0.6666666666666666,
              "#ed7953"
             ],
             [
              0.7777777777777778,
              "#fb9f3a"
             ],
             [
              0.8888888888888888,
              "#fdca26"
             ],
             [
              1,
              "#f0f921"
             ]
            ],
            "type": "heatmapgl"
           }
          ],
          "histogram": [
           {
            "marker": {
             "pattern": {
              "fillmode": "overlay",
              "size": 10,
              "solidity": 0.2
             }
            },
            "type": "histogram"
           }
          ],
          "histogram2d": [
           {
            "colorbar": {
             "outlinewidth": 0,
             "ticks": ""
            },
            "colorscale": [
             [
              0,
              "#0d0887"
             ],
             [
              0.1111111111111111,
              "#46039f"
             ],
             [
              0.2222222222222222,
              "#7201a8"
             ],
             [
              0.3333333333333333,
              "#9c179e"
             ],
             [
              0.4444444444444444,
              "#bd3786"
             ],
             [
              0.5555555555555556,
              "#d8576b"
             ],
             [
              0.6666666666666666,
              "#ed7953"
             ],
             [
              0.7777777777777778,
              "#fb9f3a"
             ],
             [
              0.8888888888888888,
              "#fdca26"
             ],
             [
              1,
              "#f0f921"
             ]
            ],
            "type": "histogram2d"
           }
          ],
          "histogram2dcontour": [
           {
            "colorbar": {
             "outlinewidth": 0,
             "ticks": ""
            },
            "colorscale": [
             [
              0,
              "#0d0887"
             ],
             [
              0.1111111111111111,
              "#46039f"
             ],
             [
              0.2222222222222222,
              "#7201a8"
             ],
             [
              0.3333333333333333,
              "#9c179e"
             ],
             [
              0.4444444444444444,
              "#bd3786"
             ],
             [
              0.5555555555555556,
              "#d8576b"
             ],
             [
              0.6666666666666666,
              "#ed7953"
             ],
             [
              0.7777777777777778,
              "#fb9f3a"
             ],
             [
              0.8888888888888888,
              "#fdca26"
             ],
             [
              1,
              "#f0f921"
             ]
            ],
            "type": "histogram2dcontour"
           }
          ],
          "mesh3d": [
           {
            "colorbar": {
             "outlinewidth": 0,
             "ticks": ""
            },
            "type": "mesh3d"
           }
          ],
          "parcoords": [
           {
            "line": {
             "colorbar": {
              "outlinewidth": 0,
              "ticks": ""
             }
            },
            "type": "parcoords"
           }
          ],
          "pie": [
           {
            "automargin": true,
            "type": "pie"
           }
          ],
          "scatter": [
           {
            "fillpattern": {
             "fillmode": "overlay",
             "size": 10,
             "solidity": 0.2
            },
            "type": "scatter"
           }
          ],
          "scatter3d": [
           {
            "line": {
             "colorbar": {
              "outlinewidth": 0,
              "ticks": ""
             }
            },
            "marker": {
             "colorbar": {
              "outlinewidth": 0,
              "ticks": ""
             }
            },
            "type": "scatter3d"
           }
          ],
          "scattercarpet": [
           {
            "marker": {
             "colorbar": {
              "outlinewidth": 0,
              "ticks": ""
             }
            },
            "type": "scattercarpet"
           }
          ],
          "scattergeo": [
           {
            "marker": {
             "colorbar": {
              "outlinewidth": 0,
              "ticks": ""
             }
            },
            "type": "scattergeo"
           }
          ],
          "scattergl": [
           {
            "marker": {
             "colorbar": {
              "outlinewidth": 0,
              "ticks": ""
             }
            },
            "type": "scattergl"
           }
          ],
          "scattermapbox": [
           {
            "marker": {
             "colorbar": {
              "outlinewidth": 0,
              "ticks": ""
             }
            },
            "type": "scattermapbox"
           }
          ],
          "scatterpolar": [
           {
            "marker": {
             "colorbar": {
              "outlinewidth": 0,
              "ticks": ""
             }
            },
            "type": "scatterpolar"
           }
          ],
          "scatterpolargl": [
           {
            "marker": {
             "colorbar": {
              "outlinewidth": 0,
              "ticks": ""
             }
            },
            "type": "scatterpolargl"
           }
          ],
          "scatterternary": [
           {
            "marker": {
             "colorbar": {
              "outlinewidth": 0,
              "ticks": ""
             }
            },
            "type": "scatterternary"
           }
          ],
          "surface": [
           {
            "colorbar": {
             "outlinewidth": 0,
             "ticks": ""
            },
            "colorscale": [
             [
              0,
              "#0d0887"
             ],
             [
              0.1111111111111111,
              "#46039f"
             ],
             [
              0.2222222222222222,
              "#7201a8"
             ],
             [
              0.3333333333333333,
              "#9c179e"
             ],
             [
              0.4444444444444444,
              "#bd3786"
             ],
             [
              0.5555555555555556,
              "#d8576b"
             ],
             [
              0.6666666666666666,
              "#ed7953"
             ],
             [
              0.7777777777777778,
              "#fb9f3a"
             ],
             [
              0.8888888888888888,
              "#fdca26"
             ],
             [
              1,
              "#f0f921"
             ]
            ],
            "type": "surface"
           }
          ],
          "table": [
           {
            "cells": {
             "fill": {
              "color": "#EBF0F8"
             },
             "line": {
              "color": "white"
             }
            },
            "header": {
             "fill": {
              "color": "#C8D4E3"
             },
             "line": {
              "color": "white"
             }
            },
            "type": "table"
           }
          ]
         },
         "layout": {
          "annotationdefaults": {
           "arrowcolor": "#2a3f5f",
           "arrowhead": 0,
           "arrowwidth": 1
          },
          "autotypenumbers": "strict",
          "coloraxis": {
           "colorbar": {
            "outlinewidth": 0,
            "ticks": ""
           }
          },
          "colorscale": {
           "diverging": [
            [
             0,
             "#8e0152"
            ],
            [
             0.1,
             "#c51b7d"
            ],
            [
             0.2,
             "#de77ae"
            ],
            [
             0.3,
             "#f1b6da"
            ],
            [
             0.4,
             "#fde0ef"
            ],
            [
             0.5,
             "#f7f7f7"
            ],
            [
             0.6,
             "#e6f5d0"
            ],
            [
             0.7,
             "#b8e186"
            ],
            [
             0.8,
             "#7fbc41"
            ],
            [
             0.9,
             "#4d9221"
            ],
            [
             1,
             "#276419"
            ]
           ],
           "sequential": [
            [
             0,
             "#0d0887"
            ],
            [
             0.1111111111111111,
             "#46039f"
            ],
            [
             0.2222222222222222,
             "#7201a8"
            ],
            [
             0.3333333333333333,
             "#9c179e"
            ],
            [
             0.4444444444444444,
             "#bd3786"
            ],
            [
             0.5555555555555556,
             "#d8576b"
            ],
            [
             0.6666666666666666,
             "#ed7953"
            ],
            [
             0.7777777777777778,
             "#fb9f3a"
            ],
            [
             0.8888888888888888,
             "#fdca26"
            ],
            [
             1,
             "#f0f921"
            ]
           ],
           "sequentialminus": [
            [
             0,
             "#0d0887"
            ],
            [
             0.1111111111111111,
             "#46039f"
            ],
            [
             0.2222222222222222,
             "#7201a8"
            ],
            [
             0.3333333333333333,
             "#9c179e"
            ],
            [
             0.4444444444444444,
             "#bd3786"
            ],
            [
             0.5555555555555556,
             "#d8576b"
            ],
            [
             0.6666666666666666,
             "#ed7953"
            ],
            [
             0.7777777777777778,
             "#fb9f3a"
            ],
            [
             0.8888888888888888,
             "#fdca26"
            ],
            [
             1,
             "#f0f921"
            ]
           ]
          },
          "colorway": [
           "#636efa",
           "#EF553B",
           "#00cc96",
           "#ab63fa",
           "#FFA15A",
           "#19d3f3",
           "#FF6692",
           "#B6E880",
           "#FF97FF",
           "#FECB52"
          ],
          "font": {
           "color": "#2a3f5f"
          },
          "geo": {
           "bgcolor": "white",
           "lakecolor": "white",
           "landcolor": "#E5ECF6",
           "showlakes": true,
           "showland": true,
           "subunitcolor": "white"
          },
          "hoverlabel": {
           "align": "left"
          },
          "hovermode": "closest",
          "mapbox": {
           "style": "light"
          },
          "paper_bgcolor": "white",
          "plot_bgcolor": "#E5ECF6",
          "polar": {
           "angularaxis": {
            "gridcolor": "white",
            "linecolor": "white",
            "ticks": ""
           },
           "bgcolor": "#E5ECF6",
           "radialaxis": {
            "gridcolor": "white",
            "linecolor": "white",
            "ticks": ""
           }
          },
          "scene": {
           "xaxis": {
            "backgroundcolor": "#E5ECF6",
            "gridcolor": "white",
            "gridwidth": 2,
            "linecolor": "white",
            "showbackground": true,
            "ticks": "",
            "zerolinecolor": "white"
           },
           "yaxis": {
            "backgroundcolor": "#E5ECF6",
            "gridcolor": "white",
            "gridwidth": 2,
            "linecolor": "white",
            "showbackground": true,
            "ticks": "",
            "zerolinecolor": "white"
           },
           "zaxis": {
            "backgroundcolor": "#E5ECF6",
            "gridcolor": "white",
            "gridwidth": 2,
            "linecolor": "white",
            "showbackground": true,
            "ticks": "",
            "zerolinecolor": "white"
           }
          },
          "shapedefaults": {
           "line": {
            "color": "#2a3f5f"
           }
          },
          "ternary": {
           "aaxis": {
            "gridcolor": "white",
            "linecolor": "white",
            "ticks": ""
           },
           "baxis": {
            "gridcolor": "white",
            "linecolor": "white",
            "ticks": ""
           },
           "bgcolor": "#E5ECF6",
           "caxis": {
            "gridcolor": "white",
            "linecolor": "white",
            "ticks": ""
           }
          },
          "title": {
           "x": 0.05
          },
          "xaxis": {
           "automargin": true,
           "gridcolor": "white",
           "linecolor": "white",
           "ticks": "",
           "title": {
            "standoff": 15
           },
           "zerolinecolor": "white",
           "zerolinewidth": 2
          },
          "yaxis": {
           "automargin": true,
           "gridcolor": "white",
           "linecolor": "white",
           "ticks": "",
           "title": {
            "standoff": 15
           },
           "zerolinecolor": "white",
           "zerolinewidth": 2
          }
         }
        }
       }
      },
      "image/png": "[encoded data removed]",
      "text/html": [
       "<div>                            <div id=\"bdcc449c-8302-4b82-977a-723ef00deeca\" class=\"plotly-graph-div\" style=\"height:1000px; width:100%;\"></div>            <script type=\"text/javascript\">                require([\"plotly\"], function(Plotly) {                    window.PLOTLYENV=window.PLOTLYENV || {};                                    if (document.getElementById(\"bdcc449c-8302-4b82-977a-723ef00deeca\")) {                    Plotly.newPlot(                        \"bdcc449c-8302-4b82-977a-723ef00deeca\",                        [{\"base\":[0.52,0.52,0.52,0.52,0.52,0.52,0.52,0.52,0.52,0.52,0.52,0.52,0.52,0.52,0.52,0.52,0.52,0.52,0.52,0.52,0.52,0.52,0.52,0.52,0.52,0.52,0.52,0.52,0.52,0.52,0.52,0.52,0.36,0.52,0.52,0.36,0.6799999999999999,0.6799999999999999,0.52,0.52,0.52,0.52,0.6799999999999999,0.6799999999999999,0.6799999999999999,0.6799999999999999,0.8400000000000001,0.8400000000000001,0.8400000000000001,0.6799999999999999,0.6799999999999999,0.6799999999999999,0.6799999999999999,0.6799999999999999,0.6799999999999999,0.8400000000000001,0.8400000000000001,0.8400000000000001,0.6799999999999999,0.6799999999999999,0.6799999999999999,0.6799999999999999,0.8400000000000001,0.6799999999999999,0.52,0.6799999999999999,0.6799999999999999,0.6799999999999999,0.8400000000000001,0.6799999999999999,0.8400000000000001,0.8400000000000001,0.6799999999999999,0.6799999999999999,0.36,0.8400000000000001,0.6799999999999999,0.6799999999999999,0.52,0.8400000000000001,0.6799999999999999,0.8400000000000001,0.6799999999999999,0.6799999999999999,0.6799999999999999,0.36,0.8400000000000001,0.6799999999999999,0.6799999999999999,0.6799999999999999,0.6799999999999999,0.6799999999999999,0.6799999999999999,0.6799999999999999,0.6799999999999999,0.8400000000000001,0.6799999999999999,0.8400000000000001,0.6799999999999999,0.8400000000000001,0.6799999999999999,0.8400000000000001,0.6799999999999999,0.6799999999999999,0.8400000000000001,0.8400000000000001,0.6799999999999999,0.8400000000000001,0.8400000000000001,0.6799999999999999,0.6799999999999999,0.6799999999999999,0.6799999999999999,0.6799999999999999,0.6799999999999999,0.6799999999999999,0.6799999999999999,0.6799999999999999,0.6799999999999999,0.6799999999999999,0.6799999999999999,0.6799999999999999,0.6799999999999999,0.6799999999999999,0.8400000000000001,0.6799999999999999,0.6799999999999999,0.6799999999999999,0.6799999999999999,0.6799999999999999,0.8400000000000001,0.8400000000000001,0.8400000000000001,0.6799999999999999,0.6799999999999999,0.8400000000000001,0.6799999999999999,0.6799999999999999,0.8400000000000001,0.6799999999999999,0.6799999999999999,0.6799999999999999,0.8400000000000001,0.6799999999999999,0.6799999999999999,0.6799999999999999,0.6799999999999999,0.6799999999999999,0.6799999999999999,0.6799999999999999,0.6799999999999999,0.6799999999999999,0.6799999999999999,0.6799999999999999,0.6799999999999999,0.6799999999999999,0.6799999999999999,0.6799999999999999,0.6799999999999999,0.6799999999999999,0.6799999999999999,0.8400000000000001,0.6799999999999999,0.8400000000000001,0.6799999999999999,0.6799999999999999,0.52,0.6799999999999999,0.8400000000000001,0.6799999999999999,0.6799999999999999,0.6799999999999999,0.6799999999999999,0.6799999999999999,0.6799999999999999,0.6799999999999999,0.6799999999999999,0.6799999999999999,0.6799999999999999,0.6799999999999999,0.6799999999999999,0.8400000000000001,0.6799999999999999,0.8400000000000001,0.6799999999999999,0.6799999999999999,0.6799999999999999,0.6799999999999999,0.6799999999999999,0.6799999999999999,0.6799999999999999,0.6799999999999999,0.6799999999999999,0.6799999999999999,0.6799999999999999,0.6799999999999999,0.6799999999999999,0.6799999999999999,0.6799999999999999,0.6799999999999999,0.6799999999999999,0.8400000000000001,0.6799999999999999,0.8400000000000001,0.6799999999999999,0.6799999999999999,0.6799999999999999,0.6799999999999999,0.6799999999999999,0.8400000000000001,0.8400000000000001,0.8400000000000001,0.8400000000000001,0.8400000000000001,0.8400000000000001,0.8400000000000001,0.8400000000000001,0.8400000000000001,0.8400000000000001,0.8400000000000001,0.8400000000000001,0.8400000000000001,0.8400000000000001,0.8400000000000001,0.6799999999999999,0.6799999999999999,0.8400000000000001,0.8400000000000001,0.8400000000000001,0.8400000000000001,0.8400000000000001,0.8400000000000001,0.8400000000000001,0.8400000000000001,0.8400000000000001,0.8400000000000001,0.8400000000000001,0.6799999999999999,0.8400000000000001,0.8400000000000001,0.6799999999999999,0.6799999999999999,0.6799999999999999,0.6799999999999999,0.6799999999999999,0.6799999999999999,0.6799999999999999,0.6799999999999999,0.6799999999999999,0.6799999999999999,0.6799999999999999,0.6799999999999999,0.6799999999999999,0.6799999999999999,0.6799999999999999,0.6799999999999999,0.6799999999999999,0.6799999999999999,0.6799999999999999,0.6799999999999999,0.6799999999999999,0.6799999999999999,0.6799999999999999,0.6799999999999999,0.6799999999999999,0.6799999999999999,0.6799999999999999,0.6799999999999999,0.6799999999999999,0.6799999999999999,0.6799999999999999,0.6799999999999999,0.6799999999999999,0.6799999999999999,0.6799999999999999,0.6799999999999999,0.6799999999999999,0.8400000000000001,0.6799999999999999,0.8400000000000001,0.6799999999999999,0.6799999999999999,0.8400000000000001,0.52,0.6799999999999999,0.36,0.6799999999999999,0.6799999999999999,0.6799999999999999,0.6799999999999999,0.6799999999999999,0.6799999999999999,0.2,0.6799999999999999,0.6799999999999999,0.6799999999999999,0.6799999999999999,0.6799999999999999,0.6799999999999999,0.52,0.52,0.6799999999999999,0.6799999999999999,0.6799999999999999,0.6799999999999999,0.6799999999999999,0.6799999999999999,0.6799999999999999,0.6799999999999999,0.6799999999999999],\"r\":[0.16,0.16,0.16,0.16,0.16,0.16,0.16,0.16,0.16,0.16,0.16,0.16,0.16,0.16,0.16,0.16,0.16,0.16,0.16,0.16,0.16,0.16,0.16,0.16,0.16,0.16,0.16,0.16,0.16,0.16,0.16,0.16,0.16,0.16,0.16,0.16,0.16,0.16,0.16,0.16,0.16,0.16,0.16,0.16,0.16,0.16,0.16,0.16,0.16,0.16,0.16,0.16,0.16,0.16,0.16,0.16,0.16,0.16,0.16,0.16,0.16,0.16,0.16,0.16,0.16,0.16,0.16,0.16,0.16,0.16,0.16,0.16,0.16,0.16,0.16,0.16,0.16,0.16,0.16,0.16,0.16,0.16,0.16,0.16,0.16,0.16,0.16,0.16,0.16,0.16,0.16,0.16,0.16,0.16,0.16,0.16,0.16,0.16,0.16,0.16,0.16,0.16,0.16,0.16,0.16,0.16,0.16,0.16,0.16,0.16,0.16,0.16,0.16,0.16,0.16,0.16,0.16,0.16,0.16,0.16,0.16,0.16,0.16,0.16,0.16,0.16,0.16,0.16,0.16,0.16,0.16,0.16,0.16,0.16,0.16,0.16,0.16,0.16,0.16,0.16,0.16,0.16,0.16,0.16,0.16,0.16,0.16,0.16,0.16,0.16,0.16,0.16,0.16,0.16,0.16,0.16,0.16,0.16,0.16,0.16,0.16,0.16,0.16,0.16,0.16,0.16,0.16,0.16,0.16,0.16,0.16,0.16,0.16,0.16,0.16,0.16,0.16,0.16,0.16,0.16,0.16,0.16,0.16,0.16,0.16,0.16,0.16,0.16,0.16,0.16,0.16,0.16,0.16,0.16,0.16,0.16,0.16,0.16,0.16,0.16,0.16,0.16,0.16,0.16,0.16,0.16,0.16,0.16,0.16,0.16,0.16,0.16,0.16,0.16,0.16,0.16,0.16,0.16,0.16,0.16,0.16,0.16,0.16,0.16,0.16,0.16,0.16,0.16,0.16,0.16,0.16,0.16,0.16,0.16,0.16,0.16,0.16,0.16,0.16,0.16,0.16,0.16,0.16,0.16,0.16,0.16,0.16,0.16,0.16,0.16,0.16,0.16,0.16,0.16,0.16,0.16,0.16,0.16,0.16,0.16,0.16,0.16,0.16,0.16,0.16,0.16,0.16,0.16,0.16,0.16,0.16,0.16,0.16,0.16,0.16,0.16,0.16,0.16,0.16,0.16,0.16,0.16,0.16,0.16,0.16,0.16,0.16,0.16,0.16,0.16,0.16,0.16,0.16,0.16,0.16,0.16,0.16,0.16,0.16,0.16,0.16,0.16,0.16,0.16,0.16,0.16,0.16,0.16,0.16,0.16],\"text\":[\"0 2024-02-01 12:00:00 GLPA News Due\",\"1 2024-05-01 12:00:00 GLPA News Due\",\"2 2024-08-01 12:00:00 GLPA News Due\",\"3 2024-11-01 12:00:00 GLPA News Due\",\"4 2024-01-01 12:00:00 Approve Hours\",\"5 2024-01-15 12:00:00 Approve Hours\",\"6 2024-01-29 12:00:00 Approve Hours\",\"7 2024-02-12 12:00:00 Approve Hours\",\"8 2024-02-26 12:00:00 Approve Hours\",\"9 2024-03-11 12:00:00 Approve Hours\",\"10 2024-03-25 12:00:00 Approve Hours\",\"11 2024-04-08 12:00:00 Approve Hours\",\"12 2024-04-22 12:00:00 Approve Hours\",\"13 2024-05-06 12:00:00 Approve Hours\",\"14 2024-05-20 12:00:00 Approve Hours\",\"15 2024-06-03 12:00:00 Approve Hours\",\"16 2024-06-17 12:00:00 Approve Hours\",\"17 2024-07-01 12:00:00 Approve Hours\",\"18 2024-07-15 12:00:00 Approve Hours\",\"19 2024-07-29 12:00:00 Approve Hours\",\"20 2024-08-12 12:00:00 Approve Hours\",\"21 2024-08-26 12:00:00 Approve Hours\",\"22 2024-09-09 12:00:00 Approve Hours\",\"23 2024-09-23 12:00:00 Approve Hours\",\"24 2024-10-07 12:00:00 Approve Hours\",\"25 2024-10-21 12:00:00 Approve Hours\",\"26 2024-11-04 12:00:00 Approve Hours\",\"27 2024-11-18 12:00:00 Approve Hours\",\"28 2024-12-02 12:00:00 Approve Hours\",\"29 2024-12-16 12:00:00 Approve Hours\",\"30 2024-12-30 12:00:00 Approve Hours\",\"31 2024-03-22 12:00:00 WVPE Day\",\"32 2024-06-05 12:00:00 Frontiers in Nuclear Astrophysics \",\"33 2024-12-06 12:00:00 Christmas Lecture\",\"34 2024-02-10 12:00:00 Science Alive\",\"35 2024-06-04 00:00:00 Talk on Communicating Science.\",\"36 2024-01-25 20:00:00-05:00 ILI Initiative\",\"37 2024-01-25 20:00:00-05:00 ILI Initiative\",\"38 2024-01-11 12:00:00 Arielle\\u2019s Talk\",\"39 2024-02-01 12:00:00 Stephen Heritage REU recc letter\",\"40 2024-11-01 12:00:00 call for proposal for \\u201cSummer Academy\\\"\",\"41 2024-01-22 12:00:00 Annual scholarly report\",\"42 2024-01-09 12:00:00-05:00 Meet over Library \\u002f ND Eclipse activities.\",\"43 2024-01-05 12:30:00-05:00 Matt and Lucas Lunch interview with Keith\",\"44 2024-01-09 12:00:00-05:00 Library ND Eclipse Activities\",\"45 2024-01-05 13:30:00-05:00 Possible hold for Astrophysics discussion\",\"46 2024-01-12 15:22:30-05:00 Eclipse stuff Keith and Deanna\",\"47 2024-01-12 13:52:30-05:00 Fabio and Keith Zoom\",\"48 2024-04-05 15:22:30-04:00 Eclipse update meeting\",\"49 2024-01-13 19:00:00-05:00 Keith Davis' Zoom Meeting\",\"50 2024-01-15 10:15:00-05:00 Astro Faculty Meeting\",\"51 2024-01-17 14:30:00-05:00 Keith Davis\",\"52 2024-01-17 14:30:00-05:00 DVT Upgrade Kickoff Zoom\",\"53 2024-01-17 14:30:00-05:00 DVT Upgrade - RFP Kickoff Meeting\",\"54 2024-01-23 11:00:00-05:00 Postdoc Coffee Hour with Keith Davis: Science Communication\",\"55 2024-01-22 13:37:30-05:00 Meet over Chem\",\"56 2024-01-19 10:37:30-05:00 Meet with DVT Students\",\"57 2024-01-26 15:22:30-05:00 Eclipse update meeting\",\"58 2024-01-26 15:30:00-05:00 Busy\",\"59 2024-04-02 19:00:00-04:00 Lauren Weiss Talk\",\"60 2024-01-24 12:30:00-05:00 Lunch\",\"61 2024-01-25 11:30:00-05:00 DVT Upgrade - Project Touch Base\",\"62 2024-01-24 15:30:00-05:00 Michelle\",\"63 2024-01-29 13:30:00-05:00 Keith \\u002f Miguel data discussion\",\"64 2024-03-01 12:00:00 Prospective Grad Visit\",\"65 2024-01-30 11:37:30-05:00 Descriptive Astronomy - Prof. Garnavich out of Town (Planet Tracking Activity)\",\"66 2024-03-27 19:00:00-04:00 Phil\\u2019s Eclipse talk\",\"67 2024-01-30 16:30:00-05:00 Busy\",\"68 2024-01-29 16:22:30-05:00 Keith Davis' Zoom Meeting\",\"69 2024-01-31 10:30:00-05:00 Keith \\u002f Miguel github tutorial meeting?\",\"70 2024-03-06 14:22:30-05:00 Eclipse update meeting\",\"71 2024-02-07 15:52:30-05:00 Eclipse update meeting\",\"72 2024-03-22 15:00:00-04:00 WVPE\",\"73 2024-02-02 14:00:00-05:00 DVT Upgrade - Committee Meeting\",\"74 2024-03-27 00:00:00 Release RFP\",\"75 2024-02-16 14:25:00-05:00 Orbital and Space Dynamics - Karel Matous\",\"76 2024-02-01 16:30:00-05:00 Physics Colloquium (PHYS73000) 118 NSH\",\"77 2024-02-04 19:00:00-05:00 Keith Davis' Zoom Meeting\",\"78 2024-08-04 12:00:00 Dayna\\u2019s Wedding Reception.\",\"79 2024-02-08 13:37:30-05:00 Prep\",\"80 2024-02-08 14:37:30-05:00 Phillippe Collon Physics of Civilication\",\"81 2024-02-07 09:05:00-05:00 Prep\",\"82 2024-02-14 14:30:00-05:00 DVT Upgrade - Committee Meeting\",\"83 2024-01-18 13:00:00-05:00 Astro Journal Club\",\"84 2024-01-25 13:00:00-05:00 Astro Journal Club\",\"85 2024-02-20 12:00:00 Keith In Boston\",\"86 2024-02-13 15:47:30-05:00 Travel\",\"87 2024-02-13 16:30:00-05:00 therapy\",\"88 2024-02-19 11:54:00-05:00 Flight# UA5309 from SBN -\\u003e ORD\\n (1 hour and 9 mins.)  Layover of 1 hour and 21 mins.  Flight# 2617 from ORD -\\u003e BOS\\n (2 hours and 18 mins.)\",\"89 2024-02-29 10:30:00-05:00 Furnace CHeckup.\",\"90 2024-02-27 13:00:00-05:00 PT\",\"91 2024-02-28 10:30:00-05:00 Beiger Elementary\",\"92 2024-02-22 16:30:00-05:00 Physics Colloquium (PHYS73000) 118 NSH\",\"93 2024-02-15 16:30:00-05:00 Physics Colloquium (PHYS73000) 118 NSH\",\"94 2024-02-13 12:15:00-05:00 Physics & Astronomy LGBTQ\\u002fAlly Luncheon\",\"95 2024-02-21 13:45:00-05:00 Discuss Eclipse Event - Irish Green\",\"96 2024-02-29 13:07:30-05:00 Losecco cosmology\",\"97 2024-02-28 18:37:30-05:00 Prep\",\"98 2024-02-23 14:30:00-05:00 DVT Upgrade RFP Discussion\",\"99 2024-02-23 16:07:30-05:00 Eclipse update meeting\",\"100 2024-02-23 13:15:00-05:00 Faculty Meeting\",\"101 2024-02-23 16:45:00-05:00 Discuss budget and plans for April 8 eclipse\",\"102 2024-02-27 11:37:30-05:00 Eclipses for Desc Astro\",\"103 2024-02-29 14:37:30-05:00 Descriptive Astronomy Prof. Beers out of Town\",\"104 2024-02-27 10:37:30-05:00 Prep\",\"105 2024-02-28 09:37:30-05:00 Pre[\",\"106 2024-03-01 10:30:00-05:00 Stephen Piloting - Pierre Moran Middle and North Side Middle School\",\"107 2024-03-01 09:37:30-05:00 Prep\",\"108 2024-02-26 14:52:30-05:00 Eclipse - backup plan discussion\",\"109 2024-01-19 13:15:00-05:00 Faculty Meeting\",\"110 2024-03-06 10:30:00-05:00 DVT Upgrade RFP Committee Meeting\",\"111 2024-03-11 16:30:00-04:00 therapy\",\"112 2024-03-11 11:00:00-04:00 physical therapy\",\"113 2024-03-05 12:30:00-05:00 Lunch w\\u002f Jeff\",\"114 2024-01-16 14:30:00-05:00 Environmentally Dependent Galaxy Evolution weekly group meeting (Hybrid)\",\"115 2024-01-23 14:30:00-05:00 Environmentally Dependent Galaxy Evolution weekly group meeting (Hybrid)\",\"116 2024-02-06 14:30:00-05:00 Environmentally Dependent Galaxy Evolution weekly group meeting (Hybrid)\",\"117 2024-02-27 14:30:00-05:00 Environmentally Dependent Galaxy Evolution weekly group meeting (Hybrid)\",\"118 2024-02-13 14:30:00-05:00 Environmentally Dependent Galaxy Evolution weekly group meeting (Hybrid)\",\"119 2024-02-20 14:30:00-05:00 Environmentally Dependent Galaxy Evolution weekly group meeting (Hybrid)\",\"120 2024-03-05 16:30:00-05:00 Physics Colloquium (PHYS73000) 118 NSH\",\"121 2024-02-29 16:30:00-05:00 Physics Colloquium (PHYS73000) 118 NSH\",\"122 2024-03-07 11:30:00-05:00 Eclipse Stream Advance\",\"123 2024-04-20 12:00:00-04:00 State Meeting\",\"124 2024-03-20 14:37:30-04:00 Eclipse update meeting\",\"125 2024-03-11 13:30:00-04:00 Meeting over display cases\",\"126 2024-03-13 14:35:00-04:00 Dune 2\",\"127 2024-03-13 12:15:00-04:00 Optional lunch with Jeff & Ken before the movie\",\"128 2024-03-13 14:15:00-04:00 Dune 2 with Jeff & Ken\",\"129 2024-03-11 13:30:00-04:00 Astrophysics case discussion\",\"130 2024-03-27 15:22:30-04:00 Eclipse update meeting\",\"131 2024-03-18 15:15:00-04:00 haircyt\",\"132 2024-03-15 15:22:30-04:00 Eclipse update meeting\",\"133 2024-03-22 12:30:00-04:00 meet with Adam about postdoc\",\"134 2024-03-21 15:00:00-04:00 DVT Upgrade - RFP Meeting\",\"135 2024-03-21 13:37:30-04:00 Eclipse meeting - 215 Jordan\",\"136 2024-03-28 14:45:00-04:00 Final RFP Draft - DVT Upgrade Meeting\",\"137 2024-03-28 13:00:00-04:00 Solar Telescope meeting. (weather dependent)\",\"138 2024-04-01 13:45:00-04:00 DVT RFP chat\",\"139 2024-03-26 16:30:00-04:00 Physics Colloquium (PHYS73000) 118 NSH\",\"140 2024-03-25 12:45:00-04:00 LGBTQ\\u002fAlly Luncheon\",\"141 2024-04-29 13:30:00-04:00 Jury Duty\",\"142 2024-04-07 13:15:00-04:00 Eclipse Volunteer Q & A\",\"143 2024-04-17 15:00:00-04:00 DVT Upgrade Bidder Conference & Walkthrough (Confirmed)\",\"144 2024-01-16 13:00:00-05:00 Astrophysics Seminar (PHYS83200) 184 NSH\",\"145 2024-01-23 13:00:00-05:00 Astrophysics Seminar (PHYS83200) 184 NSH\",\"146 2024-02-06 13:00:00-05:00 Astrophysics Seminar (PHYS83200) 184 NSH\",\"147 2024-04-05 13:15:00-04:00 Faculty Meeting\",\"148 2024-01-30 13:00:00-05:00 Astrophysics Seminar (PHYS83200) 184 NSH\",\"149 2024-02-13 13:00:00-05:00 Astrophysics Seminar (PHYS83200) 184 NSH\",\"150 2024-02-20 13:00:00-05:00 Astrophysics Seminar (PHYS83200) 184 NSH\",\"151 2024-02-27 13:00:00-05:00 Astrophysics Seminar (PHYS83200) 184 NSH\",\"152 2024-03-05 13:00:00-05:00 Astrophysics Seminar (PHYS83200) 184 NSH\",\"153 2024-03-12 13:00:00-04:00 Astrophysics Seminar (PHYS83200) 184 NSH\",\"154 2024-03-19 13:00:00-04:00 Astrophysics Seminar (PHYS83200) 184 NSH\",\"155 2024-03-26 13:00:00-04:00 Astrophysics Seminar (PHYS83200) 184 NSH\",\"156 2024-04-02 13:00:00-04:00 Astrophysics Seminar (PHYS83200) 184 NSH\",\"157 2024-04-09 13:00:00-04:00 Astrophysics Seminar (PHYS83200) 184 NSH\",\"158 2024-04-23 13:00:00-04:00 Astrophysics Seminar (PHYS83200) 184 NSH\",\"159 2024-04-16 13:00:00-04:00 Astrophysics Seminar (PHYS83200) 184 NSH\",\"160 2024-04-23 13:07:30-04:00 Losecco Cosmology\",\"161 2024-04-25 14:37:30-04:00 American Indian Catholic Schools Network\",\"162 2024-04-25 10:07:30-04:00 Science Communications Class\",\"163 2024-04-23 11:07:30-04:00 pt\",\"164 2024-04-18 13:00:00-04:00 Busy\",\"165 2024-04-19 13:07:30-04:00 Busy\",\"166 2024-04-23 12:00:00 Q and A due from bidders\",\"167 2024-04-29 17:30:00-04:00 Written responses\",\"168 2024-04-23 10:22:30-04:00 Dr. Keith Davis Appointments (Sara Wheeler)\",\"169 2024-02-01 13:00:00-05:00 Astro Journal Club\",\"170 2024-02-08 13:00:00-05:00 Astro Journal Club\",\"171 2024-02-15 13:00:00-05:00 Astro Journal Club\",\"172 2024-02-29 13:00:00-05:00 Astro Journal Club\",\"173 2024-03-07 13:00:00-05:00 Astro Journal Club\",\"174 2024-03-14 13:00:00-04:00 Astro Journal Club\",\"175 2024-03-21 13:00:00-04:00 Astro Journal Club\",\"176 2024-03-28 13:00:00-04:00 Astro Journal Club\",\"177 2024-04-04 13:00:00-04:00 Astro Journal Club\",\"178 2024-04-11 13:00:00-04:00 Astro Journal Club\",\"179 2024-04-18 13:00:00-04:00 Astro Journal Club\",\"180 2024-04-25 16:20:00-04:00 Foot appointment\",\"181 2024-04-25 15:30:00-04:00 Trvel\",\"182 2024-04-24 16:30:00-04:00 therapy\",\"183 2024-04-24 15:45:00-04:00 Travel\",\"184 2024-04-24 14:30:00-04:00 DVT Upgrade RFP - Written Questions\",\"185 2024-08-27 13:00:00-04:00 Astrophysics Seminar (83200) 127 NSH\",\"186 2024-09-03 13:00:00-04:00 Astrophysics Seminar (83200) 127 NSH\",\"187 2024-09-10 13:00:00-04:00 Astrophysics Seminar (83200) 127 NSH\",\"188 2024-09-17 13:00:00-04:00 Astrophysics Seminar (83200) 127 NSH\",\"189 2024-09-24 13:00:00-04:00 Astrophysics Seminar (83200) 127 NSH\",\"190 2024-10-01 13:00:00-04:00 Astrophysics Seminar (83200) 127 NSH\",\"191 2024-10-08 13:00:00-04:00 Astrophysics Seminar (83200) 127 NSH\",\"192 2024-10-15 13:00:00-04:00 Astrophysics Seminar (83200) 127 NSH\",\"193 2024-10-22 13:00:00-04:00 Astrophysics Seminar (83200) 127 NSH\",\"194 2024-10-29 13:00:00-04:00 Astrophysics Seminar (83200) 127 NSH\",\"195 2024-11-05 13:00:00-05:00 Astrophysics Seminar (83200) 127 NSH\",\"196 2024-11-12 13:00:00-05:00 Astrophysics Seminar (83200) 127 NSH\",\"197 2024-11-19 13:00:00-05:00 Astrophysics Seminar (83200) 127 NSH\",\"198 2024-11-26 13:00:00-05:00 Astrophysics Seminar (83200) 127 NSH\",\"199 2024-12-03 13:00:00-05:00 Astrophysics Seminar (83200) 127 NSH\",\"200 2024-12-10 13:00:00-05:00 Astrophysics Seminar (83200) 127 NSH\",\"201 2024-04-24 10:22:30-04:00 Dr. Keith Davis Appointments (Sara Wheeler)\",\"202 2024-05-16 14:30:00-04:00 St. Vincent De Paul\",\"203 2024-05-16 13:45:00-04:00 Prep\",\"204 2024-05-13 15:00:00-04:00 DVT Upgrade RFP -Evaluation\",\"205 2024-04-30 13:00:00-04:00 Astrophysics Seminar (PHYS83200) 184 NSH\",\"206 2024-04-30 13:30:00-04:00 Jury Duty\",\"207 2024-05-01 13:30:00-04:00 Jury Duty\",\"208 2024-05-02 13:30:00-04:00 Jury Duty\",\"209 2024-01-17 15:15:00-05:00 Colloquium Tea\",\"210 2024-01-24 15:15:00-05:00 Colloquium Tea\",\"211 2024-01-31 15:15:00-05:00 Colloquium Tea\",\"212 2024-02-07 15:15:00-05:00 Colloquium Tea\",\"213 2024-02-14 15:15:00-05:00 Colloquium Tea\",\"214 2024-02-21 15:15:00-05:00 Colloquium Tea\",\"215 2024-02-28 15:15:00-05:00 Colloquium Tea\",\"216 2024-03-06 15:15:00-05:00 Colloquium Tea\",\"217 2024-03-13 15:15:00-04:00 Colloquium Tea\",\"218 2024-03-20 15:15:00-04:00 Colloquium Tea\",\"219 2024-03-27 15:15:00-04:00 Colloquium Tea\",\"220 2024-04-03 15:15:00-04:00 Colloquium Tea\",\"221 2024-04-10 15:15:00-04:00 Colloquium Tea\",\"222 2024-04-17 15:15:00-04:00 Colloquium Tea\",\"223 2024-05-01 15:15:00-04:00 Colloquium Tea\",\"224 2024-04-23 12:45:00-04:00 LGBTQ\\u002fAlly Luncheon\",\"225 2024-05-03 13:15:00-04:00 Faculty Meeting\",\"226 2024-02-06 13:52:30-05:00 Meet with Alex\",\"227 2024-02-13 13:52:30-05:00 Meet with Alex\",\"228 2024-02-20 13:52:30-05:00 Meet with Alex\",\"229 2024-02-27 13:52:30-05:00 Meet with Alex\",\"230 2024-03-05 13:52:30-05:00 Meet with Alex\",\"231 2024-03-19 13:52:30-04:00 Meet with Alex\",\"232 2024-04-02 13:52:30-04:00 Meet with Alex\",\"233 2024-04-09 13:52:30-04:00 Meet with Alex\",\"234 2024-04-16 13:52:30-04:00 Meet with Alex\",\"235 2024-04-23 13:52:30-04:00 Meet with Alex\",\"236 2024-04-30 13:52:30-04:00 Meet with Alex\",\"237 2024-05-09 16:00:00-04:00 Lara \\u002f Keith\",\"238 2024-05-08 14:52:30-04:00 Fabio \\u002f Keith\",\"239 2024-07-10 16:07:30-04:00 DVT Show for PCST Symposium?\",\"240 2024-01-17 13:00:00-05:00 Physics Colloquium (PHYS73000) 127 NSH\",\"241 2024-01-24 13:00:00-05:00 Physics Colloquium (PHYS73000) 127 NSH\",\"242 2024-01-31 13:00:00-05:00 Physics Colloquium (PHYS73000) 127 NSH\",\"243 2024-02-07 13:00:00-05:00 Physics Colloquium (PHYS73000) 127 NSH\",\"244 2024-02-14 13:00:00-05:00 Physics Colloquium (PHYS73000) 127 NSH\",\"245 2024-02-21 13:00:00-05:00 Physics Colloquium (PHYS73000) 127 NSH\",\"246 2024-02-28 13:00:00-05:00 Physics Colloquium (PHYS73000) 127 NSH\",\"247 2024-03-06 13:00:00-05:00 Physics Colloquium (PHYS73000) 127 NSH\",\"248 2024-03-13 13:00:00-04:00 Physics Colloquium (PHYS73000) 127 NSH\",\"249 2024-03-20 13:00:00-04:00 Physics Colloquium (PHYS73000) 127 NSH\",\"250 2024-03-27 13:00:00-04:00 Physics Colloquium (PHYS73000) 127 NSH\",\"251 2024-04-03 13:00:00-04:00 Physics Colloquium (PHYS73000) 127 NSH\",\"252 2024-04-10 13:00:00-04:00 Physics Colloquium (PHYS73000) 127 NSH\",\"253 2024-04-17 13:00:00-04:00 Physics Colloquium (PHYS73000) 127 NSH\",\"254 2024-04-24 13:00:00-04:00 Physics Colloquium (PHYS73000) 127 NSH\",\"255 2024-05-01 13:00:00-04:00 Physics Colloquium (PHYS73000) 127 NSH\",\"256 2024-09-04 13:00:00-04:00 Physics Colloquium (73000) 127 NSH\",\"257 2024-09-11 13:00:00-04:00 Physics Colloquium (73000) 127 NSH\",\"258 2024-09-18 13:00:00-04:00 Physics Colloquium (73000) 127 NSH\",\"259 2024-09-25 13:00:00-04:00 Physics Colloquium (73000) 127 NSH\",\"260 2024-10-02 13:00:00-04:00 Physics Colloquium (73000) 127 NSH\",\"261 2024-10-09 13:00:00-04:00 Physics Colloquium (73000) 127 NSH\",\"262 2024-10-16 13:00:00-04:00 Physics Colloquium (73000) 127 NSH\",\"263 2024-10-23 13:00:00-04:00 Physics Colloquium (73000) 127 NSH\",\"264 2024-10-30 13:00:00-04:00 Physics Colloquium (73000) 127 NSH\",\"265 2024-11-06 13:00:00-05:00 Physics Colloquium (73000) 127 NSH\",\"266 2024-11-13 13:00:00-05:00 Physics Colloquium (73000) 127 NSH\",\"267 2024-11-20 13:00:00-05:00 Physics Colloquium (73000) 127 NSH\",\"268 2024-11-27 13:00:00-05:00 Physics Colloquium (73000) 127 NSH\",\"269 2024-12-04 13:00:00-05:00 Physics Colloquium (73000) 127 NSH\",\"270 2024-12-11 13:00:00-05:00 Physics Colloquium (73000) 127 NSH\",\"271 2024-08-28 13:00:00-04:00 Physics Colloquium (73000) 127 NSH\",\"272 2024-07-09 12:45:00-04:00 Science Communication Conference\",\"273 2024-07-10 12:45:00-04:00 Science Communication Conference\",\"274 2024-07-11 12:45:00-04:00 Science Communication Conference\",\"275 2024-03-05 14:30:00-05:00 Galaxies neighborhood_Environmentally Dependent Galaxy Evolution weekly group meeting \",\"276 2024-05-14 11:10:00-04:00 Tammi school presentation\",\"277 2024-05-14 10:22:30-04:00 Prep\",\"278 2024-05-16 16:15:00-04:00 DVT Upgrade RFP -Evaluation (cont'd if needed)\",\"279 2024-05-17 13:07:30-04:00 PT\",\"280 2024-06-25 14:30:00-04:00 WSP: Digital Visualization Theater Demonstration\",\"281 2024-05-15 14:30:00-04:00 DVT Upgrade RFP -Evaluation\",\"282 2024-06-03 10:45:00-04:00 Science Communication Talk\",\"283 2024-09-13 12:00:00 ND Press Inaugeuration\",\"284 2024-05-18 13:30:00-04:00 Physics graduation\",\"285 2024-09-05 12:00:00 Lips\",\"286 2024-05-23 09:30:00-04:00 PT\",\"287 2024-05-23 14:30:00-04:00 Therapy\",\"288 2024-05-24 11:30:00-04:00 Graage door fix\",\"289 2024-05-20 12:45:00-04:00 Lunch\",\"290 2024-09-05 17:45:00-04:00 Fall All-College Meeting 2024\",\"291 2024-12-06 19:30:00-05:00 Christmas Lecture Featuring Dr. Michelle Thaller, NASA Goddard Space Flight Center\",\"292 2024-07-05 00:00:00 NDQN RET\\u002fREHS\",\"293 2024-04-09 14:30:00-04:00 EDGE meeting\",\"294 2024-03-26 14:30:00-04:00 EDGE meeting\",\"295 2024-04-02 14:30:00-04:00 EDGE meeting\",\"296 2024-04-16 14:30:00-04:00 EDGE meeting\",\"297 2024-04-23 14:30:00-04:00 EDGE meeting\",\"298 2024-04-30 14:30:00-04:00 EDGE meeting\",\"299 2024-06-17 12:00:00 Visit to COSM\",\"300 2024-06-18 12:00:00 Visit to SSIA\",\"301 2024-05-07 14:30:00-04:00 EDGE meeting\",\"302 2024-05-14 14:30:00-04:00 EDGE meeting\",\"303 2024-05-28 14:30:00-04:00 EDGE meeting\",\"304 2024-06-04 14:30:00-04:00 EDGE meeting\",\"305 2024-06-11 14:30:00-04:00 EDGE meeting\",\"306 2024-06-18 14:30:00-04:00 EDGE meeting\",\"307 2024-06-25 14:30:00-04:00 EDGE meeting\",\"308 2024-05-21 14:30:00-04:00 EDGE meeting\",\"309 2024-05-22 12:45:00-04:00 Gym\"],\"theta\":[30.983606557377048,119.46721311475409,209.95901639344262,300.4508196721311,0.4918032786885246,14.262295081967213,28.0327868852459,41.80327868852459,55.57377049180328,69.30327868852459,83.07377049180327,96.84426229508196,110.61475409836065,124.38524590163934,138.15573770491804,151.92622950819674,165.69672131147541,179.46721311475412,193.2377049180328,207.0081967213115,220.77868852459017,234.54918032786887,248.31967213114754,262.0901639344262,275.8606557377049,289.6311475409836,303.44262295081967,317.21311475409834,330.983606557377,344.75409836065575,358.5245901639344,80.12295081967213,153.89344262295083,334.91803278688525,39.83606557377049,152.41803278688525,24.42622950819672,24.42622950819672,10.327868852459016,30.983606557377048,300.4508196721311,21.147540983606557,8.360655737704917,4.446721311475409,8.360655737704917,4.487704918032787,11.449795081967213,11.388319672131148,94.03176229508196,12.581967213114753,14.190573770491804,16.331967213114755,16.331967213114755,16.331967213114755,22.09016393442623,21.214139344262293,18.140368852459016,25.2202868852459,25.225409836065573,91.22950819672131,23.135245901639344,24.077868852459016,23.258196721311474,28.09426229508197,59.50819672131147,29.001024590163933,85.32786885245902,29.200819672131146,28.212090163934427,29.938524590163933,64.52356557377048,37.044057377049185,80.24590163934425,32.049180327868854,84.54918032786884,45.83674863387978,31.168032786885245,34.221311475409834,212.90983606557378,37.935450819672134,37.97643442622951,36.76571038251366,43.87295081967213,17.25409836065574,24.139344262295083,49.67213114754098,42.94228142076503,42.971311475409834,48.68442622950819,58.463114754098356,56.5983606557377,57.47950819672131,51.82377049180328,44.93852459016394,42.79713114754098,50.72745901639344,58.57069672131147,57.8125,52.72540983606557,52.79200819672131,52.674180327868854,52.81762295081967,56.54200819672131,58.63217213114754,56.50102459016394,57.443647540983605,59.44672131147541,59.4108606557377,55.69159836065573,18.24795081967213,64.36475409836065,69.48770491803278,69.26229508196721,63.463114754098356,15.348360655737704,22.23360655737705,36.00409836065573,56.659836065573764,42.889344262295076,49.77459016393442,63.627049180327866,58.709016393442624,65.38934426229508,108.64754098360655,78.26331967213115,69.36475409836065,71.37636612021858,71.28073770491802,71.36270491803278,69.36475409836065,85.17930327868852,76.32172131147541,73.37602459016392,80.14344262295083,79.26229508196721,79.20594262295083,86.13729508196721,86.0655737704918,90.03073770491802,84.24180327868852,83.10450819672131,117.56147540983606,95.91188524590164,105.81967213114754,15.286885245901638,22.172131147540984,35.94262295081967,93.94467213114754,29.057377049180328,42.82786885245901,49.713114754098356,56.5983606557377,63.48360655737705,70.32786885245902,77.21311475409836,84.09836065573771,90.98360655737704,97.8688524590164,111.63934426229508,104.75409836065573,111.64446721311475,113.67315573770492,113.48872950819671,111.5625,106.72131147540983,107.71004098360655,111.5983606557377,117.72540983606557,111.53176229508196,31.024590163934427,37.90983606557377,44.795081967213115,58.5655737704918,65.45081967213115,72.29508196721311,79.18032786885246,86.0655737704918,92.95081967213115,99.83606557377048,106.72131147540983,113.7431693989071,113.70901639344262,112.76639344262294,112.73565573770492,112.68442622950819,235.5737704918033,242.45901639344262,249.34426229508196,256.2295081967213,263.11475409836066,270.0,276.88524590163934,283.7704918032787,290.655737704918,297.54098360655735,304.4672131147541,311.3524590163935,318.2377049180328,325.12295081967216,332.0081967213115,338.89344262295083,112.51536885245902,134.3237704918033,134.29303278688525,131.39344262295083,118.52459016393442,118.54508196721311,119.52868852459015,120.51229508196721,16.362704918032787,23.24795081967213,30.133196721311474,37.018442622950815,43.90368852459016,50.7889344262295,57.67418032786885,64.5594262295082,71.40368852459017,78.2889344262295,85.17418032786885,92.05942622950819,98.94467213114754,105.82991803278688,119.60040983606557,111.62909836065573,121.48565573770492,35.978483606557376,42.86372950819672,49.74897540983606,56.63422131147541,63.51946721311475,77.24897540983606,91.01946721311475,97.90471311475409,104.78995901639344,111.67520491803278,118.56045081967213,127.5,126.4702868852459,188.48872950819674,16.270491803278688,23.155737704918035,30.04098360655738,36.92622950819672,43.81147540983606,50.69672131147541,57.58196721311475,64.4672131147541,71.31147540983606,78.19672131147541,85.08196721311475,91.9672131147541,98.85245901639344,105.73770491803279,112.62295081967213,119.50819672131148,243.44262295081967,250.327868852459,257.21311475409834,264.0983606557377,270.9836065573771,277.8688524590164,284.75409836065575,291.6393442622951,298.5245901639344,305.45081967213116,312.3360655737705,319.22131147540983,326.10655737704917,332.99180327868856,339.8770491803279,236.55737704918033,187.36680327868854,188.35040983606558,189.33401639344262,63.54508196721312,132.21994535519127,132.1875,134.39549180327867,135.25102459016395,173.66803278688525,133.34016393442622,151.875,252.25409836065572,136.25,244.38524590163934,141.00409836065572,141.20901639344262,142.06967213114754,138.18647540983608,244.62090163934425,335.2254098360656,182.90983606557378,97.93032786885246,84.15983606557377,91.04508196721311,104.8155737704918,111.70081967213115,118.58606557377048,165.69672131147541,166.68032786885246,125.47131147540983,132.35655737704917,146.12704918032787,153.0122950819672,159.89754098360655,166.7827868852459,173.66803278688525,139.2418032786885,140.15368852459017],\"width\":[0.9863013698630136,0.9863013698630136,0.9863013698630136,0.9863013698630136,0.9863013698630136,0.9863013698630136,0.9863013698630136,0.9863013698630136,0.9863013698630136,0.9863013698630136,0.9863013698630136,0.9863013698630136,0.9863013698630136,0.9863013698630136,0.9863013698630136,0.9863013698630136,0.9863013698630136,0.9863013698630136,0.9863013698630136,0.9863013698630136,0.9863013698630136,0.9863013698630136,0.9863013698630136,0.9863013698630136,0.9863013698630136,0.9863013698630136,0.9863013698630136,0.9863013698630136,0.9863013698630136,0.9863013698630136,0.9863013698630136,0.9863013698630136,4.931506849315069,0.9863013698630136,0.9863013698630136,1.9726027397260273,0.0410958904109589,0.0410958904109589,0.9863013698630136,0.9863013698630136,0.9863013698630136,0.9863013698630136,0.0410958904109589,0.0410958904109589,0.0410958904109589,0.0410958904109589,0.030821917808219176,0.030821917808219176,0.030821917808219176,0.1643835616438356,0.06164383561643835,0.0410958904109589,0.0410958904109589,0.0410958904109589,0.0410958904109589,0.030821917808219176,0.030821917808219176,0.030821917808219176,0.1232876712328767,0.0410958904109589,0.0410958904109589,0.0410958904109589,0.02054794520547945,0.0410958904109589,0.9863013698630136,0.05136986301369863,0.0410958904109589,0.0410958904109589,0.030821917808219176,0.0410958904109589,0.030821917808219176,0.030821917808219176,0.0821917808219178,0.0410958904109589,3.9452054794520546,0.03424657534246575,0.0410958904109589,0.1643835616438356,0.9863013698630136,0.030821917808219176,0.05136986301369863,0.0273972602739726,0.0410958904109589,0.0410958904109589,0.0410958904109589,2.958904109589041,0.010273972602739725,0.0410958904109589,0.19726027397260273,0.0410958904109589,0.0410958904109589,0.0410958904109589,0.0410958904109589,0.0410958904109589,0.06164383561643835,0.02054794520547945,0.05136986301369863,0.030821917808219176,0.0410958904109589,0.030821917808219176,0.06164383561643835,0.02054794520547945,0.05136986301369863,0.05136986301369863,0.030821917808219176,0.030821917808219176,0.0410958904109589,0.030821917808219176,0.030821917808219176,0.06164383561643835,0.0410958904109589,0.0410958904109589,0.0410958904109589,0.0410958904109589,0.0410958904109589,0.0410958904109589,0.0410958904109589,0.0410958904109589,0.0410958904109589,0.0410958904109589,0.0410958904109589,0.0410958904109589,0.0410958904109589,0.2465753424657534,0.030821917808219176,0.0410958904109589,0.14383561643835616,0.0410958904109589,0.1232876712328767,0.0410958904109589,0.030821917808219176,0.02054794520547945,0.030821917808219176,0.0410958904109589,0.0410958904109589,0.030821917808219176,0.06164383561643835,0.0410958904109589,0.02054794520547945,0.0410958904109589,0.06164383561643835,0.2876712328767123,0.02054794520547945,0.1643835616438356,0.0410958904109589,0.0410958904109589,0.0410958904109589,0.06164383561643835,0.0410958904109589,0.0410958904109589,0.0410958904109589,0.0410958904109589,0.0410958904109589,0.0410958904109589,0.0410958904109589,0.0410958904109589,0.0410958904109589,0.0410958904109589,0.0410958904109589,0.0410958904109589,0.05136986301369863,0.030821917808219176,0.05136986301369863,0.030821917808219176,0.3287671232876712,0.3390410958904109,0.9863013698630136,0.0410958904109589,0.030821917808219176,0.0410958904109589,0.0410958904109589,0.0410958904109589,0.0410958904109589,0.0410958904109589,0.0410958904109589,0.0410958904109589,0.0410958904109589,0.0410958904109589,0.0410958904109589,0.0410958904109589,0.0410958904109589,0.02054794520547945,0.0410958904109589,0.02054794520547945,0.0410958904109589,0.0410958904109589,0.0410958904109589,0.0410958904109589,0.0410958904109589,0.0410958904109589,0.0410958904109589,0.0410958904109589,0.0410958904109589,0.0410958904109589,0.0410958904109589,0.0410958904109589,0.0410958904109589,0.0410958904109589,0.0410958904109589,0.0410958904109589,0.0410958904109589,0.030821917808219176,0.0410958904109589,0.02054794520547945,0.0821917808219178,0.0410958904109589,0.26712328767123283,0.26712328767123283,0.26712328767123283,0.02054794520547945,0.02054794520547945,0.02054794520547945,0.02054794520547945,0.02054794520547945,0.02054794520547945,0.02054794520547945,0.02054794520547945,0.02054794520547945,0.02054794520547945,0.02054794520547945,0.02054794520547945,0.02054794520547945,0.02054794520547945,0.02054794520547945,0.06164383561643835,0.06164383561643835,0.010273972602739725,0.010273972602739725,0.010273972602739725,0.010273972602739725,0.010273972602739725,0.010273972602739725,0.010273972602739725,0.010273972602739725,0.010273972602739725,0.010273972602739725,0.010273972602739725,0.0410958904109589,0.030821917808219176,0.030821917808219176,0.0410958904109589,0.0410958904109589,0.0410958904109589,0.0410958904109589,0.0410958904109589,0.0410958904109589,0.0410958904109589,0.0410958904109589,0.0410958904109589,0.0410958904109589,0.0410958904109589,0.0410958904109589,0.0410958904109589,0.0410958904109589,0.0410958904109589,0.0410958904109589,0.0410958904109589,0.0410958904109589,0.0410958904109589,0.0410958904109589,0.0410958904109589,0.0410958904109589,0.0410958904109589,0.0410958904109589,0.0410958904109589,0.0410958904109589,0.0410958904109589,0.0410958904109589,0.0410958904109589,0.0410958904109589,0.0410958904109589,0.0410958904109589,0.3493150684931507,0.3493150684931507,0.3493150684931507,0.0410958904109589,0.0410958904109589,0.030821917808219176,0.06164383561643835,0.030821917808219176,0.0410958904109589,0.0821917808219178,0.02054794520547945,0.9863013698630136,0.0410958904109589,2.958904109589041,0.0410958904109589,0.0410958904109589,0.2876712328767123,0.06164383561643835,0.10273972602739725,0.2054794520547945,49.31506849315068,0.0410958904109589,0.0410958904109589,0.0410958904109589,0.0410958904109589,0.0410958904109589,0.0410958904109589,0.9863013698630136,0.9863013698630136,0.0410958904109589,0.0410958904109589,0.0410958904109589,0.0410958904109589,0.0410958904109589,0.0410958904109589,0.0410958904109589,0.0410958904109589,0.10273972602739725],\"type\":\"barpolar\"}],                        {\"template\":{\"data\":{\"histogram2dcontour\":[{\"type\":\"histogram2dcontour\",\"colorbar\":{\"outlinewidth\":0,\"ticks\":\"\"},\"colorscale\":[[0.0,\"#0d0887\"],[0.1111111111111111,\"#46039f\"],[0.2222222222222222,\"#7201a8\"],[0.3333333333333333,\"#9c179e\"],[0.4444444444444444,\"#bd3786\"],[0.5555555555555556,\"#d8576b\"],[0.6666666666666666,\"#ed7953\"],[0.7777777777777778,\"#fb9f3a\"],[0.8888888888888888,\"#fdca26\"],[1.0,\"#f0f921\"]]}],\"choropleth\":[{\"type\":\"choropleth\",\"colorbar\":{\"outlinewidth\":0,\"ticks\":\"\"}}],\"histogram2d\":[{\"type\":\"histogram2d\",\"colorbar\":{\"outlinewidth\":0,\"ticks\":\"\"},\"colorscale\":[[0.0,\"#0d0887\"],[0.1111111111111111,\"#46039f\"],[0.2222222222222222,\"#7201a8\"],[0.3333333333333333,\"#9c179e\"],[0.4444444444444444,\"#bd3786\"],[0.5555555555555556,\"#d8576b\"],[0.6666666666666666,\"#ed7953\"],[0.7777777777777778,\"#fb9f3a\"],[0.8888888888888888,\"#fdca26\"],[1.0,\"#f0f921\"]]}],\"heatmap\":[{\"type\":\"heatmap\",\"colorbar\":{\"outlinewidth\":0,\"ticks\":\"\"},\"colorscale\":[[0.0,\"#0d0887\"],[0.1111111111111111,\"#46039f\"],[0.2222222222222222,\"#7201a8\"],[0.3333333333333333,\"#9c179e\"],[0.4444444444444444,\"#bd3786\"],[0.5555555555555556,\"#d8576b\"],[0.6666666666666666,\"#ed7953\"],[0.7777777777777778,\"#fb9f3a\"],[0.8888888888888888,\"#fdca26\"],[1.0,\"#f0f921\"]]}],\"heatmapgl\":[{\"type\":\"heatmapgl\",\"colorbar\":{\"outlinewidth\":0,\"ticks\":\"\"},\"colorscale\":[[0.0,\"#0d0887\"],[0.1111111111111111,\"#46039f\"],[0.2222222222222222,\"#7201a8\"],[0.3333333333333333,\"#9c179e\"],[0.4444444444444444,\"#bd3786\"],[0.5555555555555556,\"#d8576b\"],[0.6666666666666666,\"#ed7953\"],[0.7777777777777778,\"#fb9f3a\"],[0.8888888888888888,\"#fdca26\"],[1.0,\"#f0f921\"]]}],\"contourcarpet\":[{\"type\":\"contourcarpet\",\"colorbar\":{\"outlinewidth\":0,\"ticks\":\"\"}}],\"contour\":[{\"type\":\"contour\",\"colorbar\":{\"outlinewidth\":0,\"ticks\":\"\"},\"colorscale\":[[0.0,\"#0d0887\"],[0.1111111111111111,\"#46039f\"],[0.2222222222222222,\"#7201a8\"],[0.3333333333333333,\"#9c179e\"],[0.4444444444444444,\"#bd3786\"],[0.5555555555555556,\"#d8576b\"],[0.6666666666666666,\"#ed7953\"],[0.7777777777777778,\"#fb9f3a\"],[0.8888888888888888,\"#fdca26\"],[1.0,\"#f0f921\"]]}],\"surface\":[{\"type\":\"surface\",\"colorbar\":{\"outlinewidth\":0,\"ticks\":\"\"},\"colorscale\":[[0.0,\"#0d0887\"],[0.1111111111111111,\"#46039f\"],[0.2222222222222222,\"#7201a8\"],[0.3333333333333333,\"#9c179e\"],[0.4444444444444444,\"#bd3786\"],[0.5555555555555556,\"#d8576b\"],[0.6666666666666666,\"#ed7953\"],[0.7777777777777778,\"#fb9f3a\"],[0.8888888888888888,\"#fdca26\"],[1.0,\"#f0f921\"]]}],\"mesh3d\":[{\"type\":\"mesh3d\",\"colorbar\":{\"outlinewidth\":0,\"ticks\":\"\"}}],\"scatter\":[{\"fillpattern\":{\"fillmode\":\"overlay\",\"size\":10,\"solidity\":0.2},\"type\":\"scatter\"}],\"parcoords\":[{\"type\":\"parcoords\",\"line\":{\"colorbar\":{\"outlinewidth\":0,\"ticks\":\"\"}}}],\"scatterpolargl\":[{\"type\":\"scatterpolargl\",\"marker\":{\"colorbar\":{\"outlinewidth\":0,\"ticks\":\"\"}}}],\"bar\":[{\"error_x\":{\"color\":\"#2a3f5f\"},\"error_y\":{\"color\":\"#2a3f5f\"},\"marker\":{\"line\":{\"color\":\"#E5ECF6\",\"width\":0.5},\"pattern\":{\"fillmode\":\"overlay\",\"size\":10,\"solidity\":0.2}},\"type\":\"bar\"}],\"scattergeo\":[{\"type\":\"scattergeo\",\"marker\":{\"colorbar\":{\"outlinewidth\":0,\"ticks\":\"\"}}}],\"scatterpolar\":[{\"type\":\"scatterpolar\",\"marker\":{\"colorbar\":{\"outlinewidth\":0,\"ticks\":\"\"}}}],\"histogram\":[{\"marker\":{\"pattern\":{\"fillmode\":\"overlay\",\"size\":10,\"solidity\":0.2}},\"type\":\"histogram\"}],\"scattergl\":[{\"type\":\"scattergl\",\"marker\":{\"colorbar\":{\"outlinewidth\":0,\"ticks\":\"\"}}}],\"scatter3d\":[{\"type\":\"scatter3d\",\"line\":{\"colorbar\":{\"outlinewidth\":0,\"ticks\":\"\"}},\"marker\":{\"colorbar\":{\"outlinewidth\":0,\"ticks\":\"\"}}}],\"scattermapbox\":[{\"type\":\"scattermapbox\",\"marker\":{\"colorbar\":{\"outlinewidth\":0,\"ticks\":\"\"}}}],\"scatterternary\":[{\"type\":\"scatterternary\",\"marker\":{\"colorbar\":{\"outlinewidth\":0,\"ticks\":\"\"}}}],\"scattercarpet\":[{\"type\":\"scattercarpet\",\"marker\":{\"colorbar\":{\"outlinewidth\":0,\"ticks\":\"\"}}}],\"carpet\":[{\"aaxis\":{\"endlinecolor\":\"#2a3f5f\",\"gridcolor\":\"white\",\"linecolor\":\"white\",\"minorgridcolor\":\"white\",\"startlinecolor\":\"#2a3f5f\"},\"baxis\":{\"endlinecolor\":\"#2a3f5f\",\"gridcolor\":\"white\",\"linecolor\":\"white\",\"minorgridcolor\":\"white\",\"startlinecolor\":\"#2a3f5f\"},\"type\":\"carpet\"}],\"table\":[{\"cells\":{\"fill\":{\"color\":\"#EBF0F8\"},\"line\":{\"color\":\"white\"}},\"header\":{\"fill\":{\"color\":\"#C8D4E3\"},\"line\":{\"color\":\"white\"}},\"type\":\"table\"}],\"barpolar\":[{\"marker\":{\"line\":{\"color\":\"#E5ECF6\",\"width\":0.5},\"pattern\":{\"fillmode\":\"overlay\",\"size\":10,\"solidity\":0.2}},\"type\":\"barpolar\"}],\"pie\":[{\"automargin\":true,\"type\":\"pie\"}]},\"layout\":{\"autotypenumbers\":\"strict\",\"colorway\":[\"#636efa\",\"#EF553B\",\"#00cc96\",\"#ab63fa\",\"#FFA15A\",\"#19d3f3\",\"#FF6692\",\"#B6E880\",\"#FF97FF\",\"#FECB52\"],\"font\":{\"color\":\"#2a3f5f\"},\"hovermode\":\"closest\",\"hoverlabel\":{\"align\":\"left\"},\"paper_bgcolor\":\"white\",\"plot_bgcolor\":\"#E5ECF6\",\"polar\":{\"bgcolor\":\"#E5ECF6\",\"angularaxis\":{\"gridcolor\":\"white\",\"linecolor\":\"white\",\"ticks\":\"\"},\"radialaxis\":{\"gridcolor\":\"white\",\"linecolor\":\"white\",\"ticks\":\"\"}},\"ternary\":{\"bgcolor\":\"#E5ECF6\",\"aaxis\":{\"gridcolor\":\"white\",\"linecolor\":\"white\",\"ticks\":\"\"},\"baxis\":{\"gridcolor\":\"white\",\"linecolor\":\"white\",\"ticks\":\"\"},\"caxis\":{\"gridcolor\":\"white\",\"linecolor\":\"white\",\"ticks\":\"\"}},\"coloraxis\":{\"colorbar\":{\"outlinewidth\":0,\"ticks\":\"\"}},\"colorscale\":{\"sequential\":[[0.0,\"#0d0887\"],[0.1111111111111111,\"#46039f\"],[0.2222222222222222,\"#7201a8\"],[0.3333333333333333,\"#9c179e\"],[0.4444444444444444,\"#bd3786\"],[0.5555555555555556,\"#d8576b\"],[0.6666666666666666,\"#ed7953\"],[0.7777777777777778,\"#fb9f3a\"],[0.8888888888888888,\"#fdca26\"],[1.0,\"#f0f921\"]],\"sequentialminus\":[[0.0,\"#0d0887\"],[0.1111111111111111,\"#46039f\"],[0.2222222222222222,\"#7201a8\"],[0.3333333333333333,\"#9c179e\"],[0.4444444444444444,\"#bd3786\"],[0.5555555555555556,\"#d8576b\"],[0.6666666666666666,\"#ed7953\"],[0.7777777777777778,\"#fb9f3a\"],[0.8888888888888888,\"#fdca26\"],[1.0,\"#f0f921\"]],\"diverging\":[[0,\"#8e0152\"],[0.1,\"#c51b7d\"],[0.2,\"#de77ae\"],[0.3,\"#f1b6da\"],[0.4,\"#fde0ef\"],[0.5,\"#f7f7f7\"],[0.6,\"#e6f5d0\"],[0.7,\"#b8e186\"],[0.8,\"#7fbc41\"],[0.9,\"#4d9221\"],[1,\"#276419\"]]},\"xaxis\":{\"gridcolor\":\"white\",\"linecolor\":\"white\",\"ticks\":\"\",\"title\":{\"standoff\":15},\"zerolinecolor\":\"white\",\"automargin\":true,\"zerolinewidth\":2},\"yaxis\":{\"gridcolor\":\"white\",\"linecolor\":\"white\",\"ticks\":\"\",\"title\":{\"standoff\":15},\"zerolinecolor\":\"white\",\"automargin\":true,\"zerolinewidth\":2},\"scene\":{\"xaxis\":{\"backgroundcolor\":\"#E5ECF6\",\"gridcolor\":\"white\",\"linecolor\":\"white\",\"showbackground\":true,\"ticks\":\"\",\"zerolinecolor\":\"white\",\"gridwidth\":2},\"yaxis\":{\"backgroundcolor\":\"#E5ECF6\",\"gridcolor\":\"white\",\"linecolor\":\"white\",\"showbackground\":true,\"ticks\":\"\",\"zerolinecolor\":\"white\",\"gridwidth\":2},\"zaxis\":{\"backgroundcolor\":\"#E5ECF6\",\"gridcolor\":\"white\",\"linecolor\":\"white\",\"showbackground\":true,\"ticks\":\"\",\"zerolinecolor\":\"white\",\"gridwidth\":2}},\"shapedefaults\":{\"line\":{\"color\":\"#2a3f5f\"}},\"annotationdefaults\":{\"arrowcolor\":\"#2a3f5f\",\"arrowhead\":0,\"arrowwidth\":1},\"geo\":{\"bgcolor\":\"white\",\"landcolor\":\"#E5ECF6\",\"subunitcolor\":\"white\",\"showland\":true,\"showlakes\":true,\"lakecolor\":\"white\"},\"title\":{\"x\":0.05},\"mapbox\":{\"style\":\"light\"}}},\"height\":1000,\"polar\":{\"angularaxis\":{\"direction\":\"counterclockwise\",\"rotation\":-90,\"tickmode\":\"array\",\"tickvals\":[30.491803278688526,59.01639344262295,89.46721311475409,118.97540983606557,149.46721311475412,178.97540983606558,209.46721311475412,239.95901639344262,269.4672131147541,299.9590163934426,329.5081967213115,0.0]}}},                        {\"responsive\": true}                    ).then(function(){\n",
       "                            \n",
       "var gd = document.getElementById('bdcc449c-8302-4b82-977a-723ef00deeca');\n",
       "var x = new MutationObserver(function (mutations, observer) {{\n",
       "        var display = window.getComputedStyle(gd).display;\n",
       "        if (!display || display === 'none') {{\n",
       "            console.log([gd, 'removed!']);\n",
       "            Plotly.purge(gd);\n",
       "            observer.disconnect();\n",
       "        }}\n",
       "}});\n",
       "\n",
       "// Listen for the removal of the full notebook cells\n",
       "var notebookContainer = gd.closest('#notebook-container');\n",
       "if (notebookContainer) {{\n",
       "    x.observe(notebookContainer, {childList: true});\n",
       "}}\n",
       "\n",
       "// Listen for the clearing of the current output cell\n",
       "var outputEl = gd.closest('.output');\n",
       "if (outputEl) {{\n",
       "    x.observe(outputEl, {childList: true});\n",
       "}}\n",
       "\n",
       "                        })                };                });            </script>        </div>"
      ]
     },
     "metadata": {},
     "output_type": "display_data"
    }
   ],
   "source": [
    "t.marker.color=\"red\"\n",
    "fig.show()"
   ]
  },
  {
   "cell_type": "code",
   "execution_count": null,
   "id": "bf6f1510-fa2a-46c9-9e36-676011e5bc1a",
   "metadata": {},
   "outputs": [],
   "source": []
  },
  {
   "cell_type": "code",
   "execution_count": null,
   "id": "8a8467cc-c455-4042-8b0c-627f5015ab9d",
   "metadata": {},
   "outputs": [],
   "source": [
    "year = y24 = CalendarElement(year=2024)\n",
    "\n",
    "eve = gcal.get_events(y24.start.datetime(), y24.stop.datetime(), single_events=True)\n",
    "eve = [model.EventWrap(ev) for ev in eve if (ev.end - ev.start) / timedelta(days=1) <=1]\n",
    "\n",
    "def make_point_trace(events, d_to_th):\n",
    "    \n",
    "    r = []\n",
    "    theta = []\n",
    "    text = []\n",
    "    for eve in events:\n",
    "        r.append(.5)\n",
    "        theta.append(model.to_theta(eve.mid)),\n",
    "        #theta.append(eve.mid)\n",
    "        text.append(\" \".join((str(eve.mid), eve.summary)))\n",
    "        \n",
    "    t = go.Scatterpolar(r=r, theta=theta, mode=\"markers\",\n",
    "                        hovertext=text,\n",
    "                        marker_symbol=\"diamond-open-dot\",\n",
    "                        )\n",
    "    return t\n",
    "\n",
    "t = make_point_trace(eve, 366 / 360)\n",
    "rot = -90\n",
    "fig = go.Figure(data=t)\n",
    "sector = [cc.model.to_theta(y24[4].start.datetime())+rot,\n",
    "          cc.model.to_theta(y24[7].stop.datetime())+rot]\n",
    "fig.update_layout(height=1000)\n",
    "\n",
    "fig.update_layout(dict(polar=\n",
    "                       dict(angularaxis=\n",
    "                            dict(direction=\"counterclockwise\",\n",
    "                                 \n",
    "                                 rotation=rot,\n",
    "                                 #showticklabels=False,\n",
    "                                 tickmode=\"array\", tickvals=[cc.model.to_theta(m.stop.datetime()) for m in y24],\n",
    "                                 ),\n",
    "                            sector=sector,\n",
    "                            \n",
    "                           ),\n",
    " \n",
    "                      ),\n",
    "                 ),\n",
    "\n",
    "\n",
    "fig.show()\n",
    "\n",
    "print(eve[0].mid)"
   ]
  },
  {
   "cell_type": "code",
   "execution_count": 28,
   "id": "49a69e2f-fa4d-43a3-9195-d86a6d591060",
   "metadata": {},
   "outputs": [
    {
     "data": {
      "application/vnd.plotly.v1+json": {
       "config": {
        "plotlyServerURL": "https://plot.ly"
       },
       "data": [
        {
         "hovertext": [
          "2024-06-10 12:00:00 Mom's Birthday",
          "2024-01-08 12:00:00 Nipsco Due",
          "2024-02-08 12:00:00 Nipsco Due",
          "2024-03-08 12:00:00 Nipsco Due",
          "2024-04-08 12:00:00 Nipsco Due",
          "2024-05-08 12:00:00 Nipsco Due",
          "2024-06-08 12:00:00 Nipsco Due",
          "2024-07-08 12:00:00 Nipsco Due",
          "2024-08-08 12:00:00 Nipsco Due",
          "2024-09-08 12:00:00 Nipsco Due",
          "2024-10-08 12:00:00 Nipsco Due",
          "2024-11-08 12:00:00 Nipsco Due",
          "2024-12-08 12:00:00 Nipsco Due",
          "2024-01-08 12:00:00 recycling pickup",
          "2024-01-22 12:00:00 recycling pickup",
          "2024-02-05 12:00:00 recycling pickup",
          "2024-02-19 12:00:00 recycling pickup",
          "2024-03-04 12:00:00 recycling pickup",
          "2024-03-18 12:00:00 recycling pickup",
          "2024-04-01 12:00:00 recycling pickup",
          "2024-04-15 12:00:00 recycling pickup",
          "2024-04-29 12:00:00 recycling pickup",
          "2024-05-13 12:00:00 recycling pickup",
          "2024-05-27 12:00:00 recycling pickup",
          "2024-06-10 12:00:00 recycling pickup",
          "2024-06-24 12:00:00 recycling pickup",
          "2024-07-08 12:00:00 recycling pickup",
          "2024-07-22 12:00:00 recycling pickup",
          "2024-08-05 12:00:00 recycling pickup",
          "2024-08-19 12:00:00 recycling pickup",
          "2024-09-02 12:00:00 recycling pickup",
          "2024-09-16 12:00:00 recycling pickup",
          "2024-09-30 12:00:00 recycling pickup",
          "2024-10-14 12:00:00 recycling pickup",
          "2024-10-28 12:00:00 recycling pickup",
          "2024-11-11 12:00:00 recycling pickup",
          "2024-11-25 12:00:00 recycling pickup",
          "2024-12-09 12:00:00 recycling pickup",
          "2024-12-23 12:00:00 recycling pickup",
          "2024-05-07 10:30:00-04:00 Dentist",
          "2024-10-29 16:30:00-04:00 Dermatology",
          "2024-01-13 12:00:00-05:00 Robby meeting",
          "2024-01-04 16:30:00-05:00 Therapy",
          "2024-01-18 14:30:00-05:00 Therapy",
          "2024-01-09 18:30:00-05:00 Reservation at Jesús Latin Grill",
          "2024-01-12 11:52:30-05:00 PT",
          "2024-01-19 15:00:00-05:00 physio appointment",
          "2024-01-30 16:30:00-05:00 therapy",
          "2024-01-23 17:30:00-05:00 PT",
          "2024-01-22 16:00:00-05:00 Eye appt ent",
          "2024-01-24 12:30:00-05:00 Lunch",
          "2024-01-29 15:00:00-05:00 PT",
          "2024-02-27 13:00:00-05:00 PT",
          "2024-03-05 11:15:00-05:00 Physical Therapy",
          "2024-03-11 11:00:00-04:00 physical therapy",
          "2024-02-13 16:30:00-05:00 therapy",
          "2024-02-14 12:00:00 Finish Chapter 1",
          "2024-02-09 14:15:00-05:00 haircut",
          "2024-02-19 11:54:00-05:00 Flight# UA5309 from SBN -> ORD\n\t (1 hour and 9 mins.)  Layover of 1 hour and 21 mins.  Flight# 2617 from ORD -> BOS\n\t (2 hours and 18 mins.)",
          "2024-02-21 20:06:00-05:00 Flight# DL2061 from BOS -> DTW\n\t (2 hours and 33 mins.)  Layover of 1 hour and 2 mins.  Flight# 3751 from DTW -> SBN\n\t (1 hour and 7 mins.)",
          "2024-02-29 10:30:00-05:00 Furnace CHeckup.",
          "2024-02-24 11:15:00-05:00 Robby meeting",
          "2024-02-19 13:09:00-05:00 Flight to Boston (UA 2617)",
          "2024-02-19 10:04:30-05:00 Flight to Chicago (UA 5309)",
          "2024-03-30 11:45:00-04:00 Meet with Robby",
          "2024-03-11 16:30:00-04:00 therapy",
          "2024-04-16 11:07:30-04:00 pt",
          "2024-04-23 11:07:30-04:00 pt",
          "2024-04-30 11:07:30-04:00 pt",
          "2024-03-21 12:00:00 RFP Final Draft Due",
          "2024-03-13 14:35:00-04:00 Dune 2",
          "2024-03-25 16:30:00-04:00 therapy",
          "2024-03-18 15:15:00-04:00 haircyt",
          "2024-04-12 16:30:00-04:00 therapy",
          "2024-04-27 11:15:00-04:00 Robby Meeting",
          "2024-04-29 13:30:00-04:00 Jury Duty",
          "2024-04-25 16:20:00-04:00 Foot appointment",
          "2024-04-24 16:30:00-04:00 therapy",
          "2024-05-06 13:45:00-04:00 CFSB ID Monthly Education Call",
          "2024-06-03 13:45:00-04:00 CFSB ID Monthly Education Call",
          "2024-07-01 13:45:00-04:00 CFSB ID Monthly Education Call",
          "2024-08-05 13:45:00-04:00 CFSB ID Monthly Education Call",
          "2024-06-05 09:45:00-04:00 PHone appointee doctor",
          "2024-05-07 17:30:00-04:00 Therapy",
          "2024-05-09 11:00:00-04:00 foot doctor",
          "2024-05-28 18:00:00-04:00 robbykeeting",
          "2024-04-27 18:45:00-04:00 Reservation at Woochi Japanese Fusion & Bar",
          "2024-04-30 13:30:00-04:00 Jury Duty",
          "2024-05-01 13:30:00-04:00 Jury Duty",
          "2024-05-02 13:30:00-04:00 Jury Duty",
          "2024-05-07 16:00:00-04:00 PT Appointment",
          "2024-05-17 13:07:30-04:00 PT",
          "2024-05-23 09:30:00-04:00 PT",
          "2024-11-12 10:30:00-05:00 dentist",
          "2024-05-09 14:07:30-04:00 hIRCUT",
          "2024-05-23 14:30:00-04:00 Therapy",
          "2024-05-10 10:00:00-04:00 Mishawaka Door, LLC",
          "2024-05-24 11:30:00-04:00 Graage door fix",
          "2024-06-09 13:00:00-04:00 CFSB potluck"
         ],
         "marker": {
          "symbol": "diamond-open-dot"
         },
         "mode": "markers",
         "r": [
          0.5,
          0.5,
          0.5,
          0.5,
          0.5,
          0.5,
          0.5,
          0.5,
          0.5,
          0.5,
          0.5,
          0.5,
          0.5,
          0.5,
          0.5,
          0.5,
          0.5,
          0.5,
          0.5,
          0.5,
          0.5,
          0.5,
          0.5,
          0.5,
          0.5,
          0.5,
          0.5,
          0.5,
          0.5,
          0.5,
          0.5,
          0.5,
          0.5,
          0.5,
          0.5,
          0.5,
          0.5,
          0.5,
          0.5,
          0.5,
          0.5,
          0.5,
          0.5,
          0.5,
          0.5,
          0.5,
          0.5,
          0.5,
          0.5,
          0.5,
          0.5,
          0.5,
          0.5,
          0.5,
          0.5,
          0.5,
          0.5,
          0.5,
          0.5,
          0.5,
          0.5,
          0.5,
          0.5,
          0.5,
          0.5,
          0.5,
          0.5,
          0.5,
          0.5,
          0.5,
          0.5,
          0.5,
          0.5,
          0.5,
          0.5,
          0.5,
          0.5,
          0.5,
          0.5,
          0.5,
          0.5,
          0.5,
          0.5,
          0.5,
          0.5,
          0.5,
          0.5,
          0.5,
          0.5,
          0.5,
          0.5,
          0.5,
          0.5,
          0.5,
          0.5,
          0.5,
          0.5,
          0.5,
          0.5
         ],
         "theta": [
          158.81147540983608,
          7.377049180327869,
          37.868852459016395,
          66.39344262295081,
          96.84426229508196,
          126.35245901639345,
          156.84426229508196,
          186.35245901639345,
          216.84426229508196,
          247.3360655737705,
          276.84426229508193,
          307.37704918032784,
          336.88524590163934,
          7.377049180327869,
          21.147540983606557,
          34.91803278688525,
          48.68852459016394,
          62.459016393442624,
          76.18852459016392,
          89.95901639344261,
          103.7295081967213,
          117.5,
          131.2704918032787,
          145.04098360655738,
          158.81147540983608,
          172.58196721311475,
          186.35245901639345,
          200.12295081967213,
          213.89344262295083,
          227.6639344262295,
          241.4344262295082,
          255.20491803278685,
          268.9754098360655,
          282.74590163934425,
          296.5163934426229,
          310.327868852459,
          324.0983606557377,
          337.8688524590164,
          351.6393442622951,
          125.30737704918032,
          297.6844262295082,
          12.295081967213115,
          3.6270491803278686,
          17.315573770491802,
          8.62704918032787,
          11.306352459016393,
          18.31967213114754,
          29.200819672131146,
          22.35655737704918,
          21.311475409836067,
          23.135245901639344,
          28.15573770491803,
          56.5983606557377,
          63.41188524590164,
          69.26229508196721,
          42.971311475409834,
          43.77049180327869,
          38.94467213114754,
          48.68442622950819,
          50.98770491803278,
          58.463114754098356,
          53.575819672131146,
          48.73565573770492,
          48.60963114754099,
          87.98155737704919,
          69.48770491803278,
          104.67725409836065,
          111.5625,
          118.44774590163934,
          79.13934426229508,
          71.37636612021858,
          83.25819672131146,
          76.32172131147541,
          100.96311475409836,
          115.50204918032786,
          117.56147540983606,
          113.7431693989071,
          112.76639344262294,
          124.45696721311475,
          151.99795081967213,
          179.5389344262295,
          213.96516393442622,
          153.80122950819674,
          125.59426229508196,
          127.29508196721311,
          146.2704918032787,
          115.80942622950819,
          118.54508196721311,
          119.52868852459015,
          120.51229508196721,
          125.5327868852459,
          135.25102459016395,
          141.00409836065572,
          311.25,
          127.42315573770492,
          141.20901639344262,
          128.2377049180328,
          142.06967213114754,
          157.86885245901638
         ],
         "type": "scatterpolar"
        },
        {
         "base": [
          0.8,
          0.8,
          0.8,
          0.8,
          0.8
         ],
         "r": [
          0.1,
          0.1,
          0.1,
          0.1,
          0.1
         ],
         "theta": [
          118.97540983606557,
          149.46721311475412,
          178.97540983606558,
          209.46721311475412,
          239.95901639344262
         ],
         "type": "barpolar",
         "width": [
          30.5,
          31.516666666666666,
          30.5,
          31.516666666666666,
          31.516666666666666
         ]
        }
       ],
       "layout": {
        "autosize": true,
        "polar": {
         "angularaxis": {
          "direction": "counterclockwise",
          "rotation": -90,
          "tickmode": "array",
          "tickvals": [
           30.491803278688526,
           59.01639344262295,
           89.46721311475409,
           118.97540983606557,
           149.46721311475412,
           178.97540983606558,
           209.46721311475412,
           239.95901639344262,
           269.4672131147541,
           299.9590163934426,
           329.5081967213115,
           0
          ],
          "type": "linear"
         },
         "radialaxis": {
          "autorange": true,
          "range": [
           0,
           0.9473684210526316
          ],
          "type": "linear"
         },
         "sector": [
          28.975409836065566,
          149.95901639344262
         ]
        },
        "template": {
         "data": {
          "bar": [
           {
            "error_x": {
             "color": "#2a3f5f"
            },
            "error_y": {
             "color": "#2a3f5f"
            },
            "marker": {
             "line": {
              "color": "#E5ECF6",
              "width": 0.5
             },
             "pattern": {
              "fillmode": "overlay",
              "size": 10,
              "solidity": 0.2
             }
            },
            "type": "bar"
           }
          ],
          "barpolar": [
           {
            "marker": {
             "line": {
              "color": "#E5ECF6",
              "width": 0.5
             },
             "pattern": {
              "fillmode": "overlay",
              "size": 10,
              "solidity": 0.2
             }
            },
            "type": "barpolar"
           }
          ],
          "carpet": [
           {
            "aaxis": {
             "endlinecolor": "#2a3f5f",
             "gridcolor": "white",
             "linecolor": "white",
             "minorgridcolor": "white",
             "startlinecolor": "#2a3f5f"
            },
            "baxis": {
             "endlinecolor": "#2a3f5f",
             "gridcolor": "white",
             "linecolor": "white",
             "minorgridcolor": "white",
             "startlinecolor": "#2a3f5f"
            },
            "type": "carpet"
           }
          ],
          "choropleth": [
           {
            "colorbar": {
             "outlinewidth": 0,
             "ticks": ""
            },
            "type": "choropleth"
           }
          ],
          "contour": [
           {
            "colorbar": {
             "outlinewidth": 0,
             "ticks": ""
            },
            "colorscale": [
             [
              0,
              "#0d0887"
             ],
             [
              0.1111111111111111,
              "#46039f"
             ],
             [
              0.2222222222222222,
              "#7201a8"
             ],
             [
              0.3333333333333333,
              "#9c179e"
             ],
             [
              0.4444444444444444,
              "#bd3786"
             ],
             [
              0.5555555555555556,
              "#d8576b"
             ],
             [
              0.6666666666666666,
              "#ed7953"
             ],
             [
              0.7777777777777778,
              "#fb9f3a"
             ],
             [
              0.8888888888888888,
              "#fdca26"
             ],
             [
              1,
              "#f0f921"
             ]
            ],
            "type": "contour"
           }
          ],
          "contourcarpet": [
           {
            "colorbar": {
             "outlinewidth": 0,
             "ticks": ""
            },
            "type": "contourcarpet"
           }
          ],
          "heatmap": [
           {
            "colorbar": {
             "outlinewidth": 0,
             "ticks": ""
            },
            "colorscale": [
             [
              0,
              "#0d0887"
             ],
             [
              0.1111111111111111,
              "#46039f"
             ],
             [
              0.2222222222222222,
              "#7201a8"
             ],
             [
              0.3333333333333333,
              "#9c179e"
             ],
             [
              0.4444444444444444,
              "#bd3786"
             ],
             [
              0.5555555555555556,
              "#d8576b"
             ],
             [
              0.6666666666666666,
              "#ed7953"
             ],
             [
              0.7777777777777778,
              "#fb9f3a"
             ],
             [
              0.8888888888888888,
              "#fdca26"
             ],
             [
              1,
              "#f0f921"
             ]
            ],
            "type": "heatmap"
           }
          ],
          "heatmapgl": [
           {
            "colorbar": {
             "outlinewidth": 0,
             "ticks": ""
            },
            "colorscale": [
             [
              0,
              "#0d0887"
             ],
             [
              0.1111111111111111,
              "#46039f"
             ],
             [
              0.2222222222222222,
              "#7201a8"
             ],
             [
              0.3333333333333333,
              "#9c179e"
             ],
             [
              0.4444444444444444,
              "#bd3786"
             ],
             [
              0.5555555555555556,
              "#d8576b"
             ],
             [
              0.6666666666666666,
              "#ed7953"
             ],
             [
              0.7777777777777778,
              "#fb9f3a"
             ],
             [
              0.8888888888888888,
              "#fdca26"
             ],
             [
              1,
              "#f0f921"
             ]
            ],
            "type": "heatmapgl"
           }
          ],
          "histogram": [
           {
            "marker": {
             "pattern": {
              "fillmode": "overlay",
              "size": 10,
              "solidity": 0.2
             }
            },
            "type": "histogram"
           }
          ],
          "histogram2d": [
           {
            "colorbar": {
             "outlinewidth": 0,
             "ticks": ""
            },
            "colorscale": [
             [
              0,
              "#0d0887"
             ],
             [
              0.1111111111111111,
              "#46039f"
             ],
             [
              0.2222222222222222,
              "#7201a8"
             ],
             [
              0.3333333333333333,
              "#9c179e"
             ],
             [
              0.4444444444444444,
              "#bd3786"
             ],
             [
              0.5555555555555556,
              "#d8576b"
             ],
             [
              0.6666666666666666,
              "#ed7953"
             ],
             [
              0.7777777777777778,
              "#fb9f3a"
             ],
             [
              0.8888888888888888,
              "#fdca26"
             ],
             [
              1,
              "#f0f921"
             ]
            ],
            "type": "histogram2d"
           }
          ],
          "histogram2dcontour": [
           {
            "colorbar": {
             "outlinewidth": 0,
             "ticks": ""
            },
            "colorscale": [
             [
              0,
              "#0d0887"
             ],
             [
              0.1111111111111111,
              "#46039f"
             ],
             [
              0.2222222222222222,
              "#7201a8"
             ],
             [
              0.3333333333333333,
              "#9c179e"
             ],
             [
              0.4444444444444444,
              "#bd3786"
             ],
             [
              0.5555555555555556,
              "#d8576b"
             ],
             [
              0.6666666666666666,
              "#ed7953"
             ],
             [
              0.7777777777777778,
              "#fb9f3a"
             ],
             [
              0.8888888888888888,
              "#fdca26"
             ],
             [
              1,
              "#f0f921"
             ]
            ],
            "type": "histogram2dcontour"
           }
          ],
          "mesh3d": [
           {
            "colorbar": {
             "outlinewidth": 0,
             "ticks": ""
            },
            "type": "mesh3d"
           }
          ],
          "parcoords": [
           {
            "line": {
             "colorbar": {
              "outlinewidth": 0,
              "ticks": ""
             }
            },
            "type": "parcoords"
           }
          ],
          "pie": [
           {
            "automargin": true,
            "type": "pie"
           }
          ],
          "scatter": [
           {
            "fillpattern": {
             "fillmode": "overlay",
             "size": 10,
             "solidity": 0.2
            },
            "type": "scatter"
           }
          ],
          "scatter3d": [
           {
            "line": {
             "colorbar": {
              "outlinewidth": 0,
              "ticks": ""
             }
            },
            "marker": {
             "colorbar": {
              "outlinewidth": 0,
              "ticks": ""
             }
            },
            "type": "scatter3d"
           }
          ],
          "scattercarpet": [
           {
            "marker": {
             "colorbar": {
              "outlinewidth": 0,
              "ticks": ""
             }
            },
            "type": "scattercarpet"
           }
          ],
          "scattergeo": [
           {
            "marker": {
             "colorbar": {
              "outlinewidth": 0,
              "ticks": ""
             }
            },
            "type": "scattergeo"
           }
          ],
          "scattergl": [
           {
            "marker": {
             "colorbar": {
              "outlinewidth": 0,
              "ticks": ""
             }
            },
            "type": "scattergl"
           }
          ],
          "scattermapbox": [
           {
            "marker": {
             "colorbar": {
              "outlinewidth": 0,
              "ticks": ""
             }
            },
            "type": "scattermapbox"
           }
          ],
          "scatterpolar": [
           {
            "marker": {
             "colorbar": {
              "outlinewidth": 0,
              "ticks": ""
             }
            },
            "type": "scatterpolar"
           }
          ],
          "scatterpolargl": [
           {
            "marker": {
             "colorbar": {
              "outlinewidth": 0,
              "ticks": ""
             }
            },
            "type": "scatterpolargl"
           }
          ],
          "scatterternary": [
           {
            "marker": {
             "colorbar": {
              "outlinewidth": 0,
              "ticks": ""
             }
            },
            "type": "scatterternary"
           }
          ],
          "surface": [
           {
            "colorbar": {
             "outlinewidth": 0,
             "ticks": ""
            },
            "colorscale": [
             [
              0,
              "#0d0887"
             ],
             [
              0.1111111111111111,
              "#46039f"
             ],
             [
              0.2222222222222222,
              "#7201a8"
             ],
             [
              0.3333333333333333,
              "#9c179e"
             ],
             [
              0.4444444444444444,
              "#bd3786"
             ],
             [
              0.5555555555555556,
              "#d8576b"
             ],
             [
              0.6666666666666666,
              "#ed7953"
             ],
             [
              0.7777777777777778,
              "#fb9f3a"
             ],
             [
              0.8888888888888888,
              "#fdca26"
             ],
             [
              1,
              "#f0f921"
             ]
            ],
            "type": "surface"
           }
          ],
          "table": [
           {
            "cells": {
             "fill": {
              "color": "#EBF0F8"
             },
             "line": {
              "color": "white"
             }
            },
            "header": {
             "fill": {
              "color": "#C8D4E3"
             },
             "line": {
              "color": "white"
             }
            },
            "type": "table"
           }
          ]
         },
         "layout": {
          "annotationdefaults": {
           "arrowcolor": "#2a3f5f",
           "arrowhead": 0,
           "arrowwidth": 1
          },
          "autotypenumbers": "strict",
          "coloraxis": {
           "colorbar": {
            "outlinewidth": 0,
            "ticks": ""
           }
          },
          "colorscale": {
           "diverging": [
            [
             0,
             "#8e0152"
            ],
            [
             0.1,
             "#c51b7d"
            ],
            [
             0.2,
             "#de77ae"
            ],
            [
             0.3,
             "#f1b6da"
            ],
            [
             0.4,
             "#fde0ef"
            ],
            [
             0.5,
             "#f7f7f7"
            ],
            [
             0.6,
             "#e6f5d0"
            ],
            [
             0.7,
             "#b8e186"
            ],
            [
             0.8,
             "#7fbc41"
            ],
            [
             0.9,
             "#4d9221"
            ],
            [
             1,
             "#276419"
            ]
           ],
           "sequential": [
            [
             0,
             "#0d0887"
            ],
            [
             0.1111111111111111,
             "#46039f"
            ],
            [
             0.2222222222222222,
             "#7201a8"
            ],
            [
             0.3333333333333333,
             "#9c179e"
            ],
            [
             0.4444444444444444,
             "#bd3786"
            ],
            [
             0.5555555555555556,
             "#d8576b"
            ],
            [
             0.6666666666666666,
             "#ed7953"
            ],
            [
             0.7777777777777778,
             "#fb9f3a"
            ],
            [
             0.8888888888888888,
             "#fdca26"
            ],
            [
             1,
             "#f0f921"
            ]
           ],
           "sequentialminus": [
            [
             0,
             "#0d0887"
            ],
            [
             0.1111111111111111,
             "#46039f"
            ],
            [
             0.2222222222222222,
             "#7201a8"
            ],
            [
             0.3333333333333333,
             "#9c179e"
            ],
            [
             0.4444444444444444,
             "#bd3786"
            ],
            [
             0.5555555555555556,
             "#d8576b"
            ],
            [
             0.6666666666666666,
             "#ed7953"
            ],
            [
             0.7777777777777778,
             "#fb9f3a"
            ],
            [
             0.8888888888888888,
             "#fdca26"
            ],
            [
             1,
             "#f0f921"
            ]
           ]
          },
          "colorway": [
           "#636efa",
           "#EF553B",
           "#00cc96",
           "#ab63fa",
           "#FFA15A",
           "#19d3f3",
           "#FF6692",
           "#B6E880",
           "#FF97FF",
           "#FECB52"
          ],
          "font": {
           "color": "#2a3f5f"
          },
          "geo": {
           "bgcolor": "white",
           "lakecolor": "white",
           "landcolor": "#E5ECF6",
           "showlakes": true,
           "showland": true,
           "subunitcolor": "white"
          },
          "hoverlabel": {
           "align": "left"
          },
          "hovermode": "closest",
          "mapbox": {
           "style": "light"
          },
          "paper_bgcolor": "white",
          "plot_bgcolor": "#E5ECF6",
          "polar": {
           "angularaxis": {
            "gridcolor": "white",
            "linecolor": "white",
            "ticks": ""
           },
           "bgcolor": "#E5ECF6",
           "radialaxis": {
            "gridcolor": "white",
            "linecolor": "white",
            "ticks": ""
           }
          },
          "scene": {
           "xaxis": {
            "backgroundcolor": "#E5ECF6",
            "gridcolor": "white",
            "gridwidth": 2,
            "linecolor": "white",
            "showbackground": true,
            "ticks": "",
            "zerolinecolor": "white"
           },
           "yaxis": {
            "backgroundcolor": "#E5ECF6",
            "gridcolor": "white",
            "gridwidth": 2,
            "linecolor": "white",
            "showbackground": true,
            "ticks": "",
            "zerolinecolor": "white"
           },
           "zaxis": {
            "backgroundcolor": "#E5ECF6",
            "gridcolor": "white",
            "gridwidth": 2,
            "linecolor": "white",
            "showbackground": true,
            "ticks": "",
            "zerolinecolor": "white"
           }
          },
          "shapedefaults": {
           "line": {
            "color": "#2a3f5f"
           }
          },
          "ternary": {
           "aaxis": {
            "gridcolor": "white",
            "linecolor": "white",
            "ticks": ""
           },
           "baxis": {
            "gridcolor": "white",
            "linecolor": "white",
            "ticks": ""
           },
           "bgcolor": "#E5ECF6",
           "caxis": {
            "gridcolor": "white",
            "linecolor": "white",
            "ticks": ""
           }
          },
          "title": {
           "x": 0.05
          },
          "xaxis": {
           "automargin": true,
           "gridcolor": "white",
           "linecolor": "white",
           "ticks": "",
           "title": {
            "standoff": 15
           },
           "zerolinecolor": "white",
           "zerolinewidth": 2
          },
          "yaxis": {
           "automargin": true,
           "gridcolor": "white",
           "linecolor": "white",
           "ticks": "",
           "title": {
            "standoff": 15
           },
           "zerolinecolor": "white",
           "zerolinewidth": 2
          }
         }
        }
       }
      },
      "image/png": "[encoded data removed]",
      "text/html": [
       "<div>                            <div id=\"3e701686-2dc5-467a-b4fa-e88f1b7e1e50\" class=\"plotly-graph-div\" style=\"height:1000px; width:100%;\"></div>            <script type=\"text/javascript\">                require([\"plotly\"], function(Plotly) {                    window.PLOTLYENV=window.PLOTLYENV || {};                                    if (document.getElementById(\"3e701686-2dc5-467a-b4fa-e88f1b7e1e50\")) {                    Plotly.newPlot(                        \"3e701686-2dc5-467a-b4fa-e88f1b7e1e50\",                        [{\"hovertext\":[\"2024-06-10 12:00:00 Mom's Birthday\",\"2024-01-08 12:00:00 Nipsco Due\",\"2024-02-08 12:00:00 Nipsco Due\",\"2024-03-08 12:00:00 Nipsco Due\",\"2024-04-08 12:00:00 Nipsco Due\",\"2024-05-08 12:00:00 Nipsco Due\",\"2024-06-08 12:00:00 Nipsco Due\",\"2024-07-08 12:00:00 Nipsco Due\",\"2024-08-08 12:00:00 Nipsco Due\",\"2024-09-08 12:00:00 Nipsco Due\",\"2024-10-08 12:00:00 Nipsco Due\",\"2024-11-08 12:00:00 Nipsco Due\",\"2024-12-08 12:00:00 Nipsco Due\",\"2024-01-08 12:00:00 recycling pickup\",\"2024-01-22 12:00:00 recycling pickup\",\"2024-02-05 12:00:00 recycling pickup\",\"2024-02-19 12:00:00 recycling pickup\",\"2024-03-04 12:00:00 recycling pickup\",\"2024-03-18 12:00:00 recycling pickup\",\"2024-04-01 12:00:00 recycling pickup\",\"2024-04-15 12:00:00 recycling pickup\",\"2024-04-29 12:00:00 recycling pickup\",\"2024-05-13 12:00:00 recycling pickup\",\"2024-05-27 12:00:00 recycling pickup\",\"2024-06-10 12:00:00 recycling pickup\",\"2024-06-24 12:00:00 recycling pickup\",\"2024-07-08 12:00:00 recycling pickup\",\"2024-07-22 12:00:00 recycling pickup\",\"2024-08-05 12:00:00 recycling pickup\",\"2024-08-19 12:00:00 recycling pickup\",\"2024-09-02 12:00:00 recycling pickup\",\"2024-09-16 12:00:00 recycling pickup\",\"2024-09-30 12:00:00 recycling pickup\",\"2024-10-14 12:00:00 recycling pickup\",\"2024-10-28 12:00:00 recycling pickup\",\"2024-11-11 12:00:00 recycling pickup\",\"2024-11-25 12:00:00 recycling pickup\",\"2024-12-09 12:00:00 recycling pickup\",\"2024-12-23 12:00:00 recycling pickup\",\"2024-05-07 10:30:00-04:00 Dentist\",\"2024-10-29 16:30:00-04:00 Dermatology\",\"2024-01-13 12:00:00-05:00 Robby meeting\",\"2024-01-04 16:30:00-05:00 Therapy\",\"2024-01-18 14:30:00-05:00 Therapy\",\"2024-01-09 18:30:00-05:00 Reservation at Jes\\u00fas Latin Grill\",\"2024-01-12 11:52:30-05:00 PT\",\"2024-01-19 15:00:00-05:00 physio appointment\",\"2024-01-30 16:30:00-05:00 therapy\",\"2024-01-23 17:30:00-05:00 PT\",\"2024-01-22 16:00:00-05:00 Eye appt ent\",\"2024-01-24 12:30:00-05:00 Lunch\",\"2024-01-29 15:00:00-05:00 PT\",\"2024-02-27 13:00:00-05:00 PT\",\"2024-03-05 11:15:00-05:00 Physical Therapy\",\"2024-03-11 11:00:00-04:00 physical therapy\",\"2024-02-13 16:30:00-05:00 therapy\",\"2024-02-14 12:00:00 Finish Chapter 1\",\"2024-02-09 14:15:00-05:00 haircut\",\"2024-02-19 11:54:00-05:00 Flight# UA5309 from SBN -\\u003e ORD\\n\\t (1 hour and 9 mins.)  Layover of 1 hour and 21 mins.  Flight# 2617 from ORD -\\u003e BOS\\n\\t (2 hours and 18 mins.)\",\"2024-02-21 20:06:00-05:00 Flight# DL2061 from BOS -\\u003e DTW\\n\\t (2 hours and 33 mins.)  Layover of 1 hour and 2 mins.  Flight# 3751 from DTW -\\u003e SBN\\n\\t (1 hour and 7 mins.)\",\"2024-02-29 10:30:00-05:00 Furnace CHeckup.\",\"2024-02-24 11:15:00-05:00 Robby meeting\",\"2024-02-19 13:09:00-05:00 Flight to Boston (UA 2617)\",\"2024-02-19 10:04:30-05:00 Flight to Chicago (UA 5309)\",\"2024-03-30 11:45:00-04:00 Meet with Robby\",\"2024-03-11 16:30:00-04:00 therapy\",\"2024-04-16 11:07:30-04:00 pt\",\"2024-04-23 11:07:30-04:00 pt\",\"2024-04-30 11:07:30-04:00 pt\",\"2024-03-21 12:00:00 RFP Final Draft Due\",\"2024-03-13 14:35:00-04:00 Dune 2\",\"2024-03-25 16:30:00-04:00 therapy\",\"2024-03-18 15:15:00-04:00 haircyt\",\"2024-04-12 16:30:00-04:00 therapy\",\"2024-04-27 11:15:00-04:00 Robby Meeting\",\"2024-04-29 13:30:00-04:00 Jury Duty\",\"2024-04-25 16:20:00-04:00 Foot appointment\",\"2024-04-24 16:30:00-04:00 therapy\",\"2024-05-06 13:45:00-04:00 CFSB ID Monthly Education Call\",\"2024-06-03 13:45:00-04:00 CFSB ID Monthly Education Call\",\"2024-07-01 13:45:00-04:00 CFSB ID Monthly Education Call\",\"2024-08-05 13:45:00-04:00 CFSB ID Monthly Education Call\",\"2024-06-05 09:45:00-04:00 PHone appointee doctor\",\"2024-05-07 17:30:00-04:00 Therapy\",\"2024-05-09 11:00:00-04:00 foot doctor\",\"2024-05-28 18:00:00-04:00 robbykeeting\",\"2024-04-27 18:45:00-04:00 Reservation at Woochi Japanese Fusion & Bar\",\"2024-04-30 13:30:00-04:00 Jury Duty\",\"2024-05-01 13:30:00-04:00 Jury Duty\",\"2024-05-02 13:30:00-04:00 Jury Duty\",\"2024-05-07 16:00:00-04:00 PT Appointment\",\"2024-05-17 13:07:30-04:00 PT\",\"2024-05-23 09:30:00-04:00 PT\",\"2024-11-12 10:30:00-05:00 dentist\",\"2024-05-09 14:07:30-04:00 hIRCUT\",\"2024-05-23 14:30:00-04:00 Therapy\",\"2024-05-10 10:00:00-04:00 Mishawaka Door, LLC\",\"2024-05-24 11:30:00-04:00 Graage door fix\",\"2024-06-09 13:00:00-04:00 CFSB potluck\"],\"marker\":{\"symbol\":\"diamond-open-dot\"},\"mode\":\"markers\",\"r\":[0.5,0.5,0.5,0.5,0.5,0.5,0.5,0.5,0.5,0.5,0.5,0.5,0.5,0.5,0.5,0.5,0.5,0.5,0.5,0.5,0.5,0.5,0.5,0.5,0.5,0.5,0.5,0.5,0.5,0.5,0.5,0.5,0.5,0.5,0.5,0.5,0.5,0.5,0.5,0.5,0.5,0.5,0.5,0.5,0.5,0.5,0.5,0.5,0.5,0.5,0.5,0.5,0.5,0.5,0.5,0.5,0.5,0.5,0.5,0.5,0.5,0.5,0.5,0.5,0.5,0.5,0.5,0.5,0.5,0.5,0.5,0.5,0.5,0.5,0.5,0.5,0.5,0.5,0.5,0.5,0.5,0.5,0.5,0.5,0.5,0.5,0.5,0.5,0.5,0.5,0.5,0.5,0.5,0.5,0.5,0.5,0.5,0.5,0.5],\"theta\":[158.81147540983608,7.377049180327869,37.868852459016395,66.39344262295081,96.84426229508196,126.35245901639345,156.84426229508196,186.35245901639345,216.84426229508196,247.3360655737705,276.84426229508193,307.37704918032784,336.88524590163934,7.377049180327869,21.147540983606557,34.91803278688525,48.68852459016394,62.459016393442624,76.18852459016392,89.95901639344261,103.7295081967213,117.5,131.2704918032787,145.04098360655738,158.81147540983608,172.58196721311475,186.35245901639345,200.12295081967213,213.89344262295083,227.6639344262295,241.4344262295082,255.20491803278685,268.9754098360655,282.74590163934425,296.5163934426229,310.327868852459,324.0983606557377,337.8688524590164,351.6393442622951,125.30737704918032,297.6844262295082,12.295081967213115,3.6270491803278686,17.315573770491802,8.62704918032787,11.306352459016393,18.31967213114754,29.200819672131146,22.35655737704918,21.311475409836067,23.135245901639344,28.15573770491803,56.5983606557377,63.41188524590164,69.26229508196721,42.971311475409834,43.77049180327869,38.94467213114754,48.68442622950819,50.98770491803278,58.463114754098356,53.575819672131146,48.73565573770492,48.60963114754099,87.98155737704919,69.48770491803278,104.67725409836065,111.5625,118.44774590163934,79.13934426229508,71.37636612021858,83.25819672131146,76.32172131147541,100.96311475409836,115.50204918032786,117.56147540983606,113.7431693989071,112.76639344262294,124.45696721311475,151.99795081967213,179.5389344262295,213.96516393442622,153.80122950819674,125.59426229508196,127.29508196721311,146.2704918032787,115.80942622950819,118.54508196721311,119.52868852459015,120.51229508196721,125.5327868852459,135.25102459016395,141.00409836065572,311.25,127.42315573770492,141.20901639344262,128.2377049180328,142.06967213114754,157.86885245901638],\"type\":\"scatterpolar\"},{\"base\":[0.8,0.8,0.8,0.8,0.8],\"r\":[0.1,0.1,0.1,0.1,0.1],\"theta\":[118.97540983606557,149.46721311475412,178.97540983606558,209.46721311475412,239.95901639344262],\"width\":[30.5,31.516666666666666,30.5,31.516666666666666,31.516666666666666],\"type\":\"barpolar\"}],                        {\"template\":{\"data\":{\"histogram2dcontour\":[{\"type\":\"histogram2dcontour\",\"colorbar\":{\"outlinewidth\":0,\"ticks\":\"\"},\"colorscale\":[[0.0,\"#0d0887\"],[0.1111111111111111,\"#46039f\"],[0.2222222222222222,\"#7201a8\"],[0.3333333333333333,\"#9c179e\"],[0.4444444444444444,\"#bd3786\"],[0.5555555555555556,\"#d8576b\"],[0.6666666666666666,\"#ed7953\"],[0.7777777777777778,\"#fb9f3a\"],[0.8888888888888888,\"#fdca26\"],[1.0,\"#f0f921\"]]}],\"choropleth\":[{\"type\":\"choropleth\",\"colorbar\":{\"outlinewidth\":0,\"ticks\":\"\"}}],\"histogram2d\":[{\"type\":\"histogram2d\",\"colorbar\":{\"outlinewidth\":0,\"ticks\":\"\"},\"colorscale\":[[0.0,\"#0d0887\"],[0.1111111111111111,\"#46039f\"],[0.2222222222222222,\"#7201a8\"],[0.3333333333333333,\"#9c179e\"],[0.4444444444444444,\"#bd3786\"],[0.5555555555555556,\"#d8576b\"],[0.6666666666666666,\"#ed7953\"],[0.7777777777777778,\"#fb9f3a\"],[0.8888888888888888,\"#fdca26\"],[1.0,\"#f0f921\"]]}],\"heatmap\":[{\"type\":\"heatmap\",\"colorbar\":{\"outlinewidth\":0,\"ticks\":\"\"},\"colorscale\":[[0.0,\"#0d0887\"],[0.1111111111111111,\"#46039f\"],[0.2222222222222222,\"#7201a8\"],[0.3333333333333333,\"#9c179e\"],[0.4444444444444444,\"#bd3786\"],[0.5555555555555556,\"#d8576b\"],[0.6666666666666666,\"#ed7953\"],[0.7777777777777778,\"#fb9f3a\"],[0.8888888888888888,\"#fdca26\"],[1.0,\"#f0f921\"]]}],\"heatmapgl\":[{\"type\":\"heatmapgl\",\"colorbar\":{\"outlinewidth\":0,\"ticks\":\"\"},\"colorscale\":[[0.0,\"#0d0887\"],[0.1111111111111111,\"#46039f\"],[0.2222222222222222,\"#7201a8\"],[0.3333333333333333,\"#9c179e\"],[0.4444444444444444,\"#bd3786\"],[0.5555555555555556,\"#d8576b\"],[0.6666666666666666,\"#ed7953\"],[0.7777777777777778,\"#fb9f3a\"],[0.8888888888888888,\"#fdca26\"],[1.0,\"#f0f921\"]]}],\"contourcarpet\":[{\"type\":\"contourcarpet\",\"colorbar\":{\"outlinewidth\":0,\"ticks\":\"\"}}],\"contour\":[{\"type\":\"contour\",\"colorbar\":{\"outlinewidth\":0,\"ticks\":\"\"},\"colorscale\":[[0.0,\"#0d0887\"],[0.1111111111111111,\"#46039f\"],[0.2222222222222222,\"#7201a8\"],[0.3333333333333333,\"#9c179e\"],[0.4444444444444444,\"#bd3786\"],[0.5555555555555556,\"#d8576b\"],[0.6666666666666666,\"#ed7953\"],[0.7777777777777778,\"#fb9f3a\"],[0.8888888888888888,\"#fdca26\"],[1.0,\"#f0f921\"]]}],\"surface\":[{\"type\":\"surface\",\"colorbar\":{\"outlinewidth\":0,\"ticks\":\"\"},\"colorscale\":[[0.0,\"#0d0887\"],[0.1111111111111111,\"#46039f\"],[0.2222222222222222,\"#7201a8\"],[0.3333333333333333,\"#9c179e\"],[0.4444444444444444,\"#bd3786\"],[0.5555555555555556,\"#d8576b\"],[0.6666666666666666,\"#ed7953\"],[0.7777777777777778,\"#fb9f3a\"],[0.8888888888888888,\"#fdca26\"],[1.0,\"#f0f921\"]]}],\"mesh3d\":[{\"type\":\"mesh3d\",\"colorbar\":{\"outlinewidth\":0,\"ticks\":\"\"}}],\"scatter\":[{\"fillpattern\":{\"fillmode\":\"overlay\",\"size\":10,\"solidity\":0.2},\"type\":\"scatter\"}],\"parcoords\":[{\"type\":\"parcoords\",\"line\":{\"colorbar\":{\"outlinewidth\":0,\"ticks\":\"\"}}}],\"scatterpolargl\":[{\"type\":\"scatterpolargl\",\"marker\":{\"colorbar\":{\"outlinewidth\":0,\"ticks\":\"\"}}}],\"bar\":[{\"error_x\":{\"color\":\"#2a3f5f\"},\"error_y\":{\"color\":\"#2a3f5f\"},\"marker\":{\"line\":{\"color\":\"#E5ECF6\",\"width\":0.5},\"pattern\":{\"fillmode\":\"overlay\",\"size\":10,\"solidity\":0.2}},\"type\":\"bar\"}],\"scattergeo\":[{\"type\":\"scattergeo\",\"marker\":{\"colorbar\":{\"outlinewidth\":0,\"ticks\":\"\"}}}],\"scatterpolar\":[{\"type\":\"scatterpolar\",\"marker\":{\"colorbar\":{\"outlinewidth\":0,\"ticks\":\"\"}}}],\"histogram\":[{\"marker\":{\"pattern\":{\"fillmode\":\"overlay\",\"size\":10,\"solidity\":0.2}},\"type\":\"histogram\"}],\"scattergl\":[{\"type\":\"scattergl\",\"marker\":{\"colorbar\":{\"outlinewidth\":0,\"ticks\":\"\"}}}],\"scatter3d\":[{\"type\":\"scatter3d\",\"line\":{\"colorbar\":{\"outlinewidth\":0,\"ticks\":\"\"}},\"marker\":{\"colorbar\":{\"outlinewidth\":0,\"ticks\":\"\"}}}],\"scattermapbox\":[{\"type\":\"scattermapbox\",\"marker\":{\"colorbar\":{\"outlinewidth\":0,\"ticks\":\"\"}}}],\"scatterternary\":[{\"type\":\"scatterternary\",\"marker\":{\"colorbar\":{\"outlinewidth\":0,\"ticks\":\"\"}}}],\"scattercarpet\":[{\"type\":\"scattercarpet\",\"marker\":{\"colorbar\":{\"outlinewidth\":0,\"ticks\":\"\"}}}],\"carpet\":[{\"aaxis\":{\"endlinecolor\":\"#2a3f5f\",\"gridcolor\":\"white\",\"linecolor\":\"white\",\"minorgridcolor\":\"white\",\"startlinecolor\":\"#2a3f5f\"},\"baxis\":{\"endlinecolor\":\"#2a3f5f\",\"gridcolor\":\"white\",\"linecolor\":\"white\",\"minorgridcolor\":\"white\",\"startlinecolor\":\"#2a3f5f\"},\"type\":\"carpet\"}],\"table\":[{\"cells\":{\"fill\":{\"color\":\"#EBF0F8\"},\"line\":{\"color\":\"white\"}},\"header\":{\"fill\":{\"color\":\"#C8D4E3\"},\"line\":{\"color\":\"white\"}},\"type\":\"table\"}],\"barpolar\":[{\"marker\":{\"line\":{\"color\":\"#E5ECF6\",\"width\":0.5},\"pattern\":{\"fillmode\":\"overlay\",\"size\":10,\"solidity\":0.2}},\"type\":\"barpolar\"}],\"pie\":[{\"automargin\":true,\"type\":\"pie\"}]},\"layout\":{\"autotypenumbers\":\"strict\",\"colorway\":[\"#636efa\",\"#EF553B\",\"#00cc96\",\"#ab63fa\",\"#FFA15A\",\"#19d3f3\",\"#FF6692\",\"#B6E880\",\"#FF97FF\",\"#FECB52\"],\"font\":{\"color\":\"#2a3f5f\"},\"hovermode\":\"closest\",\"hoverlabel\":{\"align\":\"left\"},\"paper_bgcolor\":\"white\",\"plot_bgcolor\":\"#E5ECF6\",\"polar\":{\"bgcolor\":\"#E5ECF6\",\"angularaxis\":{\"gridcolor\":\"white\",\"linecolor\":\"white\",\"ticks\":\"\"},\"radialaxis\":{\"gridcolor\":\"white\",\"linecolor\":\"white\",\"ticks\":\"\"}},\"ternary\":{\"bgcolor\":\"#E5ECF6\",\"aaxis\":{\"gridcolor\":\"white\",\"linecolor\":\"white\",\"ticks\":\"\"},\"baxis\":{\"gridcolor\":\"white\",\"linecolor\":\"white\",\"ticks\":\"\"},\"caxis\":{\"gridcolor\":\"white\",\"linecolor\":\"white\",\"ticks\":\"\"}},\"coloraxis\":{\"colorbar\":{\"outlinewidth\":0,\"ticks\":\"\"}},\"colorscale\":{\"sequential\":[[0.0,\"#0d0887\"],[0.1111111111111111,\"#46039f\"],[0.2222222222222222,\"#7201a8\"],[0.3333333333333333,\"#9c179e\"],[0.4444444444444444,\"#bd3786\"],[0.5555555555555556,\"#d8576b\"],[0.6666666666666666,\"#ed7953\"],[0.7777777777777778,\"#fb9f3a\"],[0.8888888888888888,\"#fdca26\"],[1.0,\"#f0f921\"]],\"sequentialminus\":[[0.0,\"#0d0887\"],[0.1111111111111111,\"#46039f\"],[0.2222222222222222,\"#7201a8\"],[0.3333333333333333,\"#9c179e\"],[0.4444444444444444,\"#bd3786\"],[0.5555555555555556,\"#d8576b\"],[0.6666666666666666,\"#ed7953\"],[0.7777777777777778,\"#fb9f3a\"],[0.8888888888888888,\"#fdca26\"],[1.0,\"#f0f921\"]],\"diverging\":[[0,\"#8e0152\"],[0.1,\"#c51b7d\"],[0.2,\"#de77ae\"],[0.3,\"#f1b6da\"],[0.4,\"#fde0ef\"],[0.5,\"#f7f7f7\"],[0.6,\"#e6f5d0\"],[0.7,\"#b8e186\"],[0.8,\"#7fbc41\"],[0.9,\"#4d9221\"],[1,\"#276419\"]]},\"xaxis\":{\"gridcolor\":\"white\",\"linecolor\":\"white\",\"ticks\":\"\",\"title\":{\"standoff\":15},\"zerolinecolor\":\"white\",\"automargin\":true,\"zerolinewidth\":2},\"yaxis\":{\"gridcolor\":\"white\",\"linecolor\":\"white\",\"ticks\":\"\",\"title\":{\"standoff\":15},\"zerolinecolor\":\"white\",\"automargin\":true,\"zerolinewidth\":2},\"scene\":{\"xaxis\":{\"backgroundcolor\":\"#E5ECF6\",\"gridcolor\":\"white\",\"linecolor\":\"white\",\"showbackground\":true,\"ticks\":\"\",\"zerolinecolor\":\"white\",\"gridwidth\":2},\"yaxis\":{\"backgroundcolor\":\"#E5ECF6\",\"gridcolor\":\"white\",\"linecolor\":\"white\",\"showbackground\":true,\"ticks\":\"\",\"zerolinecolor\":\"white\",\"gridwidth\":2},\"zaxis\":{\"backgroundcolor\":\"#E5ECF6\",\"gridcolor\":\"white\",\"linecolor\":\"white\",\"showbackground\":true,\"ticks\":\"\",\"zerolinecolor\":\"white\",\"gridwidth\":2}},\"shapedefaults\":{\"line\":{\"color\":\"#2a3f5f\"}},\"annotationdefaults\":{\"arrowcolor\":\"#2a3f5f\",\"arrowhead\":0,\"arrowwidth\":1},\"geo\":{\"bgcolor\":\"white\",\"landcolor\":\"#E5ECF6\",\"subunitcolor\":\"white\",\"showland\":true,\"showlakes\":true,\"lakecolor\":\"white\"},\"title\":{\"x\":0.05},\"mapbox\":{\"style\":\"light\"}}},\"height\":1000,\"polar\":{\"angularaxis\":{\"direction\":\"counterclockwise\",\"rotation\":-90,\"tickmode\":\"array\",\"tickvals\":[30.491803278688526,59.01639344262295,89.46721311475409,118.97540983606557,149.46721311475412,178.97540983606558,209.46721311475412,239.95901639344262,269.4672131147541,299.9590163934426,329.5081967213115,0.0]},\"sector\":[28.975409836065566,149.95901639344262]}},                        {\"responsive\": true}                    ).then(function(){\n",
       "                            \n",
       "var gd = document.getElementById('3e701686-2dc5-467a-b4fa-e88f1b7e1e50');\n",
       "var x = new MutationObserver(function (mutations, observer) {{\n",
       "        var display = window.getComputedStyle(gd).display;\n",
       "        if (!display || display === 'none') {{\n",
       "            console.log([gd, 'removed!']);\n",
       "            Plotly.purge(gd);\n",
       "            observer.disconnect();\n",
       "        }}\n",
       "}});\n",
       "\n",
       "// Listen for the removal of the full notebook cells\n",
       "var notebookContainer = gd.closest('#notebook-container');\n",
       "if (notebookContainer) {{\n",
       "    x.observe(notebookContainer, {childList: true});\n",
       "}}\n",
       "\n",
       "// Listen for the clearing of the current output cell\n",
       "var outputEl = gd.closest('.output');\n",
       "if (outputEl) {{\n",
       "    x.observe(outputEl, {childList: true});\n",
       "}}\n",
       "\n",
       "                        })                };                });            </script>        </div>"
      ]
     },
     "metadata": {},
     "output_type": "display_data"
    }
   ],
   "source": [
    "fig.add_trace(go.Barpolar(base = [.8] * len(year[3:8]),\n",
    "                          r=[.1] * len(year[3:8]),\n",
    "                          theta=[model.to_theta(m.mid) for m in year[3:8]],\n",
    "                          width=[len(m) * 366 / 360 for m in year[3:8]]))\n",
    "fig.show()"
   ]
  },
  {
   "cell_type": "code",
   "execution_count": 34,
   "id": "8003f844-da24-4152-8d83-77c220c7e82b",
   "metadata": {},
   "outputs": [],
   "source": [
    "cals = list(gcal.get_calendar_list())"
   ]
  },
  {
   "cell_type": "code",
   "execution_count": 37,
   "id": "2490cf70-b1ba-426f-b45e-d92ebbe9cffe",
   "metadata": {},
   "outputs": [
    {
     "data": {
      "text/plain": [
       "'2'"
      ]
     },
     "execution_count": 37,
     "metadata": {},
     "output_type": "execute_result"
    }
   ],
   "source": [
    "cals[0].color_id"
   ]
  },
  {
   "cell_type": "code",
   "execution_count": 18,
   "id": "29b68674-3564-4a52-9653-6afd61985695",
   "metadata": {},
   "outputs": [
    {
     "data": {
      "application/vnd.plotly.v1+json": {
       "config": {
        "plotlyServerURL": "https://plot.ly"
       },
       "data": [
        {
         "branchvalues": "total",
         "labels": [
          "2024",
          "05",
          "06",
          "07",
          "08"
         ],
         "parents": [
          "",
          "2024",
          "2024",
          "2024",
          "2024"
         ],
         "rotation": 28.97540983606558,
         "sort": false,
         "type": "sunburst",
         "values": [
          366,
          31,
          30,
          31,
          31
         ]
        }
       ],
       "layout": {
        "autosize": true,
        "margin": {
         "b": 0,
         "l": 0,
         "r": 0,
         "t": 0
        },
        "template": {
         "data": {
          "bar": [
           {
            "error_x": {
             "color": "#2a3f5f"
            },
            "error_y": {
             "color": "#2a3f5f"
            },
            "marker": {
             "line": {
              "color": "#E5ECF6",
              "width": 0.5
             },
             "pattern": {
              "fillmode": "overlay",
              "size": 10,
              "solidity": 0.2
             }
            },
            "type": "bar"
           }
          ],
          "barpolar": [
           {
            "marker": {
             "line": {
              "color": "#E5ECF6",
              "width": 0.5
             },
             "pattern": {
              "fillmode": "overlay",
              "size": 10,
              "solidity": 0.2
             }
            },
            "type": "barpolar"
           }
          ],
          "carpet": [
           {
            "aaxis": {
             "endlinecolor": "#2a3f5f",
             "gridcolor": "white",
             "linecolor": "white",
             "minorgridcolor": "white",
             "startlinecolor": "#2a3f5f"
            },
            "baxis": {
             "endlinecolor": "#2a3f5f",
             "gridcolor": "white",
             "linecolor": "white",
             "minorgridcolor": "white",
             "startlinecolor": "#2a3f5f"
            },
            "type": "carpet"
           }
          ],
          "choropleth": [
           {
            "colorbar": {
             "outlinewidth": 0,
             "ticks": ""
            },
            "type": "choropleth"
           }
          ],
          "contour": [
           {
            "colorbar": {
             "outlinewidth": 0,
             "ticks": ""
            },
            "colorscale": [
             [
              0,
              "#0d0887"
             ],
             [
              0.1111111111111111,
              "#46039f"
             ],
             [
              0.2222222222222222,
              "#7201a8"
             ],
             [
              0.3333333333333333,
              "#9c179e"
             ],
             [
              0.4444444444444444,
              "#bd3786"
             ],
             [
              0.5555555555555556,
              "#d8576b"
             ],
             [
              0.6666666666666666,
              "#ed7953"
             ],
             [
              0.7777777777777778,
              "#fb9f3a"
             ],
             [
              0.8888888888888888,
              "#fdca26"
             ],
             [
              1,
              "#f0f921"
             ]
            ],
            "type": "contour"
           }
          ],
          "contourcarpet": [
           {
            "colorbar": {
             "outlinewidth": 0,
             "ticks": ""
            },
            "type": "contourcarpet"
           }
          ],
          "heatmap": [
           {
            "colorbar": {
             "outlinewidth": 0,
             "ticks": ""
            },
            "colorscale": [
             [
              0,
              "#0d0887"
             ],
             [
              0.1111111111111111,
              "#46039f"
             ],
             [
              0.2222222222222222,
              "#7201a8"
             ],
             [
              0.3333333333333333,
              "#9c179e"
             ],
             [
              0.4444444444444444,
              "#bd3786"
             ],
             [
              0.5555555555555556,
              "#d8576b"
             ],
             [
              0.6666666666666666,
              "#ed7953"
             ],
             [
              0.7777777777777778,
              "#fb9f3a"
             ],
             [
              0.8888888888888888,
              "#fdca26"
             ],
             [
              1,
              "#f0f921"
             ]
            ],
            "type": "heatmap"
           }
          ],
          "heatmapgl": [
           {
            "colorbar": {
             "outlinewidth": 0,
             "ticks": ""
            },
            "colorscale": [
             [
              0,
              "#0d0887"
             ],
             [
              0.1111111111111111,
              "#46039f"
             ],
             [
              0.2222222222222222,
              "#7201a8"
             ],
             [
              0.3333333333333333,
              "#9c179e"
             ],
             [
              0.4444444444444444,
              "#bd3786"
             ],
             [
              0.5555555555555556,
              "#d8576b"
             ],
             [
              0.6666666666666666,
              "#ed7953"
             ],
             [
              0.7777777777777778,
              "#fb9f3a"
             ],
             [
              0.8888888888888888,
              "#fdca26"
             ],
             [
              1,
              "#f0f921"
             ]
            ],
            "type": "heatmapgl"
           }
          ],
          "histogram": [
           {
            "marker": {
             "pattern": {
              "fillmode": "overlay",
              "size": 10,
              "solidity": 0.2
             }
            },
            "type": "histogram"
           }
          ],
          "histogram2d": [
           {
            "colorbar": {
             "outlinewidth": 0,
             "ticks": ""
            },
            "colorscale": [
             [
              0,
              "#0d0887"
             ],
             [
              0.1111111111111111,
              "#46039f"
             ],
             [
              0.2222222222222222,
              "#7201a8"
             ],
             [
              0.3333333333333333,
              "#9c179e"
             ],
             [
              0.4444444444444444,
              "#bd3786"
             ],
             [
              0.5555555555555556,
              "#d8576b"
             ],
             [
              0.6666666666666666,
              "#ed7953"
             ],
             [
              0.7777777777777778,
              "#fb9f3a"
             ],
             [
              0.8888888888888888,
              "#fdca26"
             ],
             [
              1,
              "#f0f921"
             ]
            ],
            "type": "histogram2d"
           }
          ],
          "histogram2dcontour": [
           {
            "colorbar": {
             "outlinewidth": 0,
             "ticks": ""
            },
            "colorscale": [
             [
              0,
              "#0d0887"
             ],
             [
              0.1111111111111111,
              "#46039f"
             ],
             [
              0.2222222222222222,
              "#7201a8"
             ],
             [
              0.3333333333333333,
              "#9c179e"
             ],
             [
              0.4444444444444444,
              "#bd3786"
             ],
             [
              0.5555555555555556,
              "#d8576b"
             ],
             [
              0.6666666666666666,
              "#ed7953"
             ],
             [
              0.7777777777777778,
              "#fb9f3a"
             ],
             [
              0.8888888888888888,
              "#fdca26"
             ],
             [
              1,
              "#f0f921"
             ]
            ],
            "type": "histogram2dcontour"
           }
          ],
          "mesh3d": [
           {
            "colorbar": {
             "outlinewidth": 0,
             "ticks": ""
            },
            "type": "mesh3d"
           }
          ],
          "parcoords": [
           {
            "line": {
             "colorbar": {
              "outlinewidth": 0,
              "ticks": ""
             }
            },
            "type": "parcoords"
           }
          ],
          "pie": [
           {
            "automargin": true,
            "type": "pie"
           }
          ],
          "scatter": [
           {
            "fillpattern": {
             "fillmode": "overlay",
             "size": 10,
             "solidity": 0.2
            },
            "type": "scatter"
           }
          ],
          "scatter3d": [
           {
            "line": {
             "colorbar": {
              "outlinewidth": 0,
              "ticks": ""
             }
            },
            "marker": {
             "colorbar": {
              "outlinewidth": 0,
              "ticks": ""
             }
            },
            "type": "scatter3d"
           }
          ],
          "scattercarpet": [
           {
            "marker": {
             "colorbar": {
              "outlinewidth": 0,
              "ticks": ""
             }
            },
            "type": "scattercarpet"
           }
          ],
          "scattergeo": [
           {
            "marker": {
             "colorbar": {
              "outlinewidth": 0,
              "ticks": ""
             }
            },
            "type": "scattergeo"
           }
          ],
          "scattergl": [
           {
            "marker": {
             "colorbar": {
              "outlinewidth": 0,
              "ticks": ""
             }
            },
            "type": "scattergl"
           }
          ],
          "scattermapbox": [
           {
            "marker": {
             "colorbar": {
              "outlinewidth": 0,
              "ticks": ""
             }
            },
            "type": "scattermapbox"
           }
          ],
          "scatterpolar": [
           {
            "marker": {
             "colorbar": {
              "outlinewidth": 0,
              "ticks": ""
             }
            },
            "type": "scatterpolar"
           }
          ],
          "scatterpolargl": [
           {
            "marker": {
             "colorbar": {
              "outlinewidth": 0,
              "ticks": ""
             }
            },
            "type": "scatterpolargl"
           }
          ],
          "scatterternary": [
           {
            "marker": {
             "colorbar": {
              "outlinewidth": 0,
              "ticks": ""
             }
            },
            "type": "scatterternary"
           }
          ],
          "surface": [
           {
            "colorbar": {
             "outlinewidth": 0,
             "ticks": ""
            },
            "colorscale": [
             [
              0,
              "#0d0887"
             ],
             [
              0.1111111111111111,
              "#46039f"
             ],
             [
              0.2222222222222222,
              "#7201a8"
             ],
             [
              0.3333333333333333,
              "#9c179e"
             ],
             [
              0.4444444444444444,
              "#bd3786"
             ],
             [
              0.5555555555555556,
              "#d8576b"
             ],
             [
              0.6666666666666666,
              "#ed7953"
             ],
             [
              0.7777777777777778,
              "#fb9f3a"
             ],
             [
              0.8888888888888888,
              "#fdca26"
             ],
             [
              1,
              "#f0f921"
             ]
            ],
            "type": "surface"
           }
          ],
          "table": [
           {
            "cells": {
             "fill": {
              "color": "#EBF0F8"
             },
             "line": {
              "color": "white"
             }
            },
            "header": {
             "fill": {
              "color": "#C8D4E3"
             },
             "line": {
              "color": "white"
             }
            },
            "type": "table"
           }
          ]
         },
         "layout": {
          "annotationdefaults": {
           "arrowcolor": "#2a3f5f",
           "arrowhead": 0,
           "arrowwidth": 1
          },
          "autotypenumbers": "strict",
          "coloraxis": {
           "colorbar": {
            "outlinewidth": 0,
            "ticks": ""
           }
          },
          "colorscale": {
           "diverging": [
            [
             0,
             "#8e0152"
            ],
            [
             0.1,
             "#c51b7d"
            ],
            [
             0.2,
             "#de77ae"
            ],
            [
             0.3,
             "#f1b6da"
            ],
            [
             0.4,
             "#fde0ef"
            ],
            [
             0.5,
             "#f7f7f7"
            ],
            [
             0.6,
             "#e6f5d0"
            ],
            [
             0.7,
             "#b8e186"
            ],
            [
             0.8,
             "#7fbc41"
            ],
            [
             0.9,
             "#4d9221"
            ],
            [
             1,
             "#276419"
            ]
           ],
           "sequential": [
            [
             0,
             "#0d0887"
            ],
            [
             0.1111111111111111,
             "#46039f"
            ],
            [
             0.2222222222222222,
             "#7201a8"
            ],
            [
             0.3333333333333333,
             "#9c179e"
            ],
            [
             0.4444444444444444,
             "#bd3786"
            ],
            [
             0.5555555555555556,
             "#d8576b"
            ],
            [
             0.6666666666666666,
             "#ed7953"
            ],
            [
             0.7777777777777778,
             "#fb9f3a"
            ],
            [
             0.8888888888888888,
             "#fdca26"
            ],
            [
             1,
             "#f0f921"
            ]
           ],
           "sequentialminus": [
            [
             0,
             "#0d0887"
            ],
            [
             0.1111111111111111,
             "#46039f"
            ],
            [
             0.2222222222222222,
             "#7201a8"
            ],
            [
             0.3333333333333333,
             "#9c179e"
            ],
            [
             0.4444444444444444,
             "#bd3786"
            ],
            [
             0.5555555555555556,
             "#d8576b"
            ],
            [
             0.6666666666666666,
             "#ed7953"
            ],
            [
             0.7777777777777778,
             "#fb9f3a"
            ],
            [
             0.8888888888888888,
             "#fdca26"
            ],
            [
             1,
             "#f0f921"
            ]
           ]
          },
          "colorway": [
           "#636efa",
           "#EF553B",
           "#00cc96",
           "#ab63fa",
           "#FFA15A",
           "#19d3f3",
           "#FF6692",
           "#B6E880",
           "#FF97FF",
           "#FECB52"
          ],
          "font": {
           "color": "#2a3f5f"
          },
          "geo": {
           "bgcolor": "white",
           "lakecolor": "white",
           "landcolor": "#E5ECF6",
           "showlakes": true,
           "showland": true,
           "subunitcolor": "white"
          },
          "hoverlabel": {
           "align": "left"
          },
          "hovermode": "closest",
          "mapbox": {
           "style": "light"
          },
          "paper_bgcolor": "white",
          "plot_bgcolor": "#E5ECF6",
          "polar": {
           "angularaxis": {
            "gridcolor": "white",
            "linecolor": "white",
            "ticks": ""
           },
           "bgcolor": "#E5ECF6",
           "radialaxis": {
            "gridcolor": "white",
            "linecolor": "white",
            "ticks": ""
           }
          },
          "scene": {
           "xaxis": {
            "backgroundcolor": "#E5ECF6",
            "gridcolor": "white",
            "gridwidth": 2,
            "linecolor": "white",
            "showbackground": true,
            "ticks": "",
            "zerolinecolor": "white"
           },
           "yaxis": {
            "backgroundcolor": "#E5ECF6",
            "gridcolor": "white",
            "gridwidth": 2,
            "linecolor": "white",
            "showbackground": true,
            "ticks": "",
            "zerolinecolor": "white"
           },
           "zaxis": {
            "backgroundcolor": "#E5ECF6",
            "gridcolor": "white",
            "gridwidth": 2,
            "linecolor": "white",
            "showbackground": true,
            "ticks": "",
            "zerolinecolor": "white"
           }
          },
          "shapedefaults": {
           "line": {
            "color": "#2a3f5f"
           }
          },
          "ternary": {
           "aaxis": {
            "gridcolor": "white",
            "linecolor": "white",
            "ticks": ""
           },
           "baxis": {
            "gridcolor": "white",
            "linecolor": "white",
            "ticks": ""
           },
           "bgcolor": "#E5ECF6",
           "caxis": {
            "gridcolor": "white",
            "linecolor": "white",
            "ticks": ""
           }
          },
          "title": {
           "x": 0.05
          },
          "xaxis": {
           "automargin": true,
           "gridcolor": "white",
           "linecolor": "white",
           "ticks": "",
           "title": {
            "standoff": 15
           },
           "zerolinecolor": "white",
           "zerolinewidth": 2
          },
          "yaxis": {
           "automargin": true,
           "gridcolor": "white",
           "linecolor": "white",
           "ticks": "",
           "title": {
            "standoff": 15
           },
           "zerolinecolor": "white",
           "zerolinewidth": 2
          }
         }
        }
       }
      },
      "image/png": "[encoded data removed]",
      "text/html": [
       "<div>                            <div id=\"1b8d058f-1389-4977-8b95-940d1c086e32\" class=\"plotly-graph-div\" style=\"height:525px; width:100%;\"></div>            <script type=\"text/javascript\">                require([\"plotly\"], function(Plotly) {                    window.PLOTLYENV=window.PLOTLYENV || {};                                    if (document.getElementById(\"1b8d058f-1389-4977-8b95-940d1c086e32\")) {                    Plotly.newPlot(                        \"1b8d058f-1389-4977-8b95-940d1c086e32\",                        [{\"branchvalues\":\"total\",\"labels\":[\"2024\",\"05\",\"06\",\"07\",\"08\"],\"parents\":[\"\",\"2024\",\"2024\",\"2024\",\"2024\"],\"rotation\":28.97540983606558,\"sort\":false,\"values\":[366,31,30,31,31],\"type\":\"sunburst\"}],                        {\"template\":{\"data\":{\"histogram2dcontour\":[{\"type\":\"histogram2dcontour\",\"colorbar\":{\"outlinewidth\":0,\"ticks\":\"\"},\"colorscale\":[[0.0,\"#0d0887\"],[0.1111111111111111,\"#46039f\"],[0.2222222222222222,\"#7201a8\"],[0.3333333333333333,\"#9c179e\"],[0.4444444444444444,\"#bd3786\"],[0.5555555555555556,\"#d8576b\"],[0.6666666666666666,\"#ed7953\"],[0.7777777777777778,\"#fb9f3a\"],[0.8888888888888888,\"#fdca26\"],[1.0,\"#f0f921\"]]}],\"choropleth\":[{\"type\":\"choropleth\",\"colorbar\":{\"outlinewidth\":0,\"ticks\":\"\"}}],\"histogram2d\":[{\"type\":\"histogram2d\",\"colorbar\":{\"outlinewidth\":0,\"ticks\":\"\"},\"colorscale\":[[0.0,\"#0d0887\"],[0.1111111111111111,\"#46039f\"],[0.2222222222222222,\"#7201a8\"],[0.3333333333333333,\"#9c179e\"],[0.4444444444444444,\"#bd3786\"],[0.5555555555555556,\"#d8576b\"],[0.6666666666666666,\"#ed7953\"],[0.7777777777777778,\"#fb9f3a\"],[0.8888888888888888,\"#fdca26\"],[1.0,\"#f0f921\"]]}],\"heatmap\":[{\"type\":\"heatmap\",\"colorbar\":{\"outlinewidth\":0,\"ticks\":\"\"},\"colorscale\":[[0.0,\"#0d0887\"],[0.1111111111111111,\"#46039f\"],[0.2222222222222222,\"#7201a8\"],[0.3333333333333333,\"#9c179e\"],[0.4444444444444444,\"#bd3786\"],[0.5555555555555556,\"#d8576b\"],[0.6666666666666666,\"#ed7953\"],[0.7777777777777778,\"#fb9f3a\"],[0.8888888888888888,\"#fdca26\"],[1.0,\"#f0f921\"]]}],\"heatmapgl\":[{\"type\":\"heatmapgl\",\"colorbar\":{\"outlinewidth\":0,\"ticks\":\"\"},\"colorscale\":[[0.0,\"#0d0887\"],[0.1111111111111111,\"#46039f\"],[0.2222222222222222,\"#7201a8\"],[0.3333333333333333,\"#9c179e\"],[0.4444444444444444,\"#bd3786\"],[0.5555555555555556,\"#d8576b\"],[0.6666666666666666,\"#ed7953\"],[0.7777777777777778,\"#fb9f3a\"],[0.8888888888888888,\"#fdca26\"],[1.0,\"#f0f921\"]]}],\"contourcarpet\":[{\"type\":\"contourcarpet\",\"colorbar\":{\"outlinewidth\":0,\"ticks\":\"\"}}],\"contour\":[{\"type\":\"contour\",\"colorbar\":{\"outlinewidth\":0,\"ticks\":\"\"},\"colorscale\":[[0.0,\"#0d0887\"],[0.1111111111111111,\"#46039f\"],[0.2222222222222222,\"#7201a8\"],[0.3333333333333333,\"#9c179e\"],[0.4444444444444444,\"#bd3786\"],[0.5555555555555556,\"#d8576b\"],[0.6666666666666666,\"#ed7953\"],[0.7777777777777778,\"#fb9f3a\"],[0.8888888888888888,\"#fdca26\"],[1.0,\"#f0f921\"]]}],\"surface\":[{\"type\":\"surface\",\"colorbar\":{\"outlinewidth\":0,\"ticks\":\"\"},\"colorscale\":[[0.0,\"#0d0887\"],[0.1111111111111111,\"#46039f\"],[0.2222222222222222,\"#7201a8\"],[0.3333333333333333,\"#9c179e\"],[0.4444444444444444,\"#bd3786\"],[0.5555555555555556,\"#d8576b\"],[0.6666666666666666,\"#ed7953\"],[0.7777777777777778,\"#fb9f3a\"],[0.8888888888888888,\"#fdca26\"],[1.0,\"#f0f921\"]]}],\"mesh3d\":[{\"type\":\"mesh3d\",\"colorbar\":{\"outlinewidth\":0,\"ticks\":\"\"}}],\"scatter\":[{\"fillpattern\":{\"fillmode\":\"overlay\",\"size\":10,\"solidity\":0.2},\"type\":\"scatter\"}],\"parcoords\":[{\"type\":\"parcoords\",\"line\":{\"colorbar\":{\"outlinewidth\":0,\"ticks\":\"\"}}}],\"scatterpolargl\":[{\"type\":\"scatterpolargl\",\"marker\":{\"colorbar\":{\"outlinewidth\":0,\"ticks\":\"\"}}}],\"bar\":[{\"error_x\":{\"color\":\"#2a3f5f\"},\"error_y\":{\"color\":\"#2a3f5f\"},\"marker\":{\"line\":{\"color\":\"#E5ECF6\",\"width\":0.5},\"pattern\":{\"fillmode\":\"overlay\",\"size\":10,\"solidity\":0.2}},\"type\":\"bar\"}],\"scattergeo\":[{\"type\":\"scattergeo\",\"marker\":{\"colorbar\":{\"outlinewidth\":0,\"ticks\":\"\"}}}],\"scatterpolar\":[{\"type\":\"scatterpolar\",\"marker\":{\"colorbar\":{\"outlinewidth\":0,\"ticks\":\"\"}}}],\"histogram\":[{\"marker\":{\"pattern\":{\"fillmode\":\"overlay\",\"size\":10,\"solidity\":0.2}},\"type\":\"histogram\"}],\"scattergl\":[{\"type\":\"scattergl\",\"marker\":{\"colorbar\":{\"outlinewidth\":0,\"ticks\":\"\"}}}],\"scatter3d\":[{\"type\":\"scatter3d\",\"line\":{\"colorbar\":{\"outlinewidth\":0,\"ticks\":\"\"}},\"marker\":{\"colorbar\":{\"outlinewidth\":0,\"ticks\":\"\"}}}],\"scattermapbox\":[{\"type\":\"scattermapbox\",\"marker\":{\"colorbar\":{\"outlinewidth\":0,\"ticks\":\"\"}}}],\"scatterternary\":[{\"type\":\"scatterternary\",\"marker\":{\"colorbar\":{\"outlinewidth\":0,\"ticks\":\"\"}}}],\"scattercarpet\":[{\"type\":\"scattercarpet\",\"marker\":{\"colorbar\":{\"outlinewidth\":0,\"ticks\":\"\"}}}],\"carpet\":[{\"aaxis\":{\"endlinecolor\":\"#2a3f5f\",\"gridcolor\":\"white\",\"linecolor\":\"white\",\"minorgridcolor\":\"white\",\"startlinecolor\":\"#2a3f5f\"},\"baxis\":{\"endlinecolor\":\"#2a3f5f\",\"gridcolor\":\"white\",\"linecolor\":\"white\",\"minorgridcolor\":\"white\",\"startlinecolor\":\"#2a3f5f\"},\"type\":\"carpet\"}],\"table\":[{\"cells\":{\"fill\":{\"color\":\"#EBF0F8\"},\"line\":{\"color\":\"white\"}},\"header\":{\"fill\":{\"color\":\"#C8D4E3\"},\"line\":{\"color\":\"white\"}},\"type\":\"table\"}],\"barpolar\":[{\"marker\":{\"line\":{\"color\":\"#E5ECF6\",\"width\":0.5},\"pattern\":{\"fillmode\":\"overlay\",\"size\":10,\"solidity\":0.2}},\"type\":\"barpolar\"}],\"pie\":[{\"automargin\":true,\"type\":\"pie\"}]},\"layout\":{\"autotypenumbers\":\"strict\",\"colorway\":[\"#636efa\",\"#EF553B\",\"#00cc96\",\"#ab63fa\",\"#FFA15A\",\"#19d3f3\",\"#FF6692\",\"#B6E880\",\"#FF97FF\",\"#FECB52\"],\"font\":{\"color\":\"#2a3f5f\"},\"hovermode\":\"closest\",\"hoverlabel\":{\"align\":\"left\"},\"paper_bgcolor\":\"white\",\"plot_bgcolor\":\"#E5ECF6\",\"polar\":{\"bgcolor\":\"#E5ECF6\",\"angularaxis\":{\"gridcolor\":\"white\",\"linecolor\":\"white\",\"ticks\":\"\"},\"radialaxis\":{\"gridcolor\":\"white\",\"linecolor\":\"white\",\"ticks\":\"\"}},\"ternary\":{\"bgcolor\":\"#E5ECF6\",\"aaxis\":{\"gridcolor\":\"white\",\"linecolor\":\"white\",\"ticks\":\"\"},\"baxis\":{\"gridcolor\":\"white\",\"linecolor\":\"white\",\"ticks\":\"\"},\"caxis\":{\"gridcolor\":\"white\",\"linecolor\":\"white\",\"ticks\":\"\"}},\"coloraxis\":{\"colorbar\":{\"outlinewidth\":0,\"ticks\":\"\"}},\"colorscale\":{\"sequential\":[[0.0,\"#0d0887\"],[0.1111111111111111,\"#46039f\"],[0.2222222222222222,\"#7201a8\"],[0.3333333333333333,\"#9c179e\"],[0.4444444444444444,\"#bd3786\"],[0.5555555555555556,\"#d8576b\"],[0.6666666666666666,\"#ed7953\"],[0.7777777777777778,\"#fb9f3a\"],[0.8888888888888888,\"#fdca26\"],[1.0,\"#f0f921\"]],\"sequentialminus\":[[0.0,\"#0d0887\"],[0.1111111111111111,\"#46039f\"],[0.2222222222222222,\"#7201a8\"],[0.3333333333333333,\"#9c179e\"],[0.4444444444444444,\"#bd3786\"],[0.5555555555555556,\"#d8576b\"],[0.6666666666666666,\"#ed7953\"],[0.7777777777777778,\"#fb9f3a\"],[0.8888888888888888,\"#fdca26\"],[1.0,\"#f0f921\"]],\"diverging\":[[0,\"#8e0152\"],[0.1,\"#c51b7d\"],[0.2,\"#de77ae\"],[0.3,\"#f1b6da\"],[0.4,\"#fde0ef\"],[0.5,\"#f7f7f7\"],[0.6,\"#e6f5d0\"],[0.7,\"#b8e186\"],[0.8,\"#7fbc41\"],[0.9,\"#4d9221\"],[1,\"#276419\"]]},\"xaxis\":{\"gridcolor\":\"white\",\"linecolor\":\"white\",\"ticks\":\"\",\"title\":{\"standoff\":15},\"zerolinecolor\":\"white\",\"automargin\":true,\"zerolinewidth\":2},\"yaxis\":{\"gridcolor\":\"white\",\"linecolor\":\"white\",\"ticks\":\"\",\"title\":{\"standoff\":15},\"zerolinecolor\":\"white\",\"automargin\":true,\"zerolinewidth\":2},\"scene\":{\"xaxis\":{\"backgroundcolor\":\"#E5ECF6\",\"gridcolor\":\"white\",\"linecolor\":\"white\",\"showbackground\":true,\"ticks\":\"\",\"zerolinecolor\":\"white\",\"gridwidth\":2},\"yaxis\":{\"backgroundcolor\":\"#E5ECF6\",\"gridcolor\":\"white\",\"linecolor\":\"white\",\"showbackground\":true,\"ticks\":\"\",\"zerolinecolor\":\"white\",\"gridwidth\":2},\"zaxis\":{\"backgroundcolor\":\"#E5ECF6\",\"gridcolor\":\"white\",\"linecolor\":\"white\",\"showbackground\":true,\"ticks\":\"\",\"zerolinecolor\":\"white\",\"gridwidth\":2}},\"shapedefaults\":{\"line\":{\"color\":\"#2a3f5f\"}},\"annotationdefaults\":{\"arrowcolor\":\"#2a3f5f\",\"arrowhead\":0,\"arrowwidth\":1},\"geo\":{\"bgcolor\":\"white\",\"landcolor\":\"#E5ECF6\",\"subunitcolor\":\"white\",\"showland\":true,\"showlakes\":true,\"lakecolor\":\"white\"},\"title\":{\"x\":0.05},\"mapbox\":{\"style\":\"light\"}}},\"margin\":{\"t\":0,\"l\":0,\"r\":0,\"b\":0}},                        {\"responsive\": true}                    ).then(function(){\n",
       "                            \n",
       "var gd = document.getElementById('1b8d058f-1389-4977-8b95-940d1c086e32');\n",
       "var x = new MutationObserver(function (mutations, observer) {{\n",
       "        var display = window.getComputedStyle(gd).display;\n",
       "        if (!display || display === 'none') {{\n",
       "            console.log([gd, 'removed!']);\n",
       "            Plotly.purge(gd);\n",
       "            observer.disconnect();\n",
       "        }}\n",
       "}});\n",
       "\n",
       "// Listen for the removal of the full notebook cells\n",
       "var notebookContainer = gd.closest('#notebook-container');\n",
       "if (notebookContainer) {{\n",
       "    x.observe(notebookContainer, {childList: true});\n",
       "}}\n",
       "\n",
       "// Listen for the clearing of the current output cell\n",
       "var outputEl = gd.closest('.output');\n",
       "if (outputEl) {{\n",
       "    x.observe(outputEl, {childList: true});\n",
       "}}\n",
       "\n",
       "                        })                };                });            </script>        </div>"
      ]
     },
     "metadata": {},
     "output_type": "display_data"
    }
   ],
   "source": [
    "yeard = dict(labels=[str(year.year)] + [str(m.month) for m in year[4:8]],\n",
    "             parents=[\"\"] + [str(year.year)] * len(year[4:8]),\n",
    "             values=[366] + [len(m) for m in year[4:8]]\n",
    "            )\n",
    "sbfig =go.Figure(go.Sunburst(\n",
    "    labels=yeard[\"labels\"],\n",
    "    parents=yeard[\"parents\"],\n",
    "    values=yeard[\"values\"],\n",
    "    sort=False,\n",
    "    rotation=model.to_theta(year[4][0].datetime())-90,\n",
    "    branchvalues=\"total\",\n",
    "))\n",
    "# Update layout for tight margin\n",
    "# See https://plotly.com/python/creating-and-updating-figures/\n",
    "sbfig.update_layout(margin = dict(t=0, l=0, r=0, b=0))\n",
    "\n",
    "sbfig.show()"
   ]
  },
  {
   "cell_type": "code",
   "execution_count": 9,
   "id": "37520001-8431-47f4-802d-078122aac9b9",
   "metadata": {},
   "outputs": [
    {
     "data": {
      "text/plain": [
       "[{'year': 2024, 'month': 5, 'type': 'CalendarElement'},\n",
       " {'year': 2024, 'month': 6, 'type': 'CalendarElement'},\n",
       " {'year': 2024, 'month': 7, 'type': 'CalendarElement'},\n",
       " {'year': 2024, 'month': 8, 'type': 'CalendarElement'}]"
      ]
     },
     "execution_count": 9,
     "metadata": {},
     "output_type": "execute_result"
    }
   ],
   "source": []
  },
  {
   "cell_type": "code",
   "execution_count": 45,
   "id": "ce03f5d8-6881-401d-be29-acb058f63e7b",
   "metadata": {},
   "outputs": [
    {
     "ename": "ValueError",
     "evalue": "day is out of range for month",
     "output_type": "error",
     "traceback": [
      "\u001b[0;31m---------------------------------------------------------------------------\u001b[0m",
      "\u001b[0;31mValueError\u001b[0m                                Traceback (most recent call last)",
      "Cell \u001b[0;32mIn[45], line 1\u001b[0m\n\u001b[0;32m----> 1\u001b[0m \u001b[43mdatetime\u001b[49m\u001b[43m(\u001b[49m\u001b[38;5;241;43m2024\u001b[39;49m\u001b[43m,\u001b[49m\u001b[43m \u001b[49m\u001b[38;5;241;43m2\u001b[39;49m\u001b[43m,\u001b[49m\u001b[43m \u001b[49m\u001b[38;5;241;43m30\u001b[39;49m\u001b[43m)\u001b[49m \u001b[38;5;129;01min\u001b[39;00m y24\n",
      "\u001b[0;31mValueError\u001b[0m: day is out of range for month"
     ]
    }
   ],
   "source": [
    "datetime(2024, 2, 30) in y24"
   ]
  },
  {
   "cell_type": "code",
   "execution_count": null,
   "id": "0b9690ad-5f20-466d-a21a-a924acbfa5b9",
   "metadata": {},
   "outputs": [],
   "source": []
  },
  {
   "cell_type": "code",
   "execution_count": 11,
   "id": "413ad879-f088-4b18-92b9-b9c02a0ba715",
   "metadata": {},
   "outputs": [
    {
     "data": {
      "text/html": [
       "<pre style=\"white-space:pre;overflow-x:auto;line-height:normal;font-family:Menlo,'DejaVu Sans Mono',consolas,'Courier New',monospace\"><span style=\"font-weight: bold\">{</span>\n",
       "    <span style=\"color: #008000; text-decoration-color: #008000\">'id'</span>: <span style=\"color: #008000; text-decoration-color: #008000\">'pvmunjs5h896ot3ae9s79c5nb8_20240607'</span>,\n",
       "    <span style=\"color: #008000; text-decoration-color: #008000\">'summary'</span>: <span style=\"color: #008000; text-decoration-color: #008000\">'Jordan (Office)'</span>,\n",
       "    <span style=\"color: #008000; text-decoration-color: #008000\">'recurrence'</span>: <span style=\"font-weight: bold\">[]</span>,\n",
       "    <span style=\"color: #008000; text-decoration-color: #008000\">'visibility'</span>: <span style=\"color: #008000; text-decoration-color: #008000\">'public'</span>,\n",
       "    <span style=\"color: #008000; text-decoration-color: #008000\">'attendees'</span>: <span style=\"font-weight: bold\">[]</span>,\n",
       "    <span style=\"color: #008000; text-decoration-color: #008000\">'guestsCanInviteOthers'</span>: <span style=\"color: #00ff00; text-decoration-color: #00ff00; font-style: italic\">True</span>,\n",
       "    <span style=\"color: #008000; text-decoration-color: #008000\">'guestsCanModify'</span>: <span style=\"color: #ff0000; text-decoration-color: #ff0000; font-style: italic\">False</span>,\n",
       "    <span style=\"color: #008000; text-decoration-color: #008000\">'guestsCanSeeOtherGuests'</span>: <span style=\"color: #00ff00; text-decoration-color: #00ff00; font-style: italic\">True</span>,\n",
       "    <span style=\"color: #008000; text-decoration-color: #008000\">'transparency'</span>: <span style=\"color: #008000; text-decoration-color: #008000\">'transparent'</span>,\n",
       "    <span style=\"color: #008000; text-decoration-color: #008000\">'attachments'</span>: <span style=\"font-weight: bold\">[]</span>,\n",
       "    <span style=\"color: #008000; text-decoration-color: #008000\">'kind'</span>: <span style=\"color: #008000; text-decoration-color: #008000\">'calendar#event'</span>,\n",
       "    <span style=\"color: #008000; text-decoration-color: #008000\">'etag'</span>: <span style=\"color: #008000; text-decoration-color: #008000\">'\"3412066700954000\"'</span>,\n",
       "    <span style=\"color: #008000; text-decoration-color: #008000\">'status'</span>: <span style=\"color: #008000; text-decoration-color: #008000\">'confirmed'</span>,\n",
       "    <span style=\"color: #008000; text-decoration-color: #008000\">'htmlLink'</span>: \n",
       "<span style=\"color: #008000; text-decoration-color: #008000\">'https://www.google.com/calendar/event?eid=cHZtdW5qczVoODk2b3QzYWU5czc5YzVuYjhfMjAyNDA2MDcga2RhdmlzMTBAbmQuZWR1'</span>,\n",
       "    <span style=\"color: #008000; text-decoration-color: #008000\">'originalStartTime'</span>: <span style=\"font-weight: bold\">{</span><span style=\"color: #008000; text-decoration-color: #008000\">'date'</span>: <span style=\"color: #008000; text-decoration-color: #008000\">'2024-06-07'</span><span style=\"font-weight: bold\">}</span>,\n",
       "    <span style=\"color: #008000; text-decoration-color: #008000\">'iCalUID'</span>: <span style=\"color: #008000; text-decoration-color: #008000\">'pvmunjs5h896ot3ae9s79c5nb8@google.com'</span>,\n",
       "    <span style=\"color: #008000; text-decoration-color: #008000\">'sequence'</span>: <span style=\"color: #008080; text-decoration-color: #008080; font-weight: bold\">0</span>,\n",
       "    <span style=\"color: #008000; text-decoration-color: #008000\">'workingLocationProperties'</span>: <span style=\"font-weight: bold\">{</span>\n",
       "        <span style=\"color: #008000; text-decoration-color: #008000\">'type'</span>: <span style=\"color: #008000; text-decoration-color: #008000\">'officeLocation'</span>,\n",
       "        <span style=\"color: #008000; text-decoration-color: #008000\">'officeLocation'</span>: <span style=\"font-weight: bold\">{</span><span style=\"color: #008000; text-decoration-color: #008000\">'buildingId'</span>: <span style=\"color: #008000; text-decoration-color: #008000\">'1193'</span>, <span style=\"color: #008000; text-decoration-color: #008000\">'label'</span>: <span style=\"color: #008000; text-decoration-color: #008000\">'Jordan'</span><span style=\"font-weight: bold\">}</span>\n",
       "    <span style=\"font-weight: bold\">}</span>,\n",
       "    <span style=\"color: #008000; text-decoration-color: #008000\">'eventType'</span>: <span style=\"color: #008000; text-decoration-color: #008000\">'workingLocation'</span>,\n",
       "    <span style=\"color: #008000; text-decoration-color: #008000\">'start'</span>: <span style=\"font-weight: bold\">{</span><span style=\"color: #008000; text-decoration-color: #008000\">'date'</span>: <span style=\"color: #008000; text-decoration-color: #008000\">'2024-06-07'</span><span style=\"font-weight: bold\">}</span>,\n",
       "    <span style=\"color: #008000; text-decoration-color: #008000\">'end'</span>: <span style=\"font-weight: bold\">{</span><span style=\"color: #008000; text-decoration-color: #008000\">'date'</span>: <span style=\"color: #008000; text-decoration-color: #008000\">'2024-06-08'</span><span style=\"font-weight: bold\">}</span>,\n",
       "    <span style=\"color: #008000; text-decoration-color: #008000\">'reminders'</span>: <span style=\"font-weight: bold\">{</span><span style=\"color: #008000; text-decoration-color: #008000\">'useDefault'</span>: <span style=\"color: #ff0000; text-decoration-color: #ff0000; font-style: italic\">False</span><span style=\"font-weight: bold\">}</span>\n",
       "<span style=\"font-weight: bold\">}</span>\n",
       "</pre>\n"
      ],
      "text/plain": [
       "\u001b[1m{\u001b[0m\n",
       "    \u001b[32m'id'\u001b[0m: \u001b[32m'pvmunjs5h896ot3ae9s79c5nb8_20240607'\u001b[0m,\n",
       "    \u001b[32m'summary'\u001b[0m: \u001b[32m'Jordan \u001b[0m\u001b[32m(\u001b[0m\u001b[32mOffice\u001b[0m\u001b[32m)\u001b[0m\u001b[32m'\u001b[0m,\n",
       "    \u001b[32m'recurrence'\u001b[0m: \u001b[1m[\u001b[0m\u001b[1m]\u001b[0m,\n",
       "    \u001b[32m'visibility'\u001b[0m: \u001b[32m'public'\u001b[0m,\n",
       "    \u001b[32m'attendees'\u001b[0m: \u001b[1m[\u001b[0m\u001b[1m]\u001b[0m,\n",
       "    \u001b[32m'guestsCanInviteOthers'\u001b[0m: \u001b[3;92mTrue\u001b[0m,\n",
       "    \u001b[32m'guestsCanModify'\u001b[0m: \u001b[3;91mFalse\u001b[0m,\n",
       "    \u001b[32m'guestsCanSeeOtherGuests'\u001b[0m: \u001b[3;92mTrue\u001b[0m,\n",
       "    \u001b[32m'transparency'\u001b[0m: \u001b[32m'transparent'\u001b[0m,\n",
       "    \u001b[32m'attachments'\u001b[0m: \u001b[1m[\u001b[0m\u001b[1m]\u001b[0m,\n",
       "    \u001b[32m'kind'\u001b[0m: \u001b[32m'calendar#event'\u001b[0m,\n",
       "    \u001b[32m'etag'\u001b[0m: \u001b[32m'\"3412066700954000\"'\u001b[0m,\n",
       "    \u001b[32m'status'\u001b[0m: \u001b[32m'confirmed'\u001b[0m,\n",
       "    \u001b[32m'htmlLink'\u001b[0m: \n",
       "\u001b[32m'https://www.google.com/calendar/event?\u001b[0m\u001b[32meid\u001b[0m\u001b[32m=\u001b[0m\u001b[32mcHZtdW5qczVoODk2b3QzYWU5czc5YzVuYjhfMjAyNDA2MDcga2RhdmlzMTBAbmQuZWR1\u001b[0m\u001b[32m'\u001b[0m,\n",
       "    \u001b[32m'originalStartTime'\u001b[0m: \u001b[1m{\u001b[0m\u001b[32m'date'\u001b[0m: \u001b[32m'2024-06-07'\u001b[0m\u001b[1m}\u001b[0m,\n",
       "    \u001b[32m'iCalUID'\u001b[0m: \u001b[32m'pvmunjs5h896ot3ae9s79c5nb8@google.com'\u001b[0m,\n",
       "    \u001b[32m'sequence'\u001b[0m: \u001b[1;36m0\u001b[0m,\n",
       "    \u001b[32m'workingLocationProperties'\u001b[0m: \u001b[1m{\u001b[0m\n",
       "        \u001b[32m'type'\u001b[0m: \u001b[32m'officeLocation'\u001b[0m,\n",
       "        \u001b[32m'officeLocation'\u001b[0m: \u001b[1m{\u001b[0m\u001b[32m'buildingId'\u001b[0m: \u001b[32m'1193'\u001b[0m, \u001b[32m'label'\u001b[0m: \u001b[32m'Jordan'\u001b[0m\u001b[1m}\u001b[0m\n",
       "    \u001b[1m}\u001b[0m,\n",
       "    \u001b[32m'eventType'\u001b[0m: \u001b[32m'workingLocation'\u001b[0m,\n",
       "    \u001b[32m'start'\u001b[0m: \u001b[1m{\u001b[0m\u001b[32m'date'\u001b[0m: \u001b[32m'2024-06-07'\u001b[0m\u001b[1m}\u001b[0m,\n",
       "    \u001b[32m'end'\u001b[0m: \u001b[1m{\u001b[0m\u001b[32m'date'\u001b[0m: \u001b[32m'2024-06-08'\u001b[0m\u001b[1m}\u001b[0m,\n",
       "    \u001b[32m'reminders'\u001b[0m: \u001b[1m{\u001b[0m\u001b[32m'useDefault'\u001b[0m: \u001b[3;91mFalse\u001b[0m\u001b[1m}\u001b[0m\n",
       "\u001b[1m}\u001b[0m\n"
      ]
     },
     "metadata": {},
     "output_type": "display_data"
    }
   ],
   "source": [
    "from gcsa.serializers.event_serializer import EventSerializer\n",
    "print(EventSerializer.to_json(eve[289].gcsaevent))"
   ]
  },
  {
   "cell_type": "code",
   "execution_count": 14,
   "id": "2a4ba9aa-c8a2-410e-adc7-68e2f5b2d26a",
   "metadata": {},
   "outputs": [
    {
     "data": {
      "text/plain": [
       "'workingLocation'"
      ]
     },
     "execution_count": 14,
     "metadata": {},
     "output_type": "execute_result"
    }
   ],
   "source": [
    "eve[289].gcsaevent.other[\"eventType\"]"
   ]
  },
  {
   "cell_type": "code",
   "execution_count": null,
   "id": "94bbe40b-ebad-45b8-a07f-48543b6cc579",
   "metadata": {},
   "outputs": [],
   "source": []
  }
 ],
 "metadata": {
  "kernelspec": {
   "display_name": "Python 3 (ipykernel)",
   "language": "python",
   "name": "python3"
  },
  "language_info": {
   "codemirror_mode": {
    "name": "ipython",
    "version": 3
   },
   "file_extension": ".py",
   "mimetype": "text/x-python",
   "name": "python",
   "nbconvert_exporter": "python",
   "pygments_lexer": "ipython3",
   "version": "3.12.3"
  }
 },
 "nbformat": 4,
 "nbformat_minor": 5
}
