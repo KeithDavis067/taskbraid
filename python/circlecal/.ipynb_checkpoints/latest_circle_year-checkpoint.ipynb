{
 "cells": [
  {
   "cell_type": "code",
   "execution_count": 1,
   "id": "58844e03-d44e-4b54-bd67-c0ac6b5a4cfb",
   "metadata": {},
   "outputs": [],
   "source": [
    "from gcsa.event import Event\n",
    "from gcsa.google_calendar import GoogleCalendar\n",
    "from gcsa.recurrence import Recurrence, DAILY, SU, SA\n",
    "\n",
    "import plotly.express as px\n",
    "import plotly.graph_objects as go\n",
    "\n",
    "import pandas as pd\n",
    "\n",
    "from datetime import datetime, timedelta, date\n",
    "import dateutil\n",
    "from dateutil.parser import parse\n",
    "import calendar\n",
    "import numpy as np\n",
    "from circle_cal.model import CalendarElement\n",
    "import circle_cal as cc\n",
    "import circle_cal.model as model\n",
    "import pathlib\n",
    "from rich import print\n",
    "import pytz\n",
    "from pytz import timezone"
   ]
  },
  {
   "cell_type": "code",
   "execution_count": 2,
   "id": "faab0ba5-96a2-42de-9264-20f3515f5c03",
   "metadata": {},
   "outputs": [],
   "source": [
    "cred = pathlib.Path('/Users/kdavis10/.config/.credentials')\n",
    "cred_json = \"pygooglecal.apps.googleusercontent.com.json\"\n",
    "\n",
    "try:\n",
    "    gcal = GoogleCalendar('keithwdavis@gmail.com',\n",
    "                          credentials_path=cred / cred_json)\n",
    "except Exception as e:\n",
    "    (cred / \"token.pickle\").unlink()"
   ]
  },
  {
   "cell_type": "code",
   "execution_count": 3,
   "id": "8cc5e227-d3bf-4fe5-b9d4-f5c9035e63f0",
   "metadata": {},
   "outputs": [
    {
     "data": {
      "text/plain": [
       "366"
      ]
     },
     "execution_count": 3,
     "metadata": {},
     "output_type": "execute_result"
    }
   ],
   "source": [
    "y24 = CalendarElement(year=2024)\n",
    "len(list(y24.recursive_iteration(\"day\")))"
   ]
  },
  {
   "cell_type": "code",
   "execution_count": 7,
   "id": "8a8467cc-c455-4042-8b0c-627f5015ab9d",
   "metadata": {},
   "outputs": [
    {
     "data": {
      "application/vnd.plotly.v1+json": {
       "config": {
        "plotlyServerURL": "https://plot.ly"
       },
       "data": [
        {
         "hovertext": [
          "['2024-06-10', '2024-01-08', '2024-02-08', '2024-03-08', '2024-04-08', '2024-05-08', '2024-06-08', '2024-07-08', '2024-08-08', '2024-09-08', '2024-10-08', '2024-11-08', '2024-12-08', '2024-01-08', '2024-01-22', '2024-02-05', '2024-02-19', '2024-03-04', '2024-03-18', '2024-04-01', '2024-04-15', '2024-04-29', '2024-05-13', '2024-05-27', '2024-06-10', '2024-06-24', '2024-07-08', '2024-07-22', '2024-08-05', '2024-08-19', '2024-09-02', '2024-09-16', '2024-09-30', '2024-10-14', '2024-10-28', '2024-11-11', '2024-11-25', '2024-12-09', '2024-12-23', '2024-05-07 10:30:00-04:00', '2024-10-29 16:30:00-04:00', '2024-01-13 12:00:00-05:00', '2024-01-04 16:30:00-05:00', '2024-01-18 14:30:00-05:00', '2024-01-09 18:30:00-05:00', '2024-01-12 11:52:30-05:00', '2024-01-19 15:00:00-05:00', '2024-01-30 16:30:00-05:00', '2024-01-23 17:30:00-05:00', '2024-01-22 16:00:00-05:00', '2024-01-24 12:30:00-05:00', '2024-01-29 15:00:00-05:00', '2024-02-27 13:00:00-05:00', '2024-03-05 11:15:00-05:00', '2024-03-11 11:00:00-04:00', '2024-02-13 16:30:00-05:00', '2024-02-14', '2024-02-09 14:15:00-05:00', '2024-02-19 11:54:00-05:00', '2024-02-21 20:06:00-05:00', '2024-02-29 10:30:00-05:00', '2024-02-24 11:15:00-05:00', '2024-02-19 13:09:00-05:00', '2024-02-19 10:04:30-05:00', '2024-03-30 11:45:00-04:00', '2024-03-11 16:30:00-04:00', '2024-04-16 11:07:30-04:00', '2024-04-23 11:07:30-04:00', '2024-04-30 11:07:30-04:00', '2024-03-21', '2024-03-13 14:35:00-04:00', '2024-03-25 16:30:00-04:00', '2024-03-18 15:15:00-04:00', '2024-04-12 16:30:00-04:00', '2024-04-27 11:15:00-04:00', '2024-04-29 13:30:00-04:00', '2024-04-25 16:20:00-04:00', '2024-04-24 16:30:00-04:00', '2024-05-06 13:45:00-04:00', '2024-06-03 13:45:00-04:00', '2024-07-01 13:45:00-04:00', '2024-08-05 13:45:00-04:00', '2024-06-05 09:45:00-04:00', '2024-05-07 17:30:00-04:00', '2024-05-09 11:00:00-04:00', '2024-05-28 18:00:00-04:00', '2024-04-27 18:45:00-04:00', '2024-04-30 13:30:00-04:00', '2024-05-01 13:30:00-04:00', '2024-05-02 13:30:00-04:00', '2024-05-07 16:00:00-04:00', '2024-05-17 13:07:30-04:00', '2024-05-23 09:30:00-04:00', '2024-11-12 10:30:00-05:00', '2024-05-09 14:07:30-04:00', '2024-05-23 14:30:00-04:00', '2024-05-10 10:00:00-04:00', '2024-05-24 11:30:00-04:00']"
         ],
         "mode": "markers",
         "r": [
          0.5,
          0.5,
          0.5,
          0.5,
          0.5,
          0.5,
          0.5,
          0.5,
          0.5,
          0.5,
          0.5,
          0.5,
          0.5,
          0.5,
          0.5,
          0.5,
          0.5,
          0.5,
          0.5,
          0.5,
          0.5,
          0.5,
          0.5,
          0.5,
          0.5,
          0.5,
          0.5,
          0.5,
          0.5,
          0.5,
          0.5,
          0.5,
          0.5,
          0.5,
          0.5,
          0.5,
          0.5,
          0.5,
          0.5,
          0.5,
          0.5,
          0.5,
          0.5,
          0.5,
          0.5,
          0.5,
          0.5,
          0.5,
          0.5,
          0.5,
          0.5,
          0.5,
          0.5,
          0.5,
          0.5,
          0.5,
          0.5,
          0.5,
          0.5,
          0.5,
          0.5,
          0.5,
          0.5,
          0.5,
          0.5,
          0.5,
          0.5,
          0.5,
          0.5,
          0.5,
          0.5,
          0.5,
          0.5,
          0.5,
          0.5,
          0.5,
          0.5,
          0.5,
          0.5,
          0.5,
          0.5,
          0.5,
          0.5,
          0.5,
          0.5,
          0.5,
          0.5,
          0.5,
          0.5,
          0.5,
          0.5,
          0.5,
          0.5,
          0.5,
          0.5,
          0.5,
          0.5,
          0.5
         ],
         "theta": [
          -158.31967213114754,
          -6.885245901639344,
          -37.377049180327866,
          -65.90163934426229,
          -96.35245901639344,
          -125.86065573770492,
          -156.35245901639345,
          -185.86065573770492,
          -216.35245901639345,
          -246.84426229508196,
          -276.3524590163934,
          -306.88524590163934,
          -336.39344262295083,
          -6.885245901639344,
          -20.65573770491803,
          -34.42622950819672,
          -48.19672131147541,
          -61.967213114754095,
          -75.6967213114754,
          -89.46721311475409,
          -103.23770491803278,
          -117.00819672131146,
          -130.77868852459017,
          -144.54918032786887,
          -158.31967213114754,
          -172.09016393442624,
          -185.86065573770492,
          -199.63114754098362,
          -213.4016393442623,
          -227.172131147541,
          -240.94262295081967,
          -254.71311475409834,
          -268.483606557377,
          -282.2540983606557,
          -296.0245901639344,
          -309.8360655737705,
          -323.60655737704917,
          -337.37704918032784,
          -351.1475409836066,
          -125.30737704918032,
          -297.6844262295082,
          -12.295081967213115,
          -3.6270491803278686,
          -17.315573770491802,
          -8.62704918032787,
          -11.306352459016393,
          -18.31967213114754,
          -29.200819672131146,
          -22.35655737704918,
          -21.311475409836067,
          -23.135245901639344,
          -28.15573770491803,
          -56.5983606557377,
          -63.41188524590164,
          -69.26229508196721,
          -42.971311475409834,
          -43.278688524590166,
          -38.94467213114754,
          -48.68442622950819,
          -50.98770491803278,
          -58.463114754098356,
          -53.575819672131146,
          -48.73565573770492,
          -48.60963114754099,
          -87.98155737704919,
          -69.48770491803278,
          -104.67725409836065,
          -111.5625,
          -118.44774590163934,
          -78.64754098360655,
          -71.37636612021858,
          -83.25819672131146,
          -76.32172131147541,
          -100.96311475409836,
          -115.50204918032786,
          -117.56147540983606,
          -113.7431693989071,
          -112.76639344262294,
          -124.45696721311475,
          -151.99795081967213,
          -179.5389344262295,
          -213.96516393442622,
          -153.80122950819674,
          -125.59426229508196,
          -127.29508196721311,
          -146.2704918032787,
          -115.80942622950819,
          -118.54508196721311,
          -119.52868852459015,
          -120.51229508196721,
          -125.5327868852459,
          -135.25102459016395,
          -141.00409836065572,
          -311.25,
          -127.42315573770492,
          -141.20901639344262,
          -128.2377049180328,
          -142.06967213114754
         ],
         "type": "scatterpolar"
        }
       ],
       "layout": {
        "autosize": true,
        "polar": {
         "angularaxis": {
          "type": "linear"
         },
         "radialaxis": {
          "autorange": false,
          "range": [
           0,
           1
          ],
          "type": "linear"
         }
        },
        "template": {
         "data": {
          "bar": [
           {
            "error_x": {
             "color": "#2a3f5f"
            },
            "error_y": {
             "color": "#2a3f5f"
            },
            "marker": {
             "line": {
              "color": "#E5ECF6",
              "width": 0.5
             },
             "pattern": {
              "fillmode": "overlay",
              "size": 10,
              "solidity": 0.2
             }
            },
            "type": "bar"
           }
          ],
          "barpolar": [
           {
            "marker": {
             "line": {
              "color": "#E5ECF6",
              "width": 0.5
             },
             "pattern": {
              "fillmode": "overlay",
              "size": 10,
              "solidity": 0.2
             }
            },
            "type": "barpolar"
           }
          ],
          "carpet": [
           {
            "aaxis": {
             "endlinecolor": "#2a3f5f",
             "gridcolor": "white",
             "linecolor": "white",
             "minorgridcolor": "white",
             "startlinecolor": "#2a3f5f"
            },
            "baxis": {
             "endlinecolor": "#2a3f5f",
             "gridcolor": "white",
             "linecolor": "white",
             "minorgridcolor": "white",
             "startlinecolor": "#2a3f5f"
            },
            "type": "carpet"
           }
          ],
          "choropleth": [
           {
            "colorbar": {
             "outlinewidth": 0,
             "ticks": ""
            },
            "type": "choropleth"
           }
          ],
          "contour": [
           {
            "colorbar": {
             "outlinewidth": 0,
             "ticks": ""
            },
            "colorscale": [
             [
              0,
              "#0d0887"
             ],
             [
              0.1111111111111111,
              "#46039f"
             ],
             [
              0.2222222222222222,
              "#7201a8"
             ],
             [
              0.3333333333333333,
              "#9c179e"
             ],
             [
              0.4444444444444444,
              "#bd3786"
             ],
             [
              0.5555555555555556,
              "#d8576b"
             ],
             [
              0.6666666666666666,
              "#ed7953"
             ],
             [
              0.7777777777777778,
              "#fb9f3a"
             ],
             [
              0.8888888888888888,
              "#fdca26"
             ],
             [
              1,
              "#f0f921"
             ]
            ],
            "type": "contour"
           }
          ],
          "contourcarpet": [
           {
            "colorbar": {
             "outlinewidth": 0,
             "ticks": ""
            },
            "type": "contourcarpet"
           }
          ],
          "heatmap": [
           {
            "colorbar": {
             "outlinewidth": 0,
             "ticks": ""
            },
            "colorscale": [
             [
              0,
              "#0d0887"
             ],
             [
              0.1111111111111111,
              "#46039f"
             ],
             [
              0.2222222222222222,
              "#7201a8"
             ],
             [
              0.3333333333333333,
              "#9c179e"
             ],
             [
              0.4444444444444444,
              "#bd3786"
             ],
             [
              0.5555555555555556,
              "#d8576b"
             ],
             [
              0.6666666666666666,
              "#ed7953"
             ],
             [
              0.7777777777777778,
              "#fb9f3a"
             ],
             [
              0.8888888888888888,
              "#fdca26"
             ],
             [
              1,
              "#f0f921"
             ]
            ],
            "type": "heatmap"
           }
          ],
          "heatmapgl": [
           {
            "colorbar": {
             "outlinewidth": 0,
             "ticks": ""
            },
            "colorscale": [
             [
              0,
              "#0d0887"
             ],
             [
              0.1111111111111111,
              "#46039f"
             ],
             [
              0.2222222222222222,
              "#7201a8"
             ],
             [
              0.3333333333333333,
              "#9c179e"
             ],
             [
              0.4444444444444444,
              "#bd3786"
             ],
             [
              0.5555555555555556,
              "#d8576b"
             ],
             [
              0.6666666666666666,
              "#ed7953"
             ],
             [
              0.7777777777777778,
              "#fb9f3a"
             ],
             [
              0.8888888888888888,
              "#fdca26"
             ],
             [
              1,
              "#f0f921"
             ]
            ],
            "type": "heatmapgl"
           }
          ],
          "histogram": [
           {
            "marker": {
             "pattern": {
              "fillmode": "overlay",
              "size": 10,
              "solidity": 0.2
             }
            },
            "type": "histogram"
           }
          ],
          "histogram2d": [
           {
            "colorbar": {
             "outlinewidth": 0,
             "ticks": ""
            },
            "colorscale": [
             [
              0,
              "#0d0887"
             ],
             [
              0.1111111111111111,
              "#46039f"
             ],
             [
              0.2222222222222222,
              "#7201a8"
             ],
             [
              0.3333333333333333,
              "#9c179e"
             ],
             [
              0.4444444444444444,
              "#bd3786"
             ],
             [
              0.5555555555555556,
              "#d8576b"
             ],
             [
              0.6666666666666666,
              "#ed7953"
             ],
             [
              0.7777777777777778,
              "#fb9f3a"
             ],
             [
              0.8888888888888888,
              "#fdca26"
             ],
             [
              1,
              "#f0f921"
             ]
            ],
            "type": "histogram2d"
           }
          ],
          "histogram2dcontour": [
           {
            "colorbar": {
             "outlinewidth": 0,
             "ticks": ""
            },
            "colorscale": [
             [
              0,
              "#0d0887"
             ],
             [
              0.1111111111111111,
              "#46039f"
             ],
             [
              0.2222222222222222,
              "#7201a8"
             ],
             [
              0.3333333333333333,
              "#9c179e"
             ],
             [
              0.4444444444444444,
              "#bd3786"
             ],
             [
              0.5555555555555556,
              "#d8576b"
             ],
             [
              0.6666666666666666,
              "#ed7953"
             ],
             [
              0.7777777777777778,
              "#fb9f3a"
             ],
             [
              0.8888888888888888,
              "#fdca26"
             ],
             [
              1,
              "#f0f921"
             ]
            ],
            "type": "histogram2dcontour"
           }
          ],
          "mesh3d": [
           {
            "colorbar": {
             "outlinewidth": 0,
             "ticks": ""
            },
            "type": "mesh3d"
           }
          ],
          "parcoords": [
           {
            "line": {
             "colorbar": {
              "outlinewidth": 0,
              "ticks": ""
             }
            },
            "type": "parcoords"
           }
          ],
          "pie": [
           {
            "automargin": true,
            "type": "pie"
           }
          ],
          "scatter": [
           {
            "fillpattern": {
             "fillmode": "overlay",
             "size": 10,
             "solidity": 0.2
            },
            "type": "scatter"
           }
          ],
          "scatter3d": [
           {
            "line": {
             "colorbar": {
              "outlinewidth": 0,
              "ticks": ""
             }
            },
            "marker": {
             "colorbar": {
              "outlinewidth": 0,
              "ticks": ""
             }
            },
            "type": "scatter3d"
           }
          ],
          "scattercarpet": [
           {
            "marker": {
             "colorbar": {
              "outlinewidth": 0,
              "ticks": ""
             }
            },
            "type": "scattercarpet"
           }
          ],
          "scattergeo": [
           {
            "marker": {
             "colorbar": {
              "outlinewidth": 0,
              "ticks": ""
             }
            },
            "type": "scattergeo"
           }
          ],
          "scattergl": [
           {
            "marker": {
             "colorbar": {
              "outlinewidth": 0,
              "ticks": ""
             }
            },
            "type": "scattergl"
           }
          ],
          "scattermapbox": [
           {
            "marker": {
             "colorbar": {
              "outlinewidth": 0,
              "ticks": ""
             }
            },
            "type": "scattermapbox"
           }
          ],
          "scatterpolar": [
           {
            "marker": {
             "colorbar": {
              "outlinewidth": 0,
              "ticks": ""
             }
            },
            "type": "scatterpolar"
           }
          ],
          "scatterpolargl": [
           {
            "marker": {
             "colorbar": {
              "outlinewidth": 0,
              "ticks": ""
             }
            },
            "type": "scatterpolargl"
           }
          ],
          "scatterternary": [
           {
            "marker": {
             "colorbar": {
              "outlinewidth": 0,
              "ticks": ""
             }
            },
            "type": "scatterternary"
           }
          ],
          "surface": [
           {
            "colorbar": {
             "outlinewidth": 0,
             "ticks": ""
            },
            "colorscale": [
             [
              0,
              "#0d0887"
             ],
             [
              0.1111111111111111,
              "#46039f"
             ],
             [
              0.2222222222222222,
              "#7201a8"
             ],
             [
              0.3333333333333333,
              "#9c179e"
             ],
             [
              0.4444444444444444,
              "#bd3786"
             ],
             [
              0.5555555555555556,
              "#d8576b"
             ],
             [
              0.6666666666666666,
              "#ed7953"
             ],
             [
              0.7777777777777778,
              "#fb9f3a"
             ],
             [
              0.8888888888888888,
              "#fdca26"
             ],
             [
              1,
              "#f0f921"
             ]
            ],
            "type": "surface"
           }
          ],
          "table": [
           {
            "cells": {
             "fill": {
              "color": "#EBF0F8"
             },
             "line": {
              "color": "white"
             }
            },
            "header": {
             "fill": {
              "color": "#C8D4E3"
             },
             "line": {
              "color": "white"
             }
            },
            "type": "table"
           }
          ]
         },
         "layout": {
          "annotationdefaults": {
           "arrowcolor": "#2a3f5f",
           "arrowhead": 0,
           "arrowwidth": 1
          },
          "autotypenumbers": "strict",
          "coloraxis": {
           "colorbar": {
            "outlinewidth": 0,
            "ticks": ""
           }
          },
          "colorscale": {
           "diverging": [
            [
             0,
             "#8e0152"
            ],
            [
             0.1,
             "#c51b7d"
            ],
            [
             0.2,
             "#de77ae"
            ],
            [
             0.3,
             "#f1b6da"
            ],
            [
             0.4,
             "#fde0ef"
            ],
            [
             0.5,
             "#f7f7f7"
            ],
            [
             0.6,
             "#e6f5d0"
            ],
            [
             0.7,
             "#b8e186"
            ],
            [
             0.8,
             "#7fbc41"
            ],
            [
             0.9,
             "#4d9221"
            ],
            [
             1,
             "#276419"
            ]
           ],
           "sequential": [
            [
             0,
             "#0d0887"
            ],
            [
             0.1111111111111111,
             "#46039f"
            ],
            [
             0.2222222222222222,
             "#7201a8"
            ],
            [
             0.3333333333333333,
             "#9c179e"
            ],
            [
             0.4444444444444444,
             "#bd3786"
            ],
            [
             0.5555555555555556,
             "#d8576b"
            ],
            [
             0.6666666666666666,
             "#ed7953"
            ],
            [
             0.7777777777777778,
             "#fb9f3a"
            ],
            [
             0.8888888888888888,
             "#fdca26"
            ],
            [
             1,
             "#f0f921"
            ]
           ],
           "sequentialminus": [
            [
             0,
             "#0d0887"
            ],
            [
             0.1111111111111111,
             "#46039f"
            ],
            [
             0.2222222222222222,
             "#7201a8"
            ],
            [
             0.3333333333333333,
             "#9c179e"
            ],
            [
             0.4444444444444444,
             "#bd3786"
            ],
            [
             0.5555555555555556,
             "#d8576b"
            ],
            [
             0.6666666666666666,
             "#ed7953"
            ],
            [
             0.7777777777777778,
             "#fb9f3a"
            ],
            [
             0.8888888888888888,
             "#fdca26"
            ],
            [
             1,
             "#f0f921"
            ]
           ]
          },
          "colorway": [
           "#636efa",
           "#EF553B",
           "#00cc96",
           "#ab63fa",
           "#FFA15A",
           "#19d3f3",
           "#FF6692",
           "#B6E880",
           "#FF97FF",
           "#FECB52"
          ],
          "font": {
           "color": "#2a3f5f"
          },
          "geo": {
           "bgcolor": "white",
           "lakecolor": "white",
           "landcolor": "#E5ECF6",
           "showlakes": true,
           "showland": true,
           "subunitcolor": "white"
          },
          "hoverlabel": {
           "align": "left"
          },
          "hovermode": "closest",
          "mapbox": {
           "style": "light"
          },
          "paper_bgcolor": "white",
          "plot_bgcolor": "#E5ECF6",
          "polar": {
           "angularaxis": {
            "gridcolor": "white",
            "linecolor": "white",
            "ticks": ""
           },
           "bgcolor": "#E5ECF6",
           "radialaxis": {
            "gridcolor": "white",
            "linecolor": "white",
            "ticks": ""
           }
          },
          "scene": {
           "xaxis": {
            "backgroundcolor": "#E5ECF6",
            "gridcolor": "white",
            "gridwidth": 2,
            "linecolor": "white",
            "showbackground": true,
            "ticks": "",
            "zerolinecolor": "white"
           },
           "yaxis": {
            "backgroundcolor": "#E5ECF6",
            "gridcolor": "white",
            "gridwidth": 2,
            "linecolor": "white",
            "showbackground": true,
            "ticks": "",
            "zerolinecolor": "white"
           },
           "zaxis": {
            "backgroundcolor": "#E5ECF6",
            "gridcolor": "white",
            "gridwidth": 2,
            "linecolor": "white",
            "showbackground": true,
            "ticks": "",
            "zerolinecolor": "white"
           }
          },
          "shapedefaults": {
           "line": {
            "color": "#2a3f5f"
           }
          },
          "ternary": {
           "aaxis": {
            "gridcolor": "white",
            "linecolor": "white",
            "ticks": ""
           },
           "baxis": {
            "gridcolor": "white",
            "linecolor": "white",
            "ticks": ""
           },
           "bgcolor": "#E5ECF6",
           "caxis": {
            "gridcolor": "white",
            "linecolor": "white",
            "ticks": ""
           }
          },
          "title": {
           "x": 0.05
          },
          "xaxis": {
           "automargin": true,
           "gridcolor": "white",
           "linecolor": "white",
           "ticks": "",
           "title": {
            "standoff": 15
           },
           "zerolinecolor": "white",
           "zerolinewidth": 2
          },
          "yaxis": {
           "automargin": true,
           "gridcolor": "white",
           "linecolor": "white",
           "ticks": "",
           "title": {
            "standoff": 15
           },
           "zerolinecolor": "white",
           "zerolinewidth": 2
          }
         }
        }
       }
      },
      "image/png": "[encoded data removed]",
      "text/html": [
       "<div>                            <div id=\"1114e61d-a40a-4d90-a1a6-a5b4eff7733d\" class=\"plotly-graph-div\" style=\"height:1000px; width:100%;\"></div>            <script type=\"text/javascript\">                require([\"plotly\"], function(Plotly) {                    window.PLOTLYENV=window.PLOTLYENV || {};                                    if (document.getElementById(\"1114e61d-a40a-4d90-a1a6-a5b4eff7733d\")) {                    Plotly.newPlot(                        \"1114e61d-a40a-4d90-a1a6-a5b4eff7733d\",                        [{\"hovertext\":[\"['2024-06-10', '2024-01-08', '2024-02-08', '2024-03-08', '2024-04-08', '2024-05-08', '2024-06-08', '2024-07-08', '2024-08-08', '2024-09-08', '2024-10-08', '2024-11-08', '2024-12-08', '2024-01-08', '2024-01-22', '2024-02-05', '2024-02-19', '2024-03-04', '2024-03-18', '2024-04-01', '2024-04-15', '2024-04-29', '2024-05-13', '2024-05-27', '2024-06-10', '2024-06-24', '2024-07-08', '2024-07-22', '2024-08-05', '2024-08-19', '2024-09-02', '2024-09-16', '2024-09-30', '2024-10-14', '2024-10-28', '2024-11-11', '2024-11-25', '2024-12-09', '2024-12-23', '2024-05-07 10:30:00-04:00', '2024-10-29 16:30:00-04:00', '2024-01-13 12:00:00-05:00', '2024-01-04 16:30:00-05:00', '2024-01-18 14:30:00-05:00', '2024-01-09 18:30:00-05:00', '2024-01-12 11:52:30-05:00', '2024-01-19 15:00:00-05:00', '2024-01-30 16:30:00-05:00', '2024-01-23 17:30:00-05:00', '2024-01-22 16:00:00-05:00', '2024-01-24 12:30:00-05:00', '2024-01-29 15:00:00-05:00', '2024-02-27 13:00:00-05:00', '2024-03-05 11:15:00-05:00', '2024-03-11 11:00:00-04:00', '2024-02-13 16:30:00-05:00', '2024-02-14', '2024-02-09 14:15:00-05:00', '2024-02-19 11:54:00-05:00', '2024-02-21 20:06:00-05:00', '2024-02-29 10:30:00-05:00', '2024-02-24 11:15:00-05:00', '2024-02-19 13:09:00-05:00', '2024-02-19 10:04:30-05:00', '2024-03-30 11:45:00-04:00', '2024-03-11 16:30:00-04:00', '2024-04-16 11:07:30-04:00', '2024-04-23 11:07:30-04:00', '2024-04-30 11:07:30-04:00', '2024-03-21', '2024-03-13 14:35:00-04:00', '2024-03-25 16:30:00-04:00', '2024-03-18 15:15:00-04:00', '2024-04-12 16:30:00-04:00', '2024-04-27 11:15:00-04:00', '2024-04-29 13:30:00-04:00', '2024-04-25 16:20:00-04:00', '2024-04-24 16:30:00-04:00', '2024-05-06 13:45:00-04:00', '2024-06-03 13:45:00-04:00', '2024-07-01 13:45:00-04:00', '2024-08-05 13:45:00-04:00', '2024-06-05 09:45:00-04:00', '2024-05-07 17:30:00-04:00', '2024-05-09 11:00:00-04:00', '2024-05-28 18:00:00-04:00', '2024-04-27 18:45:00-04:00', '2024-04-30 13:30:00-04:00', '2024-05-01 13:30:00-04:00', '2024-05-02 13:30:00-04:00', '2024-05-07 16:00:00-04:00', '2024-05-17 13:07:30-04:00', '2024-05-23 09:30:00-04:00', '2024-11-12 10:30:00-05:00', '2024-05-09 14:07:30-04:00', '2024-05-23 14:30:00-04:00', '2024-05-10 10:00:00-04:00', '2024-05-24 11:30:00-04:00']\"],\"mode\":\"markers\",\"r\":[0.5,0.5,0.5,0.5,0.5,0.5,0.5,0.5,0.5,0.5,0.5,0.5,0.5,0.5,0.5,0.5,0.5,0.5,0.5,0.5,0.5,0.5,0.5,0.5,0.5,0.5,0.5,0.5,0.5,0.5,0.5,0.5,0.5,0.5,0.5,0.5,0.5,0.5,0.5,0.5,0.5,0.5,0.5,0.5,0.5,0.5,0.5,0.5,0.5,0.5,0.5,0.5,0.5,0.5,0.5,0.5,0.5,0.5,0.5,0.5,0.5,0.5,0.5,0.5,0.5,0.5,0.5,0.5,0.5,0.5,0.5,0.5,0.5,0.5,0.5,0.5,0.5,0.5,0.5,0.5,0.5,0.5,0.5,0.5,0.5,0.5,0.5,0.5,0.5,0.5,0.5,0.5,0.5,0.5,0.5,0.5,0.5,0.5],\"theta\":[-158.31967213114754,-6.885245901639344,-37.377049180327866,-65.90163934426229,-96.35245901639344,-125.86065573770492,-156.35245901639345,-185.86065573770492,-216.35245901639345,-246.84426229508196,-276.3524590163934,-306.88524590163934,-336.39344262295083,-6.885245901639344,-20.65573770491803,-34.42622950819672,-48.19672131147541,-61.967213114754095,-75.6967213114754,-89.46721311475409,-103.23770491803278,-117.00819672131146,-130.77868852459017,-144.54918032786887,-158.31967213114754,-172.09016393442624,-185.86065573770492,-199.63114754098362,-213.4016393442623,-227.172131147541,-240.94262295081967,-254.71311475409834,-268.483606557377,-282.2540983606557,-296.0245901639344,-309.8360655737705,-323.60655737704917,-337.37704918032784,-351.1475409836066,-125.30737704918032,-297.6844262295082,-12.295081967213115,-3.6270491803278686,-17.315573770491802,-8.62704918032787,-11.306352459016393,-18.31967213114754,-29.200819672131146,-22.35655737704918,-21.311475409836067,-23.135245901639344,-28.15573770491803,-56.5983606557377,-63.41188524590164,-69.26229508196721,-42.971311475409834,-43.278688524590166,-38.94467213114754,-48.68442622950819,-50.98770491803278,-58.463114754098356,-53.575819672131146,-48.73565573770492,-48.60963114754099,-87.98155737704919,-69.48770491803278,-104.67725409836065,-111.5625,-118.44774590163934,-78.64754098360655,-71.37636612021858,-83.25819672131146,-76.32172131147541,-100.96311475409836,-115.50204918032786,-117.56147540983606,-113.7431693989071,-112.76639344262294,-124.45696721311475,-151.99795081967213,-179.5389344262295,-213.96516393442622,-153.80122950819674,-125.59426229508196,-127.29508196721311,-146.2704918032787,-115.80942622950819,-118.54508196721311,-119.52868852459015,-120.51229508196721,-125.5327868852459,-135.25102459016395,-141.00409836065572,-311.25,-127.42315573770492,-141.20901639344262,-128.2377049180328,-142.06967213114754],\"type\":\"scatterpolar\"}],                        {\"template\":{\"data\":{\"histogram2dcontour\":[{\"type\":\"histogram2dcontour\",\"colorbar\":{\"outlinewidth\":0,\"ticks\":\"\"},\"colorscale\":[[0.0,\"#0d0887\"],[0.1111111111111111,\"#46039f\"],[0.2222222222222222,\"#7201a8\"],[0.3333333333333333,\"#9c179e\"],[0.4444444444444444,\"#bd3786\"],[0.5555555555555556,\"#d8576b\"],[0.6666666666666666,\"#ed7953\"],[0.7777777777777778,\"#fb9f3a\"],[0.8888888888888888,\"#fdca26\"],[1.0,\"#f0f921\"]]}],\"choropleth\":[{\"type\":\"choropleth\",\"colorbar\":{\"outlinewidth\":0,\"ticks\":\"\"}}],\"histogram2d\":[{\"type\":\"histogram2d\",\"colorbar\":{\"outlinewidth\":0,\"ticks\":\"\"},\"colorscale\":[[0.0,\"#0d0887\"],[0.1111111111111111,\"#46039f\"],[0.2222222222222222,\"#7201a8\"],[0.3333333333333333,\"#9c179e\"],[0.4444444444444444,\"#bd3786\"],[0.5555555555555556,\"#d8576b\"],[0.6666666666666666,\"#ed7953\"],[0.7777777777777778,\"#fb9f3a\"],[0.8888888888888888,\"#fdca26\"],[1.0,\"#f0f921\"]]}],\"heatmap\":[{\"type\":\"heatmap\",\"colorbar\":{\"outlinewidth\":0,\"ticks\":\"\"},\"colorscale\":[[0.0,\"#0d0887\"],[0.1111111111111111,\"#46039f\"],[0.2222222222222222,\"#7201a8\"],[0.3333333333333333,\"#9c179e\"],[0.4444444444444444,\"#bd3786\"],[0.5555555555555556,\"#d8576b\"],[0.6666666666666666,\"#ed7953\"],[0.7777777777777778,\"#fb9f3a\"],[0.8888888888888888,\"#fdca26\"],[1.0,\"#f0f921\"]]}],\"heatmapgl\":[{\"type\":\"heatmapgl\",\"colorbar\":{\"outlinewidth\":0,\"ticks\":\"\"},\"colorscale\":[[0.0,\"#0d0887\"],[0.1111111111111111,\"#46039f\"],[0.2222222222222222,\"#7201a8\"],[0.3333333333333333,\"#9c179e\"],[0.4444444444444444,\"#bd3786\"],[0.5555555555555556,\"#d8576b\"],[0.6666666666666666,\"#ed7953\"],[0.7777777777777778,\"#fb9f3a\"],[0.8888888888888888,\"#fdca26\"],[1.0,\"#f0f921\"]]}],\"contourcarpet\":[{\"type\":\"contourcarpet\",\"colorbar\":{\"outlinewidth\":0,\"ticks\":\"\"}}],\"contour\":[{\"type\":\"contour\",\"colorbar\":{\"outlinewidth\":0,\"ticks\":\"\"},\"colorscale\":[[0.0,\"#0d0887\"],[0.1111111111111111,\"#46039f\"],[0.2222222222222222,\"#7201a8\"],[0.3333333333333333,\"#9c179e\"],[0.4444444444444444,\"#bd3786\"],[0.5555555555555556,\"#d8576b\"],[0.6666666666666666,\"#ed7953\"],[0.7777777777777778,\"#fb9f3a\"],[0.8888888888888888,\"#fdca26\"],[1.0,\"#f0f921\"]]}],\"surface\":[{\"type\":\"surface\",\"colorbar\":{\"outlinewidth\":0,\"ticks\":\"\"},\"colorscale\":[[0.0,\"#0d0887\"],[0.1111111111111111,\"#46039f\"],[0.2222222222222222,\"#7201a8\"],[0.3333333333333333,\"#9c179e\"],[0.4444444444444444,\"#bd3786\"],[0.5555555555555556,\"#d8576b\"],[0.6666666666666666,\"#ed7953\"],[0.7777777777777778,\"#fb9f3a\"],[0.8888888888888888,\"#fdca26\"],[1.0,\"#f0f921\"]]}],\"mesh3d\":[{\"type\":\"mesh3d\",\"colorbar\":{\"outlinewidth\":0,\"ticks\":\"\"}}],\"scatter\":[{\"fillpattern\":{\"fillmode\":\"overlay\",\"size\":10,\"solidity\":0.2},\"type\":\"scatter\"}],\"parcoords\":[{\"type\":\"parcoords\",\"line\":{\"colorbar\":{\"outlinewidth\":0,\"ticks\":\"\"}}}],\"scatterpolargl\":[{\"type\":\"scatterpolargl\",\"marker\":{\"colorbar\":{\"outlinewidth\":0,\"ticks\":\"\"}}}],\"bar\":[{\"error_x\":{\"color\":\"#2a3f5f\"},\"error_y\":{\"color\":\"#2a3f5f\"},\"marker\":{\"line\":{\"color\":\"#E5ECF6\",\"width\":0.5},\"pattern\":{\"fillmode\":\"overlay\",\"size\":10,\"solidity\":0.2}},\"type\":\"bar\"}],\"scattergeo\":[{\"type\":\"scattergeo\",\"marker\":{\"colorbar\":{\"outlinewidth\":0,\"ticks\":\"\"}}}],\"scatterpolar\":[{\"type\":\"scatterpolar\",\"marker\":{\"colorbar\":{\"outlinewidth\":0,\"ticks\":\"\"}}}],\"histogram\":[{\"marker\":{\"pattern\":{\"fillmode\":\"overlay\",\"size\":10,\"solidity\":0.2}},\"type\":\"histogram\"}],\"scattergl\":[{\"type\":\"scattergl\",\"marker\":{\"colorbar\":{\"outlinewidth\":0,\"ticks\":\"\"}}}],\"scatter3d\":[{\"type\":\"scatter3d\",\"line\":{\"colorbar\":{\"outlinewidth\":0,\"ticks\":\"\"}},\"marker\":{\"colorbar\":{\"outlinewidth\":0,\"ticks\":\"\"}}}],\"scattermapbox\":[{\"type\":\"scattermapbox\",\"marker\":{\"colorbar\":{\"outlinewidth\":0,\"ticks\":\"\"}}}],\"scatterternary\":[{\"type\":\"scatterternary\",\"marker\":{\"colorbar\":{\"outlinewidth\":0,\"ticks\":\"\"}}}],\"scattercarpet\":[{\"type\":\"scattercarpet\",\"marker\":{\"colorbar\":{\"outlinewidth\":0,\"ticks\":\"\"}}}],\"carpet\":[{\"aaxis\":{\"endlinecolor\":\"#2a3f5f\",\"gridcolor\":\"white\",\"linecolor\":\"white\",\"minorgridcolor\":\"white\",\"startlinecolor\":\"#2a3f5f\"},\"baxis\":{\"endlinecolor\":\"#2a3f5f\",\"gridcolor\":\"white\",\"linecolor\":\"white\",\"minorgridcolor\":\"white\",\"startlinecolor\":\"#2a3f5f\"},\"type\":\"carpet\"}],\"table\":[{\"cells\":{\"fill\":{\"color\":\"#EBF0F8\"},\"line\":{\"color\":\"white\"}},\"header\":{\"fill\":{\"color\":\"#C8D4E3\"},\"line\":{\"color\":\"white\"}},\"type\":\"table\"}],\"barpolar\":[{\"marker\":{\"line\":{\"color\":\"#E5ECF6\",\"width\":0.5},\"pattern\":{\"fillmode\":\"overlay\",\"size\":10,\"solidity\":0.2}},\"type\":\"barpolar\"}],\"pie\":[{\"automargin\":true,\"type\":\"pie\"}]},\"layout\":{\"autotypenumbers\":\"strict\",\"colorway\":[\"#636efa\",\"#EF553B\",\"#00cc96\",\"#ab63fa\",\"#FFA15A\",\"#19d3f3\",\"#FF6692\",\"#B6E880\",\"#FF97FF\",\"#FECB52\"],\"font\":{\"color\":\"#2a3f5f\"},\"hovermode\":\"closest\",\"hoverlabel\":{\"align\":\"left\"},\"paper_bgcolor\":\"white\",\"plot_bgcolor\":\"#E5ECF6\",\"polar\":{\"bgcolor\":\"#E5ECF6\",\"angularaxis\":{\"gridcolor\":\"white\",\"linecolor\":\"white\",\"ticks\":\"\"},\"radialaxis\":{\"gridcolor\":\"white\",\"linecolor\":\"white\",\"ticks\":\"\"}},\"ternary\":{\"bgcolor\":\"#E5ECF6\",\"aaxis\":{\"gridcolor\":\"white\",\"linecolor\":\"white\",\"ticks\":\"\"},\"baxis\":{\"gridcolor\":\"white\",\"linecolor\":\"white\",\"ticks\":\"\"},\"caxis\":{\"gridcolor\":\"white\",\"linecolor\":\"white\",\"ticks\":\"\"}},\"coloraxis\":{\"colorbar\":{\"outlinewidth\":0,\"ticks\":\"\"}},\"colorscale\":{\"sequential\":[[0.0,\"#0d0887\"],[0.1111111111111111,\"#46039f\"],[0.2222222222222222,\"#7201a8\"],[0.3333333333333333,\"#9c179e\"],[0.4444444444444444,\"#bd3786\"],[0.5555555555555556,\"#d8576b\"],[0.6666666666666666,\"#ed7953\"],[0.7777777777777778,\"#fb9f3a\"],[0.8888888888888888,\"#fdca26\"],[1.0,\"#f0f921\"]],\"sequentialminus\":[[0.0,\"#0d0887\"],[0.1111111111111111,\"#46039f\"],[0.2222222222222222,\"#7201a8\"],[0.3333333333333333,\"#9c179e\"],[0.4444444444444444,\"#bd3786\"],[0.5555555555555556,\"#d8576b\"],[0.6666666666666666,\"#ed7953\"],[0.7777777777777778,\"#fb9f3a\"],[0.8888888888888888,\"#fdca26\"],[1.0,\"#f0f921\"]],\"diverging\":[[0,\"#8e0152\"],[0.1,\"#c51b7d\"],[0.2,\"#de77ae\"],[0.3,\"#f1b6da\"],[0.4,\"#fde0ef\"],[0.5,\"#f7f7f7\"],[0.6,\"#e6f5d0\"],[0.7,\"#b8e186\"],[0.8,\"#7fbc41\"],[0.9,\"#4d9221\"],[1,\"#276419\"]]},\"xaxis\":{\"gridcolor\":\"white\",\"linecolor\":\"white\",\"ticks\":\"\",\"title\":{\"standoff\":15},\"zerolinecolor\":\"white\",\"automargin\":true,\"zerolinewidth\":2},\"yaxis\":{\"gridcolor\":\"white\",\"linecolor\":\"white\",\"ticks\":\"\",\"title\":{\"standoff\":15},\"zerolinecolor\":\"white\",\"automargin\":true,\"zerolinewidth\":2},\"scene\":{\"xaxis\":{\"backgroundcolor\":\"#E5ECF6\",\"gridcolor\":\"white\",\"linecolor\":\"white\",\"showbackground\":true,\"ticks\":\"\",\"zerolinecolor\":\"white\",\"gridwidth\":2},\"yaxis\":{\"backgroundcolor\":\"#E5ECF6\",\"gridcolor\":\"white\",\"linecolor\":\"white\",\"showbackground\":true,\"ticks\":\"\",\"zerolinecolor\":\"white\",\"gridwidth\":2},\"zaxis\":{\"backgroundcolor\":\"#E5ECF6\",\"gridcolor\":\"white\",\"linecolor\":\"white\",\"showbackground\":true,\"ticks\":\"\",\"zerolinecolor\":\"white\",\"gridwidth\":2}},\"shapedefaults\":{\"line\":{\"color\":\"#2a3f5f\"}},\"annotationdefaults\":{\"arrowcolor\":\"#2a3f5f\",\"arrowhead\":0,\"arrowwidth\":1},\"geo\":{\"bgcolor\":\"white\",\"landcolor\":\"#E5ECF6\",\"subunitcolor\":\"white\",\"showland\":true,\"showlakes\":true,\"lakecolor\":\"white\"},\"title\":{\"x\":0.05},\"mapbox\":{\"style\":\"light\"}}},\"height\":1000,\"polar\":{\"radialaxis\":{\"range\":[0,1]}}},                        {\"responsive\": true}                    ).then(function(){\n",
       "                            \n",
       "var gd = document.getElementById('1114e61d-a40a-4d90-a1a6-a5b4eff7733d');\n",
       "var x = new MutationObserver(function (mutations, observer) {{\n",
       "        var display = window.getComputedStyle(gd).display;\n",
       "        if (!display || display === 'none') {{\n",
       "            console.log([gd, 'removed!']);\n",
       "            Plotly.purge(gd);\n",
       "            observer.disconnect();\n",
       "        }}\n",
       "}});\n",
       "\n",
       "// Listen for the removal of the full notebook cells\n",
       "var notebookContainer = gd.closest('#notebook-container');\n",
       "if (notebookContainer) {{\n",
       "    x.observe(notebookContainer, {childList: true});\n",
       "}}\n",
       "\n",
       "// Listen for the clearing of the current output cell\n",
       "var outputEl = gd.closest('.output');\n",
       "if (outputEl) {{\n",
       "    x.observe(outputEl, {childList: true});\n",
       "}}\n",
       "\n",
       "                        })                };                });            </script>        </div>"
      ]
     },
     "metadata": {},
     "output_type": "display_data"
    }
   ],
   "source": [
    "y24 = CalendarElement(year=2024)\n",
    "\n",
    "eve = gcal.get_events(y24.start.datetime(), y24.stop.datetime(), single_events=True)\n",
    "eve = [model.EventWrap(ev) for ev in eve if (ev.end - ev.start) / timedelta(days=1) <=1]\n",
    "\n",
    "def make_point_trace(events, d_to_th):\n",
    "    r = []\n",
    "    theta = []\n",
    "    text = []\n",
    "    for eve in events:\n",
    "        r.append(.5)\n",
    "        theta.append(model.to_theta(eve.mid))\n",
    "        text.append(str(eve.mid))\n",
    "        \n",
    "    t = go.Scatterpolar(r=r, theta=theta, mode=\"markers\",\n",
    "                        hovertext=[text]\n",
    "                       )\n",
    "    return t\n",
    "\n",
    "t = make_point_trace(eve, 366 / 360)\n",
    "fig = go.Figure(data=t)\n",
    "fig.update_layout(height=1000)\n",
    "fig.update_polars(radialaxis_range=[0, 1])\n",
    "fig.show()\n",
    "\n",
    "\n",
    "    \n",
    "    "
   ]
  },
  {
   "cell_type": "code",
   "execution_count": null,
   "id": "cd142df0-bb00-45d9-8221-8acf74f94051",
   "metadata": {},
   "outputs": [],
   "source": [
    "eve[0].duration"
   ]
  },
  {
   "cell_type": "code",
   "execution_count": 8,
   "id": "fc8cc112-b6a0-4ffd-9490-e18b5fd2dd1b",
   "metadata": {},
   "outputs": [
    {
     "ename": "RecursionError",
     "evalue": "maximum recursion depth exceeded",
     "output_type": "error",
     "traceback": [
      "\u001b[0;31m---------------------------------------------------------------------------\u001b[0m",
      "\u001b[0;31mRecursionError\u001b[0m                            Traceback (most recent call last)",
      "Cell \u001b[0;32mIn[8], line 1\u001b[0m\n\u001b[0;32m----> 1\u001b[0m \u001b[43mmodel\u001b[49m\u001b[38;5;241;43m.\u001b[39;49m\u001b[43mEventWrap\u001b[49m\u001b[43m(\u001b[49m\u001b[43meve\u001b[49m\u001b[43m)\u001b[49m\n",
      "File \u001b[0;32m~/Documents/PythonProjects/taskbraid/python/circlecal/circle_cal/model.py:999\u001b[0m, in \u001b[0;36mEventWrap.__init__\u001b[0;34m(self, gcsaevent)\u001b[0m\n\u001b[1;32m    998\u001b[0m \u001b[38;5;28;01mdef\u001b[39;00m \u001b[38;5;21m__init__\u001b[39m(\u001b[38;5;28mself\u001b[39m, gcsaevent):\n\u001b[0;32m--> 999\u001b[0m     \u001b[38;5;28;43mself\u001b[39;49m\u001b[38;5;241;43m.\u001b[39;49m\u001b[43mgcsaevent\u001b[49m \u001b[38;5;241m=\u001b[39m gcsaevent\n",
      "File \u001b[0;32m~/Documents/PythonProjects/taskbraid/python/circlecal/circle_cal/model.py:1011\u001b[0m, in \u001b[0;36mEventWrap.__setattr__\u001b[0;34m(self, name, value)\u001b[0m\n\u001b[1;32m   1010\u001b[0m \u001b[38;5;28;01mdef\u001b[39;00m \u001b[38;5;21m__setattr__\u001b[39m(\u001b[38;5;28mself\u001b[39m, name, value):\n\u001b[0;32m-> 1011\u001b[0m     \u001b[38;5;28msetattr\u001b[39m(\u001b[38;5;28;43mself\u001b[39;49m\u001b[38;5;241;43m.\u001b[39;49m\u001b[43mgcsaevent\u001b[49m, name, value)\n",
      "File \u001b[0;32m~/Documents/PythonProjects/taskbraid/python/circlecal/circle_cal/model.py:1008\u001b[0m, in \u001b[0;36mEventWrap.__getattr__\u001b[0;34m(self, name)\u001b[0m\n\u001b[1;32m   1007\u001b[0m \u001b[38;5;28;01mdef\u001b[39;00m \u001b[38;5;21m__getattr__\u001b[39m(\u001b[38;5;28mself\u001b[39m, name):\n\u001b[0;32m-> 1008\u001b[0m     \u001b[38;5;28;01mreturn\u001b[39;00m \u001b[38;5;28mgetattr\u001b[39m(\u001b[38;5;28;43mself\u001b[39;49m\u001b[38;5;241;43m.\u001b[39;49m\u001b[43mgcsaevent\u001b[49m, name)\n",
      "File \u001b[0;32m~/Documents/PythonProjects/taskbraid/python/circlecal/circle_cal/model.py:1008\u001b[0m, in \u001b[0;36mEventWrap.__getattr__\u001b[0;34m(self, name)\u001b[0m\n\u001b[1;32m   1007\u001b[0m \u001b[38;5;28;01mdef\u001b[39;00m \u001b[38;5;21m__getattr__\u001b[39m(\u001b[38;5;28mself\u001b[39m, name):\n\u001b[0;32m-> 1008\u001b[0m     \u001b[38;5;28;01mreturn\u001b[39;00m \u001b[38;5;28mgetattr\u001b[39m(\u001b[38;5;28;43mself\u001b[39;49m\u001b[38;5;241;43m.\u001b[39;49m\u001b[43mgcsaevent\u001b[49m, name)\n",
      "    \u001b[0;31m[... skipping similar frames: EventWrap.__getattr__ at line 1008 (2972 times)]\u001b[0m\n",
      "File \u001b[0;32m~/Documents/PythonProjects/taskbraid/python/circlecal/circle_cal/model.py:1008\u001b[0m, in \u001b[0;36mEventWrap.__getattr__\u001b[0;34m(self, name)\u001b[0m\n\u001b[1;32m   1007\u001b[0m \u001b[38;5;28;01mdef\u001b[39;00m \u001b[38;5;21m__getattr__\u001b[39m(\u001b[38;5;28mself\u001b[39m, name):\n\u001b[0;32m-> 1008\u001b[0m     \u001b[38;5;28;01mreturn\u001b[39;00m \u001b[38;5;28mgetattr\u001b[39m(\u001b[38;5;28;43mself\u001b[39;49m\u001b[38;5;241;43m.\u001b[39;49m\u001b[43mgcsaevent\u001b[49m, name)\n",
      "\u001b[0;31mRecursionError\u001b[0m: maximum recursion depth exceeded"
     ]
    }
   ],
   "source": [
    "model.EventWrap(eve)"
   ]
  },
  {
   "cell_type": "code",
   "execution_count": 61,
   "id": "28251135-075d-45ad-ae4a-a55537e79830",
   "metadata": {},
   "outputs": [
    {
     "data": {
      "text/plain": [
       "datetime.timedelta(days=127, seconds=32400)"
      ]
     },
     "execution_count": 61,
     "metadata": {},
     "output_type": "execute_result"
    }
   ],
   "source": [
    "eve[39].start - timezone(\"US/Eastern\").localize(y24.start.datetime())"
   ]
  },
  {
   "cell_type": "code",
   "execution_count": 65,
   "id": "47afed41-d204-434a-b5e1-5c0213c1a1f3",
   "metadata": {},
   "outputs": [
    {
     "ename": "ValueError",
     "evalue": "Not naive datetime (tzinfo is already set)",
     "output_type": "error",
     "traceback": [
      "\u001b[0;31m---------------------------------------------------------------------------\u001b[0m",
      "\u001b[0;31mValueError\u001b[0m                                Traceback (most recent call last)",
      "Cell \u001b[0;32mIn[65], line 1\u001b[0m\n\u001b[0;32m----> 1\u001b[0m \u001b[43mtimezone\u001b[49m\u001b[43m(\u001b[49m\u001b[38;5;124;43m\"\u001b[39;49m\u001b[38;5;124;43mUS/Eastern\u001b[39;49m\u001b[38;5;124;43m\"\u001b[39;49m\u001b[43m)\u001b[49m\u001b[38;5;241;43m.\u001b[39;49m\u001b[43mlocalize\u001b[49m\u001b[43m(\u001b[49m\u001b[43meve\u001b[49m\u001b[43m[\u001b[49m\u001b[38;5;241;43m39\u001b[39;49m\u001b[43m]\u001b[49m\u001b[38;5;241;43m.\u001b[39;49m\u001b[43mstart\u001b[49m\u001b[43m)\u001b[49m\n",
      "File \u001b[0;32m~/Library/Caches/pypoetry/virtualenvs/circle-cal-KrYc5OLF-py3.12/lib/python3.12/site-packages/pytz/tzinfo.py:321\u001b[0m, in \u001b[0;36mDstTzInfo.localize\u001b[0;34m(self, dt, is_dst)\u001b[0m\n\u001b[1;32m    262\u001b[0m \u001b[38;5;250m\u001b[39m\u001b[38;5;124;03m'''Convert naive time to local time.\u001b[39;00m\n\u001b[1;32m    263\u001b[0m \n\u001b[1;32m    264\u001b[0m \u001b[38;5;124;03mThis method should be used to construct localtimes, rather\u001b[39;00m\n\u001b[0;32m   (...)\u001b[0m\n\u001b[1;32m    318\u001b[0m \u001b[38;5;124;03mNon-existent\u001b[39;00m\n\u001b[1;32m    319\u001b[0m \u001b[38;5;124;03m'''\u001b[39;00m\n\u001b[1;32m    320\u001b[0m \u001b[38;5;28;01mif\u001b[39;00m dt\u001b[38;5;241m.\u001b[39mtzinfo \u001b[38;5;129;01mis\u001b[39;00m \u001b[38;5;129;01mnot\u001b[39;00m \u001b[38;5;28;01mNone\u001b[39;00m:\n\u001b[0;32m--> 321\u001b[0m     \u001b[38;5;28;01mraise\u001b[39;00m \u001b[38;5;167;01mValueError\u001b[39;00m(\u001b[38;5;124m'\u001b[39m\u001b[38;5;124mNot naive datetime (tzinfo is already set)\u001b[39m\u001b[38;5;124m'\u001b[39m)\n\u001b[1;32m    323\u001b[0m \u001b[38;5;66;03m# Find the two best possibilities.\u001b[39;00m\n\u001b[1;32m    324\u001b[0m possible_loc_dt \u001b[38;5;241m=\u001b[39m \u001b[38;5;28mset\u001b[39m()\n",
      "\u001b[0;31mValueError\u001b[0m: Not naive datetime (tzinfo is already set)"
     ]
    }
   ],
   "source": [
    "timezone(\"US/Eastern\").localize(eve[39].start)"
   ]
  },
  {
   "cell_type": "code",
   "execution_count": 72,
   "id": "e80b7ab4-83a9-4e1f-9bc9-38b34f6d5556",
   "metadata": {},
   "outputs": [
    {
     "data": {
      "text/plain": [
       "datetime.timedelta(days=127, seconds=32400)"
      ]
     },
     "execution_count": 72,
     "metadata": {},
     "output_type": "execute_result"
    }
   ],
   "source": [
    "timedelta(seconds=eve[39].start.timestamp() - y24.start.datetime().timestamp())"
   ]
  },
  {
   "cell_type": "code",
   "execution_count": 77,
   "id": "2615381b-0b38-48ca-8f1f-2a6b288049ba",
   "metadata": {},
   "outputs": [
    {
     "data": {
      "text/plain": [
       "datetime.datetime(2024, 5, 17, 17, 43, 15, 831087, tzinfo=<DstTzInfo 'US/Eastern' EDT-1 day, 20:00:00 DST>)"
      ]
     },
     "execution_count": 77,
     "metadata": {},
     "output_type": "execute_result"
    }
   ],
   "source": [
    "timezone(\"US/Eastern\").localize(datetime.now())"
   ]
  },
  {
   "cell_type": "code",
   "execution_count": 86,
   "id": "ff79d6d0-c092-47db-ad24-b270bef3c97f",
   "metadata": {},
   "outputs": [
    {
     "ename": "AttributeError",
     "evalue": "'datetime.datetime' object has no attribute 'offset'",
     "output_type": "error",
     "traceback": [
      "\u001b[0;31m---------------------------------------------------------------------------\u001b[0m",
      "\u001b[0;31mAttributeError\u001b[0m                            Traceback (most recent call last)",
      "Cell \u001b[0;32mIn[86], line 1\u001b[0m\n\u001b[0;32m----> 1\u001b[0m \u001b[43meve\u001b[49m\u001b[43m[\u001b[49m\u001b[38;5;241;43m39\u001b[39;49m\u001b[43m]\u001b[49m\u001b[38;5;241;43m.\u001b[39;49m\u001b[43mstart\u001b[49m\u001b[38;5;241;43m.\u001b[39;49m\u001b[43moffset\u001b[49m\n",
      "\u001b[0;31mAttributeError\u001b[0m: 'datetime.datetime' object has no attribute 'offset'"
     ]
    }
   ],
   "source": [
    "eve[39].start.offset"
   ]
  },
  {
   "cell_type": "code",
   "execution_count": 89,
   "id": "3d214fdb-983e-44b7-a585-1dc8658fb7df",
   "metadata": {},
   "outputs": [
    {
     "ename": "AttributeError",
     "evalue": "'datetime.date' object has no attribute 'timestamp'",
     "output_type": "error",
     "traceback": [
      "\u001b[0;31m---------------------------------------------------------------------------\u001b[0m",
      "\u001b[0;31mAttributeError\u001b[0m                            Traceback (most recent call last)",
      "Cell \u001b[0;32mIn[89], line 1\u001b[0m\n\u001b[0;32m----> 1\u001b[0m \u001b[43mdate\u001b[49m\u001b[43m(\u001b[49m\u001b[38;5;241;43m2024\u001b[39;49m\u001b[43m,\u001b[49m\u001b[43m \u001b[49m\u001b[38;5;241;43m1\u001b[39;49m\u001b[43m,\u001b[49m\u001b[43m \u001b[49m\u001b[38;5;241;43m1\u001b[39;49m\u001b[43m)\u001b[49m\u001b[38;5;241;43m.\u001b[39;49m\u001b[43mtimestamp\u001b[49m()\n",
      "\u001b[0;31mAttributeError\u001b[0m: 'datetime.date' object has no attribute 'timestamp'"
     ]
    }
   ],
   "source": []
  },
  {
   "cell_type": "code",
   "execution_count": 91,
   "id": "885179bb-c4c1-4a8a-840e-3e82ef10f5d6",
   "metadata": {},
   "outputs": [
    {
     "data": {
      "text/plain": [
       "datetime.timedelta(days=-365)"
      ]
     },
     "execution_count": 91,
     "metadata": {},
     "output_type": "execute_result"
    }
   ],
   "source": [
    "date(2023,1, 1) - date(2024, 1, 1)"
   ]
  },
  {
   "cell_type": "code",
   "execution_count": 92,
   "id": "7f1c0148-5419-40e0-9f73-3740571deb06",
   "metadata": {},
   "outputs": [
    {
     "data": {
      "text/plain": [
       "(datetime.date(2024, 1, 8), datetime.date(2024, 1, 9))"
      ]
     },
     "execution_count": 92,
     "metadata": {},
     "output_type": "execute_result"
    }
   ],
   "source": [
    "eve[1].start, eve[1].end"
   ]
  },
  {
   "cell_type": "code",
   "execution_count": 96,
   "id": "dac54b4b-10b4-4903-a931-ebd6ce6a7e85",
   "metadata": {},
   "outputs": [
    {
     "data": {
      "text/plain": [
       "True"
      ]
     },
     "execution_count": 96,
     "metadata": {},
     "output_type": "execute_result"
    }
   ],
   "source": [
    "(1,2) > (0,3)"
   ]
  },
  {
   "cell_type": "code",
   "execution_count": 98,
   "id": "ee419af1-a04f-402f-b1d1-391ea19b6051",
   "metadata": {},
   "outputs": [],
   "source": [
    "d = date.today()"
   ]
  },
  {
   "cell_type": "code",
   "execution_count": 99,
   "id": "6e2abc8b-8af5-4b8d-b80c-e0d6ba7e94b3",
   "metadata": {},
   "outputs": [
    {
     "data": {
      "text/plain": [
       "datetime.date(2024, 5, 17)"
      ]
     },
     "execution_count": 99,
     "metadata": {},
     "output_type": "execute_result"
    }
   ],
   "source": []
  },
  {
   "cell_type": "code",
   "execution_count": 101,
   "id": "a9c7466b-88c8-425a-bc6c-f06e7c271d64",
   "metadata": {},
   "outputs": [
    {
     "data": {
      "text/plain": [
       "datetime.timedelta(seconds=43200)"
      ]
     },
     "execution_count": 101,
     "metadata": {},
     "output_type": "execute_result"
    }
   ],
   "source": [
    "timedelta(days=1) / 2"
   ]
  },
  {
   "cell_type": "code",
   "execution_count": null,
   "id": "7623a5b0-a33b-4974-bcd2-71fbaa5a3f5b",
   "metadata": {},
   "outputs": [],
   "source": []
  }
 ],
 "metadata": {
  "kernelspec": {
   "display_name": "Python 3 (ipykernel)",
   "language": "python",
   "name": "python3"
  },
  "language_info": {
   "codemirror_mode": {
    "name": "ipython",
    "version": 3
   },
   "file_extension": ".py",
   "mimetype": "text/x-python",
   "name": "python",
   "nbconvert_exporter": "python",
   "pygments_lexer": "ipython3",
   "version": "3.12.3"
  }
 },
 "nbformat": 4,
 "nbformat_minor": 5
}
