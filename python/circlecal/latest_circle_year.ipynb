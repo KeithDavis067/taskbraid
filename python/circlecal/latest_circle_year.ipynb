{
 "cells": [
  {
   "cell_type": "code",
   "execution_count": 1,
   "id": "58844e03-d44e-4b54-bd67-c0ac6b5a4cfb",
   "metadata": {},
   "outputs": [],
   "source": [
    "from gcsa.event import Event\n",
    "from gcsa.google_calendar import GoogleCalendar\n",
    "from gcsa.recurrence import Recurrence, DAILY, SU, SA\n",
    "\n",
    "import plotly.express as px\n",
    "import plotly.graph_objects as go\n",
    "\n",
    "import pandas as pd\n",
    "\n",
    "from datetime import datetime, timedelta, date\n",
    "import dateutil\n",
    "from dateutil.parser import parse\n",
    "import calendar\n",
    "import numpy as np\n",
    "from circle_cal.model import CalendarElement\n",
    "import circle_cal as cc\n",
    "import circle_cal.model as model\n",
    "import pathlib\n",
    "from rich import print\n",
    "import pytz\n",
    "from pytz import timezone"
   ]
  },
  {
   "cell_type": "code",
   "execution_count": 2,
   "id": "faab0ba5-96a2-42de-9264-20f3515f5c03",
   "metadata": {},
   "outputs": [],
   "source": [
    "cred = pathlib.Path('/Users/kdavis10/.config/.credentials')\n",
    "cred_json = \"pygooglecal.apps.googleusercontent.com.json\"\n",
    "\n",
    "try:\n",
    "    gcal = GoogleCalendar('keithwdavis@gmail.com',\n",
    "                          credentials_path=cred / cred_json)\n",
    "except Exception as e:\n",
    "    (cred / \"token.pickle\").unlink()"
   ]
  },
  {
   "cell_type": "code",
   "execution_count": 3,
   "id": "8cc5e227-d3bf-4fe5-b9d4-f5c9035e63f0",
   "metadata": {},
   "outputs": [
    {
     "data": {
      "text/plain": [
       "366"
      ]
     },
     "execution_count": 3,
     "metadata": {},
     "output_type": "execute_result"
    }
   ],
   "source": [
    "y24 = CalendarElement(year=2024)\n",
    "len(list(y24.recursive_iteration(\"day\")))"
   ]
  },
  {
   "cell_type": "code",
   "execution_count": 27,
   "id": "8a8467cc-c455-4042-8b0c-627f5015ab9d",
   "metadata": {},
   "outputs": [
    {
     "data": {
      "application/vnd.plotly.v1+json": {
       "config": {
        "plotlyServerURL": "https://plot.ly"
       },
       "data": [
        {
         "hovertext": [
          "2024-06-10 12:00:00 Mom's Birthday",
          "2024-01-08 12:00:00 Nipsco Due",
          "2024-02-08 12:00:00 Nipsco Due",
          "2024-03-08 12:00:00 Nipsco Due",
          "2024-04-08 12:00:00 Nipsco Due",
          "2024-05-08 12:00:00 Nipsco Due",
          "2024-06-08 12:00:00 Nipsco Due",
          "2024-07-08 12:00:00 Nipsco Due",
          "2024-08-08 12:00:00 Nipsco Due",
          "2024-09-08 12:00:00 Nipsco Due",
          "2024-10-08 12:00:00 Nipsco Due",
          "2024-11-08 12:00:00 Nipsco Due",
          "2024-12-08 12:00:00 Nipsco Due",
          "2024-01-08 12:00:00 recycling pickup",
          "2024-01-22 12:00:00 recycling pickup",
          "2024-02-05 12:00:00 recycling pickup",
          "2024-02-19 12:00:00 recycling pickup",
          "2024-03-04 12:00:00 recycling pickup",
          "2024-03-18 12:00:00 recycling pickup",
          "2024-04-01 12:00:00 recycling pickup",
          "2024-04-15 12:00:00 recycling pickup",
          "2024-04-29 12:00:00 recycling pickup",
          "2024-05-13 12:00:00 recycling pickup",
          "2024-05-27 12:00:00 recycling pickup",
          "2024-06-10 12:00:00 recycling pickup",
          "2024-06-24 12:00:00 recycling pickup",
          "2024-07-08 12:00:00 recycling pickup",
          "2024-07-22 12:00:00 recycling pickup",
          "2024-08-05 12:00:00 recycling pickup",
          "2024-08-19 12:00:00 recycling pickup",
          "2024-09-02 12:00:00 recycling pickup",
          "2024-09-16 12:00:00 recycling pickup",
          "2024-09-30 12:00:00 recycling pickup",
          "2024-10-14 12:00:00 recycling pickup",
          "2024-10-28 12:00:00 recycling pickup",
          "2024-11-11 12:00:00 recycling pickup",
          "2024-11-25 12:00:00 recycling pickup",
          "2024-12-09 12:00:00 recycling pickup",
          "2024-12-23 12:00:00 recycling pickup",
          "2024-05-07 10:30:00-04:00 Dentist",
          "2024-10-29 16:30:00-04:00 Dermatology",
          "2024-01-13 12:00:00-05:00 Robby meeting",
          "2024-01-04 16:30:00-05:00 Therapy",
          "2024-01-18 14:30:00-05:00 Therapy",
          "2024-01-09 18:30:00-05:00 Reservation at Jesús Latin Grill",
          "2024-01-12 11:52:30-05:00 PT",
          "2024-01-19 15:00:00-05:00 physio appointment",
          "2024-01-30 16:30:00-05:00 therapy",
          "2024-01-23 17:30:00-05:00 PT",
          "2024-01-22 16:00:00-05:00 Eye appt ent",
          "2024-01-24 12:30:00-05:00 Lunch",
          "2024-01-29 15:00:00-05:00 PT",
          "2024-02-27 13:00:00-05:00 PT",
          "2024-03-05 11:15:00-05:00 Physical Therapy",
          "2024-03-11 11:00:00-04:00 physical therapy",
          "2024-02-13 16:30:00-05:00 therapy",
          "2024-02-14 12:00:00 Finish Chapter 1",
          "2024-02-09 14:15:00-05:00 haircut",
          "2024-02-19 11:54:00-05:00 Flight# UA5309 from SBN -> ORD\n\t (1 hour and 9 mins.)  Layover of 1 hour and 21 mins.  Flight# 2617 from ORD -> BOS\n\t (2 hours and 18 mins.)",
          "2024-02-21 20:06:00-05:00 Flight# DL2061 from BOS -> DTW\n\t (2 hours and 33 mins.)  Layover of 1 hour and 2 mins.  Flight# 3751 from DTW -> SBN\n\t (1 hour and 7 mins.)",
          "2024-02-29 10:30:00-05:00 Furnace CHeckup.",
          "2024-02-24 11:15:00-05:00 Robby meeting",
          "2024-02-19 13:09:00-05:00 Flight to Boston (UA 2617)",
          "2024-02-19 10:04:30-05:00 Flight to Chicago (UA 5309)",
          "2024-03-30 11:45:00-04:00 Meet with Robby",
          "2024-03-11 16:30:00-04:00 therapy",
          "2024-04-16 11:07:30-04:00 pt",
          "2024-04-23 11:07:30-04:00 pt",
          "2024-04-30 11:07:30-04:00 pt",
          "2024-03-21 12:00:00 RFP Final Draft Due",
          "2024-03-13 14:35:00-04:00 Dune 2",
          "2024-03-25 16:30:00-04:00 therapy",
          "2024-03-18 15:15:00-04:00 haircyt",
          "2024-04-12 16:30:00-04:00 therapy",
          "2024-04-27 11:15:00-04:00 Robby Meeting",
          "2024-04-29 13:30:00-04:00 Jury Duty",
          "2024-04-25 16:20:00-04:00 Foot appointment",
          "2024-04-24 16:30:00-04:00 therapy",
          "2024-05-06 13:45:00-04:00 CFSB ID Monthly Education Call",
          "2024-06-03 13:45:00-04:00 CFSB ID Monthly Education Call",
          "2024-07-01 13:45:00-04:00 CFSB ID Monthly Education Call",
          "2024-08-05 13:45:00-04:00 CFSB ID Monthly Education Call",
          "2024-06-05 09:45:00-04:00 PHone appointee doctor",
          "2024-05-07 17:30:00-04:00 Therapy",
          "2024-05-09 11:00:00-04:00 foot doctor",
          "2024-05-28 18:00:00-04:00 robbykeeting",
          "2024-04-27 18:45:00-04:00 Reservation at Woochi Japanese Fusion & Bar",
          "2024-04-30 13:30:00-04:00 Jury Duty",
          "2024-05-01 13:30:00-04:00 Jury Duty",
          "2024-05-02 13:30:00-04:00 Jury Duty",
          "2024-05-07 16:00:00-04:00 PT Appointment",
          "2024-05-17 13:07:30-04:00 PT",
          "2024-05-23 09:30:00-04:00 PT",
          "2024-11-12 10:30:00-05:00 dentist",
          "2024-05-09 14:07:30-04:00 hIRCUT",
          "2024-05-23 14:30:00-04:00 Therapy",
          "2024-05-10 10:00:00-04:00 Mishawaka Door, LLC",
          "2024-05-24 11:30:00-04:00 Graage door fix",
          "2024-06-09 13:00:00-04:00 CFSB potluck"
         ],
         "marker": {
          "symbol": "diamond-open-dot"
         },
         "mode": "markers",
         "r": [
          0.5,
          0.5,
          0.5,
          0.5,
          0.5,
          0.5,
          0.5,
          0.5,
          0.5,
          0.5,
          0.5,
          0.5,
          0.5,
          0.5,
          0.5,
          0.5,
          0.5,
          0.5,
          0.5,
          0.5,
          0.5,
          0.5,
          0.5,
          0.5,
          0.5,
          0.5,
          0.5,
          0.5,
          0.5,
          0.5,
          0.5,
          0.5,
          0.5,
          0.5,
          0.5,
          0.5,
          0.5,
          0.5,
          0.5,
          0.5,
          0.5,
          0.5,
          0.5,
          0.5,
          0.5,
          0.5,
          0.5,
          0.5,
          0.5,
          0.5,
          0.5,
          0.5,
          0.5,
          0.5,
          0.5,
          0.5,
          0.5,
          0.5,
          0.5,
          0.5,
          0.5,
          0.5,
          0.5,
          0.5,
          0.5,
          0.5,
          0.5,
          0.5,
          0.5,
          0.5,
          0.5,
          0.5,
          0.5,
          0.5,
          0.5,
          0.5,
          0.5,
          0.5,
          0.5,
          0.5,
          0.5,
          0.5,
          0.5,
          0.5,
          0.5,
          0.5,
          0.5,
          0.5,
          0.5,
          0.5,
          0.5,
          0.5,
          0.5,
          0.5,
          0.5,
          0.5,
          0.5,
          0.5,
          0.5
         ],
         "theta": [
          158.81147540983608,
          7.377049180327869,
          37.868852459016395,
          66.39344262295081,
          96.84426229508196,
          126.35245901639345,
          156.84426229508196,
          186.35245901639345,
          216.84426229508196,
          247.3360655737705,
          276.84426229508193,
          307.37704918032784,
          336.88524590163934,
          7.377049180327869,
          21.147540983606557,
          34.91803278688525,
          48.68852459016394,
          62.459016393442624,
          76.18852459016392,
          89.95901639344261,
          103.7295081967213,
          117.5,
          131.2704918032787,
          145.04098360655738,
          158.81147540983608,
          172.58196721311475,
          186.35245901639345,
          200.12295081967213,
          213.89344262295083,
          227.6639344262295,
          241.4344262295082,
          255.20491803278685,
          268.9754098360655,
          282.74590163934425,
          296.5163934426229,
          310.327868852459,
          324.0983606557377,
          337.8688524590164,
          351.6393442622951,
          125.30737704918032,
          297.6844262295082,
          12.295081967213115,
          3.6270491803278686,
          17.315573770491802,
          8.62704918032787,
          11.306352459016393,
          18.31967213114754,
          29.200819672131146,
          22.35655737704918,
          21.311475409836067,
          23.135245901639344,
          28.15573770491803,
          56.5983606557377,
          63.41188524590164,
          69.26229508196721,
          42.971311475409834,
          43.77049180327869,
          38.94467213114754,
          48.68442622950819,
          50.98770491803278,
          58.463114754098356,
          53.575819672131146,
          48.73565573770492,
          48.60963114754099,
          87.98155737704919,
          69.48770491803278,
          104.67725409836065,
          111.5625,
          118.44774590163934,
          79.13934426229508,
          71.37636612021858,
          83.25819672131146,
          76.32172131147541,
          100.96311475409836,
          115.50204918032786,
          117.56147540983606,
          113.7431693989071,
          112.76639344262294,
          124.45696721311475,
          151.99795081967213,
          179.5389344262295,
          213.96516393442622,
          153.80122950819674,
          125.59426229508196,
          127.29508196721311,
          146.2704918032787,
          115.80942622950819,
          118.54508196721311,
          119.52868852459015,
          120.51229508196721,
          125.5327868852459,
          135.25102459016395,
          141.00409836065572,
          311.25,
          127.42315573770492,
          141.20901639344262,
          128.2377049180328,
          142.06967213114754,
          157.86885245901638
         ],
         "type": "scatterpolar"
        }
       ],
       "layout": {
        "autosize": true,
        "polar": {
         "angularaxis": {
          "direction": "counterclockwise",
          "rotation": -90,
          "tickmode": "array",
          "tickvals": [
           30.491803278688526,
           59.01639344262295,
           89.46721311475409,
           118.97540983606557,
           149.46721311475412,
           178.97540983606558,
           209.46721311475412,
           239.95901639344262,
           269.4672131147541,
           299.9590163934426,
           329.5081967213115,
           0
          ],
          "type": "linear"
         },
         "radialaxis": {
          "autorange": true,
          "range": [
           0,
           0.5025506034056102
          ],
          "type": "linear"
         },
         "sector": [
          28.975409836065566,
          149.95901639344262
         ]
        },
        "template": {
         "data": {
          "bar": [
           {
            "error_x": {
             "color": "#2a3f5f"
            },
            "error_y": {
             "color": "#2a3f5f"
            },
            "marker": {
             "line": {
              "color": "#E5ECF6",
              "width": 0.5
             },
             "pattern": {
              "fillmode": "overlay",
              "size": 10,
              "solidity": 0.2
             }
            },
            "type": "bar"
           }
          ],
          "barpolar": [
           {
            "marker": {
             "line": {
              "color": "#E5ECF6",
              "width": 0.5
             },
             "pattern": {
              "fillmode": "overlay",
              "size": 10,
              "solidity": 0.2
             }
            },
            "type": "barpolar"
           }
          ],
          "carpet": [
           {
            "aaxis": {
             "endlinecolor": "#2a3f5f",
             "gridcolor": "white",
             "linecolor": "white",
             "minorgridcolor": "white",
             "startlinecolor": "#2a3f5f"
            },
            "baxis": {
             "endlinecolor": "#2a3f5f",
             "gridcolor": "white",
             "linecolor": "white",
             "minorgridcolor": "white",
             "startlinecolor": "#2a3f5f"
            },
            "type": "carpet"
           }
          ],
          "choropleth": [
           {
            "colorbar": {
             "outlinewidth": 0,
             "ticks": ""
            },
            "type": "choropleth"
           }
          ],
          "contour": [
           {
            "colorbar": {
             "outlinewidth": 0,
             "ticks": ""
            },
            "colorscale": [
             [
              0,
              "#0d0887"
             ],
             [
              0.1111111111111111,
              "#46039f"
             ],
             [
              0.2222222222222222,
              "#7201a8"
             ],
             [
              0.3333333333333333,
              "#9c179e"
             ],
             [
              0.4444444444444444,
              "#bd3786"
             ],
             [
              0.5555555555555556,
              "#d8576b"
             ],
             [
              0.6666666666666666,
              "#ed7953"
             ],
             [
              0.7777777777777778,
              "#fb9f3a"
             ],
             [
              0.8888888888888888,
              "#fdca26"
             ],
             [
              1,
              "#f0f921"
             ]
            ],
            "type": "contour"
           }
          ],
          "contourcarpet": [
           {
            "colorbar": {
             "outlinewidth": 0,
             "ticks": ""
            },
            "type": "contourcarpet"
           }
          ],
          "heatmap": [
           {
            "colorbar": {
             "outlinewidth": 0,
             "ticks": ""
            },
            "colorscale": [
             [
              0,
              "#0d0887"
             ],
             [
              0.1111111111111111,
              "#46039f"
             ],
             [
              0.2222222222222222,
              "#7201a8"
             ],
             [
              0.3333333333333333,
              "#9c179e"
             ],
             [
              0.4444444444444444,
              "#bd3786"
             ],
             [
              0.5555555555555556,
              "#d8576b"
             ],
             [
              0.6666666666666666,
              "#ed7953"
             ],
             [
              0.7777777777777778,
              "#fb9f3a"
             ],
             [
              0.8888888888888888,
              "#fdca26"
             ],
             [
              1,
              "#f0f921"
             ]
            ],
            "type": "heatmap"
           }
          ],
          "heatmapgl": [
           {
            "colorbar": {
             "outlinewidth": 0,
             "ticks": ""
            },
            "colorscale": [
             [
              0,
              "#0d0887"
             ],
             [
              0.1111111111111111,
              "#46039f"
             ],
             [
              0.2222222222222222,
              "#7201a8"
             ],
             [
              0.3333333333333333,
              "#9c179e"
             ],
             [
              0.4444444444444444,
              "#bd3786"
             ],
             [
              0.5555555555555556,
              "#d8576b"
             ],
             [
              0.6666666666666666,
              "#ed7953"
             ],
             [
              0.7777777777777778,
              "#fb9f3a"
             ],
             [
              0.8888888888888888,
              "#fdca26"
             ],
             [
              1,
              "#f0f921"
             ]
            ],
            "type": "heatmapgl"
           }
          ],
          "histogram": [
           {
            "marker": {
             "pattern": {
              "fillmode": "overlay",
              "size": 10,
              "solidity": 0.2
             }
            },
            "type": "histogram"
           }
          ],
          "histogram2d": [
           {
            "colorbar": {
             "outlinewidth": 0,
             "ticks": ""
            },
            "colorscale": [
             [
              0,
              "#0d0887"
             ],
             [
              0.1111111111111111,
              "#46039f"
             ],
             [
              0.2222222222222222,
              "#7201a8"
             ],
             [
              0.3333333333333333,
              "#9c179e"
             ],
             [
              0.4444444444444444,
              "#bd3786"
             ],
             [
              0.5555555555555556,
              "#d8576b"
             ],
             [
              0.6666666666666666,
              "#ed7953"
             ],
             [
              0.7777777777777778,
              "#fb9f3a"
             ],
             [
              0.8888888888888888,
              "#fdca26"
             ],
             [
              1,
              "#f0f921"
             ]
            ],
            "type": "histogram2d"
           }
          ],
          "histogram2dcontour": [
           {
            "colorbar": {
             "outlinewidth": 0,
             "ticks": ""
            },
            "colorscale": [
             [
              0,
              "#0d0887"
             ],
             [
              0.1111111111111111,
              "#46039f"
             ],
             [
              0.2222222222222222,
              "#7201a8"
             ],
             [
              0.3333333333333333,
              "#9c179e"
             ],
             [
              0.4444444444444444,
              "#bd3786"
             ],
             [
              0.5555555555555556,
              "#d8576b"
             ],
             [
              0.6666666666666666,
              "#ed7953"
             ],
             [
              0.7777777777777778,
              "#fb9f3a"
             ],
             [
              0.8888888888888888,
              "#fdca26"
             ],
             [
              1,
              "#f0f921"
             ]
            ],
            "type": "histogram2dcontour"
           }
          ],
          "mesh3d": [
           {
            "colorbar": {
             "outlinewidth": 0,
             "ticks": ""
            },
            "type": "mesh3d"
           }
          ],
          "parcoords": [
           {
            "line": {
             "colorbar": {
              "outlinewidth": 0,
              "ticks": ""
             }
            },
            "type": "parcoords"
           }
          ],
          "pie": [
           {
            "automargin": true,
            "type": "pie"
           }
          ],
          "scatter": [
           {
            "fillpattern": {
             "fillmode": "overlay",
             "size": 10,
             "solidity": 0.2
            },
            "type": "scatter"
           }
          ],
          "scatter3d": [
           {
            "line": {
             "colorbar": {
              "outlinewidth": 0,
              "ticks": ""
             }
            },
            "marker": {
             "colorbar": {
              "outlinewidth": 0,
              "ticks": ""
             }
            },
            "type": "scatter3d"
           }
          ],
          "scattercarpet": [
           {
            "marker": {
             "colorbar": {
              "outlinewidth": 0,
              "ticks": ""
             }
            },
            "type": "scattercarpet"
           }
          ],
          "scattergeo": [
           {
            "marker": {
             "colorbar": {
              "outlinewidth": 0,
              "ticks": ""
             }
            },
            "type": "scattergeo"
           }
          ],
          "scattergl": [
           {
            "marker": {
             "colorbar": {
              "outlinewidth": 0,
              "ticks": ""
             }
            },
            "type": "scattergl"
           }
          ],
          "scattermapbox": [
           {
            "marker": {
             "colorbar": {
              "outlinewidth": 0,
              "ticks": ""
             }
            },
            "type": "scattermapbox"
           }
          ],
          "scatterpolar": [
           {
            "marker": {
             "colorbar": {
              "outlinewidth": 0,
              "ticks": ""
             }
            },
            "type": "scatterpolar"
           }
          ],
          "scatterpolargl": [
           {
            "marker": {
             "colorbar": {
              "outlinewidth": 0,
              "ticks": ""
             }
            },
            "type": "scatterpolargl"
           }
          ],
          "scatterternary": [
           {
            "marker": {
             "colorbar": {
              "outlinewidth": 0,
              "ticks": ""
             }
            },
            "type": "scatterternary"
           }
          ],
          "surface": [
           {
            "colorbar": {
             "outlinewidth": 0,
             "ticks": ""
            },
            "colorscale": [
             [
              0,
              "#0d0887"
             ],
             [
              0.1111111111111111,
              "#46039f"
             ],
             [
              0.2222222222222222,
              "#7201a8"
             ],
             [
              0.3333333333333333,
              "#9c179e"
             ],
             [
              0.4444444444444444,
              "#bd3786"
             ],
             [
              0.5555555555555556,
              "#d8576b"
             ],
             [
              0.6666666666666666,
              "#ed7953"
             ],
             [
              0.7777777777777778,
              "#fb9f3a"
             ],
             [
              0.8888888888888888,
              "#fdca26"
             ],
             [
              1,
              "#f0f921"
             ]
            ],
            "type": "surface"
           }
          ],
          "table": [
           {
            "cells": {
             "fill": {
              "color": "#EBF0F8"
             },
             "line": {
              "color": "white"
             }
            },
            "header": {
             "fill": {
              "color": "#C8D4E3"
             },
             "line": {
              "color": "white"
             }
            },
            "type": "table"
           }
          ]
         },
         "layout": {
          "annotationdefaults": {
           "arrowcolor": "#2a3f5f",
           "arrowhead": 0,
           "arrowwidth": 1
          },
          "autotypenumbers": "strict",
          "coloraxis": {
           "colorbar": {
            "outlinewidth": 0,
            "ticks": ""
           }
          },
          "colorscale": {
           "diverging": [
            [
             0,
             "#8e0152"
            ],
            [
             0.1,
             "#c51b7d"
            ],
            [
             0.2,
             "#de77ae"
            ],
            [
             0.3,
             "#f1b6da"
            ],
            [
             0.4,
             "#fde0ef"
            ],
            [
             0.5,
             "#f7f7f7"
            ],
            [
             0.6,
             "#e6f5d0"
            ],
            [
             0.7,
             "#b8e186"
            ],
            [
             0.8,
             "#7fbc41"
            ],
            [
             0.9,
             "#4d9221"
            ],
            [
             1,
             "#276419"
            ]
           ],
           "sequential": [
            [
             0,
             "#0d0887"
            ],
            [
             0.1111111111111111,
             "#46039f"
            ],
            [
             0.2222222222222222,
             "#7201a8"
            ],
            [
             0.3333333333333333,
             "#9c179e"
            ],
            [
             0.4444444444444444,
             "#bd3786"
            ],
            [
             0.5555555555555556,
             "#d8576b"
            ],
            [
             0.6666666666666666,
             "#ed7953"
            ],
            [
             0.7777777777777778,
             "#fb9f3a"
            ],
            [
             0.8888888888888888,
             "#fdca26"
            ],
            [
             1,
             "#f0f921"
            ]
           ],
           "sequentialminus": [
            [
             0,
             "#0d0887"
            ],
            [
             0.1111111111111111,
             "#46039f"
            ],
            [
             0.2222222222222222,
             "#7201a8"
            ],
            [
             0.3333333333333333,
             "#9c179e"
            ],
            [
             0.4444444444444444,
             "#bd3786"
            ],
            [
             0.5555555555555556,
             "#d8576b"
            ],
            [
             0.6666666666666666,
             "#ed7953"
            ],
            [
             0.7777777777777778,
             "#fb9f3a"
            ],
            [
             0.8888888888888888,
             "#fdca26"
            ],
            [
             1,
             "#f0f921"
            ]
           ]
          },
          "colorway": [
           "#636efa",
           "#EF553B",
           "#00cc96",
           "#ab63fa",
           "#FFA15A",
           "#19d3f3",
           "#FF6692",
           "#B6E880",
           "#FF97FF",
           "#FECB52"
          ],
          "font": {
           "color": "#2a3f5f"
          },
          "geo": {
           "bgcolor": "white",
           "lakecolor": "white",
           "landcolor": "#E5ECF6",
           "showlakes": true,
           "showland": true,
           "subunitcolor": "white"
          },
          "hoverlabel": {
           "align": "left"
          },
          "hovermode": "closest",
          "mapbox": {
           "style": "light"
          },
          "paper_bgcolor": "white",
          "plot_bgcolor": "#E5ECF6",
          "polar": {
           "angularaxis": {
            "gridcolor": "white",
            "linecolor": "white",
            "ticks": ""
           },
           "bgcolor": "#E5ECF6",
           "radialaxis": {
            "gridcolor": "white",
            "linecolor": "white",
            "ticks": ""
           }
          },
          "scene": {
           "xaxis": {
            "backgroundcolor": "#E5ECF6",
            "gridcolor": "white",
            "gridwidth": 2,
            "linecolor": "white",
            "showbackground": true,
            "ticks": "",
            "zerolinecolor": "white"
           },
           "yaxis": {
            "backgroundcolor": "#E5ECF6",
            "gridcolor": "white",
            "gridwidth": 2,
            "linecolor": "white",
            "showbackground": true,
            "ticks": "",
            "zerolinecolor": "white"
           },
           "zaxis": {
            "backgroundcolor": "#E5ECF6",
            "gridcolor": "white",
            "gridwidth": 2,
            "linecolor": "white",
            "showbackground": true,
            "ticks": "",
            "zerolinecolor": "white"
           }
          },
          "shapedefaults": {
           "line": {
            "color": "#2a3f5f"
           }
          },
          "ternary": {
           "aaxis": {
            "gridcolor": "white",
            "linecolor": "white",
            "ticks": ""
           },
           "baxis": {
            "gridcolor": "white",
            "linecolor": "white",
            "ticks": ""
           },
           "bgcolor": "#E5ECF6",
           "caxis": {
            "gridcolor": "white",
            "linecolor": "white",
            "ticks": ""
           }
          },
          "title": {
           "x": 0.05
          },
          "xaxis": {
           "automargin": true,
           "gridcolor": "white",
           "linecolor": "white",
           "ticks": "",
           "title": {
            "standoff": 15
           },
           "zerolinecolor": "white",
           "zerolinewidth": 2
          },
          "yaxis": {
           "automargin": true,
           "gridcolor": "white",
           "linecolor": "white",
           "ticks": "",
           "title": {
            "standoff": 15
           },
           "zerolinecolor": "white",
           "zerolinewidth": 2
          }
         }
        }
       }
      },
      "image/png": "[encoded data removed]",
      "text/html": [
       "<div>                            <div id=\"fd0d3633-fa15-4f73-a4a3-29937ef30eae\" class=\"plotly-graph-div\" style=\"height:1000px; width:100%;\"></div>            <script type=\"text/javascript\">                require([\"plotly\"], function(Plotly) {                    window.PLOTLYENV=window.PLOTLYENV || {};                                    if (document.getElementById(\"fd0d3633-fa15-4f73-a4a3-29937ef30eae\")) {                    Plotly.newPlot(                        \"fd0d3633-fa15-4f73-a4a3-29937ef30eae\",                        [{\"hovertext\":[\"2024-06-10 12:00:00 Mom's Birthday\",\"2024-01-08 12:00:00 Nipsco Due\",\"2024-02-08 12:00:00 Nipsco Due\",\"2024-03-08 12:00:00 Nipsco Due\",\"2024-04-08 12:00:00 Nipsco Due\",\"2024-05-08 12:00:00 Nipsco Due\",\"2024-06-08 12:00:00 Nipsco Due\",\"2024-07-08 12:00:00 Nipsco Due\",\"2024-08-08 12:00:00 Nipsco Due\",\"2024-09-08 12:00:00 Nipsco Due\",\"2024-10-08 12:00:00 Nipsco Due\",\"2024-11-08 12:00:00 Nipsco Due\",\"2024-12-08 12:00:00 Nipsco Due\",\"2024-01-08 12:00:00 recycling pickup\",\"2024-01-22 12:00:00 recycling pickup\",\"2024-02-05 12:00:00 recycling pickup\",\"2024-02-19 12:00:00 recycling pickup\",\"2024-03-04 12:00:00 recycling pickup\",\"2024-03-18 12:00:00 recycling pickup\",\"2024-04-01 12:00:00 recycling pickup\",\"2024-04-15 12:00:00 recycling pickup\",\"2024-04-29 12:00:00 recycling pickup\",\"2024-05-13 12:00:00 recycling pickup\",\"2024-05-27 12:00:00 recycling pickup\",\"2024-06-10 12:00:00 recycling pickup\",\"2024-06-24 12:00:00 recycling pickup\",\"2024-07-08 12:00:00 recycling pickup\",\"2024-07-22 12:00:00 recycling pickup\",\"2024-08-05 12:00:00 recycling pickup\",\"2024-08-19 12:00:00 recycling pickup\",\"2024-09-02 12:00:00 recycling pickup\",\"2024-09-16 12:00:00 recycling pickup\",\"2024-09-30 12:00:00 recycling pickup\",\"2024-10-14 12:00:00 recycling pickup\",\"2024-10-28 12:00:00 recycling pickup\",\"2024-11-11 12:00:00 recycling pickup\",\"2024-11-25 12:00:00 recycling pickup\",\"2024-12-09 12:00:00 recycling pickup\",\"2024-12-23 12:00:00 recycling pickup\",\"2024-05-07 10:30:00-04:00 Dentist\",\"2024-10-29 16:30:00-04:00 Dermatology\",\"2024-01-13 12:00:00-05:00 Robby meeting\",\"2024-01-04 16:30:00-05:00 Therapy\",\"2024-01-18 14:30:00-05:00 Therapy\",\"2024-01-09 18:30:00-05:00 Reservation at Jes\\u00fas Latin Grill\",\"2024-01-12 11:52:30-05:00 PT\",\"2024-01-19 15:00:00-05:00 physio appointment\",\"2024-01-30 16:30:00-05:00 therapy\",\"2024-01-23 17:30:00-05:00 PT\",\"2024-01-22 16:00:00-05:00 Eye appt ent\",\"2024-01-24 12:30:00-05:00 Lunch\",\"2024-01-29 15:00:00-05:00 PT\",\"2024-02-27 13:00:00-05:00 PT\",\"2024-03-05 11:15:00-05:00 Physical Therapy\",\"2024-03-11 11:00:00-04:00 physical therapy\",\"2024-02-13 16:30:00-05:00 therapy\",\"2024-02-14 12:00:00 Finish Chapter 1\",\"2024-02-09 14:15:00-05:00 haircut\",\"2024-02-19 11:54:00-05:00 Flight# UA5309 from SBN -\\u003e ORD\\n\\t (1 hour and 9 mins.)  Layover of 1 hour and 21 mins.  Flight# 2617 from ORD -\\u003e BOS\\n\\t (2 hours and 18 mins.)\",\"2024-02-21 20:06:00-05:00 Flight# DL2061 from BOS -\\u003e DTW\\n\\t (2 hours and 33 mins.)  Layover of 1 hour and 2 mins.  Flight# 3751 from DTW -\\u003e SBN\\n\\t (1 hour and 7 mins.)\",\"2024-02-29 10:30:00-05:00 Furnace CHeckup.\",\"2024-02-24 11:15:00-05:00 Robby meeting\",\"2024-02-19 13:09:00-05:00 Flight to Boston (UA 2617)\",\"2024-02-19 10:04:30-05:00 Flight to Chicago (UA 5309)\",\"2024-03-30 11:45:00-04:00 Meet with Robby\",\"2024-03-11 16:30:00-04:00 therapy\",\"2024-04-16 11:07:30-04:00 pt\",\"2024-04-23 11:07:30-04:00 pt\",\"2024-04-30 11:07:30-04:00 pt\",\"2024-03-21 12:00:00 RFP Final Draft Due\",\"2024-03-13 14:35:00-04:00 Dune 2\",\"2024-03-25 16:30:00-04:00 therapy\",\"2024-03-18 15:15:00-04:00 haircyt\",\"2024-04-12 16:30:00-04:00 therapy\",\"2024-04-27 11:15:00-04:00 Robby Meeting\",\"2024-04-29 13:30:00-04:00 Jury Duty\",\"2024-04-25 16:20:00-04:00 Foot appointment\",\"2024-04-24 16:30:00-04:00 therapy\",\"2024-05-06 13:45:00-04:00 CFSB ID Monthly Education Call\",\"2024-06-03 13:45:00-04:00 CFSB ID Monthly Education Call\",\"2024-07-01 13:45:00-04:00 CFSB ID Monthly Education Call\",\"2024-08-05 13:45:00-04:00 CFSB ID Monthly Education Call\",\"2024-06-05 09:45:00-04:00 PHone appointee doctor\",\"2024-05-07 17:30:00-04:00 Therapy\",\"2024-05-09 11:00:00-04:00 foot doctor\",\"2024-05-28 18:00:00-04:00 robbykeeting\",\"2024-04-27 18:45:00-04:00 Reservation at Woochi Japanese Fusion & Bar\",\"2024-04-30 13:30:00-04:00 Jury Duty\",\"2024-05-01 13:30:00-04:00 Jury Duty\",\"2024-05-02 13:30:00-04:00 Jury Duty\",\"2024-05-07 16:00:00-04:00 PT Appointment\",\"2024-05-17 13:07:30-04:00 PT\",\"2024-05-23 09:30:00-04:00 PT\",\"2024-11-12 10:30:00-05:00 dentist\",\"2024-05-09 14:07:30-04:00 hIRCUT\",\"2024-05-23 14:30:00-04:00 Therapy\",\"2024-05-10 10:00:00-04:00 Mishawaka Door, LLC\",\"2024-05-24 11:30:00-04:00 Graage door fix\",\"2024-06-09 13:00:00-04:00 CFSB potluck\"],\"marker\":{\"symbol\":\"diamond-open-dot\"},\"mode\":\"markers\",\"r\":[0.5,0.5,0.5,0.5,0.5,0.5,0.5,0.5,0.5,0.5,0.5,0.5,0.5,0.5,0.5,0.5,0.5,0.5,0.5,0.5,0.5,0.5,0.5,0.5,0.5,0.5,0.5,0.5,0.5,0.5,0.5,0.5,0.5,0.5,0.5,0.5,0.5,0.5,0.5,0.5,0.5,0.5,0.5,0.5,0.5,0.5,0.5,0.5,0.5,0.5,0.5,0.5,0.5,0.5,0.5,0.5,0.5,0.5,0.5,0.5,0.5,0.5,0.5,0.5,0.5,0.5,0.5,0.5,0.5,0.5,0.5,0.5,0.5,0.5,0.5,0.5,0.5,0.5,0.5,0.5,0.5,0.5,0.5,0.5,0.5,0.5,0.5,0.5,0.5,0.5,0.5,0.5,0.5,0.5,0.5,0.5,0.5,0.5,0.5],\"theta\":[158.81147540983608,7.377049180327869,37.868852459016395,66.39344262295081,96.84426229508196,126.35245901639345,156.84426229508196,186.35245901639345,216.84426229508196,247.3360655737705,276.84426229508193,307.37704918032784,336.88524590163934,7.377049180327869,21.147540983606557,34.91803278688525,48.68852459016394,62.459016393442624,76.18852459016392,89.95901639344261,103.7295081967213,117.5,131.2704918032787,145.04098360655738,158.81147540983608,172.58196721311475,186.35245901639345,200.12295081967213,213.89344262295083,227.6639344262295,241.4344262295082,255.20491803278685,268.9754098360655,282.74590163934425,296.5163934426229,310.327868852459,324.0983606557377,337.8688524590164,351.6393442622951,125.30737704918032,297.6844262295082,12.295081967213115,3.6270491803278686,17.315573770491802,8.62704918032787,11.306352459016393,18.31967213114754,29.200819672131146,22.35655737704918,21.311475409836067,23.135245901639344,28.15573770491803,56.5983606557377,63.41188524590164,69.26229508196721,42.971311475409834,43.77049180327869,38.94467213114754,48.68442622950819,50.98770491803278,58.463114754098356,53.575819672131146,48.73565573770492,48.60963114754099,87.98155737704919,69.48770491803278,104.67725409836065,111.5625,118.44774590163934,79.13934426229508,71.37636612021858,83.25819672131146,76.32172131147541,100.96311475409836,115.50204918032786,117.56147540983606,113.7431693989071,112.76639344262294,124.45696721311475,151.99795081967213,179.5389344262295,213.96516393442622,153.80122950819674,125.59426229508196,127.29508196721311,146.2704918032787,115.80942622950819,118.54508196721311,119.52868852459015,120.51229508196721,125.5327868852459,135.25102459016395,141.00409836065572,311.25,127.42315573770492,141.20901639344262,128.2377049180328,142.06967213114754,157.86885245901638],\"type\":\"scatterpolar\"}],                        {\"template\":{\"data\":{\"histogram2dcontour\":[{\"type\":\"histogram2dcontour\",\"colorbar\":{\"outlinewidth\":0,\"ticks\":\"\"},\"colorscale\":[[0.0,\"#0d0887\"],[0.1111111111111111,\"#46039f\"],[0.2222222222222222,\"#7201a8\"],[0.3333333333333333,\"#9c179e\"],[0.4444444444444444,\"#bd3786\"],[0.5555555555555556,\"#d8576b\"],[0.6666666666666666,\"#ed7953\"],[0.7777777777777778,\"#fb9f3a\"],[0.8888888888888888,\"#fdca26\"],[1.0,\"#f0f921\"]]}],\"choropleth\":[{\"type\":\"choropleth\",\"colorbar\":{\"outlinewidth\":0,\"ticks\":\"\"}}],\"histogram2d\":[{\"type\":\"histogram2d\",\"colorbar\":{\"outlinewidth\":0,\"ticks\":\"\"},\"colorscale\":[[0.0,\"#0d0887\"],[0.1111111111111111,\"#46039f\"],[0.2222222222222222,\"#7201a8\"],[0.3333333333333333,\"#9c179e\"],[0.4444444444444444,\"#bd3786\"],[0.5555555555555556,\"#d8576b\"],[0.6666666666666666,\"#ed7953\"],[0.7777777777777778,\"#fb9f3a\"],[0.8888888888888888,\"#fdca26\"],[1.0,\"#f0f921\"]]}],\"heatmap\":[{\"type\":\"heatmap\",\"colorbar\":{\"outlinewidth\":0,\"ticks\":\"\"},\"colorscale\":[[0.0,\"#0d0887\"],[0.1111111111111111,\"#46039f\"],[0.2222222222222222,\"#7201a8\"],[0.3333333333333333,\"#9c179e\"],[0.4444444444444444,\"#bd3786\"],[0.5555555555555556,\"#d8576b\"],[0.6666666666666666,\"#ed7953\"],[0.7777777777777778,\"#fb9f3a\"],[0.8888888888888888,\"#fdca26\"],[1.0,\"#f0f921\"]]}],\"heatmapgl\":[{\"type\":\"heatmapgl\",\"colorbar\":{\"outlinewidth\":0,\"ticks\":\"\"},\"colorscale\":[[0.0,\"#0d0887\"],[0.1111111111111111,\"#46039f\"],[0.2222222222222222,\"#7201a8\"],[0.3333333333333333,\"#9c179e\"],[0.4444444444444444,\"#bd3786\"],[0.5555555555555556,\"#d8576b\"],[0.6666666666666666,\"#ed7953\"],[0.7777777777777778,\"#fb9f3a\"],[0.8888888888888888,\"#fdca26\"],[1.0,\"#f0f921\"]]}],\"contourcarpet\":[{\"type\":\"contourcarpet\",\"colorbar\":{\"outlinewidth\":0,\"ticks\":\"\"}}],\"contour\":[{\"type\":\"contour\",\"colorbar\":{\"outlinewidth\":0,\"ticks\":\"\"},\"colorscale\":[[0.0,\"#0d0887\"],[0.1111111111111111,\"#46039f\"],[0.2222222222222222,\"#7201a8\"],[0.3333333333333333,\"#9c179e\"],[0.4444444444444444,\"#bd3786\"],[0.5555555555555556,\"#d8576b\"],[0.6666666666666666,\"#ed7953\"],[0.7777777777777778,\"#fb9f3a\"],[0.8888888888888888,\"#fdca26\"],[1.0,\"#f0f921\"]]}],\"surface\":[{\"type\":\"surface\",\"colorbar\":{\"outlinewidth\":0,\"ticks\":\"\"},\"colorscale\":[[0.0,\"#0d0887\"],[0.1111111111111111,\"#46039f\"],[0.2222222222222222,\"#7201a8\"],[0.3333333333333333,\"#9c179e\"],[0.4444444444444444,\"#bd3786\"],[0.5555555555555556,\"#d8576b\"],[0.6666666666666666,\"#ed7953\"],[0.7777777777777778,\"#fb9f3a\"],[0.8888888888888888,\"#fdca26\"],[1.0,\"#f0f921\"]]}],\"mesh3d\":[{\"type\":\"mesh3d\",\"colorbar\":{\"outlinewidth\":0,\"ticks\":\"\"}}],\"scatter\":[{\"fillpattern\":{\"fillmode\":\"overlay\",\"size\":10,\"solidity\":0.2},\"type\":\"scatter\"}],\"parcoords\":[{\"type\":\"parcoords\",\"line\":{\"colorbar\":{\"outlinewidth\":0,\"ticks\":\"\"}}}],\"scatterpolargl\":[{\"type\":\"scatterpolargl\",\"marker\":{\"colorbar\":{\"outlinewidth\":0,\"ticks\":\"\"}}}],\"bar\":[{\"error_x\":{\"color\":\"#2a3f5f\"},\"error_y\":{\"color\":\"#2a3f5f\"},\"marker\":{\"line\":{\"color\":\"#E5ECF6\",\"width\":0.5},\"pattern\":{\"fillmode\":\"overlay\",\"size\":10,\"solidity\":0.2}},\"type\":\"bar\"}],\"scattergeo\":[{\"type\":\"scattergeo\",\"marker\":{\"colorbar\":{\"outlinewidth\":0,\"ticks\":\"\"}}}],\"scatterpolar\":[{\"type\":\"scatterpolar\",\"marker\":{\"colorbar\":{\"outlinewidth\":0,\"ticks\":\"\"}}}],\"histogram\":[{\"marker\":{\"pattern\":{\"fillmode\":\"overlay\",\"size\":10,\"solidity\":0.2}},\"type\":\"histogram\"}],\"scattergl\":[{\"type\":\"scattergl\",\"marker\":{\"colorbar\":{\"outlinewidth\":0,\"ticks\":\"\"}}}],\"scatter3d\":[{\"type\":\"scatter3d\",\"line\":{\"colorbar\":{\"outlinewidth\":0,\"ticks\":\"\"}},\"marker\":{\"colorbar\":{\"outlinewidth\":0,\"ticks\":\"\"}}}],\"scattermapbox\":[{\"type\":\"scattermapbox\",\"marker\":{\"colorbar\":{\"outlinewidth\":0,\"ticks\":\"\"}}}],\"scatterternary\":[{\"type\":\"scatterternary\",\"marker\":{\"colorbar\":{\"outlinewidth\":0,\"ticks\":\"\"}}}],\"scattercarpet\":[{\"type\":\"scattercarpet\",\"marker\":{\"colorbar\":{\"outlinewidth\":0,\"ticks\":\"\"}}}],\"carpet\":[{\"aaxis\":{\"endlinecolor\":\"#2a3f5f\",\"gridcolor\":\"white\",\"linecolor\":\"white\",\"minorgridcolor\":\"white\",\"startlinecolor\":\"#2a3f5f\"},\"baxis\":{\"endlinecolor\":\"#2a3f5f\",\"gridcolor\":\"white\",\"linecolor\":\"white\",\"minorgridcolor\":\"white\",\"startlinecolor\":\"#2a3f5f\"},\"type\":\"carpet\"}],\"table\":[{\"cells\":{\"fill\":{\"color\":\"#EBF0F8\"},\"line\":{\"color\":\"white\"}},\"header\":{\"fill\":{\"color\":\"#C8D4E3\"},\"line\":{\"color\":\"white\"}},\"type\":\"table\"}],\"barpolar\":[{\"marker\":{\"line\":{\"color\":\"#E5ECF6\",\"width\":0.5},\"pattern\":{\"fillmode\":\"overlay\",\"size\":10,\"solidity\":0.2}},\"type\":\"barpolar\"}],\"pie\":[{\"automargin\":true,\"type\":\"pie\"}]},\"layout\":{\"autotypenumbers\":\"strict\",\"colorway\":[\"#636efa\",\"#EF553B\",\"#00cc96\",\"#ab63fa\",\"#FFA15A\",\"#19d3f3\",\"#FF6692\",\"#B6E880\",\"#FF97FF\",\"#FECB52\"],\"font\":{\"color\":\"#2a3f5f\"},\"hovermode\":\"closest\",\"hoverlabel\":{\"align\":\"left\"},\"paper_bgcolor\":\"white\",\"plot_bgcolor\":\"#E5ECF6\",\"polar\":{\"bgcolor\":\"#E5ECF6\",\"angularaxis\":{\"gridcolor\":\"white\",\"linecolor\":\"white\",\"ticks\":\"\"},\"radialaxis\":{\"gridcolor\":\"white\",\"linecolor\":\"white\",\"ticks\":\"\"}},\"ternary\":{\"bgcolor\":\"#E5ECF6\",\"aaxis\":{\"gridcolor\":\"white\",\"linecolor\":\"white\",\"ticks\":\"\"},\"baxis\":{\"gridcolor\":\"white\",\"linecolor\":\"white\",\"ticks\":\"\"},\"caxis\":{\"gridcolor\":\"white\",\"linecolor\":\"white\",\"ticks\":\"\"}},\"coloraxis\":{\"colorbar\":{\"outlinewidth\":0,\"ticks\":\"\"}},\"colorscale\":{\"sequential\":[[0.0,\"#0d0887\"],[0.1111111111111111,\"#46039f\"],[0.2222222222222222,\"#7201a8\"],[0.3333333333333333,\"#9c179e\"],[0.4444444444444444,\"#bd3786\"],[0.5555555555555556,\"#d8576b\"],[0.6666666666666666,\"#ed7953\"],[0.7777777777777778,\"#fb9f3a\"],[0.8888888888888888,\"#fdca26\"],[1.0,\"#f0f921\"]],\"sequentialminus\":[[0.0,\"#0d0887\"],[0.1111111111111111,\"#46039f\"],[0.2222222222222222,\"#7201a8\"],[0.3333333333333333,\"#9c179e\"],[0.4444444444444444,\"#bd3786\"],[0.5555555555555556,\"#d8576b\"],[0.6666666666666666,\"#ed7953\"],[0.7777777777777778,\"#fb9f3a\"],[0.8888888888888888,\"#fdca26\"],[1.0,\"#f0f921\"]],\"diverging\":[[0,\"#8e0152\"],[0.1,\"#c51b7d\"],[0.2,\"#de77ae\"],[0.3,\"#f1b6da\"],[0.4,\"#fde0ef\"],[0.5,\"#f7f7f7\"],[0.6,\"#e6f5d0\"],[0.7,\"#b8e186\"],[0.8,\"#7fbc41\"],[0.9,\"#4d9221\"],[1,\"#276419\"]]},\"xaxis\":{\"gridcolor\":\"white\",\"linecolor\":\"white\",\"ticks\":\"\",\"title\":{\"standoff\":15},\"zerolinecolor\":\"white\",\"automargin\":true,\"zerolinewidth\":2},\"yaxis\":{\"gridcolor\":\"white\",\"linecolor\":\"white\",\"ticks\":\"\",\"title\":{\"standoff\":15},\"zerolinecolor\":\"white\",\"automargin\":true,\"zerolinewidth\":2},\"scene\":{\"xaxis\":{\"backgroundcolor\":\"#E5ECF6\",\"gridcolor\":\"white\",\"linecolor\":\"white\",\"showbackground\":true,\"ticks\":\"\",\"zerolinecolor\":\"white\",\"gridwidth\":2},\"yaxis\":{\"backgroundcolor\":\"#E5ECF6\",\"gridcolor\":\"white\",\"linecolor\":\"white\",\"showbackground\":true,\"ticks\":\"\",\"zerolinecolor\":\"white\",\"gridwidth\":2},\"zaxis\":{\"backgroundcolor\":\"#E5ECF6\",\"gridcolor\":\"white\",\"linecolor\":\"white\",\"showbackground\":true,\"ticks\":\"\",\"zerolinecolor\":\"white\",\"gridwidth\":2}},\"shapedefaults\":{\"line\":{\"color\":\"#2a3f5f\"}},\"annotationdefaults\":{\"arrowcolor\":\"#2a3f5f\",\"arrowhead\":0,\"arrowwidth\":1},\"geo\":{\"bgcolor\":\"white\",\"landcolor\":\"#E5ECF6\",\"subunitcolor\":\"white\",\"showland\":true,\"showlakes\":true,\"lakecolor\":\"white\"},\"title\":{\"x\":0.05},\"mapbox\":{\"style\":\"light\"}}},\"height\":1000,\"polar\":{\"angularaxis\":{\"direction\":\"counterclockwise\",\"rotation\":-90,\"tickmode\":\"array\",\"tickvals\":[30.491803278688526,59.01639344262295,89.46721311475409,118.97540983606557,149.46721311475412,178.97540983606558,209.46721311475412,239.95901639344262,269.4672131147541,299.9590163934426,329.5081967213115,0.0]},\"sector\":[28.975409836065566,149.95901639344262]}},                        {\"responsive\": true}                    ).then(function(){\n",
       "                            \n",
       "var gd = document.getElementById('fd0d3633-fa15-4f73-a4a3-29937ef30eae');\n",
       "var x = new MutationObserver(function (mutations, observer) {{\n",
       "        var display = window.getComputedStyle(gd).display;\n",
       "        if (!display || display === 'none') {{\n",
       "            console.log([gd, 'removed!']);\n",
       "            Plotly.purge(gd);\n",
       "            observer.disconnect();\n",
       "        }}\n",
       "}});\n",
       "\n",
       "// Listen for the removal of the full notebook cells\n",
       "var notebookContainer = gd.closest('#notebook-container');\n",
       "if (notebookContainer) {{\n",
       "    x.observe(notebookContainer, {childList: true});\n",
       "}}\n",
       "\n",
       "// Listen for the clearing of the current output cell\n",
       "var outputEl = gd.closest('.output');\n",
       "if (outputEl) {{\n",
       "    x.observe(outputEl, {childList: true});\n",
       "}}\n",
       "\n",
       "                        })                };                });            </script>        </div>"
      ]
     },
     "metadata": {},
     "output_type": "display_data"
    },
    {
     "data": {
      "text/html": [
       "<pre style=\"white-space:pre;overflow-x:auto;line-height:normal;font-family:Menlo,'DejaVu Sans Mono',consolas,'Courier New',monospace\"><span style=\"color: #008080; text-decoration-color: #008080; font-weight: bold\">2024</span>-<span style=\"color: #008080; text-decoration-color: #008080; font-weight: bold\">06</span>-<span style=\"color: #008080; text-decoration-color: #008080; font-weight: bold\">10</span> <span style=\"color: #00ff00; text-decoration-color: #00ff00; font-weight: bold\">12:00:00</span>\n",
       "</pre>\n"
      ],
      "text/plain": [
       "\u001b[1;36m2024\u001b[0m-\u001b[1;36m06\u001b[0m-\u001b[1;36m10\u001b[0m \u001b[1;92m12:00:00\u001b[0m\n"
      ]
     },
     "metadata": {},
     "output_type": "display_data"
    }
   ],
   "source": [
    "year = y24 = CalendarElement(year=2024)\n",
    "\n",
    "eve = gcal.get_events(y24.start.datetime(), y24.stop.datetime(), single_events=True)\n",
    "eve = [model.EventWrap(ev) for ev in eve if (ev.end - ev.start) / timedelta(days=1) <=1]\n",
    "\n",
    "def make_point_trace(events, d_to_th):\n",
    "    \n",
    "    r = []\n",
    "    theta = []\n",
    "    text = []\n",
    "    for eve in events:\n",
    "        r.append(.5)\n",
    "        theta.append(model.to_theta(eve.mid)),\n",
    "        #theta.append(eve.mid)\n",
    "        text.append(\" \".join((str(eve.mid), eve.summary)))\n",
    "        \n",
    "    t = go.Scatterpolar(r=r, theta=theta, mode=\"markers\",\n",
    "                        hovertext=text,\n",
    "                        marker_symbol=\"diamond-open-dot\",\n",
    "                        )\n",
    "    return t\n",
    "\n",
    "t = make_point_trace(eve, 366 / 360)\n",
    "rot = -90\n",
    "fig = go.Figure(data=t)\n",
    "sector = [cc.model.to_theta(y24[4].start.datetime())+rot,\n",
    "          cc.model.to_theta(y24[7].stop.datetime())+rot]\n",
    "fig.update_layout(height=1000)\n",
    "\n",
    "fig.update_layout(dict(polar=\n",
    "                       dict(angularaxis=\n",
    "                            dict(direction=\"counterclockwise\",\n",
    "                                 \n",
    "                                 rotation=rot,\n",
    "                                 #showticklabels=False,\n",
    "                                 tickmode=\"array\", tickvals=[cc.model.to_theta(m.stop.datetime()) for m in y24],\n",
    "                                 ),\n",
    "                            sector=sector,\n",
    "                            \n",
    "                           ),\n",
    " \n",
    "                      ),\n",
    "                 ),\n",
    "\n",
    "\n",
    "fig.show()\n",
    "\n",
    "print(eve[0].mid)"
   ]
  },
  {
   "cell_type": "code",
   "execution_count": 28,
   "id": "49a69e2f-fa4d-43a3-9195-d86a6d591060",
   "metadata": {},
   "outputs": [
    {
     "data": {
      "application/vnd.plotly.v1+json": {
       "config": {
        "plotlyServerURL": "https://plot.ly"
       },
       "data": [
        {
         "hovertext": [
          "2024-06-10 12:00:00 Mom's Birthday",
          "2024-01-08 12:00:00 Nipsco Due",
          "2024-02-08 12:00:00 Nipsco Due",
          "2024-03-08 12:00:00 Nipsco Due",
          "2024-04-08 12:00:00 Nipsco Due",
          "2024-05-08 12:00:00 Nipsco Due",
          "2024-06-08 12:00:00 Nipsco Due",
          "2024-07-08 12:00:00 Nipsco Due",
          "2024-08-08 12:00:00 Nipsco Due",
          "2024-09-08 12:00:00 Nipsco Due",
          "2024-10-08 12:00:00 Nipsco Due",
          "2024-11-08 12:00:00 Nipsco Due",
          "2024-12-08 12:00:00 Nipsco Due",
          "2024-01-08 12:00:00 recycling pickup",
          "2024-01-22 12:00:00 recycling pickup",
          "2024-02-05 12:00:00 recycling pickup",
          "2024-02-19 12:00:00 recycling pickup",
          "2024-03-04 12:00:00 recycling pickup",
          "2024-03-18 12:00:00 recycling pickup",
          "2024-04-01 12:00:00 recycling pickup",
          "2024-04-15 12:00:00 recycling pickup",
          "2024-04-29 12:00:00 recycling pickup",
          "2024-05-13 12:00:00 recycling pickup",
          "2024-05-27 12:00:00 recycling pickup",
          "2024-06-10 12:00:00 recycling pickup",
          "2024-06-24 12:00:00 recycling pickup",
          "2024-07-08 12:00:00 recycling pickup",
          "2024-07-22 12:00:00 recycling pickup",
          "2024-08-05 12:00:00 recycling pickup",
          "2024-08-19 12:00:00 recycling pickup",
          "2024-09-02 12:00:00 recycling pickup",
          "2024-09-16 12:00:00 recycling pickup",
          "2024-09-30 12:00:00 recycling pickup",
          "2024-10-14 12:00:00 recycling pickup",
          "2024-10-28 12:00:00 recycling pickup",
          "2024-11-11 12:00:00 recycling pickup",
          "2024-11-25 12:00:00 recycling pickup",
          "2024-12-09 12:00:00 recycling pickup",
          "2024-12-23 12:00:00 recycling pickup",
          "2024-05-07 10:30:00-04:00 Dentist",
          "2024-10-29 16:30:00-04:00 Dermatology",
          "2024-01-13 12:00:00-05:00 Robby meeting",
          "2024-01-04 16:30:00-05:00 Therapy",
          "2024-01-18 14:30:00-05:00 Therapy",
          "2024-01-09 18:30:00-05:00 Reservation at Jesús Latin Grill",
          "2024-01-12 11:52:30-05:00 PT",
          "2024-01-19 15:00:00-05:00 physio appointment",
          "2024-01-30 16:30:00-05:00 therapy",
          "2024-01-23 17:30:00-05:00 PT",
          "2024-01-22 16:00:00-05:00 Eye appt ent",
          "2024-01-24 12:30:00-05:00 Lunch",
          "2024-01-29 15:00:00-05:00 PT",
          "2024-02-27 13:00:00-05:00 PT",
          "2024-03-05 11:15:00-05:00 Physical Therapy",
          "2024-03-11 11:00:00-04:00 physical therapy",
          "2024-02-13 16:30:00-05:00 therapy",
          "2024-02-14 12:00:00 Finish Chapter 1",
          "2024-02-09 14:15:00-05:00 haircut",
          "2024-02-19 11:54:00-05:00 Flight# UA5309 from SBN -> ORD\n\t (1 hour and 9 mins.)  Layover of 1 hour and 21 mins.  Flight# 2617 from ORD -> BOS\n\t (2 hours and 18 mins.)",
          "2024-02-21 20:06:00-05:00 Flight# DL2061 from BOS -> DTW\n\t (2 hours and 33 mins.)  Layover of 1 hour and 2 mins.  Flight# 3751 from DTW -> SBN\n\t (1 hour and 7 mins.)",
          "2024-02-29 10:30:00-05:00 Furnace CHeckup.",
          "2024-02-24 11:15:00-05:00 Robby meeting",
          "2024-02-19 13:09:00-05:00 Flight to Boston (UA 2617)",
          "2024-02-19 10:04:30-05:00 Flight to Chicago (UA 5309)",
          "2024-03-30 11:45:00-04:00 Meet with Robby",
          "2024-03-11 16:30:00-04:00 therapy",
          "2024-04-16 11:07:30-04:00 pt",
          "2024-04-23 11:07:30-04:00 pt",
          "2024-04-30 11:07:30-04:00 pt",
          "2024-03-21 12:00:00 RFP Final Draft Due",
          "2024-03-13 14:35:00-04:00 Dune 2",
          "2024-03-25 16:30:00-04:00 therapy",
          "2024-03-18 15:15:00-04:00 haircyt",
          "2024-04-12 16:30:00-04:00 therapy",
          "2024-04-27 11:15:00-04:00 Robby Meeting",
          "2024-04-29 13:30:00-04:00 Jury Duty",
          "2024-04-25 16:20:00-04:00 Foot appointment",
          "2024-04-24 16:30:00-04:00 therapy",
          "2024-05-06 13:45:00-04:00 CFSB ID Monthly Education Call",
          "2024-06-03 13:45:00-04:00 CFSB ID Monthly Education Call",
          "2024-07-01 13:45:00-04:00 CFSB ID Monthly Education Call",
          "2024-08-05 13:45:00-04:00 CFSB ID Monthly Education Call",
          "2024-06-05 09:45:00-04:00 PHone appointee doctor",
          "2024-05-07 17:30:00-04:00 Therapy",
          "2024-05-09 11:00:00-04:00 foot doctor",
          "2024-05-28 18:00:00-04:00 robbykeeting",
          "2024-04-27 18:45:00-04:00 Reservation at Woochi Japanese Fusion & Bar",
          "2024-04-30 13:30:00-04:00 Jury Duty",
          "2024-05-01 13:30:00-04:00 Jury Duty",
          "2024-05-02 13:30:00-04:00 Jury Duty",
          "2024-05-07 16:00:00-04:00 PT Appointment",
          "2024-05-17 13:07:30-04:00 PT",
          "2024-05-23 09:30:00-04:00 PT",
          "2024-11-12 10:30:00-05:00 dentist",
          "2024-05-09 14:07:30-04:00 hIRCUT",
          "2024-05-23 14:30:00-04:00 Therapy",
          "2024-05-10 10:00:00-04:00 Mishawaka Door, LLC",
          "2024-05-24 11:30:00-04:00 Graage door fix",
          "2024-06-09 13:00:00-04:00 CFSB potluck"
         ],
         "marker": {
          "symbol": "diamond-open-dot"
         },
         "mode": "markers",
         "r": [
          0.5,
          0.5,
          0.5,
          0.5,
          0.5,
          0.5,
          0.5,
          0.5,
          0.5,
          0.5,
          0.5,
          0.5,
          0.5,
          0.5,
          0.5,
          0.5,
          0.5,
          0.5,
          0.5,
          0.5,
          0.5,
          0.5,
          0.5,
          0.5,
          0.5,
          0.5,
          0.5,
          0.5,
          0.5,
          0.5,
          0.5,
          0.5,
          0.5,
          0.5,
          0.5,
          0.5,
          0.5,
          0.5,
          0.5,
          0.5,
          0.5,
          0.5,
          0.5,
          0.5,
          0.5,
          0.5,
          0.5,
          0.5,
          0.5,
          0.5,
          0.5,
          0.5,
          0.5,
          0.5,
          0.5,
          0.5,
          0.5,
          0.5,
          0.5,
          0.5,
          0.5,
          0.5,
          0.5,
          0.5,
          0.5,
          0.5,
          0.5,
          0.5,
          0.5,
          0.5,
          0.5,
          0.5,
          0.5,
          0.5,
          0.5,
          0.5,
          0.5,
          0.5,
          0.5,
          0.5,
          0.5,
          0.5,
          0.5,
          0.5,
          0.5,
          0.5,
          0.5,
          0.5,
          0.5,
          0.5,
          0.5,
          0.5,
          0.5,
          0.5,
          0.5,
          0.5,
          0.5,
          0.5,
          0.5
         ],
         "theta": [
          158.81147540983608,
          7.377049180327869,
          37.868852459016395,
          66.39344262295081,
          96.84426229508196,
          126.35245901639345,
          156.84426229508196,
          186.35245901639345,
          216.84426229508196,
          247.3360655737705,
          276.84426229508193,
          307.37704918032784,
          336.88524590163934,
          7.377049180327869,
          21.147540983606557,
          34.91803278688525,
          48.68852459016394,
          62.459016393442624,
          76.18852459016392,
          89.95901639344261,
          103.7295081967213,
          117.5,
          131.2704918032787,
          145.04098360655738,
          158.81147540983608,
          172.58196721311475,
          186.35245901639345,
          200.12295081967213,
          213.89344262295083,
          227.6639344262295,
          241.4344262295082,
          255.20491803278685,
          268.9754098360655,
          282.74590163934425,
          296.5163934426229,
          310.327868852459,
          324.0983606557377,
          337.8688524590164,
          351.6393442622951,
          125.30737704918032,
          297.6844262295082,
          12.295081967213115,
          3.6270491803278686,
          17.315573770491802,
          8.62704918032787,
          11.306352459016393,
          18.31967213114754,
          29.200819672131146,
          22.35655737704918,
          21.311475409836067,
          23.135245901639344,
          28.15573770491803,
          56.5983606557377,
          63.41188524590164,
          69.26229508196721,
          42.971311475409834,
          43.77049180327869,
          38.94467213114754,
          48.68442622950819,
          50.98770491803278,
          58.463114754098356,
          53.575819672131146,
          48.73565573770492,
          48.60963114754099,
          87.98155737704919,
          69.48770491803278,
          104.67725409836065,
          111.5625,
          118.44774590163934,
          79.13934426229508,
          71.37636612021858,
          83.25819672131146,
          76.32172131147541,
          100.96311475409836,
          115.50204918032786,
          117.56147540983606,
          113.7431693989071,
          112.76639344262294,
          124.45696721311475,
          151.99795081967213,
          179.5389344262295,
          213.96516393442622,
          153.80122950819674,
          125.59426229508196,
          127.29508196721311,
          146.2704918032787,
          115.80942622950819,
          118.54508196721311,
          119.52868852459015,
          120.51229508196721,
          125.5327868852459,
          135.25102459016395,
          141.00409836065572,
          311.25,
          127.42315573770492,
          141.20901639344262,
          128.2377049180328,
          142.06967213114754,
          157.86885245901638
         ],
         "type": "scatterpolar"
        },
        {
         "base": [
          0.8,
          0.8,
          0.8,
          0.8,
          0.8
         ],
         "r": [
          0.1,
          0.1,
          0.1,
          0.1,
          0.1
         ],
         "theta": [
          118.97540983606557,
          149.46721311475412,
          178.97540983606558,
          209.46721311475412,
          239.95901639344262
         ],
         "type": "barpolar",
         "width": [
          30.5,
          31.516666666666666,
          30.5,
          31.516666666666666,
          31.516666666666666
         ]
        }
       ],
       "layout": {
        "autosize": true,
        "polar": {
         "angularaxis": {
          "direction": "counterclockwise",
          "rotation": -90,
          "tickmode": "array",
          "tickvals": [
           30.491803278688526,
           59.01639344262295,
           89.46721311475409,
           118.97540983606557,
           149.46721311475412,
           178.97540983606558,
           209.46721311475412,
           239.95901639344262,
           269.4672131147541,
           299.9590163934426,
           329.5081967213115,
           0
          ],
          "type": "linear"
         },
         "radialaxis": {
          "autorange": true,
          "range": [
           0,
           0.9473684210526316
          ],
          "type": "linear"
         },
         "sector": [
          28.975409836065566,
          149.95901639344262
         ]
        },
        "template": {
         "data": {
          "bar": [
           {
            "error_x": {
             "color": "#2a3f5f"
            },
            "error_y": {
             "color": "#2a3f5f"
            },
            "marker": {
             "line": {
              "color": "#E5ECF6",
              "width": 0.5
             },
             "pattern": {
              "fillmode": "overlay",
              "size": 10,
              "solidity": 0.2
             }
            },
            "type": "bar"
           }
          ],
          "barpolar": [
           {
            "marker": {
             "line": {
              "color": "#E5ECF6",
              "width": 0.5
             },
             "pattern": {
              "fillmode": "overlay",
              "size": 10,
              "solidity": 0.2
             }
            },
            "type": "barpolar"
           }
          ],
          "carpet": [
           {
            "aaxis": {
             "endlinecolor": "#2a3f5f",
             "gridcolor": "white",
             "linecolor": "white",
             "minorgridcolor": "white",
             "startlinecolor": "#2a3f5f"
            },
            "baxis": {
             "endlinecolor": "#2a3f5f",
             "gridcolor": "white",
             "linecolor": "white",
             "minorgridcolor": "white",
             "startlinecolor": "#2a3f5f"
            },
            "type": "carpet"
           }
          ],
          "choropleth": [
           {
            "colorbar": {
             "outlinewidth": 0,
             "ticks": ""
            },
            "type": "choropleth"
           }
          ],
          "contour": [
           {
            "colorbar": {
             "outlinewidth": 0,
             "ticks": ""
            },
            "colorscale": [
             [
              0,
              "#0d0887"
             ],
             [
              0.1111111111111111,
              "#46039f"
             ],
             [
              0.2222222222222222,
              "#7201a8"
             ],
             [
              0.3333333333333333,
              "#9c179e"
             ],
             [
              0.4444444444444444,
              "#bd3786"
             ],
             [
              0.5555555555555556,
              "#d8576b"
             ],
             [
              0.6666666666666666,
              "#ed7953"
             ],
             [
              0.7777777777777778,
              "#fb9f3a"
             ],
             [
              0.8888888888888888,
              "#fdca26"
             ],
             [
              1,
              "#f0f921"
             ]
            ],
            "type": "contour"
           }
          ],
          "contourcarpet": [
           {
            "colorbar": {
             "outlinewidth": 0,
             "ticks": ""
            },
            "type": "contourcarpet"
           }
          ],
          "heatmap": [
           {
            "colorbar": {
             "outlinewidth": 0,
             "ticks": ""
            },
            "colorscale": [
             [
              0,
              "#0d0887"
             ],
             [
              0.1111111111111111,
              "#46039f"
             ],
             [
              0.2222222222222222,
              "#7201a8"
             ],
             [
              0.3333333333333333,
              "#9c179e"
             ],
             [
              0.4444444444444444,
              "#bd3786"
             ],
             [
              0.5555555555555556,
              "#d8576b"
             ],
             [
              0.6666666666666666,
              "#ed7953"
             ],
             [
              0.7777777777777778,
              "#fb9f3a"
             ],
             [
              0.8888888888888888,
              "#fdca26"
             ],
             [
              1,
              "#f0f921"
             ]
            ],
            "type": "heatmap"
           }
          ],
          "heatmapgl": [
           {
            "colorbar": {
             "outlinewidth": 0,
             "ticks": ""
            },
            "colorscale": [
             [
              0,
              "#0d0887"
             ],
             [
              0.1111111111111111,
              "#46039f"
             ],
             [
              0.2222222222222222,
              "#7201a8"
             ],
             [
              0.3333333333333333,
              "#9c179e"
             ],
             [
              0.4444444444444444,
              "#bd3786"
             ],
             [
              0.5555555555555556,
              "#d8576b"
             ],
             [
              0.6666666666666666,
              "#ed7953"
             ],
             [
              0.7777777777777778,
              "#fb9f3a"
             ],
             [
              0.8888888888888888,
              "#fdca26"
             ],
             [
              1,
              "#f0f921"
             ]
            ],
            "type": "heatmapgl"
           }
          ],
          "histogram": [
           {
            "marker": {
             "pattern": {
              "fillmode": "overlay",
              "size": 10,
              "solidity": 0.2
             }
            },
            "type": "histogram"
           }
          ],
          "histogram2d": [
           {
            "colorbar": {
             "outlinewidth": 0,
             "ticks": ""
            },
            "colorscale": [
             [
              0,
              "#0d0887"
             ],
             [
              0.1111111111111111,
              "#46039f"
             ],
             [
              0.2222222222222222,
              "#7201a8"
             ],
             [
              0.3333333333333333,
              "#9c179e"
             ],
             [
              0.4444444444444444,
              "#bd3786"
             ],
             [
              0.5555555555555556,
              "#d8576b"
             ],
             [
              0.6666666666666666,
              "#ed7953"
             ],
             [
              0.7777777777777778,
              "#fb9f3a"
             ],
             [
              0.8888888888888888,
              "#fdca26"
             ],
             [
              1,
              "#f0f921"
             ]
            ],
            "type": "histogram2d"
           }
          ],
          "histogram2dcontour": [
           {
            "colorbar": {
             "outlinewidth": 0,
             "ticks": ""
            },
            "colorscale": [
             [
              0,
              "#0d0887"
             ],
             [
              0.1111111111111111,
              "#46039f"
             ],
             [
              0.2222222222222222,
              "#7201a8"
             ],
             [
              0.3333333333333333,
              "#9c179e"
             ],
             [
              0.4444444444444444,
              "#bd3786"
             ],
             [
              0.5555555555555556,
              "#d8576b"
             ],
             [
              0.6666666666666666,
              "#ed7953"
             ],
             [
              0.7777777777777778,
              "#fb9f3a"
             ],
             [
              0.8888888888888888,
              "#fdca26"
             ],
             [
              1,
              "#f0f921"
             ]
            ],
            "type": "histogram2dcontour"
           }
          ],
          "mesh3d": [
           {
            "colorbar": {
             "outlinewidth": 0,
             "ticks": ""
            },
            "type": "mesh3d"
           }
          ],
          "parcoords": [
           {
            "line": {
             "colorbar": {
              "outlinewidth": 0,
              "ticks": ""
             }
            },
            "type": "parcoords"
           }
          ],
          "pie": [
           {
            "automargin": true,
            "type": "pie"
           }
          ],
          "scatter": [
           {
            "fillpattern": {
             "fillmode": "overlay",
             "size": 10,
             "solidity": 0.2
            },
            "type": "scatter"
           }
          ],
          "scatter3d": [
           {
            "line": {
             "colorbar": {
              "outlinewidth": 0,
              "ticks": ""
             }
            },
            "marker": {
             "colorbar": {
              "outlinewidth": 0,
              "ticks": ""
             }
            },
            "type": "scatter3d"
           }
          ],
          "scattercarpet": [
           {
            "marker": {
             "colorbar": {
              "outlinewidth": 0,
              "ticks": ""
             }
            },
            "type": "scattercarpet"
           }
          ],
          "scattergeo": [
           {
            "marker": {
             "colorbar": {
              "outlinewidth": 0,
              "ticks": ""
             }
            },
            "type": "scattergeo"
           }
          ],
          "scattergl": [
           {
            "marker": {
             "colorbar": {
              "outlinewidth": 0,
              "ticks": ""
             }
            },
            "type": "scattergl"
           }
          ],
          "scattermapbox": [
           {
            "marker": {
             "colorbar": {
              "outlinewidth": 0,
              "ticks": ""
             }
            },
            "type": "scattermapbox"
           }
          ],
          "scatterpolar": [
           {
            "marker": {
             "colorbar": {
              "outlinewidth": 0,
              "ticks": ""
             }
            },
            "type": "scatterpolar"
           }
          ],
          "scatterpolargl": [
           {
            "marker": {
             "colorbar": {
              "outlinewidth": 0,
              "ticks": ""
             }
            },
            "type": "scatterpolargl"
           }
          ],
          "scatterternary": [
           {
            "marker": {
             "colorbar": {
              "outlinewidth": 0,
              "ticks": ""
             }
            },
            "type": "scatterternary"
           }
          ],
          "surface": [
           {
            "colorbar": {
             "outlinewidth": 0,
             "ticks": ""
            },
            "colorscale": [
             [
              0,
              "#0d0887"
             ],
             [
              0.1111111111111111,
              "#46039f"
             ],
             [
              0.2222222222222222,
              "#7201a8"
             ],
             [
              0.3333333333333333,
              "#9c179e"
             ],
             [
              0.4444444444444444,
              "#bd3786"
             ],
             [
              0.5555555555555556,
              "#d8576b"
             ],
             [
              0.6666666666666666,
              "#ed7953"
             ],
             [
              0.7777777777777778,
              "#fb9f3a"
             ],
             [
              0.8888888888888888,
              "#fdca26"
             ],
             [
              1,
              "#f0f921"
             ]
            ],
            "type": "surface"
           }
          ],
          "table": [
           {
            "cells": {
             "fill": {
              "color": "#EBF0F8"
             },
             "line": {
              "color": "white"
             }
            },
            "header": {
             "fill": {
              "color": "#C8D4E3"
             },
             "line": {
              "color": "white"
             }
            },
            "type": "table"
           }
          ]
         },
         "layout": {
          "annotationdefaults": {
           "arrowcolor": "#2a3f5f",
           "arrowhead": 0,
           "arrowwidth": 1
          },
          "autotypenumbers": "strict",
          "coloraxis": {
           "colorbar": {
            "outlinewidth": 0,
            "ticks": ""
           }
          },
          "colorscale": {
           "diverging": [
            [
             0,
             "#8e0152"
            ],
            [
             0.1,
             "#c51b7d"
            ],
            [
             0.2,
             "#de77ae"
            ],
            [
             0.3,
             "#f1b6da"
            ],
            [
             0.4,
             "#fde0ef"
            ],
            [
             0.5,
             "#f7f7f7"
            ],
            [
             0.6,
             "#e6f5d0"
            ],
            [
             0.7,
             "#b8e186"
            ],
            [
             0.8,
             "#7fbc41"
            ],
            [
             0.9,
             "#4d9221"
            ],
            [
             1,
             "#276419"
            ]
           ],
           "sequential": [
            [
             0,
             "#0d0887"
            ],
            [
             0.1111111111111111,
             "#46039f"
            ],
            [
             0.2222222222222222,
             "#7201a8"
            ],
            [
             0.3333333333333333,
             "#9c179e"
            ],
            [
             0.4444444444444444,
             "#bd3786"
            ],
            [
             0.5555555555555556,
             "#d8576b"
            ],
            [
             0.6666666666666666,
             "#ed7953"
            ],
            [
             0.7777777777777778,
             "#fb9f3a"
            ],
            [
             0.8888888888888888,
             "#fdca26"
            ],
            [
             1,
             "#f0f921"
            ]
           ],
           "sequentialminus": [
            [
             0,
             "#0d0887"
            ],
            [
             0.1111111111111111,
             "#46039f"
            ],
            [
             0.2222222222222222,
             "#7201a8"
            ],
            [
             0.3333333333333333,
             "#9c179e"
            ],
            [
             0.4444444444444444,
             "#bd3786"
            ],
            [
             0.5555555555555556,
             "#d8576b"
            ],
            [
             0.6666666666666666,
             "#ed7953"
            ],
            [
             0.7777777777777778,
             "#fb9f3a"
            ],
            [
             0.8888888888888888,
             "#fdca26"
            ],
            [
             1,
             "#f0f921"
            ]
           ]
          },
          "colorway": [
           "#636efa",
           "#EF553B",
           "#00cc96",
           "#ab63fa",
           "#FFA15A",
           "#19d3f3",
           "#FF6692",
           "#B6E880",
           "#FF97FF",
           "#FECB52"
          ],
          "font": {
           "color": "#2a3f5f"
          },
          "geo": {
           "bgcolor": "white",
           "lakecolor": "white",
           "landcolor": "#E5ECF6",
           "showlakes": true,
           "showland": true,
           "subunitcolor": "white"
          },
          "hoverlabel": {
           "align": "left"
          },
          "hovermode": "closest",
          "mapbox": {
           "style": "light"
          },
          "paper_bgcolor": "white",
          "plot_bgcolor": "#E5ECF6",
          "polar": {
           "angularaxis": {
            "gridcolor": "white",
            "linecolor": "white",
            "ticks": ""
           },
           "bgcolor": "#E5ECF6",
           "radialaxis": {
            "gridcolor": "white",
            "linecolor": "white",
            "ticks": ""
           }
          },
          "scene": {
           "xaxis": {
            "backgroundcolor": "#E5ECF6",
            "gridcolor": "white",
            "gridwidth": 2,
            "linecolor": "white",
            "showbackground": true,
            "ticks": "",
            "zerolinecolor": "white"
           },
           "yaxis": {
            "backgroundcolor": "#E5ECF6",
            "gridcolor": "white",
            "gridwidth": 2,
            "linecolor": "white",
            "showbackground": true,
            "ticks": "",
            "zerolinecolor": "white"
           },
           "zaxis": {
            "backgroundcolor": "#E5ECF6",
            "gridcolor": "white",
            "gridwidth": 2,
            "linecolor": "white",
            "showbackground": true,
            "ticks": "",
            "zerolinecolor": "white"
           }
          },
          "shapedefaults": {
           "line": {
            "color": "#2a3f5f"
           }
          },
          "ternary": {
           "aaxis": {
            "gridcolor": "white",
            "linecolor": "white",
            "ticks": ""
           },
           "baxis": {
            "gridcolor": "white",
            "linecolor": "white",
            "ticks": ""
           },
           "bgcolor": "#E5ECF6",
           "caxis": {
            "gridcolor": "white",
            "linecolor": "white",
            "ticks": ""
           }
          },
          "title": {
           "x": 0.05
          },
          "xaxis": {
           "automargin": true,
           "gridcolor": "white",
           "linecolor": "white",
           "ticks": "",
           "title": {
            "standoff": 15
           },
           "zerolinecolor": "white",
           "zerolinewidth": 2
          },
          "yaxis": {
           "automargin": true,
           "gridcolor": "white",
           "linecolor": "white",
           "ticks": "",
           "title": {
            "standoff": 15
           },
           "zerolinecolor": "white",
           "zerolinewidth": 2
          }
         }
        }
       }
      },
      "image/png": "[encoded data removed]",
      "text/html": [
       "<div>                            <div id=\"3e701686-2dc5-467a-b4fa-e88f1b7e1e50\" class=\"plotly-graph-div\" style=\"height:1000px; width:100%;\"></div>            <script type=\"text/javascript\">                require([\"plotly\"], function(Plotly) {                    window.PLOTLYENV=window.PLOTLYENV || {};                                    if (document.getElementById(\"3e701686-2dc5-467a-b4fa-e88f1b7e1e50\")) {                    Plotly.newPlot(                        \"3e701686-2dc5-467a-b4fa-e88f1b7e1e50\",                        [{\"hovertext\":[\"2024-06-10 12:00:00 Mom's Birthday\",\"2024-01-08 12:00:00 Nipsco Due\",\"2024-02-08 12:00:00 Nipsco Due\",\"2024-03-08 12:00:00 Nipsco Due\",\"2024-04-08 12:00:00 Nipsco Due\",\"2024-05-08 12:00:00 Nipsco Due\",\"2024-06-08 12:00:00 Nipsco Due\",\"2024-07-08 12:00:00 Nipsco Due\",\"2024-08-08 12:00:00 Nipsco Due\",\"2024-09-08 12:00:00 Nipsco Due\",\"2024-10-08 12:00:00 Nipsco Due\",\"2024-11-08 12:00:00 Nipsco Due\",\"2024-12-08 12:00:00 Nipsco Due\",\"2024-01-08 12:00:00 recycling pickup\",\"2024-01-22 12:00:00 recycling pickup\",\"2024-02-05 12:00:00 recycling pickup\",\"2024-02-19 12:00:00 recycling pickup\",\"2024-03-04 12:00:00 recycling pickup\",\"2024-03-18 12:00:00 recycling pickup\",\"2024-04-01 12:00:00 recycling pickup\",\"2024-04-15 12:00:00 recycling pickup\",\"2024-04-29 12:00:00 recycling pickup\",\"2024-05-13 12:00:00 recycling pickup\",\"2024-05-27 12:00:00 recycling pickup\",\"2024-06-10 12:00:00 recycling pickup\",\"2024-06-24 12:00:00 recycling pickup\",\"2024-07-08 12:00:00 recycling pickup\",\"2024-07-22 12:00:00 recycling pickup\",\"2024-08-05 12:00:00 recycling pickup\",\"2024-08-19 12:00:00 recycling pickup\",\"2024-09-02 12:00:00 recycling pickup\",\"2024-09-16 12:00:00 recycling pickup\",\"2024-09-30 12:00:00 recycling pickup\",\"2024-10-14 12:00:00 recycling pickup\",\"2024-10-28 12:00:00 recycling pickup\",\"2024-11-11 12:00:00 recycling pickup\",\"2024-11-25 12:00:00 recycling pickup\",\"2024-12-09 12:00:00 recycling pickup\",\"2024-12-23 12:00:00 recycling pickup\",\"2024-05-07 10:30:00-04:00 Dentist\",\"2024-10-29 16:30:00-04:00 Dermatology\",\"2024-01-13 12:00:00-05:00 Robby meeting\",\"2024-01-04 16:30:00-05:00 Therapy\",\"2024-01-18 14:30:00-05:00 Therapy\",\"2024-01-09 18:30:00-05:00 Reservation at Jes\\u00fas Latin Grill\",\"2024-01-12 11:52:30-05:00 PT\",\"2024-01-19 15:00:00-05:00 physio appointment\",\"2024-01-30 16:30:00-05:00 therapy\",\"2024-01-23 17:30:00-05:00 PT\",\"2024-01-22 16:00:00-05:00 Eye appt ent\",\"2024-01-24 12:30:00-05:00 Lunch\",\"2024-01-29 15:00:00-05:00 PT\",\"2024-02-27 13:00:00-05:00 PT\",\"2024-03-05 11:15:00-05:00 Physical Therapy\",\"2024-03-11 11:00:00-04:00 physical therapy\",\"2024-02-13 16:30:00-05:00 therapy\",\"2024-02-14 12:00:00 Finish Chapter 1\",\"2024-02-09 14:15:00-05:00 haircut\",\"2024-02-19 11:54:00-05:00 Flight# UA5309 from SBN -\\u003e ORD\\n\\t (1 hour and 9 mins.)  Layover of 1 hour and 21 mins.  Flight# 2617 from ORD -\\u003e BOS\\n\\t (2 hours and 18 mins.)\",\"2024-02-21 20:06:00-05:00 Flight# DL2061 from BOS -\\u003e DTW\\n\\t (2 hours and 33 mins.)  Layover of 1 hour and 2 mins.  Flight# 3751 from DTW -\\u003e SBN\\n\\t (1 hour and 7 mins.)\",\"2024-02-29 10:30:00-05:00 Furnace CHeckup.\",\"2024-02-24 11:15:00-05:00 Robby meeting\",\"2024-02-19 13:09:00-05:00 Flight to Boston (UA 2617)\",\"2024-02-19 10:04:30-05:00 Flight to Chicago (UA 5309)\",\"2024-03-30 11:45:00-04:00 Meet with Robby\",\"2024-03-11 16:30:00-04:00 therapy\",\"2024-04-16 11:07:30-04:00 pt\",\"2024-04-23 11:07:30-04:00 pt\",\"2024-04-30 11:07:30-04:00 pt\",\"2024-03-21 12:00:00 RFP Final Draft Due\",\"2024-03-13 14:35:00-04:00 Dune 2\",\"2024-03-25 16:30:00-04:00 therapy\",\"2024-03-18 15:15:00-04:00 haircyt\",\"2024-04-12 16:30:00-04:00 therapy\",\"2024-04-27 11:15:00-04:00 Robby Meeting\",\"2024-04-29 13:30:00-04:00 Jury Duty\",\"2024-04-25 16:20:00-04:00 Foot appointment\",\"2024-04-24 16:30:00-04:00 therapy\",\"2024-05-06 13:45:00-04:00 CFSB ID Monthly Education Call\",\"2024-06-03 13:45:00-04:00 CFSB ID Monthly Education Call\",\"2024-07-01 13:45:00-04:00 CFSB ID Monthly Education Call\",\"2024-08-05 13:45:00-04:00 CFSB ID Monthly Education Call\",\"2024-06-05 09:45:00-04:00 PHone appointee doctor\",\"2024-05-07 17:30:00-04:00 Therapy\",\"2024-05-09 11:00:00-04:00 foot doctor\",\"2024-05-28 18:00:00-04:00 robbykeeting\",\"2024-04-27 18:45:00-04:00 Reservation at Woochi Japanese Fusion & Bar\",\"2024-04-30 13:30:00-04:00 Jury Duty\",\"2024-05-01 13:30:00-04:00 Jury Duty\",\"2024-05-02 13:30:00-04:00 Jury Duty\",\"2024-05-07 16:00:00-04:00 PT Appointment\",\"2024-05-17 13:07:30-04:00 PT\",\"2024-05-23 09:30:00-04:00 PT\",\"2024-11-12 10:30:00-05:00 dentist\",\"2024-05-09 14:07:30-04:00 hIRCUT\",\"2024-05-23 14:30:00-04:00 Therapy\",\"2024-05-10 10:00:00-04:00 Mishawaka Door, LLC\",\"2024-05-24 11:30:00-04:00 Graage door fix\",\"2024-06-09 13:00:00-04:00 CFSB potluck\"],\"marker\":{\"symbol\":\"diamond-open-dot\"},\"mode\":\"markers\",\"r\":[0.5,0.5,0.5,0.5,0.5,0.5,0.5,0.5,0.5,0.5,0.5,0.5,0.5,0.5,0.5,0.5,0.5,0.5,0.5,0.5,0.5,0.5,0.5,0.5,0.5,0.5,0.5,0.5,0.5,0.5,0.5,0.5,0.5,0.5,0.5,0.5,0.5,0.5,0.5,0.5,0.5,0.5,0.5,0.5,0.5,0.5,0.5,0.5,0.5,0.5,0.5,0.5,0.5,0.5,0.5,0.5,0.5,0.5,0.5,0.5,0.5,0.5,0.5,0.5,0.5,0.5,0.5,0.5,0.5,0.5,0.5,0.5,0.5,0.5,0.5,0.5,0.5,0.5,0.5,0.5,0.5,0.5,0.5,0.5,0.5,0.5,0.5,0.5,0.5,0.5,0.5,0.5,0.5,0.5,0.5,0.5,0.5,0.5,0.5],\"theta\":[158.81147540983608,7.377049180327869,37.868852459016395,66.39344262295081,96.84426229508196,126.35245901639345,156.84426229508196,186.35245901639345,216.84426229508196,247.3360655737705,276.84426229508193,307.37704918032784,336.88524590163934,7.377049180327869,21.147540983606557,34.91803278688525,48.68852459016394,62.459016393442624,76.18852459016392,89.95901639344261,103.7295081967213,117.5,131.2704918032787,145.04098360655738,158.81147540983608,172.58196721311475,186.35245901639345,200.12295081967213,213.89344262295083,227.6639344262295,241.4344262295082,255.20491803278685,268.9754098360655,282.74590163934425,296.5163934426229,310.327868852459,324.0983606557377,337.8688524590164,351.6393442622951,125.30737704918032,297.6844262295082,12.295081967213115,3.6270491803278686,17.315573770491802,8.62704918032787,11.306352459016393,18.31967213114754,29.200819672131146,22.35655737704918,21.311475409836067,23.135245901639344,28.15573770491803,56.5983606557377,63.41188524590164,69.26229508196721,42.971311475409834,43.77049180327869,38.94467213114754,48.68442622950819,50.98770491803278,58.463114754098356,53.575819672131146,48.73565573770492,48.60963114754099,87.98155737704919,69.48770491803278,104.67725409836065,111.5625,118.44774590163934,79.13934426229508,71.37636612021858,83.25819672131146,76.32172131147541,100.96311475409836,115.50204918032786,117.56147540983606,113.7431693989071,112.76639344262294,124.45696721311475,151.99795081967213,179.5389344262295,213.96516393442622,153.80122950819674,125.59426229508196,127.29508196721311,146.2704918032787,115.80942622950819,118.54508196721311,119.52868852459015,120.51229508196721,125.5327868852459,135.25102459016395,141.00409836065572,311.25,127.42315573770492,141.20901639344262,128.2377049180328,142.06967213114754,157.86885245901638],\"type\":\"scatterpolar\"},{\"base\":[0.8,0.8,0.8,0.8,0.8],\"r\":[0.1,0.1,0.1,0.1,0.1],\"theta\":[118.97540983606557,149.46721311475412,178.97540983606558,209.46721311475412,239.95901639344262],\"width\":[30.5,31.516666666666666,30.5,31.516666666666666,31.516666666666666],\"type\":\"barpolar\"}],                        {\"template\":{\"data\":{\"histogram2dcontour\":[{\"type\":\"histogram2dcontour\",\"colorbar\":{\"outlinewidth\":0,\"ticks\":\"\"},\"colorscale\":[[0.0,\"#0d0887\"],[0.1111111111111111,\"#46039f\"],[0.2222222222222222,\"#7201a8\"],[0.3333333333333333,\"#9c179e\"],[0.4444444444444444,\"#bd3786\"],[0.5555555555555556,\"#d8576b\"],[0.6666666666666666,\"#ed7953\"],[0.7777777777777778,\"#fb9f3a\"],[0.8888888888888888,\"#fdca26\"],[1.0,\"#f0f921\"]]}],\"choropleth\":[{\"type\":\"choropleth\",\"colorbar\":{\"outlinewidth\":0,\"ticks\":\"\"}}],\"histogram2d\":[{\"type\":\"histogram2d\",\"colorbar\":{\"outlinewidth\":0,\"ticks\":\"\"},\"colorscale\":[[0.0,\"#0d0887\"],[0.1111111111111111,\"#46039f\"],[0.2222222222222222,\"#7201a8\"],[0.3333333333333333,\"#9c179e\"],[0.4444444444444444,\"#bd3786\"],[0.5555555555555556,\"#d8576b\"],[0.6666666666666666,\"#ed7953\"],[0.7777777777777778,\"#fb9f3a\"],[0.8888888888888888,\"#fdca26\"],[1.0,\"#f0f921\"]]}],\"heatmap\":[{\"type\":\"heatmap\",\"colorbar\":{\"outlinewidth\":0,\"ticks\":\"\"},\"colorscale\":[[0.0,\"#0d0887\"],[0.1111111111111111,\"#46039f\"],[0.2222222222222222,\"#7201a8\"],[0.3333333333333333,\"#9c179e\"],[0.4444444444444444,\"#bd3786\"],[0.5555555555555556,\"#d8576b\"],[0.6666666666666666,\"#ed7953\"],[0.7777777777777778,\"#fb9f3a\"],[0.8888888888888888,\"#fdca26\"],[1.0,\"#f0f921\"]]}],\"heatmapgl\":[{\"type\":\"heatmapgl\",\"colorbar\":{\"outlinewidth\":0,\"ticks\":\"\"},\"colorscale\":[[0.0,\"#0d0887\"],[0.1111111111111111,\"#46039f\"],[0.2222222222222222,\"#7201a8\"],[0.3333333333333333,\"#9c179e\"],[0.4444444444444444,\"#bd3786\"],[0.5555555555555556,\"#d8576b\"],[0.6666666666666666,\"#ed7953\"],[0.7777777777777778,\"#fb9f3a\"],[0.8888888888888888,\"#fdca26\"],[1.0,\"#f0f921\"]]}],\"contourcarpet\":[{\"type\":\"contourcarpet\",\"colorbar\":{\"outlinewidth\":0,\"ticks\":\"\"}}],\"contour\":[{\"type\":\"contour\",\"colorbar\":{\"outlinewidth\":0,\"ticks\":\"\"},\"colorscale\":[[0.0,\"#0d0887\"],[0.1111111111111111,\"#46039f\"],[0.2222222222222222,\"#7201a8\"],[0.3333333333333333,\"#9c179e\"],[0.4444444444444444,\"#bd3786\"],[0.5555555555555556,\"#d8576b\"],[0.6666666666666666,\"#ed7953\"],[0.7777777777777778,\"#fb9f3a\"],[0.8888888888888888,\"#fdca26\"],[1.0,\"#f0f921\"]]}],\"surface\":[{\"type\":\"surface\",\"colorbar\":{\"outlinewidth\":0,\"ticks\":\"\"},\"colorscale\":[[0.0,\"#0d0887\"],[0.1111111111111111,\"#46039f\"],[0.2222222222222222,\"#7201a8\"],[0.3333333333333333,\"#9c179e\"],[0.4444444444444444,\"#bd3786\"],[0.5555555555555556,\"#d8576b\"],[0.6666666666666666,\"#ed7953\"],[0.7777777777777778,\"#fb9f3a\"],[0.8888888888888888,\"#fdca26\"],[1.0,\"#f0f921\"]]}],\"mesh3d\":[{\"type\":\"mesh3d\",\"colorbar\":{\"outlinewidth\":0,\"ticks\":\"\"}}],\"scatter\":[{\"fillpattern\":{\"fillmode\":\"overlay\",\"size\":10,\"solidity\":0.2},\"type\":\"scatter\"}],\"parcoords\":[{\"type\":\"parcoords\",\"line\":{\"colorbar\":{\"outlinewidth\":0,\"ticks\":\"\"}}}],\"scatterpolargl\":[{\"type\":\"scatterpolargl\",\"marker\":{\"colorbar\":{\"outlinewidth\":0,\"ticks\":\"\"}}}],\"bar\":[{\"error_x\":{\"color\":\"#2a3f5f\"},\"error_y\":{\"color\":\"#2a3f5f\"},\"marker\":{\"line\":{\"color\":\"#E5ECF6\",\"width\":0.5},\"pattern\":{\"fillmode\":\"overlay\",\"size\":10,\"solidity\":0.2}},\"type\":\"bar\"}],\"scattergeo\":[{\"type\":\"scattergeo\",\"marker\":{\"colorbar\":{\"outlinewidth\":0,\"ticks\":\"\"}}}],\"scatterpolar\":[{\"type\":\"scatterpolar\",\"marker\":{\"colorbar\":{\"outlinewidth\":0,\"ticks\":\"\"}}}],\"histogram\":[{\"marker\":{\"pattern\":{\"fillmode\":\"overlay\",\"size\":10,\"solidity\":0.2}},\"type\":\"histogram\"}],\"scattergl\":[{\"type\":\"scattergl\",\"marker\":{\"colorbar\":{\"outlinewidth\":0,\"ticks\":\"\"}}}],\"scatter3d\":[{\"type\":\"scatter3d\",\"line\":{\"colorbar\":{\"outlinewidth\":0,\"ticks\":\"\"}},\"marker\":{\"colorbar\":{\"outlinewidth\":0,\"ticks\":\"\"}}}],\"scattermapbox\":[{\"type\":\"scattermapbox\",\"marker\":{\"colorbar\":{\"outlinewidth\":0,\"ticks\":\"\"}}}],\"scatterternary\":[{\"type\":\"scatterternary\",\"marker\":{\"colorbar\":{\"outlinewidth\":0,\"ticks\":\"\"}}}],\"scattercarpet\":[{\"type\":\"scattercarpet\",\"marker\":{\"colorbar\":{\"outlinewidth\":0,\"ticks\":\"\"}}}],\"carpet\":[{\"aaxis\":{\"endlinecolor\":\"#2a3f5f\",\"gridcolor\":\"white\",\"linecolor\":\"white\",\"minorgridcolor\":\"white\",\"startlinecolor\":\"#2a3f5f\"},\"baxis\":{\"endlinecolor\":\"#2a3f5f\",\"gridcolor\":\"white\",\"linecolor\":\"white\",\"minorgridcolor\":\"white\",\"startlinecolor\":\"#2a3f5f\"},\"type\":\"carpet\"}],\"table\":[{\"cells\":{\"fill\":{\"color\":\"#EBF0F8\"},\"line\":{\"color\":\"white\"}},\"header\":{\"fill\":{\"color\":\"#C8D4E3\"},\"line\":{\"color\":\"white\"}},\"type\":\"table\"}],\"barpolar\":[{\"marker\":{\"line\":{\"color\":\"#E5ECF6\",\"width\":0.5},\"pattern\":{\"fillmode\":\"overlay\",\"size\":10,\"solidity\":0.2}},\"type\":\"barpolar\"}],\"pie\":[{\"automargin\":true,\"type\":\"pie\"}]},\"layout\":{\"autotypenumbers\":\"strict\",\"colorway\":[\"#636efa\",\"#EF553B\",\"#00cc96\",\"#ab63fa\",\"#FFA15A\",\"#19d3f3\",\"#FF6692\",\"#B6E880\",\"#FF97FF\",\"#FECB52\"],\"font\":{\"color\":\"#2a3f5f\"},\"hovermode\":\"closest\",\"hoverlabel\":{\"align\":\"left\"},\"paper_bgcolor\":\"white\",\"plot_bgcolor\":\"#E5ECF6\",\"polar\":{\"bgcolor\":\"#E5ECF6\",\"angularaxis\":{\"gridcolor\":\"white\",\"linecolor\":\"white\",\"ticks\":\"\"},\"radialaxis\":{\"gridcolor\":\"white\",\"linecolor\":\"white\",\"ticks\":\"\"}},\"ternary\":{\"bgcolor\":\"#E5ECF6\",\"aaxis\":{\"gridcolor\":\"white\",\"linecolor\":\"white\",\"ticks\":\"\"},\"baxis\":{\"gridcolor\":\"white\",\"linecolor\":\"white\",\"ticks\":\"\"},\"caxis\":{\"gridcolor\":\"white\",\"linecolor\":\"white\",\"ticks\":\"\"}},\"coloraxis\":{\"colorbar\":{\"outlinewidth\":0,\"ticks\":\"\"}},\"colorscale\":{\"sequential\":[[0.0,\"#0d0887\"],[0.1111111111111111,\"#46039f\"],[0.2222222222222222,\"#7201a8\"],[0.3333333333333333,\"#9c179e\"],[0.4444444444444444,\"#bd3786\"],[0.5555555555555556,\"#d8576b\"],[0.6666666666666666,\"#ed7953\"],[0.7777777777777778,\"#fb9f3a\"],[0.8888888888888888,\"#fdca26\"],[1.0,\"#f0f921\"]],\"sequentialminus\":[[0.0,\"#0d0887\"],[0.1111111111111111,\"#46039f\"],[0.2222222222222222,\"#7201a8\"],[0.3333333333333333,\"#9c179e\"],[0.4444444444444444,\"#bd3786\"],[0.5555555555555556,\"#d8576b\"],[0.6666666666666666,\"#ed7953\"],[0.7777777777777778,\"#fb9f3a\"],[0.8888888888888888,\"#fdca26\"],[1.0,\"#f0f921\"]],\"diverging\":[[0,\"#8e0152\"],[0.1,\"#c51b7d\"],[0.2,\"#de77ae\"],[0.3,\"#f1b6da\"],[0.4,\"#fde0ef\"],[0.5,\"#f7f7f7\"],[0.6,\"#e6f5d0\"],[0.7,\"#b8e186\"],[0.8,\"#7fbc41\"],[0.9,\"#4d9221\"],[1,\"#276419\"]]},\"xaxis\":{\"gridcolor\":\"white\",\"linecolor\":\"white\",\"ticks\":\"\",\"title\":{\"standoff\":15},\"zerolinecolor\":\"white\",\"automargin\":true,\"zerolinewidth\":2},\"yaxis\":{\"gridcolor\":\"white\",\"linecolor\":\"white\",\"ticks\":\"\",\"title\":{\"standoff\":15},\"zerolinecolor\":\"white\",\"automargin\":true,\"zerolinewidth\":2},\"scene\":{\"xaxis\":{\"backgroundcolor\":\"#E5ECF6\",\"gridcolor\":\"white\",\"linecolor\":\"white\",\"showbackground\":true,\"ticks\":\"\",\"zerolinecolor\":\"white\",\"gridwidth\":2},\"yaxis\":{\"backgroundcolor\":\"#E5ECF6\",\"gridcolor\":\"white\",\"linecolor\":\"white\",\"showbackground\":true,\"ticks\":\"\",\"zerolinecolor\":\"white\",\"gridwidth\":2},\"zaxis\":{\"backgroundcolor\":\"#E5ECF6\",\"gridcolor\":\"white\",\"linecolor\":\"white\",\"showbackground\":true,\"ticks\":\"\",\"zerolinecolor\":\"white\",\"gridwidth\":2}},\"shapedefaults\":{\"line\":{\"color\":\"#2a3f5f\"}},\"annotationdefaults\":{\"arrowcolor\":\"#2a3f5f\",\"arrowhead\":0,\"arrowwidth\":1},\"geo\":{\"bgcolor\":\"white\",\"landcolor\":\"#E5ECF6\",\"subunitcolor\":\"white\",\"showland\":true,\"showlakes\":true,\"lakecolor\":\"white\"},\"title\":{\"x\":0.05},\"mapbox\":{\"style\":\"light\"}}},\"height\":1000,\"polar\":{\"angularaxis\":{\"direction\":\"counterclockwise\",\"rotation\":-90,\"tickmode\":\"array\",\"tickvals\":[30.491803278688526,59.01639344262295,89.46721311475409,118.97540983606557,149.46721311475412,178.97540983606558,209.46721311475412,239.95901639344262,269.4672131147541,299.9590163934426,329.5081967213115,0.0]},\"sector\":[28.975409836065566,149.95901639344262]}},                        {\"responsive\": true}                    ).then(function(){\n",
       "                            \n",
       "var gd = document.getElementById('3e701686-2dc5-467a-b4fa-e88f1b7e1e50');\n",
       "var x = new MutationObserver(function (mutations, observer) {{\n",
       "        var display = window.getComputedStyle(gd).display;\n",
       "        if (!display || display === 'none') {{\n",
       "            console.log([gd, 'removed!']);\n",
       "            Plotly.purge(gd);\n",
       "            observer.disconnect();\n",
       "        }}\n",
       "}});\n",
       "\n",
       "// Listen for the removal of the full notebook cells\n",
       "var notebookContainer = gd.closest('#notebook-container');\n",
       "if (notebookContainer) {{\n",
       "    x.observe(notebookContainer, {childList: true});\n",
       "}}\n",
       "\n",
       "// Listen for the clearing of the current output cell\n",
       "var outputEl = gd.closest('.output');\n",
       "if (outputEl) {{\n",
       "    x.observe(outputEl, {childList: true});\n",
       "}}\n",
       "\n",
       "                        })                };                });            </script>        </div>"
      ]
     },
     "metadata": {},
     "output_type": "display_data"
    }
   ],
   "source": [
    "fig.add_trace(go.Barpolar(base = [.8] * len(year[3:8]),r=[.1] * len(year[3:8]),\n",
    "                          theta=[model.to_theta(m.mid) for m in year[3:8]],\n",
    "                          width=[len(m) * 366 / 360 for m in year[3:8]]))\n",
    "fig.show()"
   ]
  },
  {
   "cell_type": "code",
   "execution_count": null,
   "id": "8003f844-da24-4152-8d83-77c220c7e82b",
   "metadata": {},
   "outputs": [],
   "source": []
  },
  {
   "cell_type": "code",
   "execution_count": 18,
   "id": "29b68674-3564-4a52-9653-6afd61985695",
   "metadata": {},
   "outputs": [
    {
     "data": {
      "application/vnd.plotly.v1+json": {
       "config": {
        "plotlyServerURL": "https://plot.ly"
       },
       "data": [
        {
         "branchvalues": "total",
         "labels": [
          "2024",
          "05",
          "06",
          "07",
          "08"
         ],
         "parents": [
          "",
          "2024",
          "2024",
          "2024",
          "2024"
         ],
         "rotation": 28.97540983606558,
         "sort": false,
         "type": "sunburst",
         "values": [
          366,
          31,
          30,
          31,
          31
         ]
        }
       ],
       "layout": {
        "autosize": true,
        "margin": {
         "b": 0,
         "l": 0,
         "r": 0,
         "t": 0
        },
        "template": {
         "data": {
          "bar": [
           {
            "error_x": {
             "color": "#2a3f5f"
            },
            "error_y": {
             "color": "#2a3f5f"
            },
            "marker": {
             "line": {
              "color": "#E5ECF6",
              "width": 0.5
             },
             "pattern": {
              "fillmode": "overlay",
              "size": 10,
              "solidity": 0.2
             }
            },
            "type": "bar"
           }
          ],
          "barpolar": [
           {
            "marker": {
             "line": {
              "color": "#E5ECF6",
              "width": 0.5
             },
             "pattern": {
              "fillmode": "overlay",
              "size": 10,
              "solidity": 0.2
             }
            },
            "type": "barpolar"
           }
          ],
          "carpet": [
           {
            "aaxis": {
             "endlinecolor": "#2a3f5f",
             "gridcolor": "white",
             "linecolor": "white",
             "minorgridcolor": "white",
             "startlinecolor": "#2a3f5f"
            },
            "baxis": {
             "endlinecolor": "#2a3f5f",
             "gridcolor": "white",
             "linecolor": "white",
             "minorgridcolor": "white",
             "startlinecolor": "#2a3f5f"
            },
            "type": "carpet"
           }
          ],
          "choropleth": [
           {
            "colorbar": {
             "outlinewidth": 0,
             "ticks": ""
            },
            "type": "choropleth"
           }
          ],
          "contour": [
           {
            "colorbar": {
             "outlinewidth": 0,
             "ticks": ""
            },
            "colorscale": [
             [
              0,
              "#0d0887"
             ],
             [
              0.1111111111111111,
              "#46039f"
             ],
             [
              0.2222222222222222,
              "#7201a8"
             ],
             [
              0.3333333333333333,
              "#9c179e"
             ],
             [
              0.4444444444444444,
              "#bd3786"
             ],
             [
              0.5555555555555556,
              "#d8576b"
             ],
             [
              0.6666666666666666,
              "#ed7953"
             ],
             [
              0.7777777777777778,
              "#fb9f3a"
             ],
             [
              0.8888888888888888,
              "#fdca26"
             ],
             [
              1,
              "#f0f921"
             ]
            ],
            "type": "contour"
           }
          ],
          "contourcarpet": [
           {
            "colorbar": {
             "outlinewidth": 0,
             "ticks": ""
            },
            "type": "contourcarpet"
           }
          ],
          "heatmap": [
           {
            "colorbar": {
             "outlinewidth": 0,
             "ticks": ""
            },
            "colorscale": [
             [
              0,
              "#0d0887"
             ],
             [
              0.1111111111111111,
              "#46039f"
             ],
             [
              0.2222222222222222,
              "#7201a8"
             ],
             [
              0.3333333333333333,
              "#9c179e"
             ],
             [
              0.4444444444444444,
              "#bd3786"
             ],
             [
              0.5555555555555556,
              "#d8576b"
             ],
             [
              0.6666666666666666,
              "#ed7953"
             ],
             [
              0.7777777777777778,
              "#fb9f3a"
             ],
             [
              0.8888888888888888,
              "#fdca26"
             ],
             [
              1,
              "#f0f921"
             ]
            ],
            "type": "heatmap"
           }
          ],
          "heatmapgl": [
           {
            "colorbar": {
             "outlinewidth": 0,
             "ticks": ""
            },
            "colorscale": [
             [
              0,
              "#0d0887"
             ],
             [
              0.1111111111111111,
              "#46039f"
             ],
             [
              0.2222222222222222,
              "#7201a8"
             ],
             [
              0.3333333333333333,
              "#9c179e"
             ],
             [
              0.4444444444444444,
              "#bd3786"
             ],
             [
              0.5555555555555556,
              "#d8576b"
             ],
             [
              0.6666666666666666,
              "#ed7953"
             ],
             [
              0.7777777777777778,
              "#fb9f3a"
             ],
             [
              0.8888888888888888,
              "#fdca26"
             ],
             [
              1,
              "#f0f921"
             ]
            ],
            "type": "heatmapgl"
           }
          ],
          "histogram": [
           {
            "marker": {
             "pattern": {
              "fillmode": "overlay",
              "size": 10,
              "solidity": 0.2
             }
            },
            "type": "histogram"
           }
          ],
          "histogram2d": [
           {
            "colorbar": {
             "outlinewidth": 0,
             "ticks": ""
            },
            "colorscale": [
             [
              0,
              "#0d0887"
             ],
             [
              0.1111111111111111,
              "#46039f"
             ],
             [
              0.2222222222222222,
              "#7201a8"
             ],
             [
              0.3333333333333333,
              "#9c179e"
             ],
             [
              0.4444444444444444,
              "#bd3786"
             ],
             [
              0.5555555555555556,
              "#d8576b"
             ],
             [
              0.6666666666666666,
              "#ed7953"
             ],
             [
              0.7777777777777778,
              "#fb9f3a"
             ],
             [
              0.8888888888888888,
              "#fdca26"
             ],
             [
              1,
              "#f0f921"
             ]
            ],
            "type": "histogram2d"
           }
          ],
          "histogram2dcontour": [
           {
            "colorbar": {
             "outlinewidth": 0,
             "ticks": ""
            },
            "colorscale": [
             [
              0,
              "#0d0887"
             ],
             [
              0.1111111111111111,
              "#46039f"
             ],
             [
              0.2222222222222222,
              "#7201a8"
             ],
             [
              0.3333333333333333,
              "#9c179e"
             ],
             [
              0.4444444444444444,
              "#bd3786"
             ],
             [
              0.5555555555555556,
              "#d8576b"
             ],
             [
              0.6666666666666666,
              "#ed7953"
             ],
             [
              0.7777777777777778,
              "#fb9f3a"
             ],
             [
              0.8888888888888888,
              "#fdca26"
             ],
             [
              1,
              "#f0f921"
             ]
            ],
            "type": "histogram2dcontour"
           }
          ],
          "mesh3d": [
           {
            "colorbar": {
             "outlinewidth": 0,
             "ticks": ""
            },
            "type": "mesh3d"
           }
          ],
          "parcoords": [
           {
            "line": {
             "colorbar": {
              "outlinewidth": 0,
              "ticks": ""
             }
            },
            "type": "parcoords"
           }
          ],
          "pie": [
           {
            "automargin": true,
            "type": "pie"
           }
          ],
          "scatter": [
           {
            "fillpattern": {
             "fillmode": "overlay",
             "size": 10,
             "solidity": 0.2
            },
            "type": "scatter"
           }
          ],
          "scatter3d": [
           {
            "line": {
             "colorbar": {
              "outlinewidth": 0,
              "ticks": ""
             }
            },
            "marker": {
             "colorbar": {
              "outlinewidth": 0,
              "ticks": ""
             }
            },
            "type": "scatter3d"
           }
          ],
          "scattercarpet": [
           {
            "marker": {
             "colorbar": {
              "outlinewidth": 0,
              "ticks": ""
             }
            },
            "type": "scattercarpet"
           }
          ],
          "scattergeo": [
           {
            "marker": {
             "colorbar": {
              "outlinewidth": 0,
              "ticks": ""
             }
            },
            "type": "scattergeo"
           }
          ],
          "scattergl": [
           {
            "marker": {
             "colorbar": {
              "outlinewidth": 0,
              "ticks": ""
             }
            },
            "type": "scattergl"
           }
          ],
          "scattermapbox": [
           {
            "marker": {
             "colorbar": {
              "outlinewidth": 0,
              "ticks": ""
             }
            },
            "type": "scattermapbox"
           }
          ],
          "scatterpolar": [
           {
            "marker": {
             "colorbar": {
              "outlinewidth": 0,
              "ticks": ""
             }
            },
            "type": "scatterpolar"
           }
          ],
          "scatterpolargl": [
           {
            "marker": {
             "colorbar": {
              "outlinewidth": 0,
              "ticks": ""
             }
            },
            "type": "scatterpolargl"
           }
          ],
          "scatterternary": [
           {
            "marker": {
             "colorbar": {
              "outlinewidth": 0,
              "ticks": ""
             }
            },
            "type": "scatterternary"
           }
          ],
          "surface": [
           {
            "colorbar": {
             "outlinewidth": 0,
             "ticks": ""
            },
            "colorscale": [
             [
              0,
              "#0d0887"
             ],
             [
              0.1111111111111111,
              "#46039f"
             ],
             [
              0.2222222222222222,
              "#7201a8"
             ],
             [
              0.3333333333333333,
              "#9c179e"
             ],
             [
              0.4444444444444444,
              "#bd3786"
             ],
             [
              0.5555555555555556,
              "#d8576b"
             ],
             [
              0.6666666666666666,
              "#ed7953"
             ],
             [
              0.7777777777777778,
              "#fb9f3a"
             ],
             [
              0.8888888888888888,
              "#fdca26"
             ],
             [
              1,
              "#f0f921"
             ]
            ],
            "type": "surface"
           }
          ],
          "table": [
           {
            "cells": {
             "fill": {
              "color": "#EBF0F8"
             },
             "line": {
              "color": "white"
             }
            },
            "header": {
             "fill": {
              "color": "#C8D4E3"
             },
             "line": {
              "color": "white"
             }
            },
            "type": "table"
           }
          ]
         },
         "layout": {
          "annotationdefaults": {
           "arrowcolor": "#2a3f5f",
           "arrowhead": 0,
           "arrowwidth": 1
          },
          "autotypenumbers": "strict",
          "coloraxis": {
           "colorbar": {
            "outlinewidth": 0,
            "ticks": ""
           }
          },
          "colorscale": {
           "diverging": [
            [
             0,
             "#8e0152"
            ],
            [
             0.1,
             "#c51b7d"
            ],
            [
             0.2,
             "#de77ae"
            ],
            [
             0.3,
             "#f1b6da"
            ],
            [
             0.4,
             "#fde0ef"
            ],
            [
             0.5,
             "#f7f7f7"
            ],
            [
             0.6,
             "#e6f5d0"
            ],
            [
             0.7,
             "#b8e186"
            ],
            [
             0.8,
             "#7fbc41"
            ],
            [
             0.9,
             "#4d9221"
            ],
            [
             1,
             "#276419"
            ]
           ],
           "sequential": [
            [
             0,
             "#0d0887"
            ],
            [
             0.1111111111111111,
             "#46039f"
            ],
            [
             0.2222222222222222,
             "#7201a8"
            ],
            [
             0.3333333333333333,
             "#9c179e"
            ],
            [
             0.4444444444444444,
             "#bd3786"
            ],
            [
             0.5555555555555556,
             "#d8576b"
            ],
            [
             0.6666666666666666,
             "#ed7953"
            ],
            [
             0.7777777777777778,
             "#fb9f3a"
            ],
            [
             0.8888888888888888,
             "#fdca26"
            ],
            [
             1,
             "#f0f921"
            ]
           ],
           "sequentialminus": [
            [
             0,
             "#0d0887"
            ],
            [
             0.1111111111111111,
             "#46039f"
            ],
            [
             0.2222222222222222,
             "#7201a8"
            ],
            [
             0.3333333333333333,
             "#9c179e"
            ],
            [
             0.4444444444444444,
             "#bd3786"
            ],
            [
             0.5555555555555556,
             "#d8576b"
            ],
            [
             0.6666666666666666,
             "#ed7953"
            ],
            [
             0.7777777777777778,
             "#fb9f3a"
            ],
            [
             0.8888888888888888,
             "#fdca26"
            ],
            [
             1,
             "#f0f921"
            ]
           ]
          },
          "colorway": [
           "#636efa",
           "#EF553B",
           "#00cc96",
           "#ab63fa",
           "#FFA15A",
           "#19d3f3",
           "#FF6692",
           "#B6E880",
           "#FF97FF",
           "#FECB52"
          ],
          "font": {
           "color": "#2a3f5f"
          },
          "geo": {
           "bgcolor": "white",
           "lakecolor": "white",
           "landcolor": "#E5ECF6",
           "showlakes": true,
           "showland": true,
           "subunitcolor": "white"
          },
          "hoverlabel": {
           "align": "left"
          },
          "hovermode": "closest",
          "mapbox": {
           "style": "light"
          },
          "paper_bgcolor": "white",
          "plot_bgcolor": "#E5ECF6",
          "polar": {
           "angularaxis": {
            "gridcolor": "white",
            "linecolor": "white",
            "ticks": ""
           },
           "bgcolor": "#E5ECF6",
           "radialaxis": {
            "gridcolor": "white",
            "linecolor": "white",
            "ticks": ""
           }
          },
          "scene": {
           "xaxis": {
            "backgroundcolor": "#E5ECF6",
            "gridcolor": "white",
            "gridwidth": 2,
            "linecolor": "white",
            "showbackground": true,
            "ticks": "",
            "zerolinecolor": "white"
           },
           "yaxis": {
            "backgroundcolor": "#E5ECF6",
            "gridcolor": "white",
            "gridwidth": 2,
            "linecolor": "white",
            "showbackground": true,
            "ticks": "",
            "zerolinecolor": "white"
           },
           "zaxis": {
            "backgroundcolor": "#E5ECF6",
            "gridcolor": "white",
            "gridwidth": 2,
            "linecolor": "white",
            "showbackground": true,
            "ticks": "",
            "zerolinecolor": "white"
           }
          },
          "shapedefaults": {
           "line": {
            "color": "#2a3f5f"
           }
          },
          "ternary": {
           "aaxis": {
            "gridcolor": "white",
            "linecolor": "white",
            "ticks": ""
           },
           "baxis": {
            "gridcolor": "white",
            "linecolor": "white",
            "ticks": ""
           },
           "bgcolor": "#E5ECF6",
           "caxis": {
            "gridcolor": "white",
            "linecolor": "white",
            "ticks": ""
           }
          },
          "title": {
           "x": 0.05
          },
          "xaxis": {
           "automargin": true,
           "gridcolor": "white",
           "linecolor": "white",
           "ticks": "",
           "title": {
            "standoff": 15
           },
           "zerolinecolor": "white",
           "zerolinewidth": 2
          },
          "yaxis": {
           "automargin": true,
           "gridcolor": "white",
           "linecolor": "white",
           "ticks": "",
           "title": {
            "standoff": 15
           },
           "zerolinecolor": "white",
           "zerolinewidth": 2
          }
         }
        }
       }
      },
      "image/png": "[encoded data removed]",
      "text/html": [
       "<div>                            <div id=\"1b8d058f-1389-4977-8b95-940d1c086e32\" class=\"plotly-graph-div\" style=\"height:525px; width:100%;\"></div>            <script type=\"text/javascript\">                require([\"plotly\"], function(Plotly) {                    window.PLOTLYENV=window.PLOTLYENV || {};                                    if (document.getElementById(\"1b8d058f-1389-4977-8b95-940d1c086e32\")) {                    Plotly.newPlot(                        \"1b8d058f-1389-4977-8b95-940d1c086e32\",                        [{\"branchvalues\":\"total\",\"labels\":[\"2024\",\"05\",\"06\",\"07\",\"08\"],\"parents\":[\"\",\"2024\",\"2024\",\"2024\",\"2024\"],\"rotation\":28.97540983606558,\"sort\":false,\"values\":[366,31,30,31,31],\"type\":\"sunburst\"}],                        {\"template\":{\"data\":{\"histogram2dcontour\":[{\"type\":\"histogram2dcontour\",\"colorbar\":{\"outlinewidth\":0,\"ticks\":\"\"},\"colorscale\":[[0.0,\"#0d0887\"],[0.1111111111111111,\"#46039f\"],[0.2222222222222222,\"#7201a8\"],[0.3333333333333333,\"#9c179e\"],[0.4444444444444444,\"#bd3786\"],[0.5555555555555556,\"#d8576b\"],[0.6666666666666666,\"#ed7953\"],[0.7777777777777778,\"#fb9f3a\"],[0.8888888888888888,\"#fdca26\"],[1.0,\"#f0f921\"]]}],\"choropleth\":[{\"type\":\"choropleth\",\"colorbar\":{\"outlinewidth\":0,\"ticks\":\"\"}}],\"histogram2d\":[{\"type\":\"histogram2d\",\"colorbar\":{\"outlinewidth\":0,\"ticks\":\"\"},\"colorscale\":[[0.0,\"#0d0887\"],[0.1111111111111111,\"#46039f\"],[0.2222222222222222,\"#7201a8\"],[0.3333333333333333,\"#9c179e\"],[0.4444444444444444,\"#bd3786\"],[0.5555555555555556,\"#d8576b\"],[0.6666666666666666,\"#ed7953\"],[0.7777777777777778,\"#fb9f3a\"],[0.8888888888888888,\"#fdca26\"],[1.0,\"#f0f921\"]]}],\"heatmap\":[{\"type\":\"heatmap\",\"colorbar\":{\"outlinewidth\":0,\"ticks\":\"\"},\"colorscale\":[[0.0,\"#0d0887\"],[0.1111111111111111,\"#46039f\"],[0.2222222222222222,\"#7201a8\"],[0.3333333333333333,\"#9c179e\"],[0.4444444444444444,\"#bd3786\"],[0.5555555555555556,\"#d8576b\"],[0.6666666666666666,\"#ed7953\"],[0.7777777777777778,\"#fb9f3a\"],[0.8888888888888888,\"#fdca26\"],[1.0,\"#f0f921\"]]}],\"heatmapgl\":[{\"type\":\"heatmapgl\",\"colorbar\":{\"outlinewidth\":0,\"ticks\":\"\"},\"colorscale\":[[0.0,\"#0d0887\"],[0.1111111111111111,\"#46039f\"],[0.2222222222222222,\"#7201a8\"],[0.3333333333333333,\"#9c179e\"],[0.4444444444444444,\"#bd3786\"],[0.5555555555555556,\"#d8576b\"],[0.6666666666666666,\"#ed7953\"],[0.7777777777777778,\"#fb9f3a\"],[0.8888888888888888,\"#fdca26\"],[1.0,\"#f0f921\"]]}],\"contourcarpet\":[{\"type\":\"contourcarpet\",\"colorbar\":{\"outlinewidth\":0,\"ticks\":\"\"}}],\"contour\":[{\"type\":\"contour\",\"colorbar\":{\"outlinewidth\":0,\"ticks\":\"\"},\"colorscale\":[[0.0,\"#0d0887\"],[0.1111111111111111,\"#46039f\"],[0.2222222222222222,\"#7201a8\"],[0.3333333333333333,\"#9c179e\"],[0.4444444444444444,\"#bd3786\"],[0.5555555555555556,\"#d8576b\"],[0.6666666666666666,\"#ed7953\"],[0.7777777777777778,\"#fb9f3a\"],[0.8888888888888888,\"#fdca26\"],[1.0,\"#f0f921\"]]}],\"surface\":[{\"type\":\"surface\",\"colorbar\":{\"outlinewidth\":0,\"ticks\":\"\"},\"colorscale\":[[0.0,\"#0d0887\"],[0.1111111111111111,\"#46039f\"],[0.2222222222222222,\"#7201a8\"],[0.3333333333333333,\"#9c179e\"],[0.4444444444444444,\"#bd3786\"],[0.5555555555555556,\"#d8576b\"],[0.6666666666666666,\"#ed7953\"],[0.7777777777777778,\"#fb9f3a\"],[0.8888888888888888,\"#fdca26\"],[1.0,\"#f0f921\"]]}],\"mesh3d\":[{\"type\":\"mesh3d\",\"colorbar\":{\"outlinewidth\":0,\"ticks\":\"\"}}],\"scatter\":[{\"fillpattern\":{\"fillmode\":\"overlay\",\"size\":10,\"solidity\":0.2},\"type\":\"scatter\"}],\"parcoords\":[{\"type\":\"parcoords\",\"line\":{\"colorbar\":{\"outlinewidth\":0,\"ticks\":\"\"}}}],\"scatterpolargl\":[{\"type\":\"scatterpolargl\",\"marker\":{\"colorbar\":{\"outlinewidth\":0,\"ticks\":\"\"}}}],\"bar\":[{\"error_x\":{\"color\":\"#2a3f5f\"},\"error_y\":{\"color\":\"#2a3f5f\"},\"marker\":{\"line\":{\"color\":\"#E5ECF6\",\"width\":0.5},\"pattern\":{\"fillmode\":\"overlay\",\"size\":10,\"solidity\":0.2}},\"type\":\"bar\"}],\"scattergeo\":[{\"type\":\"scattergeo\",\"marker\":{\"colorbar\":{\"outlinewidth\":0,\"ticks\":\"\"}}}],\"scatterpolar\":[{\"type\":\"scatterpolar\",\"marker\":{\"colorbar\":{\"outlinewidth\":0,\"ticks\":\"\"}}}],\"histogram\":[{\"marker\":{\"pattern\":{\"fillmode\":\"overlay\",\"size\":10,\"solidity\":0.2}},\"type\":\"histogram\"}],\"scattergl\":[{\"type\":\"scattergl\",\"marker\":{\"colorbar\":{\"outlinewidth\":0,\"ticks\":\"\"}}}],\"scatter3d\":[{\"type\":\"scatter3d\",\"line\":{\"colorbar\":{\"outlinewidth\":0,\"ticks\":\"\"}},\"marker\":{\"colorbar\":{\"outlinewidth\":0,\"ticks\":\"\"}}}],\"scattermapbox\":[{\"type\":\"scattermapbox\",\"marker\":{\"colorbar\":{\"outlinewidth\":0,\"ticks\":\"\"}}}],\"scatterternary\":[{\"type\":\"scatterternary\",\"marker\":{\"colorbar\":{\"outlinewidth\":0,\"ticks\":\"\"}}}],\"scattercarpet\":[{\"type\":\"scattercarpet\",\"marker\":{\"colorbar\":{\"outlinewidth\":0,\"ticks\":\"\"}}}],\"carpet\":[{\"aaxis\":{\"endlinecolor\":\"#2a3f5f\",\"gridcolor\":\"white\",\"linecolor\":\"white\",\"minorgridcolor\":\"white\",\"startlinecolor\":\"#2a3f5f\"},\"baxis\":{\"endlinecolor\":\"#2a3f5f\",\"gridcolor\":\"white\",\"linecolor\":\"white\",\"minorgridcolor\":\"white\",\"startlinecolor\":\"#2a3f5f\"},\"type\":\"carpet\"}],\"table\":[{\"cells\":{\"fill\":{\"color\":\"#EBF0F8\"},\"line\":{\"color\":\"white\"}},\"header\":{\"fill\":{\"color\":\"#C8D4E3\"},\"line\":{\"color\":\"white\"}},\"type\":\"table\"}],\"barpolar\":[{\"marker\":{\"line\":{\"color\":\"#E5ECF6\",\"width\":0.5},\"pattern\":{\"fillmode\":\"overlay\",\"size\":10,\"solidity\":0.2}},\"type\":\"barpolar\"}],\"pie\":[{\"automargin\":true,\"type\":\"pie\"}]},\"layout\":{\"autotypenumbers\":\"strict\",\"colorway\":[\"#636efa\",\"#EF553B\",\"#00cc96\",\"#ab63fa\",\"#FFA15A\",\"#19d3f3\",\"#FF6692\",\"#B6E880\",\"#FF97FF\",\"#FECB52\"],\"font\":{\"color\":\"#2a3f5f\"},\"hovermode\":\"closest\",\"hoverlabel\":{\"align\":\"left\"},\"paper_bgcolor\":\"white\",\"plot_bgcolor\":\"#E5ECF6\",\"polar\":{\"bgcolor\":\"#E5ECF6\",\"angularaxis\":{\"gridcolor\":\"white\",\"linecolor\":\"white\",\"ticks\":\"\"},\"radialaxis\":{\"gridcolor\":\"white\",\"linecolor\":\"white\",\"ticks\":\"\"}},\"ternary\":{\"bgcolor\":\"#E5ECF6\",\"aaxis\":{\"gridcolor\":\"white\",\"linecolor\":\"white\",\"ticks\":\"\"},\"baxis\":{\"gridcolor\":\"white\",\"linecolor\":\"white\",\"ticks\":\"\"},\"caxis\":{\"gridcolor\":\"white\",\"linecolor\":\"white\",\"ticks\":\"\"}},\"coloraxis\":{\"colorbar\":{\"outlinewidth\":0,\"ticks\":\"\"}},\"colorscale\":{\"sequential\":[[0.0,\"#0d0887\"],[0.1111111111111111,\"#46039f\"],[0.2222222222222222,\"#7201a8\"],[0.3333333333333333,\"#9c179e\"],[0.4444444444444444,\"#bd3786\"],[0.5555555555555556,\"#d8576b\"],[0.6666666666666666,\"#ed7953\"],[0.7777777777777778,\"#fb9f3a\"],[0.8888888888888888,\"#fdca26\"],[1.0,\"#f0f921\"]],\"sequentialminus\":[[0.0,\"#0d0887\"],[0.1111111111111111,\"#46039f\"],[0.2222222222222222,\"#7201a8\"],[0.3333333333333333,\"#9c179e\"],[0.4444444444444444,\"#bd3786\"],[0.5555555555555556,\"#d8576b\"],[0.6666666666666666,\"#ed7953\"],[0.7777777777777778,\"#fb9f3a\"],[0.8888888888888888,\"#fdca26\"],[1.0,\"#f0f921\"]],\"diverging\":[[0,\"#8e0152\"],[0.1,\"#c51b7d\"],[0.2,\"#de77ae\"],[0.3,\"#f1b6da\"],[0.4,\"#fde0ef\"],[0.5,\"#f7f7f7\"],[0.6,\"#e6f5d0\"],[0.7,\"#b8e186\"],[0.8,\"#7fbc41\"],[0.9,\"#4d9221\"],[1,\"#276419\"]]},\"xaxis\":{\"gridcolor\":\"white\",\"linecolor\":\"white\",\"ticks\":\"\",\"title\":{\"standoff\":15},\"zerolinecolor\":\"white\",\"automargin\":true,\"zerolinewidth\":2},\"yaxis\":{\"gridcolor\":\"white\",\"linecolor\":\"white\",\"ticks\":\"\",\"title\":{\"standoff\":15},\"zerolinecolor\":\"white\",\"automargin\":true,\"zerolinewidth\":2},\"scene\":{\"xaxis\":{\"backgroundcolor\":\"#E5ECF6\",\"gridcolor\":\"white\",\"linecolor\":\"white\",\"showbackground\":true,\"ticks\":\"\",\"zerolinecolor\":\"white\",\"gridwidth\":2},\"yaxis\":{\"backgroundcolor\":\"#E5ECF6\",\"gridcolor\":\"white\",\"linecolor\":\"white\",\"showbackground\":true,\"ticks\":\"\",\"zerolinecolor\":\"white\",\"gridwidth\":2},\"zaxis\":{\"backgroundcolor\":\"#E5ECF6\",\"gridcolor\":\"white\",\"linecolor\":\"white\",\"showbackground\":true,\"ticks\":\"\",\"zerolinecolor\":\"white\",\"gridwidth\":2}},\"shapedefaults\":{\"line\":{\"color\":\"#2a3f5f\"}},\"annotationdefaults\":{\"arrowcolor\":\"#2a3f5f\",\"arrowhead\":0,\"arrowwidth\":1},\"geo\":{\"bgcolor\":\"white\",\"landcolor\":\"#E5ECF6\",\"subunitcolor\":\"white\",\"showland\":true,\"showlakes\":true,\"lakecolor\":\"white\"},\"title\":{\"x\":0.05},\"mapbox\":{\"style\":\"light\"}}},\"margin\":{\"t\":0,\"l\":0,\"r\":0,\"b\":0}},                        {\"responsive\": true}                    ).then(function(){\n",
       "                            \n",
       "var gd = document.getElementById('1b8d058f-1389-4977-8b95-940d1c086e32');\n",
       "var x = new MutationObserver(function (mutations, observer) {{\n",
       "        var display = window.getComputedStyle(gd).display;\n",
       "        if (!display || display === 'none') {{\n",
       "            console.log([gd, 'removed!']);\n",
       "            Plotly.purge(gd);\n",
       "            observer.disconnect();\n",
       "        }}\n",
       "}});\n",
       "\n",
       "// Listen for the removal of the full notebook cells\n",
       "var notebookContainer = gd.closest('#notebook-container');\n",
       "if (notebookContainer) {{\n",
       "    x.observe(notebookContainer, {childList: true});\n",
       "}}\n",
       "\n",
       "// Listen for the clearing of the current output cell\n",
       "var outputEl = gd.closest('.output');\n",
       "if (outputEl) {{\n",
       "    x.observe(outputEl, {childList: true});\n",
       "}}\n",
       "\n",
       "                        })                };                });            </script>        </div>"
      ]
     },
     "metadata": {},
     "output_type": "display_data"
    }
   ],
   "source": [
    "yeard = dict(labels=[str(year.year)] + [str(m.month) for m in year[4:8]],\n",
    "             parents=[\"\"] + [str(year.year)] * len(year[4:8]),\n",
    "             values=[366] + [len(m) for m in year[4:8]]\n",
    "            )\n",
    "sbfig =go.Figure(go.Sunburst(\n",
    "    labels=yeard[\"labels\"],\n",
    "    parents=yeard[\"parents\"],\n",
    "    values=yeard[\"values\"],\n",
    "    sort=False,\n",
    "    rotation=model.to_theta(year[4][0].datetime())-90,\n",
    "    branchvalues=\"total\",\n",
    "))\n",
    "# Update layout for tight margin\n",
    "# See https://plotly.com/python/creating-and-updating-figures/\n",
    "sbfig.update_layout(margin = dict(t=0, l=0, r=0, b=0))\n",
    "\n",
    "sbfig.show()"
   ]
  },
  {
   "cell_type": "code",
   "execution_count": 9,
   "id": "37520001-8431-47f4-802d-078122aac9b9",
   "metadata": {},
   "outputs": [
    {
     "data": {
      "text/plain": [
       "[{'year': 2024, 'month': 5, 'type': 'CalendarElement'},\n",
       " {'year': 2024, 'month': 6, 'type': 'CalendarElement'},\n",
       " {'year': 2024, 'month': 7, 'type': 'CalendarElement'},\n",
       " {'year': 2024, 'month': 8, 'type': 'CalendarElement'}]"
      ]
     },
     "execution_count": 9,
     "metadata": {},
     "output_type": "execute_result"
    }
   ],
   "source": []
  },
  {
   "cell_type": "code",
   "execution_count": null,
   "id": "ce03f5d8-6881-401d-be29-acb058f63e7b",
   "metadata": {},
   "outputs": [],
   "source": []
  }
 ],
 "metadata": {
  "kernelspec": {
   "display_name": "Python 3 (ipykernel)",
   "language": "python",
   "name": "python3"
  },
  "language_info": {
   "codemirror_mode": {
    "name": "ipython",
    "version": 3
   },
   "file_extension": ".py",
   "mimetype": "text/x-python",
   "name": "python",
   "nbconvert_exporter": "python",
   "pygments_lexer": "ipython3",
   "version": "3.12.3"
  }
 },
 "nbformat": 4,
 "nbformat_minor": 5
}
