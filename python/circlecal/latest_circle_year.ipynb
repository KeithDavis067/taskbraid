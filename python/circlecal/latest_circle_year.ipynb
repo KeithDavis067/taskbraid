{
 "cells": [
  {
   "cell_type": "code",
   "execution_count": 1,
   "id": "58844e03-d44e-4b54-bd67-c0ac6b5a4cfb",
   "metadata": {},
   "outputs": [],
   "source": [
    "from gcsa.event import Event\n",
    "from gcsa.google_calendar import GoogleCalendar\n",
    "from gcsa.recurrence import Recurrence, DAILY, SU, SA\n",
    "\n",
    "import plotly.express as px\n",
    "import plotly.graph_objects as go\n",
    "\n",
    "import pandas as pd\n",
    "\n",
    "from datetime import datetime, timedelta, date\n",
    "import dateutil\n",
    "from dateutil.parser import parse\n",
    "import calendar\n",
    "import numpy as np\n",
    "from circle_cal.model import CalendarElement\n",
    "import circle_cal as cc\n",
    "import circle_cal.model as model\n",
    "import pathlib\n",
    "from rich import print\n",
    "import pytz\n",
    "from pytz import timezone"
   ]
  },
  {
   "cell_type": "code",
   "execution_count": 2,
   "id": "faab0ba5-96a2-42de-9264-20f3515f5c03",
   "metadata": {},
   "outputs": [],
   "source": [
    "cred = pathlib.Path('/Users/kdavis10/.config/.credentials')\n",
    "cred_json = \"pygooglecal.apps.googleusercontent.com.json\"\n",
    "\n",
    "try:\n",
    "    gcal = GoogleCalendar('keithwdavis@gmail.com',\n",
    "                          credentials_path=cred / cred_json)\n",
    "except Exception as e:\n",
    "    (cred / \"token.pickle\").unlink()"
   ]
  },
  {
   "cell_type": "code",
   "execution_count": 3,
   "id": "8cc5e227-d3bf-4fe5-b9d4-f5c9035e63f0",
   "metadata": {},
   "outputs": [
    {
     "data": {
      "text/plain": [
       "366"
      ]
     },
     "execution_count": 3,
     "metadata": {},
     "output_type": "execute_result"
    }
   ],
   "source": [
    "y24 = CalendarElement(year=2024)\n",
    "len(list(y24.recursive_iteration(\"day\")))"
   ]
  },
  {
   "cell_type": "code",
   "execution_count": 4,
   "id": "8a8467cc-c455-4042-8b0c-627f5015ab9d",
   "metadata": {},
   "outputs": [
    {
     "ename": "TypeError",
     "evalue": "combine() argument 1 must be datetime.date, not None",
     "output_type": "error",
     "traceback": [
      "\u001b[0;31m---------------------------------------------------------------------------\u001b[0m",
      "\u001b[0;31mAttributeError\u001b[0m                            Traceback (most recent call last)",
      "File \u001b[0;32m~/Documents/PythonProjects/taskbraid/python/circlecal/circle_cal/model.py:1052\u001b[0m, in \u001b[0;36mto_timestamp\u001b[0;34m(obj)\u001b[0m\n\u001b[1;32m   1051\u001b[0m \u001b[38;5;28;01mtry\u001b[39;00m:\n\u001b[0;32m-> 1052\u001b[0m     ts \u001b[38;5;241m=\u001b[39m \u001b[43mobj\u001b[49m\u001b[38;5;241;43m.\u001b[39;49m\u001b[43mtimestamp\u001b[49m()\n\u001b[1;32m   1053\u001b[0m \u001b[38;5;28;01mexcept\u001b[39;00m \u001b[38;5;167;01mAttributeError\u001b[39;00m:\n",
      "\u001b[0;31mAttributeError\u001b[0m: 'NoneType' object has no attribute 'timestamp'",
      "\nDuring handling of the above exception, another exception occurred:\n",
      "\u001b[0;31mTypeError\u001b[0m                                 Traceback (most recent call last)",
      "Cell \u001b[0;32mIn[4], line 22\u001b[0m\n\u001b[1;32m     16\u001b[0m     t \u001b[38;5;241m=\u001b[39m go\u001b[38;5;241m.\u001b[39mScatterpolar(r\u001b[38;5;241m=\u001b[39mr, theta\u001b[38;5;241m=\u001b[39mtheta, mode\u001b[38;5;241m=\u001b[39m\u001b[38;5;124m\"\u001b[39m\u001b[38;5;124mmarkers\u001b[39m\u001b[38;5;124m\"\u001b[39m,\n\u001b[1;32m     17\u001b[0m                         hovertext\u001b[38;5;241m=\u001b[39mtext,\n\u001b[1;32m     18\u001b[0m                         marker_symbol\u001b[38;5;241m=\u001b[39m\u001b[38;5;124m\"\u001b[39m\u001b[38;5;124mdiamond-open-dot\u001b[39m\u001b[38;5;124m\"\u001b[39m\n\u001b[1;32m     19\u001b[0m                            )\n\u001b[1;32m     20\u001b[0m     \u001b[38;5;28;01mreturn\u001b[39;00m t\n\u001b[0;32m---> 22\u001b[0m t \u001b[38;5;241m=\u001b[39m \u001b[43mmake_point_trace\u001b[49m\u001b[43m(\u001b[49m\u001b[43meve\u001b[49m\u001b[43m,\u001b[49m\u001b[43m \u001b[49m\u001b[38;5;241;43m366\u001b[39;49m\u001b[43m \u001b[49m\u001b[38;5;241;43m/\u001b[39;49m\u001b[43m \u001b[49m\u001b[38;5;241;43m360\u001b[39;49m\u001b[43m)\u001b[49m\n\u001b[1;32m     23\u001b[0m fig \u001b[38;5;241m=\u001b[39m go\u001b[38;5;241m.\u001b[39mFigure(data\u001b[38;5;241m=\u001b[39mt)\n\u001b[1;32m     24\u001b[0m fig\u001b[38;5;241m.\u001b[39mupdate_layout(height\u001b[38;5;241m=\u001b[39m\u001b[38;5;241m1000\u001b[39m)\n",
      "Cell \u001b[0;32mIn[4], line 12\u001b[0m, in \u001b[0;36mmake_point_trace\u001b[0;34m(events, d_to_th)\u001b[0m\n\u001b[1;32m     10\u001b[0m \u001b[38;5;28;01mfor\u001b[39;00m eve \u001b[38;5;129;01min\u001b[39;00m events:\n\u001b[1;32m     11\u001b[0m     r\u001b[38;5;241m.\u001b[39mappend(\u001b[38;5;241m.5\u001b[39m)\n\u001b[0;32m---> 12\u001b[0m     theta\u001b[38;5;241m.\u001b[39mappend(\u001b[43mmodel\u001b[49m\u001b[38;5;241;43m.\u001b[39;49m\u001b[43mto_theta\u001b[49m\u001b[43m(\u001b[49m\u001b[43meve\u001b[49m\u001b[38;5;241;43m.\u001b[39;49m\u001b[43mmid\u001b[49m\u001b[43m)\u001b[49m),\n\u001b[1;32m     13\u001b[0m     \u001b[38;5;66;03m#theta.append(eve.mid)\u001b[39;00m\n\u001b[1;32m     14\u001b[0m     text\u001b[38;5;241m.\u001b[39mappend(\u001b[38;5;124m\"\u001b[39m\u001b[38;5;124m \u001b[39m\u001b[38;5;124m\"\u001b[39m\u001b[38;5;241m.\u001b[39mjoin((\u001b[38;5;28mstr\u001b[39m(eve\u001b[38;5;241m.\u001b[39mmid), eve\u001b[38;5;241m.\u001b[39msummary)))\n",
      "File \u001b[0;32m~/Documents/PythonProjects/taskbraid/python/circlecal/circle_cal/model.py:1046\u001b[0m, in \u001b[0;36mto_theta\u001b[0;34m(datevalue, year)\u001b[0m\n\u001b[1;32m   1043\u001b[0m         year \u001b[38;5;241m=\u001b[39m datetime\u001b[38;5;241m.\u001b[39mtoday()\u001b[38;5;241m.\u001b[39myear\n\u001b[1;32m   1045\u001b[0m ce \u001b[38;5;241m=\u001b[39m CalendarElement(year\u001b[38;5;241m=\u001b[39myear)\n\u001b[0;32m-> 1046\u001b[0m days \u001b[38;5;241m=\u001b[39m \u001b[43mce\u001b[49m\u001b[38;5;241;43m.\u001b[39;49m\u001b[43mdate_to_unit\u001b[49m\u001b[43m(\u001b[49m\u001b[43mdatevalue\u001b[49m\u001b[43m)\u001b[49m\n\u001b[1;32m   1047\u001b[0m \u001b[38;5;28;01mreturn\u001b[39;00m \u001b[38;5;241m360\u001b[39m \u001b[38;5;241m/\u001b[39m \u001b[38;5;28mlen\u001b[39m(\u001b[38;5;28mlist\u001b[39m(ce\u001b[38;5;241m.\u001b[39mrecursive_iteration(\u001b[38;5;124m\"\u001b[39m\u001b[38;5;124mday\u001b[39m\u001b[38;5;124m\"\u001b[39m))) \u001b[38;5;241m*\u001b[39m days\n",
      "File \u001b[0;32m~/Documents/PythonProjects/taskbraid/python/circlecal/circle_cal/model.py:742\u001b[0m, in \u001b[0;36mCalendarElement.date_to_unit\u001b[0;34m(self, d, unit)\u001b[0m\n\u001b[1;32m    740\u001b[0m \u001b[38;5;28;01mdef\u001b[39;00m \u001b[38;5;21mdate_to_unit\u001b[39m(\u001b[38;5;28mself\u001b[39m, d, unit\u001b[38;5;241m=\u001b[39m\u001b[38;5;124m\"\u001b[39m\u001b[38;5;124mdays\u001b[39m\u001b[38;5;124m\"\u001b[39m):\n\u001b[1;32m    741\u001b[0m     td \u001b[38;5;241m=\u001b[39m timedelta(seconds\u001b[38;5;241m=\u001b[39m(\u001b[38;5;28mself\u001b[39m\u001b[38;5;241m.\u001b[39mstart\u001b[38;5;241m.\u001b[39mdatetime()\u001b[38;5;241m.\u001b[39mtimestamp() \u001b[38;5;241m-\u001b[39m\n\u001b[0;32m--> 742\u001b[0m                             \u001b[43mto_timestamp\u001b[49m\u001b[43m(\u001b[49m\u001b[43md\u001b[49m\u001b[43m)\u001b[49m))\n\u001b[1;32m    743\u001b[0m     \u001b[38;5;28;01mreturn\u001b[39;00m td \u001b[38;5;241m/\u001b[39m timedelta(\u001b[38;5;241m*\u001b[39m\u001b[38;5;241m*\u001b[39m{unit: \u001b[38;5;241m1\u001b[39m})\n",
      "File \u001b[0;32m~/Documents/PythonProjects/taskbraid/python/circlecal/circle_cal/model.py:1054\u001b[0m, in \u001b[0;36mto_timestamp\u001b[0;34m(obj)\u001b[0m\n\u001b[1;32m   1052\u001b[0m     ts \u001b[38;5;241m=\u001b[39m obj\u001b[38;5;241m.\u001b[39mtimestamp()\n\u001b[1;32m   1053\u001b[0m \u001b[38;5;28;01mexcept\u001b[39;00m \u001b[38;5;167;01mAttributeError\u001b[39;00m:\n\u001b[0;32m-> 1054\u001b[0m     ts \u001b[38;5;241m=\u001b[39m \u001b[43mdatetime\u001b[49m\u001b[38;5;241;43m.\u001b[39;49m\u001b[43mcombine\u001b[49m\u001b[43m(\u001b[49m\u001b[43mobj\u001b[49m\u001b[43m,\u001b[49m\u001b[43m \u001b[49m\u001b[43mtime\u001b[49m\u001b[43m(\u001b[49m\u001b[38;5;241;43m0\u001b[39;49m\u001b[43m,\u001b[49m\u001b[43m \u001b[49m\u001b[38;5;241;43m0\u001b[39;49m\u001b[43m)\u001b[49m\u001b[43m)\u001b[49m\u001b[38;5;241m.\u001b[39mtimestamp()\n\u001b[1;32m   1055\u001b[0m \u001b[38;5;28;01mreturn\u001b[39;00m ts\n",
      "\u001b[0;31mTypeError\u001b[0m: combine() argument 1 must be datetime.date, not None"
     ]
    }
   ],
   "source": [
    "y24 = CalendarElement(year=2024)\n",
    "\n",
    "eve = gcal.get_events(y24.start.datetime(), y24.stop.datetime(), single_events=True)\n",
    "eve = [model.EventWrap(ev) for ev in eve if (ev.end - ev.start) / timedelta(days=1) <=1]\n",
    "\n",
    "def make_point_trace(events, d_to_th):\n",
    "    r = []\n",
    "    theta = []\n",
    "    text = []\n",
    "    for eve in events:\n",
    "        r.append(.5)\n",
    "        theta.append(model.to_theta(eve.mid)),\n",
    "        #theta.append(eve.mid)\n",
    "        text.append(\" \".join((str(eve.mid), eve.summary)))\n",
    "        \n",
    "    t = go.Scatterpolar(r=r, theta=theta, mode=\"markers\",\n",
    "                        hovertext=text,\n",
    "                        marker_symbol=\"diamond-open-dot\"\n",
    "                           )\n",
    "    return t\n",
    "\n",
    "t = make_point_trace(eve, 366 / 360)\n",
    "fig = go.Figure(data=t)\n",
    "fig.update_layout(height=1000)\n",
    "\n",
    "fig.update_layout(dict(polar=dict(angularaxis=dict(direction=\"clockwise\"))))\n",
    "\n",
    "\n",
    "fig.show()\n",
    "\n",
    "print(eve[0].duration/2 + eve[0].start)"
   ]
  },
  {
   "cell_type": "code",
   "execution_count": 9,
   "id": "cd142df0-bb00-45d9-8221-8acf74f94051",
   "metadata": {},
   "outputs": [
    {
     "data": {
      "text/plain": [
       "datetime.timedelta(days=1)"
      ]
     },
     "execution_count": 9,
     "metadata": {},
     "output_type": "execute_result"
    }
   ],
   "source": [
    "eve[0].end - eve[0].start"
   ]
  },
  {
   "cell_type": "code",
   "execution_count": 14,
   "id": "fc8cc112-b6a0-4ffd-9490-e18b5fd2dd1b",
   "metadata": {},
   "outputs": [
    {
     "data": {
      "text/plain": [
       "datetime.timedelta(days=1)"
      ]
     },
     "execution_count": 14,
     "metadata": {},
     "output_type": "execute_result"
    }
   ],
   "source": [
    "eve[0].duration"
   ]
  },
  {
   "cell_type": "code",
   "execution_count": 16,
   "id": "28251135-075d-45ad-ae4a-a55537e79830",
   "metadata": {},
   "outputs": [
    {
     "ename": "AttributeError",
     "evalue": "'datetime.date' object has no attribute 'timestamp'",
     "output_type": "error",
     "traceback": [
      "\u001b[0;31m---------------------------------------------------------------------------\u001b[0m",
      "\u001b[0;31mAttributeError\u001b[0m                            Traceback (most recent call last)",
      "Cell \u001b[0;32mIn[16], line 1\u001b[0m\n\u001b[0;32m----> 1\u001b[0m \u001b[43mdate\u001b[49m\u001b[43m(\u001b[49m\u001b[38;5;241;43m2023\u001b[39;49m\u001b[43m,\u001b[49m\u001b[43m \u001b[49m\u001b[38;5;241;43m1\u001b[39;49m\u001b[43m,\u001b[49m\u001b[43m \u001b[49m\u001b[38;5;241;43m1\u001b[39;49m\u001b[43m)\u001b[49m\u001b[38;5;241;43m.\u001b[39;49m\u001b[43mtimestamp\u001b[49m\n",
      "\u001b[0;31mAttributeError\u001b[0m: 'datetime.date' object has no attribute 'timestamp'"
     ]
    }
   ],
   "source": [
    "date(2023, 1, 1).timestamp"
   ]
  },
  {
   "cell_type": "code",
   "execution_count": 65,
   "id": "47afed41-d204-434a-b5e1-5c0213c1a1f3",
   "metadata": {},
   "outputs": [
    {
     "ename": "ValueError",
     "evalue": "Not naive datetime (tzinfo is already set)",
     "output_type": "error",
     "traceback": [
      "\u001b[0;31m---------------------------------------------------------------------------\u001b[0m",
      "\u001b[0;31mValueError\u001b[0m                                Traceback (most recent call last)",
      "Cell \u001b[0;32mIn[65], line 1\u001b[0m\n\u001b[0;32m----> 1\u001b[0m \u001b[43mtimezone\u001b[49m\u001b[43m(\u001b[49m\u001b[38;5;124;43m\"\u001b[39;49m\u001b[38;5;124;43mUS/Eastern\u001b[39;49m\u001b[38;5;124;43m\"\u001b[39;49m\u001b[43m)\u001b[49m\u001b[38;5;241;43m.\u001b[39;49m\u001b[43mlocalize\u001b[49m\u001b[43m(\u001b[49m\u001b[43meve\u001b[49m\u001b[43m[\u001b[49m\u001b[38;5;241;43m39\u001b[39;49m\u001b[43m]\u001b[49m\u001b[38;5;241;43m.\u001b[39;49m\u001b[43mstart\u001b[49m\u001b[43m)\u001b[49m\n",
      "File \u001b[0;32m~/Library/Caches/pypoetry/virtualenvs/circle-cal-KrYc5OLF-py3.12/lib/python3.12/site-packages/pytz/tzinfo.py:321\u001b[0m, in \u001b[0;36mDstTzInfo.localize\u001b[0;34m(self, dt, is_dst)\u001b[0m\n\u001b[1;32m    262\u001b[0m \u001b[38;5;250m\u001b[39m\u001b[38;5;124;03m'''Convert naive time to local time.\u001b[39;00m\n\u001b[1;32m    263\u001b[0m \n\u001b[1;32m    264\u001b[0m \u001b[38;5;124;03mThis method should be used to construct localtimes, rather\u001b[39;00m\n\u001b[0;32m   (...)\u001b[0m\n\u001b[1;32m    318\u001b[0m \u001b[38;5;124;03mNon-existent\u001b[39;00m\n\u001b[1;32m    319\u001b[0m \u001b[38;5;124;03m'''\u001b[39;00m\n\u001b[1;32m    320\u001b[0m \u001b[38;5;28;01mif\u001b[39;00m dt\u001b[38;5;241m.\u001b[39mtzinfo \u001b[38;5;129;01mis\u001b[39;00m \u001b[38;5;129;01mnot\u001b[39;00m \u001b[38;5;28;01mNone\u001b[39;00m:\n\u001b[0;32m--> 321\u001b[0m     \u001b[38;5;28;01mraise\u001b[39;00m \u001b[38;5;167;01mValueError\u001b[39;00m(\u001b[38;5;124m'\u001b[39m\u001b[38;5;124mNot naive datetime (tzinfo is already set)\u001b[39m\u001b[38;5;124m'\u001b[39m)\n\u001b[1;32m    323\u001b[0m \u001b[38;5;66;03m# Find the two best possibilities.\u001b[39;00m\n\u001b[1;32m    324\u001b[0m possible_loc_dt \u001b[38;5;241m=\u001b[39m \u001b[38;5;28mset\u001b[39m()\n",
      "\u001b[0;31mValueError\u001b[0m: Not naive datetime (tzinfo is already set)"
     ]
    }
   ],
   "source": [
    "timezone(\"US/Eastern\").localize(eve[39].start)"
   ]
  },
  {
   "cell_type": "code",
   "execution_count": 72,
   "id": "e80b7ab4-83a9-4e1f-9bc9-38b34f6d5556",
   "metadata": {},
   "outputs": [
    {
     "data": {
      "text/plain": [
       "datetime.timedelta(days=127, seconds=32400)"
      ]
     },
     "execution_count": 72,
     "metadata": {},
     "output_type": "execute_result"
    }
   ],
   "source": [
    "timedelta(seconds=eve[39].start.timestamp() - y24.start.datetime().timestamp())"
   ]
  },
  {
   "cell_type": "code",
   "execution_count": 77,
   "id": "2615381b-0b38-48ca-8f1f-2a6b288049ba",
   "metadata": {},
   "outputs": [
    {
     "data": {
      "text/plain": [
       "datetime.datetime(2024, 5, 17, 17, 43, 15, 831087, tzinfo=<DstTzInfo 'US/Eastern' EDT-1 day, 20:00:00 DST>)"
      ]
     },
     "execution_count": 77,
     "metadata": {},
     "output_type": "execute_result"
    }
   ],
   "source": [
    "timezone(\"US/Eastern\").localize(datetime.now())"
   ]
  },
  {
   "cell_type": "code",
   "execution_count": 86,
   "id": "ff79d6d0-c092-47db-ad24-b270bef3c97f",
   "metadata": {},
   "outputs": [
    {
     "ename": "AttributeError",
     "evalue": "'datetime.datetime' object has no attribute 'offset'",
     "output_type": "error",
     "traceback": [
      "\u001b[0;31m---------------------------------------------------------------------------\u001b[0m",
      "\u001b[0;31mAttributeError\u001b[0m                            Traceback (most recent call last)",
      "Cell \u001b[0;32mIn[86], line 1\u001b[0m\n\u001b[0;32m----> 1\u001b[0m \u001b[43meve\u001b[49m\u001b[43m[\u001b[49m\u001b[38;5;241;43m39\u001b[39;49m\u001b[43m]\u001b[49m\u001b[38;5;241;43m.\u001b[39;49m\u001b[43mstart\u001b[49m\u001b[38;5;241;43m.\u001b[39;49m\u001b[43moffset\u001b[49m\n",
      "\u001b[0;31mAttributeError\u001b[0m: 'datetime.datetime' object has no attribute 'offset'"
     ]
    }
   ],
   "source": [
    "eve[39].start.offset"
   ]
  },
  {
   "cell_type": "code",
   "execution_count": 89,
   "id": "3d214fdb-983e-44b7-a585-1dc8658fb7df",
   "metadata": {},
   "outputs": [
    {
     "ename": "AttributeError",
     "evalue": "'datetime.date' object has no attribute 'timestamp'",
     "output_type": "error",
     "traceback": [
      "\u001b[0;31m---------------------------------------------------------------------------\u001b[0m",
      "\u001b[0;31mAttributeError\u001b[0m                            Traceback (most recent call last)",
      "Cell \u001b[0;32mIn[89], line 1\u001b[0m\n\u001b[0;32m----> 1\u001b[0m \u001b[43mdate\u001b[49m\u001b[43m(\u001b[49m\u001b[38;5;241;43m2024\u001b[39;49m\u001b[43m,\u001b[49m\u001b[43m \u001b[49m\u001b[38;5;241;43m1\u001b[39;49m\u001b[43m,\u001b[49m\u001b[43m \u001b[49m\u001b[38;5;241;43m1\u001b[39;49m\u001b[43m)\u001b[49m\u001b[38;5;241;43m.\u001b[39;49m\u001b[43mtimestamp\u001b[49m()\n",
      "\u001b[0;31mAttributeError\u001b[0m: 'datetime.date' object has no attribute 'timestamp'"
     ]
    }
   ],
   "source": []
  },
  {
   "cell_type": "code",
   "execution_count": 91,
   "id": "885179bb-c4c1-4a8a-840e-3e82ef10f5d6",
   "metadata": {},
   "outputs": [
    {
     "data": {
      "text/plain": [
       "datetime.timedelta(days=-365)"
      ]
     },
     "execution_count": 91,
     "metadata": {},
     "output_type": "execute_result"
    }
   ],
   "source": [
    "date(2023,1, 1) - date(2024, 1, 1)"
   ]
  },
  {
   "cell_type": "code",
   "execution_count": 92,
   "id": "7f1c0148-5419-40e0-9f73-3740571deb06",
   "metadata": {},
   "outputs": [
    {
     "data": {
      "text/plain": [
       "(datetime.date(2024, 1, 8), datetime.date(2024, 1, 9))"
      ]
     },
     "execution_count": 92,
     "metadata": {},
     "output_type": "execute_result"
    }
   ],
   "source": [
    "eve[1].start, eve[1].end"
   ]
  },
  {
   "cell_type": "code",
   "execution_count": 96,
   "id": "dac54b4b-10b4-4903-a931-ebd6ce6a7e85",
   "metadata": {},
   "outputs": [
    {
     "data": {
      "text/plain": [
       "True"
      ]
     },
     "execution_count": 96,
     "metadata": {},
     "output_type": "execute_result"
    }
   ],
   "source": [
    "(1,2) > (0,3)"
   ]
  },
  {
   "cell_type": "code",
   "execution_count": 98,
   "id": "ee419af1-a04f-402f-b1d1-391ea19b6051",
   "metadata": {},
   "outputs": [],
   "source": [
    "d = date.today()"
   ]
  },
  {
   "cell_type": "code",
   "execution_count": 99,
   "id": "6e2abc8b-8af5-4b8d-b80c-e0d6ba7e94b3",
   "metadata": {},
   "outputs": [
    {
     "data": {
      "text/plain": [
       "datetime.date(2024, 5, 17)"
      ]
     },
     "execution_count": 99,
     "metadata": {},
     "output_type": "execute_result"
    }
   ],
   "source": []
  },
  {
   "cell_type": "code",
   "execution_count": 101,
   "id": "a9c7466b-88c8-425a-bc6c-f06e7c271d64",
   "metadata": {},
   "outputs": [
    {
     "data": {
      "text/plain": [
       "datetime.timedelta(seconds=43200)"
      ]
     },
     "execution_count": 101,
     "metadata": {},
     "output_type": "execute_result"
    }
   ],
   "source": [
    "timedelta(days=1) / 2"
   ]
  },
  {
   "cell_type": "code",
   "execution_count": 3,
   "id": "7623a5b0-a33b-4974-bcd2-71fbaa5a3f5b",
   "metadata": {},
   "outputs": [
    {
     "ename": "NameError",
     "evalue": "name 'datetime' is not defined",
     "output_type": "error",
     "traceback": [
      "\u001b[0;31m---------------------------------------------------------------------------\u001b[0m",
      "\u001b[0;31mNameError\u001b[0m                                 Traceback (most recent call last)",
      "Cell \u001b[0;32mIn[3], line 1\u001b[0m\n\u001b[0;32m----> 1\u001b[0m \u001b[43mdatetime\u001b[49m\u001b[38;5;241m.\u001b[39mTime(\u001b[38;5;241m0\u001b[39m,\u001b[38;5;241m0\u001b[39m)\n",
      "\u001b[0;31mNameError\u001b[0m: name 'datetime' is not defined"
     ]
    }
   ],
   "source": [
    "datetime.Time(0,0)"
   ]
  },
  {
   "cell_type": "code",
   "execution_count": null,
   "id": "29b68674-3564-4a52-9653-6afd61985695",
   "metadata": {},
   "outputs": [],
   "source": []
  }
 ],
 "metadata": {
  "kernelspec": {
   "display_name": "Python 3 (ipykernel)",
   "language": "python",
   "name": "python3"
  },
  "language_info": {
   "codemirror_mode": {
    "name": "ipython",
    "version": 3
   },
   "file_extension": ".py",
   "mimetype": "text/x-python",
   "name": "python",
   "nbconvert_exporter": "python",
   "pygments_lexer": "ipython3",
   "version": "3.12.3"
  }
 },
 "nbformat": 4,
 "nbformat_minor": 5
}
