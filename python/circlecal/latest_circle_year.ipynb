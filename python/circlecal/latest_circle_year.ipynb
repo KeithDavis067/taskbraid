{
 "cells": [
  {
   "cell_type": "code",
   "execution_count": 1,
   "id": "58844e03-d44e-4b54-bd67-c0ac6b5a4cfb",
   "metadata": {},
   "outputs": [],
   "source": [
    "from gcsa.event import Event\n",
    "from gcsa.google_calendar import GoogleCalendar\n",
    "from gcsa.recurrence import Recurrence, DAILY, SU, SA\n",
    "\n",
    "import plotly.express as px\n",
    "import plotly.graph_objects as go\n",
    "\n",
    "import pandas as pd\n",
    "\n",
    "from datetime import datetime, timedelta, date\n",
    "import dateutil\n",
    "from dateutil.parser import parse\n",
    "import calendar\n",
    "import numpy as np\n",
    "from circle_cal import Year_Data\n",
    "import circle_cal as cc\n",
    "import circle_cal.model as model"
   ]
  },
  {
   "cell_type": "code",
   "execution_count": 2,
   "id": "c52bc63f-c615-4cc3-ba61-0943672d8677",
   "metadata": {},
   "outputs": [
    {
     "ename": "TypeError",
     "evalue": "<circle_cal.model.Year_Data object at 0x10f066420> is used as a date but does not quack like one.",
     "output_type": "error",
     "traceback": [
      "\u001b[0;31m---------------------------------------------------------------------------\u001b[0m",
      "\u001b[0;31mTypeError\u001b[0m                                 Traceback (most recent call last)",
      "Cell \u001b[0;32mIn[2], line 1\u001b[0m\n\u001b[0;32m----> 1\u001b[0m y\u001b[38;5;241m=\u001b[39m\u001b[43mYear_Data\u001b[49m\u001b[43m(\u001b[49m\u001b[38;5;241;43m2024\u001b[39;49m\u001b[43m)\u001b[49m\n\u001b[1;32m      2\u001b[0m d_to_degree \u001b[38;5;241m=\u001b[39m \u001b[38;5;241m360\u001b[39m \u001b[38;5;241m/\u001b[39m \u001b[38;5;28mlen\u001b[39m(y)\n\u001b[1;32m      4\u001b[0m months \u001b[38;5;241m=\u001b[39m [date(y\u001b[38;5;241m.\u001b[39myear, i, \u001b[38;5;241m1\u001b[39m) \u001b[38;5;28;01mfor\u001b[39;00m i \u001b[38;5;129;01min\u001b[39;00m \u001b[38;5;28mrange\u001b[39m(\u001b[38;5;241m1\u001b[39m,\u001b[38;5;241m13\u001b[39m)] \u001b[38;5;241m+\u001b[39m [date(y\u001b[38;5;241m.\u001b[39myear\u001b[38;5;241m+\u001b[39m\u001b[38;5;241m1\u001b[39m, \u001b[38;5;241m1\u001b[39m, \u001b[38;5;241m1\u001b[39m)]\n",
      "File \u001b[0;32m~/Documents/PythonProjects/taskbraid/python/circlecal/circle_cal/model.py:194\u001b[0m, in \u001b[0;36mYear_Data.__init__\u001b[0;34m(self, year, date)\u001b[0m\n\u001b[1;32m    192\u001b[0m \u001b[38;5;28;01mif\u001b[39;00m date \u001b[38;5;129;01mis\u001b[39;00m \u001b[38;5;28;01mNone\u001b[39;00m:\n\u001b[1;32m    193\u001b[0m     date \u001b[38;5;241m=\u001b[39m datetime(\u001b[38;5;28mself\u001b[39m\u001b[38;5;241m.\u001b[39myear, \u001b[38;5;241m1\u001b[39m, \u001b[38;5;241m1\u001b[39m)\n\u001b[0;32m--> 194\u001b[0m \u001b[38;5;28;43mself\u001b[39;49m\u001b[38;5;241;43m.\u001b[39;49m\u001b[43mdate\u001b[49m \u001b[38;5;241m=\u001b[39m date\n",
      "File \u001b[0;32m~/Documents/PythonProjects/taskbraid/python/circlecal/circle_cal/model.py:173\u001b[0m, in \u001b[0;36mYear_Data.date\u001b[0;34m(self, date)\u001b[0m\n\u001b[1;32m    171\u001b[0m \u001b[38;5;241m@\u001b[39m date\u001b[38;5;241m.\u001b[39msetter\n\u001b[1;32m    172\u001b[0m \u001b[38;5;28;01mdef\u001b[39;00m \u001b[38;5;21mdate\u001b[39m(\u001b[38;5;28mself\u001b[39m, date):\n\u001b[0;32m--> 173\u001b[0m     \u001b[43m_date_setter\u001b[49m\u001b[43m(\u001b[49m\u001b[38;5;28;43mself\u001b[39;49m\u001b[43m,\u001b[49m\u001b[43m \u001b[49m\u001b[43mdate\u001b[49m\u001b[43m,\u001b[49m\u001b[43m \u001b[49m\u001b[38;5;124;43m\"\u001b[39;49m\u001b[38;5;124;43mdate\u001b[39;49m\u001b[38;5;124;43m\"\u001b[39;49m\u001b[43m)\u001b[49m\n",
      "File \u001b[0;32m~/Documents/PythonProjects/taskbraid/python/circlecal/circle_cal/model.py:66\u001b[0m, in \u001b[0;36m_date_setter\u001b[0;34m(obj, value, attr)\u001b[0m\n\u001b[1;32m     64\u001b[0m \u001b[38;5;28;01mdef\u001b[39;00m \u001b[38;5;21m_date_setter\u001b[39m(obj, value, attr\u001b[38;5;241m=\u001b[39m\u001b[38;5;124m\"\u001b[39m\u001b[38;5;124mdate\u001b[39m\u001b[38;5;124m\"\u001b[39m):\n\u001b[1;32m     65\u001b[0m     \u001b[38;5;66;03m# _date_or_dt will raise error if neither.\u001b[39;00m\n\u001b[0;32m---> 66\u001b[0m     kind \u001b[38;5;241m=\u001b[39m \u001b[43m_date_or_dt\u001b[49m\u001b[43m(\u001b[49m\u001b[43mobj\u001b[49m\u001b[43m)\u001b[49m\n\u001b[1;32m     67\u001b[0m     \u001b[38;5;28;01mmatch\u001b[39;00m kind:\n\u001b[1;32m     68\u001b[0m         \u001b[38;5;28;01mcase\u001b[39;00m \u001b[38;5;124m\"\u001b[39m\u001b[38;5;124mdate\u001b[39m\u001b[38;5;124m\"\u001b[39m:\n",
      "File \u001b[0;32m~/Documents/PythonProjects/taskbraid/python/circlecal/circle_cal/model.py:46\u001b[0m, in \u001b[0;36m_date_or_dt\u001b[0;34m(obj)\u001b[0m\n\u001b[1;32m     44\u001b[0m \u001b[38;5;28;01mif\u001b[39;00m _quacks_like_a_dt(obj):\n\u001b[1;32m     45\u001b[0m     \u001b[38;5;28;01mreturn\u001b[39;00m \u001b[38;5;124m\"\u001b[39m\u001b[38;5;124mdt\u001b[39m\u001b[38;5;124m\"\u001b[39m\n\u001b[0;32m---> 46\u001b[0m \u001b[38;5;28;01mraise\u001b[39;00m \u001b[38;5;167;01mTypeError\u001b[39;00m(\u001b[38;5;124mf\u001b[39m\u001b[38;5;124m\"\u001b[39m\u001b[38;5;132;01m{\u001b[39;00mobj\u001b[38;5;132;01m}\u001b[39;00m\u001b[38;5;124m is used as a date but does not quack like one.\u001b[39m\u001b[38;5;124m\"\u001b[39m)\n",
      "\u001b[0;31mTypeError\u001b[0m: <circle_cal.model.Year_Data object at 0x10f066420> is used as a date but does not quack like one."
     ]
    }
   ],
   "source": [
    "y=Year_Data(2024)\n",
    "d_to_degree = 360 / len(y)\n",
    "\n",
    "months = [date(y.year, i, 1) for i in range(1,13)] + [date(y.year+1, 1, 1)]\n",
    "theta, width = cc.events_to_polar(months, days_to_theta = d_to_degree)\n",
    "minor_ticks = [d_to_degree * y.date_as_number(date(y.year, m, 1)) for m in range(1,13)]\n",
    "\n",
    "\n",
    "fig = go.Figure()\n",
    "fig.add_trace(go.Barpolar(base=[.9] * 12, r=[.05] * 12,\n",
    "                          theta=theta,\n",
    "                          width=width,\n",
    "                          marker_color=\"orange\",\n",
    "                          marker_line_color=\"black\",\n",
    "                          )\n",
    "              )\n",
    "tickvals = []\n",
    "for u, v in zip(theta, minor_ticks):\n",
    "    tickvals.append(u)\n",
    "    tickvals.append(v)\n",
    "ticktext = []\n",
    "for m in calendar.month_abbr[1:]:\n",
    "    ticktext.append(m)\n",
    "    ticktext.append(\"\")\n",
    "\n",
    "fig.update_polars(\n",
    "    dict(\n",
    "        angularaxis=dict(\n",
    "            rotation=-90,\n",
    "            tickmode=\"array\",\n",
    "            tickvals=tickvals,\n",
    "            ticktext=ticktext\n",
    "        ),\n",
    "    ),\n",
    "    #margin = dict(t=0, l=0, r=0, b=0),\n",
    ")\n",
    "fig.update_layout(dict(height=1000))\n",
    "fig.show()"
   ]
  },
  {
   "cell_type": "code",
   "execution_count": null,
   "id": "a35d2909-1b43-47f3-bdcf-f9c6563d1746",
   "metadata": {},
   "outputs": [],
   "source": [
    "datetime.now() in y"
   ]
  },
  {
   "cell_type": "code",
   "execution_count": 3,
   "id": "6fe29609-00cb-4c66-9cc3-4c433a413659",
   "metadata": {},
   "outputs": [
    {
     "ename": "NameError",
     "evalue": "name 'd_to_degree' is not defined",
     "output_type": "error",
     "traceback": [
      "\u001b[0;31m---------------------------------------------------------------------------\u001b[0m",
      "\u001b[0;31mNameError\u001b[0m                                 Traceback (most recent call last)",
      "Cell \u001b[0;32mIn[3], line 1\u001b[0m\n\u001b[0;32m----> 1\u001b[0m \u001b[43md_to_degree\u001b[49m\n",
      "\u001b[0;31mNameError\u001b[0m: name 'd_to_degree' is not defined"
     ]
    }
   ],
   "source": [
    "d_to_degree"
   ]
  },
  {
   "cell_type": "code",
   "execution_count": 2,
   "id": "11f46824-17d9-4a00-941f-871c62aa6c15",
   "metadata": {},
   "outputs": [],
   "source": [
    "start = date.today()"
   ]
  },
  {
   "cell_type": "code",
   "execution_count": 3,
   "id": "b8ef9cb7-e81b-4667-8891-0ebdddb92f80",
   "metadata": {},
   "outputs": [],
   "source": [
    "end = date.today() + timedelta(days=100)"
   ]
  },
  {
   "cell_type": "code",
   "execution_count": 4,
   "id": "db1c4e4e-a5a9-4776-840f-7f565073bfde",
   "metadata": {},
   "outputs": [
    {
     "data": {
      "text/plain": [
       "True"
      ]
     },
     "execution_count": 4,
     "metadata": {},
     "output_type": "execute_result"
    }
   ],
   "source": [
    "model._quacks_like_a_date(end)"
   ]
  },
  {
   "cell_type": "code",
   "execution_count": 6,
   "id": "9a53b637-3b7e-478f-b78a-3b169a66e1dd",
   "metadata": {},
   "outputs": [
    {
     "data": {
      "text/plain": [
       "'dt'"
      ]
     },
     "execution_count": 6,
     "metadata": {},
     "output_type": "execute_result"
    }
   ],
   "source": [
    "model._date_or_dt(datetime.now())"
   ]
  },
  {
   "cell_type": "code",
   "execution_count": 8,
   "id": "25e051c4-4d66-4457-8ffb-902cfb216efe",
   "metadata": {},
   "outputs": [],
   "source": [
    "d = datetime.now()"
   ]
  },
  {
   "cell_type": "code",
   "execution_count": 10,
   "id": "99e11829-be72-4ee1-b1d8-02625f0ea3fd",
   "metadata": {},
   "outputs": [
    {
     "data": {
      "text/plain": [
       "True"
      ]
     },
     "execution_count": 10,
     "metadata": {},
     "output_type": "execute_result"
    }
   ],
   "source": [
    "model._quacks_like_a_dt(d)"
   ]
  },
  {
   "cell_type": "code",
   "execution_count": 16,
   "id": "82743ce3-aad7-4772-b54a-7605feea5da0",
   "metadata": {},
   "outputs": [
    {
     "data": {
      "text/plain": [
       "datetime.datetime"
      ]
     },
     "execution_count": 16,
     "metadata": {},
     "output_type": "execute_result"
    }
   ],
   "source": [
    "type(d)"
   ]
  },
  {
   "cell_type": "code",
   "execution_count": 11,
   "id": "0831c5c5-93a0-4d53-ad1b-858cbfba59cd",
   "metadata": {},
   "outputs": [],
   "source": [
    "da=d.date()"
   ]
  },
  {
   "cell_type": "code",
   "execution_count": null,
   "id": "1d761d6f-eecb-41fc-89a1-f13e23c5436f",
   "metadata": {},
   "outputs": [],
   "source": [
    "da.min"
   ]
  }
 ],
 "metadata": {
  "kernelspec": {
   "display_name": "Python 3 (ipykernel)",
   "language": "python",
   "name": "python3"
  },
  "language_info": {
   "codemirror_mode": {
    "name": "ipython",
    "version": 3
   },
   "file_extension": ".py",
   "mimetype": "text/x-python",
   "name": "python",
   "nbconvert_exporter": "python",
   "pygments_lexer": "ipython3",
   "version": "3.12.1"
  }
 },
 "nbformat": 4,
 "nbformat_minor": 5
}
