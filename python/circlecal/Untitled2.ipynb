{
 "cells": [
  {
   "cell_type": "code",
   "execution_count": 11,
   "id": "81082e7f-681b-41ea-b852-37218d4b0b45",
   "metadata": {},
   "outputs": [],
   "source": [
    "from calendar import monthrange\n",
    "from datetime import datetime, date\n",
    "\n",
    "def _inc_months(dt, i):\n",
    "    month = dt.month + i % 12\n",
    "    year = dt.year + i // 12\n",
    "    if month > 12:\n",
    "        month += month % 12\n",
    "        year += month // 12\n",
    "\n",
    "    if dt.day == monthrange(dt.year, dt.month)[1]:\n",
    "        day = monthrange(year, month)[1]\n",
    "    else:\n",
    "        day = dt.day\n",
    "    return dt.__class__(year=year, month=month, day=day)"
   ]
  },
  {
   "cell_type": "code",
   "execution_count": 12,
   "id": "e572ea11-ce0f-4da3-8848-3e92f7bec0f7",
   "metadata": {},
   "outputs": [
    {
     "name": "stdout",
     "output_type": "stream",
     "text": [
      "2024-01-31\n",
      "2024-02-29\n",
      "2024-03-31\n",
      "2024-04-30\n",
      "2024-05-31\n",
      "2024-06-30\n",
      "2024-07-31\n",
      "2024-08-31\n",
      "2024-09-30\n",
      "2024-10-31\n",
      "2024-11-30\n",
      "2024-12-31\n",
      "2025-01-31\n",
      "2025-02-28\n",
      "2025-03-31\n",
      "2025-04-30\n",
      "2025-05-31\n",
      "2025-06-30\n",
      "2025-07-31\n",
      "2025-08-31\n",
      "2025-09-30\n",
      "2025-10-31\n",
      "2025-11-30\n",
      "2025-12-31\n",
      "2026-01-31\n",
      "2026-02-28\n",
      "2026-03-31\n",
      "2026-04-30\n",
      "2026-05-31\n",
      "2026-06-30\n"
     ]
    }
   ],
   "source": [
    "for i in range(30):\n",
    "    print(_inc_months(date(2024, 1, 31), i))"
   ]
  },
  {
   "cell_type": "code",
   "execution_count": null,
   "id": "62671b30-c9de-4d20-bb11-a224221046ef",
   "metadata": {},
   "outputs": [],
   "source": []
  }
 ],
 "metadata": {
  "kernelspec": {
   "display_name": "Python 3 (ipykernel)",
   "language": "python",
   "name": "python3"
  },
  "language_info": {
   "codemirror_mode": {
    "name": "ipython",
    "version": 3
   },
   "file_extension": ".py",
   "mimetype": "text/x-python",
   "name": "python",
   "nbconvert_exporter": "python",
   "pygments_lexer": "ipython3",
   "version": "3.12.5"
  }
 },
 "nbformat": 4,
 "nbformat_minor": 5
}
