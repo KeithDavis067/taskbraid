{
 "cells": [
  {
   "cell_type": "code",
   "execution_count": 2,
   "id": "13e22611-3fca-4eb7-9a3a-74d18b816ee4",
   "metadata": {},
   "outputs": [],
   "source": [
    "import plotly\n",
    "from skyfield.api import load\n"
   ]
  },
  {
   "cell_type": "code",
   "execution_count": 5,
   "id": "e18135d7-d871-4084-bf7b-165230daf88a",
   "metadata": {},
   "outputs": [
    {
     "name": "stderr",
     "output_type": "stream",
     "text": [
      "[#################################] 100% de421.bsp\n"
     ]
    }
   ],
   "source": [
    "ephem = load('de421.bsp')"
   ]
  },
  {
   "cell_type": "code",
   "execution_count": null,
   "id": "120459b2-2832-4ef5-959c-8d33e8efa320",
   "metadata": {},
   "outputs": [],
   "source": []
  }
 ],
 "metadata": {
  "kernelspec": {
   "display_name": "Python 3 (ipykernel)",
   "language": "python",
   "name": "python3"
  },
  "language_info": {
   "codemirror_mode": {
    "name": "ipython",
    "version": 3
   },
   "file_extension": ".py",
   "mimetype": "text/x-python",
   "name": "python",
   "nbconvert_exporter": "python",
   "pygments_lexer": "ipython3",
   "version": "3.12.2"
  }
 },
 "nbformat": 4,
 "nbformat_minor": 5
}
