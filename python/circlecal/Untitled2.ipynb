{
 "cells": [
  {
   "cell_type": "code",
   "execution_count": 3,
   "id": "b5d53463-6ff1-4577-b56a-1034cf876573",
   "metadata": {},
   "outputs": [],
   "source": [
    "import skyfield\n",
    "from skyfield import almanac\n",
    "from skyfield.api import load\n"
   ]
  },
  {
   "cell_type": "code",
   "execution_count": 4,
   "id": "f769f7b6-c30a-4b71-96c7-650964337ae3",
   "metadata": {},
   "outputs": [
    {
     "name": "stderr",
     "output_type": "stream",
     "text": [
      "[#################################] 100% de421.bsp\n"
     ]
    }
   ],
   "source": [
    "ts = load.timescale()\n",
    "eph = load('de421.bsp')"
   ]
  },
  {
   "cell_type": "code",
   "execution_count": 13,
   "id": "f5ad4939-f407-43e8-9638-2ce14c5c3859",
   "metadata": {},
   "outputs": [],
   "source": [
    "t0 = ts.utc(1900, 1, 1)\n",
    "t1 = ts.utc(2050, 1, 1)\n",
    "fmars = almanac.oppositions_conjunctions(eph, eph[\"mars\"])\n",
    "fmerc = almanac.oppositions_conjunctions(eph, eph[\"mercury\"])\n",
    "tmars, ymars = almanac.find_discrete(t0, t1, fmars)\n",
    "tmerc, ymerc = almanac.find_discrete(t0, t1, fmerc)"
   ]
  },
  {
   "cell_type": "code",
   "execution_count": 15,
   "id": "205313da-00c4-49fe-9c1f-b472aa3689a6",
   "metadata": {},
   "outputs": [],
   "source": [
    "import itertools"
   ]
  },
  {
   "cell_type": "code",
   "execution_count": null,
   "id": "f4631349-35d7-4deb-931d-f05ce1746d21",
   "metadata": {},
   "outputs": [],
   "source": [
    "p = itertools.product(tmars, tme"
   ]
  }
 ],
 "metadata": {
  "kernelspec": {
   "display_name": "Python 3 (ipykernel)",
   "language": "python",
   "name": "python3"
  },
  "language_info": {
   "codemirror_mode": {
    "name": "ipython",
    "version": 3
   },
   "file_extension": ".py",
   "mimetype": "text/x-python",
   "name": "python",
   "nbconvert_exporter": "python",
   "pygments_lexer": "ipython3",
   "version": "3.12.2"
  }
 },
 "nbformat": 4,
 "nbformat_minor": 5
}
