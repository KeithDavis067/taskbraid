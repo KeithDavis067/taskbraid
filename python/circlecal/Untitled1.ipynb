{
 "cells": [
  {
   "cell_type": "code",
   "execution_count": 1,
   "id": "741700c7-d34f-4e2b-b605-340f6b31f8ec",
   "metadata": {},
   "outputs": [],
   "source": [
    "import circle_cal.model as ccm\n",
    "from workalendar.usa import UnitedStates, Indiana\n",
    "from workalendar.core import ChristianMixin\n",
    "from datetime import datetime, date, time\n",
    "from datetime import timedelta\n",
    "import calendar"
   ]
  },
  {
   "cell_type": "code",
   "execution_count": 2,
   "id": "7a8dc1ba-3a2e-4dfd-b075-a6acf3a25292",
   "metadata": {},
   "outputs": [],
   "source": [
    "y24 = ccm.Year(2024)"
   ]
  },
  {
   "cell_type": "code",
   "execution_count": 3,
   "id": "ce9dab97-1e4a-4cf0-baec-222b42f2ba0a",
   "metadata": {},
   "outputs": [
    {
     "data": {
      "text/plain": [
       "0.9836065573770492"
      ]
     },
     "execution_count": 3,
     "metadata": {},
     "output_type": "execute_result"
    }
   ],
   "source": [
    "y24.THETA_PER_DAY"
   ]
  },
  {
   "cell_type": "code",
   "execution_count": 4,
   "id": "37409714-9108-448d-be59-5802c2eb0c60",
   "metadata": {},
   "outputs": [
    {
     "name": "stdout",
     "output_type": "stream",
     "text": [
      "January\n",
      "February\n",
      "March\n",
      "April\n",
      "May\n",
      "June\n",
      "July\n",
      "August\n",
      "September\n",
      "October\n",
      "November\n",
      "December\n"
     ]
    }
   ],
   "source": [
    "for m in y24:\n",
    "    print(m.name)"
   ]
  },
  {
   "cell_type": "code",
   "execution_count": 10,
   "id": "de2388c9-e576-4992-a6a0-af1ffce6199f",
   "metadata": {},
   "outputs": [
    {
     "data": {
      "text/plain": [
       "(datetime.datetime(2024, 12, 1, 0, 0), datetime.datetime(2024, 12, 31, 0, 0))"
      ]
     },
     "execution_count": 10,
     "metadata": {},
     "output_type": "execute_result"
    }
   ],
   "source": [
    "m.start, m.end"
   ]
  },
  {
   "cell_type": "code",
   "execution_count": 6,
   "id": "4b5291ed-162d-4295-a438-39a2fb17766c",
   "metadata": {},
   "outputs": [],
   "source": [
    "d = date(2024, 1, 1)"
   ]
  },
  {
   "cell_type": "code",
   "execution_count": 7,
   "id": "745ee331-5596-4dc9-bc25-7aa0efd0f411",
   "metadata": {},
   "outputs": [
    {
     "data": {
      "text/plain": [
       "datetime.date(2024, 1, 1)"
      ]
     },
     "execution_count": 7,
     "metadata": {},
     "output_type": "execute_result"
    }
   ],
   "source": [
    "d"
   ]
  },
  {
   "cell_type": "code",
   "execution_count": 8,
   "id": "19be42e0-c2ec-48ea-8670-69097ea3cf65",
   "metadata": {},
   "outputs": [
    {
     "data": {
      "text/plain": [
       "datetime.date(2024, 2, 1)"
      ]
     },
     "execution_count": 8,
     "metadata": {},
     "output_type": "execute_result"
    }
   ],
   "source": [
    "d + timedelta(days=31)"
   ]
  },
  {
   "cell_type": "code",
   "execution_count": 9,
   "id": "d4ac4c70-0c87-4db9-a986-ecda885b6491",
   "metadata": {},
   "outputs": [
    {
     "data": {
      "text/plain": [
       "366.0"
      ]
     },
     "execution_count": 9,
     "metadata": {},
     "output_type": "execute_result"
    }
   ],
   "source": [
    "y24.len_by_days()"
   ]
  },
  {
   "cell_type": "code",
   "execution_count": 13,
   "id": "3279252e-8e0e-4921-bbc0-7e62600888d4",
   "metadata": {},
   "outputs": [
    {
     "data": {
      "text/plain": [
       "'January'"
      ]
     },
     "execution_count": 13,
     "metadata": {},
     "output_type": "execute_result"
    }
   ],
   "source": [
    "calendar.month_name[1]"
   ]
  },
  {
   "cell_type": "code",
   "execution_count": null,
   "id": "6ed38067-3270-489c-b028-7c1da96e974a",
   "metadata": {},
   "outputs": [],
   "source": []
  }
 ],
 "metadata": {
  "kernelspec": {
   "display_name": "Python 3 (ipykernel)",
   "language": "python",
   "name": "python3"
  },
  "language_info": {
   "codemirror_mode": {
    "name": "ipython",
    "version": 3
   },
   "file_extension": ".py",
   "mimetype": "text/x-python",
   "name": "python",
   "nbconvert_exporter": "python",
   "pygments_lexer": "ipython3",
   "version": "3.12.5"
  }
 },
 "nbformat": 4,
 "nbformat_minor": 5
}
