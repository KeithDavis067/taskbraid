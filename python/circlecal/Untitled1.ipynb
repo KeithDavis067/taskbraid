{
 "cells": [
  {
   "cell_type": "code",
   "execution_count": 1,
   "id": "81e69350-3404-49c8-acde-03b1d262f977",
   "metadata": {},
   "outputs": [],
   "source": [
    "from dateutil.relativedelta import relativedelta\n",
    "from datetime import datetime\n",
    "from calendar import monthrange\n",
    "from circle_cal.model import CalendarElement"
   ]
  },
  {
   "cell_type": "code",
   "execution_count": 2,
   "id": "31c4b753-6403-4654-b137-811e792743fa",
   "metadata": {},
   "outputs": [],
   "source": [
    "c = CalendarElement(year=2024, day=1)"
   ]
  },
  {
   "cell_type": "code",
   "execution_count": 6,
   "id": "1ebda5d4-4ab3-44e0-8614-3dc4fdadfe02",
   "metadata": {},
   "outputs": [
    {
     "data": {
      "text/plain": [
       "2024"
      ]
     },
     "execution_count": 6,
     "metadata": {},
     "output_type": "execute_result"
    }
   ],
   "source": [
    "c.relativedelta.year"
   ]
  },
  {
   "cell_type": "code",
   "execution_count": 4,
   "id": "0ab613d9-d143-4fa0-8b90-bf3076096719",
   "metadata": {},
   "outputs": [
    {
     "data": {
      "text/plain": [
       "['RELUNITS',\n",
       " 'UNITRANGES',\n",
       " '__class__',\n",
       " '__delattr__',\n",
       " '__dict__',\n",
       " '__dir__',\n",
       " '__doc__',\n",
       " '__eq__',\n",
       " '__format__',\n",
       " '__ge__',\n",
       " '__getattribute__',\n",
       " '__getstate__',\n",
       " '__gt__',\n",
       " '__hash__',\n",
       " '__init__',\n",
       " '__init_subclass__',\n",
       " '__le__',\n",
       " '__lt__',\n",
       " '__module__',\n",
       " '__ne__',\n",
       " '__new__',\n",
       " '__reduce__',\n",
       " '__reduce_ex__',\n",
       " '__repr__',\n",
       " '__setattr__',\n",
       " '__sizeof__',\n",
       " '__str__',\n",
       " '__subclasshook__',\n",
       " '__weakref__',\n",
       " 'day',\n",
       " 'hour',\n",
       " 'iterover',\n",
       " 'microsecond',\n",
       " 'minute',\n",
       " 'month',\n",
       " 'relativedelta',\n",
       " 'second',\n",
       " 'subunits',\n",
       " 'unit',\n",
       " 'unitranges',\n",
       " 'year']"
      ]
     },
     "execution_count": 4,
     "metadata": {},
     "output_type": "execute_result"
    }
   ],
   "source": [
    "dir(c)"
   ]
  },
  {
   "cell_type": "code",
   "execution_count": 5,
   "id": "9e0c75a3-0f7c-431b-88f8-3f7004300996",
   "metadata": {},
   "outputs": [
    {
     "name": "stdout",
     "output_type": "stream",
     "text": [
      "Help on NoneType object:\n",
      "\n",
      "class NoneType(object)\n",
      " |  Methods defined here:\n",
      " |\n",
      " |  __bool__(self, /)\n",
      " |      True if self else False\n",
      " |\n",
      " |  __eq__(self, value, /)\n",
      " |      Return self==value.\n",
      " |\n",
      " |  __ge__(self, value, /)\n",
      " |      Return self>=value.\n",
      " |\n",
      " |  __gt__(self, value, /)\n",
      " |      Return self>value.\n",
      " |\n",
      " |  __hash__(self, /)\n",
      " |      Return hash(self).\n",
      " |\n",
      " |  __le__(self, value, /)\n",
      " |      Return self<=value.\n",
      " |\n",
      " |  __lt__(self, value, /)\n",
      " |      Return self<value.\n",
      " |\n",
      " |  __ne__(self, value, /)\n",
      " |      Return self!=value.\n",
      " |\n",
      " |  __repr__(self, /)\n",
      " |      Return repr(self).\n",
      " |\n",
      " |  ----------------------------------------------------------------------\n",
      " |  Static methods defined here:\n",
      " |\n",
      " |  __new__(*args, **kwargs) from builtins.type\n",
      " |      Create and return a new object.  See help(type) for accurate signature.\n",
      "\n"
     ]
    }
   ],
   "source": [
    "help(c.year)"
   ]
  },
  {
   "cell_type": "code",
   "execution_count": null,
   "id": "021432c6-aa58-4d9e-8634-a5e54d72d88e",
   "metadata": {},
   "outputs": [],
   "source": []
  }
 ],
 "metadata": {
  "kernelspec": {
   "display_name": "Python 3 (ipykernel)",
   "language": "python",
   "name": "python3"
  },
  "language_info": {
   "codemirror_mode": {
    "name": "ipython",
    "version": 3
   },
   "file_extension": ".py",
   "mimetype": "text/x-python",
   "name": "python",
   "nbconvert_exporter": "python",
   "pygments_lexer": "ipython3",
   "version": "3.12.1"
  }
 },
 "nbformat": 4,
 "nbformat_minor": 5
}
