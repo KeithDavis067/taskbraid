{
 "cells": [
  {
   "cell_type": "code",
   "execution_count": 1,
   "id": "741700c7-d34f-4e2b-b605-340f6b31f8ec",
   "metadata": {},
   "outputs": [],
   "source": [
    "import circle_cal.model as ccm\n",
    "from workalendar.usa import UnitedStates, Indiana\n",
    "from workalendar.core import ChristianMixin\n",
    "from datetime import datetime, date, time\n",
    "from datetime import timedelta\n",
    "import calendar"
   ]
  },
  {
   "cell_type": "code",
   "execution_count": 2,
   "id": "e99c0cfa-83f4-4204-ac92-884daf33f3a9",
   "metadata": {},
   "outputs": [],
   "source": [
    "p = ccm.CalendarPeriod(start=datetime(2000, 1, 1), last=datetime(2000, 12, 31))"
   ]
  },
  {
   "cell_type": "code",
   "execution_count": 3,
   "id": "38b23310-e4d0-4f89-afba-f895d6162903",
   "metadata": {},
   "outputs": [
    {
     "data": {
      "text/plain": [
       "datetime.timedelta(days=366)"
      ]
     },
     "execution_count": 3,
     "metadata": {},
     "output_type": "execute_result"
    }
   ],
   "source": [
    "p.duration"
   ]
  },
  {
   "cell_type": "code",
   "execution_count": 4,
   "id": "e6ca2241-9d5a-4f9a-be93-8d7366b537f5",
   "metadata": {},
   "outputs": [
    {
     "data": {
      "text/plain": [
       "12"
      ]
     },
     "execution_count": 4,
     "metadata": {},
     "output_type": "execute_result"
    }
   ],
   "source": [
    "len(p)"
   ]
  },
  {
   "cell_type": "code",
   "execution_count": 5,
   "id": "c78e48ac-c884-4d40-86c4-319f274832ab",
   "metadata": {},
   "outputs": [
    {
     "data": {
      "text/plain": [
       "datetime.datetime(2001, 1, 1, 0, 0)"
      ]
     },
     "execution_count": 5,
     "metadata": {},
     "output_type": "execute_result"
    }
   ],
   "source": [
    "p.stop"
   ]
  },
  {
   "cell_type": "code",
   "execution_count": 6,
   "id": "a24ef8af-1697-4059-8acd-51df91868b0c",
   "metadata": {},
   "outputs": [
    {
     "data": {
      "text/plain": [
       "'years'"
      ]
     },
     "execution_count": 6,
     "metadata": {},
     "output_type": "execute_result"
    }
   ],
   "source": [
    "p.whole_unit()"
   ]
  },
  {
   "cell_type": "code",
   "execution_count": 7,
   "id": "69acf76a-69b8-49ce-b666-021f50da45cc",
   "metadata": {},
   "outputs": [
    {
     "data": {
      "text/plain": [
       "<generator object CalendarPeriod.subunit_generator at 0x10c7d1ad0>"
      ]
     },
     "execution_count": 7,
     "metadata": {},
     "output_type": "execute_result"
    }
   ],
   "source": [
    "p.as_unit(\"year\")"
   ]
  },
  {
   "cell_type": "code",
   "execution_count": 8,
   "id": "90108087-9a74-44b0-9e88-6ed259de1018",
   "metadata": {},
   "outputs": [
    {
     "data": {
      "text/plain": [
       "<generator object CalendarPeriod.subunit_generator at 0x10ff11be0>"
      ]
     },
     "execution_count": 8,
     "metadata": {},
     "output_type": "execute_result"
    }
   ],
   "source": [
    "p.subunit_generator(\"\")"
   ]
  },
  {
   "cell_type": "code",
   "execution_count": 9,
   "id": "c4ef11cd-28c1-4ff3-a0f7-e1a76dcf75c9",
   "metadata": {},
   "outputs": [
    {
     "data": {
      "text/plain": [
       "['month', 'day', 'hour', 'minute', 'second', 'microsecond']"
      ]
     },
     "execution_count": 9,
     "metadata": {},
     "output_type": "execute_result"
    }
   ],
   "source": [
    "ccm._subunits(p.whole_unit()[:-1])"
   ]
  },
  {
   "cell_type": "code",
   "execution_count": 10,
   "id": "501a9b60-b969-4c0c-8f06-c5a7e013b1ab",
   "metadata": {},
   "outputs": [],
   "source": [
    "year = ccm.Year(2024)"
   ]
  },
  {
   "cell_type": "code",
   "execution_count": 14,
   "id": "0eeb1a97-f247-415a-8a47-4f7947f5bb6e",
   "metadata": {},
   "outputs": [
    {
     "name": "stderr",
     "output_type": "stream",
     "text": [
      "/Users/kdavis10/Library/Caches/pypoetry/virtualenvs/circle-cal-KrYc5OLF-py3.12/lib/python3.12/site-packages/workalendar/usa/indiana.py:26: UserWarning: Washington birthday rules for Indiana State are confusing. Use this calendar with care\n",
      "  warnings.warn(\n"
     ]
    },
    {
     "data": {
      "text/plain": [
       "[(datetime.date(2024, 1, 1), 'New year'),\n",
       " (datetime.date(2024, 7, 4), 'Independence Day'),\n",
       " (datetime.date(2024, 11, 11), 'Veterans Day'),\n",
       " (datetime.date(2024, 3, 29), 'Good Friday'),\n",
       " (datetime.date(2024, 3, 31), 'Easter Sunday'),\n",
       " (datetime.date(2024, 4, 1), 'Easter Monday'),\n",
       " (datetime.date(2024, 12, 25), 'Christmas Day'),\n",
       " (datetime.date(2024, 12, 24), 'Christmas Eve'),\n",
       " (datetime.date(2024, 1, 15), 'Birthday of Martin Luther King, Jr.'),\n",
       " (datetime.date(2024, 5, 27), 'Memorial Day'),\n",
       " (datetime.date(2024, 9, 2), 'Labor Day'),\n",
       " (datetime.date(2024, 11, 28), 'Thanksgiving Day'),\n",
       " (datetime.date(2024, 10, 14), 'Columbus Day'),\n",
       " (datetime.date(2024, 11, 5), 'General Election Day'),\n",
       " (datetime.date(2024, 11, 29), \"Lincoln's Birthday\"),\n",
       " (datetime.date(2024, 12, 26), \"Washington's Birthday (Observed)\"),\n",
       " (datetime.date(2024, 5, 7), 'Primary Election Day'),\n",
       " (datetime.date(2024, 4, 1), 'Easter Sunday (Observed)')]"
      ]
     },
     "execution_count": 14,
     "metadata": {},
     "output_type": "execute_result"
    }
   ],
   "source": [
    "year.get_calendar_holidays()"
   ]
  },
  {
   "cell_type": "markdown",
   "id": "a8119b4e-0686-44ec-97cc-326f50d897ef",
   "metadata": {},
   "source": [
    "### ccm.is_weekend(w.last)"
   ]
  },
  {
   "cell_type": "code",
   "execution_count": 13,
   "id": "89f269da-8a05-42f8-bbbd-3914571e3338",
   "metadata": {},
   "outputs": [
    {
     "ename": "NameError",
     "evalue": "name 'y' is not defined",
     "output_type": "error",
     "traceback": [
      "\u001b[0;31m---------------------------------------------------------------------------\u001b[0m",
      "\u001b[0;31mNameError\u001b[0m                                 Traceback (most recent call last)",
      "Cell \u001b[0;32mIn[13], line 1\u001b[0m\n\u001b[0;32m----> 1\u001b[0m \u001b[43my\u001b[49m\u001b[38;5;241m.\u001b[39mas_unit(\u001b[38;5;124m\"\u001b[39m\u001b[38;5;124mday\u001b[39m\u001b[38;5;124m\"\u001b[39m)\n",
      "\u001b[0;31mNameError\u001b[0m: name 'y' is not defined"
     ]
    }
   ],
   "source": [
    "y.as_unit(\"day\")"
   ]
  },
  {
   "cell_type": "code",
   "execution_count": 14,
   "id": "246e6c9f-08da-4937-a1e7-f950fa3bd9bf",
   "metadata": {},
   "outputs": [
    {
     "ename": "TypeError",
     "evalue": "'Year' object cannot be interpreted as an integer",
     "output_type": "error",
     "traceback": [
      "\u001b[0;31m---------------------------------------------------------------------------\u001b[0m",
      "\u001b[0;31mTypeError\u001b[0m                                 Traceback (most recent call last)",
      "Cell \u001b[0;32mIn[14], line 1\u001b[0m\n\u001b[0;32m----> 1\u001b[0m \u001b[43mccm\u001b[49m\u001b[38;5;241;43m.\u001b[39;49m\u001b[43mYear\u001b[49m\u001b[43m(\u001b[49m\u001b[43mccm\u001b[49m\u001b[38;5;241;43m.\u001b[39;49m\u001b[43mYear\u001b[49m\u001b[43m(\u001b[49m\u001b[38;5;241;43m2024\u001b[39;49m\u001b[43m)\u001b[49m\u001b[43m)\u001b[49m\n",
      "File \u001b[0;32m~/Documents/PythonProjects/taskbraid/python/circlecal/circle_cal/model.py:1643\u001b[0m, in \u001b[0;36mYear.__init__\u001b[0;34m(self, year)\u001b[0m\n\u001b[1;32m   1642\u001b[0m \u001b[38;5;28;01mdef\u001b[39;00m \u001b[38;5;21m__init__\u001b[39m(\u001b[38;5;28mself\u001b[39m, year):\n\u001b[0;32m-> 1643\u001b[0m     \u001b[38;5;28msuper\u001b[39m()\u001b[38;5;241m.\u001b[39m\u001b[38;5;21m__init__\u001b[39m(start\u001b[38;5;241m=\u001b[39m\u001b[43mdatetime\u001b[49m\u001b[43m(\u001b[49m\u001b[43myear\u001b[49m\u001b[43m,\u001b[49m\u001b[43m \u001b[49m\u001b[38;5;241;43m1\u001b[39;49m\u001b[43m,\u001b[49m\u001b[43m \u001b[49m\u001b[38;5;241;43m1\u001b[39;49m\u001b[43m)\u001b[49m,\n\u001b[1;32m   1644\u001b[0m                      last\u001b[38;5;241m=\u001b[39mdatetime(year, \u001b[38;5;241m12\u001b[39m, \u001b[38;5;241m31\u001b[39m))\n\u001b[1;32m   1645\u001b[0m     \u001b[38;5;28mself\u001b[39m\u001b[38;5;241m.\u001b[39myear \u001b[38;5;241m=\u001b[39m year\n\u001b[1;32m   1646\u001b[0m     \u001b[38;5;28mself\u001b[39m\u001b[38;5;241m.\u001b[39mcal \u001b[38;5;241m=\u001b[39m NotreDame()\n",
      "\u001b[0;31mTypeError\u001b[0m: 'Year' object cannot be interpreted as an integer"
     ]
    }
   ],
   "source": [
    "ccm.Year(ccm.Year(2024))"
   ]
  },
  {
   "cell_type": "code",
   "execution_count": 13,
   "id": "4b87b7ad-beef-4a8b-9af8-c2301212622e",
   "metadata": {},
   "outputs": [
    {
     "data": {
      "text/plain": [
       "[]"
      ]
     },
     "execution_count": 13,
     "metadata": {},
     "output_type": "execute_result"
    }
   ],
   "source": [
    "ccm._subunits(\"microsecond\")"
   ]
  },
  {
   "cell_type": "code",
   "execution_count": null,
   "id": "cea205e7-981c-454d-aeb8-f6b040294932",
   "metadata": {},
   "outputs": [],
   "source": []
  }
 ],
 "metadata": {
  "kernelspec": {
   "display_name": "Python 3 (ipykernel)",
   "language": "python",
   "name": "python3"
  },
  "language_info": {
   "codemirror_mode": {
    "name": "ipython",
    "version": 3
   },
   "file_extension": ".py",
   "mimetype": "text/x-python",
   "name": "python",
   "nbconvert_exporter": "python",
   "pygments_lexer": "ipython3",
   "version": "3.12.5"
  }
 },
 "nbformat": 4,
 "nbformat_minor": 5
}
