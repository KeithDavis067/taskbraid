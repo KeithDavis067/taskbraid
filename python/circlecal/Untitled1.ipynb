{
 "cells": [
  {
   "cell_type": "code",
   "execution_count": 1,
   "id": "741700c7-d34f-4e2b-b605-340f6b31f8ec",
   "metadata": {},
   "outputs": [],
   "source": [
    "import circle_cal.model as ccm\n",
    "from workalendar.usa import UnitedStates, Indiana\n",
    "from workalendar.core import ChristianMixin\n",
    "from datetime import datetime, date, time\n",
    "from datetime import timedelta\n",
    "import calendar"
   ]
  },
  {
   "cell_type": "code",
   "execution_count": 2,
   "id": "7a8dc1ba-3a2e-4dfd-b075-a6acf3a25292",
   "metadata": {},
   "outputs": [],
   "source": [
    "y24 = ccm.Year(2024)"
   ]
  },
  {
   "cell_type": "code",
   "execution_count": 3,
   "id": "ce9dab97-1e4a-4cf0-baec-222b42f2ba0a",
   "metadata": {},
   "outputs": [
    {
     "data": {
      "text/plain": [
       "0.9836065573770492"
      ]
     },
     "execution_count": 3,
     "metadata": {},
     "output_type": "execute_result"
    }
   ],
   "source": [
    "y24.THETA_PER_DAY"
   ]
  },
  {
   "cell_type": "code",
   "execution_count": null,
   "id": "37409714-9108-448d-be59-5802c2eb0c60",
   "metadata": {},
   "outputs": [],
   "source": []
  },
  {
   "cell_type": "code",
   "execution_count": 4,
   "id": "de2388c9-e576-4992-a6a0-af1ffce6199f",
   "metadata": {},
   "outputs": [
    {
     "ename": "TypeError",
     "evalue": "'day' is an invalid keyword argument for __new__()",
     "output_type": "error",
     "traceback": [
      "\u001b[0;31m---------------------------------------------------------------------------\u001b[0m",
      "\u001b[0;31mTypeError\u001b[0m                                 Traceback (most recent call last)",
      "Cell \u001b[0;32mIn[4], line 2\u001b[0m\n\u001b[1;32m      1\u001b[0m \u001b[38;5;28;01mfor\u001b[39;00m m \u001b[38;5;129;01min\u001b[39;00m y24:\n\u001b[0;32m----> 2\u001b[0m     \u001b[38;5;28;01mfor\u001b[39;00m d \u001b[38;5;129;01min\u001b[39;00m m:\n\u001b[1;32m      3\u001b[0m         \u001b[38;5;28mprint\u001b[39m(d)\n",
      "File \u001b[0;32m~/Documents/PythonProjects/taskbraid/python/circlecal/circle_cal/model.py:1447\u001b[0m, in \u001b[0;36mCalendarPeriod.__getitem__\u001b[0;34m(self, i)\u001b[0m\n\u001b[1;32m   1445\u001b[0m items \u001b[38;5;241m=\u001b[39m []\n\u001b[1;32m   1446\u001b[0m \u001b[38;5;28;01mfor\u001b[39;00m j \u001b[38;5;129;01min\u001b[39;00m \u001b[38;5;28mrange\u001b[39m(start, stop \u001b[38;5;241m+\u001b[39m \u001b[38;5;241m1\u001b[39m, step):\n\u001b[0;32m-> 1447\u001b[0m     dt \u001b[38;5;241m=\u001b[39m \u001b[38;5;28mself\u001b[39m\u001b[38;5;241m.\u001b[39mstart \u001b[38;5;241m+\u001b[39m \u001b[43mtimedelta\u001b[49m\u001b[43m(\u001b[49m\u001b[38;5;241;43m*\u001b[39;49m\u001b[38;5;241;43m*\u001b[39;49m\u001b[43m{\u001b[49m\u001b[43mu\u001b[49m\u001b[43m:\u001b[49m\u001b[43m \u001b[49m\u001b[43mj\u001b[49m\u001b[43m}\u001b[49m\u001b[43m)\u001b[49m\n\u001b[1;32m   1448\u001b[0m     end_dt \u001b[38;5;241m=\u001b[39m dt \u001b[38;5;241m+\u001b[39m timedelta(\u001b[38;5;241m*\u001b[39m\u001b[38;5;241m*\u001b[39m{u: \u001b[38;5;241m1\u001b[39m})\n\u001b[1;32m   1449\u001b[0m     \u001b[38;5;28;01mif\u001b[39;00m end_dt \u001b[38;5;241m>\u001b[39m \u001b[38;5;28mself\u001b[39m\u001b[38;5;241m.\u001b[39mend:\n",
      "\u001b[0;31mTypeError\u001b[0m: 'day' is an invalid keyword argument for __new__()"
     ]
    }
   ],
   "source": [
    "for m in y24:\n",
    "    for d in m:\n",
    "        print(d)"
   ]
  },
  {
   "cell_type": "code",
   "execution_count": 8,
   "id": "4b5291ed-162d-4295-a438-39a2fb17766c",
   "metadata": {},
   "outputs": [
    {
     "data": {
      "text/plain": [
       "'day'"
      ]
     },
     "execution_count": 8,
     "metadata": {},
     "output_type": "execute_result"
    }
   ],
   "source": [
    "m.part_unit()"
   ]
  },
  {
   "cell_type": "code",
   "execution_count": 9,
   "id": "745ee331-5596-4dc9-bc25-7aa0efd0f411",
   "metadata": {},
   "outputs": [
    {
     "name": "stdout",
     "output_type": "stream",
     "text": [
      "(2024-12-01 00:00:00, 2024-12-31 00:00:00)\n"
     ]
    }
   ],
   "source": [
    "for d in m:\n",
    "    print(d)"
   ]
  },
  {
   "cell_type": "code",
   "execution_count": 8,
   "id": "19be42e0-c2ec-48ea-8670-69097ea3cf65",
   "metadata": {},
   "outputs": [
    {
     "data": {
      "text/plain": [
       "datetime.date(2024, 2, 1)"
      ]
     },
     "execution_count": 8,
     "metadata": {},
     "output_type": "execute_result"
    }
   ],
   "source": [
    "d + timedelta(days=31)"
   ]
  },
  {
   "cell_type": "code",
   "execution_count": 9,
   "id": "d4ac4c70-0c87-4db9-a986-ecda885b6491",
   "metadata": {},
   "outputs": [
    {
     "data": {
      "text/plain": [
       "366.0"
      ]
     },
     "execution_count": 9,
     "metadata": {},
     "output_type": "execute_result"
    }
   ],
   "source": [
    "y24.len_by_days()"
   ]
  },
  {
   "cell_type": "code",
   "execution_count": 13,
   "id": "3279252e-8e0e-4921-bbc0-7e62600888d4",
   "metadata": {},
   "outputs": [
    {
     "data": {
      "text/plain": [
       "'January'"
      ]
     },
     "execution_count": 13,
     "metadata": {},
     "output_type": "execute_result"
    }
   ],
   "source": [
    "calendar.month_name[1]"
   ]
  },
  {
   "cell_type": "code",
   "execution_count": 7,
   "id": "6ed38067-3270-489c-b028-7c1da96e974a",
   "metadata": {},
   "outputs": [],
   "source": [
    "dt = datetime(2024, 1, 1)"
   ]
  },
  {
   "cell_type": "code",
   "execution_count": 8,
   "id": "596e56c9-ea3f-4da3-8bda-f806e7dadd41",
   "metadata": {},
   "outputs": [
    {
     "ename": "AttributeError",
     "evalue": "attribute 'year' of 'datetime.date' objects is not writable",
     "output_type": "error",
     "traceback": [
      "\u001b[0;31m---------------------------------------------------------------------------\u001b[0m",
      "\u001b[0;31mAttributeError\u001b[0m                            Traceback (most recent call last)",
      "Cell \u001b[0;32mIn[8], line 1\u001b[0m\n\u001b[0;32m----> 1\u001b[0m \u001b[43mdt\u001b[49m\u001b[38;5;241;43m.\u001b[39;49m\u001b[43myear\u001b[49m \u001b[38;5;241m=\u001b[39m \u001b[38;5;241m2025\u001b[39m\n",
      "\u001b[0;31mAttributeError\u001b[0m: attribute 'year' of 'datetime.date' objects is not writable"
     ]
    }
   ],
   "source": [
    "dt.year = 2025"
   ]
  },
  {
   "cell_type": "code",
   "execution_count": 13,
   "id": "4f3bb7b8-8eaa-4d14-b608-5b2062146ce0",
   "metadata": {},
   "outputs": [
    {
     "ename": "TypeError",
     "evalue": "dict() argument after ** must be a mapping, not datetime.datetime",
     "output_type": "error",
     "traceback": [
      "\u001b[0;31m---------------------------------------------------------------------------\u001b[0m",
      "\u001b[0;31mTypeError\u001b[0m                                 Traceback (most recent call last)",
      "Cell \u001b[0;32mIn[13], line 1\u001b[0m\n\u001b[0;32m----> 1\u001b[0m \u001b[38;5;28mdict\u001b[39m(\u001b[38;5;241m*\u001b[39m\u001b[38;5;241m*\u001b[39mdt)\n",
      "\u001b[0;31mTypeError\u001b[0m: dict() argument after ** must be a mapping, not datetime.datetime"
     ]
    }
   ],
   "source": [
    "dict(**dt)"
   ]
  },
  {
   "cell_type": "code",
   "execution_count": 1,
   "id": "770c56b5-8191-4742-b4b1-40382a7df59a",
   "metadata": {},
   "outputs": [],
   "source": [
    "d = {\"a\": 1}"
   ]
  },
  {
   "cell_type": "code",
   "execution_count": 6,
   "id": "c98533ce-d43d-4f17-b5b6-38aab93486b9",
   "metadata": {},
   "outputs": [],
   "source": [
    "d.update({\"b\": 2})"
   ]
  },
  {
   "cell_type": "code",
   "execution_count": 7,
   "id": "915bb303-6b23-48e1-b782-ed7824561167",
   "metadata": {},
   "outputs": [
    {
     "data": {
      "text/plain": [
       "{'a': 1, 'b': 2}"
      ]
     },
     "execution_count": 7,
     "metadata": {},
     "output_type": "execute_result"
    }
   ],
   "source": [
    "d"
   ]
  },
  {
   "cell_type": "code",
   "execution_count": null,
   "id": "bc91d5f2-80bb-4ef8-895e-526d504592f3",
   "metadata": {},
   "outputs": [],
   "source": []
  }
 ],
 "metadata": {
  "kernelspec": {
   "display_name": "Python 3 (ipykernel)",
   "language": "python",
   "name": "python3"
  },
  "language_info": {
   "codemirror_mode": {
    "name": "ipython",
    "version": 3
   },
   "file_extension": ".py",
   "mimetype": "text/x-python",
   "name": "python",
   "nbconvert_exporter": "python",
   "pygments_lexer": "ipython3",
   "version": "3.12.5"
  }
 },
 "nbformat": 4,
 "nbformat_minor": 5
}
