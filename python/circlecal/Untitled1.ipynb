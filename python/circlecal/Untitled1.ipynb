{
 "cells": [
  {
   "cell_type": "code",
   "execution_count": 1,
   "id": "741700c7-d34f-4e2b-b605-340f6b31f8ec",
   "metadata": {},
   "outputs": [],
   "source": [
    "import circle_cal.model as ccm\n",
    "from workalendar.usa import UnitedStates, Indiana\n",
    "from workalendar.core import ChristianMixin\n",
    "from datetime import datetime, date\n",
    "from datetime import timedelta\n"
   ]
  },
  {
   "cell_type": "code",
   "execution_count": 2,
   "id": "fc50234e-0cee-49cb-b913-b0591f030a47",
   "metadata": {},
   "outputs": [],
   "source": [
    "def NotreDame(Indiana):\n",
    "    include_easter_monday=True\n",
    "    include_good_friday=True\n",
    "    include_easter_sunday=True\n",
    "    include_christmas_eve=True"
   ]
  },
  {
   "cell_type": "code",
   "execution_count": 10,
   "id": "7a8dc1ba-3a2e-4dfd-b075-a6acf3a25292",
   "metadata": {},
   "outputs": [],
   "source": [
    "cp = ccm.CalendarPeriod(start=datetime(2024, 1, 1), end=datetime(2024, 1, 2))"
   ]
  },
  {
   "cell_type": "code",
   "execution_count": 12,
   "id": "293a92c2-3d68-4051-86be-1d47490173ac",
   "metadata": {},
   "outputs": [
    {
     "name": "stdout",
     "output_type": "stream",
     "text": [
      "{'year': 2024, 'month': 1, 'day': 1, 'hour': 0, 'minute': 0, 'second': 0, 'microsecond': 0, 'type': 'CalendarElement'}\n",
      "{'year': 2024, 'month': 1, 'day': 2, 'hour': 0, 'minute': 0, 'second': 0, 'microsecond': 0, 'type': 'CalendarElement'}\n"
     ]
    }
   ],
   "source": [
    "for d in cp:\n",
    "    print(d)"
   ]
  },
  {
   "cell_type": "code",
   "execution_count": 7,
   "id": "704d5f29-c656-4e1b-928a-9fa0ff304608",
   "metadata": {},
   "outputs": [],
   "source": [
    "cp = ccm.CalendarPeriod(start=datetime(2024, 1, 1), end=datetime(2024, 1, 1))"
   ]
  },
  {
   "cell_type": "code",
   "execution_count": 9,
   "id": "ce9dab97-1e4a-4cf0-baec-222b42f2ba0a",
   "metadata": {},
   "outputs": [
    {
     "name": "stdout",
     "output_type": "stream",
     "text": [
      "{'year': 2024, 'month': 1, 'day': 1, 'hour': 0, 'minute': 0, 'second': 0, 'microsecond': 0, 'type': 'CalendarElement'}\n"
     ]
    }
   ],
   "source": [
    "for d in cp:\n",
    "    print(d)"
   ]
  },
  {
   "cell_type": "code",
   "execution_count": 8,
   "id": "99aca9ed-0168-4529-b414-1c23ce69ffdc",
   "metadata": {},
   "outputs": [
    {
     "data": {
      "text/plain": [
       "10"
      ]
     },
     "execution_count": 8,
     "metadata": {},
     "output_type": "execute_result"
    }
   ],
   "source": [
    "len(range(10))"
   ]
  },
  {
   "cell_type": "code",
   "execution_count": 9,
   "id": "94bd884d-6fd1-4c79-af9d-f90c9e12e4f6",
   "metadata": {},
   "outputs": [
    {
     "name": "stdout",
     "output_type": "stream",
     "text": [
      "0\n",
      "1\n",
      "2\n",
      "3\n",
      "4\n",
      "5\n",
      "6\n",
      "7\n",
      "8\n",
      "9\n"
     ]
    }
   ],
   "source": [
    "for i in range(10):\n",
    "    print(i)"
   ]
  },
  {
   "cell_type": "code",
   "execution_count": 16,
   "id": "6a60c062-986c-47d0-8f58-8166c7f1d21f",
   "metadata": {},
   "outputs": [],
   "source": [
    "td = timedelta(weeks=1)"
   ]
  },
  {
   "cell_type": "code",
   "execution_count": 22,
   "id": "5c1fd2ca-f10e-4a18-917a-fdfdbea16ed1",
   "metadata": {},
   "outputs": [],
   "source": [
    "td = datetime.now() - datetime(2024, 1, 1)"
   ]
  },
  {
   "cell_type": "code",
   "execution_count": 23,
   "id": "e5224424-7284-4a64-aeb7-361e58f346e3",
   "metadata": {},
   "outputs": [
    {
     "data": {
      "text/plain": [
       "41282"
      ]
     },
     "execution_count": 23,
     "metadata": {},
     "output_type": "execute_result"
    }
   ],
   "source": [
    "td.microseconds"
   ]
  },
  {
   "cell_type": "code",
   "execution_count": 24,
   "id": "3f4bc7d7-71aa-42bb-8a7f-edeb9faab82d",
   "metadata": {},
   "outputs": [
    {
     "data": {
      "text/plain": [
       "20105120041282.0"
      ]
     },
     "execution_count": 24,
     "metadata": {},
     "output_type": "execute_result"
    }
   ],
   "source": [
    "td / timedelta(microseconds=1)"
   ]
  },
  {
   "cell_type": "code",
   "execution_count": 26,
   "id": "a0f44d00-79ee-4a1f-8e3d-c54ea2673258",
   "metadata": {},
   "outputs": [],
   "source": [
    "td = datetime(2024, 8, 11) - datetime(2024, 1, 1)"
   ]
  },
  {
   "cell_type": "code",
   "execution_count": 27,
   "id": "af1d9f72-dff5-41f7-8c70-fa1022436cfd",
   "metadata": {},
   "outputs": [
    {
     "data": {
      "text/plain": [
       "0"
      ]
     },
     "execution_count": 27,
     "metadata": {},
     "output_type": "execute_result"
    }
   ],
   "source": [
    "td.microseconds"
   ]
  },
  {
   "cell_type": "code",
   "execution_count": 17,
   "id": "7cd9407d-8c99-408d-8bce-4859511c00c1",
   "metadata": {},
   "outputs": [
    {
     "data": {
      "text/plain": [
       "datetime.timedelta(days=19)"
      ]
     },
     "execution_count": 17,
     "metadata": {},
     "output_type": "execute_result"
    }
   ],
   "source": [
    "td"
   ]
  },
  {
   "cell_type": "code",
   "execution_count": 18,
   "id": "7ef5f872-c053-49ae-8660-71dc2a8a2faf",
   "metadata": {},
   "outputs": [],
   "source": [
    "td = timedelta(days=2.5)"
   ]
  },
  {
   "cell_type": "code",
   "execution_count": 50,
   "id": "68f81fe4-ccdf-462c-8e99-96e2edd14c1f",
   "metadata": {},
   "outputs": [],
   "source": [
    "TD_UNITS = [\"days\", \"hours\", \"minutes\", \"seconds\", \"microseconds\"]\n",
    "TD_STORE_UNITS = [\"microseconds\", \"seconds\", \"days\"]\n",
    "def whole_unit(td):    \n",
    "    for u in TD_UNITS:\n",
    "        if td_is_zero(td % timedelta(**{u: 1})):\n",
    "            return u\n",
    "    return u\n",
    "            \n",
    "        \n"
   ]
  },
  {
   "cell_type": "code",
   "execution_count": 51,
   "id": "f2c7eb77-ac39-4184-8fc4-7b7831f5f647",
   "metadata": {},
   "outputs": [
    {
     "data": {
      "text/plain": [
       "'hours'"
      ]
     },
     "execution_count": 51,
     "metadata": {},
     "output_type": "execute_result"
    }
   ],
   "source": [
    "whole_unit(td)"
   ]
  },
  {
   "cell_type": "code",
   "execution_count": 58,
   "id": "3aef577e-0f13-4773-88bf-9866cab40803",
   "metadata": {},
   "outputs": [
    {
     "data": {
      "text/plain": [
       "'microseconds'"
      ]
     },
     "execution_count": 58,
     "metadata": {},
     "output_type": "execute_result"
    }
   ],
   "source": [
    "whole_unit(timedelta(days = 1, microseconds=2e6+1))"
   ]
  },
  {
   "cell_type": "code",
   "execution_count": 35,
   "id": "8ea7df1f-2faa-4fcc-b7b1-62207b6a1742",
   "metadata": {},
   "outputs": [
    {
     "data": {
      "text/plain": [
       "datetime.timedelta(0)"
      ]
     },
     "execution_count": 35,
     "metadata": {},
     "output_type": "execute_result"
    }
   ],
   "source": [
    "td % timedelta(seconds=1)"
   ]
  },
  {
   "cell_type": "code",
   "execution_count": 46,
   "id": "9bf54b35-7d0b-481d-8b6b-cb91c42be254",
   "metadata": {},
   "outputs": [],
   "source": []
  },
  {
   "cell_type": "code",
   "execution_count": 47,
   "id": "e57279fa-fb36-4ac3-910b-8592792ef9ca",
   "metadata": {},
   "outputs": [
    {
     "data": {
      "text/plain": [
       "True"
      ]
     },
     "execution_count": 47,
     "metadata": {},
     "output_type": "execute_result"
    }
   ],
   "source": [
    "td_is_zero(timedelta())"
   ]
  },
  {
   "cell_type": "code",
   "execution_count": 48,
   "id": "3aa93e7f-cab1-401e-9eba-967afc7f665a",
   "metadata": {},
   "outputs": [],
   "source": [
    "td = timedelta(hours = 10)"
   ]
  },
  {
   "cell_type": "code",
   "execution_count": 49,
   "id": "8a7b5b58-4866-40d7-9565-a5662dc83530",
   "metadata": {},
   "outputs": [
    {
     "data": {
      "text/plain": [
       "False"
      ]
     },
     "execution_count": 49,
     "metadata": {},
     "output_type": "execute_result"
    }
   ],
   "source": [
    "td_is_zero(td)"
   ]
  },
  {
   "cell_type": "code",
   "execution_count": null,
   "id": "09db6b75-b6fe-4365-ba92-8b1a1f24f9b2",
   "metadata": {},
   "outputs": [],
   "source": []
  }
 ],
 "metadata": {
  "kernelspec": {
   "display_name": "Python 3 (ipykernel)",
   "language": "python",
   "name": "python3"
  },
  "language_info": {
   "codemirror_mode": {
    "name": "ipython",
    "version": 3
   },
   "file_extension": ".py",
   "mimetype": "text/x-python",
   "name": "python",
   "nbconvert_exporter": "python",
   "pygments_lexer": "ipython3",
   "version": "3.12.5"
  }
 },
 "nbformat": 4,
 "nbformat_minor": 5
}
