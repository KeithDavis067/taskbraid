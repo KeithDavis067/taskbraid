{
 "cells": [
  {
   "cell_type": "code",
   "execution_count": 1,
   "id": "741700c7-d34f-4e2b-b605-340f6b31f8ec",
   "metadata": {},
   "outputs": [],
   "source": [
    "import circle_cal.model as ccm\n",
    "from workalendar.usa import UnitedStates, Indiana\n",
    "from workalendar.core import ChristianMixin\n",
    "from datetime import datetime, date, time\n",
    "from datetime import timedelta\n",
    "import calendar"
   ]
  },
  {
   "cell_type": "code",
   "execution_count": 2,
   "id": "7a8dc1ba-3a2e-4dfd-b075-a6acf3a25292",
   "metadata": {},
   "outputs": [],
   "source": [
    "y24 = ccm.Year(2024)"
   ]
  },
  {
   "cell_type": "code",
   "execution_count": 3,
   "id": "ce9dab97-1e4a-4cf0-baec-222b42f2ba0a",
   "metadata": {},
   "outputs": [
    {
     "data": {
      "text/plain": [
       "0.9836065573770492"
      ]
     },
     "execution_count": 3,
     "metadata": {},
     "output_type": "execute_result"
    }
   ],
   "source": [
    "y24.THETA_PER_DAY"
   ]
  },
  {
   "cell_type": "code",
   "execution_count": 8,
   "id": "37409714-9108-448d-be59-5802c2eb0c60",
   "metadata": {},
   "outputs": [
    {
     "data": {
      "text/plain": [
       "datetime.datetime(2025, 1, 1, 0, 0)"
      ]
     },
     "execution_count": 8,
     "metadata": {},
     "output_type": "execute_result"
    }
   ],
   "source": [
    "ccm._set_month(datetime(2024, 1, 1), 12)"
   ]
  },
  {
   "cell_type": "code",
   "execution_count": 5,
   "id": "de2388c9-e576-4992-a6a0-af1ffce6199f",
   "metadata": {},
   "outputs": [
    {
     "name": "stdout",
     "output_type": "stream",
     "text": [
      "(2024-01-01 00:00:00, 2024-01-31 00:00:00)\n",
      "(2024-02-01 00:00:00, 2024-02-29 00:00:00)\n",
      "(2024-02-01 00:00:00, 2024-02-29 00:00:00)\n",
      "(2024-03-01 00:00:00, 2024-03-31 00:00:00)\n",
      "(2024-03-01 00:00:00, 2024-03-31 00:00:00)\n",
      "(2024-04-01 00:00:00, 2024-04-30 00:00:00)\n",
      "(2024-04-01 00:00:00, 2024-04-30 00:00:00)\n",
      "(2024-05-01 00:00:00, 2024-05-31 00:00:00)\n",
      "(2024-05-01 00:00:00, 2024-05-31 00:00:00)\n",
      "(2024-06-01 00:00:00, 2024-06-30 00:00:00)\n",
      "(2024-06-01 00:00:00, 2024-06-30 00:00:00)\n",
      "(2024-07-01 00:00:00, 2024-07-31 00:00:00)\n",
      "(2024-07-01 00:00:00, 2024-07-31 00:00:00)\n",
      "(2024-08-01 00:00:00, 2024-08-31 00:00:00)\n",
      "(2024-08-01 00:00:00, 2024-08-31 00:00:00)\n",
      "(2024-09-01 00:00:00, 2024-09-30 00:00:00)\n",
      "(2024-09-01 00:00:00, 2024-09-30 00:00:00)\n",
      "(2024-10-01 00:00:00, 2024-10-31 00:00:00)\n",
      "(2024-10-01 00:00:00, 2024-10-31 00:00:00)\n",
      "(2024-11-01 00:00:00, 2024-11-30 00:00:00)\n"
     ]
    }
   ],
   "source": [
    "for m in y24:\n",
    "    for d in m:\n",
    "        print(d)"
   ]
  },
  {
   "cell_type": "code",
   "execution_count": 8,
   "id": "4b5291ed-162d-4295-a438-39a2fb17766c",
   "metadata": {},
   "outputs": [
    {
     "data": {
      "text/plain": [
       "'day'"
      ]
     },
     "execution_count": 8,
     "metadata": {},
     "output_type": "execute_result"
    }
   ],
   "source": [
    "m.part_unit()"
   ]
  },
  {
   "cell_type": "code",
   "execution_count": 9,
   "id": "745ee331-5596-4dc9-bc25-7aa0efd0f411",
   "metadata": {},
   "outputs": [
    {
     "name": "stdout",
     "output_type": "stream",
     "text": [
      "(2024-12-01 00:00:00, 2024-12-31 00:00:00)\n"
     ]
    }
   ],
   "source": [
    "for d in m:\n",
    "    print(d)"
   ]
  },
  {
   "cell_type": "code",
   "execution_count": 8,
   "id": "19be42e0-c2ec-48ea-8670-69097ea3cf65",
   "metadata": {},
   "outputs": [
    {
     "data": {
      "text/plain": [
       "datetime.date(2024, 2, 1)"
      ]
     },
     "execution_count": 8,
     "metadata": {},
     "output_type": "execute_result"
    }
   ],
   "source": [
    "d + timedelta(days=31)"
   ]
  },
  {
   "cell_type": "code",
   "execution_count": 9,
   "id": "d4ac4c70-0c87-4db9-a986-ecda885b6491",
   "metadata": {},
   "outputs": [
    {
     "data": {
      "text/plain": [
       "366.0"
      ]
     },
     "execution_count": 9,
     "metadata": {},
     "output_type": "execute_result"
    }
   ],
   "source": [
    "y24.len_by_days()"
   ]
  },
  {
   "cell_type": "code",
   "execution_count": 13,
   "id": "3279252e-8e0e-4921-bbc0-7e62600888d4",
   "metadata": {},
   "outputs": [
    {
     "data": {
      "text/plain": [
       "'January'"
      ]
     },
     "execution_count": 13,
     "metadata": {},
     "output_type": "execute_result"
    }
   ],
   "source": [
    "calendar.month_name[1]"
   ]
  },
  {
   "cell_type": "code",
   "execution_count": 7,
   "id": "6ed38067-3270-489c-b028-7c1da96e974a",
   "metadata": {},
   "outputs": [],
   "source": [
    "dt = datetime(2024, 1, 1)"
   ]
  },
  {
   "cell_type": "code",
   "execution_count": 8,
   "id": "596e56c9-ea3f-4da3-8bda-f806e7dadd41",
   "metadata": {},
   "outputs": [
    {
     "ename": "AttributeError",
     "evalue": "attribute 'year' of 'datetime.date' objects is not writable",
     "output_type": "error",
     "traceback": [
      "\u001b[0;31m---------------------------------------------------------------------------\u001b[0m",
      "\u001b[0;31mAttributeError\u001b[0m                            Traceback (most recent call last)",
      "Cell \u001b[0;32mIn[8], line 1\u001b[0m\n\u001b[0;32m----> 1\u001b[0m \u001b[43mdt\u001b[49m\u001b[38;5;241;43m.\u001b[39;49m\u001b[43myear\u001b[49m \u001b[38;5;241m=\u001b[39m \u001b[38;5;241m2025\u001b[39m\n",
      "\u001b[0;31mAttributeError\u001b[0m: attribute 'year' of 'datetime.date' objects is not writable"
     ]
    }
   ],
   "source": [
    "dt.year = 2025"
   ]
  },
  {
   "cell_type": "code",
   "execution_count": 13,
   "id": "4f3bb7b8-8eaa-4d14-b608-5b2062146ce0",
   "metadata": {},
   "outputs": [
    {
     "ename": "TypeError",
     "evalue": "dict() argument after ** must be a mapping, not datetime.datetime",
     "output_type": "error",
     "traceback": [
      "\u001b[0;31m---------------------------------------------------------------------------\u001b[0m",
      "\u001b[0;31mTypeError\u001b[0m                                 Traceback (most recent call last)",
      "Cell \u001b[0;32mIn[13], line 1\u001b[0m\n\u001b[0;32m----> 1\u001b[0m \u001b[38;5;28mdict\u001b[39m(\u001b[38;5;241m*\u001b[39m\u001b[38;5;241m*\u001b[39mdt)\n",
      "\u001b[0;31mTypeError\u001b[0m: dict() argument after ** must be a mapping, not datetime.datetime"
     ]
    }
   ],
   "source": [
    "dict(**dt)"
   ]
  },
  {
   "cell_type": "code",
   "execution_count": 1,
   "id": "770c56b5-8191-4742-b4b1-40382a7df59a",
   "metadata": {},
   "outputs": [],
   "source": [
    "d = {\"a\": 1}"
   ]
  },
  {
   "cell_type": "code",
   "execution_count": 6,
   "id": "c98533ce-d43d-4f17-b5b6-38aab93486b9",
   "metadata": {},
   "outputs": [],
   "source": [
    "d.update({\"b\": 2})"
   ]
  },
  {
   "cell_type": "code",
   "execution_count": 7,
   "id": "915bb303-6b23-48e1-b782-ed7824561167",
   "metadata": {},
   "outputs": [
    {
     "data": {
      "text/plain": [
       "{'a': 1, 'b': 2}"
      ]
     },
     "execution_count": 7,
     "metadata": {},
     "output_type": "execute_result"
    }
   ],
   "source": [
    "d"
   ]
  },
  {
   "cell_type": "code",
   "execution_count": 8,
   "id": "bc91d5f2-80bb-4ef8-895e-526d504592f3",
   "metadata": {},
   "outputs": [
    {
     "data": {
      "text/plain": [
       "1"
      ]
     },
     "execution_count": 8,
     "metadata": {},
     "output_type": "execute_result"
    }
   ],
   "source": [
    "13 % 12"
   ]
  },
  {
   "cell_type": "code",
   "execution_count": 9,
   "id": "56f01b4a-841b-4820-ba21-fbf1be094870",
   "metadata": {},
   "outputs": [
    {
     "data": {
      "text/plain": [
       "10"
      ]
     },
     "execution_count": 9,
     "metadata": {},
     "output_type": "execute_result"
    }
   ],
   "source": [
    "10 % 12"
   ]
  },
  {
   "cell_type": "code",
   "execution_count": 12,
   "id": "784df719-d689-40d4-b414-65278457b44a",
   "metadata": {},
   "outputs": [
    {
     "data": {
      "text/plain": [
       "'January'"
      ]
     },
     "execution_count": 12,
     "metadata": {},
     "output_type": "execute_result"
    }
   ],
   "source": [
    "calendar.month_name[1]"
   ]
  },
  {
   "cell_type": "code",
   "execution_count": 2,
   "id": "0336cb64-7ab3-4196-aa07-616e3e31e2e3",
   "metadata": {},
   "outputs": [
    {
     "data": {
      "text/plain": [
       "11"
      ]
     },
     "execution_count": 2,
     "metadata": {},
     "output_type": "execute_result"
    }
   ],
   "source": [
    "11 % 12"
   ]
  },
  {
   "cell_type": "code",
   "execution_count": 4,
   "id": "7bc8509e-1ba1-487c-af8d-d625be35dafe",
   "metadata": {},
   "outputs": [
    {
     "data": {
      "text/plain": [
       "0"
      ]
     },
     "execution_count": 4,
     "metadata": {},
     "output_type": "execute_result"
    }
   ],
   "source": [
    "12 % 12"
   ]
  },
  {
   "cell_type": "code",
   "execution_count": null,
   "id": "8aa625ac-2c99-4080-9710-f2949fa9b1bf",
   "metadata": {},
   "outputs": [],
   "source": [
    "12 "
   ]
  }
 ],
 "metadata": {
  "kernelspec": {
   "display_name": "Python 3 (ipykernel)",
   "language": "python",
   "name": "python3"
  },
  "language_info": {
   "codemirror_mode": {
    "name": "ipython",
    "version": 3
   },
   "file_extension": ".py",
   "mimetype": "text/x-python",
   "name": "python",
   "nbconvert_exporter": "python",
   "pygments_lexer": "ipython3",
   "version": "3.12.5"
  }
 },
 "nbformat": 4,
 "nbformat_minor": 5
}
