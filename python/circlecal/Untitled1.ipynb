{
 "cells": [
  {
   "cell_type": "code",
   "execution_count": 1,
   "id": "741700c7-d34f-4e2b-b605-340f6b31f8ec",
   "metadata": {},
   "outputs": [],
   "source": [
    "import circle_cal.model as ccm\n",
    "from workalendar.usa import UnitedStates, Indiana\n",
    "from workalendar.core import ChristianMixin\n",
    "from datetime import datetime, date, time\n",
    "from datetime import timedelta\n",
    "import calendar"
   ]
  },
  {
   "cell_type": "code",
   "execution_count": 2,
   "id": "e99c0cfa-83f4-4204-ac92-884daf33f3a9",
   "metadata": {},
   "outputs": [],
   "source": [
    "p = ccm.CalendarPeriod(start=datetime(2024, 1, 1), end=datetime(2024, 12,31, 1))"
   ]
  },
  {
   "cell_type": "code",
   "execution_count": 3,
   "id": "38b23310-e4d0-4f89-afba-f895d6162903",
   "metadata": {},
   "outputs": [
    {
     "data": {
      "text/plain": [
       "datetime.timedelta(days=365, seconds=7200)"
      ]
     },
     "execution_count": 3,
     "metadata": {},
     "output_type": "execute_result"
    }
   ],
   "source": [
    "p.duration"
   ]
  },
  {
   "cell_type": "code",
   "execution_count": 4,
   "id": "e6ca2241-9d5a-4f9a-be93-8d7366b537f5",
   "metadata": {},
   "outputs": [
    {
     "name": "stdout",
     "output_type": "stream",
     "text": [
      "hours 365 days, 2:00:00\n",
      "hours 365 days, 2:00:00\n"
     ]
    },
    {
     "data": {
      "text/plain": [
       "8762"
      ]
     },
     "execution_count": 4,
     "metadata": {},
     "output_type": "execute_result"
    }
   ],
   "source": [
    "len(p)"
   ]
  },
  {
   "cell_type": "code",
   "execution_count": 5,
   "id": "c78e48ac-c884-4d40-86c4-319f274832ab",
   "metadata": {},
   "outputs": [
    {
     "data": {
      "text/plain": [
       "False"
      ]
     },
     "execution_count": 5,
     "metadata": {},
     "output_type": "execute_result"
    }
   ],
   "source": [
    "p.whole_unit() == \"year\""
   ]
  },
  {
   "cell_type": "code",
   "execution_count": 6,
   "id": "a24ef8af-1697-4059-8acd-51df91868b0c",
   "metadata": {},
   "outputs": [
    {
     "data": {
      "text/plain": [
       "'hours'"
      ]
     },
     "execution_count": 6,
     "metadata": {},
     "output_type": "execute_result"
    }
   ],
   "source": [
    "p.whole_unit()"
   ]
  },
  {
   "cell_type": "code",
   "execution_count": 7,
   "id": "69acf76a-69b8-49ce-b666-021f50da45cc",
   "metadata": {},
   "outputs": [
    {
     "data": {
      "text/plain": [
       "<generator object CalendarPeriod.subunit_generator at 0x1115ad740>"
      ]
     },
     "execution_count": 7,
     "metadata": {},
     "output_type": "execute_result"
    }
   ],
   "source": [
    "p.as_unit(\"year\")"
   ]
  },
  {
   "cell_type": "code",
   "execution_count": 8,
   "id": "90108087-9a74-44b0-9e88-6ed259de1018",
   "metadata": {},
   "outputs": [
    {
     "data": {
      "text/plain": [
       "<generator object CalendarPeriod.subunit_generator at 0x1115ad540>"
      ]
     },
     "execution_count": 8,
     "metadata": {},
     "output_type": "execute_result"
    }
   ],
   "source": [
    "p.subunit_generator(\"year\")"
   ]
  },
  {
   "cell_type": "code",
   "execution_count": 9,
   "id": "c4ef11cd-28c1-4ff3-a0f7-e1a76dcf75c9",
   "metadata": {},
   "outputs": [
    {
     "name": "stdout",
     "output_type": "stream",
     "text": [
      "Help on method subunit_generator in module circle_cal.model:\n",
      "\n",
      "subunit_generator(unit) method of circle_cal.model.CalendarPeriod instance\n",
      "\n"
     ]
    }
   ],
   "source": [
    "help(p.as_unit)"
   ]
  },
  {
   "cell_type": "code",
   "execution_count": 10,
   "id": "a2ed29ab-6afa-4385-9378-1ad1a13f7b07",
   "metadata": {},
   "outputs": [
    {
     "name": "stdout",
     "output_type": "stream",
     "text": [
      "subunit_generator falled.\n"
     ]
    },
    {
     "ename": "ValueError",
     "evalue": "'hours' is not in list",
     "output_type": "error",
     "traceback": [
      "\u001b[0;31m---------------------------------------------------------------------------\u001b[0m",
      "\u001b[0;31mValueError\u001b[0m                                Traceback (most recent call last)",
      "Cell \u001b[0;32mIn[10], line 1\u001b[0m\n\u001b[0;32m----> 1\u001b[0m \u001b[38;5;28;01mfor\u001b[39;00m d \u001b[38;5;129;01min\u001b[39;00m p\u001b[38;5;241m.\u001b[39mas_unit(\u001b[38;5;124m\"\u001b[39m\u001b[38;5;124myear\u001b[39m\u001b[38;5;124m\"\u001b[39m):\n\u001b[1;32m      2\u001b[0m     \u001b[38;5;28mprint\u001b[39m(d)\n",
      "File \u001b[0;32m~/Documents/PythonProjects/taskbraid/python/circlecal/circle_cal/model.py:1540\u001b[0m, in \u001b[0;36mCalendarPeriod.subunit_generator\u001b[0;34m(self, unit)\u001b[0m\n\u001b[1;32m   1538\u001b[0m     \u001b[38;5;28mprint\u001b[39m(\u001b[38;5;124m\"\u001b[39m\u001b[38;5;124myeilding from self.\u001b[39m\u001b[38;5;124m\"\u001b[39m)\n\u001b[1;32m   1539\u001b[0m     \u001b[38;5;28;01myield from\u001b[39;00m \u001b[38;5;28mself\u001b[39m\n\u001b[0;32m-> 1540\u001b[0m \u001b[38;5;28mprint\u001b[39m(\u001b[43m_subunits\u001b[49m\u001b[43m(\u001b[49m\u001b[38;5;28;43mself\u001b[39;49m\u001b[38;5;241;43m.\u001b[39;49m\u001b[43mwhole_unit\u001b[49m\u001b[43m(\u001b[49m\u001b[43m)\u001b[49m\u001b[43m)\u001b[49m)\n\u001b[1;32m   1541\u001b[0m \u001b[38;5;28;01mif\u001b[39;00m unit \u001b[38;5;129;01mnot\u001b[39;00m \u001b[38;5;129;01min\u001b[39;00m _subunits(\u001b[38;5;28mself\u001b[39m\u001b[38;5;241m.\u001b[39mwhole_unit()):\n\u001b[1;32m   1542\u001b[0m     \u001b[38;5;28;01mraise\u001b[39;00m \u001b[38;5;167;01mTypeError\u001b[39;00m(\u001b[38;5;124mf\u001b[39m\u001b[38;5;124m\"\u001b[39m\u001b[38;5;124mCannot yield unit not in \u001b[39m\u001b[38;5;132;01m{\u001b[39;00m\n\u001b[1;32m   1543\u001b[0m \u001b[38;5;250m                    \u001b[39m[\u001b[38;5;28mself\u001b[39m\u001b[38;5;241m.\u001b[39mwhole_unit()]\u001b[38;5;250m \u001b[39m\u001b[38;5;241m+\u001b[39m\n\u001b[1;32m   1544\u001b[0m \u001b[38;5;250m                    \u001b[39m_subunits(\u001b[38;5;28mself\u001b[39m\u001b[38;5;241m.\u001b[39mwhole_unit())\u001b[38;5;132;01m}\u001b[39;00m\u001b[38;5;124m\"\u001b[39m)\n",
      "File \u001b[0;32m~/Documents/PythonProjects/taskbraid/python/circlecal/circle_cal/model.py:145\u001b[0m, in \u001b[0;36m_subunits\u001b[0;34m(unit)\u001b[0m\n\u001b[1;32m    143\u001b[0m \u001b[38;5;28;01mif\u001b[39;00m unit \u001b[38;5;241m==\u001b[39m UNITS[\u001b[38;5;241m-\u001b[39m\u001b[38;5;241m1\u001b[39m]:\n\u001b[1;32m    144\u001b[0m     \u001b[38;5;28;01mreturn\u001b[39;00m []\n\u001b[0;32m--> 145\u001b[0m \u001b[38;5;28;01mreturn\u001b[39;00m UNITS[\u001b[43mUNITS\u001b[49m\u001b[38;5;241;43m.\u001b[39;49m\u001b[43mindex\u001b[49m\u001b[43m(\u001b[49m\u001b[43munit\u001b[49m\u001b[43m)\u001b[49m \u001b[38;5;241m+\u001b[39m \u001b[38;5;241m1\u001b[39m:]\n",
      "\u001b[0;31mValueError\u001b[0m: 'hours' is not in list"
     ]
    }
   ],
   "source": [
    "for d in p.as_unit(\"year\"):\n",
    "    print(d)"
   ]
  },
  {
   "cell_type": "code",
   "execution_count": null,
   "id": "501a9b60-b969-4c0c-8f06-c5a7e013b1ab",
   "metadata": {},
   "outputs": [],
   "source": []
  }
 ],
 "metadata": {
  "kernelspec": {
   "display_name": "Python 3 (ipykernel)",
   "language": "python",
   "name": "python3"
  },
  "language_info": {
   "codemirror_mode": {
    "name": "ipython",
    "version": 3
   },
   "file_extension": ".py",
   "mimetype": "text/x-python",
   "name": "python",
   "nbconvert_exporter": "python",
   "pygments_lexer": "ipython3",
   "version": "3.12.5"
  }
 },
 "nbformat": 4,
 "nbformat_minor": 5
}
