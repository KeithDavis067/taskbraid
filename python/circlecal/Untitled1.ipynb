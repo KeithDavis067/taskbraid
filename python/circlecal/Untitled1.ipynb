{
 "cells": [
  {
   "cell_type": "code",
   "execution_count": 1,
   "id": "741700c7-d34f-4e2b-b605-340f6b31f8ec",
   "metadata": {},
   "outputs": [],
   "source": [
    "import circle_cal.model as ccm\n",
    "from workalendar.usa import UnitedStates, Indiana\n",
    "from workalendar.core import ChristianMixin\n",
    "from datetime import datetime, date\n"
   ]
  },
  {
   "cell_type": "code",
   "execution_count": 2,
   "id": "de26cba5-4a1b-4fd4-b785-edcb823b266e",
   "metadata": {},
   "outputs": [],
   "source": [
    "year = ccm.Year(2024)"
   ]
  },
  {
   "cell_type": "code",
   "execution_count": 8,
   "id": "6808ccdf-6e48-454b-a823-9d49acdc8276",
   "metadata": {},
   "outputs": [
    {
     "data": {
      "text/plain": [
       "0.0"
      ]
     },
     "execution_count": 8,
     "metadata": {},
     "output_type": "execute_result"
    }
   ],
   "source": [
    "year.to_theta(year.start.datetime())"
   ]
  },
  {
   "cell_type": "code",
   "execution_count": 32,
   "id": "fc50234e-0cee-49cb-b913-b0591f030a47",
   "metadata": {},
   "outputs": [],
   "source": [
    "def NotreDame(Indiana):\n",
    "    include_easter_monday=True\n",
    "    include_good_friday=True\n",
    "    include_easter_sunday=True\n",
    "    include_christmas_eve=True"
   ]
  },
  {
   "cell_type": "code",
   "execution_count": 14,
   "id": "7a8dc1ba-3a2e-4dfd-b075-a6acf3a25292",
   "metadata": {},
   "outputs": [
    {
     "data": {
      "text/plain": [
       "[(datetime.date(2024, 1, 1), 'New year'),\n",
       " (datetime.date(2024, 1, 15), 'Birthday of Martin Luther King, Jr.'),\n",
       " (datetime.date(2024, 2, 14), 'Ash Wednesday'),\n",
       " (datetime.date(2024, 2, 19), \"Washington's Birthday\"),\n",
       " (datetime.date(2024, 5, 27), 'Memorial Day'),\n",
       " (datetime.date(2024, 7, 4), 'Independence Day'),\n",
       " (datetime.date(2024, 9, 2), 'Labor Day'),\n",
       " (datetime.date(2024, 10, 14), 'Columbus Day'),\n",
       " (datetime.date(2024, 11, 11), 'Veterans Day'),\n",
       " (datetime.date(2024, 11, 28), 'Thanksgiving Day'),\n",
       " (datetime.date(2024, 12, 25), 'Christmas Day')]"
      ]
     },
     "execution_count": 14,
     "metadata": {},
     "output_type": "execute_result"
    }
   ],
   "source": [
    "cal = Notre_Dame()\n",
    "cal.holidays()"
   ]
  },
  {
   "cell_type": "code",
   "execution_count": 15,
   "id": "bbe800c4-96e5-475f-911d-b29f5a2b54f3",
   "metadata": {},
   "outputs": [],
   "source": [
    "cal = UnitedStates(include_ash_wednesday=True)"
   ]
  },
  {
   "cell_type": "code",
   "execution_count": 21,
   "id": "293a92c2-3d68-4051-86be-1d47490173ac",
   "metadata": {},
   "outputs": [],
   "source": [
    "cal.include_ash_wednesday = True"
   ]
  },
  {
   "cell_type": "code",
   "execution_count": 25,
   "id": "704d5f29-c656-4e1b-928a-9fa0ff304608",
   "metadata": {},
   "outputs": [
    {
     "data": {
      "text/plain": [
       "[(datetime.date(2024, 1, 1), 'New year'),\n",
       " (datetime.date(2024, 7, 4), 'Independence Day'),\n",
       " (datetime.date(2024, 11, 11), 'Veterans Day'),\n",
       " (datetime.date(2024, 2, 14), 'Ash Wednesday'),\n",
       " (datetime.date(2024, 12, 25), 'Christmas Day'),\n",
       " (datetime.date(2024, 1, 15), 'Birthday of Martin Luther King, Jr.'),\n",
       " (datetime.date(2024, 5, 27), 'Memorial Day'),\n",
       " (datetime.date(2024, 9, 2), 'Labor Day'),\n",
       " (datetime.date(2024, 11, 28), 'Thanksgiving Day'),\n",
       " (datetime.date(2024, 2, 19), \"Washington's Birthday\"),\n",
       " (datetime.date(2024, 10, 14), 'Columbus Day')]"
      ]
     },
     "execution_count": 25,
     "metadata": {},
     "output_type": "execute_result"
    }
   ],
   "source": [
    "cal.get_calendar_holidays(2024)"
   ]
  },
  {
   "cell_type": "code",
   "execution_count": 41,
   "id": "ce9dab97-1e4a-4cf0-baec-222b42f2ba0a",
   "metadata": {},
   "outputs": [],
   "source": [
    "import calendar"
   ]
  },
  {
   "cell_type": "code",
   "execution_count": 42,
   "id": "99aca9ed-0168-4529-b414-1c23ce69ffdc",
   "metadata": {},
   "outputs": [
    {
     "data": {
      "text/plain": [
       "'                                  2024\\n\\n      January                   February                   March\\nMo Tu We Th Fr Sa Su      Mo Tu We Th Fr Sa Su      Mo Tu We Th Fr Sa Su\\n 1  2  3  4  5  6  7                1  2  3  4                   1  2  3\\n 8  9 10 11 12 13 14       5  6  7  8  9 10 11       4  5  6  7  8  9 10\\n15 16 17 18 19 20 21      12 13 14 15 16 17 18      11 12 13 14 15 16 17\\n22 23 24 25 26 27 28      19 20 21 22 23 24 25      18 19 20 21 22 23 24\\n29 30 31                  26 27 28 29               25 26 27 28 29 30 31\\n\\n       April                      May                       June\\nMo Tu We Th Fr Sa Su      Mo Tu We Th Fr Sa Su      Mo Tu We Th Fr Sa Su\\n 1  2  3  4  5  6  7             1  2  3  4  5                      1  2\\n 8  9 10 11 12 13 14       6  7  8  9 10 11 12       3  4  5  6  7  8  9\\n15 16 17 18 19 20 21      13 14 15 16 17 18 19      10 11 12 13 14 15 16\\n22 23 24 25 26 27 28      20 21 22 23 24 25 26      17 18 19 20 21 22 23\\n29 30                     27 28 29 30 31            24 25 26 27 28 29 30\\n\\n        July                     August                  September\\nMo Tu We Th Fr Sa Su      Mo Tu We Th Fr Sa Su      Mo Tu We Th Fr Sa Su\\n 1  2  3  4  5  6  7                1  2  3  4                         1\\n 8  9 10 11 12 13 14       5  6  7  8  9 10 11       2  3  4  5  6  7  8\\n15 16 17 18 19 20 21      12 13 14 15 16 17 18       9 10 11 12 13 14 15\\n22 23 24 25 26 27 28      19 20 21 22 23 24 25      16 17 18 19 20 21 22\\n29 30 31                  26 27 28 29 30 31         23 24 25 26 27 28 29\\n                                                    30\\n\\n      October                   November                  December\\nMo Tu We Th Fr Sa Su      Mo Tu We Th Fr Sa Su      Mo Tu We Th Fr Sa Su\\n    1  2  3  4  5  6                   1  2  3                         1\\n 7  8  9 10 11 12 13       4  5  6  7  8  9 10       2  3  4  5  6  7  8\\n14 15 16 17 18 19 20      11 12 13 14 15 16 17       9 10 11 12 13 14 15\\n21 22 23 24 25 26 27      18 19 20 21 22 23 24      16 17 18 19 20 21 22\\n28 29 30 31               25 26 27 28 29 30         23 24 25 26 27 28 29\\n                                                    30 31\\n'"
      ]
     },
     "execution_count": 42,
     "metadata": {},
     "output_type": "execute_result"
    }
   ],
   "source": [
    "calendar"
   ]
  },
  {
   "cell_type": "code",
   "execution_count": 45,
   "id": "94bd884d-6fd1-4c79-af9d-f90c9e12e4f6",
   "metadata": {},
   "outputs": [
    {
     "data": {
      "text/plain": [
       "[(datetime.date(2024, 1, 1), 'New year'),\n",
       " (datetime.date(2024, 1, 15), 'Birthday of Martin Luther King, Jr.'),\n",
       " (datetime.date(2024, 2, 19), \"Washington's Birthday\"),\n",
       " (datetime.date(2024, 5, 27), 'Memorial Day'),\n",
       " (datetime.date(2024, 7, 4), 'Independence Day'),\n",
       " (datetime.date(2024, 9, 2), 'Labor Day'),\n",
       " (datetime.date(2024, 10, 14), 'Columbus Day'),\n",
       " (datetime.date(2024, 11, 11), 'Veterans Day'),\n",
       " (datetime.date(2024, 11, 28), 'Thanksgiving Day'),\n",
       " (datetime.date(2024, 12, 25), 'Christmas Day')]"
      ]
     },
     "execution_count": 45,
     "metadata": {},
     "output_type": "execute_result"
    }
   ],
   "source": [
    "cal.holidays()"
   ]
  },
  {
   "cell_type": "code",
   "execution_count": null,
   "id": "64a6ab61-7e4f-401f-b46d-30838c0212be",
   "metadata": {},
   "outputs": [],
   "source": []
  }
 ],
 "metadata": {
  "kernelspec": {
   "display_name": "Python 3 (ipykernel)",
   "language": "python",
   "name": "python3"
  },
  "language_info": {
   "codemirror_mode": {
    "name": "ipython",
    "version": 3
   },
   "file_extension": ".py",
   "mimetype": "text/x-python",
   "name": "python",
   "nbconvert_exporter": "python",
   "pygments_lexer": "ipython3",
   "version": "3.12.5"
  }
 },
 "nbformat": 4,
 "nbformat_minor": 5
}
